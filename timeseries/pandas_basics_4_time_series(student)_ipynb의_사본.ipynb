{
  "cells": [
    {
      "cell_type": "markdown",
      "metadata": {
        "id": "DckBsGsW4Kg-"
      },
      "source": [
        "## Agenda\n",
        "- TimeSeries Data\n",
        "- 시간의 흐름에 따라 변화 하는 data"
      ]
    },
    {
      "cell_type": "code",
      "execution_count": null,
      "metadata": {
        "id": "yzM63Mir4KhD"
      },
      "outputs": [],
      "source": [
        "import pandas as pd\n",
        "import numpy as np\n",
        "\n",
        "np.random.seed(252)"
      ]
    },
    {
      "cell_type": "markdown",
      "metadata": {
        "id": "al1STZMJ4KhF"
      },
      "source": [
        "## Time Series"
      ]
    },
    {
      "cell_type": "markdown",
      "metadata": {
        "id": "YsutI3Hg4KhG"
      },
      "source": [
        "- \"timeseries\" 데이터는 `DatetimeIndex` 또는 `PeriodIndex`로 구성된 데이터 셋이다"
      ]
    },
    {
      "cell_type": "markdown",
      "metadata": {
        "id": "Q95Loqwv4KhH"
      },
      "source": [
        "### to_datetime"
      ]
    },
    {
      "cell_type": "code",
      "execution_count": null,
      "metadata": {
        "id": "uproUiaZ4KhH"
      },
      "outputs": [],
      "source": [
        "date_1=pd.to_datetime(\"20221206\")"
      ]
    },
    {
      "cell_type": "code",
      "source": [
        "print(date_1, type(date_1))"
      ],
      "metadata": {
        "colab": {
          "base_uri": "https://localhost:8080/"
        },
        "id": "CNyk5cu-4VZp",
        "outputId": "d4dd4783-e66d-4556-d394-57c129d47127"
      },
      "execution_count": null,
      "outputs": [
        {
          "output_type": "stream",
          "name": "stdout",
          "text": [
            "2022-12-06 00:00:00 <class 'pandas._libs.tslibs.timestamps.Timestamp'>\n"
          ]
        }
      ]
    },
    {
      "cell_type": "code",
      "source": [
        "date_2=pd.to_datetime(\"2022년12월06일\",format='%Y년%m월%d일')"
      ],
      "metadata": {
        "id": "eQfvYVkX4mRl"
      },
      "execution_count": null,
      "outputs": []
    },
    {
      "cell_type": "markdown",
      "metadata": {
        "id": "ec8VL2Bx4KhI"
      },
      "source": [
        "### sample data 생성"
      ]
    },
    {
      "cell_type": "code",
      "execution_count": null,
      "metadata": {
        "id": "pwmHMrQg4KhI"
      },
      "outputs": [],
      "source": [
        "def random_series(dts):\n",
        "    res = pd.Series(np.random.randn(len(dts)), index=dts)\n",
        "    return res"
      ]
    },
    {
      "cell_type": "markdown",
      "metadata": {
        "id": "quR7Pi5b4KhJ"
      },
      "source": [
        "`Timestamp` 를 이용해 시간 객체 생성"
      ]
    },
    {
      "cell_type": "code",
      "source": [
        "ts=pd.Timestamp(\"2022-01-01 00:00\")"
      ],
      "metadata": {
        "id": "-hTmECij6Urm"
      },
      "execution_count": null,
      "outputs": []
    },
    {
      "cell_type": "code",
      "execution_count": null,
      "metadata": {
        "id": "vk7O7AhE4KhK",
        "colab": {
          "base_uri": "https://localhost:8080/"
        },
        "outputId": "a07aefe6-0e66-42ba-be67-d8b8bcaded3f"
      },
      "outputs": [
        {
          "output_type": "execute_result",
          "data": {
            "text/plain": [
              "2022-01-01    100\n",
              "dtype: int64"
            ]
          },
          "metadata": {},
          "execution_count": 9
        }
      ],
      "source": [
        "s_1=pd.Series(100, index=[ts]) #데이터에 시계열을 인덱스(지정)함.\n",
        "s_1"
      ]
    },
    {
      "cell_type": "markdown",
      "metadata": {
        "id": "qA0e40374KhK"
      },
      "source": [
        "## Time Series의 함수들\n",
        "- `date_range` : 시작일과 종료일 또는 시작일과 기간을 입력하면 범위 내의 인덱스 생성\n",
        "```\n",
        "s: 초\n",
        "T: 분\n",
        "H: 시간\n",
        "D: 일(day)\n",
        "B: 주말이 아닌 평일\n",
        "W: 주(일요일)\n",
        "W-MON: 주(월요일)\n",
        "M: 각 달(month)의 마지막 날\n",
        "MS: 각 달의 첫날\n",
        "BM: 주말이 아닌 평일 중에서 각 달의 마지막 날\n",
        "BMS: 주말이 아닌 평일 중에서 각 달의 첫날\n",
        "WOM-2THU: 각 달의 두번째 목요일\n",
        "Q-JAN: 각 분기의 첫달의 마지막 날\n",
        "Q-DEC: 각 분기의 마지막 달의 마지막 날\n",
        "```"
      ]
    },
    {
      "cell_type": "code",
      "execution_count": null,
      "metadata": {
        "id": "VEFFF7204KhL",
        "colab": {
          "base_uri": "https://localhost:8080/"
        },
        "outputId": "d183d505-71db-483e-bf1d-5ca9aac11507"
      },
      "outputs": [
        {
          "output_type": "execute_result",
          "data": {
            "text/plain": [
              "DatetimeIndex(['2023-01-31', '2023-02-28', '2023-03-31', '2023-04-30',\n",
              "               '2023-05-31', '2023-06-30', '2023-07-31', '2023-08-31',\n",
              "               '2023-09-30', '2023-10-31', '2023-11-30', '2023-12-31'],\n",
              "              dtype='datetime64[ns]', freq='M')"
            ]
          },
          "metadata": {},
          "execution_count": 10
        }
      ],
      "source": [
        "a=pd.date_range(\"20230101\",\"20231231\",freq='M')\n",
        "a"
      ]
    },
    {
      "cell_type": "markdown",
      "metadata": {
        "id": "bHnNSif54KhL"
      },
      "source": [
        "## 시계열 데이터에서의 indexing 과 slicing"
      ]
    },
    {
      "cell_type": "markdown",
      "metadata": {
        "id": "L84xS8B94KhM"
      },
      "source": [
        "- indexing"
      ]
    },
    {
      "cell_type": "code",
      "execution_count": null,
      "metadata": {
        "id": "bwDV-KmX4KhM",
        "colab": {
          "base_uri": "https://localhost:8080/",
          "height": 368
        },
        "outputId": "bba37b49-113d-4256-d801-22dfe696bc49"
      },
      "outputs": [
        {
          "output_type": "error",
          "ename": "IndexError",
          "evalue": "ignored",
          "traceback": [
            "\u001b[0;31m---------------------------------------------------------------------------\u001b[0m",
            "\u001b[0;31mIndexError\u001b[0m                                Traceback (most recent call last)",
            "\u001b[0;32m<ipython-input-12-e8d06be86607>\u001b[0m in \u001b[0;36m<module>\u001b[0;34m\u001b[0m\n\u001b[1;32m      1\u001b[0m \u001b[0;31m# 날짜가 인덱스값이고 그 뒤의 값이 value 이기 때문에, 인덱싱을 하고 싶다면 날짜를 입력하면 된다. 슬라이싱도 똑같다.\u001b[0m\u001b[0;34m\u001b[0m\u001b[0;34m\u001b[0m\u001b[0;34m\u001b[0m\u001b[0m\n\u001b[1;32m      2\u001b[0m \u001b[0;34m\u001b[0m\u001b[0m\n\u001b[0;32m----> 3\u001b[0;31m \u001b[0ma\u001b[0m\u001b[0;34m[\u001b[0m\u001b[0;34m'2023-01-31'\u001b[0m\u001b[0;34m]\u001b[0m\u001b[0;34m\u001b[0m\u001b[0;34m\u001b[0m\u001b[0m\n\u001b[0m",
            "\u001b[0;32m/usr/local/lib/python3.8/dist-packages/pandas/core/indexes/extension.py\u001b[0m in \u001b[0;36m__getitem__\u001b[0;34m(self, key)\u001b[0m\n\u001b[1;32m    277\u001b[0m \u001b[0;34m\u001b[0m\u001b[0m\n\u001b[1;32m    278\u001b[0m     \u001b[0;32mdef\u001b[0m \u001b[0m__getitem__\u001b[0m\u001b[0;34m(\u001b[0m\u001b[0mself\u001b[0m\u001b[0;34m,\u001b[0m \u001b[0mkey\u001b[0m\u001b[0;34m)\u001b[0m\u001b[0;34m:\u001b[0m\u001b[0;34m\u001b[0m\u001b[0;34m\u001b[0m\u001b[0m\n\u001b[0;32m--> 279\u001b[0;31m         \u001b[0mresult\u001b[0m \u001b[0;34m=\u001b[0m \u001b[0mself\u001b[0m\u001b[0;34m.\u001b[0m\u001b[0m_data\u001b[0m\u001b[0;34m[\u001b[0m\u001b[0mkey\u001b[0m\u001b[0;34m]\u001b[0m\u001b[0;34m\u001b[0m\u001b[0;34m\u001b[0m\u001b[0m\n\u001b[0m\u001b[1;32m    280\u001b[0m         \u001b[0;32mif\u001b[0m \u001b[0misinstance\u001b[0m\u001b[0;34m(\u001b[0m\u001b[0mresult\u001b[0m\u001b[0;34m,\u001b[0m \u001b[0mtype\u001b[0m\u001b[0;34m(\u001b[0m\u001b[0mself\u001b[0m\u001b[0;34m.\u001b[0m\u001b[0m_data\u001b[0m\u001b[0;34m)\u001b[0m\u001b[0;34m)\u001b[0m\u001b[0;34m:\u001b[0m\u001b[0;34m\u001b[0m\u001b[0;34m\u001b[0m\u001b[0m\n\u001b[1;32m    281\u001b[0m             \u001b[0;32mif\u001b[0m \u001b[0mresult\u001b[0m\u001b[0;34m.\u001b[0m\u001b[0mndim\u001b[0m \u001b[0;34m==\u001b[0m \u001b[0;36m1\u001b[0m\u001b[0;34m:\u001b[0m\u001b[0;34m\u001b[0m\u001b[0;34m\u001b[0m\u001b[0m\n",
            "\u001b[0;32m/usr/local/lib/python3.8/dist-packages/pandas/core/arrays/datetimelike.py\u001b[0m in \u001b[0;36m__getitem__\u001b[0;34m(self, key)\u001b[0m\n\u001b[1;32m    320\u001b[0m         \u001b[0monly\u001b[0m \u001b[0mhandle\u001b[0m \u001b[0mlist\u001b[0m\u001b[0;34m-\u001b[0m\u001b[0mlikes\u001b[0m\u001b[0;34m,\u001b[0m \u001b[0mslices\u001b[0m\u001b[0;34m,\u001b[0m \u001b[0;32mand\u001b[0m \u001b[0minteger\u001b[0m \u001b[0mscalars\u001b[0m\u001b[0;34m\u001b[0m\u001b[0;34m\u001b[0m\u001b[0m\n\u001b[1;32m    321\u001b[0m         \"\"\"\n\u001b[0;32m--> 322\u001b[0;31m         \u001b[0mresult\u001b[0m \u001b[0;34m=\u001b[0m \u001b[0msuper\u001b[0m\u001b[0;34m(\u001b[0m\u001b[0;34m)\u001b[0m\u001b[0;34m.\u001b[0m\u001b[0m__getitem__\u001b[0m\u001b[0;34m(\u001b[0m\u001b[0mkey\u001b[0m\u001b[0;34m)\u001b[0m\u001b[0;34m\u001b[0m\u001b[0;34m\u001b[0m\u001b[0m\n\u001b[0m\u001b[1;32m    323\u001b[0m         \u001b[0;32mif\u001b[0m \u001b[0mlib\u001b[0m\u001b[0;34m.\u001b[0m\u001b[0mis_scalar\u001b[0m\u001b[0;34m(\u001b[0m\u001b[0mresult\u001b[0m\u001b[0;34m)\u001b[0m\u001b[0;34m:\u001b[0m\u001b[0;34m\u001b[0m\u001b[0;34m\u001b[0m\u001b[0m\n\u001b[1;32m    324\u001b[0m             \u001b[0;32mreturn\u001b[0m \u001b[0mresult\u001b[0m\u001b[0;34m\u001b[0m\u001b[0;34m\u001b[0m\u001b[0m\n",
            "\u001b[0;32m/usr/local/lib/python3.8/dist-packages/pandas/core/arrays/_mixins.py\u001b[0m in \u001b[0;36m__getitem__\u001b[0;34m(self, key)\u001b[0m\n\u001b[1;32m    205\u001b[0m         )\n\u001b[1;32m    206\u001b[0m         \u001b[0mkey\u001b[0m \u001b[0;34m=\u001b[0m \u001b[0mcheck_array_indexer\u001b[0m\u001b[0;34m(\u001b[0m\u001b[0mself\u001b[0m\u001b[0;34m,\u001b[0m \u001b[0mkey\u001b[0m\u001b[0;34m)\u001b[0m\u001b[0;34m\u001b[0m\u001b[0;34m\u001b[0m\u001b[0m\n\u001b[0;32m--> 207\u001b[0;31m         \u001b[0mresult\u001b[0m \u001b[0;34m=\u001b[0m \u001b[0mself\u001b[0m\u001b[0;34m.\u001b[0m\u001b[0m_ndarray\u001b[0m\u001b[0;34m[\u001b[0m\u001b[0mkey\u001b[0m\u001b[0;34m]\u001b[0m\u001b[0;34m\u001b[0m\u001b[0;34m\u001b[0m\u001b[0m\n\u001b[0m\u001b[1;32m    208\u001b[0m         \u001b[0;32mif\u001b[0m \u001b[0mlib\u001b[0m\u001b[0;34m.\u001b[0m\u001b[0mis_scalar\u001b[0m\u001b[0;34m(\u001b[0m\u001b[0mresult\u001b[0m\u001b[0;34m)\u001b[0m\u001b[0;34m:\u001b[0m\u001b[0;34m\u001b[0m\u001b[0;34m\u001b[0m\u001b[0m\n\u001b[1;32m    209\u001b[0m             \u001b[0;32mreturn\u001b[0m \u001b[0mself\u001b[0m\u001b[0;34m.\u001b[0m\u001b[0m_box_func\u001b[0m\u001b[0;34m(\u001b[0m\u001b[0mresult\u001b[0m\u001b[0;34m)\u001b[0m\u001b[0;34m\u001b[0m\u001b[0;34m\u001b[0m\u001b[0m\n",
            "\u001b[0;31mIndexError\u001b[0m: only integers, slices (`:`), ellipsis (`...`), numpy.newaxis (`None`) and integer or boolean arrays are valid indices"
          ]
        }
      ],
      "source": [
        "# 날짜가 인덱스값이고 그 뒤의 값이 value 이기 때문에, 인덱싱을 하고 싶다면 날짜를 입력하면 된다. 슬라이싱도 똑같다.\n",
        "\n",
        "a['2023-01-31']"
      ]
    },
    {
      "cell_type": "markdown",
      "metadata": {
        "id": "zBBF3b8R4KhM"
      },
      "source": [
        "- slicing"
      ]
    },
    {
      "cell_type": "code",
      "execution_count": null,
      "metadata": {
        "scrolled": true,
        "id": "8dl2yRhm4KhM"
      },
      "outputs": [],
      "source": []
    },
    {
      "cell_type": "markdown",
      "metadata": {
        "id": "wSUBk0F24KhN"
      },
      "source": [
        "- 달별 선택"
      ]
    },
    {
      "cell_type": "code",
      "execution_count": null,
      "metadata": {
        "id": "_KaC9F244KhN"
      },
      "outputs": [],
      "source": []
    },
    {
      "cell_type": "markdown",
      "metadata": {
        "id": "8wQVCVGe4KhN"
      },
      "source": [
        "- 연별 선택"
      ]
    },
    {
      "cell_type": "code",
      "execution_count": null,
      "metadata": {
        "id": "srBracwq4KhN"
      },
      "outputs": [],
      "source": []
    },
    {
      "cell_type": "markdown",
      "metadata": {
        "id": "YeUlOCpH4KhO"
      },
      "source": [
        "## 시계열 데이터의 이동 \n",
        "- `shift()` 를 이용해 이동할 수 있다. \n",
        "- [참고](https://towardsdatascience.com/all-the-pandas-shift-you-should-know-for-data-analysis-791c1692b5e)"
      ]
    },
    {
      "cell_type": "markdown",
      "metadata": {
        "id": "fFOfRdml4KhO"
      },
      "source": [
        "### Lagging(후행)"
      ]
    },
    {
      "cell_type": "code",
      "execution_count": null,
      "metadata": {
        "id": "mOj01KSq4KhO"
      },
      "outputs": [],
      "source": [
        "#간격을 재조정하거나 위치를 조절할 수 있다."
      ]
    },
    {
      "cell_type": "markdown",
      "metadata": {
        "id": "RjC_crYs4KhO"
      },
      "source": [
        "### Leading(선행)"
      ]
    },
    {
      "cell_type": "code",
      "execution_count": null,
      "metadata": {
        "id": "EdlAfDPH4KhO"
      },
      "outputs": [],
      "source": []
    },
    {
      "cell_type": "markdown",
      "metadata": {
        "id": "Ep8C9tfX4KhP"
      },
      "source": [
        "## 간격 재조정\n",
        "- `resample` : 시간 간격을 재조정하는 resampling 가능"
      ]
    },
    {
      "cell_type": "code",
      "execution_count": null,
      "metadata": {
        "id": "y02v1Zt04KhP",
        "colab": {
          "base_uri": "https://localhost:8080/"
        },
        "outputId": "833bc687-d3f6-46ef-e4dd-4c243229ed5f"
      },
      "outputs": [
        {
          "output_type": "execute_result",
          "data": {
            "text/plain": [
              "DatetimeIndex(['2022-01-01', '2022-01-02', '2022-01-03', '2022-01-04',\n",
              "               '2022-01-05', '2022-01-06', '2022-01-07', '2022-01-08',\n",
              "               '2022-01-09', '2022-01-10', '2022-01-11', '2022-01-12',\n",
              "               '2022-01-13', '2022-01-14', '2022-01-15', '2022-01-16',\n",
              "               '2022-01-17', '2022-01-18', '2022-01-19', '2022-01-20',\n",
              "               '2022-01-21', '2022-01-22', '2022-01-23', '2022-01-24',\n",
              "               '2022-01-25', '2022-01-26', '2022-01-27', '2022-01-28',\n",
              "               '2022-01-29', '2022-01-30', '2022-01-31', '2022-02-01',\n",
              "               '2022-02-02', '2022-02-03', '2022-02-04', '2022-02-05',\n",
              "               '2022-02-06', '2022-02-07', '2022-02-08', '2022-02-09',\n",
              "               '2022-02-10', '2022-02-11', '2022-02-12', '2022-02-13',\n",
              "               '2022-02-14', '2022-02-15', '2022-02-16', '2022-02-17',\n",
              "               '2022-02-18', '2022-02-19', '2022-02-20', '2022-02-21',\n",
              "               '2022-02-22', '2022-02-23', '2022-02-24', '2022-02-25',\n",
              "               '2022-02-26', '2022-02-27', '2022-02-28', '2022-03-01',\n",
              "               '2022-03-02', '2022-03-03', '2022-03-04', '2022-03-05',\n",
              "               '2022-03-06', '2022-03-07', '2022-03-08', '2022-03-09',\n",
              "               '2022-03-10', '2022-03-11', '2022-03-12', '2022-03-13',\n",
              "               '2022-03-14', '2022-03-15', '2022-03-16', '2022-03-17',\n",
              "               '2022-03-18', '2022-03-19', '2022-03-20', '2022-03-21',\n",
              "               '2022-03-22', '2022-03-23', '2022-03-24', '2022-03-25',\n",
              "               '2022-03-26', '2022-03-27', '2022-03-28', '2022-03-29',\n",
              "               '2022-03-30', '2022-03-31'],\n",
              "              dtype='datetime64[ns]', freq='D')"
            ]
          },
          "metadata": {},
          "execution_count": 13
        }
      ],
      "source": [
        "dts_1=pd.date_range('20220101','20220331',freq='d')\n",
        "dts_1"
      ]
    },
    {
      "cell_type": "markdown",
      "metadata": {
        "id": "SIKK9TCL4KhP"
      },
      "source": [
        "- Resampling은 groupby와 비슷하게 동작한다. "
      ]
    },
    {
      "cell_type": "code",
      "execution_count": null,
      "metadata": {
        "id": "_BclF2CC4KhP",
        "colab": {
          "base_uri": "https://localhost:8080/",
          "height": 176
        },
        "outputId": "44259872-69f0-4fcd-d1b4-85a9426165da"
      },
      "outputs": [
        {
          "output_type": "error",
          "ename": "AttributeError",
          "evalue": "ignored",
          "traceback": [
            "\u001b[0;31m---------------------------------------------------------------------------\u001b[0m",
            "\u001b[0;31mAttributeError\u001b[0m                            Traceback (most recent call last)",
            "\u001b[0;32m<ipython-input-14-9092b0bf05c4>\u001b[0m in \u001b[0;36m<module>\u001b[0;34m\u001b[0m\n\u001b[0;32m----> 1\u001b[0;31m \u001b[0mdts_1\u001b[0m\u001b[0;34m.\u001b[0m\u001b[0mresample\u001b[0m\u001b[0;34m(\u001b[0m\u001b[0;34m\"M\"\u001b[0m\u001b[0;34m)\u001b[0m\u001b[0;34m\u001b[0m\u001b[0;34m\u001b[0m\u001b[0m\n\u001b[0m",
            "\u001b[0;31mAttributeError\u001b[0m: 'DatetimeIndex' object has no attribute 'resample'"
          ]
        }
      ],
      "source": [
        "dts_1.resample(\"M\")"
      ]
    },
    {
      "cell_type": "markdown",
      "metadata": {
        "id": "jGlJcAkE4KhP"
      },
      "source": [
        "## dt접근자\n",
        "- datetime 자료형 시리즈에는 dt 접근자존재\n",
        "- datetime 자료형이 가진 몇가지 유용한 속성과 메서드를 사용할"
      ]
    },
    {
      "cell_type": "code",
      "execution_count": null,
      "metadata": {
        "id": "OFJ839NP4KhP"
      },
      "outputs": [],
      "source": []
    }
  ],
  "metadata": {
    "celltoolbar": "Slideshow",
    "kernelspec": {
      "display_name": "Python 3 (ipykernel)",
      "language": "python",
      "name": "python3"
    },
    "language_info": {
      "codemirror_mode": {
        "name": "ipython",
        "version": 3
      },
      "file_extension": ".py",
      "mimetype": "text/x-python",
      "name": "python",
      "nbconvert_exporter": "python",
      "pygments_lexer": "ipython3",
      "version": "3.9.12"
    },
    "toc": {
      "base_numbering": 1,
      "nav_menu": {},
      "number_sections": false,
      "sideBar": true,
      "skip_h1_title": true,
      "title_cell": "Table of Contents",
      "title_sidebar": "Contents",
      "toc_cell": false,
      "toc_position": {
        "height": "calc(100% - 180px)",
        "left": "10px",
        "top": "150px",
        "width": "384px"
      },
      "toc_section_display": true,
      "toc_window_display": true
    },
    "colab": {
      "provenance": []
    }
  },
  "nbformat": 4,
  "nbformat_minor": 0
}