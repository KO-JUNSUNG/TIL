{
 "cells": [
  {
   "attachments": {},
   "cell_type": "markdown",
   "metadata": {},
   "source": [
    "### 언제 독립표본 t검정이고, 일표본t검정이고, 대응표본 t검정인가?\n",
    "\n",
    "- 일표본 = 집단이 하나. 표본평균과 모평균이 동일한지 측정하는 것이 목적.\n",
    "\n",
    "- 독립표본 = 독립적인 집단이 두 개. 1반과 2반의 존재. 독립적인 두 집단의 평균을 비교하는 것이 목적.\n",
    "\n",
    "- 대응표본 t검정 = 한 그룹에 처리를 하고 나서 사후 효과가 있는지 검정하기 위함. 한 집단의 사전, 사후 평균에 차이가 있는지 확인하는 것이 목적\n",
    "\n",
    "- 엥, 이거 완전 독립표본이랑 뭐가 다르냐? 하겠지만 이렇게 다릅니다.\n",
    "\n",
    "    - 독립표본은 \"처리를 한 집단\", \"처리를 하지 않은 집단\" 이렇게 두 집단이 존재함.\n",
    "\n",
    "    - 대응표본 t 검정은 \"처리를 하지 않은 집단의 평균\"을 잰 후 \"처리를 한 후에 다시 집단의 평균을 측정함\""
   ]
  },
  {
   "cell_type": "code",
   "execution_count": null,
   "metadata": {},
   "outputs": [],
   "source": [
    "# 출력을 원할 경우 print() 함수 활용\n",
    "# 예시) print(df.head())\n",
    "\n",
    "# getcwd(), chdir() 등 작업 폴더 설정 불필요\n",
    "# 파일 경로 상 내부 드라이브 경로(C: 등) 접근 불가\n",
    "\n",
    "# 데이터 파일 읽기 예제\n",
    "import pandas as pd\n",
    "a = pd.read_csv(\"data/blood_pressure.csv\")\n",
    "\n",
    "from scipy import stats\n",
    "\n",
    "before = a['bp_before']\n",
    "after = a['bp_after']\n",
    "a['diff'] = after - before\n",
    "d_mean = round(a['diff'].mean(),2)\n",
    "print(d_mean)\n",
    "\n",
    "stat, pval = stats.ttest_rel(after, before, alternative='less') # H1: mudiff < 0 == A - B < 0  -> less\n",
    "print (f\"statitics: {stat:.4f}, pvalue:', {pval:.4f}\")\n",
    "# 사용자 코딩\n",
    "\n",
    "# 답안 출력 예시\n",
    "# print(평균변수값)\n",
    "\n",
    "# \n",
    "\n",
    "# 그냥 함수 이름과 printf 에 대해서 익힌 걸로 만족하자. "
   ]
  }
 ],
 "metadata": {
  "language_info": {
   "name": "python"
  },
  "orig_nbformat": 4
 },
 "nbformat": 4,
 "nbformat_minor": 2
}
