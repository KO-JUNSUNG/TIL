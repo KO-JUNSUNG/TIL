{
 "cells": [
  {
   "cell_type": "code",
   "execution_count": null,
   "metadata": {},
   "outputs": [],
   "source": [
    "# 출력을 원할 경우 print() 함수 활용\n",
    "# 예시) print(df.head())\n",
    "\n",
    "# getcwd(), chdir() 등 작업 폴더 설정 불필요\n",
    "# 파일 경로 상 내부 드라이브 경로(C: 등) 접근 불가\n",
    "\n",
    "# 데이터 파일 읽기 예제\n",
    "import pandas as pd\n",
    "a = pd.read_csv(\"data/blood_pressure.csv\")\n",
    "\n",
    "from scipy import stats\n",
    "\n",
    "before = a['bp_before']\n",
    "after = a['bp_after']\n",
    "a['diff'] = after - before\n",
    "d_mean = round(a['diff'].mean(),2)\n",
    "print(d_mean)\n",
    "\n",
    "stat, pval = stats.ttest_rel(after, before, alternative='less') # H1: mudiff < 0 == A - B < 0  -> less\n",
    "print (f\"statitics: {stat:.2f}, pvalue:', {pval:.4f}\")\n",
    "# 사용자 코딩\n",
    "\n",
    "# 답안 출력 예시\n",
    "# print(평균변수값)\n",
    "\n",
    "# 그냥 함수 이름과 printf 에 대해서 익힌 걸로 만족하자. "
   ]
  }
 ],
 "metadata": {
  "language_info": {
   "name": "python"
  },
  "orig_nbformat": 4
 },
 "nbformat": 4,
 "nbformat_minor": 2
}
