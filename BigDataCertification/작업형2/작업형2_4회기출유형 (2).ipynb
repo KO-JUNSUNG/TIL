{
 "cells": [
  {
   "attachments": {},
   "cell_type": "markdown",
   "id": "bb68d10e",
   "metadata": {},
   "source": [
    "[마케팅] 자동차 시장 세분화\n",
    "자동차 회사는 새로운 전략을 수립하기 위해 4개의 시장으로 세분화했습니다.\n",
    "\n",
    "기존 고객 분류 자료를 바탕으로 신규 고객이 어떤 분류에 속할지 예측해주세요!\n",
    "\n",
    "예측할 값(y): \"Segmentation\" (1,2,3,4)\n",
    "\n",
    "평가: Macro f1-score\n",
    "\n",
    "data: train.csv, test.csv\n",
    "\n",
    "답안 제출 참고\n",
    "아래 코드 예측변수와 수험번호를 개인별로 변경하여 활용\n",
    "pd.DataFrame({'ID': test.ID, 'Segmentation': pred}).to_csv('003000000.csv', index=False)"
   ]
  },
  {
   "cell_type": "code",
   "execution_count": 1,
   "id": "e8719264",
   "metadata": {
    "execution": {
     "iopub.execute_input": "2023-06-13T09:24:16.266585Z",
     "iopub.status.busy": "2023-06-13T09:24:16.266235Z",
     "iopub.status.idle": "2023-06-13T09:24:16.309144Z",
     "shell.execute_reply": "2023-06-13T09:24:16.308432Z"
    },
    "papermill": {
     "duration": 0.051096,
     "end_time": "2023-06-13T09:24:16.311651",
     "exception": false,
     "start_time": "2023-06-13T09:24:16.260555",
     "status": "completed"
    },
    "tags": []
   },
   "outputs": [],
   "source": [
    "import pandas as pd\n",
    "\n",
    "train = pd.read_csv('/kaggle/input/big-data-analytics-certification-kr-2022/train.csv')\n",
    "test = pd.read_csv('/kaggle/input/big-data-analytics-certification-kr-2022/test.csv')"
   ]
  },
  {
   "cell_type": "code",
   "execution_count": 2,
   "id": "ca925f24",
   "metadata": {
    "execution": {
     "iopub.execute_input": "2023-06-13T09:24:16.321002Z",
     "iopub.status.busy": "2023-06-13T09:24:16.320534Z",
     "iopub.status.idle": "2023-06-13T09:24:16.342009Z",
     "shell.execute_reply": "2023-06-13T09:24:16.341087Z"
    },
    "papermill": {
     "duration": 0.028237,
     "end_time": "2023-06-13T09:24:16.343973",
     "exception": false,
     "start_time": "2023-06-13T09:24:16.315736",
     "status": "completed"
    },
    "tags": []
   },
   "outputs": [
    {
     "name": "stdout",
     "output_type": "stream",
     "text": [
      "       ID  Gender Ever_Married  Age Graduated  Profession  Work_Experience  \\\n",
      "0  462809    Male           No   22        No  Healthcare              1.0   \n",
      "1  466315  Female          Yes   67       Yes    Engineer              1.0   \n",
      "2  461735    Male          Yes   67       Yes      Lawyer              0.0   \n",
      "3  461319    Male          Yes   56        No      Artist              0.0   \n",
      "4  460156    Male           No   32       Yes  Healthcare              1.0   \n",
      "\n",
      "  Spending_Score  Family_Size  Var_1  Segmentation  \n",
      "0            Low          4.0  Cat_4             4  \n",
      "1            Low          1.0  Cat_6             2  \n",
      "2           High          2.0  Cat_6             2  \n",
      "3        Average          2.0  Cat_6             3  \n",
      "4            Low          3.0  Cat_6             3  \n",
      "===============\n",
      "       ID  Gender Ever_Married  Age Graduated  Profession  Work_Experience  \\\n",
      "0  458989  Female          Yes   36       Yes    Engineer              0.0   \n",
      "1  458994    Male          Yes   37       Yes  Healthcare              8.0   \n",
      "2  459000    Male          Yes   59        No   Executive             11.0   \n",
      "3  459003    Male          Yes   47       Yes      Doctor              0.0   \n",
      "4  459005    Male          Yes   61       Yes      Doctor              5.0   \n",
      "\n",
      "  Spending_Score  Family_Size  Var_1  \n",
      "0            Low          1.0  Cat_6  \n",
      "1        Average          4.0  Cat_6  \n",
      "2           High          2.0  Cat_6  \n",
      "3           High          5.0  Cat_4  \n",
      "4            Low          3.0  Cat_6  \n"
     ]
    }
   ],
   "source": [
    "print(train.head())\n",
    "\n",
    "print(\"===============\")\n",
    "      \n",
    "print(test.head())\n"
   ]
  },
  {
   "cell_type": "code",
   "execution_count": 3,
   "id": "b779fcfd",
   "metadata": {
    "execution": {
     "iopub.execute_input": "2023-06-13T09:24:16.353374Z",
     "iopub.status.busy": "2023-06-13T09:24:16.352747Z",
     "iopub.status.idle": "2023-06-13T09:24:16.388240Z",
     "shell.execute_reply": "2023-06-13T09:24:16.386988Z"
    },
    "papermill": {
     "duration": 0.042759,
     "end_time": "2023-06-13T09:24:16.390739",
     "exception": false,
     "start_time": "2023-06-13T09:24:16.347980",
     "status": "completed"
    },
    "tags": []
   },
   "outputs": [
    {
     "name": "stdout",
     "output_type": "stream",
     "text": [
      "<class 'pandas.core.frame.DataFrame'>\n",
      "RangeIndex: 6665 entries, 0 to 6664\n",
      "Data columns (total 11 columns):\n",
      " #   Column           Non-Null Count  Dtype  \n",
      "---  ------           --------------  -----  \n",
      " 0   ID               6665 non-null   int64  \n",
      " 1   Gender           6665 non-null   object \n",
      " 2   Ever_Married     6665 non-null   object \n",
      " 3   Age              6665 non-null   int64  \n",
      " 4   Graduated        6665 non-null   object \n",
      " 5   Profession       6665 non-null   object \n",
      " 6   Work_Experience  6665 non-null   float64\n",
      " 7   Spending_Score   6665 non-null   object \n",
      " 8   Family_Size      6665 non-null   float64\n",
      " 9   Var_1            6665 non-null   object \n",
      " 10  Segmentation     6665 non-null   int64  \n",
      "dtypes: float64(2), int64(3), object(6)\n",
      "memory usage: 572.9+ KB\n",
      "None\n",
      "----------------\n",
      "<class 'pandas.core.frame.DataFrame'>\n",
      "RangeIndex: 2154 entries, 0 to 2153\n",
      "Data columns (total 10 columns):\n",
      " #   Column           Non-Null Count  Dtype  \n",
      "---  ------           --------------  -----  \n",
      " 0   ID               2154 non-null   int64  \n",
      " 1   Gender           2154 non-null   object \n",
      " 2   Ever_Married     2154 non-null   object \n",
      " 3   Age              2154 non-null   int64  \n",
      " 4   Graduated        2154 non-null   object \n",
      " 5   Profession       2154 non-null   object \n",
      " 6   Work_Experience  2154 non-null   float64\n",
      " 7   Spending_Score   2154 non-null   object \n",
      " 8   Family_Size      2154 non-null   float64\n",
      " 9   Var_1            2154 non-null   object \n",
      "dtypes: float64(2), int64(2), object(6)\n",
      "memory usage: 168.4+ KB\n",
      "None\n"
     ]
    }
   ],
   "source": [
    "print(train.info())\n",
    "print(\"----------------\")\n",
    "print(test.info())"
   ]
  },
  {
   "cell_type": "code",
   "execution_count": 4,
   "id": "b8fca2fa",
   "metadata": {
    "execution": {
     "iopub.execute_input": "2023-06-13T09:24:16.399821Z",
     "iopub.status.busy": "2023-06-13T09:24:16.399527Z",
     "iopub.status.idle": "2023-06-13T09:24:17.585841Z",
     "shell.execute_reply": "2023-06-13T09:24:17.585154Z"
    },
    "papermill": {
     "duration": 1.193064,
     "end_time": "2023-06-13T09:24:17.587929",
     "exception": false,
     "start_time": "2023-06-13T09:24:16.394865",
     "status": "completed"
    },
    "tags": []
   },
   "outputs": [],
   "source": [
    "from sklearn import preprocessing\n",
    "\n",
    "y_train = train.pop('Segmentation')\n",
    "x_train = train.drop(['ID'], axis = 1)\n"
   ]
  },
  {
   "cell_type": "code",
   "execution_count": 5,
   "id": "77441b41",
   "metadata": {
    "execution": {
     "iopub.execute_input": "2023-06-13T09:24:17.597511Z",
     "iopub.status.busy": "2023-06-13T09:24:17.596651Z",
     "iopub.status.idle": "2023-06-13T09:24:17.601082Z",
     "shell.execute_reply": "2023-06-13T09:24:17.600543Z"
    },
    "papermill": {
     "duration": 0.011393,
     "end_time": "2023-06-13T09:24:17.603379",
     "exception": false,
     "start_time": "2023-06-13T09:24:17.591986",
     "status": "completed"
    },
    "tags": []
   },
   "outputs": [],
   "source": [
    "test_ID = test.pop('ID')"
   ]
  },
  {
   "cell_type": "code",
   "execution_count": 6,
   "id": "c4bb2a96",
   "metadata": {
    "execution": {
     "iopub.execute_input": "2023-06-13T09:24:17.612669Z",
     "iopub.status.busy": "2023-06-13T09:24:17.612370Z",
     "iopub.status.idle": "2023-06-13T09:24:17.626432Z",
     "shell.execute_reply": "2023-06-13T09:24:17.625587Z"
    },
    "papermill": {
     "duration": 0.020765,
     "end_time": "2023-06-13T09:24:17.628190",
     "exception": false,
     "start_time": "2023-06-13T09:24:17.607425",
     "status": "completed"
    },
    "tags": []
   },
   "outputs": [
    {
     "data": {
      "text/plain": [
       "Gender             0\n",
       "Ever_Married       0\n",
       "Age                0\n",
       "Graduated          0\n",
       "Profession         0\n",
       "Work_Experience    0\n",
       "Spending_Score     0\n",
       "Family_Size        0\n",
       "Var_1              0\n",
       "dtype: int64"
      ]
     },
     "execution_count": 6,
     "metadata": {},
     "output_type": "execute_result"
    }
   ],
   "source": [
    "x_train.isna().sum()"
   ]
  },
  {
   "cell_type": "code",
   "execution_count": 7,
   "id": "d25a264a",
   "metadata": {
    "execution": {
     "iopub.execute_input": "2023-06-13T09:24:17.638861Z",
     "iopub.status.busy": "2023-06-13T09:24:17.638578Z",
     "iopub.status.idle": "2023-06-13T09:24:17.658668Z",
     "shell.execute_reply": "2023-06-13T09:24:17.657136Z"
    },
    "papermill": {
     "duration": 0.027472,
     "end_time": "2023-06-13T09:24:17.661140",
     "exception": false,
     "start_time": "2023-06-13T09:24:17.633668",
     "status": "completed"
    },
    "tags": []
   },
   "outputs": [],
   "source": [
    "from sklearn.preprocessing import LabelEncoder\n",
    "\n",
    "cols = ['Gender', 'Ever_Married','Graduated','Profession','Spending_Score','Var_1']\n",
    "\n",
    "for col in cols:\n",
    "    encoder = LabelEncoder()\n",
    "    x_train[col] = encoder.fit_transform(x_train[col])\n",
    "    test[col] = encoder.fit_transform(test[col])"
   ]
  },
  {
   "cell_type": "code",
   "execution_count": 8,
   "id": "a40e9569",
   "metadata": {
    "execution": {
     "iopub.execute_input": "2023-06-13T09:24:17.670794Z",
     "iopub.status.busy": "2023-06-13T09:24:17.670491Z",
     "iopub.status.idle": "2023-06-13T09:24:17.683171Z",
     "shell.execute_reply": "2023-06-13T09:24:17.682266Z"
    },
    "jupyter": {
     "source_hidden": true
    },
    "papermill": {
     "duration": 0.020264,
     "end_time": "2023-06-13T09:24:17.685655",
     "exception": false,
     "start_time": "2023-06-13T09:24:17.665391",
     "status": "completed"
    },
    "tags": []
   },
   "outputs": [
    {
     "name": "stdout",
     "output_type": "stream",
     "text": [
      "<class 'pandas.core.frame.DataFrame'>\n",
      "RangeIndex: 6665 entries, 0 to 6664\n",
      "Data columns (total 9 columns):\n",
      " #   Column           Non-Null Count  Dtype  \n",
      "---  ------           --------------  -----  \n",
      " 0   Gender           6665 non-null   int64  \n",
      " 1   Ever_Married     6665 non-null   int64  \n",
      " 2   Age              6665 non-null   int64  \n",
      " 3   Graduated        6665 non-null   int64  \n",
      " 4   Profession       6665 non-null   int64  \n",
      " 5   Work_Experience  6665 non-null   float64\n",
      " 6   Spending_Score   6665 non-null   int64  \n",
      " 7   Family_Size      6665 non-null   float64\n",
      " 8   Var_1            6665 non-null   int64  \n",
      "dtypes: float64(2), int64(7)\n",
      "memory usage: 468.8 KB\n"
     ]
    }
   ],
   "source": [
    "x_train.info()"
   ]
  },
  {
   "cell_type": "code",
   "execution_count": 9,
   "id": "6a690d73",
   "metadata": {
    "execution": {
     "iopub.execute_input": "2023-06-13T09:24:17.695802Z",
     "iopub.status.busy": "2023-06-13T09:24:17.695431Z",
     "iopub.status.idle": "2023-06-13T09:24:17.804773Z",
     "shell.execute_reply": "2023-06-13T09:24:17.803689Z"
    },
    "papermill": {
     "duration": 0.117405,
     "end_time": "2023-06-13T09:24:17.807375",
     "exception": false,
     "start_time": "2023-06-13T09:24:17.689970",
     "status": "completed"
    },
    "tags": []
   },
   "outputs": [],
   "source": [
    "from sklearn.model_selection import train_test_split\n",
    "\n",
    "X_train, X_val, Y_train, Y_val = train_test_split(x_train, y_train, test_size = 0.2, train_size = 0.8, random_state = 1)\n"
   ]
  },
  {
   "cell_type": "code",
   "execution_count": 10,
   "id": "201801a6",
   "metadata": {
    "execution": {
     "iopub.execute_input": "2023-06-13T09:24:17.817210Z",
     "iopub.status.busy": "2023-06-13T09:24:17.816857Z",
     "iopub.status.idle": "2023-06-13T09:24:21.631397Z",
     "shell.execute_reply": "2023-06-13T09:24:21.630613Z"
    },
    "papermill": {
     "duration": 3.821513,
     "end_time": "2023-06-13T09:24:21.633160",
     "exception": false,
     "start_time": "2023-06-13T09:24:17.811647",
     "status": "completed"
    },
    "tags": []
   },
   "outputs": [
    {
     "name": "stdout",
     "output_type": "stream",
     "text": [
      "0.722993248312078\n",
      "0.522880720180045\n"
     ]
    }
   ],
   "source": [
    "import lightgbm as lgbm\n",
    "\n",
    "model = lgbm.LGBMClassifier()\n",
    "model.fit(X_train, Y_train)\n",
    "print(model.score(X_train, Y_train)) # accuracy \n",
    "print(model.score(X_val, Y_val))\n"
   ]
  },
  {
   "cell_type": "code",
   "execution_count": 11,
   "id": "01fe3b1f",
   "metadata": {
    "execution": {
     "iopub.execute_input": "2023-06-13T09:24:21.645022Z",
     "iopub.status.busy": "2023-06-13T09:24:21.643688Z",
     "iopub.status.idle": "2023-06-13T09:24:21.649999Z",
     "shell.execute_reply": "2023-06-13T09:24:21.649423Z"
    },
    "papermill": {
     "duration": 0.013792,
     "end_time": "2023-06-13T09:24:21.651528",
     "exception": false,
     "start_time": "2023-06-13T09:24:21.637736",
     "status": "completed"
    },
    "tags": []
   },
   "outputs": [
    {
     "data": {
      "text/plain": [
       "3756    2\n",
       "337     2\n",
       "592     4\n",
       "3597    2\n",
       "3778    3\n",
       "Name: Segmentation, dtype: int64"
      ]
     },
     "execution_count": 11,
     "metadata": {},
     "output_type": "execute_result"
    }
   ],
   "source": [
    "Y_train.head()  # xgboost는 y값도 라벨인코딩을  해줘야 피팅이 되는데, 귀찮으니까 lgbm으로 결과 제출.  대충 살자 좀. "
   ]
  },
  {
   "cell_type": "code",
   "execution_count": 12,
   "id": "e01ecaec",
   "metadata": {
    "execution": {
     "iopub.execute_input": "2023-06-13T09:24:21.661928Z",
     "iopub.status.busy": "2023-06-13T09:24:21.661038Z",
     "iopub.status.idle": "2023-06-13T09:24:21.666206Z",
     "shell.execute_reply": "2023-06-13T09:24:21.665173Z"
    },
    "papermill": {
     "duration": 0.012127,
     "end_time": "2023-06-13T09:24:21.667952",
     "exception": false,
     "start_time": "2023-06-13T09:24:21.655825",
     "status": "completed"
    },
    "tags": []
   },
   "outputs": [],
   "source": [
    "from sklearn.metrics import mean_squared_error\n",
    "import numpy as np\n",
    "\n",
    "def rmse(y_true, y_pred) :\n",
    "    return np.sqrt(mean_squared_error(y_true, y_pred))"
   ]
  },
  {
   "cell_type": "code",
   "execution_count": 13,
   "id": "6d48bb1c",
   "metadata": {
    "execution": {
     "iopub.execute_input": "2023-06-13T09:24:21.677743Z",
     "iopub.status.busy": "2023-06-13T09:24:21.677380Z",
     "iopub.status.idle": "2023-06-13T09:24:21.697464Z",
     "shell.execute_reply": "2023-06-13T09:24:21.696397Z"
    },
    "papermill": {
     "duration": 0.027682,
     "end_time": "2023-06-13T09:24:21.699793",
     "exception": false,
     "start_time": "2023-06-13T09:24:21.672111",
     "status": "completed"
    },
    "tags": []
   },
   "outputs": [
    {
     "data": {
      "text/plain": [
       "1.2873089338122252"
      ]
     },
     "execution_count": 13,
     "metadata": {},
     "output_type": "execute_result"
    }
   ],
   "source": [
    "X_val_pred = model.predict(X_val)\n",
    "rmse(Y_val ,X_val_pred)"
   ]
  },
  {
   "cell_type": "code",
   "execution_count": 14,
   "id": "bd40c57e",
   "metadata": {
    "execution": {
     "iopub.execute_input": "2023-06-13T09:24:21.711239Z",
     "iopub.status.busy": "2023-06-13T09:24:21.710376Z",
     "iopub.status.idle": "2023-06-13T09:24:21.732825Z",
     "shell.execute_reply": "2023-06-13T09:24:21.732081Z"
    },
    "papermill": {
     "duration": 0.030366,
     "end_time": "2023-06-13T09:24:21.734956",
     "exception": false,
     "start_time": "2023-06-13T09:24:21.704590",
     "status": "completed"
    },
    "tags": []
   },
   "outputs": [],
   "source": [
    "predicted = model.predict(test)\n"
   ]
  },
  {
   "cell_type": "code",
   "execution_count": 15,
   "id": "a3e67710",
   "metadata": {
    "execution": {
     "iopub.execute_input": "2023-06-13T09:24:21.746065Z",
     "iopub.status.busy": "2023-06-13T09:24:21.745080Z",
     "iopub.status.idle": "2023-06-13T09:24:21.758047Z",
     "shell.execute_reply": "2023-06-13T09:24:21.756754Z"
    },
    "papermill": {
     "duration": 0.021304,
     "end_time": "2023-06-13T09:24:21.760768",
     "exception": false,
     "start_time": "2023-06-13T09:24:21.739464",
     "status": "completed"
    },
    "tags": []
   },
   "outputs": [],
   "source": [
    "pd.DataFrame({'ID': test_ID,'Segmentation': predicted}).to_csv('result.csv', index = False)"
   ]
  },
  {
   "cell_type": "code",
   "execution_count": null,
   "id": "33f95e3f",
   "metadata": {
    "papermill": {
     "duration": 0.004281,
     "end_time": "2023-06-13T09:24:21.769952",
     "exception": false,
     "start_time": "2023-06-13T09:24:21.765671",
     "status": "completed"
    },
    "tags": []
   },
   "outputs": [],
   "source": []
  }
 ],
 "metadata": {
  "kernelspec": {
   "display_name": "Python 3",
   "language": "python",
   "name": "python3"
  },
  "language_info": {
   "codemirror_mode": {
    "name": "ipython",
    "version": 3
   },
   "file_extension": ".py",
   "mimetype": "text/x-python",
   "name": "python",
   "nbconvert_exporter": "python",
   "pygments_lexer": "ipython3",
   "version": "3.10.10"
  },
  "papermill": {
   "default_parameters": {},
   "duration": 14.838261,
   "end_time": "2023-06-13T09:24:22.695731",
   "environment_variables": {},
   "exception": null,
   "input_path": "__notebook__.ipynb",
   "output_path": "__notebook__.ipynb",
   "parameters": {},
   "start_time": "2023-06-13T09:24:07.857470",
   "version": "2.4.0"
  }
 },
 "nbformat": 4,
 "nbformat_minor": 5
}
