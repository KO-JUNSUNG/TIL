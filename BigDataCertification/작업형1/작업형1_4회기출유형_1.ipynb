{
 "cells": [
  {
   "attachments": {},
   "cell_type": "markdown",
   "metadata": {},
   "source": [
    "# Q. age 칼럼의 3사분위수와 1사분위수의 차를 절대값으로 구하고 정수(소수점 버림)로 출력해주세요.\n",
    "\n",
    "dataset 위치: data/basic1.csv"
   ]
  },
  {
   "cell_type": "code",
   "execution_count": null,
   "metadata": {},
   "outputs": [],
   "source": [
    "# 사분위수 구하는 법\n",
    "# 1. 판다스 방법\n",
    "\n",
    "import pandas as pd\n",
    "\n",
    "# 데이터프레임 생성 예시\n",
    "df = pd.DataFrame({'A': [1, 2, 3, 4, 5]})\n",
    "\n",
    "# quantile 메서드를 사용하여 25% 사분위수 계산\n",
    "q1 = df['A'].quantile(0.25)\n",
    "print(\"25% 사분위수:\", q1)\n",
    "\n",
    "# quantile 메서드를 사용하여 50% 사분위수 계산 (중간값)\n",
    "median = df['A'].quantile(0.5)\n",
    "print(\"50% 사분위수 (중간값):\", median)\n",
    "\n",
    "# quantile 메서드를 사용하여 75% 사분위수 계산\n",
    "q3 = df['A'].quantile(0.75)\n",
    "print(\"75% 사분위수:\", q3)\n"
   ]
  },
  {
   "cell_type": "code",
   "execution_count": null,
   "metadata": {},
   "outputs": [],
   "source": [
    "# 2. 넘파이 방법\n",
    "import numpy as np\n",
    "# numpy 방법\n",
    "\n",
    "a = pd.read_csv(\"data/basic1.csv\")\n",
    "IQR_1 = np.percentile(a.age,25)\n",
    "IQR_3 = np.percentile(a.age,75)\n",
    "result = int(abs(IQR_3 - IQR_1))\n",
    "print(f'{result}')\n"
   ]
  },
  {
   "cell_type": "code",
   "execution_count": null,
   "metadata": {},
   "outputs": [],
   "source": [
    "# 3. 요약통계를 보는 방법\n",
    "\n",
    "import pandas as pd\n",
    "\n",
    "# 데이터프레임 생성 예시\n",
    "df = pd.DataFrame({'A': [1, 2, 3, 4, 5]})\n",
    "\n",
    "# describe 메서드를 사용하여 요약 통계 정보 출력\n",
    "print(df.describe())\n"
   ]
  }
 ],
 "metadata": {
  "language_info": {
   "name": "python"
  },
  "orig_nbformat": 4
 },
 "nbformat": 4,
 "nbformat_minor": 2
}
