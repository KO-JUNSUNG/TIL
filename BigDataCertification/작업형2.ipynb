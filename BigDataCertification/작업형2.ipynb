{
 "cells": [
  {
   "attachments": {},
   "cell_type": "markdown",
   "metadata": {},
   "source": [
    "아래는 백화점 고객의 1년간 구매 데이터이다.\n",
    "\n",
    "- (가) 제공 데이터 목록\n",
    "\n",
    "1. y_train.csv : 고객의 성별 데이터 (학습용), CSV 형식의 파일\n",
    "2. X_train.csv, X_test.csv : 고객의 상품구매 속성 (학습용 및 평가용), CSV 형식의 파일\n",
    "\n",
    "- (나) 데이터 형식 및 내용\n",
    "1. y_train.csv (3,500 명 데이터)\n",
    "\n",
    "* custid: 고객 ID\n",
    "* gender: 고객의 성별 (0: 여자, 1: 남자)\n",
    "\n",
    "2. X_train.csv (3,500명 데이터), X_test.csv (2,482명 데이터)\n",
    "\n",
    "고객 3,500명에 대한 학습용 데이터를 이용하여 성별예측모형을 만든 후 이를 평가용 데이터에 적용하여 얻은 2,482 명 고객의 성별 예측값(남자일 확률)을 다음과 같은 형식의 CSV 파일로 생성하시오. (제출한 모델의 성능은 ROC-AUC 평가지표에 따라 채점)"
   ]
  },
  {
   "cell_type": "code",
   "execution_count": null,
   "metadata": {},
   "outputs": [],
   "source": []
  }
 ],
 "metadata": {
  "language_info": {
   "name": "python"
  },
  "orig_nbformat": 4
 },
 "nbformat": 4,
 "nbformat_minor": 2
}
