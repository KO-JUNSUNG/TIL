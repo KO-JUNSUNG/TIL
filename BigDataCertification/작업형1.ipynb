{
 "cells": [
  {
   "attachments": {},
   "cell_type": "markdown",
   "metadata": {},
   "source": [
    "- mtcars 데이터셋의 qsec 컬럼을 최소최대 척도로 변환한 후 0.5보다 큰 값을 가지는 레코드 수를 구하시오.\n",
    "\n",
    "* dataset 위치: data/mtcars.csv"
   ]
  },
  {
   "cell_type": "code",
   "execution_count": null,
   "metadata": {},
   "outputs": [],
   "source": [
    "# 출력을 원할 경우 print() 함수 활용\n",
    "# 예시) print(df.head())\n",
    "\n",
    "# getcwd(), chdir() 등 작업 폴더 설정 불필요\n",
    "# 파일 경로 상 내부 드라이브 경로(C: 등) 접근 불가"
   ]
  },
  {
   "cell_type": "code",
   "execution_count": null,
   "metadata": {},
   "outputs": [],
   "source": [
    "import pandas as pd\n",
    "from sklearn.preprocessing import MinMaxScaler\n",
    "a = pd.read_csv('data/mtcars.csv', index_col=0)\n",
    "scaler = MinMaxScaler()\n",
    "a['qsec_scaled'] = scaler.fit_transform(a[['qsec']]) # sklearn 의 scaler 들은 입력 데이터의 형상 유지와 인터페이스 통일을 위해 2차원의 형태로 데이터를 받음.\n",
    "ans = (a['qsec_scaled'] > 0.5).sum()\n",
    "print(ans)"
   ]
  }
 ],
 "metadata": {
  "language_info": {
   "name": "python"
  },
  "orig_nbformat": 4
 },
 "nbformat": 4,
 "nbformat_minor": 2
}
