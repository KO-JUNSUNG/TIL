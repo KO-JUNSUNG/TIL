{
 "cells": [
  {
   "attachments": {},
   "cell_type": "markdown",
   "metadata": {},
   "source": [
    "# 데이터 비율, 조건, 선택\n",
    "\n",
    "- Q. (loves 반응 + wows 반응) / (reactions 반응) 비율이 0.4보다 크고 0.5 보다 작으면서 status_type == video 인 데이터의 개수"
   ]
  },
  {
   "cell_type": "code",
   "execution_count": null,
   "metadata": {},
   "outputs": [],
   "source": [
    "# 데이터 파일 읽기 예제\n",
    "import pandas as pd\n",
    "a = pd.read_csv(\"data/fb.csv\")\n",
    "\n",
    "\n",
    "# 사용자 코딩\n",
    "a['patio'] = (a['loves'] + a['wows']) / a['reactions']\n",
    "\n",
    "print(((a['patio']>0.4)& (a['patio']<0.5) & (a['type'] == 'video')).sum())\n",
    "\n",
    "# data 변수명들을 체크하자.. 문제에는 status_type 이라고 되어있지만 실제 변수명은 type 이라 한참을 헤맸다. \n",
    "\n",
    "# 답안 제출 예시\n",
    "# print(평균변수값)\n"
   ]
  }
 ],
 "metadata": {
  "language_info": {
   "name": "python"
  },
  "orig_nbformat": 4
 },
 "nbformat": 4,
 "nbformat_minor": 2
}
