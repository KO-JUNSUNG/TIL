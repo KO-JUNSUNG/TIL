{
 "cells": [
  {
   "cell_type": "code",
   "execution_count": 1,
   "metadata": {},
   "outputs": [
    {
     "name": "stderr",
     "output_type": "stream",
     "text": [
      "2023-02-08 17:08:01.523806: I tensorflow/core/platform/cpu_feature_guard.cc:193] This TensorFlow binary is optimized with oneAPI Deep Neural Network Library (oneDNN) to use the following CPU instructions in performance-critical operations:  AVX2 FMA\n",
      "To enable them in other operations, rebuild TensorFlow with the appropriate compiler flags.\n",
      "2023-02-08 17:08:02.125477: W tensorflow/compiler/xla/stream_executor/platform/default/dso_loader.cc:64] Could not load dynamic library 'libnvinfer.so.7'; dlerror: libnvinfer.so.7: cannot open shared object file: No such file or directory; LD_LIBRARY_PATH: /usr/local/cuda-11.2/extras/CUPTI/lib64:/usr/local/cuda-11.2/lib64::/home/user/anaconda3/envs/tf/lib/\n",
      "2023-02-08 17:08:02.126993: W tensorflow/compiler/xla/stream_executor/platform/default/dso_loader.cc:64] Could not load dynamic library 'libnvinfer_plugin.so.7'; dlerror: libnvinfer_plugin.so.7: cannot open shared object file: No such file or directory; LD_LIBRARY_PATH: /usr/local/cuda-11.2/extras/CUPTI/lib64:/usr/local/cuda-11.2/lib64::/home/user/anaconda3/envs/tf/lib/\n",
      "2023-02-08 17:08:02.127000: W tensorflow/compiler/tf2tensorrt/utils/py_utils.cc:38] TF-TRT Warning: Cannot dlopen some TensorRT libraries. If you would like to use Nvidia GPU with TensorRT, please make sure the missing libraries mentioned above are installed properly.\n"
     ]
    }
   ],
   "source": [
    "## import\n",
    "import tensorflow as tf\n",
    "import numpy as np\n",
    "import pandas as pd\n",
    "from sklearn.model_selection import train_test_split\n",
    "from sklearn.metrics import accuracy_score # Accuracy metrics "
   ]
  },
  {
   "cell_type": "code",
   "execution_count": 2,
   "metadata": {},
   "outputs": [],
   "source": [
    "# original data\n",
    "data = pd.read_csv(\"/mnt/c/users/KOJUNSUNG/Downloads/x_train_1.csv\")\n",
    "target = pd.read_csv(\"/mnt/c/users/KOJUNSUNG/Downloads/y_train_1.csv\")\n",
    "\n",
    "# rebuild\n",
    "data, target = data.drop(labels=\"Unnamed: 0\",axis=1), target.drop(labels=\"Unnamed: 0\",axis=1)\n",
    "dataset = pd.concat((data, target), axis=1)\n"
   ]
  },
  {
   "cell_type": "code",
   "execution_count": 3,
   "metadata": {},
   "outputs": [
    {
     "data": {
      "text/plain": [
       "(6000, 132)"
      ]
     },
     "execution_count": 3,
     "metadata": {},
     "output_type": "execute_result"
    }
   ],
   "source": [
    "data.shape"
   ]
  },
  {
   "cell_type": "code",
   "execution_count": 4,
   "metadata": {},
   "outputs": [
    {
     "data": {
      "text/html": [
       "<div>\n",
       "<style scoped>\n",
       "    .dataframe tbody tr th:only-of-type {\n",
       "        vertical-align: middle;\n",
       "    }\n",
       "\n",
       "    .dataframe tbody tr th {\n",
       "        vertical-align: top;\n",
       "    }\n",
       "\n",
       "    .dataframe thead th {\n",
       "        text-align: right;\n",
       "    }\n",
       "</style>\n",
       "<table border=\"1\" class=\"dataframe\">\n",
       "  <thead>\n",
       "    <tr style=\"text-align: right;\">\n",
       "      <th></th>\n",
       "      <th>x1</th>\n",
       "      <th>y1</th>\n",
       "      <th>z1</th>\n",
       "      <th>v1</th>\n",
       "      <th>x2</th>\n",
       "      <th>y2</th>\n",
       "      <th>z2</th>\n",
       "      <th>v2</th>\n",
       "      <th>x3</th>\n",
       "      <th>y3</th>\n",
       "      <th>...</th>\n",
       "      <th>z31</th>\n",
       "      <th>v31</th>\n",
       "      <th>x32</th>\n",
       "      <th>y32</th>\n",
       "      <th>z32</th>\n",
       "      <th>v32</th>\n",
       "      <th>x33</th>\n",
       "      <th>y33</th>\n",
       "      <th>z33</th>\n",
       "      <th>v33</th>\n",
       "    </tr>\n",
       "  </thead>\n",
       "  <tbody>\n",
       "    <tr>\n",
       "      <th>0</th>\n",
       "      <td>0.781959</td>\n",
       "      <td>0.555121</td>\n",
       "      <td>-1.325833</td>\n",
       "      <td>0.999686</td>\n",
       "      <td>0.815969</td>\n",
       "      <td>0.509020</td>\n",
       "      <td>-1.268849</td>\n",
       "      <td>0.999067</td>\n",
       "      <td>0.832633</td>\n",
       "      <td>0.516675</td>\n",
       "      <td>...</td>\n",
       "      <td>1.231486</td>\n",
       "      <td>0.000020</td>\n",
       "      <td>0.661514</td>\n",
       "      <td>2.869056</td>\n",
       "      <td>0.262439</td>\n",
       "      <td>0.000028</td>\n",
       "      <td>0.499780</td>\n",
       "      <td>2.836488</td>\n",
       "      <td>0.594336</td>\n",
       "      <td>0.000051</td>\n",
       "    </tr>\n",
       "    <tr>\n",
       "      <th>1</th>\n",
       "      <td>0.780122</td>\n",
       "      <td>0.564212</td>\n",
       "      <td>-1.327176</td>\n",
       "      <td>0.999710</td>\n",
       "      <td>0.811703</td>\n",
       "      <td>0.516201</td>\n",
       "      <td>-1.268746</td>\n",
       "      <td>0.999134</td>\n",
       "      <td>0.827644</td>\n",
       "      <td>0.525635</td>\n",
       "      <td>...</td>\n",
       "      <td>1.348614</td>\n",
       "      <td>0.000019</td>\n",
       "      <td>0.695836</td>\n",
       "      <td>2.869520</td>\n",
       "      <td>0.182526</td>\n",
       "      <td>0.000029</td>\n",
       "      <td>0.533526</td>\n",
       "      <td>2.842350</td>\n",
       "      <td>0.666288</td>\n",
       "      <td>0.000051</td>\n",
       "    </tr>\n",
       "    <tr>\n",
       "      <th>2</th>\n",
       "      <td>0.777825</td>\n",
       "      <td>0.565557</td>\n",
       "      <td>-1.268318</td>\n",
       "      <td>0.999732</td>\n",
       "      <td>0.807802</td>\n",
       "      <td>0.517558</td>\n",
       "      <td>-1.206271</td>\n",
       "      <td>0.999199</td>\n",
       "      <td>0.823382</td>\n",
       "      <td>0.527669</td>\n",
       "      <td>...</td>\n",
       "      <td>1.245925</td>\n",
       "      <td>0.000017</td>\n",
       "      <td>0.699483</td>\n",
       "      <td>2.873343</td>\n",
       "      <td>0.192420</td>\n",
       "      <td>0.000027</td>\n",
       "      <td>0.530380</td>\n",
       "      <td>2.849359</td>\n",
       "      <td>0.571536</td>\n",
       "      <td>0.000047</td>\n",
       "    </tr>\n",
       "    <tr>\n",
       "      <th>3</th>\n",
       "      <td>0.775535</td>\n",
       "      <td>0.565395</td>\n",
       "      <td>-1.221586</td>\n",
       "      <td>0.999752</td>\n",
       "      <td>0.804169</td>\n",
       "      <td>0.517470</td>\n",
       "      <td>-1.158001</td>\n",
       "      <td>0.999256</td>\n",
       "      <td>0.819652</td>\n",
       "      <td>0.527561</td>\n",
       "      <td>...</td>\n",
       "      <td>1.044325</td>\n",
       "      <td>0.000016</td>\n",
       "      <td>0.702922</td>\n",
       "      <td>2.863769</td>\n",
       "      <td>0.066147</td>\n",
       "      <td>0.000027</td>\n",
       "      <td>0.534221</td>\n",
       "      <td>2.842932</td>\n",
       "      <td>0.385441</td>\n",
       "      <td>0.000045</td>\n",
       "    </tr>\n",
       "    <tr>\n",
       "      <th>4</th>\n",
       "      <td>0.773533</td>\n",
       "      <td>0.565905</td>\n",
       "      <td>-1.223320</td>\n",
       "      <td>0.999772</td>\n",
       "      <td>0.802300</td>\n",
       "      <td>0.518041</td>\n",
       "      <td>-1.157453</td>\n",
       "      <td>0.999315</td>\n",
       "      <td>0.817755</td>\n",
       "      <td>0.528336</td>\n",
       "      <td>...</td>\n",
       "      <td>0.895194</td>\n",
       "      <td>0.000015</td>\n",
       "      <td>0.700703</td>\n",
       "      <td>2.866538</td>\n",
       "      <td>-0.036576</td>\n",
       "      <td>0.000026</td>\n",
       "      <td>0.532314</td>\n",
       "      <td>2.846723</td>\n",
       "      <td>0.225016</td>\n",
       "      <td>0.000042</td>\n",
       "    </tr>\n",
       "  </tbody>\n",
       "</table>\n",
       "<p>5 rows × 132 columns</p>\n",
       "</div>"
      ],
      "text/plain": [
       "         x1        y1        z1        v1        x2        y2        z2  \\\n",
       "0  0.781959  0.555121 -1.325833  0.999686  0.815969  0.509020 -1.268849   \n",
       "1  0.780122  0.564212 -1.327176  0.999710  0.811703  0.516201 -1.268746   \n",
       "2  0.777825  0.565557 -1.268318  0.999732  0.807802  0.517558 -1.206271   \n",
       "3  0.775535  0.565395 -1.221586  0.999752  0.804169  0.517470 -1.158001   \n",
       "4  0.773533  0.565905 -1.223320  0.999772  0.802300  0.518041 -1.157453   \n",
       "\n",
       "         v2        x3        y3  ...       z31       v31       x32       y32  \\\n",
       "0  0.999067  0.832633  0.516675  ...  1.231486  0.000020  0.661514  2.869056   \n",
       "1  0.999134  0.827644  0.525635  ...  1.348614  0.000019  0.695836  2.869520   \n",
       "2  0.999199  0.823382  0.527669  ...  1.245925  0.000017  0.699483  2.873343   \n",
       "3  0.999256  0.819652  0.527561  ...  1.044325  0.000016  0.702922  2.863769   \n",
       "4  0.999315  0.817755  0.528336  ...  0.895194  0.000015  0.700703  2.866538   \n",
       "\n",
       "        z32       v32       x33       y33       z33       v33  \n",
       "0  0.262439  0.000028  0.499780  2.836488  0.594336  0.000051  \n",
       "1  0.182526  0.000029  0.533526  2.842350  0.666288  0.000051  \n",
       "2  0.192420  0.000027  0.530380  2.849359  0.571536  0.000047  \n",
       "3  0.066147  0.000027  0.534221  2.842932  0.385441  0.000045  \n",
       "4 -0.036576  0.000026  0.532314  2.846723  0.225016  0.000042  \n",
       "\n",
       "[5 rows x 132 columns]"
      ]
     },
     "execution_count": 4,
     "metadata": {},
     "output_type": "execute_result"
    }
   ],
   "source": [
    "data.head()"
   ]
  },
  {
   "cell_type": "code",
   "execution_count": 36,
   "metadata": {},
   "outputs": [
    {
     "data": {
      "text/html": [
       "<div>\n",
       "<style scoped>\n",
       "    .dataframe tbody tr th:only-of-type {\n",
       "        vertical-align: middle;\n",
       "    }\n",
       "\n",
       "    .dataframe tbody tr th {\n",
       "        vertical-align: top;\n",
       "    }\n",
       "\n",
       "    .dataframe thead th {\n",
       "        text-align: right;\n",
       "    }\n",
       "</style>\n",
       "<table border=\"1\" class=\"dataframe\">\n",
       "  <thead>\n",
       "    <tr style=\"text-align: right;\">\n",
       "      <th></th>\n",
       "      <th>x1</th>\n",
       "      <th>y1</th>\n",
       "      <th>z1</th>\n",
       "      <th>v1</th>\n",
       "      <th>x2</th>\n",
       "      <th>y2</th>\n",
       "      <th>z2</th>\n",
       "      <th>v2</th>\n",
       "      <th>x3</th>\n",
       "      <th>y3</th>\n",
       "      <th>...</th>\n",
       "      <th>v31</th>\n",
       "      <th>x32</th>\n",
       "      <th>y32</th>\n",
       "      <th>z32</th>\n",
       "      <th>v32</th>\n",
       "      <th>x33</th>\n",
       "      <th>y33</th>\n",
       "      <th>z33</th>\n",
       "      <th>v33</th>\n",
       "      <th>Label</th>\n",
       "    </tr>\n",
       "  </thead>\n",
       "  <tbody>\n",
       "    <tr>\n",
       "      <th>0</th>\n",
       "      <td>0.579180</td>\n",
       "      <td>0.494718</td>\n",
       "      <td>-1.260400</td>\n",
       "      <td>0.999884</td>\n",
       "      <td>0.598910</td>\n",
       "      <td>0.437344</td>\n",
       "      <td>-1.202794</td>\n",
       "      <td>0.999647</td>\n",
       "      <td>0.615433</td>\n",
       "      <td>0.440355</td>\n",
       "      <td>...</td>\n",
       "      <td>5.854897e-07</td>\n",
       "      <td>0.738593</td>\n",
       "      <td>2.877994</td>\n",
       "      <td>0.449241</td>\n",
       "      <td>0.000004</td>\n",
       "      <td>0.548525</td>\n",
       "      <td>2.886744</td>\n",
       "      <td>0.250947</td>\n",
       "      <td>0.000006</td>\n",
       "      <td>1</td>\n",
       "    </tr>\n",
       "    <tr>\n",
       "      <th>1</th>\n",
       "      <td>0.579247</td>\n",
       "      <td>0.492518</td>\n",
       "      <td>-1.121348</td>\n",
       "      <td>0.999892</td>\n",
       "      <td>0.599189</td>\n",
       "      <td>0.435712</td>\n",
       "      <td>-1.065062</td>\n",
       "      <td>0.999672</td>\n",
       "      <td>0.615862</td>\n",
       "      <td>0.438817</td>\n",
       "      <td>...</td>\n",
       "      <td>5.664001e-07</td>\n",
       "      <td>0.734784</td>\n",
       "      <td>2.890085</td>\n",
       "      <td>0.500137</td>\n",
       "      <td>0.000004</td>\n",
       "      <td>0.547794</td>\n",
       "      <td>2.901754</td>\n",
       "      <td>0.407540</td>\n",
       "      <td>0.000006</td>\n",
       "      <td>1</td>\n",
       "    </tr>\n",
       "    <tr>\n",
       "      <th>2</th>\n",
       "      <td>0.579256</td>\n",
       "      <td>0.492384</td>\n",
       "      <td>-1.103188</td>\n",
       "      <td>0.999899</td>\n",
       "      <td>0.599271</td>\n",
       "      <td>0.435453</td>\n",
       "      <td>-1.047567</td>\n",
       "      <td>0.999691</td>\n",
       "      <td>0.616001</td>\n",
       "      <td>0.438468</td>\n",
       "      <td>...</td>\n",
       "      <td>5.734016e-07</td>\n",
       "      <td>0.732842</td>\n",
       "      <td>2.901172</td>\n",
       "      <td>0.495691</td>\n",
       "      <td>0.000004</td>\n",
       "      <td>0.547777</td>\n",
       "      <td>2.913632</td>\n",
       "      <td>0.506053</td>\n",
       "      <td>0.000006</td>\n",
       "      <td>1</td>\n",
       "    </tr>\n",
       "    <tr>\n",
       "      <th>3</th>\n",
       "      <td>0.579180</td>\n",
       "      <td>0.491912</td>\n",
       "      <td>-1.137667</td>\n",
       "      <td>0.999905</td>\n",
       "      <td>0.599163</td>\n",
       "      <td>0.434376</td>\n",
       "      <td>-1.083351</td>\n",
       "      <td>0.999710</td>\n",
       "      <td>0.615937</td>\n",
       "      <td>0.436995</td>\n",
       "      <td>...</td>\n",
       "      <td>5.510733e-07</td>\n",
       "      <td>0.724409</td>\n",
       "      <td>2.922381</td>\n",
       "      <td>0.584140</td>\n",
       "      <td>0.000004</td>\n",
       "      <td>0.535767</td>\n",
       "      <td>2.933913</td>\n",
       "      <td>0.466976</td>\n",
       "      <td>0.000005</td>\n",
       "      <td>1</td>\n",
       "    </tr>\n",
       "    <tr>\n",
       "      <th>4</th>\n",
       "      <td>0.579315</td>\n",
       "      <td>0.492281</td>\n",
       "      <td>-1.154184</td>\n",
       "      <td>0.999911</td>\n",
       "      <td>0.599251</td>\n",
       "      <td>0.434340</td>\n",
       "      <td>-1.100381</td>\n",
       "      <td>0.999729</td>\n",
       "      <td>0.616049</td>\n",
       "      <td>0.436875</td>\n",
       "      <td>...</td>\n",
       "      <td>5.601879e-07</td>\n",
       "      <td>0.725853</td>\n",
       "      <td>2.953179</td>\n",
       "      <td>0.608636</td>\n",
       "      <td>0.000004</td>\n",
       "      <td>0.538587</td>\n",
       "      <td>2.964739</td>\n",
       "      <td>0.654591</td>\n",
       "      <td>0.000005</td>\n",
       "      <td>1</td>\n",
       "    </tr>\n",
       "  </tbody>\n",
       "</table>\n",
       "<p>5 rows × 133 columns</p>\n",
       "</div>"
      ],
      "text/plain": [
       "         x1        y1        z1        v1        x2        y2        z2  \\\n",
       "0  0.579180  0.494718 -1.260400  0.999884  0.598910  0.437344 -1.202794   \n",
       "1  0.579247  0.492518 -1.121348  0.999892  0.599189  0.435712 -1.065062   \n",
       "2  0.579256  0.492384 -1.103188  0.999899  0.599271  0.435453 -1.047567   \n",
       "3  0.579180  0.491912 -1.137667  0.999905  0.599163  0.434376 -1.083351   \n",
       "4  0.579315  0.492281 -1.154184  0.999911  0.599251  0.434340 -1.100381   \n",
       "\n",
       "         v2        x3        y3  ...           v31       x32       y32  \\\n",
       "0  0.999647  0.615433  0.440355  ...  5.854897e-07  0.738593  2.877994   \n",
       "1  0.999672  0.615862  0.438817  ...  5.664001e-07  0.734784  2.890085   \n",
       "2  0.999691  0.616001  0.438468  ...  5.734016e-07  0.732842  2.901172   \n",
       "3  0.999710  0.615937  0.436995  ...  5.510733e-07  0.724409  2.922381   \n",
       "4  0.999729  0.616049  0.436875  ...  5.601879e-07  0.725853  2.953179   \n",
       "\n",
       "        z32       v32       x33       y33       z33       v33  Label  \n",
       "0  0.449241  0.000004  0.548525  2.886744  0.250947  0.000006      1  \n",
       "1  0.500137  0.000004  0.547794  2.901754  0.407540  0.000006      1  \n",
       "2  0.495691  0.000004  0.547777  2.913632  0.506053  0.000006      1  \n",
       "3  0.584140  0.000004  0.535767  2.933913  0.466976  0.000005      1  \n",
       "4  0.608636  0.000004  0.538587  2.964739  0.654591  0.000005      1  \n",
       "\n",
       "[5 rows x 133 columns]"
      ]
     },
     "execution_count": 36,
     "metadata": {},
     "output_type": "execute_result"
    }
   ],
   "source": [
    "dataset.head()"
   ]
  },
  {
   "cell_type": "code",
   "execution_count": 5,
   "metadata": {},
   "outputs": [],
   "source": [
    "X_train, X_test, y_train, y_test = train_test_split(data, target, test_size=0.1, shuffle=True, stratify=target, random_state= 1)"
   ]
  },
  {
   "cell_type": "code",
   "execution_count": 6,
   "metadata": {},
   "outputs": [
    {
     "data": {
      "text/html": [
       "<div>\n",
       "<style scoped>\n",
       "    .dataframe tbody tr th:only-of-type {\n",
       "        vertical-align: middle;\n",
       "    }\n",
       "\n",
       "    .dataframe tbody tr th {\n",
       "        vertical-align: top;\n",
       "    }\n",
       "\n",
       "    .dataframe thead th {\n",
       "        text-align: right;\n",
       "    }\n",
       "</style>\n",
       "<table border=\"1\" class=\"dataframe\">\n",
       "  <thead>\n",
       "    <tr style=\"text-align: right;\">\n",
       "      <th></th>\n",
       "      <th>x1</th>\n",
       "      <th>y1</th>\n",
       "      <th>z1</th>\n",
       "      <th>v1</th>\n",
       "      <th>x2</th>\n",
       "      <th>y2</th>\n",
       "      <th>z2</th>\n",
       "      <th>v2</th>\n",
       "      <th>x3</th>\n",
       "      <th>y3</th>\n",
       "      <th>...</th>\n",
       "      <th>z31</th>\n",
       "      <th>v31</th>\n",
       "      <th>x32</th>\n",
       "      <th>y32</th>\n",
       "      <th>z32</th>\n",
       "      <th>v32</th>\n",
       "      <th>x33</th>\n",
       "      <th>y33</th>\n",
       "      <th>z33</th>\n",
       "      <th>v33</th>\n",
       "    </tr>\n",
       "  </thead>\n",
       "  <tbody>\n",
       "    <tr>\n",
       "      <th>3775</th>\n",
       "      <td>0.300066</td>\n",
       "      <td>0.849716</td>\n",
       "      <td>-2.010101</td>\n",
       "      <td>0.998459</td>\n",
       "      <td>0.324537</td>\n",
       "      <td>0.777605</td>\n",
       "      <td>-2.061031</td>\n",
       "      <td>0.996702</td>\n",
       "      <td>0.348969</td>\n",
       "      <td>0.770353</td>\n",
       "      <td>...</td>\n",
       "      <td>0.703886</td>\n",
       "      <td>0.000017</td>\n",
       "      <td>0.533519</td>\n",
       "      <td>3.030170</td>\n",
       "      <td>-0.263729</td>\n",
       "      <td>0.000030</td>\n",
       "      <td>0.363884</td>\n",
       "      <td>3.041019</td>\n",
       "      <td>0.041479</td>\n",
       "      <td>0.000060</td>\n",
       "    </tr>\n",
       "    <tr>\n",
       "      <th>3496</th>\n",
       "      <td>0.304265</td>\n",
       "      <td>0.726899</td>\n",
       "      <td>-0.757936</td>\n",
       "      <td>0.998085</td>\n",
       "      <td>0.337590</td>\n",
       "      <td>0.659332</td>\n",
       "      <td>-0.787346</td>\n",
       "      <td>0.994813</td>\n",
       "      <td>0.358520</td>\n",
       "      <td>0.658444</td>\n",
       "      <td>...</td>\n",
       "      <td>0.542620</td>\n",
       "      <td>0.000014</td>\n",
       "      <td>0.498279</td>\n",
       "      <td>2.983867</td>\n",
       "      <td>-0.314402</td>\n",
       "      <td>0.000034</td>\n",
       "      <td>0.328376</td>\n",
       "      <td>2.971227</td>\n",
       "      <td>-0.008512</td>\n",
       "      <td>0.000031</td>\n",
       "    </tr>\n",
       "    <tr>\n",
       "      <th>3938</th>\n",
       "      <td>0.378057</td>\n",
       "      <td>0.685380</td>\n",
       "      <td>-1.890124</td>\n",
       "      <td>0.999011</td>\n",
       "      <td>0.411871</td>\n",
       "      <td>0.620648</td>\n",
       "      <td>-1.878775</td>\n",
       "      <td>0.997810</td>\n",
       "      <td>0.430972</td>\n",
       "      <td>0.623398</td>\n",
       "      <td>...</td>\n",
       "      <td>0.769683</td>\n",
       "      <td>0.000008</td>\n",
       "      <td>0.452172</td>\n",
       "      <td>2.975990</td>\n",
       "      <td>-0.116937</td>\n",
       "      <td>0.000024</td>\n",
       "      <td>0.281366</td>\n",
       "      <td>2.957042</td>\n",
       "      <td>0.078533</td>\n",
       "      <td>0.000020</td>\n",
       "    </tr>\n",
       "    <tr>\n",
       "      <th>5123</th>\n",
       "      <td>0.514998</td>\n",
       "      <td>0.507714</td>\n",
       "      <td>-0.858561</td>\n",
       "      <td>0.999419</td>\n",
       "      <td>0.542675</td>\n",
       "      <td>0.449969</td>\n",
       "      <td>-0.820555</td>\n",
       "      <td>0.998405</td>\n",
       "      <td>0.560631</td>\n",
       "      <td>0.451783</td>\n",
       "      <td>...</td>\n",
       "      <td>0.550872</td>\n",
       "      <td>0.000018</td>\n",
       "      <td>0.589064</td>\n",
       "      <td>2.760756</td>\n",
       "      <td>-0.013625</td>\n",
       "      <td>0.000038</td>\n",
       "      <td>0.415611</td>\n",
       "      <td>2.751269</td>\n",
       "      <td>-0.016733</td>\n",
       "      <td>0.000031</td>\n",
       "    </tr>\n",
       "    <tr>\n",
       "      <th>5406</th>\n",
       "      <td>0.526033</td>\n",
       "      <td>0.525796</td>\n",
       "      <td>-0.845715</td>\n",
       "      <td>0.999154</td>\n",
       "      <td>0.549470</td>\n",
       "      <td>0.486763</td>\n",
       "      <td>-0.796662</td>\n",
       "      <td>0.997602</td>\n",
       "      <td>0.564331</td>\n",
       "      <td>0.487500</td>\n",
       "      <td>...</td>\n",
       "      <td>0.180456</td>\n",
       "      <td>0.000035</td>\n",
       "      <td>0.645136</td>\n",
       "      <td>2.669460</td>\n",
       "      <td>-0.354228</td>\n",
       "      <td>0.000072</td>\n",
       "      <td>0.488208</td>\n",
       "      <td>2.666490</td>\n",
       "      <td>-0.387921</td>\n",
       "      <td>0.000067</td>\n",
       "    </tr>\n",
       "  </tbody>\n",
       "</table>\n",
       "<p>5 rows × 132 columns</p>\n",
       "</div>"
      ],
      "text/plain": [
       "            x1        y1        z1        v1        x2        y2        z2  \\\n",
       "3775  0.300066  0.849716 -2.010101  0.998459  0.324537  0.777605 -2.061031   \n",
       "3496  0.304265  0.726899 -0.757936  0.998085  0.337590  0.659332 -0.787346   \n",
       "3938  0.378057  0.685380 -1.890124  0.999011  0.411871  0.620648 -1.878775   \n",
       "5123  0.514998  0.507714 -0.858561  0.999419  0.542675  0.449969 -0.820555   \n",
       "5406  0.526033  0.525796 -0.845715  0.999154  0.549470  0.486763 -0.796662   \n",
       "\n",
       "            v2        x3        y3  ...       z31       v31       x32  \\\n",
       "3775  0.996702  0.348969  0.770353  ...  0.703886  0.000017  0.533519   \n",
       "3496  0.994813  0.358520  0.658444  ...  0.542620  0.000014  0.498279   \n",
       "3938  0.997810  0.430972  0.623398  ...  0.769683  0.000008  0.452172   \n",
       "5123  0.998405  0.560631  0.451783  ...  0.550872  0.000018  0.589064   \n",
       "5406  0.997602  0.564331  0.487500  ...  0.180456  0.000035  0.645136   \n",
       "\n",
       "           y32       z32       v32       x33       y33       z33       v33  \n",
       "3775  3.030170 -0.263729  0.000030  0.363884  3.041019  0.041479  0.000060  \n",
       "3496  2.983867 -0.314402  0.000034  0.328376  2.971227 -0.008512  0.000031  \n",
       "3938  2.975990 -0.116937  0.000024  0.281366  2.957042  0.078533  0.000020  \n",
       "5123  2.760756 -0.013625  0.000038  0.415611  2.751269 -0.016733  0.000031  \n",
       "5406  2.669460 -0.354228  0.000072  0.488208  2.666490 -0.387921  0.000067  \n",
       "\n",
       "[5 rows x 132 columns]"
      ]
     },
     "execution_count": 6,
     "metadata": {},
     "output_type": "execute_result"
    }
   ],
   "source": [
    "X_train.head()"
   ]
  },
  {
   "cell_type": "code",
   "execution_count": 7,
   "metadata": {},
   "outputs": [
    {
     "data": {
      "text/html": [
       "<div>\n",
       "<style scoped>\n",
       "    .dataframe tbody tr th:only-of-type {\n",
       "        vertical-align: middle;\n",
       "    }\n",
       "\n",
       "    .dataframe tbody tr th {\n",
       "        vertical-align: top;\n",
       "    }\n",
       "\n",
       "    .dataframe thead th {\n",
       "        text-align: right;\n",
       "    }\n",
       "</style>\n",
       "<table border=\"1\" class=\"dataframe\">\n",
       "  <thead>\n",
       "    <tr style=\"text-align: right;\">\n",
       "      <th></th>\n",
       "      <th>Label</th>\n",
       "    </tr>\n",
       "  </thead>\n",
       "  <tbody>\n",
       "    <tr>\n",
       "      <th>3775</th>\n",
       "      <td>2</td>\n",
       "    </tr>\n",
       "    <tr>\n",
       "      <th>3496</th>\n",
       "      <td>2</td>\n",
       "    </tr>\n",
       "    <tr>\n",
       "      <th>3938</th>\n",
       "      <td>2</td>\n",
       "    </tr>\n",
       "    <tr>\n",
       "      <th>5123</th>\n",
       "      <td>1</td>\n",
       "    </tr>\n",
       "    <tr>\n",
       "      <th>5406</th>\n",
       "      <td>1</td>\n",
       "    </tr>\n",
       "  </tbody>\n",
       "</table>\n",
       "</div>"
      ],
      "text/plain": [
       "      Label\n",
       "3775      2\n",
       "3496      2\n",
       "3938      2\n",
       "5123      1\n",
       "5406      1"
      ]
     },
     "execution_count": 7,
     "metadata": {},
     "output_type": "execute_result"
    }
   ],
   "source": [
    "y_train.head() # 2= right, 1=middle , 0 =left"
   ]
  },
  {
   "cell_type": "code",
   "execution_count": 8,
   "metadata": {},
   "outputs": [
    {
     "name": "stdout",
     "output_type": "stream",
     "text": [
      "(5400, 132) (5400, 1)\n"
     ]
    }
   ],
   "source": [
    "print(X_train.shape, y_train.shape)"
   ]
  },
  {
   "cell_type": "code",
   "execution_count": 9,
   "metadata": {},
   "outputs": [],
   "source": [
    "Y_train = tf.keras.utils.to_categorical(y_train)# one hot encoding\n",
    "Y_test = tf.keras.utils.to_categorical(y_test)"
   ]
  },
  {
   "cell_type": "code",
   "execution_count": 10,
   "metadata": {},
   "outputs": [
    {
     "data": {
      "text/plain": [
       "array([0., 1., 0.], dtype=float32)"
      ]
     },
     "execution_count": 10,
     "metadata": {},
     "output_type": "execute_result"
    }
   ],
   "source": [
    "Y_train[4]"
   ]
  },
  {
   "cell_type": "code",
   "execution_count": 11,
   "metadata": {},
   "outputs": [
    {
     "data": {
      "text/plain": [
       "(5400, 3)"
      ]
     },
     "execution_count": 11,
     "metadata": {},
     "output_type": "execute_result"
    }
   ],
   "source": [
    "Y_train.shape"
   ]
  },
  {
   "cell_type": "code",
   "execution_count": 12,
   "metadata": {},
   "outputs": [
    {
     "name": "stderr",
     "output_type": "stream",
     "text": [
      "2023-02-08 17:08:48.249691: I tensorflow/compiler/xla/stream_executor/cuda/cuda_gpu_executor.cc:967] could not open file to read NUMA node: /sys/bus/pci/devices/0000:2b:00.0/numa_node\n",
      "Your kernel may have been built without NUMA support.\n",
      "2023-02-08 17:08:48.253602: I tensorflow/compiler/xla/stream_executor/cuda/cuda_gpu_executor.cc:967] could not open file to read NUMA node: /sys/bus/pci/devices/0000:2b:00.0/numa_node\n",
      "Your kernel may have been built without NUMA support.\n",
      "2023-02-08 17:08:48.253648: I tensorflow/compiler/xla/stream_executor/cuda/cuda_gpu_executor.cc:967] could not open file to read NUMA node: /sys/bus/pci/devices/0000:2b:00.0/numa_node\n",
      "Your kernel may have been built without NUMA support.\n",
      "2023-02-08 17:08:48.254193: I tensorflow/core/platform/cpu_feature_guard.cc:193] This TensorFlow binary is optimized with oneAPI Deep Neural Network Library (oneDNN) to use the following CPU instructions in performance-critical operations:  AVX2 FMA\n",
      "To enable them in other operations, rebuild TensorFlow with the appropriate compiler flags.\n",
      "2023-02-08 17:08:48.255517: I tensorflow/compiler/xla/stream_executor/cuda/cuda_gpu_executor.cc:967] could not open file to read NUMA node: /sys/bus/pci/devices/0000:2b:00.0/numa_node\n",
      "Your kernel may have been built without NUMA support.\n",
      "2023-02-08 17:08:48.255560: I tensorflow/compiler/xla/stream_executor/cuda/cuda_gpu_executor.cc:967] could not open file to read NUMA node: /sys/bus/pci/devices/0000:2b:00.0/numa_node\n",
      "Your kernel may have been built without NUMA support.\n",
      "2023-02-08 17:08:48.255590: I tensorflow/compiler/xla/stream_executor/cuda/cuda_gpu_executor.cc:967] could not open file to read NUMA node: /sys/bus/pci/devices/0000:2b:00.0/numa_node\n",
      "Your kernel may have been built without NUMA support.\n",
      "2023-02-08 17:08:48.781822: I tensorflow/compiler/xla/stream_executor/cuda/cuda_gpu_executor.cc:967] could not open file to read NUMA node: /sys/bus/pci/devices/0000:2b:00.0/numa_node\n",
      "Your kernel may have been built without NUMA support.\n",
      "2023-02-08 17:08:48.781908: I tensorflow/compiler/xla/stream_executor/cuda/cuda_gpu_executor.cc:967] could not open file to read NUMA node: /sys/bus/pci/devices/0000:2b:00.0/numa_node\n",
      "Your kernel may have been built without NUMA support.\n",
      "2023-02-08 17:08:48.781918: I tensorflow/core/common_runtime/gpu/gpu_device.cc:1700] Could not identify NUMA node of platform GPU id 0, defaulting to 0.  Your kernel may not have been built with NUMA support.\n",
      "2023-02-08 17:08:48.781962: I tensorflow/compiler/xla/stream_executor/cuda/cuda_gpu_executor.cc:967] could not open file to read NUMA node: /sys/bus/pci/devices/0000:2b:00.0/numa_node\n",
      "Your kernel may have been built without NUMA support.\n",
      "2023-02-08 17:08:48.781992: I tensorflow/core/common_runtime/gpu/gpu_device.cc:1613] Created device /job:localhost/replica:0/task:0/device:GPU:0 with 9368 MB memory:  -> device: 0, name: NVIDIA GeForce RTX 3080 Ti, pci bus id: 0000:2b:00.0, compute capability: 8.6\n"
     ]
    }
   ],
   "source": [
    "# model \n",
    "\n",
    "# model \n",
    "model = tf.keras.Sequential()\n",
    "model.add(tf.keras.layers.Dense(128, activation='relu', input_shape=(132,)))\n",
    "model.add(tf.keras.layers.Dropout(0.5)) # add dropout layer\n",
    "model.add(tf.keras.layers.Dense(64, activation='relu'))\n",
    "model.add(tf.keras.layers.Dense(3, activation='softmax')) # 1=forward, 2=right, 0=left\n",
    "# for multiclassification, use softmax func.\n",
    "# There is no CNN layer because there is no image input. \n",
    "# image input -> csv data -> modeling \n",
    "\n",
    "# Compile \n",
    "\n",
    "model.compile(optimizer='adam', loss='categorical_crossentropy', metrics=['accuracy'])\n"
   ]
  },
  {
   "cell_type": "code",
   "execution_count": 13,
   "metadata": {},
   "outputs": [
    {
     "name": "stdout",
     "output_type": "stream",
     "text": [
      "Epoch 1/10\n"
     ]
    },
    {
     "name": "stderr",
     "output_type": "stream",
     "text": [
      "2023-02-08 17:08:55.378402: I tensorflow/compiler/xla/stream_executor/cuda/cuda_blas.cc:630] TensorFloat-32 will be used for the matrix multiplication. This will only be logged once.\n",
      "2023-02-08 17:08:55.404090: I tensorflow/compiler/xla/service/service.cc:173] XLA service 0x7f2e9c016610 initialized for platform CUDA (this does not guarantee that XLA will be used). Devices:\n",
      "2023-02-08 17:08:55.404121: I tensorflow/compiler/xla/service/service.cc:181]   StreamExecutor device (0): NVIDIA GeForce RTX 3080 Ti, Compute Capability 8.6\n",
      "2023-02-08 17:08:55.426564: I tensorflow/compiler/mlir/tensorflow/utils/dump_mlir_util.cc:268] disabling MLIR crash reproducer, set env var `MLIR_CRASH_REPRODUCER_DIRECTORY` to enable.\n",
      "2023-02-08 17:08:55.671767: I tensorflow/compiler/jit/xla_compilation_cache.cc:477] Compiled cluster using XLA!  This line is logged at most once for the lifetime of the process.\n"
     ]
    },
    {
     "name": "stdout",
     "output_type": "stream",
     "text": [
      "169/169 [==============================] - 3s 8ms/step - loss: 0.3686 - accuracy: 0.8702\n",
      "Epoch 2/10\n",
      "169/169 [==============================] - 1s 7ms/step - loss: 0.1032 - accuracy: 0.9726\n",
      "Epoch 3/10\n",
      "169/169 [==============================] - 1s 7ms/step - loss: 0.0726 - accuracy: 0.9804\n",
      "Epoch 4/10\n",
      "169/169 [==============================] - 1s 7ms/step - loss: 0.0604 - accuracy: 0.9830\n",
      "Epoch 5/10\n",
      "169/169 [==============================] - 1s 7ms/step - loss: 0.0421 - accuracy: 0.9869\n",
      "Epoch 6/10\n",
      "169/169 [==============================] - 1s 7ms/step - loss: 0.0424 - accuracy: 0.9861\n",
      "Epoch 7/10\n",
      "169/169 [==============================] - 1s 7ms/step - loss: 0.0255 - accuracy: 0.9931\n",
      "Epoch 8/10\n",
      "169/169 [==============================] - 1s 7ms/step - loss: 0.0242 - accuracy: 0.9931\n",
      "Epoch 9/10\n",
      "169/169 [==============================] - 1s 7ms/step - loss: 0.0201 - accuracy: 0.9941\n",
      "Epoch 10/10\n",
      "169/169 [==============================] - 1s 7ms/step - loss: 0.0190 - accuracy: 0.9950\n"
     ]
    },
    {
     "data": {
      "text/plain": [
       "<keras.callbacks.History at 0x7f2fac0ac7f0>"
      ]
     },
     "execution_count": 13,
     "metadata": {},
     "output_type": "execute_result"
    }
   ],
   "source": [
    "# Train the model\n",
    "model.fit(X_train, Y_train, epochs=10)"
   ]
  },
  {
   "cell_type": "code",
   "execution_count": 14,
   "metadata": {},
   "outputs": [
    {
     "name": "stdout",
     "output_type": "stream",
     "text": [
      "19/19 [==============================] - 0s 11ms/step - loss: 0.0131 - accuracy: 0.9967\n",
      "accuracy:  0.996666669845581\n"
     ]
    }
   ],
   "source": [
    "# evaluate\n",
    "results = model.evaluate(X_test, Y_test)\n",
    "print('accuracy: ', results[1])"
   ]
  },
  {
   "cell_type": "code",
   "execution_count": 15,
   "metadata": {},
   "outputs": [],
   "source": [
    "model.save('Maded_model_3.h5') #save"
   ]
  },
  {
   "cell_type": "code",
   "execution_count": 16,
   "metadata": {},
   "outputs": [
    {
     "name": "stdout",
     "output_type": "stream",
     "text": [
      "19/19 [==============================] - 0s 3ms/step\n"
     ]
    },
    {
     "data": {
      "text/plain": [
       "array([[6.0585990e-09, 3.8889929e-08, 1.0000000e+00],\n",
       "       [5.6523066e-09, 6.9247039e-07, 9.9999928e-01],\n",
       "       [1.0889101e-02, 9.6603239e-01, 2.3078546e-02],\n",
       "       ...,\n",
       "       [2.8006685e-14, 1.0813359e-08, 1.0000000e+00],\n",
       "       [1.2353816e-07, 2.0341283e-06, 9.9999785e-01],\n",
       "       [1.6692317e-04, 9.9975604e-01, 7.6937235e-05]], dtype=float32)"
      ]
     },
     "execution_count": 16,
     "metadata": {},
     "output_type": "execute_result"
    }
   ],
   "source": [
    "model.predict(X_test)"
   ]
  },
  {
   "cell_type": "code",
   "execution_count": 17,
   "metadata": {},
   "outputs": [
    {
     "name": "stdout",
     "output_type": "stream",
     "text": [
      "/bin/bash: /home/user/anaconda3/envs/tf/lib/libtinfo.so.6: no version information available (required by /bin/bash)\n",
      "/mnt/c/Users/KOJUNSUNG/Desktop/lab/git/TIL/DL/Project\n"
     ]
    }
   ],
   "source": [
    "!pwd"
   ]
  },
  {
   "cell_type": "code",
   "execution_count": 18,
   "metadata": {},
   "outputs": [
    {
     "data": {
      "text/plain": [
       "(600, 132)"
      ]
     },
     "execution_count": 18,
     "metadata": {},
     "output_type": "execute_result"
    }
   ],
   "source": [
    "X_test.shape"
   ]
  },
  {
   "cell_type": "code",
   "execution_count": 18,
   "metadata": {},
   "outputs": [
    {
     "name": "stdout",
     "output_type": "stream",
     "text": [
      "9/9 [==============================] - 0s 2ms/step\n"
     ]
    }
   ],
   "source": [
    "from tensorflow.keras.models import load_model\n",
    "\n",
    "p_model=load_model('Maded_model.h5')\n",
    "pred = p_model.predict(X_test)"
   ]
  },
  {
   "cell_type": "code",
   "execution_count": 20,
   "metadata": {},
   "outputs": [
    {
     "data": {
      "text/plain": [
       "array([9.990777e-01, 8.754170e-04, 4.696191e-05], dtype=float32)"
      ]
     },
     "execution_count": 20,
     "metadata": {},
     "output_type": "execute_result"
    }
   ],
   "source": [
    "pred[0]"
   ]
  },
  {
   "cell_type": "code",
   "execution_count": 29,
   "metadata": {},
   "outputs": [
    {
     "data": {
      "text/plain": [
       "1"
      ]
     },
     "execution_count": 29,
     "metadata": {},
     "output_type": "execute_result"
    }
   ],
   "source": [
    "# if you want to reverse one-hot encoding, use np.argmax()\n",
    "pred[3].argmax()"
   ]
  },
  {
   "cell_type": "code",
   "execution_count": 30,
   "metadata": {},
   "outputs": [
    {
     "name": "stdout",
     "output_type": "stream",
     "text": [
      "[0, 1, 2, 1, 0, 1, 1, 0, 2, 0, 0, 0, 2, 0, 2, 2, 0, 0, 0, 1, 1, 1, 0, 1, 2, 0, 2, 0, 2, 0, 0, 2, 2, 0, 0, 1, 2, 1, 2, 2, 1, 0, 2, 2, 2, 2, 2, 2, 0, 0, 0, 1, 1, 0, 1, 2, 1, 2, 2, 0, 2, 0, 0, 2, 2, 1, 2, 1, 1, 2, 0, 1, 1, 2, 2, 0, 2, 0, 2, 2, 0, 0, 1, 1, 1, 0, 2, 0, 1, 0, 0, 1, 2, 2, 1, 0, 0, 2, 0, 1, 2, 0, 1, 0, 0, 1, 2, 0, 1, 2, 0, 2, 2, 2, 1, 1, 2, 2, 2, 2, 2, 2, 2, 2, 1, 2, 1, 2, 2, 2, 0, 1, 0, 2, 0, 1, 2, 0, 2, 2, 0, 1, 2, 0, 1, 0, 1, 0, 1, 0, 1, 1, 0, 2, 0, 2, 0, 1, 1, 0, 2, 2, 2, 1, 2, 0, 0, 2, 0, 1, 2, 1, 2, 2, 1, 1, 0, 2, 0, 1, 2, 0, 1, 0, 2, 0, 0, 2, 1, 2, 1, 2, 2, 0, 2, 2, 0, 0, 1, 0, 0, 2, 2, 1, 0, 2, 2, 1, 2, 2, 1, 1, 0, 2, 1, 0, 0, 2, 0, 0, 1, 1, 1, 1, 0, 0, 2, 0, 0, 2, 2, 1, 2, 1, 2, 1, 2, 0, 1, 0, 0, 0, 2, 0, 1, 2, 2, 0, 2, 2, 0, 1, 1, 0, 0, 0, 1, 2, 2, 0, 1, 1, 2, 2, 2, 0, 1, 1, 1, 1, 2, 1, 1, 1, 2, 0, 2, 1, 1, 0, 1, 2, 2, 0, 0, 2, 1]\n"
     ]
    }
   ],
   "source": [
    "results = []\n",
    "for i in pred:\n",
    "    results.append(i.argmax())\n",
    "print(results)    "
   ]
  },
  {
   "cell_type": "code",
   "execution_count": 33,
   "metadata": {},
   "outputs": [
    {
     "data": {
      "text/plain": [
       "1"
      ]
     },
     "execution_count": 33,
     "metadata": {},
     "output_type": "execute_result"
    }
   ],
   "source": [
    "round(np.mean(results))"
   ]
  },
  {
   "cell_type": "code",
   "execution_count": 34,
   "metadata": {},
   "outputs": [],
   "source": [
    "map_dict = {0: \"left\", 1: \"middle\", 2: \"right\"}"
   ]
  },
  {
   "cell_type": "code",
   "execution_count": 36,
   "metadata": {},
   "outputs": [
    {
     "name": "stdout",
     "output_type": "stream",
     "text": [
      "['middle', 'left', 'right', 'left', 'middle', 'left', 'left', 'middle', 'right', 'middle', 'middle', 'middle', 'right', 'middle', 'right', 'right', 'middle', 'middle', 'middle', 'left', 'left', 'left', 'middle', 'left', 'right', 'middle', 'right', 'middle', 'right', 'middle', 'middle', 'right', 'right', 'middle', 'middle', 'left', 'right', 'left', 'right', 'right', 'left', 'middle', 'right', 'right', 'right', 'right', 'right', 'right', 'middle', 'middle', 'middle', 'left', 'left', 'middle', 'left', 'right', 'left', 'right', 'right', 'middle', 'right', 'middle', 'middle', 'right', 'right', 'left', 'right', 'left', 'left', 'right', 'middle', 'left', 'left', 'right', 'right', 'middle', 'right', 'middle', 'right', 'right', 'middle', 'middle', 'left', 'left', 'left', 'middle', 'right', 'middle', 'left', 'middle', 'middle', 'left', 'right', 'right', 'left', 'middle', 'middle', 'right', 'middle', 'left', 'right', 'middle', 'left', 'middle', 'middle', 'left', 'right', 'middle', 'left', 'right', 'middle', 'right', 'right', 'right', 'left', 'left', 'right', 'right', 'right', 'right', 'right', 'right', 'right', 'right', 'left', 'right', 'left', 'right', 'right', 'right', 'middle', 'left', 'middle', 'right', 'middle', 'left', 'right', 'middle', 'right', 'right', 'middle', 'left', 'right', 'middle', 'left', 'middle', 'left', 'middle', 'left', 'middle', 'left', 'left', 'middle', 'right', 'middle', 'right', 'middle', 'left', 'left', 'middle', 'right', 'right', 'right', 'left', 'right', 'middle', 'middle', 'right', 'middle', 'left', 'right', 'left', 'right', 'right', 'left', 'left', 'middle', 'right', 'middle', 'left', 'right', 'middle', 'left', 'middle', 'right', 'middle', 'middle', 'right', 'left', 'right', 'left', 'right', 'right', 'middle', 'right', 'right', 'middle', 'middle', 'left', 'middle', 'middle', 'right', 'right', 'left', 'middle', 'right', 'right', 'left', 'right', 'right', 'left', 'left', 'middle', 'right', 'left', 'middle', 'middle', 'right', 'middle', 'middle', 'left', 'left', 'left', 'left', 'middle', 'middle', 'right', 'middle', 'middle', 'right', 'right', 'left', 'right', 'left', 'right', 'left', 'right', 'middle', 'left', 'middle', 'middle', 'middle', 'right', 'middle', 'left', 'right', 'right', 'middle', 'right', 'right', 'middle', 'left', 'left', 'middle', 'middle', 'middle', 'left', 'right', 'right', 'middle', 'left', 'left', 'right', 'right', 'right', 'middle', 'left', 'left', 'left', 'left', 'right', 'left', 'left', 'left', 'right', 'middle', 'right', 'left', 'left', 'middle', 'left', 'right', 'right', 'middle', 'middle', 'right', 'left']\n"
     ]
    }
   ],
   "source": [
    "pred_name = []\n",
    "for i in results:\n",
    "    pred_name.append(map_dict[i])\n",
    "print(pred_name)"
   ]
  },
  {
   "cell_type": "code",
   "execution_count": null,
   "metadata": {},
   "outputs": [],
   "source": []
  },
  {
   "cell_type": "code",
   "execution_count": null,
   "metadata": {},
   "outputs": [],
   "source": []
  }
 ],
 "metadata": {
  "kernelspec": {
   "display_name": "tf",
   "language": "python",
   "name": "python3"
  },
  "language_info": {
   "codemirror_mode": {
    "name": "ipython",
    "version": 3
   },
   "file_extension": ".py",
   "mimetype": "text/x-python",
   "name": "python",
   "nbconvert_exporter": "python",
   "pygments_lexer": "ipython3",
   "version": "3.9.15"
  },
  "orig_nbformat": 4,
  "vscode": {
   "interpreter": {
    "hash": "71be762759ae1b1747e1cfc60efa181cfc93ac416fe5084a790ec64e97c902b4"
   }
  }
 },
 "nbformat": 4,
 "nbformat_minor": 2
}
