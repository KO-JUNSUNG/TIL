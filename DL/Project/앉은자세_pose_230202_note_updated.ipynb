{
 "cells": [
  {
   "cell_type": "code",
   "execution_count": 7,
   "id": "54e852e1",
   "metadata": {},
   "outputs": [],
   "source": [
    "import mediapipe as mp\n",
    "import cv2\n",
    "import csv\n",
    "import os\n",
    "import numpy as np "
   ]
  },
  {
   "cell_type": "code",
   "execution_count": 13,
   "id": "e2df541f",
   "metadata": {},
   "outputs": [
    {
     "name": "stderr",
     "output_type": "stream",
     "text": [
      "[ WARN:0@961.286] global cap_v4l.cpp:969 open VIDEOIO(V4L2): can't find camera device\n",
      "[ERROR:0@961.286] global obsensor_uvc_stream_channel.cpp:156 getStreamChannelGroup Camera index out of range\n"
     ]
    },
    {
     "data": {
      "text/plain": [
       "False"
      ]
     },
     "execution_count": 13,
     "metadata": {},
     "output_type": "execute_result"
    }
   ],
   "source": [
    "cam = cv2.VideoCapture(-1)\n",
    "cam.isOpened() # True"
   ]
  },
  {
   "cell_type": "code",
   "execution_count": null,
   "id": "fbc9ab7c",
   "metadata": {},
   "outputs": [],
   "source": []
  },
  {
   "cell_type": "code",
   "execution_count": 4,
   "id": "cc24fd69",
   "metadata": {},
   "outputs": [
    {
     "name": "stderr",
     "output_type": "stream",
     "text": [
      "[ WARN:0@249.664] global cap_v4l.cpp:982 open VIDEOIO(V4L2:/dev/video0): can't open camera by index\n",
      "[ERROR:0@249.664] global obsensor_uvc_stream_channel.cpp:156 getStreamChannelGroup Camera index out of range\n"
     ]
    }
   ],
   "source": [
    "import mediapipe as mp\n",
    "import cv2\n",
    "import csv\n",
    "import os\n",
    "import numpy as np \n",
    "\n",
    "#******START CAPTURING THE VIDEO , DETECTING THE LANDMARKS AND CONNECTING THEM.*******\n",
    "\n",
    "mp_drawing = mp.solutions.drawing_utils # drawing skeleton\n",
    "mp_holistic = mp.solutions.holistic # pose advanced version\n",
    "\n",
    "cap = cv2.VideoCapture(0) # webcam on\n",
    "\n",
    "with mp_holistic.Holistic(min_detection_confidence=0.5, min_tracking_confidence=0.5) as holistic: # call holistic method\n",
    "    \n",
    "    while cap.isOpened():\n",
    "        ret, frame = cap.read()\n",
    "\n",
    "        image = cv2.cvtColor(frame, cv2.COLOR_BGR2RGB)  # BGR -> RGB\n",
    "        image.flags.writeable = False  # 이미지 다시쓰기 막음. 읽기 전용.\n",
    "        results = holistic.process(image)      \n",
    "        image.flags.writeable = True   # 이미지 다시쓰기 허용.     \n",
    "        image = cv2.cvtColor(image, cv2.COLOR_RGB2BGR) # RGB -> BGR\n",
    "        # Render detections\n",
    "        mp_drawing.draw_landmarks(image, results.pose_landmarks, mp_holistic.POSE_CONNECTIONS, \n",
    "                                 mp_drawing.DrawingSpec(color=(245,117,66), thickness=2, circle_radius=4),\n",
    "                                 mp_drawing.DrawingSpec(color=(245,66,230), thickness=2, circle_radius=2)\n",
    "                                 )\n",
    "                        \n",
    "        cv2.imshow('이건 왜 찍는거지..?', image)\n",
    "\n",
    "        if cv2.waitKey(10) & 0xFF == ord('q'):\n",
    "            break\n",
    "\n",
    "cap.release()\n",
    "cv2.destroyAllWindows()\n",
    "\n",
    "#**********RECORDING THE CAPTURED COORDINATES IN THE CVS FILE.********   \n",
    "     \n",
    "num_coords = len(results.pose_landmarks.landmark) #landmark 수\n",
    "num_coords\n",
    "landmarks = ['class'] # class 라는 attribute 를 만들고 그 밑으로 x,y,z,v 를 저장\n",
    "for val in range(1, num_coords+1):\n",
    "    landmarks += ['x{}'.format(val), 'y{}'.format(val), 'z{}'.format(val), 'v{}'.format(val)]\n",
    "print(landmarks)\n",
    "with open('/Users/user/Desktop/landmarks_coordinates.csv', mode='w', newline='') as f: \n",
    "    csv_writer = csv.writer(f, delimiter=',', quotechar='\"', quoting=csv.QUOTE_MINIMAL)\n",
    "    csv_writer.writerow(landmarks)\n",
    "\n",
    "#******USER DEFINED FUNCTION FOR CALLING THE CAPTURE FUNCTION AGAIN AND AGAIN AND RECORDING THE DATA IN THE CSV.*******.\n",
    "\n",
    "def Capture(title):\n",
    "  \n",
    "  cap = cv2.VideoCapture(0)\n",
    "\n",
    "  with mp_holistic.Holistic(min_detection_confidence=0.5, min_tracking_confidence=0.5) as holistic:\n",
    "    \n",
    "    while cap.isOpened():\n",
    "        ret, frame = cap.read()\n",
    "        \n",
    "        image = cv2.cvtColor(frame, cv2.COLOR_BGR2RGB)\n",
    "        image.flags.writeable = False        \n",
    "        \n",
    "        results = holistic.process(image)\n",
    "\n",
    "        image.flags.writeable = True   \n",
    "        image = cv2.cvtColor(image, cv2.COLOR_RGB2BGR)\n",
    "  \n",
    "        mp_drawing.draw_landmarks(image, results.pose_landmarks, mp_holistic.POSE_CONNECTIONS, \n",
    "                                 mp_drawing.DrawingSpec(color=(245,117,66), thickness=2, circle_radius=4),\n",
    "                                 mp_drawing.DrawingSpec(color=(245,66,230), thickness=2, circle_radius=2)\n",
    "                                 )\n",
    "        try:\n",
    "            \n",
    "            pose = results.pose_landmarks.landmark # 랜드마크 기록\n",
    "            pose_row = list(np.array([[landmark.x, landmark.y, landmark.z, landmark.visibility] for landmark in pose]).flatten())\n",
    "           \n",
    "            row = pose_row\n",
    "\n",
    "            row.insert(0,title)\n",
    "            \n",
    "            with open('/Users/user/Desktop/landmarks_coordinates.csv', mode='a', newline='') as f: #파일 이어쓰기\n",
    "                csv_writer = csv.writer(f, delimiter=',', quotechar='\"', quoting=csv.QUOTE_MINIMAL)\n",
    "                csv_writer.writerow(row) \n",
    "            \n",
    "        except:\n",
    "            pass\n",
    "                        \n",
    "        cv2.imshow('자세측정. 차례대로 가운데, 왼쪽, 오른쪽', image)\n",
    "\n",
    "        if cv2.waitKey(10) & 0xFF == ord('q'):\n",
    "            break\n",
    "\n",
    "  cap.release()\n",
    "  cv2.destroyAllWindows()\n",
    "  return\n",
    "\n",
    "#******CAPTURE AS PER YOUR REQUIREMENT AND PROVIDE THE POSING DATA FOR EACH POSE *******.\n",
    "\n",
    "Capture(title=\"가운데\")\n",
    "Capture(title=\"왼쪽\")\n",
    "Capture(title=\"오른쪽\")\n",
    "\n"
   ]
  },
  {
   "cell_type": "code",
   "execution_count": null,
   "id": "c42e8507",
   "metadata": {},
   "outputs": [],
   "source": []
  }
 ],
 "metadata": {
  "kernelspec": {
   "display_name": "tf",
   "language": "python",
   "name": "python3"
  },
  "language_info": {
   "codemirror_mode": {
    "name": "ipython",
    "version": 3
   },
   "file_extension": ".py",
   "mimetype": "text/x-python",
   "name": "python",
   "nbconvert_exporter": "python",
   "pygments_lexer": "ipython3",
   "version": "3.9.15"
  },
  "vscode": {
   "interpreter": {
    "hash": "71be762759ae1b1747e1cfc60efa181cfc93ac416fe5084a790ec64e97c902b4"
   }
  }
 },
 "nbformat": 4,
 "nbformat_minor": 5
}
