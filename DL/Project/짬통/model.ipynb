{
 "cells": [
  {
   "cell_type": "code",
   "execution_count": 2,
   "metadata": {},
   "outputs": [],
   "source": [
    "## import\n",
    "import tensorflow as tf\n",
    "import numpy as np\n",
    "import pandas as pd\n",
    "from sklearn.model_selection import train_test_split\n",
    "from sklearn.metrics import accuracy_score # Accuracy metrics "
   ]
  },
  {
   "cell_type": "code",
   "execution_count": 18,
   "metadata": {},
   "outputs": [],
   "source": [
    "# original data\n",
    "data = pd.read_csv(\"/mnt/c/users/KOJUNSUNG/Downloads/x_train.csv\")\n",
    "target = pd.read_csv(\"/mnt/c/users/KOJUNSUNG/Downloads/y_train.csv\")\n",
    "\n",
    "# rebuild\n",
    "data, target = data.drop(labels=\"Unnamed: 0\",axis=1), target.drop(labels=\"Unnamed: 0\",axis=1)\n",
    "\n",
    "dataset = pd.concat((data, target), axis=1)\n"
   ]
  },
  {
   "cell_type": "code",
   "execution_count": 17,
   "metadata": {},
   "outputs": [
    {
     "data": {
      "text/html": [
       "<div>\n",
       "<style scoped>\n",
       "    .dataframe tbody tr th:only-of-type {\n",
       "        vertical-align: middle;\n",
       "    }\n",
       "\n",
       "    .dataframe tbody tr th {\n",
       "        vertical-align: top;\n",
       "    }\n",
       "\n",
       "    .dataframe thead th {\n",
       "        text-align: right;\n",
       "    }\n",
       "</style>\n",
       "<table border=\"1\" class=\"dataframe\">\n",
       "  <thead>\n",
       "    <tr style=\"text-align: right;\">\n",
       "      <th></th>\n",
       "      <th>x1</th>\n",
       "      <th>y1</th>\n",
       "      <th>z1</th>\n",
       "      <th>v1</th>\n",
       "      <th>x2</th>\n",
       "      <th>y2</th>\n",
       "      <th>z2</th>\n",
       "      <th>v2</th>\n",
       "      <th>x3</th>\n",
       "      <th>y3</th>\n",
       "      <th>...</th>\n",
       "      <th>v31</th>\n",
       "      <th>x32</th>\n",
       "      <th>y32</th>\n",
       "      <th>z32</th>\n",
       "      <th>v32</th>\n",
       "      <th>x33</th>\n",
       "      <th>y33</th>\n",
       "      <th>z33</th>\n",
       "      <th>v33</th>\n",
       "      <th>Label</th>\n",
       "    </tr>\n",
       "  </thead>\n",
       "  <tbody>\n",
       "    <tr>\n",
       "      <th>0</th>\n",
       "      <td>0.579180</td>\n",
       "      <td>0.494718</td>\n",
       "      <td>-1.260400</td>\n",
       "      <td>0.999884</td>\n",
       "      <td>0.598910</td>\n",
       "      <td>0.437344</td>\n",
       "      <td>-1.202794</td>\n",
       "      <td>0.999647</td>\n",
       "      <td>0.615433</td>\n",
       "      <td>0.440355</td>\n",
       "      <td>...</td>\n",
       "      <td>5.854897e-07</td>\n",
       "      <td>0.738593</td>\n",
       "      <td>2.877994</td>\n",
       "      <td>0.449241</td>\n",
       "      <td>0.000004</td>\n",
       "      <td>0.548525</td>\n",
       "      <td>2.886744</td>\n",
       "      <td>0.250947</td>\n",
       "      <td>0.000006</td>\n",
       "      <td>0</td>\n",
       "    </tr>\n",
       "    <tr>\n",
       "      <th>1</th>\n",
       "      <td>0.579247</td>\n",
       "      <td>0.492518</td>\n",
       "      <td>-1.121348</td>\n",
       "      <td>0.999892</td>\n",
       "      <td>0.599189</td>\n",
       "      <td>0.435712</td>\n",
       "      <td>-1.065062</td>\n",
       "      <td>0.999672</td>\n",
       "      <td>0.615862</td>\n",
       "      <td>0.438817</td>\n",
       "      <td>...</td>\n",
       "      <td>5.664001e-07</td>\n",
       "      <td>0.734784</td>\n",
       "      <td>2.890085</td>\n",
       "      <td>0.500137</td>\n",
       "      <td>0.000004</td>\n",
       "      <td>0.547794</td>\n",
       "      <td>2.901754</td>\n",
       "      <td>0.407540</td>\n",
       "      <td>0.000006</td>\n",
       "      <td>0</td>\n",
       "    </tr>\n",
       "    <tr>\n",
       "      <th>2</th>\n",
       "      <td>0.579256</td>\n",
       "      <td>0.492384</td>\n",
       "      <td>-1.103188</td>\n",
       "      <td>0.999899</td>\n",
       "      <td>0.599271</td>\n",
       "      <td>0.435453</td>\n",
       "      <td>-1.047567</td>\n",
       "      <td>0.999691</td>\n",
       "      <td>0.616001</td>\n",
       "      <td>0.438468</td>\n",
       "      <td>...</td>\n",
       "      <td>5.734016e-07</td>\n",
       "      <td>0.732842</td>\n",
       "      <td>2.901172</td>\n",
       "      <td>0.495691</td>\n",
       "      <td>0.000004</td>\n",
       "      <td>0.547777</td>\n",
       "      <td>2.913632</td>\n",
       "      <td>0.506053</td>\n",
       "      <td>0.000006</td>\n",
       "      <td>0</td>\n",
       "    </tr>\n",
       "    <tr>\n",
       "      <th>3</th>\n",
       "      <td>0.579180</td>\n",
       "      <td>0.491912</td>\n",
       "      <td>-1.137667</td>\n",
       "      <td>0.999905</td>\n",
       "      <td>0.599163</td>\n",
       "      <td>0.434376</td>\n",
       "      <td>-1.083351</td>\n",
       "      <td>0.999710</td>\n",
       "      <td>0.615937</td>\n",
       "      <td>0.436995</td>\n",
       "      <td>...</td>\n",
       "      <td>5.510733e-07</td>\n",
       "      <td>0.724409</td>\n",
       "      <td>2.922381</td>\n",
       "      <td>0.584140</td>\n",
       "      <td>0.000004</td>\n",
       "      <td>0.535767</td>\n",
       "      <td>2.933913</td>\n",
       "      <td>0.466976</td>\n",
       "      <td>0.000005</td>\n",
       "      <td>0</td>\n",
       "    </tr>\n",
       "    <tr>\n",
       "      <th>4</th>\n",
       "      <td>0.579315</td>\n",
       "      <td>0.492281</td>\n",
       "      <td>-1.154184</td>\n",
       "      <td>0.999911</td>\n",
       "      <td>0.599251</td>\n",
       "      <td>0.434340</td>\n",
       "      <td>-1.100381</td>\n",
       "      <td>0.999729</td>\n",
       "      <td>0.616049</td>\n",
       "      <td>0.436875</td>\n",
       "      <td>...</td>\n",
       "      <td>5.601879e-07</td>\n",
       "      <td>0.725853</td>\n",
       "      <td>2.953179</td>\n",
       "      <td>0.608636</td>\n",
       "      <td>0.000004</td>\n",
       "      <td>0.538587</td>\n",
       "      <td>2.964739</td>\n",
       "      <td>0.654591</td>\n",
       "      <td>0.000005</td>\n",
       "      <td>0</td>\n",
       "    </tr>\n",
       "  </tbody>\n",
       "</table>\n",
       "<p>5 rows × 133 columns</p>\n",
       "</div>"
      ],
      "text/plain": [
       "         x1        y1        z1        v1        x2        y2        z2  \\\n",
       "0  0.579180  0.494718 -1.260400  0.999884  0.598910  0.437344 -1.202794   \n",
       "1  0.579247  0.492518 -1.121348  0.999892  0.599189  0.435712 -1.065062   \n",
       "2  0.579256  0.492384 -1.103188  0.999899  0.599271  0.435453 -1.047567   \n",
       "3  0.579180  0.491912 -1.137667  0.999905  0.599163  0.434376 -1.083351   \n",
       "4  0.579315  0.492281 -1.154184  0.999911  0.599251  0.434340 -1.100381   \n",
       "\n",
       "         v2        x3        y3  ...           v31       x32       y32  \\\n",
       "0  0.999647  0.615433  0.440355  ...  5.854897e-07  0.738593  2.877994   \n",
       "1  0.999672  0.615862  0.438817  ...  5.664001e-07  0.734784  2.890085   \n",
       "2  0.999691  0.616001  0.438468  ...  5.734016e-07  0.732842  2.901172   \n",
       "3  0.999710  0.615937  0.436995  ...  5.510733e-07  0.724409  2.922381   \n",
       "4  0.999729  0.616049  0.436875  ...  5.601879e-07  0.725853  2.953179   \n",
       "\n",
       "        z32       v32       x33       y33       z33       v33  Label  \n",
       "0  0.449241  0.000004  0.548525  2.886744  0.250947  0.000006      0  \n",
       "1  0.500137  0.000004  0.547794  2.901754  0.407540  0.000006      0  \n",
       "2  0.495691  0.000004  0.547777  2.913632  0.506053  0.000006      0  \n",
       "3  0.584140  0.000004  0.535767  2.933913  0.466976  0.000005      0  \n",
       "4  0.608636  0.000004  0.538587  2.964739  0.654591  0.000005      0  \n",
       "\n",
       "[5 rows x 133 columns]"
      ]
     },
     "execution_count": 17,
     "metadata": {},
     "output_type": "execute_result"
    }
   ],
   "source": [
    "dataset.head()"
   ]
  },
  {
   "cell_type": "code",
   "execution_count": 19,
   "metadata": {},
   "outputs": [],
   "source": [
    "X_train, X_test, y_train, y_test = train_test_split(data, target, test_size=0.1, shuffle=True, stratify=target, random_state= 1)"
   ]
  },
  {
   "cell_type": "code",
   "execution_count": 20,
   "metadata": {},
   "outputs": [
    {
     "data": {
      "text/html": [
       "<div>\n",
       "<style scoped>\n",
       "    .dataframe tbody tr th:only-of-type {\n",
       "        vertical-align: middle;\n",
       "    }\n",
       "\n",
       "    .dataframe tbody tr th {\n",
       "        vertical-align: top;\n",
       "    }\n",
       "\n",
       "    .dataframe thead th {\n",
       "        text-align: right;\n",
       "    }\n",
       "</style>\n",
       "<table border=\"1\" class=\"dataframe\">\n",
       "  <thead>\n",
       "    <tr style=\"text-align: right;\">\n",
       "      <th></th>\n",
       "      <th>x1</th>\n",
       "      <th>y1</th>\n",
       "      <th>z1</th>\n",
       "      <th>v1</th>\n",
       "      <th>x2</th>\n",
       "      <th>y2</th>\n",
       "      <th>z2</th>\n",
       "      <th>v2</th>\n",
       "      <th>x3</th>\n",
       "      <th>y3</th>\n",
       "      <th>...</th>\n",
       "      <th>z31</th>\n",
       "      <th>v31</th>\n",
       "      <th>x32</th>\n",
       "      <th>y32</th>\n",
       "      <th>z32</th>\n",
       "      <th>v32</th>\n",
       "      <th>x33</th>\n",
       "      <th>y33</th>\n",
       "      <th>z33</th>\n",
       "      <th>v33</th>\n",
       "    </tr>\n",
       "  </thead>\n",
       "  <tbody>\n",
       "    <tr>\n",
       "      <th>2508</th>\n",
       "      <td>0.230066</td>\n",
       "      <td>0.618016</td>\n",
       "      <td>-0.735038</td>\n",
       "      <td>0.998940</td>\n",
       "      <td>0.241147</td>\n",
       "      <td>0.547457</td>\n",
       "      <td>-0.789467</td>\n",
       "      <td>0.997872</td>\n",
       "      <td>0.257818</td>\n",
       "      <td>0.535399</td>\n",
       "      <td>...</td>\n",
       "      <td>1.390702</td>\n",
       "      <td>0.000007</td>\n",
       "      <td>0.607469</td>\n",
       "      <td>3.211645</td>\n",
       "      <td>0.265691</td>\n",
       "      <td>0.000011</td>\n",
       "      <td>0.399774</td>\n",
       "      <td>3.224628</td>\n",
       "      <td>0.766161</td>\n",
       "      <td>0.000010</td>\n",
       "    </tr>\n",
       "    <tr>\n",
       "      <th>1584</th>\n",
       "      <td>0.814915</td>\n",
       "      <td>0.730136</td>\n",
       "      <td>-2.410146</td>\n",
       "      <td>0.996664</td>\n",
       "      <td>0.856911</td>\n",
       "      <td>0.667388</td>\n",
       "      <td>-2.395235</td>\n",
       "      <td>0.991960</td>\n",
       "      <td>0.877691</td>\n",
       "      <td>0.674619</td>\n",
       "      <td>...</td>\n",
       "      <td>1.479466</td>\n",
       "      <td>0.000371</td>\n",
       "      <td>0.715626</td>\n",
       "      <td>3.300595</td>\n",
       "      <td>0.630935</td>\n",
       "      <td>0.000297</td>\n",
       "      <td>0.547767</td>\n",
       "      <td>3.262190</td>\n",
       "      <td>0.654928</td>\n",
       "      <td>0.000622</td>\n",
       "    </tr>\n",
       "    <tr>\n",
       "      <th>1536</th>\n",
       "      <td>0.594417</td>\n",
       "      <td>0.641389</td>\n",
       "      <td>-1.139237</td>\n",
       "      <td>0.995970</td>\n",
       "      <td>0.609705</td>\n",
       "      <td>0.562038</td>\n",
       "      <td>-1.124841</td>\n",
       "      <td>0.991134</td>\n",
       "      <td>0.628352</td>\n",
       "      <td>0.551233</td>\n",
       "      <td>...</td>\n",
       "      <td>0.712264</td>\n",
       "      <td>0.000064</td>\n",
       "      <td>0.784708</td>\n",
       "      <td>3.165692</td>\n",
       "      <td>-0.439738</td>\n",
       "      <td>0.000112</td>\n",
       "      <td>0.619994</td>\n",
       "      <td>3.166359</td>\n",
       "      <td>-0.017507</td>\n",
       "      <td>0.000159</td>\n",
       "    </tr>\n",
       "    <tr>\n",
       "      <th>2229</th>\n",
       "      <td>0.297207</td>\n",
       "      <td>0.646466</td>\n",
       "      <td>-0.942873</td>\n",
       "      <td>0.998845</td>\n",
       "      <td>0.323170</td>\n",
       "      <td>0.578674</td>\n",
       "      <td>-0.957754</td>\n",
       "      <td>0.997301</td>\n",
       "      <td>0.345908</td>\n",
       "      <td>0.578030</td>\n",
       "      <td>...</td>\n",
       "      <td>0.929148</td>\n",
       "      <td>0.000009</td>\n",
       "      <td>0.532808</td>\n",
       "      <td>3.242165</td>\n",
       "      <td>-0.030798</td>\n",
       "      <td>0.000017</td>\n",
       "      <td>0.358145</td>\n",
       "      <td>3.243011</td>\n",
       "      <td>0.241620</td>\n",
       "      <td>0.000017</td>\n",
       "    </tr>\n",
       "    <tr>\n",
       "      <th>842</th>\n",
       "      <td>0.591366</td>\n",
       "      <td>0.481023</td>\n",
       "      <td>-1.293882</td>\n",
       "      <td>0.999616</td>\n",
       "      <td>0.617069</td>\n",
       "      <td>0.409089</td>\n",
       "      <td>-1.238371</td>\n",
       "      <td>0.998998</td>\n",
       "      <td>0.637028</td>\n",
       "      <td>0.409427</td>\n",
       "      <td>...</td>\n",
       "      <td>0.404466</td>\n",
       "      <td>0.000052</td>\n",
       "      <td>0.704610</td>\n",
       "      <td>3.046036</td>\n",
       "      <td>-0.283680</td>\n",
       "      <td>0.000132</td>\n",
       "      <td>0.520434</td>\n",
       "      <td>3.033941</td>\n",
       "      <td>-0.365071</td>\n",
       "      <td>0.000222</td>\n",
       "    </tr>\n",
       "  </tbody>\n",
       "</table>\n",
       "<p>5 rows × 132 columns</p>\n",
       "</div>"
      ],
      "text/plain": [
       "            x1        y1        z1        v1        x2        y2        z2  \\\n",
       "2508  0.230066  0.618016 -0.735038  0.998940  0.241147  0.547457 -0.789467   \n",
       "1584  0.814915  0.730136 -2.410146  0.996664  0.856911  0.667388 -2.395235   \n",
       "1536  0.594417  0.641389 -1.139237  0.995970  0.609705  0.562038 -1.124841   \n",
       "2229  0.297207  0.646466 -0.942873  0.998845  0.323170  0.578674 -0.957754   \n",
       "842   0.591366  0.481023 -1.293882  0.999616  0.617069  0.409089 -1.238371   \n",
       "\n",
       "            v2        x3        y3  ...       z31       v31       x32  \\\n",
       "2508  0.997872  0.257818  0.535399  ...  1.390702  0.000007  0.607469   \n",
       "1584  0.991960  0.877691  0.674619  ...  1.479466  0.000371  0.715626   \n",
       "1536  0.991134  0.628352  0.551233  ...  0.712264  0.000064  0.784708   \n",
       "2229  0.997301  0.345908  0.578030  ...  0.929148  0.000009  0.532808   \n",
       "842   0.998998  0.637028  0.409427  ...  0.404466  0.000052  0.704610   \n",
       "\n",
       "           y32       z32       v32       x33       y33       z33       v33  \n",
       "2508  3.211645  0.265691  0.000011  0.399774  3.224628  0.766161  0.000010  \n",
       "1584  3.300595  0.630935  0.000297  0.547767  3.262190  0.654928  0.000622  \n",
       "1536  3.165692 -0.439738  0.000112  0.619994  3.166359 -0.017507  0.000159  \n",
       "2229  3.242165 -0.030798  0.000017  0.358145  3.243011  0.241620  0.000017  \n",
       "842   3.046036 -0.283680  0.000132  0.520434  3.033941 -0.365071  0.000222  \n",
       "\n",
       "[5 rows x 132 columns]"
      ]
     },
     "execution_count": 20,
     "metadata": {},
     "output_type": "execute_result"
    }
   ],
   "source": [
    "X_train.head()"
   ]
  },
  {
   "cell_type": "code",
   "execution_count": 21,
   "metadata": {},
   "outputs": [
    {
     "data": {
      "text/html": [
       "<div>\n",
       "<style scoped>\n",
       "    .dataframe tbody tr th:only-of-type {\n",
       "        vertical-align: middle;\n",
       "    }\n",
       "\n",
       "    .dataframe tbody tr th {\n",
       "        vertical-align: top;\n",
       "    }\n",
       "\n",
       "    .dataframe thead th {\n",
       "        text-align: right;\n",
       "    }\n",
       "</style>\n",
       "<table border=\"1\" class=\"dataframe\">\n",
       "  <thead>\n",
       "    <tr style=\"text-align: right;\">\n",
       "      <th></th>\n",
       "      <th>Label</th>\n",
       "    </tr>\n",
       "  </thead>\n",
       "  <tbody>\n",
       "    <tr>\n",
       "      <th>2508</th>\n",
       "      <td>2</td>\n",
       "    </tr>\n",
       "    <tr>\n",
       "      <th>1584</th>\n",
       "      <td>1</td>\n",
       "    </tr>\n",
       "    <tr>\n",
       "      <th>1536</th>\n",
       "      <td>1</td>\n",
       "    </tr>\n",
       "    <tr>\n",
       "      <th>2229</th>\n",
       "      <td>2</td>\n",
       "    </tr>\n",
       "    <tr>\n",
       "      <th>842</th>\n",
       "      <td>0</td>\n",
       "    </tr>\n",
       "  </tbody>\n",
       "</table>\n",
       "</div>"
      ],
      "text/plain": [
       "      Label\n",
       "2508      2\n",
       "1584      1\n",
       "1536      1\n",
       "2229      2\n",
       "842       0"
      ]
     },
     "execution_count": 21,
     "metadata": {},
     "output_type": "execute_result"
    }
   ],
   "source": [
    "y_train.head()"
   ]
  },
  {
   "cell_type": "code",
   "execution_count": 24,
   "metadata": {},
   "outputs": [
    {
     "name": "stdout",
     "output_type": "stream",
     "text": [
      "(2574, 132) (2574, 1)\n"
     ]
    }
   ],
   "source": [
    "print(X_train.shape, y_train.shape)"
   ]
  },
  {
   "cell_type": "code",
   "execution_count": 31,
   "metadata": {},
   "outputs": [],
   "source": [
    "Y_train = tf.keras.utils.to_categorical(y_train)# one hot encoding\n",
    "Y_test = tf.keras.utils.to_categorical(y_test)"
   ]
  },
  {
   "cell_type": "code",
   "execution_count": 33,
   "metadata": {},
   "outputs": [
    {
     "data": {
      "text/plain": [
       "array([0., 0., 1.], dtype=float32)"
      ]
     },
     "execution_count": 33,
     "metadata": {},
     "output_type": "execute_result"
    }
   ],
   "source": [
    "Y_train[0]"
   ]
  },
  {
   "cell_type": "code",
   "execution_count": 34,
   "metadata": {},
   "outputs": [
    {
     "data": {
      "text/plain": [
       "(2574, 3)"
      ]
     },
     "execution_count": 34,
     "metadata": {},
     "output_type": "execute_result"
    }
   ],
   "source": [
    "Y_train.shape"
   ]
  },
  {
   "cell_type": "code",
   "execution_count": 37,
   "metadata": {},
   "outputs": [],
   "source": [
    "# model \n",
    "model = tf.keras.Sequential()\n",
    "model.add(tf.keras.layers.Dense(128, activation='relu', input_shape=(132,)))\n",
    "model.add(tf.keras.layers.Dropout(0.5)) # add dropout layer\n",
    "model.add(tf.keras.layers.Dense(64, activation='relu'))\n",
    "model.add(tf.keras.layers.Dense(3, activation='softmax')) # 0=forward, 1=left, 2=right\n",
    "# for multiclassification, use softmax func.\n",
    "# There is no CNN layer because there is no image input. \n",
    "# image input -> csv data -> modeling \n",
    "\n",
    "# Compile \n",
    "\n",
    "model.compile(optimizer='adam', loss='categorical_crossentropy', metrics=['accuracy'])\n",
    "# if you don't one-hot encoding, then use sparse_categorical_crossentropy. "
   ]
  },
  {
   "cell_type": "code",
   "execution_count": 38,
   "metadata": {},
   "outputs": [
    {
     "name": "stdout",
     "output_type": "stream",
     "text": [
      "Epoch 1/10\n",
      "81/81 [==============================] - 1s 9ms/step - loss: 0.5668 - accuracy: 0.7805\n",
      "Epoch 2/10\n",
      "81/81 [==============================] - 0s 6ms/step - loss: 0.1560 - accuracy: 0.9619\n",
      "Epoch 3/10\n",
      "81/81 [==============================] - 1s 6ms/step - loss: 0.1052 - accuracy: 0.9674\n",
      "Epoch 4/10\n",
      "81/81 [==============================] - 1s 6ms/step - loss: 0.0721 - accuracy: 0.9790\n",
      "Epoch 5/10\n",
      "81/81 [==============================] - 1s 7ms/step - loss: 0.0482 - accuracy: 0.9872\n",
      "Epoch 6/10\n",
      "81/81 [==============================] - 1s 7ms/step - loss: 0.0565 - accuracy: 0.9848\n",
      "Epoch 7/10\n",
      "81/81 [==============================] - 1s 7ms/step - loss: 0.0329 - accuracy: 0.9926\n",
      "Epoch 8/10\n",
      "81/81 [==============================] - 1s 7ms/step - loss: 0.0298 - accuracy: 0.9930\n",
      "Epoch 9/10\n",
      "81/81 [==============================] - 1s 7ms/step - loss: 0.0254 - accuracy: 0.9934\n",
      "Epoch 10/10\n",
      "81/81 [==============================] - 1s 7ms/step - loss: 0.0243 - accuracy: 0.9930\n"
     ]
    },
    {
     "data": {
      "text/plain": [
       "<keras.callbacks.History at 0x7f4221bf7370>"
      ]
     },
     "execution_count": 38,
     "metadata": {},
     "output_type": "execute_result"
    }
   ],
   "source": [
    "# Train the model\n",
    "model.fit(X_train, Y_train, epochs=10)"
   ]
  },
  {
   "cell_type": "code",
   "execution_count": 39,
   "metadata": {},
   "outputs": [
    {
     "name": "stdout",
     "output_type": "stream",
     "text": [
      "9/9 [==============================] - 0s 9ms/step - loss: 0.0213 - accuracy: 0.9930\n",
      "accuracy:  0.99303138256073\n"
     ]
    }
   ],
   "source": [
    "# evaluate\n",
    "results = model.evaluate(X_test, Y_test)\n",
    "print('accuracy: ', results[1])"
   ]
  },
  {
   "cell_type": "code",
   "execution_count": 40,
   "metadata": {},
   "outputs": [],
   "source": [
    "model.save('Maded_model.h5') #save"
   ]
  },
  {
   "cell_type": "code",
   "execution_count": 41,
   "metadata": {},
   "outputs": [
    {
     "name": "stdout",
     "output_type": "stream",
     "text": [
      "/mnt/c/Users/KOJUNSUNG/Desktop/lab/git/TIL/DL/Project\n"
     ]
    }
   ],
   "source": [
    "!pwd"
   ]
  },
  {
   "cell_type": "code",
   "execution_count": null,
   "metadata": {},
   "outputs": [],
   "source": []
  }
 ],
 "metadata": {
  "kernelspec": {
   "display_name": "tf",
   "language": "python",
   "name": "python3"
  },
  "language_info": {
   "codemirror_mode": {
    "name": "ipython",
    "version": 3
   },
   "file_extension": ".py",
   "mimetype": "text/x-python",
   "name": "python",
   "nbconvert_exporter": "python",
   "pygments_lexer": "ipython3",
   "version": "3.9.15"
  },
  "orig_nbformat": 4,
  "vscode": {
   "interpreter": {
    "hash": "71be762759ae1b1747e1cfc60efa181cfc93ac416fe5084a790ec64e97c902b4"
   }
  }
 },
 "nbformat": 4,
 "nbformat_minor": 2
}
