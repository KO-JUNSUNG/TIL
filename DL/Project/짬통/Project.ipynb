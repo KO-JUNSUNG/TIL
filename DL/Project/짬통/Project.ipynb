{
 "cells": [
  {
   "cell_type": "code",
   "execution_count": 24,
   "metadata": {},
   "outputs": [],
   "source": [
    "## import\n",
    "import tensorflow as tf\n",
    "import numpy as np\n",
    "import pandas as pd\n",
    "from sklearn.model_selection import train_test_split\n",
    "from sklearn.metrics import accuracy_score # Accuracy metrics "
   ]
  },
  {
   "cell_type": "code",
   "execution_count": 12,
   "metadata": {},
   "outputs": [],
   "source": [
    "# original data\n",
    "data = pd.read_csv(\"/mnt/c/users/KOJUNSUNG/Downloads/x_train.csv\")\n",
    "target = pd.read_csv(\"/mnt/c/users/KOJUNSUNG/Downloads/y_train.csv\")\n",
    "\n",
    "# rebuild\n",
    "data, target = data.drop(labels=\"Unnamed: 0\",axis=1), target\n",
    "dataset = pd.concat((data, target), axis=1)\n"
   ]
  },
  {
   "cell_type": "code",
   "execution_count": 4,
   "metadata": {},
   "outputs": [
    {
     "data": {
      "text/plain": [
       "(2861, 132)"
      ]
     },
     "execution_count": 4,
     "metadata": {},
     "output_type": "execute_result"
    }
   ],
   "source": [
    "data.shape"
   ]
  },
  {
   "cell_type": "code",
   "execution_count": 10,
   "metadata": {},
   "outputs": [
    {
     "data": {
      "text/html": [
       "<div>\n",
       "<style scoped>\n",
       "    .dataframe tbody tr th:only-of-type {\n",
       "        vertical-align: middle;\n",
       "    }\n",
       "\n",
       "    .dataframe tbody tr th {\n",
       "        vertical-align: top;\n",
       "    }\n",
       "\n",
       "    .dataframe thead th {\n",
       "        text-align: right;\n",
       "    }\n",
       "</style>\n",
       "<table border=\"1\" class=\"dataframe\">\n",
       "  <thead>\n",
       "    <tr style=\"text-align: right;\">\n",
       "      <th></th>\n",
       "      <th>x1</th>\n",
       "      <th>y1</th>\n",
       "      <th>z1</th>\n",
       "      <th>v1</th>\n",
       "      <th>x2</th>\n",
       "      <th>y2</th>\n",
       "      <th>z2</th>\n",
       "      <th>v2</th>\n",
       "      <th>x3</th>\n",
       "      <th>y3</th>\n",
       "      <th>...</th>\n",
       "      <th>z31</th>\n",
       "      <th>v31</th>\n",
       "      <th>x32</th>\n",
       "      <th>y32</th>\n",
       "      <th>z32</th>\n",
       "      <th>v32</th>\n",
       "      <th>x33</th>\n",
       "      <th>y33</th>\n",
       "      <th>z33</th>\n",
       "      <th>v33</th>\n",
       "    </tr>\n",
       "  </thead>\n",
       "  <tbody>\n",
       "    <tr>\n",
       "      <th>0</th>\n",
       "      <td>0.579180</td>\n",
       "      <td>0.494718</td>\n",
       "      <td>-1.260400</td>\n",
       "      <td>0.999884</td>\n",
       "      <td>0.598910</td>\n",
       "      <td>0.437344</td>\n",
       "      <td>-1.202794</td>\n",
       "      <td>0.999647</td>\n",
       "      <td>0.615433</td>\n",
       "      <td>0.440355</td>\n",
       "      <td>...</td>\n",
       "      <td>0.940863</td>\n",
       "      <td>5.854897e-07</td>\n",
       "      <td>0.738593</td>\n",
       "      <td>2.877994</td>\n",
       "      <td>0.449241</td>\n",
       "      <td>0.000004</td>\n",
       "      <td>0.548525</td>\n",
       "      <td>2.886744</td>\n",
       "      <td>0.250947</td>\n",
       "      <td>0.000006</td>\n",
       "    </tr>\n",
       "    <tr>\n",
       "      <th>1</th>\n",
       "      <td>0.579247</td>\n",
       "      <td>0.492518</td>\n",
       "      <td>-1.121348</td>\n",
       "      <td>0.999892</td>\n",
       "      <td>0.599189</td>\n",
       "      <td>0.435712</td>\n",
       "      <td>-1.065062</td>\n",
       "      <td>0.999672</td>\n",
       "      <td>0.615862</td>\n",
       "      <td>0.438817</td>\n",
       "      <td>...</td>\n",
       "      <td>1.082689</td>\n",
       "      <td>5.664001e-07</td>\n",
       "      <td>0.734784</td>\n",
       "      <td>2.890085</td>\n",
       "      <td>0.500137</td>\n",
       "      <td>0.000004</td>\n",
       "      <td>0.547794</td>\n",
       "      <td>2.901754</td>\n",
       "      <td>0.407540</td>\n",
       "      <td>0.000006</td>\n",
       "    </tr>\n",
       "    <tr>\n",
       "      <th>2</th>\n",
       "      <td>0.579256</td>\n",
       "      <td>0.492384</td>\n",
       "      <td>-1.103188</td>\n",
       "      <td>0.999899</td>\n",
       "      <td>0.599271</td>\n",
       "      <td>0.435453</td>\n",
       "      <td>-1.047567</td>\n",
       "      <td>0.999691</td>\n",
       "      <td>0.616001</td>\n",
       "      <td>0.438468</td>\n",
       "      <td>...</td>\n",
       "      <td>1.176795</td>\n",
       "      <td>5.734016e-07</td>\n",
       "      <td>0.732842</td>\n",
       "      <td>2.901172</td>\n",
       "      <td>0.495691</td>\n",
       "      <td>0.000004</td>\n",
       "      <td>0.547777</td>\n",
       "      <td>2.913632</td>\n",
       "      <td>0.506053</td>\n",
       "      <td>0.000006</td>\n",
       "    </tr>\n",
       "    <tr>\n",
       "      <th>3</th>\n",
       "      <td>0.579180</td>\n",
       "      <td>0.491912</td>\n",
       "      <td>-1.137667</td>\n",
       "      <td>0.999905</td>\n",
       "      <td>0.599163</td>\n",
       "      <td>0.434376</td>\n",
       "      <td>-1.083351</td>\n",
       "      <td>0.999710</td>\n",
       "      <td>0.615937</td>\n",
       "      <td>0.436995</td>\n",
       "      <td>...</td>\n",
       "      <td>1.153705</td>\n",
       "      <td>5.510733e-07</td>\n",
       "      <td>0.724409</td>\n",
       "      <td>2.922381</td>\n",
       "      <td>0.584140</td>\n",
       "      <td>0.000004</td>\n",
       "      <td>0.535767</td>\n",
       "      <td>2.933913</td>\n",
       "      <td>0.466976</td>\n",
       "      <td>0.000005</td>\n",
       "    </tr>\n",
       "    <tr>\n",
       "      <th>4</th>\n",
       "      <td>0.579315</td>\n",
       "      <td>0.492281</td>\n",
       "      <td>-1.154184</td>\n",
       "      <td>0.999911</td>\n",
       "      <td>0.599251</td>\n",
       "      <td>0.434340</td>\n",
       "      <td>-1.100381</td>\n",
       "      <td>0.999729</td>\n",
       "      <td>0.616049</td>\n",
       "      <td>0.436875</td>\n",
       "      <td>...</td>\n",
       "      <td>1.350937</td>\n",
       "      <td>5.601879e-07</td>\n",
       "      <td>0.725853</td>\n",
       "      <td>2.953179</td>\n",
       "      <td>0.608636</td>\n",
       "      <td>0.000004</td>\n",
       "      <td>0.538587</td>\n",
       "      <td>2.964739</td>\n",
       "      <td>0.654591</td>\n",
       "      <td>0.000005</td>\n",
       "    </tr>\n",
       "  </tbody>\n",
       "</table>\n",
       "<p>5 rows × 132 columns</p>\n",
       "</div>"
      ],
      "text/plain": [
       "         x1        y1        z1        v1        x2        y2        z2  \\\n",
       "0  0.579180  0.494718 -1.260400  0.999884  0.598910  0.437344 -1.202794   \n",
       "1  0.579247  0.492518 -1.121348  0.999892  0.599189  0.435712 -1.065062   \n",
       "2  0.579256  0.492384 -1.103188  0.999899  0.599271  0.435453 -1.047567   \n",
       "3  0.579180  0.491912 -1.137667  0.999905  0.599163  0.434376 -1.083351   \n",
       "4  0.579315  0.492281 -1.154184  0.999911  0.599251  0.434340 -1.100381   \n",
       "\n",
       "         v2        x3        y3  ...       z31           v31       x32  \\\n",
       "0  0.999647  0.615433  0.440355  ...  0.940863  5.854897e-07  0.738593   \n",
       "1  0.999672  0.615862  0.438817  ...  1.082689  5.664001e-07  0.734784   \n",
       "2  0.999691  0.616001  0.438468  ...  1.176795  5.734016e-07  0.732842   \n",
       "3  0.999710  0.615937  0.436995  ...  1.153705  5.510733e-07  0.724409   \n",
       "4  0.999729  0.616049  0.436875  ...  1.350937  5.601879e-07  0.725853   \n",
       "\n",
       "        y32       z32       v32       x33       y33       z33       v33  \n",
       "0  2.877994  0.449241  0.000004  0.548525  2.886744  0.250947  0.000006  \n",
       "1  2.890085  0.500137  0.000004  0.547794  2.901754  0.407540  0.000006  \n",
       "2  2.901172  0.495691  0.000004  0.547777  2.913632  0.506053  0.000006  \n",
       "3  2.922381  0.584140  0.000004  0.535767  2.933913  0.466976  0.000005  \n",
       "4  2.953179  0.608636  0.000004  0.538587  2.964739  0.654591  0.000005  \n",
       "\n",
       "[5 rows x 132 columns]"
      ]
     },
     "execution_count": 10,
     "metadata": {},
     "output_type": "execute_result"
    }
   ],
   "source": [
    "data.head()"
   ]
  },
  {
   "cell_type": "code",
   "execution_count": 17,
   "metadata": {},
   "outputs": [
    {
     "data": {
      "text/html": [
       "<div>\n",
       "<style scoped>\n",
       "    .dataframe tbody tr th:only-of-type {\n",
       "        vertical-align: middle;\n",
       "    }\n",
       "\n",
       "    .dataframe tbody tr th {\n",
       "        vertical-align: top;\n",
       "    }\n",
       "\n",
       "    .dataframe thead th {\n",
       "        text-align: right;\n",
       "    }\n",
       "</style>\n",
       "<table border=\"1\" class=\"dataframe\">\n",
       "  <thead>\n",
       "    <tr style=\"text-align: right;\">\n",
       "      <th></th>\n",
       "      <th>x1</th>\n",
       "      <th>y1</th>\n",
       "      <th>z1</th>\n",
       "      <th>v1</th>\n",
       "      <th>x2</th>\n",
       "      <th>y2</th>\n",
       "      <th>z2</th>\n",
       "      <th>v2</th>\n",
       "      <th>x3</th>\n",
       "      <th>y3</th>\n",
       "      <th>...</th>\n",
       "      <th>v31</th>\n",
       "      <th>x32</th>\n",
       "      <th>y32</th>\n",
       "      <th>z32</th>\n",
       "      <th>v32</th>\n",
       "      <th>x33</th>\n",
       "      <th>y33</th>\n",
       "      <th>z33</th>\n",
       "      <th>v33</th>\n",
       "      <th>Label</th>\n",
       "    </tr>\n",
       "  </thead>\n",
       "  <tbody>\n",
       "    <tr>\n",
       "      <th>0</th>\n",
       "      <td>0.579180</td>\n",
       "      <td>0.494718</td>\n",
       "      <td>-1.260400</td>\n",
       "      <td>0.999884</td>\n",
       "      <td>0.598910</td>\n",
       "      <td>0.437344</td>\n",
       "      <td>-1.202794</td>\n",
       "      <td>0.999647</td>\n",
       "      <td>0.615433</td>\n",
       "      <td>0.440355</td>\n",
       "      <td>...</td>\n",
       "      <td>5.854897e-07</td>\n",
       "      <td>0.738593</td>\n",
       "      <td>2.877994</td>\n",
       "      <td>0.449241</td>\n",
       "      <td>0.000004</td>\n",
       "      <td>0.548525</td>\n",
       "      <td>2.886744</td>\n",
       "      <td>0.250947</td>\n",
       "      <td>0.000006</td>\n",
       "      <td>0</td>\n",
       "    </tr>\n",
       "    <tr>\n",
       "      <th>1</th>\n",
       "      <td>0.579247</td>\n",
       "      <td>0.492518</td>\n",
       "      <td>-1.121348</td>\n",
       "      <td>0.999892</td>\n",
       "      <td>0.599189</td>\n",
       "      <td>0.435712</td>\n",
       "      <td>-1.065062</td>\n",
       "      <td>0.999672</td>\n",
       "      <td>0.615862</td>\n",
       "      <td>0.438817</td>\n",
       "      <td>...</td>\n",
       "      <td>5.664001e-07</td>\n",
       "      <td>0.734784</td>\n",
       "      <td>2.890085</td>\n",
       "      <td>0.500137</td>\n",
       "      <td>0.000004</td>\n",
       "      <td>0.547794</td>\n",
       "      <td>2.901754</td>\n",
       "      <td>0.407540</td>\n",
       "      <td>0.000006</td>\n",
       "      <td>0</td>\n",
       "    </tr>\n",
       "    <tr>\n",
       "      <th>2</th>\n",
       "      <td>0.579256</td>\n",
       "      <td>0.492384</td>\n",
       "      <td>-1.103188</td>\n",
       "      <td>0.999899</td>\n",
       "      <td>0.599271</td>\n",
       "      <td>0.435453</td>\n",
       "      <td>-1.047567</td>\n",
       "      <td>0.999691</td>\n",
       "      <td>0.616001</td>\n",
       "      <td>0.438468</td>\n",
       "      <td>...</td>\n",
       "      <td>5.734016e-07</td>\n",
       "      <td>0.732842</td>\n",
       "      <td>2.901172</td>\n",
       "      <td>0.495691</td>\n",
       "      <td>0.000004</td>\n",
       "      <td>0.547777</td>\n",
       "      <td>2.913632</td>\n",
       "      <td>0.506053</td>\n",
       "      <td>0.000006</td>\n",
       "      <td>0</td>\n",
       "    </tr>\n",
       "    <tr>\n",
       "      <th>3</th>\n",
       "      <td>0.579180</td>\n",
       "      <td>0.491912</td>\n",
       "      <td>-1.137667</td>\n",
       "      <td>0.999905</td>\n",
       "      <td>0.599163</td>\n",
       "      <td>0.434376</td>\n",
       "      <td>-1.083351</td>\n",
       "      <td>0.999710</td>\n",
       "      <td>0.615937</td>\n",
       "      <td>0.436995</td>\n",
       "      <td>...</td>\n",
       "      <td>5.510733e-07</td>\n",
       "      <td>0.724409</td>\n",
       "      <td>2.922381</td>\n",
       "      <td>0.584140</td>\n",
       "      <td>0.000004</td>\n",
       "      <td>0.535767</td>\n",
       "      <td>2.933913</td>\n",
       "      <td>0.466976</td>\n",
       "      <td>0.000005</td>\n",
       "      <td>0</td>\n",
       "    </tr>\n",
       "    <tr>\n",
       "      <th>4</th>\n",
       "      <td>0.579315</td>\n",
       "      <td>0.492281</td>\n",
       "      <td>-1.154184</td>\n",
       "      <td>0.999911</td>\n",
       "      <td>0.599251</td>\n",
       "      <td>0.434340</td>\n",
       "      <td>-1.100381</td>\n",
       "      <td>0.999729</td>\n",
       "      <td>0.616049</td>\n",
       "      <td>0.436875</td>\n",
       "      <td>...</td>\n",
       "      <td>5.601879e-07</td>\n",
       "      <td>0.725853</td>\n",
       "      <td>2.953179</td>\n",
       "      <td>0.608636</td>\n",
       "      <td>0.000004</td>\n",
       "      <td>0.538587</td>\n",
       "      <td>2.964739</td>\n",
       "      <td>0.654591</td>\n",
       "      <td>0.000005</td>\n",
       "      <td>0</td>\n",
       "    </tr>\n",
       "  </tbody>\n",
       "</table>\n",
       "<p>5 rows × 133 columns</p>\n",
       "</div>"
      ],
      "text/plain": [
       "         x1        y1        z1        v1        x2        y2        z2  \\\n",
       "0  0.579180  0.494718 -1.260400  0.999884  0.598910  0.437344 -1.202794   \n",
       "1  0.579247  0.492518 -1.121348  0.999892  0.599189  0.435712 -1.065062   \n",
       "2  0.579256  0.492384 -1.103188  0.999899  0.599271  0.435453 -1.047567   \n",
       "3  0.579180  0.491912 -1.137667  0.999905  0.599163  0.434376 -1.083351   \n",
       "4  0.579315  0.492281 -1.154184  0.999911  0.599251  0.434340 -1.100381   \n",
       "\n",
       "         v2        x3        y3  ...           v31       x32       y32  \\\n",
       "0  0.999647  0.615433  0.440355  ...  5.854897e-07  0.738593  2.877994   \n",
       "1  0.999672  0.615862  0.438817  ...  5.664001e-07  0.734784  2.890085   \n",
       "2  0.999691  0.616001  0.438468  ...  5.734016e-07  0.732842  2.901172   \n",
       "3  0.999710  0.615937  0.436995  ...  5.510733e-07  0.724409  2.922381   \n",
       "4  0.999729  0.616049  0.436875  ...  5.601879e-07  0.725853  2.953179   \n",
       "\n",
       "        z32       v32       x33       y33       z33       v33  Label  \n",
       "0  0.449241  0.000004  0.548525  2.886744  0.250947  0.000006      0  \n",
       "1  0.500137  0.000004  0.547794  2.901754  0.407540  0.000006      0  \n",
       "2  0.495691  0.000004  0.547777  2.913632  0.506053  0.000006      0  \n",
       "3  0.584140  0.000004  0.535767  2.933913  0.466976  0.000005      0  \n",
       "4  0.608636  0.000004  0.538587  2.964739  0.654591  0.000005      0  \n",
       "\n",
       "[5 rows x 133 columns]"
      ]
     },
     "execution_count": 17,
     "metadata": {},
     "output_type": "execute_result"
    }
   ],
   "source": [
    "dataset.head()"
   ]
  },
  {
   "cell_type": "code",
   "execution_count": 13,
   "metadata": {},
   "outputs": [],
   "source": [
    "X_train, X_test, y_train, y_test = train_test_split(data, target, test_size=0.1, shuffle=True, stratify=target, random_state= 1)"
   ]
  },
  {
   "cell_type": "code",
   "execution_count": 15,
   "metadata": {},
   "outputs": [
    {
     "data": {
      "text/html": [
       "<div>\n",
       "<style scoped>\n",
       "    .dataframe tbody tr th:only-of-type {\n",
       "        vertical-align: middle;\n",
       "    }\n",
       "\n",
       "    .dataframe tbody tr th {\n",
       "        vertical-align: top;\n",
       "    }\n",
       "\n",
       "    .dataframe thead th {\n",
       "        text-align: right;\n",
       "    }\n",
       "</style>\n",
       "<table border=\"1\" class=\"dataframe\">\n",
       "  <thead>\n",
       "    <tr style=\"text-align: right;\">\n",
       "      <th></th>\n",
       "      <th>x1</th>\n",
       "      <th>y1</th>\n",
       "      <th>z1</th>\n",
       "      <th>v1</th>\n",
       "      <th>x2</th>\n",
       "      <th>y2</th>\n",
       "      <th>z2</th>\n",
       "      <th>v2</th>\n",
       "      <th>x3</th>\n",
       "      <th>y3</th>\n",
       "      <th>...</th>\n",
       "      <th>z31</th>\n",
       "      <th>v31</th>\n",
       "      <th>x32</th>\n",
       "      <th>y32</th>\n",
       "      <th>z32</th>\n",
       "      <th>v32</th>\n",
       "      <th>x33</th>\n",
       "      <th>y33</th>\n",
       "      <th>z33</th>\n",
       "      <th>v33</th>\n",
       "    </tr>\n",
       "  </thead>\n",
       "  <tbody>\n",
       "    <tr>\n",
       "      <th>2158</th>\n",
       "      <td>0.262274</td>\n",
       "      <td>0.623575</td>\n",
       "      <td>-0.745098</td>\n",
       "      <td>0.999400</td>\n",
       "      <td>0.285123</td>\n",
       "      <td>0.550607</td>\n",
       "      <td>-0.766475</td>\n",
       "      <td>0.998654</td>\n",
       "      <td>0.308800</td>\n",
       "      <td>0.545518</td>\n",
       "      <td>...</td>\n",
       "      <td>1.007782</td>\n",
       "      <td>0.000013</td>\n",
       "      <td>0.579983</td>\n",
       "      <td>3.262597</td>\n",
       "      <td>0.111775</td>\n",
       "      <td>0.000064</td>\n",
       "      <td>0.377484</td>\n",
       "      <td>3.260891</td>\n",
       "      <td>0.349814</td>\n",
       "      <td>0.000047</td>\n",
       "    </tr>\n",
       "    <tr>\n",
       "      <th>667</th>\n",
       "      <td>0.608356</td>\n",
       "      <td>0.458854</td>\n",
       "      <td>-1.175270</td>\n",
       "      <td>0.999723</td>\n",
       "      <td>0.630769</td>\n",
       "      <td>0.398236</td>\n",
       "      <td>-1.115766</td>\n",
       "      <td>0.999276</td>\n",
       "      <td>0.649712</td>\n",
       "      <td>0.399739</td>\n",
       "      <td>...</td>\n",
       "      <td>0.378469</td>\n",
       "      <td>0.000032</td>\n",
       "      <td>0.720158</td>\n",
       "      <td>3.025121</td>\n",
       "      <td>-0.288044</td>\n",
       "      <td>0.000112</td>\n",
       "      <td>0.531430</td>\n",
       "      <td>3.024151</td>\n",
       "      <td>-0.367120</td>\n",
       "      <td>0.000141</td>\n",
       "    </tr>\n",
       "    <tr>\n",
       "      <th>2567</th>\n",
       "      <td>0.499951</td>\n",
       "      <td>0.630966</td>\n",
       "      <td>-1.407179</td>\n",
       "      <td>0.999730</td>\n",
       "      <td>0.530535</td>\n",
       "      <td>0.579422</td>\n",
       "      <td>-1.366270</td>\n",
       "      <td>0.999422</td>\n",
       "      <td>0.547838</td>\n",
       "      <td>0.585423</td>\n",
       "      <td>...</td>\n",
       "      <td>1.106318</td>\n",
       "      <td>0.000024</td>\n",
       "      <td>0.507962</td>\n",
       "      <td>3.050224</td>\n",
       "      <td>-0.154719</td>\n",
       "      <td>0.000042</td>\n",
       "      <td>0.349381</td>\n",
       "      <td>3.020129</td>\n",
       "      <td>0.360561</td>\n",
       "      <td>0.000040</td>\n",
       "    </tr>\n",
       "    <tr>\n",
       "      <th>2187</th>\n",
       "      <td>0.139919</td>\n",
       "      <td>0.689523</td>\n",
       "      <td>-0.693515</td>\n",
       "      <td>0.995222</td>\n",
       "      <td>0.154531</td>\n",
       "      <td>0.605634</td>\n",
       "      <td>-0.760650</td>\n",
       "      <td>0.991238</td>\n",
       "      <td>0.172302</td>\n",
       "      <td>0.589085</td>\n",
       "      <td>...</td>\n",
       "      <td>0.943814</td>\n",
       "      <td>0.000004</td>\n",
       "      <td>0.581773</td>\n",
       "      <td>3.368124</td>\n",
       "      <td>-0.033809</td>\n",
       "      <td>0.000013</td>\n",
       "      <td>0.365055</td>\n",
       "      <td>3.380414</td>\n",
       "      <td>0.278167</td>\n",
       "      <td>0.000012</td>\n",
       "    </tr>\n",
       "    <tr>\n",
       "      <th>1392</th>\n",
       "      <td>0.818627</td>\n",
       "      <td>0.557193</td>\n",
       "      <td>-1.547324</td>\n",
       "      <td>0.999716</td>\n",
       "      <td>0.865214</td>\n",
       "      <td>0.495062</td>\n",
       "      <td>-1.477190</td>\n",
       "      <td>0.999153</td>\n",
       "      <td>0.884673</td>\n",
       "      <td>0.504148</td>\n",
       "      <td>...</td>\n",
       "      <td>1.535036</td>\n",
       "      <td>0.000023</td>\n",
       "      <td>0.740311</td>\n",
       "      <td>3.296399</td>\n",
       "      <td>0.565340</td>\n",
       "      <td>0.000040</td>\n",
       "      <td>0.559390</td>\n",
       "      <td>3.272853</td>\n",
       "      <td>0.702644</td>\n",
       "      <td>0.000064</td>\n",
       "    </tr>\n",
       "  </tbody>\n",
       "</table>\n",
       "<p>5 rows × 132 columns</p>\n",
       "</div>"
      ],
      "text/plain": [
       "            x1        y1        z1        v1        x2        y2        z2  \\\n",
       "2158  0.262274  0.623575 -0.745098  0.999400  0.285123  0.550607 -0.766475   \n",
       "667   0.608356  0.458854 -1.175270  0.999723  0.630769  0.398236 -1.115766   \n",
       "2567  0.499951  0.630966 -1.407179  0.999730  0.530535  0.579422 -1.366270   \n",
       "2187  0.139919  0.689523 -0.693515  0.995222  0.154531  0.605634 -0.760650   \n",
       "1392  0.818627  0.557193 -1.547324  0.999716  0.865214  0.495062 -1.477190   \n",
       "\n",
       "            v2        x3        y3  ...       z31       v31       x32  \\\n",
       "2158  0.998654  0.308800  0.545518  ...  1.007782  0.000013  0.579983   \n",
       "667   0.999276  0.649712  0.399739  ...  0.378469  0.000032  0.720158   \n",
       "2567  0.999422  0.547838  0.585423  ...  1.106318  0.000024  0.507962   \n",
       "2187  0.991238  0.172302  0.589085  ...  0.943814  0.000004  0.581773   \n",
       "1392  0.999153  0.884673  0.504148  ...  1.535036  0.000023  0.740311   \n",
       "\n",
       "           y32       z32       v32       x33       y33       z33       v33  \n",
       "2158  3.262597  0.111775  0.000064  0.377484  3.260891  0.349814  0.000047  \n",
       "667   3.025121 -0.288044  0.000112  0.531430  3.024151 -0.367120  0.000141  \n",
       "2567  3.050224 -0.154719  0.000042  0.349381  3.020129  0.360561  0.000040  \n",
       "2187  3.368124 -0.033809  0.000013  0.365055  3.380414  0.278167  0.000012  \n",
       "1392  3.296399  0.565340  0.000040  0.559390  3.272853  0.702644  0.000064  \n",
       "\n",
       "[5 rows x 132 columns]"
      ]
     },
     "execution_count": 15,
     "metadata": {},
     "output_type": "execute_result"
    }
   ],
   "source": [
    "X_train.head()"
   ]
  },
  {
   "cell_type": "code",
   "execution_count": 14,
   "metadata": {},
   "outputs": [
    {
     "data": {
      "text/html": [
       "<div>\n",
       "<style scoped>\n",
       "    .dataframe tbody tr th:only-of-type {\n",
       "        vertical-align: middle;\n",
       "    }\n",
       "\n",
       "    .dataframe tbody tr th {\n",
       "        vertical-align: top;\n",
       "    }\n",
       "\n",
       "    .dataframe thead th {\n",
       "        text-align: right;\n",
       "    }\n",
       "</style>\n",
       "<table border=\"1\" class=\"dataframe\">\n",
       "  <thead>\n",
       "    <tr style=\"text-align: right;\">\n",
       "      <th></th>\n",
       "      <th>Label</th>\n",
       "    </tr>\n",
       "  </thead>\n",
       "  <tbody>\n",
       "    <tr>\n",
       "      <th>2158</th>\n",
       "      <td>1</td>\n",
       "    </tr>\n",
       "    <tr>\n",
       "      <th>667</th>\n",
       "      <td>0</td>\n",
       "    </tr>\n",
       "    <tr>\n",
       "      <th>2567</th>\n",
       "      <td>1</td>\n",
       "    </tr>\n",
       "    <tr>\n",
       "      <th>2187</th>\n",
       "      <td>1</td>\n",
       "    </tr>\n",
       "    <tr>\n",
       "      <th>1392</th>\n",
       "      <td>-1</td>\n",
       "    </tr>\n",
       "  </tbody>\n",
       "</table>\n",
       "</div>"
      ],
      "text/plain": [
       "      Label\n",
       "2158      1\n",
       "667       0\n",
       "2567      1\n",
       "2187      1\n",
       "1392     -1"
      ]
     },
     "execution_count": 14,
     "metadata": {},
     "output_type": "execute_result"
    }
   ],
   "source": [
    "y_train.head()"
   ]
  },
  {
   "cell_type": "code",
   "execution_count": 31,
   "metadata": {},
   "outputs": [
    {
     "name": "stdout",
     "output_type": "stream",
     "text": [
      "(2574, 132) (2574, 1)\n"
     ]
    }
   ],
   "source": [
    "print(X_train.shape, y_train.shape)"
   ]
  },
  {
   "cell_type": "code",
   "execution_count": 26,
   "metadata": {},
   "outputs": [],
   "source": [
    "Y_train = tf.keras.utils.to_categorical(y_train)# one hot encoding\n",
    "Y_test = tf.keras.utils.to_categorical(y_test)"
   ]
  },
  {
   "cell_type": "code",
   "execution_count": 30,
   "metadata": {},
   "outputs": [
    {
     "data": {
      "text/plain": [
       "<1x3 sparse matrix of type '<class 'numpy.float64'>'\n",
       "\twith 1 stored elements in Compressed Sparse Row format>"
      ]
     },
     "execution_count": 30,
     "metadata": {},
     "output_type": "execute_result"
    }
   ],
   "source": [
    "# Y_train[5]"
   ]
  },
  {
   "cell_type": "code",
   "execution_count": 29,
   "metadata": {},
   "outputs": [
    {
     "data": {
      "text/plain": [
       "(2574, 3)"
      ]
     },
     "execution_count": 29,
     "metadata": {},
     "output_type": "execute_result"
    }
   ],
   "source": [
    "# Y_train.shape"
   ]
  },
  {
   "cell_type": "code",
   "execution_count": 37,
   "metadata": {},
   "outputs": [],
   "source": [
    "# model \n",
    "model = tf.keras.Sequential()\n",
    "model.add(tf.keras.layers.Dense(128, activation='relu', input_shape=(132,)))\n",
    "model.add(tf.keras.layers.Dropout(0.5)) # add dropout layer\n",
    "model.add(tf.keras.layers.Dense(64, activation='relu'))\n",
    "model.add(tf.keras.layers.Dense(3, activation='softmax')) # 0=forward, 1=right, -1=left\n",
    "# for multiclassification, use softmax func.\n",
    "# There is no CNN layer because there is no image input. \n",
    "# image input -> csv data -> modeling \n",
    "\n",
    "# Compile \n",
    "\n",
    "model.compile(optimizer='adam', loss='categorical_crossentropy', metrics=['accuracy'])\n",
    "# if you don't one-hot encoding, then use sparse_categorical_crossentropy. "
   ]
  },
  {
   "cell_type": "code",
   "execution_count": 38,
   "metadata": {},
   "outputs": [
    {
     "name": "stdout",
     "output_type": "stream",
     "text": [
      "Epoch 1/10\n",
      "81/81 [==============================] - 1s 9ms/step - loss: 0.5668 - accuracy: 0.7805\n",
      "Epoch 2/10\n",
      "81/81 [==============================] - 0s 6ms/step - loss: 0.1560 - accuracy: 0.9619\n",
      "Epoch 3/10\n",
      "81/81 [==============================] - 1s 6ms/step - loss: 0.1052 - accuracy: 0.9674\n",
      "Epoch 4/10\n",
      "81/81 [==============================] - 1s 6ms/step - loss: 0.0721 - accuracy: 0.9790\n",
      "Epoch 5/10\n",
      "81/81 [==============================] - 1s 7ms/step - loss: 0.0482 - accuracy: 0.9872\n",
      "Epoch 6/10\n",
      "81/81 [==============================] - 1s 7ms/step - loss: 0.0565 - accuracy: 0.9848\n",
      "Epoch 7/10\n",
      "81/81 [==============================] - 1s 7ms/step - loss: 0.0329 - accuracy: 0.9926\n",
      "Epoch 8/10\n",
      "81/81 [==============================] - 1s 7ms/step - loss: 0.0298 - accuracy: 0.9930\n",
      "Epoch 9/10\n",
      "81/81 [==============================] - 1s 7ms/step - loss: 0.0254 - accuracy: 0.9934\n",
      "Epoch 10/10\n",
      "81/81 [==============================] - 1s 7ms/step - loss: 0.0243 - accuracy: 0.9930\n"
     ]
    },
    {
     "data": {
      "text/plain": [
       "<keras.callbacks.History at 0x7f4221bf7370>"
      ]
     },
     "execution_count": 38,
     "metadata": {},
     "output_type": "execute_result"
    }
   ],
   "source": [
    "# Train the model\n",
    "model.fit(X_train, Y_train, epochs=10)"
   ]
  },
  {
   "cell_type": "code",
   "execution_count": 39,
   "metadata": {},
   "outputs": [
    {
     "name": "stdout",
     "output_type": "stream",
     "text": [
      "9/9 [==============================] - 0s 9ms/step - loss: 0.0213 - accuracy: 0.9930\n",
      "accuracy:  0.99303138256073\n"
     ]
    }
   ],
   "source": [
    "# evaluate\n",
    "results = model.evaluate(X_test, Y_test)\n",
    "print('accuracy: ', results[1])"
   ]
  },
  {
   "cell_type": "code",
   "execution_count": 40,
   "metadata": {},
   "outputs": [],
   "source": [
    "model.save('Maded_model.h5') #save"
   ]
  },
  {
   "cell_type": "code",
   "execution_count": 11,
   "metadata": {},
   "outputs": [
    {
     "name": "stdout",
     "output_type": "stream",
     "text": [
      "/mnt/c/Users/KOJUNSUNG/Desktop/lab/git/TIL/DL/Project\n"
     ]
    }
   ],
   "source": [
    "!pwd"
   ]
  },
  {
   "cell_type": "code",
   "execution_count": 16,
   "metadata": {},
   "outputs": [
    {
     "data": {
      "text/plain": [
       "(287, 132)"
      ]
     },
     "execution_count": 16,
     "metadata": {},
     "output_type": "execute_result"
    }
   ],
   "source": [
    "X_test.shape"
   ]
  },
  {
   "cell_type": "code",
   "execution_count": 18,
   "metadata": {},
   "outputs": [
    {
     "name": "stdout",
     "output_type": "stream",
     "text": [
      "9/9 [==============================] - 0s 2ms/step\n"
     ]
    }
   ],
   "source": [
    "from tensorflow.keras.models import load_model\n",
    "\n",
    "p_model=load_model('Maded_model.h5')\n",
    "pred = p_model.predict(X_test)"
   ]
  },
  {
   "cell_type": "code",
   "execution_count": 20,
   "metadata": {},
   "outputs": [
    {
     "data": {
      "text/plain": [
       "array([9.990777e-01, 8.754170e-04, 4.696191e-05], dtype=float32)"
      ]
     },
     "execution_count": 20,
     "metadata": {},
     "output_type": "execute_result"
    }
   ],
   "source": [
    "pred[0]"
   ]
  },
  {
   "cell_type": "code",
   "execution_count": 29,
   "metadata": {},
   "outputs": [
    {
     "data": {
      "text/plain": [
       "1"
      ]
     },
     "execution_count": 29,
     "metadata": {},
     "output_type": "execute_result"
    }
   ],
   "source": [
    "# if you want to reverse one-hot encoding, use np.argmax()\n",
    "pred[3].argmax()"
   ]
  },
  {
   "cell_type": "code",
   "execution_count": 30,
   "metadata": {},
   "outputs": [
    {
     "name": "stdout",
     "output_type": "stream",
     "text": [
      "[0, 1, 2, 1, 0, 1, 1, 0, 2, 0, 0, 0, 2, 0, 2, 2, 0, 0, 0, 1, 1, 1, 0, 1, 2, 0, 2, 0, 2, 0, 0, 2, 2, 0, 0, 1, 2, 1, 2, 2, 1, 0, 2, 2, 2, 2, 2, 2, 0, 0, 0, 1, 1, 0, 1, 2, 1, 2, 2, 0, 2, 0, 0, 2, 2, 1, 2, 1, 1, 2, 0, 1, 1, 2, 2, 0, 2, 0, 2, 2, 0, 0, 1, 1, 1, 0, 2, 0, 1, 0, 0, 1, 2, 2, 1, 0, 0, 2, 0, 1, 2, 0, 1, 0, 0, 1, 2, 0, 1, 2, 0, 2, 2, 2, 1, 1, 2, 2, 2, 2, 2, 2, 2, 2, 1, 2, 1, 2, 2, 2, 0, 1, 0, 2, 0, 1, 2, 0, 2, 2, 0, 1, 2, 0, 1, 0, 1, 0, 1, 0, 1, 1, 0, 2, 0, 2, 0, 1, 1, 0, 2, 2, 2, 1, 2, 0, 0, 2, 0, 1, 2, 1, 2, 2, 1, 1, 0, 2, 0, 1, 2, 0, 1, 0, 2, 0, 0, 2, 1, 2, 1, 2, 2, 0, 2, 2, 0, 0, 1, 0, 0, 2, 2, 1, 0, 2, 2, 1, 2, 2, 1, 1, 0, 2, 1, 0, 0, 2, 0, 0, 1, 1, 1, 1, 0, 0, 2, 0, 0, 2, 2, 1, 2, 1, 2, 1, 2, 0, 1, 0, 0, 0, 2, 0, 1, 2, 2, 0, 2, 2, 0, 1, 1, 0, 0, 0, 1, 2, 2, 0, 1, 1, 2, 2, 2, 0, 1, 1, 1, 1, 2, 1, 1, 1, 2, 0, 2, 1, 1, 0, 1, 2, 2, 0, 0, 2, 1]\n"
     ]
    }
   ],
   "source": [
    "results = []\n",
    "for i in pred:\n",
    "    results.append(i.argmax())\n",
    "print(results)    "
   ]
  },
  {
   "cell_type": "code",
   "execution_count": 33,
   "metadata": {},
   "outputs": [
    {
     "data": {
      "text/plain": [
       "1"
      ]
     },
     "execution_count": 33,
     "metadata": {},
     "output_type": "execute_result"
    }
   ],
   "source": [
    "round(np.mean(results))"
   ]
  },
  {
   "cell_type": "code",
   "execution_count": 34,
   "metadata": {},
   "outputs": [],
   "source": [
    "map_dict = {0: \"middle\", 1: \"left\", 2: \"right\"}"
   ]
  },
  {
   "cell_type": "code",
   "execution_count": 36,
   "metadata": {},
   "outputs": [
    {
     "name": "stdout",
     "output_type": "stream",
     "text": [
      "['middle', 'left', 'right', 'left', 'middle', 'left', 'left', 'middle', 'right', 'middle', 'middle', 'middle', 'right', 'middle', 'right', 'right', 'middle', 'middle', 'middle', 'left', 'left', 'left', 'middle', 'left', 'right', 'middle', 'right', 'middle', 'right', 'middle', 'middle', 'right', 'right', 'middle', 'middle', 'left', 'right', 'left', 'right', 'right', 'left', 'middle', 'right', 'right', 'right', 'right', 'right', 'right', 'middle', 'middle', 'middle', 'left', 'left', 'middle', 'left', 'right', 'left', 'right', 'right', 'middle', 'right', 'middle', 'middle', 'right', 'right', 'left', 'right', 'left', 'left', 'right', 'middle', 'left', 'left', 'right', 'right', 'middle', 'right', 'middle', 'right', 'right', 'middle', 'middle', 'left', 'left', 'left', 'middle', 'right', 'middle', 'left', 'middle', 'middle', 'left', 'right', 'right', 'left', 'middle', 'middle', 'right', 'middle', 'left', 'right', 'middle', 'left', 'middle', 'middle', 'left', 'right', 'middle', 'left', 'right', 'middle', 'right', 'right', 'right', 'left', 'left', 'right', 'right', 'right', 'right', 'right', 'right', 'right', 'right', 'left', 'right', 'left', 'right', 'right', 'right', 'middle', 'left', 'middle', 'right', 'middle', 'left', 'right', 'middle', 'right', 'right', 'middle', 'left', 'right', 'middle', 'left', 'middle', 'left', 'middle', 'left', 'middle', 'left', 'left', 'middle', 'right', 'middle', 'right', 'middle', 'left', 'left', 'middle', 'right', 'right', 'right', 'left', 'right', 'middle', 'middle', 'right', 'middle', 'left', 'right', 'left', 'right', 'right', 'left', 'left', 'middle', 'right', 'middle', 'left', 'right', 'middle', 'left', 'middle', 'right', 'middle', 'middle', 'right', 'left', 'right', 'left', 'right', 'right', 'middle', 'right', 'right', 'middle', 'middle', 'left', 'middle', 'middle', 'right', 'right', 'left', 'middle', 'right', 'right', 'left', 'right', 'right', 'left', 'left', 'middle', 'right', 'left', 'middle', 'middle', 'right', 'middle', 'middle', 'left', 'left', 'left', 'left', 'middle', 'middle', 'right', 'middle', 'middle', 'right', 'right', 'left', 'right', 'left', 'right', 'left', 'right', 'middle', 'left', 'middle', 'middle', 'middle', 'right', 'middle', 'left', 'right', 'right', 'middle', 'right', 'right', 'middle', 'left', 'left', 'middle', 'middle', 'middle', 'left', 'right', 'right', 'middle', 'left', 'left', 'right', 'right', 'right', 'middle', 'left', 'left', 'left', 'left', 'right', 'left', 'left', 'left', 'right', 'middle', 'right', 'left', 'left', 'middle', 'left', 'right', 'right', 'middle', 'middle', 'right', 'left']\n"
     ]
    }
   ],
   "source": [
    "pred_name = []\n",
    "for i in results:\n",
    "    pred_name.append(map_dict[i])\n",
    "print(pred_name)"
   ]
  },
  {
   "cell_type": "code",
   "execution_count": null,
   "metadata": {},
   "outputs": [],
   "source": []
  }
 ],
 "metadata": {
  "kernelspec": {
   "display_name": "tf",
   "language": "python",
   "name": "python3"
  },
  "language_info": {
   "codemirror_mode": {
    "name": "ipython",
    "version": 3
   },
   "file_extension": ".py",
   "mimetype": "text/x-python",
   "name": "python",
   "nbconvert_exporter": "python",
   "pygments_lexer": "ipython3",
   "version": "3.9.15"
  },
  "orig_nbformat": 4,
  "vscode": {
   "interpreter": {
    "hash": "71be762759ae1b1747e1cfc60efa181cfc93ac416fe5084a790ec64e97c902b4"
   }
  }
 },
 "nbformat": 4,
 "nbformat_minor": 2
}
