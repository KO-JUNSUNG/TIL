{
 "cells": [
  {
   "cell_type": "code",
   "execution_count": 1,
   "metadata": {},
   "outputs": [
    {
     "name": "stderr",
     "output_type": "stream",
     "text": [
      "2023-02-15 10:10:50.368538: I tensorflow/core/platform/cpu_feature_guard.cc:193] This TensorFlow binary is optimized with oneAPI Deep Neural Network Library (oneDNN) to use the following CPU instructions in performance-critical operations:  AVX2 FMA\n",
      "To enable them in other operations, rebuild TensorFlow with the appropriate compiler flags.\n",
      "2023-02-15 10:10:52.113268: W tensorflow/compiler/xla/stream_executor/platform/default/dso_loader.cc:64] Could not load dynamic library 'libnvinfer.so.7'; dlerror: libnvinfer.so.7: cannot open shared object file: No such file or directory; LD_LIBRARY_PATH: /usr/local/cuda-11.2/extras/CUPTI/lib64:/usr/local/cuda-11.2/lib64::/home/user/anaconda3/envs/tf/lib/\n",
      "2023-02-15 10:10:52.115431: W tensorflow/compiler/xla/stream_executor/platform/default/dso_loader.cc:64] Could not load dynamic library 'libnvinfer_plugin.so.7'; dlerror: libnvinfer_plugin.so.7: cannot open shared object file: No such file or directory; LD_LIBRARY_PATH: /usr/local/cuda-11.2/extras/CUPTI/lib64:/usr/local/cuda-11.2/lib64::/home/user/anaconda3/envs/tf/lib/\n",
      "2023-02-15 10:10:52.115445: W tensorflow/compiler/tf2tensorrt/utils/py_utils.cc:38] TF-TRT Warning: Cannot dlopen some TensorRT libraries. If you would like to use Nvidia GPU with TensorRT, please make sure the missing libraries mentioned above are installed properly.\n"
     ]
    }
   ],
   "source": [
    "## import\n",
    "import tensorflow as tf\n",
    "import numpy as np\n",
    "import pandas as pd\n",
    "from sklearn.model_selection import train_test_split\n",
    "from sklearn.metrics import accuracy_score # Accuracy metrics "
   ]
  },
  {
   "cell_type": "code",
   "execution_count": 2,
   "metadata": {},
   "outputs": [],
   "source": [
    "# original data\n",
    "data = pd.read_csv(\"/mnt/c/users/KOJUNSUNG/Downloads/x_train.csv\")\n",
    "target = pd.read_csv(\"/mnt/c/users/KOJUNSUNG/Downloads/y_train.csv\")\n",
    "\n",
    "# # rebuild\n",
    "# data, target = data.drop(labels=\"Unnamed: 0\",axis=1), target.drop(labels=\"Unnamed: 0\",axis=1)\n",
    "# dataset = pd.concat((data, target), axis=1)\n"
   ]
  },
  {
   "cell_type": "code",
   "execution_count": 3,
   "metadata": {},
   "outputs": [
    {
     "data": {
      "text/plain": [
       "(3000, 132)"
      ]
     },
     "execution_count": 3,
     "metadata": {},
     "output_type": "execute_result"
    }
   ],
   "source": [
    "data.shape"
   ]
  },
  {
   "cell_type": "code",
   "execution_count": 5,
   "metadata": {},
   "outputs": [
    {
     "data": {
      "text/html": [
       "<div>\n",
       "<style scoped>\n",
       "    .dataframe tbody tr th:only-of-type {\n",
       "        vertical-align: middle;\n",
       "    }\n",
       "\n",
       "    .dataframe tbody tr th {\n",
       "        vertical-align: top;\n",
       "    }\n",
       "\n",
       "    .dataframe thead th {\n",
       "        text-align: right;\n",
       "    }\n",
       "</style>\n",
       "<table border=\"1\" class=\"dataframe\">\n",
       "  <thead>\n",
       "    <tr style=\"text-align: right;\">\n",
       "      <th></th>\n",
       "      <th>x1</th>\n",
       "      <th>y1</th>\n",
       "      <th>z1</th>\n",
       "      <th>v1</th>\n",
       "      <th>x2</th>\n",
       "      <th>y2</th>\n",
       "      <th>z2</th>\n",
       "      <th>v2</th>\n",
       "      <th>x3</th>\n",
       "      <th>y3</th>\n",
       "      <th>...</th>\n",
       "      <th>z31</th>\n",
       "      <th>v31</th>\n",
       "      <th>x32</th>\n",
       "      <th>y32</th>\n",
       "      <th>z32</th>\n",
       "      <th>v32</th>\n",
       "      <th>x33</th>\n",
       "      <th>y33</th>\n",
       "      <th>z33</th>\n",
       "      <th>v33</th>\n",
       "    </tr>\n",
       "  </thead>\n",
       "  <tbody>\n",
       "    <tr>\n",
       "      <th>0</th>\n",
       "      <td>0.628011</td>\n",
       "      <td>0.803910</td>\n",
       "      <td>-1.331938</td>\n",
       "      <td>0.998005</td>\n",
       "      <td>0.659864</td>\n",
       "      <td>0.731436</td>\n",
       "      <td>-1.286930</td>\n",
       "      <td>0.997851</td>\n",
       "      <td>0.680906</td>\n",
       "      <td>0.733898</td>\n",
       "      <td>...</td>\n",
       "      <td>0.064412</td>\n",
       "      <td>0.018138</td>\n",
       "      <td>0.765906</td>\n",
       "      <td>3.471387</td>\n",
       "      <td>0.127984</td>\n",
       "      <td>0.012243</td>\n",
       "      <td>0.560639</td>\n",
       "      <td>3.482920</td>\n",
       "      <td>-0.456769</td>\n",
       "      <td>0.015673</td>\n",
       "    </tr>\n",
       "    <tr>\n",
       "      <th>1</th>\n",
       "      <td>0.628469</td>\n",
       "      <td>0.801049</td>\n",
       "      <td>-1.340854</td>\n",
       "      <td>0.998099</td>\n",
       "      <td>0.660312</td>\n",
       "      <td>0.725896</td>\n",
       "      <td>-1.292040</td>\n",
       "      <td>0.997952</td>\n",
       "      <td>0.681232</td>\n",
       "      <td>0.726501</td>\n",
       "      <td>...</td>\n",
       "      <td>0.134194</td>\n",
       "      <td>0.017520</td>\n",
       "      <td>0.827965</td>\n",
       "      <td>3.474091</td>\n",
       "      <td>0.050169</td>\n",
       "      <td>0.012537</td>\n",
       "      <td>0.621462</td>\n",
       "      <td>3.490263</td>\n",
       "      <td>-0.356971</td>\n",
       "      <td>0.015642</td>\n",
       "    </tr>\n",
       "    <tr>\n",
       "      <th>2</th>\n",
       "      <td>0.630058</td>\n",
       "      <td>0.796810</td>\n",
       "      <td>-1.445468</td>\n",
       "      <td>0.998151</td>\n",
       "      <td>0.662527</td>\n",
       "      <td>0.719059</td>\n",
       "      <td>-1.394889</td>\n",
       "      <td>0.998014</td>\n",
       "      <td>0.683160</td>\n",
       "      <td>0.719084</td>\n",
       "      <td>...</td>\n",
       "      <td>0.161804</td>\n",
       "      <td>0.016771</td>\n",
       "      <td>0.836411</td>\n",
       "      <td>3.472935</td>\n",
       "      <td>-0.034858</td>\n",
       "      <td>0.012646</td>\n",
       "      <td>0.626235</td>\n",
       "      <td>3.492421</td>\n",
       "      <td>-0.337585</td>\n",
       "      <td>0.015287</td>\n",
       "    </tr>\n",
       "    <tr>\n",
       "      <th>3</th>\n",
       "      <td>0.631681</td>\n",
       "      <td>0.790357</td>\n",
       "      <td>-1.422371</td>\n",
       "      <td>0.998229</td>\n",
       "      <td>0.664590</td>\n",
       "      <td>0.713880</td>\n",
       "      <td>-1.369593</td>\n",
       "      <td>0.998084</td>\n",
       "      <td>0.685157</td>\n",
       "      <td>0.714091</td>\n",
       "      <td>...</td>\n",
       "      <td>0.218952</td>\n",
       "      <td>0.015809</td>\n",
       "      <td>0.833522</td>\n",
       "      <td>3.484890</td>\n",
       "      <td>-0.010311</td>\n",
       "      <td>0.012439</td>\n",
       "      <td>0.624052</td>\n",
       "      <td>3.493925</td>\n",
       "      <td>-0.260463</td>\n",
       "      <td>0.014399</td>\n",
       "    </tr>\n",
       "    <tr>\n",
       "      <th>4</th>\n",
       "      <td>0.633798</td>\n",
       "      <td>0.787396</td>\n",
       "      <td>-1.443058</td>\n",
       "      <td>0.998304</td>\n",
       "      <td>0.666405</td>\n",
       "      <td>0.710132</td>\n",
       "      <td>-1.387218</td>\n",
       "      <td>0.998158</td>\n",
       "      <td>0.686601</td>\n",
       "      <td>0.710050</td>\n",
       "      <td>...</td>\n",
       "      <td>0.206674</td>\n",
       "      <td>0.014795</td>\n",
       "      <td>0.842069</td>\n",
       "      <td>3.482789</td>\n",
       "      <td>-0.089077</td>\n",
       "      <td>0.012177</td>\n",
       "      <td>0.634687</td>\n",
       "      <td>3.487085</td>\n",
       "      <td>-0.280130</td>\n",
       "      <td>0.013524</td>\n",
       "    </tr>\n",
       "  </tbody>\n",
       "</table>\n",
       "<p>5 rows × 132 columns</p>\n",
       "</div>"
      ],
      "text/plain": [
       "         x1        y1        z1        v1        x2        y2        z2  \\\n",
       "0  0.628011  0.803910 -1.331938  0.998005  0.659864  0.731436 -1.286930   \n",
       "1  0.628469  0.801049 -1.340854  0.998099  0.660312  0.725896 -1.292040   \n",
       "2  0.630058  0.796810 -1.445468  0.998151  0.662527  0.719059 -1.394889   \n",
       "3  0.631681  0.790357 -1.422371  0.998229  0.664590  0.713880 -1.369593   \n",
       "4  0.633798  0.787396 -1.443058  0.998304  0.666405  0.710132 -1.387218   \n",
       "\n",
       "         v2        x3        y3  ...       z31       v31       x32       y32  \\\n",
       "0  0.997851  0.680906  0.733898  ...  0.064412  0.018138  0.765906  3.471387   \n",
       "1  0.997952  0.681232  0.726501  ...  0.134194  0.017520  0.827965  3.474091   \n",
       "2  0.998014  0.683160  0.719084  ...  0.161804  0.016771  0.836411  3.472935   \n",
       "3  0.998084  0.685157  0.714091  ...  0.218952  0.015809  0.833522  3.484890   \n",
       "4  0.998158  0.686601  0.710050  ...  0.206674  0.014795  0.842069  3.482789   \n",
       "\n",
       "        z32       v32       x33       y33       z33       v33  \n",
       "0  0.127984  0.012243  0.560639  3.482920 -0.456769  0.015673  \n",
       "1  0.050169  0.012537  0.621462  3.490263 -0.356971  0.015642  \n",
       "2 -0.034858  0.012646  0.626235  3.492421 -0.337585  0.015287  \n",
       "3 -0.010311  0.012439  0.624052  3.493925 -0.260463  0.014399  \n",
       "4 -0.089077  0.012177  0.634687  3.487085 -0.280130  0.013524  \n",
       "\n",
       "[5 rows x 132 columns]"
      ]
     },
     "execution_count": 5,
     "metadata": {},
     "output_type": "execute_result"
    }
   ],
   "source": [
    "data.head()"
   ]
  },
  {
   "cell_type": "code",
   "execution_count": 36,
   "metadata": {},
   "outputs": [
    {
     "data": {
      "text/html": [
       "<div>\n",
       "<style scoped>\n",
       "    .dataframe tbody tr th:only-of-type {\n",
       "        vertical-align: middle;\n",
       "    }\n",
       "\n",
       "    .dataframe tbody tr th {\n",
       "        vertical-align: top;\n",
       "    }\n",
       "\n",
       "    .dataframe thead th {\n",
       "        text-align: right;\n",
       "    }\n",
       "</style>\n",
       "<table border=\"1\" class=\"dataframe\">\n",
       "  <thead>\n",
       "    <tr style=\"text-align: right;\">\n",
       "      <th></th>\n",
       "      <th>x1</th>\n",
       "      <th>y1</th>\n",
       "      <th>z1</th>\n",
       "      <th>v1</th>\n",
       "      <th>x2</th>\n",
       "      <th>y2</th>\n",
       "      <th>z2</th>\n",
       "      <th>v2</th>\n",
       "      <th>x3</th>\n",
       "      <th>y3</th>\n",
       "      <th>...</th>\n",
       "      <th>v31</th>\n",
       "      <th>x32</th>\n",
       "      <th>y32</th>\n",
       "      <th>z32</th>\n",
       "      <th>v32</th>\n",
       "      <th>x33</th>\n",
       "      <th>y33</th>\n",
       "      <th>z33</th>\n",
       "      <th>v33</th>\n",
       "      <th>Label</th>\n",
       "    </tr>\n",
       "  </thead>\n",
       "  <tbody>\n",
       "    <tr>\n",
       "      <th>0</th>\n",
       "      <td>0.579180</td>\n",
       "      <td>0.494718</td>\n",
       "      <td>-1.260400</td>\n",
       "      <td>0.999884</td>\n",
       "      <td>0.598910</td>\n",
       "      <td>0.437344</td>\n",
       "      <td>-1.202794</td>\n",
       "      <td>0.999647</td>\n",
       "      <td>0.615433</td>\n",
       "      <td>0.440355</td>\n",
       "      <td>...</td>\n",
       "      <td>5.854897e-07</td>\n",
       "      <td>0.738593</td>\n",
       "      <td>2.877994</td>\n",
       "      <td>0.449241</td>\n",
       "      <td>0.000004</td>\n",
       "      <td>0.548525</td>\n",
       "      <td>2.886744</td>\n",
       "      <td>0.250947</td>\n",
       "      <td>0.000006</td>\n",
       "      <td>1</td>\n",
       "    </tr>\n",
       "    <tr>\n",
       "      <th>1</th>\n",
       "      <td>0.579247</td>\n",
       "      <td>0.492518</td>\n",
       "      <td>-1.121348</td>\n",
       "      <td>0.999892</td>\n",
       "      <td>0.599189</td>\n",
       "      <td>0.435712</td>\n",
       "      <td>-1.065062</td>\n",
       "      <td>0.999672</td>\n",
       "      <td>0.615862</td>\n",
       "      <td>0.438817</td>\n",
       "      <td>...</td>\n",
       "      <td>5.664001e-07</td>\n",
       "      <td>0.734784</td>\n",
       "      <td>2.890085</td>\n",
       "      <td>0.500137</td>\n",
       "      <td>0.000004</td>\n",
       "      <td>0.547794</td>\n",
       "      <td>2.901754</td>\n",
       "      <td>0.407540</td>\n",
       "      <td>0.000006</td>\n",
       "      <td>1</td>\n",
       "    </tr>\n",
       "    <tr>\n",
       "      <th>2</th>\n",
       "      <td>0.579256</td>\n",
       "      <td>0.492384</td>\n",
       "      <td>-1.103188</td>\n",
       "      <td>0.999899</td>\n",
       "      <td>0.599271</td>\n",
       "      <td>0.435453</td>\n",
       "      <td>-1.047567</td>\n",
       "      <td>0.999691</td>\n",
       "      <td>0.616001</td>\n",
       "      <td>0.438468</td>\n",
       "      <td>...</td>\n",
       "      <td>5.734016e-07</td>\n",
       "      <td>0.732842</td>\n",
       "      <td>2.901172</td>\n",
       "      <td>0.495691</td>\n",
       "      <td>0.000004</td>\n",
       "      <td>0.547777</td>\n",
       "      <td>2.913632</td>\n",
       "      <td>0.506053</td>\n",
       "      <td>0.000006</td>\n",
       "      <td>1</td>\n",
       "    </tr>\n",
       "    <tr>\n",
       "      <th>3</th>\n",
       "      <td>0.579180</td>\n",
       "      <td>0.491912</td>\n",
       "      <td>-1.137667</td>\n",
       "      <td>0.999905</td>\n",
       "      <td>0.599163</td>\n",
       "      <td>0.434376</td>\n",
       "      <td>-1.083351</td>\n",
       "      <td>0.999710</td>\n",
       "      <td>0.615937</td>\n",
       "      <td>0.436995</td>\n",
       "      <td>...</td>\n",
       "      <td>5.510733e-07</td>\n",
       "      <td>0.724409</td>\n",
       "      <td>2.922381</td>\n",
       "      <td>0.584140</td>\n",
       "      <td>0.000004</td>\n",
       "      <td>0.535767</td>\n",
       "      <td>2.933913</td>\n",
       "      <td>0.466976</td>\n",
       "      <td>0.000005</td>\n",
       "      <td>1</td>\n",
       "    </tr>\n",
       "    <tr>\n",
       "      <th>4</th>\n",
       "      <td>0.579315</td>\n",
       "      <td>0.492281</td>\n",
       "      <td>-1.154184</td>\n",
       "      <td>0.999911</td>\n",
       "      <td>0.599251</td>\n",
       "      <td>0.434340</td>\n",
       "      <td>-1.100381</td>\n",
       "      <td>0.999729</td>\n",
       "      <td>0.616049</td>\n",
       "      <td>0.436875</td>\n",
       "      <td>...</td>\n",
       "      <td>5.601879e-07</td>\n",
       "      <td>0.725853</td>\n",
       "      <td>2.953179</td>\n",
       "      <td>0.608636</td>\n",
       "      <td>0.000004</td>\n",
       "      <td>0.538587</td>\n",
       "      <td>2.964739</td>\n",
       "      <td>0.654591</td>\n",
       "      <td>0.000005</td>\n",
       "      <td>1</td>\n",
       "    </tr>\n",
       "  </tbody>\n",
       "</table>\n",
       "<p>5 rows × 133 columns</p>\n",
       "</div>"
      ],
      "text/plain": [
       "         x1        y1        z1        v1        x2        y2        z2  \\\n",
       "0  0.579180  0.494718 -1.260400  0.999884  0.598910  0.437344 -1.202794   \n",
       "1  0.579247  0.492518 -1.121348  0.999892  0.599189  0.435712 -1.065062   \n",
       "2  0.579256  0.492384 -1.103188  0.999899  0.599271  0.435453 -1.047567   \n",
       "3  0.579180  0.491912 -1.137667  0.999905  0.599163  0.434376 -1.083351   \n",
       "4  0.579315  0.492281 -1.154184  0.999911  0.599251  0.434340 -1.100381   \n",
       "\n",
       "         v2        x3        y3  ...           v31       x32       y32  \\\n",
       "0  0.999647  0.615433  0.440355  ...  5.854897e-07  0.738593  2.877994   \n",
       "1  0.999672  0.615862  0.438817  ...  5.664001e-07  0.734784  2.890085   \n",
       "2  0.999691  0.616001  0.438468  ...  5.734016e-07  0.732842  2.901172   \n",
       "3  0.999710  0.615937  0.436995  ...  5.510733e-07  0.724409  2.922381   \n",
       "4  0.999729  0.616049  0.436875  ...  5.601879e-07  0.725853  2.953179   \n",
       "\n",
       "        z32       v32       x33       y33       z33       v33  Label  \n",
       "0  0.449241  0.000004  0.548525  2.886744  0.250947  0.000006      1  \n",
       "1  0.500137  0.000004  0.547794  2.901754  0.407540  0.000006      1  \n",
       "2  0.495691  0.000004  0.547777  2.913632  0.506053  0.000006      1  \n",
       "3  0.584140  0.000004  0.535767  2.933913  0.466976  0.000005      1  \n",
       "4  0.608636  0.000004  0.538587  2.964739  0.654591  0.000005      1  \n",
       "\n",
       "[5 rows x 133 columns]"
      ]
     },
     "execution_count": 36,
     "metadata": {},
     "output_type": "execute_result"
    }
   ],
   "source": [
    "dataset.head()"
   ]
  },
  {
   "cell_type": "code",
   "execution_count": 4,
   "metadata": {},
   "outputs": [],
   "source": [
    "X_train, X_test, y_train, y_test = train_test_split(data, target, test_size=0.1, shuffle=True, stratify=target, random_state= 1)"
   ]
  },
  {
   "cell_type": "code",
   "execution_count": 7,
   "metadata": {},
   "outputs": [
    {
     "data": {
      "text/html": [
       "<div>\n",
       "<style scoped>\n",
       "    .dataframe tbody tr th:only-of-type {\n",
       "        vertical-align: middle;\n",
       "    }\n",
       "\n",
       "    .dataframe tbody tr th {\n",
       "        vertical-align: top;\n",
       "    }\n",
       "\n",
       "    .dataframe thead th {\n",
       "        text-align: right;\n",
       "    }\n",
       "</style>\n",
       "<table border=\"1\" class=\"dataframe\">\n",
       "  <thead>\n",
       "    <tr style=\"text-align: right;\">\n",
       "      <th></th>\n",
       "      <th>x1</th>\n",
       "      <th>y1</th>\n",
       "      <th>z1</th>\n",
       "      <th>v1</th>\n",
       "      <th>x2</th>\n",
       "      <th>y2</th>\n",
       "      <th>z2</th>\n",
       "      <th>v2</th>\n",
       "      <th>x3</th>\n",
       "      <th>y3</th>\n",
       "      <th>...</th>\n",
       "      <th>z31</th>\n",
       "      <th>v31</th>\n",
       "      <th>x32</th>\n",
       "      <th>y32</th>\n",
       "      <th>z32</th>\n",
       "      <th>v32</th>\n",
       "      <th>x33</th>\n",
       "      <th>y33</th>\n",
       "      <th>z33</th>\n",
       "      <th>v33</th>\n",
       "    </tr>\n",
       "  </thead>\n",
       "  <tbody>\n",
       "    <tr>\n",
       "      <th>1409</th>\n",
       "      <td>0.534103</td>\n",
       "      <td>0.489854</td>\n",
       "      <td>-1.321002</td>\n",
       "      <td>0.999090</td>\n",
       "      <td>0.557185</td>\n",
       "      <td>0.434099</td>\n",
       "      <td>-1.257694</td>\n",
       "      <td>0.998739</td>\n",
       "      <td>0.573937</td>\n",
       "      <td>0.433766</td>\n",
       "      <td>...</td>\n",
       "      <td>0.381578</td>\n",
       "      <td>0.003851</td>\n",
       "      <td>0.663889</td>\n",
       "      <td>3.121562</td>\n",
       "      <td>0.212650</td>\n",
       "      <td>0.006062</td>\n",
       "      <td>0.463877</td>\n",
       "      <td>3.115129</td>\n",
       "      <td>-0.057812</td>\n",
       "      <td>0.004562</td>\n",
       "    </tr>\n",
       "    <tr>\n",
       "      <th>2017</th>\n",
       "      <td>0.330746</td>\n",
       "      <td>0.626786</td>\n",
       "      <td>-2.384874</td>\n",
       "      <td>0.999192</td>\n",
       "      <td>0.363776</td>\n",
       "      <td>0.553497</td>\n",
       "      <td>-2.335559</td>\n",
       "      <td>0.999062</td>\n",
       "      <td>0.385320</td>\n",
       "      <td>0.551774</td>\n",
       "      <td>...</td>\n",
       "      <td>0.127520</td>\n",
       "      <td>0.005640</td>\n",
       "      <td>0.658133</td>\n",
       "      <td>3.040761</td>\n",
       "      <td>0.090834</td>\n",
       "      <td>0.005068</td>\n",
       "      <td>0.465035</td>\n",
       "      <td>3.100737</td>\n",
       "      <td>-0.361319</td>\n",
       "      <td>0.005257</td>\n",
       "    </tr>\n",
       "    <tr>\n",
       "      <th>1508</th>\n",
       "      <td>0.490392</td>\n",
       "      <td>0.483849</td>\n",
       "      <td>-1.273045</td>\n",
       "      <td>0.999244</td>\n",
       "      <td>0.511147</td>\n",
       "      <td>0.426281</td>\n",
       "      <td>-1.208298</td>\n",
       "      <td>0.998965</td>\n",
       "      <td>0.530705</td>\n",
       "      <td>0.424418</td>\n",
       "      <td>...</td>\n",
       "      <td>0.358214</td>\n",
       "      <td>0.003645</td>\n",
       "      <td>0.676028</td>\n",
       "      <td>3.129936</td>\n",
       "      <td>0.152201</td>\n",
       "      <td>0.006242</td>\n",
       "      <td>0.476956</td>\n",
       "      <td>3.100738</td>\n",
       "      <td>-0.088131</td>\n",
       "      <td>0.004476</td>\n",
       "    </tr>\n",
       "    <tr>\n",
       "      <th>2488</th>\n",
       "      <td>0.159182</td>\n",
       "      <td>0.895470</td>\n",
       "      <td>-1.596916</td>\n",
       "      <td>0.996583</td>\n",
       "      <td>0.175321</td>\n",
       "      <td>0.814059</td>\n",
       "      <td>-1.629453</td>\n",
       "      <td>0.996558</td>\n",
       "      <td>0.192314</td>\n",
       "      <td>0.801144</td>\n",
       "      <td>...</td>\n",
       "      <td>0.541357</td>\n",
       "      <td>0.029676</td>\n",
       "      <td>0.451155</td>\n",
       "      <td>3.003336</td>\n",
       "      <td>0.247043</td>\n",
       "      <td>0.015010</td>\n",
       "      <td>0.247103</td>\n",
       "      <td>3.090301</td>\n",
       "      <td>0.206825</td>\n",
       "      <td>0.033083</td>\n",
       "    </tr>\n",
       "    <tr>\n",
       "      <th>1974</th>\n",
       "      <td>0.524813</td>\n",
       "      <td>0.482401</td>\n",
       "      <td>-1.435248</td>\n",
       "      <td>0.998926</td>\n",
       "      <td>0.549318</td>\n",
       "      <td>0.428488</td>\n",
       "      <td>-1.365214</td>\n",
       "      <td>0.998561</td>\n",
       "      <td>0.567435</td>\n",
       "      <td>0.427764</td>\n",
       "      <td>...</td>\n",
       "      <td>0.459725</td>\n",
       "      <td>0.003777</td>\n",
       "      <td>0.663347</td>\n",
       "      <td>3.129468</td>\n",
       "      <td>0.189247</td>\n",
       "      <td>0.006504</td>\n",
       "      <td>0.466772</td>\n",
       "      <td>3.112898</td>\n",
       "      <td>-0.003536</td>\n",
       "      <td>0.004260</td>\n",
       "    </tr>\n",
       "  </tbody>\n",
       "</table>\n",
       "<p>5 rows × 132 columns</p>\n",
       "</div>"
      ],
      "text/plain": [
       "            x1        y1        z1        v1        x2        y2        z2  \\\n",
       "1409  0.534103  0.489854 -1.321002  0.999090  0.557185  0.434099 -1.257694   \n",
       "2017  0.330746  0.626786 -2.384874  0.999192  0.363776  0.553497 -2.335559   \n",
       "1508  0.490392  0.483849 -1.273045  0.999244  0.511147  0.426281 -1.208298   \n",
       "2488  0.159182  0.895470 -1.596916  0.996583  0.175321  0.814059 -1.629453   \n",
       "1974  0.524813  0.482401 -1.435248  0.998926  0.549318  0.428488 -1.365214   \n",
       "\n",
       "            v2        x3        y3  ...       z31       v31       x32  \\\n",
       "1409  0.998739  0.573937  0.433766  ...  0.381578  0.003851  0.663889   \n",
       "2017  0.999062  0.385320  0.551774  ...  0.127520  0.005640  0.658133   \n",
       "1508  0.998965  0.530705  0.424418  ...  0.358214  0.003645  0.676028   \n",
       "2488  0.996558  0.192314  0.801144  ...  0.541357  0.029676  0.451155   \n",
       "1974  0.998561  0.567435  0.427764  ...  0.459725  0.003777  0.663347   \n",
       "\n",
       "           y32       z32       v32       x33       y33       z33       v33  \n",
       "1409  3.121562  0.212650  0.006062  0.463877  3.115129 -0.057812  0.004562  \n",
       "2017  3.040761  0.090834  0.005068  0.465035  3.100737 -0.361319  0.005257  \n",
       "1508  3.129936  0.152201  0.006242  0.476956  3.100738 -0.088131  0.004476  \n",
       "2488  3.003336  0.247043  0.015010  0.247103  3.090301  0.206825  0.033083  \n",
       "1974  3.129468  0.189247  0.006504  0.466772  3.112898 -0.003536  0.004260  \n",
       "\n",
       "[5 rows x 132 columns]"
      ]
     },
     "execution_count": 7,
     "metadata": {},
     "output_type": "execute_result"
    }
   ],
   "source": [
    "X_train.head()"
   ]
  },
  {
   "cell_type": "code",
   "execution_count": 8,
   "metadata": {},
   "outputs": [
    {
     "data": {
      "text/html": [
       "<div>\n",
       "<style scoped>\n",
       "    .dataframe tbody tr th:only-of-type {\n",
       "        vertical-align: middle;\n",
       "    }\n",
       "\n",
       "    .dataframe tbody tr th {\n",
       "        vertical-align: top;\n",
       "    }\n",
       "\n",
       "    .dataframe thead th {\n",
       "        text-align: right;\n",
       "    }\n",
       "</style>\n",
       "<table border=\"1\" class=\"dataframe\">\n",
       "  <thead>\n",
       "    <tr style=\"text-align: right;\">\n",
       "      <th></th>\n",
       "      <th>class</th>\n",
       "    </tr>\n",
       "  </thead>\n",
       "  <tbody>\n",
       "    <tr>\n",
       "      <th>1409</th>\n",
       "      <td>1</td>\n",
       "    </tr>\n",
       "    <tr>\n",
       "      <th>2017</th>\n",
       "      <td>2</td>\n",
       "    </tr>\n",
       "    <tr>\n",
       "      <th>1508</th>\n",
       "      <td>1</td>\n",
       "    </tr>\n",
       "    <tr>\n",
       "      <th>2488</th>\n",
       "      <td>2</td>\n",
       "    </tr>\n",
       "    <tr>\n",
       "      <th>1974</th>\n",
       "      <td>1</td>\n",
       "    </tr>\n",
       "  </tbody>\n",
       "</table>\n",
       "</div>"
      ],
      "text/plain": [
       "      class\n",
       "1409      1\n",
       "2017      2\n",
       "1508      1\n",
       "2488      2\n",
       "1974      1"
      ]
     },
     "execution_count": 8,
     "metadata": {},
     "output_type": "execute_result"
    }
   ],
   "source": [
    "y_train.head() # 2= right, 1=middle , 0 =left"
   ]
  },
  {
   "cell_type": "code",
   "execution_count": 5,
   "metadata": {},
   "outputs": [
    {
     "name": "stdout",
     "output_type": "stream",
     "text": [
      "(2700, 132) (2700, 1)\n"
     ]
    }
   ],
   "source": [
    "print(X_train.shape, y_train.shape)"
   ]
  },
  {
   "cell_type": "code",
   "execution_count": 6,
   "metadata": {},
   "outputs": [],
   "source": [
    "Y_train = tf.keras.utils.to_categorical(y_train)# one hot encoding\n",
    "Y_test = tf.keras.utils.to_categorical(y_test)"
   ]
  },
  {
   "cell_type": "code",
   "execution_count": 10,
   "metadata": {},
   "outputs": [
    {
     "data": {
      "text/plain": [
       "array([0., 1., 0.], dtype=float32)"
      ]
     },
     "execution_count": 10,
     "metadata": {},
     "output_type": "execute_result"
    }
   ],
   "source": [
    "Y_train[4]"
   ]
  },
  {
   "cell_type": "code",
   "execution_count": 11,
   "metadata": {},
   "outputs": [
    {
     "data": {
      "text/plain": [
       "(2700, 3)"
      ]
     },
     "execution_count": 11,
     "metadata": {},
     "output_type": "execute_result"
    }
   ],
   "source": [
    "Y_train.shape"
   ]
  },
  {
   "cell_type": "code",
   "execution_count": 7,
   "metadata": {},
   "outputs": [
    {
     "name": "stderr",
     "output_type": "stream",
     "text": [
      "2023-02-15 10:11:26.207125: I tensorflow/compiler/xla/stream_executor/cuda/cuda_gpu_executor.cc:967] could not open file to read NUMA node: /sys/bus/pci/devices/0000:2b:00.0/numa_node\n",
      "Your kernel may have been built without NUMA support.\n",
      "2023-02-15 10:11:26.247993: I tensorflow/compiler/xla/stream_executor/cuda/cuda_gpu_executor.cc:967] could not open file to read NUMA node: /sys/bus/pci/devices/0000:2b:00.0/numa_node\n",
      "Your kernel may have been built without NUMA support.\n",
      "2023-02-15 10:11:26.248056: I tensorflow/compiler/xla/stream_executor/cuda/cuda_gpu_executor.cc:967] could not open file to read NUMA node: /sys/bus/pci/devices/0000:2b:00.0/numa_node\n",
      "Your kernel may have been built without NUMA support.\n",
      "2023-02-15 10:11:26.249652: I tensorflow/core/platform/cpu_feature_guard.cc:193] This TensorFlow binary is optimized with oneAPI Deep Neural Network Library (oneDNN) to use the following CPU instructions in performance-critical operations:  AVX2 FMA\n",
      "To enable them in other operations, rebuild TensorFlow with the appropriate compiler flags.\n",
      "2023-02-15 10:11:26.251758: I tensorflow/compiler/xla/stream_executor/cuda/cuda_gpu_executor.cc:967] could not open file to read NUMA node: /sys/bus/pci/devices/0000:2b:00.0/numa_node\n",
      "Your kernel may have been built without NUMA support.\n",
      "2023-02-15 10:11:26.251810: I tensorflow/compiler/xla/stream_executor/cuda/cuda_gpu_executor.cc:967] could not open file to read NUMA node: /sys/bus/pci/devices/0000:2b:00.0/numa_node\n",
      "Your kernel may have been built without NUMA support.\n",
      "2023-02-15 10:11:26.251839: I tensorflow/compiler/xla/stream_executor/cuda/cuda_gpu_executor.cc:967] could not open file to read NUMA node: /sys/bus/pci/devices/0000:2b:00.0/numa_node\n",
      "Your kernel may have been built without NUMA support.\n",
      "2023-02-15 10:11:27.460195: I tensorflow/compiler/xla/stream_executor/cuda/cuda_gpu_executor.cc:967] could not open file to read NUMA node: /sys/bus/pci/devices/0000:2b:00.0/numa_node\n",
      "Your kernel may have been built without NUMA support.\n",
      "2023-02-15 10:11:27.460641: I tensorflow/compiler/xla/stream_executor/cuda/cuda_gpu_executor.cc:967] could not open file to read NUMA node: /sys/bus/pci/devices/0000:2b:00.0/numa_node\n",
      "Your kernel may have been built without NUMA support.\n",
      "2023-02-15 10:11:27.460652: I tensorflow/core/common_runtime/gpu/gpu_device.cc:1700] Could not identify NUMA node of platform GPU id 0, defaulting to 0.  Your kernel may not have been built with NUMA support.\n",
      "2023-02-15 10:11:27.460696: I tensorflow/compiler/xla/stream_executor/cuda/cuda_gpu_executor.cc:967] could not open file to read NUMA node: /sys/bus/pci/devices/0000:2b:00.0/numa_node\n",
      "Your kernel may have been built without NUMA support.\n",
      "2023-02-15 10:11:27.461108: I tensorflow/core/common_runtime/gpu/gpu_device.cc:1613] Created device /job:localhost/replica:0/task:0/device:GPU:0 with 9368 MB memory:  -> device: 0, name: NVIDIA GeForce RTX 3080 Ti, pci bus id: 0000:2b:00.0, compute capability: 8.6\n"
     ]
    }
   ],
   "source": [
    "# model \n",
    "\n",
    "# model \n",
    "model = tf.keras.Sequential()\n",
    "model.add(tf.keras.layers.Dense(128, activation='relu', input_shape=(132,)))\n",
    "model.add(tf.keras.layers.Dropout(0.5)) # add dropout layer\n",
    "model.add(tf.keras.layers.Dense(64, activation='relu'))\n",
    "model.add(tf.keras.layers.Dense(3, activation='softmax')) # 1=forward, 2=right, 0=left\n",
    "# for multiclassification, use softmax func.\n",
    "# There is no CNN layer because there is no image input. \n",
    "# image input -> csv data -> modeling \n",
    "\n",
    "# Compile \n",
    "\n",
    "model.compile(optimizer='adam', loss='categorical_crossentropy', metrics=['accuracy'])\n"
   ]
  },
  {
   "cell_type": "code",
   "execution_count": 8,
   "metadata": {},
   "outputs": [
    {
     "name": "stdout",
     "output_type": "stream",
     "text": [
      "Epoch 1/10\n"
     ]
    },
    {
     "name": "stderr",
     "output_type": "stream",
     "text": [
      "2023-02-15 10:11:33.605109: I tensorflow/compiler/xla/stream_executor/cuda/cuda_blas.cc:630] TensorFloat-32 will be used for the matrix multiplication. This will only be logged once.\n",
      "2023-02-15 10:11:33.633422: I tensorflow/compiler/xla/service/service.cc:173] XLA service 0x1cece470 initialized for platform CUDA (this does not guarantee that XLA will be used). Devices:\n",
      "2023-02-15 10:11:33.633449: I tensorflow/compiler/xla/service/service.cc:181]   StreamExecutor device (0): NVIDIA GeForce RTX 3080 Ti, Compute Capability 8.6\n",
      "2023-02-15 10:11:33.654096: I tensorflow/compiler/mlir/tensorflow/utils/dump_mlir_util.cc:268] disabling MLIR crash reproducer, set env var `MLIR_CRASH_REPRODUCER_DIRECTORY` to enable.\n",
      "2023-02-15 10:11:33.899883: I tensorflow/compiler/jit/xla_compilation_cache.cc:477] Compiled cluster using XLA!  This line is logged at most once for the lifetime of the process.\n"
     ]
    },
    {
     "name": "stdout",
     "output_type": "stream",
     "text": [
      "85/85 [==============================] - 3s 8ms/step - loss: 0.5610 - accuracy: 0.7856\n",
      "Epoch 2/10\n",
      "85/85 [==============================] - 1s 7ms/step - loss: 0.0789 - accuracy: 0.9870\n",
      "Epoch 3/10\n",
      "85/85 [==============================] - 1s 6ms/step - loss: 0.0307 - accuracy: 0.9952\n",
      "Epoch 4/10\n",
      "85/85 [==============================] - 1s 6ms/step - loss: 0.0156 - accuracy: 0.9989\n",
      "Epoch 5/10\n",
      "85/85 [==============================] - 1s 6ms/step - loss: 0.0176 - accuracy: 0.9952\n",
      "Epoch 6/10\n",
      "85/85 [==============================] - 1s 7ms/step - loss: 0.0118 - accuracy: 0.9967\n",
      "Epoch 7/10\n",
      "85/85 [==============================] - 1s 6ms/step - loss: 0.0139 - accuracy: 0.9956\n",
      "Epoch 8/10\n",
      "85/85 [==============================] - 1s 6ms/step - loss: 0.0146 - accuracy: 0.9959\n",
      "Epoch 9/10\n",
      "85/85 [==============================] - 1s 6ms/step - loss: 0.0063 - accuracy: 0.9996\n",
      "Epoch 10/10\n",
      "85/85 [==============================] - 1s 7ms/step - loss: 0.0042 - accuracy: 0.9996\n"
     ]
    },
    {
     "data": {
      "text/plain": [
       "<keras.callbacks.History at 0x7f3b691b4190>"
      ]
     },
     "execution_count": 8,
     "metadata": {},
     "output_type": "execute_result"
    }
   ],
   "source": [
    "# Train the model\n",
    "model.fit(X_train, Y_train, epochs=10)"
   ]
  },
  {
   "cell_type": "code",
   "execution_count": 9,
   "metadata": {},
   "outputs": [
    {
     "name": "stdout",
     "output_type": "stream",
     "text": [
      "10/10 [==============================] - 0s 6ms/step - loss: 9.1267e-04 - accuracy: 1.0000\n",
      "accuracy:  1.0\n"
     ]
    }
   ],
   "source": [
    "# evaluate\n",
    "results = model.evaluate(X_test, Y_test)\n",
    "print('accuracy: ', results[1])"
   ]
  },
  {
   "cell_type": "code",
   "execution_count": 10,
   "metadata": {},
   "outputs": [],
   "source": [
    "model.save('Maded_model_4.h5') #save"
   ]
  },
  {
   "cell_type": "code",
   "execution_count": 16,
   "metadata": {},
   "outputs": [
    {
     "name": "stdout",
     "output_type": "stream",
     "text": [
      "19/19 [==============================] - 0s 3ms/step\n"
     ]
    },
    {
     "data": {
      "text/plain": [
       "array([[6.0585990e-09, 3.8889929e-08, 1.0000000e+00],\n",
       "       [5.6523066e-09, 6.9247039e-07, 9.9999928e-01],\n",
       "       [1.0889101e-02, 9.6603239e-01, 2.3078546e-02],\n",
       "       ...,\n",
       "       [2.8006685e-14, 1.0813359e-08, 1.0000000e+00],\n",
       "       [1.2353816e-07, 2.0341283e-06, 9.9999785e-01],\n",
       "       [1.6692317e-04, 9.9975604e-01, 7.6937235e-05]], dtype=float32)"
      ]
     },
     "execution_count": 16,
     "metadata": {},
     "output_type": "execute_result"
    }
   ],
   "source": [
    "model.predict(X_test)"
   ]
  },
  {
   "cell_type": "code",
   "execution_count": 16,
   "metadata": {},
   "outputs": [
    {
     "name": "stdout",
     "output_type": "stream",
     "text": [
      "/bin/bash: /home/user/anaconda3/envs/tf/lib/libtinfo.so.6: no version information available (required by /bin/bash)\n",
      "/mnt/c/Users/KOJUNSUNG/Desktop/lab/git/TIL/DL/Project\n"
     ]
    }
   ],
   "source": [
    "!pwd"
   ]
  },
  {
   "cell_type": "code",
   "execution_count": 18,
   "metadata": {},
   "outputs": [
    {
     "data": {
      "text/plain": [
       "(600, 132)"
      ]
     },
     "execution_count": 18,
     "metadata": {},
     "output_type": "execute_result"
    }
   ],
   "source": [
    "X_test.shape"
   ]
  },
  {
   "cell_type": "code",
   "execution_count": 6,
   "metadata": {},
   "outputs": [
    {
     "name": "stdout",
     "output_type": "stream",
     "text": [
      "10/10 [==============================] - 1s 3ms/step\n"
     ]
    },
    {
     "name": "stderr",
     "output_type": "stream",
     "text": [
      "2023-02-14 20:55:48.828644: I tensorflow/compiler/xla/stream_executor/cuda/cuda_blas.cc:630] TensorFloat-32 will be used for the matrix multiplication. This will only be logged once.\n"
     ]
    }
   ],
   "source": [
    "from tensorflow.keras.models import load_model\n",
    "\n",
    "p_model=load_model('Maded_model.h5')\n",
    "pred = p_model.predict(X_test)"
   ]
  },
  {
   "cell_type": "code",
   "execution_count": 7,
   "metadata": {},
   "outputs": [
    {
     "data": {
      "text/plain": [
       "array([9.9916601e-01, 3.0002990e-04, 5.3401606e-04], dtype=float32)"
      ]
     },
     "execution_count": 7,
     "metadata": {},
     "output_type": "execute_result"
    }
   ],
   "source": [
    "pred[0]"
   ]
  },
  {
   "cell_type": "code",
   "execution_count": 8,
   "metadata": {},
   "outputs": [
    {
     "data": {
      "text/plain": [
       "0"
      ]
     },
     "execution_count": 8,
     "metadata": {},
     "output_type": "execute_result"
    }
   ],
   "source": [
    "# if you want to reverse one-hot encoding, use np.argmax()\n",
    "pred[0].argmax()"
   ]
  },
  {
   "cell_type": "code",
   "execution_count": 30,
   "metadata": {},
   "outputs": [
    {
     "name": "stdout",
     "output_type": "stream",
     "text": [
      "[0, 1, 2, 1, 0, 1, 1, 0, 2, 0, 0, 0, 2, 0, 2, 2, 0, 0, 0, 1, 1, 1, 0, 1, 2, 0, 2, 0, 2, 0, 0, 2, 2, 0, 0, 1, 2, 1, 2, 2, 1, 0, 2, 2, 2, 2, 2, 2, 0, 0, 0, 1, 1, 0, 1, 2, 1, 2, 2, 0, 2, 0, 0, 2, 2, 1, 2, 1, 1, 2, 0, 1, 1, 2, 2, 0, 2, 0, 2, 2, 0, 0, 1, 1, 1, 0, 2, 0, 1, 0, 0, 1, 2, 2, 1, 0, 0, 2, 0, 1, 2, 0, 1, 0, 0, 1, 2, 0, 1, 2, 0, 2, 2, 2, 1, 1, 2, 2, 2, 2, 2, 2, 2, 2, 1, 2, 1, 2, 2, 2, 0, 1, 0, 2, 0, 1, 2, 0, 2, 2, 0, 1, 2, 0, 1, 0, 1, 0, 1, 0, 1, 1, 0, 2, 0, 2, 0, 1, 1, 0, 2, 2, 2, 1, 2, 0, 0, 2, 0, 1, 2, 1, 2, 2, 1, 1, 0, 2, 0, 1, 2, 0, 1, 0, 2, 0, 0, 2, 1, 2, 1, 2, 2, 0, 2, 2, 0, 0, 1, 0, 0, 2, 2, 1, 0, 2, 2, 1, 2, 2, 1, 1, 0, 2, 1, 0, 0, 2, 0, 0, 1, 1, 1, 1, 0, 0, 2, 0, 0, 2, 2, 1, 2, 1, 2, 1, 2, 0, 1, 0, 0, 0, 2, 0, 1, 2, 2, 0, 2, 2, 0, 1, 1, 0, 0, 0, 1, 2, 2, 0, 1, 1, 2, 2, 2, 0, 1, 1, 1, 1, 2, 1, 1, 1, 2, 0, 2, 1, 1, 0, 1, 2, 2, 0, 0, 2, 1]\n"
     ]
    }
   ],
   "source": [
    "results = []\n",
    "for i in pred:\n",
    "    results.append(i.argmax())\n",
    "print(results)    "
   ]
  },
  {
   "cell_type": "code",
   "execution_count": 33,
   "metadata": {},
   "outputs": [
    {
     "data": {
      "text/plain": [
       "1"
      ]
     },
     "execution_count": 33,
     "metadata": {},
     "output_type": "execute_result"
    }
   ],
   "source": [
    "round(np.mean(results))"
   ]
  },
  {
   "cell_type": "code",
   "execution_count": 34,
   "metadata": {},
   "outputs": [],
   "source": [
    "map_dict = {0: \"left\", 1: \"middle\", 2: \"right\"}"
   ]
  },
  {
   "cell_type": "code",
   "execution_count": 36,
   "metadata": {},
   "outputs": [
    {
     "name": "stdout",
     "output_type": "stream",
     "text": [
      "['middle', 'left', 'right', 'left', 'middle', 'left', 'left', 'middle', 'right', 'middle', 'middle', 'middle', 'right', 'middle', 'right', 'right', 'middle', 'middle', 'middle', 'left', 'left', 'left', 'middle', 'left', 'right', 'middle', 'right', 'middle', 'right', 'middle', 'middle', 'right', 'right', 'middle', 'middle', 'left', 'right', 'left', 'right', 'right', 'left', 'middle', 'right', 'right', 'right', 'right', 'right', 'right', 'middle', 'middle', 'middle', 'left', 'left', 'middle', 'left', 'right', 'left', 'right', 'right', 'middle', 'right', 'middle', 'middle', 'right', 'right', 'left', 'right', 'left', 'left', 'right', 'middle', 'left', 'left', 'right', 'right', 'middle', 'right', 'middle', 'right', 'right', 'middle', 'middle', 'left', 'left', 'left', 'middle', 'right', 'middle', 'left', 'middle', 'middle', 'left', 'right', 'right', 'left', 'middle', 'middle', 'right', 'middle', 'left', 'right', 'middle', 'left', 'middle', 'middle', 'left', 'right', 'middle', 'left', 'right', 'middle', 'right', 'right', 'right', 'left', 'left', 'right', 'right', 'right', 'right', 'right', 'right', 'right', 'right', 'left', 'right', 'left', 'right', 'right', 'right', 'middle', 'left', 'middle', 'right', 'middle', 'left', 'right', 'middle', 'right', 'right', 'middle', 'left', 'right', 'middle', 'left', 'middle', 'left', 'middle', 'left', 'middle', 'left', 'left', 'middle', 'right', 'middle', 'right', 'middle', 'left', 'left', 'middle', 'right', 'right', 'right', 'left', 'right', 'middle', 'middle', 'right', 'middle', 'left', 'right', 'left', 'right', 'right', 'left', 'left', 'middle', 'right', 'middle', 'left', 'right', 'middle', 'left', 'middle', 'right', 'middle', 'middle', 'right', 'left', 'right', 'left', 'right', 'right', 'middle', 'right', 'right', 'middle', 'middle', 'left', 'middle', 'middle', 'right', 'right', 'left', 'middle', 'right', 'right', 'left', 'right', 'right', 'left', 'left', 'middle', 'right', 'left', 'middle', 'middle', 'right', 'middle', 'middle', 'left', 'left', 'left', 'left', 'middle', 'middle', 'right', 'middle', 'middle', 'right', 'right', 'left', 'right', 'left', 'right', 'left', 'right', 'middle', 'left', 'middle', 'middle', 'middle', 'right', 'middle', 'left', 'right', 'right', 'middle', 'right', 'right', 'middle', 'left', 'left', 'middle', 'middle', 'middle', 'left', 'right', 'right', 'middle', 'left', 'left', 'right', 'right', 'right', 'middle', 'left', 'left', 'left', 'left', 'right', 'left', 'left', 'left', 'right', 'middle', 'right', 'left', 'left', 'middle', 'left', 'right', 'right', 'middle', 'middle', 'right', 'left']\n"
     ]
    }
   ],
   "source": [
    "pred_name = []\n",
    "for i in results:\n",
    "    pred_name.append(map_dict[i])\n",
    "print(pred_name)"
   ]
  },
  {
   "cell_type": "code",
   "execution_count": null,
   "metadata": {},
   "outputs": [],
   "source": []
  },
  {
   "cell_type": "code",
   "execution_count": null,
   "metadata": {},
   "outputs": [],
   "source": []
  }
 ],
 "metadata": {
  "kernelspec": {
   "display_name": "tf",
   "language": "python",
   "name": "python3"
  },
  "language_info": {
   "codemirror_mode": {
    "name": "ipython",
    "version": 3
   },
   "file_extension": ".py",
   "mimetype": "text/x-python",
   "name": "python",
   "nbconvert_exporter": "python",
   "pygments_lexer": "ipython3",
   "version": "3.9.15"
  },
  "orig_nbformat": 4,
  "vscode": {
   "interpreter": {
    "hash": "71be762759ae1b1747e1cfc60efa181cfc93ac416fe5084a790ec64e97c902b4"
   }
  }
 },
 "nbformat": 4,
 "nbformat_minor": 2
}
