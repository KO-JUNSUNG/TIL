{
  "cells": [
    {
      "cell_type": "code",
      "execution_count": 1,
      "metadata": {},
      "outputs": [],
      "source": [
        "import numpy as np\n",
        "import pandas as pd"
      ]
    },
    {
      "cell_type": "code",
      "execution_count": 2,
      "metadata": {
        "id": "U06FgkucIBw8"
      },
      "outputs": [],
      "source": [
        "# 숫자로된 x_1, x_2 를 입력 받고 0 또는 1로 출력할수있는 AND, OR 연산을 만들어 보세요\n",
        "\n",
        "def and_fun(x_1, x_2):\n",
        "    w_0=-0.7\n",
        "    w_1=0.4\n",
        "    w_2=0.4\n",
        "    output = w_1 * x_1 + w_2 * x_2 + w_0\n",
        "    if output>0:\n",
        "        return 1\n",
        "    else:\n",
        "        return 0\n",
        "\n",
        "\n",
        "def or_fun(x_1, x_2):\n",
        "    w_0=-0.2\n",
        "    w_1=0.4\n",
        "    w_2=0.4\n",
        "    output = w_1 * x_1 + w_2 * x_2 + w_0\n",
        "    if output>0:\n",
        "        return 1\n",
        "    else:\n",
        "        return 0\n"
      ]
    },
    {
      "attachments": {},
      "cell_type": "markdown",
      "metadata": {},
      "source": [
        "AND, NAND, OR 게이트를 구성하기 위해서는 적절한 (w1, w2, θ)를 설정해야 합니다. 만약 (w1, w2, θ) = (0.5, 0.5, 0.7)로 설정하였을 때 AND 게이트를 만족하려면 x1 = 1, x2 = 1일 때에만\n",
        "\n",
        "w1*x1 + w2 * x2 + b ≥ 0 를 만족해야 합니다.\n",
        "\n",
        "NAND 를 만족하려면 AND 게이트를 만족하는 매개변수의 부호를 바꾸면 됩니다.\n",
        "\n",
        "즉, (w1, w2, θ) = (-0.5, -0.5, -0.7)\n",
        "\n",
        "OR를 만족하는 매개변수를 찾으면 다음과 같은 예가 있습니다.\n",
        "\n",
        "(w1, w2, θ) = (0.5, 0.5, -0.2)\n",
        "\n",
        "- 매개변수 w는 임의로 찾은 값입니다. 조건을 만족하는 다른 값은 많이 있을 수 있습니다. 입력 x는 (0,1) 또는 (1,0) 또는 (0,0),(1,1) 로 제한됩니다.\n",
        "\n",
        "## [퍼셉트론 논리식]\n",
        "\n",
        "y = { 0  (w1*x1+w2*x2 +b≤0)\n",
        "\n",
        "​      1  (w1​*x1+w2*x2+b>0)\n",
        "​\n",
        "## OR gate\n",
        "\n",
        "(x1​,x2) = (0, 0)일 때 출력값은 0(동그라미로 표시)\n",
        "\n",
        "(x1,x2) = (1, 0), (0,1), (1,1) 일 때 1\n",
        "\n",
        "\n",
        "![이미지](https://velog.velcdn.com/images%2Fcitizenyves%2Fpost%2F5e1e58ac-0bc7-40ce-82e8-b3f1642349e8%2Fimage.png) \n",
        "\n",
        "## AND gate\n",
        "\n",
        "(x1,x2) = (0,0), (1,0), (0,1) 일 때 출력값은 0\n",
        "\n",
        "(x1,x2) = (1,1) 일 때 출력값은 1\n",
        "\n",
        "\n",
        "![이미지](https://www.edureka.co/blog/wp-content/uploads/2017/07/AND-Gate-Classifier-Deep-Learning-Tutorial-Edureka-528x194.png)"
      ]
    },
    {
      "cell_type": "code",
      "execution_count": 6,
      "metadata": {},
      "outputs": [
        {
          "data": {
            "text/plain": [
              "1"
            ]
          },
          "execution_count": 6,
          "metadata": {},
          "output_type": "execute_result"
        }
      ],
      "source": [
        "and_fun(0,2)"
      ]
    },
    {
      "cell_type": "code",
      "execution_count": 7,
      "metadata": {},
      "outputs": [
        {
          "name": "stdout",
          "output_type": "stream",
          "text": [
            "1 0\n"
          ]
        }
      ],
      "source": [
        "print(or_fun(0,1),or_fun(0,0))"
      ]
    },
    {
      "cell_type": "code",
      "execution_count": null,
      "metadata": {},
      "outputs": [],
      "source": []
    }
  ],
  "metadata": {
    "colab": {
      "provenance": []
    },
    "kernelspec": {
      "display_name": "base",
      "language": "python",
      "name": "python3"
    },
    "language_info": {
      "codemirror_mode": {
        "name": "ipython",
        "version": 3
      },
      "file_extension": ".py",
      "mimetype": "text/x-python",
      "name": "python",
      "nbconvert_exporter": "python",
      "pygments_lexer": "ipython3",
      "version": "3.9.12"
    },
    "orig_nbformat": 4,
    "vscode": {
      "interpreter": {
        "hash": "80cc27e9a0e8aa59b18a6f502b8a24c9fe77be3bcd87d0900d8763aa62f81a4d"
      }
    }
  },
  "nbformat": 4,
  "nbformat_minor": 0
}
