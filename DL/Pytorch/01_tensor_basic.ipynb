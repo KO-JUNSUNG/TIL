{
  "nbformat": 4,
  "nbformat_minor": 0,
  "metadata": {
    "colab": {
      "provenance": []
    },
    "kernelspec": {
      "name": "python3",
      "display_name": "Python 3"
    },
    "language_info": {
      "name": "python"
    },
    "accelerator": "GPU",
    "gpuClass": "standard"
  },
  "cells": [
    {
      "cell_type": "markdown",
      "source": [
        "# 텐서(Tensor)"
      ],
      "metadata": {
        "id": "5O_4lWEq5a9K"
      }
    },
    {
      "cell_type": "code",
      "execution_count": null,
      "metadata": {
        "id": "pfz62Rr84ack"
      },
      "outputs": [],
      "source": [
        "import torch\n",
        "import numpy as np"
      ]
    },
    {
      "cell_type": "code",
      "source": [
        "print(\" torch: {}\".format(torch.__version__))\n",
        "print(\" Use GPU? {}\".format(torch.cuda.is_available()))"
      ],
      "metadata": {
        "colab": {
          "base_uri": "https://localhost:8080/"
        },
        "id": "yprcNnY946Yb",
        "outputId": "c8b01285-d63d-4da8-9aa1-3ad2eb7d794c"
      },
      "execution_count": null,
      "outputs": [
        {
          "output_type": "stream",
          "name": "stdout",
          "text": [
            " torch: 1.13.1+cu116\n",
            " Use GPU? True\n"
          ]
        }
      ]
    },
    {
      "cell_type": "markdown",
      "source": [
        "```python\n",
        "torch.Tensor와 torch.tensor의 차이\n",
        "\n",
        "- \"torch.Tensor\"\n",
        "    - 클래스 (Class)\n",
        "    - int 입력시 float로 변환\n",
        "    - torch 데이터 입력시 입력 받은 데이터의 메모리 공간을 사용\n",
        "    - list, numpy 데이터 입력 시 입력 받은 데이터를 복사하여\n",
        "      새롭게 torch.Tensor를 만든 후 사용\n",
        "- \"torch.tensor\"\n",
        "    - 함수 (Function)\n",
        "    - int 입력시 int 그대로 입력\n",
        "    - 입력 받은 데이터를 새로운 메모리 공간으로 복사 후 사용\n",
        "\n",
        "아래의 코드를 작성해놨는데 보면서 명확하게 이해해볼게요.\n",
        "\n",
        "** 다 알고 있는 것 같지만, 잊지말아야할 Tip\n",
        "클래스 (Class)는 앞글자가 대문자로 시작하고\n",
        "함수 (Function)은 앞글자가 소문자로 시작해요!\n",
        "이 규칙은 PyTorch 전반에 걸쳐서 잘 적용되어 있어요.\n",
        "```"
      ],
      "metadata": {
        "id": "d6FPLyMPSCko"
      }
    },
    {
      "cell_type": "code",
      "source": [
        "# torch.Tensor - [torch.Tensor 입력]\n",
        "print(\"torch.Tensor는 torch 데이터 입력시 메모리 공간을 그대로 사용합니다!\")\n",
        "print(\"기존 Tensor의 값을 수정하면 새롭게 만들어진 Tensor의 값도 수정됩니다!\")\n",
        "print(\"-\" * 50)\n",
        "original_data = torch.Tensor([1])\n",
        "new_data = torch.Tensor(original_data)\n",
        "print(f\"original : {original_data} new : {new_data}\")\n",
        " \n",
        "# original data를 수정하자\n",
        "original_data[0] = 2\n",
        "print(f\"original : {original_data} new : {new_data}\")"
      ],
      "metadata": {
        "colab": {
          "base_uri": "https://localhost:8080/"
        },
        "id": "mL5hZbZW5eg7",
        "outputId": "6d2f2a26-2c89-41cf-b4d9-f1153a52a901"
      },
      "execution_count": null,
      "outputs": [
        {
          "output_type": "stream",
          "name": "stdout",
          "text": [
            "torch.Tensor는 torch 데이터 입력시 메모리 공간을 그대로 사용합니다!\n",
            "기존 Tensor의 값을 수정하면 새롭게 만들어진 Tensor의 값도 수정됩니다!\n",
            "--------------------------------------------------\n",
            "original : tensor([1.]) new : tensor([1.])\n",
            "original : tensor([2.]) new : tensor([2.])\n"
          ]
        }
      ]
    },
    {
      "cell_type": "code",
      "source": [
        "# torch.Tensor - [list, numpy 입력]\n",
        "print(\"torch.Tensor는 list, numpy 데이터 입력시 데이터를 복사하여 사용합니다!\")\n",
        "print(\"기존 데이터 값을 수정해도 새롭게 만들어진 Tensor에게 영향을 주지 않죠!\")\n",
        "print(\"-\" * 50)\n",
        "original_data = [1]\n",
        "new_data = torch.Tensor(original_data)\n",
        "print(f\"original : {original_data} new : {new_data}\")\n",
        "\n",
        "# original data를 수정하자\n",
        "original_data[0] = 2\n",
        "print(f\"original : {original_data} new : {new_data}\")"
      ],
      "metadata": {
        "colab": {
          "base_uri": "https://localhost:8080/"
        },
        "id": "lF715sCV6jZL",
        "outputId": "992403a7-4c28-4d69-b6ae-0d494fc7c63a"
      },
      "execution_count": null,
      "outputs": [
        {
          "output_type": "stream",
          "name": "stdout",
          "text": [
            "torch.Tensor는 list, numpy 데이터 입력시 데이터를 복사하여 사용합니다!\n",
            "기존 데이터 값을 수정해도 새롭게 만들어진 Tensor에게 영향을 주지 않죠!\n",
            "--------------------------------------------------\n",
            "original : [1] new : tensor([1.])\n",
            "original : [2] new : tensor([1.])\n"
          ]
        }
      ]
    },
    {
      "cell_type": "code",
      "source": [
        "# torch.tensor - [torch.Tensor 입력]\n",
        "print(\"torch.tensor는 어떤 데이터가 입력되든 데이터를 복사하여 사용합니다!\")\n",
        "print(\"기존 데이터 값을 수정해도 새롭게 만들어진 Tensor에게 영향을 주지 않죠!\")\n",
        "print(\"-\" * 50)\n",
        "original_data = torch.tensor([1])\n",
        "new_data = torch.tensor(original_data)\n",
        "print(f\"original : {original_data} new : {new_data}\")\n",
        "\n",
        "# data를 수정하자\n",
        "original_data[0] = 2\n",
        "print(f\"original : {original_data} new : {new_data}\")"
      ],
      "metadata": {
        "colab": {
          "base_uri": "https://localhost:8080/"
        },
        "id": "hiCt5zb8SoTM",
        "outputId": "094531f5-9f88-47f1-ed3e-9fc2c392a44d"
      },
      "execution_count": null,
      "outputs": [
        {
          "output_type": "stream",
          "name": "stdout",
          "text": [
            "torch.tensor는 어떤 데이터가 입력되든 데이터를 복사하여 사용합니다!\n",
            "기존 데이터 값을 수정해도 새롭게 만들어진 Tensor에게 영향을 주지 않죠!\n",
            "--------------------------------------------------\n",
            "original : tensor([1]) new : tensor([1])\n",
            "original : tensor([2]) new : tensor([1])\n"
          ]
        },
        {
          "output_type": "stream",
          "name": "stderr",
          "text": [
            "<ipython-input-12-67ddb4fd2d22>:6: UserWarning: To copy construct from a tensor, it is recommended to use sourceTensor.clone().detach() or sourceTensor.clone().detach().requires_grad_(True), rather than torch.tensor(sourceTensor).\n",
            "  new_data = torch.tensor(original_data)\n"
          ]
        }
      ]
    },
    {
      "cell_type": "markdown",
      "source": [
        "## Quiz"
      ],
      "metadata": {
        "id": "UIEd8RFE7KRq"
      }
    },
    {
      "cell_type": "markdown",
      "source": [
        "`torch.add`, `torch.sub`, `torch.mul`, `torch.div`를 통해 변수를 선언하고 ((4*2)-(1+2)) - 5 를 계산해주세요!"
      ],
      "metadata": {
        "id": "lis0uond7kpW"
      }
    },
    {
      "cell_type": "code",
      "source": [
        "A = torch.Tensor([4])\n",
        "B = torch.Tensor([2])\n",
        "C = torch.Tensor([1])\n",
        "D = torch.Tensor([2])\n",
        "E = torch.Tensor([5])\n",
        "\n",
        "# 1줄에 torch함수 하나씩만 사용하세요!\n",
        "out1 = None\n",
        "out2 = None\n",
        "out3 = None\n",
        "\n",
        "output = None\n",
        "\n",
        "print(\"result = {}\".format(output))"
      ],
      "metadata": {
        "colab": {
          "base_uri": "https://localhost:8080/"
        },
        "id": "i3LzUnIF7kSQ",
        "outputId": "fa6d1cf9-21db-4bc1-c12e-4aae75cebbc3"
      },
      "execution_count": null,
      "outputs": [
        {
          "output_type": "stream",
          "name": "stdout",
          "text": [
            "result = tensor([0.])\n"
          ]
        }
      ]
    },
    {
      "cell_type": "markdown",
      "source": [
        "# 텐서 행렬"
      ],
      "metadata": {
        "id": "KCA5uhlMCmpt"
      }
    },
    {
      "cell_type": "code",
      "source": [
        "# list 로부터 2x3 텐서 생성\n",
        "x_list = [[1, 2, 3], [4, 5, 6]]\n",
        "x = torch.Tensor(x_list)\n",
        "print(x)\n",
        "\n",
        "# numpy array 로부터 2x3 텐서 생성\n",
        "x_numpy = np.array([[1, 2, 3], [4, 5, 6]])\n",
        "x = torch.Tensor(x_numpy) # float형으로 출력\n",
        "print(x)"
      ],
      "metadata": {
        "colab": {
          "base_uri": "https://localhost:8080/"
        },
        "id": "nhceob2K6w7z",
        "outputId": "da0c75ef-4d32-4e55-9f14-6e713bcf772b"
      },
      "execution_count": null,
      "outputs": [
        {
          "output_type": "stream",
          "name": "stdout",
          "text": [
            "tensor([[1., 2., 3.],\n",
            "        [4., 5., 6.]])\n",
            "tensor([[1., 2., 3.],\n",
            "        [4., 5., 6.]])\n"
          ]
        }
      ]
    },
    {
      "cell_type": "markdown",
      "source": [
        "다시 원래 자료형태로 복귀"
      ],
      "metadata": {
        "id": "dWFAky9YCydw"
      }
    },
    {
      "cell_type": "code",
      "source": [
        "# .tolist()\n",
        "x_back2list = x.tolist() # 같은 level(위치)에 있는 데이터끼리 묶어준다.\n",
        "print(type(x_back2list))\n",
        "\n",
        "# .numpy()\n",
        "x_back2numpy = x.numpy()\n",
        "print(type(x_back2numpy))"
      ],
      "metadata": {
        "colab": {
          "base_uri": "https://localhost:8080/"
        },
        "id": "gCXp1ZfoCws7",
        "outputId": "316c2cb7-f182-4ac1-9f7e-96089af57a0f"
      },
      "execution_count": null,
      "outputs": [
        {
          "output_type": "stream",
          "name": "stdout",
          "text": [
            "<class 'list'>\n",
            "<class 'numpy.ndarray'>\n"
          ]
        }
      ]
    },
    {
      "cell_type": "markdown",
      "source": [
        "## Data to Tensor"
      ],
      "metadata": {
        "id": "7m8rL_1xQ8_r"
      }
    },
    {
      "cell_type": "code",
      "source": [
        "data = [[3, 5],[10, 5]]\n",
        "x_data = torch.tensor(data)\n",
        "x_data"
      ],
      "metadata": {
        "colab": {
          "base_uri": "https://localhost:8080/"
        },
        "id": "vv0VYnfGQ_Qh",
        "outputId": "11b0ef79-45bb-4866-cc91-6ee8a28cd49b"
      },
      "execution_count": null,
      "outputs": [
        {
          "output_type": "execute_result",
          "data": {
            "text/plain": [
              "tensor([[ 3,  5],\n",
              "        [10,  5]])"
            ]
          },
          "metadata": {},
          "execution_count": 17
        }
      ]
    },
    {
      "cell_type": "markdown",
      "source": [
        "### ndArray to Tensor"
      ],
      "metadata": {
        "id": "e3qnmgaWREEU"
      }
    },
    {
      "cell_type": "code",
      "source": [
        "nd_array_ex = np.array(data)\n",
        "tensor_array = torch.from_numpy(nd_array_ex) # 배열에서 tensor로 바꾸기. torch.Tensor와 동일한 기능이지만, float출력이 아닌 int로 바꿈\n",
        "tensor_array"
      ],
      "metadata": {
        "colab": {
          "base_uri": "https://localhost:8080/"
        },
        "id": "BSDWg_T2RNIa",
        "outputId": "ac8f3a4b-6016-4e96-97f8-d35a00025c7d"
      },
      "execution_count": null,
      "outputs": [
        {
          "output_type": "execute_result",
          "data": {
            "text/plain": [
              "tensor([[ 3,  5],\n",
              "        [10,  5]])"
            ]
          },
          "metadata": {},
          "execution_count": 18
        }
      ]
    },
    {
      "cell_type": "code",
      "source": [
        "data = [[3, 5],[10, 5]]\n",
        "nd_array_ex = np.array(data)\n",
        "tensor_array1 = torch.tensor(nd_array_ex)\n",
        "tensor_array1"
      ],
      "metadata": {
        "colab": {
          "base_uri": "https://localhost:8080/"
        },
        "id": "_xp3qCZxT2sO",
        "outputId": "49349d6e-f130-4f79-d0bd-01d9e6e5e576"
      },
      "execution_count": null,
      "outputs": [
        {
          "output_type": "execute_result",
          "data": {
            "text/plain": [
              "tensor([[ 3,  5],\n",
              "        [10,  5]])"
            ]
          },
          "metadata": {},
          "execution_count": 26
        }
      ]
    },
    {
      "cell_type": "code",
      "source": [
        "print(tensor_array.dtype)\n",
        "print(tensor_array1.dtype)"
      ],
      "metadata": {
        "colab": {
          "base_uri": "https://localhost:8080/"
        },
        "id": "XmiButgSUXk5",
        "outputId": "d1469589-374b-4495-fb0c-fb746a328725"
      },
      "execution_count": null,
      "outputs": [
        {
          "output_type": "stream",
          "name": "stdout",
          "text": [
            "torch.int64\n",
            "torch.int64\n"
          ]
        }
      ]
    },
    {
      "cell_type": "markdown",
      "source": [
        "GPU를 사용하려면 `device` 정보를 텐서에 `string` 타입으로 전달해줘야한다. \n",
        "* \"cuda\": GPU 사용\n",
        "* \"cpu\": CPU 사용"
      ],
      "metadata": {
        "id": "OoNAjNOpD_cm"
      }
    },
    {
      "cell_type": "code",
      "source": [
        "# 기본 device 정보\n",
        "print(\"텐서 x 의 device:\", x.device)\n",
        "\n",
        "device = 'cuda'\n",
        "# GPU 사용\n",
        "x = x.to(device)\n",
        "print(\"device 정보 전달 후, 텐서 x 의 device:\", x.device)\n",
        "\n",
        "device = 'cpu'\n",
        "# CPU 사용\n",
        "x = x.to(device)\n",
        "print(\"device 정보 전달 후, 텐서 x 의 device:\", x.device)"
      ],
      "metadata": {
        "colab": {
          "base_uri": "https://localhost:8080/"
        },
        "id": "5e_fAgh9C1d0",
        "outputId": "fbbf8c41-b525-4f28-a3ce-a003e24a48bd"
      },
      "execution_count": null,
      "outputs": [
        {
          "output_type": "stream",
          "name": "stdout",
          "text": [
            "텐서 x 의 device: cpu\n",
            "device 정보 전달 후, 텐서 x 의 device: cuda:0\n",
            "device 정보 전달 후, 텐서 x 의 device: cpu\n"
          ]
        }
      ]
    },
    {
      "cell_type": "markdown",
      "source": [
        "### 랜덤 텐서 생성하기\n",
        "* `torch.manual_seed`: 동일한 결과를 만들 도록 seed를 고정한다.\n",
        "* `torch.rand`: [0, 1) 사이의 랜덤 텐서 생성\n",
        "* `torch.randn`: 평균=0, 표준편차=1 인 정규분포로부터 랜덤 텐서 생성\n",
        "* `torch.randint`: [최저값, 최대값) 사이에서 랜덤 정수 텐서 생성"
      ],
      "metadata": {
        "id": "l0vPQ-BbEcfA"
      }
    },
    {
      "cell_type": "code",
      "source": [
        "torch.manual_seed(777)\n",
        "# 랜덤 숫자로 구성된 크기가 2x3 인 텐서 생성\n",
        "# 0과 1사이의 랜덤한 숫자\n",
        "print(\"torch.rand\\n-------------\")\n",
        "x = torch.rand(2, 3)\n",
        "print(x)\n",
        "print()\n",
        "\n",
        "# 평균=0, 표준편차=1 정규분포에서 생성\n",
        "print(\"torch.randn\\n-------------\")\n",
        "x = torch.randn(2, 3)\n",
        "print(x)\n",
        "print()\n",
        "\n",
        "# 0과 8 사이의 정수형 랜덤한 숫자\n",
        "print(\"torch.randint\\n-------------\")\n",
        "x = torch.randint(low=0, high=8, size=(2, 3))\n",
        "print(x)\n",
        "print()"
      ],
      "metadata": {
        "colab": {
          "base_uri": "https://localhost:8080/"
        },
        "id": "cTozrynTEDOD",
        "outputId": "4f6111bb-a0ff-4544-efab-03e62265502a"
      },
      "execution_count": null,
      "outputs": [
        {
          "output_type": "stream",
          "name": "stdout",
          "text": [
            "torch.rand\n",
            "-------------\n",
            "tensor([[0.0819, 0.4911, 0.4033],\n",
            "        [0.3859, 0.8813, 0.8811]])\n",
            "\n",
            "torch.randn\n",
            "-------------\n",
            "tensor([[ 0.3688, -1.3005, -2.0292],\n",
            "        [ 0.1283,  0.6558, -0.6138]])\n",
            "\n",
            "torch.randint\n",
            "-------------\n",
            "tensor([[6, 0, 3],\n",
            "        [1, 2, 4]])\n",
            "\n"
          ]
        }
      ]
    },
    {
      "cell_type": "markdown",
      "source": [
        "### 기존의 텐서크기와 같은 0 혹은 1 텐서 생성\n",
        "\n",
        "* `torch.zeros_like`: 입력 텐서와 같은 크기, 타입, 디바이스로 0으로 채워진 텐서를 생성한다.\n",
        "* `torch.ones_like`: 입력 텐서와 같은 크기, 타입, 디바이스로 1로 채워진 텐서를 생성한다."
      ],
      "metadata": {
        "id": "7GSCUcJjEoCK"
      }
    },
    {
      "cell_type": "code",
      "source": [
        "# GPU를 사용하고 크기가 x 와 같은 0으로 채워진 텐서 생성\n",
        "x_zeros = torch.zeros_like(x.cuda())\n",
        "print(x_zeros.device)\n",
        "print(x_zeros)"
      ],
      "metadata": {
        "colab": {
          "base_uri": "https://localhost:8080/"
        },
        "id": "fcq82jduEk4x",
        "outputId": "5cf60f11-7da2-4d05-fdd8-910be5edc199"
      },
      "execution_count": null,
      "outputs": [
        {
          "output_type": "stream",
          "name": "stdout",
          "text": [
            "cuda:0\n",
            "tensor([[0, 0, 0],\n",
            "        [0, 0, 0]], device='cuda:0')\n"
          ]
        }
      ]
    },
    {
      "cell_type": "markdown",
      "source": [
        "## Quiz"
      ],
      "metadata": {
        "id": "bjLOoqYdE6uY"
      }
    },
    {
      "cell_type": "markdown",
      "source": [
        "- 0부터 9사이의 랜덤 정수 3 * 4크기의 행렬을 만들고, 다른 행렬은 디바이스로 1로 채워진 동일한 크기의 텐서를 생성한 후 두 행렬을 더해서 결과를 출력해주세요."
      ],
      "metadata": {
        "id": "yUfJ36yeJj0Q"
      }
    },
    {
      "cell_type": "code",
      "source": [
        "A = None\n",
        "B = None\n",
        "\n",
        "output =  None\n",
        "print(output)"
      ],
      "metadata": {
        "id": "UPJgExvCEpJB"
      },
      "execution_count": null,
      "outputs": []
    }
  ]
}