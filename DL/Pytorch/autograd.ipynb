{
  "nbformat": 4,
  "nbformat_minor": 0,
  "metadata": {
    "colab": {
      "provenance": []
    },
    "kernelspec": {
      "name": "python3",
      "display_name": "Python 3"
    },
    "language_info": {
      "name": "python"
    },
    "accelerator": "GPU",
    "gpuClass": "standard"
  },
  "cells": [
    {
      "cell_type": "code",
      "execution_count": 1,
      "metadata": {
        "id": "UfznA8Pbnkjn"
      },
      "outputs": [],
      "source": [
        "import torch\n",
        "import torch.nn.functional as F"
      ]
    },
    {
      "cell_type": "code",
      "source": [
        "tensor = torch.FloatTensor([0.5,0.7,0.1])\n",
        "h_tensor = F.softmax(tensor, dim = 0) # softmax = 0~1 사이의 확률로 바꿔주는 함수, 합치면 1\n",
        "h_tensor\n"
      ],
      "metadata": {
        "colab": {
          "base_uri": "https://localhost:8080/"
        },
        "id": "rzElmjkDnqfx",
        "outputId": "f4db181a-7251-4cff-f146-78fc6394deaf"
      },
      "execution_count": 2,
      "outputs": [
        {
          "output_type": "execute_result",
          "data": {
            "text/plain": [
              "tensor([0.3458, 0.4224, 0.2318])"
            ]
          },
          "metadata": {},
          "execution_count": 2
        }
      ]
    },
    {
      "cell_type": "code",
      "source": [
        "h_tensor.sum()"
      ],
      "metadata": {
        "colab": {
          "base_uri": "https://localhost:8080/"
        },
        "id": "nRHLrvngo6hK",
        "outputId": "b25f06c3-e6a3-4e22-a380-dd7135f049a0"
      },
      "execution_count": 3,
      "outputs": [
        {
          "output_type": "execute_result",
          "data": {
            "text/plain": [
              "tensor(1.0000)"
            ]
          },
          "metadata": {},
          "execution_count": 3
        }
      ]
    },
    {
      "cell_type": "code",
      "source": [
        "y = torch.randint(5, (10,5)) # max = 5,  0~4, size = 10 x 5\n",
        "y_label = y.argmax(dim=1) # input텐서 에 있는 모든 요소의 최대값 인덱스를 반환\n",
        "y_label"
      ],
      "metadata": {
        "colab": {
          "base_uri": "https://localhost:8080/"
        },
        "id": "jPKBLVwupAVI",
        "outputId": "d7e9ff35-79e6-4388-bb28-6c3b46c06e07"
      },
      "execution_count": 8,
      "outputs": [
        {
          "output_type": "execute_result",
          "data": {
            "text/plain": [
              "tensor([0, 0, 2, 0, 3, 0, 0, 3, 1, 1])"
            ]
          },
          "metadata": {},
          "execution_count": 8
        }
      ]
    },
    {
      "cell_type": "code",
      "source": [
        "F.one_hot(y_label)"
      ],
      "metadata": {
        "colab": {
          "base_uri": "https://localhost:8080/"
        },
        "id": "IOqWb1xopkWr",
        "outputId": "62bdcd18-991a-4960-ba67-7e7f45f30817"
      },
      "execution_count": 9,
      "outputs": [
        {
          "output_type": "execute_result",
          "data": {
            "text/plain": [
              "tensor([[1, 0, 0, 0],\n",
              "        [1, 0, 0, 0],\n",
              "        [0, 0, 1, 0],\n",
              "        [1, 0, 0, 0],\n",
              "        [0, 0, 0, 1],\n",
              "        [1, 0, 0, 0],\n",
              "        [1, 0, 0, 0],\n",
              "        [0, 0, 0, 1],\n",
              "        [0, 1, 0, 0],\n",
              "        [0, 1, 0, 0]])"
            ]
          },
          "metadata": {},
          "execution_count": 9
        }
      ]
    },
    {
      "cell_type": "code",
      "source": [
        "import itertools\n",
        "a = [1,2,3]\n",
        "b = [4,5]\n",
        "list(itertools.product(a,b))"
      ],
      "metadata": {
        "colab": {
          "base_uri": "https://localhost:8080/"
        },
        "id": "rmmSJ4pgpuQz",
        "outputId": "c76b9784-de85-4805-8ac5-e85add656ce0"
      },
      "execution_count": 6,
      "outputs": [
        {
          "output_type": "execute_result",
          "data": {
            "text/plain": [
              "[(1, 4), (1, 5), (2, 4), (2, 5), (3, 4), (3, 5)]"
            ]
          },
          "metadata": {},
          "execution_count": 6
        }
      ]
    },
    {
      "cell_type": "code",
      "source": [
        "tensor_a = torch.tensor(a)\n",
        "tensor_b = torch.tensor(b)\n",
        "torch.cartesian_prod(tensor_a, tensor_b) # 모든 경우의 수를 다 출력"
      ],
      "metadata": {
        "colab": {
          "base_uri": "https://localhost:8080/"
        },
        "id": "0uv_1S4QqSUK",
        "outputId": "3b822988-6e21-4f5c-ddb8-530f287ff967"
      },
      "execution_count": 7,
      "outputs": [
        {
          "output_type": "execute_result",
          "data": {
            "text/plain": [
              "tensor([[1, 4],\n",
              "        [1, 5],\n",
              "        [2, 4],\n",
              "        [2, 5],\n",
              "        [3, 4],\n",
              "        [3, 5]])"
            ]
          },
          "metadata": {},
          "execution_count": 7
        }
      ]
    },
    {
      "cell_type": "markdown",
      "source": [
        "## Torch autograd (자동 미분)"
      ],
      "metadata": {
        "id": "p_vXyufuqhbK"
      }
    },
    {
      "cell_type": "code",
      "source": [
        "w = torch.tensor(2.0, requires_grad = True)\n",
        "y = w ** 2\n",
        "z= 10 * y + 50\n",
        "z.backward()\n",
        "w.grad"
      ],
      "metadata": {
        "colab": {
          "base_uri": "https://localhost:8080/"
        },
        "id": "297UFBzlqa__",
        "outputId": "819c2086-ad9f-4729-f7c6-a314c4f6515d"
      },
      "execution_count": 10,
      "outputs": [
        {
          "output_type": "execute_result",
          "data": {
            "text/plain": [
              "tensor(40.)"
            ]
          },
          "metadata": {},
          "execution_count": 10
        }
      ]
    },
    {
      "cell_type": "code",
      "source": [
        "# Q = 3*a **3 - b ** 2 에 대한 자동미분\n",
        "a = torch.tensor([2., 3.], requires_grad = True) # 연산을 위해서 미리 다 텐서 객체를 만들어줘야 한다.\n",
        "b = torch.tensor([6., 4.], requires_grad = True) \n",
        "Q = 3*a **3 - b ** 2 \n",
        "external_grad = torch.tensor([1., 1.])\n",
        "Q.backward(gradient = external_grad) # Q 는 벡터(vector)이므로 Q.backward() 에 gradient 인자(argument)를 명시적으로 전달해야 합니다. \n",
        "# gradient 는 Q 와 같은 모양(shape)의 텐서로, Q 자기 자신에 대한 변화도(gradient)를 나타냅니다. 즉 dQ/dQ = 1\n",
        "\n",
        "# backward 함수는 어떤 스칼라 값에 대한 출력 텐서의 변화도(gradient)를 전달받고, 동일한 스칼라 값에 대한 입력 텐서의 변화도를 계산합니다.\n",
        "# 그러니까 gradient 를 구하고 싶다면 역전파를 시작할 지점에서 backward() 함수를 호출하란 말입니다.\n",
        "\n",
        "a.grad"
      ],
      "metadata": {
        "colab": {
          "base_uri": "https://localhost:8080/"
        },
        "id": "xdISSYydrAz_",
        "outputId": "dfe9ca7d-4b99-4df2-bde6-2bcd71809c68"
      },
      "execution_count": 11,
      "outputs": [
        {
          "output_type": "execute_result",
          "data": {
            "text/plain": [
              "tensor([36., 81.])"
            ]
          },
          "metadata": {},
          "execution_count": 11
        }
      ]
    },
    {
      "cell_type": "code",
      "source": [
        "# Q를 a에 대해 미분하면 9a**2, b에 대해 미분하면 -2b\n",
        "# a= [2, 3] 이므로 9* 2 *2 , 9*3*3 = 36, 81 이 되는 것 "
      ],
      "metadata": {
        "id": "IcLO3E9drywg"
      },
      "execution_count": null,
      "outputs": []
    }
  ]
}