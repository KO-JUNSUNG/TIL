{
  "nbformat": 4,
  "nbformat_minor": 0,
  "metadata": {
    "colab": {
      "provenance": []
    },
    "kernelspec": {
      "name": "python3",
      "display_name": "Python 3"
    },
    "language_info": {
      "name": "python"
    }
  },
  "cells": [
    {
      "cell_type": "markdown",
      "source": [
        "## 모델 분석해보기\n",
        "\n",
        "``` python\n",
        "이제 직접 모델을 만들어낼 줄 알게 되었습니다!\n",
        "\n",
        "모델을 만들고 난 후 어떤 module과 parameter를 썼는지\n",
        "어떻게 알 수 있는 거죠?\n",
        "\n",
        "느낌상 \"nn.Module\" Documentation에 그 방법이 나와있을 것 같아요!\n",
        "\n",
        "제가 전에 작성해놓았던 코드를 가져왔어요! 그때 보셨을 때와 조금 다르죠?\n",
        "배운 것을 적용해보느라고 조금씩 수정을 해보았어요!\n",
        "제가 만든 이 모델을 함께 분석해봐요!\n",
        "```\n",
        "\n",
        "- [Documentation main - PyTorch 공식 문서](https://pytorch.org/docs/stable/index.html)\n",
        "- [torch.nn.Module - PyTorch 공식 문서](https://pytorch.org/docs/stable/generated/torch.nn.Module.html)"
      ],
      "metadata": {
        "id": "_AB33kOYFEaB"
      }
    },
    {
      "cell_type": "code",
      "execution_count": 5,
      "metadata": {
        "id": "3uLXJmQVE8nl",
        "colab": {
          "base_uri": "https://localhost:8080/"
        },
        "outputId": "9a307921-2987-451b-f352-923a50fb623e"
      },
      "outputs": [
        {
          "output_type": "execute_result",
          "data": {
            "text/plain": [
              "tensor([6.5720], grad_fn=<AddBackward0>)"
            ]
          },
          "metadata": {},
          "execution_count": 5
        }
      ],
      "source": [
        "import torch\n",
        "from torch import nn\n",
        "from torch.nn.parameter import Parameter\n",
        "\n",
        "\n",
        "# 아래 코드는 수정하실 필요가 없습니다!\n",
        "# 하지만 아래 과제를 진행하기 전에 아래 코드를 보면서 최대한 이해해보세요!\n",
        "\n",
        "# Function\n",
        "class Function_A(nn.Module):\n",
        "    def __init__(self, name):\n",
        "        super().__init__()  # 부모클래스 상속\n",
        "        self.name = name # name을 받고는 있지만 별 의미는 없다.\n",
        "\n",
        "    def forward(self, x):\n",
        "        x = x * 2 # forward로는 x만 사용한다.\n",
        "        return x\n",
        "\n",
        "class Function_B(nn.Module):\n",
        "    def __init__(self):\n",
        "        super().__init__()\n",
        "        self.W1 = Parameter(torch.Tensor([10])) # 파라미터 클래스 객체에 저장.\n",
        "        self.W2 = Parameter(torch.Tensor([2])) # 클래스 = 대문자로 시작, 메서드는 소문자로 시작.\n",
        "\n",
        "    def forward(self, x):\n",
        "        x = x / self.W1\n",
        "        x = x / self.W2\n",
        "\n",
        "        return x\n",
        "\n",
        "class Function_C(nn.Module):\n",
        "    def __init__(self):\n",
        "        super().__init__()\n",
        "        self.register_buffer('duck', torch.Tensor([7]), persistent=True) # duck 이라는 이름으로 tensor 7을 기억할 거야.\n",
        "\n",
        "    def forward(self, x):\n",
        "        x = x * self.duck \n",
        "        \n",
        "        return x\n",
        "\n",
        "class Function_D(nn.Module):\n",
        "    def __init__(self):\n",
        "        super().__init__()\n",
        "        self.W1 = Parameter(torch.Tensor([3]))\n",
        "        self.W2 = Parameter(torch.Tensor([5]))\n",
        "        self.c = Function_C()\n",
        "\n",
        "    def forward(self, x):\n",
        "        x = x + self.W1\n",
        "        x = self.c(x)\n",
        "        x = x / self.W2\n",
        "\n",
        "        return x\n",
        "\n",
        "\n",
        "# Layer\n",
        "class Layer_AB(nn.Module):\n",
        "    def __init__(self):\n",
        "        super().__init__()\n",
        "\n",
        "        self.a = Function_A('duck')\n",
        "        self.b = Function_B()\n",
        "\n",
        "    def forward(self, x):\n",
        "        x = self.a(x) / 5\n",
        "        x = self.b(x)\n",
        "\n",
        "        return x\n",
        "\n",
        "class Layer_CD(nn.Module):\n",
        "    def __init__(self):\n",
        "        super().__init__()\n",
        "\n",
        "        self.c = Function_C()\n",
        "        self.d = Function_D()\n",
        "\n",
        "    def forward(self, x):\n",
        "        x = self.c(x)\n",
        "        x = self.d(x) + 1\n",
        "\n",
        "        return x\n",
        "\n",
        "\n",
        "# Model\n",
        "class Model(nn.Module):\n",
        "    def __init__(self):\n",
        "        super().__init__()\n",
        "\n",
        "        self.ab = Layer_AB()\n",
        "        self.cd = Layer_CD()\n",
        "\n",
        "    def forward(self, x):\n",
        "        x = self.ab(x)\n",
        "        x = self.cd(x)\n",
        "\n",
        "        return x\n",
        "\n",
        "x = torch.tensor([7])\n",
        "\n",
        "model = Model()\n",
        "model(x)"
      ]
    },
    {
      "cell_type": "markdown",
      "source": [
        "### named_children vs named_modules\n",
        "\n",
        "``` python\n",
        "제가 만든 모델에서 어떤 module들이 있었는지 기억이 나질 않아요!\n",
        "그래서 모델 내부의 module들 목록을 보고싶어요!\n",
        "\n",
        "Documentation을 찾아보니까 children이나 module이라는 이름을 가진\n",
        "함수가 바로 제가 원하는 기능을 가진 것 같아요!\n",
        "\n",
        "하지만 이 둘은 무슨 차이일까요?\n",
        "역시 직접 코드를 통해서 확인해봐야겠어요!\n",
        "```\n",
        "\n",
        "- [named_children - PyTorch 공식 문서](https://pytorch.org/docs/stable/generated/torch.nn.Module.html?highlight=child#torch.nn.Module.named_children)\n",
        "- [named_modules - PyTorch 공식 문서](https://pytorch.org/docs/stable/generated/torch.nn.Module.html?highlight=named#torch.nn.Module.named_modules)\n"
      ],
      "metadata": {
        "id": "9tuvVpBpFH2z"
      }
    },
    {
      "cell_type": "code",
      "source": [
        "for name, module in model.named_modules():\n",
        "    print(f\"[ Name ] : {name}\\n[ Module ]\\n{module}\")\n",
        "    print(\"-\" * 30)"
      ],
      "metadata": {
        "id": "FCCo5JgZFJZA",
        "colab": {
          "base_uri": "https://localhost:8080/"
        },
        "outputId": "bafa776f-9d33-4212-f4ca-bc6af09c911f"
      },
      "execution_count": 2,
      "outputs": [
        {
          "output_type": "stream",
          "name": "stdout",
          "text": [
            "[ Name ] : \n",
            "[ Module ]\n",
            "Model(\n",
            "  (ab): Layer_AB(\n",
            "    (a): Function_A()\n",
            "    (b): Function_B()\n",
            "  )\n",
            "  (cd): Layer_CD(\n",
            "    (c): Function_C()\n",
            "    (d): Function_D(\n",
            "      (c): Function_C()\n",
            "    )\n",
            "  )\n",
            ")\n",
            "------------------------------\n",
            "[ Name ] : ab\n",
            "[ Module ]\n",
            "Layer_AB(\n",
            "  (a): Function_A()\n",
            "  (b): Function_B()\n",
            ")\n",
            "------------------------------\n",
            "[ Name ] : ab.a\n",
            "[ Module ]\n",
            "Function_A()\n",
            "------------------------------\n",
            "[ Name ] : ab.b\n",
            "[ Module ]\n",
            "Function_B()\n",
            "------------------------------\n",
            "[ Name ] : cd\n",
            "[ Module ]\n",
            "Layer_CD(\n",
            "  (c): Function_C()\n",
            "  (d): Function_D(\n",
            "    (c): Function_C()\n",
            "  )\n",
            ")\n",
            "------------------------------\n",
            "[ Name ] : cd.c\n",
            "[ Module ]\n",
            "Function_C()\n",
            "------------------------------\n",
            "[ Name ] : cd.d\n",
            "[ Module ]\n",
            "Function_D(\n",
            "  (c): Function_C()\n",
            ")\n",
            "------------------------------\n",
            "[ Name ] : cd.d.c\n",
            "[ Module ]\n",
            "Function_C()\n",
            "------------------------------\n"
          ]
        }
      ]
    },
    {
      "cell_type": "code",
      "source": [
        "for name, child in model.named_children():\n",
        "    print(f\"[ Name ] : {name}\\n[ Children ]\\n{child}\")\n",
        "    print(\"-\" * 30)"
      ],
      "metadata": {
        "id": "4hErdUYdFLdM",
        "colab": {
          "base_uri": "https://localhost:8080/"
        },
        "outputId": "8e74fec3-4ae7-4bc4-dfb4-ee0431c05dcd"
      },
      "execution_count": 3,
      "outputs": [
        {
          "output_type": "stream",
          "name": "stdout",
          "text": [
            "[ Name ] : ab\n",
            "[ Children ]\n",
            "Layer_AB(\n",
            "  (a): Function_A()\n",
            "  (b): Function_B()\n",
            ")\n",
            "------------------------------\n",
            "[ Name ] : cd\n",
            "[ Children ]\n",
            "Layer_CD(\n",
            "  (c): Function_C()\n",
            "  (d): Function_D(\n",
            "    (c): Function_C()\n",
            "  )\n",
            ")\n",
            "------------------------------\n"
          ]
        }
      ]
    },
    {
      "cell_type": "markdown",
      "source": [
        "``` python\n",
        "아하! 이제 알겠어요!\n",
        "\n",
        "\"children\"은 한 단계 아래의 submodule까지만 표시하는 것이고\n",
        "\"modules\"는 자신에게 속하는 모든 submodule들을 표시해주는 것이군요!\n",
        "\n",
        "\"named_modules\", \"named_children\"은 module의 이름도 돌려주는데\n",
        "그냥 module만 필요한 경우는 \"modules\", \"children\"를 사용하면 되겠네요!\n",
        "\n",
        "아니 그런데 왜 \"Function_D\"가 \"Function_C\"를 참조하는 중이죠?\n",
        "같은 기본 단위는 서로 독립적이어야 하는데 이러면 문제가 있을 것 같아요!\n",
        "분석이 끝나면 수정을 해야겠어요!\n",
        "```"
      ],
      "metadata": {
        "id": "pNTDr7voFNap"
      }
    },
    {
      "cell_type": "markdown",
      "source": [
        "### get_submodule\n",
        "\n",
        "``` python\n",
        "제가 만든 모델 내부에 어떤 module들이 있는지 잘 알겠어요!\n",
        "이제 제가 원하는 특정 module만을 가져오고 싶어요!\n",
        "\n",
        "Function_A를 가져다 줄 수 있을까요?\n",
        "```\n",
        "\n",
        "- [get_submodule - PyTorch 공식 문서](https://pytorch.org/docs/stable/generated/torch.nn.Module.html?highlight=get_submodule#torch.nn.Module.get_submodule)\n"
      ],
      "metadata": {
        "id": "UEzVwnfQFPB5"
      }
    },
    {
      "cell_type": "code",
      "source": [
        "# TODO : Function_A 를 가져오세요!\n",
        "submodule = model.get_submodule('ab.a')  # Function_A 의 이름을 str 타입으로 호출\n",
        "\n",
        "\n",
        "# 아래 코드는 수정하실 필요가 없습니다!\n",
        "if submodule.__class__.__name__  == 'Function_A':\n",
        "    print(\"🎉🎉🎉 성공!!! 🎉🎉🎉\")\n",
        "else:\n",
        "    print(\"다시 도전해봐요!\")"
      ],
      "metadata": {
        "id": "agUPb6TfFPUA",
        "colab": {
          "base_uri": "https://localhost:8080/"
        },
        "outputId": "5abd9ae6-206c-477b-f820-89680bc65fc4"
      },
      "execution_count": 8,
      "outputs": [
        {
          "output_type": "stream",
          "name": "stdout",
          "text": [
            "🎉🎉🎉 성공!!! 🎉🎉🎉\n"
          ]
        }
      ]
    },
    {
      "cell_type": "markdown",
      "source": [
        "### Parameter\n",
        "\n",
        "``` python\n",
        "이제 module에 대한 자신감이 생겼어요!\n",
        "그런데 문득 생각해보니까 Parameter에 대해서 공부하면서\n",
        "제가 어떤 모듈에 Parameter를 생성해놨던 것 같아요!\n",
        "\n",
        "저희가 module에서 module 목록을 보고 특정 module을\n",
        "찾기도 했던 것처럼 Parameter에서도 똑같이 해봐요!\n",
        "```\n",
        "\n",
        "- [parameters - PyTorch 공식 문서](https://pytorch.org/docs/stable/generated/torch.nn.Module.html?highlight=parameters#torch.nn.Module.parameters)\n",
        "- [named_parameters - PyTorch 공식 문서](https://pytorch.org/docs/stable/generated/torch.nn.Module.html?highlight=named#torch.nn.Module.named_parameters)\n",
        "- [get_parameter - PyTorch 공식 문서](https://pytorch.org/docs/stable/generated/torch.nn.Module.html?highlight=get#torch.nn.Module.get_parameter)\n"
      ],
      "metadata": {
        "id": "X2wqUGoqFR5x"
      }
    },
    {
      "cell_type": "code",
      "source": [
        "# 4개의 Parameter를 만들었었군요!\n",
        "for name, parameter in model.named_parameters():\n",
        "    print(f\"[ Name ] : {name}\\n[ Parameter ]\\n{parameter}\")\n",
        "    print(\"-\" * 30)"
      ],
      "metadata": {
        "id": "0wXemOlWFSZA"
      },
      "execution_count": null,
      "outputs": []
    },
    {
      "cell_type": "markdown",
      "source": [
        "``` python\n",
        "아하! 제가 4개의 Parameter를 만들었었네요!\n",
        "이름을 표시하니까 Parameter가 어디에 속하는지 알 수 있어 너무 좋아요!\n",
        "\n",
        "- \"Function_B\"에 W1, W2 Parameter 2개\n",
        "- \"Function_D\"에 W1, W2 Parameter 2개\n",
        "\n",
        "\"parameters\"를 사용해서 목록을 확인해도 되지만\n",
        "이름이 표시 안되니까 어떤 module에 속한\n",
        "Parameter인지 알기가 너무 힘들 것 같아요!\n",
        "\n",
        "Function_B에 속해있는 Parameter W1을 사용하고 싶은데\n",
        "이를 가져다 주실수 있나요?\n",
        "```"
      ],
      "metadata": {
        "id": "Fieg60-sFVLS"
      }
    },
    {
      "cell_type": "code",
      "source": [
        "# TODO : Function_B에 속하는 Parameter W1을 가져오세요!\n",
        "parameter = model.get_parameter('ab.b.W1') # 모든 파라미터가 미분이 가능해야 딥러닝이 가능하다는 사실, 알고 계셨나요?\n",
        "\n",
        "\n",
        "parameter # 10"
      ],
      "metadata": {
        "id": "Qm67VdBaFVin",
        "colab": {
          "base_uri": "https://localhost:8080/"
        },
        "outputId": "3920584c-8444-4455-fb2b-60ad492553aa"
      },
      "execution_count": 9,
      "outputs": [
        {
          "output_type": "execute_result",
          "data": {
            "text/plain": [
              "Parameter containing:\n",
              "tensor([10.], requires_grad=True)"
            ]
          },
          "metadata": {},
          "execution_count": 9
        }
      ]
    },
    {
      "cell_type": "markdown",
      "source": [
        "### Buffer\n",
        "\n",
        "``` python\n",
        "생각을 해보니까 buffer도 하나 추가해뒀던 것 같아요!\n",
        "buffer도 같이 분석해봐요!\n",
        "```\n",
        "\n",
        "- [buffers - PyTorch 공식 문서](https://pytorch.org/docs/stable/generated/torch.nn.Module.html?highlight=buffers#torch.nn.Module.buffers)\n",
        "- [named_buffers - PyTorch 공식 문서](https://pytorch.org/docs/stable/generated/torch.nn.Module.html?highlight=named_buffers#torch.nn.Module.named_buffers)\n",
        "- [get_buffer - PyTorch 공식 문서](https://pytorch.org/docs/stable/generated/torch.nn.Module.html?highlight=get_buffer#torch.nn.Module.get_buffer)\n"
      ],
      "metadata": {
        "id": "a_S1rWy_FXyB"
      }
    },
    {
      "cell_type": "code",
      "source": [
        "# TODO : named_buffers를 사용해서 model에 속하는 buffer 전체 목록을 가져오세요!\n",
        "# 이름 ㅇ \n",
        "for name, buffer in model.named_buffers():\n",
        "    print(f\"[ Name ] : {name}\\n[ Buffer ] : {buffer}\")\n",
        "    print(\"-\" * 30)"
      ],
      "metadata": {
        "id": "GwjwN4RJFYAf",
        "colab": {
          "base_uri": "https://localhost:8080/"
        },
        "outputId": "3ee619ed-bebc-49f6-a1ee-695329e63484"
      },
      "execution_count": 12,
      "outputs": [
        {
          "output_type": "stream",
          "name": "stdout",
          "text": [
            "[ Name ] : cd.c.duck\n",
            "[ Buffer ] : tensor([7.])\n",
            "------------------------------\n",
            "[ Name ] : cd.d.c.duck\n",
            "[ Buffer ] : tensor([7.])\n",
            "------------------------------\n"
          ]
        }
      ]
    },
    {
      "cell_type": "code",
      "source": [
        "# TODO : buffers를 사용해서 model에 속하는 buffer 전체 목록을 가져오세요!\n",
        "# 이름 x\n",
        "for buffer in model.buffers():\n",
        "    print(f\"[ Buffer ] : {buffer}\")\n",
        "    print(\"-\" * 30)"
      ],
      "metadata": {
        "id": "QcPVIPqwFZr5",
        "colab": {
          "base_uri": "https://localhost:8080/"
        },
        "outputId": "6ff6828a-7cfd-4b89-e8af-d03911adc252"
      },
      "execution_count": 13,
      "outputs": [
        {
          "output_type": "stream",
          "name": "stdout",
          "text": [
            "[ Buffer ] : tensor([7.])\n",
            "------------------------------\n",
            "[ Buffer ] : tensor([7.])\n",
            "------------------------------\n"
          ]
        }
      ]
    },
    {
      "cell_type": "code",
      "source": [
        "# TODO : Function_C에 속하는 Buffer를 가져오세요!\n",
        "buffer = model.get_buffer('cd.c.duck')\n",
        "\n",
        "\n",
        "buffer # 7"
      ],
      "metadata": {
        "id": "0rEtyKYJFai4",
        "colab": {
          "base_uri": "https://localhost:8080/"
        },
        "outputId": "9d336c8b-9546-44ee-ecd2-1fe1efc62a57"
      },
      "execution_count": 14,
      "outputs": [
        {
          "output_type": "execute_result",
          "data": {
            "text/plain": [
              "tensor([7.])"
            ]
          },
          "metadata": {},
          "execution_count": 14
        }
      ]
    },
    {
      "cell_type": "markdown",
      "source": [
        "### 모델 수정하기 - Docstring 작성\n",
        "\n",
        "``` python\n",
        "가볍게 Docstring을 작성해봐요!\n",
        "Numpy, Pydoc, Google 등 다양한 스타일이 있으니까 궁금하면\n",
        "아래 링크에서 읽어보면서 공부해보도록 해요!\n",
        "\n",
        "지금은 스타일 상관없이 Docstring이라는 것을 추가하기만 해보죠!\n",
        "```\n",
        "\n",
        "- [Documentation main - PyTorch 공식 문서](https://pytorch.org/docs/stable/index.html)\n",
        "\n",
        "**✨ 유용한 자료 ✨**\n",
        "- [Docstrings in Python - Data Camp](https://www.datacamp.com/community/tutorials/docstrings-python)"
      ],
      "metadata": {
        "id": "WWJMzP2VFbk0"
      }
    },
    {
      "cell_type": "code",
      "source": [
        "import torch\n",
        "from torch import nn\n",
        "from torch.nn.parameter import Parameter\n",
        "\n",
        "# TODO : Docstring을 추가해보세요!\n",
        "class Model(nn.Module):\n",
        "    \"\"\"\n",
        "    class 의 문서화 내용을 입력합니다.\n",
        "    docstring은 모듈, 함수, 클래스 또는 메소드 정의의 첫 번째 명령문으로 발생하는 문자열 리터럴\n",
        "\n",
        "    \"\"\"\n",
        "    def __init__(self):\n",
        "        super().__init__()\n",
        "\n",
        "\n",
        "\n",
        "# 아래 코드는 수정하실 필요가 없습니다!\n",
        "model = Model()\n",
        "\n",
        "if model.__doc__: # 이렇게 __doc__ 을 통해 속성으로서 접근할 수 있음.\n",
        "    print(\"🎉🎉🎉 성공!!! 🎉🎉🎉\")\n",
        "else:\n",
        "    print(\"다시 도전해봐요!\")"
      ],
      "metadata": {
        "id": "FdtugSzQFc6r",
        "colab": {
          "base_uri": "https://localhost:8080/"
        },
        "outputId": "9875f833-eaba-47be-9560-7394a82e4c94"
      },
      "execution_count": 15,
      "outputs": [
        {
          "output_type": "stream",
          "name": "stdout",
          "text": [
            "🎉🎉🎉 성공!!! 🎉🎉🎉\n"
          ]
        }
      ]
    },
    {
      "cell_type": "markdown",
      "source": [
        "### BatchNorm1d 분석해보기\n",
        "\n",
        "``` python\n",
        "PyTorch가 미리 만들어둔 module중 하나인 BatchNorm1d로 분석해봅시다!\n",
        "```\n",
        "\n",
        "- [Documentation main - PyTorch 공식 문서](https://pytorch.org/docs/stable/index.html)\n",
        "- [torch.nn.BatchNorm1d - PyTorch 공식 문서](https://pytorch.org/docs/stable/generated/torch.nn.BatchNorm1d.html#torch.nn.BatchNorm1d)"
      ],
      "metadata": {
        "id": "0dhVaj89FeaB"
      }
    },
    {
      "cell_type": "code",
      "source": [
        "import torch\n",
        "import torch.nn\n",
        "\n",
        "module = nn.BatchNorm1d(10)\n",
        "\n",
        "# TODO : nn.BatchNorm1d의 parameter와 buffer 갯수를 알아내세요!\n",
        "parameter_n = len(list(module.parameters()))\n",
        "buffer_n = len(list(module.buffers()))\n",
        "\n",
        "# TODO : nn.BatchNorm1d의 buffer 이름을 알아내세요!\n",
        "#        [이름, 이름, 이름] 형태로 저장해주세요!\n",
        "buffer_names = [name for name, _ in module.named_buffers()]\n",
        "\n",
        "\n",
        "\n",
        "# 아래 코드는 수정하실 필요가 없습니다!\n",
        "answer = set(['running_mean', 'running_var', 'num_batches_tracked'])\n",
        "\n",
        "if parameter_n == 2 and buffer_n == 3 and answer == set(buffer_names):\n",
        "    print(\"🎉🎉🎉 성공!!! 🎉🎉🎉\")\n",
        "else:\n",
        "    print(\"다시 도전해봐요!\")"
      ],
      "metadata": {
        "id": "NlhOIWRSFfkw",
        "colab": {
          "base_uri": "https://localhost:8080/"
        },
        "outputId": "e4f90da9-07c6-4926-c41d-8940920674be"
      },
      "execution_count": 17,
      "outputs": [
        {
          "output_type": "stream",
          "name": "stdout",
          "text": [
            "🎉🎉🎉 성공!!! 🎉🎉🎉\n"
          ]
        }
      ]
    },
    {
      "cell_type": "code",
      "source": [],
      "metadata": {
        "id": "gUeSvczwWYWk"
      },
      "execution_count": null,
      "outputs": []
    }
  ]
}