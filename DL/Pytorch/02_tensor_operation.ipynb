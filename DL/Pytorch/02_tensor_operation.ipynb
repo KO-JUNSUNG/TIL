{
  "nbformat": 4,
  "nbformat_minor": 0,
  "metadata": {
    "colab": {
      "provenance": []
    },
    "kernelspec": {
      "name": "python3",
      "display_name": "Python 3"
    },
    "language_info": {
      "name": "python"
    }
  },
  "cells": [
    {
      "cell_type": "markdown",
      "source": [
        "# Tensor operation"
      ],
      "metadata": {
        "id": "H_2mrBApXzQa"
      }
    },
    {
      "cell_type": "code",
      "source": [
        "import torch\n",
        "import numpy as np"
      ],
      "metadata": {
        "id": "XNF_QaSxYLGu"
      },
      "execution_count": null,
      "outputs": []
    },
    {
      "cell_type": "markdown",
      "source": [
        "## 텐서의 타입(type)\n",
        "`.type()` 명령어로 텐서의 타입을 조회할 수 있다.\n",
        "https://pytorch.org/docs/stable/tensors.html\n",
        "\n"
      ],
      "metadata": {
        "id": "UVC574RYX2TL"
      }
    },
    {
      "cell_type": "code",
      "execution_count": null,
      "metadata": {
        "id": "cUvxInneXg86"
      },
      "outputs": [],
      "source": [
        "# 실수형 텐서\n",
        "a = torch.FloatTensor(np.array([[1, 2, 3], \n",
        "                                [4, 5, 6]]))\n",
        "\n",
        "# 정수형 텐서\n",
        "b = torch.LongTensor(np.array([[1, 2, 3], \n",
        "                               [4, 5, 6]]))\n",
        "\n",
        "# 8 bit 정수형\n",
        "c = torch.ByteTensor([True, False, True, True])\n",
        "\n",
        "# 불리언형 텐서\n",
        "d = torch.BoolTensor([True, False, True, True])\n",
        "\n",
        "for tensor in [a, b, c, d]:\n",
        "    print(f\"tensor type: {tensor.type()}\")\n",
        "    print(f\"{tensor}\\n\")"
      ]
    },
    {
      "cell_type": "markdown",
      "source": [
        "## 텐서 조작(Tensor Manipulation)\n",
        "### numpy와 비슷한 operations"
      ],
      "metadata": {
        "id": "1I9d4rkjYnzI"
      }
    },
    {
      "cell_type": "code",
      "source": [
        "data = [[3, 5, 20],[10, 5, 50], [1, 5, 10]]\n",
        "x_data = torch.tensor(data)"
      ],
      "metadata": {
        "id": "jPUK7HcaYICi"
      },
      "execution_count": null,
      "outputs": []
    },
    {
      "cell_type": "code",
      "source": [],
      "metadata": {
        "id": "HVnmfOMohQwP"
      },
      "execution_count": null,
      "outputs": []
    },
    {
      "cell_type": "code",
      "source": [],
      "metadata": {
        "id": "zNk4DCc7hQqS"
      },
      "execution_count": null,
      "outputs": []
    },
    {
      "cell_type": "code",
      "source": [],
      "metadata": {
        "id": "Y9YBcvOIhQoJ"
      },
      "execution_count": null,
      "outputs": []
    },
    {
      "cell_type": "code",
      "source": [],
      "metadata": {
        "id": "M69d5B47hQlK"
      },
      "execution_count": null,
      "outputs": []
    },
    {
      "cell_type": "code",
      "source": [],
      "metadata": {
        "id": "PBs1F5cchQdm"
      },
      "execution_count": null,
      "outputs": []
    },
    {
      "cell_type": "code",
      "source": [
        "x_data.device"
      ],
      "metadata": {
        "id": "hV9xluwBY0Wo"
      },
      "execution_count": null,
      "outputs": []
    },
    {
      "cell_type": "code",
      "source": [
        "if torch.cuda.is_available():\n",
        "    x_data_cuda = x_data.to('cuda')\n",
        "x_data_cuda.device "
      ],
      "metadata": {
        "id": "rXA61lbDY1Li"
      },
      "execution_count": null,
      "outputs": []
    },
    {
      "cell_type": "markdown",
      "source": [
        "### **슬라이싱(Slicing)**"
      ],
      "metadata": {
        "id": "82WpEcP1l05U"
      }
    },
    {
      "cell_type": "code",
      "source": [
        "# Helper function\n",
        "import matplotlib.pyplot as plt\n",
        "def draw_tensor(tensor, x):\n",
        "    \"\"\"tensor drawing\"\"\"\n",
        "    fig, axes = plt.subplots(len(tensor), 1, figsize=(5, 5))\n",
        "    for k in range(len(tensor)):\n",
        "        axes[k].matshow(tensor.numpy()[k], vmin=0, vmax=1, cmap='summer', alpha=0.5)\n",
        "        for (i, j), z in np.ndenumerate(x.numpy()[k]):\n",
        "            axes[k].text(j, i, '{:d}'.format(z), ha='center', va='center')\n",
        "    plt.tight_layout()\n",
        "    plt.show()"
      ],
      "metadata": {
        "id": "ygfm26cplx8y"
      },
      "execution_count": null,
      "outputs": []
    },
    {
      "cell_type": "code",
      "source": [
        "# 예시 텐서\n",
        "torch.manual_seed(777)\n",
        "x = torch.randint(0, 10, size=(2, 3, 4))\n",
        "print(x)"
      ],
      "metadata": {
        "id": "XoPg-N6bl-5a"
      },
      "execution_count": null,
      "outputs": []
    },
    {
      "cell_type": "markdown",
      "source": [
        "x는 (2, 3, 4) 크기를 가지는 텐서다. \n",
        "\n",
        "첫번째 차원의 0번 원소, 두번째 차원의 2번 원소, 세번째 차원의 3번 원소를 선택하려면 다음과 같이 한다."
      ],
      "metadata": {
        "id": "QQJSmkSYmAUT"
      }
    },
    {
      "cell_type": "code",
      "source": [
        "x[0,2,3]"
      ],
      "metadata": {
        "id": "ns8b9F71mByW"
      },
      "execution_count": null,
      "outputs": []
    },
    {
      "cell_type": "code",
      "source": [
        "# 선택한 텐서를 시각화 한다.\n",
        "mask = torch.ones_like(x)\n",
        "mask[0, 2, 3] = 0\n",
        "draw_tensor(mask, x)"
      ],
      "metadata": {
        "id": "AB_uzWbHmDBH"
      },
      "execution_count": null,
      "outputs": []
    },
    {
      "cell_type": "markdown",
      "source": [
        "\"a:b\" 콜론을 사용하면 a번 원소부터 b번 원소 이전(b 비포함)까지 선택한다. a를 생략하면 a=0 이 되고, b를 생략하면 b=해당 차원의 크기가 된다. 만약 a,b 아무런 숫자를 쓰지 않는다면(\":\") 해당차원의 모든 원소를 선택하는 것이다.\n",
        "\n",
        "첫번째 차원의 0번 원소, 두번째 차원의 2번 원소 이전까지(0번, 1번 원소), 세번째 차원의 3번 원소를 선택하려면 다음과 같이 한다."
      ],
      "metadata": {
        "id": "8UDhQfn3mFhE"
      }
    },
    {
      "cell_type": "code",
      "source": [
        "# 선택한 텐서를 시각화 한다.\n",
        "mask = torch.ones_like(x)\n",
        "mask[0, :2, 3] = 0\n",
        "draw_tensor(mask, x)"
      ],
      "metadata": {
        "id": "t_NP3r2LmHfR"
      },
      "execution_count": null,
      "outputs": []
    },
    {
      "cell_type": "code",
      "source": [
        "x[0, 2, 1:]"
      ],
      "metadata": {
        "id": "5-ZhuS1jmJ1Y"
      },
      "execution_count": null,
      "outputs": []
    },
    {
      "cell_type": "code",
      "source": [
        "mask = torch.ones_like(x)\n",
        "mask[0, 2, 1:] = 0\n",
        "draw_tensor(mask, x)"
      ],
      "metadata": {
        "id": "ZjK-GRKlmR52"
      },
      "execution_count": null,
      "outputs": []
    },
    {
      "cell_type": "code",
      "source": [
        "x[0, 2, 1:2]"
      ],
      "metadata": {
        "id": "spQ1iI5omTV9"
      },
      "execution_count": null,
      "outputs": []
    },
    {
      "cell_type": "code",
      "source": [
        "mask = torch.ones_like(x)\n",
        "mask[0, 2, 1:2] = 0\n",
        "draw_tensor(mask, x)"
      ],
      "metadata": {
        "id": "mBp_s0W2mUYD"
      },
      "execution_count": null,
      "outputs": []
    },
    {
      "cell_type": "code",
      "source": [
        "x[0, 2, :]"
      ],
      "metadata": {
        "id": "zLthEtsAmVrY"
      },
      "execution_count": null,
      "outputs": []
    },
    {
      "cell_type": "code",
      "source": [
        "mask = torch.ones_like(x)\n",
        "mask[0, 2, :] = 0\n",
        "draw_tensor(mask, x)"
      ],
      "metadata": {
        "id": "VXth5RwGmWp9"
      },
      "execution_count": null,
      "outputs": []
    },
    {
      "cell_type": "markdown",
      "source": [
        "### **뷰(view)**\n",
        "\n",
        "텐서의 크기를 알맞게 변화해야할 때 자주 사용한다. 변화되는 차원 크기의 총 곱은 원래 텐서의 차원 크기의 총 곱이 되어야 한다."
      ],
      "metadata": {
        "id": "eLt2IgbCmYzE"
      }
    },
    {
      "cell_type": "code",
      "source": [
        "\n",
        "# 크기가 (2, 3, 4) 3차원 텐서를 (2, 2, 6) 으로 변경\n",
        "x_viewed1 = None\n",
        "\n",
        "# 텐서 시각화\n",
        "print(\"original tensor: \", x.size())\n",
        "mask = torch.ones_like(x)\n",
        "draw_tensor(mask, x)\n",
        "\n",
        "print(\"reshaped tensor: \", x.size())\n",
        "mask = torch.ones_like(x_viewed1)\n",
        "draw_tensor(mask, x_viewed1)"
      ],
      "metadata": {
        "id": "mnJ4efyAmaa9"
      },
      "execution_count": null,
      "outputs": []
    },
    {
      "cell_type": "markdown",
      "source": [
        "\"-1\" 를 사용하면 나머지 차원을 알아서 계산 해준다. 단 2 곳 이상 동시에 사용할 수 없다."
      ],
      "metadata": {
        "id": "LlxossaqmdB9"
      }
    },
    {
      "cell_type": "code",
      "source": [
        "# 크기가 (2, 3, 4) 3차원 텐서를 (2, 1, 12) 으로 변경\n",
        "x_viewed2 = None\n",
        "# 1,12 고정되면 -1이 자동적으로 설정\n",
        "\n",
        "# 텐서 시각화\n",
        "print(\"original tensor: \", x.size())\n",
        "mask = torch.ones_like(x)\n",
        "draw_tensor(mask, x)\n",
        "\n",
        "print(\"reshaped tensor: \", x_viewed2.size())\n",
        "mask = torch.ones_like(x_viewed2)\n",
        "draw_tensor(mask, x_viewed2)"
      ],
      "metadata": {
        "id": "OT4e3iddmeOP"
      },
      "execution_count": null,
      "outputs": []
    },
    {
      "cell_type": "markdown",
      "source": [
        "view와 reshape의 memory copy부분 예시"
      ],
      "metadata": {
        "id": "byPWDOLgKZbW"
      }
    },
    {
      "cell_type": "code",
      "source": [
        "a = torch.zeros(3, 2)\n",
        "b = a.view(2, 3)\n",
        "a.fill_(1) "
      ],
      "metadata": {
        "id": "yc1P-T3aKW6r"
      },
      "execution_count": null,
      "outputs": []
    },
    {
      "cell_type": "code",
      "source": [
        "a"
      ],
      "metadata": {
        "id": "sTnNQGk-Keem"
      },
      "execution_count": null,
      "outputs": []
    },
    {
      "cell_type": "code",
      "source": [
        "b"
      ],
      "metadata": {
        "id": "XrgySEbKKgeo"
      },
      "execution_count": null,
      "outputs": []
    },
    {
      "cell_type": "code",
      "source": [
        "a = torch.zeros(3, 2) \n",
        "b = a.t().reshape(6) \n",
        "a.fill_(1) "
      ],
      "metadata": {
        "id": "JZtUj5mFKiMc"
      },
      "execution_count": null,
      "outputs": []
    },
    {
      "cell_type": "code",
      "source": [
        "a"
      ],
      "metadata": {
        "id": "1rEK2dQmKjKT"
      },
      "execution_count": null,
      "outputs": []
    },
    {
      "cell_type": "code",
      "source": [
        "b"
      ],
      "metadata": {
        "id": "2DQn1qrAKj3I"
      },
      "execution_count": null,
      "outputs": []
    },
    {
      "cell_type": "markdown",
      "source": [
        "## 텐서 인덱싱(Indexing)"
      ],
      "metadata": {
        "id": "Wn7m4uXkZHCq"
      }
    },
    {
      "cell_type": "markdown",
      "source": [
        "``` python\n",
        "[[1  2]\n",
        " [3  4]] 2차원 텐서에서 [1  3]이라는 값을 가져오고 싶어요!\n",
        "```\n",
        "tensor를 원하는 모양으로 바꾸고 싶을 때, `torch.Tensor.view`라는 함수를 사용하면 됩니다."
      ],
      "metadata": {
        "id": "BKA37eCgZP8Y"
      }
    },
    {
      "cell_type": "code",
      "source": [
        "A = torch.Tensor([[1, 2],\n",
        "                  [3, 4]])\n",
        "\n",
        "# [1, 3]만 출력해봅시다.\n",
        "\n",
        "# torch.index_select 함수를 써서 해보세요!\n",
        "output = torch.index_select(A, 1, torch.tensor([0]))\n",
        "output = output.view(-1)\n",
        "output"
      ],
      "metadata": {
        "id": "mGRyiamEY21s"
      },
      "execution_count": null,
      "outputs": []
    },
    {
      "cell_type": "code",
      "source": [
        "# 파이썬 리스트 인덱싱과 비슷한 방법으로 해보세요!\n",
        "output = None\n",
        "output"
      ],
      "metadata": {
        "id": "rkzCjNRbirCG"
      },
      "execution_count": null,
      "outputs": []
    },
    {
      "cell_type": "markdown",
      "source": [
        "### **permute**\n",
        "\n",
        "차원의 위치를 바꿀때 주로 사용한다. 텐서 전체 모양을 바꿀 때 유용하게 쓰인다."
      ],
      "metadata": {
        "id": "--TaYnd52-3L"
      }
    },
    {
      "cell_type": "code",
      "source": [
        "# (2, 3, 4) 크기 텐서의 차원 크기를 (4, 3, 2)로 바꾼다. rank, shape\n",
        "x_permuted = None\n",
        "\n",
        "# 텐서 시각화\n",
        "print(\"original tensor: \", x.size())\n",
        "mask = torch.ones_like(x)\n",
        "draw_tensor(mask, x)\n",
        "\n",
        "print(\"reshaped tensor\", x_permuted.size())\n",
        "mask = torch.ones_like(x_permuted)\n",
        "draw_tensor(mask, x_permuted)"
      ],
      "metadata": {
        "id": "wW0RDRgui_4r"
      },
      "execution_count": null,
      "outputs": []
    },
    {
      "cell_type": "markdown",
      "source": [
        "### **transpose**\n",
        "\n",
        "`permute`의 특별한 케이스다, 주로 두 개 차원을 교환하여 바꿀때 사용된다."
      ],
      "metadata": {
        "id": "iVC1pg5-3IYQ"
      }
    },
    {
      "cell_type": "code",
      "source": [
        "# (2, 3, 4) 크기 텐서의 첫번째 차원과 두번째 차원이 바뀐다.\n",
        "x_transposed =None\n",
        "\n",
        "# 텐서 시각화\n",
        "print(\"original tensor: \", x.size())\n",
        "mask = torch.ones_like(x)\n",
        "draw_tensor(mask, x)\n",
        "\n",
        "print(\"reshaped tensor\", x_transposed.size())\n",
        "mask = torch.ones_like(x_transposed)\n",
        "draw_tensor(mask, x_transposed)"
      ],
      "metadata": {
        "id": "9alq3hHn3HBX"
      },
      "execution_count": null,
      "outputs": []
    },
    {
      "cell_type": "markdown",
      "source": [
        "### **squeeze & unsqueeze**\n",
        "\n",
        "* squeeze: 텐서의 크기가 1인 차원을 지워버린다. 숫자를 특정하면 해당 차원의 크기가 1일 경우 지우고 아니면 그냥 둔다.\n",
        "* unsqueeze: 해당하는 숫자 차원에 크기 1인 차원을 늘린다. `np.newaxis` 와 비슷한 역할"
      ],
      "metadata": {
        "id": "phicv13K3LR4"
      }
    },
    {
      "cell_type": "code",
      "source": [
        "x = torch.rand((2, 1, 3, 4, 1)) \n",
        "print(x.size())\n",
        "print(x.squeeze().size())"
      ],
      "metadata": {
        "id": "IfXbveZf3Jfr"
      },
      "execution_count": null,
      "outputs": []
    },
    {
      "cell_type": "code",
      "source": [
        "# 크기가 (2, 1, 3, 4, 1) 인 5차원 텐서를 생성한다\n",
        "x = torch.rand((2, 1, 3, 4, 1))\n",
        "print(x.size())\n",
        "\n",
        "# 모든 차원에서 크기가 1인 차원을 squeeze 한다.\n",
        "print(x.squeeze().size())  # 크기확인\n",
        "\n",
        "# 두번째 차원(크기 = 1)을 squeeze 한다.\n",
        "print(x.squeeze(1).size())  # 크기확인\n",
        "\n",
        "# 4번째 차원에 크기를 1 추가, 6차원 텐서가 된다.\n",
        "print(x.unsqueeze(3).size())  # 크기확인"
      ],
      "metadata": {
        "id": "pr_udyf13NCv"
      },
      "execution_count": null,
      "outputs": []
    },
    {
      "cell_type": "markdown",
      "source": [
        "### **cat & stack**\n",
        "\n",
        "두 텐서 혹은 그 이상을 합치는 역할을 담당한다."
      ],
      "metadata": {
        "id": "qtRXxQJr3QfL"
      }
    },
    {
      "cell_type": "code",
      "source": [
        "# helper function\n",
        "def draw_tensor2(x):\n",
        "    \"\"\"tensor drawing cat&stack\"\"\"\n",
        "    subplot_size = 1 if x.ndimension() <= 2 else x.size(0)\n",
        "    fig, axes = plt.subplots(subplot_size, 1)\n",
        "    if subplot_size == 1: \n",
        "        axes.matshow(x.numpy(), vmin=0, vmax=1, cmap='summer')\n",
        "    else:\n",
        "        for i in range(subplot_size):\n",
        "            axes[i].matshow(x.numpy()[i], vmin=0, vmax=1, cmap='summer')\n",
        "    plt.show()"
      ],
      "metadata": {
        "id": "_uA-_nID3NkO"
      },
      "execution_count": null,
      "outputs": []
    },
    {
      "cell_type": "markdown",
      "source": [
        "`cat` 의 경우 텐서를 \"합친다\"라는 느낌이 강하다. 지정한 차원 방향으로 크기를 합친다고 생각할 수 있다. 다만 지정되지 않은 다른 차원의 크기는 두 텐서가 같아야 한다."
      ],
      "metadata": {
        "id": "Sr_I2tXp3Vlx"
      }
    },
    {
      "cell_type": "code",
      "source": [
        "torch.manual_seed(777)\n",
        "# 크기가 (2, 3) 인 A, B 텐서를 만든다\n",
        "A = torch.rand((2, 3))\n",
        "B = torch.rand((2, 3))\n",
        "\n",
        "# 첫번째 차원을 기준으로 텐서를 concatenate 한다.\n",
        "AB_cated = torch.cat([A, B], dim=0)\n",
        "print(A)\n",
        "print(B)\n",
        "print(AB_cated)\n",
        "\n",
        "# 시각화\n",
        "draw_tensor2(AB_cated)"
      ],
      "metadata": {
        "id": "SwE6UVEt3UfN"
      },
      "execution_count": null,
      "outputs": []
    },
    {
      "cell_type": "markdown",
      "source": [
        "`stack`은 텐서들을 \"쌓는다\"라는 느낌이 강하다. 각 리스트 안에 있는 지정된 차원을 `unsqueeze` 한 다음 `cat`을 사용하는 것과 같다."
      ],
      "metadata": {
        "id": "1yEioo9-3X9T"
      }
    },
    {
      "cell_type": "code",
      "source": [
        "# 첫번째 차원을 기준으로 텐서를 stack 한다.\n",
        "AB_stacked = torch.stack([A, B], dim=0)\n",
        "print(\"torch.stack([A, B], dim=0)\\n\")\n",
        "print(AB_stacked)\n",
        "print(\"----\"*10)\n",
        "print(\"torch.cat([A.unsqueeze(0), B.unsqueeze(0)], dim=0)\\n\")\n",
        "# 각 텐서를 첫번째 차원 기준으로 unsqueeze 후, cat 한것과 같은 결과\n",
        "AB_unsqueeze_cat = torch.cat([A.unsqueeze(0), B.unsqueeze(0)], dim=0)\n",
        "print(AB_unsqueeze_cat)\n",
        "\n",
        "# 시각화\n",
        "draw_tensor2(AB_stacked)"
      ],
      "metadata": {
        "id": "LITRyKKG3Whq"
      },
      "execution_count": null,
      "outputs": []
    },
    {
      "cell_type": "markdown",
      "source": [
        "## 텐서의 사칙연산: add / multiplication\n",
        "\n",
        "### **텐서의 덧셈과 뺄셈**\n",
        "\n",
        "$$\\begin{aligned}\n",
        "x = \\begin{bmatrix}1 \\\\ 2 \\\\ 3 \\end{bmatrix}\\quad y = \\begin{bmatrix}4 \\\\ 5 \\\\ 6 \\end{bmatrix}\n",
        "\\end{aligned}$$\n",
        "\n",
        "벡터와 스칼라 연산: broadcasting 이 적용된다.\n",
        "\n",
        "$$\\begin{aligned}\n",
        "x + 2 &= \\begin{bmatrix}1 \\\\ 2 \\\\ 3 \\end{bmatrix} + 2 = \\begin{bmatrix}1 \\\\ 2 \\\\ 3 \\end{bmatrix} + 2*\\begin{bmatrix}1 \\\\ 1 \\\\ 1 \\end{bmatrix} \\\\\n",
        "&= \\begin{bmatrix}1+2 \\\\ 2+2 \\\\ 3+2 \\end{bmatrix} = \\begin{bmatrix}3 \\\\ 4 \\\\ 5 \\end{bmatrix}\n",
        "\\end{aligned}$$\n",
        "\n",
        "벡터와 벡터간 연산\n",
        "\n",
        "$$\\begin{aligned}\n",
        "x + y &= \\begin{bmatrix}1 \\\\ 2 \\\\ 3 \\end{bmatrix} + \\begin{bmatrix}4 \\\\ 5 \\\\ 6 \\end{bmatrix} = \\begin{bmatrix}1+4 \\\\ 2+5 \\\\ 3+6 \\end{bmatrix} = \\begin{bmatrix}5 \\\\ 7\\\\ 9 \\end{bmatrix}\n",
        "\\end{aligned}$$"
      ],
      "metadata": {
        "id": "-8A0eS373qZt"
      }
    },
    {
      "cell_type": "code",
      "source": [
        "# x, y 크기가 3인 1차원 벡터 생성\n",
        "x = torch.Tensor([1, 2, 3])\n",
        "y = torch.Tensor([4, 5, 6])\n",
        "\n",
        "# 같은 크기의 벡터간 덧셈\n",
        "print(torch.add(x, y))\n",
        "\n",
        "# 같은 크기의 벡터간 뺄셈\n",
        "print(torch.sub(x, y))\n",
        "\n",
        "# 벡터 + 스칼라\n",
        "print(x+2)\n",
        "\n",
        "# 벡터 - 스칼라\n",
        "print(x-2)"
      ],
      "metadata": {
        "id": "Tr2QCsP-3Y96"
      },
      "execution_count": null,
      "outputs": []
    },
    {
      "cell_type": "markdown",
      "source": [
        "행렬 모양이 다르면 당연히 연산이 되지 않는다."
      ],
      "metadata": {
        "id": "DbNJCE7VKtFD"
      }
    },
    {
      "cell_type": "code",
      "source": [
        "n1 = np.arange(10).reshape(2,5)\n",
        "n2 = np.arange(10).reshape(5,2)\n",
        "t1 = torch.FloatTensor(n1)\n",
        "t2 = torch.FloatTensor(n2)"
      ],
      "metadata": {
        "id": "Ox7rpB19KshX"
      },
      "execution_count": null,
      "outputs": []
    },
    {
      "cell_type": "code",
      "source": [
        "t1 + t2"
      ],
      "metadata": {
        "id": "XaoI2MhCK2_h"
      },
      "execution_count": null,
      "outputs": []
    },
    {
      "cell_type": "markdown",
      "source": [
        "### **텐서의 곱셈**\n",
        "\n",
        "원소간 곱셈(element-wise product) : $*$, $\\odot$\n",
        "\n",
        "$$\\begin{aligned}\n",
        "x * y &= \\begin{bmatrix}1 \\\\ 2 \\\\ 3 \\end{bmatrix} * \\begin{bmatrix}4 \\\\ 5 \\\\ 6 \\end{bmatrix} = \\begin{bmatrix}1*4 \\\\ 2*5 \\\\ 3*6 \\end{bmatrix} = \\begin{bmatrix}4 \\\\ 10 \\\\ 18 \\end{bmatrix}\n",
        "\\end{aligned}$$"
      ],
      "metadata": {
        "id": "oyTDDbYj3tzI"
      }
    },
    {
      "cell_type": "code",
      "source": [
        "# 곱셈\n",
        "print(x * y)\n",
        "print(torch.mul(x, y))\n",
        "\n",
        "# 나눗셈\n",
        "print(x / y)\n",
        "print(torch.div(x, y))"
      ],
      "metadata": {
        "id": "a5_xX9l73sbp"
      },
      "execution_count": null,
      "outputs": []
    },
    {
      "cell_type": "markdown",
      "source": [
        "내적(inner product) 혹은 점곱(dot product): $\\cdot$\n",
        "\n",
        "$$\\begin{aligned}\n",
        "x\\cdot y = x^T y = \\sum_i^N x_i * y_i &= \\begin{bmatrix}1 \\\\ 2 \\\\ 3 \\end{bmatrix}^T \\cdot \\begin{bmatrix}4 \\\\ 5 \\\\ 6 \\end{bmatrix} = \\begin{bmatrix}1 & 2 & 3 \\end{bmatrix}\\begin{bmatrix}4 \\\\ 5 \\\\ 6 \\end{bmatrix} \\\\\n",
        "&= 1 \\times 4 + 2 \\times 5 + 3 \\times 6 = 4+10+18 = 32\n",
        "\\end{aligned}$$"
      ],
      "metadata": {
        "id": "AJcInum53wge"
      }
    },
    {
      "cell_type": "code",
      "source": [
        "print(\"inner product: \")\n",
        "print(torch.dot(x, y))\n",
        "print(x.dot(y))"
      ],
      "metadata": {
        "id": "EG3A5-RV3vRe"
      },
      "execution_count": null,
      "outputs": []
    },
    {
      "cell_type": "markdown",
      "source": [
        "### **행렬의 곱셈(matrix product)**\n",
        "\n",
        "$$\\begin{aligned}\n",
        "X &= \\begin{bmatrix}x_{11} & x_{12} \\\\ x_{21} & x_{22} \\\\ x_{31} & x_{32} \\end{bmatrix} = \\begin{bmatrix}1 & 4 \\\\ 2 & 5 \\\\ 3 & 6 \\end{bmatrix} \n",
        "\\\\ \n",
        "Y &= \\begin{bmatrix}y_{11} & y_{12} \\\\ y_{21} & y_{22}\\end{bmatrix} = \\begin{bmatrix}7 & 9 \\\\ 8 & 10 \\end{bmatrix}\n",
        "\\end{aligned}$$\n",
        "\n",
        "X의 크기 (3, 2), Y의 크기 (2, 2) \n",
        "\n",
        "$$\\begin{aligned}\n",
        "X\\cdot Y \n",
        "&= \\begin{bmatrix}1 & 4 \\\\ 2 & 5 \\\\ 3 & 6 \\end{bmatrix} \\begin{bmatrix}7 & 9 \\\\ 8 & 10 \\end{bmatrix} \\\\\n",
        "&= \\begin{bmatrix}\n",
        "x_{1:}\\cdot y_{:1} & \\ x_{1:}\\cdot y_{:2} \\\\\n",
        "x_{2:}\\cdot y_{:1} & \\ x_{2:}\\cdot y_{:2} \\\\\n",
        "x_{3:}\\cdot y_{:1} & \\ x_{3:}\\cdot y_{:2}\n",
        "\\end{bmatrix}\n",
        "= \\begin{bmatrix}\n",
        "1\\times 7 + 4 \\times 8 & 1 \\times 9 + 4 \\times 10 \\\\\n",
        "2\\times 7 + 5 \\times 8 & 2 \\times 9 + 5 \\times 10 \\\\\n",
        "3\\times 7 + 6 \\times 8 & 3 \\times 9 + 6 \\times 10\n",
        "\\end{bmatrix}\n",
        "\\end{aligned}$$"
      ],
      "metadata": {
        "id": "gugeZjFi3zaF"
      }
    },
    {
      "cell_type": "code",
      "source": [
        "# (3, 2) 크기의 X 텐서와 (2, 2) 크기의 Y 텐서를 생성한다.\n",
        "X = torch.Tensor([[1, 4], \n",
        "                  [2, 5], \n",
        "                  [3, 6]])\n",
        "\n",
        "Y = torch.Tensor([[7, 9], \n",
        "                  [8, 10]])\n",
        "\n",
        "# 행렬의 곱셈을 한다.\n",
        "print(torch.mm(X, Y))\n",
        "print()\n",
        "print(X.mm(Y))"
      ],
      "metadata": {
        "id": "u-SRsZtA3xsW"
      },
      "execution_count": null,
      "outputs": []
    },
    {
      "cell_type": "markdown",
      "source": [
        "torch.mm과 torch.matmul 동일한 연산을 수행 결과값도 같다"
      ],
      "metadata": {
        "id": "swoKhYHhJwkX"
      }
    },
    {
      "cell_type": "code",
      "source": [
        "n1 = np.arange(10).reshape(2,5)\n",
        "t1 = torch.FloatTensor(n1)"
      ],
      "metadata": {
        "id": "aWvJEtJ-JASo"
      },
      "execution_count": null,
      "outputs": []
    },
    {
      "cell_type": "code",
      "source": [
        "n2 = np.arange(10).reshape(5,2)\n",
        "t2 = torch.FloatTensor(n2)\n",
        "\n",
        "t1.mm(t2)"
      ],
      "metadata": {
        "id": "JUzq0OOtI3ng"
      },
      "execution_count": null,
      "outputs": []
    },
    {
      "cell_type": "code",
      "source": [
        "t1.dot(t2)"
      ],
      "metadata": {
        "id": "hphGBTjIJGKz"
      },
      "execution_count": null,
      "outputs": []
    },
    {
      "cell_type": "code",
      "source": [
        "t1.matmul(t2)"
      ],
      "metadata": {
        "id": "ucqVoKhdJHvW"
      },
      "execution_count": null,
      "outputs": []
    },
    {
      "cell_type": "markdown",
      "source": [
        "broadcast가 안되는 예시"
      ],
      "metadata": {
        "id": "aQxdZ3-HJs_2"
      }
    },
    {
      "cell_type": "code",
      "source": [
        "a = torch.rand(5,2,3)\n",
        "b = torch.rand(3)\n",
        "a.mm(b)"
      ],
      "metadata": {
        "id": "kpVQaE3vJi_e"
      },
      "execution_count": null,
      "outputs": []
    },
    {
      "cell_type": "code",
      "source": [
        "a = torch.rand(5,2,3) \n",
        "b = torch.rand(3)\n",
        "a.matmul(b)"
      ],
      "metadata": {
        "id": "L4Axq1nAJkZJ"
      },
      "execution_count": null,
      "outputs": []
    },
    {
      "cell_type": "code",
      "source": [
        "a.matmul(b).shape "
      ],
      "metadata": {
        "id": "MnsOg3D-LdZ9"
      },
      "execution_count": null,
      "outputs": []
    },
    {
      "cell_type": "markdown",
      "source": [
        "matmul은 a의 연산을 하나하나 떼어나서 mm연산한 것과 같다."
      ],
      "metadata": {
        "id": "jop7vmGbLq9R"
      }
    },
    {
      "cell_type": "code",
      "source": [
        "a[0].mm(torch.unsqueeze(b,1)).squeeze()"
      ],
      "metadata": {
        "id": "aTPmzrUlLqZP"
      },
      "execution_count": null,
      "outputs": []
    },
    {
      "cell_type": "code",
      "source": [
        "a[1].mm(torch.unsqueeze(b,1))"
      ],
      "metadata": {
        "id": "CLrwjjm-LzGH"
      },
      "execution_count": null,
      "outputs": []
    },
    {
      "cell_type": "code",
      "source": [
        "a[2].mm(torch.unsqueeze(b,1))"
      ],
      "metadata": {
        "id": "LDW37hfAL4f5"
      },
      "execution_count": null,
      "outputs": []
    },
    {
      "cell_type": "code",
      "source": [
        "a[3].mm(torch.unsqueeze(b,1))"
      ],
      "metadata": {
        "id": "w3wykexuL73a"
      },
      "execution_count": null,
      "outputs": []
    },
    {
      "cell_type": "code",
      "source": [
        "a[4].mm(torch.unsqueeze(b,1))"
      ],
      "metadata": {
        "id": "mLCyoDtnL9Du"
      },
      "execution_count": null,
      "outputs": []
    },
    {
      "cell_type": "markdown",
      "source": [
        "## 기초연산: \n",
        "\n",
        "### **sum / mean**\n",
        "\n",
        "$$Z = \\begin{aligned}\n",
        "\\begin{bmatrix}1 & 2 \\\\ 3 & 4 \\end{bmatrix}\\\\\n",
        "\\begin{bmatrix}5 & 6 \\\\ 7 & 8 \\end{bmatrix}\n",
        "\\end{aligned}$$"
      ],
      "metadata": {
        "id": "OzSZK5NI33TX"
      }
    },
    {
      "cell_type": "code",
      "source": [
        "# (2, 2, 2) 크기의 3차원 텐서 Z 를 생성한다.\n",
        "Z = torch.Tensor([[[1, 2], \n",
        "                   [3, 4]],\n",
        "                  \n",
        "                  [[5, 6], \n",
        "                   [7, 8]]])\n",
        "\n",
        "# 텐서의 모든 원소의 합 혹은 평균을 구한다.\n",
        "Z_sum = None\n",
        "Z_mean = None\n",
        "\n",
        "print(f\"sum: {Z_sum}\")\n",
        "print(f\"mean: {Z_mean}\")"
      ],
      "metadata": {
        "id": "4MSppV3U31d9"
      },
      "execution_count": null,
      "outputs": []
    },
    {
      "cell_type": "markdown",
      "source": [
        "차원을 지정해주면, 해당 차원을 축소하면서 합(평균)을 구한다.\n",
        "\n",
        "$$\\begin{aligned} \n",
        "sum(Z, dim=0) &= \\begin{bmatrix}1+5 & 2+6 \\\\ 3+7 & 4+8 \\end{bmatrix}= \\begin{bmatrix}6 & 8 \\\\ 10 & 12 \\end{bmatrix} \\\\\n",
        "sum(Z, dim=1) &= \\begin{bmatrix}1+3 & 2+4 \\\\ 5+7 & 6+8 \\end{bmatrix}= \\begin{bmatrix}4 & 6 \\\\ 12 & 14 \\end{bmatrix} \\\\\n",
        "sum(Z, dim=2) &= \\begin{bmatrix}1+2 & 3+4 \\\\ 5+6 & 7+8 \\end{bmatrix}= \\begin{bmatrix}3 & 7 \\\\ 11 & 15 \\end{bmatrix} \\\\\n",
        "\\end{aligned}$$"
      ],
      "metadata": {
        "id": "2VhXpCBT35s0"
      }
    },
    {
      "cell_type": "code",
      "source": [
        "print(torch.sum(Z, dim=0))\n",
        "print()\n",
        "print(torch.mean(Z, dim=0))"
      ],
      "metadata": {
        "id": "uU8yoItQ34kz"
      },
      "execution_count": null,
      "outputs": []
    },
    {
      "cell_type": "markdown",
      "source": [
        "### max & argmax / min & argmin "
      ],
      "metadata": {
        "id": "-Dle-q3J38RA"
      }
    },
    {
      "cell_type": "code",
      "source": [
        "# 텐서의 모든 원소중 최대값 및 최대값의 위치 구하기\n",
        "print(\"Z max:\", None)\n",
        "print(\"Z argmax:\", None)\n",
        "\n",
        "# 텐서의 모든 원소중 최소값 및 최소값의 위치 구하기\n",
        "print(\"Z min:\", None)\n",
        "print(\"Z argmin:\", None)"
      ],
      "metadata": {
        "id": "PJQ6uERc37D-"
      },
      "execution_count": null,
      "outputs": []
    },
    {
      "cell_type": "markdown",
      "source": [
        "차원 지정시 지정된 차원을 기준으로 차원이 축소 되면서 최대값 및 위치 혹은 최소값 및 위치를 가진 튜플(tuple)을 반환한다.\n",
        "\n",
        "\n",
        "$$max(Z, dim=1)=\n",
        "\\begin{aligned}\n",
        "\\begin{bmatrix} \n",
        "max\\begin{pmatrix} 1\\\\ 3 \\end{pmatrix} & max\\begin{pmatrix} 2\\\\ 4 \\end{pmatrix} \\end{bmatrix} \\\\\n",
        "\\begin{bmatrix}\n",
        "max\\begin{pmatrix} 5\\\\ 7 \\end{pmatrix} & max\\begin{pmatrix} 6\\\\ 8 \\end{pmatrix}\n",
        "\\end{bmatrix} \n",
        "\\end{aligned}\n",
        "= \\begin{bmatrix} 3 & 4 \\\\ 7 & 8 \\end{bmatrix}\n",
        "$$"
      ],
      "metadata": {
        "id": "dztgTLA53-gE"
      }
    },
    {
      "cell_type": "code",
      "source": [
        "Z_max, Z_argmax = torch.max(Z, dim=1)\n",
        "Z_min, Z_argmin = torch.min(Z, dim=1)\n",
        "print(\"Z max:\\n\", Z_max)\n",
        "print(\"Z argmax:\\n\", Z_argmax)\n",
        "print()\n",
        "print(\"Z min:\\n\", Z_min)\n",
        "print(\"Z argmin:\\n\", Z_argmin)"
      ],
      "metadata": {
        "id": "cGwsEbg639cg"
      },
      "execution_count": null,
      "outputs": []
    },
    {
      "cell_type": "markdown",
      "source": [
        "### 논리연산"
      ],
      "metadata": {
        "id": "DzgAQuW24CLd"
      }
    },
    {
      "cell_type": "code",
      "source": [
        "# 크기가 3인 벡터를 생성\n",
        "z = torch.Tensor([-3, 2, 0])\n",
        "\n",
        "# 0과 같다\n",
        "print(\"equal to 0\")\n",
        "print(z.eq(0))\n",
        "print(z == 0)\n",
        "print()\n",
        "\n",
        "# 0 보다 크거나 같다\n",
        "print(\"great than or equal to 0\")\n",
        "print(z.ge(0))\n",
        "print(z >= 0)\n",
        "print()\n",
        "\n",
        "# 0보다 크다\n",
        "print(\"great than 0\")\n",
        "print(z.gt(0))\n",
        "print(z > 0)\n",
        "print()\n",
        "\n",
        "# 0보다 작거나 같다\n",
        "print(\"less than or equal to 0\")\n",
        "print(z.le(0))\n",
        "print(z <= 0)\n",
        "print()\n",
        "\n",
        "# 0보다 작다\n",
        "print(\"less than 0\")\n",
        "print(z.lt(0))\n",
        "print(z < 0)"
      ],
      "metadata": {
        "id": "FbW3kMnO3_1d"
      },
      "execution_count": null,
      "outputs": []
    },
    {
      "cell_type": "markdown",
      "source": [
        "# Coding Part\n",
        "\n",
        "두 벡터 $w$와 $x$, 스칼라 $b$ 가 있다. 함수`function`를 작성해보자!\n",
        "\n",
        "1. 두 벡터(x, w)의 내적 값에 b를 더해서 z값을 구한다. \n",
        "2. z값이 0 보다 크면 1, 0과 같거나 작으면 0 을 반환한다. \n",
        "\n",
        "$$\\begin{aligned}\n",
        "w = \\begin{bmatrix} 0.7 \\\\ 0.7 \\end{bmatrix}, \\quad b = \\begin{bmatrix} -0.5 \\end{bmatrix}, \\quad x = \\begin{bmatrix} 1 \\\\ 0 \\end{bmatrix}\n",
        "\\end{aligned}$$\n",
        "\n",
        "3. check 함수에서 b가 스칼라 값을 갖도록 하는 조건을 작성한다."
      ],
      "metadata": {
        "id": "jeWN2xyC4RDV"
      }
    },
    {
      "cell_type": "code",
      "source": [
        "def function(x, w, b):\n",
        "    check(w, b)\n",
        "    # 1. 두 벡터의 내적 + b\n",
        "    \"\"\"write your code\"\"\"\n",
        "    \n",
        "    # 2. 0 보다 크면 1, 작거나 같으면 0 반환\n",
        "    \"\"\"write your code\"\"\"\n",
        "\n",
        "def check(w, b):\n",
        "    assert len(w) == 2, \"w에 두 개의 숫자가 필요합니다.\"\n",
        "\n",
        "    # 3. True condition\n",
        "    assert \"\"\"write your code\"\"\" , \"b는 스칼라 값이어야 합니다.\"\n",
        "    "
      ],
      "metadata": {
        "id": "KVqcVi6H4DZZ"
      },
      "execution_count": null,
      "outputs": []
    },
    {
      "cell_type": "code",
      "source": [
        "x = torch.FloatTensor([0, 1])\n",
        "w = torch.FloatTensor([0.7, 0.7])\n",
        "b = torch.FloatTensor([-0.5])\n",
        "\n",
        "function(x, w, b)"
      ],
      "metadata": {
        "id": "9AXaOzqY4T2y"
      },
      "execution_count": null,
      "outputs": []
    },
    {
      "cell_type": "code",
      "source": [
        "print(x)"
      ],
      "metadata": {
        "id": "yHLWJWcM4XiW"
      },
      "execution_count": null,
      "outputs": []
    },
    {
      "cell_type": "code",
      "source": [
        "print(w)"
      ],
      "metadata": {
        "id": "UMHv_MpD4YZL"
      },
      "execution_count": null,
      "outputs": []
    },
    {
      "cell_type": "code",
      "source": [
        "print(z)"
      ],
      "metadata": {
        "id": "jm2Yyf-c4ZJt"
      },
      "execution_count": null,
      "outputs": []
    },
    {
      "cell_type": "code",
      "source": [
        "# randomseed "
      ],
      "metadata": {
        "id": "ch0PGxymjgTY"
      },
      "execution_count": null,
      "outputs": []
    }
  ]
}