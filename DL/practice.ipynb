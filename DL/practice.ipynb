{
 "cells": [
  {
   "cell_type": "code",
   "execution_count": null,
   "metadata": {},
   "outputs": [],
   "source": [
    "T=int(input())\n",
    "\n",
    "for test in range(1,T+1):\n",
    "    data,exchange=list(map(int,input().split(\" \")))\n",
    "    result=[]\n",
    "    for i in data:\n",
    "        \n",
    "        print(f'#{test} {result}')\n",
    "    "
   ]
  },
  {
   "cell_type": "code",
   "execution_count": null,
   "metadata": {},
   "outputs": [],
   "source": [
    "def dfs(count):\n",
    "    global answer\n",
    "    #횟수를 다 사용했다면\n",
    "    if not count:\n",
    "        #숫자로 바꿔보고\n",
    "        temp = int(''.join(values))\n",
    "        #가지고 있는 최대수보다 크다면 갱신\n",
    "        if answer < temp:\n",
    "            answer = temp\n",
    "        return\n",
    "    # 바꿔야 하니까 이중 포문\n",
    "    for i in range(length):\n",
    "        #경우의 수를 찾는거니까 i보다 큰위치부터\n",
    "        for j in range(i+1, length):\n",
    "            #두개의 위치를 바꾸고 나서\n",
    "            values[i], values[j] = values[j], values[i]\n",
    "            #가지치기 해야하니까 일단 합쳐보고\n",
    "            temp_key = ''.join(values)\n",
    "            #어떤수가 몇회차에 나왔는지 체크 1이면 안나온거니까 경우의수에 넣어주기\n",
    "            if visited.get((temp_key, count-1), 1):\n",
    "                #이숫자는 몇회차에 사용했으니까 체크해주고\n",
    "                visited[(temp_key, count-1)] = 0\n",
    "                #dfs도 돌려주고\n",
    "                dfs(count-1)\n",
    "            #다 썼으면 원상복귀\n",
    "            values[i], values[j] = values[j], values[i]\n",
    " \n",
    " \n",
    "for t in range(int(input())):\n",
    "    answer = -1\n",
    "    value, change = input().split()\n",
    "    #바꾸기 편하려고 리스트화시킴\n",
    "    values = list(value)\n",
    "    change = int(change)\n",
    "    #계속 쓸꺼니까 캐스팅\n",
    "    length = len(values)\n",
    "    #가지치기용 딕셔너리\n",
    "    visited = {}\n",
    "    dfs(change)\n",
    "    print('#{} {}'.format(t+1, answer))"
   ]
  }
 ],
 "metadata": {
  "kernelspec": {
   "display_name": "base",
   "language": "python",
   "name": "python3"
  },
  "language_info": {
   "name": "python",
   "version": "3.9.12 (main, Apr  4 2022, 05:22:27) [MSC v.1916 64 bit (AMD64)]"
  },
  "orig_nbformat": 4,
  "vscode": {
   "interpreter": {
    "hash": "80cc27e9a0e8aa59b18a6f502b8a24c9fe77be3bcd87d0900d8763aa62f81a4d"
   }
  }
 },
 "nbformat": 4,
 "nbformat_minor": 2
}
