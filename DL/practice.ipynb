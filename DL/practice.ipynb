{
 "cells": [
  {
   "cell_type": "code",
   "execution_count": 1,
   "metadata": {},
   "outputs": [],
   "source": [
    "!conda activate tensorflow"
   ]
  },
  {
   "cell_type": "code",
   "execution_count": 2,
   "metadata": {},
   "outputs": [
    {
     "name": "stdout",
     "output_type": "stream",
     "text": [
      "12345 & 1\n"
     ]
    }
   ],
   "source": [
    "T=int(input())\n",
    "for test in range(1,T+1):\n",
    "    data,exchange=input().split()\n",
    "    \n",
    "    print(data, \"&\", exchange)"
   ]
  },
  {
   "cell_type": "code",
   "execution_count": null,
   "metadata": {},
   "outputs": [],
   "source": [
    "def dfs(count):\n",
    "    global answer\n",
    "    #횟수를 다 사용했다면\n",
    "    if not count:\n",
    "        #숫자로 바꿔보고\n",
    "        temp = int(''.join(values))\n",
    "        #가지고 있는 최대수보다 크다면 갱신\n",
    "        if answer < temp:\n",
    "            answer = temp\n",
    "        return\n",
    "    # 바꿔야 하니까 이중 포문\n",
    "    for i in range(length):\n",
    "        #경우의 수를 찾는거니까 i보다 큰위치부터\n",
    "        for j in range(i+1, length):\n",
    "            #두개의 위치를 바꾸고 나서\n",
    "            values[i], values[j] = values[j], values[i]\n",
    "            #가지치기 해야하니까 일단 합쳐보고\n",
    "            temp_key = ''.join(values)\n",
    "            #어떤수가 몇회차에 나왔는지 체크 1이면 안나온거니까 경우의수에 넣어주기\n",
    "            if visited.get((temp_key, count-1), 1):\n",
    "                #이숫자는 몇회차에 사용했으니까 체크해주고\n",
    "                visited[(temp_key, count-1)] = 0\n",
    "                #dfs도 돌려주고\n",
    "                dfs(count-1)\n",
    "            #다 썼으면 원상복귀\n",
    "            values[i], values[j] = values[j], values[i]\n",
    " \n",
    " \n",
    "for t in range(int(input())):\n",
    "    answer = -1\n",
    "    value, change = input().split()\n",
    "    #바꾸기 편하려고 리스트화시킴\n",
    "    values = list(value)\n",
    "    change = int(change)\n",
    "    #계속 쓸꺼니까 캐스팅\n",
    "    length = len(values)\n",
    "    #가지치기용 딕셔너리\n",
    "    visited = {}\n",
    "    dfs(change)\n",
    "    print('#{} {}'.format(t+1, answer))"
   ]
  },
  {
   "cell_type": "code",
   "execution_count": null,
   "metadata": {},
   "outputs": [],
   "source": [
    "T = int(input())\n",
    "for tc in range(1, T+1):\n",
    "    n, c = input().split()\n",
    "    n = list(n)\n",
    "    stn = sorted(n, reverse=True)\n",
    "    res = ''\n",
    " \n",
    "    cnt = int(c)\n",
    "    idx = 0\n",
    "    while cnt > 0:\n",
    "        maxI = idx\n",
    "        lct = 0\n",
    "        if n == stn:\n",
    "            break\n",
    "        for j in range(idx+1, len(n)):\n",
    "            if n[j:len(n)].count(max(n[j:len(n)])) > 1: # 바꿀 범위 내에 바꿀 가장 큰 수가 중복일 때\n",
    "                for k in n[j:j+cnt]: # 앞으로 바꿀 범위 내에 바꿀 값보다 작은 값이 있으면\n",
    "                    if k < n[idx]:\n",
    "                        lct += 1 # 작은것들의 개수를 셈\n",
    "            else:\n",
    "                if n[maxI] <= n[j]:\n",
    "                    maxI = j-lct\n",
    "        if maxI != idx:\n",
    "            n[maxI], n[idx] = n[idx], n[maxI]\n",
    "            cnt -= 1\n",
    "        idx += 1\n",
    " \n",
    "    def check(n):\n",
    "        global cnt\n",
    "        if cnt:\n",
    "            for i in n:\n",
    "                if n.count(i) > 1:\n",
    "                    cnt = 0\n",
    "                    return\n",
    "    check(n)\n",
    "    def last_check(n):\n",
    "        global cnt\n",
    "        if cnt:\n",
    "            if cnt%2:\n",
    "                n[-1], n[-2] = n[-2], n[-1]\n",
    "                cnt = 0\n",
    "            else:\n",
    "                cnt = 0\n",
    "    last_check(n)\n",
    "    print('#{} {}'.format(tc, res.join(n)))"
   ]
  }
 ],
 "metadata": {
  "kernelspec": {
   "display_name": "base",
   "language": "python",
   "name": "python3"
  },
  "language_info": {
   "codemirror_mode": {
    "name": "ipython",
    "version": 3
   },
   "file_extension": ".py",
   "mimetype": "text/x-python",
   "name": "python",
   "nbconvert_exporter": "python",
   "pygments_lexer": "ipython3",
   "version": "3.9.13 (main, Aug 25 2022, 23:51:50) [MSC v.1916 64 bit (AMD64)]"
  },
  "orig_nbformat": 4,
  "vscode": {
   "interpreter": {
    "hash": "80cc27e9a0e8aa59b18a6f502b8a24c9fe77be3bcd87d0900d8763aa62f81a4d"
   }
  }
 },
 "nbformat": 4,
 "nbformat_minor": 2
}
