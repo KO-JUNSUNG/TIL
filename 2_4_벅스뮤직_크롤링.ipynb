{
  "cells": [
    {
      "cell_type": "code",
      "execution_count": null,
      "metadata": {
        "id": "Gm8ZYsBHLsZE"
      },
      "outputs": [],
      "source": [
        "# 일자별 차트 크롤링\n",
        "# 1등 가져오기\n",
        "# 전체 순위가져 오기 "
      ]
    },
    {
      "cell_type": "code",
      "execution_count": null,
      "metadata": {
        "id": "WCgIqgEPLsZG"
      },
      "outputs": [],
      "source": [
        "# !pip install matplotlib"
      ]
    },
    {
      "cell_type": "code",
      "execution_count": null,
      "metadata": {
        "id": "zg8xWS4oLsZG"
      },
      "outputs": [],
      "source": [
        "import requests\n",
        "from bs4 import BeautifulSoup as bs\n",
        "import pandas as pd"
      ]
    },
    {
      "cell_type": "code",
      "execution_count": null,
      "metadata": {
        "id": "DcpeY89MLsZG",
        "outputId": "0d1253f0-ef4f-4a09-cf54-c72261b9e318"
      },
      "outputs": [
        {
          "data": {
            "text/html": [
              "<div>\n",
              "<style scoped>\n",
              "    .dataframe tbody tr th:only-of-type {\n",
              "        vertical-align: middle;\n",
              "    }\n",
              "\n",
              "    .dataframe tbody tr th {\n",
              "        vertical-align: top;\n",
              "    }\n",
              "\n",
              "    .dataframe thead th {\n",
              "        text-align: right;\n",
              "    }\n",
              "</style>\n",
              "<table border=\"1\" class=\"dataframe\">\n",
              "  <thead>\n",
              "    <tr style=\"text-align: right;\">\n",
              "      <th></th>\n",
              "      <th>순위</th>\n",
              "      <th>곡명</th>\n",
              "      <th>아티스트</th>\n",
              "      <th>앨범</th>\n",
              "    </tr>\n",
              "  </thead>\n",
              "  <tbody>\n",
              "    <tr>\n",
              "      <th>0</th>\n",
              "      <td>1</td>\n",
              "      <td>사건의 지평선</td>\n",
              "      <td>윤하(Younha/ユンナ)</td>\n",
              "      <td>YOUNHA 6th Album Repackage 'END THEORY : Final...</td>\n",
              "    </tr>\n",
              "    <tr>\n",
              "      <th>1</th>\n",
              "      <td>2</td>\n",
              "      <td>WHEN I MOVE</td>\n",
              "      <td>카라(Kara)</td>\n",
              "      <td>MOVE AGAIN</td>\n",
              "    </tr>\n",
              "    <tr>\n",
              "      <th>2</th>\n",
              "      <td>3</td>\n",
              "      <td>Hype Boy</td>\n",
              "      <td>NewJeans</td>\n",
              "      <td>NewJeans 1st EP 'New Jeans'</td>\n",
              "    </tr>\n",
              "    <tr>\n",
              "      <th>3</th>\n",
              "      <td>4</td>\n",
              "      <td>ANTIFRAGILE</td>\n",
              "      <td>LE SSERAFIM (르세라핌)</td>\n",
              "      <td>ANTIFRAGILE</td>\n",
              "    </tr>\n",
              "    <tr>\n",
              "      <th>4</th>\n",
              "      <td>5</td>\n",
              "      <td>Dreamers [Music from the FIFA World Cup Qatar ...</td>\n",
              "      <td>정국\\r정국\\r</td>\n",
              "      <td>Dreamers [Music from the FIFA World Cup Qatar ...</td>\n",
              "    </tr>\n",
              "    <tr>\n",
              "      <th>...</th>\n",
              "      <td>...</td>\n",
              "      <td>...</td>\n",
              "      <td>...</td>\n",
              "      <td>...</td>\n",
              "    </tr>\n",
              "    <tr>\n",
              "      <th>95</th>\n",
              "      <td>96</td>\n",
              "      <td>모든 계절은 너였다</td>\n",
              "      <td>길구봉구</td>\n",
              "      <td>모든 계절은 너였다</td>\n",
              "    </tr>\n",
              "    <tr>\n",
              "      <th>96</th>\n",
              "      <td>97</td>\n",
              "      <td>가을밤에 든 생각</td>\n",
              "      <td>잔나비</td>\n",
              "      <td>잔나비 소곡집 l</td>\n",
              "    </tr>\n",
              "    <tr>\n",
              "      <th>97</th>\n",
              "      <td>98</td>\n",
              "      <td>That That (prod. &amp; feat. SUGA of BTS)</td>\n",
              "      <td>싸이 (PSY)</td>\n",
              "      <td>싸다9</td>\n",
              "    </tr>\n",
              "    <tr>\n",
              "      <th>98</th>\n",
              "      <td>99</td>\n",
              "      <td>MY BAG</td>\n",
              "      <td>(여자)아이들</td>\n",
              "      <td>I NEVER DIE</td>\n",
              "    </tr>\n",
              "    <tr>\n",
              "      <th>99</th>\n",
              "      <td>100</td>\n",
              "      <td>잘가요</td>\n",
              "      <td>주호</td>\n",
              "      <td>잘가요</td>\n",
              "    </tr>\n",
              "  </tbody>\n",
              "</table>\n",
              "<p>100 rows × 4 columns</p>\n",
              "</div>"
            ],
            "text/plain": [
              "     순위                                                 곡명  \\\n",
              "0     1                                            사건의 지평선   \n",
              "1     2                                        WHEN I MOVE   \n",
              "2     3                                           Hype Boy   \n",
              "3     4                                        ANTIFRAGILE   \n",
              "4     5  Dreamers [Music from the FIFA World Cup Qatar ...   \n",
              "..  ...                                                ...   \n",
              "95   96                                         모든 계절은 너였다   \n",
              "96   97                                          가을밤에 든 생각   \n",
              "97   98              That That (prod. & feat. SUGA of BTS)   \n",
              "98   99                                             MY BAG   \n",
              "99  100                                                잘가요   \n",
              "\n",
              "                  아티스트                                                 앨범  \n",
              "0       윤하(Younha/ユンナ)  YOUNHA 6th Album Repackage 'END THEORY : Final...  \n",
              "1             카라(Kara)                                         MOVE AGAIN  \n",
              "2             NewJeans                        NewJeans 1st EP 'New Jeans'  \n",
              "3   LE SSERAFIM (르세라핌)                                        ANTIFRAGILE  \n",
              "4            정국\\r정국\\r   Dreamers [Music from the FIFA World Cup Qatar ...  \n",
              "..                 ...                                                ...  \n",
              "95                길구봉구                                         모든 계절은 너였다  \n",
              "96                 잔나비                                          잔나비 소곡집 l  \n",
              "97            싸이 (PSY)                                                싸다9  \n",
              "98             (여자)아이들                                        I NEVER DIE  \n",
              "99                  주호                                                잘가요  \n",
              "\n",
              "[100 rows x 4 columns]"
            ]
          },
          "execution_count": 118,
          "metadata": {},
          "output_type": "execute_result"
        }
      ],
      "source": [
        "url = \"https://music.bugs.co.kr/chart/track/day/total?chartdate=\" \n",
        "url = url + str(20221204)\n",
        "\n",
        "html = requests.get(url)\n",
        "soup = bs(html.text, \"html.parser\")\n",
        "\n",
        "bugs_day=[]\n",
        "tbody=soup.find(\"tbody\")\n",
        "tr_soup=tbody.find_all(\"tr\")\n",
        "\n",
        "for tr in tr_soup:\n",
        "    rank=tr.find(\"div\", class_=\"ranking\").get_text().split(\"\\n\")[1]\n",
        "    title=tr.find(\"p\", class_=\"title\").get_text().replace(\"\\n\", \"\")\n",
        "    art=tr.find(\"p\", class_=\"artist\").get_text().replace(\"\\n\", \"\")\n",
        "    album=tr.find(\"a\", class_=\"album\").get_text().replace(\"\\n\", \"\")\n",
        "    bugs_day.append([rank, title, art, album])\n",
        "    \n",
        "# bugs_day\n",
        "df=pd.DataFrame(bugs_day, columns=[\"순위\", \"곡명\", \"아티스트\", \"앨범\"])\n",
        "df"
      ]
    },
    {
      "cell_type": "code",
      "execution_count": null,
      "metadata": {
        "id": "p9MwUEVDLsZH",
        "outputId": "e5cc07c5-d155-4759-9354-b0abe58316d4"
      },
      "outputs": [
        {
          "name": "stdout",
          "output_type": "stream",
          "text": [
            "<class 'pandas.core.frame.DataFrame'>\n",
            "RangeIndex: 100 entries, 0 to 99\n",
            "Data columns (total 4 columns):\n",
            " #   Column  Non-Null Count  Dtype \n",
            "---  ------  --------------  ----- \n",
            " 0   순위      100 non-null    object\n",
            " 1   곡명      100 non-null    object\n",
            " 2   아티스트    100 non-null    object\n",
            " 3   앨범      100 non-null    object\n",
            "dtypes: object(4)\n",
            "memory usage: 3.2+ KB\n"
          ]
        }
      ],
      "source": [
        "df.info()"
      ]
    },
    {
      "cell_type": "code",
      "execution_count": null,
      "metadata": {
        "id": "xkPR05z6LsZH"
      },
      "outputs": [],
      "source": [
        "# 순위에 따라서 점수 부여\n",
        "# 1등 -> 100점, 100등 -> 1점"
      ]
    },
    {
      "cell_type": "code",
      "execution_count": null,
      "metadata": {
        "id": "nS-F0dn5LsZI",
        "outputId": "05965086-4012-423a-e104-898d306e773b"
      },
      "outputs": [
        {
          "data": {
            "text/html": [
              "<div>\n",
              "<style scoped>\n",
              "    .dataframe tbody tr th:only-of-type {\n",
              "        vertical-align: middle;\n",
              "    }\n",
              "\n",
              "    .dataframe tbody tr th {\n",
              "        vertical-align: top;\n",
              "    }\n",
              "\n",
              "    .dataframe thead th {\n",
              "        text-align: right;\n",
              "    }\n",
              "</style>\n",
              "<table border=\"1\" class=\"dataframe\">\n",
              "  <thead>\n",
              "    <tr style=\"text-align: right;\">\n",
              "      <th></th>\n",
              "      <th>순위</th>\n",
              "      <th>곡명</th>\n",
              "      <th>아티스트</th>\n",
              "      <th>앨범</th>\n",
              "      <th>점수</th>\n",
              "    </tr>\n",
              "  </thead>\n",
              "  <tbody>\n",
              "    <tr>\n",
              "      <th>0</th>\n",
              "      <td>1</td>\n",
              "      <td>사건의 지평선</td>\n",
              "      <td>윤하(Younha/ユンナ)</td>\n",
              "      <td>YOUNHA 6th Album Repackage 'END THEORY : Final...</td>\n",
              "      <td>100</td>\n",
              "    </tr>\n",
              "    <tr>\n",
              "      <th>1</th>\n",
              "      <td>2</td>\n",
              "      <td>Hype Boy</td>\n",
              "      <td>NewJeans</td>\n",
              "      <td>NewJeans 1st EP 'New Jeans'</td>\n",
              "      <td>99</td>\n",
              "    </tr>\n",
              "    <tr>\n",
              "      <th>2</th>\n",
              "      <td>3</td>\n",
              "      <td>WHEN I MOVE</td>\n",
              "      <td>카라(Kara)</td>\n",
              "      <td>MOVE AGAIN</td>\n",
              "      <td>98</td>\n",
              "    </tr>\n",
              "    <tr>\n",
              "      <th>3</th>\n",
              "      <td>4</td>\n",
              "      <td>ANTIFRAGILE</td>\n",
              "      <td>LE SSERAFIM (르세라핌)</td>\n",
              "      <td>ANTIFRAGILE</td>\n",
              "      <td>97</td>\n",
              "    </tr>\n",
              "    <tr>\n",
              "      <th>4</th>\n",
              "      <td>5</td>\n",
              "      <td>After LIKE</td>\n",
              "      <td>IVE (아이브)</td>\n",
              "      <td>After LIKE</td>\n",
              "      <td>96</td>\n",
              "    </tr>\n",
              "    <tr>\n",
              "      <th>...</th>\n",
              "      <td>...</td>\n",
              "      <td>...</td>\n",
              "      <td>...</td>\n",
              "      <td>...</td>\n",
              "      <td>...</td>\n",
              "    </tr>\n",
              "    <tr>\n",
              "      <th>95</th>\n",
              "      <td>96</td>\n",
              "      <td>아저씨</td>\n",
              "      <td>릴러말즈 (Leellamarz)\\r릴러말즈 (Leellamarz)\\r</td>\n",
              "      <td>쇼미더머니 11 Episode 1</td>\n",
              "      <td>5</td>\n",
              "    </tr>\n",
              "    <tr>\n",
              "      <th>96</th>\n",
              "      <td>97</td>\n",
              "      <td>That That (prod. &amp; feat. SUGA of BTS)</td>\n",
              "      <td>싸이 (PSY)</td>\n",
              "      <td>싸다9</td>\n",
              "      <td>4</td>\n",
              "    </tr>\n",
              "    <tr>\n",
              "      <th>97</th>\n",
              "      <td>98</td>\n",
              "      <td>Last Christmas</td>\n",
              "      <td>Wham!(왬)</td>\n",
              "      <td>LAST CHRISTMAS</td>\n",
              "      <td>3</td>\n",
              "    </tr>\n",
              "    <tr>\n",
              "      <th>98</th>\n",
              "      <td>99</td>\n",
              "      <td>MY BAG</td>\n",
              "      <td>(여자)아이들</td>\n",
              "      <td>I NEVER DIE</td>\n",
              "      <td>2</td>\n",
              "    </tr>\n",
              "    <tr>\n",
              "      <th>99</th>\n",
              "      <td>100</td>\n",
              "      <td>가을밤에 든 생각</td>\n",
              "      <td>잔나비</td>\n",
              "      <td>잔나비 소곡집 l</td>\n",
              "      <td>1</td>\n",
              "    </tr>\n",
              "  </tbody>\n",
              "</table>\n",
              "<p>100 rows × 5 columns</p>\n",
              "</div>"
            ],
            "text/plain": [
              "     순위                                     곡명  \\\n",
              "0     1                                사건의 지평선   \n",
              "1     2                               Hype Boy   \n",
              "2     3                            WHEN I MOVE   \n",
              "3     4                            ANTIFRAGILE   \n",
              "4     5                             After LIKE   \n",
              "..  ...                                    ...   \n",
              "95   96                                    아저씨   \n",
              "96   97  That That (prod. & feat. SUGA of BTS)   \n",
              "97   98                         Last Christmas   \n",
              "98   99                                 MY BAG   \n",
              "99  100                              가을밤에 든 생각   \n",
              "\n",
              "                                       아티스트  \\\n",
              "0                            윤하(Younha/ユンナ)   \n",
              "1                                  NewJeans   \n",
              "2                                  카라(Kara)   \n",
              "3                        LE SSERAFIM (르세라핌)   \n",
              "4                                 IVE (아이브)   \n",
              "..                                      ...   \n",
              "95  릴러말즈 (Leellamarz)\\r릴러말즈 (Leellamarz)\\r    \n",
              "96                                 싸이 (PSY)   \n",
              "97                                 Wham!(왬)   \n",
              "98                                  (여자)아이들   \n",
              "99                                      잔나비   \n",
              "\n",
              "                                                   앨범   점수  \n",
              "0   YOUNHA 6th Album Repackage 'END THEORY : Final...  100  \n",
              "1                         NewJeans 1st EP 'New Jeans'   99  \n",
              "2                                          MOVE AGAIN   98  \n",
              "3                                         ANTIFRAGILE   97  \n",
              "4                                          After LIKE   96  \n",
              "..                                                ...  ...  \n",
              "95                                 쇼미더머니 11 Episode 1    5  \n",
              "96                                                싸다9    4  \n",
              "97                                     LAST CHRISTMAS    3  \n",
              "98                                        I NEVER DIE    2  \n",
              "99                                          잔나비 소곡집 l    1  \n",
              "\n",
              "[100 rows x 5 columns]"
            ]
          },
          "execution_count": 7,
          "metadata": {},
          "output_type": "execute_result"
        }
      ],
      "source": [
        "score=[]\n",
        "for i in range(100):\n",
        "    score.append(101-int(df.loc[i, \"순위\"]))\n",
        "df[\"점수\"]=score\n",
        "df"
      ]
    },
    {
      "cell_type": "code",
      "execution_count": null,
      "metadata": {
        "id": "sdJZGe_PLsZI",
        "outputId": "e02477cf-92d5-42fa-a091-fe7565dbcb1a"
      },
      "outputs": [
        {
          "name": "stdout",
          "output_type": "stream",
          "text": [
            "Collecting tqdm\n",
            "  Downloading tqdm-4.64.1-py2.py3-none-any.whl (78 kB)\n",
            "\u001b[2K     \u001b[90m━━━━━━━━━━━━━━━━━━━━━━━━━━━━━━━━━━━━━━━━\u001b[0m \u001b[32m78.5/78.5 KB\u001b[0m \u001b[31m1.9 MB/s\u001b[0m eta \u001b[36m0:00:00\u001b[0m\n",
            "\u001b[?25hInstalling collected packages: tqdm\n",
            "Successfully installed tqdm-4.64.1\n"
          ]
        }
      ],
      "source": [
        "!pip install tqdm"
      ]
    },
    {
      "cell_type": "code",
      "execution_count": null,
      "metadata": {
        "id": "HLfgINo9LsZI",
        "outputId": "2c7af259-415d-4848-9ece-d78ae6eccda8"
      },
      "outputs": [
        {
          "name": "stderr",
          "output_type": "stream",
          "text": [
            "100%|██████████| 29/29 [00:24<00:00,  1.18it/s]\n"
          ]
        },
        {
          "ename": "NameError",
          "evalue": "name 'b' is not defined",
          "output_type": "error",
          "traceback": [
            "\u001b[0;31m---------------------------------------------------------------------------\u001b[0m",
            "\u001b[0;31mNameError\u001b[0m                                 Traceback (most recent call last)",
            "Cell \u001b[0;32mIn[119], line 39\u001b[0m\n\u001b[1;32m     37\u001b[0m df_bugs\u001b[39m.\u001b[39mreset_index(drop\u001b[39m=\u001b[39m\u001b[39mTrue\u001b[39;00m, inplace\u001b[39m=\u001b[39m\u001b[39mTrue\u001b[39;00m) \n\u001b[1;32m     38\u001b[0m \u001b[39m#df_bugs=df_bugs.reset_index(drop=True)\u001b[39;00m\n\u001b[0;32m---> 39\u001b[0m b\u001b[39m.\u001b[39minfo()\n",
            "\u001b[0;31mNameError\u001b[0m: name 'b' is not defined"
          ]
        }
      ],
      "source": [
        "\n",
        "# 시작일부터 종료일까지 날짜 입력후 list로 생성\n",
        "from tqdm import tqdm\n",
        "\n",
        "sdt=input(\"시작일 입력:\")\n",
        "edt=input(\"종료일 입력:\")\n",
        "\n",
        "dates=pd.date_range(sdt, edt)\n",
        "dates=[i.strftime(\"%Y%m%d\") for i in dates]\n",
        "#print(dates)\n",
        "\n",
        "df_bugs=pd.DataFrame()\n",
        "\n",
        "for date in tqdm(dates):\n",
        "    url=\"https://music.bugs.co.kr/chart/track/day/total?chartdate=\" + str(date)\n",
        "    \n",
        "    html=requests.get(url)\n",
        "    soup = bs(html.text, \"html.parser\")\n",
        "    \n",
        "    bugs_day=[]\n",
        "    tbody=soup.find(\"tbody\")\n",
        "    tr_soup=tbody.find_all(\"tr\")\n",
        "    \n",
        "    scr=101   # 점수 초기값\n",
        "    for tr in tr_soup:\n",
        "        rank=tr.find(\"div\", class_=\"ranking\").get_text().split(\"\\n\")[1]\n",
        "        title=tr.find(\"p\", class_=\"title\").get_text().replace(\"\\n\", \"\")\n",
        "        art=tr.find(\"p\", class_=\"artist\").get_text().replace(\"\\n\", \"\")\n",
        "        album=tr.find(\"a\", class_=\"album\").get_text().replace(\"\\n\", \"\")\n",
        "        scr -= 1  # 1회 추출시 -1 만큼 감소\n",
        "        bugs_day.append([date, rank, title, art, album, scr])\n",
        "\n",
        "    # bugs_day\n",
        "    df=pd.DataFrame(bugs_day, columns=[\"날짜\", \"순위\",\"곡명\",\"아티스트\",\n",
        "                                       \"앨범\",\"점수\"])\n",
        "    df_bugs=pd.concat([df_bugs, df])\n",
        "    \n",
        "df_bugs.reset_index(drop=True, inplace=True) \n",
        "#df_bugs=df_bugs.reset_index(drop=True)\n",
        "df_bugs.info()"
      ]
    },
    {
      "cell_type": "code",
      "execution_count": null,
      "metadata": {
        "id": "XAe9ZIkeLsZJ"
      },
      "outputs": [],
      "source": [
        "# 특정 기간내에 차트 진입 점수 계산\n",
        "# 예) 15일간 차트 분석 \n",
        "# 12월12 일 -> 아이유 150 점, 12월 11일 -> 아이유 160점, 12월 1일  아이유 누적점수 ~~점\n",
        "# 누적된 점수별 아티스트 계산  상위 10명 을 히스토 그램으로 그려 보세요."
      ]
    },
    {
      "cell_type": "code",
      "execution_count": null,
      "metadata": {
        "id": "T7hqeRKiLsZJ",
        "outputId": "cffe5695-e4d8-4a73-df3d-8d8416befc72"
      },
      "outputs": [
        {
          "name": "stderr",
          "output_type": "stream",
          "text": [
            "/tmp/ipykernel_511/1185843139.py:1: FutureWarning: The default value of numeric_only in DataFrameGroupBy.sum is deprecated. In a future version, numeric_only will default to False. Either specify numeric_only or select only columns which should be valid for the function.\n",
            "  df_bugs_top = df_bugs.groupby([\"아티스트\"]).sum().sort_values(\"점수\", ascending=False).head(10)\n"
          ]
        }
      ],
      "source": [
        "df_bugs_top = df_bugs.groupby([\"아티스트\"]).sum().sort_values(\"점수\", ascending=False).head(10)"
      ]
    },
    {
      "cell_type": "code",
      "execution_count": null,
      "metadata": {
        "id": "J0CTzBVYLsZJ",
        "outputId": "6a98e21e-1722-4fb4-e46b-1108b2c0b77e"
      },
      "outputs": [
        {
          "data": {
            "text/html": [
              "<div>\n",
              "<style scoped>\n",
              "    .dataframe tbody tr th:only-of-type {\n",
              "        vertical-align: middle;\n",
              "    }\n",
              "\n",
              "    .dataframe tbody tr th {\n",
              "        vertical-align: top;\n",
              "    }\n",
              "\n",
              "    .dataframe thead th {\n",
              "        text-align: right;\n",
              "    }\n",
              "</style>\n",
              "<table border=\"1\" class=\"dataframe\">\n",
              "  <thead>\n",
              "    <tr style=\"text-align: right;\">\n",
              "      <th></th>\n",
              "      <th>점수</th>\n",
              "    </tr>\n",
              "    <tr>\n",
              "      <th>아티스트</th>\n",
              "      <th></th>\n",
              "    </tr>\n",
              "  </thead>\n",
              "  <tbody>\n",
              "    <tr>\n",
              "      <th>NewJeans</th>\n",
              "      <td>3235</td>\n",
              "    </tr>\n",
              "    <tr>\n",
              "      <th>IVE (아이브)</th>\n",
              "      <td>3166</td>\n",
              "    </tr>\n",
              "    <tr>\n",
              "      <th>카라(Kara)</th>\n",
              "      <td>2964</td>\n",
              "    </tr>\n",
              "    <tr>\n",
              "      <th>LE SSERAFIM (르세라핌)</th>\n",
              "      <td>2706</td>\n",
              "    </tr>\n",
              "    <tr>\n",
              "      <th>Red Velvet (레드벨벳)</th>\n",
              "      <td>2643</td>\n",
              "    </tr>\n",
              "    <tr>\n",
              "      <th>Charlie Puth(찰리 푸스)</th>\n",
              "      <td>2450</td>\n",
              "    </tr>\n",
              "    <tr>\n",
              "      <th>윤하(Younha/ユンナ)</th>\n",
              "      <td>2236</td>\n",
              "    </tr>\n",
              "    <tr>\n",
              "      <th>BLACKPINK</th>\n",
              "      <td>2065</td>\n",
              "    </tr>\n",
              "    <tr>\n",
              "      <th>(여자)아이들</th>\n",
              "      <td>2056</td>\n",
              "    </tr>\n",
              "    <tr>\n",
              "      <th>BE'O (비오)</th>\n",
              "      <td>1485</td>\n",
              "    </tr>\n",
              "  </tbody>\n",
              "</table>\n",
              "</div>"
            ],
            "text/plain": [
              "                       점수\n",
              "아티스트                     \n",
              "NewJeans             3235\n",
              "IVE (아이브)            3166\n",
              "카라(Kara)             2964\n",
              "LE SSERAFIM (르세라핌)   2706\n",
              "Red Velvet (레드벨벳)    2643\n",
              "Charlie Puth(찰리 푸스)  2450\n",
              "윤하(Younha/ユンナ)       2236\n",
              "BLACKPINK            2065\n",
              "(여자)아이들              2056\n",
              "BE'O (비오)            1485"
            ]
          },
          "execution_count": 72,
          "metadata": {},
          "output_type": "execute_result"
        }
      ],
      "source": [
        "df_bugs_top"
      ]
    },
    {
      "cell_type": "code",
      "execution_count": null,
      "metadata": {
        "id": "5FVDvm00LsZJ",
        "outputId": "ef9baac0-2816-4125-f4bc-2f981e7b080a"
      },
      "outputs": [
        {
          "data": {
            "image/png": "[encoded data removed]",
            "text/plain": [
              "<Figure size 1000x400 with 1 Axes>"
            ]
          },
          "metadata": {},
          "output_type": "display_data"
        }
      ],
      "source": [
        "import matplotlib.pyplot as plt\n",
        "import platform\n",
        "\n",
        "plt.rc('font', family = \"NanumMyeongjo\")\n",
        "\n",
        "plt.style.use('ggplot')\n",
        "plt.figure(figsize=(10, 4))\n",
        "plt.xticks(size=9, rotation=45)\n",
        "plt.bar(df_bugs_top.index, df_bugs_top[\"점수\"])\n",
        "plt.title(f\"12월 가장 많이 나타난 아티스트(기간:{sdt}~{edt})\", size=15)\n",
        "plt.ylabel(\"점수\")\n",
        "plt.show()"
      ]
    },
    {
      "cell_type": "code",
      "execution_count": null,
      "metadata": {
        "id": "j2cqBqp3LsZK",
        "outputId": "4872f152-51f7-496c-a1bb-23e28d468158"
      },
      "outputs": [
        {
          "name": "stderr",
          "output_type": "stream",
          "text": [
            "/tmp/ipykernel_511/886951807.py:1: FutureWarning: The default value of numeric_only in DataFrameGroupBy.sum is deprecated. In a future version, numeric_only will default to False. Either specify numeric_only or select only columns which should be valid for the function.\n",
            "  df_bugs_values = df_bugs.groupby([\"아티스트\",\"날짜\"]).sum().sort_values(\"점수\", ascending=False)\n"
          ]
        }
      ],
      "source": [
        "df_bugs_values = df_bugs.groupby([\"아티스트\",\"날짜\"]).sum().sort_values(\"점수\", ascending=False)"
      ]
    },
    {
      "cell_type": "code",
      "execution_count": null,
      "metadata": {
        "id": "jN4mIYwNLsZK",
        "outputId": "ca7e759d-7f4b-4ac3-969a-b6ffd7ad2099"
      },
      "outputs": [
        {
          "data": {
            "text/plain": [
              "Index(['NewJeans', 'IVE (아이브)', '카라(Kara)', 'LE SSERAFIM (르세라핌)',\n",
              "       'Red Velvet (레드벨벳)', 'Charlie Puth(찰리 푸스)', '윤하(Younha/ユンナ)',\n",
              "       'BLACKPINK', '(여자)아이들', 'BE'O (비오)'],\n",
              "      dtype='object', name='아티스트')"
            ]
          },
          "execution_count": 90,
          "metadata": {},
          "output_type": "execute_result"
        }
      ],
      "source": [
        "df_bugs_top.index"
      ]
    },
    {
      "cell_type": "code",
      "execution_count": null,
      "metadata": {
        "id": "GMIlw3HhLsZK"
      },
      "outputs": [],
      "source": [
        "df_bugs_values_top = df_bugs_values.loc[df_bugs_top.index]"
      ]
    },
    {
      "cell_type": "code",
      "execution_count": null,
      "metadata": {
        "id": "B9juYjVVLsZK",
        "outputId": "47e6cc40-f4b8-4738-f790-86e3f72a20b2"
      },
      "outputs": [
        {
          "data": {
            "text/html": [
              "<div>\n",
              "<style scoped>\n",
              "    .dataframe tbody tr th:only-of-type {\n",
              "        vertical-align: middle;\n",
              "    }\n",
              "\n",
              "    .dataframe tbody tr th {\n",
              "        vertical-align: top;\n",
              "    }\n",
              "\n",
              "    .dataframe thead th {\n",
              "        text-align: right;\n",
              "    }\n",
              "</style>\n",
              "<table border=\"1\" class=\"dataframe\">\n",
              "  <thead>\n",
              "    <tr style=\"text-align: right;\">\n",
              "      <th></th>\n",
              "      <th></th>\n",
              "      <th>점수</th>\n",
              "    </tr>\n",
              "    <tr>\n",
              "      <th>아티스트</th>\n",
              "      <th>날짜</th>\n",
              "      <th></th>\n",
              "    </tr>\n",
              "  </thead>\n",
              "  <tbody>\n",
              "    <tr>\n",
              "      <th rowspan=\"5\" valign=\"top\">NewJeans</th>\n",
              "      <th>20221210</th>\n",
              "      <td>274</td>\n",
              "    </tr>\n",
              "    <tr>\n",
              "      <th>20221211</th>\n",
              "      <td>272</td>\n",
              "    </tr>\n",
              "    <tr>\n",
              "      <th>20221212</th>\n",
              "      <td>272</td>\n",
              "    </tr>\n",
              "    <tr>\n",
              "      <th>20221202</th>\n",
              "      <td>272</td>\n",
              "    </tr>\n",
              "    <tr>\n",
              "      <th>20221203</th>\n",
              "      <td>271</td>\n",
              "    </tr>\n",
              "    <tr>\n",
              "      <th>...</th>\n",
              "      <th>...</th>\n",
              "      <td>...</td>\n",
              "    </tr>\n",
              "    <tr>\n",
              "      <th rowspan=\"5\" valign=\"top\">BE'O (비오)</th>\n",
              "      <th>20221210</th>\n",
              "      <td>121</td>\n",
              "    </tr>\n",
              "    <tr>\n",
              "      <th>20221207</th>\n",
              "      <td>121</td>\n",
              "    </tr>\n",
              "    <tr>\n",
              "      <th>20221211</th>\n",
              "      <td>120</td>\n",
              "    </tr>\n",
              "    <tr>\n",
              "      <th>20221212</th>\n",
              "      <td>120</td>\n",
              "    </tr>\n",
              "    <tr>\n",
              "      <th>20221204</th>\n",
              "      <td>120</td>\n",
              "    </tr>\n",
              "  </tbody>\n",
              "</table>\n",
              "<p>120 rows × 1 columns</p>\n",
              "</div>"
            ],
            "text/plain": [
              "                     점수\n",
              "아티스트      날짜           \n",
              "NewJeans  20221210  274\n",
              "          20221211  272\n",
              "          20221212  272\n",
              "          20221202  272\n",
              "          20221203  271\n",
              "...                 ...\n",
              "BE'O (비오) 20221210  121\n",
              "          20221207  121\n",
              "          20221211  120\n",
              "          20221212  120\n",
              "          20221204  120\n",
              "\n",
              "[120 rows x 1 columns]"
            ]
          },
          "execution_count": 92,
          "metadata": {},
          "output_type": "execute_result"
        }
      ],
      "source": [
        "df_bugs_values_top"
      ]
    },
    {
      "cell_type": "code",
      "execution_count": null,
      "metadata": {
        "id": "mkEHPy-6LsZK"
      },
      "outputs": [],
      "source": [
        "df_bugs_values_top = df_bugs_values_top.reset_index()"
      ]
    },
    {
      "cell_type": "code",
      "execution_count": null,
      "metadata": {
        "id": "BIKnRuHBLsZK",
        "outputId": "6e849879-cca4-42d7-e587-47f9964c3a63"
      },
      "outputs": [
        {
          "name": "stderr",
          "output_type": "stream",
          "text": [
            "/tmp/ipykernel_511/2688928874.py:1: FutureWarning: In a future version of pandas all arguments of DataFrame.pivot will be keyword-only.\n",
            "  df_bugs_values_top_pivot = df_bugs_values_top.pivot(\"아티스트\",\"날짜\",\"점수\")\n"
          ]
        }
      ],
      "source": [
        "df_bugs_values_top_pivot = df_bugs_values_top.pivot(\"아티스트\",\"날짜\",\"점수\")"
      ]
    },
    {
      "cell_type": "code",
      "execution_count": null,
      "metadata": {
        "id": "7OjaaNrmLsZL",
        "outputId": "61f5b14c-b905-49d1-b326-a37b22828d44"
      },
      "outputs": [
        {
          "data": {
            "text/html": [
              "<div>\n",
              "<style scoped>\n",
              "    .dataframe tbody tr th:only-of-type {\n",
              "        vertical-align: middle;\n",
              "    }\n",
              "\n",
              "    .dataframe tbody tr th {\n",
              "        vertical-align: top;\n",
              "    }\n",
              "\n",
              "    .dataframe thead th {\n",
              "        text-align: right;\n",
              "    }\n",
              "</style>\n",
              "<table border=\"1\" class=\"dataframe\">\n",
              "  <thead>\n",
              "    <tr style=\"text-align: right;\">\n",
              "      <th>날짜</th>\n",
              "      <th>20221201</th>\n",
              "      <th>20221202</th>\n",
              "      <th>20221203</th>\n",
              "      <th>20221204</th>\n",
              "      <th>20221205</th>\n",
              "      <th>20221206</th>\n",
              "      <th>20221207</th>\n",
              "      <th>20221208</th>\n",
              "      <th>20221209</th>\n",
              "      <th>20221210</th>\n",
              "      <th>20221211</th>\n",
              "      <th>20221212</th>\n",
              "    </tr>\n",
              "    <tr>\n",
              "      <th>아티스트</th>\n",
              "      <th></th>\n",
              "      <th></th>\n",
              "      <th></th>\n",
              "      <th></th>\n",
              "      <th></th>\n",
              "      <th></th>\n",
              "      <th></th>\n",
              "      <th></th>\n",
              "      <th></th>\n",
              "      <th></th>\n",
              "      <th></th>\n",
              "      <th></th>\n",
              "    </tr>\n",
              "  </thead>\n",
              "  <tbody>\n",
              "    <tr>\n",
              "      <th>(여자)아이들</th>\n",
              "      <td>178</td>\n",
              "      <td>182</td>\n",
              "      <td>175</td>\n",
              "      <td>169</td>\n",
              "      <td>168</td>\n",
              "      <td>166</td>\n",
              "      <td>168</td>\n",
              "      <td>168</td>\n",
              "      <td>173</td>\n",
              "      <td>173</td>\n",
              "      <td>168</td>\n",
              "      <td>168</td>\n",
              "    </tr>\n",
              "    <tr>\n",
              "      <th>BE'O (비오)</th>\n",
              "      <td>133</td>\n",
              "      <td>128</td>\n",
              "      <td>122</td>\n",
              "      <td>120</td>\n",
              "      <td>125</td>\n",
              "      <td>127</td>\n",
              "      <td>121</td>\n",
              "      <td>123</td>\n",
              "      <td>125</td>\n",
              "      <td>121</td>\n",
              "      <td>120</td>\n",
              "      <td>120</td>\n",
              "    </tr>\n",
              "    <tr>\n",
              "      <th>BLACKPINK</th>\n",
              "      <td>176</td>\n",
              "      <td>176</td>\n",
              "      <td>174</td>\n",
              "      <td>169</td>\n",
              "      <td>170</td>\n",
              "      <td>173</td>\n",
              "      <td>171</td>\n",
              "      <td>172</td>\n",
              "      <td>173</td>\n",
              "      <td>171</td>\n",
              "      <td>170</td>\n",
              "      <td>170</td>\n",
              "    </tr>\n",
              "    <tr>\n",
              "      <th>Charlie Puth(찰리 푸스)</th>\n",
              "      <td>202</td>\n",
              "      <td>207</td>\n",
              "      <td>202</td>\n",
              "      <td>203</td>\n",
              "      <td>196</td>\n",
              "      <td>203</td>\n",
              "      <td>205</td>\n",
              "      <td>205</td>\n",
              "      <td>205</td>\n",
              "      <td>208</td>\n",
              "      <td>207</td>\n",
              "      <td>207</td>\n",
              "    </tr>\n",
              "    <tr>\n",
              "      <th>IVE (아이브)</th>\n",
              "      <td>265</td>\n",
              "      <td>268</td>\n",
              "      <td>267</td>\n",
              "      <td>262</td>\n",
              "      <td>262</td>\n",
              "      <td>260</td>\n",
              "      <td>261</td>\n",
              "      <td>262</td>\n",
              "      <td>264</td>\n",
              "      <td>265</td>\n",
              "      <td>265</td>\n",
              "      <td>265</td>\n",
              "    </tr>\n",
              "    <tr>\n",
              "      <th>LE SSERAFIM (르세라핌)</th>\n",
              "      <td>238</td>\n",
              "      <td>228</td>\n",
              "      <td>225</td>\n",
              "      <td>230</td>\n",
              "      <td>229</td>\n",
              "      <td>228</td>\n",
              "      <td>222</td>\n",
              "      <td>229</td>\n",
              "      <td>220</td>\n",
              "      <td>213</td>\n",
              "      <td>222</td>\n",
              "      <td>222</td>\n",
              "    </tr>\n",
              "    <tr>\n",
              "      <th>NewJeans</th>\n",
              "      <td>270</td>\n",
              "      <td>272</td>\n",
              "      <td>271</td>\n",
              "      <td>265</td>\n",
              "      <td>266</td>\n",
              "      <td>269</td>\n",
              "      <td>267</td>\n",
              "      <td>267</td>\n",
              "      <td>270</td>\n",
              "      <td>274</td>\n",
              "      <td>272</td>\n",
              "      <td>272</td>\n",
              "    </tr>\n",
              "    <tr>\n",
              "      <th>Red Velvet (레드벨벳)</th>\n",
              "      <td>370</td>\n",
              "      <td>294</td>\n",
              "      <td>237</td>\n",
              "      <td>244</td>\n",
              "      <td>235</td>\n",
              "      <td>223</td>\n",
              "      <td>212</td>\n",
              "      <td>196</td>\n",
              "      <td>169</td>\n",
              "      <td>143</td>\n",
              "      <td>160</td>\n",
              "      <td>160</td>\n",
              "    </tr>\n",
              "    <tr>\n",
              "      <th>윤하(Younha/ユンナ)</th>\n",
              "      <td>197</td>\n",
              "      <td>187</td>\n",
              "      <td>187</td>\n",
              "      <td>187</td>\n",
              "      <td>184</td>\n",
              "      <td>185</td>\n",
              "      <td>184</td>\n",
              "      <td>185</td>\n",
              "      <td>185</td>\n",
              "      <td>185</td>\n",
              "      <td>185</td>\n",
              "      <td>185</td>\n",
              "    </tr>\n",
              "    <tr>\n",
              "      <th>카라(Kara)</th>\n",
              "      <td>189</td>\n",
              "      <td>213</td>\n",
              "      <td>218</td>\n",
              "      <td>254</td>\n",
              "      <td>274</td>\n",
              "      <td>266</td>\n",
              "      <td>279</td>\n",
              "      <td>278</td>\n",
              "      <td>260</td>\n",
              "      <td>241</td>\n",
              "      <td>246</td>\n",
              "      <td>246</td>\n",
              "    </tr>\n",
              "  </tbody>\n",
              "</table>\n",
              "</div>"
            ],
            "text/plain": [
              "날짜                   20221201  20221202  20221203  20221204  20221205  \\\n",
              "아티스트                                                                    \n",
              "(여자)아이들                   178       182       175       169       168   \n",
              "BE'O (비오)                 133       128       122       120       125   \n",
              "BLACKPINK                 176       176       174       169       170   \n",
              "Charlie Puth(찰리 푸스)       202       207       202       203       196   \n",
              "IVE (아이브)                 265       268       267       262       262   \n",
              "LE SSERAFIM (르세라핌)        238       228       225       230       229   \n",
              "NewJeans                  270       272       271       265       266   \n",
              "Red Velvet (레드벨벳)         370       294       237       244       235   \n",
              "윤하(Younha/ユンナ)            197       187       187       187       184   \n",
              "카라(Kara)                  189       213       218       254       274   \n",
              "\n",
              "날짜                   20221206  20221207  20221208  20221209  20221210  \\\n",
              "아티스트                                                                    \n",
              "(여자)아이들                   166       168       168       173       173   \n",
              "BE'O (비오)                 127       121       123       125       121   \n",
              "BLACKPINK                 173       171       172       173       171   \n",
              "Charlie Puth(찰리 푸스)       203       205       205       205       208   \n",
              "IVE (아이브)                 260       261       262       264       265   \n",
              "LE SSERAFIM (르세라핌)        228       222       229       220       213   \n",
              "NewJeans                  269       267       267       270       274   \n",
              "Red Velvet (레드벨벳)         223       212       196       169       143   \n",
              "윤하(Younha/ユンナ)            185       184       185       185       185   \n",
              "카라(Kara)                  266       279       278       260       241   \n",
              "\n",
              "날짜                   20221211  20221212  \n",
              "아티스트                                     \n",
              "(여자)아이들                   168       168  \n",
              "BE'O (비오)                 120       120  \n",
              "BLACKPINK                 170       170  \n",
              "Charlie Puth(찰리 푸스)       207       207  \n",
              "IVE (아이브)                 265       265  \n",
              "LE SSERAFIM (르세라핌)        222       222  \n",
              "NewJeans                  272       272  \n",
              "Red Velvet (레드벨벳)         160       160  \n",
              "윤하(Younha/ユンナ)            185       185  \n",
              "카라(Kara)                  246       246  "
            ]
          },
          "execution_count": 97,
          "metadata": {},
          "output_type": "execute_result"
        }
      ],
      "source": [
        "df_bugs_values_top_pivot"
      ]
    },
    {
      "cell_type": "code",
      "execution_count": null,
      "metadata": {
        "id": "NkXXx9v-LsZL",
        "outputId": "c736c392-7cf8-4f49-d01b-660a53d1756a"
      },
      "outputs": [
        {
          "data": {
            "text/plain": [
              "<AxesSubplot: xlabel='아티스트'>"
            ]
          },
          "execution_count": 110,
          "metadata": {},
          "output_type": "execute_result"
        },
        {
          "data": {
            "image/png": "[encoded data removed]",
            "text/plain": [
              "<Figure size 2000x3000 with 1 Axes>"
            ]
          },
          "metadata": {},
          "output_type": "display_data"
        }
      ],
      "source": [
        "df_bugs_values_top_pivot.plot(kind=\"bar\", stacked=True, figsize=(20, 30)) "
      ]
    }
  ],
  "metadata": {
    "kernelspec": {
      "display_name": "Python 3.10.6 ('webcrawling': venv)",
      "language": "python",
      "name": "python3"
    },
    "language_info": {
      "codemirror_mode": {
        "name": "ipython",
        "version": 3
      },
      "file_extension": ".py",
      "mimetype": "text/x-python",
      "name": "python",
      "nbconvert_exporter": "python",
      "pygments_lexer": "ipython3",
      "version": "3.10.6"
    },
    "orig_nbformat": 4,
    "vscode": {
      "interpreter": {
        "hash": "830a4b8072315393cdcb27fb472d981f4e1c22d63e6e8a0607f13d024fedf0cb"
      }
    },
    "colab": {
      "provenance": []
    }
  },
  "nbformat": 4,
  "nbformat_minor": 0
}