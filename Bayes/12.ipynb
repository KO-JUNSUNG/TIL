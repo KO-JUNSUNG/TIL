{
 "cells": [
  {
   "cell_type": "markdown",
   "metadata": {},
   "source": [
    "# 12. 분류\n",
    "\n",
    "1990년대에 1세대 스팸 메일 필터가 유명해지면서, Classification은 베이지안의 가장 유명한 활용기법이 되었다.\n",
    "\n",
    "이 장에서는 남극의 생태연구기지에서 크리스턴 고먼 박사가 수집하고 공개한 데이터를 사용해서 베이지안 분류로 펭귄을 종별로 구분해본다.\n",
    "\n",
    "\n",
    "## 12.1 펭귄 데이터\n",
    "\n",
    "판다스를 이용해서 데이터를 데이터프레임형태로 가져오자. "
   ]
  },
  {
   "cell_type": "code",
   "execution_count": 1,
   "metadata": {},
   "outputs": [],
   "source": [
    "import pandas as pd\n",
    "from empiricaldist import Pmf, Cdf\n",
    "from utils import decorate"
   ]
  },
  {
   "cell_type": "code",
   "execution_count": 2,
   "metadata": {},
   "outputs": [
    {
     "data": {
      "text/plain": [
       "(344, 17)"
      ]
     },
     "execution_count": 2,
     "metadata": {},
     "output_type": "execute_result"
    }
   ],
   "source": [
    "df = pd.read_csv('/mnt/c/TIL/Bayes/penguins_raw.csv')\n",
    "df.shape"
   ]
  },
  {
   "cell_type": "markdown",
   "metadata": {},
   "source": [
    "데이터셋의 각 행은 펭귄별로 구분되고 각 열은 특성별로 구분되어 있다. \n",
    "\n",
    "데이터셋에는 Addelie, Chinstrap, Gentoo 세 종의 펭귄 데이터가 들어있다. \n",
    "\n",
    "여기서 사용할 데이터는 다음과 같다:\n",
    "\n",
    "- 그램단위 체중(Body Mass (g))\n",
    "- mm 단위 발 길이(Flipper Length (mm))\n",
    "- mm 단위 부리 상부 길이(Culmen Length (mm))\n",
    "- mm 단위 부리 상부 폭(Culmen Depth (mm))\n",
    "\n",
    "__이 측정치는 종 간 차이가 분명하고 동일한 종의 경우에는 분산이 작아 분류에 사용하기에 매우 유용하다.__ \n",
    "\n",
    "이 말이 맞는지, 그리고 이게 어느 정도인지를 확인하기 위해 각 종의 각 측정치 별로 누적분포함수를 그림으로 나타내 보도록 하겠다. \n",
    "\n",
    "다음 함수는 데이터프레임과 열 이름을 입력값으로 사용한다. 결괏값으로는 각 종의 이름을 colname 열에 있는 값의 Cdf로 매핑하는 딕셔너리를 반환한다."
   ]
  },
  {
   "cell_type": "code",
   "execution_count": 3,
   "metadata": {},
   "outputs": [
    {
     "data": {
      "text/html": [
       "<div>\n",
       "<style scoped>\n",
       "    .dataframe tbody tr th:only-of-type {\n",
       "        vertical-align: middle;\n",
       "    }\n",
       "\n",
       "    .dataframe tbody tr th {\n",
       "        vertical-align: top;\n",
       "    }\n",
       "\n",
       "    .dataframe thead th {\n",
       "        text-align: right;\n",
       "    }\n",
       "</style>\n",
       "<table border=\"1\" class=\"dataframe\">\n",
       "  <thead>\n",
       "    <tr style=\"text-align: right;\">\n",
       "      <th></th>\n",
       "      <th>studyName</th>\n",
       "      <th>Sample Number</th>\n",
       "      <th>Species</th>\n",
       "      <th>Region</th>\n",
       "      <th>Island</th>\n",
       "      <th>Stage</th>\n",
       "      <th>Individual ID</th>\n",
       "      <th>Clutch Completion</th>\n",
       "      <th>Date Egg</th>\n",
       "      <th>Culmen Length (mm)</th>\n",
       "      <th>Culmen Depth (mm)</th>\n",
       "      <th>Flipper Length (mm)</th>\n",
       "      <th>Body Mass (g)</th>\n",
       "      <th>Sex</th>\n",
       "      <th>Delta 15 N (o/oo)</th>\n",
       "      <th>Delta 13 C (o/oo)</th>\n",
       "      <th>Comments</th>\n",
       "    </tr>\n",
       "  </thead>\n",
       "  <tbody>\n",
       "    <tr>\n",
       "      <th>0</th>\n",
       "      <td>PAL0708</td>\n",
       "      <td>1</td>\n",
       "      <td>Adelie Penguin (Pygoscelis adeliae)</td>\n",
       "      <td>Anvers</td>\n",
       "      <td>Torgersen</td>\n",
       "      <td>Adult, 1 Egg Stage</td>\n",
       "      <td>N1A1</td>\n",
       "      <td>Yes</td>\n",
       "      <td>2007-11-11</td>\n",
       "      <td>39.1</td>\n",
       "      <td>18.7</td>\n",
       "      <td>181.0</td>\n",
       "      <td>3750.0</td>\n",
       "      <td>MALE</td>\n",
       "      <td>NaN</td>\n",
       "      <td>NaN</td>\n",
       "      <td>Not enough blood for isotopes.</td>\n",
       "    </tr>\n",
       "    <tr>\n",
       "      <th>1</th>\n",
       "      <td>PAL0708</td>\n",
       "      <td>2</td>\n",
       "      <td>Adelie Penguin (Pygoscelis adeliae)</td>\n",
       "      <td>Anvers</td>\n",
       "      <td>Torgersen</td>\n",
       "      <td>Adult, 1 Egg Stage</td>\n",
       "      <td>N1A2</td>\n",
       "      <td>Yes</td>\n",
       "      <td>2007-11-11</td>\n",
       "      <td>39.5</td>\n",
       "      <td>17.4</td>\n",
       "      <td>186.0</td>\n",
       "      <td>3800.0</td>\n",
       "      <td>FEMALE</td>\n",
       "      <td>8.94956</td>\n",
       "      <td>-24.69454</td>\n",
       "      <td>NaN</td>\n",
       "    </tr>\n",
       "    <tr>\n",
       "      <th>2</th>\n",
       "      <td>PAL0708</td>\n",
       "      <td>3</td>\n",
       "      <td>Adelie Penguin (Pygoscelis adeliae)</td>\n",
       "      <td>Anvers</td>\n",
       "      <td>Torgersen</td>\n",
       "      <td>Adult, 1 Egg Stage</td>\n",
       "      <td>N2A1</td>\n",
       "      <td>Yes</td>\n",
       "      <td>2007-11-16</td>\n",
       "      <td>40.3</td>\n",
       "      <td>18.0</td>\n",
       "      <td>195.0</td>\n",
       "      <td>3250.0</td>\n",
       "      <td>FEMALE</td>\n",
       "      <td>8.36821</td>\n",
       "      <td>-25.33302</td>\n",
       "      <td>NaN</td>\n",
       "    </tr>\n",
       "    <tr>\n",
       "      <th>3</th>\n",
       "      <td>PAL0708</td>\n",
       "      <td>4</td>\n",
       "      <td>Adelie Penguin (Pygoscelis adeliae)</td>\n",
       "      <td>Anvers</td>\n",
       "      <td>Torgersen</td>\n",
       "      <td>Adult, 1 Egg Stage</td>\n",
       "      <td>N2A2</td>\n",
       "      <td>Yes</td>\n",
       "      <td>2007-11-16</td>\n",
       "      <td>NaN</td>\n",
       "      <td>NaN</td>\n",
       "      <td>NaN</td>\n",
       "      <td>NaN</td>\n",
       "      <td>NaN</td>\n",
       "      <td>NaN</td>\n",
       "      <td>NaN</td>\n",
       "      <td>Adult not sampled.</td>\n",
       "    </tr>\n",
       "    <tr>\n",
       "      <th>4</th>\n",
       "      <td>PAL0708</td>\n",
       "      <td>5</td>\n",
       "      <td>Adelie Penguin (Pygoscelis adeliae)</td>\n",
       "      <td>Anvers</td>\n",
       "      <td>Torgersen</td>\n",
       "      <td>Adult, 1 Egg Stage</td>\n",
       "      <td>N3A1</td>\n",
       "      <td>Yes</td>\n",
       "      <td>2007-11-16</td>\n",
       "      <td>36.7</td>\n",
       "      <td>19.3</td>\n",
       "      <td>193.0</td>\n",
       "      <td>3450.0</td>\n",
       "      <td>FEMALE</td>\n",
       "      <td>8.76651</td>\n",
       "      <td>-25.32426</td>\n",
       "      <td>NaN</td>\n",
       "    </tr>\n",
       "  </tbody>\n",
       "</table>\n",
       "</div>"
      ],
      "text/plain": [
       "  studyName  Sample Number                              Species  Region  \\\n",
       "0   PAL0708              1  Adelie Penguin (Pygoscelis adeliae)  Anvers   \n",
       "1   PAL0708              2  Adelie Penguin (Pygoscelis adeliae)  Anvers   \n",
       "2   PAL0708              3  Adelie Penguin (Pygoscelis adeliae)  Anvers   \n",
       "3   PAL0708              4  Adelie Penguin (Pygoscelis adeliae)  Anvers   \n",
       "4   PAL0708              5  Adelie Penguin (Pygoscelis adeliae)  Anvers   \n",
       "\n",
       "      Island               Stage Individual ID Clutch Completion    Date Egg  \\\n",
       "0  Torgersen  Adult, 1 Egg Stage          N1A1               Yes  2007-11-11   \n",
       "1  Torgersen  Adult, 1 Egg Stage          N1A2               Yes  2007-11-11   \n",
       "2  Torgersen  Adult, 1 Egg Stage          N2A1               Yes  2007-11-16   \n",
       "3  Torgersen  Adult, 1 Egg Stage          N2A2               Yes  2007-11-16   \n",
       "4  Torgersen  Adult, 1 Egg Stage          N3A1               Yes  2007-11-16   \n",
       "\n",
       "   Culmen Length (mm)  Culmen Depth (mm)  Flipper Length (mm)  Body Mass (g)  \\\n",
       "0                39.1               18.7                181.0         3750.0   \n",
       "1                39.5               17.4                186.0         3800.0   \n",
       "2                40.3               18.0                195.0         3250.0   \n",
       "3                 NaN                NaN                  NaN            NaN   \n",
       "4                36.7               19.3                193.0         3450.0   \n",
       "\n",
       "      Sex  Delta 15 N (o/oo)  Delta 13 C (o/oo)  \\\n",
       "0    MALE                NaN                NaN   \n",
       "1  FEMALE            8.94956          -24.69454   \n",
       "2  FEMALE            8.36821          -25.33302   \n",
       "3     NaN                NaN                NaN   \n",
       "4  FEMALE            8.76651          -25.32426   \n",
       "\n",
       "                         Comments  \n",
       "0  Not enough blood for isotopes.  \n",
       "1                             NaN  \n",
       "2                             NaN  \n",
       "3              Adult not sampled.  \n",
       "4                             NaN  "
      ]
     },
     "execution_count": 3,
     "metadata": {},
     "output_type": "execute_result"
    }
   ],
   "source": [
    "df.head()"
   ]
  },
  {
   "cell_type": "code",
   "execution_count": 4,
   "metadata": {},
   "outputs": [],
   "source": [
    "def make_cdf_map(df:pd.DataFrame, colname: str, by = 'Species'):\n",
    "    \"\"\"Make Cdf map for each species\"\"\"\n",
    "    cdf_map = {}\n",
    "    grouped = df.groupby(by)[colname]\n",
    "    for species, group in grouped:\n",
    "        cdf_map[species] = Cdf.from_seq(group, name = species)\n",
    "    return cdf_map"
   ]
  },
  {
   "cell_type": "code",
   "execution_count": 5,
   "metadata": {},
   "outputs": [],
   "source": [
    "def plot_cdfs(df, colname, by = 'Species'):\n",
    "    \"\"\"Make a CDF for each species.\n",
    "    \n",
    "    df: DataFrame\n",
    "    colname: string column name\n",
    "    by: string column name\n",
    "\n",
    "    returns: dictionary from species name to Cdf\n",
    "    \"\"\"\n",
    "    cdf_map = make_cdf_map(df, colname,by)\n",
    "    for species, cdf in cdf_map.items():\n",
    "        cdf.plot(label = species, marker ='')\n",
    "    \n",
    "    decorate(xlabel = colname, \n",
    "             ylabel = 'CDF')\n",
    "    "
   ]
  },
  {
   "cell_type": "code",
   "execution_count": 6,
   "metadata": {},
   "outputs": [
    {
     "data": {
      "image/png": "[encoded data removed]",
      "text/plain": [
       "<Figure size 640x480 with 1 Axes>"
      ]
     },
     "metadata": {},
     "output_type": "display_data"
    }
   ],
   "source": [
    "colname = 'Culmen Length (mm)'\n",
    "plot_cdfs(df, colname)"
   ]
  },
  {
   "cell_type": "markdown",
   "metadata": {},
   "source": [
    "이는 부리 상부 길이(Culmen Length) 분포다.  이 그래프를 보면, 부리 상부 길이를 사용해서 아델리 펭귄을 구분하는 것은 가능할 것 같지만 Chinstrap 펭귄과 Gentoo 펭귄의 분포는 거의 겹친다.\n",
    "\n",
    "다음은 발 길이 분포다."
   ]
  },
  {
   "cell_type": "code",
   "execution_count": 7,
   "metadata": {},
   "outputs": [
    {
     "data": {
      "image/png": "[encoded data removed]",
      "text/plain": [
       "<Figure size 640x480 with 1 Axes>"
      ]
     },
     "metadata": {},
     "output_type": "display_data"
    }
   ],
   "source": [
    "colname = 'Flipper Length (mm)'\n",
    "plot_cdfs(df, colname)"
   ]
  },
  {
   "cell_type": "markdown",
   "metadata": {},
   "source": [
    "발길이로 젠투 펭귄과 다른 두 종을 구분할 수 있다. 이 두 가지 값을 사용해서 어느 정도 정확하게 펭귄을 구분할 수 있다. \n",
    "\n",
    "모든 CDF가 정규분포의 특징인 sigmoid 형태를 보인다. 이런 형태에는 장점이 있는데, 이는 다음 절에서 사용하도록 하자.\n",
    "\n",
    "## 12.2 정규 모델\n",
    "\n",
    "앞서 살펴본 값들을 사용해서 펭귄을 분류해보자. 다음과 같은 일반적인 베이지안 방식으로 진행한다. \n",
    "\n",
    "1. 세 가능한 종에 대한 사전분포와 각 종에 대한 사전확률을 정의한다.\n",
    "2. 각 종에 대한 가설에 대해 데이터의 가능도를 구한다.\n",
    "3. 그 후 각 가설에 대한 사후분포를 구한다.\n",
    "\n",
    "각 가설 하에서의 데이터의 가능도를 구하기 위해 이 데이터를 사용해서 각 종에 대한 정규분포의 매개변수를 측정해보자. \n",
    "\n",
    "다음 함수에서는 데이터프레임의 열의 이름을 사용해서 각 종의 이름과 norm 객체를 연결한 딕셔너리를 반환한다.\n",
    "\n",
    "norm 은 scipy에 정의되어 있어, 이 객체는 주어진 평균과 표준편차에 대한 정규분포를 나타낸다. (= 매개변수는 평균, 표준편차다.)"
   ]
  },
  {
   "cell_type": "code",
   "execution_count": 8,
   "metadata": {},
   "outputs": [],
   "source": [
    "from scipy.stats import norm\n",
    "\n",
    "def make_norm_map(df:pd.DataFrame, colname:str, by = 'Species'):\n",
    "    \"\"\"Make a map from species to norm object.\"\"\"\n",
    "    norm_map = {}\n",
    "    grouped = df.groupby(by)[colname]\n",
    "    for species, group in grouped:  # species = by, group = [colname]\n",
    "        mean = group.mean()\n",
    "        std = group.std()\n",
    "        norm_map[species] = norm(mean, std)\n",
    "    return norm_map"
   ]
  },
  {
   "cell_type": "markdown",
   "metadata": {},
   "source": [
    "예를 들어, 발 길이에 대한 norm 객체의 딕셔너리를 다음과 같이 규정했다."
   ]
  },
  {
   "cell_type": "code",
   "execution_count": 9,
   "metadata": {},
   "outputs": [],
   "source": [
    "flipper_map = make_norm_map(df,'Flipper Length (mm)')"
   ]
  },
  {
   "cell_type": "code",
   "execution_count": 10,
   "metadata": {},
   "outputs": [
    {
     "data": {
      "text/plain": [
       "dict_keys(['Adelie Penguin (Pygoscelis adeliae)', 'Chinstrap penguin (Pygoscelis antarctica)', 'Gentoo penguin (Pygoscelis papua)'])"
      ]
     },
     "execution_count": 10,
     "metadata": {},
     "output_type": "execute_result"
    }
   ],
   "source": [
    "flipper_map.keys()"
   ]
  },
  {
   "cell_type": "markdown",
   "metadata": {},
   "source": [
    "그럼 펭귄의 신체를 측정해서 발길이가 193mm임을 알았다고 하자. 그럼 각 가설 하에서 이 측정치가 맞을 확률은 얼마인가?\n",
    "\n",
    "norm 객체는 확률밀도함수를 구하는 pdf()를 제공한다. 이 함수를 사용해서 주어진 분포에서 관측 데이터의 가능도를 구한다. "
   ]
  },
  {
   "cell_type": "code",
   "execution_count": 11,
   "metadata": {},
   "outputs": [
    {
     "data": {
      "text/plain": [
       "0.054732511875530694"
      ]
     },
     "execution_count": 11,
     "metadata": {},
     "output_type": "execute_result"
    }
   ],
   "source": [
    "flipper_map['Adelie Penguin (Pygoscelis adeliae)'].pdf(193)"
   ]
  },
  {
   "cell_type": "markdown",
   "metadata": {},
   "source": [
    "결과는 확률 밀도로 나오므로, 이 값을 확률로 해석하면 안 된다. 하지만 이는 데이터의 가능도에 따른 비율이므로 이 값을 사용해서 사전분포를 갱신할 수 있다.\n",
    "\n",
    "다음은 각 분포에서 데이터의 가능도를 구하는 방법이다. "
   ]
  },
  {
   "cell_type": "code",
   "execution_count": 12,
   "metadata": {},
   "outputs": [
    {
     "data": {
      "text/plain": [
       "[0.054732511875530694, 0.05172135615888162, 5.8660453661990634e-05]"
      ]
     },
     "execution_count": 12,
     "metadata": {},
     "output_type": "execute_result"
    }
   ],
   "source": [
    "hypos = flipper_map.keys()\n",
    "data = 193\n",
    "likelihood = [flipper_map[hypo].pdf(data) for hypo in hypos]\n",
    "likelihood"
   ]
  },
  {
   "cell_type": "markdown",
   "metadata": {},
   "source": [
    "그럼 갱신할 준비가 끝났다. \n",
    "\n",
    "## 12.3 갱신\n",
    "\n",
    "앞서 해왔던 것처럼 Pmf 를 사용해서 사전분포를 나타낼 것이다. 간단히 하기 위해, 세 종이 발견될 가능성은 동일하다고 가정한다(uniform).\n",
    "\n",
    "그럼 앞선 방법들과 같이 갱신을 해보자."
   ]
  },
  {
   "cell_type": "code",
   "execution_count": 13,
   "metadata": {},
   "outputs": [
    {
     "data": {
      "text/html": [
       "<div>\n",
       "<style scoped>\n",
       "    .dataframe tbody tr th:only-of-type {\n",
       "        vertical-align: middle;\n",
       "    }\n",
       "\n",
       "    .dataframe tbody tr th {\n",
       "        vertical-align: top;\n",
       "    }\n",
       "\n",
       "    .dataframe thead th {\n",
       "        text-align: right;\n",
       "    }\n",
       "</style>\n",
       "<table border=\"1\" class=\"dataframe\">\n",
       "  <thead>\n",
       "    <tr style=\"text-align: right;\">\n",
       "      <th></th>\n",
       "      <th>probs</th>\n",
       "    </tr>\n",
       "  </thead>\n",
       "  <tbody>\n",
       "    <tr>\n",
       "      <th>Adelie Penguin (Pygoscelis adeliae)</th>\n",
       "      <td>0.333333</td>\n",
       "    </tr>\n",
       "    <tr>\n",
       "      <th>Chinstrap penguin (Pygoscelis antarctica)</th>\n",
       "      <td>0.333333</td>\n",
       "    </tr>\n",
       "    <tr>\n",
       "      <th>Gentoo penguin (Pygoscelis papua)</th>\n",
       "      <td>0.333333</td>\n",
       "    </tr>\n",
       "  </tbody>\n",
       "</table>\n",
       "</div>"
      ],
      "text/plain": [
       "Adelie Penguin (Pygoscelis adeliae)          0.333333\n",
       "Chinstrap penguin (Pygoscelis antarctica)    0.333333\n",
       "Gentoo penguin (Pygoscelis papua)            0.333333\n",
       "dtype: float64"
      ]
     },
     "execution_count": 13,
     "metadata": {},
     "output_type": "execute_result"
    }
   ],
   "source": [
    "prior = Pmf(1, hypos)\n",
    "prior.normalize()\n",
    "prior"
   ]
  },
  {
   "cell_type": "code",
   "execution_count": 14,
   "metadata": {},
   "outputs": [
    {
     "data": {
      "text/html": [
       "<div>\n",
       "<style scoped>\n",
       "    .dataframe tbody tr th:only-of-type {\n",
       "        vertical-align: middle;\n",
       "    }\n",
       "\n",
       "    .dataframe tbody tr th {\n",
       "        vertical-align: top;\n",
       "    }\n",
       "\n",
       "    .dataframe thead th {\n",
       "        text-align: right;\n",
       "    }\n",
       "</style>\n",
       "<table border=\"1\" class=\"dataframe\">\n",
       "  <thead>\n",
       "    <tr style=\"text-align: right;\">\n",
       "      <th></th>\n",
       "      <th>probs</th>\n",
       "    </tr>\n",
       "  </thead>\n",
       "  <tbody>\n",
       "    <tr>\n",
       "      <th>Adelie Penguin (Pygoscelis adeliae)</th>\n",
       "      <td>0.513860</td>\n",
       "    </tr>\n",
       "    <tr>\n",
       "      <th>Chinstrap penguin (Pygoscelis antarctica)</th>\n",
       "      <td>0.485589</td>\n",
       "    </tr>\n",
       "    <tr>\n",
       "      <th>Gentoo penguin (Pygoscelis papua)</th>\n",
       "      <td>0.000551</td>\n",
       "    </tr>\n",
       "  </tbody>\n",
       "</table>\n",
       "</div>"
      ],
      "text/plain": [
       "Adelie Penguin (Pygoscelis adeliae)          0.513860\n",
       "Chinstrap penguin (Pygoscelis antarctica)    0.485589\n",
       "Gentoo penguin (Pygoscelis papua)            0.000551\n",
       "dtype: float64"
      ]
     },
     "execution_count": 14,
     "metadata": {},
     "output_type": "execute_result"
    }
   ],
   "source": [
    "posterior = prior * likelihood\n",
    "posterior.normalize()\n",
    "posterior"
   ]
  },
  {
   "cell_type": "markdown",
   "metadata": {},
   "source": [
    "발길이가 193mm 인 펭귄이 젠투일 가능성은 거의 없지만, 아델리인지 Chinstrap 인지 알 수가 없다. (측정 전에는 세 종 중 각 종일 가능성은 동일하다고 가정한다.)\n",
    "\n",
    "다음 함수는 앞서서 실행했던 과정들을 묶었다. 사전분포를 나타내는 Pmf와 관측 데이터, 각 가설과 특성의 분포를 엮은 dictionary를 사용한다."
   ]
  },
  {
   "cell_type": "code",
   "execution_count": 15,
   "metadata": {},
   "outputs": [],
   "source": [
    "def update_penguin(prior:Pmf, data: int, norm_map:dict)->Pmf:\n",
    "    \"\"\"update hypothetical species.\"\"\"\n",
    "    hypos = prior.qs\n",
    "    likelihood = [norm_map[hypo].pdf(data) for hypo in hypos]\n",
    "    posterior = prior * likelihood\n",
    "    posterior.normalize()\n",
    "    return posterior"
   ]
  },
  {
   "cell_type": "markdown",
   "metadata": {},
   "source": [
    "결괏값은 사후확률분포다.\n",
    "\n",
    "update_penguin()을 사용해서 이전 예제를 다시 실행해보자. "
   ]
  },
  {
   "cell_type": "code",
   "execution_count": 16,
   "metadata": {},
   "outputs": [
    {
     "data": {
      "text/html": [
       "<div>\n",
       "<style scoped>\n",
       "    .dataframe tbody tr th:only-of-type {\n",
       "        vertical-align: middle;\n",
       "    }\n",
       "\n",
       "    .dataframe tbody tr th {\n",
       "        vertical-align: top;\n",
       "    }\n",
       "\n",
       "    .dataframe thead th {\n",
       "        text-align: right;\n",
       "    }\n",
       "</style>\n",
       "<table border=\"1\" class=\"dataframe\">\n",
       "  <thead>\n",
       "    <tr style=\"text-align: right;\">\n",
       "      <th></th>\n",
       "      <th>probs</th>\n",
       "    </tr>\n",
       "  </thead>\n",
       "  <tbody>\n",
       "    <tr>\n",
       "      <th>Adelie Penguin (Pygoscelis adeliae)</th>\n",
       "      <td>0.513860</td>\n",
       "    </tr>\n",
       "    <tr>\n",
       "      <th>Chinstrap penguin (Pygoscelis antarctica)</th>\n",
       "      <td>0.485589</td>\n",
       "    </tr>\n",
       "    <tr>\n",
       "      <th>Gentoo penguin (Pygoscelis papua)</th>\n",
       "      <td>0.000551</td>\n",
       "    </tr>\n",
       "  </tbody>\n",
       "</table>\n",
       "</div>"
      ],
      "text/plain": [
       "Adelie Penguin (Pygoscelis adeliae)          0.513860\n",
       "Chinstrap penguin (Pygoscelis antarctica)    0.485589\n",
       "Gentoo penguin (Pygoscelis papua)            0.000551\n",
       "dtype: float64"
      ]
     },
     "execution_count": 16,
     "metadata": {},
     "output_type": "execute_result"
    }
   ],
   "source": [
    "posterior1 = update_penguin(prior = Pmf(1/3, hypos), data = 193, norm_map = flipper_map)\n",
    "posterior1"
   ]
  },
  {
   "cell_type": "markdown",
   "metadata": {},
   "source": [
    "Cdf Plot 에서 봤던 것처럼, 아델리 펭귄과 Chinstrap 펭귄은 발 길이로는 뚜렷이 구분되지 않는다. \n",
    "\n",
    "하지만 부리 상단 길이 Culmen Length 를 통해 구분할 수 있으므로 분류 2회전으로 들어간다. 우선 다음과 같이 각 종의 부리 상단 길이의 분포를 추가한다."
   ]
  },
  {
   "cell_type": "code",
   "execution_count": 17,
   "metadata": {},
   "outputs": [],
   "source": [
    "culmen_map = make_norm_map(df, 'Culmen Length (mm)')"
   ]
  },
  {
   "cell_type": "markdown",
   "metadata": {},
   "source": [
    "이번에는 부리 길이가 48mm 인 펭귄을 봤다고 해보자. 이 데이터를 사용해서 다음과 같이 사전분포를 업데이트할 수 있다. "
   ]
  },
  {
   "cell_type": "code",
   "execution_count": 18,
   "metadata": {},
   "outputs": [
    {
     "data": {
      "text/html": [
       "<div>\n",
       "<style scoped>\n",
       "    .dataframe tbody tr th:only-of-type {\n",
       "        vertical-align: middle;\n",
       "    }\n",
       "\n",
       "    .dataframe tbody tr th {\n",
       "        vertical-align: top;\n",
       "    }\n",
       "\n",
       "    .dataframe thead th {\n",
       "        text-align: right;\n",
       "    }\n",
       "</style>\n",
       "<table border=\"1\" class=\"dataframe\">\n",
       "  <thead>\n",
       "    <tr style=\"text-align: right;\">\n",
       "      <th></th>\n",
       "      <th>probs</th>\n",
       "    </tr>\n",
       "  </thead>\n",
       "  <tbody>\n",
       "    <tr>\n",
       "      <th>Adelie Penguin (Pygoscelis adeliae)</th>\n",
       "      <td>0.001557</td>\n",
       "    </tr>\n",
       "    <tr>\n",
       "      <th>Chinstrap penguin (Pygoscelis antarctica)</th>\n",
       "      <td>0.474658</td>\n",
       "    </tr>\n",
       "    <tr>\n",
       "      <th>Gentoo penguin (Pygoscelis papua)</th>\n",
       "      <td>0.523785</td>\n",
       "    </tr>\n",
       "  </tbody>\n",
       "</table>\n",
       "</div>"
      ],
      "text/plain": [
       "Adelie Penguin (Pygoscelis adeliae)          0.001557\n",
       "Chinstrap penguin (Pygoscelis antarctica)    0.474658\n",
       "Gentoo penguin (Pygoscelis papua)            0.523785\n",
       "dtype: float64"
      ]
     },
     "execution_count": 18,
     "metadata": {},
     "output_type": "execute_result"
    }
   ],
   "source": [
    "posterior2 = update_penguin(prior = Pmf(1/3, hypos), data = 48, norm_map = culmen_map)\n",
    "posterior2"
   ]
  },
  {
   "cell_type": "markdown",
   "metadata": {},
   "source": [
    "부리 상단 길이가 48mm 인 펭귄은 높은 확률로 Chinstrap 이거나 Gentoo 펭귄이다. 한 번에 하나의 특징을 사용하면 한 종을 후보에서 제외하는 것은 가능하지만, 완전히 정답을 골라내기는 쉽지 않다.\n",
    "\n",
    "여러 특징을 사용하면 나아질 것이다.\n",
    "\n",
    "## 12.4 나이브 베이지안 분류\n",
    "\n",
    "다음 함수를 사용해서 여러 번의 갱신을 더 쉽게 할 것이다. 이 함수에서는 사전 Pmf, 측정값의 순열과 이 값에 대응하는 추정 분포를 포함하는 dictionary sequence를 입력값으로 사용한다."
   ]
  },
  {
   "cell_type": "code",
   "execution_count": 19,
   "metadata": {},
   "outputs": [],
   "source": [
    "def update_naive(prior:Pmf, data_seq: list, norm_maps: list)->Pmf:\n",
    "    \"\"\"Naive Bayesian Classification. \n",
    "    prior: Prior Pmf,\n",
    "    data_seq: data sequence,\n",
    "    norm_maps: species-norm dictionary sequence\n",
    "    return: posterior Pmf\n",
    "    \"\"\"\n",
    "    posterior = prior.copy()\n",
    "    for data, norm_map in zip(data_seq, norm_maps):\n",
    "        posterior = update_penguin(posterior, data, norm_map) # 차례로 사후분포를 업데이트\n",
    "    return posterior"
   ]
  },
  {
   "cell_type": "markdown",
   "metadata": {},
   "source": [
    "이 함수는 한 번에 한 변수씩 갱신을 연속적으로 수행해서 사후 Pmf를 반환한다. 확인차, 앞 절에서 살펴본 것과 동일한 특징을 사용해서 실행해보도록 하자."
   ]
  },
  {
   "cell_type": "code",
   "execution_count": 20,
   "metadata": {},
   "outputs": [
    {
     "data": {
      "text/html": [
       "<div>\n",
       "<style scoped>\n",
       "    .dataframe tbody tr th:only-of-type {\n",
       "        vertical-align: middle;\n",
       "    }\n",
       "\n",
       "    .dataframe tbody tr th {\n",
       "        vertical-align: top;\n",
       "    }\n",
       "\n",
       "    .dataframe thead th {\n",
       "        text-align: right;\n",
       "    }\n",
       "</style>\n",
       "<table border=\"1\" class=\"dataframe\">\n",
       "  <thead>\n",
       "    <tr style=\"text-align: right;\">\n",
       "      <th></th>\n",
       "      <th>probs</th>\n",
       "    </tr>\n",
       "  </thead>\n",
       "  <tbody>\n",
       "    <tr>\n",
       "      <th>Adelie Penguin (Pygoscelis adeliae)</th>\n",
       "      <td>0.003455</td>\n",
       "    </tr>\n",
       "    <tr>\n",
       "      <th>Chinstrap penguin (Pygoscelis antarctica)</th>\n",
       "      <td>0.995299</td>\n",
       "    </tr>\n",
       "    <tr>\n",
       "      <th>Gentoo penguin (Pygoscelis papua)</th>\n",
       "      <td>0.001246</td>\n",
       "    </tr>\n",
       "  </tbody>\n",
       "</table>\n",
       "</div>"
      ],
      "text/plain": [
       "Adelie Penguin (Pygoscelis adeliae)          0.003455\n",
       "Chinstrap penguin (Pygoscelis antarctica)    0.995299\n",
       "Gentoo penguin (Pygoscelis papua)            0.001246\n",
       "dtype: float64"
      ]
     },
     "execution_count": 20,
     "metadata": {},
     "output_type": "execute_result"
    }
   ],
   "source": [
    "colnames = ['Flipper Length (mm)', 'Culmen Length (mm)']\n",
    "norm_maps = [flipper_map, culmen_map]\n",
    "data_seq = 193, 48\n",
    "posterior = update_naive(prior, data_seq, norm_maps)\n",
    "posterior"
   ]
  },
  {
   "cell_type": "code",
   "execution_count": 21,
   "metadata": {},
   "outputs": [
    {
     "data": {
      "text/plain": [
       "'Chinstrap penguin (Pygoscelis antarctica)'"
      ]
     },
     "execution_count": 21,
     "metadata": {},
     "output_type": "execute_result"
    }
   ],
   "source": [
    "posterior.idxmax()"
   ]
  },
  {
   "cell_type": "markdown",
   "metadata": {},
   "source": [
    "이 펭귄은 거의 확실히 턱끈 펭귄으로 추정된다. \n",
    "\n",
    "반복문에 데이터셋을 넣어서 두 특징을 사용해 여러 펭귄을 분류할 수 있다. "
   ]
  },
  {
   "cell_type": "code",
   "execution_count": 22,
   "metadata": {},
   "outputs": [
    {
     "name": "stderr",
     "output_type": "stream",
     "text": [
      "/tmp/ipykernel_13141/2486766405.py:8: FutureWarning: Setting an item of incompatible dtype is deprecated and will raise in a future error of pandas. Value 'Adelie Penguin (Pygoscelis adeliae)' has dtype incompatible with float64, please explicitly cast to a compatible dtype first.\n",
      "  df.loc[i, 'Classification'] = posterior.max_prob()\n",
      "/home/user/anaconda3/envs/bayes/lib/python3.9/site-packages/empiricaldist/empiricaldist.py:479: FutureWarning: The behavior of Pmf.idxmax with all-NA values, or any-NA and skipna=False, is deprecated. In a future version this will raise ValueError\n",
      "  return self.idxmax(**kwargs)\n",
      "/home/user/anaconda3/envs/bayes/lib/python3.9/site-packages/empiricaldist/empiricaldist.py:479: FutureWarning: The behavior of Pmf.idxmax with all-NA values, or any-NA and skipna=False, is deprecated. In a future version this will raise ValueError\n",
      "  return self.idxmax(**kwargs)\n"
     ]
    }
   ],
   "source": [
    "import numpy as np\n",
    "\n",
    "df['Classification'] = np.nan\n",
    "\n",
    "for i, row in df.iterrows():\n",
    "    data_seq = row[colnames]\n",
    "    posterior = update_naive(prior, data_seq, norm_maps)\n",
    "    df.loc[i, 'Classification'] = posterior.max_prob() "
   ]
  },
  {
   "cell_type": "markdown",
   "metadata": {},
   "source": [
    "데이터프레임에 Classification 을 추가한 후 데이터프레임의 값을 반복문으로 업데이트했다. 이 열에는 각 펭귄별로 최대 사후 확률을 가지는 종 이름을 기록한다. \n",
    "\n",
    "얼마나 정확한 결과가 나오나 확인해보자. "
   ]
  },
  {
   "cell_type": "code",
   "execution_count": 23,
   "metadata": {},
   "outputs": [
    {
     "data": {
      "text/plain": [
       "0    Adelie Penguin (Pygoscelis adeliae)\n",
       "1    Adelie Penguin (Pygoscelis adeliae)\n",
       "2    Adelie Penguin (Pygoscelis adeliae)\n",
       "3                                    NaN\n",
       "4    Adelie Penguin (Pygoscelis adeliae)\n",
       "Name: Classification, dtype: object"
      ]
     },
     "execution_count": 23,
     "metadata": {},
     "output_type": "execute_result"
    }
   ],
   "source": [
    "df['Classification'].head()"
   ]
  },
  {
   "cell_type": "code",
   "execution_count": 24,
   "metadata": {},
   "outputs": [
    {
     "data": {
      "text/plain": [
       "Classification\n",
       "Adelie Penguin (Pygoscelis adeliae)          148\n",
       "Gentoo penguin (Pygoscelis papua)            128\n",
       "Chinstrap penguin (Pygoscelis antarctica)     66\n",
       "Name: count, dtype: int64"
      ]
     },
     "execution_count": 24,
     "metadata": {},
     "output_type": "execute_result"
    }
   ],
   "source": [
    "df['Classification'].value_counts()"
   ]
  },
  {
   "cell_type": "code",
   "execution_count": 25,
   "metadata": {},
   "outputs": [
    {
     "data": {
      "text/plain": [
       "342"
      ]
     },
     "execution_count": 25,
     "metadata": {},
     "output_type": "execute_result"
    }
   ],
   "source": [
    "valid = df['Classification'].notna()\n",
    "valid.sum()"
   ]
  },
  {
   "cell_type": "code",
   "execution_count": 26,
   "metadata": {},
   "outputs": [
    {
     "data": {
      "text/plain": [
       "324"
      ]
     },
     "execution_count": 26,
     "metadata": {},
     "output_type": "execute_result"
    }
   ],
   "source": [
    "same = df['Species'] == df['Classification']\n",
    "same.sum()"
   ]
  },
  {
   "cell_type": "markdown",
   "metadata": {},
   "source": [
    "데이터셋에 있는 펭귄 수는 344마리지만, 2 마리는 측정값이 결여되어 있어 유효한 개체는 342마리였다. \n",
    "\n",
    "이 중에서 맞게 분류된 펭귄은 324마리로 이는 대략 전체의 95% 정도다. "
   ]
  },
  {
   "cell_type": "code",
   "execution_count": 27,
   "metadata": {},
   "outputs": [
    {
     "data": {
      "text/plain": [
       "0.9473684210526315"
      ]
     },
     "execution_count": 27,
     "metadata": {},
     "output_type": "execute_result"
    }
   ],
   "source": [
    "same.sum()/valid.sum()"
   ]
  },
  {
   "cell_type": "code",
   "execution_count": 28,
   "metadata": {},
   "outputs": [],
   "source": [
    "def accuracy(df):\n",
    "    valid = df['Classification'].notna()\n",
    "    same = df['Species'] == df['Classification']\n",
    "    return same.sum()/valid.sum()"
   ]
  },
  {
   "cell_type": "markdown",
   "metadata": {},
   "source": [
    "이 장에서는 사용한 분류기의 경우 특징 간의 연관성을 고려하지 않으므로 나이브라고 부른다. \n",
    "\n",
    "이게 왜 중요한 지를 확인하기 위해 특징의 결합분포도 사용하는 덜 나이브한 분류기를 만들어보자. \n",
    "\n",
    "\n",
    "## 12.5 결합분포(joint distribution)\n",
    "\n",
    "일단 데이터의 산점도를 만들어 보자. "
   ]
  },
  {
   "cell_type": "code",
   "execution_count": 29,
   "metadata": {},
   "outputs": [],
   "source": [
    "import matplotlib.pyplot as plt\n",
    "\n",
    "def scatterplot(df, var1, var2):\n",
    "    grouped = df.groupby('Species')\n",
    "    for species, group in grouped:\n",
    "        plt.scatter(group[var1], group[var2], label = species, lw = 0.1, alpha = 0.3)\n",
    "    decorate(xlabel = var1, ylabel = var2)"
   ]
  },
  {
   "cell_type": "code",
   "execution_count": 30,
   "metadata": {},
   "outputs": [
    {
     "data": {
      "image/png": "[encoded data removed]",
      "text/plain": [
       "<Figure size 640x480 with 1 Axes>"
      ]
     },
     "metadata": {},
     "output_type": "display_data"
    }
   ],
   "source": [
    "var1 = 'Flipper Length (mm)'\n",
    "var2 = 'Culmen Length (mm)'\n",
    "scatterplot(df, var1, var2)"
   ]
  },
  {
   "cell_type": "markdown",
   "metadata": {},
   "source": [
    "각 종 간의 측정치에 대한 결합분포는 대략 타원 형태로 나타난다. 타원의 방향은 그래프의 대각선 쪽으로, 이는 부리 상부 길이와 발 길이간 상관관계가 있음을 암시한다.\n",
    "\n",
    "만약 이 상관관계를 무시한다면 각 특징은 독립적이라고 가정할 수 있다. 이 경우 어떻게 되는지 살펴보자. \n",
    "\n",
    "각 특징 간 독립적이라고 가정하고 각 종의 결합분포를 만들어 보겠다. \n",
    "\n",
    "다음 함수는 정규분포에 근사하는 이산 Pmf를 만든다. "
   ]
  },
  {
   "cell_type": "code",
   "execution_count": 31,
   "metadata": {},
   "outputs": [],
   "source": [
    "def make_pmf_norm(dist, sigmas = 3, n = 101):\n",
    "    \"\"\"정규분포에 근사하는 Pmf를 생성함\"\"\"\n",
    "    mean, std = dist.mean(), dist.std()\n",
    "    low = mean - sigmas * std\n",
    "    high = mean + sigmas * std\n",
    "    qs = np.linspace(low, high, n)\n",
    "    ps = dist.pdf(qs)\n",
    "    pmf = Pmf(ps, qs)\n",
    "    pmf.normalize()\n",
    "    return pmf"
   ]
  },
  {
   "cell_type": "markdown",
   "metadata": {},
   "source": [
    "이 함수와 make_joint()을 사용해서 각 종의 부리 상부 길이와 발 길이의 결합분포를 만든다. "
   ]
  },
  {
   "cell_type": "code",
   "execution_count": 32,
   "metadata": {},
   "outputs": [],
   "source": [
    "def make_joint(s1, s2):\n",
    "    \"\"\"Compute the outer product of two Series.\n",
    "\n",
    "    First Series goes across the columns;\n",
    "    second goes down the rows.\n",
    "\n",
    "    s1: Series\n",
    "    s2: Series\n",
    "\n",
    "    return: DataFrame\n",
    "    \"\"\"\n",
    "    X, Y = np.meshgrid(s1, s2)\n",
    "    return pd.DataFrame(X*Y, columns=s1.index, index=s2.index)"
   ]
  },
  {
   "cell_type": "code",
   "execution_count": 33,
   "metadata": {},
   "outputs": [
    {
     "data": {
      "text/plain": [
       "dict_keys(['Adelie Penguin (Pygoscelis adeliae)', 'Chinstrap penguin (Pygoscelis antarctica)', 'Gentoo penguin (Pygoscelis papua)'])"
      ]
     },
     "execution_count": 33,
     "metadata": {},
     "output_type": "execute_result"
    }
   ],
   "source": [
    "hypos"
   ]
  },
  {
   "cell_type": "code",
   "execution_count": 34,
   "metadata": {},
   "outputs": [],
   "source": [
    "joint_map = {}\n",
    "for species in hypos:\n",
    "    pmf1 = make_pmf_norm(flipper_map[species])\n",
    "    pmf2 = make_pmf_norm(culmen_map[species])\n",
    "    joint_map[species] = make_joint(pmf1, pmf2)"
   ]
  },
  {
   "cell_type": "code",
   "execution_count": 35,
   "metadata": {},
   "outputs": [
    {
     "data": {
      "image/png": "[encoded data removed]",
      "text/plain": [
       "<Figure size 640x480 with 1 Axes>"
      ]
     },
     "metadata": {},
     "output_type": "display_data"
    }
   ],
   "source": [
    "from utils import plot_contour\n",
    "\n",
    "scatterplot(df, var1,var2)\n",
    "for species in hypos:\n",
    "    plot_contour(joint_map[species], alpha = 0.5)"
   ]
  },
  {
   "cell_type": "markdown",
   "metadata": {},
   "source": [
    "결합 정규분포의 경계선은 타원형을 띈다. 이 예제에서는 특징간 연관성이 없다고 가정했기 때문에 타원이 축에 평평하게 배치되었다. \n",
    "\n",
    "하지만 데이터의 분포와 그다지 잘 맞지 않는 듯하다. \n",
    "\n",
    "다변량 정규분포를 사용하면 데이터를 더 나은 모델링을 통해 가능도를 더 잘 구할 수 있다.\n",
    "\n",
    "\n",
    "## 12.6 다변량 정규분포(Multivariate Normal Distribution)\n",
    "\n",
    "앞서 살펴본 것처럼 일변량 정규분포는 평균과 표준편차로 정의할 수 있다.\n",
    "\n",
    "다변량 정규분포는 특징값의 평균과 각 특징의 값이 얼마나 퍼져 있는지를 숫자로 나타낸 값인 'Variance(분산)' 과 특징간 관계를 숫자로 나타낸 'Covariance(공분산)'이 들어있는 공분산행렬로 정의한다. \n",
    "\n",
    "데이터를 사용해서 펭귄에 대한 평균과 공분산행렬을 추정할 수 있다. 우선 필요한 열을 선택한다."
   ]
  },
  {
   "cell_type": "code",
   "execution_count": 36,
   "metadata": {},
   "outputs": [
    {
     "data": {
      "text/plain": [
       "Flipper Length (mm)    200.915205\n",
       "Culmen Length (mm)      43.921930\n",
       "dtype: float64"
      ]
     },
     "execution_count": 36,
     "metadata": {},
     "output_type": "execute_result"
    }
   ],
   "source": [
    "features = df[[var1, var2]]\n",
    "_mean = features.mean()\n",
    "_mean"
   ]
  },
  {
   "cell_type": "markdown",
   "metadata": {},
   "source": [
    "다음과 같이 공분산행렬도 구한다. "
   ]
  },
  {
   "cell_type": "code",
   "execution_count": 37,
   "metadata": {},
   "outputs": [
    {
     "data": {
      "text/html": [
       "<div>\n",
       "<style scoped>\n",
       "    .dataframe tbody tr th:only-of-type {\n",
       "        vertical-align: middle;\n",
       "    }\n",
       "\n",
       "    .dataframe tbody tr th {\n",
       "        vertical-align: top;\n",
       "    }\n",
       "\n",
       "    .dataframe thead th {\n",
       "        text-align: right;\n",
       "    }\n",
       "</style>\n",
       "<table border=\"1\" class=\"dataframe\">\n",
       "  <thead>\n",
       "    <tr style=\"text-align: right;\">\n",
       "      <th></th>\n",
       "      <th>Flipper Length (mm)</th>\n",
       "      <th>Culmen Length (mm)</th>\n",
       "    </tr>\n",
       "  </thead>\n",
       "  <tbody>\n",
       "    <tr>\n",
       "      <th>Flipper Length (mm)</th>\n",
       "      <td>197.731792</td>\n",
       "      <td>50.375765</td>\n",
       "    </tr>\n",
       "    <tr>\n",
       "      <th>Culmen Length (mm)</th>\n",
       "      <td>50.375765</td>\n",
       "      <td>29.807054</td>\n",
       "    </tr>\n",
       "  </tbody>\n",
       "</table>\n",
       "</div>"
      ],
      "text/plain": [
       "                     Flipper Length (mm)  Culmen Length (mm)\n",
       "Flipper Length (mm)           197.731792           50.375765\n",
       "Culmen Length (mm)             50.375765           29.807054"
      ]
     },
     "execution_count": 37,
     "metadata": {},
     "output_type": "execute_result"
    }
   ],
   "source": [
    "_cov = features.cov()\n",
    "_cov\n"
   ]
  },
  {
   "cell_type": "markdown",
   "metadata": {},
   "source": [
    "결과는 각 특징별로 한 행과 한 열을 갖는 데이터프레임이다. 행렬의 대각성분의 값은 분산이고, 대각성분 외의 값은 공분산이다. \n",
    "\n",
    "분산과 공분산은 이 값만으로 해석하기 힘들다. 이 값으로 표준편차와 상관계수를 구하면 해석하기 더 쉽겠지만, 이 계산에 대해 자세히 이해하는 것은 당장 필요하지는 않다.\n",
    "\n",
    "대신 다변량 정규분포를 나타내는 객체를 생성하는 scipy 함수 multivariate_normal()에 이 공분산행렬을 넣어보자. \n",
    "\n",
    "이 함수는 평균의 순열과 공분산행렬을 취한다. "
   ]
  },
  {
   "cell_type": "code",
   "execution_count": 38,
   "metadata": {},
   "outputs": [],
   "source": [
    "from scipy.stats import multivariate_normal\n",
    "\n",
    "multi_norm = multivariate_normal(mean = _mean, cov = _cov)"
   ]
  },
  {
   "cell_type": "markdown",
   "metadata": {},
   "source": [
    "다음 함수는 각 종별로 multivariate_normal 객체를 만든다."
   ]
  },
  {
   "cell_type": "code",
   "execution_count": 39,
   "metadata": {},
   "outputs": [],
   "source": [
    "def make_multinorm_map(df,colnames):\n",
    "    multinorm_map = {}\n",
    "    grouped = df.groupby('Species')\n",
    "    for species, group in grouped:\n",
    "        features = group[colnames]\n",
    "        mean = features.mean()\n",
    "        cov = features.cov()\n",
    "        multinorm_map[species] = multivariate_normal(mean, cov)\n",
    "    return multinorm_map"
   ]
  },
  {
   "cell_type": "markdown",
   "metadata": {},
   "source": [
    "다음은 발 길이와 부리 상단 길이의 두 특징에 대한 이 객체를 만드는 코드다. "
   ]
  },
  {
   "cell_type": "code",
   "execution_count": 40,
   "metadata": {},
   "outputs": [],
   "source": [
    "multinorm_map = make_multinorm_map(df, [var1, var2])"
   ]
  },
  {
   "cell_type": "markdown",
   "metadata": {},
   "source": [
    "## 12.8 요약\n",
    "\n",
    "이 장에서는 분류에 사용하는 특징들이 독립적이라고 가정한다는 측면에서 나이브한 나이브 베이지안 분류기를 구현했다.\n",
    "\n",
    "이 가정이 얼마나 안 좋은지 살펴보기 위해, 다변량 정규분포를 사용해서 특징간 의존성을 고려한 결합분포를 모델링한 분류기도 만들었다.\n",
    "\n",
    "이 사례에서 나이브하지 않은 분류기가 아주 조금 더 나았다. 어떻게 보면 실망스럽다. 최종적으로 성능이 훨씬 나았어야 만족스러웠을 것이다. \n",
    "\n",
    "일반적으로 나이브 베이지안 분류기는 구현하기 쉽고 연산을 덜 한다. \n",
    "\n",
    "이런 알고리즘이 훨씬 복잡한 알고리즘과 성능이 비슷하다면, 실제로 사용할 때는 이 알고리즘을 고르는 게 유용하다.\n",
    "\n",
    "사실 이 장에서 다룬 예제는 그다지 실용적이지 않다. 펭귄의 종을 구별할 때는 발과 부리의 길이를 재는 것보다 더 쉬운 방법이 있다.\n",
    "\n",
    "하지만 이런 분류 방식은 과학적으로 여러 방면에서 활용된다. 살펴볼 만한 과학 논문 중 하나로는 같은 동물의 암수간 나타나는 신체적 차이인 성적 이형에 대한 것이다. \n",
    "\n",
    "아구 같은 종은 암수가 매우 다르게 생겼다. 앵무새 같은 종은 암수 구분이 어렵다. 성적 이형에 대해 연구하면서 동물의 사회적 행동, 성, 선택, 진화에 대해 더 많이 이해할 수 있게 된다. \n",
    "\n",
    "특정 종의 성적 이형 정도를 계량하는 한 가지 방법은 이 장에서 사용한 것과 같은 분류 알고리즘을 사용하는 것이다. \n",
    "\n",
    "높은 정확도로 각 개체의 성별을 구분할 수 있는 특징을 발견한다면 이는 성적 이형이 높다는 증거가 될 수 있다.\n",
    "\n",
    "연습 문제에서는 이 장에서 사용한 데이터셋으로 펭귄의 성별을 구분하고 세 종 중 어떤 종이 가장 성적 이형 정도가 높은 지를 알아보자. \n",
    "\n",
    "## 12.9 연습문제\n",
    "\n",
    "### 문제 12.1\n",
    "\n",
    "본문의 예시에서 culmen length와 flipper length를 사용한 이유는 이 특징이 세 종을 가장 잘 구분하는 것 같았기 때문이다. \n",
    "\n",
    "하지만 더 많은 특징들을 사용하면 더 높은 성능이 나올 지도 모른다. \n",
    "\n",
    "데이터셋에 있는 부리 상단 길이, 부리 상단 폭, 발 길이, 체중을 모두 사용하는 나이브 베이지안 분류기를 만들자. 이 분류기가 두 특징만 사용했을 때보다 정확도가 더 높은가?"
   ]
  },
  {
   "cell_type": "code",
   "execution_count": 41,
   "metadata": {},
   "outputs": [
    {
     "data": {
      "text/plain": [
       "Index(['studyName', 'Sample Number', 'Species', 'Region', 'Island', 'Stage',\n",
       "       'Individual ID', 'Clutch Completion', 'Date Egg', 'Culmen Length (mm)',\n",
       "       'Culmen Depth (mm)', 'Flipper Length (mm)', 'Body Mass (g)', 'Sex',\n",
       "       'Delta 15 N (o/oo)', 'Delta 13 C (o/oo)', 'Comments', 'Classification'],\n",
       "      dtype='object')"
      ]
     },
     "execution_count": 41,
     "metadata": {},
     "output_type": "execute_result"
    }
   ],
   "source": [
    "df.columns"
   ]
  },
  {
   "cell_type": "code",
   "execution_count": 45,
   "metadata": {},
   "outputs": [
    {
     "data": {
      "text/plain": [
       "array([18.7, 17.4, 18. ,  nan, 19.3, 20.6, 17.8, 19.6, 18.1, 20.2, 17.1,\n",
       "       17.3, 17.6, 21.2, 21.1, 19. , 20.7, 18.4, 21.5, 18.3, 19.2, 17.2,\n",
       "       18.9, 18.6, 17.9, 16.7, 17. , 20. , 18.5, 19.1, 19.7, 16.9, 18.8,\n",
       "       17.7, 19.5, 17.5, 16.6, 18.2, 16.2, 19.4, 16.8, 16.1, 20.3, 16. ,\n",
       "       16.5, 20.5, 19.8, 15.9, 20.1, 15.5, 13.2, 16.3, 14.1, 15.2, 14.5,\n",
       "       13.5, 14.6, 15.3, 13.4, 15.4, 13.7, 15.7, 15.1, 14.3, 15.8, 13.1,\n",
       "       15. , 14.2, 14.8, 13.6, 13.9, 13.3, 14.4, 13.8, 14.9, 15.6, 16.4,\n",
       "       14. , 14.7, 19.9, 20.8])"
      ]
     },
     "execution_count": 45,
     "metadata": {},
     "output_type": "execute_result"
    }
   ],
   "source": [
    "df['Culmen Depth (mm)'].unique()"
   ]
  },
  {
   "cell_type": "code",
   "execution_count": 46,
   "metadata": {},
   "outputs": [
    {
     "data": {
      "text/plain": [
       "array([3750., 3800., 3250.,   nan, 3450., 3650., 3625., 4675., 3475.,\n",
       "       4250., 3300., 3700., 3200., 4400., 4500., 3325., 4200., 3400.,\n",
       "       3600., 3950., 3550., 3150., 3900., 4150., 4650., 3100., 3000.,\n",
       "       4600., 3425., 2975., 3500., 4300., 4050., 2900., 2850., 3350.,\n",
       "       4100., 3050., 4450., 4000., 4700., 4350., 3725., 4725., 3075.,\n",
       "       2925., 3175., 4775., 3825., 4275., 4075., 3775., 3875., 3275.,\n",
       "       4475., 3975., 5700., 5400., 4550., 4800., 5200., 5150., 5550.,\n",
       "       5850., 6300., 5350., 5000., 5050., 5100., 5650., 5250., 6050.,\n",
       "       4950., 4750., 4900., 5300., 4850., 5800., 6000., 5950., 4625.,\n",
       "       5450., 5600., 4875., 4925., 4975., 5500., 4575., 4375., 5750.,\n",
       "       3525., 3575., 3850., 2700., 3675.])"
      ]
     },
     "execution_count": 46,
     "metadata": {},
     "output_type": "execute_result"
    }
   ],
   "source": [
    "df['Body Mass (g)'].unique()"
   ]
  },
  {
   "cell_type": "code",
   "execution_count": 42,
   "metadata": {},
   "outputs": [
    {
     "name": "stderr",
     "output_type": "stream",
     "text": [
      "/home/user/anaconda3/envs/bayes/lib/python3.9/site-packages/empiricaldist/empiricaldist.py:479: FutureWarning: The behavior of Pmf.idxmax with all-NA values, or any-NA and skipna=False, is deprecated. In a future version this will raise ValueError\n",
      "  return self.idxmax(**kwargs)\n",
      "/home/user/anaconda3/envs/bayes/lib/python3.9/site-packages/empiricaldist/empiricaldist.py:479: FutureWarning: The behavior of Pmf.idxmax with all-NA values, or any-NA and skipna=False, is deprecated. In a future version this will raise ValueError\n",
      "  return self.idxmax(**kwargs)\n",
      "/home/user/anaconda3/envs/bayes/lib/python3.9/site-packages/empiricaldist/empiricaldist.py:479: FutureWarning: The behavior of Pmf.idxmax with all-NA values, or any-NA and skipna=False, is deprecated. In a future version this will raise ValueError\n",
      "  return self.idxmax(**kwargs)\n",
      "/home/user/anaconda3/envs/bayes/lib/python3.9/site-packages/empiricaldist/empiricaldist.py:479: FutureWarning: The behavior of Pmf.idxmax with all-NA values, or any-NA and skipna=False, is deprecated. In a future version this will raise ValueError\n",
      "  return self.idxmax(**kwargs)\n",
      "/home/user/anaconda3/envs/bayes/lib/python3.9/site-packages/empiricaldist/empiricaldist.py:479: FutureWarning: The behavior of Pmf.idxmax with all-NA values, or any-NA and skipna=False, is deprecated. In a future version this will raise ValueError\n",
      "  return self.idxmax(**kwargs)\n",
      "/home/user/anaconda3/envs/bayes/lib/python3.9/site-packages/empiricaldist/empiricaldist.py:479: FutureWarning: The behavior of Pmf.idxmax with all-NA values, or any-NA and skipna=False, is deprecated. In a future version this will raise ValueError\n",
      "  return self.idxmax(**kwargs)\n",
      "/home/user/anaconda3/envs/bayes/lib/python3.9/site-packages/empiricaldist/empiricaldist.py:479: FutureWarning: The behavior of Pmf.idxmax with all-NA values, or any-NA and skipna=False, is deprecated. In a future version this will raise ValueError\n",
      "  return self.idxmax(**kwargs)\n",
      "/home/user/anaconda3/envs/bayes/lib/python3.9/site-packages/empiricaldist/empiricaldist.py:479: FutureWarning: The behavior of Pmf.idxmax with all-NA values, or any-NA and skipna=False, is deprecated. In a future version this will raise ValueError\n",
      "  return self.idxmax(**kwargs)\n",
      "/home/user/anaconda3/envs/bayes/lib/python3.9/site-packages/empiricaldist/empiricaldist.py:479: FutureWarning: The behavior of Pmf.idxmax with all-NA values, or any-NA and skipna=False, is deprecated. In a future version this will raise ValueError\n",
      "  return self.idxmax(**kwargs)\n",
      "/home/user/anaconda3/envs/bayes/lib/python3.9/site-packages/empiricaldist/empiricaldist.py:479: FutureWarning: The behavior of Pmf.idxmax with all-NA values, or any-NA and skipna=False, is deprecated. In a future version this will raise ValueError\n",
      "  return self.idxmax(**kwargs)\n",
      "/home/user/anaconda3/envs/bayes/lib/python3.9/site-packages/empiricaldist/empiricaldist.py:479: FutureWarning: The behavior of Pmf.idxmax with all-NA values, or any-NA and skipna=False, is deprecated. In a future version this will raise ValueError\n",
      "  return self.idxmax(**kwargs)\n",
      "/home/user/anaconda3/envs/bayes/lib/python3.9/site-packages/empiricaldist/empiricaldist.py:479: FutureWarning: The behavior of Pmf.idxmax with all-NA values, or any-NA and skipna=False, is deprecated. In a future version this will raise ValueError\n",
      "  return self.idxmax(**kwargs)\n",
      "/home/user/anaconda3/envs/bayes/lib/python3.9/site-packages/empiricaldist/empiricaldist.py:479: FutureWarning: The behavior of Pmf.idxmax with all-NA values, or any-NA and skipna=False, is deprecated. In a future version this will raise ValueError\n",
      "  return self.idxmax(**kwargs)\n",
      "/home/user/anaconda3/envs/bayes/lib/python3.9/site-packages/empiricaldist/empiricaldist.py:479: FutureWarning: The behavior of Pmf.idxmax with all-NA values, or any-NA and skipna=False, is deprecated. In a future version this will raise ValueError\n",
      "  return self.idxmax(**kwargs)\n",
      "/home/user/anaconda3/envs/bayes/lib/python3.9/site-packages/empiricaldist/empiricaldist.py:479: FutureWarning: The behavior of Pmf.idxmax with all-NA values, or any-NA and skipna=False, is deprecated. In a future version this will raise ValueError\n",
      "  return self.idxmax(**kwargs)\n",
      "/home/user/anaconda3/envs/bayes/lib/python3.9/site-packages/empiricaldist/empiricaldist.py:479: FutureWarning: The behavior of Pmf.idxmax with all-NA values, or any-NA and skipna=False, is deprecated. In a future version this will raise ValueError\n",
      "  return self.idxmax(**kwargs)\n",
      "/home/user/anaconda3/envs/bayes/lib/python3.9/site-packages/empiricaldist/empiricaldist.py:479: FutureWarning: The behavior of Pmf.idxmax with all-NA values, or any-NA and skipna=False, is deprecated. In a future version this will raise ValueError\n",
      "  return self.idxmax(**kwargs)\n",
      "/home/user/anaconda3/envs/bayes/lib/python3.9/site-packages/empiricaldist/empiricaldist.py:479: FutureWarning: The behavior of Pmf.idxmax with all-NA values, or any-NA and skipna=False, is deprecated. In a future version this will raise ValueError\n",
      "  return self.idxmax(**kwargs)\n",
      "/home/user/anaconda3/envs/bayes/lib/python3.9/site-packages/empiricaldist/empiricaldist.py:479: FutureWarning: The behavior of Pmf.idxmax with all-NA values, or any-NA and skipna=False, is deprecated. In a future version this will raise ValueError\n",
      "  return self.idxmax(**kwargs)\n",
      "/home/user/anaconda3/envs/bayes/lib/python3.9/site-packages/empiricaldist/empiricaldist.py:479: FutureWarning: The behavior of Pmf.idxmax with all-NA values, or any-NA and skipna=False, is deprecated. In a future version this will raise ValueError\n",
      "  return self.idxmax(**kwargs)\n",
      "/home/user/anaconda3/envs/bayes/lib/python3.9/site-packages/empiricaldist/empiricaldist.py:479: FutureWarning: The behavior of Pmf.idxmax with all-NA values, or any-NA and skipna=False, is deprecated. In a future version this will raise ValueError\n",
      "  return self.idxmax(**kwargs)\n",
      "/home/user/anaconda3/envs/bayes/lib/python3.9/site-packages/empiricaldist/empiricaldist.py:479: FutureWarning: The behavior of Pmf.idxmax with all-NA values, or any-NA and skipna=False, is deprecated. In a future version this will raise ValueError\n",
      "  return self.idxmax(**kwargs)\n",
      "/home/user/anaconda3/envs/bayes/lib/python3.9/site-packages/empiricaldist/empiricaldist.py:479: FutureWarning: The behavior of Pmf.idxmax with all-NA values, or any-NA and skipna=False, is deprecated. In a future version this will raise ValueError\n",
      "  return self.idxmax(**kwargs)\n",
      "/home/user/anaconda3/envs/bayes/lib/python3.9/site-packages/empiricaldist/empiricaldist.py:479: FutureWarning: The behavior of Pmf.idxmax with all-NA values, or any-NA and skipna=False, is deprecated. In a future version this will raise ValueError\n",
      "  return self.idxmax(**kwargs)\n",
      "/home/user/anaconda3/envs/bayes/lib/python3.9/site-packages/empiricaldist/empiricaldist.py:479: FutureWarning: The behavior of Pmf.idxmax with all-NA values, or any-NA and skipna=False, is deprecated. In a future version this will raise ValueError\n",
      "  return self.idxmax(**kwargs)\n",
      "/home/user/anaconda3/envs/bayes/lib/python3.9/site-packages/empiricaldist/empiricaldist.py:479: FutureWarning: The behavior of Pmf.idxmax with all-NA values, or any-NA and skipna=False, is deprecated. In a future version this will raise ValueError\n",
      "  return self.idxmax(**kwargs)\n",
      "/home/user/anaconda3/envs/bayes/lib/python3.9/site-packages/empiricaldist/empiricaldist.py:479: FutureWarning: The behavior of Pmf.idxmax with all-NA values, or any-NA and skipna=False, is deprecated. In a future version this will raise ValueError\n",
      "  return self.idxmax(**kwargs)\n",
      "/home/user/anaconda3/envs/bayes/lib/python3.9/site-packages/empiricaldist/empiricaldist.py:479: FutureWarning: The behavior of Pmf.idxmax with all-NA values, or any-NA and skipna=False, is deprecated. In a future version this will raise ValueError\n",
      "  return self.idxmax(**kwargs)\n",
      "/home/user/anaconda3/envs/bayes/lib/python3.9/site-packages/empiricaldist/empiricaldist.py:479: FutureWarning: The behavior of Pmf.idxmax with all-NA values, or any-NA and skipna=False, is deprecated. In a future version this will raise ValueError\n",
      "  return self.idxmax(**kwargs)\n",
      "/home/user/anaconda3/envs/bayes/lib/python3.9/site-packages/empiricaldist/empiricaldist.py:479: FutureWarning: The behavior of Pmf.idxmax with all-NA values, or any-NA and skipna=False, is deprecated. In a future version this will raise ValueError\n",
      "  return self.idxmax(**kwargs)\n",
      "/home/user/anaconda3/envs/bayes/lib/python3.9/site-packages/empiricaldist/empiricaldist.py:479: FutureWarning: The behavior of Pmf.idxmax with all-NA values, or any-NA and skipna=False, is deprecated. In a future version this will raise ValueError\n",
      "  return self.idxmax(**kwargs)\n",
      "/home/user/anaconda3/envs/bayes/lib/python3.9/site-packages/empiricaldist/empiricaldist.py:479: FutureWarning: The behavior of Pmf.idxmax with all-NA values, or any-NA and skipna=False, is deprecated. In a future version this will raise ValueError\n",
      "  return self.idxmax(**kwargs)\n",
      "/home/user/anaconda3/envs/bayes/lib/python3.9/site-packages/empiricaldist/empiricaldist.py:479: FutureWarning: The behavior of Pmf.idxmax with all-NA values, or any-NA and skipna=False, is deprecated. In a future version this will raise ValueError\n",
      "  return self.idxmax(**kwargs)\n",
      "/home/user/anaconda3/envs/bayes/lib/python3.9/site-packages/empiricaldist/empiricaldist.py:479: FutureWarning: The behavior of Pmf.idxmax with all-NA values, or any-NA and skipna=False, is deprecated. In a future version this will raise ValueError\n",
      "  return self.idxmax(**kwargs)\n",
      "/home/user/anaconda3/envs/bayes/lib/python3.9/site-packages/empiricaldist/empiricaldist.py:479: FutureWarning: The behavior of Pmf.idxmax with all-NA values, or any-NA and skipna=False, is deprecated. In a future version this will raise ValueError\n",
      "  return self.idxmax(**kwargs)\n",
      "/home/user/anaconda3/envs/bayes/lib/python3.9/site-packages/empiricaldist/empiricaldist.py:479: FutureWarning: The behavior of Pmf.idxmax with all-NA values, or any-NA and skipna=False, is deprecated. In a future version this will raise ValueError\n",
      "  return self.idxmax(**kwargs)\n",
      "/home/user/anaconda3/envs/bayes/lib/python3.9/site-packages/empiricaldist/empiricaldist.py:479: FutureWarning: The behavior of Pmf.idxmax with all-NA values, or any-NA and skipna=False, is deprecated. In a future version this will raise ValueError\n",
      "  return self.idxmax(**kwargs)\n",
      "/home/user/anaconda3/envs/bayes/lib/python3.9/site-packages/empiricaldist/empiricaldist.py:479: FutureWarning: The behavior of Pmf.idxmax with all-NA values, or any-NA and skipna=False, is deprecated. In a future version this will raise ValueError\n",
      "  return self.idxmax(**kwargs)\n",
      "/home/user/anaconda3/envs/bayes/lib/python3.9/site-packages/empiricaldist/empiricaldist.py:479: FutureWarning: The behavior of Pmf.idxmax with all-NA values, or any-NA and skipna=False, is deprecated. In a future version this will raise ValueError\n",
      "  return self.idxmax(**kwargs)\n",
      "/home/user/anaconda3/envs/bayes/lib/python3.9/site-packages/empiricaldist/empiricaldist.py:479: FutureWarning: The behavior of Pmf.idxmax with all-NA values, or any-NA and skipna=False, is deprecated. In a future version this will raise ValueError\n",
      "  return self.idxmax(**kwargs)\n",
      "/home/user/anaconda3/envs/bayes/lib/python3.9/site-packages/empiricaldist/empiricaldist.py:479: FutureWarning: The behavior of Pmf.idxmax with all-NA values, or any-NA and skipna=False, is deprecated. In a future version this will raise ValueError\n",
      "  return self.idxmax(**kwargs)\n",
      "/home/user/anaconda3/envs/bayes/lib/python3.9/site-packages/empiricaldist/empiricaldist.py:479: FutureWarning: The behavior of Pmf.idxmax with all-NA values, or any-NA and skipna=False, is deprecated. In a future version this will raise ValueError\n",
      "  return self.idxmax(**kwargs)\n",
      "/home/user/anaconda3/envs/bayes/lib/python3.9/site-packages/empiricaldist/empiricaldist.py:479: FutureWarning: The behavior of Pmf.idxmax with all-NA values, or any-NA and skipna=False, is deprecated. In a future version this will raise ValueError\n",
      "  return self.idxmax(**kwargs)\n",
      "/home/user/anaconda3/envs/bayes/lib/python3.9/site-packages/empiricaldist/empiricaldist.py:479: FutureWarning: The behavior of Pmf.idxmax with all-NA values, or any-NA and skipna=False, is deprecated. In a future version this will raise ValueError\n",
      "  return self.idxmax(**kwargs)\n",
      "/home/user/anaconda3/envs/bayes/lib/python3.9/site-packages/empiricaldist/empiricaldist.py:479: FutureWarning: The behavior of Pmf.idxmax with all-NA values, or any-NA and skipna=False, is deprecated. In a future version this will raise ValueError\n",
      "  return self.idxmax(**kwargs)\n",
      "/home/user/anaconda3/envs/bayes/lib/python3.9/site-packages/empiricaldist/empiricaldist.py:479: FutureWarning: The behavior of Pmf.idxmax with all-NA values, or any-NA and skipna=False, is deprecated. In a future version this will raise ValueError\n",
      "  return self.idxmax(**kwargs)\n",
      "/home/user/anaconda3/envs/bayes/lib/python3.9/site-packages/empiricaldist/empiricaldist.py:479: FutureWarning: The behavior of Pmf.idxmax with all-NA values, or any-NA and skipna=False, is deprecated. In a future version this will raise ValueError\n",
      "  return self.idxmax(**kwargs)\n",
      "/home/user/anaconda3/envs/bayes/lib/python3.9/site-packages/empiricaldist/empiricaldist.py:479: FutureWarning: The behavior of Pmf.idxmax with all-NA values, or any-NA and skipna=False, is deprecated. In a future version this will raise ValueError\n",
      "  return self.idxmax(**kwargs)\n",
      "/home/user/anaconda3/envs/bayes/lib/python3.9/site-packages/empiricaldist/empiricaldist.py:479: FutureWarning: The behavior of Pmf.idxmax with all-NA values, or any-NA and skipna=False, is deprecated. In a future version this will raise ValueError\n",
      "  return self.idxmax(**kwargs)\n",
      "/home/user/anaconda3/envs/bayes/lib/python3.9/site-packages/empiricaldist/empiricaldist.py:479: FutureWarning: The behavior of Pmf.idxmax with all-NA values, or any-NA and skipna=False, is deprecated. In a future version this will raise ValueError\n",
      "  return self.idxmax(**kwargs)\n",
      "/home/user/anaconda3/envs/bayes/lib/python3.9/site-packages/empiricaldist/empiricaldist.py:479: FutureWarning: The behavior of Pmf.idxmax with all-NA values, or any-NA and skipna=False, is deprecated. In a future version this will raise ValueError\n",
      "  return self.idxmax(**kwargs)\n",
      "/home/user/anaconda3/envs/bayes/lib/python3.9/site-packages/empiricaldist/empiricaldist.py:479: FutureWarning: The behavior of Pmf.idxmax with all-NA values, or any-NA and skipna=False, is deprecated. In a future version this will raise ValueError\n",
      "  return self.idxmax(**kwargs)\n",
      "/home/user/anaconda3/envs/bayes/lib/python3.9/site-packages/empiricaldist/empiricaldist.py:479: FutureWarning: The behavior of Pmf.idxmax with all-NA values, or any-NA and skipna=False, is deprecated. In a future version this will raise ValueError\n",
      "  return self.idxmax(**kwargs)\n",
      "/home/user/anaconda3/envs/bayes/lib/python3.9/site-packages/empiricaldist/empiricaldist.py:479: FutureWarning: The behavior of Pmf.idxmax with all-NA values, or any-NA and skipna=False, is deprecated. In a future version this will raise ValueError\n",
      "  return self.idxmax(**kwargs)\n",
      "/home/user/anaconda3/envs/bayes/lib/python3.9/site-packages/empiricaldist/empiricaldist.py:479: FutureWarning: The behavior of Pmf.idxmax with all-NA values, or any-NA and skipna=False, is deprecated. In a future version this will raise ValueError\n",
      "  return self.idxmax(**kwargs)\n",
      "/home/user/anaconda3/envs/bayes/lib/python3.9/site-packages/empiricaldist/empiricaldist.py:479: FutureWarning: The behavior of Pmf.idxmax with all-NA values, or any-NA and skipna=False, is deprecated. In a future version this will raise ValueError\n",
      "  return self.idxmax(**kwargs)\n",
      "/home/user/anaconda3/envs/bayes/lib/python3.9/site-packages/empiricaldist/empiricaldist.py:479: FutureWarning: The behavior of Pmf.idxmax with all-NA values, or any-NA and skipna=False, is deprecated. In a future version this will raise ValueError\n",
      "  return self.idxmax(**kwargs)\n",
      "/home/user/anaconda3/envs/bayes/lib/python3.9/site-packages/empiricaldist/empiricaldist.py:479: FutureWarning: The behavior of Pmf.idxmax with all-NA values, or any-NA and skipna=False, is deprecated. In a future version this will raise ValueError\n",
      "  return self.idxmax(**kwargs)\n",
      "/home/user/anaconda3/envs/bayes/lib/python3.9/site-packages/empiricaldist/empiricaldist.py:479: FutureWarning: The behavior of Pmf.idxmax with all-NA values, or any-NA and skipna=False, is deprecated. In a future version this will raise ValueError\n",
      "  return self.idxmax(**kwargs)\n",
      "/home/user/anaconda3/envs/bayes/lib/python3.9/site-packages/empiricaldist/empiricaldist.py:479: FutureWarning: The behavior of Pmf.idxmax with all-NA values, or any-NA and skipna=False, is deprecated. In a future version this will raise ValueError\n",
      "  return self.idxmax(**kwargs)\n",
      "/home/user/anaconda3/envs/bayes/lib/python3.9/site-packages/empiricaldist/empiricaldist.py:479: FutureWarning: The behavior of Pmf.idxmax with all-NA values, or any-NA and skipna=False, is deprecated. In a future version this will raise ValueError\n",
      "  return self.idxmax(**kwargs)\n",
      "/home/user/anaconda3/envs/bayes/lib/python3.9/site-packages/empiricaldist/empiricaldist.py:479: FutureWarning: The behavior of Pmf.idxmax with all-NA values, or any-NA and skipna=False, is deprecated. In a future version this will raise ValueError\n",
      "  return self.idxmax(**kwargs)\n",
      "/home/user/anaconda3/envs/bayes/lib/python3.9/site-packages/empiricaldist/empiricaldist.py:479: FutureWarning: The behavior of Pmf.idxmax with all-NA values, or any-NA and skipna=False, is deprecated. In a future version this will raise ValueError\n",
      "  return self.idxmax(**kwargs)\n",
      "/home/user/anaconda3/envs/bayes/lib/python3.9/site-packages/empiricaldist/empiricaldist.py:479: FutureWarning: The behavior of Pmf.idxmax with all-NA values, or any-NA and skipna=False, is deprecated. In a future version this will raise ValueError\n",
      "  return self.idxmax(**kwargs)\n",
      "/home/user/anaconda3/envs/bayes/lib/python3.9/site-packages/empiricaldist/empiricaldist.py:479: FutureWarning: The behavior of Pmf.idxmax with all-NA values, or any-NA and skipna=False, is deprecated. In a future version this will raise ValueError\n",
      "  return self.idxmax(**kwargs)\n",
      "/home/user/anaconda3/envs/bayes/lib/python3.9/site-packages/empiricaldist/empiricaldist.py:479: FutureWarning: The behavior of Pmf.idxmax with all-NA values, or any-NA and skipna=False, is deprecated. In a future version this will raise ValueError\n",
      "  return self.idxmax(**kwargs)\n",
      "/home/user/anaconda3/envs/bayes/lib/python3.9/site-packages/empiricaldist/empiricaldist.py:479: FutureWarning: The behavior of Pmf.idxmax with all-NA values, or any-NA and skipna=False, is deprecated. In a future version this will raise ValueError\n",
      "  return self.idxmax(**kwargs)\n",
      "/home/user/anaconda3/envs/bayes/lib/python3.9/site-packages/empiricaldist/empiricaldist.py:479: FutureWarning: The behavior of Pmf.idxmax with all-NA values, or any-NA and skipna=False, is deprecated. In a future version this will raise ValueError\n",
      "  return self.idxmax(**kwargs)\n",
      "/home/user/anaconda3/envs/bayes/lib/python3.9/site-packages/empiricaldist/empiricaldist.py:479: FutureWarning: The behavior of Pmf.idxmax with all-NA values, or any-NA and skipna=False, is deprecated. In a future version this will raise ValueError\n",
      "  return self.idxmax(**kwargs)\n",
      "/home/user/anaconda3/envs/bayes/lib/python3.9/site-packages/empiricaldist/empiricaldist.py:479: FutureWarning: The behavior of Pmf.idxmax with all-NA values, or any-NA and skipna=False, is deprecated. In a future version this will raise ValueError\n",
      "  return self.idxmax(**kwargs)\n",
      "/home/user/anaconda3/envs/bayes/lib/python3.9/site-packages/empiricaldist/empiricaldist.py:479: FutureWarning: The behavior of Pmf.idxmax with all-NA values, or any-NA and skipna=False, is deprecated. In a future version this will raise ValueError\n",
      "  return self.idxmax(**kwargs)\n",
      "/home/user/anaconda3/envs/bayes/lib/python3.9/site-packages/empiricaldist/empiricaldist.py:479: FutureWarning: The behavior of Pmf.idxmax with all-NA values, or any-NA and skipna=False, is deprecated. In a future version this will raise ValueError\n",
      "  return self.idxmax(**kwargs)\n",
      "/home/user/anaconda3/envs/bayes/lib/python3.9/site-packages/empiricaldist/empiricaldist.py:479: FutureWarning: The behavior of Pmf.idxmax with all-NA values, or any-NA and skipna=False, is deprecated. In a future version this will raise ValueError\n",
      "  return self.idxmax(**kwargs)\n",
      "/home/user/anaconda3/envs/bayes/lib/python3.9/site-packages/empiricaldist/empiricaldist.py:479: FutureWarning: The behavior of Pmf.idxmax with all-NA values, or any-NA and skipna=False, is deprecated. In a future version this will raise ValueError\n",
      "  return self.idxmax(**kwargs)\n",
      "/home/user/anaconda3/envs/bayes/lib/python3.9/site-packages/empiricaldist/empiricaldist.py:479: FutureWarning: The behavior of Pmf.idxmax with all-NA values, or any-NA and skipna=False, is deprecated. In a future version this will raise ValueError\n",
      "  return self.idxmax(**kwargs)\n",
      "/home/user/anaconda3/envs/bayes/lib/python3.9/site-packages/empiricaldist/empiricaldist.py:479: FutureWarning: The behavior of Pmf.idxmax with all-NA values, or any-NA and skipna=False, is deprecated. In a future version this will raise ValueError\n",
      "  return self.idxmax(**kwargs)\n",
      "/home/user/anaconda3/envs/bayes/lib/python3.9/site-packages/empiricaldist/empiricaldist.py:479: FutureWarning: The behavior of Pmf.idxmax with all-NA values, or any-NA and skipna=False, is deprecated. In a future version this will raise ValueError\n",
      "  return self.idxmax(**kwargs)\n",
      "/home/user/anaconda3/envs/bayes/lib/python3.9/site-packages/empiricaldist/empiricaldist.py:479: FutureWarning: The behavior of Pmf.idxmax with all-NA values, or any-NA and skipna=False, is deprecated. In a future version this will raise ValueError\n",
      "  return self.idxmax(**kwargs)\n",
      "/home/user/anaconda3/envs/bayes/lib/python3.9/site-packages/empiricaldist/empiricaldist.py:479: FutureWarning: The behavior of Pmf.idxmax with all-NA values, or any-NA and skipna=False, is deprecated. In a future version this will raise ValueError\n",
      "  return self.idxmax(**kwargs)\n",
      "/home/user/anaconda3/envs/bayes/lib/python3.9/site-packages/empiricaldist/empiricaldist.py:479: FutureWarning: The behavior of Pmf.idxmax with all-NA values, or any-NA and skipna=False, is deprecated. In a future version this will raise ValueError\n",
      "  return self.idxmax(**kwargs)\n",
      "/home/user/anaconda3/envs/bayes/lib/python3.9/site-packages/empiricaldist/empiricaldist.py:479: FutureWarning: The behavior of Pmf.idxmax with all-NA values, or any-NA and skipna=False, is deprecated. In a future version this will raise ValueError\n",
      "  return self.idxmax(**kwargs)\n",
      "/home/user/anaconda3/envs/bayes/lib/python3.9/site-packages/empiricaldist/empiricaldist.py:479: FutureWarning: The behavior of Pmf.idxmax with all-NA values, or any-NA and skipna=False, is deprecated. In a future version this will raise ValueError\n",
      "  return self.idxmax(**kwargs)\n",
      "/home/user/anaconda3/envs/bayes/lib/python3.9/site-packages/empiricaldist/empiricaldist.py:479: FutureWarning: The behavior of Pmf.idxmax with all-NA values, or any-NA and skipna=False, is deprecated. In a future version this will raise ValueError\n",
      "  return self.idxmax(**kwargs)\n",
      "/home/user/anaconda3/envs/bayes/lib/python3.9/site-packages/empiricaldist/empiricaldist.py:479: FutureWarning: The behavior of Pmf.idxmax with all-NA values, or any-NA and skipna=False, is deprecated. In a future version this will raise ValueError\n",
      "  return self.idxmax(**kwargs)\n",
      "/home/user/anaconda3/envs/bayes/lib/python3.9/site-packages/empiricaldist/empiricaldist.py:479: FutureWarning: The behavior of Pmf.idxmax with all-NA values, or any-NA and skipna=False, is deprecated. In a future version this will raise ValueError\n",
      "  return self.idxmax(**kwargs)\n",
      "/home/user/anaconda3/envs/bayes/lib/python3.9/site-packages/empiricaldist/empiricaldist.py:479: FutureWarning: The behavior of Pmf.idxmax with all-NA values, or any-NA and skipna=False, is deprecated. In a future version this will raise ValueError\n",
      "  return self.idxmax(**kwargs)\n",
      "/home/user/anaconda3/envs/bayes/lib/python3.9/site-packages/empiricaldist/empiricaldist.py:479: FutureWarning: The behavior of Pmf.idxmax with all-NA values, or any-NA and skipna=False, is deprecated. In a future version this will raise ValueError\n",
      "  return self.idxmax(**kwargs)\n",
      "/home/user/anaconda3/envs/bayes/lib/python3.9/site-packages/empiricaldist/empiricaldist.py:479: FutureWarning: The behavior of Pmf.idxmax with all-NA values, or any-NA and skipna=False, is deprecated. In a future version this will raise ValueError\n",
      "  return self.idxmax(**kwargs)\n",
      "/home/user/anaconda3/envs/bayes/lib/python3.9/site-packages/empiricaldist/empiricaldist.py:479: FutureWarning: The behavior of Pmf.idxmax with all-NA values, or any-NA and skipna=False, is deprecated. In a future version this will raise ValueError\n",
      "  return self.idxmax(**kwargs)\n",
      "/home/user/anaconda3/envs/bayes/lib/python3.9/site-packages/empiricaldist/empiricaldist.py:479: FutureWarning: The behavior of Pmf.idxmax with all-NA values, or any-NA and skipna=False, is deprecated. In a future version this will raise ValueError\n",
      "  return self.idxmax(**kwargs)\n",
      "/home/user/anaconda3/envs/bayes/lib/python3.9/site-packages/empiricaldist/empiricaldist.py:479: FutureWarning: The behavior of Pmf.idxmax with all-NA values, or any-NA and skipna=False, is deprecated. In a future version this will raise ValueError\n",
      "  return self.idxmax(**kwargs)\n",
      "/home/user/anaconda3/envs/bayes/lib/python3.9/site-packages/empiricaldist/empiricaldist.py:479: FutureWarning: The behavior of Pmf.idxmax with all-NA values, or any-NA and skipna=False, is deprecated. In a future version this will raise ValueError\n",
      "  return self.idxmax(**kwargs)\n",
      "/home/user/anaconda3/envs/bayes/lib/python3.9/site-packages/empiricaldist/empiricaldist.py:479: FutureWarning: The behavior of Pmf.idxmax with all-NA values, or any-NA and skipna=False, is deprecated. In a future version this will raise ValueError\n",
      "  return self.idxmax(**kwargs)\n",
      "/home/user/anaconda3/envs/bayes/lib/python3.9/site-packages/empiricaldist/empiricaldist.py:479: FutureWarning: The behavior of Pmf.idxmax with all-NA values, or any-NA and skipna=False, is deprecated. In a future version this will raise ValueError\n",
      "  return self.idxmax(**kwargs)\n",
      "/home/user/anaconda3/envs/bayes/lib/python3.9/site-packages/empiricaldist/empiricaldist.py:479: FutureWarning: The behavior of Pmf.idxmax with all-NA values, or any-NA and skipna=False, is deprecated. In a future version this will raise ValueError\n",
      "  return self.idxmax(**kwargs)\n",
      "/home/user/anaconda3/envs/bayes/lib/python3.9/site-packages/empiricaldist/empiricaldist.py:479: FutureWarning: The behavior of Pmf.idxmax with all-NA values, or any-NA and skipna=False, is deprecated. In a future version this will raise ValueError\n",
      "  return self.idxmax(**kwargs)\n",
      "/home/user/anaconda3/envs/bayes/lib/python3.9/site-packages/empiricaldist/empiricaldist.py:479: FutureWarning: The behavior of Pmf.idxmax with all-NA values, or any-NA and skipna=False, is deprecated. In a future version this will raise ValueError\n",
      "  return self.idxmax(**kwargs)\n",
      "/home/user/anaconda3/envs/bayes/lib/python3.9/site-packages/empiricaldist/empiricaldist.py:479: FutureWarning: The behavior of Pmf.idxmax with all-NA values, or any-NA and skipna=False, is deprecated. In a future version this will raise ValueError\n",
      "  return self.idxmax(**kwargs)\n",
      "/home/user/anaconda3/envs/bayes/lib/python3.9/site-packages/empiricaldist/empiricaldist.py:479: FutureWarning: The behavior of Pmf.idxmax with all-NA values, or any-NA and skipna=False, is deprecated. In a future version this will raise ValueError\n",
      "  return self.idxmax(**kwargs)\n",
      "/home/user/anaconda3/envs/bayes/lib/python3.9/site-packages/empiricaldist/empiricaldist.py:479: FutureWarning: The behavior of Pmf.idxmax with all-NA values, or any-NA and skipna=False, is deprecated. In a future version this will raise ValueError\n",
      "  return self.idxmax(**kwargs)\n",
      "/home/user/anaconda3/envs/bayes/lib/python3.9/site-packages/empiricaldist/empiricaldist.py:479: FutureWarning: The behavior of Pmf.idxmax with all-NA values, or any-NA and skipna=False, is deprecated. In a future version this will raise ValueError\n",
      "  return self.idxmax(**kwargs)\n",
      "/home/user/anaconda3/envs/bayes/lib/python3.9/site-packages/empiricaldist/empiricaldist.py:479: FutureWarning: The behavior of Pmf.idxmax with all-NA values, or any-NA and skipna=False, is deprecated. In a future version this will raise ValueError\n",
      "  return self.idxmax(**kwargs)\n",
      "/home/user/anaconda3/envs/bayes/lib/python3.9/site-packages/empiricaldist/empiricaldist.py:479: FutureWarning: The behavior of Pmf.idxmax with all-NA values, or any-NA and skipna=False, is deprecated. In a future version this will raise ValueError\n",
      "  return self.idxmax(**kwargs)\n",
      "/home/user/anaconda3/envs/bayes/lib/python3.9/site-packages/empiricaldist/empiricaldist.py:479: FutureWarning: The behavior of Pmf.idxmax with all-NA values, or any-NA and skipna=False, is deprecated. In a future version this will raise ValueError\n",
      "  return self.idxmax(**kwargs)\n",
      "/home/user/anaconda3/envs/bayes/lib/python3.9/site-packages/empiricaldist/empiricaldist.py:479: FutureWarning: The behavior of Pmf.idxmax with all-NA values, or any-NA and skipna=False, is deprecated. In a future version this will raise ValueError\n",
      "  return self.idxmax(**kwargs)\n",
      "/home/user/anaconda3/envs/bayes/lib/python3.9/site-packages/empiricaldist/empiricaldist.py:479: FutureWarning: The behavior of Pmf.idxmax with all-NA values, or any-NA and skipna=False, is deprecated. In a future version this will raise ValueError\n",
      "  return self.idxmax(**kwargs)\n",
      "/home/user/anaconda3/envs/bayes/lib/python3.9/site-packages/empiricaldist/empiricaldist.py:479: FutureWarning: The behavior of Pmf.idxmax with all-NA values, or any-NA and skipna=False, is deprecated. In a future version this will raise ValueError\n",
      "  return self.idxmax(**kwargs)\n",
      "/home/user/anaconda3/envs/bayes/lib/python3.9/site-packages/empiricaldist/empiricaldist.py:479: FutureWarning: The behavior of Pmf.idxmax with all-NA values, or any-NA and skipna=False, is deprecated. In a future version this will raise ValueError\n",
      "  return self.idxmax(**kwargs)\n",
      "/home/user/anaconda3/envs/bayes/lib/python3.9/site-packages/empiricaldist/empiricaldist.py:479: FutureWarning: The behavior of Pmf.idxmax with all-NA values, or any-NA and skipna=False, is deprecated. In a future version this will raise ValueError\n",
      "  return self.idxmax(**kwargs)\n",
      "/home/user/anaconda3/envs/bayes/lib/python3.9/site-packages/empiricaldist/empiricaldist.py:479: FutureWarning: The behavior of Pmf.idxmax with all-NA values, or any-NA and skipna=False, is deprecated. In a future version this will raise ValueError\n",
      "  return self.idxmax(**kwargs)\n",
      "/home/user/anaconda3/envs/bayes/lib/python3.9/site-packages/empiricaldist/empiricaldist.py:479: FutureWarning: The behavior of Pmf.idxmax with all-NA values, or any-NA and skipna=False, is deprecated. In a future version this will raise ValueError\n",
      "  return self.idxmax(**kwargs)\n",
      "/home/user/anaconda3/envs/bayes/lib/python3.9/site-packages/empiricaldist/empiricaldist.py:479: FutureWarning: The behavior of Pmf.idxmax with all-NA values, or any-NA and skipna=False, is deprecated. In a future version this will raise ValueError\n",
      "  return self.idxmax(**kwargs)\n",
      "/home/user/anaconda3/envs/bayes/lib/python3.9/site-packages/empiricaldist/empiricaldist.py:479: FutureWarning: The behavior of Pmf.idxmax with all-NA values, or any-NA and skipna=False, is deprecated. In a future version this will raise ValueError\n",
      "  return self.idxmax(**kwargs)\n",
      "/home/user/anaconda3/envs/bayes/lib/python3.9/site-packages/empiricaldist/empiricaldist.py:479: FutureWarning: The behavior of Pmf.idxmax with all-NA values, or any-NA and skipna=False, is deprecated. In a future version this will raise ValueError\n",
      "  return self.idxmax(**kwargs)\n",
      "/home/user/anaconda3/envs/bayes/lib/python3.9/site-packages/empiricaldist/empiricaldist.py:479: FutureWarning: The behavior of Pmf.idxmax with all-NA values, or any-NA and skipna=False, is deprecated. In a future version this will raise ValueError\n",
      "  return self.idxmax(**kwargs)\n",
      "/home/user/anaconda3/envs/bayes/lib/python3.9/site-packages/empiricaldist/empiricaldist.py:479: FutureWarning: The behavior of Pmf.idxmax with all-NA values, or any-NA and skipna=False, is deprecated. In a future version this will raise ValueError\n",
      "  return self.idxmax(**kwargs)\n",
      "/home/user/anaconda3/envs/bayes/lib/python3.9/site-packages/empiricaldist/empiricaldist.py:479: FutureWarning: The behavior of Pmf.idxmax with all-NA values, or any-NA and skipna=False, is deprecated. In a future version this will raise ValueError\n",
      "  return self.idxmax(**kwargs)\n",
      "/home/user/anaconda3/envs/bayes/lib/python3.9/site-packages/empiricaldist/empiricaldist.py:479: FutureWarning: The behavior of Pmf.idxmax with all-NA values, or any-NA and skipna=False, is deprecated. In a future version this will raise ValueError\n",
      "  return self.idxmax(**kwargs)\n",
      "/home/user/anaconda3/envs/bayes/lib/python3.9/site-packages/empiricaldist/empiricaldist.py:479: FutureWarning: The behavior of Pmf.idxmax with all-NA values, or any-NA and skipna=False, is deprecated. In a future version this will raise ValueError\n",
      "  return self.idxmax(**kwargs)\n",
      "/home/user/anaconda3/envs/bayes/lib/python3.9/site-packages/empiricaldist/empiricaldist.py:479: FutureWarning: The behavior of Pmf.idxmax with all-NA values, or any-NA and skipna=False, is deprecated. In a future version this will raise ValueError\n",
      "  return self.idxmax(**kwargs)\n",
      "/home/user/anaconda3/envs/bayes/lib/python3.9/site-packages/empiricaldist/empiricaldist.py:479: FutureWarning: The behavior of Pmf.idxmax with all-NA values, or any-NA and skipna=False, is deprecated. In a future version this will raise ValueError\n",
      "  return self.idxmax(**kwargs)\n",
      "/home/user/anaconda3/envs/bayes/lib/python3.9/site-packages/empiricaldist/empiricaldist.py:479: FutureWarning: The behavior of Pmf.idxmax with all-NA values, or any-NA and skipna=False, is deprecated. In a future version this will raise ValueError\n",
      "  return self.idxmax(**kwargs)\n",
      "/home/user/anaconda3/envs/bayes/lib/python3.9/site-packages/empiricaldist/empiricaldist.py:479: FutureWarning: The behavior of Pmf.idxmax with all-NA values, or any-NA and skipna=False, is deprecated. In a future version this will raise ValueError\n",
      "  return self.idxmax(**kwargs)\n",
      "/home/user/anaconda3/envs/bayes/lib/python3.9/site-packages/empiricaldist/empiricaldist.py:479: FutureWarning: The behavior of Pmf.idxmax with all-NA values, or any-NA and skipna=False, is deprecated. In a future version this will raise ValueError\n",
      "  return self.idxmax(**kwargs)\n",
      "/home/user/anaconda3/envs/bayes/lib/python3.9/site-packages/empiricaldist/empiricaldist.py:479: FutureWarning: The behavior of Pmf.idxmax with all-NA values, or any-NA and skipna=False, is deprecated. In a future version this will raise ValueError\n",
      "  return self.idxmax(**kwargs)\n",
      "/home/user/anaconda3/envs/bayes/lib/python3.9/site-packages/empiricaldist/empiricaldist.py:479: FutureWarning: The behavior of Pmf.idxmax with all-NA values, or any-NA and skipna=False, is deprecated. In a future version this will raise ValueError\n",
      "  return self.idxmax(**kwargs)\n",
      "/home/user/anaconda3/envs/bayes/lib/python3.9/site-packages/empiricaldist/empiricaldist.py:479: FutureWarning: The behavior of Pmf.idxmax with all-NA values, or any-NA and skipna=False, is deprecated. In a future version this will raise ValueError\n",
      "  return self.idxmax(**kwargs)\n",
      "/home/user/anaconda3/envs/bayes/lib/python3.9/site-packages/empiricaldist/empiricaldist.py:479: FutureWarning: The behavior of Pmf.idxmax with all-NA values, or any-NA and skipna=False, is deprecated. In a future version this will raise ValueError\n",
      "  return self.idxmax(**kwargs)\n",
      "/home/user/anaconda3/envs/bayes/lib/python3.9/site-packages/empiricaldist/empiricaldist.py:479: FutureWarning: The behavior of Pmf.idxmax with all-NA values, or any-NA and skipna=False, is deprecated. In a future version this will raise ValueError\n",
      "  return self.idxmax(**kwargs)\n",
      "/home/user/anaconda3/envs/bayes/lib/python3.9/site-packages/empiricaldist/empiricaldist.py:479: FutureWarning: The behavior of Pmf.idxmax with all-NA values, or any-NA and skipna=False, is deprecated. In a future version this will raise ValueError\n",
      "  return self.idxmax(**kwargs)\n",
      "/home/user/anaconda3/envs/bayes/lib/python3.9/site-packages/empiricaldist/empiricaldist.py:479: FutureWarning: The behavior of Pmf.idxmax with all-NA values, or any-NA and skipna=False, is deprecated. In a future version this will raise ValueError\n",
      "  return self.idxmax(**kwargs)\n",
      "/home/user/anaconda3/envs/bayes/lib/python3.9/site-packages/empiricaldist/empiricaldist.py:479: FutureWarning: The behavior of Pmf.idxmax with all-NA values, or any-NA and skipna=False, is deprecated. In a future version this will raise ValueError\n",
      "  return self.idxmax(**kwargs)\n",
      "/home/user/anaconda3/envs/bayes/lib/python3.9/site-packages/empiricaldist/empiricaldist.py:479: FutureWarning: The behavior of Pmf.idxmax with all-NA values, or any-NA and skipna=False, is deprecated. In a future version this will raise ValueError\n",
      "  return self.idxmax(**kwargs)\n",
      "/home/user/anaconda3/envs/bayes/lib/python3.9/site-packages/empiricaldist/empiricaldist.py:479: FutureWarning: The behavior of Pmf.idxmax with all-NA values, or any-NA and skipna=False, is deprecated. In a future version this will raise ValueError\n",
      "  return self.idxmax(**kwargs)\n",
      "/home/user/anaconda3/envs/bayes/lib/python3.9/site-packages/empiricaldist/empiricaldist.py:479: FutureWarning: The behavior of Pmf.idxmax with all-NA values, or any-NA and skipna=False, is deprecated. In a future version this will raise ValueError\n",
      "  return self.idxmax(**kwargs)\n",
      "/home/user/anaconda3/envs/bayes/lib/python3.9/site-packages/empiricaldist/empiricaldist.py:479: FutureWarning: The behavior of Pmf.idxmax with all-NA values, or any-NA and skipna=False, is deprecated. In a future version this will raise ValueError\n",
      "  return self.idxmax(**kwargs)\n",
      "/home/user/anaconda3/envs/bayes/lib/python3.9/site-packages/empiricaldist/empiricaldist.py:479: FutureWarning: The behavior of Pmf.idxmax with all-NA values, or any-NA and skipna=False, is deprecated. In a future version this will raise ValueError\n",
      "  return self.idxmax(**kwargs)\n",
      "/home/user/anaconda3/envs/bayes/lib/python3.9/site-packages/empiricaldist/empiricaldist.py:479: FutureWarning: The behavior of Pmf.idxmax with all-NA values, or any-NA and skipna=False, is deprecated. In a future version this will raise ValueError\n",
      "  return self.idxmax(**kwargs)\n",
      "/home/user/anaconda3/envs/bayes/lib/python3.9/site-packages/empiricaldist/empiricaldist.py:479: FutureWarning: The behavior of Pmf.idxmax with all-NA values, or any-NA and skipna=False, is deprecated. In a future version this will raise ValueError\n",
      "  return self.idxmax(**kwargs)\n",
      "/home/user/anaconda3/envs/bayes/lib/python3.9/site-packages/empiricaldist/empiricaldist.py:479: FutureWarning: The behavior of Pmf.idxmax with all-NA values, or any-NA and skipna=False, is deprecated. In a future version this will raise ValueError\n",
      "  return self.idxmax(**kwargs)\n",
      "/home/user/anaconda3/envs/bayes/lib/python3.9/site-packages/empiricaldist/empiricaldist.py:479: FutureWarning: The behavior of Pmf.idxmax with all-NA values, or any-NA and skipna=False, is deprecated. In a future version this will raise ValueError\n",
      "  return self.idxmax(**kwargs)\n",
      "/home/user/anaconda3/envs/bayes/lib/python3.9/site-packages/empiricaldist/empiricaldist.py:479: FutureWarning: The behavior of Pmf.idxmax with all-NA values, or any-NA and skipna=False, is deprecated. In a future version this will raise ValueError\n",
      "  return self.idxmax(**kwargs)\n",
      "/home/user/anaconda3/envs/bayes/lib/python3.9/site-packages/empiricaldist/empiricaldist.py:479: FutureWarning: The behavior of Pmf.idxmax with all-NA values, or any-NA and skipna=False, is deprecated. In a future version this will raise ValueError\n",
      "  return self.idxmax(**kwargs)\n",
      "/home/user/anaconda3/envs/bayes/lib/python3.9/site-packages/empiricaldist/empiricaldist.py:479: FutureWarning: The behavior of Pmf.idxmax with all-NA values, or any-NA and skipna=False, is deprecated. In a future version this will raise ValueError\n",
      "  return self.idxmax(**kwargs)\n",
      "/home/user/anaconda3/envs/bayes/lib/python3.9/site-packages/empiricaldist/empiricaldist.py:479: FutureWarning: The behavior of Pmf.idxmax with all-NA values, or any-NA and skipna=False, is deprecated. In a future version this will raise ValueError\n",
      "  return self.idxmax(**kwargs)\n",
      "/home/user/anaconda3/envs/bayes/lib/python3.9/site-packages/empiricaldist/empiricaldist.py:479: FutureWarning: The behavior of Pmf.idxmax with all-NA values, or any-NA and skipna=False, is deprecated. In a future version this will raise ValueError\n",
      "  return self.idxmax(**kwargs)\n",
      "/home/user/anaconda3/envs/bayes/lib/python3.9/site-packages/empiricaldist/empiricaldist.py:479: FutureWarning: The behavior of Pmf.idxmax with all-NA values, or any-NA and skipna=False, is deprecated. In a future version this will raise ValueError\n",
      "  return self.idxmax(**kwargs)\n",
      "/home/user/anaconda3/envs/bayes/lib/python3.9/site-packages/empiricaldist/empiricaldist.py:479: FutureWarning: The behavior of Pmf.idxmax with all-NA values, or any-NA and skipna=False, is deprecated. In a future version this will raise ValueError\n",
      "  return self.idxmax(**kwargs)\n",
      "/home/user/anaconda3/envs/bayes/lib/python3.9/site-packages/empiricaldist/empiricaldist.py:479: FutureWarning: The behavior of Pmf.idxmax with all-NA values, or any-NA and skipna=False, is deprecated. In a future version this will raise ValueError\n",
      "  return self.idxmax(**kwargs)\n",
      "/home/user/anaconda3/envs/bayes/lib/python3.9/site-packages/empiricaldist/empiricaldist.py:479: FutureWarning: The behavior of Pmf.idxmax with all-NA values, or any-NA and skipna=False, is deprecated. In a future version this will raise ValueError\n",
      "  return self.idxmax(**kwargs)\n",
      "/home/user/anaconda3/envs/bayes/lib/python3.9/site-packages/empiricaldist/empiricaldist.py:479: FutureWarning: The behavior of Pmf.idxmax with all-NA values, or any-NA and skipna=False, is deprecated. In a future version this will raise ValueError\n",
      "  return self.idxmax(**kwargs)\n",
      "/home/user/anaconda3/envs/bayes/lib/python3.9/site-packages/empiricaldist/empiricaldist.py:479: FutureWarning: The behavior of Pmf.idxmax with all-NA values, or any-NA and skipna=False, is deprecated. In a future version this will raise ValueError\n",
      "  return self.idxmax(**kwargs)\n",
      "/home/user/anaconda3/envs/bayes/lib/python3.9/site-packages/empiricaldist/empiricaldist.py:479: FutureWarning: The behavior of Pmf.idxmax with all-NA values, or any-NA and skipna=False, is deprecated. In a future version this will raise ValueError\n",
      "  return self.idxmax(**kwargs)\n",
      "/home/user/anaconda3/envs/bayes/lib/python3.9/site-packages/empiricaldist/empiricaldist.py:479: FutureWarning: The behavior of Pmf.idxmax with all-NA values, or any-NA and skipna=False, is deprecated. In a future version this will raise ValueError\n",
      "  return self.idxmax(**kwargs)\n",
      "/home/user/anaconda3/envs/bayes/lib/python3.9/site-packages/empiricaldist/empiricaldist.py:479: FutureWarning: The behavior of Pmf.idxmax with all-NA values, or any-NA and skipna=False, is deprecated. In a future version this will raise ValueError\n",
      "  return self.idxmax(**kwargs)\n",
      "/home/user/anaconda3/envs/bayes/lib/python3.9/site-packages/empiricaldist/empiricaldist.py:479: FutureWarning: The behavior of Pmf.idxmax with all-NA values, or any-NA and skipna=False, is deprecated. In a future version this will raise ValueError\n",
      "  return self.idxmax(**kwargs)\n",
      "/home/user/anaconda3/envs/bayes/lib/python3.9/site-packages/empiricaldist/empiricaldist.py:479: FutureWarning: The behavior of Pmf.idxmax with all-NA values, or any-NA and skipna=False, is deprecated. In a future version this will raise ValueError\n",
      "  return self.idxmax(**kwargs)\n",
      "/home/user/anaconda3/envs/bayes/lib/python3.9/site-packages/empiricaldist/empiricaldist.py:479: FutureWarning: The behavior of Pmf.idxmax with all-NA values, or any-NA and skipna=False, is deprecated. In a future version this will raise ValueError\n",
      "  return self.idxmax(**kwargs)\n",
      "/home/user/anaconda3/envs/bayes/lib/python3.9/site-packages/empiricaldist/empiricaldist.py:479: FutureWarning: The behavior of Pmf.idxmax with all-NA values, or any-NA and skipna=False, is deprecated. In a future version this will raise ValueError\n",
      "  return self.idxmax(**kwargs)\n",
      "/home/user/anaconda3/envs/bayes/lib/python3.9/site-packages/empiricaldist/empiricaldist.py:479: FutureWarning: The behavior of Pmf.idxmax with all-NA values, or any-NA and skipna=False, is deprecated. In a future version this will raise ValueError\n",
      "  return self.idxmax(**kwargs)\n",
      "/home/user/anaconda3/envs/bayes/lib/python3.9/site-packages/empiricaldist/empiricaldist.py:479: FutureWarning: The behavior of Pmf.idxmax with all-NA values, or any-NA and skipna=False, is deprecated. In a future version this will raise ValueError\n",
      "  return self.idxmax(**kwargs)\n",
      "/home/user/anaconda3/envs/bayes/lib/python3.9/site-packages/empiricaldist/empiricaldist.py:479: FutureWarning: The behavior of Pmf.idxmax with all-NA values, or any-NA and skipna=False, is deprecated. In a future version this will raise ValueError\n",
      "  return self.idxmax(**kwargs)\n",
      "/home/user/anaconda3/envs/bayes/lib/python3.9/site-packages/empiricaldist/empiricaldist.py:479: FutureWarning: The behavior of Pmf.idxmax with all-NA values, or any-NA and skipna=False, is deprecated. In a future version this will raise ValueError\n",
      "  return self.idxmax(**kwargs)\n",
      "/home/user/anaconda3/envs/bayes/lib/python3.9/site-packages/empiricaldist/empiricaldist.py:479: FutureWarning: The behavior of Pmf.idxmax with all-NA values, or any-NA and skipna=False, is deprecated. In a future version this will raise ValueError\n",
      "  return self.idxmax(**kwargs)\n",
      "/home/user/anaconda3/envs/bayes/lib/python3.9/site-packages/empiricaldist/empiricaldist.py:479: FutureWarning: The behavior of Pmf.idxmax with all-NA values, or any-NA and skipna=False, is deprecated. In a future version this will raise ValueError\n",
      "  return self.idxmax(**kwargs)\n",
      "/home/user/anaconda3/envs/bayes/lib/python3.9/site-packages/empiricaldist/empiricaldist.py:479: FutureWarning: The behavior of Pmf.idxmax with all-NA values, or any-NA and skipna=False, is deprecated. In a future version this will raise ValueError\n",
      "  return self.idxmax(**kwargs)\n",
      "/home/user/anaconda3/envs/bayes/lib/python3.9/site-packages/empiricaldist/empiricaldist.py:479: FutureWarning: The behavior of Pmf.idxmax with all-NA values, or any-NA and skipna=False, is deprecated. In a future version this will raise ValueError\n",
      "  return self.idxmax(**kwargs)\n",
      "/home/user/anaconda3/envs/bayes/lib/python3.9/site-packages/empiricaldist/empiricaldist.py:479: FutureWarning: The behavior of Pmf.idxmax with all-NA values, or any-NA and skipna=False, is deprecated. In a future version this will raise ValueError\n",
      "  return self.idxmax(**kwargs)\n",
      "/home/user/anaconda3/envs/bayes/lib/python3.9/site-packages/empiricaldist/empiricaldist.py:479: FutureWarning: The behavior of Pmf.idxmax with all-NA values, or any-NA and skipna=False, is deprecated. In a future version this will raise ValueError\n",
      "  return self.idxmax(**kwargs)\n",
      "/home/user/anaconda3/envs/bayes/lib/python3.9/site-packages/empiricaldist/empiricaldist.py:479: FutureWarning: The behavior of Pmf.idxmax with all-NA values, or any-NA and skipna=False, is deprecated. In a future version this will raise ValueError\n",
      "  return self.idxmax(**kwargs)\n",
      "/home/user/anaconda3/envs/bayes/lib/python3.9/site-packages/empiricaldist/empiricaldist.py:479: FutureWarning: The behavior of Pmf.idxmax with all-NA values, or any-NA and skipna=False, is deprecated. In a future version this will raise ValueError\n",
      "  return self.idxmax(**kwargs)\n",
      "/home/user/anaconda3/envs/bayes/lib/python3.9/site-packages/empiricaldist/empiricaldist.py:479: FutureWarning: The behavior of Pmf.idxmax with all-NA values, or any-NA and skipna=False, is deprecated. In a future version this will raise ValueError\n",
      "  return self.idxmax(**kwargs)\n",
      "/home/user/anaconda3/envs/bayes/lib/python3.9/site-packages/empiricaldist/empiricaldist.py:479: FutureWarning: The behavior of Pmf.idxmax with all-NA values, or any-NA and skipna=False, is deprecated. In a future version this will raise ValueError\n",
      "  return self.idxmax(**kwargs)\n",
      "/home/user/anaconda3/envs/bayes/lib/python3.9/site-packages/empiricaldist/empiricaldist.py:479: FutureWarning: The behavior of Pmf.idxmax with all-NA values, or any-NA and skipna=False, is deprecated. In a future version this will raise ValueError\n",
      "  return self.idxmax(**kwargs)\n",
      "/home/user/anaconda3/envs/bayes/lib/python3.9/site-packages/empiricaldist/empiricaldist.py:479: FutureWarning: The behavior of Pmf.idxmax with all-NA values, or any-NA and skipna=False, is deprecated. In a future version this will raise ValueError\n",
      "  return self.idxmax(**kwargs)\n",
      "/home/user/anaconda3/envs/bayes/lib/python3.9/site-packages/empiricaldist/empiricaldist.py:479: FutureWarning: The behavior of Pmf.idxmax with all-NA values, or any-NA and skipna=False, is deprecated. In a future version this will raise ValueError\n",
      "  return self.idxmax(**kwargs)\n",
      "/home/user/anaconda3/envs/bayes/lib/python3.9/site-packages/empiricaldist/empiricaldist.py:479: FutureWarning: The behavior of Pmf.idxmax with all-NA values, or any-NA and skipna=False, is deprecated. In a future version this will raise ValueError\n",
      "  return self.idxmax(**kwargs)\n",
      "/home/user/anaconda3/envs/bayes/lib/python3.9/site-packages/empiricaldist/empiricaldist.py:479: FutureWarning: The behavior of Pmf.idxmax with all-NA values, or any-NA and skipna=False, is deprecated. In a future version this will raise ValueError\n",
      "  return self.idxmax(**kwargs)\n",
      "/home/user/anaconda3/envs/bayes/lib/python3.9/site-packages/empiricaldist/empiricaldist.py:479: FutureWarning: The behavior of Pmf.idxmax with all-NA values, or any-NA and skipna=False, is deprecated. In a future version this will raise ValueError\n",
      "  return self.idxmax(**kwargs)\n",
      "/home/user/anaconda3/envs/bayes/lib/python3.9/site-packages/empiricaldist/empiricaldist.py:479: FutureWarning: The behavior of Pmf.idxmax with all-NA values, or any-NA and skipna=False, is deprecated. In a future version this will raise ValueError\n",
      "  return self.idxmax(**kwargs)\n",
      "/home/user/anaconda3/envs/bayes/lib/python3.9/site-packages/empiricaldist/empiricaldist.py:479: FutureWarning: The behavior of Pmf.idxmax with all-NA values, or any-NA and skipna=False, is deprecated. In a future version this will raise ValueError\n",
      "  return self.idxmax(**kwargs)\n",
      "/home/user/anaconda3/envs/bayes/lib/python3.9/site-packages/empiricaldist/empiricaldist.py:479: FutureWarning: The behavior of Pmf.idxmax with all-NA values, or any-NA and skipna=False, is deprecated. In a future version this will raise ValueError\n",
      "  return self.idxmax(**kwargs)\n",
      "/home/user/anaconda3/envs/bayes/lib/python3.9/site-packages/empiricaldist/empiricaldist.py:479: FutureWarning: The behavior of Pmf.idxmax with all-NA values, or any-NA and skipna=False, is deprecated. In a future version this will raise ValueError\n",
      "  return self.idxmax(**kwargs)\n",
      "/home/user/anaconda3/envs/bayes/lib/python3.9/site-packages/empiricaldist/empiricaldist.py:479: FutureWarning: The behavior of Pmf.idxmax with all-NA values, or any-NA and skipna=False, is deprecated. In a future version this will raise ValueError\n",
      "  return self.idxmax(**kwargs)\n",
      "/home/user/anaconda3/envs/bayes/lib/python3.9/site-packages/empiricaldist/empiricaldist.py:479: FutureWarning: The behavior of Pmf.idxmax with all-NA values, or any-NA and skipna=False, is deprecated. In a future version this will raise ValueError\n",
      "  return self.idxmax(**kwargs)\n",
      "/home/user/anaconda3/envs/bayes/lib/python3.9/site-packages/empiricaldist/empiricaldist.py:479: FutureWarning: The behavior of Pmf.idxmax with all-NA values, or any-NA and skipna=False, is deprecated. In a future version this will raise ValueError\n",
      "  return self.idxmax(**kwargs)\n",
      "/home/user/anaconda3/envs/bayes/lib/python3.9/site-packages/empiricaldist/empiricaldist.py:479: FutureWarning: The behavior of Pmf.idxmax with all-NA values, or any-NA and skipna=False, is deprecated. In a future version this will raise ValueError\n",
      "  return self.idxmax(**kwargs)\n",
      "/home/user/anaconda3/envs/bayes/lib/python3.9/site-packages/empiricaldist/empiricaldist.py:479: FutureWarning: The behavior of Pmf.idxmax with all-NA values, or any-NA and skipna=False, is deprecated. In a future version this will raise ValueError\n",
      "  return self.idxmax(**kwargs)\n",
      "/home/user/anaconda3/envs/bayes/lib/python3.9/site-packages/empiricaldist/empiricaldist.py:479: FutureWarning: The behavior of Pmf.idxmax with all-NA values, or any-NA and skipna=False, is deprecated. In a future version this will raise ValueError\n",
      "  return self.idxmax(**kwargs)\n",
      "/home/user/anaconda3/envs/bayes/lib/python3.9/site-packages/empiricaldist/empiricaldist.py:479: FutureWarning: The behavior of Pmf.idxmax with all-NA values, or any-NA and skipna=False, is deprecated. In a future version this will raise ValueError\n",
      "  return self.idxmax(**kwargs)\n",
      "/home/user/anaconda3/envs/bayes/lib/python3.9/site-packages/empiricaldist/empiricaldist.py:479: FutureWarning: The behavior of Pmf.idxmax with all-NA values, or any-NA and skipna=False, is deprecated. In a future version this will raise ValueError\n",
      "  return self.idxmax(**kwargs)\n",
      "/home/user/anaconda3/envs/bayes/lib/python3.9/site-packages/empiricaldist/empiricaldist.py:479: FutureWarning: The behavior of Pmf.idxmax with all-NA values, or any-NA and skipna=False, is deprecated. In a future version this will raise ValueError\n",
      "  return self.idxmax(**kwargs)\n",
      "/home/user/anaconda3/envs/bayes/lib/python3.9/site-packages/empiricaldist/empiricaldist.py:479: FutureWarning: The behavior of Pmf.idxmax with all-NA values, or any-NA and skipna=False, is deprecated. In a future version this will raise ValueError\n",
      "  return self.idxmax(**kwargs)\n",
      "/home/user/anaconda3/envs/bayes/lib/python3.9/site-packages/empiricaldist/empiricaldist.py:479: FutureWarning: The behavior of Pmf.idxmax with all-NA values, or any-NA and skipna=False, is deprecated. In a future version this will raise ValueError\n",
      "  return self.idxmax(**kwargs)\n",
      "/home/user/anaconda3/envs/bayes/lib/python3.9/site-packages/empiricaldist/empiricaldist.py:479: FutureWarning: The behavior of Pmf.idxmax with all-NA values, or any-NA and skipna=False, is deprecated. In a future version this will raise ValueError\n",
      "  return self.idxmax(**kwargs)\n",
      "/home/user/anaconda3/envs/bayes/lib/python3.9/site-packages/empiricaldist/empiricaldist.py:479: FutureWarning: The behavior of Pmf.idxmax with all-NA values, or any-NA and skipna=False, is deprecated. In a future version this will raise ValueError\n",
      "  return self.idxmax(**kwargs)\n",
      "/home/user/anaconda3/envs/bayes/lib/python3.9/site-packages/empiricaldist/empiricaldist.py:479: FutureWarning: The behavior of Pmf.idxmax with all-NA values, or any-NA and skipna=False, is deprecated. In a future version this will raise ValueError\n",
      "  return self.idxmax(**kwargs)\n",
      "/home/user/anaconda3/envs/bayes/lib/python3.9/site-packages/empiricaldist/empiricaldist.py:479: FutureWarning: The behavior of Pmf.idxmax with all-NA values, or any-NA and skipna=False, is deprecated. In a future version this will raise ValueError\n",
      "  return self.idxmax(**kwargs)\n",
      "/home/user/anaconda3/envs/bayes/lib/python3.9/site-packages/empiricaldist/empiricaldist.py:479: FutureWarning: The behavior of Pmf.idxmax with all-NA values, or any-NA and skipna=False, is deprecated. In a future version this will raise ValueError\n",
      "  return self.idxmax(**kwargs)\n",
      "/home/user/anaconda3/envs/bayes/lib/python3.9/site-packages/empiricaldist/empiricaldist.py:479: FutureWarning: The behavior of Pmf.idxmax with all-NA values, or any-NA and skipna=False, is deprecated. In a future version this will raise ValueError\n",
      "  return self.idxmax(**kwargs)\n",
      "/home/user/anaconda3/envs/bayes/lib/python3.9/site-packages/empiricaldist/empiricaldist.py:479: FutureWarning: The behavior of Pmf.idxmax with all-NA values, or any-NA and skipna=False, is deprecated. In a future version this will raise ValueError\n",
      "  return self.idxmax(**kwargs)\n",
      "/home/user/anaconda3/envs/bayes/lib/python3.9/site-packages/empiricaldist/empiricaldist.py:479: FutureWarning: The behavior of Pmf.idxmax with all-NA values, or any-NA and skipna=False, is deprecated. In a future version this will raise ValueError\n",
      "  return self.idxmax(**kwargs)\n",
      "/home/user/anaconda3/envs/bayes/lib/python3.9/site-packages/empiricaldist/empiricaldist.py:479: FutureWarning: The behavior of Pmf.idxmax with all-NA values, or any-NA and skipna=False, is deprecated. In a future version this will raise ValueError\n",
      "  return self.idxmax(**kwargs)\n",
      "/home/user/anaconda3/envs/bayes/lib/python3.9/site-packages/empiricaldist/empiricaldist.py:479: FutureWarning: The behavior of Pmf.idxmax with all-NA values, or any-NA and skipna=False, is deprecated. In a future version this will raise ValueError\n",
      "  return self.idxmax(**kwargs)\n",
      "/home/user/anaconda3/envs/bayes/lib/python3.9/site-packages/empiricaldist/empiricaldist.py:479: FutureWarning: The behavior of Pmf.idxmax with all-NA values, or any-NA and skipna=False, is deprecated. In a future version this will raise ValueError\n",
      "  return self.idxmax(**kwargs)\n",
      "/home/user/anaconda3/envs/bayes/lib/python3.9/site-packages/empiricaldist/empiricaldist.py:479: FutureWarning: The behavior of Pmf.idxmax with all-NA values, or any-NA and skipna=False, is deprecated. In a future version this will raise ValueError\n",
      "  return self.idxmax(**kwargs)\n",
      "/home/user/anaconda3/envs/bayes/lib/python3.9/site-packages/empiricaldist/empiricaldist.py:479: FutureWarning: The behavior of Pmf.idxmax with all-NA values, or any-NA and skipna=False, is deprecated. In a future version this will raise ValueError\n",
      "  return self.idxmax(**kwargs)\n",
      "/home/user/anaconda3/envs/bayes/lib/python3.9/site-packages/empiricaldist/empiricaldist.py:479: FutureWarning: The behavior of Pmf.idxmax with all-NA values, or any-NA and skipna=False, is deprecated. In a future version this will raise ValueError\n",
      "  return self.idxmax(**kwargs)\n",
      "/home/user/anaconda3/envs/bayes/lib/python3.9/site-packages/empiricaldist/empiricaldist.py:479: FutureWarning: The behavior of Pmf.idxmax with all-NA values, or any-NA and skipna=False, is deprecated. In a future version this will raise ValueError\n",
      "  return self.idxmax(**kwargs)\n",
      "/home/user/anaconda3/envs/bayes/lib/python3.9/site-packages/empiricaldist/empiricaldist.py:479: FutureWarning: The behavior of Pmf.idxmax with all-NA values, or any-NA and skipna=False, is deprecated. In a future version this will raise ValueError\n",
      "  return self.idxmax(**kwargs)\n",
      "/home/user/anaconda3/envs/bayes/lib/python3.9/site-packages/empiricaldist/empiricaldist.py:479: FutureWarning: The behavior of Pmf.idxmax with all-NA values, or any-NA and skipna=False, is deprecated. In a future version this will raise ValueError\n",
      "  return self.idxmax(**kwargs)\n",
      "/home/user/anaconda3/envs/bayes/lib/python3.9/site-packages/empiricaldist/empiricaldist.py:479: FutureWarning: The behavior of Pmf.idxmax with all-NA values, or any-NA and skipna=False, is deprecated. In a future version this will raise ValueError\n",
      "  return self.idxmax(**kwargs)\n",
      "/home/user/anaconda3/envs/bayes/lib/python3.9/site-packages/empiricaldist/empiricaldist.py:479: FutureWarning: The behavior of Pmf.idxmax with all-NA values, or any-NA and skipna=False, is deprecated. In a future version this will raise ValueError\n",
      "  return self.idxmax(**kwargs)\n",
      "/home/user/anaconda3/envs/bayes/lib/python3.9/site-packages/empiricaldist/empiricaldist.py:479: FutureWarning: The behavior of Pmf.idxmax with all-NA values, or any-NA and skipna=False, is deprecated. In a future version this will raise ValueError\n",
      "  return self.idxmax(**kwargs)\n",
      "/home/user/anaconda3/envs/bayes/lib/python3.9/site-packages/empiricaldist/empiricaldist.py:479: FutureWarning: The behavior of Pmf.idxmax with all-NA values, or any-NA and skipna=False, is deprecated. In a future version this will raise ValueError\n",
      "  return self.idxmax(**kwargs)\n",
      "/home/user/anaconda3/envs/bayes/lib/python3.9/site-packages/empiricaldist/empiricaldist.py:479: FutureWarning: The behavior of Pmf.idxmax with all-NA values, or any-NA and skipna=False, is deprecated. In a future version this will raise ValueError\n",
      "  return self.idxmax(**kwargs)\n",
      "/home/user/anaconda3/envs/bayes/lib/python3.9/site-packages/empiricaldist/empiricaldist.py:479: FutureWarning: The behavior of Pmf.idxmax with all-NA values, or any-NA and skipna=False, is deprecated. In a future version this will raise ValueError\n",
      "  return self.idxmax(**kwargs)\n",
      "/home/user/anaconda3/envs/bayes/lib/python3.9/site-packages/empiricaldist/empiricaldist.py:479: FutureWarning: The behavior of Pmf.idxmax with all-NA values, or any-NA and skipna=False, is deprecated. In a future version this will raise ValueError\n",
      "  return self.idxmax(**kwargs)\n",
      "/home/user/anaconda3/envs/bayes/lib/python3.9/site-packages/empiricaldist/empiricaldist.py:479: FutureWarning: The behavior of Pmf.idxmax with all-NA values, or any-NA and skipna=False, is deprecated. In a future version this will raise ValueError\n",
      "  return self.idxmax(**kwargs)\n",
      "/home/user/anaconda3/envs/bayes/lib/python3.9/site-packages/empiricaldist/empiricaldist.py:479: FutureWarning: The behavior of Pmf.idxmax with all-NA values, or any-NA and skipna=False, is deprecated. In a future version this will raise ValueError\n",
      "  return self.idxmax(**kwargs)\n",
      "/home/user/anaconda3/envs/bayes/lib/python3.9/site-packages/empiricaldist/empiricaldist.py:479: FutureWarning: The behavior of Pmf.idxmax with all-NA values, or any-NA and skipna=False, is deprecated. In a future version this will raise ValueError\n",
      "  return self.idxmax(**kwargs)\n",
      "/home/user/anaconda3/envs/bayes/lib/python3.9/site-packages/empiricaldist/empiricaldist.py:479: FutureWarning: The behavior of Pmf.idxmax with all-NA values, or any-NA and skipna=False, is deprecated. In a future version this will raise ValueError\n",
      "  return self.idxmax(**kwargs)\n",
      "/home/user/anaconda3/envs/bayes/lib/python3.9/site-packages/empiricaldist/empiricaldist.py:479: FutureWarning: The behavior of Pmf.idxmax with all-NA values, or any-NA and skipna=False, is deprecated. In a future version this will raise ValueError\n",
      "  return self.idxmax(**kwargs)\n",
      "/home/user/anaconda3/envs/bayes/lib/python3.9/site-packages/empiricaldist/empiricaldist.py:479: FutureWarning: The behavior of Pmf.idxmax with all-NA values, or any-NA and skipna=False, is deprecated. In a future version this will raise ValueError\n",
      "  return self.idxmax(**kwargs)\n",
      "/home/user/anaconda3/envs/bayes/lib/python3.9/site-packages/empiricaldist/empiricaldist.py:479: FutureWarning: The behavior of Pmf.idxmax with all-NA values, or any-NA and skipna=False, is deprecated. In a future version this will raise ValueError\n",
      "  return self.idxmax(**kwargs)\n",
      "/home/user/anaconda3/envs/bayes/lib/python3.9/site-packages/empiricaldist/empiricaldist.py:479: FutureWarning: The behavior of Pmf.idxmax with all-NA values, or any-NA and skipna=False, is deprecated. In a future version this will raise ValueError\n",
      "  return self.idxmax(**kwargs)\n",
      "/home/user/anaconda3/envs/bayes/lib/python3.9/site-packages/empiricaldist/empiricaldist.py:479: FutureWarning: The behavior of Pmf.idxmax with all-NA values, or any-NA and skipna=False, is deprecated. In a future version this will raise ValueError\n",
      "  return self.idxmax(**kwargs)\n",
      "/home/user/anaconda3/envs/bayes/lib/python3.9/site-packages/empiricaldist/empiricaldist.py:479: FutureWarning: The behavior of Pmf.idxmax with all-NA values, or any-NA and skipna=False, is deprecated. In a future version this will raise ValueError\n",
      "  return self.idxmax(**kwargs)\n",
      "/home/user/anaconda3/envs/bayes/lib/python3.9/site-packages/empiricaldist/empiricaldist.py:479: FutureWarning: The behavior of Pmf.idxmax with all-NA values, or any-NA and skipna=False, is deprecated. In a future version this will raise ValueError\n",
      "  return self.idxmax(**kwargs)\n",
      "/home/user/anaconda3/envs/bayes/lib/python3.9/site-packages/empiricaldist/empiricaldist.py:479: FutureWarning: The behavior of Pmf.idxmax with all-NA values, or any-NA and skipna=False, is deprecated. In a future version this will raise ValueError\n",
      "  return self.idxmax(**kwargs)\n",
      "/home/user/anaconda3/envs/bayes/lib/python3.9/site-packages/empiricaldist/empiricaldist.py:479: FutureWarning: The behavior of Pmf.idxmax with all-NA values, or any-NA and skipna=False, is deprecated. In a future version this will raise ValueError\n",
      "  return self.idxmax(**kwargs)\n",
      "/home/user/anaconda3/envs/bayes/lib/python3.9/site-packages/empiricaldist/empiricaldist.py:479: FutureWarning: The behavior of Pmf.idxmax with all-NA values, or any-NA and skipna=False, is deprecated. In a future version this will raise ValueError\n",
      "  return self.idxmax(**kwargs)\n",
      "/home/user/anaconda3/envs/bayes/lib/python3.9/site-packages/empiricaldist/empiricaldist.py:479: FutureWarning: The behavior of Pmf.idxmax with all-NA values, or any-NA and skipna=False, is deprecated. In a future version this will raise ValueError\n",
      "  return self.idxmax(**kwargs)\n",
      "/home/user/anaconda3/envs/bayes/lib/python3.9/site-packages/empiricaldist/empiricaldist.py:479: FutureWarning: The behavior of Pmf.idxmax with all-NA values, or any-NA and skipna=False, is deprecated. In a future version this will raise ValueError\n",
      "  return self.idxmax(**kwargs)\n",
      "/home/user/anaconda3/envs/bayes/lib/python3.9/site-packages/empiricaldist/empiricaldist.py:479: FutureWarning: The behavior of Pmf.idxmax with all-NA values, or any-NA and skipna=False, is deprecated. In a future version this will raise ValueError\n",
      "  return self.idxmax(**kwargs)\n",
      "/home/user/anaconda3/envs/bayes/lib/python3.9/site-packages/empiricaldist/empiricaldist.py:479: FutureWarning: The behavior of Pmf.idxmax with all-NA values, or any-NA and skipna=False, is deprecated. In a future version this will raise ValueError\n",
      "  return self.idxmax(**kwargs)\n",
      "/home/user/anaconda3/envs/bayes/lib/python3.9/site-packages/empiricaldist/empiricaldist.py:479: FutureWarning: The behavior of Pmf.idxmax with all-NA values, or any-NA and skipna=False, is deprecated. In a future version this will raise ValueError\n",
      "  return self.idxmax(**kwargs)\n",
      "/home/user/anaconda3/envs/bayes/lib/python3.9/site-packages/empiricaldist/empiricaldist.py:479: FutureWarning: The behavior of Pmf.idxmax with all-NA values, or any-NA and skipna=False, is deprecated. In a future version this will raise ValueError\n",
      "  return self.idxmax(**kwargs)\n",
      "/home/user/anaconda3/envs/bayes/lib/python3.9/site-packages/empiricaldist/empiricaldist.py:479: FutureWarning: The behavior of Pmf.idxmax with all-NA values, or any-NA and skipna=False, is deprecated. In a future version this will raise ValueError\n",
      "  return self.idxmax(**kwargs)\n",
      "/home/user/anaconda3/envs/bayes/lib/python3.9/site-packages/empiricaldist/empiricaldist.py:479: FutureWarning: The behavior of Pmf.idxmax with all-NA values, or any-NA and skipna=False, is deprecated. In a future version this will raise ValueError\n",
      "  return self.idxmax(**kwargs)\n",
      "/home/user/anaconda3/envs/bayes/lib/python3.9/site-packages/empiricaldist/empiricaldist.py:479: FutureWarning: The behavior of Pmf.idxmax with all-NA values, or any-NA and skipna=False, is deprecated. In a future version this will raise ValueError\n",
      "  return self.idxmax(**kwargs)\n",
      "/home/user/anaconda3/envs/bayes/lib/python3.9/site-packages/empiricaldist/empiricaldist.py:479: FutureWarning: The behavior of Pmf.idxmax with all-NA values, or any-NA and skipna=False, is deprecated. In a future version this will raise ValueError\n",
      "  return self.idxmax(**kwargs)\n",
      "/home/user/anaconda3/envs/bayes/lib/python3.9/site-packages/empiricaldist/empiricaldist.py:479: FutureWarning: The behavior of Pmf.idxmax with all-NA values, or any-NA and skipna=False, is deprecated. In a future version this will raise ValueError\n",
      "  return self.idxmax(**kwargs)\n",
      "/home/user/anaconda3/envs/bayes/lib/python3.9/site-packages/empiricaldist/empiricaldist.py:479: FutureWarning: The behavior of Pmf.idxmax with all-NA values, or any-NA and skipna=False, is deprecated. In a future version this will raise ValueError\n",
      "  return self.idxmax(**kwargs)\n",
      "/home/user/anaconda3/envs/bayes/lib/python3.9/site-packages/empiricaldist/empiricaldist.py:479: FutureWarning: The behavior of Pmf.idxmax with all-NA values, or any-NA and skipna=False, is deprecated. In a future version this will raise ValueError\n",
      "  return self.idxmax(**kwargs)\n",
      "/home/user/anaconda3/envs/bayes/lib/python3.9/site-packages/empiricaldist/empiricaldist.py:479: FutureWarning: The behavior of Pmf.idxmax with all-NA values, or any-NA and skipna=False, is deprecated. In a future version this will raise ValueError\n",
      "  return self.idxmax(**kwargs)\n",
      "/home/user/anaconda3/envs/bayes/lib/python3.9/site-packages/empiricaldist/empiricaldist.py:479: FutureWarning: The behavior of Pmf.idxmax with all-NA values, or any-NA and skipna=False, is deprecated. In a future version this will raise ValueError\n",
      "  return self.idxmax(**kwargs)\n",
      "/home/user/anaconda3/envs/bayes/lib/python3.9/site-packages/empiricaldist/empiricaldist.py:479: FutureWarning: The behavior of Pmf.idxmax with all-NA values, or any-NA and skipna=False, is deprecated. In a future version this will raise ValueError\n",
      "  return self.idxmax(**kwargs)\n",
      "/home/user/anaconda3/envs/bayes/lib/python3.9/site-packages/empiricaldist/empiricaldist.py:479: FutureWarning: The behavior of Pmf.idxmax with all-NA values, or any-NA and skipna=False, is deprecated. In a future version this will raise ValueError\n",
      "  return self.idxmax(**kwargs)\n",
      "/home/user/anaconda3/envs/bayes/lib/python3.9/site-packages/empiricaldist/empiricaldist.py:479: FutureWarning: The behavior of Pmf.idxmax with all-NA values, or any-NA and skipna=False, is deprecated. In a future version this will raise ValueError\n",
      "  return self.idxmax(**kwargs)\n",
      "/home/user/anaconda3/envs/bayes/lib/python3.9/site-packages/empiricaldist/empiricaldist.py:479: FutureWarning: The behavior of Pmf.idxmax with all-NA values, or any-NA and skipna=False, is deprecated. In a future version this will raise ValueError\n",
      "  return self.idxmax(**kwargs)\n",
      "/home/user/anaconda3/envs/bayes/lib/python3.9/site-packages/empiricaldist/empiricaldist.py:479: FutureWarning: The behavior of Pmf.idxmax with all-NA values, or any-NA and skipna=False, is deprecated. In a future version this will raise ValueError\n",
      "  return self.idxmax(**kwargs)\n",
      "/home/user/anaconda3/envs/bayes/lib/python3.9/site-packages/empiricaldist/empiricaldist.py:479: FutureWarning: The behavior of Pmf.idxmax with all-NA values, or any-NA and skipna=False, is deprecated. In a future version this will raise ValueError\n",
      "  return self.idxmax(**kwargs)\n",
      "/home/user/anaconda3/envs/bayes/lib/python3.9/site-packages/empiricaldist/empiricaldist.py:479: FutureWarning: The behavior of Pmf.idxmax with all-NA values, or any-NA and skipna=False, is deprecated. In a future version this will raise ValueError\n",
      "  return self.idxmax(**kwargs)\n",
      "/home/user/anaconda3/envs/bayes/lib/python3.9/site-packages/empiricaldist/empiricaldist.py:479: FutureWarning: The behavior of Pmf.idxmax with all-NA values, or any-NA and skipna=False, is deprecated. In a future version this will raise ValueError\n",
      "  return self.idxmax(**kwargs)\n",
      "/home/user/anaconda3/envs/bayes/lib/python3.9/site-packages/empiricaldist/empiricaldist.py:479: FutureWarning: The behavior of Pmf.idxmax with all-NA values, or any-NA and skipna=False, is deprecated. In a future version this will raise ValueError\n",
      "  return self.idxmax(**kwargs)\n",
      "/home/user/anaconda3/envs/bayes/lib/python3.9/site-packages/empiricaldist/empiricaldist.py:479: FutureWarning: The behavior of Pmf.idxmax with all-NA values, or any-NA and skipna=False, is deprecated. In a future version this will raise ValueError\n",
      "  return self.idxmax(**kwargs)\n",
      "/home/user/anaconda3/envs/bayes/lib/python3.9/site-packages/empiricaldist/empiricaldist.py:479: FutureWarning: The behavior of Pmf.idxmax with all-NA values, or any-NA and skipna=False, is deprecated. In a future version this will raise ValueError\n",
      "  return self.idxmax(**kwargs)\n",
      "/home/user/anaconda3/envs/bayes/lib/python3.9/site-packages/empiricaldist/empiricaldist.py:479: FutureWarning: The behavior of Pmf.idxmax with all-NA values, or any-NA and skipna=False, is deprecated. In a future version this will raise ValueError\n",
      "  return self.idxmax(**kwargs)\n",
      "/home/user/anaconda3/envs/bayes/lib/python3.9/site-packages/empiricaldist/empiricaldist.py:479: FutureWarning: The behavior of Pmf.idxmax with all-NA values, or any-NA and skipna=False, is deprecated. In a future version this will raise ValueError\n",
      "  return self.idxmax(**kwargs)\n",
      "/home/user/anaconda3/envs/bayes/lib/python3.9/site-packages/empiricaldist/empiricaldist.py:479: FutureWarning: The behavior of Pmf.idxmax with all-NA values, or any-NA and skipna=False, is deprecated. In a future version this will raise ValueError\n",
      "  return self.idxmax(**kwargs)\n",
      "/home/user/anaconda3/envs/bayes/lib/python3.9/site-packages/empiricaldist/empiricaldist.py:479: FutureWarning: The behavior of Pmf.idxmax with all-NA values, or any-NA and skipna=False, is deprecated. In a future version this will raise ValueError\n",
      "  return self.idxmax(**kwargs)\n",
      "/home/user/anaconda3/envs/bayes/lib/python3.9/site-packages/empiricaldist/empiricaldist.py:479: FutureWarning: The behavior of Pmf.idxmax with all-NA values, or any-NA and skipna=False, is deprecated. In a future version this will raise ValueError\n",
      "  return self.idxmax(**kwargs)\n",
      "/home/user/anaconda3/envs/bayes/lib/python3.9/site-packages/empiricaldist/empiricaldist.py:479: FutureWarning: The behavior of Pmf.idxmax with all-NA values, or any-NA and skipna=False, is deprecated. In a future version this will raise ValueError\n",
      "  return self.idxmax(**kwargs)\n",
      "/home/user/anaconda3/envs/bayes/lib/python3.9/site-packages/empiricaldist/empiricaldist.py:479: FutureWarning: The behavior of Pmf.idxmax with all-NA values, or any-NA and skipna=False, is deprecated. In a future version this will raise ValueError\n",
      "  return self.idxmax(**kwargs)\n",
      "/home/user/anaconda3/envs/bayes/lib/python3.9/site-packages/empiricaldist/empiricaldist.py:479: FutureWarning: The behavior of Pmf.idxmax with all-NA values, or any-NA and skipna=False, is deprecated. In a future version this will raise ValueError\n",
      "  return self.idxmax(**kwargs)\n",
      "/home/user/anaconda3/envs/bayes/lib/python3.9/site-packages/empiricaldist/empiricaldist.py:479: FutureWarning: The behavior of Pmf.idxmax with all-NA values, or any-NA and skipna=False, is deprecated. In a future version this will raise ValueError\n",
      "  return self.idxmax(**kwargs)\n",
      "/home/user/anaconda3/envs/bayes/lib/python3.9/site-packages/empiricaldist/empiricaldist.py:479: FutureWarning: The behavior of Pmf.idxmax with all-NA values, or any-NA and skipna=False, is deprecated. In a future version this will raise ValueError\n",
      "  return self.idxmax(**kwargs)\n",
      "/home/user/anaconda3/envs/bayes/lib/python3.9/site-packages/empiricaldist/empiricaldist.py:479: FutureWarning: The behavior of Pmf.idxmax with all-NA values, or any-NA and skipna=False, is deprecated. In a future version this will raise ValueError\n",
      "  return self.idxmax(**kwargs)\n",
      "/home/user/anaconda3/envs/bayes/lib/python3.9/site-packages/empiricaldist/empiricaldist.py:479: FutureWarning: The behavior of Pmf.idxmax with all-NA values, or any-NA and skipna=False, is deprecated. In a future version this will raise ValueError\n",
      "  return self.idxmax(**kwargs)\n",
      "/home/user/anaconda3/envs/bayes/lib/python3.9/site-packages/empiricaldist/empiricaldist.py:479: FutureWarning: The behavior of Pmf.idxmax with all-NA values, or any-NA and skipna=False, is deprecated. In a future version this will raise ValueError\n",
      "  return self.idxmax(**kwargs)\n",
      "/home/user/anaconda3/envs/bayes/lib/python3.9/site-packages/empiricaldist/empiricaldist.py:479: FutureWarning: The behavior of Pmf.idxmax with all-NA values, or any-NA and skipna=False, is deprecated. In a future version this will raise ValueError\n",
      "  return self.idxmax(**kwargs)\n",
      "/home/user/anaconda3/envs/bayes/lib/python3.9/site-packages/empiricaldist/empiricaldist.py:479: FutureWarning: The behavior of Pmf.idxmax with all-NA values, or any-NA and skipna=False, is deprecated. In a future version this will raise ValueError\n",
      "  return self.idxmax(**kwargs)\n",
      "/home/user/anaconda3/envs/bayes/lib/python3.9/site-packages/empiricaldist/empiricaldist.py:479: FutureWarning: The behavior of Pmf.idxmax with all-NA values, or any-NA and skipna=False, is deprecated. In a future version this will raise ValueError\n",
      "  return self.idxmax(**kwargs)\n",
      "/home/user/anaconda3/envs/bayes/lib/python3.9/site-packages/empiricaldist/empiricaldist.py:479: FutureWarning: The behavior of Pmf.idxmax with all-NA values, or any-NA and skipna=False, is deprecated. In a future version this will raise ValueError\n",
      "  return self.idxmax(**kwargs)\n",
      "/home/user/anaconda3/envs/bayes/lib/python3.9/site-packages/empiricaldist/empiricaldist.py:479: FutureWarning: The behavior of Pmf.idxmax with all-NA values, or any-NA and skipna=False, is deprecated. In a future version this will raise ValueError\n",
      "  return self.idxmax(**kwargs)\n",
      "/home/user/anaconda3/envs/bayes/lib/python3.9/site-packages/empiricaldist/empiricaldist.py:479: FutureWarning: The behavior of Pmf.idxmax with all-NA values, or any-NA and skipna=False, is deprecated. In a future version this will raise ValueError\n",
      "  return self.idxmax(**kwargs)\n",
      "/home/user/anaconda3/envs/bayes/lib/python3.9/site-packages/empiricaldist/empiricaldist.py:479: FutureWarning: The behavior of Pmf.idxmax with all-NA values, or any-NA and skipna=False, is deprecated. In a future version this will raise ValueError\n",
      "  return self.idxmax(**kwargs)\n",
      "/home/user/anaconda3/envs/bayes/lib/python3.9/site-packages/empiricaldist/empiricaldist.py:479: FutureWarning: The behavior of Pmf.idxmax with all-NA values, or any-NA and skipna=False, is deprecated. In a future version this will raise ValueError\n",
      "  return self.idxmax(**kwargs)\n",
      "/home/user/anaconda3/envs/bayes/lib/python3.9/site-packages/empiricaldist/empiricaldist.py:479: FutureWarning: The behavior of Pmf.idxmax with all-NA values, or any-NA and skipna=False, is deprecated. In a future version this will raise ValueError\n",
      "  return self.idxmax(**kwargs)\n",
      "/home/user/anaconda3/envs/bayes/lib/python3.9/site-packages/empiricaldist/empiricaldist.py:479: FutureWarning: The behavior of Pmf.idxmax with all-NA values, or any-NA and skipna=False, is deprecated. In a future version this will raise ValueError\n",
      "  return self.idxmax(**kwargs)\n",
      "/home/user/anaconda3/envs/bayes/lib/python3.9/site-packages/empiricaldist/empiricaldist.py:479: FutureWarning: The behavior of Pmf.idxmax with all-NA values, or any-NA and skipna=False, is deprecated. In a future version this will raise ValueError\n",
      "  return self.idxmax(**kwargs)\n",
      "/home/user/anaconda3/envs/bayes/lib/python3.9/site-packages/empiricaldist/empiricaldist.py:479: FutureWarning: The behavior of Pmf.idxmax with all-NA values, or any-NA and skipna=False, is deprecated. In a future version this will raise ValueError\n",
      "  return self.idxmax(**kwargs)\n",
      "/home/user/anaconda3/envs/bayes/lib/python3.9/site-packages/empiricaldist/empiricaldist.py:479: FutureWarning: The behavior of Pmf.idxmax with all-NA values, or any-NA and skipna=False, is deprecated. In a future version this will raise ValueError\n",
      "  return self.idxmax(**kwargs)\n",
      "/home/user/anaconda3/envs/bayes/lib/python3.9/site-packages/empiricaldist/empiricaldist.py:479: FutureWarning: The behavior of Pmf.idxmax with all-NA values, or any-NA and skipna=False, is deprecated. In a future version this will raise ValueError\n",
      "  return self.idxmax(**kwargs)\n",
      "/home/user/anaconda3/envs/bayes/lib/python3.9/site-packages/empiricaldist/empiricaldist.py:479: FutureWarning: The behavior of Pmf.idxmax with all-NA values, or any-NA and skipna=False, is deprecated. In a future version this will raise ValueError\n",
      "  return self.idxmax(**kwargs)\n",
      "/home/user/anaconda3/envs/bayes/lib/python3.9/site-packages/empiricaldist/empiricaldist.py:479: FutureWarning: The behavior of Pmf.idxmax with all-NA values, or any-NA and skipna=False, is deprecated. In a future version this will raise ValueError\n",
      "  return self.idxmax(**kwargs)\n",
      "/home/user/anaconda3/envs/bayes/lib/python3.9/site-packages/empiricaldist/empiricaldist.py:479: FutureWarning: The behavior of Pmf.idxmax with all-NA values, or any-NA and skipna=False, is deprecated. In a future version this will raise ValueError\n",
      "  return self.idxmax(**kwargs)\n",
      "/home/user/anaconda3/envs/bayes/lib/python3.9/site-packages/empiricaldist/empiricaldist.py:479: FutureWarning: The behavior of Pmf.idxmax with all-NA values, or any-NA and skipna=False, is deprecated. In a future version this will raise ValueError\n",
      "  return self.idxmax(**kwargs)\n",
      "/home/user/anaconda3/envs/bayes/lib/python3.9/site-packages/empiricaldist/empiricaldist.py:479: FutureWarning: The behavior of Pmf.idxmax with all-NA values, or any-NA and skipna=False, is deprecated. In a future version this will raise ValueError\n",
      "  return self.idxmax(**kwargs)\n",
      "/home/user/anaconda3/envs/bayes/lib/python3.9/site-packages/empiricaldist/empiricaldist.py:479: FutureWarning: The behavior of Pmf.idxmax with all-NA values, or any-NA and skipna=False, is deprecated. In a future version this will raise ValueError\n",
      "  return self.idxmax(**kwargs)\n",
      "/home/user/anaconda3/envs/bayes/lib/python3.9/site-packages/empiricaldist/empiricaldist.py:479: FutureWarning: The behavior of Pmf.idxmax with all-NA values, or any-NA and skipna=False, is deprecated. In a future version this will raise ValueError\n",
      "  return self.idxmax(**kwargs)\n",
      "/home/user/anaconda3/envs/bayes/lib/python3.9/site-packages/empiricaldist/empiricaldist.py:479: FutureWarning: The behavior of Pmf.idxmax with all-NA values, or any-NA and skipna=False, is deprecated. In a future version this will raise ValueError\n",
      "  return self.idxmax(**kwargs)\n",
      "/home/user/anaconda3/envs/bayes/lib/python3.9/site-packages/empiricaldist/empiricaldist.py:479: FutureWarning: The behavior of Pmf.idxmax with all-NA values, or any-NA and skipna=False, is deprecated. In a future version this will raise ValueError\n",
      "  return self.idxmax(**kwargs)\n",
      "/home/user/anaconda3/envs/bayes/lib/python3.9/site-packages/empiricaldist/empiricaldist.py:479: FutureWarning: The behavior of Pmf.idxmax with all-NA values, or any-NA and skipna=False, is deprecated. In a future version this will raise ValueError\n",
      "  return self.idxmax(**kwargs)\n",
      "/home/user/anaconda3/envs/bayes/lib/python3.9/site-packages/empiricaldist/empiricaldist.py:479: FutureWarning: The behavior of Pmf.idxmax with all-NA values, or any-NA and skipna=False, is deprecated. In a future version this will raise ValueError\n",
      "  return self.idxmax(**kwargs)\n",
      "/home/user/anaconda3/envs/bayes/lib/python3.9/site-packages/empiricaldist/empiricaldist.py:479: FutureWarning: The behavior of Pmf.idxmax with all-NA values, or any-NA and skipna=False, is deprecated. In a future version this will raise ValueError\n",
      "  return self.idxmax(**kwargs)\n",
      "/home/user/anaconda3/envs/bayes/lib/python3.9/site-packages/empiricaldist/empiricaldist.py:479: FutureWarning: The behavior of Pmf.idxmax with all-NA values, or any-NA and skipna=False, is deprecated. In a future version this will raise ValueError\n",
      "  return self.idxmax(**kwargs)\n",
      "/home/user/anaconda3/envs/bayes/lib/python3.9/site-packages/empiricaldist/empiricaldist.py:479: FutureWarning: The behavior of Pmf.idxmax with all-NA values, or any-NA and skipna=False, is deprecated. In a future version this will raise ValueError\n",
      "  return self.idxmax(**kwargs)\n",
      "/home/user/anaconda3/envs/bayes/lib/python3.9/site-packages/empiricaldist/empiricaldist.py:479: FutureWarning: The behavior of Pmf.idxmax with all-NA values, or any-NA and skipna=False, is deprecated. In a future version this will raise ValueError\n",
      "  return self.idxmax(**kwargs)\n",
      "/home/user/anaconda3/envs/bayes/lib/python3.9/site-packages/empiricaldist/empiricaldist.py:479: FutureWarning: The behavior of Pmf.idxmax with all-NA values, or any-NA and skipna=False, is deprecated. In a future version this will raise ValueError\n",
      "  return self.idxmax(**kwargs)\n",
      "/home/user/anaconda3/envs/bayes/lib/python3.9/site-packages/empiricaldist/empiricaldist.py:479: FutureWarning: The behavior of Pmf.idxmax with all-NA values, or any-NA and skipna=False, is deprecated. In a future version this will raise ValueError\n",
      "  return self.idxmax(**kwargs)\n",
      "/home/user/anaconda3/envs/bayes/lib/python3.9/site-packages/empiricaldist/empiricaldist.py:479: FutureWarning: The behavior of Pmf.idxmax with all-NA values, or any-NA and skipna=False, is deprecated. In a future version this will raise ValueError\n",
      "  return self.idxmax(**kwargs)\n",
      "/home/user/anaconda3/envs/bayes/lib/python3.9/site-packages/empiricaldist/empiricaldist.py:479: FutureWarning: The behavior of Pmf.idxmax with all-NA values, or any-NA and skipna=False, is deprecated. In a future version this will raise ValueError\n",
      "  return self.idxmax(**kwargs)\n",
      "/home/user/anaconda3/envs/bayes/lib/python3.9/site-packages/empiricaldist/empiricaldist.py:479: FutureWarning: The behavior of Pmf.idxmax with all-NA values, or any-NA and skipna=False, is deprecated. In a future version this will raise ValueError\n",
      "  return self.idxmax(**kwargs)\n",
      "/home/user/anaconda3/envs/bayes/lib/python3.9/site-packages/empiricaldist/empiricaldist.py:479: FutureWarning: The behavior of Pmf.idxmax with all-NA values, or any-NA and skipna=False, is deprecated. In a future version this will raise ValueError\n",
      "  return self.idxmax(**kwargs)\n",
      "/home/user/anaconda3/envs/bayes/lib/python3.9/site-packages/empiricaldist/empiricaldist.py:479: FutureWarning: The behavior of Pmf.idxmax with all-NA values, or any-NA and skipna=False, is deprecated. In a future version this will raise ValueError\n",
      "  return self.idxmax(**kwargs)\n",
      "/home/user/anaconda3/envs/bayes/lib/python3.9/site-packages/empiricaldist/empiricaldist.py:479: FutureWarning: The behavior of Pmf.idxmax with all-NA values, or any-NA and skipna=False, is deprecated. In a future version this will raise ValueError\n",
      "  return self.idxmax(**kwargs)\n",
      "/home/user/anaconda3/envs/bayes/lib/python3.9/site-packages/empiricaldist/empiricaldist.py:479: FutureWarning: The behavior of Pmf.idxmax with all-NA values, or any-NA and skipna=False, is deprecated. In a future version this will raise ValueError\n",
      "  return self.idxmax(**kwargs)\n",
      "/home/user/anaconda3/envs/bayes/lib/python3.9/site-packages/empiricaldist/empiricaldist.py:479: FutureWarning: The behavior of Pmf.idxmax with all-NA values, or any-NA and skipna=False, is deprecated. In a future version this will raise ValueError\n",
      "  return self.idxmax(**kwargs)\n",
      "/home/user/anaconda3/envs/bayes/lib/python3.9/site-packages/empiricaldist/empiricaldist.py:479: FutureWarning: The behavior of Pmf.idxmax with all-NA values, or any-NA and skipna=False, is deprecated. In a future version this will raise ValueError\n",
      "  return self.idxmax(**kwargs)\n",
      "/home/user/anaconda3/envs/bayes/lib/python3.9/site-packages/empiricaldist/empiricaldist.py:479: FutureWarning: The behavior of Pmf.idxmax with all-NA values, or any-NA and skipna=False, is deprecated. In a future version this will raise ValueError\n",
      "  return self.idxmax(**kwargs)\n",
      "/home/user/anaconda3/envs/bayes/lib/python3.9/site-packages/empiricaldist/empiricaldist.py:479: FutureWarning: The behavior of Pmf.idxmax with all-NA values, or any-NA and skipna=False, is deprecated. In a future version this will raise ValueError\n",
      "  return self.idxmax(**kwargs)\n",
      "/home/user/anaconda3/envs/bayes/lib/python3.9/site-packages/empiricaldist/empiricaldist.py:479: FutureWarning: The behavior of Pmf.idxmax with all-NA values, or any-NA and skipna=False, is deprecated. In a future version this will raise ValueError\n",
      "  return self.idxmax(**kwargs)\n",
      "/home/user/anaconda3/envs/bayes/lib/python3.9/site-packages/empiricaldist/empiricaldist.py:479: FutureWarning: The behavior of Pmf.idxmax with all-NA values, or any-NA and skipna=False, is deprecated. In a future version this will raise ValueError\n",
      "  return self.idxmax(**kwargs)\n",
      "/home/user/anaconda3/envs/bayes/lib/python3.9/site-packages/empiricaldist/empiricaldist.py:479: FutureWarning: The behavior of Pmf.idxmax with all-NA values, or any-NA and skipna=False, is deprecated. In a future version this will raise ValueError\n",
      "  return self.idxmax(**kwargs)\n",
      "/home/user/anaconda3/envs/bayes/lib/python3.9/site-packages/empiricaldist/empiricaldist.py:479: FutureWarning: The behavior of Pmf.idxmax with all-NA values, or any-NA and skipna=False, is deprecated. In a future version this will raise ValueError\n",
      "  return self.idxmax(**kwargs)\n",
      "/home/user/anaconda3/envs/bayes/lib/python3.9/site-packages/empiricaldist/empiricaldist.py:479: FutureWarning: The behavior of Pmf.idxmax with all-NA values, or any-NA and skipna=False, is deprecated. In a future version this will raise ValueError\n",
      "  return self.idxmax(**kwargs)\n",
      "/home/user/anaconda3/envs/bayes/lib/python3.9/site-packages/empiricaldist/empiricaldist.py:479: FutureWarning: The behavior of Pmf.idxmax with all-NA values, or any-NA and skipna=False, is deprecated. In a future version this will raise ValueError\n",
      "  return self.idxmax(**kwargs)\n",
      "/home/user/anaconda3/envs/bayes/lib/python3.9/site-packages/empiricaldist/empiricaldist.py:479: FutureWarning: The behavior of Pmf.idxmax with all-NA values, or any-NA and skipna=False, is deprecated. In a future version this will raise ValueError\n",
      "  return self.idxmax(**kwargs)\n",
      "/home/user/anaconda3/envs/bayes/lib/python3.9/site-packages/empiricaldist/empiricaldist.py:479: FutureWarning: The behavior of Pmf.idxmax with all-NA values, or any-NA and skipna=False, is deprecated. In a future version this will raise ValueError\n",
      "  return self.idxmax(**kwargs)\n",
      "/home/user/anaconda3/envs/bayes/lib/python3.9/site-packages/empiricaldist/empiricaldist.py:479: FutureWarning: The behavior of Pmf.idxmax with all-NA values, or any-NA and skipna=False, is deprecated. In a future version this will raise ValueError\n",
      "  return self.idxmax(**kwargs)\n",
      "/home/user/anaconda3/envs/bayes/lib/python3.9/site-packages/empiricaldist/empiricaldist.py:479: FutureWarning: The behavior of Pmf.idxmax with all-NA values, or any-NA and skipna=False, is deprecated. In a future version this will raise ValueError\n",
      "  return self.idxmax(**kwargs)\n",
      "/home/user/anaconda3/envs/bayes/lib/python3.9/site-packages/empiricaldist/empiricaldist.py:479: FutureWarning: The behavior of Pmf.idxmax with all-NA values, or any-NA and skipna=False, is deprecated. In a future version this will raise ValueError\n",
      "  return self.idxmax(**kwargs)\n",
      "/home/user/anaconda3/envs/bayes/lib/python3.9/site-packages/empiricaldist/empiricaldist.py:479: FutureWarning: The behavior of Pmf.idxmax with all-NA values, or any-NA and skipna=False, is deprecated. In a future version this will raise ValueError\n",
      "  return self.idxmax(**kwargs)\n",
      "/home/user/anaconda3/envs/bayes/lib/python3.9/site-packages/empiricaldist/empiricaldist.py:479: FutureWarning: The behavior of Pmf.idxmax with all-NA values, or any-NA and skipna=False, is deprecated. In a future version this will raise ValueError\n",
      "  return self.idxmax(**kwargs)\n",
      "/home/user/anaconda3/envs/bayes/lib/python3.9/site-packages/empiricaldist/empiricaldist.py:479: FutureWarning: The behavior of Pmf.idxmax with all-NA values, or any-NA and skipna=False, is deprecated. In a future version this will raise ValueError\n",
      "  return self.idxmax(**kwargs)\n",
      "/home/user/anaconda3/envs/bayes/lib/python3.9/site-packages/empiricaldist/empiricaldist.py:479: FutureWarning: The behavior of Pmf.idxmax with all-NA values, or any-NA and skipna=False, is deprecated. In a future version this will raise ValueError\n",
      "  return self.idxmax(**kwargs)\n",
      "/home/user/anaconda3/envs/bayes/lib/python3.9/site-packages/empiricaldist/empiricaldist.py:479: FutureWarning: The behavior of Pmf.idxmax with all-NA values, or any-NA and skipna=False, is deprecated. In a future version this will raise ValueError\n",
      "  return self.idxmax(**kwargs)\n",
      "/home/user/anaconda3/envs/bayes/lib/python3.9/site-packages/empiricaldist/empiricaldist.py:479: FutureWarning: The behavior of Pmf.idxmax with all-NA values, or any-NA and skipna=False, is deprecated. In a future version this will raise ValueError\n",
      "  return self.idxmax(**kwargs)\n",
      "/home/user/anaconda3/envs/bayes/lib/python3.9/site-packages/empiricaldist/empiricaldist.py:479: FutureWarning: The behavior of Pmf.idxmax with all-NA values, or any-NA and skipna=False, is deprecated. In a future version this will raise ValueError\n",
      "  return self.idxmax(**kwargs)\n",
      "/home/user/anaconda3/envs/bayes/lib/python3.9/site-packages/empiricaldist/empiricaldist.py:479: FutureWarning: The behavior of Pmf.idxmax with all-NA values, or any-NA and skipna=False, is deprecated. In a future version this will raise ValueError\n",
      "  return self.idxmax(**kwargs)\n",
      "/home/user/anaconda3/envs/bayes/lib/python3.9/site-packages/empiricaldist/empiricaldist.py:479: FutureWarning: The behavior of Pmf.idxmax with all-NA values, or any-NA and skipna=False, is deprecated. In a future version this will raise ValueError\n",
      "  return self.idxmax(**kwargs)\n",
      "/home/user/anaconda3/envs/bayes/lib/python3.9/site-packages/empiricaldist/empiricaldist.py:479: FutureWarning: The behavior of Pmf.idxmax with all-NA values, or any-NA and skipna=False, is deprecated. In a future version this will raise ValueError\n",
      "  return self.idxmax(**kwargs)\n",
      "/home/user/anaconda3/envs/bayes/lib/python3.9/site-packages/empiricaldist/empiricaldist.py:479: FutureWarning: The behavior of Pmf.idxmax with all-NA values, or any-NA and skipna=False, is deprecated. In a future version this will raise ValueError\n",
      "  return self.idxmax(**kwargs)\n",
      "/home/user/anaconda3/envs/bayes/lib/python3.9/site-packages/empiricaldist/empiricaldist.py:479: FutureWarning: The behavior of Pmf.idxmax with all-NA values, or any-NA and skipna=False, is deprecated. In a future version this will raise ValueError\n",
      "  return self.idxmax(**kwargs)\n",
      "/home/user/anaconda3/envs/bayes/lib/python3.9/site-packages/empiricaldist/empiricaldist.py:479: FutureWarning: The behavior of Pmf.idxmax with all-NA values, or any-NA and skipna=False, is deprecated. In a future version this will raise ValueError\n",
      "  return self.idxmax(**kwargs)\n",
      "/home/user/anaconda3/envs/bayes/lib/python3.9/site-packages/empiricaldist/empiricaldist.py:479: FutureWarning: The behavior of Pmf.idxmax with all-NA values, or any-NA and skipna=False, is deprecated. In a future version this will raise ValueError\n",
      "  return self.idxmax(**kwargs)\n",
      "/home/user/anaconda3/envs/bayes/lib/python3.9/site-packages/empiricaldist/empiricaldist.py:479: FutureWarning: The behavior of Pmf.idxmax with all-NA values, or any-NA and skipna=False, is deprecated. In a future version this will raise ValueError\n",
      "  return self.idxmax(**kwargs)\n",
      "/home/user/anaconda3/envs/bayes/lib/python3.9/site-packages/empiricaldist/empiricaldist.py:479: FutureWarning: The behavior of Pmf.idxmax with all-NA values, or any-NA and skipna=False, is deprecated. In a future version this will raise ValueError\n",
      "  return self.idxmax(**kwargs)\n",
      "/home/user/anaconda3/envs/bayes/lib/python3.9/site-packages/empiricaldist/empiricaldist.py:479: FutureWarning: The behavior of Pmf.idxmax with all-NA values, or any-NA and skipna=False, is deprecated. In a future version this will raise ValueError\n",
      "  return self.idxmax(**kwargs)\n",
      "/home/user/anaconda3/envs/bayes/lib/python3.9/site-packages/empiricaldist/empiricaldist.py:479: FutureWarning: The behavior of Pmf.idxmax with all-NA values, or any-NA and skipna=False, is deprecated. In a future version this will raise ValueError\n",
      "  return self.idxmax(**kwargs)\n",
      "/home/user/anaconda3/envs/bayes/lib/python3.9/site-packages/empiricaldist/empiricaldist.py:479: FutureWarning: The behavior of Pmf.idxmax with all-NA values, or any-NA and skipna=False, is deprecated. In a future version this will raise ValueError\n",
      "  return self.idxmax(**kwargs)\n",
      "/home/user/anaconda3/envs/bayes/lib/python3.9/site-packages/empiricaldist/empiricaldist.py:479: FutureWarning: The behavior of Pmf.idxmax with all-NA values, or any-NA and skipna=False, is deprecated. In a future version this will raise ValueError\n",
      "  return self.idxmax(**kwargs)\n"
     ]
    }
   ],
   "source": [
    "# 나이브 베이즈\n",
    "\n",
    "colnames4 = ['Culmen Length (mm)','Culmen Depth (mm)', 'Flipper Length (mm)', 'Body Mass (g)']\n",
    "\n",
    "depth_map = make_norm_map(df, 'Culmen Depth (mm)')\n",
    "mass_map = make_norm_map(df, 'Body Mass (g)')\n",
    "norm_maps4 = [culmen_map, flipper_map, depth_map, mass_map]\n",
    "\n",
    "df['Classification'] = 'None'\n",
    "for i, row in df.iterrows():\n",
    "    data_seq = row[colnames4]\n",
    "    posterior = update_naive(prior, data_seq, norm_maps4)\n",
    "    df.loc[i, 'Classification'] = posterior.max_prob()"
   ]
  },
  {
   "cell_type": "code",
   "execution_count": 43,
   "metadata": {},
   "outputs": [
    {
     "name": "stderr",
     "output_type": "stream",
     "text": [
      "/tmp/ipykernel_13141/2595680106.py:4: RuntimeWarning: invalid value encountered in scalar divide\n",
      "  return same.sum()/valid.sum()\n"
     ]
    },
    {
     "data": {
      "text/plain": [
       "nan"
      ]
     },
     "execution_count": 43,
     "metadata": {},
     "output_type": "execute_result"
    }
   ],
   "source": [
    "accuracy(df)"
   ]
  },
  {
   "cell_type": "code",
   "execution_count": null,
   "metadata": {},
   "outputs": [],
   "source": []
  }
 ],
 "metadata": {
  "kernelspec": {
   "display_name": "bayes",
   "language": "python",
   "name": "python3"
  },
  "language_info": {
   "codemirror_mode": {
    "name": "ipython",
    "version": 3
   },
   "file_extension": ".py",
   "mimetype": "text/x-python",
   "name": "python",
   "nbconvert_exporter": "python",
   "pygments_lexer": "ipython3",
   "version": "3.9.18"
  }
 },
 "nbformat": 4,
 "nbformat_minor": 2
}
