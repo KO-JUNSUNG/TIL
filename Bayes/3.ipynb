{
 "cells": [
  {
   "cell_type": "markdown",
   "metadata": {},
   "source": [
    "# 다시 만난 쿠키 문제\n",
    "\n",
    "- 이번에는 쿠키 문제를 PMF(확률질량함수; Probability Massive Function)를 사용해 다시 풀어보겠다. \n",
    "- 확률질량함수를 사용하기 위해 다음과 같이 라이브러리를 호출하자.\n",
    "\n",
    "```python\n",
    "from empiricaldist import Pmf\n",
    "```\n",
    "\n",
    "쿠키그릇 2개가 있고, 하나는 바닐라 30개, 초코 10개가 들어있다. 다른 하나에는 바닐라 20개, 초코 20개가 들어있다. \n",
    "어떤 그릇인지 확인하지 않고 임의로 그릇을 하나 골라서 거기에서 쿠키를 하나 집었다고 하자. 그 때 그 쿠키가 바닐라 쿠키였다면, 이 바닐라 쿠키가 1번 그릇에서 나왔을 확률은 얼마일까?"
   ]
  },
  {
   "cell_type": "code",
   "execution_count": 5,
   "metadata": {},
   "outputs": [
    {
     "name": "stdout",
     "output_type": "stream",
     "text": [
      "Bowl 1    0.375\n",
      "Bowl 2    0.250\n",
      "Name: proportion, dtype: float64\n"
     ]
    }
   ],
   "source": [
    "from empiricaldist import Pmf\n",
    "\n",
    "prior = Pmf.from_seq(['Bowl 1', 'Bowl 2'])\n",
    "likelihood_vanilla = [0.75, 0.5]\n",
    "posterior = prior * likelihood_vanilla\n",
    "print(posterior)"
   ]
  },
  {
   "cell_type": "code",
   "execution_count": 6,
   "metadata": {},
   "outputs": [
    {
     "data": {
      "text/plain": [
       "0.625"
      ]
     },
     "execution_count": 6,
     "metadata": {},
     "output_type": "execute_result"
    }
   ],
   "source": [
    "posterior.normalize()"
   ]
  },
  {
   "cell_type": "code",
   "execution_count": 7,
   "metadata": {},
   "outputs": [
    {
     "data": {
      "text/html": [
       "<div>\n",
       "<style scoped>\n",
       "    .dataframe tbody tr th:only-of-type {\n",
       "        vertical-align: middle;\n",
       "    }\n",
       "\n",
       "    .dataframe tbody tr th {\n",
       "        vertical-align: top;\n",
       "    }\n",
       "\n",
       "    .dataframe thead th {\n",
       "        text-align: right;\n",
       "    }\n",
       "</style>\n",
       "<table border=\"1\" class=\"dataframe\">\n",
       "  <thead>\n",
       "    <tr style=\"text-align: right;\">\n",
       "      <th></th>\n",
       "      <th>probs</th>\n",
       "    </tr>\n",
       "  </thead>\n",
       "  <tbody>\n",
       "    <tr>\n",
       "      <th>Bowl 1</th>\n",
       "      <td>0.6</td>\n",
       "    </tr>\n",
       "    <tr>\n",
       "      <th>Bowl 2</th>\n",
       "      <td>0.4</td>\n",
       "    </tr>\n",
       "  </tbody>\n",
       "</table>\n",
       "</div>"
      ],
      "text/plain": [
       "Bowl 1    0.6\n",
       "Bowl 2    0.4\n",
       "Name: proportion, dtype: float64"
      ]
     },
     "execution_count": 7,
     "metadata": {},
     "output_type": "execute_result"
    }
   ],
   "source": [
    "posterior"
   ]
  },
  {
   "cell_type": "markdown",
   "metadata": {},
   "source": [
    "저자에 따르면, Pmf 객체는 베이즈테이블을 사용할 때보다 더 많은 데이터에 대해 갱신이 쉽다고 한다. \n",
    "예를 들어, 꺼냈던 쿠키를 다시 넣고 같은 그릇에서 쿠키를 꺼냈을 때 이 쿠키가 바닐라라면 다음과 같이 갱신을 할 수 있다."
   ]
  },
  {
   "cell_type": "code",
   "execution_count": 8,
   "metadata": {},
   "outputs": [
    {
     "data": {
      "text/html": [
       "<div>\n",
       "<style scoped>\n",
       "    .dataframe tbody tr th:only-of-type {\n",
       "        vertical-align: middle;\n",
       "    }\n",
       "\n",
       "    .dataframe tbody tr th {\n",
       "        vertical-align: top;\n",
       "    }\n",
       "\n",
       "    .dataframe thead th {\n",
       "        text-align: right;\n",
       "    }\n",
       "</style>\n",
       "<table border=\"1\" class=\"dataframe\">\n",
       "  <thead>\n",
       "    <tr style=\"text-align: right;\">\n",
       "      <th></th>\n",
       "      <th>probs</th>\n",
       "    </tr>\n",
       "  </thead>\n",
       "  <tbody>\n",
       "    <tr>\n",
       "      <th>Bowl 1</th>\n",
       "      <td>0.692308</td>\n",
       "    </tr>\n",
       "    <tr>\n",
       "      <th>Bowl 2</th>\n",
       "      <td>0.307692</td>\n",
       "    </tr>\n",
       "  </tbody>\n",
       "</table>\n",
       "</div>"
      ],
      "text/plain": [
       "Bowl 1    0.692308\n",
       "Bowl 2    0.307692\n",
       "Name: proportion, dtype: float64"
      ]
     },
     "execution_count": 8,
     "metadata": {},
     "output_type": "execute_result"
    }
   ],
   "source": [
    "posterior *= likelihood_vanilla \n",
    "posterior.normalize()\n",
    "posterior"
   ]
  },
  {
   "cell_type": "markdown",
   "metadata": {},
   "source": [
    "이제 그릇 1의 사후확률은 거의 70%가 되었다. 하지만 다시 이와 동일한 행동을 했고 이번엔 초콜릿 쿠키가 나왔다.\n",
    "새로운 데이터에 대한 가능도는 다음과 같다."
   ]
  },
  {
   "cell_type": "code",
   "execution_count": 9,
   "metadata": {},
   "outputs": [
    {
     "data": {
      "text/html": [
       "<div>\n",
       "<style scoped>\n",
       "    .dataframe tbody tr th:only-of-type {\n",
       "        vertical-align: middle;\n",
       "    }\n",
       "\n",
       "    .dataframe tbody tr th {\n",
       "        vertical-align: top;\n",
       "    }\n",
       "\n",
       "    .dataframe thead th {\n",
       "        text-align: right;\n",
       "    }\n",
       "</style>\n",
       "<table border=\"1\" class=\"dataframe\">\n",
       "  <thead>\n",
       "    <tr style=\"text-align: right;\">\n",
       "      <th></th>\n",
       "      <th>probs</th>\n",
       "    </tr>\n",
       "  </thead>\n",
       "  <tbody>\n",
       "    <tr>\n",
       "      <th>Bowl 1</th>\n",
       "      <td>0.529412</td>\n",
       "    </tr>\n",
       "    <tr>\n",
       "      <th>Bowl 2</th>\n",
       "      <td>0.470588</td>\n",
       "    </tr>\n",
       "  </tbody>\n",
       "</table>\n",
       "</div>"
      ],
      "text/plain": [
       "Bowl 1    0.529412\n",
       "Bowl 2    0.470588\n",
       "Name: proportion, dtype: float64"
      ]
     },
     "execution_count": 9,
     "metadata": {},
     "output_type": "execute_result"
    }
   ],
   "source": [
    "likelihood_chocolate = [0.25,0.5]\n",
    "posterior *= likelihood_chocolate\n",
    "posterior.normalize()\n",
    "posterior"
   ]
  },
  {
   "cell_type": "markdown",
   "metadata": {},
   "source": [
    "그릇 1의 사후확률은 약 53%이다. 두 개의 바닐라쿠키와 한 개의 초콜릿쿠키를 꺼낸 후 사후확률은 50:50에 보다 가깝게 되었다."
   ]
  },
  {
   "cell_type": "markdown",
   "metadata": {},
   "source": [
    "# 101개의 쿠키 그릇\n",
    "\n",
    "이번에는 101개의 쿠키그릇 문제를 풀어보자.\n",
    "- 그릇 0에는 바닐라쿠키가 0% 있다.\n",
    "- 그릇 1에는 바닐라쿠키가 1% 있다.\n",
    "- 그릇 2에는 바닐라쿠키가 2% 있다.\n",
    "- ...그릇 99에는 바닐라쿠키가 99%, 그릇 100에는 바닐라쿠키만 있다.\n",
    "- 여기서 임의의 그릇을 골라서 임의의 쿠키를 꺼냈는데, 이 쿠키가 바닐라쿠키였다. 이 때 각 값 x에 대해 그릇 x에서 쿠키가 나왔을 확률은 얼마일까?"
   ]
  },
  {
   "cell_type": "code",
   "execution_count": 10,
   "metadata": {},
   "outputs": [
    {
     "name": "stdout",
     "output_type": "stream",
     "text": [
      "[  0   1   2   3   4   5   6   7   8   9  10  11  12  13  14  15  16  17\n",
      "  18  19  20  21  22  23  24  25  26  27  28  29  30  31  32  33  34  35\n",
      "  36  37  38  39  40  41  42  43  44  45  46  47  48  49  50  51  52  53\n",
      "  54  55  56  57  58  59  60  61  62  63  64  65  66  67  68  69  70  71\n",
      "  72  73  74  75  76  77  78  79  80  81  82  83  84  85  86  87  88  89\n",
      "  90  91  92  93  94  95  96  97  98  99 100]\n"
     ]
    },
    {
     "data": {
      "text/plain": [
       "101"
      ]
     },
     "execution_count": 10,
     "metadata": {},
     "output_type": "execute_result"
    }
   ],
   "source": [
    "import numpy as np\n",
    "\n",
    "hypos = np.arange(101)\n",
    "print(hypos)\n",
    "prior = Pmf(1,hypos) # Pmf(prior, sequence)\n",
    "prior.normalize()"
   ]
  },
  {
   "cell_type": "code",
   "execution_count": 11,
   "metadata": {},
   "outputs": [
    {
     "data": {
      "text/html": [
       "<div>\n",
       "<style scoped>\n",
       "    .dataframe tbody tr th:only-of-type {\n",
       "        vertical-align: middle;\n",
       "    }\n",
       "\n",
       "    .dataframe tbody tr th {\n",
       "        vertical-align: top;\n",
       "    }\n",
       "\n",
       "    .dataframe thead th {\n",
       "        text-align: right;\n",
       "    }\n",
       "</style>\n",
       "<table border=\"1\" class=\"dataframe\">\n",
       "  <thead>\n",
       "    <tr style=\"text-align: right;\">\n",
       "      <th></th>\n",
       "      <th>probs</th>\n",
       "    </tr>\n",
       "  </thead>\n",
       "  <tbody>\n",
       "    <tr>\n",
       "      <th>0</th>\n",
       "      <td>0.009901</td>\n",
       "    </tr>\n",
       "    <tr>\n",
       "      <th>1</th>\n",
       "      <td>0.009901</td>\n",
       "    </tr>\n",
       "    <tr>\n",
       "      <th>2</th>\n",
       "      <td>0.009901</td>\n",
       "    </tr>\n",
       "  </tbody>\n",
       "</table>\n",
       "</div>"
      ],
      "text/plain": [
       "0    0.009901\n",
       "1    0.009901\n",
       "2    0.009901\n",
       "dtype: float64"
      ]
     },
     "execution_count": 11,
     "metadata": {},
     "output_type": "execute_result"
    }
   ],
   "source": [
    "prior.head()"
   ]
  },
  {
   "cell_type": "code",
   "execution_count": 12,
   "metadata": {},
   "outputs": [
    {
     "data": {
      "text/plain": [
       "array([0.  , 0.01, 0.02, 0.03, 0.04])"
      ]
     },
     "execution_count": 12,
     "metadata": {},
     "output_type": "execute_result"
    }
   ],
   "source": [
    "# 데이터의 가능도 = 각 그릇에 있는 바닐라 쿠키의 비율\n",
    "likelihood_vanilla = hypos/100\n",
    "likelihood_vanilla[:5]"
   ]
  },
  {
   "cell_type": "code",
   "execution_count": 13,
   "metadata": {},
   "outputs": [
    {
     "data": {
      "text/html": [
       "<div>\n",
       "<style scoped>\n",
       "    .dataframe tbody tr th:only-of-type {\n",
       "        vertical-align: middle;\n",
       "    }\n",
       "\n",
       "    .dataframe tbody tr th {\n",
       "        vertical-align: top;\n",
       "    }\n",
       "\n",
       "    .dataframe thead th {\n",
       "        text-align: right;\n",
       "    }\n",
       "</style>\n",
       "<table border=\"1\" class=\"dataframe\">\n",
       "  <thead>\n",
       "    <tr style=\"text-align: right;\">\n",
       "      <th></th>\n",
       "      <th>probs</th>\n",
       "    </tr>\n",
       "  </thead>\n",
       "  <tbody>\n",
       "    <tr>\n",
       "      <th>0</th>\n",
       "      <td>0.000000</td>\n",
       "    </tr>\n",
       "    <tr>\n",
       "      <th>1</th>\n",
       "      <td>0.000198</td>\n",
       "    </tr>\n",
       "    <tr>\n",
       "      <th>2</th>\n",
       "      <td>0.000396</td>\n",
       "    </tr>\n",
       "  </tbody>\n",
       "</table>\n",
       "</div>"
      ],
      "text/plain": [
       "0    0.000000\n",
       "1    0.000198\n",
       "2    0.000396\n",
       "dtype: float64"
      ]
     },
     "execution_count": 13,
     "metadata": {},
     "output_type": "execute_result"
    }
   ],
   "source": [
    "posterior1 = prior * likelihood_vanilla\n",
    "posterior1.normalize()\n",
    "posterior1.head()"
   ]
  },
  {
   "cell_type": "code",
   "execution_count": 24,
   "metadata": {},
   "outputs": [
    {
     "data": {
      "text/plain": [
       "0.2462686567164179"
      ]
     },
     "execution_count": 24,
     "metadata": {},
     "output_type": "execute_result"
    }
   ],
   "source": [
    "# 잡은 쿠키를 돌려놓고, 동일한 그릇에서 한번 더 뽑았을 때\n",
    "posterior2 = posterior1 * likelihood_vanilla\n",
    "posterior2.normalize()\n",
    "\n",
    "likelihood_chocolate = 1 - hypos/100\n",
    "posterior3 = posterior2 * likelihood_chocolate\n",
    "posterior3.normalize()"
   ]
  },
  {
   "cell_type": "code",
   "execution_count": 25,
   "metadata": {},
   "outputs": [
    {
     "data": {
      "text/plain": [
       "67"
      ]
     },
     "execution_count": 25,
     "metadata": {},
     "output_type": "execute_result"
    }
   ],
   "source": [
    "posterior3.idxmax()"
   ]
  },
  {
   "cell_type": "markdown",
   "metadata": {},
   "source": [
    "# 주사위 문제\n",
    "\n",
    "앞서 베이즈테이블로 풀어보았던 주사위 문제를 Pmf 를 사용해서 풀어보자.\n",
    "- 6면체, 8면체, 12면체 주사위가 든 상자가 있다고 할 때 이 중 주사위 하나를 임의로 집어 굴렸더니 1이 나왔다. 6면체 주사위를 굴렸을 확률은 얼마일까?"
   ]
  },
  {
   "cell_type": "code",
   "execution_count": 26,
   "metadata": {},
   "outputs": [
    {
     "data": {
      "text/html": [
       "<div>\n",
       "<style scoped>\n",
       "    .dataframe tbody tr th:only-of-type {\n",
       "        vertical-align: middle;\n",
       "    }\n",
       "\n",
       "    .dataframe tbody tr th {\n",
       "        vertical-align: top;\n",
       "    }\n",
       "\n",
       "    .dataframe thead th {\n",
       "        text-align: right;\n",
       "    }\n",
       "</style>\n",
       "<table border=\"1\" class=\"dataframe\">\n",
       "  <thead>\n",
       "    <tr style=\"text-align: right;\">\n",
       "      <th></th>\n",
       "      <th>probs</th>\n",
       "    </tr>\n",
       "  </thead>\n",
       "  <tbody>\n",
       "    <tr>\n",
       "      <th>6</th>\n",
       "      <td>0.333333</td>\n",
       "    </tr>\n",
       "    <tr>\n",
       "      <th>8</th>\n",
       "      <td>0.333333</td>\n",
       "    </tr>\n",
       "    <tr>\n",
       "      <th>12</th>\n",
       "      <td>0.333333</td>\n",
       "    </tr>\n",
       "  </tbody>\n",
       "</table>\n",
       "</div>"
      ],
      "text/plain": [
       "6     0.333333\n",
       "8     0.333333\n",
       "12    0.333333\n",
       "dtype: float64"
      ]
     },
     "execution_count": 26,
     "metadata": {},
     "output_type": "execute_result"
    }
   ],
   "source": [
    "hypos = [6,8,12]\n",
    "prior = Pmf(1/3, hypos)\n",
    "prior"
   ]
  },
  {
   "cell_type": "code",
   "execution_count": 27,
   "metadata": {},
   "outputs": [
    {
     "name": "stdout",
     "output_type": "stream",
     "text": [
      "[ 6  8 12]\n",
      "[0.33333333 0.33333333 0.33333333]\n"
     ]
    }
   ],
   "source": [
    "# Pmf 객체의 두 가지 속성, qs = 분포에 포함되는 원소; ps = 이에 해당하는 확률\n",
    "print(prior.qs)\n",
    "print(prior.ps)"
   ]
  },
  {
   "cell_type": "code",
   "execution_count": 29,
   "metadata": {},
   "outputs": [
    {
     "data": {
      "text/html": [
       "<div>\n",
       "<style scoped>\n",
       "    .dataframe tbody tr th:only-of-type {\n",
       "        vertical-align: middle;\n",
       "    }\n",
       "\n",
       "    .dataframe tbody tr th {\n",
       "        vertical-align: top;\n",
       "    }\n",
       "\n",
       "    .dataframe thead th {\n",
       "        text-align: right;\n",
       "    }\n",
       "</style>\n",
       "<table border=\"1\" class=\"dataframe\">\n",
       "  <thead>\n",
       "    <tr style=\"text-align: right;\">\n",
       "      <th></th>\n",
       "      <th>probs</th>\n",
       "    </tr>\n",
       "  </thead>\n",
       "  <tbody>\n",
       "    <tr>\n",
       "      <th>6</th>\n",
       "      <td>0.444444</td>\n",
       "    </tr>\n",
       "    <tr>\n",
       "      <th>8</th>\n",
       "      <td>0.333333</td>\n",
       "    </tr>\n",
       "    <tr>\n",
       "      <th>12</th>\n",
       "      <td>0.222222</td>\n",
       "    </tr>\n",
       "  </tbody>\n",
       "</table>\n",
       "</div>"
      ],
      "text/plain": [
       "6     0.444444\n",
       "8     0.333333\n",
       "12    0.222222\n",
       "dtype: float64"
      ]
     },
     "execution_count": 29,
     "metadata": {},
     "output_type": "execute_result"
    }
   ],
   "source": [
    "likelihood1 = 1/6, 1/8, 1/12\n",
    "posterior = prior * likelihood1\n",
    "posterior.normalize()\n",
    "posterior"
   ]
  },
  {
   "cell_type": "code",
   "execution_count": 30,
   "metadata": {},
   "outputs": [
    {
     "data": {
      "text/plain": [
       "(0.16666666666666666, 0.125, 0.08333333333333333)"
      ]
     },
     "execution_count": 30,
     "metadata": {},
     "output_type": "execute_result"
    }
   ],
   "source": [
    "likelihood1"
   ]
  },
  {
   "cell_type": "markdown",
   "metadata": {},
   "source": [
    "이 주사위에서 이번에는 7의 숫자가 나왔다 하자. 그렇다면 이 때의 가능도는 다음과 같다."
   ]
  },
  {
   "cell_type": "code",
   "execution_count": 31,
   "metadata": {},
   "outputs": [
    {
     "data": {
      "text/html": [
       "<div>\n",
       "<style scoped>\n",
       "    .dataframe tbody tr th:only-of-type {\n",
       "        vertical-align: middle;\n",
       "    }\n",
       "\n",
       "    .dataframe tbody tr th {\n",
       "        vertical-align: top;\n",
       "    }\n",
       "\n",
       "    .dataframe thead th {\n",
       "        text-align: right;\n",
       "    }\n",
       "</style>\n",
       "<table border=\"1\" class=\"dataframe\">\n",
       "  <thead>\n",
       "    <tr style=\"text-align: right;\">\n",
       "      <th></th>\n",
       "      <th>probs</th>\n",
       "    </tr>\n",
       "  </thead>\n",
       "  <tbody>\n",
       "    <tr>\n",
       "      <th>6</th>\n",
       "      <td>0.000000</td>\n",
       "    </tr>\n",
       "    <tr>\n",
       "      <th>8</th>\n",
       "      <td>0.692308</td>\n",
       "    </tr>\n",
       "    <tr>\n",
       "      <th>12</th>\n",
       "      <td>0.307692</td>\n",
       "    </tr>\n",
       "  </tbody>\n",
       "</table>\n",
       "</div>"
      ],
      "text/plain": [
       "6     0.000000\n",
       "8     0.692308\n",
       "12    0.307692\n",
       "dtype: float64"
      ]
     },
     "execution_count": 31,
     "metadata": {},
     "output_type": "execute_result"
    }
   ],
   "source": [
    "likelihood2 = 0, 1/8, 1/12\n",
    "posterior *= likelihood2\n",
    "posterior.normalize()\n",
    "posterior"
   ]
  },
  {
   "cell_type": "code",
   "execution_count": 41,
   "metadata": {},
   "outputs": [],
   "source": [
    "def update_dice(pmf:tuple,data):\n",
    "    \"\"\"새로운 데이터를 기반으로 pmf를 갱신함\n",
    "    - pmf: (가능한 주사위, 각각의 확률)\n",
    "    - data: 주사위를 굴렸을 떄의 결과값\n",
    "    \"\"\"\n",
    "    hypos = pmf.qs\n",
    "    likelihood = 1/ hypos\n",
    "    impossible = (data > hypos)\n",
    "    likelihood[impossible] = 0\n",
    "    print(pmf)\n",
    "    pmf *= likelihood\n",
    "    print(pmf)\n",
    "    pmf.normalize()"
   ]
  },
  {
   "cell_type": "code",
   "execution_count": 33,
   "metadata": {},
   "outputs": [
    {
     "data": {
      "text/html": [
       "<div>\n",
       "<style scoped>\n",
       "    .dataframe tbody tr th:only-of-type {\n",
       "        vertical-align: middle;\n",
       "    }\n",
       "\n",
       "    .dataframe tbody tr th {\n",
       "        vertical-align: top;\n",
       "    }\n",
       "\n",
       "    .dataframe thead th {\n",
       "        text-align: right;\n",
       "    }\n",
       "</style>\n",
       "<table border=\"1\" class=\"dataframe\">\n",
       "  <thead>\n",
       "    <tr style=\"text-align: right;\">\n",
       "      <th></th>\n",
       "      <th>probs</th>\n",
       "    </tr>\n",
       "  </thead>\n",
       "  <tbody>\n",
       "    <tr>\n",
       "      <th>6</th>\n",
       "      <td>0.333333</td>\n",
       "    </tr>\n",
       "    <tr>\n",
       "      <th>8</th>\n",
       "      <td>0.333333</td>\n",
       "    </tr>\n",
       "    <tr>\n",
       "      <th>12</th>\n",
       "      <td>0.333333</td>\n",
       "    </tr>\n",
       "  </tbody>\n",
       "</table>\n",
       "</div>"
      ],
      "text/plain": [
       "6     0.333333\n",
       "8     0.333333\n",
       "12    0.333333\n",
       "dtype: float64"
      ]
     },
     "execution_count": 33,
     "metadata": {},
     "output_type": "execute_result"
    }
   ],
   "source": [
    "pmf = prior.copy()\n",
    "pmf"
   ]
  },
  {
   "cell_type": "code",
   "execution_count": 34,
   "metadata": {},
   "outputs": [
    {
     "data": {
      "text/html": [
       "<div>\n",
       "<style scoped>\n",
       "    .dataframe tbody tr th:only-of-type {\n",
       "        vertical-align: middle;\n",
       "    }\n",
       "\n",
       "    .dataframe tbody tr th {\n",
       "        vertical-align: top;\n",
       "    }\n",
       "\n",
       "    .dataframe thead th {\n",
       "        text-align: right;\n",
       "    }\n",
       "</style>\n",
       "<table border=\"1\" class=\"dataframe\">\n",
       "  <thead>\n",
       "    <tr style=\"text-align: right;\">\n",
       "      <th></th>\n",
       "      <th>probs</th>\n",
       "    </tr>\n",
       "  </thead>\n",
       "  <tbody>\n",
       "    <tr>\n",
       "      <th>6</th>\n",
       "      <td>0.000000</td>\n",
       "    </tr>\n",
       "    <tr>\n",
       "      <th>8</th>\n",
       "      <td>0.692308</td>\n",
       "    </tr>\n",
       "    <tr>\n",
       "      <th>12</th>\n",
       "      <td>0.307692</td>\n",
       "    </tr>\n",
       "  </tbody>\n",
       "</table>\n",
       "</div>"
      ],
      "text/plain": [
       "6     0.000000\n",
       "8     0.692308\n",
       "12    0.307692\n",
       "dtype: float64"
      ]
     },
     "execution_count": 34,
     "metadata": {},
     "output_type": "execute_result"
    }
   ],
   "source": [
    "update_dice(pmf,1)\n",
    "update_dice(pmf,7)\n",
    "pmf"
   ]
  },
  {
   "cell_type": "markdown",
   "metadata": {},
   "source": [
    "# 문제 3-1\n",
    "\n",
    "- 육면체, 팔면체, 십이면체 주사위가 든 상자가 있다. 여기서 임의로 주사위 하나를 꺼내서 4번 굴렸을 때, 1,3,5,7이 나왔다. 내가 고른 주사위가 팔면체일 확률은 얼마인가?\n",
    "- update_dice 함수를 이용하거나 직접 갱신해도 된다."
   ]
  },
  {
   "cell_type": "code",
   "execution_count": 37,
   "metadata": {},
   "outputs": [
    {
     "name": "stdout",
     "output_type": "stream",
     "text": [
      "6     0.333333\n",
      "8     0.333333\n",
      "12    0.333333\n",
      "dtype: float64\n"
     ]
    }
   ],
   "source": [
    "dice2 = prior.copy()\n",
    "print(dice2)"
   ]
  },
  {
   "cell_type": "code",
   "execution_count": 38,
   "metadata": {},
   "outputs": [
    {
     "name": "stdout",
     "output_type": "stream",
     "text": [
      "6     0.444444\n",
      "8     0.333333\n",
      "12    0.222222\n",
      "dtype: float64\n",
      "6     0.551724\n",
      "8     0.310345\n",
      "12    0.137931\n",
      "dtype: float64\n",
      "6     0.646465\n",
      "8     0.272727\n",
      "12    0.080808\n",
      "dtype: float64\n",
      "6     0.000000\n",
      "8     0.835052\n",
      "12    0.164948\n",
      "dtype: float64\n"
     ]
    }
   ],
   "source": [
    "for i in [1,3,5,7]:\n",
    "    update_dice(dice2, i)\n",
    "    print(dice2)"
   ]
  },
  {
   "cell_type": "markdown",
   "metadata": {},
   "source": [
    "# 문제 3-2\n",
    "\n",
    "- 문제 3-1에서 상자에는 주사위가 종류별로 하나씩 있어 각 주사위의 사전확률이 동일했다. 하지만 이번에는 상자에 사면체 주사위 하나, 육면체 주사위 두 개, 팔면체 주사위 3개, 십이면체 주사위 4개, 이십면체 주사위 5개가 있다. \n",
    "- 이 중 주사위 하나를 골라서 던졌더니 7이 나왔다. 이 때 내가 팔면체 주사위를 골랐을 확률은 얼마일까?\n",
    "- Hint: Pmf()에 두 개의 매개변수를 넣어 사전확률분포를 만들 수 있다."
   ]
  },
  {
   "cell_type": "code",
   "execution_count": 42,
   "metadata": {},
   "outputs": [
    {
     "name": "stdout",
     "output_type": "stream",
     "text": [
      "4     1\n",
      "6     2\n",
      "8     3\n",
      "12    4\n",
      "20    5\n",
      "dtype: int64\n",
      "4     1\n",
      "6     2\n",
      "8     3\n",
      "12    4\n",
      "20    5\n",
      "dtype: int64\n",
      "4     0.000000\n",
      "6     0.000000\n",
      "8     0.375000\n",
      "12    0.333333\n",
      "20    0.250000\n",
      "dtype: float64\n",
      "4     0.000000\n",
      "6     0.000000\n",
      "8     0.391304\n",
      "12    0.347826\n",
      "20    0.260870\n",
      "dtype: float64\n"
     ]
    }
   ],
   "source": [
    "ps = [1,2,3,4,5]\n",
    "qs = [4,6,8,12,20]\n",
    "pmf = Pmf(ps,qs)\n",
    "print(pmf)\n",
    "update_dice(pmf,7)\n",
    "print(pmf)"
   ]
  },
  {
   "cell_type": "markdown",
   "metadata": {},
   "source": [
    "# 문제 3-3\n",
    "\n",
    "- 두 개의 양말 서랍이 있다. 서랍 하나에는 동일한 개수의 검은 양말과 흰 양말이 들어있다. 다른 서랍에는 동일한 개수의 빨간 양말, 녹색 양말, 파랑 양말이 들어있다. 내가 임의로 서랍 하나를 고른 후, 역시 임의로 두 짝의 양말을 골랐는데 짝이 맞았다. 이 때 이 양말이 흰색일 확률은 얼마일까? \n",
    "- 문제를 간단히 하기 위해, 양 서랍에는 매우 많은 양말이 들어 있어 양말 한 짝을 꺼낸 후에도 확률 변화에 거의 영향을 미치지 않는다고 가정하자."
   ]
  },
  {
   "cell_type": "code",
   "execution_count": null,
   "metadata": {},
   "outputs": [],
   "source": []
  },
  {
   "cell_type": "markdown",
   "metadata": {},
   "source": [
    "# 문제 3-4\n",
    "\n",
    "- 앨비스 프레슬리에게 쌍둥이 형제가 있었다(태어날 때 사망). 앨비스 프레슬리가 일란성 쌍둥이일 가능성은 얼마인가?\n",
    "- Hint: 1935년, 쌍둥이의 2/3 가량이 이란성이고 1/3이 일란성이었다."
   ]
  },
  {
   "cell_type": "markdown",
   "metadata": {},
   "source": []
  }
 ],
 "metadata": {
  "kernelspec": {
   "display_name": "base",
   "language": "python",
   "name": "python3"
  },
  "language_info": {
   "codemirror_mode": {
    "name": "ipython",
    "version": 3
   },
   "file_extension": ".py",
   "mimetype": "text/x-python",
   "name": "python",
   "nbconvert_exporter": "python",
   "pygments_lexer": "ipython3",
   "version": "3.9.18"
  }
 },
 "nbformat": 4,
 "nbformat_minor": 2
}
