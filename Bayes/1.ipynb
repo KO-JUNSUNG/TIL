{
 "cells": [
  {
   "cell_type": "code",
   "execution_count": 1,
   "metadata": {},
   "outputs": [],
   "source": [
    "import pandas as pd\n",
    "import numpy as np"
   ]
  },
  {
   "cell_type": "code",
   "execution_count": 2,
   "metadata": {},
   "outputs": [],
   "source": [
    "gss = pd.read_csv('/mnt/d/gss_bayes.csv',header=0, index_col=0)"
   ]
  },
  {
   "cell_type": "code",
   "execution_count": 3,
   "metadata": {},
   "outputs": [],
   "source": [
    "def prob(A: pd.Series) -> float:\n",
    "    \"\"\"\n",
    "    주어진 A의 확률을 계산합니다.\n",
    "    \n",
    "    Parameters:\n",
    "        A (pd.Series): boolean 값을 가진 Series\n",
    "    \n",
    "    Returns:\n",
    "        float: A의 평균 (확률)\n",
    "    \"\"\"\n",
    "    return A.mean()"
   ]
  },
  {
   "cell_type": "code",
   "execution_count": 4,
   "metadata": {},
   "outputs": [],
   "source": [
    "def conditional(proposition, given):\n",
    "    \"\"\"\n",
    "    조건부확률을 계산.\n",
    "    given은 이항boolean series, proposition도 이항 boolean series. \n",
    "    proposition[given] = proposition[boolean indexing] ; \n",
    "    given 이 true 인 행들만이 남고, 그 중 proposition의 데이터를 확인한다. \n",
    "    \"\"\"\n",
    "    return prob(proposition[given])"
   ]
  },
  {
   "cell_type": "markdown",
   "metadata": {},
   "source": [
    "- caseid: 응답자 ID\n",
    "- year: 설문연도\n",
    "- age: 나이\n",
    "- sex: 성별(남:1, 여:2)\n",
    "- polviews: 정치적 성향(1~7, 1:매우 진보적, 7:매우 보수적)\n",
    "- partyid: 정당소속(0~7, 0:적극적 민주당원, 1:보통 민주당원, 2: 무소속이나 민주당원 지지, 3: 무소속, 4: 무소속이나 공화당 지지, 5: 보통 공화당원, 6: 적극적 공화당원, 7: 다른 정당원)\n",
    "- Indus10: 산업분야(은행원 6870)"
   ]
  },
  {
   "cell_type": "code",
   "execution_count": 5,
   "metadata": {},
   "outputs": [
    {
     "data": {
      "text/html": [
       "<div>\n",
       "<style scoped>\n",
       "    .dataframe tbody tr th:only-of-type {\n",
       "        vertical-align: middle;\n",
       "    }\n",
       "\n",
       "    .dataframe tbody tr th {\n",
       "        vertical-align: top;\n",
       "    }\n",
       "\n",
       "    .dataframe thead th {\n",
       "        text-align: right;\n",
       "    }\n",
       "</style>\n",
       "<table border=\"1\" class=\"dataframe\">\n",
       "  <thead>\n",
       "    <tr style=\"text-align: right;\">\n",
       "      <th></th>\n",
       "      <th>year</th>\n",
       "      <th>age</th>\n",
       "      <th>sex</th>\n",
       "      <th>polviews</th>\n",
       "      <th>partyid</th>\n",
       "      <th>indus10</th>\n",
       "    </tr>\n",
       "    <tr>\n",
       "      <th>caseid</th>\n",
       "      <th></th>\n",
       "      <th></th>\n",
       "      <th></th>\n",
       "      <th></th>\n",
       "      <th></th>\n",
       "      <th></th>\n",
       "    </tr>\n",
       "  </thead>\n",
       "  <tbody>\n",
       "    <tr>\n",
       "      <th>1</th>\n",
       "      <td>1974</td>\n",
       "      <td>21.0</td>\n",
       "      <td>1</td>\n",
       "      <td>4.0</td>\n",
       "      <td>2.0</td>\n",
       "      <td>4970.0</td>\n",
       "    </tr>\n",
       "    <tr>\n",
       "      <th>2</th>\n",
       "      <td>1974</td>\n",
       "      <td>41.0</td>\n",
       "      <td>1</td>\n",
       "      <td>5.0</td>\n",
       "      <td>0.0</td>\n",
       "      <td>9160.0</td>\n",
       "    </tr>\n",
       "    <tr>\n",
       "      <th>5</th>\n",
       "      <td>1974</td>\n",
       "      <td>58.0</td>\n",
       "      <td>2</td>\n",
       "      <td>6.0</td>\n",
       "      <td>1.0</td>\n",
       "      <td>2670.0</td>\n",
       "    </tr>\n",
       "    <tr>\n",
       "      <th>6</th>\n",
       "      <td>1974</td>\n",
       "      <td>30.0</td>\n",
       "      <td>1</td>\n",
       "      <td>5.0</td>\n",
       "      <td>4.0</td>\n",
       "      <td>6870.0</td>\n",
       "    </tr>\n",
       "    <tr>\n",
       "      <th>7</th>\n",
       "      <td>1974</td>\n",
       "      <td>48.0</td>\n",
       "      <td>1</td>\n",
       "      <td>5.0</td>\n",
       "      <td>4.0</td>\n",
       "      <td>7860.0</td>\n",
       "    </tr>\n",
       "    <tr>\n",
       "      <th>...</th>\n",
       "      <td>...</td>\n",
       "      <td>...</td>\n",
       "      <td>...</td>\n",
       "      <td>...</td>\n",
       "      <td>...</td>\n",
       "      <td>...</td>\n",
       "    </tr>\n",
       "    <tr>\n",
       "      <th>2863</th>\n",
       "      <td>2016</td>\n",
       "      <td>57.0</td>\n",
       "      <td>2</td>\n",
       "      <td>1.0</td>\n",
       "      <td>0.0</td>\n",
       "      <td>7490.0</td>\n",
       "    </tr>\n",
       "    <tr>\n",
       "      <th>2864</th>\n",
       "      <td>2016</td>\n",
       "      <td>77.0</td>\n",
       "      <td>1</td>\n",
       "      <td>6.0</td>\n",
       "      <td>7.0</td>\n",
       "      <td>3590.0</td>\n",
       "    </tr>\n",
       "    <tr>\n",
       "      <th>2865</th>\n",
       "      <td>2016</td>\n",
       "      <td>87.0</td>\n",
       "      <td>2</td>\n",
       "      <td>4.0</td>\n",
       "      <td>5.0</td>\n",
       "      <td>770.0</td>\n",
       "    </tr>\n",
       "    <tr>\n",
       "      <th>2866</th>\n",
       "      <td>2016</td>\n",
       "      <td>55.0</td>\n",
       "      <td>2</td>\n",
       "      <td>5.0</td>\n",
       "      <td>5.0</td>\n",
       "      <td>8680.0</td>\n",
       "    </tr>\n",
       "    <tr>\n",
       "      <th>2867</th>\n",
       "      <td>2016</td>\n",
       "      <td>72.0</td>\n",
       "      <td>1</td>\n",
       "      <td>5.0</td>\n",
       "      <td>3.0</td>\n",
       "      <td>5170.0</td>\n",
       "    </tr>\n",
       "  </tbody>\n",
       "</table>\n",
       "<p>49290 rows × 6 columns</p>\n",
       "</div>"
      ],
      "text/plain": [
       "        year   age  sex  polviews  partyid  indus10\n",
       "caseid                                             \n",
       "1       1974  21.0    1       4.0      2.0   4970.0\n",
       "2       1974  41.0    1       5.0      0.0   9160.0\n",
       "5       1974  58.0    2       6.0      1.0   2670.0\n",
       "6       1974  30.0    1       5.0      4.0   6870.0\n",
       "7       1974  48.0    1       5.0      4.0   7860.0\n",
       "...      ...   ...  ...       ...      ...      ...\n",
       "2863    2016  57.0    2       1.0      0.0   7490.0\n",
       "2864    2016  77.0    1       6.0      7.0   3590.0\n",
       "2865    2016  87.0    2       4.0      5.0    770.0\n",
       "2866    2016  55.0    2       5.0      5.0   8680.0\n",
       "2867    2016  72.0    1       5.0      3.0   5170.0\n",
       "\n",
       "[49290 rows x 6 columns]"
      ]
     },
     "execution_count": 5,
     "metadata": {},
     "output_type": "execute_result"
    }
   ],
   "source": [
    "gss"
   ]
  },
  {
   "cell_type": "code",
   "execution_count": 6,
   "metadata": {},
   "outputs": [
    {
     "data": {
      "text/plain": [
       "caseid\n",
       "1    False\n",
       "2    False\n",
       "5    False\n",
       "6     True\n",
       "7    False\n",
       "Name: indus10, dtype: bool"
      ]
     },
     "execution_count": 6,
     "metadata": {},
     "output_type": "execute_result"
    }
   ],
   "source": [
    "# 은행원\n",
    "banker = (gss['indus10'] == 6870)\n",
    "banker.head()"
   ]
  },
  {
   "cell_type": "code",
   "execution_count": 7,
   "metadata": {},
   "outputs": [
    {
     "data": {
      "text/plain": [
       "728"
      ]
     },
     "execution_count": 7,
     "metadata": {},
     "output_type": "execute_result"
    }
   ],
   "source": [
    "banker.sum()"
   ]
  },
  {
   "cell_type": "code",
   "execution_count": 8,
   "metadata": {},
   "outputs": [],
   "source": [
    "liberal = gss['polviews']<=3\n",
    "democrat = gss['partyid']<=1\n",
    "female = gss['sex'] == 2"
   ]
  },
  {
   "cell_type": "code",
   "execution_count": 9,
   "metadata": {},
   "outputs": [
    {
     "data": {
      "text/plain": [
       "caseid\n",
       "1       False\n",
       "2       False\n",
       "5        True\n",
       "6       False\n",
       "7       False\n",
       "        ...  \n",
       "2863     True\n",
       "2864    False\n",
       "2865     True\n",
       "2866     True\n",
       "2867    False\n",
       "Name: sex, Length: 49290, dtype: bool"
      ]
     },
     "execution_count": 9,
     "metadata": {},
     "output_type": "execute_result"
    }
   ],
   "source": [
    "female"
   ]
  },
  {
   "cell_type": "code",
   "execution_count": 10,
   "metadata": {},
   "outputs": [
    {
     "data": {
      "text/plain": [
       "caseid\n",
       "1       False\n",
       "2       False\n",
       "5       False\n",
       "6       False\n",
       "7       False\n",
       "        ...  \n",
       "2863     True\n",
       "2864    False\n",
       "2865    False\n",
       "2866    False\n",
       "2867    False\n",
       "Name: polviews, Length: 49290, dtype: bool"
      ]
     },
     "execution_count": 10,
     "metadata": {},
     "output_type": "execute_result"
    }
   ],
   "source": [
    "liberal"
   ]
  },
  {
   "cell_type": "code",
   "execution_count": 11,
   "metadata": {},
   "outputs": [
    {
     "data": {
      "text/plain": [
       "caseid\n",
       "5       False\n",
       "10      False\n",
       "14      False\n",
       "15      False\n",
       "19      False\n",
       "        ...  \n",
       "2861    False\n",
       "2862    False\n",
       "2863     True\n",
       "2865    False\n",
       "2866    False\n",
       "Name: polviews, Length: 26511, dtype: bool"
      ]
     },
     "execution_count": 11,
     "metadata": {},
     "output_type": "execute_result"
    }
   ],
   "source": [
    "liberal[female]"
   ]
  },
  {
   "cell_type": "code",
   "execution_count": 12,
   "metadata": {},
   "outputs": [
    {
     "data": {
      "text/plain": [
       "0.27581004111500884"
      ]
     },
     "execution_count": 12,
     "metadata": {},
     "output_type": "execute_result"
    }
   ],
   "source": [
    "conditional(liberal,given=female)"
   ]
  },
  {
   "cell_type": "markdown",
   "metadata": {},
   "source": [
    "# 조건부확률\n",
    "\n",
    "__~라고 할 때, ~일 확률 == ~ 중, ~ 인 비율__\n",
    "\n",
    "따라서, \"한 응답자가 진보적이라고 했을 때, 이 응답자가 민주당원일 확률은?\" 이라는 질문은 다음으로 치환 가능하다.\n",
    "\n",
    "- \"진보적인 응답자 중, 민주당원의 비율\"\n",
    "\n",
    "그리고 또 이 질문은 다음 두 단계로 분리하여 구할 수 있다.\n",
    "\n",
    "1. 진보적인 응답자의 확률\n",
    "2. 이 중 민주당원의 비율\n",
    "\n",
    "이는 A and B와는 다르다. A and B의 경우, \"진보적이면서 민주당원인 사람의 비율은?\" 으로 나타낸다. "
   ]
  },
  {
   "cell_type": "markdown",
   "metadata": {},
   "source": [
    "# 정리 1,2,3\n",
    "\n",
    "__이 모든 정리는 정리 3, 베이즈 정리로 이어지기 위한 과정__\n",
    "\n",
    "1. 논리곱을 사용해 조건부확률 구하기\n",
    "\n",
    "- $P(A|B) = \\frac{P(A and B)}{P(B)}$\n",
    "\n",
    "2. 조건부확률을 사용해 논리곱확률 구하기\n",
    "\n",
    "- $P(A and B) = P(B) * P(A|B)$\n",
    "\n",
    "- 정리 1의 양쪽에 P(B)를 곱하면 정리 2가 나온다.\n",
    "\n",
    "3. 조건부확률(P(A|B) or P(B|A))이 주어졌을 때 원래의 확률을 찾는 방법(베이즈 정리)\n",
    "\n",
    "- $P(A|B) = \\frac{P(A)*P(B|A)}{P(B)}$\n",
    "\n",
    "- 논리곱은 교환이 가능한데(P(A and B) = P(B and A)) 여기에 정리 2를 양쪽에 적용하면 다음을 얻을 수 있다.\n",
    "\n",
    "- $P(B)P(A|B) = P(A)P(B|A)$ \n",
    "\n",
    "- 이 때 전체를 다시 P(B)로 나눈다면 $P(A|B) = \\frac{P(A)*P(B|A)}{P(B)}$ 를 얻게 되는 것.\n",
    "\n",
    "\n",
    "4. 전체확률의 법칙은 각각의 확률을 더해서 전체 확률을 구하는 방법\n",
    "\n",
    "- $P(A) = \\sum P(B_{i})P(A|B_{i})$"
   ]
  },
  {
   "cell_type": "markdown",
   "metadata": {},
   "source": [
    "# 연습문제\n",
    "\n",
    "1. 린다가 여성 은행원일 확률\n",
    "    1. 린다가 진보 성향의 여성 은행원일 가능성\n",
    "    2. 린다가 진보 성향의 여성 은행원이며 민주당원일 가능성\n",
    "\n",
    "2. conditional()을 사용해서 다음 확률을 구하자.\n",
    "    - 응답자가 민주당원일 경우, 진보성향일 확률은 얼마인가?\n",
    "    - 응답자가 진보성향일 경우, 민주당원일 확률은 얼마인가?\n",
    "    - given이 무엇인지 주의하라. \n",
    "\n",
    "3. 나이가 30세 이하인 경우를 young, 65세 이상을 old라고 정의한다. conservative 는 정치적 관점에 보수적, 조금 보수적, 매우 보수적이라고 답한 사람들로 정의한다. (polviews>=5)\n",
    "    - 임의로 고른 응답자가 젊은 진보성향일 확률은?\n",
    "    - 젊은 사람이 진보적일 확률은 얼마인가?\n",
    "    - 응답자가 늙고 보수성향일 확률은 얼마인가?\n",
    "    - 보수성향의 사람들이 늙었을 확률은 얼마인가?"
   ]
  },
  {
   "cell_type": "code",
   "execution_count": 14,
   "metadata": {},
   "outputs": [
    {
     "name": "stdout",
     "output_type": "stream",
     "text": [
      "린다가 여성은행원일 가능성:0.011381618989653074\n",
      "린다가 진보 성향의 여성은행원일 가능성:0.002556299452221546\n",
      "린다가 진보 성향의 여성은행원이며 민주당원일 가능성:0.0012375735443294787\n"
     ]
    }
   ],
   "source": [
    "# 1.\n",
    "print(f'린다가 여성은행원일 가능성:{prob(female & banker)}')\n",
    "\n",
    "# 1.1\n",
    "print(f'린다가 진보 성향의 여성은행원일 가능성:{prob(female & liberal & banker)}')\n",
    "\n",
    "# 1.2\n",
    "print(f'린다가 진보 성향의 여성은행원이며 민주당원일 가능성:{prob(female & liberal & banker & democrat)}')"
   ]
  },
  {
   "cell_type": "code",
   "execution_count": 15,
   "metadata": {},
   "outputs": [
    {
     "name": "stdout",
     "output_type": "stream",
     "text": [
      "응답자가 민주당원일 경우, 진보성향일 확률:0.3891320002215698\n",
      "응답자가 진보성향일 경우, 민주당원일 확률:0.5206403320240125\n"
     ]
    }
   ],
   "source": [
    "# 2.1 \n",
    "print(f'응답자가 민주당원일 경우, 진보성향일 확률:{conditional(liberal,given=democrat)}')\n",
    "# 2.2\n",
    "print(f'응답자가 진보성향일 경우, 민주당원일 확률:{conditional(democrat,given=liberal)}')"
   ]
  },
  {
   "cell_type": "code",
   "execution_count": 17,
   "metadata": {},
   "outputs": [
    {
     "name": "stdout",
     "output_type": "stream",
     "text": [
      "임의로 고른 응답자가 젊은 진보성향일 확률:0.07317914384256441\n",
      "젊은 사람이 진보적일 확률:0.3377024623162625\n",
      "응답자가 늙고 보수성향일 확률:0.06701156421180766\n",
      "보수성향의 사람들이 나이가 들었을 확률:0.19597721609113564\n"
     ]
    }
   ],
   "source": [
    "# 3\n",
    "young = (gss['age']<=30)\n",
    "old = (gss['age']>=65)\n",
    "conservative = (gss['polviews'] >=5)\n",
    "\n",
    "# 3.1\n",
    "\n",
    "print(f'임의로 고른 응답자가 젊은 진보성향일 확률:{prob(young & liberal)}')\n",
    "\n",
    "# 3.2\n",
    "\n",
    "print(f'젊은 사람이 진보적일 확률:{conditional(liberal,given=young)}')\n",
    "\n",
    "# 3.3\n",
    "\n",
    "print(f'응답자가 늙고 보수성향일 확률:{prob(old & conservative)}')\n",
    "\n",
    "# 3.4 \n",
    "\n",
    "print(f'보수성향의 사람들이 나이가 들었을 확률:{conditional(old,given=conservative)}')"
   ]
  },
  {
   "cell_type": "code",
   "execution_count": null,
   "metadata": {},
   "outputs": [],
   "source": []
  }
 ],
 "metadata": {
  "kernelspec": {
   "display_name": "py",
   "language": "python",
   "name": "python3"
  },
  "language_info": {
   "codemirror_mode": {
    "name": "ipython",
    "version": 3
   },
   "file_extension": ".py",
   "mimetype": "text/x-python",
   "name": "python",
   "nbconvert_exporter": "python",
   "pygments_lexer": "ipython3",
   "version": "3.9.0"
  }
 },
 "nbformat": 4,
 "nbformat_minor": 2
}
