{
 "cells": [
  {
   "cell_type": "markdown",
   "metadata": {},
   "source": [
    "# 최솟값, 최댓값 그리고 혼합분포(Minimum, Maximum and Mixture)\n",
    "\n",
    "앞 장에서는 합의 분포(distribution of sums)를 구했었다. \n",
    "\n",
    "이 장에서는 최솟값과 최댓값의 분포(distributions of minimums and maximums)를 구하고, 이를 사용해서 일반 연산 및 역산 문제를 풀어본다. 그리고 다른 분포간의 혼합분포를 살펴보겠다.\n",
    "\n",
    "혼합분포(mixtures of other distribution)는 예측에 있어 유용하다. \n",
    "\n",
    "하지만 일단 분포를 다루는 강력한 도구인 누적분포함수(CDF; Cumulative Distribution Function)에 대해 알아보자. "
   ]
  },
  {
   "cell_type": "markdown",
   "metadata": {},
   "source": [
    "## 7.1 누적분포함수\n",
    "\n",
    "앞서 분포를 나타내는 데 확률질량함수를 사용했다. 대신 사용할 수 있는 유용한 도구로 누적분포함수가 있다. \n",
    "\n",
    "한 가지 예로, 4.3절의 베이지안 추정에서 다루었던 유로 문제의 사후확률분포를 살펴보자. 우선 균등사전분포에서 시작한다."
   ]
  },
  {
   "cell_type": "code",
   "execution_count": 1,
   "metadata": {},
   "outputs": [
    {
     "name": "stdout",
     "output_type": "stream",
     "text": [
      "0.00    0.009901\n",
      "0.01    0.009901\n",
      "0.02    0.009901\n",
      "0.03    0.009901\n",
      "0.04    0.009901\n",
      "          ...   \n",
      "0.96    0.009901\n",
      "0.97    0.009901\n",
      "0.98    0.009901\n",
      "0.99    0.009901\n",
      "1.00    0.009901\n",
      "Length: 101, dtype: float64\n",
      "(140, 250)\n"
     ]
    }
   ],
   "source": [
    "import numpy as np\n",
    "from empiricaldist import Pmf\n",
    "\n",
    "# 가능한 101개의 가설. 동전은 0의 확률로 앞면이 나올 수 있다 ~ 동전은 1의 확률로 앞면이 나올 수 있다.\n",
    "hypos = np.linspace(0,1, 101)\n",
    "\n",
    "pmf = Pmf(1, hypos)\n",
    "pmf.normalize() # 앞서 말했듯이, 균등사전분포일 경우 사전확률이 1이든 0.xx 이든 차이가 발생하지 않는다. 다만, 본인이 그냥 1인 사전확률분포를 안 좋아하므로 normalize()를 시행한다.\n",
    "\n",
    "print(pmf)\n",
    "\n",
    "data = 140, 250 # 앞면이 140회, 뒷면은 110회 도합 250회  data = (140, 250)\n",
    "print(data)"
   ]
  },
  {
   "cell_type": "markdown",
   "metadata": {},
   "source": [
    "갱신된 내용은 다음과 같다."
   ]
  },
  {
   "cell_type": "code",
   "execution_count": 2,
   "metadata": {},
   "outputs": [],
   "source": [
    "from utils import make_binomial\n",
    "from scipy.stats import binom"
   ]
  },
  {
   "cell_type": "code",
   "execution_count": 3,
   "metadata": {},
   "outputs": [],
   "source": [
    "def update_binomial(pmf:Pmf, data: list or tuple)->None:\n",
    "    \"\"\"이항분포를 사용한 pmf 갱신\"\"\"\n",
    "    k,n = data\n",
    "    xs = pmf.qs\n",
    "    likelihood = binom.pmf(k,n,xs) # binom(k,n,p)\n",
    "    pmf *= likelihood\n",
    "    pmf.normalize()"
   ]
  },
  {
   "cell_type": "code",
   "execution_count": 4,
   "metadata": {},
   "outputs": [
    {
     "data": {
      "text/plain": [
       "'\\npmf = np.linspace(0,1,101)\\ndata = 140,250\\nupdate_binomial(pmf, data)\\n->\\nk, n = 140, 250\\nxs = 0.01 ~ 1.00\\nlikelihood = binom.pmf(140, 250, [0.01~ 1.00])\\npmf *= likelihood\\npmf.normalize()\\n'"
      ]
     },
     "execution_count": 4,
     "metadata": {},
     "output_type": "execute_result"
    }
   ],
   "source": [
    "update_binomial(pmf, data)\n",
    "\n",
    "\"\"\"\n",
    "pmf = np.linspace(0,1,101)\n",
    "data = 140,250\n",
    "update_binomial(pmf, data)\n",
    "->\n",
    "k, n = 140, 250\n",
    "xs = 0.01 ~ 1.00\n",
    "likelihood = binom.pmf(140, 250, [0.01~ 1.00])\n",
    "pmf *= likelihood\n",
    "pmf.normalize()\n",
    "\"\"\""
   ]
  },
  {
   "cell_type": "markdown",
   "metadata": {},
   "source": [
    "cdf 는 pmf의 누적합이므로, 0~1 사이의 값을 지닌다. \n",
    "\n",
    "__pmf == pdf, pmf = Probability mass function, pdf = probability density function__"
   ]
  },
  {
   "cell_type": "code",
   "execution_count": 5,
   "metadata": {},
   "outputs": [],
   "source": [
    "cumulative = pmf.cumsum() "
   ]
  },
  {
   "cell_type": "code",
   "execution_count": 6,
   "metadata": {},
   "outputs": [
    {
     "data": {
      "text/plain": [
       "0.00     0.000000e+00\n",
       "0.01    1.256330e-207\n",
       "0.02    5.731921e-166\n",
       "0.03    8.338711e-142\n",
       "0.04    8.269265e-125\n",
       "            ...      \n",
       "0.96     1.000000e+00\n",
       "0.97     1.000000e+00\n",
       "0.98     1.000000e+00\n",
       "0.99     1.000000e+00\n",
       "1.00     1.000000e+00\n",
       "Length: 101, dtype: float64"
      ]
     },
     "execution_count": 6,
     "metadata": {},
     "output_type": "execute_result"
    }
   ],
   "source": [
    "cumulative"
   ]
  },
  {
   "cell_type": "code",
   "execution_count": 7,
   "metadata": {},
   "outputs": [
    {
     "data": {
      "text/plain": [
       "0.9638303193984255"
      ]
     },
     "execution_count": 7,
     "metadata": {},
     "output_type": "execute_result"
    }
   ],
   "source": [
    "cumulative[0.61] "
   ]
  },
  {
   "cell_type": "markdown",
   "metadata": {},
   "source": [
    "결과는 0.96으로 이는 0.61과 같거나 이보다 작은 값에 대한 총 확률이 96%라는 뜻이다. \n",
    "\n",
    "다른 방식으로 살펴보자. 확률과 이에 대응하는 값을 연결시켜 찾아보는 방식으로 보기 위해, 보간법(interpolation)을 이용하자."
   ]
  },
  {
   "cell_type": "code",
   "execution_count": 8,
   "metadata": {},
   "outputs": [
    {
     "data": {
      "text/plain": [
       "array(0.60890171)"
      ]
     },
     "execution_count": 8,
     "metadata": {},
     "output_type": "execute_result"
    }
   ],
   "source": [
    "from scipy.interpolate import interp1d\n",
    "\n",
    "ps = cumulative.values\n",
    "qs = cumulative.index\n",
    "\n",
    "interp = interp1d(ps,qs)\n",
    "interp(0.96)"
   ]
  },
  {
   "cell_type": "markdown",
   "metadata": {},
   "source": [
    "결과는 약 0.61이므로 이 분포의 96분위에 해당하는 값이 0.61임을 알 수 있다.\n",
    "\n",
    "empiricaldist에서는 누적분포함수를 나타내는 클래스인 CDF를 사용할 수 있다. Pmf를 가지고 다음과 같이 CDF를 구할 수 있다."
   ]
  },
  {
   "cell_type": "code",
   "execution_count": 9,
   "metadata": {},
   "outputs": [
    {
     "data": {
      "text/html": [
       "<div>\n",
       "<style scoped>\n",
       "    .dataframe tbody tr th:only-of-type {\n",
       "        vertical-align: middle;\n",
       "    }\n",
       "\n",
       "    .dataframe tbody tr th {\n",
       "        vertical-align: top;\n",
       "    }\n",
       "\n",
       "    .dataframe thead th {\n",
       "        text-align: right;\n",
       "    }\n",
       "</style>\n",
       "<table border=\"1\" class=\"dataframe\">\n",
       "  <thead>\n",
       "    <tr style=\"text-align: right;\">\n",
       "      <th></th>\n",
       "      <th>probs</th>\n",
       "    </tr>\n",
       "  </thead>\n",
       "  <tbody>\n",
       "    <tr>\n",
       "      <th>0.00</th>\n",
       "      <td>0.000000e+00</td>\n",
       "    </tr>\n",
       "    <tr>\n",
       "      <th>0.01</th>\n",
       "      <td>1.256330e-207</td>\n",
       "    </tr>\n",
       "    <tr>\n",
       "      <th>0.02</th>\n",
       "      <td>5.731921e-166</td>\n",
       "    </tr>\n",
       "    <tr>\n",
       "      <th>0.03</th>\n",
       "      <td>8.338711e-142</td>\n",
       "    </tr>\n",
       "    <tr>\n",
       "      <th>0.04</th>\n",
       "      <td>8.269265e-125</td>\n",
       "    </tr>\n",
       "    <tr>\n",
       "      <th>...</th>\n",
       "      <td>...</td>\n",
       "    </tr>\n",
       "    <tr>\n",
       "      <th>0.96</th>\n",
       "      <td>1.000000e+00</td>\n",
       "    </tr>\n",
       "    <tr>\n",
       "      <th>0.97</th>\n",
       "      <td>1.000000e+00</td>\n",
       "    </tr>\n",
       "    <tr>\n",
       "      <th>0.98</th>\n",
       "      <td>1.000000e+00</td>\n",
       "    </tr>\n",
       "    <tr>\n",
       "      <th>0.99</th>\n",
       "      <td>1.000000e+00</td>\n",
       "    </tr>\n",
       "    <tr>\n",
       "      <th>1.00</th>\n",
       "      <td>1.000000e+00</td>\n",
       "    </tr>\n",
       "  </tbody>\n",
       "</table>\n",
       "<p>101 rows × 1 columns</p>\n",
       "</div>"
      ],
      "text/plain": [
       "0.00     0.000000e+00\n",
       "0.01    1.256330e-207\n",
       "0.02    5.731921e-166\n",
       "0.03    8.338711e-142\n",
       "0.04    8.269265e-125\n",
       "            ...      \n",
       "0.96     1.000000e+00\n",
       "0.97     1.000000e+00\n",
       "0.98     1.000000e+00\n",
       "0.99     1.000000e+00\n",
       "1.00     1.000000e+00\n",
       "Length: 101, dtype: float64"
      ]
     },
     "execution_count": 9,
     "metadata": {},
     "output_type": "execute_result"
    }
   ],
   "source": [
    "cdf = pmf.make_cdf()\n",
    "cdf"
   ]
  },
  {
   "cell_type": "markdown",
   "metadata": {},
   "source": [
    "make_cdf()는 np.cumsum()을 사용해서 확률의 누적합을 구한다. 그래서 Cdf에서 원소를 선택할 때 대괄호를 사용한다.\n",
    "\n",
    "cdf 객체가 유용한 한 가지 이유는 이 객체에서 백분위를 효율적으로 구할 수 있기 때문이다.\n",
    "\n",
    "또 다른 이유는 이 객체에서는 분포의 최댓값이나 최솟값을 쉽게 구할 수 있기 때문이다. 여기에 대해서는 다음 절에서 좀 더 자세히 살펴보겠다."
   ]
  },
  {
   "cell_type": "markdown",
   "metadata": {},
   "source": [
    "## 7.2 넷 중 높은 값\n",
    "\n",
    "- 던전앤드래곤에서 각 캐릭터는 근력,지능,지혜,민첩,건강,매력의 6가지 능력치를 가진다. \n",
    "- 새로운 캐릭터를 만들 때는 플레이어는 각 능력치에 대해 육면체 주사위 4개를 굴린 후 이 중 세 개의 높은 값을 더한다.\n",
    "- 예를 들어 내가 근력치를 얻고자 주사위를 4개를 굴려서 1,2,3,4가 나왔다면 내 캐릭터의 근력은 제일 낮은 값 1을 제외하고 나머지를 더한 값, 9가 된다. \n",
    "- 연습 삼아 이 능력치의 분포를 구해보자. 그리고 각 캐릭터에 대해 그들의 가장 높은 능력치에 대한 분포도 구해보자.\n",
    "- 앞 장에서 두 개의 함수를 불러오자. 주사위를 굴린 결과에 대한 Pmf를 만드는 make_die()와 Pmf의 수열을 가지고 이 합의 분포를 구하는 add_dist_seq()다. \n",
    "- 다음은 육면체 주사위를 나타내는 Pmf와 이 객체 세 개를 사용한 수열이다."
   ]
  },
  {
   "cell_type": "code",
   "execution_count": 10,
   "metadata": {},
   "outputs": [],
   "source": [
    "from empiricaldist import Pmf\n",
    "import numpy as np\n",
    "\n",
    "def make_die(sides:int)->Pmf:\n",
    "    outcomes = np.arange(1,sides+1)\n",
    "    die = Pmf(1/sides,outcomes)\n",
    "    return die\n",
    "\n",
    "def add_dist_seq(seq):\n",
    "    \"\"\"seq = 여러 개의 dist를 가지는 리스트 구조\"\"\"\n",
    "    total = seq[0]\n",
    "    for other in seq[1:]:\n",
    "        total = total.add_dist(other)\n",
    "    return total\n",
    "\n",
    "import matplotlib.pyplot as plt\n",
    "import seaborn as sns\n",
    "\n",
    "def plotting(target, x_label='Number', y_label='PMF')->None:\n",
    "    # 그림의 가로 세로 비율 조절\n",
    "    plt.figure(figsize=(10, 5))\n",
    "\n",
    "    # Seaborn 스타일 설정\n",
    "    sns.set(style=\"whitegrid\")\n",
    "    target.plot()\n",
    "\n",
    "    # title, x label, y label 추가\n",
    "    plt.xlabel(x_label)\n",
    "    plt.ylabel(y_label)\n",
    "\n",
    "    # 그래프 표시\n",
    "    plt.show()"
   ]
  },
  {
   "cell_type": "code",
   "execution_count": 11,
   "metadata": {},
   "outputs": [
    {
     "name": "stdout",
     "output_type": "stream",
     "text": [
      "3     0.004630\n",
      "4     0.013889\n",
      "5     0.027778\n",
      "6     0.046296\n",
      "7     0.069444\n",
      "8     0.097222\n",
      "9     0.115741\n",
      "10    0.125000\n",
      "11    0.125000\n",
      "12    0.115741\n",
      "13    0.097222\n",
      "14    0.069444\n",
      "15    0.046296\n",
      "16    0.027778\n",
      "17    0.013889\n",
      "18    0.004630\n",
      "dtype: float64\n"
     ]
    }
   ],
   "source": [
    "d6 = make_die(6)\n",
    "dice = [d6] * 3 \n",
    "\n",
    "pmf_3d6 = add_dist_seq(dice)\n",
    "\n",
    "print(pmf_3d6)"
   ]
  },
  {
   "cell_type": "code",
   "execution_count": 12,
   "metadata": {},
   "outputs": [
    {
     "data": {
      "image/png": "[encoded data removed]",
      "text/plain": [
       "<Figure size 1000x500 with 1 Axes>"
      ]
     },
     "metadata": {},
     "output_type": "display_data"
    }
   ],
   "source": [
    "plotting(pmf_3d6, 'outcomes', 'PMF')"
   ]
  },
  {
   "cell_type": "code",
   "execution_count": 13,
   "metadata": {},
   "outputs": [],
   "source": [
    "cdf_3d6 = pmf_3d6.make_cdf()"
   ]
  },
  {
   "cell_type": "markdown",
   "metadata": {},
   "source": [
    "만약 주사위 4개를 굴려서 이 중 높은 값 세 개를 더한다면, 이 합의 분포를 구하는 것은 좀 더 까다롭다. \n",
    "\n",
    "나는 10,000 개의 주사위에 대해서 시뮬레이션 한 후 분포를 추정한다.\n",
    "\n",
    "우선 1부터 6까지 임의로 고른 값에 대해 10,000개의 행과 4개의 열을 가진 배열을 만들자."
   ]
  },
  {
   "cell_type": "code",
   "execution_count": 14,
   "metadata": {},
   "outputs": [],
   "source": [
    "n = 10000\n",
    "a = np.random.randint(1,6,size= (n,4)) # low, high, size"
   ]
  },
  {
   "cell_type": "markdown",
   "metadata": {},
   "source": [
    "각 행에서 세 개의 높은 값을 찾기 위해, axis = 1 로 설정하여 새로 정렬하자. 이렇게 하면 각 행에서 낮은 값부터 큰 값으로 값이 정렬된다. \n",
    "\n",
    "이렇게 하면 행렬의 첫번째 열을 제외한다면 가장 높은 값 세 개만 남게 될 것이다."
   ]
  },
  {
   "cell_type": "code",
   "execution_count": 15,
   "metadata": {},
   "outputs": [
    {
     "data": {
      "text/plain": [
       "array([[1, 1, 5, 5],\n",
       "       [1, 3, 4, 4],\n",
       "       [2, 2, 3, 5],\n",
       "       [2, 4, 5, 5],\n",
       "       [1, 3, 4, 5]])"
      ]
     },
     "execution_count": 15,
     "metadata": {},
     "output_type": "execute_result"
    }
   ],
   "source": [
    "a.sort(axis = 1) # numpy 의 메서드\n",
    "a[:5]"
   ]
  },
  {
   "cell_type": "code",
   "execution_count": 16,
   "metadata": {},
   "outputs": [
    {
     "data": {
      "text/plain": [
       "array([11, 11, 10, ..., 13,  8,  8])"
      ]
     },
     "execution_count": 16,
     "metadata": {},
     "output_type": "execute_result"
    }
   ],
   "source": [
    "a = a[:,1:]\n",
    "\n",
    "t = a.sum(axis = 1)\n",
    "t"
   ]
  },
  {
   "cell_type": "code",
   "execution_count": 17,
   "metadata": {},
   "outputs": [
    {
     "data": {
      "text/plain": [
       "15"
      ]
     },
     "execution_count": 17,
     "metadata": {},
     "output_type": "execute_result"
    }
   ],
   "source": [
    "t.max()"
   ]
  },
  {
   "cell_type": "code",
   "execution_count": 18,
   "metadata": {},
   "outputs": [
    {
     "data": {
      "image/png": "[encoded data removed]",
      "text/plain": [
       "<Figure size 1000x500 with 1 Axes>"
      ]
     },
     "metadata": {},
     "output_type": "display_data"
    }
   ],
   "source": [
    "pmf_best3 = Pmf.from_seq(t)\n",
    "plotting(pmf_best3, 'outcomes', 'PMF')"
   ]
  },
  {
   "cell_type": "markdown",
   "metadata": {},
   "source": [
    "## 7.3 최댓값\n",
    "\n",
    "최댓값이나 최솟값의 분포를 알기 위해서는 누적분포함수를 잘 사용해야 한다. 우선 넷 중 높은 값 셋의 CDF를 구해보자."
   ]
  },
  {
   "cell_type": "code",
   "execution_count": 19,
   "metadata": {},
   "outputs": [
    {
     "data": {
      "image/png": "[encoded data removed]",
      "text/plain": [
       "<Figure size 1000x500 with 1 Axes>"
      ]
     },
     "metadata": {},
     "output_type": "display_data"
    }
   ],
   "source": [
    "cdf_best3 = pmf_best3.make_cdf()\n",
    "plotting(cdf_best3, 'number', 'PMF')"
   ]
  },
  {
   "cell_type": "markdown",
   "metadata": {},
   "source": [
    "cdf(x) 는 x보다 같거나 작은 값에 대한 확률의 합임을 기억하자. 즉 이 분포에서 임의로 고른 값이 x보다 작거나 같을 확률이다. \n",
    "\n",
    "이 분포에서 6개의 값을 골랐다고 가정해보자. 모든 6개의 값이 x보다 작거나 같을 확률은 cdf(x)를 6제곱한 값으로, 다음과 같이 구할 수 있다."
   ]
  },
  {
   "cell_type": "markdown",
   "metadata": {},
   "source": [
    "### 주석: 왜 모든 6개의 값이 x보다 작거나 같을 확률은 cdf(x)를 6 제곱한 값인가?\n",
    "\n",
    "- 먼저, cdf(x)는 누적 분포 함수로서, 확률 변수가 특정 값 x 이하일 확률을 나타냅니다. 즉, P(X ≤ x)를 의미합니다.\n",
    "\n",
    "- 만약 여러 독립적인 확률 변수들이 같은 분포를 따르고 서로 독립이라면, 이들 모두가 특정 값 x 이하일 확률은 각 확률 변수가 x 이하일 확률을 곱한 값과 같습니다. 이를 표현하면 다음과 같습니다.\n",
    "\n",
    "$[ P(X_1 \\leq x, X_2 \\leq x, \\ldots, X_n \\leq x) = P(X_1 \\leq x) \\times P(X_2 \\leq x) \\times \\ldots \\times P(X_n \\leq x) ]$\n",
    "\n",
    "- 만약 확률 변수들이 같은 분포를 따르고 서로 독립이라면, cdf(x)를 이용하여 위의 식을 표현할 수 있습니다.\n",
    "\n",
    "$[ P(X_1 \\leq x, X_2 \\leq x, \\ldots, X_n \\leq x) = [cdf(x)]^n ]$\n",
    "\n",
    "- 따라서 6개의 독립적인 값이 특정 값 x 이하일 확률은 cdf(x)를 6 제곱한 값과 같습니다. 이는 독립적인 사건의 확률을 곱하는 원리에 기반한 것입니다."
   ]
  },
  {
   "cell_type": "code",
   "execution_count": 20,
   "metadata": {},
   "outputs": [
    {
     "data": {
      "text/plain": [
       "3     8.576612e-17\n",
       "4     8.858424e-13\n",
       "5     3.161135e-10\n",
       "6     4.348387e-08\n",
       "7     3.496747e-06\n",
       "8     9.338511e-05\n",
       "9     1.594529e-03\n",
       "10    1.357232e-02\n",
       "11    7.514085e-02\n",
       "12    2.615547e-01\n",
       "13    5.593118e-01\n",
       "14    8.532694e-01\n",
       "15    1.000000e+00\n",
       "Name: proportion, dtype: float64"
      ]
     },
     "execution_count": 20,
     "metadata": {},
     "output_type": "execute_result"
    }
   ],
   "source": [
    "cdf_best3 ** 6"
   ]
  },
  {
   "cell_type": "markdown",
   "metadata": {},
   "source": [
    "만약 6개의 값이 모두 x보다 작거나 같았다면, 이 떄의 최댓값 역시 x보다 작거나 같다. 따라서 결과는 최댓값에 대한 CDF다. \n",
    "\n",
    "우리는 이 결과를 CDF객체를 사용해서 다음과 같이 바꿀 수 있다."
   ]
  },
  {
   "cell_type": "code",
   "execution_count": 21,
   "metadata": {},
   "outputs": [
    {
     "data": {
      "text/html": [
       "<div>\n",
       "<style scoped>\n",
       "    .dataframe tbody tr th:only-of-type {\n",
       "        vertical-align: middle;\n",
       "    }\n",
       "\n",
       "    .dataframe tbody tr th {\n",
       "        vertical-align: top;\n",
       "    }\n",
       "\n",
       "    .dataframe thead th {\n",
       "        text-align: right;\n",
       "    }\n",
       "</style>\n",
       "<table border=\"1\" class=\"dataframe\">\n",
       "  <thead>\n",
       "    <tr style=\"text-align: right;\">\n",
       "      <th></th>\n",
       "      <th>probs</th>\n",
       "    </tr>\n",
       "  </thead>\n",
       "  <tbody>\n",
       "    <tr>\n",
       "      <th>3</th>\n",
       "      <td>9.261000e-09</td>\n",
       "    </tr>\n",
       "    <tr>\n",
       "      <th>4</th>\n",
       "      <td>9.411920e-07</td>\n",
       "    </tr>\n",
       "    <tr>\n",
       "      <th>5</th>\n",
       "      <td>1.777958e-05</td>\n",
       "    </tr>\n",
       "    <tr>\n",
       "      <th>6</th>\n",
       "      <td>2.085279e-04</td>\n",
       "    </tr>\n",
       "    <tr>\n",
       "      <th>7</th>\n",
       "      <td>1.869959e-03</td>\n",
       "    </tr>\n",
       "    <tr>\n",
       "      <th>8</th>\n",
       "      <td>9.663597e-03</td>\n",
       "    </tr>\n",
       "    <tr>\n",
       "      <th>9</th>\n",
       "      <td>3.993155e-02</td>\n",
       "    </tr>\n",
       "    <tr>\n",
       "      <th>10</th>\n",
       "      <td>1.165003e-01</td>\n",
       "    </tr>\n",
       "    <tr>\n",
       "      <th>11</th>\n",
       "      <td>2.741183e-01</td>\n",
       "    </tr>\n",
       "    <tr>\n",
       "      <th>12</th>\n",
       "      <td>5.114242e-01</td>\n",
       "    </tr>\n",
       "    <tr>\n",
       "      <th>13</th>\n",
       "      <td>7.478715e-01</td>\n",
       "    </tr>\n",
       "    <tr>\n",
       "      <th>14</th>\n",
       "      <td>9.237259e-01</td>\n",
       "    </tr>\n",
       "    <tr>\n",
       "      <th>15</th>\n",
       "      <td>1.000000e+00</td>\n",
       "    </tr>\n",
       "  </tbody>\n",
       "</table>\n",
       "</div>"
      ],
      "text/plain": [
       "3     9.261000e-09\n",
       "4     9.411920e-07\n",
       "5     1.777958e-05\n",
       "6     2.085279e-04\n",
       "7     1.869959e-03\n",
       "8     9.663597e-03\n",
       "9     3.993155e-02\n",
       "10    1.165003e-01\n",
       "11    2.741183e-01\n",
       "12    5.114242e-01\n",
       "13    7.478715e-01\n",
       "14    9.237259e-01\n",
       "15    1.000000e+00\n",
       "Name: proportion, dtype: float64"
      ]
     },
     "execution_count": 21,
     "metadata": {},
     "output_type": "execute_result"
    }
   ],
   "source": [
    "from empiricaldist import Cdf\n",
    "\n",
    "cdf_max6 = Cdf(cdf_best3**3)\n",
    "cdf_max6"
   ]
  },
  {
   "cell_type": "code",
   "execution_count": 22,
   "metadata": {},
   "outputs": [
    {
     "data": {
      "text/html": [
       "<div>\n",
       "<style scoped>\n",
       "    .dataframe tbody tr th:only-of-type {\n",
       "        vertical-align: middle;\n",
       "    }\n",
       "\n",
       "    .dataframe tbody tr th {\n",
       "        vertical-align: top;\n",
       "    }\n",
       "\n",
       "    .dataframe thead th {\n",
       "        text-align: right;\n",
       "    }\n",
       "</style>\n",
       "<table border=\"1\" class=\"dataframe\">\n",
       "  <thead>\n",
       "    <tr style=\"text-align: right;\">\n",
       "      <th></th>\n",
       "      <th>probs</th>\n",
       "    </tr>\n",
       "  </thead>\n",
       "  <tbody>\n",
       "    <tr>\n",
       "      <th>3</th>\n",
       "      <td>8.576612e-17</td>\n",
       "    </tr>\n",
       "    <tr>\n",
       "      <th>4</th>\n",
       "      <td>8.858424e-13</td>\n",
       "    </tr>\n",
       "    <tr>\n",
       "      <th>5</th>\n",
       "      <td>3.161135e-10</td>\n",
       "    </tr>\n",
       "    <tr>\n",
       "      <th>6</th>\n",
       "      <td>4.348387e-08</td>\n",
       "    </tr>\n",
       "    <tr>\n",
       "      <th>7</th>\n",
       "      <td>3.496747e-06</td>\n",
       "    </tr>\n",
       "    <tr>\n",
       "      <th>8</th>\n",
       "      <td>9.338511e-05</td>\n",
       "    </tr>\n",
       "    <tr>\n",
       "      <th>9</th>\n",
       "      <td>1.594529e-03</td>\n",
       "    </tr>\n",
       "    <tr>\n",
       "      <th>10</th>\n",
       "      <td>1.357232e-02</td>\n",
       "    </tr>\n",
       "    <tr>\n",
       "      <th>11</th>\n",
       "      <td>7.514085e-02</td>\n",
       "    </tr>\n",
       "    <tr>\n",
       "      <th>12</th>\n",
       "      <td>2.615547e-01</td>\n",
       "    </tr>\n",
       "    <tr>\n",
       "      <th>13</th>\n",
       "      <td>5.593118e-01</td>\n",
       "    </tr>\n",
       "    <tr>\n",
       "      <th>14</th>\n",
       "      <td>8.532694e-01</td>\n",
       "    </tr>\n",
       "    <tr>\n",
       "      <th>15</th>\n",
       "      <td>1.000000e+00</td>\n",
       "    </tr>\n",
       "  </tbody>\n",
       "</table>\n",
       "</div>"
      ],
      "text/plain": [
       "3     8.576612e-17\n",
       "4     8.858424e-13\n",
       "5     3.161135e-10\n",
       "6     4.348387e-08\n",
       "7     3.496747e-06\n",
       "8     9.338511e-05\n",
       "9     1.594529e-03\n",
       "10    1.357232e-02\n",
       "11    7.514085e-02\n",
       "12    2.615547e-01\n",
       "13    5.593118e-01\n",
       "14    8.532694e-01\n",
       "15    1.000000e+00\n",
       "Name: proportion, dtype: float64"
      ]
     },
     "execution_count": 22,
     "metadata": {},
     "output_type": "execute_result"
    }
   ],
   "source": [
    "cdf_max_dist6 = cdf_best3.max_dist(6)\n",
    "cdf_max_dist6"
   ]
  },
  {
   "cell_type": "code",
   "execution_count": 23,
   "metadata": {},
   "outputs": [
    {
     "data": {
      "image/png": "[encoded data removed]",
      "text/plain": [
       "<Figure size 640x480 with 1 Axes>"
      ]
     },
     "metadata": {},
     "output_type": "display_data"
    }
   ],
   "source": [
    "cdf_3d6.plot(label = 'sum of 3')\n",
    "cdf_best3.plot(label = 'max 3')\n",
    "cdf_max6.plot(label = 'max 6')\n",
    "\n",
    "plt.legend()\n",
    "plt.show()"
   ]
  },
  {
   "cell_type": "code",
   "execution_count": 24,
   "metadata": {},
   "outputs": [
    {
     "data": {
      "text/html": [
       "<div>\n",
       "<style scoped>\n",
       "    .dataframe tbody tr th:only-of-type {\n",
       "        vertical-align: middle;\n",
       "    }\n",
       "\n",
       "    .dataframe tbody tr th {\n",
       "        vertical-align: top;\n",
       "    }\n",
       "\n",
       "    .dataframe thead th {\n",
       "        text-align: right;\n",
       "    }\n",
       "</style>\n",
       "<table border=\"1\" class=\"dataframe\">\n",
       "  <thead>\n",
       "    <tr style=\"text-align: right;\">\n",
       "      <th></th>\n",
       "      <th>probs</th>\n",
       "    </tr>\n",
       "  </thead>\n",
       "  <tbody>\n",
       "    <tr>\n",
       "      <th>3</th>\n",
       "      <td>9.261000e-09</td>\n",
       "    </tr>\n",
       "    <tr>\n",
       "      <th>4</th>\n",
       "      <td>9.319310e-07</td>\n",
       "    </tr>\n",
       "    <tr>\n",
       "      <th>5</th>\n",
       "      <td>1.683839e-05</td>\n",
       "    </tr>\n",
       "    <tr>\n",
       "      <th>6</th>\n",
       "      <td>1.907483e-04</td>\n",
       "    </tr>\n",
       "    <tr>\n",
       "      <th>7</th>\n",
       "      <td>1.661431e-03</td>\n",
       "    </tr>\n",
       "    <tr>\n",
       "      <th>8</th>\n",
       "      <td>7.793638e-03</td>\n",
       "    </tr>\n",
       "    <tr>\n",
       "      <th>9</th>\n",
       "      <td>3.026795e-02</td>\n",
       "    </tr>\n",
       "    <tr>\n",
       "      <th>10</th>\n",
       "      <td>7.656873e-02</td>\n",
       "    </tr>\n",
       "    <tr>\n",
       "      <th>11</th>\n",
       "      <td>1.576180e-01</td>\n",
       "    </tr>\n",
       "    <tr>\n",
       "      <th>12</th>\n",
       "      <td>2.373059e-01</td>\n",
       "    </tr>\n",
       "    <tr>\n",
       "      <th>13</th>\n",
       "      <td>2.364473e-01</td>\n",
       "    </tr>\n",
       "    <tr>\n",
       "      <th>14</th>\n",
       "      <td>1.758543e-01</td>\n",
       "    </tr>\n",
       "    <tr>\n",
       "      <th>15</th>\n",
       "      <td>7.627415e-02</td>\n",
       "    </tr>\n",
       "  </tbody>\n",
       "</table>\n",
       "</div>"
      ],
      "text/plain": [
       "3     9.261000e-09\n",
       "4     9.319310e-07\n",
       "5     1.683839e-05\n",
       "6     1.907483e-04\n",
       "7     1.661431e-03\n",
       "8     7.793638e-03\n",
       "9     3.026795e-02\n",
       "10    7.656873e-02\n",
       "11    1.576180e-01\n",
       "12    2.373059e-01\n",
       "13    2.364473e-01\n",
       "14    1.758543e-01\n",
       "15    7.627415e-02\n",
       "dtype: float64"
      ]
     },
     "execution_count": 24,
     "metadata": {},
     "output_type": "execute_result"
    }
   ],
   "source": [
    "cdf_max6.make_pmf()"
   ]
  },
  {
   "cell_type": "markdown",
   "metadata": {},
   "source": [
    "## 7.4 최솟값\n",
    "\n",
    "앞절에서 캐릭터의 최고 능력치의 분포를 구해보았다. 이제 최저 능력치 분포를 알아볼 차례다. \n",
    "\n",
    "최솟값의 분포를 구하려면 다음과 같이 구하는 상호보완 CDF를 사용한다."
   ]
  },
  {
   "cell_type": "code",
   "execution_count": 25,
   "metadata": {},
   "outputs": [],
   "source": [
    "prob_gt = 1 - cdf_best3 "
   ]
  },
  {
   "cell_type": "markdown",
   "metadata": {},
   "source": [
    "변수 이름에서 보다시피, 상호보완 CDF는 x보다 큰 분포 상의 값에 대한 확률이다. (gt = greater than) \n",
    "\n",
    "모든 6개의 값이 x를 초과할 확률은 다음과 같다. "
   ]
  },
  {
   "cell_type": "code",
   "execution_count": 26,
   "metadata": {},
   "outputs": [],
   "source": [
    "prob_gt6 = prob_gt ** 6"
   ]
  },
  {
   "cell_type": "markdown",
   "metadata": {},
   "source": [
    "만약 6개 속성값 모두가 x를 초과한다면, 최솟값 역시 x를 초과하므로, prob_gt6은 최솟값의 상호보완 CDF가 된다. \n",
    "\n",
    "즉 다음과 같이 최솟값의 CDF를 구할 수 있다."
   ]
  },
  {
   "cell_type": "code",
   "execution_count": 27,
   "metadata": {},
   "outputs": [
    {
     "data": {
      "image/png": "[encoded data removed]",
      "text/plain": [
       "<Figure size 640x480 with 1 Axes>"
      ]
     },
     "metadata": {},
     "output_type": "display_data"
    }
   ],
   "source": [
    "prob_le6 = 1 - prob_gt\n",
    "cdf_min6 = Cdf(prob_le6)\n",
    "cdf_min6.plot(label = \"min 6\")\n",
    "cdf_max6.plot(label = \"max 6\")\n",
    "plt.legend()\n",
    "plt.show()"
   ]
  },
  {
   "cell_type": "markdown",
   "metadata": {},
   "source": [
    "CDF 에는 동일한 기능을 하는 min_dist()가 있어서, 다음과 같이 최솟값의 CDF를 구할 수도 있다.\n",
    "\n",
    "```python\n",
    "cdf_min_dist6 = cdf_best3.min_dist(6)\n",
    "```\n",
    "\n",
    "그리고 이 두 값의 결과 차이가 거의 없다는 것도 확인할 수 있다.\n",
    "\n",
    "```python\n",
    "np.allclose(cdf_min_dist6, cdf_min6)\n",
    "```\n",
    "\n",
    "이 장의 끝의 연습문제에서, 베이지안 추론에 최댓값과 최솟값의 분포를 사용하게 된다. \n",
    "\n",
    "하지만 우선 혼합분포에서 무슨 일이 일어나는지 살펴보자."
   ]
  },
  {
   "cell_type": "markdown",
   "metadata": {},
   "source": [
    "## 7.5 혼합\n",
    "\n",
    "이 장에서는 다른 분포를 혼합한 분포를 구해보자. 이게 무엇인지는 몇 가지 간단한 예를 살펴보며 설명하겠다. \n",
    "\n",
    "이를 보다 쓸모있게 사용하기 위해, 이 혼합을 예측에 어떤 식으로 사용하는지를 살펴보자. 다음은 던전앤드래곤에서 가져온 또 다른 예제다.\n",
    "\n",
    "- 당신의 캐릭터가 한 손에는 대거로, 다른 손에는 숏소드로 무장했다고 가정하자. \n",
    "- 각 단계에서, 가지고 있는 두 개의 무기 중 임의로 하나를 골라 괴물을 공격한다. \n",
    "- 대거는 사면체 주사위를 한번 굴린 만큼의 피해를 주고, 단검은 육면체 주사위 하나를 굴린 만큼의 피해를 준다.\n",
    "- 이 때, 각 단계에서 주게 되는 피해의 분포는 어떻게 될까?"
   ]
  },
  {
   "cell_type": "code",
   "execution_count": 28,
   "metadata": {},
   "outputs": [
    {
     "data": {
      "text/html": [
       "<div>\n",
       "<style scoped>\n",
       "    .dataframe tbody tr th:only-of-type {\n",
       "        vertical-align: middle;\n",
       "    }\n",
       "\n",
       "    .dataframe tbody tr th {\n",
       "        vertical-align: top;\n",
       "    }\n",
       "\n",
       "    .dataframe thead th {\n",
       "        text-align: right;\n",
       "    }\n",
       "</style>\n",
       "<table border=\"1\" class=\"dataframe\">\n",
       "  <thead>\n",
       "    <tr style=\"text-align: right;\">\n",
       "      <th></th>\n",
       "      <th>probs</th>\n",
       "    </tr>\n",
       "  </thead>\n",
       "  <tbody>\n",
       "    <tr>\n",
       "      <th>1</th>\n",
       "      <td>0.166667</td>\n",
       "    </tr>\n",
       "    <tr>\n",
       "      <th>2</th>\n",
       "      <td>0.166667</td>\n",
       "    </tr>\n",
       "    <tr>\n",
       "      <th>3</th>\n",
       "      <td>0.166667</td>\n",
       "    </tr>\n",
       "    <tr>\n",
       "      <th>4</th>\n",
       "      <td>0.166667</td>\n",
       "    </tr>\n",
       "    <tr>\n",
       "      <th>5</th>\n",
       "      <td>0.166667</td>\n",
       "    </tr>\n",
       "    <tr>\n",
       "      <th>6</th>\n",
       "      <td>0.166667</td>\n",
       "    </tr>\n",
       "  </tbody>\n",
       "</table>\n",
       "</div>"
      ],
      "text/plain": [
       "1    0.166667\n",
       "2    0.166667\n",
       "3    0.166667\n",
       "4    0.166667\n",
       "5    0.166667\n",
       "6    0.166667\n",
       "dtype: float64"
      ]
     },
     "execution_count": 28,
     "metadata": {},
     "output_type": "execute_result"
    }
   ],
   "source": [
    "# 4면체 주사위 분포\n",
    "d4 = make_die(4)\n",
    "# 6면체 주사위 분포\n",
    "d6"
   ]
  },
  {
   "cell_type": "markdown",
   "metadata": {},
   "source": [
    "그럼 이제 1점의 피해를 줄 확률을 구해보자. \n",
    "\n",
    "- 대거로 공격한 경우, 1 점의 피해를 줄 확률은 $\\frac{1}{4}$ 이다. \n",
    "- 숏소드로 공격한 경우 1 점의 피해를 줄 확률은 $\\frac{1}{6}$ 이다. \n",
    "- 각 무기를 고를 확률은 $\\frac{1}{2}$이므로, 총 확률은 둘의 평균이다. "
   ]
  },
  {
   "cell_type": "code",
   "execution_count": 29,
   "metadata": {},
   "outputs": [
    {
     "data": {
      "text/plain": [
       "0.20833333333333331"
      ]
     },
     "execution_count": 29,
     "metadata": {},
     "output_type": "execute_result"
    }
   ],
   "source": [
    "prob_1 = (d4(1) + d6(1))/2\n",
    "prob_1"
   ]
  },
  {
   "cell_type": "markdown",
   "metadata": {},
   "source": [
    "2,3,4 가 나올 확률 역시 이와 동일하지만, 5,6 의 경우에는 다르다. \n",
    "\n",
    "사면체 주사위에서는 5,6 의 결과가 나올 수 없기 때문이다. \n",
    "\n",
    "이 혼합분포를 구하려면 가능한 결괏값에 대해 반복적으로 계산해서 확률을 구하면 된다. \n",
    "\n",
    "하지만 여기서는 동일한 연산을 + 연산자를 사용해서 처리한다."
   ]
  },
  {
   "cell_type": "code",
   "execution_count": 30,
   "metadata": {},
   "outputs": [
    {
     "data": {
      "image/png": "[encoded data removed]",
      "text/plain": [
       "<Figure size 640x480 with 1 Axes>"
      ]
     },
     "metadata": {},
     "output_type": "display_data"
    }
   ],
   "source": [
    "mix1 = (d4 + d6)/2\n",
    "\n",
    "mix1.bar(label = 'mix1')\n",
    "plt.legend()\n",
    "plt.show()"
   ]
  },
  {
   "cell_type": "markdown",
   "metadata": {},
   "source": [
    "이제 세 마리의 괴물과 전투를 한다고 하자.\n",
    "\n",
    "- 한 마리는 곤봉을 들고 있고, 이는 d4만큼의 피해를 준다.\n",
    "- 한 마리는 철퇴를 들고 있고, 이는 d6만큼의 피해를 준다.\n",
    "- 나머지 한 마리는 육척봉을 들고 있고, 이 경우도 육면체 주사위 하나만큼의 피해를 준다.\n",
    "- 근접 전투는 무질서하기 때문에, 매 라운드 무작위로 선택되는 몬스터 중 하나의 공격을 받게 된다. \n",
    "- 이 몬스터들이 주는 피해의 분포를 찾기 위해, 다음과 같이 이 분포에 대해 가중평균을 구해보자."
   ]
  },
  {
   "cell_type": "code",
   "execution_count": 31,
   "metadata": {},
   "outputs": [
    {
     "data": {
      "image/png": "[encoded data removed]",
      "text/plain": [
       "<Figure size 640x480 with 1 Axes>"
      ]
     },
     "metadata": {},
     "output_type": "display_data"
    }
   ],
   "source": [
    "mix2 = (d4 + 2 * d6)/3\n",
    "mix2.bar(label = 'mix2')\n",
    "plt.legend()\n",
    "plt.show()"
   ]
  },
  {
   "cell_type": "markdown",
   "metadata": {},
   "source": [
    "이 분포는 하나의 사면체 주사위와 두 개의 육면체 주사위의 혼합분포를 나타낸다. \n",
    "\n",
    "여기서는 분포의 확률을 더하는 + 연산자를 사용했는데, 이와 분포의 합에 대한 분포를 구하는 Pmf.add_dist() 와 헷갈리지 않도록 하자. \n",
    "\n",
    "이 차이에 대해 살펴보기 위해, Pmf.add_dist()를 사용해서 회차별 총 피해의 분포를 구해보도록 하겠다. \n",
    "\n",
    "아래는 두 혼합값의 합이다."
   ]
  },
  {
   "cell_type": "code",
   "execution_count": 32,
   "metadata": {},
   "outputs": [
    {
     "data": {
      "image/png": "[encoded data removed]",
      "text/plain": [
       "<Figure size 640x480 with 1 Axes>"
      ]
     },
     "metadata": {},
     "output_type": "display_data"
    }
   ],
   "source": [
    "total_damage = Pmf.add_dist(mix1, mix2)\n",
    "total_damage_2 = mix1 + mix2 \n",
    "total_damage.plot(label = \"add_dist\")\n",
    "total_damage_2.plot(label = \"+\")\n",
    "\n",
    "plt.legend()\n",
    "plt.show()"
   ]
  },
  {
   "cell_type": "markdown",
   "metadata": {},
   "source": [
    "즉 + 는 가중평균에 대한 분포를 나타내고, add_dist 는 두 개 이상의 분포의 합에 대한 분포를 나타낸다.\n",
    "\n",
    "## 7.6 일반적인 혼합\n",
    "\n",
    "앞선 예제에 대해 일반적인 방식을 살펴보자. \n",
    "\n",
    "- 세 마리의 괴물이 추가로 전투에 참여했다. 각 괴물은 8면체 주사위를 한번 굴린 결과만큼의 피해를 주는 전쟁도끼를 가지고 있다. \n",
    "- 여전히 회당 임의로 선택된 한 마리의 괴물만 공격하므로 이 때 몬스터에 의한 피해는 다음 분포의 혼합이다.\n",
    "  - 하나의 사면체 주사위(곤봉)\n",
    "  - 두 개의 육면체 주사위(철퇴, 육척봉)\n",
    "  - 세 개의 팔면체 주사위(전쟁도끼 * 3)\n",
    "- 임의로 선택된 괴물을 나타내기 위해 Pmf를 사용하자."
   ]
  },
  {
   "cell_type": "code",
   "execution_count": 33,
   "metadata": {},
   "outputs": [
    {
     "data": {
      "text/html": [
       "<div>\n",
       "<style scoped>\n",
       "    .dataframe tbody tr th:only-of-type {\n",
       "        vertical-align: middle;\n",
       "    }\n",
       "\n",
       "    .dataframe tbody tr th {\n",
       "        vertical-align: top;\n",
       "    }\n",
       "\n",
       "    .dataframe thead th {\n",
       "        text-align: right;\n",
       "    }\n",
       "</style>\n",
       "<table border=\"1\" class=\"dataframe\">\n",
       "  <thead>\n",
       "    <tr style=\"text-align: right;\">\n",
       "      <th></th>\n",
       "      <th>probs</th>\n",
       "    </tr>\n",
       "  </thead>\n",
       "  <tbody>\n",
       "    <tr>\n",
       "      <th>4</th>\n",
       "      <td>1</td>\n",
       "    </tr>\n",
       "    <tr>\n",
       "      <th>6</th>\n",
       "      <td>2</td>\n",
       "    </tr>\n",
       "    <tr>\n",
       "      <th>8</th>\n",
       "      <td>3</td>\n",
       "    </tr>\n",
       "  </tbody>\n",
       "</table>\n",
       "</div>"
      ],
      "text/plain": [
       "4    1\n",
       "6    2\n",
       "8    3\n",
       "dtype: int64"
      ]
     },
     "execution_count": 33,
     "metadata": {},
     "output_type": "execute_result"
    }
   ],
   "source": [
    "hypos = 4,6,8\n",
    "counts = 1,2,3\n",
    "pmf_dice = Pmf(counts, hypos)\n",
    "pmf_dice"
   ]
  },
  {
   "cell_type": "code",
   "execution_count": 34,
   "metadata": {},
   "outputs": [
    {
     "data": {
      "text/html": [
       "<div>\n",
       "<style scoped>\n",
       "    .dataframe tbody tr th:only-of-type {\n",
       "        vertical-align: middle;\n",
       "    }\n",
       "\n",
       "    .dataframe tbody tr th {\n",
       "        vertical-align: top;\n",
       "    }\n",
       "\n",
       "    .dataframe thead th {\n",
       "        text-align: right;\n",
       "    }\n",
       "</style>\n",
       "<table border=\"1\" class=\"dataframe\">\n",
       "  <thead>\n",
       "    <tr style=\"text-align: right;\">\n",
       "      <th></th>\n",
       "      <th>probs</th>\n",
       "    </tr>\n",
       "  </thead>\n",
       "  <tbody>\n",
       "    <tr>\n",
       "      <th>4</th>\n",
       "      <td>0.166667</td>\n",
       "    </tr>\n",
       "    <tr>\n",
       "      <th>6</th>\n",
       "      <td>0.333333</td>\n",
       "    </tr>\n",
       "    <tr>\n",
       "      <th>8</th>\n",
       "      <td>0.500000</td>\n",
       "    </tr>\n",
       "  </tbody>\n",
       "</table>\n",
       "</div>"
      ],
      "text/plain": [
       "4    0.166667\n",
       "6    0.333333\n",
       "8    0.500000\n",
       "dtype: float64"
      ]
     },
     "execution_count": 34,
     "metadata": {},
     "output_type": "execute_result"
    }
   ],
   "source": [
    "pmf_dice.normalize()\n",
    "pmf_dice"
   ]
  },
  {
   "cell_type": "markdown",
   "metadata": {},
   "source": [
    "이 분포는 주사위 종류와 각 주사위를 굴릴 확률을 나타낸다. 예를 들어 여섯 괴물 중 한 마리가 대거(d4)를 들고 있으므로, $\\frac{1}{6}$ 는 4면체 주사위를 사용한다.\n",
    "\n",
    "다음은 주사위를 나타내는 Pmf 객체의 sequence data이다. "
   ]
  },
  {
   "cell_type": "code",
   "execution_count": 35,
   "metadata": {},
   "outputs": [],
   "source": [
    "dice = [make_die(sides) for sides in hypos]"
   ]
  },
  {
   "cell_type": "markdown",
   "metadata": {},
   "source": [
    "혼합분포를 구하기 위해 pmf_dice의 확률값을 가중치로 해서 주사위의 가중평균을 구해보도록 하자.\n",
    "\n",
    "이 계산을 보다 간결하게 나타내려면, 분포를 판다스 데이터프레임에 넣는 것이 편하다. "
   ]
  },
  {
   "cell_type": "code",
   "execution_count": 36,
   "metadata": {},
   "outputs": [],
   "source": [
    "import pandas as pd\n",
    "\n",
    "df = pd.DataFrame(dice)"
   ]
  },
  {
   "cell_type": "markdown",
   "metadata": {},
   "source": [
    "결과는 각 분포당 한 행이 들어가고, 하나의 가능한 결괏값이 한 열에 들어가는 형태의 데이터프레임으로 나타낸다.\n",
    "\n",
    "모든 열의 길이가 같지 않으므로 이 경우 판다스는 빈 공간을 숫자가 아닌 특수값을 나타내는 'NaN' 으로 채운다. 이 떄 fillna를 통해 NaN 을 0으로 바꿀 수 있다."
   ]
  },
  {
   "cell_type": "code",
   "execution_count": 37,
   "metadata": {},
   "outputs": [],
   "source": [
    "df = df.fillna(0)"
   ]
  },
  {
   "cell_type": "code",
   "execution_count": 38,
   "metadata": {},
   "outputs": [
    {
     "data": {
      "text/html": [
       "<div>\n",
       "<style scoped>\n",
       "    .dataframe tbody tr th:only-of-type {\n",
       "        vertical-align: middle;\n",
       "    }\n",
       "\n",
       "    .dataframe tbody tr th {\n",
       "        vertical-align: top;\n",
       "    }\n",
       "\n",
       "    .dataframe thead th {\n",
       "        text-align: right;\n",
       "    }\n",
       "</style>\n",
       "<table border=\"1\" class=\"dataframe\">\n",
       "  <thead>\n",
       "    <tr style=\"text-align: right;\">\n",
       "      <th></th>\n",
       "      <th>d4</th>\n",
       "      <th>d6</th>\n",
       "      <th>d8</th>\n",
       "    </tr>\n",
       "  </thead>\n",
       "  <tbody>\n",
       "    <tr>\n",
       "      <th>1</th>\n",
       "      <td>0.25</td>\n",
       "      <td>0.166667</td>\n",
       "      <td>0.125</td>\n",
       "    </tr>\n",
       "    <tr>\n",
       "      <th>2</th>\n",
       "      <td>0.25</td>\n",
       "      <td>0.166667</td>\n",
       "      <td>0.125</td>\n",
       "    </tr>\n",
       "    <tr>\n",
       "      <th>3</th>\n",
       "      <td>0.25</td>\n",
       "      <td>0.166667</td>\n",
       "      <td>0.125</td>\n",
       "    </tr>\n",
       "    <tr>\n",
       "      <th>4</th>\n",
       "      <td>0.25</td>\n",
       "      <td>0.166667</td>\n",
       "      <td>0.125</td>\n",
       "    </tr>\n",
       "    <tr>\n",
       "      <th>5</th>\n",
       "      <td>0.00</td>\n",
       "      <td>0.166667</td>\n",
       "      <td>0.125</td>\n",
       "    </tr>\n",
       "    <tr>\n",
       "      <th>6</th>\n",
       "      <td>0.00</td>\n",
       "      <td>0.166667</td>\n",
       "      <td>0.125</td>\n",
       "    </tr>\n",
       "    <tr>\n",
       "      <th>7</th>\n",
       "      <td>0.00</td>\n",
       "      <td>0.000000</td>\n",
       "      <td>0.125</td>\n",
       "    </tr>\n",
       "    <tr>\n",
       "      <th>8</th>\n",
       "      <td>0.00</td>\n",
       "      <td>0.000000</td>\n",
       "      <td>0.125</td>\n",
       "    </tr>\n",
       "  </tbody>\n",
       "</table>\n",
       "</div>"
      ],
      "text/plain": [
       "     d4        d6     d8\n",
       "1  0.25  0.166667  0.125\n",
       "2  0.25  0.166667  0.125\n",
       "3  0.25  0.166667  0.125\n",
       "4  0.25  0.166667  0.125\n",
       "5  0.00  0.166667  0.125\n",
       "6  0.00  0.166667  0.125\n",
       "7  0.00  0.000000  0.125\n",
       "8  0.00  0.000000  0.125"
      ]
     },
     "execution_count": 38,
     "metadata": {},
     "output_type": "execute_result"
    }
   ],
   "source": [
    "df.index = ['d4', 'd6', 'd8']\n",
    "df = df.transpose()\n",
    "df"
   ]
  },
  {
   "cell_type": "markdown",
   "metadata": {},
   "source": [
    "이제 각 주사위 속 숫자가 뽑힐 확률(likelihood)과 pmf_dice(prior; 각 주사위가 뽑힐 확률)를 곱해보도록 하자. "
   ]
  },
  {
   "cell_type": "code",
   "execution_count": 39,
   "metadata": {},
   "outputs": [
    {
     "data": {
      "text/plain": [
       "array([0.16666667, 0.33333333, 0.5       ])"
      ]
     },
     "execution_count": 39,
     "metadata": {},
     "output_type": "execute_result"
    }
   ],
   "source": [
    "pmf_dice.ps"
   ]
  },
  {
   "cell_type": "code",
   "execution_count": 40,
   "metadata": {},
   "outputs": [
    {
     "data": {
      "text/plain": [
       "0.0625"
      ]
     },
     "execution_count": 40,
     "metadata": {},
     "output_type": "execute_result"
    }
   ],
   "source": [
    "0.125 /2 "
   ]
  },
  {
   "cell_type": "code",
   "execution_count": 41,
   "metadata": {},
   "outputs": [
    {
     "data": {
      "text/html": [
       "<div>\n",
       "<style scoped>\n",
       "    .dataframe tbody tr th:only-of-type {\n",
       "        vertical-align: middle;\n",
       "    }\n",
       "\n",
       "    .dataframe tbody tr th {\n",
       "        vertical-align: top;\n",
       "    }\n",
       "\n",
       "    .dataframe thead th {\n",
       "        text-align: right;\n",
       "    }\n",
       "</style>\n",
       "<table border=\"1\" class=\"dataframe\">\n",
       "  <thead>\n",
       "    <tr style=\"text-align: right;\">\n",
       "      <th></th>\n",
       "      <th>d4</th>\n",
       "      <th>d6</th>\n",
       "      <th>d8</th>\n",
       "    </tr>\n",
       "  </thead>\n",
       "  <tbody>\n",
       "    <tr>\n",
       "      <th>1</th>\n",
       "      <td>0.041667</td>\n",
       "      <td>0.055556</td>\n",
       "      <td>0.0625</td>\n",
       "    </tr>\n",
       "    <tr>\n",
       "      <th>2</th>\n",
       "      <td>0.041667</td>\n",
       "      <td>0.055556</td>\n",
       "      <td>0.0625</td>\n",
       "    </tr>\n",
       "    <tr>\n",
       "      <th>3</th>\n",
       "      <td>0.041667</td>\n",
       "      <td>0.055556</td>\n",
       "      <td>0.0625</td>\n",
       "    </tr>\n",
       "    <tr>\n",
       "      <th>4</th>\n",
       "      <td>0.041667</td>\n",
       "      <td>0.055556</td>\n",
       "      <td>0.0625</td>\n",
       "    </tr>\n",
       "    <tr>\n",
       "      <th>5</th>\n",
       "      <td>0.000000</td>\n",
       "      <td>0.055556</td>\n",
       "      <td>0.0625</td>\n",
       "    </tr>\n",
       "    <tr>\n",
       "      <th>6</th>\n",
       "      <td>0.000000</td>\n",
       "      <td>0.055556</td>\n",
       "      <td>0.0625</td>\n",
       "    </tr>\n",
       "    <tr>\n",
       "      <th>7</th>\n",
       "      <td>0.000000</td>\n",
       "      <td>0.000000</td>\n",
       "      <td>0.0625</td>\n",
       "    </tr>\n",
       "    <tr>\n",
       "      <th>8</th>\n",
       "      <td>0.000000</td>\n",
       "      <td>0.000000</td>\n",
       "      <td>0.0625</td>\n",
       "    </tr>\n",
       "  </tbody>\n",
       "</table>\n",
       "</div>"
      ],
      "text/plain": [
       "         d4        d6      d8\n",
       "1  0.041667  0.055556  0.0625\n",
       "2  0.041667  0.055556  0.0625\n",
       "3  0.041667  0.055556  0.0625\n",
       "4  0.041667  0.055556  0.0625\n",
       "5  0.000000  0.055556  0.0625\n",
       "6  0.000000  0.055556  0.0625\n",
       "7  0.000000  0.000000  0.0625\n",
       "8  0.000000  0.000000  0.0625"
      ]
     },
     "execution_count": 41,
     "metadata": {},
     "output_type": "execute_result"
    }
   ],
   "source": [
    "df *= pmf_dice.ps\n",
    "df"
   ]
  },
  {
   "cell_type": "markdown",
   "metadata": {},
   "source": [
    "그리고 가중분포를 더하자. \n",
    "\n",
    "axis = 1 이라는 인수는 행을 기준으로 더한다. (판다스) 결괏값은 판다스 시리즈 형태로 나온다. "
   ]
  },
  {
   "cell_type": "code",
   "execution_count": 42,
   "metadata": {},
   "outputs": [
    {
     "data": {
      "text/plain": [
       "1    0.159722\n",
       "2    0.159722\n",
       "3    0.159722\n",
       "4    0.159722\n",
       "5    0.118056\n",
       "6    0.118056\n",
       "7    0.062500\n",
       "8    0.062500\n",
       "dtype: float64"
      ]
     },
     "execution_count": 42,
     "metadata": {},
     "output_type": "execute_result"
    }
   ],
   "source": [
    "df.sum(axis = 1)"
   ]
  },
  {
   "cell_type": "code",
   "execution_count": 43,
   "metadata": {},
   "outputs": [
    {
     "data": {
      "text/html": [
       "<div>\n",
       "<style scoped>\n",
       "    .dataframe tbody tr th:only-of-type {\n",
       "        vertical-align: middle;\n",
       "    }\n",
       "\n",
       "    .dataframe tbody tr th {\n",
       "        vertical-align: top;\n",
       "    }\n",
       "\n",
       "    .dataframe thead th {\n",
       "        text-align: right;\n",
       "    }\n",
       "</style>\n",
       "<table border=\"1\" class=\"dataframe\">\n",
       "  <thead>\n",
       "    <tr style=\"text-align: right;\">\n",
       "      <th></th>\n",
       "      <th>probs</th>\n",
       "    </tr>\n",
       "  </thead>\n",
       "  <tbody>\n",
       "    <tr>\n",
       "      <th>1</th>\n",
       "      <td>0.159722</td>\n",
       "    </tr>\n",
       "    <tr>\n",
       "      <th>2</th>\n",
       "      <td>0.159722</td>\n",
       "    </tr>\n",
       "    <tr>\n",
       "      <th>3</th>\n",
       "      <td>0.159722</td>\n",
       "    </tr>\n",
       "    <tr>\n",
       "      <th>4</th>\n",
       "      <td>0.159722</td>\n",
       "    </tr>\n",
       "    <tr>\n",
       "      <th>5</th>\n",
       "      <td>0.118056</td>\n",
       "    </tr>\n",
       "    <tr>\n",
       "      <th>6</th>\n",
       "      <td>0.118056</td>\n",
       "    </tr>\n",
       "    <tr>\n",
       "      <th>7</th>\n",
       "      <td>0.062500</td>\n",
       "    </tr>\n",
       "    <tr>\n",
       "      <th>8</th>\n",
       "      <td>0.062500</td>\n",
       "    </tr>\n",
       "  </tbody>\n",
       "</table>\n",
       "</div>"
      ],
      "text/plain": [
       "1    0.159722\n",
       "2    0.159722\n",
       "3    0.159722\n",
       "4    0.159722\n",
       "5    0.118056\n",
       "6    0.118056\n",
       "7    0.062500\n",
       "8    0.062500\n",
       "dtype: float64"
      ]
     },
     "execution_count": 43,
     "metadata": {},
     "output_type": "execute_result"
    }
   ],
   "source": [
    "Pmf(df.sum(axis = 1))"
   ]
  },
  {
   "cell_type": "markdown",
   "metadata": {},
   "source": [
    "다음은 이 과정을 하나로 모은 가중혼합분포를 만드는 함수다. \n",
    "\n",
    "이 함수의 처음 인자는 각 가설별(d4,d6,d8) 확률을 나타낸 Pmf다. 두 번째 인자는 각각의 가설에 대한 Pmf 객체의 수열이다. "
   ]
  },
  {
   "cell_type": "code",
   "execution_count": 44,
   "metadata": {},
   "outputs": [],
   "source": [
    "def make_mixture(pmf:Pmf, pmf_seq:list or tuple)->Pmf:\n",
    "    \"\"\"\n",
    "    make mixture distribution\n",
    "    각 주사위가 선택될 사후확률 pmf_dice\n",
    "    각 주사위가 가능한 확률을 나타내는 Pmf 객체들의 sequence 데이터\n",
    "    \"\"\"\n",
    "    df = pd.DataFrame(pmf_seq).fillna(0).transpose()\n",
    "    df *= np.array(pmf)\n",
    "    total = df.sum(axis = 1)\n",
    "    return Pmf(total)"
   ]
  },
  {
   "cell_type": "code",
   "execution_count": 45,
   "metadata": {},
   "outputs": [
    {
     "data": {
      "text/html": [
       "<div>\n",
       "<style scoped>\n",
       "    .dataframe tbody tr th:only-of-type {\n",
       "        vertical-align: middle;\n",
       "    }\n",
       "\n",
       "    .dataframe tbody tr th {\n",
       "        vertical-align: top;\n",
       "    }\n",
       "\n",
       "    .dataframe thead th {\n",
       "        text-align: right;\n",
       "    }\n",
       "</style>\n",
       "<table border=\"1\" class=\"dataframe\">\n",
       "  <thead>\n",
       "    <tr style=\"text-align: right;\">\n",
       "      <th></th>\n",
       "      <th>probs</th>\n",
       "    </tr>\n",
       "  </thead>\n",
       "  <tbody>\n",
       "    <tr>\n",
       "      <th>1</th>\n",
       "      <td>0.159722</td>\n",
       "    </tr>\n",
       "    <tr>\n",
       "      <th>2</th>\n",
       "      <td>0.159722</td>\n",
       "    </tr>\n",
       "    <tr>\n",
       "      <th>3</th>\n",
       "      <td>0.159722</td>\n",
       "    </tr>\n",
       "    <tr>\n",
       "      <th>4</th>\n",
       "      <td>0.159722</td>\n",
       "    </tr>\n",
       "    <tr>\n",
       "      <th>5</th>\n",
       "      <td>0.118056</td>\n",
       "    </tr>\n",
       "    <tr>\n",
       "      <th>6</th>\n",
       "      <td>0.118056</td>\n",
       "    </tr>\n",
       "    <tr>\n",
       "      <th>7</th>\n",
       "      <td>0.062500</td>\n",
       "    </tr>\n",
       "    <tr>\n",
       "      <th>8</th>\n",
       "      <td>0.062500</td>\n",
       "    </tr>\n",
       "  </tbody>\n",
       "</table>\n",
       "</div>"
      ],
      "text/plain": [
       "1    0.159722\n",
       "2    0.159722\n",
       "3    0.159722\n",
       "4    0.159722\n",
       "5    0.118056\n",
       "6    0.118056\n",
       "7    0.062500\n",
       "8    0.062500\n",
       "dtype: float64"
      ]
     },
     "execution_count": 45,
     "metadata": {},
     "output_type": "execute_result"
    }
   ],
   "source": [
    "make_mixture(pmf_dice, dice)"
   ]
  },
  {
   "cell_type": "markdown",
   "metadata": {},
   "source": [
    "## 7.7 요약\n",
    "\n",
    "- 이 장에서는 누적분포함수를 나타내는 Cdf 객체를 다루었다. \n",
    "- Pmf와 이에 대응하는 Cdf의 경우, 둘이 동일한 정보를 가지고 있다는 점에서 등치하므로, 한 쪽에서 다른 한 쪽으로 빠르게 변환할 수 있다.\n",
    "- 이 둘의 기본적인 차이는 성능이다. 어떤 연산에서는 Pmf가 빠르고, 어떤 연산에서는 Cdf가 더 빠르다.\n",
    "- 이 장에서는 Cdf 객체를 사용해서 최댓값과 최솟값의 분포를 구했다. \n",
    "- 이 분포들은 데이터로 최댓값이나 최솟값이 주어졌을 때 이를 기반으로 추론하는 경우 유용하게 사용할 수 있다. \n",
    "- 또한 혼합값에 대한 분포도 다루었는데, 이를 사용해서 예측을 하는 부분에 대해서는 다음 장에서 다루도록 하자."
   ]
  },
  {
   "cell_type": "markdown",
   "metadata": {},
   "source": [
    "## 7.8 연습문제\n",
    "\n",
    "### 문제 7.1 \n",
    "\n",
    "- 던전앤드래곤 캐릭터를 만들 때, 주사위를 굴리는 대신 15,14,13,12,10,8 의 능력치를 부여하는 기본 분배값을 사용할 수 있다.\n",
    "- 기본분배값을 사용하는 것과 주사위를 굴리는 것 중 어느 것이 더 나을 것 같은가?\n",
    "- 기본 분배값의 분포를 앞서 구했던 주사위 넷 중 좋은 값 세 개에 대한 분포와 비교해보자. \n",
    "  - 어떤 분포의 평균이 더 높은가? mean()\n",
    "  - 어떤 분포의 표준편차가 더 큰가? std()\n",
    "  - 기본 분배값의 최솟값은 8이다. 각 능력치에서 8보다 더 적은 값이 나올 확률은 얼마인가? 주사위를 6번 굴렸을 때, 최소 하나 이상의 능력치가 8보다 낮을 확률은 얼마인가?\n",
    "  - 기본 분배값의 최대값은 15이다. 각 능력치에서 15보다 더 큰 값이 나올 확률은 얼마인가? 주사위를 6번 굴렸을 때, 최소 하나 이상의 능력치가 15보다 클 확률은 얼마인가?"
   ]
  },
  {
   "cell_type": "code",
   "execution_count": 46,
   "metadata": {},
   "outputs": [
    {
     "data": {
      "text/html": [
       "<div>\n",
       "<style scoped>\n",
       "    .dataframe tbody tr th:only-of-type {\n",
       "        vertical-align: middle;\n",
       "    }\n",
       "\n",
       "    .dataframe tbody tr th {\n",
       "        vertical-align: top;\n",
       "    }\n",
       "\n",
       "    .dataframe thead th {\n",
       "        text-align: right;\n",
       "    }\n",
       "</style>\n",
       "<table border=\"1\" class=\"dataframe\">\n",
       "  <thead>\n",
       "    <tr style=\"text-align: right;\">\n",
       "      <th></th>\n",
       "      <th>probs</th>\n",
       "    </tr>\n",
       "  </thead>\n",
       "  <tbody>\n",
       "    <tr>\n",
       "      <th>3</th>\n",
       "      <td>0.0021</td>\n",
       "    </tr>\n",
       "    <tr>\n",
       "      <th>4</th>\n",
       "      <td>0.0077</td>\n",
       "    </tr>\n",
       "    <tr>\n",
       "      <th>5</th>\n",
       "      <td>0.0163</td>\n",
       "    </tr>\n",
       "    <tr>\n",
       "      <th>6</th>\n",
       "      <td>0.0332</td>\n",
       "    </tr>\n",
       "    <tr>\n",
       "      <th>7</th>\n",
       "      <td>0.0639</td>\n",
       "    </tr>\n",
       "    <tr>\n",
       "      <th>8</th>\n",
       "      <td>0.0898</td>\n",
       "    </tr>\n",
       "    <tr>\n",
       "      <th>9</th>\n",
       "      <td>0.1288</td>\n",
       "    </tr>\n",
       "    <tr>\n",
       "      <th>10</th>\n",
       "      <td>0.1466</td>\n",
       "    </tr>\n",
       "    <tr>\n",
       "      <th>11</th>\n",
       "      <td>0.1612</td>\n",
       "    </tr>\n",
       "    <tr>\n",
       "      <th>12</th>\n",
       "      <td>0.1501</td>\n",
       "    </tr>\n",
       "    <tr>\n",
       "      <th>13</th>\n",
       "      <td>0.1080</td>\n",
       "    </tr>\n",
       "    <tr>\n",
       "      <th>14</th>\n",
       "      <td>0.0662</td>\n",
       "    </tr>\n",
       "    <tr>\n",
       "      <th>15</th>\n",
       "      <td>0.0261</td>\n",
       "    </tr>\n",
       "  </tbody>\n",
       "</table>\n",
       "</div>"
      ],
      "text/plain": [
       "3     0.0021\n",
       "4     0.0077\n",
       "5     0.0163\n",
       "6     0.0332\n",
       "7     0.0639\n",
       "8     0.0898\n",
       "9     0.1288\n",
       "10    0.1466\n",
       "11    0.1612\n",
       "12    0.1501\n",
       "13    0.1080\n",
       "14    0.0662\n",
       "15    0.0261\n",
       "Name: proportion, dtype: float64"
      ]
     },
     "execution_count": 46,
     "metadata": {},
     "output_type": "execute_result"
    }
   ],
   "source": [
    "pmf_best3 # cdf_best3"
   ]
  },
  {
   "cell_type": "code",
   "execution_count": 47,
   "metadata": {},
   "outputs": [
    {
     "name": "stdout",
     "output_type": "stream",
     "text": [
      "base mean: 12.0, base standard: 2.3804761428476167\n",
      "cdf_best3 mean: 10.4054, cdf_best3 std: 2.379674523963309\n"
     ]
    }
   ],
   "source": [
    "#  - 어떤 분포의 평균이 더 높은가? mean()\n",
    "#  - 어떤 분포의 표준편차가 더 큰가? std()\n",
    "\n",
    "base = [15,14,13,12,10,8]\n",
    "\n",
    "print(f'base mean: {np.mean(base)}, base standard: {np.std(base)}')\n",
    "\n",
    "print(f'cdf_best3 mean: {cdf_best3.mean()}, cdf_best3 std: {cdf_best3.std()}')"
   ]
  },
  {
   "cell_type": "code",
   "execution_count": 49,
   "metadata": {},
   "outputs": [
    {
     "name": "stdout",
     "output_type": "stream",
     "text": [
      "각 능력치에서 8보다 더 적은 값이 나올 확률: 0.1232, 주사위를 6번 굴렸을 때, 최소 하나 이상의 능력치가 8보다 낮을 확률: 0.12319999999999998\n",
      "각 능력치에서 15보다 더 큰 값이 나올 확률: 0.0, 주사위를 6번 굴렸을 때, 최소 하나 이상의 능력치가 15보다 클 확률: 0.0\n"
     ]
    }
   ],
   "source": [
    "#   - 기본 분배값의 최솟값은 8이다. 각 능력치에서 8보다 더 적은 값이 나올 확률은 얼마인가? 주사위를 6번 굴렸을 때, 최소 하나 이상의 능력치가 8보다 낮을 확률은 얼마인가?\n",
    "#   - 기본 분배값의 최대값은 15이다. 각 능력치에서 15보다 더 큰 값이 나올 확률은 얼마인가? 주사위를 6번 굴렸을 때, 최소 하나 이상의 능력치가 15보다 클 확률은 얼마인가?\n",
    "\n",
    "print(f'각 능력치에서 8보다 더 적은 값이 나올 확률: {cdf_best3.lt_dist(8)}, 주사위를 6번 굴렸을 때, 최소 하나 이상의 능력치가 8보다 낮을 확률: {cdf_min6.lt_dist(8)}')\n",
    "print(f'각 능력치에서 15보다 더 큰 값이 나올 확률: {cdf_best3.gt_dist(15)}, 주사위를 6번 굴렸을 때, 최소 하나 이상의 능력치가 15보다 클 확률: {cdf_max6.gt_dist(15)}')"
   ]
  },
  {
   "cell_type": "markdown",
   "metadata": {},
   "source": [
    "### 문제 7.2 \n",
    "\n",
    "- 세 마리의 괴물과 전투를 한다고 가정하자.\n",
    "  -  한 마리는 d6 의 피해를 주는 대거를 들고 있다.\n",
    "  -  한 마리는 d8 의 피해를 주는 워엑스를 들고 있다.\n",
    "  -  한 마리는 d10 만큼의 피해를 주는 바스타드 소드를 들고 있다.\n",
    "- 세 마리의 괴물 중 임의로 선택된 한 마리가 당신을 공격했고, 1 점의 피해를 얻었다. 이 괴물은 셋 중 어떤 괴물일까? \n",
    "- 각 괴물이 공격한 것에 대한 사후확률을 구하여라. 만약 동일한 괴물이 당신을 다시 공격했다면, 이 때 6점의 피해를 입을 확률은 얼마일까? \n",
    "- HINT: 이미 구한 사후분포를 사용해서 이를 make_mixture()의 인자 중 하나로 넣자."
   ]
  },
  {
   "cell_type": "code",
   "execution_count": null,
   "metadata": {},
   "outputs": [],
   "source": [
    "def make_mixture(pmf:Pmf, pmf_seq:list or tuple)->Pmf:\n",
    "    \"\"\"\n",
    "    make mixture distribution\n",
    "    각 주사위가 선택될 사후확률 pmf_dice\n",
    "    각 주사위가 가능한 확률을 나타내는 Pmf 객체들의 sequence 데이터\n",
    "    \"\"\"\n",
    "    df = pd.DataFrame(pmf_seq).fillna(0).transpose() # prior \n",
    "    df *= np.array(pmf)  # pmf = likelihood\n",
    "    total = df.sum(axis = 1)\n",
    "    return Pmf(total)"
   ]
  },
  {
   "cell_type": "code",
   "execution_count": 50,
   "metadata": {},
   "outputs": [
    {
     "data": {
      "text/html": [
       "<div>\n",
       "<style scoped>\n",
       "    .dataframe tbody tr th:only-of-type {\n",
       "        vertical-align: middle;\n",
       "    }\n",
       "\n",
       "    .dataframe tbody tr th {\n",
       "        vertical-align: top;\n",
       "    }\n",
       "\n",
       "    .dataframe thead th {\n",
       "        text-align: right;\n",
       "    }\n",
       "</style>\n",
       "<table border=\"1\" class=\"dataframe\">\n",
       "  <thead>\n",
       "    <tr style=\"text-align: right;\">\n",
       "      <th></th>\n",
       "      <th>probs</th>\n",
       "    </tr>\n",
       "  </thead>\n",
       "  <tbody>\n",
       "    <tr>\n",
       "      <th>6</th>\n",
       "      <td>0.425532</td>\n",
       "    </tr>\n",
       "    <tr>\n",
       "      <th>8</th>\n",
       "      <td>0.319149</td>\n",
       "    </tr>\n",
       "    <tr>\n",
       "      <th>10</th>\n",
       "      <td>0.255319</td>\n",
       "    </tr>\n",
       "  </tbody>\n",
       "</table>\n",
       "</div>"
      ],
      "text/plain": [
       "6     0.425532\n",
       "8     0.319149\n",
       "10    0.255319\n",
       "dtype: float64"
      ]
     },
     "execution_count": 50,
     "metadata": {},
     "output_type": "execute_result"
    }
   ],
   "source": [
    "# 1. 사후분포 구하기(각 괴물이 공격한 것에 대한 사후확률)\n",
    "\n",
    "\n",
    "hypos = 6,8,10\n",
    "prior = Pmf(1/3, hypos)\n",
    "likelihood = 1/prior.qs\n",
    "posterior = likelihood * prior\n",
    "posterior.normalize()\n",
    "posterior"
   ]
  },
  {
   "cell_type": "code",
   "execution_count": 51,
   "metadata": {},
   "outputs": [
    {
     "data": {
      "image/png": "[encoded data removed]",
      "text/plain": [
       "<Figure size 640x480 with 1 Axes>"
      ]
     },
     "metadata": {},
     "output_type": "display_data"
    }
   ],
   "source": [
    "# 동일한 괴물이 다시 공격했다면, 이 때 6점의 피해를 입을 확률\n",
    "\n",
    "ans = make_mixture(posterior, [make_die(sides) for sides in hypos])\n",
    "ans.bar()"
   ]
  },
  {
   "cell_type": "code",
   "execution_count": 54,
   "metadata": {},
   "outputs": [
    {
     "data": {
      "text/plain": [
       "0.13634751773049647"
      ]
     },
     "execution_count": 54,
     "metadata": {},
     "output_type": "execute_result"
    }
   ],
   "source": [
    "ans[6]"
   ]
  },
  {
   "cell_type": "code",
   "execution_count": null,
   "metadata": {},
   "outputs": [],
   "source": []
  }
 ],
 "metadata": {
  "kernelspec": {
   "display_name": "bayes",
   "language": "python",
   "name": "python3"
  },
  "language_info": {
   "codemirror_mode": {
    "name": "ipython",
    "version": 3
   },
   "file_extension": ".py",
   "mimetype": "text/x-python",
   "name": "python",
   "nbconvert_exporter": "python",
   "pygments_lexer": "ipython3",
   "version": "3.9.18"
  }
 },
 "nbformat": 4,
 "nbformat_minor": 2
}
