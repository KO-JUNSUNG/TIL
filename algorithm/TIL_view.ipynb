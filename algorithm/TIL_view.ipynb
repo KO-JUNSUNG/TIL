{
 "cells": [
  {
   "cell_type": "code",
   "execution_count": null,
   "metadata": {},
   "outputs": [],
   "source": [
    "# start filename 을 명령을 통해 VSCODE 에서 파일을 열 수 있습니다."
   ]
  },
  {
   "attachments": {},
   "cell_type": "markdown",
   "metadata": {},
   "source": [
    "강변에 빌딩들이 옆으로 빽빽하게 밀집한 지역이 있다.\n",
    "\n",
    "이곳에서는 빌딩들이 너무 좌우로 밀집하여, 강에 대한 조망은 모든 세대에서 좋지만 왼쪽 또는 오른쪽 창문을 열었을 때 바로 앞에 옆 건물이 보이는 경우가 허다하였다.\n",
    "\n",
    "그래서 이 지역에서는 왼쪽과 오른쪽으로 창문을 열었을 때, 양쪽 모두 거리 2 이상의 공간이 확보될 때 조망권이 확보된다고 말한다.\n",
    "\n",
    "빌딩들에 대한 정보가 주어질 때, 조망권이 확보된 세대의 수를 반환하는 프로그램을 작성하시오.\n",
    " \n",
    "아래와 같이 강변에 8채의 빌딩이 있을 때, 연두색으로 색칠된 여섯 세대에서는 좌우로 2칸 이상의 공백이 존재하므로 조망권이 확보된다. 따라서 답은 6이 된다.\n",
    "\n",
    "\n",
    "```python\n",
    "\n",
    "```\n",
    "\n",
    "\n",
    "A와 B로 표시된 세대의 경우는 왼쪽 조망은 2칸 이상 확보가 되었지만 오른쪽 조망은 한 칸 밖에 확보가 되지 않으므로 조망권을 확보하지 못하였다.\n",
    "\n",
    "C의 경우는 반대로 오른쪽 조망은 2칸이 확보가 되었지만 왼쪽 조망이 한 칸 밖에 확보되지 않았다.\n",
    " \n",
    "[제약 사항]\n",
    "\n",
    "가로 길이는 항상 1000이하로 주어진다.\n",
    "\n",
    "맨 왼쪽 두 칸과 맨 오른쪽 두 칸에는 건물이 지어지지 않는다. (예시에서 빨간색 땅 부분)\n",
    "\n",
    "각 빌딩의 높이는 최대 255이다.\n",
    " \n",
    "[입력]\n",
    "\n",
    "총 10개의 테스트케이스가 주어진다.\n",
    "\n",
    "각 테스트케이스의 첫 번째 줄에는 건물의 개수 N이 주어진다. (4 ≤ N ≤ 1000)\n",
    "\n",
    "그 다음 줄에는 N개의 건물의 높이가 주어진다. (0 ≤ 각 건물의 높이 ≤ 255)\n",
    "\n",
    "맨 왼쪽 두 칸과 맨 오른쪽 두 칸에 있는 건물은 항상 높이가 0이다. (예시에서 빨간색 땅 부분)\n",
    " \n",
    "[출력]\n",
    "\n",
    "#부호와 함께 테스트케이스의 번호를 출력하고, 공백 문자 후 조망권이 확보된 세대의 수를 출력한다."
   ]
  },
  {
   "cell_type": "code",
   "execution_count": null,
   "metadata": {},
   "outputs": [],
   "source": [
    "# 강사의 정답\n",
    "for _ in range(1,11):\n",
    "    T=int(input())\n",
    "    data=map(int,input().split())\n",
    "    result=0\n",
    "    for i in range(2,T-2):\n",
    "        tmp=max(data[i-2],data[i-1],data[i+1],data[i+2])\n",
    "        tmp= data[i]-tmp\n",
    "        if tmp <=0:\n",
    "            continue\n",
    "        else:\n",
    "            result+=tmp\n",
    "        print(f'#{_} {result}')"
   ]
  },
  {
   "cell_type": "code",
   "execution_count": null,
   "metadata": {},
   "outputs": [],
   "source": [
    "# 코드 1위\n",
    "t = 10\n",
    "for test in range(1, t+1):\n",
    "    n = int(input())\n",
    "    height = list(map(int, input().split()))\n",
    "    ans = 0\n",
    "    for i in range(2, n-2):\n",
    "        max_height = 0\n",
    "        for j in range(i-2, i+3):\n",
    "            if j != i:\n",
    "                max_height = max(max_height, height[j])\n",
    "        if max_height < height[i]:\n",
    "            ans += height[i] - max_height\n",
    "    print(\"#{} {}\".format(test, ans))"
   ]
  }
 ],
 "metadata": {
  "kernelspec": {
   "display_name": "base",
   "language": "python",
   "name": "python3"
  },
  "language_info": {
   "name": "python",
   "version": "3.9.12 (main, Apr  4 2022, 05:22:27) [MSC v.1916 64 bit (AMD64)]"
  },
  "orig_nbformat": 4,
  "vscode": {
   "interpreter": {
    "hash": "80cc27e9a0e8aa59b18a6f502b8a24c9fe77be3bcd87d0900d8763aa62f81a4d"
   }
  }
 },
 "nbformat": 4,
 "nbformat_minor": 2
}
