{
 "cells": [
  {
   "attachments": {},
   "cell_type": "markdown",
   "metadata": {},
   "source": [
    "- 2개의 수를 입력 받아 크기를 비교하여 등호 또는 부등호를 출력하는 프로그램을 작성하라.\n",
    "\n",
    "\n",
    "[제약 사항]\n",
    "\n",
    "- 각 수는 0 이상 10000 이하의 정수이다.\n",
    "\n",
    "\n",
    "[입력]\n",
    "\n",
    "- 가장 첫 줄에는 테스트 케이스의 개수 T가 주어지고, 그 아래로 각 테스트 케이스가 주어진다.\n",
    "\n",
    "- 각 테스트 케이스의 첫 번째 줄에는 2개의 수가 주어진다.\n",
    "\n",
    "\n",
    "[출력]\n",
    "\n",
    "- 출력의 각 줄은 '#t'로 시작하고, 공백을 한 칸 둔 다음 정답을 출력한다.\n",
    "\n",
    "- (t는 테스트 케이스의 번호를 의미하며 1부터 시작한다.)\n",
    " "
   ]
  },
  {
   "cell_type": "code",
   "execution_count": null,
   "metadata": {},
   "outputs": [],
   "source": [
    "T= int(input())\n",
    "for i in range(1,T+1):\n",
    "    T_list=list(map(int, input().split()))\n",
    "    if T_list[0] < T_list[1]:\n",
    "        print(f'#{i}',\"<\")\n",
    "    elif T_list[0] == T_list[1]:\n",
    "        print(f'#{i}',\"=\")\n",
    "    else:\n",
    "        print(f'#{i}',\">\")\n"
   ]
  }
 ],
 "metadata": {
  "language_info": {
   "name": "python"
  },
  "orig_nbformat": 4
 },
 "nbformat": 4,
 "nbformat_minor": 2
}
