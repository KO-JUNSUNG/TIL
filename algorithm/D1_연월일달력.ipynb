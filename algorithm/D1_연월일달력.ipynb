{
 "cells": [
  {
   "attachments": {},
   "cell_type": "markdown",
   "metadata": {},
   "source": [
    "해당 날짜의 유효성을 판단한 후, 날짜가 유효하다면\n",
    "\n",
    "[그림1] 과 같이 ”YYYY/MM/DD”형식으로 출력하고,\n",
    "\n",
    "날짜가 유효하지 않을 경우, -1 을 출력하는 프로그램을 작성하라.\n",
    "\n",
    "\n",
    "연월일로 구성된 입력에서 월은 1~12 사이 값을 가져야 하며\n",
    "\n",
    "일은 [표1] 과 같이, 1일 ~ 각각의 달에 해당하는 날짜까지의 값을 가질 수 있다."
   ]
  },
  {
   "cell_type": "code",
   "execution_count": null,
   "metadata": {},
   "outputs": [],
   "source": [
    "from datetime import datetime\n",
    " \n",
    "# 변수부\n",
    "T = int(input())\n",
    " \n",
    "# 메인\n",
    "for i in range(1, T + 1):\n",
    "    try:    # 예외처리문\n",
    "        date = input()\n",
    "        ans = datetime.strptime(date, \"%Y%m%d\")  # datetime.datetime method\n",
    "        ans = str(ans)\n",
    "        ans = ans.replace(\"-\", \"/\").split()[0]  # - 를 / 로 대체, 띄어쓰기를 기준으로 첫번쨰 원소 -> 2222/02/28 을 선택\n",
    "        print(f'#{i}', ans)\n",
    "    except ValueError:\n",
    "        print(f'#{i}', -1)"
   ]
  }
 ],
 "metadata": {
  "language_info": {
   "name": "python"
  },
  "orig_nbformat": 4
 },
 "nbformat": 4,
 "nbformat_minor": 2
}
