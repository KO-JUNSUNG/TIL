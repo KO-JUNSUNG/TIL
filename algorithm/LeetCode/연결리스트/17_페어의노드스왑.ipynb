{
 "cells": [
  {
   "attachments": {},
   "cell_type": "markdown",
   "metadata": {},
   "source": [
    "# 연결 리스트를 입력 받아 페어 단위로 스왑하라.\n",
    "\n",
    "- 입력\n",
    "\n",
    "```python\n",
    "1->2->3->4\n",
    "```\n",
    "\n",
    "- 출력\n",
    "```python\n",
    "2->1->4->3\n",
    "```"
   ]
  },
  {
   "cell_type": "code",
   "execution_count": 1,
   "metadata": {},
   "outputs": [],
   "source": [
    "# 준비\n",
    "\n",
    "class ListNode:\n",
    "    def __init__(self, val=0, next=None):\n",
    "        self.val = val\n",
    "        self.next = next\n",
    "\n",
    "l_node_3 = ListNode(4)\n",
    "l_node_2 = ListNode(3, l_node_3)\n",
    "l_node_1 = ListNode(2, l_node_2)\n",
    "l_node_0 = ListNode(1, l_node_1)"
   ]
  },
  {
   "cell_type": "code",
   "execution_count": null,
   "metadata": {},
   "outputs": [],
   "source": [
    "# 값만 교환\n",
    "def duelSwap(head:ListNode)->ListNode:\n",
    "    cur = head\n",
    "    while cur and cur.next:\n",
    "        # 값만 교환\n",
    "        cur.val , cur.next.val = cur.next.val, cur.val\n",
    "        cur = cur.next.next\n",
    "    return head"
   ]
  },
  {
   "cell_type": "code",
   "execution_count": null,
   "metadata": {},
   "outputs": [],
   "source": [
    "# 반복구조로 스왑\n",
    "def swapPairs(head:ListNode)->ListNode:\n",
    "    root = prev = ListNode(None):\n",
    "    prev.next = head\n",
    "    while head and head.next:\n",
    "        # b가 a(head) 를 가리키도록 할당\n",
    "        b = head.next\n",
    "        head.next = b.next\n",
    "        b.next = head\n",
    "\n",
    "        # prev 가 b를 가리키도록 할당\n",
    "        prev.next = b\n",
    "\n",
    "        # 다음번 비교를 위해 이동\n",
    "        head = head.next\n",
    "        prev = prev.next.next\n",
    "    return root.next\n"
   ]
  },
  {
   "cell_type": "code",
   "execution_count": null,
   "metadata": {},
   "outputs": [],
   "source": [
    "# 재귀구조로 스왑\n",
    "1\n",
    "def swapPairs(head:ListNode)->ListNode:\n",
    "    if head and head.next:\n",
    "        p = head.next\n",
    "        # 스왑된 값 리턴 받음\n",
    "        head.next = swapPairs(p.next)\n",
    "        p.next = head\n",
    "        return p\n",
    "    return head\n"
   ]
  }
 ],
 "metadata": {
  "kernelspec": {
   "display_name": "base",
   "language": "python",
   "name": "python3"
  },
  "language_info": {
   "codemirror_mode": {
    "name": "ipython",
    "version": 3
   },
   "file_extension": ".py",
   "mimetype": "text/x-python",
   "name": "python",
   "nbconvert_exporter": "python",
   "pygments_lexer": "ipython3",
   "version": "3.9.13"
  },
  "orig_nbformat": 4
 },
 "nbformat": 4,
 "nbformat_minor": 2
}
