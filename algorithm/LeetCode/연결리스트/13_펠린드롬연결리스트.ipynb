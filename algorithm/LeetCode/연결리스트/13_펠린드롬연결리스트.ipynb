{
 "cells": [
  {
   "attachments": {},
   "cell_type": "markdown",
   "metadata": {},
   "source": [
    "# 연결 리스트가 팰린드롬 구조인지 판별하라. \n",
    "\n",
    "- 입력\n",
    "\n",
    "```python\n",
    "1->2\n",
    "1->2->2->1\n",
    "```\n",
    "\n",
    "\n",
    "\n",
    "- 출력\n",
    "\n",
    "```python\n",
    "false\n",
    "true\n",
    "```"
   ]
  },
  {
   "cell_type": "code",
   "execution_count": 6,
   "metadata": {},
   "outputs": [
    {
     "data": {
      "text/plain": [
       "True"
      ]
     },
     "execution_count": 6,
     "metadata": {},
     "output_type": "execute_result"
    }
   ],
   "source": [
    "# 내 풀이\n",
    "\n",
    "from typing import List\n",
    "\n",
    "data = \"1->2->2->1\"\n",
    "data = list(data.split(\"->\")) # 분할하고\n",
    "\n",
    "def ispalindrome(s:List[int])->bool:\n",
    "    if s == s[::-1]: # 펠린드롬 처리\n",
    "        return True\n",
    "    else:\n",
    "        return False\n",
    "ispalindrome(data)"
   ]
  },
  {
   "cell_type": "code",
   "execution_count": 12,
   "metadata": {},
   "outputs": [
    {
     "name": "stdout",
     "output_type": "stream",
     "text": [
      "True\n"
     ]
    }
   ],
   "source": [
    "# 필요한 노드 클래스 정의\n",
    "class ListNode:\n",
    "    def __init__(self, val=0, next=None):\n",
    "        self.val = val\n",
    "        self.next = next\n",
    "\n",
    "# 풀이 1) 리스트 변환\n",
    "from typing import List\n",
    "\n",
    "def isPalindrome(head: ListNode) -> bool:\n",
    "    q: List = []\n",
    "\n",
    "    if not head: # head가 None인 경우 (링크드 리스트가 비어있는 경우) True를 반환\n",
    "        # 그렇지 않은 경우, node 변수에 head를 할당\n",
    "        return True\n",
    "    \n",
    "    node = head\n",
    "\n",
    "    # 리스트 변환\n",
    "    while node is not None: # 연결된 값이 존재하는 동안 계속해서 append, node4 의 next 값이 None 이므로 node4 에서 루프가 종료된다.\n",
    "        q.append(node.val)\n",
    "        node = node.next\n",
    "    # 결과  : [1,2,2,1]\n",
    "    # 팰린드롬 판별\n",
    "    while len(q) > 1:\n",
    "        if q.pop(0) != q.pop():\n",
    "            return False\n",
    "    return True\n",
    "\n",
    "# 링크드 리스트 생성\n",
    "node4 = ListNode(1)\n",
    "node3 = ListNode(2, node4)\n",
    "node2 = ListNode(2, node3)\n",
    "node1 = ListNode(1, node2)\n",
    "\n",
    "# 함수 호출\n",
    "print(isPalindrome(node1))\n",
    "\n"
   ]
  },
  {
   "attachments": {},
   "cell_type": "markdown",
   "metadata": {},
   "source": [
    "- val=0은 ListNode 클래스의 생성자(__init__)에서 매개변수 val의 기본값을 0으로 지정한 것입니다. 이렇게 기본값을 설정해주는 이유는 링크드 리스트의 노드를 생성할 때 값이 주어지지 않은 경우, 기본값으로 0을 사용하여 노드를 생성하기 위해서입니다.\n",
    "\n",
    "- 예를 들어, ListNode 클래스의 객체를 생성할 때 val을 명시하지 않으면 기본적으로 0이라는 값을 가지도록 되어 있습니다. 따라서 다음과 같이 노드를 생성할 수 있습니다:\n",
    "```python\n",
    "node = ListNode()  # val=0인 노드 생성\n",
    "```\n",
    "- 만약 기본값을 설정하지 않았다면, val이라는 매개변수를 명시해주지 않으면 TypeError가 발생할 것입니다. 따라서 기본값을 설정하여 노드 생성 시 유연성을 제공할 수 있습니다.\n",
    "\n",
    "- 또한, 기본값을 사용하면 매개변수를 생략할 수도 있으므로 코드 작성 시 간결성을 높일 수 있습니다.\n"
   ]
  },
  {
   "cell_type": "code",
   "execution_count": 13,
   "metadata": {},
   "outputs": [
    {
     "name": "stdout",
     "output_type": "stream",
     "text": [
      "True\n"
     ]
    }
   ],
   "source": [
    "# 2) 데크 최적화\n",
    "import collections\n",
    "\n",
    "def isPalindrome(head) -> bool:\n",
    "    q: Deque = collections.deque() #리스트(=시간복잡도 O(n), 값을 꺼내오면 모든 값이 한칸씩 시프팅 되기 때문)가 아니라 \n",
    "    # deque(=이중 연결 리스트 구조) 를 사용하면 양쪽 방향 모두 추출하는데 시간 복잡도 O(1)에 실행된다. \n",
    "\n",
    "    if not head:\n",
    "        return True\n",
    "    \n",
    "    node = head\n",
    "\n",
    "    # 리스트 변환\n",
    "    while node is not None:\n",
    "        q.append(node.val)\n",
    "        node = node.next\n",
    "\n",
    "    # 팰린드롬 판별\n",
    "\n",
    "    while len(q)> 1:\n",
    "        if q.popleft() != q.pop():\n",
    "            return False\n",
    "    return True\n",
    "\n",
    "print(isPalindrome(node1))"
   ]
  },
  {
   "attachments": {},
   "cell_type": "markdown",
   "metadata": {},
   "source": [
    "- 사실 이 팰린드롬 연결 리스트 문제의 제대로 된 풀이법은 런너 기법을 활용하는 것이다."
   ]
  },
  {
   "cell_type": "code",
   "execution_count": null,
   "metadata": {},
   "outputs": [],
   "source": [
    "# 런너를 이용한 우아한 풀이"
   ]
  }
 ],
 "metadata": {
  "kernelspec": {
   "display_name": "base",
   "language": "python",
   "name": "python3"
  },
  "language_info": {
   "codemirror_mode": {
    "name": "ipython",
    "version": 3
   },
   "file_extension": ".py",
   "mimetype": "text/x-python",
   "name": "python",
   "nbconvert_exporter": "python",
   "pygments_lexer": "ipython3",
   "version": "3.9.13"
  },
  "orig_nbformat": 4
 },
 "nbformat": 4,
 "nbformat_minor": 2
}
