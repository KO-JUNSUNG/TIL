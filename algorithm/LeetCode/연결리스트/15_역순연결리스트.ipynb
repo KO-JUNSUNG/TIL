{
 "cells": [
  {
   "attachments": {},
   "cell_type": "markdown",
   "metadata": {},
   "source": [
    "# 연결리스트를 뒤집어라.\n",
    "\n",
    "- 입력\n",
    "```python\n",
    "1->2->3->4->5->NULL\n",
    "```\n",
    "\n",
    "- 출력\n",
    "\n",
    "```python\n",
    "5->4->3->2->1->NULL\n",
    "```"
   ]
  },
  {
   "cell_type": "code",
   "execution_count": 4,
   "metadata": {},
   "outputs": [],
   "source": [
    "# 준비\n",
    "\n",
    "class ListNode:\n",
    "    def __init__(self, val=0, next=None):\n",
    "        self.val = val\n",
    "        self.next = next"
   ]
  },
  {
   "cell_type": "code",
   "execution_count": 21,
   "metadata": {},
   "outputs": [],
   "source": [
    "node_5 = ListNode(5)\n",
    "node_4 = ListNode(4, node_5)\n",
    "node_3 = ListNode(3, node_4)\n",
    "node_2 = ListNode(2, node_3)\n",
    "node_1 = ListNode(1, node_2)"
   ]
  },
  {
   "cell_type": "code",
   "execution_count": 8,
   "metadata": {},
   "outputs": [],
   "source": [
    "# 나의 풀이: 리스트 변환  공간복잡도 = O(n)\n",
    "\n",
    "def reverseNode(head:ListNode)->ListNode:\n",
    "    lst = []\n",
    "    node = head\n",
    "    # 리스트 변환\n",
    "    while node is not None:\n",
    "        lst.append(node.val)\n",
    "        node = node.next\n",
    "    # 리스트를 이용해 연결리스트 생성\n",
    "    if not lst:\n",
    "        return None\n",
    "    new_head = ListNode(lst[-1])  # ListNode(5), index = 4\n",
    "    curr = new_head\n",
    "    for i in range(len(lst)-2, -1, -1): # 3, -1, -1\n",
    "        curr.next = ListNode(lst[i]) # ListNode(5,ListNode(4)) -> curr = ListNode(4) -> ListNode(4, ListNode(3))\n",
    "        curr = curr.next\n",
    "    return new_head"
   ]
  },
  {
   "cell_type": "code",
   "execution_count": 10,
   "metadata": {},
   "outputs": [],
   "source": [
    "result = reverseNode(node_1)"
   ]
  },
  {
   "cell_type": "code",
   "execution_count": 11,
   "metadata": {},
   "outputs": [
    {
     "name": "stdout",
     "output_type": "stream",
     "text": [
      "5 4 3 2 1 \n"
     ]
    }
   ],
   "source": [
    "def printLinkedList(node):\n",
    "    while node:\n",
    "        print(node.val, end=\" \")\n",
    "        node = node.next\n",
    "    print()\n",
    "\n",
    "# 결과 출력\n",
    "printLinkedList(result)"
   ]
  },
  {
   "cell_type": "code",
   "execution_count": 13,
   "metadata": {},
   "outputs": [],
   "source": [
    "# 재귀구조로 뒤집기\n",
    "\n",
    "def reverseList(head:ListNode)->ListNode:\n",
    "    def reverse(node: ListNode, prev: ListNode = None):\n",
    "        if not node:\n",
    "            return prev\n",
    "        next, node.next = node.next, prev\n",
    "        return reverse(next, node)\n",
    "    \n",
    "    return reverse(head)"
   ]
  },
  {
   "attachments": {},
   "cell_type": "markdown",
   "metadata": {},
   "source": [
    "- 다음 노드 next 와 현재 노드 node 를 파라미터로 지정한 함수를 계속해서 재귀호출한다. \n",
    "1. node.next 에는 이전 prev 리스트를 계속 연결해주면서 node 가 None 이 될 때까지 재귀호출하면 마지막에는 백트래킹되면서 연결리스트가 거꾸로 연결된다.\n",
    "2. 여기서 맨 처음에 리턴된 prev 는 뒤집힌 연결 리스트의 첫번쨰 노드가 된다."
   ]
  },
  {
   "cell_type": "code",
   "execution_count": 22,
   "metadata": {},
   "outputs": [],
   "source": [
    "# 반복구조로 뒤집기, 이게 좀 더 직관적인듯?\n",
    "\n",
    "def reverseList(head:ListNode)->ListNode:\n",
    "    node, prev = head, None\n",
    "\n",
    "    while node:\n",
    "        next, node.next = node.next , prev\n",
    "        prev, node = node, next\n",
    "    return prev"
   ]
  },
  {
   "cell_type": "code",
   "execution_count": null,
   "metadata": {},
   "outputs": [],
   "source": [
    "# 코드 이해를 위해 좀 더 직관적으로 수정(순서)\n",
    "\n",
    "def reverseList(head:ListNode)->ListNode:\n",
    "    node = head # (1, (2->3))\n",
    "    prev = None\n",
    "\n",
    "    while node: # node 가 None 이 아닌 동안 계속 순환\n",
    "        next = node.next  # next 라는 변수에 기존 이동 위치를 저장\n",
    "        node.next = prev # node.next 에 prev(None) 을 할당하여 기존 노드가 ListNode(1) 로 변화 (= 1->None)\n",
    "        prev = node # 다음 노드로 이동함. prev 에 현재 노드를 할당하여 한 칸 이동. \n",
    "        node = next # 미리 따로 저장해놨던 기존 이동 위치로 포인트를 이동 \n",
    "    return prev # roop 를 빠져 나오면(next = None이 되면, 5->None) 여태까지 계속 다시 거꾸로 연결해놨던 listnode 들을 접근\n",
    "# 1->2->3->4->5  ==> 5->4->3->2->1 "
   ]
  },
  {
   "cell_type": "code",
   "execution_count": 23,
   "metadata": {},
   "outputs": [],
   "source": [
    "result = reverseList(node_1)"
   ]
  },
  {
   "cell_type": "code",
   "execution_count": 24,
   "metadata": {},
   "outputs": [
    {
     "name": "stdout",
     "output_type": "stream",
     "text": [
      "5 4 3 2 1 \n"
     ]
    }
   ],
   "source": [
    "printLinkedList(result)"
   ]
  },
  {
   "attachments": {},
   "cell_type": "markdown",
   "metadata": {},
   "source": [
    "- 마찬가지로 node.next 를 이전 prev 리스트로 계속 연결하면서 끝날 떄까지 반복한다.\n",
    "1. node 가 None 이 될 때 prev 는 뒤집힌 연결 리스트의 첫번쨰 노드가 된다.  \n",
    "2. next, node.next = node.next, prev 로 다중할당하는 부분은 재귀나 반복 양쪽 모두 동일하다. \n",
    "3. 일부러 이름도 head 가 node 가 되도록 동일하게 맞췄다.\n",
    "4. 반복 풀이의 경우 prev 에 node를, node에 next 를 별도로 셋팅하며 이를 이용해 node가 None 이 될 때까지 계속 while 문을 돌게 된다."
   ]
  }
 ],
 "metadata": {
  "kernelspec": {
   "display_name": "base",
   "language": "python",
   "name": "python3"
  },
  "language_info": {
   "codemirror_mode": {
    "name": "ipython",
    "version": 3
   },
   "file_extension": ".py",
   "mimetype": "text/x-python",
   "name": "python",
   "nbconvert_exporter": "python",
   "pygments_lexer": "ipython3",
   "version": "3.9.13"
  },
  "orig_nbformat": 4
 },
 "nbformat": 4,
 "nbformat_minor": 2
}
