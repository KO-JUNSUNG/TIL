{
 "cells": [
  {
   "attachments": {},
   "cell_type": "markdown",
   "metadata": {},
   "source": [
    "# 정렬되어 있는 두 연결 리스트를 합쳐라.\n",
    "\n",
    "- 입력\n",
    "```python\n",
    "1->2->4, 1->3->4\n",
    "```\n",
    "- 출력\n",
    "```python\n",
    "1->1->2->3->4->4\n",
    "```"
   ]
  },
  {
   "cell_type": "code",
   "execution_count": 6,
   "metadata": {},
   "outputs": [],
   "source": [
    "# 준비단계 함수부\n",
    "class ListNode:\n",
    "    def __init__(self, val=0, next=None):\n",
    "        self.val = val\n",
    "        self.next = next\n",
    "\n",
    "from typing import List\n",
    "\n",
    "l1_node_2 =ListNode(4)\n",
    "l1_node_1 = ListNode(2,l1_node_2)\n",
    "l1_node_0 = ListNode(1, l1_node_1)\n",
    "\n",
    "l2_node_2 = ListNode(4)\n",
    "l2_node_1 = ListNode(3,l2_node_2)\n",
    "l2_node_0 = ListNode(1,l2_node_1)"
   ]
  },
  {
   "cell_type": "code",
   "execution_count": 7,
   "metadata": {},
   "outputs": [],
   "source": [
    "# 풀이 1. 재귀 구조로 연결\n",
    "\n",
    "def mergeTwoLists(l1: ListNode, l2: ListNode) -> ListNode:\n",
    "    if (not l1) or (l2 and l1.val > l2.val): # l1 이 none 이 아니고 l2 가 none이 아니면서 l1.val > l2.val 이라면 순서를 바꾼다.\n",
    "        l1,l2 = l2, l1\n",
    "    if l1: # l1 이 비어있지 않은 동안(none 이 아닌 동안) l1 의 next 를 재귀호출한다.\n",
    "        l1.next = mergeTwoLists(l1.next, l2)\n",
    "    return l1\n",
    "\n",
    "# 먼저 l1 과 l2 의 값을 비교해 작은 값이 왼쪽에 오게 하고 next 는 그 다음 값이 엮이도록 재귀호출하는 게 이 전체 코드의 전부다.\n",
    "\n",
    "result = mergeTwoLists(l1_node_0,l2_node_0)"
   ]
  },
  {
   "cell_type": "code",
   "execution_count": 8,
   "metadata": {},
   "outputs": [
    {
     "name": "stdout",
     "output_type": "stream",
     "text": [
      "1 1 2 3 4 4 \n"
     ]
    }
   ],
   "source": [
    "# 결과 출력을 위한 함수 정의\n",
    "def printLinkedList(node):\n",
    "    while node:\n",
    "        print(node.val, end=\" \")\n",
    "        node = node.next\n",
    "    print()\n",
    "\n",
    "# 결과 출력\n",
    "printLinkedList(result)"
   ]
  }
 ],
 "metadata": {
  "kernelspec": {
   "display_name": "base",
   "language": "python",
   "name": "python3"
  },
  "language_info": {
   "codemirror_mode": {
    "name": "ipython",
    "version": 3
   },
   "file_extension": ".py",
   "mimetype": "text/x-python",
   "name": "python",
   "nbconvert_exporter": "python",
   "pygments_lexer": "ipython3",
   "version": "3.9.13"
  },
  "orig_nbformat": 4
 },
 "nbformat": 4,
 "nbformat_minor": 2
}
