{
 "cells": [
  {
   "attachments": {},
   "cell_type": "markdown",
   "metadata": {},
   "source": [
    "# 0 을 완료하기 위해서는 1을 끝내야 한다는 것을 [0,1] 쌍으로 표현하는 n 개의 코스가 있다. \n",
    "# 코스 개수 n 과 이 쌍들을 입력으로 받았을 때 모든 코스가 완료 가능한지 판별하라.\n",
    "\n",
    "- 입력\n",
    "```python\n",
    "2, [[1,0]]\n",
    "```\n",
    "- 출력\n",
    "```python\n",
    "true\n",
    "```\n",
    "\n",
    "- 설명\n",
    "    - 2개의 코스가 있으며, 1을 완료하기 위해 0을 끝내면 된다. 따라서 가능하다.\n",
    "\n",
    "- 입력\n",
    "\n",
    "```python\n",
    "2, [[1,0],[0,1]]\n",
    "```\n",
    "\n",
    "```python\n",
    "false\n",
    "```\n",
    "- 설명\n",
    "    - 2개의 코스가 있으며, 1을 완료하기 위해 0을 끝내야 하고 0을 끝내기 위해서는 1을 끝내야 한다. 따라서 불가능하다.\n"
   ]
  },
  {
   "cell_type": "code",
   "execution_count": null,
   "metadata": {},
   "outputs": [],
   "source": [
    "# DFS 로 순환 구조 판별하기\n"
   ]
  },
  {
   "cell_type": "code",
   "execution_count": null,
   "metadata": {},
   "outputs": [],
   "source": [
    "# 가지치기로 최적화하기"
   ]
  }
 ],
 "metadata": {
  "language_info": {
   "name": "python"
  },
  "orig_nbformat": 4
 },
 "nbformat": 4,
 "nbformat_minor": 2
}
