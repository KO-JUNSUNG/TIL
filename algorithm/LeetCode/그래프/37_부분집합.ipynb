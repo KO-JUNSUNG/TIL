{
 "cells": [
  {
   "attachments": {},
   "cell_type": "markdown",
   "metadata": {},
   "source": [
    "# 모든 부분 집합을 리턴하라.\n",
    "\n",
    "- 입력 \n",
    "\n",
    "```python\n",
    "nums = [1,2,3]\n",
    "```\n",
    "\n",
    "- 출력\n",
    "\n",
    "```python\n",
    "[\n",
    "    []\n",
    "    [1],\n",
    "    [2],\n",
    "    [3],\n",
    "    [1,2],\n",
    "    [1,3],\n",
    "    [2,3],\n",
    "    [1,2,3]\n",
    "]\n",
    "```"
   ]
  },
  {
   "attachments": {
    "image-2.png": {
     "image/png": "[encoded data removed]"
    }
   },
   "cell_type": "markdown",
   "metadata": {},
   "source": [
    "- 이 문제는 다음 그림과 같이 트리를 구성하고 트리를 DFS 하는 문제로 풀이할 수 있다.\n",
    "\n",
    "![image-2.png](attachment:image-2.png)\n",
    "\n",
    "\n",
    "1. 입력값이 1,2,3 일 때 그림과 같은 간단한 트리를 구성한다면, 이를 DFS 하여 원하는 결과를 출력할 수 있다. 코드는 다음과 같다.\n",
    "\n",
    "    ```python\n",
    "    def dfs(index, path):\n",
    "        ...\n",
    "        for i in range(index, len(nums)):\n",
    "            dfs(i+1, path + [nums[i]])\n",
    "    ```\n",
    "\n",
    "2. 경로 path 를 만들어가면서 인덱스를 1씩 증가하는 형태로 깊이 탐색한다.\n",
    "3. 별도의 종료 조건 없이 탐색이 끝나면 자동으로 함수가 종료되게 한다.\n",
    "4. 곰곰이 생각해보면 부분집합은 모든 탐색의 경로가 결국 정답이 되므로, 다음과 같이 탐색할 때마다 매번 결과를 추가하면 된다.\n",
    "\n",
    "    ```python\n",
    "    def dfs(index, path):\n",
    "        ...\n",
    "        result.append(path)\n",
    "    ```"
   ]
  },
  {
   "cell_type": "code",
   "execution_count": 5,
   "metadata": {},
   "outputs": [],
   "source": [
    "# 트리의 모든 DFS 결과\n",
    "from typing import List\n",
    "\n",
    "def subSet(nums: List[int])->List[List[int]]:\n",
    "    result = []\n",
    "    def dfs(index, path):\n",
    "        # 매번 결과 추가\n",
    "        result.append(path)\n",
    "        for i in range(index, len(nums)):\n",
    "            # 경로를 만들면서 DFS\n",
    "            dfs(i+1, path + [nums[i]])\n",
    "    dfs(0, [])\n",
    "    return result"
   ]
  },
  {
   "cell_type": "code",
   "execution_count": 6,
   "metadata": {},
   "outputs": [
    {
     "data": {
      "text/plain": [
       "[[], [1], [1, 2], [1, 2, 3], [1, 3], [2], [2, 3], [3]]"
      ]
     },
     "execution_count": 6,
     "metadata": {},
     "output_type": "execute_result"
    }
   ],
   "source": [
    "subSet([1,2,3])\n",
    "# 경로가 그대로 보인다. 좋은 문제네."
   ]
  }
 ],
 "metadata": {
  "kernelspec": {
   "display_name": "base",
   "language": "python",
   "name": "python3"
  },
  "language_info": {
   "codemirror_mode": {
    "name": "ipython",
    "version": 3
   },
   "file_extension": ".py",
   "mimetype": "text/x-python",
   "name": "python",
   "nbconvert_exporter": "python",
   "pygments_lexer": "ipython3",
   "version": "3.9.13"
  },
  "orig_nbformat": 4
 },
 "nbformat": 4,
 "nbformat_minor": 2
}
