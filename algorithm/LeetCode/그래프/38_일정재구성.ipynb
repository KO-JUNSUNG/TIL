{
 "cells": [
  {
   "attachments": {},
   "cell_type": "markdown",
   "metadata": {},
   "source": [
    "# [from,to] 로 구성된 항공권 목록을 이용해 JFK 에서 출발하는 여행 일정을 구성하라. \n",
    "# 여러 일정이 있는 경우 사전 어휘 순(Lexical Order)으로 방문한다.\n",
    "\n",
    "- 입력\n",
    "```python\n",
    "[[\"MUC\", \"LHR\"], [\"JFK\", \"MUC\"], [\"SFO\",\"SJC\"], [\"LHR\",\"SFO\"]]\n",
    "```\n",
    "\n",
    "- 출력\n",
    " \n",
    "```python\n",
    "[\"JFK\",\"MUC\",\"LHR\",\"SFO\",\"SJC\"]\n",
    "```"
   ]
  },
  {
   "cell_type": "code",
   "execution_count": 8,
   "metadata": {},
   "outputs": [
    {
     "name": "stdout",
     "output_type": "stream",
     "text": [
      "[['JFK', 'MUC'], ['LHR', 'SFO'], ['MUC', 'LHR'], ['SFO', 'SJC']]\n"
     ]
    }
   ],
   "source": [
    "import collections\n",
    "tickets = [[\"MUC\", \"LHR\"], [\"JFK\", \"MUC\"], [\"SFO\",\"SJC\"], [\"LHR\",\"SFO\"]]\n",
    "graph = collections.defaultdict(list)\n",
    "print(sorted(tickets))"
   ]
  },
  {
   "cell_type": "code",
   "execution_count": 9,
   "metadata": {},
   "outputs": [
    {
     "name": "stdout",
     "output_type": "stream",
     "text": [
      "defaultdict(<class 'list'>, {'JFK': ['MUC'], 'LHR': ['SFO'], 'MUC': ['LHR'], 'SFO': ['SJC']})\n"
     ]
    }
   ],
   "source": [
    "tickets = [[\"MUC\", \"LHR\"], [\"JFK\", \"MUC\"], [\"SFO\",\"SJC\"], [\"LHR\",\"SFO\"]]\n",
    "graph = collections.defaultdict(list)\n",
    "for a,b in sorted(tickets):\n",
    "    graph[a].append(b)\n",
    "route = []\n",
    "print(graph)"
   ]
  },
  {
   "cell_type": "code",
   "execution_count": 5,
   "metadata": {},
   "outputs": [],
   "source": [
    "def dfs(a):\n",
    "        # 첫번째 값을 읽어 어휘 순 방문 == dict key 방문\n",
    "        while graph[a]: \n",
    "            dfs(graph[a].pop(0))  # graph['JFK'] = 'MUC' -> dfs(['MUC'].pop(0))  pop 하는 이유? 출발한 위치를 재방문하지 않기 위해서!\n",
    "        route.append(a)"
   ]
  },
  {
   "cell_type": "code",
   "execution_count": 6,
   "metadata": {},
   "outputs": [],
   "source": [
    "dfs('JFK')"
   ]
  },
  {
   "cell_type": "code",
   "execution_count": 7,
   "metadata": {},
   "outputs": [
    {
     "name": "stdout",
     "output_type": "stream",
     "text": [
      "['SJC', 'SFO', 'LHR', 'MUC', 'JFK']\n"
     ]
    }
   ],
   "source": [
    "print(route)"
   ]
  },
  {
   "cell_type": "code",
   "execution_count": null,
   "metadata": {},
   "outputs": [],
   "source": [
    "# 최종 코드\n",
    "# DFS 로 일정 그래프 구성\n",
    "import collections\n",
    "\n",
    "tickets = [[\"MUC\", \"LHR\"], [\"JFK\", \"MUC\"], [\"SFO\",\"SJC\"], [\"LHR\",\"SFO\"]]\n",
    "def findItinerary(tickets):\n",
    "\n",
    "    graph = collections.defaultdict(list)\n",
    "    # 그래프 순서대로 구성\n",
    "    for a,b in sorted(tickets):\n",
    "        graph[a].append(b)\n",
    "    route = []\n",
    "    def dfs(a):\n",
    "        # 첫번째 값을 읽어 어휘 순 방문\n",
    "        while graph[a]:\n",
    "            dfs(graph[a].pop(0))\n",
    "        route.append(a)\n",
    "    dfs('JFK')\n",
    "    # 다시 뒤집어 어휘 순 결과로\n",
    "    return route[::-1]\n",
    "\n",
    "findItinerary(tickets)\n",
    "    "
   ]
  },
  {
   "attachments": {},
   "cell_type": "markdown",
   "metadata": {},
   "source": [
    "1. 먼저 그래프를 구성하는 작업이 필요하다. 다음과 같이 구현할 수 있다.\n",
    "    ```python\n",
    "    graph = collections.defaultdict(list)\n",
    "    for a,b in tickets:\n",
    "        graph[a].append(b)\n",
    "    for a in graph:\n",
    "        graph[a].sort()\n",
    "    ```\n",
    "2. 어휘순으로 방문해야 하기 떄문에 일단 그래프를 구성한 후에 다시 꺼내 정렬하는 방식을 택했다. \n",
    "3. 그러나 매번 이렇게 정렬하지 않고 애초에 tickets 를 한번만 정렬해도 결과는 동일하다.\n",
    "4. 이제 그래프에서 하나씩 꺼낼 차례다. pop()으로 재귀호출하면서 모두 꺼내 결과에 추가한다.\n",
    "5. 결과 리스트에는 역순으로 담기게 될 것이며, pop()으로 처리했기 떄문에 그래프에서는 해당 경로가 사라지게 되어 재방문하게 되지 않을 것이다.\n",
    "6. 앞서도 강조했으나 여기서 중요한 점은 어휘순으로 방문해야한다는 점이다. 따라서 어휘순으로 그래프를 생성했기 떄문에 pop(0)으로 첫번쨰 값을 읽어야 한다.\n",
    "    - 라고는 했는데, 0이 아니라 그냥 pop()을 써도 결과가 똑같이 나온다.\n",
    "\n",
    "    ```python\n",
    "    def dfs(a):\n",
    "        while graph[a]:\n",
    "            dfs(graph[a].pop(0))\n",
    "        route.append(a)\n",
    "    ```\n",
    "7. 굳이 따지면 큐의 연산은 수행한다. 마지막에는 다시 뒤집어서 어휘순으로 맨처음 읽어들였던 값이 처음이 되게 한다.\n"
   ]
  },
  {
   "attachments": {},
   "cell_type": "markdown",
   "metadata": {},
   "source": [
    "- 어떻게 코드가 실행되는가? 순서도를 그려보자.\n",
    "    1. dfs('JFK') 가 실행된다. \n",
    "    2. dfs('MUC') 가 실행된다. (graph['JFK'] = 'MUC') 실행되면서(값을 꺼내오면서), .pop(0) 가 실행되어 graph['JFK'] 의 value 인 MUC 가 dict 에서 삭제된다.\n",
    "    3. dfs('LHR') -> dfs('SFO') -> dfs('SJC') 순으로 차례로 실행되면서 value 들이 dict 에서 삭제된다. \n",
    "    4. 다 실행된 후, 역순으로 value 들(a)이 route 에 삽입된다.\n",
    "    5. route 를 역순으로 불러온다. "
   ]
  }
 ],
 "metadata": {
  "kernelspec": {
   "display_name": "base",
   "language": "python",
   "name": "python3"
  },
  "language_info": {
   "codemirror_mode": {
    "name": "ipython",
    "version": 3
   },
   "file_extension": ".py",
   "mimetype": "text/x-python",
   "name": "python",
   "nbconvert_exporter": "python",
   "pygments_lexer": "ipython3",
   "version": "3.9.13"
  },
  "orig_nbformat": 4
 },
 "nbformat": 4,
 "nbformat_minor": 2
}
