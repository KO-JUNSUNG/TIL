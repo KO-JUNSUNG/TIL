{
 "cells": [
  {
   "attachments": {},
   "cell_type": "markdown",
   "metadata": {},
   "source": [
    "# 전체 수 n을 입력 받아 k개의 조합을 리턴하라.\n",
    "\n",
    "- 입력\n",
    "```python\n",
    "n = 4, k = 2\n",
    "```\n",
    "\n",
    "- 출력\n",
    "\n",
    "```python\n",
    "[[1, 2], [1, 3], [1, 4], [2, 3], [2, 4], [3, 4]]\n",
    "```"
   ]
  },
  {
   "cell_type": "code",
   "execution_count": 8,
   "metadata": {},
   "outputs": [],
   "source": [
    "# DFS로 K개의 조합 생성\n",
    "def combine(n:int, k:int):\n",
    "    results = []\n",
    "\n",
    "    def dfs(elements, start: int, k: int):\n",
    "        if k == 0: # 재귀가 끝에 도달하면 요소를 추가 == 리프노드에 도달하면 요소를 추가\n",
    "            results.append(elements[:])\n",
    "            return\n",
    "        \n",
    "        # 자신 이외의 모든 값을 고정하여 재귀 호출\n",
    "        for i in range(start, n+1): # start 를 지정함으로써 자신 이외의 모든 값을 고정할 수 있다.\n",
    "            elements.append(i)\n",
    "            dfs(elements, i+1, k - 1)\n",
    "            elements.pop() # 백트래킹이 한번 끝나면 차례로 pop 해 재귀호출된 수 만큼 elements 를 비움 \n",
    "        \n",
    "    dfs([],1,k)\n",
    "    return results"
   ]
  },
  {
   "cell_type": "code",
   "execution_count": 9,
   "metadata": {},
   "outputs": [
    {
     "data": {
      "text/plain": [
       "[[1, 2], [1, 3], [1, 4], [2, 3], [2, 4], [3, 4]]"
      ]
     },
     "execution_count": 9,
     "metadata": {},
     "output_type": "execute_result"
    }
   ],
   "source": [
    "combine(4,2)"
   ]
  },
  {
   "attachments": {},
   "cell_type": "markdown",
   "metadata": {},
   "source": [
    "- 순열의 경우 자기 자신을 제외하고 모든 요소를 next_elements 로 처리했으나 이와 달리 조합의 경우 자기 자신뿐만 아니라 앞의 모든 요소를 배제하고 next_elements 를 구성한다.\n",
    "- 이를 elements 라는 이름으로 처리했다.\n",
    "\n",
    "```python\n",
    "    def dfs(elements, start: int, k: int):\n",
    "        if k == 0: # 재귀가 끝에 도달하면 요소를 추가 == 리프노드에 도달하면 요소를 추가\n",
    "            results.append(elements[:])\n",
    "            return\n",
    "        \n",
    "        # 자신 이외의 모든 값을 고정하여 재귀 호출\n",
    "        for i in range(start, n+1):\n",
    "            elements.append(i)\n",
    "            dfs(elements, start + i, k - 1)\n",
    "            elements.pop() \n",
    "```\n",
    "\n",
    "- 여기서부터는 1부터 순서대로 for 문을 반복하되, 재귀호출할 때 넘겨주는 값은 자기 자신 이전의 모든 값을 고정하여 넘긴다. \n",
    "- 따라서 남아있는 값끼리 나머지 조합을 수행하게 되며, k=0 이 되면 결과에 삽입한다.\n",
    "- 마찬가지로 참조로 처리되지 않도록, 결과는 [:] 연산자로 값 자체를 복사해 추가한다.\n"
   ]
  },
  {
   "attachments": {},
   "cell_type": "markdown",
   "metadata": {},
   "source": []
  }
 ],
 "metadata": {
  "kernelspec": {
   "display_name": "base",
   "language": "python",
   "name": "python3"
  },
  "language_info": {
   "codemirror_mode": {
    "name": "ipython",
    "version": 3
   },
   "file_extension": ".py",
   "mimetype": "text/x-python",
   "name": "python",
   "nbconvert_exporter": "python",
   "pygments_lexer": "ipython3",
   "version": "3.9.13"
  },
  "orig_nbformat": 4
 },
 "nbformat": 4,
 "nbformat_minor": 2
}
