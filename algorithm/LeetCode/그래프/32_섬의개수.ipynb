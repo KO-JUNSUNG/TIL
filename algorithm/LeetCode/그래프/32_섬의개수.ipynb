{
 "cells": [
  {
   "attachments": {},
   "cell_type": "markdown",
   "metadata": {},
   "source": [
    "# 1을 육지로, 0을 물로 가정한 2D 그리드맵이 주어졌을 때, 섬의 개수를 계산하라. (연결되어 있는 1의 덩어리 개수를 구하라.)\n",
    "\n",
    "- 입력\n",
    "\n",
    "```python\n",
    "11110\n",
    "11010\n",
    "11000\n",
    "00000\n",
    "\n",
    "11000\n",
    "11000\n",
    "00100\n",
    "00011\n",
    "```\n",
    "\n",
    "- 출력\n",
    "```python\n",
    "1\n",
    "\n",
    "3\n",
    "```"
   ]
  },
  {
   "cell_type": "code",
   "execution_count": null,
   "metadata": {},
   "outputs": [],
   "source": [
    "# DFS 로 그래프 탐색\n",
    "## 방향벡터를 잘 활용해야함\n",
    "# 입력값이 정확히 그래프는 아니지만, 사실상 동서남북이 모두 연결된 그래프로 가정하고 동일한 형태로 처리할 수 있으며, 네 방향 각각 DFS 재귀를 통해 탐색을 끝마치면 1이 증가하는 형태로 육지의 개수를 파악할 수 있음.\n",
    "from typing import List\n",
    "\n",
    "def numIslands(grid, List[List[str]])-> int:\n",
    "    # 중첩함수\n",
    "    def dfs(i, j):\n",
    "    # 더 이상 땅이 아닌 경우 종료\n",
    "    # i = 행, j = 열\n",
    "        if i < 0 or i >= len(grid) or \\   \n",
    "            j < 0 or j>= len(grid[0]) or \\  \n",
    "            grid[i][j] != '1':\n",
    "                return\n",
    "        \n",
    "        grid[i][j] = '0' # 가지치기. 육지(1)를 더 이상 육지가 아닌 것으로 만들어 다시 계산하지 않게 설정함.\n",
    "\n",
    "        # 동서남북 동시탐색 = 방향벡터 사용\n",
    "\n",
    "        dfs(grid, i, j+1) # 동\n",
    "        dfs(grid, i+1, j) # 남\n",
    "        dfs(grid, i, j-1) # 서\n",
    "        dfs(grid, i-1, j) # 북\n",
    "        \n",
    "    # 예외 처리\n",
    "    if not grid:\n",
    "            return 0 \n",
    "    count = 0\n",
    "    for i in range(len(grid)):\n",
    "        for j in range(len(grid[0])):\n",
    "              if grid[i][j] == '1':\n",
    "                    dfs(grid,i,j)\n",
    "                    # 모든 육지 탐색 후 카운트 1 증가 = 섬 하나 발견\n",
    "                    count += 1\n",
    "    return count\n"
   ]
  }
 ],
 "metadata": {
  "language_info": {
   "name": "python"
  },
  "orig_nbformat": 4
 },
 "nbformat": 4,
 "nbformat_minor": 2
}
