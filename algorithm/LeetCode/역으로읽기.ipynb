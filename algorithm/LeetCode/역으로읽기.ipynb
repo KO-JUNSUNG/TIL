{
 "cells": [
  {
   "attachments": {},
   "cell_type": "markdown",
   "metadata": {},
   "source": [
    "- 문자열을 뒤집는 함수를 작성하라. 입력값은 문자 배열이며, 리턴 없이 리스트 내부를 직접 조작하라.\n",
    "\n",
    "1. 예시: hello -> olleh"
   ]
  },
  {
   "cell_type": "code",
   "execution_count": 2,
   "metadata": {},
   "outputs": [],
   "source": [
    "# 투포인터 방식\n",
    "\n",
    "from typing import List\n",
    "\n",
    "def reverse_str(s: List[str]) -> None:\n",
    "    left = 0\n",
    "    right = len(s) - 1 \n",
    "\n",
    "    while left < right:\n",
    "        s[left], s[right] = s[right], s[left]\n",
    "        left += 1\n",
    "        right -= 1\n",
    "\n",
    "string = \"hello\"\n",
    "string = list(string)\n",
    "reverse_str(string)\n",
    "\n",
    "# 타입힌트를 작성하려니 에러가 생긴다. 이유가 뭐지.\n",
    "# 아 ! 이유를 알았다. str 이라고 변수명을 지정해버림으로써, 기존 타입 str 이 데이터타입으로서 읽히지 않는 것이다!\n",
    "# 터미널을 다시 열고 아래의 str = \"hello\" , str = list(str) 을 string = \"hello\" 이하로 수정해주었다. "
   ]
  },
  {
   "cell_type": "code",
   "execution_count": 3,
   "metadata": {},
   "outputs": [
    {
     "name": "stdout",
     "output_type": "stream",
     "text": [
      "['o', 'l', 'l', 'e', 'h']\n"
     ]
    }
   ],
   "source": [
    "print(string)"
   ]
  },
  {
   "cell_type": "code",
   "execution_count": 4,
   "metadata": {},
   "outputs": [
    {
     "name": "stdout",
     "output_type": "stream",
     "text": [
      "['o', 'l', 'l', 'e', 'h']\n"
     ]
    }
   ],
   "source": [
    "# 파이써닉한 방식\n",
    "\n",
    "# 변수 초기화\n",
    "from typing import List\n",
    "string = \"hello\"\n",
    "string = list(string)\n",
    "\n",
    "# 함수부\n",
    "\n",
    "def reverse_string(string: List[str]) -> None:\n",
    "    string.reverse() # List 에만 적용 가능하고, 단순한 string 에서는 작동하지 않는다.\n",
    "\n",
    "reverse_string(string)\n",
    "print(string)"
   ]
  }
 ],
 "metadata": {
  "kernelspec": {
   "display_name": "base",
   "language": "python",
   "name": "python3"
  },
  "language_info": {
   "codemirror_mode": {
    "name": "ipython",
    "version": 3
   },
   "file_extension": ".py",
   "mimetype": "text/x-python",
   "name": "python",
   "nbconvert_exporter": "python",
   "pygments_lexer": "ipython3",
   "version": "3.9.13"
  },
  "orig_nbformat": 4
 },
 "nbformat": 4,
 "nbformat_minor": 2
}
