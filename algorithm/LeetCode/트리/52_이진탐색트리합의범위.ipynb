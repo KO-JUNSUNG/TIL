{
 "cells": [
  {
   "attachments": {},
   "cell_type": "markdown",
   "metadata": {},
   "source": [
    "# 이진탐색트리가 주어졌을 때 L이상 R 이하의 값을 지닌 노드의 합을 구하라.\n",
    "\n",
    "- 입력\n",
    "\n",
    "```python\n",
    "root = [10,5,15,3,7,null,18], L = 7, R = 15\n",
    "```\n",
    "\n",
    "- 출력\n",
    "\n",
    "```python\n",
    "32\n",
    "```\n",
    "\n",
    "- 설명\n",
    "\n",
    "7 이상 15 이하인 다른 노드에는 10이 있으며 따라서 결과는 7+10+15 = 32 가 된다."
   ]
  },
  {
   "cell_type": "code",
   "execution_count": 2,
   "metadata": {},
   "outputs": [],
   "source": [
    "class TreeNode:\n",
    "    def __init__(self, val = 0, left = None, right = None):\n",
    "        self.val = val\n",
    "        self.left = left\n",
    "        self.right = right\n",
    "\n",
    "\n",
    "def BuildTree(nodes, index):\n",
    "    node = None\n",
    "    # 현재 인덱스가 데이터 리스트의 범위를 벗어나지 않고, 노드가 None이 아닌 경우에만 노드를 생성합니다.\n",
    "    if index < len(nodes) and nodes[index] is not None:\n",
    "        # 현재 인덱스에 해당하는 값으로 새로운 노드를 생성합니다.\n",
    "        node = TreeNode(nodes[index])\n",
    "        # 왼쪽 자식 노드를 생성하기 위해 재귀적으로 build_tree 함수를 호출합니다.\n",
    "        # 왼쪽 자식 노드의 인덱스는 현재 인덱스의 2배 + 1 입니다. 오른쪽은 2 *i + 2 입니다.\n",
    "        node.left = BuildTree(nodes, 2*index + 1)\n",
    "        node.right = BuildTree(nodes, 2 * index + 2)\n",
    "    return node"
   ]
  },
  {
   "cell_type": "code",
   "execution_count": 3,
   "metadata": {},
   "outputs": [],
   "source": [
    "data = [10,5,15,3,7,None,18]\n",
    "t1 = BuildTree(data,0)"
   ]
  },
  {
   "cell_type": "code",
   "execution_count": null,
   "metadata": {},
   "outputs": [],
   "source": [
    "class Solution:\n",
    "    def sumBst(self,root:TreeNode,L=0, R=0):\n",
    "        if not root:    \n",
    "            return 0\n",
    "        \n",
    "        return (root.val if L <= root.val <= R else 0) + self.sumBst(root.left,L,R) + self.sumBst(root.right, L,R)\n",
    "            "
   ]
  },
  {
   "cell_type": "code",
   "execution_count": 6,
   "metadata": {},
   "outputs": [
    {
     "data": {
      "text/plain": [
       "32"
      ]
     },
     "execution_count": 6,
     "metadata": {},
     "output_type": "execute_result"
    }
   ],
   "source": [
    "# DFS 가지치기 추가\n",
    "class Solution:\n",
    "    def sumBst(self,root:TreeNode,L=0, R=0):\n",
    "        def dfs(node):\n",
    "            if not node:\n",
    "                return 0\n",
    "            if node.val < L: # 현재 노드가 L보다 작으면 우측 노드로 가서 다시 탐색\n",
    "                return dfs(node.right)\n",
    "            elif node.val > R: # 현재 노드가 R보다 크면 좌측 노드로 가서 다시 탐색\n",
    "                return dfs(node.left)\n",
    "            return node.val + dfs(node.left) + dfs(node.right) # 그게 아니라면 정상적으로 탐색\n",
    "        \n",
    "        return dfs(root)   \n",
    "    \n",
    "solut = Solution()\n",
    "solut.sumBst(t1, L=7, R=15)"
   ]
  },
  {
   "cell_type": "code",
   "execution_count": 7,
   "metadata": {},
   "outputs": [
    {
     "data": {
      "text/plain": [
       "32"
      ]
     },
     "execution_count": 7,
     "metadata": {},
     "output_type": "execute_result"
    }
   ],
   "source": [
    "# 반복구조 DFS\n",
    "class Solution:\n",
    "    def sumBst(self,root:TreeNode,L=0, R=0):\n",
    "        stack, sum = [root] , 0\n",
    "        # 스택 이용 필요한 노드 DFS 반복\n",
    "        while stack:\n",
    "            node = stack.pop()\n",
    "            if node:\n",
    "                if node.val > L:\n",
    "                    stack.append(node.left)  \n",
    "                if node.val < R:\n",
    "                    stack.append(node.right)\n",
    "                if L <= node.val <= R:\n",
    "                    sum += node.val\n",
    "        return sum\n",
    "    \n",
    "    # 유효한 노드만 스택에 계속 집어넣으면서 L과 R 사이의 값인 경우 값을 더해 나간다.\n",
    "\n",
    "sol = Solution()\n",
    "sol.sumBst(t1, L=7, R=15)"
   ]
  },
  {
   "cell_type": "code",
   "execution_count": null,
   "metadata": {},
   "outputs": [],
   "source": []
  }
 ],
 "metadata": {
  "kernelspec": {
   "display_name": "base",
   "language": "python",
   "name": "python3"
  },
  "language_info": {
   "codemirror_mode": {
    "name": "ipython",
    "version": 3
   },
   "file_extension": ".py",
   "mimetype": "text/x-python",
   "name": "python",
   "nbconvert_exporter": "python",
   "pygments_lexer": "ipython3",
   "version": "3.9.13"
  },
  "orig_nbformat": 4
 },
 "nbformat": 4,
 "nbformat_minor": 2
}
