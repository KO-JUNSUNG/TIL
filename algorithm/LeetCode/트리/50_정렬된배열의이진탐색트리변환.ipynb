{
 "cells": [
  {
   "attachments": {},
   "cell_type": "markdown",
   "metadata": {},
   "source": [
    "# 오름차순으로 정렬된 배열을 높이 균형(Height Balanced) 이진 탐색 트리로 변환하라.\n",
    "\n",
    "```python \n",
    "     0\n",
    "    /\\\n",
    "  -3  9\n",
    "  /   /\n",
    "-10 5\n",
    "\n",
    "```\n",
    "\n",
    "- 이 문제에서 높이 균형이란 모든 노드의 두 서브트리 간 깊이 차이가 1 이하인 것을 말한다."
   ]
  },
  {
   "attachments": {},
   "cell_type": "markdown",
   "metadata": {},
   "source": [
    "- BST 는 이진 검색의 마법을 적용한 이진 트리고, 따라서 BST를 만들기 위해서는 정렬된 배열을 이진검색으로 계속 쪼개 나가기만 하면 된다.\n",
    "\n",
    "- 당연한 얘기지만 정렬되어 있지 않으면 사용할 수 없다. \n",
    "\n",
    "- 이진검색 자체가 어떤 값이든지 간에 log(n)에 찾아낼 수 있는 마법이고 동일한 이름의 BST 또한 당연히 정렬된 배열을 기준으로 한다.\n",
    "\n",
    "- 예제에서 제시된 입력값 외에 완전이진트리형태가 될 수 있도록 -7,7 두 값을 추가했다."
   ]
  },
  {
   "cell_type": "code",
   "execution_count": 1,
   "metadata": {},
   "outputs": [
    {
     "name": "stdout",
     "output_type": "stream",
     "text": [
      "[-10, -7, -3, 0, 5, 7, 9]\n"
     ]
    }
   ],
   "source": [
    "data = [0,-3,9,-10,5,7,-7]\n",
    "sorted_data = sorted(data)\n",
    "print(sorted_data)"
   ]
  },
  {
   "cell_type": "code",
   "execution_count": null,
   "metadata": {},
   "outputs": [],
   "source": [
    "# 준비\n",
    "\n",
    "class TreeNode:\n",
    "    def __init__(self, val = 0, left = None, right = None):\n",
    "        self.val = val\n",
    "        self.left = left\n",
    "        self.right = right\n",
    "\n",
    "def BuildTree(nodes, index):\n",
    "    node = None\n",
    "    # 현재 인덱스가 데이터 리스트의 범위를 벗어나지 않고, 노드가 None이 아닌 경우에만 노드를 생성합니다.\n",
    "    if index < len(nodes) and nodes[index] is not None:\n",
    "        # 현재 인덱스에 해당하는 값으로 새로운 노드를 생성합니다.\n",
    "        node = TreeNode(nodes[index])\n",
    "        # 왼쪽 자식 노드를 생성하기 위해 재귀적으로 build_tree 함수를 호출합니다.\n",
    "        # 왼쪽 자식 노드의 인덱스는 현재 인덱스의 2배 + 1 입니다. 오른쪽은 2 *i + 2 입니다.\n",
    "        node.left = BuildTree(nodes, 2*index + 1)\n",
    "        node.right = BuildTree(nodes, 2 * index + 2)\n",
    "    return node"
   ]
  },
  {
   "cell_type": "code",
   "execution_count": null,
   "metadata": {},
   "outputs": [],
   "source": [
    "# 재귀 구현\n",
    "\n",
    "def binarySearchTree(nums)->TreeNode:\n",
    "    if not nums:\n",
    "        return None\n",
    "    mid = len(nums)//2\n",
    "    # 분할정복으로 이진 검색 결과 트리 구성 \n",
    "    node = TreeNode(nums[mid])\n",
    "    node.left = binarySearchTree(nums[:mid])\n",
    "    node.right = binarySearchTree(nums[mid:])    \n",
    "\n",
    "    return node"
   ]
  }
 ],
 "metadata": {
  "kernelspec": {
   "display_name": "base",
   "language": "python",
   "name": "python3"
  },
  "language_info": {
   "codemirror_mode": {
    "name": "ipython",
    "version": 3
   },
   "file_extension": ".py",
   "mimetype": "text/x-python",
   "name": "python",
   "nbconvert_exporter": "python",
   "pygments_lexer": "ipython3",
   "version": "3.9.13"
  },
  "orig_nbformat": 4
 },
 "nbformat": 4,
 "nbformat_minor": 2
}
