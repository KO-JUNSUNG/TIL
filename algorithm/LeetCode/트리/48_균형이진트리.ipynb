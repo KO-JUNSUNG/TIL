{
 "cells": [
  {
   "attachments": {},
   "cell_type": "markdown",
   "metadata": {},
   "source": [
    "# 이진트리가 높이 균형인지 판단하라.\n",
    "\n",
    "- 입력\n",
    "```python\n",
    "[3,9,20,NULL,NULL,15,7]\n",
    "\n",
    "[1,2,2,3,3,NULL,NULL,4,4]\n",
    "```\n",
    "\n",
    "- 출력\n",
    "```python\n",
    "true\n",
    "\n",
    "false\n",
    "```\n",
    "\n",
    "- 설명\n",
    "1.  서브트리간 높이 차이가 1 이하이므로 높이 균형이다. 따라서 true 를 리턴한다.\n",
    "2. 1의 왼쪽 서브트리 2와 오른쪽의 2는 높이 차이가 2다. 따라서 false 를 리턴한다."
   ]
  },
  {
   "cell_type": "code",
   "execution_count": 1,
   "metadata": {},
   "outputs": [],
   "source": [
    "# 준비\n",
    "\n",
    "class TreeNode:\n",
    "    def __init__(self, val = 0, left = None, right = None):\n",
    "        self.val = val\n",
    "        self.left = left\n",
    "        self.right = right\n",
    "\n",
    "def BuildTree(nodes, index):\n",
    "    node = None\n",
    "    # 현재 인덱스가 데이터 리스트의 범위를 벗어나지 않고, 노드가 None이 아닌 경우에만 노드를 생성합니다.\n",
    "    if index < len(nodes) and nodes[index] is not None:\n",
    "        # 현재 인덱스에 해당하는 값으로 새로운 노드를 생성합니다.\n",
    "        node = TreeNode(nodes[index])\n",
    "        # 왼쪽 자식 노드를 생성하기 위해 재귀적으로 build_tree 함수를 호출합니다.\n",
    "        # 왼쪽 자식 노드의 인덱스는 현재 인덱스의 2배 + 1 입니다. 오른쪽은 2 *i + 2 입니다.\n",
    "        node.left = BuildTree(nodes, 2*index + 1)\n",
    "        node.right = BuildTree(nodes, 2 * index + 2)\n",
    "    return node\n",
    "\n",
    "tree_1 = [3,9,20,None,None,15,7]\n",
    "\n",
    "tree_2 = [1,2,2,3,3,None,None,4,4]\n",
    "\n",
    "rootnode_1 = BuildTree(tree_1,0)\n",
    "rootnode_2 = BuildTree(tree_2,0)"
   ]
  },
  {
   "cell_type": "code",
   "execution_count": null,
   "metadata": {},
   "outputs": [],
   "source": [
    "# 리프부터 상태값(=현재 노드와 리프노드간의 높이)을 쌓아올려 비교\n",
    "# 43.이진트리의직경 을 바탕으로 해결.\n",
    "\n",
    "def isBalancedTree(t1:TreeNode)->bool:\n",
    "    def dfs(node):\n",
    "        if not node:\n",
    "            return 0\n",
    "        left = dfs(node.left)\n",
    "        right = dfs(node.right)\n",
    "        # 높이 차이가 나는 경우 -1, 이외에는 높이에 따라 1 증가\n",
    "        if left == -1 or right == -1 or abs(left-right) > 1:\n",
    "            return -1\n",
    "        return max(left,right) + 1\n",
    "        \n",
    "    return dfs(t1) != -1"
   ]
  }
 ],
 "metadata": {
  "kernelspec": {
   "display_name": "base",
   "language": "python",
   "name": "python3"
  },
  "language_info": {
   "codemirror_mode": {
    "name": "ipython",
    "version": 3
   },
   "file_extension": ".py",
   "mimetype": "text/x-python",
   "name": "python",
   "nbconvert_exporter": "python",
   "pygments_lexer": "ipython3",
   "version": "3.9.13"
  },
  "orig_nbformat": 4
 },
 "nbformat": 4,
 "nbformat_minor": 2
}
