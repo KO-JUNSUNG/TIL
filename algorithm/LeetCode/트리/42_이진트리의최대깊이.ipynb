{
 "cells": [
  {
   "attachments": {},
   "cell_type": "markdown",
   "metadata": {},
   "source": [
    "# 이진 트리의 최대 깊이를 구하라.\n",
    "\n",
    "- 입력 \n",
    "```python\n",
    "[3,9,20,null,null,15,7] \n",
    "```\n",
    "- 출력\n",
    "```python\n",
    "3\n",
    "```"
   ]
  },
  {
   "attachments": {},
   "cell_type": "markdown",
   "metadata": {},
   "source": [
    "- 깊이는 어떻게 측정할 수 있을까? \n",
    "    \n",
    "    - 여기서는 BFS 로 풀이해보겠다.\n",
    "    \n",
    "    - 다시 한번 복기하자면 DFS 는 스택, BFS 는 큐를 사용하여 구현한다. \n",
    "\n",
    "- 여기서는 BFS 로 풀이할 것이므로 다음과 같이 큐를 선언하고 풀이할 준비를 해보자."
   ]
  },
  {
   "cell_type": "code",
   "execution_count": null,
   "metadata": {},
   "outputs": [],
   "source": [
    "# 반복구조로  BFS 풀이\n",
    "import collections\n",
    "\n",
    "def maxDepth(root)->int:\n",
    "    queue = collections.deque([root])\n",
    "    depth = 0\n",
    "\n",
    "    while queue:\n",
    "        depth += 1\n",
    "        for _ in range(len(queue)):\n",
    "            cur_root = queue.popleft()\n",
    "            ...\n",
    "            if cur_root.has_child():\n",
    "                queue.append(cur_root.child)\n",
    "\n",
    "    return depth"
   ]
  },
  {
   "attachments": {},
   "cell_type": "markdown",
   "metadata": {},
   "source": [
    "- 큐를 선언하고 반복 구조도 구성하여 BFS 반복을 이용해 풀이할 구조를 잡았다.\n",
    "\n",
    "- 깊이 depth 는 while 구문의 반복횟수이므로 BFS 에서 반복횟수는 곧 높이가 된다. 이제 반복 횟수를 리턴하면 최종 결과를 구할 수 있다."
   ]
  },
  {
   "cell_type": "code",
   "execution_count": 1,
   "metadata": {},
   "outputs": [],
   "source": [
    "# 트리노드 선언, 준비\n",
    "\n",
    "class TreeNode:\n",
    "    def __init__(self, val=0, left = None, right = None):\n",
    "        self.val = val\n",
    "        self.left = left\n",
    "        self.right = right\n",
    "\n",
    "# nodes: 이진 트리를 생성하기 위한 데이터 리스트\n",
    "# index: 현재 노드의 인덱스\n",
    "def BuildTree(nodes, index):\n",
    "    node = None\n",
    "    # 현재 인덱스가 데이터 리스트의 범위를 벗어나지 않고, 노드가 None이 아닌 경우에만 노드를 생성합니다.\n",
    "    if index < len(nodes) and nodes[index] is not None:\n",
    "        # 현재 인덱스에 해당하는 값으로 새로운 노드를 생성합니다.\n",
    "        node = TreeNode(nodes[index])\n",
    "        # 왼쪽 자식 노드를 생성하기 위해 재귀적으로 build_tree 함수를 호출합니다.\n",
    "        # 왼쪽 자식 노드의 인덱스는 현재 인덱스의 2배 + 1 입니다. 오른쪽은 2 *i + 2 입니다.\n",
    "        node.left = BuildTree(nodes, 2*index + 1)\n",
    "        node.right = BuildTree(nodes, 2 * index + 2)\n",
    "    return node\n",
    "\n",
    "data = [3,9,20,None,None,15,7] \n",
    "\n",
    "root_node = BuildTree(data, 0)"
   ]
  },
  {
   "attachments": {},
   "cell_type": "markdown",
   "metadata": {},
   "source": [
    "1. build_tree(data, 0)을 호출합니다. 인덱스는 0부터 시작합니다.\n",
    "\n",
    "2. index < len(nodes) 조건을 확인하면서 현재 인덱스인 0이 데이터 리스트의 범위 내에 있습니다.\n",
    "\n",
    "3. nodes[0]의 값은 3이므로, TreeNode(3)을 생성합니다.\n",
    "\n",
    "4. 왼쪽 자식 노드를 생성하기 위해 build_tree(data, 2 * 0 + 1)을 호출합니다. 여기서 인덱스는 1이 됩니다.\n",
    "\n",
    "5. index < len(nodes) 조건을 확인하면서 현재 인덱스인 1이 데이터 리스트의 범위 내에 있습니다.\n",
    "\n",
    "6. nodes[1]의 값은 9이므로, TreeNode(9)를 생성합니다.\n",
    "\n",
    "7. 왼쪽 자식 노드를 생성하기 위해 build_tree(data, 2 * 1 + 1)을 호출합니다. 여기서 인덱스는 3이 됩니다.\n",
    "\n",
    "8. index < len(nodes) 조건을 확인하면서 현재 인덱스인 3이 데이터 리스트의 범위 내에 없습니다. 따라서 None을 반환합니다.\n",
    "\n",
    "9. 오른쪽 자식 노드를 생성하기 위해 build_tree(data, 2 * 1 + 2)을 호출합니다. 여기서 인덱스는 4가 됩니다.\n",
    "\n",
    "10. index < len(nodes) 조건을 확인하면서 현재 인덱스인 4가 데이터 리스트의 범위 내에 없습니다. 따라서 None을 반환합니다.\n",
    "\n",
    "11. 왼쪽 자식 노드는 None이고, 오른쪽 자식 노드도 None인 상태에서 TreeNode(9)의 생성이 완료됩니다.\n",
    "\n",
    "12. 다시 build_tree(data, 0)으로 돌아와서, 이제 오른쪽 자식 노드를 생성하기 위해 build_tree(data, 2 * 0 + 2)을 호출합니다. 여기서 인덱스는 2가 됩니다.\n",
    "\n",
    "13. index < len(nodes) 조건을 확인하면서 현재 인덱스인 2가 데이터 리스트의 범위 내에 있습니다.\n",
    "\n",
    "14. nodes[2]의 값은 20이므로, TreeNode(20)을 생성합니다.\n",
    "\n",
    "15. 왼쪽 자식 노드를 생성하기 위해 build_tree(data, 2 * 2 + 1)을 호출합니다. 여기서 인덱스는 5가 됩니다."
   ]
  },
  {
   "cell_type": "code",
   "execution_count": 2,
   "metadata": {},
   "outputs": [
    {
     "name": "stdout",
     "output_type": "stream",
     "text": [
      "3\n"
     ]
    }
   ],
   "source": [
    "# BFS 반복구조를 통한 구현\n",
    "# BFS 란 rootnode 와 가까운 순서대로 출력이 되는 탐색을 말함\n",
    "import collections\n",
    "\n",
    "\n",
    "def maxDepth(root:TreeNode)->int:\n",
    "    if root is None:\n",
    "        return 0\n",
    "    queue = collections.deque([root])\n",
    "    depth = 0\n",
    "\n",
    "    while queue:\n",
    "        depth += 1\n",
    "        # 큐 연산 추출 노드의 자식 노드 삽입\n",
    "        # == 방문처리\n",
    "        for _ in range(len(queue)): # 동일 레벨에 대해서만 반복\n",
    "            cur_root = queue.popleft() # 3, 9, 20, 15, 17 순으로 조회\n",
    "            if cur_root.left: # 좌측 자식 노드가 none 이 아니라면\n",
    "                queue.append(cur_root.left) # 그쪽 서브트리를 큐에 추가\n",
    "            if cur_root.right:\n",
    "                queue.append(cur_root.right)\n",
    "    # BFS 반복 횟수 == 깊이\n",
    "    return depth\n",
    "\n",
    "result = maxDepth(root_node)\n",
    "print(result)\n",
    "\n",
    "\n",
    "# 3을 조회 -> len(que) = 1, 반복문은 한번 실행되어 9,20 이 큐에 추가됨 \n",
    "# 9,20 에 대해 차례로 조회 -> len(que) =2 반복문은 두 번 실행됨 9는 자식노드가 없으므로 if 문이 실행되지 않아 그대로 다음으로 넘어감\n",
    "# 20을 조회 -> 15, 7 이 큐에 더해짐 다시 while 문으로 돌아감\n",
    "# ... 해서 다 뺴내면 none 이 되어 while 문이 종료됨."
   ]
  },
  {
   "attachments": {},
   "cell_type": "markdown",
   "metadata": {},
   "source": [
    "- 큐 변수에는 현재 깊이 depth 에 해당하는 모든 노드가 들어있고 queue.popleft() 로 하나씩 끄집어 내면서 cur_root.has_child() 로 자식노드가 있는지 여부를 판별한 후 자식 노드를 다시 큐에 삽입한다.\n",
    "\n",
    "- 참고로 여기서 .has_child() 는 이해를 돕기 위한 수도코드다. \n",
    "\n",
    "- 동일한 큐에 삽입하다 보니 행여나 자식 노드가 부모 노드와 섞이진 않을까? 아마 섞일 것이다.\n",
    "\n",
    "- 그러나 이 for 반복문에서 자식 노드가 추출되는 일은 없을 것이다. 왜냐면 처음 for 문 진입시 부모 노드의 길이 len(queue) 만큼만 반복하도록 선언했기 때문이다.\n",
    "\n",
    "- 따라서 부모노드가 모두 추출된 이후에는 for문을 빠져나가게 되고 다시 한바퀴 돌아 while queue 구문에서 이번에는 다음번 깊이의 노드 반복이 진행될 것이다."
   ]
  },
  {
   "cell_type": "code",
   "execution_count": null,
   "metadata": {},
   "outputs": [],
   "source": [
    "# dfs 풀이\n",
    "\n",
    "# Definition for a binary tree node.\n",
    "# class TreeNode:\n",
    "#     def __init__(self, val=0, left=None, right=None):\n",
    "#         self.val = val\n",
    "#         self.left = left\n",
    "#         self.right = right\n",
    "\n",
    "class Solution:\n",
    "    def maxDepth(self, root: TreeNode) -> int:\n",
    "        result = []\n",
    "        def dfs(tree, i):\n",
    "            if tree.left:\n",
    "                dfs(tree.left, i + 1)\n",
    "            if tree.right:\n",
    "                dfs(tree.right, i + 1)\n",
    "            if tree.left is None and tree.right is None:\n",
    "                result.append(i)\n",
    "                print(i)\n",
    "                return\n",
    "        if root is None:\n",
    "            result.append(0)\n",
    "        else:\n",
    "            dfs(root, 1)\n",
    "        return max(result)"
   ]
  }
 ],
 "metadata": {
  "kernelspec": {
   "display_name": "base",
   "language": "python",
   "name": "python3"
  },
  "language_info": {
   "codemirror_mode": {
    "name": "ipython",
    "version": 3
   },
   "file_extension": ".py",
   "mimetype": "text/x-python",
   "name": "python",
   "nbconvert_exporter": "python",
   "pygments_lexer": "ipython3",
   "version": "3.9.13"
  },
  "orig_nbformat": 4
 },
 "nbformat": 4,
 "nbformat_minor": 2
}
