{
 "cells": [
  {
   "attachments": {},
   "cell_type": "markdown",
   "metadata": {},
   "source": [
    "# 두 노드 간 값의 차이가 가장 작은 노드의 값의 차이를 출력하라.\n",
    "\n",
    "- 입력 \n",
    "\n",
    "```python\n",
    "root = [4,2,6,1,3,null,null]\n",
    "```\n",
    "\n",
    "- 출력\n",
    "\n",
    "```python\n",
    "1\n",
    "```"
   ]
  },
  {
   "cell_type": "code",
   "execution_count": null,
   "metadata": {},
   "outputs": [],
   "source": [
    "class TreeNode:\n",
    "    def __init__(self, val=0, left=None, right=None):\n",
    "        self.val = val\n",
    "        self.left = left\n",
    "        self.right = right\n",
    "\n",
    "\n",
    "def BuildTree(nodes, index):\n",
    "    node = None\n",
    "    # 현재 인덱스가 데이터 리스트의 범위를 벗어나지 않고, 노드가 None이 아닌 경우에만 노드를 생성합니다.\n",
    "    if index < len(nodes) and nodes[index] is not None:\n",
    "        # 현재 인덱스에 해당하는 값으로 새로운 노드를 생성합니다.\n",
    "        node = TreeNode(nodes[index])\n",
    "        # 왼쪽 자식 노드를 생성하기 위해 재귀적으로 build_tree 함수를 호출합니다.\n",
    "        # 왼쪽 자식 노드의 인덱스는 현재 인덱스의 2배 + 1 입니다. 오른쪽은 2 *i + 2 입니다.\n",
    "        node.left = BuildTree(nodes, 2*index + 1)\n",
    "        node.right = BuildTree(nodes, 2 * index + 2)\n",
    "    return node"
   ]
  }
 ],
 "metadata": {
  "language_info": {
   "name": "python"
  },
  "orig_nbformat": 4
 },
 "nbformat": 4,
 "nbformat_minor": 2
}
