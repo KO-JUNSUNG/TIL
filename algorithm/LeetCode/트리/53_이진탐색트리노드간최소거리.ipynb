{
 "cells": [
  {
   "attachments": {},
   "cell_type": "markdown",
   "metadata": {},
   "source": [
    "# 두 노드 간 값의 차이가 가장 작은 노드의 값의 차이를 출력하라.\n",
    "\n",
    "- 입력 \n",
    "\n",
    "```python\n",
    "root = [4,2,6,1,3,null,null]\n",
    "```\n",
    "\n",
    "- 출력\n",
    "\n",
    "```python\n",
    "1\n",
    "```"
   ]
  },
  {
   "cell_type": "code",
   "execution_count": 1,
   "metadata": {},
   "outputs": [],
   "source": [
    "class TreeNode:\n",
    "    def __init__(self, val=0, left=None, right=None):\n",
    "        self.val = val\n",
    "        self.left = left\n",
    "        self.right = right\n",
    "\n",
    "\n",
    "def BuildTree(nodes, index):\n",
    "    node = None\n",
    "    # 현재 인덱스가 데이터 리스트의 범위를 벗어나지 않고, 노드가 None이 아닌 경우에만 노드를 생성합니다.\n",
    "    if index < len(nodes) and nodes[index] is not None:\n",
    "        # 현재 인덱스에 해당하는 값으로 새로운 노드를 생성합니다.\n",
    "        node = TreeNode(nodes[index])\n",
    "        # 왼쪽 자식 노드를 생성하기 위해 재귀적으로 build_tree 함수를 호출합니다.\n",
    "        # 왼쪽 자식 노드의 인덱스는 현재 인덱스의 2배 + 1 입니다. 오른쪽은 2 *i + 2 입니다.\n",
    "        node.left = BuildTree(nodes, 2*index + 1)\n",
    "        node.right = BuildTree(nodes, 2 * index + 2)\n",
    "    return node"
   ]
  },
  {
   "cell_type": "code",
   "execution_count": 3,
   "metadata": {},
   "outputs": [],
   "source": [
    "root = [4,2,6,1,3,None,None]\n",
    "t1 = BuildTree(root,0)\n"
   ]
  },
  {
   "cell_type": "code",
   "execution_count": 6,
   "metadata": {},
   "outputs": [],
   "source": [
    "# 두 노드 간 값의 차이가 가장 작은 노드의 값의 차이를 출력하라.\n",
    "# 어떻게 해야할까? \n",
    "# 나의 띵킹엔 list로 만들어 값을 비교하는 방법이 하나. \n",
    "# 다른 방법으로는 노드의 각 원소를 DFS 로 재귀탐색해서 min 값을 비교하는 방법 있을 것이다.\n",
    "\n",
    "import sys\n",
    "class Solution:\n",
    "    prev = - sys.maxsize\n",
    "    result = sys.maxsize\n",
    "    # 재귀구조 중위순회 비교 결과\n",
    "    def bstMinimum(self, root: TreeNode)->int:\n",
    "        if root.left:\n",
    "            self.bstMinimum(root.left)\n",
    "        self.result = min(self.result, abs(root.val - self.prev))\n",
    "        self.prev = root.val\n",
    "\n",
    "        if root.right:\n",
    "            self.bstMinimum(root.right)\n",
    "        return self.result"
   ]
  },
  {
   "cell_type": "code",
   "execution_count": 7,
   "metadata": {},
   "outputs": [
    {
     "data": {
      "text/plain": [
       "1"
      ]
     },
     "execution_count": 7,
     "metadata": {},
     "output_type": "execute_result"
    }
   ],
   "source": [
    "sol = Solution()\n",
    "sol.bstMinimum(t1)"
   ]
  },
  {
   "cell_type": "code",
   "execution_count": null,
   "metadata": {},
   "outputs": [],
   "source": [
    "# 반복구조로 중위순회\n",
    "# 반복구조는 재귀보다 훨씬 직관적이어서 이해하기도 쉽고 풀이 또한 쉽다.\n",
    "# 중위순회 비교 결과\n",
    "def bstMinimum(self, root: TreeNode)->int:\n",
    "    prev = - sys.maxsize\n",
    "    result = sys.maxsize\n",
    "\n",
    "    stack = []\n",
    "    node = root\n",
    "\n",
    "    while stack or node:\n",
    "        while node:\n",
    "            stack.append(node)\n",
    "            node = node.left\n",
    "        \n",
    "        node = stack.pop()\n",
    "        \n",
    "        result = min(result, node.val - prev)\n",
    "        prev = node.val\n",
    "\n",
    "        node = node.right\n",
    "\n",
    "    return result"
   ]
  }
 ],
 "metadata": {
  "kernelspec": {
   "display_name": "base",
   "language": "python",
   "name": "python3"
  },
  "language_info": {
   "codemirror_mode": {
    "name": "ipython",
    "version": 3
   },
   "file_extension": ".py",
   "mimetype": "text/x-python",
   "name": "python",
   "nbconvert_exporter": "python",
   "pygments_lexer": "ipython3",
   "version": "3.9.13"
  },
  "orig_nbformat": 4
 },
 "nbformat": 4,
 "nbformat_minor": 2
}
