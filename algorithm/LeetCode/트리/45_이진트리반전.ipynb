{
 "cells": [
  {
   "attachments": {},
   "cell_type": "markdown",
   "metadata": {},
   "source": [
    "- 입력\n",
    "\n",
    "```python\n",
    "    4\n",
    "    /\\\n",
    "   2  7\n",
    "  /\\  /\\\n",
    " 1  3 6 9\n",
    "```\n",
    "\n",
    "- 출력\n",
    "\n",
    "```python\n",
    "    4\n",
    "    /\\\n",
    "   7  2\n",
    "  /\\  /\\\n",
    " 9  6 3 1\n",
    "```"
   ]
  },
  {
   "cell_type": "code",
   "execution_count": 1,
   "metadata": {},
   "outputs": [],
   "source": [
    "class TreeNode:\n",
    "    def __init__(self, val=0, left=None, right=None):\n",
    "        self.val = val\n",
    "        self.left = left\n",
    "        self.right = right\n",
    "\n",
    "\n",
    "def build_tree(nodes, index):\n",
    "    node = None\n",
    "    if index < len(nodes) and nodes[index] is not None:\n",
    "        node = TreeNode(nodes[index])\n",
    "        node.left = build_tree(nodes, 2 * index + 1)\n",
    "        node.right = build_tree(nodes, 2 * index + 2)\n",
    "    return node"
   ]
  },
  {
   "cell_type": "code",
   "execution_count": 2,
   "metadata": {},
   "outputs": [],
   "source": [
    "data = [4,2,7,1,3,6,9]\n",
    "root_node = build_tree(data,0)"
   ]
  },
  {
   "cell_type": "code",
   "execution_count": 4,
   "metadata": {},
   "outputs": [
    {
     "data": {
      "text/plain": [
       "<__main__.TreeNode at 0x7fbd1875faf0>"
      ]
     },
     "execution_count": 4,
     "metadata": {},
     "output_type": "execute_result"
    }
   ],
   "source": [
    "# 파이써닉한 풀이법\n",
    "\n",
    "def invertTree(root):\n",
    "    if root:\n",
    "        root.left, root.right = invertTree(root.right), invertTree(root.left)\n",
    "        return root\n",
    "    return None\n",
    "\n",
    "invertTree(root_node)\n"
   ]
  },
  {
   "cell_type": "code",
   "execution_count": null,
   "metadata": {},
   "outputs": [],
   "source": [
    "# 반복구조로 BFS\n",
    "import collections\n",
    "\n",
    "def invertTree_BFS(root):\n",
    "    # 이진트리의 최대깊이와 거의 유사한 형태\n",
    "    queue = collections.deque([root])\n",
    "    # 부모노드부터 하향식 스왑\n",
    "    while queue:\n",
    "        node = queue.popleft()\n",
    "        if node:\n",
    "            node.left, node.right = node.right, node.left\n",
    "            queue.append(node.left)\n",
    "            queue.append(node.right) # 방문기록\n",
    "    return root\n",
    "\n",
    "\n",
    "# 앞서 이진트리의 최대 깊이 문제는 while 구문 내부에 별도의 for 문을 통해 level 을 제어해줘야 했지만, 여기서는 그런 제약이 없어 자유롭게 스왑하면서 queue 에 추가한다.\n",
    "# 먼저 삽입된 노드는 반복 구조로 계속 스왑되면서 자식 노드가 계속해서 큐에 추가되는 구조가 된다.\n",
    "# 앞선 파이써닉 풀이가 말단, 리프노드까지 내려가면서 백트래킹하면서 스왑하는 상향(bottom-up) 방식이라면 이 방식은 부모 노드부터 계속 스왑하면서 내려가는 하향(top-down)방식이라 할 수 있다."
   ]
  },
  {
   "cell_type": "code",
   "execution_count": null,
   "metadata": {},
   "outputs": [],
   "source": [
    "# 반복구조로 DFS\n",
    "\n",
    "def invertTree_DFS(root):\n",
    "    stack = collections.deque([root])\n",
    "    # 부모노드부터 하향식 스왑\n",
    "    while stack:\n",
    "        node = stack.pop()\n",
    "        node.left, node.right = node.right, node.left\n",
    "        stack.append(node.left)\n",
    "        stack.append(node.right) # 방문기록\n",
    "    return root\n",
    "\n",
    "\n",
    "# BFS 로 탐색할 떄는 popleft() 로 처음 값을 추출했고, 여기선 DFS 로 탐색할 떄는 pop()으로 마지막 값을 추출했다. 변수명을 stack 으로 바꾼 것도 다소 형식적이다."
   ]
  }
 ],
 "metadata": {
  "kernelspec": {
   "display_name": "base",
   "language": "python",
   "name": "python3"
  },
  "language_info": {
   "codemirror_mode": {
    "name": "ipython",
    "version": 3
   },
   "file_extension": ".py",
   "mimetype": "text/x-python",
   "name": "python",
   "nbconvert_exporter": "python",
   "pygments_lexer": "ipython3",
   "version": "3.9.13"
  },
  "orig_nbformat": 4
 },
 "nbformat": 4,
 "nbformat_minor": 2
}
