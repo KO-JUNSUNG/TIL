{
 "cells": [
  {
   "attachments": {},
   "cell_type": "markdown",
   "metadata": {},
   "source": [
    "# 배열을 입력받아 합으로 0을 만들 수 있는 3개의 엘리먼트를 출력하라.\n",
    "\n",
    "- 입력 \n",
    "\n",
    "```python\n",
    "nums = [-1, 0, 1, 2, -1, -4]\n",
    "```\n",
    "- 출력\n",
    "\n",
    "```python\n",
    "[\n",
    "    [-1,0,1],\n",
    "    [-1,-1,2]\n",
    "]\n",
    "```"
   ]
  },
  {
   "attachments": {},
   "cell_type": "markdown",
   "metadata": {},
   "source": [
    "```python\n",
    "[-4, -1, -1, 0, 1, 2]\n",
    " i   j   k ->\n",
    " i       j   k ->\n",
    " i           j  k ->\n",
    "\n",
    " ```"
   ]
  },
  {
   "cell_type": "code",
   "execution_count": 2,
   "metadata": {},
   "outputs": [
    {
     "name": "stdout",
     "output_type": "stream",
     "text": [
      "[[-1, -1, 2], [-1, 0, 1]]\n"
     ]
    }
   ],
   "source": [
    "# 브루트포스로 계산\n",
    "'''\n",
    "1) idea: i,j 를 한칸에 고정시켜놓고 k 를 이동해가며 0이 되는 수를 찾음 \n",
    "2) 찾으면 result 에 추가하고, 없으면 j 를 한 칸 이동시킨 다음 다시 계속함\n",
    "3) j를 다 이동시키고 없으면 i에 반복함\n",
    "4) 탐색이 겹치지 않도록 범위를 잘 제한해야함\n",
    "'''\n",
    "nums = [-1, 0, 1, 2, -1, -4]\n",
    "nums = sorted(nums)\n",
    "result = []\n",
    "\n",
    "for i in range(len(nums)-2): # i,j,k 는 3개이니 3칸을 움직인다고 생각했을 때 i를 제외한 두칸은 비워둬야 함. len 이 7이라면 range(5).\n",
    "    if i > 0 and nums[i] == nums[i-1]: # 숫자가 이전 숫자와 동일하면 건너뜀\n",
    "        continue\n",
    "    for j in range(i+1,len(nums)-1): # i가 앞에서 한 칸 차지하고 있으므로, i+1 부터 탐색해야함. 0부터 탐색할 경우 겹치는 범위가 탐색됨.\n",
    "        if j > i+1 and nums[j] == nums[j-1]:\n",
    "            continue\n",
    "        for k in range(j+1,len(nums)):\n",
    "            if k > j+1 and nums[k] == nums[k-1]:\n",
    "                continue\n",
    "            if nums[i] + nums[j] + nums[k] == 0:\n",
    "                result.append([nums[i], nums[j], nums[k]])\n",
    "print(result)\n"
   ]
  },
  {
   "attachments": {},
   "cell_type": "markdown",
   "metadata": {},
   "source": [
    "```python\n",
    "[-4, -1, -1, 0, 1, 2]\n",
    "      i   |        |\n",
    "          |  -><-  |\n",
    "          |        |\n",
    "        left      right\n",
    "```"
   ]
  },
  {
   "cell_type": "code",
   "execution_count": 5,
   "metadata": {},
   "outputs": [
    {
     "name": "stdout",
     "output_type": "stream",
     "text": [
      "[[-1, -1, 2], [-1, 0, 1]]\n"
     ]
    }
   ],
   "source": [
    "# 투포인터로 계산\n",
    "# i를 축으로 하고 중복된 값을 건너뛰게 한 부분은 앞선 풀이와 동일하다.\n",
    "nums = [-1, 0, 1, 2, -1, -4]\n",
    "nums = sorted(nums)\n",
    "result = []\n",
    "\n",
    "\n",
    "\n",
    "for i in range(len(nums)-2):\n",
    "    if i>0 and nums[i] == nums[i-1]:\n",
    "        continue\n",
    "    # 간격을 좁혀가며 sum 계산\n",
    "    left, right = i + 1 ,len(nums)-1\n",
    "\n",
    "    while left < right:\n",
    "        sum = nums[i] + nums[left] + nums[right]\n",
    "        if sum < 0:\n",
    "            left += 1\n",
    "        elif sum > 0:\n",
    "            right -= 1\n",
    "        else:\n",
    "        # sum = 0 일 때 정답이므로 정답 및 스킵 처리\n",
    "            result.append([nums[i], nums[left], nums[right]])\n",
    "            while left < right and nums[left] == nums[left + 1]:\n",
    "                    left += 1 # 동일하다면 스킵할 수 있게.\n",
    "            while left < right and nums[right] == nums[right - 1]:\n",
    "                    right -= 1\n",
    "            left += 1\n",
    "            right -= 1\n",
    "print(result)\n"
   ]
  },
  {
   "cell_type": "code",
   "execution_count": null,
   "metadata": {},
   "outputs": [],
   "source": []
  }
 ],
 "metadata": {
  "kernelspec": {
   "display_name": "base",
   "language": "python",
   "name": "python3"
  },
  "language_info": {
   "codemirror_mode": {
    "name": "ipython",
    "version": 3
   },
   "file_extension": ".py",
   "mimetype": "text/x-python",
   "name": "python",
   "nbconvert_exporter": "python",
   "pygments_lexer": "ipython3",
   "version": "3.9.13"
  },
  "orig_nbformat": 4
 },
 "nbformat": 4,
 "nbformat_minor": 2
}
