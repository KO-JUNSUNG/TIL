{
 "cells": [
  {
   "attachments": {},
   "cell_type": "markdown",
   "metadata": {},
   "source": [
    "# 배열을 입력 받아 output[i] 가 자신을 제외한 나머지 모든 요소의 곱셈결과가 되도록 출력하라.\n",
    "\n",
    "- 입력\n",
    "\n",
    "```python\n",
    "[1,2,3,4]\n",
    "```\n",
    "\n",
    "- 출력\n",
    "\n",
    "```python\n",
    "[24,12,8,6]\n",
    "```\n",
    "\n",
    "- 주의\n",
    "\n",
    "나눗셈을 하지 않고 O(n)에 풀이하라."
   ]
  },
  {
   "cell_type": "code",
   "execution_count": 6,
   "metadata": {},
   "outputs": [
    {
     "name": "stdout",
     "output_type": "stream",
     "text": [
      "[24, 12, 8, 6]\n"
     ]
    }
   ],
   "source": [
    "from typing import List\n",
    "\n",
    "# 함수부\n",
    "\n",
    "def multiply(s: List[int]) -> int:\n",
    "    value = 1\n",
    "    for i in s:\n",
    "        if i == 0:\n",
    "            return 0\n",
    "        value *= i\n",
    "    return value\n",
    "\n",
    "# main\n",
    "\n",
    "input_data = [1,2,3,4]\n",
    "output = []\n",
    "length = len(input_data)\n",
    "for i in range(length):\n",
    "    tank = input_data[i+1:] + input_data[:i] # i 번쨰 요소를 제외한 리스트를 새롭게 생성\n",
    "    ans =  multiply(tank) # 0 = [1,2,3]   1 = [0,2,3]  2 = [0,1,3] 3 = [0,1,2]\n",
    "    output.append(ans)\n",
    "    \n",
    "print(output)\n",
    "\n",
    "# 열심히 풀긴 했는데, 이 코드의 복잡도는 O(n^2) 이다. for 문이  두번 쓰이기 때문이다."
   ]
  },
  {
   "attachments": {},
   "cell_type": "markdown",
   "metadata": {},
   "source": [
    "- 제약사항은 가장 일반적인 풀이방법인 미리 전체 곱셈값을 구해놓고 각 항목별로 자기 자신을 나눠서 풀이하는 방법은 안된다는 뜻입니다.\n",
    "- 그렇다면 풀이방법은 한가지 뿐입니다. 자기 자신을 제외하고 왼쪽의 곱셈결과와 오른쪽의 곱셈결과를 곱해야 합니다.\n",
    "\n",
    "```python\n",
    "\n",
    "nums = [1,2,3,4]\n",
    "p = 1 1 2 6\n",
    "out = 1 1 2 6\n",
    "      24 12 4 1 = p\n",
    "      24 12 8 6 = out\n",
    "```"
   ]
  },
  {
   "cell_type": "code",
   "execution_count": 7,
   "metadata": {},
   "outputs": [
    {
     "data": {
      "text/plain": [
       "[24, 12, 8, 6]"
      ]
     },
     "execution_count": 7,
     "metadata": {},
     "output_type": "execute_result"
    }
   ],
   "source": [
    "def productExcepSelf(nums:List[int]) -> List[int]:\n",
    "    out = []\n",
    "    p = 1\n",
    "    # 왼쪽 곱셈\n",
    "    for i in range(0, len(nums)):\n",
    "        out.append(p)\n",
    "        p = p * nums[i]  # out = [1,1,2,6], p = 24 \n",
    "    p = 1 # 초기화\n",
    "    # 왼쪽 곱셈 결과에 오른쪽 값을 차례대로 곱셈\n",
    "    for i in range(len(nums)-1, 0-1, -1):\n",
    "        out[i] = out[i] * p # 마지막 요소부터 첫번째 요소까지 역순으로 접근. \n",
    "        # out[3] = out[3] * 1 [1,1,2,6]   \n",
    "        p = p * nums[i] # p = 24 12 4 1 , 오른쪽 곱셈결과를 따로 저장하지 않고 바로 적용함으로써 공간복잡도 하락\n",
    "    return out\n",
    "\n",
    "productExcepSelf(input_data)"
   ]
  },
  {
   "attachments": {},
   "cell_type": "markdown",
   "metadata": {},
   "source": [
    "# 결과를 일반화해보는 것도 좋은 습관이다.\n",
    "```python\n",
    "    [a,b,c,d]\n",
    "1)  1,a,ab,abc  -->\n",
    "2)  bcd,cd,d,1  <--\n",
    "3)  bcd,acd,abd,abc  == 원하는 결과\n",
    "```"
   ]
  }
 ],
 "metadata": {
  "kernelspec": {
   "display_name": "base",
   "language": "python",
   "name": "python3"
  },
  "language_info": {
   "codemirror_mode": {
    "name": "ipython",
    "version": 3
   },
   "file_extension": ".py",
   "mimetype": "text/x-python",
   "name": "python",
   "nbconvert_exporter": "python",
   "pygments_lexer": "ipython3",
   "version": "3.9.13"
  },
  "orig_nbformat": 4
 },
 "nbformat": 4,
 "nbformat_minor": 2
}
