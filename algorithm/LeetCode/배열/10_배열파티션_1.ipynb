{
 "cells": [
  {
   "attachments": {},
   "cell_type": "markdown",
   "metadata": {},
   "source": [
    "# n 개의 페어를 이용한 min(a,b)의 합으로 만들 수 있는 가장 큰 수를 출력하라.\n",
    "\n",
    "- 입력\n",
    "\n",
    "```python\n",
    "[1,4,3,2]\n",
    "```\n",
    "\n",
    "- 출력\n",
    "\n",
    "```python\n",
    "4\n",
    "```\n",
    "\n",
    "- 설명\n",
    "\n",
    "n 은 2가 되며 최대 합은 4이다.\n",
    "\n",
    "```python\n",
    "min(1,2) + min(3,4) = 4\n",
    "```"
   ]
  },
  {
   "cell_type": "code",
   "execution_count": 4,
   "metadata": {},
   "outputs": [
    {
     "name": "stdout",
     "output_type": "stream",
     "text": [
      "4\n"
     ]
    }
   ],
   "source": [
    "# 오름차순 풀이\n",
    "nums = [1,4,3,2]\n",
    "nums = sorted(nums, reverse=True)\n",
    "\n",
    "# 말이 좀 헷갈리는데, min(a,b) 가 가장 클 조건은 a 가 b보다 아주 약간 작을 때 이다. 페어로 만들어야 하니 2개씩 요소를 가져다 쓸 것이다. 요소가 4개라면, 페어는 2개가 나올 것이다.\n",
    "ans = 0\n",
    "for i in range(0,len(nums),2):\n",
    "    min_ab = min(nums[i], nums[i+1])\n",
    "    ans += min_ab\n",
    "\n",
    "print(ans)\n",
    "\n"
   ]
  },
  {
   "cell_type": "code",
   "execution_count": 8,
   "metadata": {},
   "outputs": [
    {
     "name": "stdout",
     "output_type": "stream",
     "text": [
      "4\n"
     ]
    }
   ],
   "source": [
    "# 짝수번째 값 계산\n",
    "\n",
    "# 사실 min_ab 를 찾을 필요가 없다. 역으로 정렬했으므로, 무조건 a>b 이니까 짝수번째 수인 b만 계속 더하면 되는 것이다.\n",
    "nums = [1,4,3,2]\n",
    "nums = sorted(nums, reverse=True)\n",
    "ans = [nums[i] for i in range(1,len(nums),2)]\n",
    "print(sum(ans))"
   ]
  },
  {
   "cell_type": "code",
   "execution_count": 10,
   "metadata": {},
   "outputs": [
    {
     "name": "stdout",
     "output_type": "stream",
     "text": [
      "4\n"
     ]
    }
   ],
   "source": [
    "# 책의 계산\n",
    "nums =[1,4,3,2]\n",
    "nums.sort()\n",
    "\n",
    "summ = 0\n",
    "for i, n in enumerate(nums):\n",
    "    # 짝수번쨰 값의 계산\n",
    "    if i%2 == 0:\n",
    "        summ += n\n",
    "print(summ)"
   ]
  },
  {
   "cell_type": "code",
   "execution_count": 11,
   "metadata": {},
   "outputs": [
    {
     "data": {
      "text/plain": [
       "4"
      ]
     },
     "execution_count": 11,
     "metadata": {},
     "output_type": "execute_result"
    }
   ],
   "source": [
    "# 파이써닉 메소드\n",
    "sum(sorted(nums)[::2])"
   ]
  }
 ],
 "metadata": {
  "kernelspec": {
   "display_name": "base",
   "language": "python",
   "name": "python3"
  },
  "language_info": {
   "codemirror_mode": {
    "name": "ipython",
    "version": 3
   },
   "file_extension": ".py",
   "mimetype": "text/x-python",
   "name": "python",
   "nbconvert_exporter": "python",
   "pygments_lexer": "ipython3",
   "version": "3.9.13"
  },
  "orig_nbformat": 4
 },
 "nbformat": 4,
 "nbformat_minor": 2
}
