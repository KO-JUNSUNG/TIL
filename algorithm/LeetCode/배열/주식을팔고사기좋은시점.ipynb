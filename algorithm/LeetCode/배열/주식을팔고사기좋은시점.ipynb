{
 "cells": [
  {
   "attachments": {},
   "cell_type": "markdown",
   "metadata": {},
   "source": [
    "# 한번의 거래로 낼 수 있는 최대의 이익을 산출하라.\n",
    "\n",
    "- 입력\n",
    "```python\n",
    "[7,1,5,3,6,4]\n",
    "```\n",
    "\n",
    "- 출력\n",
    "\n",
    "```python\n",
    "5\n",
    "```\n",
    "\n",
    "- 설명\n",
    "    - 1일 때 사서 6일 때 팔면 5의 이익을 얻는다."
   ]
  },
  {
   "cell_type": "code",
   "execution_count": 6,
   "metadata": {},
   "outputs": [
    {
     "name": "stdout",
     "output_type": "stream",
     "text": [
      "5\n"
     ]
    }
   ],
   "source": [
    "# O(nlogn) 복잡도의 내 풀이\n",
    "data = [7,1,5,3,6,4]\n",
    "sorting_data = sorted(data)\n",
    "min_index = 0\n",
    "probable_max=0\n",
    "\n",
    "for i,n in enumerate(data):\n",
    "    if n == min(data):\n",
    "        min_index = i\n",
    "for j in sorting_data[::-1]: # sorting 한 데이터를 뒤에서부터 찾음 ( = 큰 값부터 탐색)\n",
    "    if data.index(j) > min_index: # 탐색한 데이터의 인덱스가 가장 작은 인덱스의 크기보다 클 경우 (=가장 작은 값보다 나중에 발생했을 경우)\n",
    "        probable_max = j # 그 값을 저장하고 반복문에서 탈출함\n",
    "        break\n",
    "\n",
    "print(probable_max - data[min_index])"
   ]
  },
  {
   "cell_type": "code",
   "execution_count": 7,
   "metadata": {},
   "outputs": [
    {
     "data": {
      "text/plain": [
       "5"
      ]
     },
     "execution_count": 7,
     "metadata": {},
     "output_type": "execute_result"
    }
   ],
   "source": [
    "# 책의 답 1) 브루트 포스로 계산 O(n^2)\n",
    "from typing import List\n",
    "\n",
    "def maxProfit(prices:List[int])->int:\n",
    "    max_price = 0\n",
    "    for i, price in enumerate(prices):\n",
    "        for j in range(i,len(prices)): # 전날의 인덱스를 참조하지 않도록 한칸씩 기준을 밀어가며 계산\n",
    "            max_price = max(prices[j] - price, max_price) # 리스트의 기준값 이후의 값들에서 기준값 = price 를 빼면서 max 비교\n",
    "    return max_price\n",
    "\n",
    "maxProfit(data)"
   ]
  },
  {
   "cell_type": "code",
   "execution_count": 8,
   "metadata": {},
   "outputs": [
    {
     "data": {
      "text/plain": [
       "5"
      ]
     },
     "execution_count": 8,
     "metadata": {},
     "output_type": "execute_result"
    }
   ],
   "source": [
    "# 저점과 현재 값과의 차이 계산 O(n)\n",
    "import sys\n",
    "\n",
    "def maxProfit(prices:List[int])->int:\n",
    "    profit = 0\n",
    "    min_price = sys.maxsize\n",
    "    # 최소값과 최대값을 항상 갱신\n",
    "\n",
    "    for price in prices:\n",
    "        min_price = min(min_price, price)\n",
    "        profit = max(profit, price - min_price)\n",
    "    return profit\n",
    "\n",
    "maxProfit(data)\n"
   ]
  }
 ],
 "metadata": {
  "kernelspec": {
   "display_name": "base",
   "language": "python",
   "name": "python3"
  },
  "language_info": {
   "codemirror_mode": {
    "name": "ipython",
    "version": 3
   },
   "file_extension": ".py",
   "mimetype": "text/x-python",
   "name": "python",
   "nbconvert_exporter": "python",
   "pygments_lexer": "ipython3",
   "version": "3.9.13"
  },
  "orig_nbformat": 4
 },
 "nbformat": 4,
 "nbformat_minor": 2
}
