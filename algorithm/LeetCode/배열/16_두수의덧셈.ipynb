{
 "cells": [
  {
   "attachments": {},
   "cell_type": "markdown",
   "metadata": {},
   "source": [
    "# 역순으로 저장된 연결리스트의 숫자를 더하라.\n",
    "\n",
    "- 입력\n",
    "\n",
    "```python\n",
    "(2->4->3) + (5->6->4)\n",
    "```\n",
    "\n",
    "- 출력\n",
    "\n",
    "```python\n",
    "7->0->8\n",
    "```\n",
    "\n",
    "- 설명\n",
    "\n",
    "342 + 465 = 807"
   ]
  },
  {
   "cell_type": "code",
   "execution_count": null,
   "metadata": {},
   "outputs": [],
   "source": [
    "# 자료형 변환 풀이"
   ]
  },
  {
   "cell_type": "code",
   "execution_count": 18,
   "metadata": {},
   "outputs": [],
   "source": [
    "# 준비\n",
    "class ListNode:\n",
    "    def __init__(self, val=0, next=None):\n",
    "        self.val = val\n",
    "        self.next = next"
   ]
  },
  {
   "cell_type": "code",
   "execution_count": 19,
   "metadata": {},
   "outputs": [],
   "source": [
    "l1_node_2 = ListNode(3)\n",
    "l1_node_1 = ListNode(4, l1_node_2)\n",
    "l1_node_0 = ListNode(2, l1_node_1)\n",
    "\n",
    "l2_node_2 = ListNode(4)\n",
    "l2_node_1 = ListNode(6,l2_node_2)\n",
    "l2_node_0 = ListNode(5,l2_node_1)"
   ]
  },
  {
   "cell_type": "code",
   "execution_count": 24,
   "metadata": {},
   "outputs": [],
   "source": [
    "def sumTheNode(s:ListNode, s2: ListNode)-> ListNode:\n",
    "    # 리스트 변환\n",
    "    lst_1 = []\n",
    "    lst_2 = []    \n",
    "    while s is not None:\n",
    "        lst_1.append(s.val)\n",
    "        s = s.next\n",
    "    while s2 is not None:\n",
    "        lst_2.append(s2.val)\n",
    "        s2 = s2.next\n",
    "    # 숫자로 만들어 더하기.\n",
    "    str_1, str_2 = ''.join(str(x) for x in lst_1[::-1]), ''.join(str(x) for x in lst_2[::-1])\n",
    "    int_1, int_2 = int(str_1), int(str_2)\n",
    "    ans = int_1 + int_2 # = 807\n",
    "    ans_lst = [int(x) for x in str(ans)] # [8,0,7]\n",
    "    # 다시 ListNode 화 하기\n",
    "    new_head = ListNode(ans_lst[-1]) # index = 2\n",
    "    curr = new_head \n",
    "    for i in range(len(ans_lst)-2, -1, -1): # range(1, -1, -1)\n",
    "        curr.next = ListNode(ans_lst[i])\n",
    "        curr = curr.next\n",
    "    return new_head"
   ]
  },
  {
   "cell_type": "code",
   "execution_count": 28,
   "metadata": {},
   "outputs": [],
   "source": [
    "result = sumTheNode(l1_node_0,l2_node_0)"
   ]
  },
  {
   "cell_type": "code",
   "execution_count": 26,
   "metadata": {},
   "outputs": [
    {
     "name": "stdout",
     "output_type": "stream",
     "text": [
      "7 0 8 \n"
     ]
    }
   ],
   "source": [
    "# 결과 출력을 위한 함수 정의\n",
    "def printLinkedList(node):\n",
    "    while node:\n",
    "        print(node.val, end=\" \")\n",
    "        node = node.next\n",
    "    print()\n",
    "\n",
    "# 결과 출력\n",
    "printLinkedList(result)"
   ]
  }
 ],
 "metadata": {
  "kernelspec": {
   "display_name": "base",
   "language": "python",
   "name": "python3"
  },
  "language_info": {
   "codemirror_mode": {
    "name": "ipython",
    "version": 3
   },
   "file_extension": ".py",
   "mimetype": "text/x-python",
   "name": "python",
   "nbconvert_exporter": "python",
   "pygments_lexer": "ipython3",
   "version": "3.9.13"
  },
  "orig_nbformat": 4
 },
 "nbformat": 4,
 "nbformat_minor": 2
}
