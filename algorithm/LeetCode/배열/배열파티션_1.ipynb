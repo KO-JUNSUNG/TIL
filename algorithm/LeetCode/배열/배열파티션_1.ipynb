{
 "cells": [
  {
   "attachments": {},
   "cell_type": "markdown",
   "metadata": {},
   "source": [
    "# n 개의 페어를 이용한 min(a,b)의 합으로 만들 수 있는 가장 큰 수를 출력하라.\n",
    "\n",
    "- 입력\n",
    "\n",
    "```python\n",
    "[1,4,3,2]\n",
    "```\n",
    "\n",
    "- 출력\n",
    "\n",
    "```python\n",
    "4\n",
    "```\n",
    "\n",
    "- 설명\n",
    "\n",
    "n 은 2가 되며 최대 합은 4이다.\n",
    "\n",
    "```python\n",
    "min(1,2) + min(3,4) = 4\n",
    "```"
   ]
  },
  {
   "cell_type": "code",
   "execution_count": null,
   "metadata": {},
   "outputs": [],
   "source": []
  }
 ],
 "metadata": {
  "language_info": {
   "name": "python"
  },
  "orig_nbformat": 4
 },
 "nbformat": 4,
 "nbformat_minor": 2
}
