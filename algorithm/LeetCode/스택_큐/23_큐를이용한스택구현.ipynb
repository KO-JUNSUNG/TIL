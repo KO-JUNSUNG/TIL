{
 "cells": [
  {
   "attachments": {},
   "cell_type": "markdown",
   "metadata": {},
   "source": [
    "# 큐를 이용해 다음 연산을 지원하는 스택을 구현하라.\n",
    "\n",
    "- push(x): 요소 x를 스택에 삽입한다.\n",
    "- pop(): 스택의 첫번쨰 요소를 삭제한다.\n",
    "- top(): 스택의 첫번쨰 요소를 가져온다.\n",
    "- empty(): 스택이 비어 있는지 여부를 리턴한다.\n",
    "\n",
    "```python\n",
    "MyStack stack = new MyStack();\n",
    "\n",
    "```"
   ]
  },
  {
   "cell_type": "code",
   "execution_count": null,
   "metadata": {},
   "outputs": [],
   "source": []
  }
 ],
 "metadata": {
  "language_info": {
   "name": "python"
  },
  "orig_nbformat": 4
 },
 "nbformat": 4,
 "nbformat_minor": 2
}
