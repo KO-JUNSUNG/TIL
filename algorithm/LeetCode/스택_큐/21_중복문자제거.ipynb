{
 "cells": [
  {
   "attachments": {},
   "cell_type": "markdown",
   "metadata": {},
   "source": [
    "# 중복된 문자를 제외하고 사전식 순서로 나열하라.\n",
    "\n",
    "- 입력\n",
    "```python\n",
    "\"bcabc\"\n",
    "\"cbacdcbc\n",
    "```\n",
    "\n",
    "- 출력\n",
    "```python\n",
    "\"abc\"\n",
    "\"acdb\"\n",
    "```\n",
    "\n",
    "- 설명\n",
    "    - 중복일 때만 중복된 문자가 제외된다. "
   ]
  },
  {
   "cell_type": "code",
   "execution_count": 1,
   "metadata": {},
   "outputs": [],
   "source": [
    "# 재귀식 분리\n",
    "\n",
    "def removeDuplicateLetters(s:str)->str:\n",
    "    # 집합으로 정렬\n",
    "    for char in sorted(set(s)):\n",
    "        suffix = s[s.index(char):]\n",
    "        # 전체 집합과 접미사 집합이 일치할 때 분리 진행\n",
    "        if set(s) == set(suffix):\n",
    "            return char + removeDuplicateLetters(suffix.replace(char,''))\n",
    "    return ''"
   ]
  },
  {
   "cell_type": "code",
   "execution_count": 2,
   "metadata": {},
   "outputs": [
    {
     "name": "stdout",
     "output_type": "stream",
     "text": [
      "abc\n"
     ]
    }
   ],
   "source": [
    "T = \"bcabc\"\n",
    "result = removeDuplicateLetters(T)\n",
    "print(result)"
   ]
  },
  {
   "attachments": {},
   "cell_type": "markdown",
   "metadata": {},
   "source": [
    "1. 이 그림에서는 중복문자를 제외한(여기서는 집합으로 처리) 알파벳 순으로 문자열 입력을 모두 정렬한 다음, \n",
    "2. 가장 빠른 a부터 접미사 suffix 를 분리하여 확인한다.\n",
    "3. 다음 순서는 b인데 b의 경우 c,d가 뒤에 올 수 없기 때문에 이를 기준으로 분리할 수 없다.\n",
    "4. 분리 가능 여부는 이 코드와 같이 전체 집합과 접미사 집합이 일치하는지 여부로 판별한다.\n",
    "5. 집합은 중복된 문자가 제거된 자료형이므로, 그림 9-3 에서 b를 기준으로 했을 때 s={'b','c','d'}, suffix = {'b','c'} 가 되며 d를 처리할 수 없으므로 분리할 수 없다. 따라서 다음 순서인 c로 넘긴다.\n",
    "6. c는 이제 s={'b','c','d'}, suffix = {'b','c','d'} 로 일치 여부를 판별하는 if문이 True 이므로 이제 분리할 수 있다.\n",
    "\n",
    "```python\n",
    "return char + removeDuplicateLetters(suffix.replace(char,''))\n",
    "```\n",
    "\n",
    "7. 여기서부터는 실제로 분리하는 처리를 하게 되는데, 현재 문자 즉 c를 리턴하는 재귀호출구조로 처리한다.\n",
    "8. 또한 c는 이미 분리하는 기준점이 되었으므로 이후에 이어지는 모든 c는 replace() 로 제거한다.\n",
    "9. 이렇게 하면 일종의 분할정복 비슷한 형태로 가면서 접미사 suffix의 크기는 점점 줄어들게 되고 더 이상 남지 않을 때 백트래킹되면서 결과가 조합된다."
   ]
  },
  {
   "cell_type": "code",
   "execution_count": null,
   "metadata": {},
   "outputs": [],
   "source": [
    "# 스택을 이용한 문자 제거\n",
    "import collections\n",
    "\n",
    "def removeDuplicateLetters(s:str)->str:\n",
    "    counter, seen, stack = collections.Counter(s), set(), []\n",
    "\n",
    "    for char in s:\n",
    "        counter[char] -= 1\n",
    "        if char in seen:\n",
    "            continue\n",
    "        # 뒤에 붙일 문자가 남아 있다면 스택에서 제거\n",
    "        while stack and char < stack[-1] and counter[stack[-1]] > 0 :\n",
    "            seen.remove(stack.pop())\n",
    "        stack.append(char)\n",
    "        seen.add(char)\n",
    "    return ''.join(stack)"
   ]
  },
  {
   "attachments": {},
   "cell_type": "markdown",
   "metadata": {},
   "source": [
    "```python\n",
    "stack.append(char)\n",
    "seen.add(char)\n",
    "```\n",
    "0. 먼저 스택에는 이 코드와 같이 앞에서부터 차례대로 쌓아 나간다.\n",
    "\n",
    "```python\n",
    "counter, stack = collections.Counter(s),[]\n",
    "...\n",
    "while stack and char < stack[-1] and counter[stack[-1]] > 0 :\n",
    "    seen.remove(stack.pop())\n",
    "```\n",
    "\n",
    "1. 만약 현재 문자 char 이 스택에 쌓여 있는 문자(이전 문자보다 앞선 문자)이고 뒤에 다시 붙일 문자가 남아 있다면 (카운터가 0 이상이라면) 쌓아둔 걸 꺼내서 없앤다.\n",
    "2. 카운팅에는 collections.Counter() 를 이용한다. 이 모듈은 문자별 개수를 자동으로 카운팅해준다.\n",
    "3. 예제에서 cbacdcbc 에서 a가 들어올 때 이미 이전에 들어와 있던 c와 b는 다음 그림 9-4 와 같이 제거가 된다.\n",
    "```python\n",
    "stack = c b a c d c b c\n",
    "            a c d   b\n",
    "```\n",
    "4. 카운터가 0 이상인 문자인 c와 b는 뒤에 다시 붙일 문자가 남아 있기 때문이다.\n",
    "``` python\n",
    "if char in seen:\n",
    "    continue\n",
    "```\n",
    "\n",
    "5. 여기서 seen 은 집합 자료형으로 이미 처리된 문자 여부를 확인하기 위해 사용했으며, 이처럼 이미 처리된 문자는 스킵한다.\n",
    "6. 여기서는 처리된 문자 여부를 확인하기 위해 in을 이용한 검색 연산으로 찾아냈다."
   ]
  },
  {
   "attachments": {},
   "cell_type": "markdown",
   "metadata": {},
   "source": []
  }
 ],
 "metadata": {
  "kernelspec": {
   "display_name": "base",
   "language": "python",
   "name": "python3"
  },
  "language_info": {
   "codemirror_mode": {
    "name": "ipython",
    "version": 3
   },
   "file_extension": ".py",
   "mimetype": "text/x-python",
   "name": "python",
   "nbconvert_exporter": "python",
   "pygments_lexer": "ipython3",
   "version": "3.9.13"
  },
  "orig_nbformat": 4
 },
 "nbformat": 4,
 "nbformat_minor": 2
}
