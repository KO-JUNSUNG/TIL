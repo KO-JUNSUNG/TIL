{
 "cells": [
  {
   "attachments": {},
   "cell_type": "markdown",
   "metadata": {},
   "source": [
    "# 괄호로 된 입력값이 올바른지 판별하라.\n",
    "\n",
    "- 입력\n",
    "\n",
    "```python\n",
    "()[]{}\n",
    "```\n",
    "\n",
    "- 출력\n",
    "\n",
    "```python\n",
    "true\n",
    "```"
   ]
  },
  {
   "attachments": {},
   "cell_type": "markdown",
   "metadata": {},
   "source": [
    "- 전형적인 스택문제로, 매우 쉬우면서도 기본기를 점검할 수 있는 좋은 문제다. (,[,{ 는 스택에 푸시하고 )]}를 만날 때 스택에서 팝한 결과가 매핑 테이블 결과와 매칭되는지 확인하면 된다."
   ]
  },
  {
   "cell_type": "code",
   "execution_count": null,
   "metadata": {},
   "outputs": [],
   "source": [
    "stack = []\n"
   ]
  }
 ],
 "metadata": {
  "language_info": {
   "name": "python"
  },
  "orig_nbformat": 4
 },
 "nbformat": 4,
 "nbformat_minor": 2
}
