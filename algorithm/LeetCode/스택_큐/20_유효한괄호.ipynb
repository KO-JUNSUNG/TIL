{
 "cells": [
  {
   "attachments": {},
   "cell_type": "markdown",
   "metadata": {},
   "source": [
    "# 괄호로 된 입력값이 올바른지 판별하라.\n",
    "\n",
    "- 입력\n",
    "\n",
    "```python\n",
    "()[]{}\n",
    "```\n",
    "\n",
    "- 출력\n",
    "\n",
    "```python\n",
    "true\n",
    "```"
   ]
  },
  {
   "attachments": {},
   "cell_type": "markdown",
   "metadata": {},
   "source": [
    "- 전형적인 스택문제로, 매우 쉬우면서도 기본기를 점검할 수 있는 좋은 문제다. (,[,{ 는 스택에 푸시하고 )]}를 만날 때 스택에서 팝한 결과가 매핑 테이블 결과와 매칭되는지 확인하면 된다.\n",
    "\n",
    "- 여기서는 매핑테이블을 먼저 만들어놓고 테이블에 존재하지 않으면 무조건 푸시하고, 팝했을 때 결과가 일치하지 않으면 false 를 return 하도록 구현했다."
   ]
  },
  {
   "cell_type": "code",
   "execution_count": 4,
   "metadata": {},
   "outputs": [
    {
     "data": {
      "text/plain": [
       "True"
      ]
     },
     "execution_count": 4,
     "metadata": {},
     "output_type": "execute_result"
    }
   ],
   "source": [
    "T = '()[]{}'\n",
    "\n",
    "def check(s: str)-> bool:\n",
    "    stack = []\n",
    "    table = {\n",
    "    ')': '(',\n",
    "    ']': '[',\n",
    "    '}': '{'\n",
    "    }\n",
    "    for char in s:\n",
    "        if char not in table:\n",
    "            stack.append(char) # (, [, { 가 dict 에 추가됨(dict 는 key 를 기준으로 추적함)\n",
    "        elif table[char] != stack.pop(): # 키를 기준으로 호출하여 value 를 부름( '(,[,{' )\n",
    "            # 같아서 false 를 return 하지 않으며, pop 했으므로 stack은 다시 비어있음.\n",
    "            return False\n",
    "    return len(stack) == 0\n",
    " \n",
    "check(T)"
   ]
  },
  {
   "cell_type": "code",
   "execution_count": 6,
   "metadata": {},
   "outputs": [],
   "source": [
    "# pop()은 리스트의 맨 마지막 요소를 리턴하고 그 요소는 삭제한다.\n",
    "\n",
    "# 순서도: ( -> append 하고 다음 요소인 ) 로 시작 -> table[')'] 를 호출 -> ( 가 나오고 pop 해온 값 ( 와 동일해서 돌아감. pop 한 대상은 삭제되어 stack 은 비어있음. 반복."
   ]
  },
  {
   "cell_type": "code",
   "execution_count": null,
   "metadata": {},
   "outputs": [],
   "source": []
  }
 ],
 "metadata": {
  "kernelspec": {
   "display_name": "base",
   "language": "python",
   "name": "python3"
  },
  "language_info": {
   "codemirror_mode": {
    "name": "ipython",
    "version": 3
   },
   "file_extension": ".py",
   "mimetype": "text/x-python",
   "name": "python",
   "nbconvert_exporter": "python",
   "pygments_lexer": "ipython3",
   "version": "3.9.13"
  },
  "orig_nbformat": 4
 },
 "nbformat": 4,
 "nbformat_minor": 2
}
