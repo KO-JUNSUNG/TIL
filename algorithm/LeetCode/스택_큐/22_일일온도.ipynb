{
 "cells": [
  {
   "attachments": {},
   "cell_type": "markdown",
   "metadata": {},
   "source": [
    "# 매일의 화씨 온도 리스트 T를 입력받아서, 더 따뜻한 날씨를 위해서는 며칠을 더 기다려야 하는지를 출력하라.\n",
    "\n",
    "- 입력 \n",
    "\n",
    "```python\n",
    "T = [73,74,75,71,69,72,76,73]\n",
    "```\n",
    "\n",
    "- 출력\n",
    "```python\n",
    "[1,1,4,2,1,1,0,0]\n",
    "```"
   ]
  },
  {
   "cell_type": "code",
   "execution_count": 2,
   "metadata": {},
   "outputs": [
    {
     "data": {
      "text/plain": [
       "[1, 1, 4, 2, 1, 1, 0, 0]"
      ]
     },
     "execution_count": 2,
     "metadata": {},
     "output_type": "execute_result"
    }
   ],
   "source": [
    "# 브루트포스 방법\n",
    "\n",
    "def dailyTemperatures(T):\n",
    "    result = []\n",
    "    n = len(T)\n",
    "    for i in range(n):\n",
    "        days = 0\n",
    "        for j in range(i+1, n):\n",
    "            if T[j] > T[i]:\n",
    "                days = j - i\n",
    "                break\n",
    "        result.append(days)\n",
    "    return result\n",
    "\n",
    "T = [73,74,75,71,69,72,76,73]\n",
    "dailyTemperatures(T)"
   ]
  },
  {
   "cell_type": "code",
   "execution_count": 1,
   "metadata": {},
   "outputs": [
    {
     "data": {
      "text/plain": [
       "[1, 1, 4, 2, 1, 1, 0, 0]"
      ]
     },
     "execution_count": 1,
     "metadata": {},
     "output_type": "execute_result"
    }
   ],
   "source": [
    "from typing import List\n",
    "\n",
    "# 풀이 1. 스택 값 비교\n",
    "\n",
    "T = [73,74,75,71,69,72,76,73]\n",
    "\n",
    "def waiting(s:List[int])->List[int]:\n",
    "    result = len(s) * [0]\n",
    "    stack = []\n",
    "    for i in range(len(s)):\n",
    "        while stack and s[i] > s[stack[-1]]: # s[i] = 현재 온도, s[stack[-1]] = 쌓아둔 인덱스 지점의 온도\n",
    "            index = stack.pop()\n",
    "            result[index] = i - index\n",
    "        stack.append(i)\n",
    "    return result\n",
    "\n",
    "waiting(T)"
   ]
  },
  {
   "attachments": {},
   "cell_type": "markdown",
   "metadata": {},
   "source": [
    "1. 현재의 인덱스를 계속해서 스택에 쌓아둔다. \n",
    "2. 이전보다 상승하는 지점에서 현재 온도와 스택에 쌓아둔 인덱스 지점의 온도 차이를 비교해서, 더 높다면 다음과 같이 스택의 값을 팝으로 꺼낸다.\n",
    "3. 현재 인덱스와 스택에 쌓아둔 인덱스의 차이를 정답으로 처리한다."
   ]
  },
  {
   "cell_type": "code",
   "execution_count": null,
   "metadata": {},
   "outputs": [],
   "source": []
  }
 ],
 "metadata": {
  "kernelspec": {
   "display_name": "base",
   "language": "python",
   "name": "python3"
  },
  "language_info": {
   "codemirror_mode": {
    "name": "ipython",
    "version": 3
   },
   "file_extension": ".py",
   "mimetype": "text/x-python",
   "name": "python",
   "nbconvert_exporter": "python",
   "pygments_lexer": "ipython3",
   "version": "3.9.13"
  },
  "orig_nbformat": 4
 },
 "nbformat": 4,
 "nbformat_minor": 2
}
