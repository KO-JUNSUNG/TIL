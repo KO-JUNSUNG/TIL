{
 "cells": [
  {
   "attachments": {},
   "cell_type": "markdown",
   "metadata": {},
   "source": [
    "- 가장 긴 팰린드롬 부분 문자열을 출력하라.\n",
    "\n",
    "- 입력\n",
    "```python\n",
    "\n",
    "\"babbd\"\n",
    "\"cbbd\"\n",
    "```\n",
    "- 출력\n",
    "```python\n",
    "\"bab\"\n",
    "\"bb\"\n",
    "```"
   ]
  },
  {
   "cell_type": "code",
   "execution_count": 2,
   "metadata": {},
   "outputs": [],
   "source": [
    "# 중앙을 중심으로 확장하는 풀이\n",
    "\n",
    "data = \"babbd\""
   ]
  },
  {
   "cell_type": "code",
   "execution_count": 3,
   "metadata": {},
   "outputs": [],
   "source": [
    "def longestPalindrome(s:str)->str:\n",
    "    # 팰린드롬 판별 및 투포인터 확장\n",
    "    def expand(left: int, right: int) -> str:\n",
    "        while left >= 0 and right < len(s) and s[left] == s[right]:\n",
    "            left -= 1\n",
    "            right += 1\n",
    "        return s[left + 1: right]\n",
    "    \n",
    "    # 해당사항이 없을 때 빠르게 리턴\n",
    "    if len(s) <2 or s == s[::-1]:\n",
    "        return s\n",
    "    result = ''\n",
    "    # 슬라이딩 윈도우 우측으로 이동\n",
    "    for i in range(len(s)-1):\n",
    "        result = max(result,\n",
    "                    expand(i, i+1),\n",
    "                    expand(i, i+2),\n",
    "                    key = len)\n",
    "    return result"
   ]
  },
  {
   "attachments": {},
   "cell_type": "markdown",
   "metadata": {},
   "source": [
    "- 마지막 문자까지는 중앙을 기준으로 하는 팰린드롬을 찾을 수 없으므로, 마지막 인덱스인 len(s) - 1까지만 반복문이 실행되도록 설정합니다."
   ]
  },
  {
   "cell_type": "code",
   "execution_count": 4,
   "metadata": {},
   "outputs": [
    {
     "data": {
      "text/plain": [
       "'bab'"
      ]
     },
     "execution_count": 4,
     "metadata": {},
     "output_type": "execute_result"
    }
   ],
   "source": [
    "longestPalindrome(data)"
   ]
  },
  {
   "attachments": {},
   "cell_type": "markdown",
   "metadata": {},
   "source": [
    "```python\n",
    "    # 슬라이딩 윈도우 우측으로 이동\n",
    "    for i in range(len(s)-1):\n",
    "        result = max(result,\n",
    "                    expand(i, i+1),\n",
    "                    expand(i, i+2),\n",
    "                    key = len)\n",
    "    return result\n",
    "```\n",
    "- 이 부분에 대해 해설을 하자면, 2칸짜리 (= 짝수 펠린드롬, ex: 'aa') 슬라이딩 윈도우와 3칸짜리 (= 홀수 펠린드롬, ex: 'bab') 슬라이딩 윈도우를 각각 양 옆으로 확장한다.\n",
    "- 그리고 값을 비교하여 가장 긴 길이를 지닌 값을 result 로 할당하는 것이다. \n",
    "\n",
    "```python\n",
    "    def expand(left: int, right: int) -> str:\n",
    "        while left >= 0 and right < len(s) and s[left] == s[right]:\n",
    "            left -= 1\n",
    "            right += 1\n",
    "        return s[left + 1: right]\n",
    "\n",
    "```\n",
    "\n",
    "- 'babbd' 를 기준으로 과정을 설명하겠다. \n",
    "\n",
    "- i= 0 일 때\n",
    "    1. expand(i, i+1) -> expand(0,1) -> left = 0, right = 1 이지만 s[0] != s[1] ( b != a) 이므로 짝수인 경우 작동하지 않는다.\n",
    "    2. expand(i, i+2) -> expand(0,2) -> left = 0 , right = 2  s[0] = s[2] 이므로 left -= 1, right += 1 해서 다시 작동한다.\n",
    "    3. left = -1 , right = 3 이 되어 반복문이 종료된다. \n",
    "    4. s[ (-1 + 1 =) 0, 3] 을 return 한다. \n",
    "\n",
    "- i = 3 ( len(s)= 5, len(s)-1 = 4 -> range(len(4)) =  [0, 1, 2, 3])\n",
    "    1. expand(3,4) -> b != d  --> X\n",
    "    2. expand(3,5) -> 5 < len(s) 이므로 실행되지 않는다. "
   ]
  },
  {
   "cell_type": "code",
   "execution_count": null,
   "metadata": {},
   "outputs": [],
   "source": []
  }
 ],
 "metadata": {
  "kernelspec": {
   "display_name": "base",
   "language": "python",
   "name": "python3"
  },
  "language_info": {
   "codemirror_mode": {
    "name": "ipython",
    "version": 3
   },
   "file_extension": ".py",
   "mimetype": "text/x-python",
   "name": "python",
   "nbconvert_exporter": "python",
   "pygments_lexer": "ipython3",
   "version": "3.9.13"
  },
  "orig_nbformat": 4
 },
 "nbformat": 4,
 "nbformat_minor": 2
}
