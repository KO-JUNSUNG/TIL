{
 "cells": [
  {
   "attachments": {},
   "cell_type": "markdown",
   "metadata": {},
   "source": [
    "- 금지된 단어를 제외한 가장 흔하게 등장하는 단어를 출력하라. 대소문자 구분을 하지 않으며, 구두점(마침표, 쉼표 등) 또한 무시한다.\n",
    "\n",
    "[입력]\n",
    "\n",
    "```python\n",
    "paragraph = \"Bob hit a ball, the hit BALL flew far after it was hit.\"\n",
    "banned = [\"hit\"]\n",
    "```\n",
    "\n",
    "[출력]\n",
    "```python\n",
    "\"ball\"\n",
    "```"
   ]
  },
  {
   "cell_type": "code",
   "execution_count": 6,
   "metadata": {},
   "outputs": [],
   "source": [
    "from collections import Counter\n",
    "\n",
    "paragraph = \"Bob hit a ball, the hit BALL flew far after it was hit.\"\n",
    "banned = [\"hit\"]\n",
    "\n",
    "paragraph = paragraph.lower()\n",
    "paragraph = paragraph.replace(\",\", \" \")\n",
    "paragraph = paragraph.replace(\".\", \"\")\n",
    "paragraph = paragraph.split()"
   ]
  },
  {
   "cell_type": "code",
   "execution_count": 8,
   "metadata": {},
   "outputs": [
    {
     "name": "stdout",
     "output_type": "stream",
     "text": [
      "['bob', 'hit', 'a', 'ball', 'the', 'hit', 'ball', 'flew', 'far', 'after', 'it', 'was', 'hit']\n"
     ]
    },
    {
     "data": {
      "text/plain": [
       "Counter({'bob': 1,\n",
       "         'hit': 3,\n",
       "         'a': 1,\n",
       "         'ball': 2,\n",
       "         'the': 1,\n",
       "         'flew': 1,\n",
       "         'far': 1,\n",
       "         'after': 1,\n",
       "         'it': 1,\n",
       "         'was': 1})"
      ]
     },
     "execution_count": 8,
     "metadata": {},
     "output_type": "execute_result"
    }
   ],
   "source": [
    "print(paragraph)\n",
    "words = []\n",
    "\n",
    "for i in paragraph:\n",
    "    if i != banned:\n",
    "        words.append(i)\n",
    "\n",
    "Counter(words)\n",
    "\n",
    "# banned 인데 들어가졌다?"
   ]
  },
  {
   "cell_type": "code",
   "execution_count": 11,
   "metadata": {},
   "outputs": [
    {
     "name": "stdout",
     "output_type": "stream",
     "text": [
      "True\n",
      "True\n",
      "True\n",
      "True\n",
      "True\n",
      "True\n",
      "True\n",
      "True\n",
      "True\n",
      "True\n",
      "True\n",
      "True\n",
      "True\n"
     ]
    }
   ],
   "source": [
    "for i in paragraph:\n",
    "    print(i != banned)"
   ]
  },
  {
   "attachments": {},
   "cell_type": "markdown",
   "metadata": {},
   "source": [
    "- paragraph 의 i 원소와 banned 리스트 자체가 비교되고 있다. 이 경우, i와 banned 리스트는 다른 객체이므로 항상 True 를 return 하게 된다. \n",
    "- 올바른 방법은 i 가 banned 에 속하는지 확인하는 것이다. "
   ]
  },
  {
   "cell_type": "code",
   "execution_count": 12,
   "metadata": {},
   "outputs": [
    {
     "data": {
      "text/plain": [
       "Counter({'bob': 1,\n",
       "         'a': 1,\n",
       "         'ball': 2,\n",
       "         'the': 1,\n",
       "         'flew': 1,\n",
       "         'far': 1,\n",
       "         'after': 1,\n",
       "         'it': 1,\n",
       "         'was': 1})"
      ]
     },
     "execution_count": 12,
     "metadata": {},
     "output_type": "execute_result"
    }
   ],
   "source": [
    "words = []\n",
    "\n",
    "for i in paragraph:\n",
    "    if i not in banned:\n",
    "        words.append(i)\n",
    "\n",
    "Counter(words)"
   ]
  },
  {
   "cell_type": "code",
   "execution_count": 13,
   "metadata": {},
   "outputs": [
    {
     "data": {
      "text/plain": [
       "[('ball', 2)]"
      ]
     },
     "execution_count": 13,
     "metadata": {},
     "output_type": "execute_result"
    }
   ],
   "source": [
    "# 마무리로 가장 흔한 원소 하나만 return 하기.\n",
    "\n",
    "Counter(words).most_common(1)  "
   ]
  },
  {
   "cell_type": "code",
   "execution_count": 16,
   "metadata": {},
   "outputs": [
    {
     "data": {
      "text/plain": [
       "'ball'"
      ]
     },
     "execution_count": 16,
     "metadata": {},
     "output_type": "execute_result"
    }
   ],
   "source": [
    "# 교재의 정답\n",
    "from typing import List\n",
    "import re\n",
    "\n",
    "def mostCommonWord(paragraph: str, banned: List[str]) -> str:\n",
    "    words = [word for word in re.sub(r'[^\\w]', ' ', paragraph).lower().split() if word not in banned] \n",
    "    # 정규식에서 \\w 는 단어문자를 뜻하며, ^ 은 not 을 의미한다. 따라서 위 정규식은 단어 문자가 아닌 모든 문자를 공백으로 치환하는 역할을 한다.\n",
    "    # [표현식 for 원소 in 리스트 if 조건문]\n",
    "    counts = Counter(words)\n",
    "    return counts.most_common(1)[0][0]\n",
    "\n",
    "paragraph = \"Bob hit a ball, the hit BALL flew far after it was hit.\"\n",
    "banned = [\"hit\"]\n",
    "\n",
    "mostCommonWord(paragraph, banned)"
   ]
  }
 ],
 "metadata": {
  "kernelspec": {
   "display_name": "base",
   "language": "python",
   "name": "python3"
  },
  "language_info": {
   "codemirror_mode": {
    "name": "ipython",
    "version": 3
   },
   "file_extension": ".py",
   "mimetype": "text/x-python",
   "name": "python",
   "nbconvert_exporter": "python",
   "pygments_lexer": "ipython3",
   "version": "3.9.13"
  },
  "orig_nbformat": 4
 },
 "nbformat": 4,
 "nbformat_minor": 2
}
