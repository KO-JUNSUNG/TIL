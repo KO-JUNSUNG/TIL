{
 "cells": [
  {
   "attachments": {},
   "cell_type": "markdown",
   "metadata": {},
   "source": [
    "- 주어진 문자열이 펠린드롬(회문)인지 확인하라. 대소문자를 구분하지 않으며 영문자와 숫자만을 대상으로 한다.\n",
    "\n",
    "```python\n",
    "예제\n",
    "\n",
    "입력\n",
    "\"A man, a plan, a canal: Panama\"\n",
    "출력\n",
    "true\n",
    "\n",
    "입력\n",
    "\"race a car\"\n",
    "출력\n",
    "false\n",
    "```"
   ]
  },
  {
   "cell_type": "code",
   "execution_count": 8,
   "metadata": {},
   "outputs": [
    {
     "name": "stdout",
     "output_type": "stream",
     "text": [
      "false\n",
      "false\n"
     ]
    }
   ],
   "source": [
    "T = int(input())\n",
    "for testcase in range(1,T+1):\n",
    "    string = (input()).replace(\" \",\"\").replace(\":\",\"\").replace(\",\",\"\").lower()\n",
    "    N = len(string) \n",
    "    if string[0:(N//2)+1] == string[N//2:-1]:\n",
    "        print('true')\n",
    "    else:\n",
    "        print('false')\n",
    "\n",
    "    # 결과가 맞지 않는다. 왜 그럴까?"
   ]
  },
  {
   "cell_type": "code",
   "execution_count": 9,
   "metadata": {},
   "outputs": [
    {
     "name": "stdout",
     "output_type": "stream",
     "text": [
      "amanaplana\n",
      "canalpanam\n"
     ]
    }
   ],
   "source": [
    "string = (input()).replace(\" \",\"\").replace(\":\",\"\").replace(\",\",\"\").lower()\n",
    "a = string[0:len(string)//2]\n",
    "b = string[len(string)//2 : -1]\n",
    "print(a)\n",
    "print(b)\n",
    "\n",
    "# 참조범위가 잘못되었음."
   ]
  },
  {
   "cell_type": "code",
   "execution_count": 20,
   "metadata": {},
   "outputs": [
    {
     "name": "stdout",
     "output_type": "stream",
     "text": [
      "\"amanaplanac\n",
      "canalpanama\"\n",
      "23\n",
      "false\n"
     ]
    }
   ],
   "source": [
    "string = (input()).replace(\" \",\"\").replace(\":\",\"\").replace(\",\",\"\").lower()\n",
    "a = string[0:(len(string)//2)+1]\n",
    "b = string[len(string)//2 ::]\n",
    "print(a)\n",
    "print(b)\n",
    "print(len(string))\n",
    "if a==b:\n",
    "    print('true')\n",
    "else:\n",
    "    print('false')"
   ]
  },
  {
   "cell_type": "code",
   "execution_count": 16,
   "metadata": {},
   "outputs": [
    {
     "name": "stdout",
     "output_type": "stream",
     "text": [
      "hello\n",
      "olleh\n",
      "10\n"
     ]
    }
   ],
   "source": [
    "string = (input()).replace(\" \",\"\").replace(\":\",\"\").replace(\",\",\"\").lower()\n",
    "a = string[:(len(string)//2)]\n",
    "b = string[len(string)//2::]\n",
    "print(a)\n",
    "print(b)\n",
    "print(len(string))"
   ]
  },
  {
   "cell_type": "code",
   "execution_count": 18,
   "metadata": {},
   "outputs": [
    {
     "name": "stdout",
     "output_type": "stream",
     "text": [
      "false\n",
      "false\n"
     ]
    }
   ],
   "source": [
    "# 수정된 코드.\n",
    "\n",
    "T = int(input())\n",
    "for testcase in range(1,T+1):\n",
    "    string = (input()).replace(\" \",\"\").replace(\":\",\"\").replace(\",\",\"\").lower()\n",
    "    N = len(string) \n",
    "    if N % 2 != 0:\n",
    "        if string[:(N//2)+1] == string[N//2::]:\n",
    "            print('true')\n",
    "        else:\n",
    "            print('false')\n",
    "    else:\n",
    "        if string[:(N//2)+1] == string[N//2::]:\n",
    "            print('true')\n",
    "        else:\n",
    "            print('false')\n",
    "    # 여전히 작동하지 않는다...print 한 결과는 정상적이었는데?"
   ]
  },
  {
   "cell_type": "code",
   "execution_count": 21,
   "metadata": {},
   "outputs": [
    {
     "name": "stdout",
     "output_type": "stream",
     "text": [
      "true\n"
     ]
    }
   ],
   "source": [
    "# 생각 자체가 잘못되었다. 위의 코드들은 문장이 반복되고 있는지 체크하는 코드다. 회문인지 체크하는 코드가 아니다.\n",
    "# pythonic\n",
    "string = input().lower()\n",
    "string = ''.join(c for c in string if c.isalnum())\n",
    "ispalindrome = (string == string[::-1])\n",
    "if ispalindrome:\n",
    "    print('true')\n",
    "else:\n",
    "    print('false')"
   ]
  },
  {
   "cell_type": "code",
   "execution_count": 22,
   "metadata": {},
   "outputs": [
    {
     "name": "stdout",
     "output_type": "stream",
     "text": [
      "true\n",
      "false\n"
     ]
    }
   ],
   "source": [
    "# 수정된 코드\n",
    "\n",
    "T = int(input())\n",
    "for testcase in range(1,T+1):\n",
    "    string = input().lower()\n",
    "    string = ''.join(c for c in string if c.isalnum()) # 제약조건을 지키며 리스트로 만들기\n",
    "    ispalindrome = (string == string[::-1]) # 회문판별\n",
    "    if ispalindrome:\n",
    "        print('true')\n",
    "    else:\n",
    "        print('false')"
   ]
  },
  {
   "attachments": {},
   "cell_type": "markdown",
   "metadata": {},
   "source": [
    "- 여기서부턴 파이썬 알고리즘 인터뷰의 정답이다."
   ]
  },
  {
   "cell_type": "code",
   "execution_count": 26,
   "metadata": {},
   "outputs": [
    {
     "data": {
      "text/plain": [
       "True"
      ]
     },
     "execution_count": 26,
     "metadata": {},
     "output_type": "execute_result"
    }
   ],
   "source": [
    "# 책의 리스트 방법.\n",
    "# 재사용가능하게 타입힌트를 남기면서 def 로 선언. 타입힌트 = s가 숫자인지 문자인지, 이 함수의 리턴값이 무엇인지 알려주는 방법.\n",
    "# class Solution:\n",
    "#     def ispalindrome(self, s: str) -> None:\n",
    "#         strs = []\n",
    "#         for char in s:\n",
    "#             if char.isalnum():\n",
    "#                 strs.append(char.lower())\n",
    "#         while len(strs) > 1:\n",
    "#             if strs.pop(0) != strs.pop():\n",
    "#                 return False\n",
    "#         return True   --> Leetcode 용.\n",
    "\n",
    "\n",
    "\n",
    "# 책의 리스트 방법.\n",
    "# 재사용가능하게 타입힌트를 남기면서 def 로 선언. 타입힌트 = s가 숫자인지 문자인지, 이 함수의 리턴값이 무엇인지 알려주는 방법.\n",
    "# 해당 함수에서는 s 라는 파라미터를 받으며, s라는 파라미터는 str 을 원소로 가진 List 를가지며 return 할 때 None 을 return 한다는 사실을 알 수 있다.\n",
    "def ispalindrome(s: str) -> None:\n",
    "    strs = []\n",
    "    for char in s:\n",
    "        if char.isalnum():\n",
    "            strs.append(char.lower())\n",
    "    while len(strs) > 1:\n",
    "        if strs.pop(0) != strs.pop():\n",
    "            return False\n",
    "    return True\n",
    "ispalindrome(\"A man, a plan, a canal: Panama\")"
   ]
  },
  {
   "cell_type": "code",
   "execution_count": 27,
   "metadata": {},
   "outputs": [
    {
     "data": {
      "text/plain": [
       "True"
      ]
     },
     "execution_count": 27,
     "metadata": {},
     "output_type": "execute_result"
    }
   ],
   "source": [
    "# 데크 자료형을 이용한 최적화\n",
    "# pop(0) 은 O(n) 인데 popleft() 는 O(1) 이라 더 빠르다.\n",
    "import collections\n",
    "\n",
    "def ispalindrome(s: str) -> bool:\n",
    "    strs: Deque = collections.deque()\n",
    "    for char in s:\n",
    "        if char.isalnum():\n",
    "            strs.append(char.lower())\n",
    "    while len(strs) > 1:\n",
    "        if strs.popleft() != strs.pop():\n",
    "            return False\n",
    "    return True\n",
    "ispalindrome(\"A man, a plan, a canal: Panama\")\n",
    "\n",
    "# 근데 슬라이싱이 더 빠르다 ㅋㅋ"
   ]
  }
 ],
 "metadata": {
  "kernelspec": {
   "display_name": "base",
   "language": "python",
   "name": "python3"
  },
  "language_info": {
   "codemirror_mode": {
    "name": "ipython",
    "version": 3
   },
   "file_extension": ".py",
   "mimetype": "text/x-python",
   "name": "python",
   "nbconvert_exporter": "python",
   "pygments_lexer": "ipython3",
   "version": "3.9.13"
  },
  "orig_nbformat": 4
 },
 "nbformat": 4,
 "nbformat_minor": 2
}
