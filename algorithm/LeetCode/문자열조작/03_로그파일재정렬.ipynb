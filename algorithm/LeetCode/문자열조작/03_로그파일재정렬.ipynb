{
 "cells": [
  {
   "attachments": {},
   "cell_type": "markdown",
   "metadata": {},
   "source": [
    "- 로그를 재정렬(sorting)하라. 기준은 다음과 같다.\n",
    "    1. 로그의 가장 앞 부분은 식별자다.\n",
    "    2. 문자로 구성된 로그가 숫자 로그보다 앞에 온다.\n",
    "    3. 식별자는 순서에 영향을 끼치지 않지만, 문자가 동일한 경우 식별자순으로 한다. --> 문자를 기준으로 우선 판별한 뒤(ex: art) , 뒤가 같다면 식별자를 기준으로 sorting 한다.\n",
    "    4. 숫자 로그는 입력 순서대로 한다. \n",
    "    \n",
    "\n",
    "- 입력\n",
    "```python\n",
    "logs = [\"dig1 8 1 5 1\", \"let1 art can\", \"dig2 3 6\", \"let2 own kit dig\", \"let3 art zero\"]\n",
    "```\n",
    "- 출력\n",
    "```python\n",
    "[\"let1 art can\", \"let3 art zero\", \"let2 own kit dig\", \"dig1 8 1 5 1\", \"dig2 3 6\"]\n",
    "```"
   ]
  },
  {
   "cell_type": "code",
   "execution_count": 1,
   "metadata": {},
   "outputs": [],
   "source": [
    "# 풀이 1. 람다와 연산자를 활용.\n",
    "# 요구조건을 얼마나 깔끔하게 처리할 수 있는지를 묻는 문제\n",
    "# 문자 > 숫자 1, 숫자 2\n",
    "from typing import List\n",
    "\n",
    "def reorderlogfiles(logs: List[str]) -> List[str]:\n",
    "    letters, number = [], []\n",
    "    for log in logs:\n",
    "        if log.split()[1].isdigit():\n",
    "            number.append(log)\n",
    "        else:\n",
    "            letters.append(log)\n",
    "    letters.sort(key = lambda x: (x.split()[1:], x.split()[0]))\n",
    "    ans = letters + number\n",
    "    return ans"
   ]
  },
  {
   "cell_type": "code",
   "execution_count": 2,
   "metadata": {},
   "outputs": [
    {
     "data": {
      "text/plain": [
       "['let1 art can',\n",
       " 'let3 art zero',\n",
       " 'let2 own kit dig',\n",
       " 'dig1 8 1 5 1',\n",
       " 'dig2 3 6']"
      ]
     },
     "execution_count": 2,
     "metadata": {},
     "output_type": "execute_result"
    }
   ],
   "source": [
    "logs = [\"dig1 8 1 5 1\", \"let1 art can\", \"dig2 3 6\", \"let2 own kit dig\", \"let3 art zero\"]\n",
    "reorderlogfiles(logs)"
   ]
  },
  {
   "cell_type": "code",
   "execution_count": 4,
   "metadata": {},
   "outputs": [
    {
     "data": {
      "text/plain": [
       "4"
      ]
     },
     "execution_count": 4,
     "metadata": {},
     "output_type": "execute_result"
    }
   ],
   "source": [
    "# 람다 표현식을 연습해보자.\n",
    "# 람다 표현식은 순간 쓰고 말 함수를 일일이 지정하기 뭐할 때 이름없이 일회적으로 사용하기 위한 함수이다.\n",
    "def g(x):\n",
    "    return 2 * x\n",
    "g(2)"
   ]
  },
  {
   "cell_type": "code",
   "execution_count": 5,
   "metadata": {},
   "outputs": [
    {
     "data": {
      "text/plain": [
       "4"
      ]
     },
     "execution_count": 5,
     "metadata": {},
     "output_type": "execute_result"
    }
   ],
   "source": [
    "# 위 함수는 아래와 같다\n",
    "f = lambda x: 2*x\n",
    "f(2)"
   ]
  }
 ],
 "metadata": {
  "kernelspec": {
   "display_name": "base",
   "language": "python",
   "name": "python3"
  },
  "language_info": {
   "codemirror_mode": {
    "name": "ipython",
    "version": 3
   },
   "file_extension": ".py",
   "mimetype": "text/x-python",
   "name": "python",
   "nbconvert_exporter": "python",
   "pygments_lexer": "ipython3",
   "version": "3.9.13"
  },
  "orig_nbformat": 4
 },
 "nbformat": 4,
 "nbformat_minor": 2
}
