{
 "cells": [
  {
   "attachments": {},
   "cell_type": "markdown",
   "metadata": {},
   "source": [
    "## 문자열 배열을 받아 애너그램 단위로 그룹핑하라.\n",
    "\n",
    "- 입력\n",
    "   ```python\n",
    "    [\"eat\", \"tea\", \"tan\", \"ate\", \"nat\", \"bat\"]\n",
    "    ```\n",
    "- 출력\n",
    "```python\n",
    "[\n",
    "    [\"ate\", \"eat\", \"tea\"],\n",
    "    [\"nat\",\"tan\"],\n",
    "    [\"bat\"]\n",
    "]\n",
    "```"
   ]
  },
  {
   "cell_type": "code",
   "execution_count": 1,
   "metadata": {},
   "outputs": [],
   "source": [
    "INPUT_DATA =  [\"eat\", \"tea\", \"tan\", \"ate\", \"nat\", \"bat\"]"
   ]
  },
  {
   "cell_type": "code",
   "execution_count": 4,
   "metadata": {},
   "outputs": [
    {
     "name": "stdout",
     "output_type": "stream",
     "text": [
      "[['eat', 'tea', 'ate'], ['tan', 'nat'], ['bat']]\n",
      "dict_items([('aet', ['eat', 'tea', 'ate']), ('ant', ['tan', 'nat']), ('abt', ['bat'])])\n"
     ]
    }
   ],
   "source": [
    "\n",
    "# append 를 대신 하는 4가지 방법: 1) list comprehension 2) 리스트 연결자 + 3) 리스트 언패킹 [*old list, 4]  4) extend\n",
    "from collections import defaultdict\n",
    "\n",
    "INPUT_DATA = [\"eat\", \"tea\", \"tan\", \"ate\", \"nat\", \"bat\"]\n",
    "\n",
    "anagram_groups = defaultdict(list) # defaultdict(list)는 defaultdict 객체를 생성하는데, 기본값으로 빈 리스트([])를 가지게 됩니다. 즉, 존재하지 않는 키를 조회할 때 기본값으로 빈 리스트가 반환됩니다.\n",
    "\n",
    "for word in INPUT_DATA:\n",
    "    sorted_word = ''.join(sorted(word))  \n",
    "\n",
    "\n",
    "    anagram_groups[sorted_word].append(word)  # 애너그램 그룹에 해당하는 키를 만들고 문자열을 추가함. 없으면 키를 만들고, 있으면 그 dict key 에 배정함.\n",
    "    \n",
    "    # dict_items([('aet', ['eat', 'tea', 'ate']), ('ant', ['tan', 'nat']), ('abt', ['bat'])]) \n",
    "    \n",
    "\n",
    "result = list(anagram_groups.values())  # 애너그 그룹들을 리스트로 변환\n",
    "\n",
    "print(result)"
   ]
  },
  {
   "attachments": {},
   "cell_type": "markdown",
   "metadata": {},
   "source": [
    "- Dictionary 에 존재하지 않는 키를 삽입하려고 하면 에러가 발생하므로 항상 디폴트를 생성해주는 defaultdict() 로 구성한다.\n",
    "- 애너그램 그룹의 키로 사용할 정렬된 문자열 생성, word 를 sort 하면 bac, cab 모두 -> abc 로 정렬됨\n",
    "- sorted() 는 문자열도 잘 정렬하며 결과를 리스트형태로 리턴하는데, 이를 다시 키로 사용하기 위해 join으로 합침. \n",
    "- ['a','e','t'] 를 return -> join -> 'aet'\n"
   ]
  },
  {
   "cell_type": "code",
   "execution_count": null,
   "metadata": {},
   "outputs": [],
   "source": []
  }
 ],
 "metadata": {
  "kernelspec": {
   "display_name": "base",
   "language": "python",
   "name": "python3"
  },
  "language_info": {
   "codemirror_mode": {
    "name": "ipython",
    "version": 3
   },
   "file_extension": ".py",
   "mimetype": "text/x-python",
   "name": "python",
   "nbconvert_exporter": "python",
   "pygments_lexer": "ipython3",
   "version": "3.9.13"
  },
  "orig_nbformat": 4
 },
 "nbformat": 4,
 "nbformat_minor": 2
}
