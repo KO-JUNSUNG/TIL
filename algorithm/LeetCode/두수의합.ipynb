{
 "cells": [
  {
   "attachments": {},
   "cell_type": "markdown",
   "metadata": {},
   "source": [
    "- 덧셈하여 타겟을 만들 수 있는 배열의 두 숫자 인덱스를 리턴하라.\n",
    "- 입력\n",
    "\n",
    "```python\n",
    "nums = [2,7,11,15] , target = 9\n",
    "```\n",
    "\n",
    "- 출력\n",
    "```python\n",
    "[0,1]\n",
    "```\n",
    "\n",
    "- 설명\n",
    "```python\n",
    "nums[0] + nums[1] = 2 + 7 = 9\n",
    "```\n",
    "따라서 0,1 을 return 한다."
   ]
  },
  {
   "cell_type": "code",
   "execution_count": 1,
   "metadata": {},
   "outputs": [
    {
     "name": "stdout",
     "output_type": "stream",
     "text": [
      "[0, 1]\n"
     ]
    }
   ],
   "source": [
    "# 브루트 포스로 계산\n",
    "\n",
    "nums,target = [2,7,11,15], 9\n",
    "\n",
    "for i in range(len(nums)):\n",
    "    for j in range(1,len(nums)):\n",
    "        if (nums[i]+nums[j]) == target:\n",
    "           print([i,j])\n"
   ]
  },
  {
   "cell_type": "code",
   "execution_count": 3,
   "metadata": {},
   "outputs": [
    {
     "data": {
      "text/plain": [
       "[0, 1]"
      ]
     },
     "execution_count": 3,
     "metadata": {},
     "output_type": "execute_result"
    }
   ],
   "source": [
    "# in 을 이용한 탐색\n",
    "from typing import List\n",
    "\n",
    "def twoSum(nums:List[int], target: int) -> List[int]:\n",
    "\n",
    "    for i,n in enumerate(nums): # i = index, n = data\n",
    "        complement = target - n\n",
    "\n",
    "        if complement in nums[i+1:]:\n",
    "            return [nums.index(n), nums[i+1:].index(complement)+(i+1)]\n",
    "        \n",
    "twoSum(nums, target)"
   ]
  },
  {
   "cell_type": "code",
   "execution_count": null,
   "metadata": {},
   "outputs": [],
   "source": [
    "# 첫번쨰 수를 뺀 결과 키 조회\n",
    "\n",
    "def twoSum(nums: List[int], target: int) -> List[int]:\n",
    "    nums_map = {}\n",
    "    # 키와 값을 바꿔서 딕셔너리로 저장\n",
    "    for i, num in enumerate(nums):\n",
    "        nums_map[num] = i\n",
    "\n",
    "    # 타겟에서 첫번쨰 수를 뺀 결과를 키로 조회\n",
    "    for i, num in enumerate(nums):\n",
    "        if target - num in nums_map and i != nums_map[target - num]: # i != nums_map 의 존재 이유: 2+2 가 나오면 안되잖어.\n",
    "            return [i, nums_map[target - num]]"
   ]
  },
  {
   "cell_type": "code",
   "execution_count": 4,
   "metadata": {},
   "outputs": [
    {
     "data": {
      "text/plain": [
       "[0, 1]"
      ]
     },
     "execution_count": 4,
     "metadata": {},
     "output_type": "execute_result"
    }
   ],
   "source": [
    "# 조회구조 개선\n",
    "\n",
    "def twoSum(nums: List[int], target: int) -> List[int]:\n",
    "    nums_map = {}\n",
    "    # 키와 값을 바꿔서 딕셔너리로 저장\n",
    "    for i, num in enumerate(nums):\n",
    "        if target - num in nums_map:\n",
    "            return [nums_map[target - num], i]\n",
    "        nums_map[num] = i\n",
    "twoSum(nums, target) "
   ]
  },
  {
   "cell_type": "code",
   "execution_count": null,
   "metadata": {},
   "outputs": [],
   "source": [
    "# 투포인터 이용 --> 불가"
   ]
  }
 ],
 "metadata": {
  "kernelspec": {
   "display_name": "base",
   "language": "python",
   "name": "python3"
  },
  "language_info": {
   "codemirror_mode": {
    "name": "ipython",
    "version": 3
   },
   "file_extension": ".py",
   "mimetype": "text/x-python",
   "name": "python",
   "nbconvert_exporter": "python",
   "pygments_lexer": "ipython3",
   "version": "3.9.13"
  },
  "orig_nbformat": 4
 },
 "nbformat": 4,
 "nbformat_minor": 2
}
