{
 "cells": [
  {
   "attachments": {},
   "cell_type": "markdown",
   "metadata": {},
   "source": [
    "- 덧셈하여 타겟을 만들 수 있는 배열의 두 숫자 인덱스를 리턴하라.\n",
    "- 입력\n",
    "\n",
    "```python\n",
    "nums = [2,7,11,15] , target = 9\n",
    "```\n",
    "\n",
    "- 출력\n",
    "```python\n",
    "[0,1]\n",
    "```\n",
    "\n",
    "- 설명\n",
    "```python\n",
    "nums[0] + nums[1] = 2 + 7 = 9\n",
    "```\n",
    "따라서 0,1 을 return 한다."
   ]
  },
  {
   "cell_type": "code",
   "execution_count": null,
   "metadata": {},
   "outputs": [],
   "source": [
    "# 브루트 포스로 계산"
   ]
  },
  {
   "cell_type": "code",
   "execution_count": null,
   "metadata": {},
   "outputs": [],
   "source": [
    "# in 을 이용한 탐색"
   ]
  },
  {
   "cell_type": "code",
   "execution_count": null,
   "metadata": {},
   "outputs": [],
   "source": [
    "# 첫번쨰 수를 뺀 결과 키 조회"
   ]
  },
  {
   "cell_type": "code",
   "execution_count": null,
   "metadata": {},
   "outputs": [],
   "source": [
    "# 조회구조 개선 "
   ]
  },
  {
   "cell_type": "code",
   "execution_count": null,
   "metadata": {},
   "outputs": [],
   "source": [
    "# 투포인터 이용 --> 불가"
   ]
  }
 ],
 "metadata": {
  "language_info": {
   "name": "python"
  },
  "orig_nbformat": 4
 },
 "nbformat": 4,
 "nbformat_minor": 2
}
