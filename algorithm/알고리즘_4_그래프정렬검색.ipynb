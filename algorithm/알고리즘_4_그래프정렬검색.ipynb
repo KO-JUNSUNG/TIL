{
 "cells": [
  {
   "cell_type": "code",
   "execution_count": 7,
   "metadata": {},
   "outputs": [],
   "source": [
    "#그래프\n",
    "\n",
    "##함수\n",
    "class Graph():\n",
    "    def __init__(self,size):\n",
    "        self.graph=[ [0 for _ in range(size)] for _ in range(size)]\n",
    "##변수\n",
    "\n",
    "##메인\n",
    "\n",
    "G1=Graph(4)\n",
    "A,B,C,D=0,1,2,3\n",
    "G1.graph[A][B]=1\n",
    "G1.graph[A][C]=1\n",
    "G1.graph[A][D]=1\n",
    "\n",
    "G1.graph[B][C]=1\n",
    "G1.graph[B][D]=1\n",
    "G1.graph[B][A]=1\n",
    "\n",
    "G1.graph[C][A]=1\n",
    "G1.graph[C][B]=1\n",
    "G1.graph[C][D]=1\n",
    "\n",
    "G1.graph[D][A]=1\n",
    "G1.graph[D][B]=1\n",
    "G1.graph[D][C]=1\n"
   ]
  },
  {
   "cell_type": "code",
   "execution_count": 8,
   "metadata": {},
   "outputs": [
    {
     "name": "stdout",
     "output_type": "stream",
     "text": [
      "[[0, 1, 1, 1], [1, 0, 1, 1], [1, 1, 0, 1], [1, 1, 1, 0]]\n"
     ]
    }
   ],
   "source": [
    "print(G1.graph)"
   ]
  },
  {
   "cell_type": "code",
   "execution_count": 10,
   "metadata": {},
   "outputs": [
    {
     "name": "stdout",
     "output_type": "stream",
     "text": [
      "0 1 1 1 \n",
      "1 0 1 1 \n",
      "1 1 0 1 \n",
      "1 1 1 0 \n"
     ]
    }
   ],
   "source": [
    "for row in range(4):\n",
    "    for col in range(4):\n",
    "        print(G1.graph[row][col],end= ' ')\n",
    "    print() # 엔터용"
   ]
  },
  {
   "cell_type": "code",
   "execution_count": 1,
   "metadata": {},
   "outputs": [
    {
     "name": "stdout",
     "output_type": "stream",
     "text": [
      "최솟값--> 33\n"
     ]
    }
   ],
   "source": [
    "#정렬\n",
    "\n",
    "##함수\n",
    "def findMinIndex(ary):\n",
    "    minIdx=0\n",
    "    for i in range(1, len(ary)):\n",
    "        if (ary[minIdx]>ary[i]):\n",
    "            minIdx=i # ary의 minIdx원소가 ary의 i번째 원소보다 크면 minIdx를 i로 대체\n",
    "    return minIdx\n",
    "##변수\n",
    "testAry=[55,88,33,77]\n",
    "##메인\n",
    "minPos=findMinIndex(testAry) #testAry 에서 가장 작은 원소의 index를 찾음\n",
    "print('최솟값-->',testAry[minPos])"
   ]
  },
  {
   "cell_type": "code",
   "execution_count": 2,
   "metadata": {},
   "outputs": [
    {
     "name": "stdout",
     "output_type": "stream",
     "text": [
      "정렬 전--> [106, 136, 168, 89, 84, 91, 150, 177]\n",
      "정렬 후--> [84, 89, 91, 106, 136, 150, 168, 177]\n"
     ]
    }
   ],
   "source": [
    "##함수\n",
    "import random\n",
    "def findMinIndex(ary):\n",
    "    minIdx=0\n",
    "    for i in range(1, len(ary)):\n",
    "        if (ary[minIdx]>ary[i]):\n",
    "            minIdx=i # ary의 minIdx원소가 ary의 i번째 원소보다 크면 minIdx를 i로 대체\n",
    "    return minIdx\n",
    "##변수\n",
    "SIZE=8\n",
    "before=[random.randint(40,200) for _ in range(SIZE)] #40~200까지의 숫자를 랜덤으로 size만큼 뽑음\n",
    "after=[]\n",
    "##메인\n",
    "print('정렬 전-->',before)\n",
    "for _ in range(SIZE): # _는 횟수만 카운트하고 i같은 인덱스를 필요로 하지 않을 때 사용한다.\n",
    "    minPos=findMinIndex(before)\n",
    "    after.append(before[minPos]) #after에 before의 멍멍이를 이동.\n",
    "    del (before[minPos]) #기존에 있던 before의 멍멍이를 제거.\n",
    "print('정렬 후-->',after)"
   ]
  },
  {
   "cell_type": "code",
   "execution_count": 3,
   "metadata": {},
   "outputs": [
    {
     "name": "stdout",
     "output_type": "stream",
     "text": [
      "배열--> [63, 158, 93, 141, 147, 131, 96, 119]\n",
      "63 는 position 위치에 있음.\n"
     ]
    }
   ],
   "source": [
    "#검색\n",
    "#검색은 정렬된 상태에서 빠르게 원하는 것을 찾을 수 있음\n",
    "\n",
    "#순차검색\n",
    "#self 는 class 에서만 쓰세요\n",
    "## 함수\n",
    "def seqSearch(arr,data):\n",
    "    pos=-1\n",
    "    arr=arr\n",
    "    data=data\n",
    "    for i in range(len(arr)):\n",
    "        if (arr[i]==data):\n",
    "            pos=i\n",
    "            break #break를 시켜야 리소스 낭비가 없다.\n",
    "    return pos\n",
    "    \n",
    "## 변수\n",
    "SIZE=8\n",
    "array=[random.randint(40,200) for _ in range(SIZE)] #40~200까지의 숫자를 랜덤으로 size만큼 뽑음\n",
    "findData=random.choice(array)\n",
    "## 메인\n",
    "print('배열-->',array)\n",
    "position=seqSearch(array,findData)\n",
    "if (position==-1):\n",
    "    print(findData,'는',position,'없음.')\n",
    "else:\n",
    "    print(findData,'는','position', '위치에 있음.')"
   ]
  },
  {
   "cell_type": "code",
   "execution_count": 1,
   "metadata": {},
   "outputs": [
    {
     "name": "stdout",
     "output_type": "stream",
     "text": [
      "배열--> [108, 94, 137, 53, 163, 109, 93, 53]\n",
      "53 는 3 위치에 있음 ^^\n"
     ]
    }
   ],
   "source": [
    "#순차검색\n",
    "\n",
    "## 함수\n",
    "import random\n",
    "def seqSearch(ary, fData) :\n",
    "    pos = -1\n",
    "    size = len(ary)\n",
    "\n",
    "    for i in range(size) :\n",
    "        if (ary[i] == fData)  :\n",
    "            pos = i\n",
    "            break\n",
    "\n",
    "    return pos\n",
    "## 변수\n",
    "SIZE=8\n",
    "dataAry = [random.randint(40, 200) for _ in range(SIZE)]\n",
    "findData = random.choice(dataAry)\n",
    "\n",
    "## 메인\n",
    "print('배열-->', dataAry)\n",
    "position = seqSearch(dataAry, findData)\n",
    "if (position == -1) :\n",
    "    print(findData,'는', position, '없어요 ㅠㅠ')\n",
    "else :\n",
    "    print(findData,'는', position, '위치에 있음 ^^')"
   ]
  },
  {
   "cell_type": "code",
   "execution_count": null,
   "metadata": {},
   "outputs": [],
   "source": [
    "#이진 검색\n",
    "\n",
    "## 함수\n",
    "import random\n",
    "def binSearch(ary, fData) :\n",
    "    pos = -1\n",
    "    start = 0\n",
    "    end = len(ary)-1\n",
    "    while (start <= end) :\n",
    "        mid = (start + end) // 2\n",
    "        if (ary[mid] == fData) :\n",
    "            pos = mid\n",
    "            break\n",
    "        elif (ary[mid] < fData) :\n",
    "            start = mid + 1\n",
    "        else :\n",
    "            end = mid - 1\n",
    "\n",
    "    return pos\n",
    "\n",
    "## 변수\n",
    "SIZE=10\n",
    "dataAry = [random.randint(40, 200) for _ in range(SIZE)]\n",
    "dataAry.sort()\n",
    "findData = random.choice(dataAry)\n",
    "\n",
    "## 메인\n",
    "print('배열-->', dataAry)\n",
    "position = binSearch(dataAry, findData)\n",
    "if (position == -1) :\n",
    "    print(findData,'는', position, '없어요 ㅠㅠ')\n",
    "else :\n",
    "    print(findData,'는', position, '위치에 있음 ^^')"
   ]
  },
  {
   "cell_type": "code",
   "execution_count": 4,
   "metadata": {},
   "outputs": [
    {
     "name": "stdout",
     "output_type": "stream",
     "text": [
      "상자를 엽니다.\n",
      "상자를 엽니다.\n",
      "상자를 엽니다.\n",
      "상자를 엽니다.\n",
      "상자를 엽니다.\n",
      "상자를 엽니다.\n",
      "상자를 엽니다.\n",
      "상자를 엽니다.\n",
      "상자를 엽니다.\n",
      "상자를 엽니다.\n",
      "***선물 넣기***\n",
      "상자 닫기\n",
      "상자 닫기\n",
      "상자 닫기\n",
      "상자 닫기\n",
      "상자 닫기\n",
      "상자 닫기\n",
      "상자 닫기\n",
      "상자 닫기\n",
      "상자 닫기\n"
     ]
    }
   ],
   "source": [
    "#재귀함수\n",
    "\n",
    "##함수\n",
    "def openBox():\n",
    "    global count\n",
    "    print('상자를 엽니다.')\n",
    "    count-=1\n",
    "    if (count==0):\n",
    "        print('***선물 넣기***') \n",
    "        return       \n",
    "    openBox()\n",
    "    print('상자 닫기')\n",
    "##메인\n",
    "count=10\n",
    "openBox()"
   ]
  },
  {
   "cell_type": "code",
   "execution_count": 5,
   "metadata": {},
   "outputs": [
    {
     "name": "stdout",
     "output_type": "stream",
     "text": [
      "55\n"
     ]
    }
   ],
   "source": [
    "#재귀 2\n",
    "\n",
    "##함수\n",
    "def addNumber(num):\n",
    "    if num==1:\n",
    "        return num\n",
    "    else: \n",
    "        return num+addNumber(num-1)\n",
    "##메인\n",
    "print(addNumber(10))"
   ]
  },
  {
   "cell_type": "code",
   "execution_count": null,
   "metadata": {},
   "outputs": [],
   "source": []
  }
 ],
 "metadata": {
  "kernelspec": {
   "display_name": "base",
   "language": "python",
   "name": "python3"
  },
  "language_info": {
   "codemirror_mode": {
    "name": "ipython",
    "version": 3
   },
   "file_extension": ".py",
   "mimetype": "text/x-python",
   "name": "python",
   "nbconvert_exporter": "python",
   "pygments_lexer": "ipython3",
   "version": "3.9.12"
  },
  "orig_nbformat": 4,
  "vscode": {
   "interpreter": {
    "hash": "80cc27e9a0e8aa59b18a6f502b8a24c9fe77be3bcd87d0900d8763aa62f81a4d"
   }
  }
 },
 "nbformat": 4,
 "nbformat_minor": 2
}
