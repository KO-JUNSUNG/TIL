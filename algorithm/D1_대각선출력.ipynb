{
 "cells": [
  {
   "cell_type": "code",
   "execution_count": 1,
   "metadata": {},
   "outputs": [
    {
     "name": "stdout",
     "output_type": "stream",
     "text": [
      "#++++\n",
      "+#+++\n",
      "++#++\n",
      "+++#+\n",
      "++++#\n"
     ]
    }
   ],
   "source": [
    "# 대각선으로 별찍기 문제.\n",
    "# i == j (첫번째 행에서는 첫번째 열에서만, 두번째 행에서는 두번쨰 열에서만 # 가 나타난다.)\n",
    " \n",
    "for i in range(5): # 0,1,2,3,4\n",
    "    for j in range(5):\n",
    "        if i == j :\n",
    "            print(\"#\", end=\"\")\n",
    "        else:\n",
    "            print(\"+\", end=\"\")\n",
    "    print() # 엔터키 대용"
   ]
  },
  {
   "cell_type": "code",
   "execution_count": null,
   "metadata": {},
   "outputs": [],
   "source": []
  }
 ],
 "metadata": {
  "kernelspec": {
   "display_name": "base",
   "language": "python",
   "name": "python3"
  },
  "language_info": {
   "codemirror_mode": {
    "name": "ipython",
    "version": 3
   },
   "file_extension": ".py",
   "mimetype": "text/x-python",
   "name": "python",
   "nbconvert_exporter": "python",
   "pygments_lexer": "ipython3",
   "version": "3.9.13"
  },
  "orig_nbformat": 4
 },
 "nbformat": 4,
 "nbformat_minor": 2
}
