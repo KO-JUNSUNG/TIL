{
 "cells": [
  {
   "attachments": {},
   "cell_type": "markdown",
   "metadata": {},
   "source": [
    "# 10개의 수를 입력 받아, 그 중에서 홀수만 더한 값을 출력하는 프로그램을 작성하라.\n",
    "\n",
    "\n",
    "## [제약 사항]\n",
    "\n",
    "- 각 수는 0 이상 10000 이하의 정수이다.\n",
    "\n",
    "\n",
    "## [입력]\n",
    "\n",
    "- 가장 첫 줄에는 테스트 케이스의 개수 T가 주어지고, 그 아래로 각 테스트 케이스가 주어진다.\n",
    "\n",
    "- 각 테스트 케이스의 첫 번째 줄에는 10개의 수가 주어진다.\n",
    "\n",
    "\n",
    "## [출력]\n",
    "\n",
    "- 출력의 각 줄은 '#t'로 시작하고, 공백을 한 칸 둔 다음 정답을 출력한다.\n",
    "\n",
    "- (t는 테스트 케이스의 번호를 의미하며 1부터 시작한다.)"
   ]
  },
  {
   "cell_type": "code",
   "execution_count": 1,
   "metadata": {},
   "outputs": [
    {
     "name": "stdout",
     "output_type": "stream",
     "text": [
      "#1,200\n",
      "#2,208\n",
      "#3,121\n"
     ]
    }
   ],
   "source": [
    "# 변수부\n",
    "T = int(input())\n",
    "\n",
    "# 함수부\n",
    "def sum_odd_numbers(numbers):\n",
    "    total = 0 \n",
    "    for num in numbers:\n",
    "        if num % 2 == 1:\n",
    "            total += num\n",
    "    return total \n",
    "# 메인\n",
    "for i in range(1,T+1):\n",
    "    T_list = list(map(int,input().split()))\n",
    "    print(f'#{i}',sum_odd_numbers(T_list))"
   ]
  },
  {
   "cell_type": "code",
   "execution_count": null,
   "metadata": {},
   "outputs": [],
   "source": []
  }
 ],
 "metadata": {
  "kernelspec": {
   "display_name": "base",
   "language": "python",
   "name": "python3"
  },
  "language_info": {
   "codemirror_mode": {
    "name": "ipython",
    "version": 3
   },
   "file_extension": ".py",
   "mimetype": "text/x-python",
   "name": "python",
   "nbconvert_exporter": "python",
   "pygments_lexer": "ipython3",
   "version": "3.9.13"
  },
  "orig_nbformat": 4
 },
 "nbformat": 4,
 "nbformat_minor": 2
}
