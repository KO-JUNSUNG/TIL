{
 "cells": [
  {
   "attachments": {},
   "cell_type": "markdown",
   "metadata": {},
   "source": [
    "입력으로 1개의 정수 N 이 주어진다.\n",
    "\n",
    "정수 N 의 약수를 오름차순으로 출력하는 프로그램을 작성하라.\n",
    " \n",
    "\n",
    "[제약사항]\n",
    "\n",
    "N은 1이상 1,000이하의 정수이다. (1 ≤ N ≤ 1,000)\n",
    " \n",
    "\n",
    "[입력]\n",
    "\n",
    "입력으로 정수 N 이 주어진다.\n",
    "\n",
    "\n",
    "[출력]\n",
    "\n",
    "정수 N 의 모든 약수를 오름차순으로 출력한다."
   ]
  },
  {
   "cell_type": "code",
   "execution_count": null,
   "metadata": {},
   "outputs": [],
   "source": [
    "# 함수부\n",
    "def find_divisors(n):\n",
    "    divisors = []  # 약수를 저장할 리스트\n",
    "     \n",
    "    for i in range(1, n+1):\n",
    "        if n % i == 0:  # N을 i로 나누었을 때 나머지가 0이면 i는 N의 약수\n",
    "            divisors.append(i)\n",
    "     \n",
    "    return sorted(divisors) # sorted 는 내장함수로 오름차순 정렬, 내림차순 정렬을 원할 경우 reverse = True 를 넣어주면 된다.\n",
    " \n",
    "# 변수부\n",
    "# 내림차순 = 큰거부터 작은거, 오름차순 = 작은거부터 큰 거\n",
    "T = int(input())\n",
    " \n",
    " \n",
    "# main\n",
    "ans = find_divisors(T) \n",
    "output = ' '.join(map(str, ans)) # map을 통해 ans 를 str 화 -> 각 요소들을 join 을 통해 공백과 연결하여 하나의 문자열 화 ex) '10' -> '10 ' \n",
    "print(output)"
   ]
  }
 ],
 "metadata": {
  "language_info": {
   "name": "python"
  },
  "orig_nbformat": 4
 },
 "nbformat": 4,
 "nbformat_minor": 2
}
