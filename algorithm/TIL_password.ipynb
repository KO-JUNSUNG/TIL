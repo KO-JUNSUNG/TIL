{
 "cells": [
  {
   "attachments": {},
   "cell_type": "markdown",
   "metadata": {},
   "source": [
    "평소에 잔머리가 발달하고 게으른 철수는 비밀번호를 기억하는 것이 너무 귀찮았습니다.\n",
    "\n",
    "적어서 가지고 다니고 싶지만 누가 볼까봐 걱정입니다. 한가지 생각을 해냅니다.\n",
    " \n",
    "0~9로 이루어진 번호 문자열에서 같은 번호로 붙어있는 쌍들을 소거하고 남은 번호를 비밀번호로 만드는 것입니다.\n",
    "\n",
    "번호 쌍이 소거되고 소거된 번호 쌍의 좌우 번호가 같은 번호이면 또 소거 할 수 있습니다.\n",
    "\n",
    "예를 들어 아래의 번호 열을 철수의 방법으로 소거하고 알아낸 비밀 번호입니다.\n",
    "\n",
    "\n",
    "[입력]\n",
    "\n",
    "10개의 테스트 케이스가 10줄에 걸쳐, 한 줄에 테스트 케이스 하나씩 제공된다.\n",
    "\n",
    "각 테스트 케이스는 우선 문자열이 포함하는 문자의 총 수가 주어지고, 공백을 둔 다음 번호 문자열이 공백 없이 제공된다.\n",
    "\n",
    "문자열은 0~9로 구성되며 문자열의 길이 N은 10≤N≤100이다. 비밀번호의 길이는 문자열의 길이보다 작다.\n",
    " \n",
    "[출력]\n",
    "\n",
    "#부호와 함께 테스트 케이스의 번호를 출력하고, 공백 문자 후 테스트 케이스에 대한 답(비밀번호)을 출력한다.\n",
    "\n",
    "\n",
    "입력\n",
    "\n",
    "10 1238099084  \n",
    "\n",
    "16 4100112380990844\n",
    "\n",
    "...\n",
    "\n",
    "출력\n",
    "\n",
    "#1 1234\n",
    "\n",
    "#2 4123\n",
    "\n",
    "..."
   ]
  },
  {
   "attachments": {},
   "cell_type": "markdown",
   "metadata": {},
   "source": [
    "1 vs 2, 2vs3, 3vs4 같은 걸 하면 한번은 없앨 수 있을 거 같음. 근데 어떻게 회전을 더 돌리지?"
   ]
  },
  {
   "cell_type": "code",
   "execution_count": null,
   "metadata": {},
   "outputs": [],
   "source": [
    "# 본인이 생각한 답\n",
    "\n",
    "## 변수\n",
    "T=int(input())\n",
    "\n",
    "## 함수\n",
    "\n",
    "## 메인\n",
    "\n",
    "for i in range(1,11):\n",
    "    Numb, ans=input().split(\" \")\n",
    "    newans=[]\n",
    "    for j in range(1,int(Numb)+1):\n",
    "        while True:\n",
    "            if ans[j]==ans[j+1]:\n",
    "                del ans[j],ans[j+1]\n",
    "            else:\n",
    "                newans.append(ans)                \n",
    "        print(f'#{i} {newans}')"
   ]
  },
  {
   "cell_type": "code",
   "execution_count": null,
   "metadata": {},
   "outputs": [],
   "source": [
    "# 인터넷에서 찾은 천재의 정답\n",
    "T = 10\n",
    "for t in range(1, T+1):\n",
    "    n, password = input().split()\n",
    "    n = int(n) #n은 필요없지만 input을 받았기에 그냥 변수로 놓는다.\n",
    "    stk = []\n",
    "    for c in password:\n",
    "        if stk and c == stk[-1]: #발상이 genius 하다. 빈 스택 구조를 만들어놓고, 거기에 데이터를 계속해서 넣고 새 데이터와 마지막에 넣은 데이터가 같다면(동일한 데이터와 만난다면) 마지막에 넣은 데이터를 빼버린다.(더함x)\n",
    "            stk.pop()\n",
    "        else:\n",
    "            stk.append(c)\n",
    "\n",
    "    result = ''.join(stk)\n",
    "\n",
    "    print('#{} {}'.format(t, result))"
   ]
  },
  {
   "cell_type": "code",
   "execution_count": null,
   "metadata": {},
   "outputs": [],
   "source": []
  }
 ],
 "metadata": {
  "kernelspec": {
   "display_name": "base",
   "language": "python",
   "name": "python3"
  },
  "language_info": {
   "codemirror_mode": {
    "name": "ipython",
    "version": 3
   },
   "file_extension": ".py",
   "mimetype": "text/x-python",
   "name": "python",
   "nbconvert_exporter": "python",
   "pygments_lexer": "ipython3",
   "version": "3.9.12 (main, Apr  4 2022, 05:22:27) [MSC v.1916 64 bit (AMD64)]"
  },
  "orig_nbformat": 4,
  "vscode": {
   "interpreter": {
    "hash": "80cc27e9a0e8aa59b18a6f502b8a24c9fe77be3bcd87d0900d8763aa62f81a4d"
   }
  }
 },
 "nbformat": 4,
 "nbformat_minor": 2
}
