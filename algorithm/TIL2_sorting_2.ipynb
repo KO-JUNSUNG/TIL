{
 "cells": [
  {
   "cell_type": "code",
   "execution_count": 3,
   "metadata": {},
   "outputs": [
    {
     "name": "stdout",
     "output_type": "stream",
     "text": [
      "[0, 1, 2, 3, 4, 5, 6, 7, 8, 9]\n"
     ]
    }
   ],
   "source": [
    "array=[5,7,9,0,3,1,6,2,4,8]\n",
    "\n",
    "#퀵정렬\n",
    "\n",
    "def quick_sort(array, start, end):\n",
    "    if start >= end: #원소가 1개인 경우 종료\n",
    "        return\n",
    "    pivot = start # pivot(기준데이터) 은 첫번째 원소\n",
    "    left=start+1\n",
    "    right=end\n",
    "    while (left <= right):\n",
    "        #pivot 보다 큰 데이터를 찾을 때까지 반복\n",
    "        while(left<=end and array[left] <= array[pivot]):\n",
    "            left+=1 #왼->오\n",
    "        #pivot 보다 작은 데이터를 찾을 때까지 반복\n",
    "        while(right>start and array[right] >= array[pivot]):\n",
    "            right-=1 #오->왼\n",
    "        if (left>right): #엇갈렸다면(cross) 작은 데이터와 pivot을 교체\n",
    "            array[right],array[pivot]=array[pivot],array[right]\n",
    "        else: #엇갈리지 않았다면 작은 데이터와 큰 데이터를 교체\n",
    "            array[left],array[right]=array[right],array[left]\n",
    "    #분할 이후 왼쪽 부분과 오른쪽 부분에 대하여 각각 정렬 수행(재귀)\n",
    "    quick_sort(array, start, right -1)\n",
    "    quick_sort(array, right+1, end)\n",
    "    \n",
    "quick_sort(array, 0, len(array)-1)\n",
    "print(array)"
   ]
  },
  {
   "cell_type": "code",
   "execution_count": 7,
   "metadata": {},
   "outputs": [
    {
     "name": "stdout",
     "output_type": "stream",
     "text": [
      "0 0 0 1 2 3 4 5 6 7 8 9 "
     ]
    }
   ],
   "source": [
    "\"\"\"\n",
    "계수 정렬\n",
    "각각의 데이터가 몇 번 등장했는지 체크하는 방법\n",
    "인덱스= 0,1,2,3,4,5,6,7,8,9\n",
    "개수(Count)를 세어서 0의 인덱스부터 정렬하는 방식.\n",
    "\"\"\"\n",
    "\n",
    "#모든 원소의 값이 0보다 크거나 같다고 가정\n",
    "\n",
    "array_2=[5,7,9,0,3,1,6,2,4,8,0,0]\n",
    "\n",
    "#모든 범위를 포함하는 리스트 선언(모든 값은 0으로 초기화)\n",
    "\n",
    "count=[0]*(max(array_2)+1)\n",
    "\n",
    "for i in range(len(array_2)):\n",
    "    count[array_2[i]]+=1 #각 데이터에 해당하는 인덱스값 증가\n",
    "for i in range(len(count)):# 리스트에 기록된 정렬정보 확인\n",
    "    for j in range(count[i]):\n",
    "        print(i,end=' ') #띄어쓰기를 구분으로 등장한 횟수만큼 인덱스 출력\n",
    "        \n"
   ]
  },
  {
   "cell_type": "code",
   "execution_count": null,
   "metadata": {},
   "outputs": [],
   "source": []
  }
 ],
 "metadata": {
  "kernelspec": {
   "display_name": "Python 3.9.12 ('base')",
   "language": "python",
   "name": "python3"
  },
  "language_info": {
   "codemirror_mode": {
    "name": "ipython",
    "version": 3
   },
   "file_extension": ".py",
   "mimetype": "text/x-python",
   "name": "python",
   "nbconvert_exporter": "python",
   "pygments_lexer": "ipython3",
   "version": "3.9.12"
  },
  "orig_nbformat": 4,
  "vscode": {
   "interpreter": {
    "hash": "80cc27e9a0e8aa59b18a6f502b8a24c9fe77be3bcd87d0900d8763aa62f81a4d"
   }
  }
 },
 "nbformat": 4,
 "nbformat_minor": 2
}
