{
 "cells": [
  {
   "attachments": {},
   "cell_type": "markdown",
   "metadata": {},
   "source": [
    "# DFS(Depth-First Search)\n",
    "- 깊이 우선 탐색\n",
    "- 그래프에서 깊은 부분을 우선적으로 탐색하는 알고리즘\n",
    "- 스택 자료구조 혹은 재귀함수를 이용하며 구체적인 동작 과정은 다음과 같다.\n",
    "    1. 탐색 시작노드를 스택에 삽입하고 방문처리를 한다.\n",
    "    2. 스택의 최상단 노드에 방문하지 않은 인접한 노드가 하나라도 있으면 그 노드를 스택에 넣고 방문처리한다. 인접노드가 없으면 스택에서 최상단 노드를 꺼낸다.\n",
    "    3. 더 이상 2번의 과정을 수행할 수 없을 때까지 반복한다."
   ]
  },
  {
   "cell_type": "code",
   "execution_count": 1,
   "metadata": {},
   "outputs": [
    {
     "name": "stdout",
     "output_type": "stream",
     "text": [
      "1 2 7 6 8 3 4 5 "
     ]
    }
   ],
   "source": [
    "#step0, 그래프를 준비한다. 방문 기준: 번호가 낮은 순서\n",
    "#시작 노드: 1\n",
    "\n",
    "\n",
    "#함수\n",
    "## DFS 메서드 정의\n",
    "def dfs(graph, v, visited):\n",
    "    #현재 노드를 방문 처리\n",
    "    visited[v]=True\n",
    "    print(v,end=' ')\n",
    "    #현재 노드와 연결된 다른 노드를 재귀적으로 방문\n",
    "    for i in graph[v]:\n",
    "        if not visited[i]:\n",
    "            dfs(graph,i,visited)\n",
    "\n",
    "#변수\n",
    "## 각 노드가 연결된 정보를 표현(2차원 리스트)\n",
    "graph=[\n",
    "    [], #그래프에서는 1번 노드부터 사용하는 경우가 많기 때문에, 결과출력의 깔끔함을 위해 0번 노드는 비워놓는다.\n",
    "    [2,3,8], #1번 노드는 2,3,8번 노드와 연결되었음->#2번 노드는 false이기 떄문에 2번노드부터 다시 함수출력\n",
    "    #graph의 2번 노드는 [1,7]로 1번 노드와 연결되어있으므로 1번은 스킵하고 7번을 탐색함.-> ...\n",
    "    [1,7],\n",
    "    [1,4,5],\n",
    "    [3,5],\n",
    "    [3,4],\n",
    "    [7],\n",
    "    [2,6,8],\n",
    "    [1,7]\n",
    "]\n",
    "## 각 노드가 방문된 정보를 1차원 리스트로 표현\n",
    "visited=[False]*9\n",
    "\n",
    "#메인\n",
    "dfs(graph,1,visited)"
   ]
  },
  {
   "attachments": {},
   "cell_type": "markdown",
   "metadata": {},
   "source": [
    "# BFS(Breadth-First Search)\n",
    "\n",
    "- BFS는 너비 우선탐색이라고도 부르며, 그래프에서 가까운 노드부터 우선적으로 탐색하는 알고리즘\n",
    "\n",
    "- 큐 자료구조를 이용하며 구체적인 동작과정은 다음과 같음\n",
    "\n",
    "    1. 탐색 시작노드를 큐에 삽입하고 방문처리\n",
    "    2. 큐에서 노드를 꺼낸 뒤에 해당 노드의 인접 노드 중에서 방문하지 않은 노드를 모두 큐에 삽입하고 방문 처리\n",
    "    3. 더 이상 2번의 과정을 수행할 수 없을 때까지 반복"
   ]
  },
  {
   "cell_type": "code",
   "execution_count": 3,
   "metadata": {},
   "outputs": [
    {
     "name": "stdout",
     "output_type": "stream",
     "text": [
      "1 2 3 8 7 4 5 6 "
     ]
    }
   ],
   "source": [
    "## BFS 메서드 정의\n",
    "## 코딩테스트에서 자주 등장함\n",
    "\n",
    "from collections import deque #큐를 사용하기 위해 라이브러리 임포트\n",
    "\n",
    "#함수\n",
    "def bfs(graph, start, visited):\n",
    "    que=deque([start])\n",
    "    #현재 노드를 방문 처리\n",
    "    visited[start]=True\n",
    "    #큐가 빌 때까지 반복\n",
    "    while que:\n",
    "        #큐에서 원소 하나씩 뽑아 출력하기\n",
    "        v=que.popleft()\n",
    "        print(v, end=' ')\n",
    "        #아직 방문하지 않은 인접 원소들을 큐에 삽입\n",
    "        for i in graph[v]:\n",
    "            if not visited[i]:\n",
    "                que.append(i)\n",
    "                visited[i]=True    \n",
    "#변수\n",
    "## 각 노드가 연결된 정보를 표현(2차원 리스트)\n",
    "graph=[\n",
    "    [], #그래프에서는 1번 노드부터 사용하는 경우가 많기 때문에, 결과출력의 깔끔함을 위해 0번 노드는 비워놓는다.\n",
    "    [2,3,8], \n",
    "    [1,7],\n",
    "    [1,4,5],\n",
    "    [3,5],\n",
    "    [3,4],\n",
    "    [7],\n",
    "    [2,6,8],\n",
    "    [1,7]\n",
    "]\n",
    "## 각 노드가 방문된 정보를 1차원 리스트로 표현\n",
    "visited=[False]*9\n",
    "\n",
    "#메인\n",
    "bfs(graph,1,visited)\n",
    "\n",
    "# 시작노드 1을 큐에 삽입-> 1번 노드를 방문 처리 -> 큐가 빌 때 까지 반복\n",
    "# 인접한 노드들을 모두 큐에 삽입-> que가 true가 되므로 다시 반복문 작동\n",
    "# visited[i] 가 모두 True가 될 때까지 반복됨\n",
    "# 1->2,3,8이 큐에 삽입-> 2와 인접한 노드는 7, 3과 인접한 노드는 4와 5, 8과 인접한 노드는 없으므로 패스\n",
    "# 큐 내용: 1 ~->2,3,8-> 3,8,7 -> 8,7,4,5 -> 7,4,5-> 4,5,6->5,6-> 6 -> None -> False 이므로 루프가 중단\n"
   ]
  },
  {
   "attachments": {},
   "cell_type": "markdown",
   "metadata": {},
   "source": [
    "# 문제: 음료수 얼려 먹기\n",
    "- NxM크기의 얼음틀이 있습니다. 구멍이 뚫려 있는 부분은 0, 칸막이가 존재하는 부분은 1입니다. 구멍이 뚫려 있는 부분끼리 상하좌우로 붙어있는 경우 서로 연결되어 있는 것으로 간주합니다.\n",
    "- 이 때 얼음틀의 모양이 주어졌을 때 생성되는 총 아이스크림의 개수를 구하는 프로그램을 작성하세요. 다음 4x5 얼음 틀 예시에서는 아이스크림이 총 3개 생성됩니다.\n",
    "\n",
    "```python\n",
    "00110\n",
    "00011\n",
    "11111\n",
    "00000\n",
    "```\n",
    "- 난이도 1.5/3 풀이시간 30분, 시간제한 1초, 메모리제한 128MB \n",
    "- 입력조건: \n",
    "    1. 첫번째 줄에 얼음 틀의 세로 길이 N과 가로길이 M이 주어집니다. (1<=N,M<=1000)\n",
    "    2. 두번째줄부터 N+1번째 줄까지 얼음틀의 형태가 주어집니다.\n",
    "    3. 이 떄 뚫려 있는 부분은 0, 그렇지 않은 부분은 1입니다.\n",
    "- 출력조건:\n",
    "    1. 한번에 만들 수 있는 아이스크림의 개수를 출력합니다.\n",
    "\n",
    "```python\n",
    "# 입력 예시\n",
    "4 5\n",
    "00110\n",
    "00011\n",
    "11111\n",
    "00000\n",
    "```"
   ]
  },
  {
   "cell_type": "code",
   "execution_count": null,
   "metadata": {},
   "outputs": [],
   "source": [
    "#0의 덩어리가 3개다.\n",
    "row=4 ;column=5"
   ]
  },
  {
   "attachments": {},
   "cell_type": "markdown",
   "metadata": {},
   "source": [
    "## 문제 해결 아이디어\n",
    "\n",
    "- DFS를 활용하는 알고리즘\n",
    "    1. 특정한 지점의 상하좌우를 살펴본 뒤 주변 지점 중에서 값이 0 이면서 아직 방문하지 않은 지점이 있다면 해당 지점을 방문\n",
    "    2. 방문한 지점에서 다시 상하좌우를 살펴보면서 방문을 진행하는 과정을 반복하면 연결된 모든 지점을 방문할 수 있음\n",
    "    3. 모든 노드에 대하여 1~2의 과정을 반복하며 방문하지 않은 지점의 수를 카운트"
   ]
  },
  {
   "cell_type": "code",
   "execution_count": null,
   "metadata": {},
   "outputs": [],
   "source": []
  }
 ],
 "metadata": {
  "kernelspec": {
   "display_name": "base",
   "language": "python",
   "name": "python3"
  },
  "language_info": {
   "codemirror_mode": {
    "name": "ipython",
    "version": 3
   },
   "file_extension": ".py",
   "mimetype": "text/x-python",
   "name": "python",
   "nbconvert_exporter": "python",
   "pygments_lexer": "ipython3",
   "version": "3.9.12"
  },
  "orig_nbformat": 4,
  "vscode": {
   "interpreter": {
    "hash": "80cc27e9a0e8aa59b18a6f502b8a24c9fe77be3bcd87d0900d8763aa62f81a4d"
   }
  }
 },
 "nbformat": 4,
 "nbformat_minor": 2
}
