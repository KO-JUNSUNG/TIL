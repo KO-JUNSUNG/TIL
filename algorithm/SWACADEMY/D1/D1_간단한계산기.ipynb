{
 "cells": [
  {
   "attachments": {},
   "cell_type": "markdown",
   "metadata": {},
   "source": [
    "[제약 사항]\n",
    "\n",
    "1. 두 개의 자연수 a, b는 1부터 9까지의 자연수이다. (1 ≤ a, b ≤ 9)\n",
    "\n",
    "2. 사칙연산 + , - , * , / 순서로 연산한 결과를 출력한다.\n",
    "\n",
    "3. 나누기 연산의 결과에서 소수점 이하의 숫자는 버린다.\n",
    "\n",
    " \n",
    "\n",
    "[입력]\n",
    "\n",
    "입력으로 두 개의 자연수 a, b가 빈 칸을 두고 주어진다.\n",
    "\n",
    " \n",
    "\n",
    "[출력]\n",
    "\n",
    "사칙연산의 결과를 각 줄에 순서대로 출력한다."
   ]
  },
  {
   "cell_type": "code",
   "execution_count": null,
   "metadata": {},
   "outputs": [],
   "source": [
    "# 함수부\n",
    "class calculator(object):\n",
    "    def __init__(self, a, b):\n",
    "        self.a = a\n",
    "        self.b = b\n",
    "    def sum(self):\n",
    "        return self.a + self.b\n",
    "    def subtract(self):\n",
    "        return self.a - self.b\n",
    "    def multiply(self):\n",
    "        return self.a * self.b\n",
    "    def divide(self):\n",
    "        return self.a // self.b\n",
    " \n",
    "# 변수부\n",
    "a,b = map(int,input().split())\n",
    "test = calculator(a,b)\n",
    " \n",
    "# main\n",
    "print(test.sum())\n",
    "print(test.subtract())\n",
    "print(test.multiply())\n",
    "print(test.divide())"
   ]
  }
 ],
 "metadata": {
  "language_info": {
   "name": "python"
  },
  "orig_nbformat": 4
 },
 "nbformat": 4,
 "nbformat_minor": 2
}
