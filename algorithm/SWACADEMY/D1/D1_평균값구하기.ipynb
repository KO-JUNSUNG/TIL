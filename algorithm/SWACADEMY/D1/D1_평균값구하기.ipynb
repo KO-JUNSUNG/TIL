{
 "cells": [
  {
   "attachments": {},
   "cell_type": "markdown",
   "metadata": {},
   "source": [
    "- 10 개의 수를 입력 받아 평균값을 출력하는 프로그램을 작성하라. \n",
    "- 소수점 첫째 자리에서 반올림한 정수를 출력한다.\n",
    "- 각 수는 0 이상 10000 이하의 정수이다.\n",
    "- 첫 줄에는 테스트 케이스의 개수 T가 주어지고, 그 아래로 각 테스트 케이스가 주어진다.\n",
    "- 각 테스트 케이스의 첫 번째 줄에는 10 개의 수가 주어진다.\n",
    "- 출력의 각 줄은 #t로 시작하고, 공백을 한 칸 둔 다음 정답을 출력한다.\n",
    "- t는 테스트 케이스의 번호를 의미하며 1부터 시작한다."
   ]
  },
  {
   "cell_type": "code",
   "execution_count": null,
   "metadata": {},
   "outputs": [],
   "source": [
    "# 변수\n",
    "T = int(input())\n",
    "# 함수\n",
    "# 메인 \n",
    "for i in range(0,T,1):\n",
    "    T_list = list(map(int, input().split()))\n",
    "    avg = sum(T_list)/len(T_list)\n",
    "    print(f'#{i}', round(avg)) \n"
   ]
  }
 ],
 "metadata": {
  "language_info": {
   "name": "python"
  },
  "orig_nbformat": 4
 },
 "nbformat": 4,
 "nbformat_minor": 2
}
