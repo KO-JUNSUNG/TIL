{
 "cells": [
  {
   "attachments": {},
   "cell_type": "markdown",
   "metadata": {},
   "source": [
    "알파벳으로 이루어진 문자열을 입력 받아 각 알파벳을 1부터 26까지의 숫자로 변환하여 출력하라.\n",
    "\n",
    "\n",
    "[제약 사항]\n",
    "\n",
    "문자열의 최대 길이는 200이다.\n",
    "\n",
    "\n",
    "[입력]\n",
    "\n",
    "알파벳으로 이루어진 문자열이 주어진다.\n",
    "\n",
    "\n",
    "[출력]\n",
    "\n",
    "각 알파벳을 숫자로 변환한 결과값을 빈 칸을 두고 출력한다."
   ]
  },
  {
   "cell_type": "code",
   "execution_count": null,
   "metadata": {},
   "outputs": [],
   "source": [
    "T = input()\n",
    "output_string =\"\"\n",
    " \n",
    "for char in T:\n",
    "    # 대문자 알파벳의 순서를 구하기 위해 ASCII 코드 값을 활용\n",
    "    # A의 ASCII 코드 값은 65, B는 66, ..., Z는 90\n",
    "    # 따라서, 해당 알파벳의 ASCII 코드 값에서 64를 뺀 값이 알파벳의 순서와 동일\n",
    "    order = ord(char) - 64\n",
    "    output_string += str(order) + \" \"\n",
    " \n",
    "output_string = output_string.strip() # 마지막 공백 제거\n",
    " \n",
    "print(output_string)"
   ]
  }
 ],
 "metadata": {
  "language_info": {
   "name": "python"
  },
  "orig_nbformat": 4
 },
 "nbformat": 4,
 "nbformat_minor": 2
}
