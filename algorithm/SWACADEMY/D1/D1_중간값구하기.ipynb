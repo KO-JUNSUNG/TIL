{
 "cells": [
  {
   "attachments": {},
   "cell_type": "markdown",
   "metadata": {},
   "source": [
    "중간값은 통계 집단의 수치를 크기 순으로 배열 했을 때 전체의 중앙에 위치하는 수치를 뜻한다.\n",
    "\n",
    "입력으로 N 개의 점수가 주어졌을 때, 중간값을 출력하라.\n",
    "\n",
    "\n",
    "[예제]\n",
    "\n",
    "N이 9 이고, 9개의 점수가 아래와 같이 주어질 경우,\n",
    "\n",
    "85 72 38 80 69 65 68 96 22\n",
    "\n",
    "69이 중간값이 된다.\n",
    "\n",
    "\n",
    "[제약 사항]\n",
    "\n",
    "1. N은 항상 홀수로 주어진다.\n",
    "\n",
    "2. N은 9이상 199 이하의 정수이다. (9 ≤ N ≤ 199)\n",
    "\n",
    "\n",
    "[입력]\n",
    "\n",
    "입력은 첫 줄에 N 이 주어진다.\n",
    "\n",
    "둘째 줄에 N 개의 점수가 주어진다.\n",
    "\n",
    "\n",
    "[출력]\n",
    "\n",
    "N 개의 점수들 중, 중간값에 해당하는 점수를 정답으로 출력한다."
   ]
  },
  {
   "cell_type": "code",
   "execution_count": null,
   "metadata": {},
   "outputs": [],
   "source": [
    "# 변수부\n",
    "T = int(input())\n",
    "T_list = list(map(int, input().split()))\n",
    " \n",
    "# 퀵 정렬 후 순서상 가장 가운데에 존재하는 값을 선택 --> 중간값\n",
    " \n",
    "#함수부\n",
    " \n",
    "def quick_sort(arr):\n",
    "    if len(arr) <= 1:\n",
    "        return arr\n",
    "    else:\n",
    "        pivot = arr[0] # pivot (= 기준)을 첫번째 원소로 선택\n",
    "        smaller = [x for x in arr[1:] if x <= pivot] # smaller list\n",
    "        greater = [x for x in arr[1:] if x > pivot] # greater list\n",
    "        return quick_sort(smaller) + [pivot] + quick_sort(greater) # 재귀호출. 더 작거나 큰 리스트에 대하여 quicksort 를 각각 진행\n",
    " \n",
    "# main\n",
    " \n",
    "if T %2 == 1:\n",
    "    index = ((T+1)//2)-1  # (199 + 1) /2 = 100 , 100번째 숫자가 중간값. 하지만 0~198 까지 세므로, 인덱스에 100 을 집어넣으면 101번째 수를 가져온다. 99를 넣어줘야함. 따라서 -1 을 해준다.\n",
    "    print(quick_sort(T_list)[index])  \n",
    "else:\n",
    "    index = (((T/2) + ((T/2)+1) )/2) -1 \n",
    "    print(quick_sort(T_list)[index])"
   ]
  }
 ],
 "metadata": {
  "language_info": {
   "name": "python"
  },
  "orig_nbformat": 4
 },
 "nbformat": 4,
 "nbformat_minor": 2
}
