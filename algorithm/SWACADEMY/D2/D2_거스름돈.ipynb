{
 "cells": [
  {
   "cell_type": "code",
   "execution_count": null,
   "metadata": {},
   "outputs": [],
   "source": [
    "# case 1\n",
    "\n",
    "T = int(input())\n",
    "# 50000, 10000, 5000, 1000, 500, 100, 50, 10  a b c d e f g h\n",
    "for testcase in range(1,T+1):\n",
    "    money = int(input())\n",
    "    a,b,c,d,e,f,g,h = 0,0,0,0,0,0,0,0\n",
    "    while money - 50000 >= 0:\n",
    "        money -= 50000\n",
    "        a += 1\n",
    "    while money - 10000 >= 0:\n",
    "        money -= 10000\n",
    "        b += 1\n",
    "    while money - 5000 >= 0:\n",
    "        money -= 5000\n",
    "        c += 1\n",
    "    while money - 1000 >= 0:\n",
    "        money -= 1000\n",
    "        d += 1\n",
    "    while money - 500 >= 0:\n",
    "        money -= 500\n",
    "        e += 1\n",
    "    while money - 100 >= 0:\n",
    "        money -= 100\n",
    "        f += 1\n",
    "    while money - 50 >= 0:\n",
    "        money -= 50\n",
    "        g += 1\n",
    "    while money - 10 >= 0:\n",
    "        money -= 10\n",
    "        h += 1\n",
    "    row = [a,b,c,d,e,f,g,h]\n",
    "    print(f'#{testcase}')\n",
    "    for i in row:\n",
    "        print(f'{i}', end=' ')\n",
    "    print()"
   ]
  },
  {
   "cell_type": "code",
   "execution_count": null,
   "metadata": {},
   "outputs": [],
   "source": [
    "# case2\n",
    "T = int(input())\n",
    "\n",
    "for t in range(1, T+1) :\n",
    "    N = int(input())\n",
    "    money = [50000, 10000, 5000, 1000, 500, 100, 50, 10]\n",
    "    list = [0] * 8\n",
    "    for i in range(8) :\n",
    "        if N//money[i] != 0 :\n",
    "            list[i] = N//money[i]\n",
    "            N = N%money[i]\n",
    "    print(\"#{}\".format(t))\n",
    "    print(*list)"
   ]
  }
 ],
 "metadata": {
  "language_info": {
   "name": "python"
  },
  "orig_nbformat": 4
 },
 "nbformat": 4,
 "nbformat_minor": 2
}
