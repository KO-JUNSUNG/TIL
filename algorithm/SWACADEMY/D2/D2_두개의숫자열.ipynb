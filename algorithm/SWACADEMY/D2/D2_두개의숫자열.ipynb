{
 "cells": [
  {
   "attachments": {},
   "cell_type": "markdown",
   "metadata": {},
   "source": [
    "N 개의 숫자로 구성된 숫자열 Ai (i=1~N) 와 M 개의 숫자로 구성된 숫자열 Bj (j=1~M) 가 있다.\n",
    "\n",
    "아래는 N =3 인 Ai 와 M = 5 인 Bj 의 예이다.\n",
    "\n",
    "\n",
    "Ai 나 Bj 를 자유롭게 움직여서 숫자들이 서로 마주보는 위치를 변경할 수 있다.\n",
    "\n",
    "단, 더 긴 쪽의 양끝을 벗어나서는 안 된다.\n",
    "\n",
    "\n",
    "```python\n",
    "# 입력\n",
    "\n",
    "10\n",
    "3 5\n",
    "1 5 3\n",
    "3 6 -7 5 4\n",
    "7 6\n",
    "6 0 5 5 -1 1 6\n",
    "-4 1 8 7 -9 3\n",
    "\n",
    "\n",
    "\n",
    "# 출력\n",
    "#1 30\n",
    "#2 63\n",
    "\n",
    "\n",
    "```"
   ]
  },
  {
   "cell_type": "code",
   "execution_count": null,
   "metadata": {},
   "outputs": [],
   "source": [
    "T = int(input())\n",
    "# 여러개의 테스트 케이스가 주어지므로, 각각을 처리합니다.\n",
    "for test_case in range(1, T + 1):\n",
    "    n, m = map(int, input().split())\n",
    "    total = 0\n",
    "    # 데이터 처리\n",
    "    if n <= m :\n",
    "        short, long = n, m\n",
    "        A = list(map(int, input().split()))\n",
    "        B = list(map(int, input().split()))\n",
    "    else:\n",
    "        short, long = m, n\n",
    "        B = list(map(int, input().split()))\n",
    "        A = list(map(int, input().split()))    \n",
    "    for i in range(long - short + 1):  # 5 - 3 + 1 = 3  --> 0,1,2\n",
    "        temp = 0\n",
    "        for j in range(short):  # 3 --> 0, 1, 2\n",
    "            temp += A[j] * B[i+j]  # i = 0 -> A[0] * B[0] + A[1] * B[1] + A[2] * B[2] , 3칸 production의 결과를 temp 에 저장함 \n",
    "                                         # i = 1 -> A[0] * B[1] + A[1] * B[2] + A[2] * B[3]  ... -> short 의 3 칸을 한칸씩 밀어가면서 연산을 temp 에 저장하는 것. \n",
    "                                        # n, m = 3, 5 일 때 0,1,2  0,1,2,3,4 인데 이 3 숫자가 움직일 수 있는 최대 범위는 (4-2) + 1 이다.\n",
    "        if total <= temp:\n",
    "            total = temp\n",
    " \n",
    "    print(f\"#{test_case} {total}\")"
   ]
  }
 ],
 "metadata": {
  "language_info": {
   "name": "python"
  },
  "orig_nbformat": 4
 },
 "nbformat": 4,
 "nbformat_minor": 2
}
