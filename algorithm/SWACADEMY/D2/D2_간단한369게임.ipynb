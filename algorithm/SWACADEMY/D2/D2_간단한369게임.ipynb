{
 "cells": [
  {
   "attachments": {},
   "cell_type": "markdown",
   "metadata": {},
   "source": [
    "3 6 9 게임을 프로그램으로 제작중이다. 게임 규칙은 다음과 같다.\n",
    "\n",
    " \n",
    "\n",
    "1. 숫자 1부터 순서대로 차례대로 말하되, “3” “6” “9” 가 들어가 있는 수는 말하지 않는다.\n",
    "\n",
    "  1 2 3 4 5 6 7 8 9…\n",
    "\n",
    "2. \"3\" \"6\" \"9\"가 들어가 있는 수를 말하지 않는대신, 박수를 친다. 이 때, 박수는 해당 숫자가 들어간 개수만큼 쳐야 한다.  \n",
    "예를 들어 숫자 35의 경우 박수 한 번, 숫자 36의 경우 박수를 두번 쳐야 한다.\n",
    " \n",
    "\n",
    "입력으로 정수 N 이 주어졌을 때, 1~N 까지의 숫자를\n",
    "\n",
    "게임 규칙에 맞게 출력하는 프로그램을 작성하라.\n",
    "\n",
    "박수를 치는 부분은 숫자 대신, 박수 횟수에 맞게 “-“ 를 출력한다.\n",
    "\n",
    "여기서 주의해야 할 것은 박수 한 번 칠 때는 - 이며, 박수를 두 번 칠 때는 - - 가 아닌 -- 이다. \n",
    " \n",
    "\n",
    "[제약사항]\n",
    "\n",
    "N은 10이상 1,000이하의 정수이다. (10 ≤ N ≤ 1,000)\n",
    "\n",
    " \n",
    "\n",
    "[입력]\n",
    "\n",
    "입력으로 정수 N 이 주어진다.\n",
    "\n",
    "\n",
    "[출력]\n",
    "\n",
    "1 ~ N까지의 숫자를 게임 규칙에 맞게 출력한다."
   ]
  },
  {
   "cell_type": "code",
   "execution_count": null,
   "metadata": {},
   "outputs": [],
   "source": [
    "T = int(input())\n",
    "T_list = [str(i) for i in range(1,T+1)]\n",
    " \n",
    " \n",
    "for k in T_list:\n",
    "# [표현식 for 원소 in 리스트] , [표현식 for 원소 in 리스트 if 조건식]\n",
    "    if any(l in k for l in ['3', '6', '9']):\n",
    "        print('-' * (k.count('3') + k.count('6') + k.count('9')), end=\" \")\n",
    "    elif k == T_list[-1]:\n",
    "        print(k)\n",
    "    else:\n",
    "        print(k, end=\" \")\n",
    "'''\n",
    "     1)\n",
    "     for l in ['3','6','9'] \n",
    "     3,6,9 를 순회해가면서 변수 l 에 할당\n",
    "     2)\n",
    "     l in k\n",
    "     l 이라는 변수가 k 에 속하는지 확인\n",
    "     즉 k가 3,6,9 중 하나를 포함하고 있는지 확인\n",
    "     3)\n",
    "     any(...): 조건문을 평가하여 하나 이상의 l 이 k에 포함되어 있다면 True 를 돌려줌\n",
    "'''"
   ]
  },
  {
   "cell_type": "code",
   "execution_count": null,
   "metadata": {},
   "outputs": [],
   "source": [
    "T = int(input())  # 입력값 T를 받음\n",
    "for num in range(1, T + 1):  # 1부터 T까지 반복\n",
    "    count = str(num).count('3') + str(num).count('6') + str(num).count('9')  # 숫자에 포함된 3, 6, 9의 개수 계산\n",
    "    if count > 0:  # 개수가 0보다 크면\n",
    "        print('-' * count, end=' ')  # '-'를 개수만큼 출력\n",
    "    else:\n",
    "        print(num, end=' ')  # 개수가 0이면 숫자를 출력"
   ]
  }
 ],
 "metadata": {
  "language_info": {
   "name": "python"
  },
  "orig_nbformat": 4
 },
 "nbformat": 4,
 "nbformat_minor": 2
}
