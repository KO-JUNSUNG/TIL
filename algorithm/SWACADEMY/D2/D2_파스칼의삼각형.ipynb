{
 "cells": [
  {
   "attachments": {},
   "cell_type": "markdown",
   "metadata": {},
   "source": [
    "크기가 N인 파스칼의 삼각형을 만들어야 한다.\n",
    "\n",
    "파스칼의 삼각형이란 아래와 같은 규칙을 따른다.\n",
    "\n",
    "1. 첫 번째 줄은 항상 숫자 1이다.\n",
    "\n",
    "2. 두 번째 줄부터 각 숫자들은 자신의 왼쪽과 오른쪽 위의 숫자의 합으로 구성된다.\n",
    "\n",
    "\n",
    "[제약 사항]\n",
    "\n",
    "파스칼의 삼각형의 크기 N은 1 이상 10 이하의 정수이다. (1 ≤ N ≤ 10)\n",
    "\n",
    "\n",
    "[입력]\n",
    "\n",
    "가장 첫 줄에는 테스트 케이스의 개수 T가 주어지고, 그 아래로 각 테스트 케이스가 주어진다.\n",
    "\n",
    "각 테스트 케이스에는 N이 주어진다.\n",
    "\n",
    "\n",
    "[출력]\n",
    "\n",
    "각 줄은 '#t'로 시작하고, 다음 줄부터 파스칼의 삼각형을 출력한다.\n",
    "\n",
    "삼각형 각 줄의 처음 숫자가 나오기 전까지의 빈 칸은 생략하고 숫자들 사이에는 한 칸의 빈칸을 출력한다.\n",
    "\n",
    "(t는 테스트 케이스의 번호를 의미하며 1부터 시작한다.)"
   ]
  },
  {
   "cell_type": "code",
   "execution_count": null,
   "metadata": {},
   "outputs": [],
   "source": [
    "# 0을 패딩하여 새로운 array를 만들어 해결하는 방법\n",
    "\n",
    "T = int(input())\n",
    "for test_case in range(1,T+1):\n",
    "    N = int(input()) \n",
    "    arr = [[0] * (N+1) for _ in range(N+1)]  # range(N+1) = range(5) = 0 1 2 3 4    --->   [0] * 5 를  1행(=[0], 2행,3행,4행,5행(=[4]) 에 걸쳐 실행해.  ---> 0으로 가득찬 5x5 행렬을 생성해.\n",
    "    arr[1][1] = 1  # 최초값 = 1 초기화. 좌측과 위측을 0으로 패딩했으므로, 최초의 원소는 [1][1]\n",
    "    for i in range(2,N+1): # 최초 원소는 1행에서 시작했으므로, 2행에서부터 반복해서 생성해야함. \n",
    "        for j in range(1, i+1): # 범위는 i+1 로 제한해야함. N+1 일 경우 [2][3] , [2][4] 까지 생성\n",
    "            arr[i][j] = arr[i-1][j-1] + arr[i-1][j]  # [2][1] = 1 = [1][0] + [1][1] , [2][2] = ... 두번째 줄이므로 두 개를 생성\n",
    "    print(f'#{test_case}')\n",
    "     \n",
    "    for i in range(1,N+1): # [1][1] 부터 [4][4] 까지 불러옴\n",
    "        for j in range(1, i+1):\n",
    "            print(arr[i][j], end = \" \")\n",
    "        print()"
   ]
  },
  {
   "cell_type": "code",
   "execution_count": null,
   "metadata": {},
   "outputs": [],
   "source": [
    "T = int(input())\n",
    "for testcase in range(1, T + 1):\n",
    "    N = int(input())\n",
    "    triangle = [[1]]  # 첫 번째 줄 초기화\n",
    "    for i in range(1, N):  # 1부터 N-1까지 반복   4 --> i= 1, 2, 3\n",
    "        row = [1]  # 각 줄의 첫 번째 원소는 항상 1\n",
    "        for j in range(1, i):  # 1부터 i-1까지 반복   i= 1 --> j= [], i = 2 --> j = 1 , i=3 --> j = 1,2\n",
    "            value = triangle[i - 1][j - 1] + triangle[i - 1][j]  # 이전 줄의 왼쪽 숫자와 오른쪽 숫자의 합\n",
    "            row.append(value)\n",
    "        row.append(1)  # 각 줄의 마지막 원소는 항상 1\n",
    "        triangle.append(row)\n",
    "         \n",
    "    # 생성된 파스칼의 삼각형 출력\n",
    "    print(f'#{testcase}')\n",
    "    for row in triangle:\n",
    "        print(' '.join(str(num) for num in row))\n",
    " \n",
    "        '''\n",
    "        i= 1  -> 1  원소의 수 = 1개\n",
    "        i = 2 -> 1 1 == [1,0] [1,1] 원소의 수 = 2개\n",
    "        i = 3 -> 1 (1+1=2) 1 == [2,0] [2,1] [2,2]  --> [2,1] = [1,0] + [1,1] 원소의 수 = 3개\n",
    "        i = 4 -> 1 (1+2) (2+1) 1 == [3,0] [3,1] [3,2] [3,3] --> [3,1] = [2,0] +[2,1]  , [3,2] =[2,1]+[2,2]  원소의 수 = 4개\n",
    "         \n",
    "        --> 이중배열을 이용하여 문제를 해결해야겠음.\n",
    "        '''"
   ]
  }
 ],
 "metadata": {
  "language_info": {
   "name": "python"
  },
  "orig_nbformat": 4
 },
 "nbformat": 4,
 "nbformat_minor": 2
}
