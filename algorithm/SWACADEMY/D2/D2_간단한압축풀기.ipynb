{
 "cells": [
  {
   "attachments": {},
   "cell_type": "markdown",
   "metadata": {},
   "source": [
    "1. 문자열 인덱싱 하기. D2\n",
    "\n",
    "2. 하나의 변수를 만들고 알파벳과 그 알파벳의 갯수만큼 문자열로 더해준다.\n",
    "\n",
    "3. 너비가 10이므로 변수를 길이가 10만큼씩 잘라서 출력해준다."
   ]
  },
  {
   "cell_type": "code",
   "execution_count": null,
   "metadata": {},
   "outputs": [],
   "source": [
    "T = int(input())\n",
    "for testcase in range(1,T+1):\n",
    "    case = int(input())\n",
    "    doc = ''\n",
    "    print(f'#{testcase}')\n",
    "    for _ in range(case):\n",
    "        a,b = input().split()\n",
    "        b = int(b)\n",
    "        lst = a*b\n",
    "        doc += lst\n",
    "    for i in range(0,len(doc),10):\n",
    "        print(doc[ i:i+10 ])"
   ]
  }
 ],
 "metadata": {
  "language_info": {
   "name": "python"
  },
  "orig_nbformat": 4
 },
 "nbformat": 4,
 "nbformat_minor": 2
}
