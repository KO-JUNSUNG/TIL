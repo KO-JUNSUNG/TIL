{
 "cells": [
  {
   "attachments": {},
   "cell_type": "markdown",
   "metadata": {},
   "source": [
    "\"level\" 과 같이 거꾸로 읽어도 제대로 읽은 것과 같은 문장이나 낱말을 회문(回文, palindrome)이라 한다.\n",
    "\n",
    "단어를 입력 받아 회문이면 1을 출력하고, 아니라면 0을 출력하는 프로그램을 작성하라.\n",
    "\n",
    "\n",
    "[제약 사항]\n",
    "\n",
    "각 단어의 길이는 3 이상 10 이하이다.\n",
    "\n",
    "\n",
    "[입력]\n",
    "\n",
    "가장 첫 줄에는 테스트 케이스의 개수 T가 주어지고, 그 아래로 각 테스트 케이스가 주어진다.\n",
    "\n",
    "각 테스트 케이스의 첫 번째 줄에 하나의 단어가 주어진다.\n",
    "\n",
    "\n",
    "[출력]\n",
    "\n",
    "출력의 각 줄은 '#t'로 시작하고, 공백을 한 칸 둔 다음 정답을 출력한다.\n",
    "\n",
    "(t는 테스트 케이스의 번호를 의미하며 1부터 시작한다.)\n",
    "\n"
   ]
  },
  {
   "cell_type": "code",
   "execution_count": null,
   "metadata": {},
   "outputs": [],
   "source": [
    "# case 1. pythonic.\n",
    "\n",
    "T = int(input())\n",
    "for i in range(1, T+1):\n",
    "    word = input()  # 단어 입력\n",
    "    is_palindrome = (word == word[::-1]) \n",
    "    if is_palindrome:\n",
    "        print(f'#{i}', 1)\n",
    "    else:\n",
    "        print(f'#{i}', 0)"
   ]
  },
  {
   "cell_type": "code",
   "execution_count": null,
   "metadata": {},
   "outputs": [],
   "source": [
    "# case 2. 반복문\n",
    "\n",
    "def is_palindrome(word):\n",
    "    length = len(word)\n",
    "    for i in range(length // 2):\n",
    "        if word[i] != word[length - i - 1]:\n",
    "            return False\n",
    "    return True\n",
    "\n",
    "word = input(\"단어 입력: \")\n",
    "result = is_palindrome(word)\n",
    "if result:\n",
    "    print(\"회문입니다.\")\n",
    "else:\n",
    "    print(\"회문이 아닙니다.\")"
   ]
  },
  {
   "cell_type": "code",
   "execution_count": null,
   "metadata": {},
   "outputs": [],
   "source": [
    "# case 3. stack.\n",
    "\n",
    "class Stack:\n",
    "    def __init__(self):\n",
    "        self.items = []\n",
    "\n",
    "    def push(self, item):\n",
    "        self.items.append(item)\n",
    "\n",
    "    def pop(self):\n",
    "        if not self.is_empty():\n",
    "            return self.items.pop()\n",
    "\n",
    "    def is_empty(self):\n",
    "        return len(self.items) == 0\n",
    "\n",
    "def is_palindrome(word):\n",
    "    stack = Stack()\n",
    "    for char in word:\n",
    "        stack.push(char)\n",
    "    reversed_word = \"\"\n",
    "    while not stack.is_empty():\n",
    "        reversed_word += stack.pop()\n",
    "    return word == reversed_word\n",
    "\n",
    "word = input(\"단어 입력: \")\n",
    "result = is_palindrome(word)\n",
    "if result:\n",
    "    print(\"회문입니다.\")\n",
    "else:\n",
    "    print(\"회문이 아닙니다.\")"
   ]
  }
 ],
 "metadata": {
  "language_info": {
   "name": "python"
  },
  "orig_nbformat": 4
 },
 "nbformat": 4,
 "nbformat_minor": 2
}
