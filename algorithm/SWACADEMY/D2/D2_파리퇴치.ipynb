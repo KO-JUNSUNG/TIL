{
 "cells": [
  {
   "attachments": {},
   "cell_type": "markdown",
   "metadata": {},
   "source": [
    "SW Expert Academy의 문제 중 \"파리 퇴치 (Flatten)\" 문제. \n",
    "\n",
    "이 문제는 주어진 2차원 배열에서 주어진 크기의 부분 배열을 선택하여 모든 요소의 합을 구하는 문제입니다. \n",
    "\n",
    "\n",
    "특히, 파리가 있는 부분 배열에서 파리를 퇴치하고 남은 파리의 수를 구하는 문제입니다. \n",
    "\n",
    "주어진 배열의 크기와 파리의 크기, 그리고 배열의 요소 값들이 주어지며, 파리를 퇴치한 후 남은 파리의 수를 출력해야 합니다.\n",
    "\n",
    "이 문제는 반복문과 조건문을 활용하여 2차원 배열의 부분 배열을 순회하고 요소들의 합을 계산하는 과정을 구현해야 합니다. 파리가 있는 부분 배열의 합을 계산한 후, 남은 파리의 수를 저장하는 변수를 업데이트하여 결과를 출력합니다.\n",
    "\n"
   ]
  },
  {
   "cell_type": "code",
   "execution_count": null,
   "metadata": {},
   "outputs": [],
   "source": [
    "def kill_flies(N, M, flies):\n",
    "    max_flies = 0  # 가장 많은 파리 수, 최대 수 사전 지정.  MxM 배열만큼 순차탐색. \n",
    "    # 예를 들어, 3x3 행렬을 탐색한다면... 0,1,2 x 0,1,2 (첫 9칸) -> 0,1,2 x 1,2,3 (한칸 오른쪽으로 옮긴 9칸) 식으로 순차이동\n",
    "    for i in range(N-M+1):  # N-M = 최대로 갈 수 있는 인덱스. 예를 들어, 예시와 같이 0,1,2,3,4 라는 N = 5 인 배열이 있고 M이 2라면 파리채는 3(=N-M)까지만 내리칠 수 있다. 4에 내리친다면 범위를 벗어난다. \n",
    "        for j in range(N-M+1):\n",
    "            total_flies = 0 \n",
    "            # 이하는 MxM\n",
    "            for k in range(i, i+M): # MxM 배열 내의 파리들을 합산함\n",
    "                for l in range(j, j+M):\n",
    "                    total_flies += flies[k][l]\n",
    "            # MxM 과 기존 max 를 비교\n",
    "            max_flies = max(max_flies, total_flies)\n",
    "    return max_flies\n",
    " \n",
    "T = int(input())\n",
    "for test_case in range(1, T + 1):\n",
    "    N, M = map(int, input().split())\n",
    "    flies = [list(map(int, input().split())) for _ in range(N)] # 2차원 배열 \n",
    "    result = kill_flies(N, M, flies)\n",
    "    print(f\"#{test_case} {result}\")"
   ]
  }
 ],
 "metadata": {
  "language_info": {
   "name": "python"
  },
  "orig_nbformat": 4
 },
 "nbformat": 4,
 "nbformat_minor": 2
}
