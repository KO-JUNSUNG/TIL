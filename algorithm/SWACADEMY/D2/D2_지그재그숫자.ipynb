{
 "cells": [
  {
   "attachments": {},
   "cell_type": "markdown",
   "metadata": {},
   "source": [
    "1부터 N까지의 숫자에서 홀수는 더하고 짝수는 뺐을 때 최종 누적된 값을 구해보자.\n",
    "\n",
    "\n",
    "[예제 풀이]\n",
    "\n",
    "N이 5일 경우,\n",
    "\n",
    "1 – 2 + 3 – 4 + 5 = 3\n",
    "\n",
    "N이 6일 경우,\n",
    "\n",
    "1 – 2 + 3 – 4 + 5 – 6 = -3\n",
    "\n",
    "\n",
    "[제약사항]\n",
    "\n",
    "N은 1 이상 10 이하의 정수이다. (1 ≤ N ≤ 10)\n",
    "\n",
    "\n",
    "[입력]\n",
    "\n",
    "가장 첫 줄에는 테스트 케이스의 개수 T가 주어지고, 그 아래로 각 테스트 케이스가 주어진다.\n",
    "\n",
    "각 테스트 케이스에는 N이 주어진다.\n",
    "\n",
    "\n",
    "[출력]\n",
    "\n",
    "각 줄은 '#t'로 시작하고, 공백을 한 칸 둔 다음 누적된 값을 출력한다.\n",
    "\n",
    "(t는 테스트 케이스의 번호를 의미하며 1부터 시작한다.)"
   ]
  },
  {
   "cell_type": "code",
   "execution_count": null,
   "metadata": {},
   "outputs": [],
   "source": [
    "T = int(input())\n",
    "for t in range(1, T+1):\n",
    "    num = int(input())\n",
    "    result = 0\n",
    "    for i in range(1, num + 1):\n",
    "        if i % 2 == 0:\n",
    "            result -= i\n",
    "        else:\n",
    "            result += i\n",
    "    print(f\"#{t} {result}\")"
   ]
  }
 ],
 "metadata": {
  "language_info": {
   "name": "python"
  },
  "orig_nbformat": 4
 },
 "nbformat": 4,
 "nbformat_minor": 2
}
