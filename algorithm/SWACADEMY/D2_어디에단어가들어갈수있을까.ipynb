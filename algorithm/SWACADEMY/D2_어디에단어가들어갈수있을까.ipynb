{
 "cells": [
  {
   "attachments": {},
   "cell_type": "markdown",
   "metadata": {},
   "source": [
    "N X N 크기의 단어 퍼즐을 만들려고 한다. 입력으로 단어 퍼즐의 모양이 주어진다.\n",
    "\n",
    "주어진 퍼즐 모양에서 특정 길이 K를 갖는 단어가 들어갈 수 있는 자리의 수를 출력하는 프로그램을 작성하라."
   ]
  },
  {
   "attachments": {},
   "cell_type": "markdown",
   "metadata": {},
   "source": [
    "\n",
    "입력은 첫 줄에 총 테스트 케이스의 개수 T가 온다.\n",
    "\n",
    "다음 줄부터 각 테스트 케이스가 주어진다.\n",
    "\n",
    "테스트 케이스의 첫 번째 줄에는 단어 퍼즐의 가로, 세로 길이 N 과, 단어의 길이 K 가 주어진다.\n",
    "\n",
    "테스트 케이스의 두 번째 줄부터 퍼즐의 모양이 2차원 정보로 주어진다.\n",
    "\n",
    "퍼즐의 각 셀 중, 흰색 부분은 1, 검은색 부분은 0 으로 주어진다.\n",
    "\n",
    "```python\n",
    "[입력]\n",
    "\n",
    "10\n",
    "5 3\n",
    "0 0 1 1 1\n",
    "1 1 1 1 0\n",
    "0 0 1 0 0\n",
    "0 1 1 1 1\n",
    "1 1 1 0 1\n",
    "5 3\n",
    "1 0 0 1 0\n",
    "1 1 0 1 1\n",
    "1 0 1 1 1\n",
    "0 1 1 0 1\n",
    "0 1 1 1 0\n",
    "```"
   ]
  },
  {
   "cell_type": "code",
   "execution_count": null,
   "metadata": {},
   "outputs": [],
   "source": [
    "# 함수부\n",
    "def count(arr):\n",
    "    ret = 0\n",
    "    for lst in arr:\n",
    "        cnt = 0\n",
    "        for si in range(len(lst)):\n",
    "            if lst[si] == 1: # 1이 M번 연속되면 ret += 1, 중간에 0을 만나면 초기화\n",
    "                cnt += 1\n",
    "            else:\n",
    "                if cnt == M:\n",
    "                    ret += 1\n",
    "            cnt = 0\n",
    "    return ret    # 반복이 끝나면 ret 을 return\n",
    "'''\n",
    "import sys \n",
    "sys.stdin = open('/mnt/d/Data/input.txt', 'r') 이 문장은 jupter notebook 에서는 동작하지 않습니다.\n",
    "'''\n",
    "\n",
    "# main\n",
    "\n",
    "T = int(input())\n",
    "for i in range(1,T+1):\n",
    "    N,M = map(int,input().split())\n",
    "    arr = [list(map(input().split()))+ [0] for _ in range(N)] + [[0] * (N+1)] # 0 을 우측, 아래측에 패딩\n",
    "    arr_T = list(map(list,zip(*arr))) # *arr = arr의 각 원소(=작은 리스트)에 대하여 zip(=순서쌍)을 적용. --> transpose\n",
    "    ans = count(arr) + count(arr_T)\n",
    "    print(f'{i} {ans}')"
   ]
  },
  {
   "cell_type": "code",
   "execution_count": 4,
   "metadata": {},
   "outputs": [
    {
     "name": "stdout",
     "output_type": "stream",
     "text": [
      "/mnt/c/Users/rhwns/OneDrive/바탕 화면/lab/TIL/algorithm/SWACADEMY\n"
     ]
    }
   ],
   "source": []
  },
  {
   "cell_type": "code",
   "execution_count": null,
   "metadata": {},
   "outputs": [],
   "source": []
  }
 ],
 "metadata": {
  "kernelspec": {
   "display_name": "base",
   "language": "python",
   "name": "python3"
  },
  "language_info": {
   "codemirror_mode": {
    "name": "ipython",
    "version": 3
   },
   "file_extension": ".py",
   "mimetype": "text/x-python",
   "name": "python",
   "nbconvert_exporter": "python",
   "pygments_lexer": "ipython3",
   "version": "3.9.13"
  },
  "orig_nbformat": 4
 },
 "nbformat": 4,
 "nbformat_minor": 2
}
