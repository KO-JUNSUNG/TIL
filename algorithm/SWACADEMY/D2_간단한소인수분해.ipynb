{
 "cells": [
  {
   "cell_type": "code",
   "execution_count": null,
   "metadata": {},
   "outputs": [],
   "source": [
    "T = int(input())\n",
    "for testcase in range(1,T+1):\n",
    "    # 2, 3, 5, 7, 11 로 나뉜다.\n",
    "    n = int(input())\n",
    "    a,b,c,d,e = 0,0,0,0,0\n",
    "    while n % 2 == 0: # 2 로 나눠지는 동안에는 반복\n",
    "        a += 1\n",
    "        n = n//2\n",
    "    while n % 3 == 0:\n",
    "        b += 1\n",
    "        n = n//3\n",
    "    while n % 5 == 0:\n",
    "        c += 1\n",
    "        n = n//5\n",
    "    while n % 7 == 0:\n",
    "        d += 1\n",
    "        n = n//7\n",
    "    while n % 11 == 0:\n",
    "        e += 1\n",
    "        n = n//11 \n",
    "    print(f'#{testcase}', a,b,c,d,e)"
   ]
  }
 ],
 "metadata": {
  "language_info": {
   "name": "python"
  },
  "orig_nbformat": 4
 },
 "nbformat": 4,
 "nbformat_minor": 2
}
