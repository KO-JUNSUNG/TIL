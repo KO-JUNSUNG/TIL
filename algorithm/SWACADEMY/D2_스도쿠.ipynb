{
 "cells": [
  {
   "cell_type": "code",
   "execution_count": null,
   "metadata": {},
   "outputs": [],
   "source": [
    "def chk(arr):\n",
    "    for i in range(9):\n",
    "        row = set(arr[i])\n",
    "        if row != set(range(1, 10)):\n",
    "            return 0\n",
    "    return 1\n",
    "\n",
    "def chk2(arr):\n",
    "    for i in range(0, 9, 3):  # 3x3 행렬의 시작 행 인덱스\n",
    "        for j in range(0, 9, 3):  # 3x3 행렬의 시작 열 인덱스\n",
    "            nums = []\n",
    "            for k in range(3):  # 3x3 행렬 내 숫자들을 nums 리스트에 추가\n",
    "                for l in range(3):\n",
    "                    nums.append(arr[i+k][j+l])\n",
    "                    square = set(nums)\n",
    "            if square != set(range(1, 10)):\n",
    "                return 0\n",
    "    return 1\n",
    "\n",
    "T = int(input())\n",
    "\n",
    "for testcase in range(1, T+1):\n",
    "    arr = [[0]*9 for  in range(9)]\n",
    "    for i in range(9):\n",
    "        lst = list(map(int, input().split()))\n",
    "        for j in range(9):\n",
    "            arr[i][j] = lst[j]\n",
    "    arr_T = list(zip(*arr))\n",
    "    ans = chk(arr_T) and chk(arr) and chk_2(arr)\n",
    "    print(f'#{testcase}', ans)"
   ]
  }
 ],
 "metadata": {
  "language_info": {
   "name": "python"
  },
  "orig_nbformat": 4
 },
 "nbformat": 4,
 "nbformat_minor": 2
}
