{
 "cells": [
  {
   "attachments": {},
   "cell_type": "markdown",
   "metadata": {},
   "source": [
    "10개의 수를 입력 받아, 최대 수와 최소 수를 제외한 나머지의 평균값을 출력하는 프로그램을 작성하라.\n",
    "\n",
    "(소수점 첫째 자리에서 반올림한 정수를 출력한다.)\n"
   ]
  },
  {
   "cell_type": "code",
   "execution_count": null,
   "metadata": {},
   "outputs": [],
   "source": [
    "T = int(input())\n",
    "for testcase in range(1,T+1):\n",
    "    N = list(map(int, input().split()))\n",
    "    SN = sorted(N)\n",
    "    SN = SN[1:-1]\n",
    "    ans = int(round(sum(SN) / len(SN)))\n",
    "    print(f'#{testcase} {ans}')"
   ]
  }
 ],
 "metadata": {
  "language_info": {
   "name": "python"
  },
  "orig_nbformat": 4
 },
 "nbformat": 4,
 "nbformat_minor": 2
}
