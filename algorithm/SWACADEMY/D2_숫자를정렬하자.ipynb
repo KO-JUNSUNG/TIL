{
 "cells": [
  {
   "attachments": {},
   "cell_type": "markdown",
   "metadata": {},
   "source": [
    "주어진 N 길이의 숫자열을 오름차순으로 정렬하여 출력하라.\n",
    "\n",
    "[제약 사항]\n",
    "\n",
    "N 은 5 이상 50 이하이다.\n",
    "\n",
    "\n",
    "[입력]\n",
    "\n",
    "가장 첫 줄에는 테스트 케이스의 개수 T가 주어지고, 그 아래로 각 테스트 케이스가 주어진다.\n",
    "\n",
    "각 테스트 케이스의 첫 번째 줄에 N 이 주어지고, 다음 줄에 N 개의 숫자가 주어진다.\n",
    "\n",
    "\n",
    "[출력]\n",
    "\n",
    "출력의 각 줄은 '#t'로 시작하고, 공백을 한 칸 둔 다음 정답을 출력한다.\n",
    "\n",
    "(t는 테스트 케이스의 번호를 의미하며 1부터 시작한다.)"
   ]
  },
  {
   "attachments": {},
   "cell_type": "markdown",
   "metadata": {},
   "source": [
    "```python\n",
    "# 입력\n",
    "10\n",
    "5\n",
    "1 4 7 8 0\n",
    "\n",
    "# 출력\n",
    "\n",
    "#1 0 1 4 7 8\n",
    "\n",
    "```"
   ]
  },
  {
   "cell_type": "code",
   "execution_count": null,
   "metadata": {},
   "outputs": [],
   "source": [
    "'''\n",
    "문제처리 순서. 입력조건 정리하고, 원하는 결과에 대해서 먼저 정렬하시오. \n",
    "예) for 문을 작성할 때, for 문 아래의 if 조건문들이나 이중 for 문을 먼저 작성하지말고, for 문의 최종결과(원하는 값)를 먼저 작성하시오.\n",
    "'''\n",
    " \n",
    "T = int(input()) # 10\n",
    " \n",
    "for i in range(1, T+1):\n",
    "    N = int(input())  # 5\n",
    "    M = list(map(int, input().split()))  # [1, 4, 7, 8, 0]\n",
    "    sorted_result = sorted(M)\n",
    "    print(f'#{i} {\" \".join(map(str, sorted_result))}')\n",
    " \n",
    "    '''\n",
    "     \n",
    "{\" \".join(map(str, sorted_result))}는 다음과 같은 과정을 수행합니다:\n",
    " \n",
    "1) map(str, sorted_result)를 통해 sorted_result의 각 요소를 문자열로 변환합니다. 예를 들어, [1, 4, 7, 8, 0]은 ['1', '4', '7', '8', '0']로 변환됩니다.\n",
    "2) join() 함수는 문자열 리스트를 하나의 문자열로 연결하는 역할을 합니다. 여기서는 공백 문자 ' '를 구분자로 사용하여 문자열 리스트를 하나의 문자열로 결합합니다. 따라서 ['1', '4', '7', '8', '0']은 '1 4 7 8 0'으로 결합됩니다.\n",
    "3) 최종적으로 f-string 안에 있는 {} 부분에 해당 문자열이 들어가게 됩니다.\n",
    "결과적으로, {\" \".join(map(str, sorted_result))}는 리스트의 각 요소를 정렬하고 공백으로 구분된 문자열로 만들어주는 역할을 합니다.\n",
    "    '''"
   ]
  },
  {
   "cell_type": "code",
   "execution_count": null,
   "metadata": {},
   "outputs": [],
   "source": [
    "# 기억을 되살려요! 퀵정렬\n",
    "\n",
    "#함수부\n",
    " \n",
    "def quick_sort(arr):\n",
    "    if len(arr) <= 1:\n",
    "        return arr\n",
    "    else:\n",
    "        pivot = arr[0] # pivot (= 기준)을 첫번째 원소로 선택\n",
    "        smaller = [x for x in arr[1:] if x <= pivot] # smaller list\n",
    "        greater = [x for x in arr[1:] if x > pivot] # greater list\n",
    "        return quick_sort(smaller) + [pivot] + quick_sort(greater) # 재귀호출. 더 작거나 큰 리스트에 대하여 quicksort 를 각각 진행\n",
    "\n",
    "# 또는 a.sort() 해서 a 를 sort 한 리스트로 돌려받거나, a = sorted(a) 해서 리스트를 돌려받을 수 있다."
   ]
  }
 ],
 "metadata": {
  "language_info": {
   "name": "python"
  },
  "orig_nbformat": 4
 },
 "nbformat": 4,
 "nbformat_minor": 2
}
