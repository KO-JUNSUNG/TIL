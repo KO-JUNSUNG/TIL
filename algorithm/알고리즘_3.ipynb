{
 "cells": [
  {
   "cell_type": "code",
   "execution_count": 2,
   "metadata": {},
   "outputs": [
    {
     "name": "stdout",
     "output_type": "stream",
     "text": [
      "화사\n",
      "솔라 문별\n",
      "휘인 쯔위 선미\n"
     ]
    }
   ],
   "source": [
    "# 이진 트리\n",
    "\n",
    "##함수\n",
    "\n",
    "class TreeNode():\n",
    "    def __init__(self):\n",
    "        self.left=None\n",
    "        self.data=None\n",
    "        self.right=None\n",
    "\n",
    "\n",
    "## 변수\n",
    "\n",
    "## 메인\n",
    "node1=TreeNode() #객체 할당\n",
    "node1.data='화사' #루트 노트 생성\n",
    "node2=TreeNode()\n",
    "node2.data='솔라'\n",
    "node1.left=node2\n",
    "node3=TreeNode()\n",
    "node3.data='문별'\n",
    "node1.right=node3\n",
    "node4=TreeNode()\n",
    "node4.data='휘인'\n",
    "node2.left=node4\n",
    "node5=TreeNode()\n",
    "node5.data='쯔위'\n",
    "node2.right=node5\n",
    "node6=TreeNode()\n",
    "node6.data='선미'\n",
    "node3.left=node6\n",
    "\n",
    "print(node1.data)\n",
    "print(node1.left.data, node1.right.data)\n",
    "print(node1.left.left.data, node1.left.right.data, node1.right.left.data)\n"
   ]
  },
  {
   "cell_type": "code",
   "execution_count": 3,
   "metadata": {},
   "outputs": [
    {
     "name": "stdout",
     "output_type": "stream",
     "text": [
      "이진 탐색 트리 완료!\n"
     ]
    }
   ],
   "source": [
    "# 실무\n",
    "\n",
    "#이진 탐색 트리\n",
    "# 이진 트리 중 활용도가 높은 트리로, 데이터 크기를 기준으로 일정 형태로 구성\n",
    "# 루트노드보다 작은 것은 모두 왼쪽, 큰 것은 모두 오른쪽으로 분류한다. 각 서브트리도 똑같은 특징을 갖는다.\n",
    "\n",
    "\n",
    "\n",
    "## 함수\n",
    "class TreeNode():\n",
    "    def __init__(self):\n",
    "        self.left=None\n",
    "        self.data=None\n",
    "        self.right=None\n",
    "\n",
    "## 변수\n",
    "memory=[] \n",
    "root=None #초기화\n",
    "nameArray=['블랙핑크','레드벨벳','마마무','에이핑크','걸스데이','트와이스']\n",
    "## 메인\n",
    "\n",
    "node=TreeNode()\n",
    "node.data=nameArray[0]\n",
    "root=node\n",
    "memory.append(node)\n",
    "\n",
    "for name in nameArray[1:]: #nameArray=['블랙핑크','레드벨벳', ...] 블핑 이후의 모든 요소\n",
    "    node=TreeNode()\n",
    "    node.data=name\n",
    "    current=root #현재작업노드\n",
    "    while True:\n",
    "        if (name< current.data): #한글의 경우 크기 비교=가나다순.\n",
    "            if (current.left==None):\n",
    "                current.left=node \n",
    "                break  #비어 있어서 설정했으면 무한루프에서 벗어나야함. 벗어난 뒤 다음 nameArray의 요소에 대해 for문 돌아감.\n",
    "            else: # 안 비어 있으면 비교\n",
    "                current=current.left # current 를 current.left 로 이동\n",
    "                \n",
    "        else:\n",
    "            if (current.right==None):\n",
    "                current.right=node\n",
    "                break\n",
    "            else:\n",
    "                current=current.right\n",
    "print('이진 탐색 트리 완료!')"
   ]
  },
  {
   "cell_type": "code",
   "execution_count": null,
   "metadata": {},
   "outputs": [],
   "source": []
  }
 ],
 "metadata": {
  "kernelspec": {
   "display_name": "base",
   "language": "python",
   "name": "python3"
  },
  "language_info": {
   "codemirror_mode": {
    "name": "ipython",
    "version": 3
   },
   "file_extension": ".py",
   "mimetype": "text/x-python",
   "name": "python",
   "nbconvert_exporter": "python",
   "pygments_lexer": "ipython3",
   "version": "3.9.12"
  },
  "orig_nbformat": 4,
  "vscode": {
   "interpreter": {
    "hash": "80cc27e9a0e8aa59b18a6f502b8a24c9fe77be3bcd87d0900d8763aa62f81a4d"
   }
  }
 },
 "nbformat": 4,
 "nbformat_minor": 2
}
