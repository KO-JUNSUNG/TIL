{
 "cells": [
  {
   "attachments": {},
   "cell_type": "markdown",
   "metadata": {},
   "source": [
    "처음엔 for 문으로 작성했는데 통과하지 못한 테스트케이스가 하나 발생했다. \n",
    "무슨 테스트케이스인지 알 수가 없어서 그냥 다시 while 문으로 고쳤다."
   ]
  },
  {
   "cell_type": "code",
   "execution_count": null,
   "metadata": {},
   "outputs": [],
   "source": [
    "S_length, E_length = map(int,input().split())\n",
    "S = input()\n",
    "E = input()\n",
    "\n",
    "while E_length:\n",
    "\tE_length -= 1\n",
    "\tE = E.replace(S,'')\n",
    "\t\n",
    "if E == '':\n",
    "\tprint('EMPTY')\n",
    "else:\n",
    "\tprint(E)"
   ]
  },
  {
   "attachments": {},
   "cell_type": "markdown",
   "metadata": {},
   "source": [
    "# 해설\n",
    "\n",
    "- 반복조건을 다음과 같이 설정하면 더 쉽게 해결할 수 있습니다! \n",
    "\n",
    "```python\n",
    "# 필터 단어 S가 메세지 E에 포함되어 있는 동안 반복\n",
    "while S in E:\n",
    "    # replace 메소드를 통해서 E에서 S 단어를 계속 삭제\n",
    "    E = E.replace(S, '')\n",
    "```"
   ]
  }
 ],
 "metadata": {
  "language_info": {
   "name": "python"
  },
  "orig_nbformat": 4
 },
 "nbformat": 4,
 "nbformat_minor": 2
}
