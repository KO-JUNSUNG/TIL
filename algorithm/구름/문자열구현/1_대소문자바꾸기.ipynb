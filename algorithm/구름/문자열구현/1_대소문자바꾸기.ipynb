{
 "cells": [
  {
   "cell_type": "code",
   "execution_count": null,
   "metadata": {},
   "outputs": [],
   "source": [
    "# -*- coding: utf-8 -*-\n",
    "# UTF-8 encoding when using korean\n",
    "T = int(input())\n",
    "S = input()\n",
    "for testcase in range(T):\n",
    "\tif S[testcase].isupper():\n",
    "\t\tprint(S[testcase].lower(),end='')\n",
    "\t\t# S[testcase] = S[testcase].lower() # 문자자료형에 반복문으로 문자열할당은 안 먹힌다.  \n",
    "\telse:\n",
    "\t\tprint(S[testcase].upper(),end='')\n",
    "\t\t# S[testcase] = S[testcase].upper()  "
   ]
  },
  {
   "attachments": {},
   "cell_type": "markdown",
   "metadata": {},
   "source": [
    "# 해설\n",
    "\n",
    "s.swapcase() 를 쓰면 더 간단하답니다."
   ]
  }
 ],
 "metadata": {
  "language_info": {
   "name": "python"
  },
  "orig_nbformat": 4
 },
 "nbformat": 4,
 "nbformat_minor": 2
}
