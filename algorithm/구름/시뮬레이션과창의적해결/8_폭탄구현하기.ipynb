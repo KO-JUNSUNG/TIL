{
 "cells": [
  {
   "cell_type": "code",
   "execution_count": 3,
   "metadata": {},
   "outputs": [
    {
     "name": "stdout",
     "output_type": "stream",
     "text": [
      "[[1, 1, 0], [1, 0, 2], [0, 2, 2]]\n"
     ]
    }
   ],
   "source": [
    "# 기존 작성\n",
    "N, K = map(int, input().split())\n",
    "area = [[0] * N for _ in range(N)]\n",
    "\n",
    "for _ in range(K):\n",
    "    bomb_y, bomb_x = map(int, input().split())\n",
    "    bomb_y -= 1\n",
    "    bomb_x -= 1\n",
    "    area[bomb_y][bomb_x] += 1\n",
    "\n",
    "    # 상\n",
    "    if bomb_y - 1 >= 0:\n",
    "        area[bomb_y - 1][bomb_x] += 1\n",
    "    # 하\n",
    "    if bomb_y + 1 < N:\n",
    "        area[bomb_y + 1][bomb_x] += 1\n",
    "    # 좌\n",
    "    if bomb_x - 1 >= 0:\n",
    "        area[bomb_y][bomb_x - 1] += 1\n",
    "    # 우\n",
    "    if bomb_x + 1 < N:\n",
    "        area[bomb_y][bomb_x + 1] += 1\n",
    "\n",
    "print(area)"
   ]
  },
  {
   "cell_type": "code",
   "execution_count": 5,
   "metadata": {},
   "outputs": [
    {
     "data": {
      "text/plain": [
       "9"
      ]
     },
     "execution_count": 5,
     "metadata": {},
     "output_type": "execute_result"
    }
   ],
   "source": [
    "ans = sum([sum(testcase) for testcase in area])\n",
    "ans"
   ]
  },
  {
   "attachments": {},
   "cell_type": "markdown",
   "metadata": {},
   "source": [
    "ㅋㅋ 뭔가 이상하더라\n",
    "\n",
    "3x3 행렬이니까 [0,0,0] * 3 이 나와야 하는데 아래 코드를 실행해보면 처음 bomb_cnt 로 아래와 같은 결과가 나온다. \n",
    "\n",
    "결론 -> 문제 오류\n",
    "\n",
    "\n",
    "```python\n",
    "[[0, 0, 0, 0], [0, 0, 0, 0], [0, 0, 0, 0], [0, 0, 0, 0]]\n",
    "```"
   ]
  },
  {
   "cell_type": "code",
   "execution_count": null,
   "metadata": {},
   "outputs": [],
   "source": [
    "# 문제의 정답\n",
    "\n",
    "\n",
    "import sys\n",
    "input = sys.stdin.readline\n",
    "\n",
    "N, K = map(int, input().split())\n",
    "bomb_cnt = [[0 for _ in range(N + 1)] for _ in range(N + 1)]\n",
    "dy = [-1, 0, 0, 1]\n",
    "dx = [0, -1, 1, 0]\n",
    "# 상 좌 우 하\n",
    "for _ in range(K):\n",
    "    y, x = map(int, input().split())\n",
    "    bomb_cnt[y][x] += 1\n",
    "    for i in range(4):\n",
    "        ny, nx = y + dy[i], x + dx[i]\n",
    "        if ny < 1 or nx < 1 or ny > N or nx > N:\n",
    "            continue\n",
    "        bomb_cnt[ny][nx] += 1\n",
    "\n",
    "ans = 0\n",
    "for i in range(1, N + 1):\n",
    "    for j in range(1, N + 1):\n",
    "        ans += bomb_cnt[i][j]\n",
    "        \n",
    "print(ans)"
   ]
  }
 ],
 "metadata": {
  "kernelspec": {
   "display_name": "base",
   "language": "python",
   "name": "python3"
  },
  "language_info": {
   "codemirror_mode": {
    "name": "ipython",
    "version": 3
   },
   "file_extension": ".py",
   "mimetype": "text/x-python",
   "name": "python",
   "nbconvert_exporter": "python",
   "pygments_lexer": "ipython3",
   "version": "3.9.13"
  },
  "orig_nbformat": 4
 },
 "nbformat": 4,
 "nbformat_minor": 2
}
