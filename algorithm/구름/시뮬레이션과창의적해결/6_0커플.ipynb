{
 "cells": [
  {
   "attachments": {},
   "cell_type": "markdown",
   "metadata": {},
   "source": [
    "- 구름이는 지인들 중 점수를 합한 값이 0 이 되는 두명을 짝지어서 소개팅을 진행한다. \n",
    "\n",
    "- 구름이의 소개팅을 받지 못한 두 사람의 점수를 합한 값을 출력하라.\n",
    "\n",
    "    - 단, 구름이의 지인의 수는 항상 짝수이다.\n",
    "\n",
    "    - 모든 점수는 0을 제외한 정수이다. \n",
    "\n",
    "    - 지인들 중 같은 점수를 지닌 경우는 없다.\n"
   ]
  },
  {
   "cell_type": "code",
   "execution_count": null,
   "metadata": {},
   "outputs": [],
   "source": [
    "# 타임아웃이 된 풀이\n",
    "howmany = int(input())\n",
    "\n",
    "data = list(map(int,input().split()))\n",
    "ans = []\n",
    "for i in range(howmany):\n",
    "\tif -data[i] in data:\n",
    "\t\tpass\n",
    "\telse:\n",
    "\t\tans.append(data[i])\n",
    "\n",
    "print(sum(ans))"
   ]
  },
  {
   "cell_type": "code",
   "execution_count": null,
   "metadata": {},
   "outputs": [],
   "source": [
    "# 해시기반 자료구조를 이용해 시간복잡도를 줄이자.\n",
    "\n",
    "N = int(input())\n",
    "S = list(map(int, input().split()))\n",
    "\n",
    "occur = dict()\n",
    "for i in range(N):\n",
    "    # 현재 점수가 존재하는지를 occur에 기록해둡니다.\n",
    "    occur[S[i]] = 1\n",
    "\n",
    "ans = 0\n",
    "for i in range(N):\n",
    "    # 각 점수마다 부호가 반대인 점수 값이 occur에 존재하는지를 확인합니다.\n",
    "    # key 값이 존재하는 경우에는 소개팅을 진행할 수 있다는 뜻이니, 넘어가줍시다.\n",
    "    if -S[i] not in occur:\n",
    "        ans += S[i]\n",
    "        \n",
    "print(ans)"
   ]
  }
 ],
 "metadata": {
  "language_info": {
   "name": "python"
  },
  "orig_nbformat": 4
 },
 "nbformat": 4,
 "nbformat_minor": 2
}
