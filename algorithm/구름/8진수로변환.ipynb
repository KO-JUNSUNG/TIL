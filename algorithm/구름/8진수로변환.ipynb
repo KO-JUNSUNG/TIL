{
 "cells": [
  {
   "cell_type": "code",
   "execution_count": null,
   "metadata": {},
   "outputs": [],
   "source": [
    "T = int(input())\n",
    "testcase = list(map(int,input().split()))\n",
    "\n",
    "oct_sum_num = oct(sum(testcase))\n",
    "print(oct_sum_num[2:])"
   ]
  }
 ],
 "metadata": {
  "language_info": {
   "name": "python"
  },
  "orig_nbformat": 4
 },
 "nbformat": 4,
 "nbformat_minor": 2
}
