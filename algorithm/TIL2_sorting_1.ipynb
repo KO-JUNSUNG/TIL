{
 "cells": [
  {
   "cell_type": "code",
   "execution_count": null,
   "metadata": {},
   "outputs": [],
   "source": [
    "#알고리즘 학습\n",
    "#정렬(기본)\n",
    "array=[4,5,3,2,1]\n",
    "for i in range(len(array)): #i=0~4\n",
    "    min=i #가장 작은 원소의 인덱스\n",
    "    for j in range(i+1, len(array)):#j=1~4 \n",
    "        if array[min]>array[j]: #array[0]이(=4) array[1](=5) 보다 크면 min(원소인덱스)을 1로 교체. 그렇지 않다면 pass하여 array[1]과 array[2]를 비교.\n",
    "            min=j\n",
    "    array[i], array[min]= array[min], array[i] #스왑\n",
    "    \n",
    "print(array) #1,2,3,4,5\n"
   ]
  },
  {
   "cell_type": "code",
   "execution_count": 1,
   "metadata": {},
   "outputs": [
    {
     "name": "stdout",
     "output_type": "stream",
     "text": [
      "[1, 2, 3, 4, 5]\n"
     ]
    }
   ],
   "source": [
    "\n",
    "array=[4,5,3,2,1]\n",
    "#삽입 정렬\n",
    "for i in range(1,len(array)):#기준인덱스인 0번째 원소는 내버려두고, 1부터 시작(i=[1,2,3,4])\n",
    "    for j in range(i,0,-1):#인덱스 i부터 0까지 -1씩 이동하며 반복(j=[1,0],[2,1,0])\n",
    "        if array[j]<array[j-1]: #한칸씩 왼쪽으로 이동(기준 인덱스의 왼쪽으로 이동시킴)\n",
    "            array[j],array[j-1]=array[j-1],array[j]\n",
    "        else:#자기보다 작은 데이터를 만나면 멈춤(=그대로 둠)\n",
    "            break\n",
    "print(array)"
   ]
  },
  {
   "cell_type": "code",
   "execution_count": null,
   "metadata": {},
   "outputs": [],
   "source": []
  }
 ],
 "metadata": {
  "kernelspec": {
   "display_name": "base",
   "language": "python",
   "name": "python3"
  },
  "language_info": {
   "codemirror_mode": {
    "name": "ipython",
    "version": 3
   },
   "file_extension": ".py",
   "mimetype": "text/x-python",
   "name": "python",
   "nbconvert_exporter": "python",
   "pygments_lexer": "ipython3",
   "version": "3.9.12"
  },
  "orig_nbformat": 4,
  "vscode": {
   "interpreter": {
    "hash": "80cc27e9a0e8aa59b18a6f502b8a24c9fe77be3bcd87d0900d8763aa62f81a4d"
   }
  }
 },
 "nbformat": 4,
 "nbformat_minor": 2
}
