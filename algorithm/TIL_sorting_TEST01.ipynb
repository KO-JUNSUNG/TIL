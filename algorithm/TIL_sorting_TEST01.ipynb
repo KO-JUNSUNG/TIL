{
 "cells": [
  {
   "attachments": {},
   "cell_type": "markdown",
   "metadata": {},
   "source": [
    "# 두 배열의 원소 교체\n",
    "\n",
    "- 동빈이는 두 개의 배열 A,B를 가지고 있습니다. 두 배열은 N개의 원소로 구성되어 있으며 배열의   원소는 모두 자연수입니다.\n",
    "- 동빈이는 최대 K번의 바꿔치기 연산을 수행할 수 있는데 바꿔치기 연산이란 배열 A에 있는 원소 하나와 배열 B에 있는 원소 하나를 골라서 두 원소를 서로 바꾸는 것을 말합니다.\n",
    "- 동빈이의 최종 목표는 배열 A의 모든 원소의 합이 최대가 되도록 하는 것이며 여러분은 동빈이를 도와야 합니다.\n",
    "- N,K 그리고 A와 B 배열의 정보가 주어졌을 때 최대 K번의 바꿔치기 연산을 수행하여 만들 수 있는 배열 A의 모든 원소의 합의 최댓값을 출력하는 프로그램을 작성하세요."
   ]
  },
  {
   "cell_type": "code",
   "execution_count": null,
   "metadata": {},
   "outputs": [],
   "source": [
    "n,k=map(int,input().split()) #N과 K를 입력 받기\n",
    "a= list(map(int,input().split())) #배열 A의 모든 원소를 입력 받기\n",
    "b= list(map(int,input().split())) #배열 B의 모든 원소를 입력 받기\n",
    "\n",
    "a.sort() # a는 오름차순 정렬(작은 것부터 큰 것)\n",
    "b.sort(reverse=True) # b는 내림차순 정렬(큰 것부터 작은 것)\n",
    "\n",
    "# 첫번째 인덱스부터 확인하며, 두 배열의 원소를 최대 K번 비교\n",
    "\n",
    "for i in range(k):\n",
    "    #A의 원소가 B의 원소보다 작은 경우\n",
    "    if a[i]<b[i]:\n",
    "        #두 원소를 교체\n",
    "        a[i],b[i]=b[i],a[i]\n",
    "    else: # a가 b보다 크거나 같을 때 탈출\n",
    "        break\n",
    "print(sum(a)) #배열 A의 모든 원소의 합을 출력"
   ]
  }
 ],
 "metadata": {
  "kernelspec": {
   "display_name": "base",
   "language": "python",
   "name": "python3"
  },
  "language_info": {
   "name": "python",
   "version": "3.9.12 (main, Apr  4 2022, 05:22:27) [MSC v.1916 64 bit (AMD64)]"
  },
  "orig_nbformat": 4,
  "vscode": {
   "interpreter": {
    "hash": "80cc27e9a0e8aa59b18a6f502b8a24c9fe77be3bcd87d0900d8763aa62f81a4d"
   }
  }
 },
 "nbformat": 4,
 "nbformat_minor": 2
}
