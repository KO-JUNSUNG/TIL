{
 "cells": [
  {
   "attachments": {},
   "cell_type": "markdown",
   "metadata": {},
   "source": [
    "주어지는 영어 문장에서 특정한 문자열의 개수를 반환하는 프로그램을 작성하여라.\n",
    "\n",
    "Starteatingwellwiththeseeighttipsforhealthyeating,whichcoverthebasicsofahealthydietandgoodnutrition.\n",
    "\n",
    "위 문장에서 ti 를 검색하면, 답은 4이다.\n",
    "\n",
    "[제약 사항]\n",
    "\n",
    "총 10개의 테스트 케이스가 주어진다.\n",
    "\n",
    "문장의 길이는 1000자를 넘어가지 않는다.\n",
    "\n",
    "한 문장에서 검색하는 문자열의 길이는 최대 10을 넘지 않는다.\n",
    "\n",
    "한 문장에서는 하나의 문자열만 검색한다. \n",
    "\n",
    "[입력]\n",
    "\n",
    "각 테스트 케이스의 첫 줄에는 테스트 케이스의 번호가 주어지고 그 다음 줄에는 찾을 문자열, 그 다음 줄에는 검색할 문장이 주어진다.\n",
    "\n",
    "입력\n",
    "\n",
    "1\n",
    "\n",
    "ti\n",
    "\n",
    "Starteatingwellwiththeseeighttipsforhealthyeating,whichcoverthebasics ...\n",
    "\n",
    "2\n",
    "\n",
    "ing\n",
    "\n",
    "Thedoublehelixformsthestructuralbasisofsemi-conservativeDNAreplication.1,2Less ...\n",
    "\n",
    "...\n",
    "\n",
    "[출력]\n",
    "\n",
    "#부호와 함께 테스트 케이스의 번호를 출력하고, 공백 문자 후 테스트 케이스의 답을 출력한다.\n",
    "\n",
    "출력\n",
    "\n",
    "#1 4\n",
    "\n",
    "#2 2\n",
    "..."
   ]
  },
  {
   "cell_type": "code",
   "execution_count": 7,
   "metadata": {},
   "outputs": [
    {
     "name": "stdout",
     "output_type": "stream",
     "text": [
      "#1 2\n"
     ]
    }
   ],
   "source": [
    "count=0    \n",
    "while True:\n",
    "    T=int(input())\n",
    "    wanttofind=input()\n",
    "    sentence=input()\n",
    "    count+=1\n",
    "    print(f'#{T} {sentence.count(wanttofind)}')\n",
    "    if count>10:\n",
    "        break\n",
    "#런타임 시간이 너무 긴가 보다. 다른 방식이 필요."
   ]
  },
  {
   "cell_type": "code",
   "execution_count": null,
   "metadata": {},
   "outputs": [],
   "source": [
    "for i in range(0,10):\n",
    "    T=int(input())\n",
    "    wanttofind=input()\n",
    "    sentence=input()\n",
    "    count+=1\n",
    "    print(f'#{T} {sentence.count(wanttofind)}')\n",
    "#임의의 공간 10개를 설정하고 그냥 돌렸다. 추가적인 데이터에는 제대로 번호가 작동하지 않겠지만, 다른 답을 모르겠다."
   ]
  }
 ],
 "metadata": {
  "kernelspec": {
   "display_name": "base",
   "language": "python",
   "name": "python3"
  },
  "language_info": {
   "codemirror_mode": {
    "name": "ipython",
    "version": 3
   },
   "file_extension": ".py",
   "mimetype": "text/x-python",
   "name": "python",
   "nbconvert_exporter": "python",
   "pygments_lexer": "ipython3",
   "version": "3.9.12"
  },
  "orig_nbformat": 4,
  "vscode": {
   "interpreter": {
    "hash": "80cc27e9a0e8aa59b18a6f502b8a24c9fe77be3bcd87d0900d8763aa62f81a4d"
   }
  }
 },
 "nbformat": 4,
 "nbformat_minor": 2
}
