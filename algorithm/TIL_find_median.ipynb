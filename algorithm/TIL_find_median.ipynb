{
 "cells": [
  {
   "attachments": {},
   "cell_type": "markdown",
   "metadata": {},
   "source": [
    "# 문제\n",
    "\n",
    "- 중간값은 통계 집단의 수치를 크기 순으로 배열 했을 때 전체의 중앙에 위치하는 수치를 뜻한다.\n",
    "\n",
    "- 입력으로 N 개의 점수가 주어졌을 때, 중간값을 출력하라.\n",
    "\n",
    "\n",
    "## 예제\n",
    "\n",
    "- N이 9 이고, 9개의 점수가 아래와 같이 주어질 경우,\n",
    "\n",
    "85 72 38 80 69 65 68 96 22\n",
    "\n",
    "69이 중간값이 된다.\n",
    "\n",
    "\n",
    "## 제약 사항\n",
    "\n",
    "1. N은 항상 홀수로 주어진다.\n",
    "\n",
    "2. N은 9이상 199 이하의 정수이다. (9 ≤ N ≤ 199)\n",
    "\n",
    "\n",
    "## 입력\n",
    "\n",
    "- 입력은 첫 줄에 N 이 주어진다.\n",
    "\n",
    "- 둘째 줄에 N 개의 점수가 주어진다.\n",
    "\n",
    "\n",
    "## 출력\n",
    "\n",
    "- N 개의 점수들 중, 중간값에 해당하는 점수를 정답으로 출력한다."
   ]
  },
  {
   "cell_type": "code",
   "execution_count": 8,
   "metadata": {},
   "outputs": [
    {
     "name": "stdout",
     "output_type": "stream",
     "text": [
      "3 [1, 3, 5] 3\n"
     ]
    }
   ],
   "source": [
    "\"\"\"\n",
    "idea: 입력값을 list로 받는다. 제약사항에 있어 N은 홀수이므로 \n",
    "중간값은 정렬된 값을 기준으로 항상 (n+1)/2 번째 숫자이다.\n",
    "그럼 리스트를 받고 리스트의 길이를 구한 후 일을 더해 나눠주면 되지않을까?\n",
    "(len(리스트)+1) /2 = 리스트의 idx 넘버\n",
    "\"\"\"\n",
    "T=int(input())\n",
    "T_list=list(map(int,input().split()))\n",
    "for i in range(1,T):#기준인덱스인 0번째 원소는 내버려두고, 1부터 시작(i=[1,2,3,4])\n",
    "    for j in range(i,0,-1):#인덱스 i부터 0까지 -1씩 이동하며 반복(j=[1,0],[2,1,0])\n",
    "        if T_list[j]<T_list[j-1]: #한칸씩 왼쪽으로 이동(기준 인덱스의 왼쪽으로 이동시킴)\n",
    "            T_list[j],T_list[j-1]=T_list[j-1],T_list[j]\n",
    "        else:#자기보다 작은 데이터를 만나면 멈춤(=그대로 둠)\n",
    "            break\n",
    "medidx=int(((len(T_list)+1)/2)-1)\n",
    "print(T,T_list ,T_list[medidx])"
   ]
  },
  {
   "cell_type": "code",
   "execution_count": null,
   "metadata": {},
   "outputs": [],
   "source": []
  }
 ],
 "metadata": {
  "kernelspec": {
   "display_name": "base",
   "language": "python",
   "name": "python3"
  },
  "language_info": {
   "codemirror_mode": {
    "name": "ipython",
    "version": 3
   },
   "file_extension": ".py",
   "mimetype": "text/x-python",
   "name": "python",
   "nbconvert_exporter": "python",
   "pygments_lexer": "ipython3",
   "version": "3.9.12"
  },
  "orig_nbformat": 4,
  "vscode": {
   "interpreter": {
    "hash": "80cc27e9a0e8aa59b18a6f502b8a24c9fe77be3bcd87d0900d8763aa62f81a4d"
   }
  }
 },
 "nbformat": 4,
 "nbformat_minor": 2
}
