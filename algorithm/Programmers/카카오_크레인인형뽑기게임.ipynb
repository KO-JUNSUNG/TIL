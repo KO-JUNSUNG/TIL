{
 "cells": [
  {
   "attachments": {},
   "cell_type": "markdown",
   "metadata": {},
   "source": [
    "너무 길어서 링크로 대체\n",
    "\n",
    "\n",
    "[링크](https://school.programmers.co.kr/learn/courses/30/lessons/64061)"
   ]
  },
  {
   "cell_type": "code",
   "execution_count": 6,
   "metadata": {},
   "outputs": [],
   "source": [
    "def solution(board, moves):\n",
    "    # [1,5,3,5,1,2,1,4] 의 각 원소는 j 열에 접근하여 원소를 하나씩 빼간다는 뜻입니다.\n",
    "    from collections import deque\n",
    "    qm = deque(moves)\n",
    "    basket = []\n",
    "    cnt = 0\n",
    "\n",
    "    for _ in range(len(moves)):\n",
    "        i = 0\n",
    "        j = qm.popleft() - 1\n",
    "        while board[i][j] == 0:\n",
    "            i += 1\n",
    "        value = board[i][j]\n",
    "        print(value)\n",
    "        if basket:\n",
    "            if basket[-1] == value:\n",
    "                basket.pop()\n",
    "                cnt += 1\n",
    "                continue\n",
    "\n",
    "        basket.append(value)\n",
    "        board[i][j] = 0\n",
    "    return cnt"
   ]
  },
  {
   "cell_type": "code",
   "execution_count": 15,
   "metadata": {},
   "outputs": [],
   "source": [
    "board = [[0,0,0,0,0],[0,0,1,0,3],[0,2,5,0,1],[4,2,4,4,2],[3,5,1,3,1]]\n",
    "moves = [1,5,3,5,1,2,1,4]"
   ]
  },
  {
   "cell_type": "code",
   "execution_count": 16,
   "metadata": {},
   "outputs": [
    {
     "data": {
      "text/plain": [
       "4"
      ]
     },
     "execution_count": 16,
     "metadata": {},
     "output_type": "execute_result"
    }
   ],
   "source": [
    "solution(board,moves)"
   ]
  },
  {
   "cell_type": "code",
   "execution_count": 17,
   "metadata": {},
   "outputs": [],
   "source": [
    "def solution(board, moves):\n",
    "    # [1,5,3,5,1,2,1,4] 의 각 원소는 j 열에 접근하여 원소를 하나씩 빼간다는 뜻입니다.\n",
    "    from collections import deque\n",
    "    qm = deque(moves)\n",
    "    basket = []\n",
    "    cnt = 0\n",
    "\n",
    "    for _ in range(len(moves)):\n",
    "        i = 0\n",
    "        j = qm.popleft() - 1\n",
    "        # 원소가 0 인 동안 더 깊이 내려감\n",
    "        while board[i][j] == 0:\n",
    "            i += 1\n",
    "        # 헛손질할 때 처리(j 열이 모두 0 일 때)\n",
    "        if i == len(board) + 1:\n",
    "            continue\n",
    "        else:\n",
    "            value = board[i][j]\n",
    "            # 바스켓이 비어있지 않으면 비교 개시\n",
    "            if basket:\n",
    "                if basket[-1] == value:\n",
    "                    basket.pop()\n",
    "                    cnt += 2 # 사라진 인형을 계산하는 거니 2개씩 올라가야함\n",
    "                    continue\n",
    "                else:\n",
    "                    basket.append(value)\n",
    "                    board[i][j] = 0\n",
    "            else:\n",
    "                basket.append(value)\n",
    "                board[i][j] = 0\n",
    "    return cnt"
   ]
  },
  {
   "cell_type": "code",
   "execution_count": null,
   "metadata": {},
   "outputs": [],
   "source": [
    "# 최종 수정본\n",
    "# 해냈다 씨빨\n",
    "\n",
    "def solution(board, moves):\n",
    "    # [1,5,3,5,1,2,1,4] 의 각 원소는 j 열에 접근하여 원소를 하나씩 빼간다는 뜻입니다.\n",
    "    from collections import deque\n",
    "    qm = deque(moves)\n",
    "    basket = []\n",
    "    cnt = 0\n",
    "\n",
    "    for _ in range(len(moves)):\n",
    "        i = 0\n",
    "        j = qm.popleft() - 1\n",
    "        # 원소가 0 인 동안 더 깊이 내려감\n",
    "        while i < len(board) and (board[i][j] == 0) :\n",
    "            i += 1\n",
    "        # 헛손질할 때 처리(j 열이 모두 0 일 때)\n",
    "        if i == len(board):\n",
    "            continue\n",
    "        else:\n",
    "            value = board[i][j]\n",
    "            board[i][j] = 0\n",
    "            # 바스켓이 비어있지 않으면 비교 개시 : 비어있다면 pop 이 안 되니까\n",
    "            if basket:\n",
    "                if basket[-1] == value:\n",
    "                    basket.pop()\n",
    "                    cnt += 2 # 사라진 인형을 계산하는 거니 2개씩 올라가야함\n",
    "                    continue # value 를 넣지 않고 바로 다음 순회로\n",
    "                else:\n",
    "                    basket.append(value)\n",
    "            else:\n",
    "                basket.append(value)\n",
    "    return cnt\n"
   ]
  },
  {
   "cell_type": "code",
   "execution_count": 18,
   "metadata": {},
   "outputs": [
    {
     "name": "stdout",
     "output_type": "stream",
     "text": [
      "{'a': 0, 'b': 0, 'c': 0}\n"
     ]
    }
   ],
   "source": [
    "# dict 도 반복문 작성이 가능\n",
    "\n",
    "x_list = ['a','b','c']\n",
    "reported = {}\n",
    "for i in x_list:\n",
    "    reported[i] = 0\n",
    "print(reported)"
   ]
  },
  {
   "cell_type": "code",
   "execution_count": null,
   "metadata": {},
   "outputs": [],
   "source": []
  }
 ],
 "metadata": {
  "kernelspec": {
   "display_name": "base",
   "language": "python",
   "name": "python3"
  },
  "language_info": {
   "codemirror_mode": {
    "name": "ipython",
    "version": 3
   },
   "file_extension": ".py",
   "mimetype": "text/x-python",
   "name": "python",
   "nbconvert_exporter": "python",
   "pygments_lexer": "ipython3",
   "version": "3.9.13"
  },
  "orig_nbformat": 4
 },
 "nbformat": 4,
 "nbformat_minor": 2
}
