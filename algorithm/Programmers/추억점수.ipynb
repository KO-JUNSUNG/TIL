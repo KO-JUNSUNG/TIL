{
 "cells": [
  {
   "cell_type": "code",
   "execution_count": null,
   "metadata": {},
   "outputs": [],
   "source": [
    "def solution(name, yearning, photo):\n",
    "    # 빈 리스트 생성\n",
    "    ans = []\n",
    "    # defaultdict 구현\n",
    "    from collections import defaultdict\n",
    "    dic = defaultdict(list)\n",
    "    for i,word in enumerate(name):\n",
    "        dic[word] = yearning[i]\n",
    "    \n",
    "    # print(dic), 제대로 등록되었음\n",
    "    for i in range(len(photo)): # 0,1,2,3\n",
    "        temp = 0\n",
    "        for j in range(len(photo[i])): \n",
    "            if dic[photo[i][j]]:\n",
    "                temp += dic[photo[i][j]]\n",
    "            else:\n",
    "                temp += 0\n",
    "        ans.append(temp)\n",
    "    return ans"
   ]
  }
 ],
 "metadata": {
  "language_info": {
   "name": "python"
  },
  "orig_nbformat": 4
 },
 "nbformat": 4,
 "nbformat_minor": 2
}
