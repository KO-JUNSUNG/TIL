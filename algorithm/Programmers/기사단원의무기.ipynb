{
 "cells": [
  {
   "attachments": {},
   "cell_type": "markdown",
   "metadata": {},
   "source": [
    "숫자나라 기사단의 각 기사에게는 1번부터 number까지 번호가 지정되어 있습니다. 기사들은 무기점에서 무기를 구매하려고 합니다.\n",
    "\n",
    "각 기사는 자신의 기사 번호의 약수 개수에 해당하는 공격력을 가진 무기를 구매하려 합니다. 단, 이웃나라와의 협약에 의해 공격력의 제한수치를 정하고, 제한수치보다 큰 공격력을 가진 무기를 구매해야 하는 기사는 협약기관에서 정한 공격력을 가지는 무기를 구매해야 합니다.\n",
    "\n",
    "예를 들어, 15번으로 지정된 기사단원은 15의 약수가 1, 3, 5, 15로 4개 이므로, 공격력이 4인 무기를 구매합니다. 만약, 이웃나라와의 협약으로 정해진 공격력의 제한수치가 3이고 제한수치를 초과한 기사가 사용할 무기의 공격력이 2라면, 15번으로 지정된 기사단원은 무기점에서 공격력이 2인 무기를 구매합니다. 무기를 만들 때, 무기의 공격력 1당 1kg의 철이 필요합니다. 그래서 무기점에서 무기를 모두 만들기 위해 필요한 철의 무게를 미리 계산하려 합니다.\n",
    "\n",
    "기사단원의 수를 나타내는 정수 number와 이웃나라와 협약으로 정해진 공격력의 제한수치를 나타내는 정수 limit와 제한수치를 초과한 기사가 사용할 무기의 공격력을 나타내는 정수 power가 주어졌을 때, 무기점의 주인이 무기를 모두 만들기 위해 필요한 철의 무게를 return 하는 solution 함수를 완성하시오."
   ]
  },
  {
   "cell_type": "code",
   "execution_count": null,
   "metadata": {},
   "outputs": [],
   "source": [
    "# 브루트포스 방법\n",
    "# 시간초과\n",
    "\n",
    "def solution(number, limit, power):\n",
    "    knights_number = range(1,number+1)\n",
    "    many = []\n",
    "    # 1. 약수를 구하고 약수의 개수를 구함\n",
    "    def find_divisors(num):\n",
    "        stack = []\n",
    "        for i in range(1,num+1):\n",
    "            if num%i == 0:\n",
    "                stack.append(i)\n",
    "        return len(stack)\n",
    "    for i in knights_number:\n",
    "        ans = find_divisors(i)\n",
    "    # 2. 약수의 개수가 공격력 제한 수치(limit)를 넘을 경우 약수의 개수는 power 으로 바뀜\n",
    "        if ans > limit:\n",
    "            ans = power\n",
    "        many.append(ans)\n",
    "\n",
    "    # 3. 약수의 개수를 모두 더함\n",
    "    return sum(many)   "
   ]
  },
  {
   "cell_type": "code",
   "execution_count": null,
   "metadata": {},
   "outputs": [],
   "source": [
    "def get_cds(n, limit , power):\n",
    "    cnt = 0\n",
    "    for i in range(1, int(n**(1/2))+1): # ★포인트1. 제곱근만큼만 반복\n",
    "        if n%i == 0:\n",
    "            if i == n//i: # 제곱근일 경우 -> 1개만 카운트하기\n",
    "                cnt += 1\n",
    "            else:\n",
    "                cnt += 2 # 제곱근이 아닐 경우, 2개 카운트 (i, n//i)\n",
    "        if cnt > limit:  # ★포인트2. 소수의 개수가 limit를 넘어가면\n",
    "            return power #            강제로 power만큼을 return \n",
    "    return cnt"
   ]
  }
 ],
 "metadata": {
  "language_info": {
   "name": "python"
  },
  "orig_nbformat": 4
 },
 "nbformat": 4,
 "nbformat_minor": 2
}
