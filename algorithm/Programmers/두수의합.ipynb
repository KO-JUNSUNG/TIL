{
 "cells": [
  {
   "attachments": {},
   "cell_type": "markdown",
   "metadata": {},
   "source": [
    "정수 배열 numbers가 주어집니다. numbers에서 서로 다른 인덱스에 있는 두 개의 수를 뽑아 더해서 만들 수 있는 모든 수를 배열에 오름차순으로 담아 return 하도록 solution 함수를 완성해주세요.\n",
    "```python\n",
    "[2,1,3,4,1] -> [2,3,4,5,6,7]\n",
    "```"
   ]
  },
  {
   "cell_type": "code",
   "execution_count": null,
   "metadata": {},
   "outputs": [],
   "source": [
    "# 브루트포스 방법\n",
    "def solution(numbers):\n",
    "    stack = []\n",
    "    for i in range(len(numbers)-1):\n",
    "        for j in range(i+1,len(numbers)):\n",
    "            if (i>1) and (numbers[i] == numbers[i-1]): \n",
    "                continue\n",
    "            psum = numbers[i] + numbers[j]\n",
    "            if psum not in stack:\n",
    "                stack.append(psum)\n",
    "    return sorted(stack)"
   ]
  },
  {
   "cell_type": "code",
   "execution_count": null,
   "metadata": {},
   "outputs": [],
   "source": [
    "# 투포인터 방식\n",
    "def solution(numbers):\n",
    "    stack = []\n",
    "    for i in range(len(numbers)-1):\n",
    "        left = i\n",
    "        right = len(numbers)-1\n",
    "        \n",
    "        while left < right:\n",
    "            ans = numbers[left] + numbers[right]\n",
    "            right -= 1\n",
    "            if ans in stack:\n",
    "                continue\n",
    "            else:\n",
    "                stack.append(ans)\n",
    "                \n",
    "    return sorted(stack)"
   ]
  },
  {
   "cell_type": "code",
   "execution_count": 1,
   "metadata": {},
   "outputs": [],
   "source": [
    "# dfs 방법\n",
    "\n",
    "def solution(numbers):\n",
    "    stack = []\n",
    "    x = 0\n",
    "    def dfs(i,cnt,x):\n",
    "        if (x not in stack) and (cnt == 2):\n",
    "            stack.append(x)\n",
    "            return\n",
    "        if i == len(numbers):\n",
    "            return\n",
    "        if cnt < 2:\n",
    "            dfs(i+1,cnt+1,x+numbers[i])\n",
    "            dfs(i+1,cnt,x)\n",
    "    dfs(0,0,0)\n",
    "    return sorted(stack)"
   ]
  },
  {
   "cell_type": "code",
   "execution_count": 2,
   "metadata": {},
   "outputs": [
    {
     "data": {
      "text/plain": [
       "[2, 3, 4, 5, 6, 7]"
      ]
     },
     "execution_count": 2,
     "metadata": {},
     "output_type": "execute_result"
    }
   ],
   "source": [
    "a = [2,1,3,4,1]\n",
    "\n",
    "solution(a)"
   ]
  },
  {
   "cell_type": "code",
   "execution_count": null,
   "metadata": {},
   "outputs": [],
   "source": []
  }
 ],
 "metadata": {
  "kernelspec": {
   "display_name": "base",
   "language": "python",
   "name": "python3"
  },
  "language_info": {
   "codemirror_mode": {
    "name": "ipython",
    "version": 3
   },
   "file_extension": ".py",
   "mimetype": "text/x-python",
   "name": "python",
   "nbconvert_exporter": "python",
   "pygments_lexer": "ipython3",
   "version": "3.9.13"
  },
  "orig_nbformat": 4
 },
 "nbformat": 4,
 "nbformat_minor": 2
}
