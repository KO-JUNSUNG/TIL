{
 "cells": [
  {
   "attachments": {},
   "cell_type": "markdown",
   "metadata": {},
   "source": [
    "한국중학교에 다니는 학생들은 각자 정수 번호를 갖고 있습니다. 이 학교 학생 3명의 정수 번호를 더했을 때 0이 되면 3명의 학생은 삼총사라고 합니다. 예를 들어, 5명의 학생이 있고, 각각의 정수 번호가 순서대로 -2, 3, 0, 2, -5일 때, 첫 번째, 세 번째, 네 번째 학생의 정수 번호를 더하면 0이므로 세 학생은 삼총사입니다. 또한, 두 번째, 네 번째, 다섯 번째 학생의 정수 번호를 더해도 0이므로 세 학생도 삼총사입니다. 따라서 이 경우 한국중학교에서는 두 가지 방법으로 삼총사를 만들 수 있습니다.\n",
    "\n",
    "한국중학교 학생들의 번호를 나타내는 정수 배열 number가 매개변수로 주어질 때, 학생들 중 삼총사를 만들 수 있는 방법의 수를 return 하도록 solution 함수를 완성하세요.\n",
    "\n"
   ]
  },
  {
   "cell_type": "code",
   "execution_count": null,
   "metadata": {},
   "outputs": [],
   "source": []
  },
  {
   "cell_type": "code",
   "execution_count": null,
   "metadata": {},
   "outputs": [],
   "source": [
    "# 동적계획법(Dynamic Programming) 방식\n",
    "# 일종의 슬라이딩 윈도우 활용\n",
    "\n",
    "def solution(number):\n",
    "    answer = 0\n",
    "    l = len(number)\n",
    "    for i in range(l-2):\n",
    "        for j in range(i+1, l-1):\n",
    "            for k in range(j+1, l):\n",
    "                # print(number[i],number[j],number[k])\n",
    "                if number[i]+number[j]+number[k] == 0:\n",
    "                    answer += 1           \n",
    "    return answer\n"
   ]
  },
  {
   "cell_type": "code",
   "execution_count": 3,
   "metadata": {},
   "outputs": [],
   "source": [
    "# dfs 방식\n",
    "def solution(number):\n",
    "    tot = 0\n",
    "    def dfs(i, cnt, sum_num):\n",
    "        nonlocal tot\n",
    "        # 정지조건\n",
    "        if not sum_num and (cnt == 3): # if 0 == if false, 조건문에서는 int 값이 0 일 때 false 를 반환한다.\n",
    "            # if not false = if true 이므로, sum_num 이 0 일 떄만 조건문이 실행된다.\n",
    "            tot += 1\n",
    "            return   # 함수를 즉각 종료시킴\n",
    "        if i == len(number):\n",
    "            return  # 끝까지 탐색을 완료했다면 함수를 종료함\n",
    "        if cnt < 3:\n",
    "            dfs(i+1,cnt+1,sum_num + number[i]) # 현재 인덱스의 원소를 선택한 경우를 탐색\n",
    "            dfs(i+1,cnt,sum_num) # 현재 인덱스의 원소를 선택하지 않은 경우를 탐색\n",
    "    dfs(0,0,0)\n",
    "    ans = tot\n",
    "    return ans"
   ]
  },
  {
   "attachments": {},
   "cell_type": "markdown",
   "metadata": {},
   "source": [
    "1. tot 변수는 경우의 수를 저장하기 위한 변수로 초기값을 0으로 설정합니다.\n",
    "\n",
    "2. dfs() 함수는 현재 인덱스 i, 선택한 숫자의 개수 cnt, 그리고 선택한 숫자들의 합 sum_num을 매개변수로 받습니다.\n",
    "\n",
    "3. nonlocal tot를 사용하여 tot 변수를 dfs() 함수 내에서 사용할 수 있도록 설정합니다.\n",
    "\n",
    "4. cnt가 3이 되고 sum_num이 0인 경우, 3개의 숫자를 선택하여 합이 0이 되는 경우로 판단하고 tot 값을 1 증가시킵니다.\n",
    "\n",
    "5. i가 숫자 배열의 길이에 도달한 경우 함수를 종료합니다.\n",
    "\n",
    "6. cnt가 3보다 작은 경우, 다음 두 가지 경우를 고려합니다:\n",
    "\n",
    "    - dfs(i+1, cnt+1, sum_num + number[i]): 현재 인덱스의 숫자를 선택한 경우\n",
    "    \n",
    "    - dfs(i+1, cnt, sum_num): 현재 인덱스의 숫자를 선택하지 않은 경우\n",
    "\n",
    "7. dfs(0, 0, 0)을 호출하여 초기 상태에서 함수를 실행합니다.\n",
    "\n",
    "8. tot 값을 answer 변수에 할당합니다.\n",
    "\n",
    "9. answer를 반환합니다."
   ]
  },
  {
   "cell_type": "code",
   "execution_count": 4,
   "metadata": {},
   "outputs": [
    {
     "data": {
      "text/plain": [
       "2"
      ]
     },
     "execution_count": 4,
     "metadata": {},
     "output_type": "execute_result"
    }
   ],
   "source": [
    "solution([-2, 3, 0, 2, -5])"
   ]
  },
  {
   "cell_type": "code",
   "execution_count": null,
   "metadata": {},
   "outputs": [],
   "source": []
  }
 ],
 "metadata": {
  "kernelspec": {
   "display_name": "base",
   "language": "python",
   "name": "python3"
  },
  "language_info": {
   "codemirror_mode": {
    "name": "ipython",
    "version": 3
   },
   "file_extension": ".py",
   "mimetype": "text/x-python",
   "name": "python",
   "nbconvert_exporter": "python",
   "pygments_lexer": "ipython3",
   "version": "3.9.13"
  },
  "orig_nbformat": 4
 },
 "nbformat": 4,
 "nbformat_minor": 2
}
