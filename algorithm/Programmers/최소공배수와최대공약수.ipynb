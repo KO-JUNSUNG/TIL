{
 "cells": [
  {
   "cell_type": "code",
   "execution_count": 3,
   "metadata": {},
   "outputs": [],
   "source": [
    "# for 문 방법\n",
    "def solution(n, m):\n",
    "    # 왼쪽이 오른쪽보다 클 경우 자리바꾸기\n",
    "    if n > m:\n",
    "        n,m = m,n\n",
    "    # 최대공약수\n",
    "    max_X = 0\n",
    "    for i in range(m,0,-1):\n",
    "        if n%i == 0 and m%i == 0: # 최대공약수는 각각의 약수 중 공통이면서 가장 큰 수\n",
    "            max_X = i\n",
    "            break\n",
    "    # 최소공배수\n",
    "    min_X = 0\n",
    "    for i in range(m,n*m+1):\n",
    "        if i%n == 0 and i%m == 0: # i <-> n,m  최소공배수는 각각의 배수 중 공통이면서 가장 작은 수 \n",
    "            min_X = i\n",
    "            break\n",
    "    return [max_X,min_X]"
   ]
  },
  {
   "cell_type": "code",
   "execution_count": 4,
   "metadata": {},
   "outputs": [
    {
     "data": {
      "text/plain": [
       "[3, 12]"
      ]
     },
     "execution_count": 4,
     "metadata": {},
     "output_type": "execute_result"
    }
   ],
   "source": [
    "solution(3,12)"
   ]
  },
  {
   "cell_type": "code",
   "execution_count": 5,
   "metadata": {},
   "outputs": [
    {
     "data": {
      "text/plain": [
       "[1, 10]"
      ]
     },
     "execution_count": 5,
     "metadata": {},
     "output_type": "execute_result"
    }
   ],
   "source": [
    "solution(2,5)"
   ]
  },
  {
   "attachments": {},
   "cell_type": "markdown",
   "metadata": {},
   "source": [
    "- 유클리드 호제법이란, (x,y) 의 최대공약수는 (y,r) 의 최대공약수와 같다는 원리를 이용하는 것이다.\n",
    "- (x%y = r (x를 y로 나눈 나머지값 == r))\n",
    "\n",
    "- 즉 계속해서 x에는 y값을 대입하고, y에는 x%y 의 값인 r을 대입하면 언젠가는 x%y ==0 이 된다.\n"
   ]
  },
  {
   "attachments": {},
   "cell_type": "markdown",
   "metadata": {},
   "source": [
    "```python\n",
    "a = 10  b= 12\n",
    "\n",
    "x   y     r\n",
    "10%12 == 10\n",
    "12%10 == 2\n",
    "10%2 == 0\n",
    "```\n",
    "- 이렇게 나머지의 값이 \"0\"일 때의 y값 \"2\" 가 최대공약수가 된다.\n",
    "\n",
    "- 최소공배수는 x*y 를 최대공약수로 나눈 몫이 바로 최소공배수가 된다."
   ]
  },
  {
   "cell_type": "code",
   "execution_count": 6,
   "metadata": {},
   "outputs": [],
   "source": [
    "# 유클리드 호제법\n",
    "def solution(n,m):\n",
    "    def GCD(n,m):\n",
    "        while m: # m이 참인동안 = 자연수일 때 = (n%m !=0)\n",
    "            n, m = m, n%m\n",
    "        return n\n",
    "\n",
    "    def LCM(n,m):\n",
    "        result = (n*m)//GCD(n,m)\n",
    "        return result\n",
    "    return [GCD(n,m),LCM(n,m)]"
   ]
  },
  {
   "cell_type": "code",
   "execution_count": 7,
   "metadata": {},
   "outputs": [
    {
     "data": {
      "text/plain": [
       "[3, 12]"
      ]
     },
     "execution_count": 7,
     "metadata": {},
     "output_type": "execute_result"
    }
   ],
   "source": [
    "solution(3,12)"
   ]
  },
  {
   "cell_type": "code",
   "execution_count": 11,
   "metadata": {},
   "outputs": [],
   "source": [
    "# 반복은 재귀로, 재귀는 반복으로\n",
    "\n",
    "def solution(n,m):\n",
    "    def GCD(n,m):\n",
    "        # 재귀 탈출조건\n",
    "        if m != 0:\n",
    "            n,m = m, n%m\n",
    "            return GCD(n,m) # 매개변수 전달\n",
    "        else:\n",
    "            return n\n",
    "        \n",
    "\n",
    "    def LCM(n,m):\n",
    "        result = (n*m)//GCD(n,m)\n",
    "        return result\n",
    "    return [GCD(n,m),LCM(n,m)]"
   ]
  },
  {
   "cell_type": "code",
   "execution_count": 12,
   "metadata": {},
   "outputs": [
    {
     "data": {
      "text/plain": [
       "[3, 12]"
      ]
     },
     "execution_count": 12,
     "metadata": {},
     "output_type": "execute_result"
    }
   ],
   "source": [
    "solution(3,12)"
   ]
  },
  {
   "cell_type": "code",
   "execution_count": 13,
   "metadata": {},
   "outputs": [],
   "source": [
    "def solution(n,m):\n",
    "    def GCD(n,m):\n",
    "        # 재귀 탈출조건\n",
    "        if m == 0:\n",
    "            return n\n",
    "        n,m = m, n%m\n",
    "        return GCD(n,m) # 매개변수 전달\n",
    "\n",
    "    def LCM(n,m):\n",
    "        result = (n*m)//GCD(n,m)\n",
    "        return result\n",
    "    return [GCD(n,m),LCM(n,m)]"
   ]
  },
  {
   "cell_type": "code",
   "execution_count": 14,
   "metadata": {},
   "outputs": [
    {
     "data": {
      "text/plain": [
       "[3, 12]"
      ]
     },
     "execution_count": 14,
     "metadata": {},
     "output_type": "execute_result"
    }
   ],
   "source": [
    "solution(3,12)"
   ]
  },
  {
   "cell_type": "code",
   "execution_count": null,
   "metadata": {},
   "outputs": [],
   "source": []
  }
 ],
 "metadata": {
  "kernelspec": {
   "display_name": "base",
   "language": "python",
   "name": "python3"
  },
  "language_info": {
   "codemirror_mode": {
    "name": "ipython",
    "version": 3
   },
   "file_extension": ".py",
   "mimetype": "text/x-python",
   "name": "python",
   "nbconvert_exporter": "python",
   "pygments_lexer": "ipython3",
   "version": "3.9.13"
  },
  "orig_nbformat": 4
 },
 "nbformat": 4,
 "nbformat_minor": 2
}
