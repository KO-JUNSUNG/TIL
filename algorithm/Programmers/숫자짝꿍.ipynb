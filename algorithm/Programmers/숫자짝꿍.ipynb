{
 "cells": [
  {
   "attachments": {},
   "cell_type": "markdown",
   "metadata": {},
   "source": [
    "두 정수 X, Y의 임의의 자리에서 공통으로 나타나는 정수 k(0 ≤ k ≤ 9)들을 이용하여 만들 수 있는 가장 큰 정수를 두 수의 짝꿍이라 합니다(단, 공통으로 나타나는 정수 중 서로 짝지을 수 있는 숫자만 사용합니다). X, Y의 짝꿍이 존재하지 않으면, 짝꿍은 -1입니다. X, Y의 짝꿍이 0으로만 구성되어 있다면, 짝꿍은 0입니다.\n",
    "\n",
    "예를 들어, X = 3403이고 Y = 13203이라면, X와 Y의 짝꿍은 X와 Y에서 공통으로 나타나는 3, 0, 3으로 만들 수 있는 가장 큰 정수인 330입니다. 다른 예시로 X = 5525이고 Y = 1255이면 X와 Y의 짝꿍은 X와 Y에서 공통으로 나타나는 2, 5, 5로 만들 수 있는 가장 큰 정수인 552입니다(X에는 5가 3개, Y에는 5가 2개 나타나므로 남는 5 한 개는 짝 지을 수 없습니다.)\n",
    "두 정수 X, Y가 주어졌을 때, X, Y의 짝꿍을 return하는 solution 함수를 완성해주세요.\n",
    "\n",
    "제한사항\n",
    "3 ≤ X, Y의 길이(자릿수) ≤ 3,000,000입니다.\n",
    "X, Y는 0으로 시작하지 않습니다.\n",
    "X, Y의 짝꿍은 상당히 큰 정수일 수 있으므로, 문자열로 반환합니다."
   ]
  },
  {
   "cell_type": "code",
   "execution_count": null,
   "metadata": {},
   "outputs": [],
   "source": [
    "# 브루트포스 방식: 시간 초과\n",
    "def solution(X, Y):\n",
    "    X = sorted(X)\n",
    "    Y = sorted(Y)\n",
    "    # 크기가 작은 쪽으로 X를 고정\n",
    "    if len(X) > len(Y):\n",
    "        X,Y = Y,X\n",
    "    ans = ''\n",
    "    for _ in range(len(X)):\n",
    "        temp = X.pop() \n",
    "        if temp in Y:\n",
    "            ans += temp\n",
    "            Y.remove(temp)\n",
    "    # 가지치기 조건\n",
    "    if ans == '':\n",
    "        return \"-1\"\n",
    "    elif ans[0] == '0':\n",
    "        return '0'\n",
    "    else:\n",
    "        return ans"
   ]
  },
  {
   "cell_type": "code",
   "execution_count": null,
   "metadata": {},
   "outputs": [],
   "source": [
    "# dict 방식\n",
    "def solution(X, Y):\n",
    "    answer  = []\n",
    "    xDict   = dict()\n",
    "    yDict   = dict()\n",
    "    \n",
    "    # xDict 생성\n",
    "    for x in X:\n",
    "        xDict[x] = xDict.get(x,0)+1\n",
    "        \n",
    "    # yDict 생성\n",
    "    for y in Y:\n",
    "        yDict[y] = yDict.get(y,0)+1\n",
    "    \n",
    "    # xDict의 key를 기준으로 탐색해서, 짝꿍이 있다면, xDict와yDict에서 -1 해주고 answer에 추가\n",
    "    for k,v in xDict.items():\n",
    "        if k in yDict.keys():\n",
    "            while yDict[k]>0 and xDict[k]>0:\n",
    "                answer.append(k)\n",
    "                yDict[k]=yDict.get(k)-1\n",
    "                xDict[k]=xDict.get(k)-1\n",
    "    \n",
    "    # 아무것도 없는 경우 return -1        \n",
    "    if(len(answer)==0):                 return \"-1\"   \n",
    "\n",
    "    # answer에 0들밖에 없을 경우 return 0\n",
    "    if(answer.count('0')==len(answer)): return \"0\"\n",
    "\n",
    "    answer.sort(reverse=True)\n",
    "    \n",
    "    return ''.join(answer)"
   ]
  }
 ],
 "metadata": {
  "language_info": {
   "name": "python"
  },
  "orig_nbformat": 4
 },
 "nbformat": 4,
 "nbformat_minor": 2
}
