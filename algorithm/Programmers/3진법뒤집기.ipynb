{
 "cells": [
  {
   "cell_type": "code",
   "execution_count": null,
   "metadata": {},
   "outputs": [],
   "source": [
    "# solution\n",
    "\n",
    "def solution(n):\n",
    "    # n을 3진법으로 변환하여 앞뒤로 뒤집기\n",
    "    ternary = ''\n",
    "    while n > 0:\n",
    "        n, remainder = divmod(n, 3)\n",
    "        ternary += str(remainder)\n",
    "\n",
    "    # 앞뒤로 뒤집은 3진법을 10진법으로 변환\n",
    "    decimal = 0\n",
    "    for i, digit in enumerate(ternary[::-1]):\n",
    "        decimal += int(digit) * (3 ** i)\n",
    "\n",
    "    return decimal\n"
   ]
  },
  {
   "cell_type": "code",
   "execution_count": 3,
   "metadata": {},
   "outputs": [],
   "source": [
    "def solution(n):\n",
    "    tmp = ''\n",
    "    while n:\n",
    "        tmp += str(n % 3)\n",
    "        n = n // 3\n",
    "        print(n,tmp)\n",
    "\n",
    "    answer = int(tmp, 3) # int(tmp,3) 이게 tmp 문자열을 3진수로 만들어줌\n",
    "    return answer\n",
    "        "
   ]
  },
  {
   "cell_type": "code",
   "execution_count": 4,
   "metadata": {},
   "outputs": [
    {
     "name": "stdout",
     "output_type": "stream",
     "text": [
      "15 0\n",
      "5 00\n",
      "1 002\n",
      "0 0021\n"
     ]
    },
    {
     "data": {
      "text/plain": [
       "7"
      ]
     },
     "execution_count": 4,
     "metadata": {},
     "output_type": "execute_result"
    }
   ],
   "source": [
    "solution(45)"
   ]
  },
  {
   "cell_type": "code",
   "execution_count": null,
   "metadata": {},
   "outputs": [],
   "source": []
  }
 ],
 "metadata": {
  "kernelspec": {
   "display_name": "base",
   "language": "python",
   "name": "python3"
  },
  "language_info": {
   "codemirror_mode": {
    "name": "ipython",
    "version": 3
   },
   "file_extension": ".py",
   "mimetype": "text/x-python",
   "name": "python",
   "nbconvert_exporter": "python",
   "pygments_lexer": "ipython3",
   "version": "3.9.13"
  },
  "orig_nbformat": 4
 },
 "nbformat": 4,
 "nbformat_minor": 2
}
