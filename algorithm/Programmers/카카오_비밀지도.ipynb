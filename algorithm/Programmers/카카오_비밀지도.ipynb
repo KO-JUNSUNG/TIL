{
 "cells": [
  {
   "attachments": {},
   "cell_type": "markdown",
   "metadata": {},
   "source": [
    "비밀지도\n",
    "네오는 평소 프로도가 비상금을 숨겨놓는 장소를 알려줄 비밀지도를 손에 넣었다. 그런데 이 비밀지도는 숫자로 암호화되어 있어 위치를 확인하기 위해서는 암호를 해독해야 한다. 다행히 지도 암호를 해독할 방법을 적어놓은 메모도 함께 발견했다.\n",
    "\n",
    "지도는 한 변의 길이가 n인 정사각형 배열 형태로, 각 칸은 \"공백\"(\" \") 또는 \"벽\"(\"#\") 두 종류로 이루어져 있다.\n",
    "전체 지도는 두 장의 지도를 겹쳐서 얻을 수 있다. 각각 \"지도 1\"과 \"지도 2\"라고 하자. 지도 1 또는 지도 2 중 어느 하나라도 벽인 부분은 전체 지도에서도 벽이다. 지도 1과 지도 2에서 모두 공백인 부분은 전체 지도에서도 공백이다.\n",
    "\"지도 1\"과 \"지도 2\"는 각각 정수 배열로 암호화되어 있다.\n",
    "암호화된 배열은 지도의 각 가로줄에서 벽 부분을 1, 공백 부분을 0으로 부호화했을 때 얻어지는 이진수에 해당하는 값의 배열이다."
   ]
  },
  {
   "cell_type": "code",
   "execution_count": null,
   "metadata": {},
   "outputs": [],
   "source": [
    "def solution(n, arr1, arr2):\n",
    "    # 0. n을 통해 nxn 행렬 생성\n",
    "    arr = [[0] * n for _ in range(n)]  # 리스트의 곱셈으로 생성한 이전 방식에서 리스트 컴프리헨션 사용\n",
    "\n",
    "    # 1. 정수를 이진수로 변환\n",
    "    for i in range(len(arr1)):\n",
    "        binary_value = bin(arr1[i])[2:]  # 바로 [2:]를 적용하여 '0b'를 제외한 이진수 추출\n",
    "        arr1[i] = binary_value.zfill(n)  # 이진수의 앞을 0으로 채워서 n자리수 맞춤\n",
    "\n",
    "    for j in range(len(arr2)):\n",
    "        binary_value = bin(arr2[j])[2:]\n",
    "        arr2[j] = binary_value.zfill(n)\n",
    "\n",
    "    # 2. 이진수끼리 OR 연산 수행하며 결과 배열 생성\n",
    "    result_arr = []\n",
    "    for e1, e2 in zip(arr1, arr2):\n",
    "        binary_or = int(e1, 2) | int(e2, 2)  # 이진수로 변환된 문자열을 다시 10진수로 변환하여 OR 연산 수행 (비트연산자는 10진수에 적용됨)\n",
    "        binary_str = bin(binary_or)[2:].zfill(n)  # OR 연산 결과를 다시 이진수 문자열로 변환하고 n자리수 맞춤\n",
    "        result_arr.append(binary_str)\n",
    "\n",
    "    # 3. 1은 '#', 0은 ' '로 변환\n",
    "    final_arr = []\n",
    "    for row in result_arr:\n",
    "        converted_row = row.replace('1', '#').replace('0', ' ')\n",
    "        final_arr.append(converted_row)\n",
    "\n",
    "    return final_arr\n"
   ]
  }
 ],
 "metadata": {
  "language_info": {
   "name": "python"
  },
  "orig_nbformat": 4
 },
 "nbformat": 4,
 "nbformat_minor": 2
}
