{
 "cells": [
  {
   "attachments": {},
   "cell_type": "markdown",
   "metadata": {},
   "source": [
    "수많은 마라톤 선수들이 마라톤에 참여하였습니다. 단 한 명의 선수를 제외하고는 모든 선수가 마라톤을 완주하였습니다.\n",
    "\n",
    "마라톤에 참여한 선수들의 이름이 담긴 배열 participant와 완주한 선수들의 이름이 담긴 배열 completion이 주어질 때, 완주하지 못한 선수의 이름을 return 하도록 solution 함수를 작성해주세요.\n",
    "\n",
    "제한사항\n",
    "마라톤 경기에 참여한 선수의 수는 1명 이상 100,000명 이하입니다.\n",
    "completion의 길이는 participant의 길이보다 1 작습니다.\n",
    "참가자의 이름은 1개 이상 20개 이하의 알파벳 소문자로 이루어져 있습니다.\n",
    "참가자 중에는 동명이인이 있을 수 있습니다."
   ]
  },
  {
   "cell_type": "code",
   "execution_count": null,
   "metadata": {},
   "outputs": [],
   "source": [
    "def solution(participant, completion):\n",
    "    # Counter 방법(순회)\n",
    "    # 시간효율이 안 좋음\n",
    "    from collections import Counter\n",
    "    counter_part = Counter(participant)\n",
    "    counter_comp = Counter(completion)\n",
    "    for i in range(len(completion)):\n",
    "        if completion[i] in participant:\n",
    "            counter_part[completion[i]] -= 1\n",
    "    for item in counter_part.items():\n",
    "        if item[1] >= 1:\n",
    "            return item[0]"
   ]
  },
  {
   "cell_type": "code",
   "execution_count": null,
   "metadata": {},
   "outputs": [],
   "source": [
    "def solution(participant, completion):\n",
    "    # Counter 방법(차집합)\n",
    "    # 시간 효율 좋음\n",
    "    from collections import Counter\n",
    "    counter_part = Counter(participant)\n",
    "    counter_comp = Counter(completion)\n",
    "    for item in (counter_part - counter_comp).items():\n",
    "        return item[0]"
   ]
  }
 ],
 "metadata": {
  "language_info": {
   "name": "python"
  },
  "orig_nbformat": 4
 },
 "nbformat": 4,
 "nbformat_minor": 2
}
