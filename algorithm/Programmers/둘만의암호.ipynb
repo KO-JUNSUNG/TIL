{
 "cells": [
  {
   "attachments": {},
   "cell_type": "markdown",
   "metadata": {},
   "source": [
    "두 문자열 s와 skip, 그리고 자연수 index가 주어질 때, 다음 규칙에 따라 문자열을 만들려 합니다. 암호의 규칙은 다음과 같습니다.\n",
    "\n",
    "문자열 s의 각 알파벳을 index만큼 뒤의 알파벳으로 바꿔줍니다.\n",
    "index만큼의 뒤의 알파벳이 z를 넘어갈 경우 다시 a로 돌아갑니다.\n",
    "skip에 있는 알파벳은 제외하고 건너뜁니다.\n",
    "예를 들어 s = \"aukks\", skip = \"wbqd\", index = 5일 때, a에서 5만큼 뒤에 있는 알파벳은 f지만 [b, c, d, e, f]에서 'b'와 'd'는 skip에 포함되므로 세지 않습니다. 따라서 'b', 'd'를 제외하고 'a'에서 5만큼 뒤에 있는 알파벳은 [c, e, f, g, h] 순서에 의해 'h'가 됩니다. 나머지 \"ukks\" 또한 위 규칙대로 바꾸면 \"appy\"가 되며 결과는 \"happy\"가 됩니다.\n",
    "\n",
    "두 문자열 s와 skip, 그리고 자연수 index가 매개변수로 주어질 때 위 규칙대로 s를 변환한 결과를 return하도록 solution 함수를 완성해주세요."
   ]
  },
  {
   "cell_type": "code",
   "execution_count": null,
   "metadata": {},
   "outputs": [],
   "source": [
    "def solution(s, skip, index):\n",
    "    answer = \"\"\n",
    "    \n",
    "    alpha = \"abcdefghijklmnopqrstuvwxyz\" # 알파벳\n",
    "    \n",
    "    for ch in skip: # ch => skip의 문자 하나하나\n",
    "        if ch in alpha:\n",
    "            alpha = alpha.replace(ch, \"\") # 알파벳 안에 skip 문자들 제거\n",
    "    \n",
    "    for i in s:\n",
    "        change = alpha[(alpha.index(i) + index) % len(alpha)] # s의 문자 인덱스 + index를 alpha의 길이로 나눈 나머지를 알파벳으로 변환\n",
    "        answer += change\n",
    "    \n",
    "    return answer"
   ]
  }
 ],
 "metadata": {
  "language_info": {
   "name": "python"
  },
  "orig_nbformat": 4
 },
 "nbformat": 4,
 "nbformat_minor": 2
}
