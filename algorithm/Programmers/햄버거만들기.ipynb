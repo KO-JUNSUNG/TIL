{
 "cells": [
  {
   "cell_type": "code",
   "execution_count": null,
   "metadata": {},
   "outputs": [],
   "source": [
    "# 투포인터 \n",
    "# 시간 오버\n",
    "# 슬라이싱 대신 다른 방식으로 판별할 필요가 있음\n",
    "\n",
    "def solution(ingredient):\n",
    "    # 1 = 빵 2 = 야채 3 = 고기\n",
    "    # 1,2,3,1 순서로 들어온 것을 떼내서 만듦\n",
    "    result = 0\n",
    "    # 투 포인터\n",
    "    left = 0\n",
    "    right = left + 4\n",
    "    # 반복문 선언\n",
    "    while ingredient and left < right and (right <= len(ingredient)):\n",
    "        window = ingredient[left:right]\n",
    "        if window == [1,2,3,1]:\n",
    "            result += 1\n",
    "            ingredient = ingredient[:left] + ingredient[right:]\n",
    "            # 초기화\n",
    "            left = 0\n",
    "            right = left + 4\n",
    "        else:\n",
    "            left += 1\n",
    "            right += 1\n",
    "    return result\n",
    "    \n",
    "    "
   ]
  }
 ],
 "metadata": {
  "language_info": {
   "name": "python"
  },
  "orig_nbformat": 4
 },
 "nbformat": 4,
 "nbformat_minor": 2
}
