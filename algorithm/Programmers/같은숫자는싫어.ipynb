{
 "cells": [
  {
   "attachments": {},
   "cell_type": "markdown",
   "metadata": {},
   "source": [
    "- list comprehension의 표현식에 사용되는 변수는 해당 list comprehension의 for 문에 사용된 변수와 동일한 이름을 가져야 합니다.\n",
    "\n",
    "- __사용법__: __[표현식 for 항목 in iterable if 조건문]__"
   ]
  },
  {
   "cell_type": "code",
   "execution_count": 1,
   "metadata": {},
   "outputs": [],
   "source": [
    "def solution(arr):\n",
    "    # 스택\n",
    "    result = []\n",
    "    for num in arr:\n",
    "        if len(result) == 0 or num != result[-1]:\n",
    "            result.append(num)\n",
    "    return result"
   ]
  },
  {
   "attachments": {},
   "cell_type": "markdown",
   "metadata": {},
   "source": [
    "1. 위 코드에서는 result라는 새로운 리스트를 생성하여 중복된 연속된 숫자를 제거하고 원본 순서를 유지합니다. \n",
    "\n",
    "2. 반복문을 통해 각 숫자를 순회하면서, 현재 숫자와 result 리스트의 마지막 숫자를 비교하여 중복 여부를 확인합니다. \n",
    "\n",
    "3. 만약 result 리스트가 비어있거나 현재 숫자와 마지막 숫자가 다르다면, 현재 숫자를 result 리스트에 추가합니다.\n",
    "\n",
    "4. 이렇게 하면 중복된 연속된 숫자를 제거하고 남은 숫자들이 원본 순서를 유지하는 리스트가 생성됩니다. "
   ]
  },
  {
   "cell_type": "code",
   "execution_count": 2,
   "metadata": {},
   "outputs": [
    {
     "data": {
      "text/plain": [
       "[1, 3, 0, 1]"
      ]
     },
     "execution_count": 2,
     "metadata": {},
     "output_type": "execute_result"
    }
   ],
   "source": [
    "arr = [1, 1, 3, 3, 0, 1, 1]\n",
    "solution(arr)"
   ]
  },
  {
   "cell_type": "code",
   "execution_count": null,
   "metadata": {},
   "outputs": [],
   "source": []
  }
 ],
 "metadata": {
  "kernelspec": {
   "display_name": "base",
   "language": "python",
   "name": "python3"
  },
  "language_info": {
   "codemirror_mode": {
    "name": "ipython",
    "version": 3
   },
   "file_extension": ".py",
   "mimetype": "text/x-python",
   "name": "python",
   "nbconvert_exporter": "python",
   "pygments_lexer": "ipython3",
   "version": "3.9.13"
  },
  "orig_nbformat": 4
 },
 "nbformat": 4,
 "nbformat_minor": 2
}
