{
 "cells": [
  {
   "attachments": {},
   "cell_type": "markdown",
   "metadata": {},
   "source": [
    "※ SW Expert 아카데미의 문제를 무단 복제하는 것을 금지합니다.\n",
    "\n",
    "연월일 순으로 구성된 8자리의 날짜가 입력으로 주어진다.\n",
    " \n",
    "\n",
    "\n",
    "\n",
    "해당 날짜의 유효성을 판단한 후, 날짜가 유효하다면\n",
    "\n",
    "”YYYY/MM/DD”형식으로 출력하고,\n",
    "\n",
    "날짜가 유효하지 않을 경우, -1 을 출력하는 프로그램을 작성하라.\n",
    "\n",
    "\n",
    "연월일로 구성된 입력에서 월은 1~12 사이 값을 가져야 하며\n",
    "\n",
    "일은 1일 ~ 각각의 달에 해당하는 날짜까지의 값을 가질 수 있다.\n",
    "\n",
    "※ 2월의 경우, 28일인 경우만 고려한다. (윤년은 고려하지 않는다.)\n",
    "\n",
    "\n",
    "[입력]\n",
    "\n",
    "입력은 첫 줄에 총 테스트 케이스의 개수 T가 온다.\n",
    "\n",
    "다음 줄부터 각 테스트 케이스가 주어진다.\n",
    "\n",
    "\n",
    "[출력]\n",
    "\n",
    "테스트 케이스 t에 대한 결과는 “#t”을 찍고, 한 칸 띄고, 정답을 출력한다.\n",
    "\n",
    "(t는 테스트 케이스의 번호를 의미하며 1부터 시작한다.)"
   ]
  },
  {
   "cell_type": "code",
   "execution_count": 9,
   "metadata": {},
   "outputs": [
    {
     "data": {
      "text/plain": [
       "'2222/02/28'"
      ]
     },
     "execution_count": 9,
     "metadata": {},
     "output_type": "execute_result"
    }
   ],
   "source": [
    "import datetime as dt\n",
    "x=\"22220228\"  #dt.datetime()  int to datetime\n",
    "y=dt.datetime.strptime(x,'%Y%m%d') # string to datetime\n",
    "y.strftime('%Y/%m/%d')\n",
    "\n",
    "#에러가 나면 -1 을 돌려주게 설정만 하면 되겠다."
   ]
  },
  {
   "cell_type": "code",
   "execution_count": 10,
   "metadata": {},
   "outputs": [
    {
     "ename": "ValueError",
     "evalue": "time data '22220028' does not match format '%Y%m%d'",
     "output_type": "error",
     "traceback": [
      "\u001b[1;31m---------------------------------------------------------------------------\u001b[0m",
      "\u001b[1;31mValueError\u001b[0m                                Traceback (most recent call last)",
      "\u001b[1;32mc:\\Users\\KOJUNSUNG\\Desktop\\lab\\git\\TIL\\algorithm\\TIL_YMD.ipynb Cell 3\u001b[0m in \u001b[0;36m<cell line: 2>\u001b[1;34m()\u001b[0m\n\u001b[0;32m      <a href='vscode-notebook-cell:/c%3A/Users/KOJUNSUNG/Desktop/lab/git/TIL/algorithm/TIL_YMD.ipynb#W4sZmlsZQ%3D%3D?line=0'>1</a>\u001b[0m x\u001b[39m=\u001b[39m\u001b[39m\"\u001b[39m\u001b[39m22220028\u001b[39m\u001b[39m\"\u001b[39m  \u001b[39m#dt.datetime()  int to datetime\u001b[39;00m\n\u001b[1;32m----> <a href='vscode-notebook-cell:/c%3A/Users/KOJUNSUNG/Desktop/lab/git/TIL/algorithm/TIL_YMD.ipynb#W4sZmlsZQ%3D%3D?line=1'>2</a>\u001b[0m y\u001b[39m=\u001b[39mdt\u001b[39m.\u001b[39;49mdatetime\u001b[39m.\u001b[39;49mstrptime(x,\u001b[39m'\u001b[39;49m\u001b[39m%\u001b[39;49m\u001b[39mY\u001b[39;49m\u001b[39m%\u001b[39;49m\u001b[39mm\u001b[39;49m\u001b[39m%d\u001b[39;49;00m\u001b[39m'\u001b[39;49m) \u001b[39m# string to datetime\u001b[39;00m\n\u001b[0;32m      <a href='vscode-notebook-cell:/c%3A/Users/KOJUNSUNG/Desktop/lab/git/TIL/algorithm/TIL_YMD.ipynb#W4sZmlsZQ%3D%3D?line=2'>3</a>\u001b[0m y\u001b[39m.\u001b[39mstrftime(\u001b[39m'\u001b[39m\u001b[39m%\u001b[39m\u001b[39mY/\u001b[39m\u001b[39m%\u001b[39m\u001b[39mm/\u001b[39m\u001b[39m%d\u001b[39;00m\u001b[39m'\u001b[39m)\n",
      "File \u001b[1;32mc:\\Users\\KOJUNSUNG\\anaconda3\\lib\\_strptime.py:568\u001b[0m, in \u001b[0;36m_strptime_datetime\u001b[1;34m(cls, data_string, format)\u001b[0m\n\u001b[0;32m    565\u001b[0m \u001b[39mdef\u001b[39;00m \u001b[39m_strptime_datetime\u001b[39m(\u001b[39mcls\u001b[39m, data_string, \u001b[39mformat\u001b[39m\u001b[39m=\u001b[39m\u001b[39m\"\u001b[39m\u001b[39m%a\u001b[39;00m\u001b[39m \u001b[39m\u001b[39m%\u001b[39m\u001b[39mb \u001b[39m\u001b[39m%d\u001b[39;00m\u001b[39m \u001b[39m\u001b[39m%\u001b[39m\u001b[39mH:\u001b[39m\u001b[39m%\u001b[39m\u001b[39mM:\u001b[39m\u001b[39m%\u001b[39m\u001b[39mS \u001b[39m\u001b[39m%\u001b[39m\u001b[39mY\u001b[39m\u001b[39m\"\u001b[39m):\n\u001b[0;32m    566\u001b[0m     \u001b[39m\"\"\"Return a class cls instance based on the input string and the\u001b[39;00m\n\u001b[0;32m    567\u001b[0m \u001b[39m    format string.\"\"\"\u001b[39;00m\n\u001b[1;32m--> 568\u001b[0m     tt, fraction, gmtoff_fraction \u001b[39m=\u001b[39m _strptime(data_string, \u001b[39mformat\u001b[39;49m)\n\u001b[0;32m    569\u001b[0m     tzname, gmtoff \u001b[39m=\u001b[39m tt[\u001b[39m-\u001b[39m\u001b[39m2\u001b[39m:]\n\u001b[0;32m    570\u001b[0m     args \u001b[39m=\u001b[39m tt[:\u001b[39m6\u001b[39m] \u001b[39m+\u001b[39m (fraction,)\n",
      "File \u001b[1;32mc:\\Users\\KOJUNSUNG\\anaconda3\\lib\\_strptime.py:349\u001b[0m, in \u001b[0;36m_strptime\u001b[1;34m(data_string, format)\u001b[0m\n\u001b[0;32m    347\u001b[0m found \u001b[39m=\u001b[39m format_regex\u001b[39m.\u001b[39mmatch(data_string)\n\u001b[0;32m    348\u001b[0m \u001b[39mif\u001b[39;00m \u001b[39mnot\u001b[39;00m found:\n\u001b[1;32m--> 349\u001b[0m     \u001b[39mraise\u001b[39;00m \u001b[39mValueError\u001b[39;00m(\u001b[39m\"\u001b[39m\u001b[39mtime data \u001b[39m\u001b[39m%r\u001b[39;00m\u001b[39m does not match format \u001b[39m\u001b[39m%r\u001b[39;00m\u001b[39m\"\u001b[39m \u001b[39m%\u001b[39m\n\u001b[0;32m    350\u001b[0m                      (data_string, \u001b[39mformat\u001b[39m))\n\u001b[0;32m    351\u001b[0m \u001b[39mif\u001b[39;00m \u001b[39mlen\u001b[39m(data_string) \u001b[39m!=\u001b[39m found\u001b[39m.\u001b[39mend():\n\u001b[0;32m    352\u001b[0m     \u001b[39mraise\u001b[39;00m \u001b[39mValueError\u001b[39;00m(\u001b[39m\"\u001b[39m\u001b[39munconverted data remains: \u001b[39m\u001b[39m%s\u001b[39;00m\u001b[39m\"\u001b[39m \u001b[39m%\u001b[39m\n\u001b[0;32m    353\u001b[0m                       data_string[found\u001b[39m.\u001b[39mend():])\n",
      "\u001b[1;31mValueError\u001b[0m: time data '22220028' does not match format '%Y%m%d'"
     ]
    }
   ],
   "source": [
    "x=\"22220028\"  #dt.datetime()  int to datetime\n",
    "y=dt.datetime.strptime(x,'%Y%m%d') # string to datetime\n",
    "y.strftime('%Y/%m/%d') #datetime to string == date객체.__format__(format)\n",
    "#strptime= string parsed time ,strftime=string from time"
   ]
  },
  {
   "attachments": {},
   "cell_type": "markdown",
   "metadata": {},
   "source": [
    "- 입력은 첫 줄에 총 테스트 케이스의 개수 T가 온다.\n",
    "\n",
    "- 다음 줄부터 각 테스트 케이스가 주어진다.\n",
    "\n",
    "```python\n",
    "입력            \n",
    "5\n",
    "22220228\n",
    "20150002\n",
    "01010101\n",
    "20140230\n",
    "11111111    \n",
    "\n",
    "출력\n",
    "#1 2222/02/28\n",
    "#2 -1\n",
    "#3 0101/01/01\n",
    "#4 -1\n",
    "#5 1111/11/11\n",
    "\n",
    "```\n"
   ]
  },
  {
   "cell_type": "code",
   "execution_count": 15,
   "metadata": {},
   "outputs": [
    {
     "name": "stdout",
     "output_type": "stream",
     "text": [
      "#1 -1\n",
      "#2 -1\n"
     ]
    }
   ],
   "source": [
    "import datetime as dt\n",
    "T=int(input())\n",
    "for test_case in range(1,T+1):\n",
    "    Timedata=input()\n",
    "    try:\n",
    "        X=dt.datetime.strptime(Timedata,'%Y%m%d')\n",
    "        Y=X.strftime(\"%Y/%m/%d\")\n",
    "        print(f'#{test_case} {Y}')\n",
    "    except:\n",
    "        print(f'#{test_case} -1')\n"
   ]
  },
  {
   "cell_type": "code",
   "execution_count": 24,
   "metadata": {},
   "outputs": [
    {
     "name": "stdout",
     "output_type": "stream",
     "text": [
      "0101/01/01\n"
     ]
    }
   ],
   "source": [
    "Timedata=\"01010101\"\n",
    "X=dt.datetime.strptime(Timedata,'%Y%m%d')\n",
    "Y=X.strftime(\"%Y/%m/%d\")\n",
    "print(Y)"
   ]
  },
  {
   "cell_type": "code",
   "execution_count": 25,
   "metadata": {},
   "outputs": [
    {
     "data": {
      "text/plain": [
       "10"
      ]
     },
     "execution_count": 25,
     "metadata": {},
     "output_type": "execute_result"
    }
   ],
   "source": [
    "len(Y)"
   ]
  },
  {
   "cell_type": "code",
   "execution_count": 27,
   "metadata": {},
   "outputs": [
    {
     "data": {
      "text/plain": [
       "'0101/01/01'"
      ]
     },
     "execution_count": 27,
     "metadata": {},
     "output_type": "execute_result"
    }
   ],
   "source": [
    "Y.zfill(10)"
   ]
  },
  {
   "cell_type": "code",
   "execution_count": null,
   "metadata": {},
   "outputs": [],
   "source": []
  }
 ],
 "metadata": {
  "kernelspec": {
   "display_name": "base",
   "language": "python",
   "name": "python3"
  },
  "language_info": {
   "codemirror_mode": {
    "name": "ipython",
    "version": 3
   },
   "file_extension": ".py",
   "mimetype": "text/x-python",
   "name": "python",
   "nbconvert_exporter": "python",
   "pygments_lexer": "ipython3",
   "version": "3.9.12"
  },
  "orig_nbformat": 4,
  "vscode": {
   "interpreter": {
    "hash": "80cc27e9a0e8aa59b18a6f502b8a24c9fe77be3bcd87d0900d8763aa62f81a4d"
   }
  }
 },
 "nbformat": 4,
 "nbformat_minor": 2
}
