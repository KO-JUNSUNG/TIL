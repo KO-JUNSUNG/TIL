{
 "cells": [
  {
   "attachments": {},
   "cell_type": "markdown",
   "metadata": {},
   "source": [
    "어떤 문자열 A를 타이핑하려고 한다.\n",
    "\n",
    "그냥 한 글자씩 타이핑 한다면 A의 길이만큼 키를 눌러야 할 것이다.\n",
    "\n",
    "여기에 속도를 조금 더 높이기 위해 어떤 문자열 B가 저장되어 있어서 키를 한번 누른 것으로 B전체를 타이핑 할 수 있다.\n",
    "\n",
    "이미 타이핑 한 문자를 지우는 것은 불가능하다.\n",
    "\n",
    "예를 들어 A=”asakusa”, B=”sa”일 때, 다음 그림과 같이 B를 두 번 사용하면 5번 만에 A를 타이핑 할 수 있다.\n",
    " \n",
    "\n",
    "\n",
    "A와 B가 주어질 때 A 전체를 타이핑 하기 위해 키를 눌러야 하는 횟수의 최솟값을 구하여라.\n",
    "\n",
    "\n",
    "[입력]\n",
    "\n",
    "첫 번째 줄에 테스트 케이스의 수 T가 주어진다.\n",
    "\n",
    "각 테스트 케이스마다 첫 번째 줄에 두 문자열 A, B가 주어진다. A의 길이는 1이상 10,000이하, B의 길이는 1이상 100이하이다.\n",
    "\n",
    "\n",
    "[출력]\n",
    "\n",
    "각 테스트 케이스마다 A 전체를 타이핑 하기 위해 키를 눌러야 하는 횟수의 최솟값을 출력한다.\n",
    " \n",
    "\n",
    "입력\n",
    "\n",
    "2 //Test Case의 개수\n",
    "\n",
    "banana bana   //A=”banana”, B=”bana”\n",
    "\n",
    "asakusa sa\t//A=”asakusa”, B=”sa”\n",
    "\n",
    "출력\n",
    "\n",
    "#1 3  //Test Case 1번의 답\n",
    "\n",
    "#2 5  //Test Case 2번의 답"
   ]
  },
  {
   "cell_type": "code",
   "execution_count": 9,
   "metadata": {},
   "outputs": [
    {
     "name": "stdout",
     "output_type": "stream",
     "text": [
      "#1 3\n",
      "#2 5\n"
     ]
    }
   ],
   "source": [
    "## 변수\n",
    "T=int(input())\n",
    "\n",
    "## 함수\n",
    "\n",
    "## 메인\n",
    "\n",
    "for test in range(1,T+1):\n",
    "    data=input()\n",
    "    wanttofind=input()\n",
    "    answer=len(data)-(data.count(wanttofind)*(len(wanttofind)-1))\n",
    "    print(f'#{test} {answer}')"
   ]
  },
  {
   "cell_type": "code",
   "execution_count": 14,
   "metadata": {},
   "outputs": [
    {
     "name": "stdout",
     "output_type": "stream",
     "text": [
      "#1 3\n",
      "#2 5\n"
     ]
    }
   ],
   "source": [
    "#잘 보니 두번째 입력은 한번에 받는다. 이런.\n",
    "\n",
    "T=int(input())\n",
    "for test in range(1,T+1):\n",
    "    data,wanttofind=input().split(' ')\n",
    "    answer=len(data)-(data.count(wanttofind)*(len(wanttofind)-1))\n",
    "    print(f'#{test} {answer}')"
   ]
  },
  {
   "cell_type": "code",
   "execution_count": 12,
   "metadata": {},
   "outputs": [
    {
     "data": {
      "text/plain": [
       "2"
      ]
     },
     "execution_count": 12,
     "metadata": {},
     "output_type": "execute_result"
    }
   ],
   "source": [
    "banana=6\n",
    "bana=4\n",
    "ans=3\n",
    "#bana, n,a\n",
    "asakusa=7\n",
    "sa=2\n",
    "ans=5\n",
    "# a, sa, k,u, sa"
   ]
  },
  {
   "cell_type": "code",
   "execution_count": 5,
   "metadata": {},
   "outputs": [],
   "source": [
    "a=(input())"
   ]
  },
  {
   "cell_type": "code",
   "execution_count": 2,
   "metadata": {},
   "outputs": [
    {
     "data": {
      "text/plain": [
       "['h', 'e', 'l', 'l', 'o']"
      ]
     },
     "execution_count": 2,
     "metadata": {},
     "output_type": "execute_result"
    }
   ],
   "source": [
    "a"
   ]
  },
  {
   "cell_type": "code",
   "execution_count": 8,
   "metadata": {},
   "outputs": [
    {
     "data": {
      "text/plain": [
       "'hello'"
      ]
     },
     "execution_count": 8,
     "metadata": {},
     "output_type": "execute_result"
    }
   ],
   "source": [
    "a"
   ]
  },
  {
   "cell_type": "code",
   "execution_count": null,
   "metadata": {},
   "outputs": [],
   "source": [
    "# 강사의 정답\n",
    "\n",
    "T = int(input())\n",
    "# 여러개의 테스트 케이스가 주어지므로, 각각을 처리합니다.\n",
    "for test_case in range(1, T + 1):\n",
    "    text = input().split()\n",
    "    count = text[0].count(text[1])\n",
    "    result= len(text[0]) - len(text[1])*count + count\n",
    "    print(f\"#{test_case} {result}\")"
   ]
  }
 ],
 "metadata": {
  "kernelspec": {
   "display_name": "base",
   "language": "python",
   "name": "python3"
  },
  "language_info": {
   "codemirror_mode": {
    "name": "ipython",
    "version": 3
   },
   "file_extension": ".py",
   "mimetype": "text/x-python",
   "name": "python",
   "nbconvert_exporter": "python",
   "pygments_lexer": "ipython3",
   "version": "3.9.12 (main, Apr  4 2022, 05:22:27) [MSC v.1916 64 bit (AMD64)]"
  },
  "orig_nbformat": 4,
  "vscode": {
   "interpreter": {
    "hash": "80cc27e9a0e8aa59b18a6f502b8a24c9fe77be3bcd87d0900d8763aa62f81a4d"
   }
  }
 },
 "nbformat": 4,
 "nbformat_minor": 2
}
