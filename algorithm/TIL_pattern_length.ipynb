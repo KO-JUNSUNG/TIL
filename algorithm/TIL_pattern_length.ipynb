{
 "cells": [
  {
   "attachments": {},
   "cell_type": "markdown",
   "metadata": {},
   "source": [
    "패턴에서 반복되는 부분을 마디라고 부른다. 문자열을 입력 받아 마디의 길이를 출력하는 프로그램을 작성하라.\n",
    "\n",
    "\n",
    "[제약 사항]\n",
    "\n",
    "각 문자열의 길이는 30이다. 마디의 최대 길이는 10이다.\n",
    "\n",
    "\n",
    "[입력]\n",
    "\n",
    "가장 첫 줄에는 테스트 케이스의 개수 T가 주어지고, 그 아래로 각 테스트 케이스가 주어진다.\n",
    "\n",
    "각 테스트 케이스의 첫 번째 줄에는 길이가 30인 문자열이 주어진다.\n",
    "\n",
    "\n",
    "[출력]\n",
    "\n",
    "출력의 각 줄은 '#t'로 시작하고, 공백을 한 칸 둔 다음 정답을 출력한다.\n",
    "\n",
    "(t는 테스트 케이스의 번호를 의미하며 1부터 시작한다.)\n",
    "\n",
    "입력\n",
    "\n",
    "3      \n",
    "\n",
    "KOREAKOREAKOREAKOREAKOREAKOREA\n",
    "\n",
    "SAMSUNGSAMSUNGSAMSUNGSAMSUNGSA\n",
    "\n",
    "GALAXYGALAXYGALAXYGALAXYGALAXY  \n",
    "\n",
    "\n",
    "출력\n",
    "\n",
    "#1 5\n",
    "\n",
    "#2 7\n",
    "\n",
    "#3 6\n",
    "\n",
    "\n"
   ]
  },
  {
   "cell_type": "code",
   "execution_count": null,
   "metadata": {},
   "outputs": [],
   "source": [
    "# KOREA=5, SAMSUNG=7, GALAXY=6\n",
    "for i in range(1, int(input())):\n",
    "    data=f'{input():30}' #input을 30개의 공간을 통해 받음.\n",
    "    for j in range(1,10): #0~9\n",
    "        if data[:j]==data[j:2*j]: #string 의 i번째 전까지의 원소가 i부터 2*i 이전까지의 원소와 일치한다면 그것이 최초로 나온 패턴이 될 것이다.\n",
    "            print(f'#{i} {j}')\n",
    "            break #정답이 나오면 탈출한다."
   ]
  },
  {
   "cell_type": "code",
   "execution_count": 3,
   "metadata": {},
   "outputs": [
    {
     "name": "stdout",
     "output_type": "stream",
     "text": [
      "['h', 'e', 'l', 'l', 'o'] <class 'list'>\n"
     ]
    }
   ],
   "source": [
    "a=list(input())\n",
    "print(a, type(a))\n"
   ]
  },
  {
   "cell_type": "code",
   "execution_count": 4,
   "metadata": {},
   "outputs": [
    {
     "data": {
      "text/plain": [
       "['h']"
      ]
     },
     "execution_count": 4,
     "metadata": {},
     "output_type": "execute_result"
    }
   ],
   "source": [
    "a[:1]"
   ]
  },
  {
   "attachments": {},
   "cell_type": "markdown",
   "metadata": {},
   "source": [
    "원소가 한번이라도 등장했다면 패턴이라고 보아야 한다.\n",
    "\n",
    "count 1 이상이면 패턴. -> 이런 방식은 너무 메모리를 많이 잡아먹는다.\n",
    "\n",
    "i=1~10 (10=최대 글자수)이라고 할 때\n",
    "\n",
    "string 의 i번째 전까지의 원소가 i부터 2*i 이전까지의 원소와 일치한다면 그것이 최초로 나온 패턴이 될 것이다.\n",
    "\n",
    "K='KOREAKOREAKOREAKOREAKOREAKOREA' 를 예시로 보자.\n",
    "\n",
    "K[:1]= 0'K'  K[1:2]=1'O'\n",
    "\n",
    "K[:2]= 01'KO'  K[2:4]=23'RE'\n",
    "\n",
    "K[:3]= 012'KOR' K[3:6]=345 'EAK'\n",
    "\n",
    "K[:4]= 0123 'KORE' K[4:8]=4567 'AKORE'\n",
    "\n",
    "K[:5]= 01234 'KOREA' K[5:10]=56789 'KOREA' 일치\n",
    "\n",
    "\n",
    "이렇게 된다. 왜 이렇게 되는가?\n",
    "\n",
    "i가 pattern 의 length다. 패턴이 반복되어서 string을 형성한다고 할 때, 패턴이 두 번 나오려면 최소 2*length 만큼은 진행이 되어야 한다.\n",
    "\n",
    "숫자는 0부터 시작하므로 0123456789 가 length가 10이므로 이를 슬라이싱으로 나타내면 위와 같이 될 것이다."
   ]
  }
 ],
 "metadata": {
  "kernelspec": {
   "display_name": "base",
   "language": "python",
   "name": "python3"
  },
  "language_info": {
   "codemirror_mode": {
    "name": "ipython",
    "version": 3
   },
   "file_extension": ".py",
   "mimetype": "text/x-python",
   "name": "python",
   "nbconvert_exporter": "python",
   "pygments_lexer": "ipython3",
   "version": "3.9.12"
  },
  "orig_nbformat": 4,
  "vscode": {
   "interpreter": {
    "hash": "80cc27e9a0e8aa59b18a6f502b8a24c9fe77be3bcd87d0900d8763aa62f81a4d"
   }
  }
 },
 "nbformat": 4,
 "nbformat_minor": 2
}
