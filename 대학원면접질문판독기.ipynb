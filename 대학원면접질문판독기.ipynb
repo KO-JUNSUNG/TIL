{
 "cells": [
  {
   "cell_type": "markdown",
   "metadata": {},
   "source": [
    "1. \n",
    "2. \n",
    "3. \n",
    "4. \n",
    "5. \n",
    "6. \n",
    "7. \n",
    "8. \n",
    "9. \n",
    "10. \n",
    "11. \n",
    "12. \n",
    "13. \n",
    "14. \n",
    "15.  \n",
    "16. \n",
    "17. \n",
    "18. \n",
    "19. \n",
    "20. "
   ]
  },
  {
   "cell_type": "code",
   "execution_count": null,
   "metadata": {},
   "outputs": [],
   "source": [
    "# 참고 코드 1\n",
    "\n",
    "questions = ['질문1', '질문2', '질문3']\n",
    "answers = ['정답1', '정답2', '정답3']\n",
    "\n",
    "def ask_question(question_index):\n",
    "    print(questions[question_index])\n",
    "    answer = input()\n",
    "    if answer in answers:\n",
    "        print('정답입니다!')\n",
    "        if question_index < len(questions) - 1:\n",
    "            ask_question(question_index + 1)\n",
    "    else:\n",
    "        print('오답입니다. 다시 시도해보세요.')\n",
    "        ask_question(question_index)\n"
   ]
  },
  {
   "cell_type": "code",
   "execution_count": null,
   "metadata": {},
   "outputs": [],
   "source": [
    "# 참고 코드 2\n",
    "\n",
    "import re\n",
    "\n",
    "keywords = ['키워드1', '키워드2', '키워드3']\n",
    "\n",
    "def check_answer(sentence):\n",
    "    for keyword in keywords:\n",
    "        if re.search(keyword, sentence):\n",
    "            return True\n",
    "    return False\n"
   ]
  },
  {
   "cell_type": "code",
   "execution_count": null,
   "metadata": {},
   "outputs": [],
   "source": [
    "# 참고 코드 3\n",
    "\n",
    "import random\n",
    "\n",
    "qa_dict = {\n",
    "    \"대학원 면접은 어떻게 준비해야 하나요?\": [\"면접 연습\", \"자기소개서 작성\", \"학문적 역량 강화\"],\n",
    "    \"본인의 연구 관심사는 무엇인가요?\": [\"연구 주제\", \"연구 분야\", \"연구 관심사\"],\n",
    "    # 다른 질문들과 그에 대한 키워드를 추가\n",
    "}\n",
    "\n",
    "def get_random_question():\n",
    "    return random.choice(list(qa_dict.keys()))\n",
    "\n",
    "def main():\n",
    "    while True:\n",
    "        question = get_random_question()\n",
    "        print(f\"질문: {question}\")\n",
    "        user_answer = input(\"답변을 입력하세요: \")\n",
    "        \n",
    "        if user_answer in qa_dict[question]:\n",
    "            print(\"correct\\n\")\n",
    "        else:\n",
    "            print(\"negative\\n\")\n",
    "        \n",
    "        next_question = input(\"다음 질문을 받아보시겠습니까? (y/n): \")\n",
    "        if next_question.lower() != 'y':\n",
    "            break\n",
    "\n",
    "if __name__ == \"__main__\":\n",
    "    main()\n"
   ]
  },
  {
   "cell_type": "code",
   "execution_count": 7,
   "metadata": {},
   "outputs": [],
   "source": [
    "import random\n",
    "\n",
    "qa_dict = {\n",
    "    \"대학원 면접은 어떻게 준비해야 하나요?\": [\"면접 연습\", \"자기소개서 작성\", \"학문적 역량 강화\"],\n",
    "    \"본인의 연구 관심사는 무엇인가요?\": [\"연구 주제\", \"연구 분야\", \"연구 관심사\"],\n",
    "    # 다른 질문들과 그에 대한 키워드를 추가\n",
    "}\n",
    "\n",
    "not_used_yet = list(qa_dict.keys())\n",
    "\n",
    "def get_random_question():\n",
    "    random_question = random.choice(not_used_yet)\n",
    "    not_used_yet.remove(random_question) \n",
    "    return random_question\n",
    "\n",
    "def main():\n",
    "    \n",
    "    while (not not_used_yet):\n",
    "        question = get_random_question()\n",
    "        print(f\"질문: {question}\")\n",
    "        user_answer = input(\"답변을 입력하세요: \")\n",
    "        \n",
    "        if user_answer in qa_dict[question]:\n",
    "            print(\"correct\\n\")\n",
    "        else:\n",
    "            print(\"negative\\n\")\n",
    "            print(f'정답 키워드: {not_used_yet[question]}')\n",
    "\n",
    "        next_question = input(\"다음 질문을 받아보시겠습니까? (y/n): \")\n",
    "        if (next_question.lower() == 'y'):\n",
    "            print(f'남은 문제 수: {len(not_used_yet)}')\n",
    "            main()\n",
    "        else:\n",
    "            break\n",
    "\n",
    "if __name__ == \"__main__\":\n",
    "    main()\n"
   ]
  },
  {
   "cell_type": "code",
   "execution_count": 6,
   "metadata": {},
   "outputs": [
    {
     "name": "stdout",
     "output_type": "stream",
     "text": [
      "['본인의 연구 관심사는 무엇인가요?']\n"
     ]
    }
   ],
   "source": [
    "import random\n",
    "\n",
    "qa_dict = {\n",
    "    \"대학원 면접은 어떻게 준비해야 하나요?\": [\"면접 연습\", \"자기소개서 작성\", \"학문적 역량 강화\"],\n",
    "    \"본인의 연구 관심사는 무엇인가요?\": [\"연구 주제\", \"연구 분야\", \"연구 관심사\"],\n",
    "    # 다른 질문들과 그에 대한 키워드를 추가\n",
    "}\n",
    "\n",
    "not_used_yet = list(qa_dict.keys())\n",
    "\n",
    "def get_random_question():\n",
    "    random_question = random.choice(not_used_yet) \n",
    "    not_used_yet.remove(random_question)\n",
    "    return random_question\n",
    "\n",
    "get_random_question()\n",
    "\n",
    "print(not_used_yet)"
   ]
  },
  {
   "cell_type": "code",
   "execution_count": null,
   "metadata": {},
   "outputs": [],
   "source": []
  }
 ],
 "metadata": {
  "kernelspec": {
   "display_name": "py",
   "language": "python",
   "name": "python3"
  },
  "language_info": {
   "codemirror_mode": {
    "name": "ipython",
    "version": 3
   },
   "file_extension": ".py",
   "mimetype": "text/x-python",
   "name": "python",
   "nbconvert_exporter": "python",
   "pygments_lexer": "ipython3",
   "version": "3.9.0"
  }
 },
 "nbformat": 4,
 "nbformat_minor": 2
}
