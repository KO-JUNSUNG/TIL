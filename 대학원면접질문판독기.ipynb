{
 "cells": [
  {
   "cell_type": "markdown",
   "metadata": {},
   "source": [
    "1. \n",
    "2. \n",
    "3. \n",
    "4. \n",
    "5. \n",
    "6. \n",
    "7. \n",
    "8. \n",
    "9. \n",
    "10. \n",
    "11. \n",
    "12. \n",
    "13. \n",
    "14. \n",
    "15.  \n",
    "16. \n",
    "17. \n",
    "18. \n",
    "19. \n",
    "20. "
   ]
  },
  {
   "cell_type": "code",
   "execution_count": null,
   "metadata": {},
   "outputs": [],
   "source": [
    "# 참고 코드 1\n",
    "\n",
    "questions = ['질문1', '질문2', '질문3']\n",
    "answers = ['정답1', '정답2', '정답3']\n",
    "\n",
    "def ask_question(question_index):\n",
    "    print(questions[question_index])\n",
    "    answer = input()\n",
    "    if answer in answers:\n",
    "        print('정답입니다!')\n",
    "        if question_index < len(questions) - 1:\n",
    "            ask_question(question_index + 1)\n",
    "    else:\n",
    "        print('오답입니다. 다시 시도해보세요.')\n",
    "        ask_question(question_index)\n"
   ]
  },
  {
   "cell_type": "code",
   "execution_count": null,
   "metadata": {},
   "outputs": [],
   "source": [
    "# 참고 코드 2\n",
    "\n",
    "import re\n",
    "\n",
    "keywords = ['키워드1', '키워드2', '키워드3']\n",
    "\n",
    "def check_answer(sentence):\n",
    "    for keyword in keywords:\n",
    "        if re.search(keyword, sentence):\n",
    "            return True\n",
    "    return False\n"
   ]
  },
  {
   "cell_type": "code",
   "execution_count": null,
   "metadata": {},
   "outputs": [],
   "source": [
    "# 참고 코드 3\n",
    "\n",
    "import random\n",
    "\n",
    "qa_dict = {\n",
    "    \"대학원 면접은 어떻게 준비해야 하나요?\": [\"면접 연습\", \"자기소개서 작성\", \"학문적 역량 강화\"],\n",
    "    \"본인의 연구 관심사는 무엇인가요?\": [\"연구 주제\", \"연구 분야\", \"연구 관심사\"],\n",
    "    # 다른 질문들과 그에 대한 키워드를 추가\n",
    "}\n",
    "\n",
    "def get_random_question():\n",
    "    return random.choice(list(qa_dict.keys()))\n",
    "\n",
    "def main():\n",
    "    while True:\n",
    "        question = get_random_question()\n",
    "        print(f\"질문: {question}\")\n",
    "        user_answer = input(\"답변을 입력하세요: \")\n",
    "        \n",
    "        if user_answer in qa_dict[question]:\n",
    "            print(\"correct\\n\")\n",
    "        else:\n",
    "            print(\"negative\\n\")\n",
    "        \n",
    "        next_question = input(\"다음 질문을 받아보시겠습니까? (y/n): \")\n",
    "        if next_question.lower() != 'y':\n",
    "            break\n",
    "\n",
    "if __name__ == \"__main__\":\n",
    "    main()\n"
   ]
  },
  {
   "cell_type": "code",
   "execution_count": null,
   "metadata": {},
   "outputs": [],
   "source": [
    "import random\n",
    "\n",
    "qa_dict = {\n",
    "    \"대학원 면접은 어떻게 준비해야 하나요?\": [\"면접 연습\", \"자기소개서 작성\", \"학문적 역량 강화\"],\n",
    "    \"본인의 연구 관심사는 무엇인가요?\": [\"연구 주제\", \"연구 분야\", \"연구 관심사\"],\n",
    "    # 다른 질문들과 그에 대한 키워드를 추가\n",
    "}\n",
    "\n",
    "not_used_yet = list(qa_dict.keys())\n",
    "\n",
    "def get_random_question():\n",
    "    random_question = random.choice(not_used_yet)\n",
    "    not_used_yet = list(set(not_used_yet) - set(random_question)) \n",
    "    return random_question\n",
    "\n",
    "def main():\n",
    "    \n",
    "    while True:\n",
    "        question = get_random_question()\n",
    "        print(f\"질문: {question}\")\n",
    "        user_answer = input(\"답변을 입력하세요: \")\n",
    "        \n",
    "        if user_answer in qa_dict[question]:\n",
    "            print(\"correct\\n\")\n",
    "        else:\n",
    "            print(\"negative\\n\")\n",
    "        \n",
    "        next_question = input(\"다음 질문을 받아보시겠습니까? (y/n): \")\n",
    "        if (next_question.lower() != 'y') or (not not_used_yet):\n",
    "            break\n",
    "\n",
    "if __name__ == \"__main__\":\n",
    "    main()\n"
   ]
  },
  {
   "cell_type": "code",
   "execution_count": 4,
   "metadata": {},
   "outputs": [
    {
     "ename": "UnboundLocalError",
     "evalue": "local variable 'not_used_yet' referenced before assignment",
     "output_type": "error",
     "traceback": [
      "\u001b[0;31m---------------------------------------------------------------------------\u001b[0m",
      "\u001b[0;31mUnboundLocalError\u001b[0m                         Traceback (most recent call last)",
      "\u001b[1;32m/mnt/d/TIL/대학원면접질문판독기.ipynb 셀 6\u001b[0m line \u001b[0;36m1\n\u001b[1;32m     <a href='vscode-notebook-cell://wsl%2Bubuntu-22.04/mnt/d/TIL/%EB%8C%80%ED%95%99%EC%9B%90%EB%A9%B4%EC%A0%91%EC%A7%88%EB%AC%B8%ED%8C%90%EB%8F%85%EA%B8%B0.ipynb#W5sdnNjb2RlLXJlbW90ZQ%3D%3D?line=12'>13</a>\u001b[0m     not_used_yet \u001b[39m=\u001b[39m \u001b[39mlist\u001b[39m(\u001b[39mset\u001b[39m(not_used_yet) \u001b[39m-\u001b[39m \u001b[39mset\u001b[39m(random_question)) \n\u001b[1;32m     <a href='vscode-notebook-cell://wsl%2Bubuntu-22.04/mnt/d/TIL/%EB%8C%80%ED%95%99%EC%9B%90%EB%A9%B4%EC%A0%91%EC%A7%88%EB%AC%B8%ED%8C%90%EB%8F%85%EA%B8%B0.ipynb#W5sdnNjb2RlLXJlbW90ZQ%3D%3D?line=13'>14</a>\u001b[0m     \u001b[39mreturn\u001b[39;00m random_question\n\u001b[0;32m---> <a href='vscode-notebook-cell://wsl%2Bubuntu-22.04/mnt/d/TIL/%EB%8C%80%ED%95%99%EC%9B%90%EB%A9%B4%EC%A0%91%EC%A7%88%EB%AC%B8%ED%8C%90%EB%8F%85%EA%B8%B0.ipynb#W5sdnNjb2RlLXJlbW90ZQ%3D%3D?line=15'>16</a>\u001b[0m get_random_question()\n\u001b[1;32m     <a href='vscode-notebook-cell://wsl%2Bubuntu-22.04/mnt/d/TIL/%EB%8C%80%ED%95%99%EC%9B%90%EB%A9%B4%EC%A0%91%EC%A7%88%EB%AC%B8%ED%8C%90%EB%8F%85%EA%B8%B0.ipynb#W5sdnNjb2RlLXJlbW90ZQ%3D%3D?line=17'>18</a>\u001b[0m \u001b[39mprint\u001b[39m(not_used_yet)\n",
      "\u001b[1;32m/mnt/d/TIL/대학원면접질문판독기.ipynb 셀 6\u001b[0m line \u001b[0;36m1\n\u001b[1;32m     <a href='vscode-notebook-cell://wsl%2Bubuntu-22.04/mnt/d/TIL/%EB%8C%80%ED%95%99%EC%9B%90%EB%A9%B4%EC%A0%91%EC%A7%88%EB%AC%B8%ED%8C%90%EB%8F%85%EA%B8%B0.ipynb#W5sdnNjb2RlLXJlbW90ZQ%3D%3D?line=10'>11</a>\u001b[0m \u001b[39mdef\u001b[39;00m \u001b[39mget_random_question\u001b[39m():\n\u001b[0;32m---> <a href='vscode-notebook-cell://wsl%2Bubuntu-22.04/mnt/d/TIL/%EB%8C%80%ED%95%99%EC%9B%90%EB%A9%B4%EC%A0%91%EC%A7%88%EB%AC%B8%ED%8C%90%EB%8F%85%EA%B8%B0.ipynb#W5sdnNjb2RlLXJlbW90ZQ%3D%3D?line=11'>12</a>\u001b[0m     random_question \u001b[39m=\u001b[39m random\u001b[39m.\u001b[39mchoice(not_used_yet)\n\u001b[1;32m     <a href='vscode-notebook-cell://wsl%2Bubuntu-22.04/mnt/d/TIL/%EB%8C%80%ED%95%99%EC%9B%90%EB%A9%B4%EC%A0%91%EC%A7%88%EB%AC%B8%ED%8C%90%EB%8F%85%EA%B8%B0.ipynb#W5sdnNjb2RlLXJlbW90ZQ%3D%3D?line=12'>13</a>\u001b[0m     not_used_yet \u001b[39m=\u001b[39m \u001b[39mlist\u001b[39m(\u001b[39mset\u001b[39m(not_used_yet) \u001b[39m-\u001b[39m \u001b[39mset\u001b[39m(random_question)) \n\u001b[1;32m     <a href='vscode-notebook-cell://wsl%2Bubuntu-22.04/mnt/d/TIL/%EB%8C%80%ED%95%99%EC%9B%90%EB%A9%B4%EC%A0%91%EC%A7%88%EB%AC%B8%ED%8C%90%EB%8F%85%EA%B8%B0.ipynb#W5sdnNjb2RlLXJlbW90ZQ%3D%3D?line=13'>14</a>\u001b[0m     \u001b[39mreturn\u001b[39;00m random_question\n",
      "\u001b[0;31mUnboundLocalError\u001b[0m: local variable 'not_used_yet' referenced before assignment"
     ]
    }
   ],
   "source": [
    "import random\n",
    "\n",
    "qa_dict = {\n",
    "    \"대학원 면접은 어떻게 준비해야 하나요?\": [\"면접 연습\", \"자기소개서 작성\", \"학문적 역량 강화\"],\n",
    "    \"본인의 연구 관심사는 무엇인가요?\": [\"연구 주제\", \"연구 분야\", \"연구 관심사\"],\n",
    "    # 다른 질문들과 그에 대한 키워드를 추가\n",
    "}\n",
    "\n",
    "not_used_yet = list(qa_dict.keys())\n",
    "\n",
    "def get_random_question():\n",
    "    random_question = random.choice(not_used_yet)\n",
    "    not_used_yet = list(set(not_used_yet) - set(random_question)) \n",
    "    return random_question\n",
    "\n",
    "get_random_question()\n",
    "\n",
    "print(not_used_yet)"
   ]
  },
  {
   "cell_type": "code",
   "execution_count": null,
   "metadata": {},
   "outputs": [],
   "source": []
  }
 ],
 "metadata": {
  "kernelspec": {
   "display_name": "py",
   "language": "python",
   "name": "python3"
  },
  "language_info": {
   "codemirror_mode": {
    "name": "ipython",
    "version": 3
   },
   "file_extension": ".py",
   "mimetype": "text/x-python",
   "name": "python",
   "nbconvert_exporter": "python",
   "pygments_lexer": "ipython3",
   "version": "3.9.0"
  }
 },
 "nbformat": 4,
 "nbformat_minor": 2
}
