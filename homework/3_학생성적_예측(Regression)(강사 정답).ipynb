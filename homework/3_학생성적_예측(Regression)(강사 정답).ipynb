{
  "cells": [
    {
      "cell_type": "markdown",
      "metadata": {
        "id": "qM0rGh_jBE1s"
      },
      "source": [
        "- https://www.datamanim.com/dataset/03_dataq/typetwo.html#id15"
      ]
    },
    {
      "cell_type": "code",
      "execution_count": null,
      "metadata": {
        "id": "ce6fblztBE1w",
        "outputId": "53b2a5c5-478b-4af2-d8f9-607fec3711d8"
      },
      "outputs": [
        {
          "name": "stdout",
          "output_type": "stream",
          "text": [
            "Requirement already satisfied: xgboost in c:\\users\\apollo\\anaconda3\\envs\\tensorflow\\lib\\site-packages (1.7.2)\n",
            "Requirement already satisfied: numpy in c:\\users\\apollo\\anaconda3\\envs\\tensorflow\\lib\\site-packages (from xgboost) (1.23.5)\n",
            "Requirement already satisfied: scipy in c:\\users\\apollo\\anaconda3\\envs\\tensorflow\\lib\\site-packages (from xgboost) (1.9.3)\n"
          ]
        }
      ],
      "source": [
        "!pip install xgboost"
      ]
    },
    {
      "cell_type": "markdown",
      "metadata": {
        "id": "yPDM5TAOBE1x"
      },
      "source": [
        "# 4. 학생성적 예측 데이터(Regression)\n",
        "\n",
        "> Attention\n",
        "- 데이터 설명 : 학생성적 예측 (종속변수 :G3)\n",
        "- 데이터 출처 : https://www.kaggle.com/datasets/ishandutta/student-performance-data-set (참고, 데이터 수정)\n",
        "- X_train : https://raw.githubusercontent.com/Datamanim/datarepo/main/studentscore/X_train.csv\n",
        "- y_train : https://raw.githubusercontent.com/Datamanim/datarepo/main/studentscore/y_train.csv\n",
        "- X_test : https://raw.githubusercontent.com/Datamanim/datarepo/main/studentscore/X_test.csv\n",
        "- y_test(평가용) : https://raw.githubusercontent.com/Datamanim/datarepo/main/studentscore/y_test.csv"
      ]
    },
    {
      "cell_type": "markdown",
      "metadata": {
        "id": "mD5uLaBwBE1y"
      },
      "source": [
        "#### 0. 시험 환경 세팅"
      ]
    },
    {
      "cell_type": "code",
      "execution_count": null,
      "metadata": {
        "id": "DortDGo6BE1y",
        "outputId": "6ae17cf1-f8fe-42ea-e811-90f9c8a0cd44"
      },
      "outputs": [
        {
          "data": {
            "text/plain": [
              "((678, 33), (678, 2), (366, 33), (366, 2))"
            ]
          },
          "execution_count": 75,
          "metadata": {},
          "output_type": "execute_result"
        }
      ],
      "source": [
        "import pandas as pd\n",
        "\n",
        "X_train = pd.read_csv(\"https://raw.githubusercontent.com/Datamanim/datarepo/main/studentscore/X_train.csv\")\n",
        "y_train = pd.read_csv(\"https://raw.githubusercontent.com/Datamanim/datarepo/main/studentscore/y_train.csv\")\n",
        "X_test = pd.read_csv(\"https://raw.githubusercontent.com/Datamanim/datarepo/main/studentscore/X_test.csv\")\n",
        "y_test = pd.read_csv(\"https://raw.githubusercontent.com/Datamanim/datarepo/main/studentscore/y_test.csv\")\n",
        "\n",
        "X_train.shape, y_train.shape, X_test.shape, y_test.shape"
      ]
    },
    {
      "cell_type": "markdown",
      "metadata": {
        "id": "p7LzLBTYBE1z"
      },
      "source": [
        "#### 1. 라이브러리 및 데이터 호출"
      ]
    },
    {
      "cell_type": "code",
      "execution_count": null,
      "metadata": {
        "id": "9_nTx_CnBE10"
      },
      "outputs": [],
      "source": [
        "import numpy as np\n",
        "import pandas as pd"
      ]
    },
    {
      "cell_type": "code",
      "execution_count": null,
      "metadata": {
        "id": "nh5rCKOcBE10",
        "outputId": "63e23c5a-e556-4d60-efb9-b1444dc30e7d"
      },
      "outputs": [
        {
          "data": {
            "text/plain": [
              "((678, 32),\n",
              " (366, 32),\n",
              " (678,),\n",
              " 0      16\n",
              " 1      11\n",
              " 2      14\n",
              " 3       6\n",
              " 4      11\n",
              "        ..\n",
              " 361    15\n",
              " 362    11\n",
              " 363    17\n",
              " 364     8\n",
              " 365    14\n",
              " Name: G3, Length: 366, dtype: int64)"
            ]
          },
          "execution_count": 77,
          "metadata": {},
          "output_type": "execute_result"
        }
      ],
      "source": [
        "X_train.drop('StudentID', axis=1, inplace=True)\n",
        "X_test.drop('StudentID', axis=1, inplace=True)\n",
        "\n",
        "y = y_train['G3']\n",
        "y_test = y_test['G3']\n",
        "\n",
        "X_train.shape, X_test.shape, y.shape, y_test"
      ]
    },
    {
      "cell_type": "markdown",
      "metadata": {
        "id": "--A6SDI-BE11"
      },
      "source": [
        "#### 2. EDA"
      ]
    },
    {
      "cell_type": "code",
      "execution_count": null,
      "metadata": {
        "id": "1kZk9VbiBE11",
        "outputId": "c3b94a9b-6323-4081-d8a4-c6a3498f0244"
      },
      "outputs": [
        {
          "name": "stdout",
          "output_type": "stream",
          "text": [
            "<class 'pandas.core.frame.DataFrame'>\n",
            "RangeIndex: 678 entries, 0 to 677\n",
            "Data columns (total 32 columns):\n",
            " #   Column      Non-Null Count  Dtype \n",
            "---  ------      --------------  ----- \n",
            " 0   school      678 non-null    object\n",
            " 1   sex         678 non-null    object\n",
            " 2   age         678 non-null    int64 \n",
            " 3   address     678 non-null    object\n",
            " 4   famsize     678 non-null    object\n",
            " 5   Pstatus     678 non-null    object\n",
            " 6   Medu        678 non-null    int64 \n",
            " 7   Fedu        678 non-null    int64 \n",
            " 8   Mjob        678 non-null    object\n",
            " 9   Fjob        678 non-null    object\n",
            " 10  reason      678 non-null    object\n",
            " 11  guardian    678 non-null    object\n",
            " 12  traveltime  678 non-null    int64 \n",
            " 13  studytime   678 non-null    int64 \n",
            " 14  failures    678 non-null    int64 \n",
            " 15  schoolsup   678 non-null    object\n",
            " 16  famsup      678 non-null    object\n",
            " 17  paid        678 non-null    object\n",
            " 18  activities  678 non-null    object\n",
            " 19  nursery     678 non-null    object\n",
            " 20  higher      678 non-null    object\n",
            " 21  internet    678 non-null    object\n",
            " 22  romantic    678 non-null    object\n",
            " 23  famrel      678 non-null    int64 \n",
            " 24  freetime    678 non-null    int64 \n",
            " 25  goout       678 non-null    int64 \n",
            " 26  Dalc        678 non-null    int64 \n",
            " 27  Walc        678 non-null    int64 \n",
            " 28  health      678 non-null    int64 \n",
            " 29  absences    678 non-null    int64 \n",
            " 30  G1          678 non-null    int64 \n",
            " 31  G2          678 non-null    int64 \n",
            "dtypes: int64(15), object(17)\n",
            "memory usage: 169.6+ KB\n"
          ]
        },
        {
          "data": {
            "text/plain": [
              "(None,\n",
              " school        0\n",
              " sex           0\n",
              " age           0\n",
              " address       0\n",
              " famsize       0\n",
              " Pstatus       0\n",
              " Medu          0\n",
              " Fedu          0\n",
              " Mjob          0\n",
              " Fjob          0\n",
              " reason        0\n",
              " guardian      0\n",
              " traveltime    0\n",
              " studytime     0\n",
              " failures      0\n",
              " schoolsup     0\n",
              " famsup        0\n",
              " paid          0\n",
              " activities    0\n",
              " nursery       0\n",
              " higher        0\n",
              " internet      0\n",
              " romantic      0\n",
              " famrel        0\n",
              " freetime      0\n",
              " goout         0\n",
              " Dalc          0\n",
              " Walc          0\n",
              " health        0\n",
              " absences      0\n",
              " G1            0\n",
              " G2            0\n",
              " dtype: int64)"
            ]
          },
          "execution_count": 78,
          "metadata": {},
          "output_type": "execute_result"
        }
      ],
      "source": [
        "X_train.info(), X_train.isnull().sum()"
      ]
    },
    {
      "cell_type": "code",
      "execution_count": null,
      "metadata": {
        "id": "mxLOup1lBE12",
        "outputId": "74a8377f-8352-4d70-c994-979640a3dd4b"
      },
      "outputs": [
        {
          "name": "stdout",
          "output_type": "stream",
          "text": [
            "<class 'pandas.core.frame.DataFrame'>\n",
            "RangeIndex: 366 entries, 0 to 365\n",
            "Data columns (total 32 columns):\n",
            " #   Column      Non-Null Count  Dtype \n",
            "---  ------      --------------  ----- \n",
            " 0   school      366 non-null    object\n",
            " 1   sex         366 non-null    object\n",
            " 2   age         366 non-null    int64 \n",
            " 3   address     366 non-null    object\n",
            " 4   famsize     366 non-null    object\n",
            " 5   Pstatus     366 non-null    object\n",
            " 6   Medu        366 non-null    int64 \n",
            " 7   Fedu        366 non-null    int64 \n",
            " 8   Mjob        366 non-null    object\n",
            " 9   Fjob        366 non-null    object\n",
            " 10  reason      366 non-null    object\n",
            " 11  guardian    366 non-null    object\n",
            " 12  traveltime  366 non-null    int64 \n",
            " 13  studytime   366 non-null    int64 \n",
            " 14  failures    366 non-null    int64 \n",
            " 15  schoolsup   366 non-null    object\n",
            " 16  famsup      366 non-null    object\n",
            " 17  paid        366 non-null    object\n",
            " 18  activities  366 non-null    object\n",
            " 19  nursery     366 non-null    object\n",
            " 20  higher      366 non-null    object\n",
            " 21  internet    366 non-null    object\n",
            " 22  romantic    366 non-null    object\n",
            " 23  famrel      366 non-null    int64 \n",
            " 24  freetime    366 non-null    int64 \n",
            " 25  goout       366 non-null    int64 \n",
            " 26  Dalc        366 non-null    int64 \n",
            " 27  Walc        366 non-null    int64 \n",
            " 28  health      366 non-null    int64 \n",
            " 29  absences    366 non-null    int64 \n",
            " 30  G1          366 non-null    int64 \n",
            " 31  G2          366 non-null    int64 \n",
            "dtypes: int64(15), object(17)\n",
            "memory usage: 91.6+ KB\n"
          ]
        },
        {
          "data": {
            "text/plain": [
              "(None,\n",
              " school        0\n",
              " sex           0\n",
              " age           0\n",
              " address       0\n",
              " famsize       0\n",
              " Pstatus       0\n",
              " Medu          0\n",
              " Fedu          0\n",
              " Mjob          0\n",
              " Fjob          0\n",
              " reason        0\n",
              " guardian      0\n",
              " traveltime    0\n",
              " studytime     0\n",
              " failures      0\n",
              " schoolsup     0\n",
              " famsup        0\n",
              " paid          0\n",
              " activities    0\n",
              " nursery       0\n",
              " higher        0\n",
              " internet      0\n",
              " romantic      0\n",
              " famrel        0\n",
              " freetime      0\n",
              " goout         0\n",
              " Dalc          0\n",
              " Walc          0\n",
              " health        0\n",
              " absences      0\n",
              " G1            0\n",
              " G2            0\n",
              " dtype: int64)"
            ]
          },
          "execution_count": 79,
          "metadata": {},
          "output_type": "execute_result"
        }
      ],
      "source": [
        "X_test.info(), X_test.isnull().sum()"
      ]
    },
    {
      "cell_type": "code",
      "execution_count": null,
      "metadata": {
        "id": "wGib5GuuBE12",
        "outputId": "ad738bb7-b21c-4afa-c0d1-b062c597c073"
      },
      "outputs": [
        {
          "name": "stdout",
          "output_type": "stream",
          "text": [
            "int_col \n",
            "\n",
            "age 8\n",
            "[15 16 17 18 19 20 21 22]\n",
            "====================================================================================================\n",
            "Medu 5\n",
            "[0 1 2 3 4]\n",
            "====================================================================================================\n",
            "Fedu 5\n",
            "[0 1 2 3 4]\n",
            "====================================================================================================\n",
            "traveltime 4\n",
            "[1 2 3 4]\n",
            "====================================================================================================\n",
            "studytime 4\n",
            "[1 2 3 4]\n",
            "====================================================================================================\n",
            "failures 4\n",
            "[0 1 2 3]\n",
            "====================================================================================================\n",
            "famrel 5\n",
            "[1 2 3 4 5]\n",
            "====================================================================================================\n",
            "freetime 5\n",
            "[1 2 3 4 5]\n",
            "====================================================================================================\n",
            "goout 5\n",
            "[1 2 3 4 5]\n",
            "====================================================================================================\n",
            "Dalc 5\n",
            "[1 2 3 4 5]\n",
            "====================================================================================================\n",
            "Walc 5\n",
            "[1 2 3 4 5]\n",
            "====================================================================================================\n",
            "health 5\n",
            "[1 2 3 4 5]\n",
            "====================================================================================================\n",
            "absences 31\n",
            "[ 0  1  2  3  4  5  6  7  8  9 10 11 12 13 14 15 16 17 18 19 20 21 22 23\n",
            " 24 26 30 32 54 56 75]\n",
            "====================================================================================================\n",
            "G1 16\n",
            "[ 4  5  6  7  8  9 10 11 12 13 14 15 16 17 18 19]\n",
            "====================================================================================================\n",
            "G2 16\n",
            "[ 0  5  6  7  8  9 10 11 12 13 14 15 16 17 18 19]\n",
            "====================================================================================================\n"
          ]
        }
      ],
      "source": [
        "int_col = X_train.select_dtypes(exclude='object').columns\n",
        "\n",
        "print('int_col','\\n')\n",
        "\n",
        "for c in int_col:\n",
        "    print(c, X_train[c].nunique())\n",
        "    print(np.sort(X_train[c].unique()))\n",
        "    print('='*100)"
      ]
    },
    {
      "cell_type": "code",
      "execution_count": null,
      "metadata": {
        "id": "mCkgGaiWBE13",
        "outputId": "e4fffd8a-84e4-4243-a5f0-336fed8381ec"
      },
      "outputs": [
        {
          "name": "stdout",
          "output_type": "stream",
          "text": [
            "obj col \n",
            "\n",
            "school 2\n",
            "['GP' 'MS']\n",
            "====================================================================================================\n",
            "sex 2\n",
            "['F' 'M']\n",
            "====================================================================================================\n",
            "address 2\n",
            "['U' 'R']\n",
            "====================================================================================================\n",
            "famsize 2\n",
            "['GT3' 'LE3']\n",
            "====================================================================================================\n",
            "Pstatus 2\n",
            "['T' 'A']\n",
            "====================================================================================================\n",
            "Mjob 5\n",
            "['other' 'health' 'services' 'at_home' 'teacher']\n",
            "====================================================================================================\n",
            "Fjob 5\n",
            "['other' 'teacher' 'services' 'at_home' 'health']\n",
            "====================================================================================================\n",
            "reason 4\n",
            "['reputation' 'other' 'course' 'home']\n",
            "====================================================================================================\n",
            "guardian 3\n",
            "['father' 'mother' 'other']\n",
            "====================================================================================================\n",
            "schoolsup 2\n",
            "['no' 'yes']\n",
            "====================================================================================================\n",
            "famsup 2\n",
            "['yes' 'no']\n",
            "====================================================================================================\n",
            "paid 2\n",
            "['yes' 'no']\n",
            "====================================================================================================\n",
            "activities 2\n",
            "['no' 'yes']\n",
            "====================================================================================================\n",
            "nursery 2\n",
            "['yes' 'no']\n",
            "====================================================================================================\n",
            "higher 2\n",
            "['yes' 'no']\n",
            "====================================================================================================\n",
            "internet 2\n",
            "['yes' 'no']\n",
            "====================================================================================================\n",
            "romantic 2\n",
            "['no' 'yes']\n",
            "====================================================================================================\n"
          ]
        }
      ],
      "source": [
        "obj_col = X_train.select_dtypes(include='object').columns\n",
        "\n",
        "print('obj col', '\\n')\n",
        "\n",
        "for c in obj_col:\n",
        "    print(c, X_train[c].nunique())\n",
        "    print(X_train[c].unique())\n",
        "    print('='*100)"
      ]
    },
    {
      "cell_type": "markdown",
      "metadata": {
        "id": "wvmC725xBE13"
      },
      "source": [
        "#### 3. Preprocessing"
      ]
    },
    {
      "cell_type": "code",
      "execution_count": null,
      "metadata": {
        "id": "kGKaw1V8BE14"
      },
      "outputs": [],
      "source": [
        "from sklearn.preprocessing import StandardScaler, LabelEncoder\n",
        "\n",
        "scaler = StandardScaler()\n",
        "X_train[int_col] = scaler.fit_transform(X_train[int_col])\n",
        "X_test[int_col] = scaler.transform(X_test[int_col])\n",
        "\n",
        "le = LabelEncoder()\n",
        "X_train[obj_col] = X_train[obj_col].apply(le.fit_transform)\n",
        "X_test[obj_col] = X_test[obj_col].apply(le.fit_transform)"
      ]
    },
    {
      "cell_type": "markdown",
      "metadata": {
        "id": "hzRJS4AOBE14"
      },
      "source": [
        "#### 4. Modeling"
      ]
    },
    {
      "cell_type": "code",
      "execution_count": null,
      "metadata": {
        "id": "_55Y67YHBE14"
      },
      "outputs": [],
      "source": [
        "from sklearn.model_selection import GridSearchCV\n",
        "from sklearn.ensemble import RandomForestRegressor, GradientBoostingRegressor\n",
        "from xgboost import XGBRegressor, XGBRFRegressor\n",
        "from sklearn.metrics import mean_squared_error, r2_score"
      ]
    },
    {
      "cell_type": "code",
      "execution_count": null,
      "metadata": {
        "id": "paAO-5dmBE15"
      },
      "outputs": [],
      "source": [
        "rf = RandomForestRegressor(random_state=156)\n",
        "gb = GradientBoostingRegressor(random_state=156)\n",
        "xgb = XGBRegressor(random_state=156)\n",
        "xgbrf = XGBRFRegressor(random_state=156)\n",
        "\n",
        "models = [rf, gb, xgb, xgbrf]"
      ]
    },
    {
      "cell_type": "code",
      "execution_count": null,
      "metadata": {
        "id": "mh8kivWPBE15"
      },
      "outputs": [],
      "source": [
        "params = {'n_estimators':[100, 500], 'max_depth':[1,2,3,4,5]}"
      ]
    },
    {
      "cell_type": "code",
      "execution_count": null,
      "metadata": {
        "id": "B5lfZgkeBE15",
        "outputId": "b0b3f2a9-f418-4c41-d97a-076e1fc52ca6"
      },
      "outputs": [
        {
          "name": "stdout",
          "output_type": "stream",
          "text": [
            "RandomForestRegressor\n",
            "params : {'max_depth': 4, 'n_estimators': 100}\n",
            "score : 0.8668716120828512\n",
            "==========\n",
            "GradientBoostingRegressor\n",
            "params : {'max_depth': 2, 'n_estimators': 100}\n",
            "score : 0.8674282407140206\n",
            "==========\n",
            "XGBRegressor\n",
            "params : {'max_depth': 3, 'n_estimators': 100}\n",
            "score : 0.8537392684812736\n",
            "==========\n",
            "XGBRFRegressor\n",
            "params : {'max_depth': 4, 'n_estimators': 100}\n",
            "score : 0.8656589219377491\n",
            "==========\n"
          ]
        }
      ],
      "source": [
        "best_estimator_models = []\n",
        "for model in models:\n",
        "    gscv = GridSearchCV(model, params, cv=3, scoring='r2', n_jobs = 5)\n",
        "    gscv.fit(X_train, y_train)\n",
        "    \n",
        "    print(str(model).split('(')[0])\n",
        "    print('params :', gscv.best_params_)\n",
        "    print('score :', gscv.best_score_)\n",
        "    best_estimator_models.append(gscv.best_estimator_)\n",
        "    print('='*10)"
      ]
    },
    {
      "cell_type": "code",
      "execution_count": null,
      "metadata": {
        "id": "qduyAEL-BE15",
        "outputId": "113ef1d9-af83-4553-e9e5-1a127aa55bcc"
      },
      "outputs": [
        {
          "data": {
            "text/html": [
              "<style>#sk-container-id-1 {color: black;background-color: white;}#sk-container-id-1 pre{padding: 0;}#sk-container-id-1 div.sk-toggleable {background-color: white;}#sk-container-id-1 label.sk-toggleable__label {cursor: pointer;display: block;width: 100%;margin-bottom: 0;padding: 0.3em;box-sizing: border-box;text-align: center;}#sk-container-id-1 label.sk-toggleable__label-arrow:before {content: \"▸\";float: left;margin-right: 0.25em;color: #696969;}#sk-container-id-1 label.sk-toggleable__label-arrow:hover:before {color: black;}#sk-container-id-1 div.sk-estimator:hover label.sk-toggleable__label-arrow:before {color: black;}#sk-container-id-1 div.sk-toggleable__content {max-height: 0;max-width: 0;overflow: hidden;text-align: left;background-color: #f0f8ff;}#sk-container-id-1 div.sk-toggleable__content pre {margin: 0.2em;color: black;border-radius: 0.25em;background-color: #f0f8ff;}#sk-container-id-1 input.sk-toggleable__control:checked~div.sk-toggleable__content {max-height: 200px;max-width: 100%;overflow: auto;}#sk-container-id-1 input.sk-toggleable__control:checked~label.sk-toggleable__label-arrow:before {content: \"▾\";}#sk-container-id-1 div.sk-estimator input.sk-toggleable__control:checked~label.sk-toggleable__label {background-color: #d4ebff;}#sk-container-id-1 div.sk-label input.sk-toggleable__control:checked~label.sk-toggleable__label {background-color: #d4ebff;}#sk-container-id-1 input.sk-hidden--visually {border: 0;clip: rect(1px 1px 1px 1px);clip: rect(1px, 1px, 1px, 1px);height: 1px;margin: -1px;overflow: hidden;padding: 0;position: absolute;width: 1px;}#sk-container-id-1 div.sk-estimator {font-family: monospace;background-color: #f0f8ff;border: 1px dotted black;border-radius: 0.25em;box-sizing: border-box;margin-bottom: 0.5em;}#sk-container-id-1 div.sk-estimator:hover {background-color: #d4ebff;}#sk-container-id-1 div.sk-parallel-item::after {content: \"\";width: 100%;border-bottom: 1px solid gray;flex-grow: 1;}#sk-container-id-1 div.sk-label:hover label.sk-toggleable__label {background-color: #d4ebff;}#sk-container-id-1 div.sk-serial::before {content: \"\";position: absolute;border-left: 1px solid gray;box-sizing: border-box;top: 0;bottom: 0;left: 50%;z-index: 0;}#sk-container-id-1 div.sk-serial {display: flex;flex-direction: column;align-items: center;background-color: white;padding-right: 0.2em;padding-left: 0.2em;position: relative;}#sk-container-id-1 div.sk-item {position: relative;z-index: 1;}#sk-container-id-1 div.sk-parallel {display: flex;align-items: stretch;justify-content: center;background-color: white;position: relative;}#sk-container-id-1 div.sk-item::before, #sk-container-id-1 div.sk-parallel-item::before {content: \"\";position: absolute;border-left: 1px solid gray;box-sizing: border-box;top: 0;bottom: 0;left: 50%;z-index: -1;}#sk-container-id-1 div.sk-parallel-item {display: flex;flex-direction: column;z-index: 1;position: relative;background-color: white;}#sk-container-id-1 div.sk-parallel-item:first-child::after {align-self: flex-end;width: 50%;}#sk-container-id-1 div.sk-parallel-item:last-child::after {align-self: flex-start;width: 50%;}#sk-container-id-1 div.sk-parallel-item:only-child::after {width: 0;}#sk-container-id-1 div.sk-dashed-wrapped {border: 1px dashed gray;margin: 0 0.4em 0.5em 0.4em;box-sizing: border-box;padding-bottom: 0.4em;background-color: white;}#sk-container-id-1 div.sk-label label {font-family: monospace;font-weight: bold;display: inline-block;line-height: 1.2em;}#sk-container-id-1 div.sk-label-container {text-align: center;}#sk-container-id-1 div.sk-container {/* jupyter's `normalize.less` sets `[hidden] { display: none; }` but bootstrap.min.css set `[hidden] { display: none !important; }` so we also need the `!important` here to be able to override the default hidden behavior on the sphinx rendered scikit-learn.org. See: https://github.com/scikit-learn/scikit-learn/issues/21755 */display: inline-block !important;position: relative;}#sk-container-id-1 div.sk-text-repr-fallback {display: none;}</style><div id=\"sk-container-id-1\" class=\"sk-top-container\"><div class=\"sk-text-repr-fallback\"><pre>RandomForestRegressor(max_depth=4, random_state=156)</pre><b>In a Jupyter environment, please rerun this cell to show the HTML representation or trust the notebook. <br />On GitHub, the HTML representation is unable to render, please try loading this page with nbviewer.org.</b></div><div class=\"sk-container\" hidden><div class=\"sk-item\"><div class=\"sk-estimator sk-toggleable\"><input class=\"sk-toggleable__control sk-hidden--visually\" id=\"sk-estimator-id-1\" type=\"checkbox\" checked><label for=\"sk-estimator-id-1\" class=\"sk-toggleable__label sk-toggleable__label-arrow\">RandomForestRegressor</label><div class=\"sk-toggleable__content\"><pre>RandomForestRegressor(max_depth=4, random_state=156)</pre></div></div></div></div></div>"
            ],
            "text/plain": [
              "RandomForestRegressor(max_depth=4, random_state=156)"
            ]
          },
          "execution_count": 37,
          "metadata": {},
          "output_type": "execute_result"
        }
      ],
      "source": [
        "best_estimator_models[0]"
      ]
    },
    {
      "cell_type": "code",
      "execution_count": null,
      "metadata": {
        "id": "h5SgOZH0BE15"
      },
      "outputs": [],
      "source": [
        "rf = best_estimator_models[0]\n",
        "\n",
        "rf.fit(X_train, y)\n",
        "pred = rf.predict(X_test)"
      ]
    },
    {
      "cell_type": "code",
      "execution_count": null,
      "metadata": {
        "id": "58hwfPDyBE16",
        "outputId": "d96b8546-96db-4db2-8bc1-244dd55167eb"
      },
      "outputs": [
        {
          "data": {
            "text/plain": [
              "0      14\n",
              "1      15\n",
              "2      11\n",
              "3      13\n",
              "4       0\n",
              "       ..\n",
              "673    14\n",
              "674    11\n",
              "675    13\n",
              "676    10\n",
              "677    18\n",
              "Name: G3, Length: 678, dtype: int64"
            ]
          },
          "execution_count": 86,
          "metadata": {},
          "output_type": "execute_result"
        }
      ],
      "source": [
        "y_train[\"G3\"]"
      ]
    },
    {
      "cell_type": "code",
      "execution_count": null,
      "metadata": {
        "id": "SPJ1inlUBE16",
        "outputId": "c030300d-6360-4746-aa5b-4e778b6006fb"
      },
      "outputs": [
        {
          "data": {
            "text/html": [
              "<div>\n",
              "<style scoped>\n",
              "    .dataframe tbody tr th:only-of-type {\n",
              "        vertical-align: middle;\n",
              "    }\n",
              "\n",
              "    .dataframe tbody tr th {\n",
              "        vertical-align: top;\n",
              "    }\n",
              "\n",
              "    .dataframe thead th {\n",
              "        text-align: right;\n",
              "    }\n",
              "</style>\n",
              "<table border=\"1\" class=\"dataframe\">\n",
              "  <thead>\n",
              "    <tr style=\"text-align: right;\">\n",
              "      <th></th>\n",
              "      <th>StudentID</th>\n",
              "      <th>G3</th>\n",
              "    </tr>\n",
              "  </thead>\n",
              "  <tbody>\n",
              "    <tr>\n",
              "      <th>0</th>\n",
              "      <td>1000</td>\n",
              "      <td>16.046516</td>\n",
              "    </tr>\n",
              "    <tr>\n",
              "      <th>1</th>\n",
              "      <td>1008</td>\n",
              "      <td>10.917490</td>\n",
              "    </tr>\n",
              "    <tr>\n",
              "      <th>2</th>\n",
              "      <td>1013</td>\n",
              "      <td>14.511223</td>\n",
              "    </tr>\n",
              "    <tr>\n",
              "      <th>3</th>\n",
              "      <td>1014</td>\n",
              "      <td>7.660486</td>\n",
              "    </tr>\n",
              "    <tr>\n",
              "      <th>4</th>\n",
              "      <td>1017</td>\n",
              "      <td>10.792371</td>\n",
              "    </tr>\n",
              "    <tr>\n",
              "      <th>...</th>\n",
              "      <td>...</td>\n",
              "      <td>...</td>\n",
              "    </tr>\n",
              "    <tr>\n",
              "      <th>361</th>\n",
              "      <td>2032</td>\n",
              "      <td>15.510834</td>\n",
              "    </tr>\n",
              "    <tr>\n",
              "      <th>362</th>\n",
              "      <td>2034</td>\n",
              "      <td>12.444338</td>\n",
              "    </tr>\n",
              "    <tr>\n",
              "      <th>363</th>\n",
              "      <td>2035</td>\n",
              "      <td>16.057844</td>\n",
              "    </tr>\n",
              "    <tr>\n",
              "      <th>364</th>\n",
              "      <td>2036</td>\n",
              "      <td>0.502898</td>\n",
              "    </tr>\n",
              "    <tr>\n",
              "      <th>365</th>\n",
              "      <td>2037</td>\n",
              "      <td>14.724827</td>\n",
              "    </tr>\n",
              "  </tbody>\n",
              "</table>\n",
              "<p>366 rows × 2 columns</p>\n",
              "</div>"
            ],
            "text/plain": [
              "     StudentID         G3\n",
              "0         1000  16.046516\n",
              "1         1008  10.917490\n",
              "2         1013  14.511223\n",
              "3         1014   7.660486\n",
              "4         1017  10.792371\n",
              "..         ...        ...\n",
              "361       2032  15.510834\n",
              "362       2034  12.444338\n",
              "363       2035  16.057844\n",
              "364       2036   0.502898\n",
              "365       2037  14.724827\n",
              "\n",
              "[366 rows x 2 columns]"
            ]
          },
          "execution_count": 87,
          "metadata": {},
          "output_type": "execute_result"
        }
      ],
      "source": [
        "out_data = pd.DataFrame({'StudentID':StudentID, 'G3':pred})\n",
        "out_data"
      ]
    },
    {
      "cell_type": "code",
      "execution_count": null,
      "metadata": {
        "id": "QEFiQtmiBE16"
      },
      "outputs": [],
      "source": []
    },
    {
      "cell_type": "code",
      "execution_count": null,
      "metadata": {
        "id": "dfgt76QpBE16",
        "outputId": "664533c9-7cc9-46f9-9253-62debbd89b4d"
      },
      "outputs": [
        {
          "name": "stdout",
          "output_type": "stream",
          "text": [
            "rmse : 1.6742038706478317\n",
            "r2 : 0.8177229995730235\n"
          ]
        }
      ],
      "source": [
        "# 가채점\n",
        "print('rmse :', np.sqrt(mean_squared_error(y_test, pred)))\n",
        "print('r2 :', r2_score(y_test, pred))"
      ]
    },
    {
      "cell_type": "code",
      "execution_count": null,
      "metadata": {
        "id": "W0ZsNcRLBE17"
      },
      "outputs": [],
      "source": [
        "## 딥러닝 model 사용"
      ]
    },
    {
      "cell_type": "code",
      "execution_count": null,
      "metadata": {
        "id": "XDEYsaEQBE17"
      },
      "outputs": [],
      "source": [
        "import tensorflow as tf"
      ]
    },
    {
      "cell_type": "code",
      "execution_count": null,
      "metadata": {
        "id": "TOYqVyVeBE17"
      },
      "outputs": [],
      "source": [
        "model = tf.keras.Sequential()\n",
        "model.add(tf.keras.layers.Dense(units=64, activation=\"relu\", input_shape=(32,)))\n",
        "model.add(tf.keras.layers.Dense(units=64, activation=\"relu\"))\n",
        "model.add(tf.keras.layers.Dense(units=1, activation=\"relu\"))       "
      ]
    },
    {
      "cell_type": "code",
      "execution_count": null,
      "metadata": {
        "id": "sKKmI8iFBE17"
      },
      "outputs": [],
      "source": [
        "model.compile(loss=\"mse\", optimizer= \"sgd\", metrics = \"mse\")"
      ]
    },
    {
      "cell_type": "code",
      "execution_count": null,
      "metadata": {
        "id": "GM2sNhsPBE17",
        "outputId": "a9d10a30-2e30-49a2-a8b9-29e4b62fd2d9",
        "scrolled": true,
        "tags": []
      },
      "outputs": [
        {
          "name": "stdout",
          "output_type": "stream",
          "text": [
            "Epoch 1/200\n",
            "22/22 [==============================] - 2s 2ms/step - loss: 61.2370 - mse: 61.2370\n",
            "Epoch 2/200\n",
            "22/22 [==============================] - 0s 2ms/step - loss: 18.1922 - mse: 18.1922\n",
            "Epoch 3/200\n",
            "22/22 [==============================] - 0s 2ms/step - loss: 8.6882 - mse: 8.6882\n",
            "Epoch 4/200\n",
            "22/22 [==============================] - 0s 2ms/step - loss: 5.6212 - mse: 5.6212\n",
            "Epoch 5/200\n",
            "22/22 [==============================] - 0s 2ms/step - loss: 5.1364 - mse: 5.1364\n",
            "Epoch 6/200\n",
            "22/22 [==============================] - 0s 2ms/step - loss: 3.0789 - mse: 3.0789\n",
            "Epoch 7/200\n",
            "22/22 [==============================] - 0s 2ms/step - loss: 3.5755 - mse: 3.5755\n",
            "Epoch 8/200\n",
            "22/22 [==============================] - 0s 2ms/step - loss: 2.6321 - mse: 2.6321\n",
            "Epoch 9/200\n",
            "22/22 [==============================] - 0s 2ms/step - loss: 3.3499 - mse: 3.3499\n",
            "Epoch 10/200\n",
            "22/22 [==============================] - 0s 2ms/step - loss: 2.7879 - mse: 2.7879\n",
            "Epoch 11/200\n",
            "22/22 [==============================] - 0s 2ms/step - loss: 2.1001 - mse: 2.1001\n",
            "Epoch 12/200\n",
            "22/22 [==============================] - 0s 2ms/step - loss: 2.3593 - mse: 2.3593\n",
            "Epoch 13/200\n",
            "22/22 [==============================] - 0s 2ms/step - loss: 2.0021 - mse: 2.0021\n",
            "Epoch 14/200\n",
            "22/22 [==============================] - 0s 2ms/step - loss: 2.8648 - mse: 2.8648\n",
            "Epoch 15/200\n",
            "22/22 [==============================] - 0s 2ms/step - loss: 2.9253 - mse: 2.9253\n",
            "Epoch 16/200\n",
            "22/22 [==============================] - 0s 2ms/step - loss: 1.8655 - mse: 1.8655\n",
            "Epoch 17/200\n",
            "22/22 [==============================] - 0s 2ms/step - loss: 1.6155 - mse: 1.6155\n",
            "Epoch 18/200\n",
            "22/22 [==============================] - 0s 2ms/step - loss: 1.7942 - mse: 1.7942\n",
            "Epoch 19/200\n",
            "22/22 [==============================] - 0s 2ms/step - loss: 1.7420 - mse: 1.7420\n",
            "Epoch 20/200\n",
            "22/22 [==============================] - 0s 2ms/step - loss: 1.8561 - mse: 1.8561\n",
            "Epoch 21/200\n",
            "22/22 [==============================] - 0s 2ms/step - loss: 1.6907 - mse: 1.6907\n",
            "Epoch 22/200\n",
            "22/22 [==============================] - 0s 2ms/step - loss: 1.5004 - mse: 1.5004\n",
            "Epoch 23/200\n",
            "22/22 [==============================] - 0s 2ms/step - loss: 1.8416 - mse: 1.8416\n",
            "Epoch 24/200\n",
            "22/22 [==============================] - 0s 2ms/step - loss: 1.7894 - mse: 1.7894\n",
            "Epoch 25/200\n",
            "22/22 [==============================] - 0s 2ms/step - loss: 1.5957 - mse: 1.5957\n",
            "Epoch 26/200\n",
            "22/22 [==============================] - 0s 2ms/step - loss: 1.8429 - mse: 1.8429\n",
            "Epoch 27/200\n",
            "22/22 [==============================] - 0s 2ms/step - loss: 1.6637 - mse: 1.6637\n",
            "Epoch 28/200\n",
            "22/22 [==============================] - 0s 2ms/step - loss: 1.5837 - mse: 1.5837\n",
            "Epoch 29/200\n",
            "22/22 [==============================] - 0s 2ms/step - loss: 1.5835 - mse: 1.5835\n",
            "Epoch 30/200\n",
            "22/22 [==============================] - 0s 2ms/step - loss: 1.2917 - mse: 1.2917\n",
            "Epoch 31/200\n",
            "22/22 [==============================] - 0s 2ms/step - loss: 1.1582 - mse: 1.1582\n",
            "Epoch 32/200\n",
            "22/22 [==============================] - 0s 2ms/step - loss: 1.4405 - mse: 1.4405\n",
            "Epoch 33/200\n",
            "22/22 [==============================] - 0s 2ms/step - loss: 1.7617 - mse: 1.7617\n",
            "Epoch 34/200\n",
            "22/22 [==============================] - 0s 2ms/step - loss: 1.2731 - mse: 1.2731\n",
            "Epoch 35/200\n",
            "22/22 [==============================] - 0s 2ms/step - loss: 0.9793 - mse: 0.9793\n",
            "Epoch 36/200\n",
            "22/22 [==============================] - 0s 2ms/step - loss: 1.6847 - mse: 1.6847\n",
            "Epoch 37/200\n",
            "22/22 [==============================] - 0s 2ms/step - loss: 1.1122 - mse: 1.1122\n",
            "Epoch 38/200\n",
            "22/22 [==============================] - 0s 2ms/step - loss: 0.9150 - mse: 0.9150\n",
            "Epoch 39/200\n",
            "22/22 [==============================] - 0s 2ms/step - loss: 1.6025 - mse: 1.6025\n",
            "Epoch 40/200\n",
            "22/22 [==============================] - 0s 2ms/step - loss: 1.0271 - mse: 1.0271\n",
            "Epoch 41/200\n",
            "22/22 [==============================] - 0s 2ms/step - loss: 0.8340 - mse: 0.8340\n",
            "Epoch 42/200\n",
            "22/22 [==============================] - 0s 2ms/step - loss: 1.0161 - mse: 1.0161\n",
            "Epoch 43/200\n",
            "22/22 [==============================] - 0s 2ms/step - loss: 1.0156 - mse: 1.0156\n",
            "Epoch 44/200\n",
            "22/22 [==============================] - 0s 2ms/step - loss: 1.7243 - mse: 1.7243\n",
            "Epoch 45/200\n",
            "22/22 [==============================] - 0s 2ms/step - loss: 0.8014 - mse: 0.8014\n",
            "Epoch 46/200\n",
            "22/22 [==============================] - 0s 2ms/step - loss: 0.8689 - mse: 0.8689\n",
            "Epoch 47/200\n",
            "22/22 [==============================] - 0s 2ms/step - loss: 0.8386 - mse: 0.8386\n",
            "Epoch 48/200\n",
            "22/22 [==============================] - 0s 2ms/step - loss: 1.0437 - mse: 1.0437\n",
            "Epoch 49/200\n",
            "22/22 [==============================] - 0s 2ms/step - loss: 0.7424 - mse: 0.7424\n",
            "Epoch 50/200\n",
            "22/22 [==============================] - 0s 3ms/step - loss: 0.7869 - mse: 0.7869\n",
            "Epoch 51/200\n",
            "22/22 [==============================] - 0s 3ms/step - loss: 0.6721 - mse: 0.6721\n",
            "Epoch 52/200\n",
            "22/22 [==============================] - 0s 2ms/step - loss: 0.7667 - mse: 0.7667\n",
            "Epoch 53/200\n",
            "22/22 [==============================] - 0s 2ms/step - loss: 0.8121 - mse: 0.8121\n",
            "Epoch 54/200\n",
            "22/22 [==============================] - 0s 2ms/step - loss: 0.6133 - mse: 0.6133\n",
            "Epoch 55/200\n",
            "22/22 [==============================] - 0s 2ms/step - loss: 0.6331 - mse: 0.6331\n",
            "Epoch 56/200\n",
            "22/22 [==============================] - 0s 2ms/step - loss: 0.7394 - mse: 0.7394\n",
            "Epoch 57/200\n",
            "22/22 [==============================] - 0s 2ms/step - loss: 1.1536 - mse: 1.1536\n",
            "Epoch 58/200\n",
            "22/22 [==============================] - 0s 2ms/step - loss: 0.6350 - mse: 0.6350\n",
            "Epoch 59/200\n",
            "22/22 [==============================] - 0s 2ms/step - loss: 0.5589 - mse: 0.5589\n",
            "Epoch 60/200\n",
            "22/22 [==============================] - 0s 2ms/step - loss: 0.5396 - mse: 0.5396\n",
            "Epoch 61/200\n",
            "22/22 [==============================] - 0s 2ms/step - loss: 0.8969 - mse: 0.8969\n",
            "Epoch 62/200\n",
            "22/22 [==============================] - 0s 2ms/step - loss: 0.4944 - mse: 0.4944\n",
            "Epoch 63/200\n",
            "22/22 [==============================] - 0s 2ms/step - loss: 0.6082 - mse: 0.6082\n",
            "Epoch 64/200\n",
            "22/22 [==============================] - 0s 2ms/step - loss: 0.5253 - mse: 0.5253\n",
            "Epoch 65/200\n",
            "22/22 [==============================] - 0s 2ms/step - loss: 0.5161 - mse: 0.5161\n",
            "Epoch 66/200\n",
            "22/22 [==============================] - 0s 2ms/step - loss: 0.5498 - mse: 0.5498\n",
            "Epoch 67/200\n",
            "22/22 [==============================] - 0s 2ms/step - loss: 0.6259 - mse: 0.6259\n",
            "Epoch 68/200\n",
            "22/22 [==============================] - 0s 2ms/step - loss: 0.4530 - mse: 0.4530\n",
            "Epoch 69/200\n",
            "22/22 [==============================] - 0s 2ms/step - loss: 0.5219 - mse: 0.5219\n",
            "Epoch 70/200\n",
            "22/22 [==============================] - 0s 2ms/step - loss: 0.4403 - mse: 0.4403\n",
            "Epoch 71/200\n",
            "22/22 [==============================] - 0s 2ms/step - loss: 0.4540 - mse: 0.4540\n",
            "Epoch 72/200\n",
            "22/22 [==============================] - 0s 2ms/step - loss: 0.4396 - mse: 0.4396\n",
            "Epoch 73/200\n",
            "22/22 [==============================] - 0s 2ms/step - loss: 0.6381 - mse: 0.6381\n",
            "Epoch 74/200\n",
            "22/22 [==============================] - 0s 2ms/step - loss: 0.4974 - mse: 0.4974\n",
            "Epoch 75/200\n",
            "22/22 [==============================] - 0s 2ms/step - loss: 0.3915 - mse: 0.3915\n",
            "Epoch 76/200\n",
            "22/22 [==============================] - 0s 2ms/step - loss: 0.4390 - mse: 0.4390\n",
            "Epoch 77/200\n",
            "22/22 [==============================] - 0s 2ms/step - loss: 0.6563 - mse: 0.6563\n",
            "Epoch 78/200\n",
            "22/22 [==============================] - 0s 2ms/step - loss: 0.4027 - mse: 0.4027\n",
            "Epoch 79/200\n",
            "22/22 [==============================] - 0s 2ms/step - loss: 0.3943 - mse: 0.3943\n",
            "Epoch 80/200\n",
            "22/22 [==============================] - 0s 2ms/step - loss: 0.3504 - mse: 0.3504\n",
            "Epoch 81/200\n",
            "22/22 [==============================] - 0s 2ms/step - loss: 0.8683 - mse: 0.8683\n",
            "Epoch 82/200\n",
            "22/22 [==============================] - 0s 3ms/step - loss: 0.4644 - mse: 0.4644\n",
            "Epoch 83/200\n",
            "22/22 [==============================] - 0s 2ms/step - loss: 0.4763 - mse: 0.4763\n",
            "Epoch 84/200\n",
            "22/22 [==============================] - 0s 2ms/step - loss: 0.3803 - mse: 0.3803\n",
            "Epoch 85/200\n",
            "22/22 [==============================] - 0s 2ms/step - loss: 0.3637 - mse: 0.3637\n",
            "Epoch 86/200\n",
            "22/22 [==============================] - 0s 2ms/step - loss: 0.4311 - mse: 0.4311\n",
            "Epoch 87/200\n",
            "22/22 [==============================] - 0s 2ms/step - loss: 0.3959 - mse: 0.3959\n",
            "Epoch 88/200\n",
            "22/22 [==============================] - 0s 3ms/step - loss: 0.4008 - mse: 0.4008\n",
            "Epoch 89/200\n",
            "22/22 [==============================] - 0s 2ms/step - loss: 0.4208 - mse: 0.4208\n",
            "Epoch 90/200\n",
            "22/22 [==============================] - 0s 2ms/step - loss: 0.4895 - mse: 0.4895\n",
            "Epoch 91/200\n",
            "22/22 [==============================] - 0s 2ms/step - loss: 0.4132 - mse: 0.4132\n",
            "Epoch 92/200\n",
            "22/22 [==============================] - 0s 2ms/step - loss: 0.2888 - mse: 0.2888\n",
            "Epoch 93/200\n",
            "22/22 [==============================] - 0s 2ms/step - loss: 0.5327 - mse: 0.5327\n",
            "Epoch 94/200\n",
            "22/22 [==============================] - 0s 2ms/step - loss: 0.3768 - mse: 0.3768\n",
            "Epoch 95/200\n",
            "22/22 [==============================] - 0s 2ms/step - loss: 0.2830 - mse: 0.2830\n",
            "Epoch 96/200\n",
            "22/22 [==============================] - 0s 2ms/step - loss: 0.3049 - mse: 0.3049\n",
            "Epoch 97/200\n",
            "22/22 [==============================] - 0s 2ms/step - loss: 0.7542 - mse: 0.7542\n",
            "Epoch 98/200\n",
            "22/22 [==============================] - 0s 2ms/step - loss: 0.3523 - mse: 0.3523\n",
            "Epoch 99/200\n",
            "22/22 [==============================] - 0s 2ms/step - loss: 0.2807 - mse: 0.2807\n",
            "Epoch 100/200\n",
            "22/22 [==============================] - 0s 2ms/step - loss: 0.3217 - mse: 0.3217\n",
            "Epoch 101/200\n",
            "22/22 [==============================] - 0s 2ms/step - loss: 0.3747 - mse: 0.3747\n",
            "Epoch 102/200\n",
            "22/22 [==============================] - 0s 2ms/step - loss: 0.2777 - mse: 0.2777\n",
            "Epoch 103/200\n",
            "22/22 [==============================] - 0s 2ms/step - loss: 0.4531 - mse: 0.4531\n",
            "Epoch 104/200\n",
            "22/22 [==============================] - 0s 2ms/step - loss: 0.3633 - mse: 0.3633\n",
            "Epoch 105/200\n",
            "22/22 [==============================] - 0s 2ms/step - loss: 0.4879 - mse: 0.4879\n",
            "Epoch 106/200\n",
            "22/22 [==============================] - 0s 2ms/step - loss: 0.2970 - mse: 0.2970\n",
            "Epoch 107/200\n",
            "22/22 [==============================] - 0s 2ms/step - loss: 0.2674 - mse: 0.2674\n",
            "Epoch 108/200\n",
            "22/22 [==============================] - 0s 2ms/step - loss: 0.4051 - mse: 0.4051\n",
            "Epoch 109/200\n",
            "22/22 [==============================] - 0s 2ms/step - loss: 0.2568 - mse: 0.2568\n",
            "Epoch 110/200\n",
            "22/22 [==============================] - 0s 2ms/step - loss: 0.2363 - mse: 0.2363\n",
            "Epoch 111/200\n",
            "22/22 [==============================] - 0s 2ms/step - loss: 0.4127 - mse: 0.4127\n",
            "Epoch 112/200\n",
            "22/22 [==============================] - 0s 2ms/step - loss: 0.2923 - mse: 0.2923\n",
            "Epoch 113/200\n",
            "22/22 [==============================] - 0s 2ms/step - loss: 0.2345 - mse: 0.2345\n",
            "Epoch 114/200\n",
            "22/22 [==============================] - 0s 2ms/step - loss: 0.3037 - mse: 0.3037\n",
            "Epoch 115/200\n",
            "22/22 [==============================] - 0s 2ms/step - loss: 0.3587 - mse: 0.3587\n",
            "Epoch 116/200\n",
            "22/22 [==============================] - 0s 2ms/step - loss: 0.2345 - mse: 0.2345\n",
            "Epoch 117/200\n",
            "22/22 [==============================] - 0s 2ms/step - loss: 0.2271 - mse: 0.2271\n",
            "Epoch 118/200\n",
            "22/22 [==============================] - 0s 2ms/step - loss: 0.3314 - mse: 0.3314\n",
            "Epoch 119/200\n",
            "22/22 [==============================] - 0s 2ms/step - loss: 0.2719 - mse: 0.2719\n",
            "Epoch 120/200\n",
            "22/22 [==============================] - 0s 2ms/step - loss: 0.2962 - mse: 0.2962\n",
            "Epoch 121/200\n",
            "22/22 [==============================] - 0s 2ms/step - loss: 0.2637 - mse: 0.2637\n",
            "Epoch 122/200\n",
            "22/22 [==============================] - 0s 2ms/step - loss: 0.1924 - mse: 0.1924\n",
            "Epoch 123/200\n",
            "22/22 [==============================] - 0s 2ms/step - loss: 0.2132 - mse: 0.2132\n",
            "Epoch 124/200\n",
            "22/22 [==============================] - 0s 2ms/step - loss: 0.3103 - mse: 0.3103\n",
            "Epoch 125/200\n",
            "22/22 [==============================] - 0s 2ms/step - loss: 0.2175 - mse: 0.2175\n",
            "Epoch 126/200\n",
            "22/22 [==============================] - 0s 2ms/step - loss: 0.2003 - mse: 0.2003\n",
            "Epoch 127/200\n",
            "22/22 [==============================] - 0s 2ms/step - loss: 0.2455 - mse: 0.2455\n",
            "Epoch 128/200\n",
            "22/22 [==============================] - 0s 2ms/step - loss: 0.2915 - mse: 0.2915\n",
            "Epoch 129/200\n",
            "22/22 [==============================] - 0s 2ms/step - loss: 0.2808 - mse: 0.2808\n",
            "Epoch 130/200\n",
            "22/22 [==============================] - 0s 2ms/step - loss: 0.1765 - mse: 0.1765\n",
            "Epoch 131/200\n",
            "22/22 [==============================] - 0s 2ms/step - loss: 0.1935 - mse: 0.1935\n",
            "Epoch 132/200\n",
            "22/22 [==============================] - 0s 2ms/step - loss: 0.2548 - mse: 0.2548\n",
            "Epoch 133/200\n",
            "22/22 [==============================] - 0s 2ms/step - loss: 0.2324 - mse: 0.2324\n",
            "Epoch 134/200\n",
            "22/22 [==============================] - 0s 2ms/step - loss: 0.1718 - mse: 0.1718\n",
            "Epoch 135/200\n",
            "22/22 [==============================] - 0s 2ms/step - loss: 0.2373 - mse: 0.2373\n",
            "Epoch 136/200\n",
            "22/22 [==============================] - 0s 2ms/step - loss: 0.2020 - mse: 0.2020\n",
            "Epoch 137/200\n",
            "22/22 [==============================] - 0s 2ms/step - loss: 0.1957 - mse: 0.1957\n",
            "Epoch 138/200\n",
            "22/22 [==============================] - 0s 2ms/step - loss: 0.1711 - mse: 0.1711\n",
            "Epoch 139/200\n",
            "22/22 [==============================] - 0s 2ms/step - loss: 0.1550 - mse: 0.1550\n",
            "Epoch 140/200\n",
            "22/22 [==============================] - 0s 2ms/step - loss: 0.1465 - mse: 0.1465\n",
            "Epoch 141/200\n",
            "22/22 [==============================] - 0s 2ms/step - loss: 0.1421 - mse: 0.1421\n",
            "Epoch 142/200\n",
            "22/22 [==============================] - 0s 2ms/step - loss: 0.2816 - mse: 0.2816\n",
            "Epoch 143/200\n",
            "22/22 [==============================] - 0s 2ms/step - loss: 0.1646 - mse: 0.1646\n",
            "Epoch 144/200\n",
            "22/22 [==============================] - 0s 2ms/step - loss: 0.2422 - mse: 0.2422\n",
            "Epoch 145/200\n",
            "22/22 [==============================] - 0s 2ms/step - loss: 0.1405 - mse: 0.1405\n",
            "Epoch 146/200\n",
            "22/22 [==============================] - 0s 2ms/step - loss: 0.2162 - mse: 0.2162\n",
            "Epoch 147/200\n",
            "22/22 [==============================] - 0s 2ms/step - loss: 0.1514 - mse: 0.1514\n",
            "Epoch 148/200\n",
            "22/22 [==============================] - 0s 2ms/step - loss: 0.1466 - mse: 0.1466\n",
            "Epoch 149/200\n",
            "22/22 [==============================] - 0s 2ms/step - loss: 0.1799 - mse: 0.1799\n",
            "Epoch 150/200\n",
            "22/22 [==============================] - 0s 2ms/step - loss: 0.4524 - mse: 0.4524\n",
            "Epoch 151/200\n",
            "22/22 [==============================] - 0s 2ms/step - loss: 0.2221 - mse: 0.2221\n",
            "Epoch 152/200\n",
            "22/22 [==============================] - 0s 2ms/step - loss: 0.2434 - mse: 0.2434\n",
            "Epoch 153/200\n",
            "22/22 [==============================] - 0s 2ms/step - loss: 0.1981 - mse: 0.1981\n",
            "Epoch 154/200\n",
            "22/22 [==============================] - 0s 2ms/step - loss: 0.1636 - mse: 0.1636\n",
            "Epoch 155/200\n",
            "22/22 [==============================] - 0s 2ms/step - loss: 0.1664 - mse: 0.1664\n",
            "Epoch 156/200\n",
            "22/22 [==============================] - 0s 2ms/step - loss: 0.2008 - mse: 0.2008\n",
            "Epoch 157/200\n",
            "22/22 [==============================] - 0s 2ms/step - loss: 0.1791 - mse: 0.1791\n",
            "Epoch 158/200\n",
            "22/22 [==============================] - 0s 2ms/step - loss: 0.2006 - mse: 0.2006\n",
            "Epoch 159/200\n",
            "22/22 [==============================] - 0s 2ms/step - loss: 0.1796 - mse: 0.1796\n",
            "Epoch 160/200\n",
            "22/22 [==============================] - 0s 2ms/step - loss: 0.1206 - mse: 0.1206\n",
            "Epoch 161/200\n",
            "22/22 [==============================] - 0s 2ms/step - loss: 0.1140 - mse: 0.1140\n",
            "Epoch 162/200\n",
            "22/22 [==============================] - 0s 2ms/step - loss: 0.1258 - mse: 0.1258\n",
            "Epoch 163/200\n",
            "22/22 [==============================] - 0s 2ms/step - loss: 0.1264 - mse: 0.1264\n",
            "Epoch 164/200\n",
            "22/22 [==============================] - 0s 2ms/step - loss: 0.1890 - mse: 0.1890\n",
            "Epoch 165/200\n",
            "22/22 [==============================] - 0s 2ms/step - loss: 0.1413 - mse: 0.1413\n",
            "Epoch 166/200\n",
            "22/22 [==============================] - 0s 2ms/step - loss: 0.1322 - mse: 0.1322\n",
            "Epoch 167/200\n",
            "22/22 [==============================] - 0s 2ms/step - loss: 0.1136 - mse: 0.1136\n",
            "Epoch 168/200\n",
            "22/22 [==============================] - 0s 2ms/step - loss: 0.1889 - mse: 0.1889\n",
            "Epoch 169/200\n",
            "22/22 [==============================] - 0s 2ms/step - loss: 0.2104 - mse: 0.2104\n",
            "Epoch 170/200\n",
            "22/22 [==============================] - 0s 2ms/step - loss: 0.1097 - mse: 0.1097\n",
            "Epoch 171/200\n",
            "22/22 [==============================] - 0s 2ms/step - loss: 0.1054 - mse: 0.1054\n",
            "Epoch 172/200\n",
            "22/22 [==============================] - 0s 2ms/step - loss: 0.1885 - mse: 0.1885\n",
            "Epoch 173/200\n",
            "22/22 [==============================] - 0s 2ms/step - loss: 0.1375 - mse: 0.1375\n",
            "Epoch 174/200\n",
            "22/22 [==============================] - 0s 2ms/step - loss: 0.1691 - mse: 0.1691\n",
            "Epoch 175/200\n",
            "22/22 [==============================] - 0s 2ms/step - loss: 0.1426 - mse: 0.1426\n",
            "Epoch 176/200\n",
            "22/22 [==============================] - 0s 2ms/step - loss: 0.1771 - mse: 0.1771\n",
            "Epoch 177/200\n",
            "22/22 [==============================] - 0s 2ms/step - loss: 0.1334 - mse: 0.1334\n",
            "Epoch 178/200\n",
            "22/22 [==============================] - 0s 2ms/step - loss: 0.1229 - mse: 0.1229\n",
            "Epoch 179/200\n",
            "22/22 [==============================] - 0s 2ms/step - loss: 0.1680 - mse: 0.1680\n",
            "Epoch 180/200\n",
            "22/22 [==============================] - 0s 2ms/step - loss: 0.1278 - mse: 0.1278\n",
            "Epoch 181/200\n",
            "22/22 [==============================] - 0s 2ms/step - loss: 0.2260 - mse: 0.2260\n",
            "Epoch 182/200\n",
            "22/22 [==============================] - 0s 2ms/step - loss: 0.1136 - mse: 0.1136\n",
            "Epoch 183/200\n",
            "22/22 [==============================] - 0s 2ms/step - loss: 0.1321 - mse: 0.1321\n",
            "Epoch 184/200\n",
            "22/22 [==============================] - 0s 2ms/step - loss: 0.1525 - mse: 0.1525\n",
            "Epoch 185/200\n",
            "22/22 [==============================] - 0s 2ms/step - loss: 0.1184 - mse: 0.1184\n",
            "Epoch 186/200\n",
            "22/22 [==============================] - 0s 2ms/step - loss: 0.1429 - mse: 0.1429\n",
            "Epoch 187/200\n",
            "22/22 [==============================] - 0s 2ms/step - loss: 0.1767 - mse: 0.1767\n",
            "Epoch 188/200\n",
            "22/22 [==============================] - 0s 2ms/step - loss: 0.1433 - mse: 0.1433\n",
            "Epoch 189/200\n",
            "22/22 [==============================] - 0s 2ms/step - loss: 0.1223 - mse: 0.1223\n",
            "Epoch 190/200\n",
            "22/22 [==============================] - 0s 2ms/step - loss: 0.2468 - mse: 0.2468\n",
            "Epoch 191/200\n",
            "22/22 [==============================] - 0s 2ms/step - loss: 0.0941 - mse: 0.0941\n",
            "Epoch 192/200\n",
            "22/22 [==============================] - 0s 2ms/step - loss: 0.1142 - mse: 0.1142\n",
            "Epoch 193/200\n",
            "22/22 [==============================] - 0s 2ms/step - loss: 0.1216 - mse: 0.1216\n",
            "Epoch 194/200\n",
            "22/22 [==============================] - 0s 2ms/step - loss: 0.0922 - mse: 0.0922\n",
            "Epoch 195/200\n",
            "22/22 [==============================] - 0s 2ms/step - loss: 0.1306 - mse: 0.1306\n",
            "Epoch 196/200\n",
            "22/22 [==============================] - 0s 2ms/step - loss: 0.1215 - mse: 0.1215\n",
            "Epoch 197/200\n",
            "22/22 [==============================] - 0s 2ms/step - loss: 0.1687 - mse: 0.1687\n",
            "Epoch 198/200\n",
            "22/22 [==============================] - 0s 2ms/step - loss: 0.1349 - mse: 0.1349\n",
            "Epoch 199/200\n",
            "22/22 [==============================] - 0s 2ms/step - loss: 0.1693 - mse: 0.1693\n",
            "Epoch 200/200\n",
            "22/22 [==============================] - 0s 2ms/step - loss: 0.0966 - mse: 0.0966\n"
          ]
        },
        {
          "data": {
            "text/plain": [
              "<keras.callbacks.History at 0x2327c56d160>"
            ]
          },
          "execution_count": 97,
          "metadata": {},
          "output_type": "execute_result"
        }
      ],
      "source": [
        "model.fit(X_train, y, epochs= 200)"
      ]
    },
    {
      "cell_type": "code",
      "execution_count": null,
      "metadata": {
        "id": "fJqD4Dg5BE17"
      },
      "outputs": [],
      "source": [
        "from sklearn.metrics import r2_score"
      ]
    },
    {
      "cell_type": "code",
      "execution_count": null,
      "metadata": {
        "id": "vG_mebGcBE17",
        "outputId": "91515c8c-edc0-4d2e-98e9-ffee81ff1405"
      },
      "outputs": [
        {
          "name": "stdout",
          "output_type": "stream",
          "text": [
            "12/12 [==============================] - 0s 1ms/step\n"
          ]
        }
      ],
      "source": [
        "x_test_pred = model.predict(X_test)"
      ]
    },
    {
      "cell_type": "code",
      "execution_count": null,
      "metadata": {
        "id": "fT96cuHiBE18",
        "outputId": "e57e2e18-1f7e-482d-cc95-93103f1ba9e0"
      },
      "outputs": [
        {
          "data": {
            "text/plain": [
              "0.6856171003390445"
            ]
          },
          "execution_count": 103,
          "metadata": {},
          "output_type": "execute_result"
        }
      ],
      "source": [
        "r2_score(y_test, x_test_pred)"
      ]
    }
  ],
  "metadata": {
    "colab": {
      "provenance": []
    },
    "kernelspec": {
      "display_name": "tf",
      "language": "python",
      "name": "python3"
    },
    "language_info": {
      "codemirror_mode": {
        "name": "ipython",
        "version": 3
      },
      "file_extension": ".py",
      "mimetype": "text/x-python",
      "name": "python",
      "nbconvert_exporter": "python",
      "pygments_lexer": "ipython3",
      "version": "3.9.15 (main, Nov 24 2022, 14:31:59) \n[GCC 11.2.0]"
    },
    "vscode": {
      "interpreter": {
        "hash": "71be762759ae1b1747e1cfc60efa181cfc93ac416fe5084a790ec64e97c902b4"
      }
    }
  },
  "nbformat": 4,
  "nbformat_minor": 0
}
