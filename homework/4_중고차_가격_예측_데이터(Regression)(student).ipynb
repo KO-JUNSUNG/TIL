{
  "cells": [
    {
      "cell_type": "markdown",
      "metadata": {
        "id": "iY9S6koHmQkh"
      },
      "source": [
        "- https://www.datamanim.com/dataset/03_dataq/typetwo.html#id3"
      ]
    },
    {
      "cell_type": "markdown",
      "metadata": {
        "id": "YNrxD6RGmQkj"
      },
      "source": [
        "# 5. 중고차 가격 예측 데이터(Regression)\n",
        "\n",
        "> Attention\n",
        "- 데이터 설명 : 중고차 가격 예측 데이터 (종속변수 :G3)\n",
        "- 데이터 출처 : https://www.kaggle.com/datasets/adityadesai13/used-car-dataset-ford-and-mercedes?select=vw.csv (참고, 데이터 수정)    \n",
        "- x_train : https://raw.githubusercontent.com/Datamanim/datarepo/main/carsprice/X_train.csv\n",
        "- y_train : https://raw.githubusercontent.com/Datamanim/datarepo/main/carsprice/y_train.csv\n",
        "- x_test: https://raw.githubusercontent.com/Datamanim/datarepo/main/carsprice/X_test.csv\n",
        "- y_test(평가용) : https://raw.githubusercontent.com/Datamanim/datarepo/main/carsprice/y_test.csv"
      ]
    },
    {
      "cell_type": "markdown",
      "metadata": {
        "id": "dFUKIjrUmQkk"
      },
      "source": [
        "#### 0. 시험 환경 세팅"
      ]
    },
    {
      "cell_type": "code",
      "execution_count": 28,
      "metadata": {
        "id": "Los0w6KpmQkk"
      },
      "outputs": [
        {
          "data": {
            "text/plain": [
              "((4960, 10), (4960, 2), (2672, 10), (2672, 2))"
            ]
          },
          "execution_count": 28,
          "metadata": {},
          "output_type": "execute_result"
        }
      ],
      "source": [
        "import pandas as pd\n",
        "\n",
        "X_train = pd.read_csv(\"https://raw.githubusercontent.com/Datamanim/datarepo/main/carsprice/X_train.csv\")\n",
        "y_train = pd.read_csv(\"https://raw.githubusercontent.com/Datamanim/datarepo/main/carsprice/y_train.csv\")\n",
        "X_test = pd.read_csv(\"https://raw.githubusercontent.com/Datamanim/datarepo/main/carsprice/X_test.csv\")\n",
        "y_test = pd.read_csv(\"https://raw.githubusercontent.com/Datamanim/datarepo/main/carsprice/y_test.csv\")\n",
        "\n",
        "X_train.shape, y_train.shape, X_test.shape, y_test.shape"
      ]
    },
    {
      "cell_type": "markdown",
      "metadata": {
        "id": "vM1zXBfNmQkl"
      },
      "source": [
        "#### 1. 라이브러리 및 데이터 호출"
      ]
    },
    {
      "cell_type": "code",
      "execution_count": 27,
      "metadata": {
        "id": "cc23k4RgmQkm"
      },
      "outputs": [],
      "source": [
        "import numpy as np\n",
        "import pandas as pd"
      ]
    },
    {
      "cell_type": "code",
      "execution_count": 29,
      "metadata": {
        "id": "oUx7aNdHmQkm"
      },
      "outputs": [
        {
          "data": {
            "text/plain": [
              "((4960, 9), (2672, 9), (4960,))"
            ]
          },
          "execution_count": 29,
          "metadata": {},
          "output_type": "execute_result"
        }
      ],
      "source": [
        "X_train.drop('carID', axis=1, inplace=True)\n",
        "carID = X_test.pop('carID')\n",
        "\n",
        "y = y_train['price']\n",
        "\n",
        "X_train.shape, X_test.shape, y.shape"
      ]
    },
    {
      "attachments": {},
      "cell_type": "markdown",
      "metadata": {
        "id": "R8m1RhxemQkn"
      },
      "source": [
        "#### 2. EDA\n",
        "- X_train dataset 확인\n",
        "- null 값 확인\n",
        "- object column, non-object column 분리"
      ]
    },
    {
      "cell_type": "code",
      "execution_count": 8,
      "metadata": {},
      "outputs": [
        {
          "name": "stdout",
          "output_type": "stream",
          "text": [
            "      brand      model  year transmission  mileage fuelType    tax   mpg  \\\n",
            "0    hyundi   Santa Fe  2019    Semi-Auto     4223   Diesel  145.0  39.8   \n",
            "1  vauxhall        GTC  2015       Manual    47870   Diesel  125.0  60.1   \n",
            "2      audi        RS4  2019    Automatic     5151   Petrol  145.0  29.1   \n",
            "3        vw   Scirocco  2016    Automatic    20423   Diesel   30.0  57.6   \n",
            "4     skoda      Scala  2020    Semi-Auto     3569   Petrol  145.0  47.1   \n",
            "\n",
            "   engineSize  \n",
            "0         2.2  \n",
            "1         2.0  \n",
            "2         2.9  \n",
            "3         2.0  \n",
            "4         1.0  \n",
            "==========\n",
            "brand           0\n",
            "model           0\n",
            "year            0\n",
            "transmission    0\n",
            "mileage         0\n",
            "fuelType        0\n",
            "tax             0\n",
            "mpg             0\n",
            "engineSize      0\n",
            "dtype: int64\n"
          ]
        }
      ],
      "source": [
        "print(X_train.head())\n",
        "print(\"=\"*10)\n",
        "print(X_train.isnull().sum())"
      ]
    },
    {
      "cell_type": "code",
      "execution_count": 9,
      "metadata": {},
      "outputs": [
        {
          "name": "stdout",
          "output_type": "stream",
          "text": [
            "==========\n",
            "<class 'pandas.core.frame.DataFrame'>\n",
            "RangeIndex: 4960 entries, 0 to 4959\n",
            "Data columns (total 9 columns):\n",
            " #   Column        Non-Null Count  Dtype  \n",
            "---  ------        --------------  -----  \n",
            " 0   brand         4960 non-null   object \n",
            " 1   model         4960 non-null   object \n",
            " 2   year          4960 non-null   int64  \n",
            " 3   transmission  4960 non-null   object \n",
            " 4   mileage       4960 non-null   int64  \n",
            " 5   fuelType      4960 non-null   object \n",
            " 6   tax           4960 non-null   float64\n",
            " 7   mpg           4960 non-null   float64\n",
            " 8   engineSize    4960 non-null   float64\n",
            "dtypes: float64(3), int64(2), object(4)\n",
            "memory usage: 348.9+ KB\n",
            "None\n"
          ]
        }
      ],
      "source": [
        "print(\"=\"*10)\n",
        "print(X_train.info())"
      ]
    },
    {
      "cell_type": "code",
      "execution_count": 30,
      "metadata": {},
      "outputs": [],
      "source": [
        "categorical = X_train.select_dtypes(include='object').columns\n",
        "integer= X_train.select_dtypes(include=['int','float']).columns"
      ]
    },
    {
      "cell_type": "code",
      "execution_count": 42,
      "metadata": {},
      "outputs": [
        {
          "data": {
            "text/html": [
              "<div>\n",
              "<style scoped>\n",
              "    .dataframe tbody tr th:only-of-type {\n",
              "        vertical-align: middle;\n",
              "    }\n",
              "\n",
              "    .dataframe tbody tr th {\n",
              "        vertical-align: top;\n",
              "    }\n",
              "\n",
              "    .dataframe thead th {\n",
              "        text-align: right;\n",
              "    }\n",
              "</style>\n",
              "<table border=\"1\" class=\"dataframe\">\n",
              "  <thead>\n",
              "    <tr style=\"text-align: right;\">\n",
              "      <th></th>\n",
              "      <th>year</th>\n",
              "      <th>mileage</th>\n",
              "      <th>tax</th>\n",
              "      <th>mpg</th>\n",
              "      <th>engineSize</th>\n",
              "    </tr>\n",
              "  </thead>\n",
              "  <tbody>\n",
              "    <tr>\n",
              "      <th>0</th>\n",
              "      <td>2019</td>\n",
              "      <td>4223</td>\n",
              "      <td>145.0</td>\n",
              "      <td>39.8</td>\n",
              "      <td>2.2</td>\n",
              "    </tr>\n",
              "    <tr>\n",
              "      <th>1</th>\n",
              "      <td>2015</td>\n",
              "      <td>47870</td>\n",
              "      <td>125.0</td>\n",
              "      <td>60.1</td>\n",
              "      <td>2.0</td>\n",
              "    </tr>\n",
              "    <tr>\n",
              "      <th>2</th>\n",
              "      <td>2019</td>\n",
              "      <td>5151</td>\n",
              "      <td>145.0</td>\n",
              "      <td>29.1</td>\n",
              "      <td>2.9</td>\n",
              "    </tr>\n",
              "    <tr>\n",
              "      <th>3</th>\n",
              "      <td>2016</td>\n",
              "      <td>20423</td>\n",
              "      <td>30.0</td>\n",
              "      <td>57.6</td>\n",
              "      <td>2.0</td>\n",
              "    </tr>\n",
              "    <tr>\n",
              "      <th>4</th>\n",
              "      <td>2020</td>\n",
              "      <td>3569</td>\n",
              "      <td>145.0</td>\n",
              "      <td>47.1</td>\n",
              "      <td>1.0</td>\n",
              "    </tr>\n",
              "    <tr>\n",
              "      <th>...</th>\n",
              "      <td>...</td>\n",
              "      <td>...</td>\n",
              "      <td>...</td>\n",
              "      <td>...</td>\n",
              "      <td>...</td>\n",
              "    </tr>\n",
              "    <tr>\n",
              "      <th>4955</th>\n",
              "      <td>2015</td>\n",
              "      <td>24314</td>\n",
              "      <td>125.0</td>\n",
              "      <td>56.6</td>\n",
              "      <td>2.1</td>\n",
              "    </tr>\n",
              "    <tr>\n",
              "      <th>4956</th>\n",
              "      <td>2017</td>\n",
              "      <td>18000</td>\n",
              "      <td>145.0</td>\n",
              "      <td>51.4</td>\n",
              "      <td>3.0</td>\n",
              "    </tr>\n",
              "    <tr>\n",
              "      <th>4957</th>\n",
              "      <td>2015</td>\n",
              "      <td>84932</td>\n",
              "      <td>30.0</td>\n",
              "      <td>60.1</td>\n",
              "      <td>2.0</td>\n",
              "    </tr>\n",
              "    <tr>\n",
              "      <th>4958</th>\n",
              "      <td>2017</td>\n",
              "      <td>30150</td>\n",
              "      <td>145.0</td>\n",
              "      <td>62.8</td>\n",
              "      <td>3.0</td>\n",
              "    </tr>\n",
              "    <tr>\n",
              "      <th>4959</th>\n",
              "      <td>2014</td>\n",
              "      <td>40230</td>\n",
              "      <td>150.0</td>\n",
              "      <td>56.5</td>\n",
              "      <td>3.0</td>\n",
              "    </tr>\n",
              "  </tbody>\n",
              "</table>\n",
              "<p>4960 rows × 5 columns</p>\n",
              "</div>"
            ],
            "text/plain": [
              "      year  mileage    tax   mpg  engineSize\n",
              "0     2019     4223  145.0  39.8         2.2\n",
              "1     2015    47870  125.0  60.1         2.0\n",
              "2     2019     5151  145.0  29.1         2.9\n",
              "3     2016    20423   30.0  57.6         2.0\n",
              "4     2020     3569  145.0  47.1         1.0\n",
              "...    ...      ...    ...   ...         ...\n",
              "4955  2015    24314  125.0  56.6         2.1\n",
              "4956  2017    18000  145.0  51.4         3.0\n",
              "4957  2015    84932   30.0  60.1         2.0\n",
              "4958  2017    30150  145.0  62.8         3.0\n",
              "4959  2014    40230  150.0  56.5         3.0\n",
              "\n",
              "[4960 rows x 5 columns]"
            ]
          },
          "execution_count": 42,
          "metadata": {},
          "output_type": "execute_result"
        }
      ],
      "source": [
        "X_train[integer]"
      ]
    },
    {
      "cell_type": "code",
      "execution_count": 33,
      "metadata": {},
      "outputs": [
        {
          "name": "stdout",
          "output_type": "stream",
          "text": [
            "year 2020\n",
            "2020\n",
            "====================================================================================================\n",
            "mileage 259000\n",
            "259000\n",
            "====================================================================================================\n",
            "tax 580.0\n",
            "580.0\n",
            "====================================================================================================\n",
            "mpg 470.8\n",
            "470.8\n",
            "====================================================================================================\n",
            "engineSize 6.6\n",
            "6.6\n",
            "====================================================================================================\n"
          ]
        }
      ],
      "source": [
        "for c in integer:\n",
        "    print(c, X_train[c].max())\n",
        "    print(X_train[c].max())\n",
        "    print('='*100)"
      ]
    },
    {
      "cell_type": "code",
      "execution_count": 34,
      "metadata": {},
      "outputs": [],
      "source": [
        "import matplotlib.pyplot as plt"
      ]
    },
    {
      "cell_type": "code",
      "execution_count": 43,
      "metadata": {},
      "outputs": [
        {
          "data": {
            "text/plain": [
              "{'whiskers': [<matplotlib.lines.Line2D at 0x7fe11439d130>,\n",
              "  <matplotlib.lines.Line2D at 0x7fe11439d3d0>,\n",
              "  <matplotlib.lines.Line2D at 0x7fe1143ae400>,\n",
              "  <matplotlib.lines.Line2D at 0x7fe1143ae6a0>,\n",
              "  <matplotlib.lines.Line2D at 0x7fe11433d6a0>,\n",
              "  <matplotlib.lines.Line2D at 0x7fe11433d940>,\n",
              "  <matplotlib.lines.Line2D at 0x7fe11434a940>,\n",
              "  <matplotlib.lines.Line2D at 0x7fe11434abe0>,\n",
              "  <matplotlib.lines.Line2D at 0x7fe114356be0>,\n",
              "  <matplotlib.lines.Line2D at 0x7fe114356e80>],\n",
              " 'caps': [<matplotlib.lines.Line2D at 0x7fe11439d670>,\n",
              "  <matplotlib.lines.Line2D at 0x7fe11439d910>,\n",
              "  <matplotlib.lines.Line2D at 0x7fe1143ae940>,\n",
              "  <matplotlib.lines.Line2D at 0x7fe1143aebe0>,\n",
              "  <matplotlib.lines.Line2D at 0x7fe11433dbe0>,\n",
              "  <matplotlib.lines.Line2D at 0x7fe11433de80>,\n",
              "  <matplotlib.lines.Line2D at 0x7fe11434ae80>,\n",
              "  <matplotlib.lines.Line2D at 0x7fe114356160>,\n",
              "  <matplotlib.lines.Line2D at 0x7fe114366160>,\n",
              "  <matplotlib.lines.Line2D at 0x7fe114366400>],\n",
              " 'boxes': [<matplotlib.lines.Line2D at 0x7fe11438ae50>,\n",
              "  <matplotlib.lines.Line2D at 0x7fe1143ae160>,\n",
              "  <matplotlib.lines.Line2D at 0x7fe11433d400>,\n",
              "  <matplotlib.lines.Line2D at 0x7fe11434a6a0>,\n",
              "  <matplotlib.lines.Line2D at 0x7fe114356940>],\n",
              " 'medians': [<matplotlib.lines.Line2D at 0x7fe11439dbb0>,\n",
              "  <matplotlib.lines.Line2D at 0x7fe1143aee80>,\n",
              "  <matplotlib.lines.Line2D at 0x7fe11434a160>,\n",
              "  <matplotlib.lines.Line2D at 0x7fe114356400>,\n",
              "  <matplotlib.lines.Line2D at 0x7fe1143666a0>],\n",
              " 'fliers': [<matplotlib.lines.Line2D at 0x7fe11439de50>,\n",
              "  <matplotlib.lines.Line2D at 0x7fe11433d160>,\n",
              "  <matplotlib.lines.Line2D at 0x7fe11434a400>,\n",
              "  <matplotlib.lines.Line2D at 0x7fe1143566a0>,\n",
              "  <matplotlib.lines.Line2D at 0x7fe114366940>],\n",
              " 'means': []}"
            ]
          },
          "execution_count": 43,
          "metadata": {},
          "output_type": "execute_result"
        },
        {
          "data": {
            "image/png": "[encoded data removed]",
            "text/plain": [
              "<Figure size 640x480 with 1 Axes>"
            ]
          },
          "metadata": {},
          "output_type": "display_data"
        }
      ],
      "source": [
        "fig, ax = plt.subplots()\n",
        "\n",
        "ax.boxplot(X_train[integer])"
      ]
    },
    {
      "cell_type": "markdown",
      "metadata": {
        "id": "7hlrBbmGmQko"
      },
      "source": [
        "#### 3. Preprocessing"
      ]
    },
    {
      "attachments": {},
      "cell_type": "markdown",
      "metadata": {
        "id": "TJxyZjXnmQko"
      },
      "source": [
        "> tax 컬럼 제거\n",
        "\n",
        "> outlier 제거"
      ]
    },
    {
      "cell_type": "code",
      "execution_count": 44,
      "metadata": {
        "id": "YZHxf3TqmQko"
      },
      "outputs": [],
      "source": [
        "del X_train[\"tax\"]\n",
        "del X_test[\"tax\"]"
      ]
    },
    {
      "cell_type": "code",
      "execution_count": 52,
      "metadata": {},
      "outputs": [
        {
          "name": "stdout",
          "output_type": "stream",
          "text": [
            "Index(['year', 'mileage', 'mpg', 'engineSize'], dtype='object')\n"
          ]
        }
      ],
      "source": [
        "integer=X_train.select_dtypes(include=['int','float']).columns\n",
        "print(integer)"
      ]
    },
    {
      "cell_type": "code",
      "execution_count": 51,
      "metadata": {},
      "outputs": [
        {
          "data": {
            "text/plain": [
              "{'whiskers': [<matplotlib.lines.Line2D at 0x7fe09809fe80>,\n",
              "  <matplotlib.lines.Line2D at 0x7fe0980b0130>,\n",
              "  <matplotlib.lines.Line2D at 0x7fe0980b0fd0>,\n",
              "  <matplotlib.lines.Line2D at 0x7fe0980bd2b0>,\n",
              "  <matplotlib.lines.Line2D at 0x7fe09804c2b0>,\n",
              "  <matplotlib.lines.Line2D at 0x7fe0981a2850>,\n",
              "  <matplotlib.lines.Line2D at 0x7fe09804c7f0>,\n",
              "  <matplotlib.lines.Line2D at 0x7fe09804ca90>],\n",
              " 'caps': [<matplotlib.lines.Line2D at 0x7fe0980b03d0>,\n",
              "  <matplotlib.lines.Line2D at 0x7fe0980b0670>,\n",
              "  <matplotlib.lines.Line2D at 0x7fe0980bd550>,\n",
              "  <matplotlib.lines.Line2D at 0x7fe0980bd7f0>,\n",
              "  <matplotlib.lines.Line2D at 0x7fe098156550>,\n",
              "  <matplotlib.lines.Line2D at 0x7fe098156dc0>,\n",
              "  <matplotlib.lines.Line2D at 0x7fe09804cd30>,\n",
              "  <matplotlib.lines.Line2D at 0x7fe09804cfd0>],\n",
              " 'boxes': [<matplotlib.lines.Line2D at 0x7fe2486f4a60>,\n",
              "  <matplotlib.lines.Line2D at 0x7fe0980b0d30>,\n",
              "  <matplotlib.lines.Line2D at 0x7fe0980bdfd0>,\n",
              "  <matplotlib.lines.Line2D at 0x7fe09804c550>],\n",
              " 'medians': [<matplotlib.lines.Line2D at 0x7fe0980b07f0>,\n",
              "  <matplotlib.lines.Line2D at 0x7fe0980bda90>,\n",
              "  <matplotlib.lines.Line2D at 0x7fe098156c10>,\n",
              "  <matplotlib.lines.Line2D at 0x7fe09815e2b0>],\n",
              " 'fliers': [<matplotlib.lines.Line2D at 0x7fe0980b0a90>,\n",
              "  <matplotlib.lines.Line2D at 0x7fe0980bdd30>,\n",
              "  <matplotlib.lines.Line2D at 0x7fe09804c160>,\n",
              "  <matplotlib.lines.Line2D at 0x7fe09815e550>],\n",
              " 'means': []}"
            ]
          },
          "execution_count": 51,
          "metadata": {},
          "output_type": "execute_result"
        },
        {
          "data": {
            "image/png": "[encoded data removed]",
            "text/plain": [
              "<Figure size 640x480 with 1 Axes>"
            ]
          },
          "metadata": {},
          "output_type": "display_data"
        }
      ],
      "source": [
        "fig, ax = plt.subplots()\n",
        "ax.boxplot(X_train[integer])"
      ]
    },
    {
      "cell_type": "code",
      "execution_count": null,
      "metadata": {},
      "outputs": [],
      "source": [
        "# 결과값"
      ]
    },
    {
      "cell_type": "markdown",
      "metadata": {
        "id": "jZsFbtcSmQko"
      },
      "source": [
        "> 인코딩 및 표준화\n",
        "- 범주형 컬럼 : LabelEncoder\n",
        "- 전체 컬럼 : 표준화"
      ]
    },
    {
      "cell_type": "code",
      "execution_count": 53,
      "metadata": {},
      "outputs": [],
      "source": [
        "from sklearn.preprocessing import StandardScaler,LabelEncoder"
      ]
    },
    {
      "cell_type": "code",
      "execution_count": 54,
      "metadata": {},
      "outputs": [],
      "source": [
        "scaler = StandardScaler()\n",
        "X_train[integer] = scaler.fit_transform(X_train[integer])\n",
        "X_test[integer] = scaler.transform(X_test[integer])\n",
        "\n",
        "le = LabelEncoder()\n",
        "X_train[categorical] = X_train[categorical].apply(le.fit_transform)\n",
        "X_test[categorical] = X_test[categorical].apply(le.fit_transform)"
      ]
    },
    {
      "cell_type": "code",
      "execution_count": 55,
      "metadata": {},
      "outputs": [
        {
          "data": {
            "text/plain": [
              "{'whiskers': [<matplotlib.lines.Line2D at 0x7fe098015340>,\n",
              "  <matplotlib.lines.Line2D at 0x7fe0980155e0>,\n",
              "  <matplotlib.lines.Line2D at 0x7fe0980264c0>,\n",
              "  <matplotlib.lines.Line2D at 0x7fe098026760>,\n",
              "  <matplotlib.lines.Line2D at 0x7fe098031790>,\n",
              "  <matplotlib.lines.Line2D at 0x7fe098031a30>,\n",
              "  <matplotlib.lines.Line2D at 0x7fe09803fa30>,\n",
              "  <matplotlib.lines.Line2D at 0x7fe09803fcd0>],\n",
              " 'caps': [<matplotlib.lines.Line2D at 0x7fe098015880>,\n",
              "  <matplotlib.lines.Line2D at 0x7fe098015a00>,\n",
              "  <matplotlib.lines.Line2D at 0x7fe098026a00>,\n",
              "  <matplotlib.lines.Line2D at 0x7fe098026ca0>,\n",
              "  <matplotlib.lines.Line2D at 0x7fe098031cd0>,\n",
              "  <matplotlib.lines.Line2D at 0x7fe098031f70>,\n",
              "  <matplotlib.lines.Line2D at 0x7fe09803ff70>,\n",
              "  <matplotlib.lines.Line2D at 0x7fe08c52f250>],\n",
              " 'boxes': [<matplotlib.lines.Line2D at 0x7fe0980150a0>,\n",
              "  <matplotlib.lines.Line2D at 0x7fe098026220>,\n",
              "  <matplotlib.lines.Line2D at 0x7fe0980314f0>,\n",
              "  <matplotlib.lines.Line2D at 0x7fe09803f790>],\n",
              " 'medians': [<matplotlib.lines.Line2D at 0x7fe098015ca0>,\n",
              "  <matplotlib.lines.Line2D at 0x7fe098026f40>,\n",
              "  <matplotlib.lines.Line2D at 0x7fe09803f250>,\n",
              "  <matplotlib.lines.Line2D at 0x7fe08c52f4f0>],\n",
              " 'fliers': [<matplotlib.lines.Line2D at 0x7fe098015f40>,\n",
              "  <matplotlib.lines.Line2D at 0x7fe098031220>,\n",
              "  <matplotlib.lines.Line2D at 0x7fe09803f4f0>,\n",
              "  <matplotlib.lines.Line2D at 0x7fe08c52f790>],\n",
              " 'means': []}"
            ]
          },
          "execution_count": 55,
          "metadata": {},
          "output_type": "execute_result"
        },
        {
          "data": {
            "image/png": "[encoded data removed]",
            "text/plain": [
              "<Figure size 640x480 with 1 Axes>"
            ]
          },
          "metadata": {},
          "output_type": "display_data"
        }
      ],
      "source": [
        "fig, ax = plt.subplots()\n",
        "ax.boxplot(X_train[integer])"
      ]
    },
    {
      "cell_type": "markdown",
      "metadata": {
        "id": "Cu17WfZqmQkp"
      },
      "source": [
        "#### 4. Modeling\n",
        "- RandomForestRegressor, GradientBoostingRegressor, XGBRegressor, XGBRFRegressor,DNN\n",
        "- r2_score를 이용해 측정"
      ]
    },
    {
      "cell_type": "code",
      "execution_count": 59,
      "metadata": {
        "id": "TFAAOaK8mQkp"
      },
      "outputs": [],
      "source": [
        "from sklearn.model_selection import GridSearchCV\n",
        "from sklearn.ensemble import RandomForestRegressor, GradientBoostingRegressor\n",
        "from xgboost import XGBRegressor, XGBRFRegressor\n",
        "from sklearn.metrics import mean_squared_error, r2_score"
      ]
    },
    {
      "cell_type": "code",
      "execution_count": 60,
      "metadata": {},
      "outputs": [],
      "source": [
        "import tensorflow as tf"
      ]
    },
    {
      "cell_type": "code",
      "execution_count": 17,
      "metadata": {},
      "outputs": [
        {
          "data": {
            "text/html": [
              "<div>\n",
              "<style scoped>\n",
              "    .dataframe tbody tr th:only-of-type {\n",
              "        vertical-align: middle;\n",
              "    }\n",
              "\n",
              "    .dataframe tbody tr th {\n",
              "        vertical-align: top;\n",
              "    }\n",
              "\n",
              "    .dataframe thead th {\n",
              "        text-align: right;\n",
              "    }\n",
              "</style>\n",
              "<table border=\"1\" class=\"dataframe\">\n",
              "  <thead>\n",
              "    <tr style=\"text-align: right;\">\n",
              "      <th></th>\n",
              "      <th>brand</th>\n",
              "      <th>model</th>\n",
              "      <th>year</th>\n",
              "      <th>transmission</th>\n",
              "      <th>mileage</th>\n",
              "      <th>fuelType</th>\n",
              "      <th>mpg</th>\n",
              "      <th>engineSize</th>\n",
              "    </tr>\n",
              "  </thead>\n",
              "  <tbody>\n",
              "    <tr>\n",
              "      <th>0</th>\n",
              "      <td>3</td>\n",
              "      <td>69</td>\n",
              "      <td>0.784430</td>\n",
              "      <td>3</td>\n",
              "      <td>-0.848304</td>\n",
              "      <td>0</td>\n",
              "      <td>-0.295744</td>\n",
              "      <td>0.095814</td>\n",
              "    </tr>\n",
              "    <tr>\n",
              "      <th>1</th>\n",
              "      <td>7</td>\n",
              "      <td>30</td>\n",
              "      <td>-0.602655</td>\n",
              "      <td>1</td>\n",
              "      <td>0.937516</td>\n",
              "      <td>0</td>\n",
              "      <td>0.272200</td>\n",
              "      <td>-0.157579</td>\n",
              "    </tr>\n",
              "    <tr>\n",
              "      <th>2</th>\n",
              "      <td>0</td>\n",
              "      <td>58</td>\n",
              "      <td>0.784430</td>\n",
              "      <td>0</td>\n",
              "      <td>-0.810335</td>\n",
              "      <td>4</td>\n",
              "      <td>-0.595105</td>\n",
              "      <td>0.982689</td>\n",
              "    </tr>\n",
              "    <tr>\n",
              "      <th>3</th>\n",
              "      <td>8</td>\n",
              "      <td>71</td>\n",
              "      <td>-0.255884</td>\n",
              "      <td>0</td>\n",
              "      <td>-0.185480</td>\n",
              "      <td>0</td>\n",
              "      <td>0.202256</td>\n",
              "      <td>-0.157579</td>\n",
              "    </tr>\n",
              "    <tr>\n",
              "      <th>4</th>\n",
              "      <td>5</td>\n",
              "      <td>70</td>\n",
              "      <td>1.131202</td>\n",
              "      <td>3</td>\n",
              "      <td>-0.875062</td>\n",
              "      <td>4</td>\n",
              "      <td>-0.091508</td>\n",
              "      <td>-1.424542</td>\n",
              "    </tr>\n",
              "  </tbody>\n",
              "</table>\n",
              "</div>"
            ],
            "text/plain": [
              "   brand  model      year  transmission   mileage  fuelType       mpg  \\\n",
              "0      3     69  0.784430             3 -0.848304         0 -0.295744   \n",
              "1      7     30 -0.602655             1  0.937516         0  0.272200   \n",
              "2      0     58  0.784430             0 -0.810335         4 -0.595105   \n",
              "3      8     71 -0.255884             0 -0.185480         0  0.202256   \n",
              "4      5     70  1.131202             3 -0.875062         4 -0.091508   \n",
              "\n",
              "   engineSize  \n",
              "0    0.095814  \n",
              "1   -0.157579  \n",
              "2    0.982689  \n",
              "3   -0.157579  \n",
              "4   -1.424542  "
            ]
          },
          "execution_count": 17,
          "metadata": {},
          "output_type": "execute_result"
        }
      ],
      "source": [
        "X_train.head()"
      ]
    },
    {
      "cell_type": "code",
      "execution_count": 58,
      "metadata": {},
      "outputs": [],
      "source": [
        "RFR=RandomForestRegressor(random_state=1)\n",
        "GBR=GradientBoostingRegressor(random_state=1)\n",
        "XGBR=XGBRegressor(random_state=1)\n",
        "XGBRF=XGBRFRegressor(random_state=1)\n",
        "models = [RFR, GBR, XGBR, XGBRF]"
      ]
    },
    {
      "cell_type": "code",
      "execution_count": 20,
      "metadata": {},
      "outputs": [
        {
          "name": "stdout",
          "output_type": "stream",
          "text": [
            "\u001b[0;31mInit signature:\u001b[0m\n",
            "\u001b[0mGridSearchCV\u001b[0m\u001b[0;34m(\u001b[0m\u001b[0;34m\u001b[0m\n",
            "\u001b[0;34m\u001b[0m    \u001b[0mestimator\u001b[0m\u001b[0;34m,\u001b[0m\u001b[0;34m\u001b[0m\n",
            "\u001b[0;34m\u001b[0m    \u001b[0mparam_grid\u001b[0m\u001b[0;34m,\u001b[0m\u001b[0;34m\u001b[0m\n",
            "\u001b[0;34m\u001b[0m    \u001b[0;34m*\u001b[0m\u001b[0;34m,\u001b[0m\u001b[0;34m\u001b[0m\n",
            "\u001b[0;34m\u001b[0m    \u001b[0mscoring\u001b[0m\u001b[0;34m=\u001b[0m\u001b[0;32mNone\u001b[0m\u001b[0;34m,\u001b[0m\u001b[0;34m\u001b[0m\n",
            "\u001b[0;34m\u001b[0m    \u001b[0mn_jobs\u001b[0m\u001b[0;34m=\u001b[0m\u001b[0;32mNone\u001b[0m\u001b[0;34m,\u001b[0m\u001b[0;34m\u001b[0m\n",
            "\u001b[0;34m\u001b[0m    \u001b[0mrefit\u001b[0m\u001b[0;34m=\u001b[0m\u001b[0;32mTrue\u001b[0m\u001b[0;34m,\u001b[0m\u001b[0;34m\u001b[0m\n",
            "\u001b[0;34m\u001b[0m    \u001b[0mcv\u001b[0m\u001b[0;34m=\u001b[0m\u001b[0;32mNone\u001b[0m\u001b[0;34m,\u001b[0m\u001b[0;34m\u001b[0m\n",
            "\u001b[0;34m\u001b[0m    \u001b[0mverbose\u001b[0m\u001b[0;34m=\u001b[0m\u001b[0;36m0\u001b[0m\u001b[0;34m,\u001b[0m\u001b[0;34m\u001b[0m\n",
            "\u001b[0;34m\u001b[0m    \u001b[0mpre_dispatch\u001b[0m\u001b[0;34m=\u001b[0m\u001b[0;34m'2*n_jobs'\u001b[0m\u001b[0;34m,\u001b[0m\u001b[0;34m\u001b[0m\n",
            "\u001b[0;34m\u001b[0m    \u001b[0merror_score\u001b[0m\u001b[0;34m=\u001b[0m\u001b[0mnan\u001b[0m\u001b[0;34m,\u001b[0m\u001b[0;34m\u001b[0m\n",
            "\u001b[0;34m\u001b[0m    \u001b[0mreturn_train_score\u001b[0m\u001b[0;34m=\u001b[0m\u001b[0;32mFalse\u001b[0m\u001b[0;34m,\u001b[0m\u001b[0;34m\u001b[0m\n",
            "\u001b[0;34m\u001b[0m\u001b[0;34m)\u001b[0m\u001b[0;34m\u001b[0m\u001b[0;34m\u001b[0m\u001b[0m\n",
            "\u001b[0;31mDocstring:\u001b[0m     \n",
            "Exhaustive search over specified parameter values for an estimator.\n",
            "\n",
            "Important members are fit, predict.\n",
            "\n",
            "GridSearchCV implements a \"fit\" and a \"score\" method.\n",
            "It also implements \"score_samples\", \"predict\", \"predict_proba\",\n",
            "\"decision_function\", \"transform\" and \"inverse_transform\" if they are\n",
            "implemented in the estimator used.\n",
            "\n",
            "The parameters of the estimator used to apply these methods are optimized\n",
            "by cross-validated grid-search over a parameter grid.\n",
            "\n",
            "Read more in the :ref:`User Guide <grid_search>`.\n",
            "\n",
            "Parameters\n",
            "----------\n",
            "estimator : estimator object\n",
            "    This is assumed to implement the scikit-learn estimator interface.\n",
            "    Either estimator needs to provide a ``score`` function,\n",
            "    or ``scoring`` must be passed.\n",
            "\n",
            "param_grid : dict or list of dictionaries\n",
            "    Dictionary with parameters names (`str`) as keys and lists of\n",
            "    parameter settings to try as values, or a list of such\n",
            "    dictionaries, in which case the grids spanned by each dictionary\n",
            "    in the list are explored. This enables searching over any sequence\n",
            "    of parameter settings.\n",
            "\n",
            "scoring : str, callable, list, tuple or dict, default=None\n",
            "    Strategy to evaluate the performance of the cross-validated model on\n",
            "    the test set.\n",
            "\n",
            "    If `scoring` represents a single score, one can use:\n",
            "\n",
            "    - a single string (see :ref:`scoring_parameter`);\n",
            "    - a callable (see :ref:`scoring`) that returns a single value.\n",
            "\n",
            "    If `scoring` represents multiple scores, one can use:\n",
            "\n",
            "    - a list or tuple of unique strings;\n",
            "    - a callable returning a dictionary where the keys are the metric\n",
            "      names and the values are the metric scores;\n",
            "    - a dictionary with metric names as keys and callables a values.\n",
            "\n",
            "    See :ref:`multimetric_grid_search` for an example.\n",
            "\n",
            "n_jobs : int, default=None\n",
            "    Number of jobs to run in parallel.\n",
            "    ``None`` means 1 unless in a :obj:`joblib.parallel_backend` context.\n",
            "    ``-1`` means using all processors. See :term:`Glossary <n_jobs>`\n",
            "    for more details.\n",
            "\n",
            "    .. versionchanged:: v0.20\n",
            "       `n_jobs` default changed from 1 to None\n",
            "\n",
            "refit : bool, str, or callable, default=True\n",
            "    Refit an estimator using the best found parameters on the whole\n",
            "    dataset.\n",
            "\n",
            "    For multiple metric evaluation, this needs to be a `str` denoting the\n",
            "    scorer that would be used to find the best parameters for refitting\n",
            "    the estimator at the end.\n",
            "\n",
            "    Where there are considerations other than maximum score in\n",
            "    choosing a best estimator, ``refit`` can be set to a function which\n",
            "    returns the selected ``best_index_`` given ``cv_results_``. In that\n",
            "    case, the ``best_estimator_`` and ``best_params_`` will be set\n",
            "    according to the returned ``best_index_`` while the ``best_score_``\n",
            "    attribute will not be available.\n",
            "\n",
            "    The refitted estimator is made available at the ``best_estimator_``\n",
            "    attribute and permits using ``predict`` directly on this\n",
            "    ``GridSearchCV`` instance.\n",
            "\n",
            "    Also for multiple metric evaluation, the attributes ``best_index_``,\n",
            "    ``best_score_`` and ``best_params_`` will only be available if\n",
            "    ``refit`` is set and all of them will be determined w.r.t this specific\n",
            "    scorer.\n",
            "\n",
            "    See ``scoring`` parameter to know more about multiple metric\n",
            "    evaluation.\n",
            "\n",
            "    See :ref:`sphx_glr_auto_examples_model_selection_plot_grid_search_digits.py`\n",
            "    to see how to design a custom selection strategy using a callable\n",
            "    via `refit`.\n",
            "\n",
            "    .. versionchanged:: 0.20\n",
            "        Support for callable added.\n",
            "\n",
            "cv : int, cross-validation generator or an iterable, default=None\n",
            "    Determines the cross-validation splitting strategy.\n",
            "    Possible inputs for cv are:\n",
            "\n",
            "    - None, to use the default 5-fold cross validation,\n",
            "    - integer, to specify the number of folds in a `(Stratified)KFold`,\n",
            "    - :term:`CV splitter`,\n",
            "    - An iterable yielding (train, test) splits as arrays of indices.\n",
            "\n",
            "    For integer/None inputs, if the estimator is a classifier and ``y`` is\n",
            "    either binary or multiclass, :class:`StratifiedKFold` is used. In all\n",
            "    other cases, :class:`KFold` is used. These splitters are instantiated\n",
            "    with `shuffle=False` so the splits will be the same across calls.\n",
            "\n",
            "    Refer :ref:`User Guide <cross_validation>` for the various\n",
            "    cross-validation strategies that can be used here.\n",
            "\n",
            "    .. versionchanged:: 0.22\n",
            "        ``cv`` default value if None changed from 3-fold to 5-fold.\n",
            "\n",
            "verbose : int\n",
            "    Controls the verbosity: the higher, the more messages.\n",
            "\n",
            "    - >1 : the computation time for each fold and parameter candidate is\n",
            "      displayed;\n",
            "    - >2 : the score is also displayed;\n",
            "    - >3 : the fold and candidate parameter indexes are also displayed\n",
            "      together with the starting time of the computation.\n",
            "\n",
            "pre_dispatch : int, or str, default='2*n_jobs'\n",
            "    Controls the number of jobs that get dispatched during parallel\n",
            "    execution. Reducing this number can be useful to avoid an\n",
            "    explosion of memory consumption when more jobs get dispatched\n",
            "    than CPUs can process. This parameter can be:\n",
            "\n",
            "        - None, in which case all the jobs are immediately\n",
            "          created and spawned. Use this for lightweight and\n",
            "          fast-running jobs, to avoid delays due to on-demand\n",
            "          spawning of the jobs\n",
            "\n",
            "        - An int, giving the exact number of total jobs that are\n",
            "          spawned\n",
            "\n",
            "        - A str, giving an expression as a function of n_jobs,\n",
            "          as in '2*n_jobs'\n",
            "\n",
            "error_score : 'raise' or numeric, default=np.nan\n",
            "    Value to assign to the score if an error occurs in estimator fitting.\n",
            "    If set to 'raise', the error is raised. If a numeric value is given,\n",
            "    FitFailedWarning is raised. This parameter does not affect the refit\n",
            "    step, which will always raise the error.\n",
            "\n",
            "return_train_score : bool, default=False\n",
            "    If ``False``, the ``cv_results_`` attribute will not include training\n",
            "    scores.\n",
            "    Computing training scores is used to get insights on how different\n",
            "    parameter settings impact the overfitting/underfitting trade-off.\n",
            "    However computing the scores on the training set can be computationally\n",
            "    expensive and is not strictly required to select the parameters that\n",
            "    yield the best generalization performance.\n",
            "\n",
            "    .. versionadded:: 0.19\n",
            "\n",
            "    .. versionchanged:: 0.21\n",
            "        Default value was changed from ``True`` to ``False``\n",
            "\n",
            "Attributes\n",
            "----------\n",
            "cv_results_ : dict of numpy (masked) ndarrays\n",
            "    A dict with keys as column headers and values as columns, that can be\n",
            "    imported into a pandas ``DataFrame``.\n",
            "\n",
            "    For instance the below given table\n",
            "\n",
            "    +------------+-----------+------------+-----------------+---+---------+\n",
            "    |param_kernel|param_gamma|param_degree|split0_test_score|...|rank_t...|\n",
            "    +============+===========+============+=================+===+=========+\n",
            "    |  'poly'    |     --    |      2     |       0.80      |...|    2    |\n",
            "    +------------+-----------+------------+-----------------+---+---------+\n",
            "    |  'poly'    |     --    |      3     |       0.70      |...|    4    |\n",
            "    +------------+-----------+------------+-----------------+---+---------+\n",
            "    |  'rbf'     |     0.1   |     --     |       0.80      |...|    3    |\n",
            "    +------------+-----------+------------+-----------------+---+---------+\n",
            "    |  'rbf'     |     0.2   |     --     |       0.93      |...|    1    |\n",
            "    +------------+-----------+------------+-----------------+---+---------+\n",
            "\n",
            "    will be represented by a ``cv_results_`` dict of::\n",
            "\n",
            "        {\n",
            "        'param_kernel': masked_array(data = ['poly', 'poly', 'rbf', 'rbf'],\n",
            "                                     mask = [False False False False]...)\n",
            "        'param_gamma': masked_array(data = [-- -- 0.1 0.2],\n",
            "                                    mask = [ True  True False False]...),\n",
            "        'param_degree': masked_array(data = [2.0 3.0 -- --],\n",
            "                                     mask = [False False  True  True]...),\n",
            "        'split0_test_score'  : [0.80, 0.70, 0.80, 0.93],\n",
            "        'split1_test_score'  : [0.82, 0.50, 0.70, 0.78],\n",
            "        'mean_test_score'    : [0.81, 0.60, 0.75, 0.85],\n",
            "        'std_test_score'     : [0.01, 0.10, 0.05, 0.08],\n",
            "        'rank_test_score'    : [2, 4, 3, 1],\n",
            "        'split0_train_score' : [0.80, 0.92, 0.70, 0.93],\n",
            "        'split1_train_score' : [0.82, 0.55, 0.70, 0.87],\n",
            "        'mean_train_score'   : [0.81, 0.74, 0.70, 0.90],\n",
            "        'std_train_score'    : [0.01, 0.19, 0.00, 0.03],\n",
            "        'mean_fit_time'      : [0.73, 0.63, 0.43, 0.49],\n",
            "        'std_fit_time'       : [0.01, 0.02, 0.01, 0.01],\n",
            "        'mean_score_time'    : [0.01, 0.06, 0.04, 0.04],\n",
            "        'std_score_time'     : [0.00, 0.00, 0.00, 0.01],\n",
            "        'params'             : [{'kernel': 'poly', 'degree': 2}, ...],\n",
            "        }\n",
            "\n",
            "    NOTE\n",
            "\n",
            "    The key ``'params'`` is used to store a list of parameter\n",
            "    settings dicts for all the parameter candidates.\n",
            "\n",
            "    The ``mean_fit_time``, ``std_fit_time``, ``mean_score_time`` and\n",
            "    ``std_score_time`` are all in seconds.\n",
            "\n",
            "    For multi-metric evaluation, the scores for all the scorers are\n",
            "    available in the ``cv_results_`` dict at the keys ending with that\n",
            "    scorer's name (``'_<scorer_name>'``) instead of ``'_score'`` shown\n",
            "    above. ('split0_test_precision', 'mean_train_precision' etc.)\n",
            "\n",
            "best_estimator_ : estimator\n",
            "    Estimator that was chosen by the search, i.e. estimator\n",
            "    which gave highest score (or smallest loss if specified)\n",
            "    on the left out data. Not available if ``refit=False``.\n",
            "\n",
            "    See ``refit`` parameter for more information on allowed values.\n",
            "\n",
            "best_score_ : float\n",
            "    Mean cross-validated score of the best_estimator\n",
            "\n",
            "    For multi-metric evaluation, this is present only if ``refit`` is\n",
            "    specified.\n",
            "\n",
            "    This attribute is not available if ``refit`` is a function.\n",
            "\n",
            "best_params_ : dict\n",
            "    Parameter setting that gave the best results on the hold out data.\n",
            "\n",
            "    For multi-metric evaluation, this is present only if ``refit`` is\n",
            "    specified.\n",
            "\n",
            "best_index_ : int\n",
            "    The index (of the ``cv_results_`` arrays) which corresponds to the best\n",
            "    candidate parameter setting.\n",
            "\n",
            "    The dict at ``search.cv_results_['params'][search.best_index_]`` gives\n",
            "    the parameter setting for the best model, that gives the highest\n",
            "    mean score (``search.best_score_``).\n",
            "\n",
            "    For multi-metric evaluation, this is present only if ``refit`` is\n",
            "    specified.\n",
            "\n",
            "scorer_ : function or a dict\n",
            "    Scorer function used on the held out data to choose the best\n",
            "    parameters for the model.\n",
            "\n",
            "    For multi-metric evaluation, this attribute holds the validated\n",
            "    ``scoring`` dict which maps the scorer key to the scorer callable.\n",
            "\n",
            "n_splits_ : int\n",
            "    The number of cross-validation splits (folds/iterations).\n",
            "\n",
            "refit_time_ : float\n",
            "    Seconds used for refitting the best model on the whole dataset.\n",
            "\n",
            "    This is present only if ``refit`` is not False.\n",
            "\n",
            "    .. versionadded:: 0.20\n",
            "\n",
            "multimetric_ : bool\n",
            "    Whether or not the scorers compute several metrics.\n",
            "\n",
            "classes_ : ndarray of shape (n_classes,)\n",
            "    The classes labels. This is present only if ``refit`` is specified and\n",
            "    the underlying estimator is a classifier.\n",
            "\n",
            "n_features_in_ : int\n",
            "    Number of features seen during :term:`fit`. Only defined if\n",
            "    `best_estimator_` is defined (see the documentation for the `refit`\n",
            "    parameter for more details) and that `best_estimator_` exposes\n",
            "    `n_features_in_` when fit.\n",
            "\n",
            "    .. versionadded:: 0.24\n",
            "\n",
            "feature_names_in_ : ndarray of shape (`n_features_in_`,)\n",
            "    Names of features seen during :term:`fit`. Only defined if\n",
            "    `best_estimator_` is defined (see the documentation for the `refit`\n",
            "    parameter for more details) and that `best_estimator_` exposes\n",
            "    `feature_names_in_` when fit.\n",
            "\n",
            "    .. versionadded:: 1.0\n",
            "\n",
            "See Also\n",
            "--------\n",
            "ParameterGrid : Generates all the combinations of a hyperparameter grid.\n",
            "train_test_split : Utility function to split the data into a development\n",
            "    set usable for fitting a GridSearchCV instance and an evaluation set\n",
            "    for its final evaluation.\n",
            "sklearn.metrics.make_scorer : Make a scorer from a performance metric or\n",
            "    loss function.\n",
            "\n",
            "Notes\n",
            "-----\n",
            "The parameters selected are those that maximize the score of the left out\n",
            "data, unless an explicit score is passed in which case it is used instead.\n",
            "\n",
            "If `n_jobs` was set to a value higher than one, the data is copied for each\n",
            "point in the grid (and not `n_jobs` times). This is done for efficiency\n",
            "reasons if individual jobs take very little time, but may raise errors if\n",
            "the dataset is large and not enough memory is available.  A workaround in\n",
            "this case is to set `pre_dispatch`. Then, the memory is copied only\n",
            "`pre_dispatch` many times. A reasonable value for `pre_dispatch` is `2 *\n",
            "n_jobs`.\n",
            "\n",
            "Examples\n",
            "--------\n",
            ">>> from sklearn import svm, datasets\n",
            ">>> from sklearn.model_selection import GridSearchCV\n",
            ">>> iris = datasets.load_iris()\n",
            ">>> parameters = {'kernel':('linear', 'rbf'), 'C':[1, 10]}\n",
            ">>> svc = svm.SVC()\n",
            ">>> clf = GridSearchCV(svc, parameters)\n",
            ">>> clf.fit(iris.data, iris.target)\n",
            "GridSearchCV(estimator=SVC(),\n",
            "             param_grid={'C': [1, 10], 'kernel': ('linear', 'rbf')})\n",
            ">>> sorted(clf.cv_results_.keys())\n",
            "['mean_fit_time', 'mean_score_time', 'mean_test_score',...\n",
            " 'param_C', 'param_kernel', 'params',...\n",
            " 'rank_test_score', 'split0_test_score',...\n",
            " 'split2_test_score', ...\n",
            " 'std_fit_time', 'std_score_time', 'std_test_score']\n",
            "\u001b[0;31mFile:\u001b[0m           ~/anaconda3/envs/tf/lib/python3.9/site-packages/sklearn/model_selection/_search.py\n",
            "\u001b[0;31mType:\u001b[0m           ABCMeta\n",
            "\u001b[0;31mSubclasses:\u001b[0m     \n"
          ]
        }
      ],
      "source": [
        "GridSearchCV?"
      ]
    },
    {
      "attachments": {},
      "cell_type": "markdown",
      "metadata": {},
      "source": [
        "### GridSearchCV parameter\n",
        "- verbose: 상세출력(활동 로그 제시 0= X 1= O)\n",
        "- n_jobs: 사용하는 cpu 코어 수 \n",
        "- scoring: 평가지표. r2, accuracy, roc_auc 등이 있음."
      ]
    },
    {
      "cell_type": "code",
      "execution_count": 23,
      "metadata": {},
      "outputs": [
        {
          "name": "stdout",
          "output_type": "stream",
          "text": [
            "['RandomForestRegressor', 'random_state=1)']\n"
          ]
        }
      ],
      "source": [
        "print(str(models[0]).split('('))"
      ]
    },
    {
      "cell_type": "code",
      "execution_count": 12,
      "metadata": {},
      "outputs": [
        {
          "name": "stdout",
          "output_type": "stream",
          "text": [
            "RandomForestRegressor\n",
            "params :  {'max_depth': 5, 'n_estimators': 100}\n",
            "score :  0.8572915454614414\n",
            "==========\n",
            "GradientBoostingRegressor\n",
            "params :  {'max_depth': 4, 'n_estimators': 500}\n",
            "score :  0.962162941530108\n",
            "==========\n",
            "XGBRegressor\n",
            "params :  {'max_depth': 4, 'n_estimators': 500}\n",
            "score :  0.9625106201746224\n",
            "==========\n",
            "XGBRFRegressor\n",
            "params :  {'max_depth': 5, 'n_estimators': 100}\n",
            "score :  0.8635064729223298\n",
            "==========\n"
          ]
        }
      ],
      "source": [
        "best_estimator_models = []\n",
        "params = {'n_estimators':[100, 500], 'max_depth':[1,2,3,4,5]}\n",
        "for model in models:\n",
        "    gs=GridSearchCV(estimator=model,param_grid=params,cv=3,scoring='r2',n_jobs=5) #cv=crossvalidation\n",
        "    gs.fit(X_train,y_train['price'])\n",
        "    \n",
        "    print(str(model).split('(')[0]) \n",
        "    print('params : ',gs.best_params_)\n",
        "    print('score : ',gs.best_score_)\n",
        "    best_estimator_models.append(gs.best_estimator_) #각 모델의 best estimator을 목록에 추가\n",
        "    print('='*10)"
      ]
    },
    {
      "attachments": {},
      "cell_type": "markdown",
      "metadata": {},
      "source": [
        "XGBRegressor 가 제일 좋은 모델로 뽑혔다."
      ]
    },
    {
      "cell_type": "code",
      "execution_count": 26,
      "metadata": {},
      "outputs": [
        {
          "data": {
            "text/html": [
              "<style>#sk-container-id-1 {color: black;background-color: white;}#sk-container-id-1 pre{padding: 0;}#sk-container-id-1 div.sk-toggleable {background-color: white;}#sk-container-id-1 label.sk-toggleable__label {cursor: pointer;display: block;width: 100%;margin-bottom: 0;padding: 0.3em;box-sizing: border-box;text-align: center;}#sk-container-id-1 label.sk-toggleable__label-arrow:before {content: \"▸\";float: left;margin-right: 0.25em;color: #696969;}#sk-container-id-1 label.sk-toggleable__label-arrow:hover:before {color: black;}#sk-container-id-1 div.sk-estimator:hover label.sk-toggleable__label-arrow:before {color: black;}#sk-container-id-1 div.sk-toggleable__content {max-height: 0;max-width: 0;overflow: hidden;text-align: left;background-color: #f0f8ff;}#sk-container-id-1 div.sk-toggleable__content pre {margin: 0.2em;color: black;border-radius: 0.25em;background-color: #f0f8ff;}#sk-container-id-1 input.sk-toggleable__control:checked~div.sk-toggleable__content {max-height: 200px;max-width: 100%;overflow: auto;}#sk-container-id-1 input.sk-toggleable__control:checked~label.sk-toggleable__label-arrow:before {content: \"▾\";}#sk-container-id-1 div.sk-estimator input.sk-toggleable__control:checked~label.sk-toggleable__label {background-color: #d4ebff;}#sk-container-id-1 div.sk-label input.sk-toggleable__control:checked~label.sk-toggleable__label {background-color: #d4ebff;}#sk-container-id-1 input.sk-hidden--visually {border: 0;clip: rect(1px 1px 1px 1px);clip: rect(1px, 1px, 1px, 1px);height: 1px;margin: -1px;overflow: hidden;padding: 0;position: absolute;width: 1px;}#sk-container-id-1 div.sk-estimator {font-family: monospace;background-color: #f0f8ff;border: 1px dotted black;border-radius: 0.25em;box-sizing: border-box;margin-bottom: 0.5em;}#sk-container-id-1 div.sk-estimator:hover {background-color: #d4ebff;}#sk-container-id-1 div.sk-parallel-item::after {content: \"\";width: 100%;border-bottom: 1px solid gray;flex-grow: 1;}#sk-container-id-1 div.sk-label:hover label.sk-toggleable__label {background-color: #d4ebff;}#sk-container-id-1 div.sk-serial::before {content: \"\";position: absolute;border-left: 1px solid gray;box-sizing: border-box;top: 0;bottom: 0;left: 50%;z-index: 0;}#sk-container-id-1 div.sk-serial {display: flex;flex-direction: column;align-items: center;background-color: white;padding-right: 0.2em;padding-left: 0.2em;position: relative;}#sk-container-id-1 div.sk-item {position: relative;z-index: 1;}#sk-container-id-1 div.sk-parallel {display: flex;align-items: stretch;justify-content: center;background-color: white;position: relative;}#sk-container-id-1 div.sk-item::before, #sk-container-id-1 div.sk-parallel-item::before {content: \"\";position: absolute;border-left: 1px solid gray;box-sizing: border-box;top: 0;bottom: 0;left: 50%;z-index: -1;}#sk-container-id-1 div.sk-parallel-item {display: flex;flex-direction: column;z-index: 1;position: relative;background-color: white;}#sk-container-id-1 div.sk-parallel-item:first-child::after {align-self: flex-end;width: 50%;}#sk-container-id-1 div.sk-parallel-item:last-child::after {align-self: flex-start;width: 50%;}#sk-container-id-1 div.sk-parallel-item:only-child::after {width: 0;}#sk-container-id-1 div.sk-dashed-wrapped {border: 1px dashed gray;margin: 0 0.4em 0.5em 0.4em;box-sizing: border-box;padding-bottom: 0.4em;background-color: white;}#sk-container-id-1 div.sk-label label {font-family: monospace;font-weight: bold;display: inline-block;line-height: 1.2em;}#sk-container-id-1 div.sk-label-container {text-align: center;}#sk-container-id-1 div.sk-container {/* jupyter's `normalize.less` sets `[hidden] { display: none; }` but bootstrap.min.css set `[hidden] { display: none !important; }` so we also need the `!important` here to be able to override the default hidden behavior on the sphinx rendered scikit-learn.org. See: https://github.com/scikit-learn/scikit-learn/issues/21755 */display: inline-block !important;position: relative;}#sk-container-id-1 div.sk-text-repr-fallback {display: none;}</style><div id=\"sk-container-id-1\" class=\"sk-top-container\"><div class=\"sk-text-repr-fallback\"><pre>XGBRegressor(base_score=0.5, booster=&#x27;gbtree&#x27;, callbacks=None,\n",
              "             colsample_bylevel=1, colsample_bynode=1, colsample_bytree=1,\n",
              "             early_stopping_rounds=None, enable_categorical=False,\n",
              "             eval_metric=None, feature_types=None, gamma=0, gpu_id=-1,\n",
              "             grow_policy=&#x27;depthwise&#x27;, importance_type=None,\n",
              "             interaction_constraints=&#x27;&#x27;, learning_rate=0.300000012, max_bin=256,\n",
              "             max_cat_threshold=64, max_cat_to_onehot=4, max_delta_step=0,\n",
              "             max_depth=4, max_leaves=0, min_child_weight=1, missing=nan,\n",
              "             monotone_constraints=&#x27;()&#x27;, n_estimators=500, n_jobs=0,\n",
              "             num_parallel_tree=1, predictor=&#x27;auto&#x27;, random_state=1, ...)</pre><b>In a Jupyter environment, please rerun this cell to show the HTML representation or trust the notebook. <br />On GitHub, the HTML representation is unable to render, please try loading this page with nbviewer.org.</b></div><div class=\"sk-container\" hidden><div class=\"sk-item\"><div class=\"sk-estimator sk-toggleable\"><input class=\"sk-toggleable__control sk-hidden--visually\" id=\"sk-estimator-id-1\" type=\"checkbox\" checked><label for=\"sk-estimator-id-1\" class=\"sk-toggleable__label sk-toggleable__label-arrow\">XGBRegressor</label><div class=\"sk-toggleable__content\"><pre>XGBRegressor(base_score=0.5, booster=&#x27;gbtree&#x27;, callbacks=None,\n",
              "             colsample_bylevel=1, colsample_bynode=1, colsample_bytree=1,\n",
              "             early_stopping_rounds=None, enable_categorical=False,\n",
              "             eval_metric=None, feature_types=None, gamma=0, gpu_id=-1,\n",
              "             grow_policy=&#x27;depthwise&#x27;, importance_type=None,\n",
              "             interaction_constraints=&#x27;&#x27;, learning_rate=0.300000012, max_bin=256,\n",
              "             max_cat_threshold=64, max_cat_to_onehot=4, max_delta_step=0,\n",
              "             max_depth=4, max_leaves=0, min_child_weight=1, missing=nan,\n",
              "             monotone_constraints=&#x27;()&#x27;, n_estimators=500, n_jobs=0,\n",
              "             num_parallel_tree=1, predictor=&#x27;auto&#x27;, random_state=1, ...)</pre></div></div></div></div></div>"
            ],
            "text/plain": [
              "XGBRegressor(base_score=0.5, booster='gbtree', callbacks=None,\n",
              "             colsample_bylevel=1, colsample_bynode=1, colsample_bytree=1,\n",
              "             early_stopping_rounds=None, enable_categorical=False,\n",
              "             eval_metric=None, feature_types=None, gamma=0, gpu_id=-1,\n",
              "             grow_policy='depthwise', importance_type=None,\n",
              "             interaction_constraints='', learning_rate=0.300000012, max_bin=256,\n",
              "             max_cat_threshold=64, max_cat_to_onehot=4, max_delta_step=0,\n",
              "             max_depth=4, max_leaves=0, min_child_weight=1, missing=nan,\n",
              "             monotone_constraints='()', n_estimators=500, n_jobs=0,\n",
              "             num_parallel_tree=1, predictor='auto', random_state=1, ...)"
            ]
          },
          "execution_count": 26,
          "metadata": {},
          "output_type": "execute_result"
        }
      ],
      "source": [
        "best_estimator_models[2]"
      ]
    },
    {
      "cell_type": "code",
      "execution_count": 61,
      "metadata": {},
      "outputs": [],
      "source": [
        "xgbr=best_estimator_models[2]\n",
        "xgbr.fit(X_train,y)\n",
        "pred=np.round(xgbr.predict(X_test))"
      ]
    },
    {
      "cell_type": "code",
      "execution_count": 29,
      "metadata": {},
      "outputs": [
        {
          "data": {
            "text/plain": [
              "0       31995\n",
              "1        7700\n",
              "2       58990\n",
              "3       12999\n",
              "4       16990\n",
              "        ...  \n",
              "4955    17999\n",
              "4956    28900\n",
              "4957     8998\n",
              "4958    23198\n",
              "4959    14900\n",
              "Name: price, Length: 4960, dtype: int64"
            ]
          },
          "execution_count": 29,
          "metadata": {},
          "output_type": "execute_result"
        }
      ],
      "source": [
        "y_train['price']"
      ]
    },
    {
      "cell_type": "code",
      "execution_count": 99,
      "metadata": {},
      "outputs": [
        {
          "data": {
            "text/plain": [
              "23469.94375"
            ]
          },
          "execution_count": 99,
          "metadata": {},
          "output_type": "execute_result"
        }
      ],
      "source": [
        "y.mean()"
      ]
    },
    {
      "cell_type": "code",
      "execution_count": 62,
      "metadata": {},
      "outputs": [
        {
          "data": {
            "text/html": [
              "<div>\n",
              "<style scoped>\n",
              "    .dataframe tbody tr th:only-of-type {\n",
              "        vertical-align: middle;\n",
              "    }\n",
              "\n",
              "    .dataframe tbody tr th {\n",
              "        vertical-align: top;\n",
              "    }\n",
              "\n",
              "    .dataframe thead th {\n",
              "        text-align: right;\n",
              "    }\n",
              "</style>\n",
              "<table border=\"1\" class=\"dataframe\">\n",
              "  <thead>\n",
              "    <tr style=\"text-align: right;\">\n",
              "      <th></th>\n",
              "      <th>CarID</th>\n",
              "      <th>price</th>\n",
              "    </tr>\n",
              "  </thead>\n",
              "  <tbody>\n",
              "    <tr>\n",
              "      <th>0</th>\n",
              "      <td>12000</td>\n",
              "      <td>41943.0</td>\n",
              "    </tr>\n",
              "    <tr>\n",
              "      <th>1</th>\n",
              "      <td>12001</td>\n",
              "      <td>23389.0</td>\n",
              "    </tr>\n",
              "    <tr>\n",
              "      <th>2</th>\n",
              "      <td>12004</td>\n",
              "      <td>56858.0</td>\n",
              "    </tr>\n",
              "    <tr>\n",
              "      <th>3</th>\n",
              "      <td>12013</td>\n",
              "      <td>13780.0</td>\n",
              "    </tr>\n",
              "    <tr>\n",
              "      <th>4</th>\n",
              "      <td>12017</td>\n",
              "      <td>46081.0</td>\n",
              "    </tr>\n",
              "    <tr>\n",
              "      <th>...</th>\n",
              "      <td>...</td>\n",
              "      <td>...</td>\n",
              "    </tr>\n",
              "    <tr>\n",
              "      <th>2667</th>\n",
              "      <td>19618</td>\n",
              "      <td>40661.0</td>\n",
              "    </tr>\n",
              "    <tr>\n",
              "      <th>2668</th>\n",
              "      <td>19620</td>\n",
              "      <td>18084.0</td>\n",
              "    </tr>\n",
              "    <tr>\n",
              "      <th>2669</th>\n",
              "      <td>19626</td>\n",
              "      <td>22126.0</td>\n",
              "    </tr>\n",
              "    <tr>\n",
              "      <th>2670</th>\n",
              "      <td>19630</td>\n",
              "      <td>24224.0</td>\n",
              "    </tr>\n",
              "    <tr>\n",
              "      <th>2671</th>\n",
              "      <td>19631</td>\n",
              "      <td>-3666.0</td>\n",
              "    </tr>\n",
              "  </tbody>\n",
              "</table>\n",
              "<p>2672 rows × 2 columns</p>\n",
              "</div>"
            ],
            "text/plain": [
              "      CarID    price\n",
              "0     12000  41943.0\n",
              "1     12001  23389.0\n",
              "2     12004  56858.0\n",
              "3     12013  13780.0\n",
              "4     12017  46081.0\n",
              "...     ...      ...\n",
              "2667  19618  40661.0\n",
              "2668  19620  18084.0\n",
              "2669  19626  22126.0\n",
              "2670  19630  24224.0\n",
              "2671  19631  -3666.0\n",
              "\n",
              "[2672 rows x 2 columns]"
            ]
          },
          "execution_count": 62,
          "metadata": {},
          "output_type": "execute_result"
        }
      ],
      "source": [
        "output=pd.DataFrame({'CarID': carID, 'price':pred}) # carID = X_test.pop('carID') pred=xgbr.predict(X_test)\n",
        "output"
      ]
    },
    {
      "cell_type": "code",
      "execution_count": 63,
      "metadata": {},
      "outputs": [
        {
          "name": "stdout",
          "output_type": "stream",
          "text": [
            "rmse : 4145.901513005214\n",
            "r2 : 0.9376055714251944\n"
          ]
        }
      ],
      "source": [
        "print('rmse :', np.sqrt(mean_squared_error(y_test['price'], pred))) #rmse는 데이터 scale에 따라 그 크기가 천차만별이다.\n",
        "print('r2 :', r2_score(y_test['price'], pred))"
      ]
    },
    {
      "cell_type": "code",
      "execution_count": 64,
      "metadata": {},
      "outputs": [],
      "source": [
        "# DNN\n",
        "from tensorflow.keras.callbacks import ReduceLROnPlateau, ModelCheckpoint, EarlyStopping"
      ]
    },
    {
      "cell_type": "code",
      "execution_count": 81,
      "metadata": {},
      "outputs": [
        {
          "data": {
            "text/plain": [
              "(4960, 8)"
            ]
          },
          "execution_count": 81,
          "metadata": {},
          "output_type": "execute_result"
        }
      ],
      "source": [
        "X_train_arr.shape"
      ]
    },
    {
      "cell_type": "code",
      "execution_count": 57,
      "metadata": {},
      "outputs": [
        {
          "data": {
            "text/plain": [
              "brand           0\n",
              "model           0\n",
              "year            0\n",
              "transmission    0\n",
              "mileage         0\n",
              "fuelType        0\n",
              "mpg             0\n",
              "engineSize      0\n",
              "dtype: int64"
            ]
          },
          "execution_count": 57,
          "metadata": {},
          "output_type": "execute_result"
        }
      ],
      "source": [
        "X_train.isna().sum()"
      ]
    },
    {
      "cell_type": "code",
      "execution_count": 65,
      "metadata": {},
      "outputs": [
        {
          "data": {
            "text/plain": [
              "450"
            ]
          },
          "execution_count": 65,
          "metadata": {},
          "output_type": "execute_result"
        }
      ],
      "source": [
        "y.min()"
      ]
    },
    {
      "attachments": {},
      "cell_type": "markdown",
      "metadata": {},
      "source": [
        "   tf.keras.layers.Dense(units=52, activation='relu', input_shape=(13,))\n",
        " \n",
        "    - units: 해당 은닉층에서 활동하는 뉴런의 수\n",
        "\n",
        "    - activation: 활성화함수, 해당 은닉층의 가중치와 편향의 연산 결과를 어느 함수에 적합하여 출력할 것인가?\n",
        "\n",
        "    - input_shape: 입력 벡터의 크기, 여기서 13은 해당 데이터 프레임의 열의 수를 나타낸다. 데이터의 구조(이미지, 영상)에 따라 달라질 수 있다. 첫 번째 은닉층에서만 정의해준다.  \n",
        "    - input_dim=13 으로도 가능\n"
      ]
    },
    {
      "cell_type": "code",
      "execution_count": 76,
      "metadata": {},
      "outputs": [],
      "source": [
        "epoch = 1000\n",
        "batch_size = 4\n",
        "\n",
        "filepath = f\"model_check_point_epoch_{epoch}_batch_{batch_size}.h5\"\n",
        "\n",
        "reduceLR = ReduceLROnPlateau(monitor=\"loss\",\n",
        "                             factor = 0.5, # loss 값을 개선하기 위한 학습률 변경 시작 0.1 -> 0.2 0> 0.4 \n",
        "                             patience = 10) # epoch 10 동안 loss 값이 개선되지 않으면 callback 호출\n",
        "\n",
        "checkpoint = ModelCheckpoint(filepath = filepath,\n",
        "                             monitor = \"loss\",\n",
        "                             save_best_only = True) #가장 Best 한 값만 저장한다. \n",
        "\n",
        "earlystopping = EarlyStopping(monitor = \"loss\",\n",
        "                              patience=10)\n",
        "\n",
        "optimizer = tf.keras.optimizers.RMSprop(learning_rate = 0.1)"
      ]
    },
    {
      "cell_type": "code",
      "execution_count": 117,
      "metadata": {},
      "outputs": [],
      "source": [
        "model = tf.keras.Sequential()\n",
        "model.add(tf.keras.layers.Dense(units=4, activation=\"relu\", input_shape=(8,)))\n",
        "model.add(tf.keras.layers.Dense(units=4, activation=\"relu\"))\n",
        "model.add(tf.keras.layers.Dense(units=1))      "
      ]
    },
    {
      "cell_type": "code",
      "execution_count": 119,
      "metadata": {},
      "outputs": [],
      "source": [
        "model.compile(loss='mse', optimizer= \"rmsprop\", metrics = [\"mae\"])"
      ]
    },
    {
      "cell_type": "code",
      "execution_count": 109,
      "metadata": {},
      "outputs": [],
      "source": [
        "X_train_arr=np.array(X_train)\n",
        "y_arr=np.array(y)"
      ]
    },
    {
      "cell_type": "code",
      "execution_count": 72,
      "metadata": {},
      "outputs": [
        {
          "data": {
            "text/plain": [
              "array([[ 3.        , 69.        ,  0.78443036, ...,  0.        ,\n",
              "        -0.29574449,  0.09581413],\n",
              "       [ 7.        , 30.        , -0.60265505, ...,  0.        ,\n",
              "         0.27220045, -0.15757862],\n",
              "       [ 0.        , 58.        ,  0.78443036, ...,  4.        ,\n",
              "        -0.59510464,  0.98268877],\n",
              "       ...,\n",
              "       [ 8.        , 11.        , -0.60265505, ...,  0.        ,\n",
              "         0.27220045, -0.15757862],\n",
              "       [ 0.        ,  3.        ,  0.09088765, ...,  0.        ,\n",
              "         0.34773993,  1.10938515],\n",
              "       [ 4.        , 66.        , -0.9494264 , ...,  0.        ,\n",
              "         0.17148115,  1.10938515]])"
            ]
          },
          "execution_count": 72,
          "metadata": {},
          "output_type": "execute_result"
        }
      ],
      "source": [
        "X_train_arr"
      ]
    },
    {
      "cell_type": "code",
      "execution_count": 74,
      "metadata": {},
      "outputs": [
        {
          "data": {
            "text/plain": [
              "array([31995,  7700, 58990, ...,  8998, 23198, 14900])"
            ]
          },
          "execution_count": 74,
          "metadata": {},
          "output_type": "execute_result"
        }
      ],
      "source": [
        "y_arr"
      ]
    },
    {
      "cell_type": "code",
      "execution_count": 120,
      "metadata": {},
      "outputs": [
        {
          "name": "stdout",
          "output_type": "stream",
          "text": [
            "Epoch 1/1000\n",
            "155/155 [==============================] - 1s 6ms/step - loss: 819528064.0000 - mae: 23460.9668 - lr: 0.0010\n",
            "Epoch 2/1000\n",
            "155/155 [==============================] - 1s 4ms/step - loss: 818836800.0000 - mae: 23446.6250 - lr: 0.0010\n",
            "Epoch 3/1000\n",
            "155/155 [==============================] - 1s 4ms/step - loss: 817681280.0000 - mae: 23422.8027 - lr: 0.0010\n",
            "Epoch 4/1000\n",
            "155/155 [==============================] - 1s 4ms/step - loss: 815952448.0000 - mae: 23387.3340 - lr: 0.0010\n",
            "Epoch 5/1000\n",
            "155/155 [==============================] - 1s 4ms/step - loss: 813575808.0000 - mae: 23337.6562 - lr: 0.0010\n",
            "Epoch 6/1000\n",
            "128/155 [=======================>......] - ETA: 0s - loss: 804263104.0000 - mae: 23177.1777"
          ]
        },
        {
          "ename": "KeyboardInterrupt",
          "evalue": "",
          "output_type": "error",
          "traceback": [
            "\u001b[0;31m---------------------------------------------------------------------------\u001b[0m",
            "\u001b[0;31mKeyboardInterrupt\u001b[0m                         Traceback (most recent call last)",
            "Cell \u001b[0;32mIn[120], line 1\u001b[0m\n\u001b[0;32m----> 1\u001b[0m model\u001b[39m.\u001b[39;49mfit(X_train_arr, y_arr, epochs\u001b[39m=\u001b[39;49m \u001b[39m1000\u001b[39;49m,callbacks\u001b[39m=\u001b[39;49m[reduceLR, checkpoint, earlystopping])\n",
            "File \u001b[0;32m~/anaconda3/envs/tf/lib/python3.9/site-packages/keras/utils/traceback_utils.py:65\u001b[0m, in \u001b[0;36mfilter_traceback.<locals>.error_handler\u001b[0;34m(*args, **kwargs)\u001b[0m\n\u001b[1;32m     63\u001b[0m filtered_tb \u001b[39m=\u001b[39m \u001b[39mNone\u001b[39;00m\n\u001b[1;32m     64\u001b[0m \u001b[39mtry\u001b[39;00m:\n\u001b[0;32m---> 65\u001b[0m     \u001b[39mreturn\u001b[39;00m fn(\u001b[39m*\u001b[39;49margs, \u001b[39m*\u001b[39;49m\u001b[39m*\u001b[39;49mkwargs)\n\u001b[1;32m     66\u001b[0m \u001b[39mexcept\u001b[39;00m \u001b[39mException\u001b[39;00m \u001b[39mas\u001b[39;00m e:\n\u001b[1;32m     67\u001b[0m     filtered_tb \u001b[39m=\u001b[39m _process_traceback_frames(e\u001b[39m.\u001b[39m__traceback__)\n",
            "File \u001b[0;32m~/anaconda3/envs/tf/lib/python3.9/site-packages/keras/engine/training.py:1650\u001b[0m, in \u001b[0;36mModel.fit\u001b[0;34m(self, x, y, batch_size, epochs, verbose, callbacks, validation_split, validation_data, shuffle, class_weight, sample_weight, initial_epoch, steps_per_epoch, validation_steps, validation_batch_size, validation_freq, max_queue_size, workers, use_multiprocessing)\u001b[0m\n\u001b[1;32m   1642\u001b[0m \u001b[39mwith\u001b[39;00m tf\u001b[39m.\u001b[39mprofiler\u001b[39m.\u001b[39mexperimental\u001b[39m.\u001b[39mTrace(\n\u001b[1;32m   1643\u001b[0m     \u001b[39m\"\u001b[39m\u001b[39mtrain\u001b[39m\u001b[39m\"\u001b[39m,\n\u001b[1;32m   1644\u001b[0m     epoch_num\u001b[39m=\u001b[39mepoch,\n\u001b[0;32m   (...)\u001b[0m\n\u001b[1;32m   1647\u001b[0m     _r\u001b[39m=\u001b[39m\u001b[39m1\u001b[39m,\n\u001b[1;32m   1648\u001b[0m ):\n\u001b[1;32m   1649\u001b[0m     callbacks\u001b[39m.\u001b[39mon_train_batch_begin(step)\n\u001b[0;32m-> 1650\u001b[0m     tmp_logs \u001b[39m=\u001b[39m \u001b[39mself\u001b[39;49m\u001b[39m.\u001b[39;49mtrain_function(iterator)\n\u001b[1;32m   1651\u001b[0m     \u001b[39mif\u001b[39;00m data_handler\u001b[39m.\u001b[39mshould_sync:\n\u001b[1;32m   1652\u001b[0m         context\u001b[39m.\u001b[39masync_wait()\n",
            "File \u001b[0;32m~/anaconda3/envs/tf/lib/python3.9/site-packages/tensorflow/python/util/traceback_utils.py:150\u001b[0m, in \u001b[0;36mfilter_traceback.<locals>.error_handler\u001b[0;34m(*args, **kwargs)\u001b[0m\n\u001b[1;32m    148\u001b[0m filtered_tb \u001b[39m=\u001b[39m \u001b[39mNone\u001b[39;00m\n\u001b[1;32m    149\u001b[0m \u001b[39mtry\u001b[39;00m:\n\u001b[0;32m--> 150\u001b[0m   \u001b[39mreturn\u001b[39;00m fn(\u001b[39m*\u001b[39;49margs, \u001b[39m*\u001b[39;49m\u001b[39m*\u001b[39;49mkwargs)\n\u001b[1;32m    151\u001b[0m \u001b[39mexcept\u001b[39;00m \u001b[39mException\u001b[39;00m \u001b[39mas\u001b[39;00m e:\n\u001b[1;32m    152\u001b[0m   filtered_tb \u001b[39m=\u001b[39m _process_traceback_frames(e\u001b[39m.\u001b[39m__traceback__)\n",
            "File \u001b[0;32m~/anaconda3/envs/tf/lib/python3.9/site-packages/tensorflow/python/eager/polymorphic_function/polymorphic_function.py:880\u001b[0m, in \u001b[0;36mFunction.__call__\u001b[0;34m(self, *args, **kwds)\u001b[0m\n\u001b[1;32m    877\u001b[0m compiler \u001b[39m=\u001b[39m \u001b[39m\"\u001b[39m\u001b[39mxla\u001b[39m\u001b[39m\"\u001b[39m \u001b[39mif\u001b[39;00m \u001b[39mself\u001b[39m\u001b[39m.\u001b[39m_jit_compile \u001b[39melse\u001b[39;00m \u001b[39m\"\u001b[39m\u001b[39mnonXla\u001b[39m\u001b[39m\"\u001b[39m\n\u001b[1;32m    879\u001b[0m \u001b[39mwith\u001b[39;00m OptionalXlaContext(\u001b[39mself\u001b[39m\u001b[39m.\u001b[39m_jit_compile):\n\u001b[0;32m--> 880\u001b[0m   result \u001b[39m=\u001b[39m \u001b[39mself\u001b[39;49m\u001b[39m.\u001b[39;49m_call(\u001b[39m*\u001b[39;49margs, \u001b[39m*\u001b[39;49m\u001b[39m*\u001b[39;49mkwds)\n\u001b[1;32m    882\u001b[0m new_tracing_count \u001b[39m=\u001b[39m \u001b[39mself\u001b[39m\u001b[39m.\u001b[39mexperimental_get_tracing_count()\n\u001b[1;32m    883\u001b[0m without_tracing \u001b[39m=\u001b[39m (tracing_count \u001b[39m==\u001b[39m new_tracing_count)\n",
            "File \u001b[0;32m~/anaconda3/envs/tf/lib/python3.9/site-packages/tensorflow/python/eager/polymorphic_function/polymorphic_function.py:912\u001b[0m, in \u001b[0;36mFunction._call\u001b[0;34m(self, *args, **kwds)\u001b[0m\n\u001b[1;32m    909\u001b[0m   \u001b[39mself\u001b[39m\u001b[39m.\u001b[39m_lock\u001b[39m.\u001b[39mrelease()\n\u001b[1;32m    910\u001b[0m   \u001b[39m# In this case we have created variables on the first call, so we run the\u001b[39;00m\n\u001b[1;32m    911\u001b[0m   \u001b[39m# defunned version which is guaranteed to never create variables.\u001b[39;00m\n\u001b[0;32m--> 912\u001b[0m   \u001b[39mreturn\u001b[39;00m \u001b[39mself\u001b[39;49m\u001b[39m.\u001b[39;49m_no_variable_creation_fn(\u001b[39m*\u001b[39;49margs, \u001b[39m*\u001b[39;49m\u001b[39m*\u001b[39;49mkwds)  \u001b[39m# pylint: disable=not-callable\u001b[39;00m\n\u001b[1;32m    913\u001b[0m \u001b[39melif\u001b[39;00m \u001b[39mself\u001b[39m\u001b[39m.\u001b[39m_variable_creation_fn \u001b[39mis\u001b[39;00m \u001b[39mnot\u001b[39;00m \u001b[39mNone\u001b[39;00m:\n\u001b[1;32m    914\u001b[0m   \u001b[39m# Release the lock early so that multiple threads can perform the call\u001b[39;00m\n\u001b[1;32m    915\u001b[0m   \u001b[39m# in parallel.\u001b[39;00m\n\u001b[1;32m    916\u001b[0m   \u001b[39mself\u001b[39m\u001b[39m.\u001b[39m_lock\u001b[39m.\u001b[39mrelease()\n",
            "File \u001b[0;32m~/anaconda3/envs/tf/lib/python3.9/site-packages/tensorflow/python/eager/polymorphic_function/tracing_compiler.py:134\u001b[0m, in \u001b[0;36mTracingCompiler.__call__\u001b[0;34m(self, *args, **kwargs)\u001b[0m\n\u001b[1;32m    131\u001b[0m \u001b[39mwith\u001b[39;00m \u001b[39mself\u001b[39m\u001b[39m.\u001b[39m_lock:\n\u001b[1;32m    132\u001b[0m   (concrete_function,\n\u001b[1;32m    133\u001b[0m    filtered_flat_args) \u001b[39m=\u001b[39m \u001b[39mself\u001b[39m\u001b[39m.\u001b[39m_maybe_define_function(args, kwargs)\n\u001b[0;32m--> 134\u001b[0m \u001b[39mreturn\u001b[39;00m concrete_function\u001b[39m.\u001b[39;49m_call_flat(\n\u001b[1;32m    135\u001b[0m     filtered_flat_args, captured_inputs\u001b[39m=\u001b[39;49mconcrete_function\u001b[39m.\u001b[39;49mcaptured_inputs)\n",
            "File \u001b[0;32m~/anaconda3/envs/tf/lib/python3.9/site-packages/tensorflow/python/eager/polymorphic_function/monomorphic_function.py:1745\u001b[0m, in \u001b[0;36mConcreteFunction._call_flat\u001b[0;34m(self, args, captured_inputs, cancellation_manager)\u001b[0m\n\u001b[1;32m   1741\u001b[0m possible_gradient_type \u001b[39m=\u001b[39m gradients_util\u001b[39m.\u001b[39mPossibleTapeGradientTypes(args)\n\u001b[1;32m   1742\u001b[0m \u001b[39mif\u001b[39;00m (possible_gradient_type \u001b[39m==\u001b[39m gradients_util\u001b[39m.\u001b[39mPOSSIBLE_GRADIENT_TYPES_NONE\n\u001b[1;32m   1743\u001b[0m     \u001b[39mand\u001b[39;00m executing_eagerly):\n\u001b[1;32m   1744\u001b[0m   \u001b[39m# No tape is watching; skip to running the function.\u001b[39;00m\n\u001b[0;32m-> 1745\u001b[0m   \u001b[39mreturn\u001b[39;00m \u001b[39mself\u001b[39m\u001b[39m.\u001b[39m_build_call_outputs(\u001b[39mself\u001b[39;49m\u001b[39m.\u001b[39;49m_inference_function\u001b[39m.\u001b[39;49mcall(\n\u001b[1;32m   1746\u001b[0m       ctx, args, cancellation_manager\u001b[39m=\u001b[39;49mcancellation_manager))\n\u001b[1;32m   1747\u001b[0m forward_backward \u001b[39m=\u001b[39m \u001b[39mself\u001b[39m\u001b[39m.\u001b[39m_select_forward_and_backward_functions(\n\u001b[1;32m   1748\u001b[0m     args,\n\u001b[1;32m   1749\u001b[0m     possible_gradient_type,\n\u001b[1;32m   1750\u001b[0m     executing_eagerly)\n\u001b[1;32m   1751\u001b[0m forward_function, args_with_tangents \u001b[39m=\u001b[39m forward_backward\u001b[39m.\u001b[39mforward()\n",
            "File \u001b[0;32m~/anaconda3/envs/tf/lib/python3.9/site-packages/tensorflow/python/eager/polymorphic_function/monomorphic_function.py:378\u001b[0m, in \u001b[0;36m_EagerDefinedFunction.call\u001b[0;34m(self, ctx, args, cancellation_manager)\u001b[0m\n\u001b[1;32m    376\u001b[0m \u001b[39mwith\u001b[39;00m _InterpolateFunctionError(\u001b[39mself\u001b[39m):\n\u001b[1;32m    377\u001b[0m   \u001b[39mif\u001b[39;00m cancellation_manager \u001b[39mis\u001b[39;00m \u001b[39mNone\u001b[39;00m:\n\u001b[0;32m--> 378\u001b[0m     outputs \u001b[39m=\u001b[39m execute\u001b[39m.\u001b[39;49mexecute(\n\u001b[1;32m    379\u001b[0m         \u001b[39mstr\u001b[39;49m(\u001b[39mself\u001b[39;49m\u001b[39m.\u001b[39;49msignature\u001b[39m.\u001b[39;49mname),\n\u001b[1;32m    380\u001b[0m         num_outputs\u001b[39m=\u001b[39;49m\u001b[39mself\u001b[39;49m\u001b[39m.\u001b[39;49m_num_outputs,\n\u001b[1;32m    381\u001b[0m         inputs\u001b[39m=\u001b[39;49margs,\n\u001b[1;32m    382\u001b[0m         attrs\u001b[39m=\u001b[39;49mattrs,\n\u001b[1;32m    383\u001b[0m         ctx\u001b[39m=\u001b[39;49mctx)\n\u001b[1;32m    384\u001b[0m   \u001b[39melse\u001b[39;00m:\n\u001b[1;32m    385\u001b[0m     outputs \u001b[39m=\u001b[39m execute\u001b[39m.\u001b[39mexecute_with_cancellation(\n\u001b[1;32m    386\u001b[0m         \u001b[39mstr\u001b[39m(\u001b[39mself\u001b[39m\u001b[39m.\u001b[39msignature\u001b[39m.\u001b[39mname),\n\u001b[1;32m    387\u001b[0m         num_outputs\u001b[39m=\u001b[39m\u001b[39mself\u001b[39m\u001b[39m.\u001b[39m_num_outputs,\n\u001b[0;32m   (...)\u001b[0m\n\u001b[1;32m    390\u001b[0m         ctx\u001b[39m=\u001b[39mctx,\n\u001b[1;32m    391\u001b[0m         cancellation_manager\u001b[39m=\u001b[39mcancellation_manager)\n",
            "File \u001b[0;32m~/anaconda3/envs/tf/lib/python3.9/site-packages/tensorflow/python/eager/execute.py:52\u001b[0m, in \u001b[0;36mquick_execute\u001b[0;34m(op_name, num_outputs, inputs, attrs, ctx, name)\u001b[0m\n\u001b[1;32m     50\u001b[0m \u001b[39mtry\u001b[39;00m:\n\u001b[1;32m     51\u001b[0m   ctx\u001b[39m.\u001b[39mensure_initialized()\n\u001b[0;32m---> 52\u001b[0m   tensors \u001b[39m=\u001b[39m pywrap_tfe\u001b[39m.\u001b[39;49mTFE_Py_Execute(ctx\u001b[39m.\u001b[39;49m_handle, device_name, op_name,\n\u001b[1;32m     53\u001b[0m                                       inputs, attrs, num_outputs)\n\u001b[1;32m     54\u001b[0m \u001b[39mexcept\u001b[39;00m core\u001b[39m.\u001b[39m_NotOkStatusException \u001b[39mas\u001b[39;00m e:\n\u001b[1;32m     55\u001b[0m   \u001b[39mif\u001b[39;00m name \u001b[39mis\u001b[39;00m \u001b[39mnot\u001b[39;00m \u001b[39mNone\u001b[39;00m:\n",
            "\u001b[0;31mKeyboardInterrupt\u001b[0m: "
          ]
        }
      ],
      "source": [
        "model.fit(X_train_arr, y_arr, epochs= 1000,callbacks=[reduceLR, checkpoint, earlystopping])"
      ]
    },
    {
      "cell_type": "code",
      "execution_count": 51,
      "metadata": {},
      "outputs": [
        {
          "data": {
            "text/plain": [
              "[PhysicalDevice(name='/physical_device:GPU:0', device_type='GPU')]"
            ]
          },
          "execution_count": 51,
          "metadata": {},
          "output_type": "execute_result"
        }
      ],
      "source": [
        "tf.config.list_physical_devices('GPU')  #/GPU:0 : Tensorflow가 인식한 GPU들 중에서 첫 번째 GPU를 사용하겠다는 뜻입니다."
      ]
    },
    {
      "cell_type": "code",
      "execution_count": null,
      "metadata": {},
      "outputs": [],
      "source": []
    }
  ],
  "metadata": {
    "colab": {
      "provenance": []
    },
    "kernelspec": {
      "display_name": "tf",
      "language": "python",
      "name": "python3"
    },
    "language_info": {
      "codemirror_mode": {
        "name": "ipython",
        "version": 3
      },
      "file_extension": ".py",
      "mimetype": "text/x-python",
      "name": "python",
      "nbconvert_exporter": "python",
      "pygments_lexer": "ipython3",
      "version": "3.9.15"
    },
    "vscode": {
      "interpreter": {
        "hash": "71be762759ae1b1747e1cfc60efa181cfc93ac416fe5084a790ec64e97c902b4"
      }
    }
  },
  "nbformat": 4,
  "nbformat_minor": 0
}
