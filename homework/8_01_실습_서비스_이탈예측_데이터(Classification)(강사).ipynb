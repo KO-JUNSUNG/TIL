{
  "cells": [
    {
      "cell_type": "markdown",
      "metadata": {
        "id": "-UBLxhcCm2de"
      },
      "source": [
        "# 작업 2유형\n",
        "- https://www.datamanim.com/dataset/03_dataq/typetwo.html#id3"
      ]
    },
    {
      "cell_type": "markdown",
      "metadata": {
        "id": "CflBg0bUm2dg"
      },
      "source": [
        "# 1. 서비스 이탈예측 데이터(Classification)\n",
        "\n",
        "> Attention\n",
        "- 데이터 설명 : 고객의 신상정보 데이터를 통한 회사 서비스 이탈 예측 (종속변수 : Exited)\n",
        "- 데이터 출처 : https://www.kaggle.com/shubh0799/churn-modelling 에서 변형\n",
        "- X_train : https://raw.githubusercontent.com/Datamanim/datarepo/main/churnk/X_train.csv\n",
        "- y_train : https://raw.githubusercontent.com/Datamanim/datarepo/main/churnk/y_train.csv\n",
        "- X_test : https://raw.githubusercontent.com/Datamanim/datarepo/main/churnk/X_test.csv\n",
        "- y_test(평가용) : https://raw.githubusercontent.com/Datamanim/datarepo/main/churnk/y_test.csv"
      ]
    },
    {
      "cell_type": "markdown",
      "metadata": {
        "id": "UamzfJFsm2dg"
      },
      "source": [
        "#### 0. 시험 환경 세팅"
      ]
    },
    {
      "cell_type": "code",
      "execution_count": null,
      "metadata": {
        "id": "EghL7LH9m2dg",
        "outputId": "2549bf6e-11ae-4efb-9fe4-4b5c75ac5798"
      },
      "outputs": [
        {
          "data": {
            "text/plain": [
              "((6499, 12), (6499, 2), (3501, 12), (3501, 2))"
            ]
          },
          "execution_count": 105,
          "metadata": {},
          "output_type": "execute_result"
        }
      ],
      "source": [
        "import pandas as pd\n",
        "\n",
        "X_train = pd.read_csv(\"https://raw.githubusercontent.com/Datamanim/datarepo/main/churnk/X_train.csv\")\n",
        "y_train = pd.read_csv(\"https://raw.githubusercontent.com/Datamanim/datarepo/main/churnk/y_train.csv\")\n",
        "X_test= pd.read_csv(\"https://raw.githubusercontent.com/Datamanim/datarepo/main/churnk/X_test.csv\")\n",
        "y_test = pd.read_csv(\"https://raw.githubusercontent.com/Datamanim/datarepo/main/churnk/y_test.csv\")\n",
        "\n",
        "X_train.shape, y_train.shape, X_test.shape, y_test.shape"
      ]
    },
    {
      "cell_type": "markdown",
      "metadata": {
        "id": "wOx9R5zdm2di"
      },
      "source": [
        "#### 1. 라이브러리 및 데이터 호출"
      ]
    },
    {
      "cell_type": "code",
      "execution_count": null,
      "metadata": {
        "id": "50gYqNV1m2di"
      },
      "outputs": [],
      "source": [
        "import warnings\n",
        "warnings.filterwarnings(\"ignore\")"
      ]
    },
    {
      "cell_type": "code",
      "execution_count": null,
      "metadata": {
        "id": "6TODMfobm2di"
      },
      "outputs": [],
      "source": [
        "# 필요한 라이브러리 import"
      ]
    },
    {
      "cell_type": "code",
      "execution_count": null,
      "metadata": {
        "id": "-_UjAKm8m2di"
      },
      "outputs": [],
      "source": [
        "import numpy as np\n",
        "import pandas as pd"
      ]
    },
    {
      "cell_type": "markdown",
      "metadata": {
        "id": "S9ZpFFAym2dj"
      },
      "source": [
        "- CustomerId 컬럼 제거\n",
        "- y_train의 Exited 컬럼을 label data 로 지정"
      ]
    },
    {
      "cell_type": "code",
      "execution_count": null,
      "metadata": {
        "id": "Uw7kmJ6jm2dj"
      },
      "outputs": [],
      "source": [
        "del X_train[\"CustomerId\"]\n",
        "del X_test[\"CustomerId\"]\n",
        "y_train =y_train[\"Exited\"]\n",
        "y_test =y_test[\"Exited\"]"
      ]
    },
    {
      "cell_type": "code",
      "execution_count": null,
      "metadata": {
        "id": "ajeGBIJqm2dj",
        "outputId": "bd4a8215-f92d-457a-f78f-614e4df7079f"
      },
      "outputs": [
        {
          "data": {
            "text/html": [
              "<div>\n",
              "<style scoped>\n",
              "    .dataframe tbody tr th:only-of-type {\n",
              "        vertical-align: middle;\n",
              "    }\n",
              "\n",
              "    .dataframe tbody tr th {\n",
              "        vertical-align: top;\n",
              "    }\n",
              "\n",
              "    .dataframe thead th {\n",
              "        text-align: right;\n",
              "    }\n",
              "</style>\n",
              "<table border=\"1\" class=\"dataframe\">\n",
              "  <thead>\n",
              "    <tr style=\"text-align: right;\">\n",
              "      <th></th>\n",
              "      <th>Surname</th>\n",
              "      <th>CreditScore</th>\n",
              "      <th>Geography</th>\n",
              "      <th>Gender</th>\n",
              "      <th>Age</th>\n",
              "      <th>Tenure</th>\n",
              "      <th>Balance</th>\n",
              "      <th>NumOfProducts</th>\n",
              "      <th>HasCrCard</th>\n",
              "      <th>IsActiveMember</th>\n",
              "      <th>EstimatedSalary</th>\n",
              "    </tr>\n",
              "  </thead>\n",
              "  <tbody>\n",
              "    <tr>\n",
              "      <th>0</th>\n",
              "      <td>Zetticci</td>\n",
              "      <td>791</td>\n",
              "      <td>Germany</td>\n",
              "      <td>Female</td>\n",
              "      <td>35</td>\n",
              "      <td>7</td>\n",
              "      <td>52436.20</td>\n",
              "      <td>1</td>\n",
              "      <td>1</td>\n",
              "      <td>0</td>\n",
              "      <td>161051.75</td>\n",
              "    </tr>\n",
              "    <tr>\n",
              "      <th>1</th>\n",
              "      <td>Bischof</td>\n",
              "      <td>705</td>\n",
              "      <td>Germany</td>\n",
              "      <td>Male</td>\n",
              "      <td>42</td>\n",
              "      <td>8</td>\n",
              "      <td>166685.92</td>\n",
              "      <td>2</td>\n",
              "      <td>1</td>\n",
              "      <td>1</td>\n",
              "      <td>55313.51</td>\n",
              "    </tr>\n",
              "    <tr>\n",
              "      <th>2</th>\n",
              "      <td>Hsiung</td>\n",
              "      <td>543</td>\n",
              "      <td>France</td>\n",
              "      <td>Female</td>\n",
              "      <td>31</td>\n",
              "      <td>4</td>\n",
              "      <td>138317.94</td>\n",
              "      <td>1</td>\n",
              "      <td>0</td>\n",
              "      <td>0</td>\n",
              "      <td>61843.73</td>\n",
              "    </tr>\n",
              "    <tr>\n",
              "      <th>3</th>\n",
              "      <td>Pritchard</td>\n",
              "      <td>709</td>\n",
              "      <td>France</td>\n",
              "      <td>Female</td>\n",
              "      <td>32</td>\n",
              "      <td>2</td>\n",
              "      <td>0.00</td>\n",
              "      <td>2</td>\n",
              "      <td>0</td>\n",
              "      <td>0</td>\n",
              "      <td>109681.29</td>\n",
              "    </tr>\n",
              "    <tr>\n",
              "      <th>4</th>\n",
              "      <td>Ts'ai</td>\n",
              "      <td>714</td>\n",
              "      <td>Germany</td>\n",
              "      <td>Female</td>\n",
              "      <td>36</td>\n",
              "      <td>1</td>\n",
              "      <td>101609.01</td>\n",
              "      <td>2</td>\n",
              "      <td>1</td>\n",
              "      <td>1</td>\n",
              "      <td>447.73</td>\n",
              "    </tr>\n",
              "  </tbody>\n",
              "</table>\n",
              "</div>"
            ],
            "text/plain": [
              "     Surname  CreditScore Geography  Gender  Age  Tenure    Balance  \\\n",
              "0   Zetticci          791   Germany  Female   35       7   52436.20   \n",
              "1    Bischof          705   Germany    Male   42       8  166685.92   \n",
              "2     Hsiung          543    France  Female   31       4  138317.94   \n",
              "3  Pritchard          709    France  Female   32       2       0.00   \n",
              "4      Ts'ai          714   Germany  Female   36       1  101609.01   \n",
              "\n",
              "   NumOfProducts  HasCrCard  IsActiveMember  EstimatedSalary  \n",
              "0              1          1               0        161051.75  \n",
              "1              2          1               1         55313.51  \n",
              "2              1          0               0         61843.73  \n",
              "3              2          0               0        109681.29  \n",
              "4              2          1               1           447.73  "
            ]
          },
          "execution_count": 110,
          "metadata": {},
          "output_type": "execute_result"
        }
      ],
      "source": [
        "X_train.head()"
      ]
    },
    {
      "cell_type": "code",
      "execution_count": null,
      "metadata": {
        "id": "V5AFurzhm2dj",
        "outputId": "e0af80e0-7ffe-4e60-b54f-d06603954320"
      },
      "outputs": [
        {
          "data": {
            "text/plain": [
              "0    0\n",
              "1    0\n",
              "2    0\n",
              "3    0\n",
              "4    0\n",
              "Name: Exited, dtype: int64"
            ]
          },
          "execution_count": 111,
          "metadata": {},
          "output_type": "execute_result"
        }
      ],
      "source": [
        "y_train.head(5)"
      ]
    },
    {
      "cell_type": "markdown",
      "metadata": {
        "id": "S5KSRPF9m2dj"
      },
      "source": [
        "#### 2. EDA\n",
        "- X_train 의 기초 통계량, null 값 확인"
      ]
    },
    {
      "cell_type": "code",
      "execution_count": null,
      "metadata": {
        "id": "4eygWCNRm2dk",
        "outputId": "23dc381a-f807-4d1e-ec59-886438b381fe"
      },
      "outputs": [
        {
          "name": "stdout",
          "output_type": "stream",
          "text": [
            "<class 'pandas.core.frame.DataFrame'>\n",
            "RangeIndex: 6499 entries, 0 to 6498\n",
            "Data columns (total 11 columns):\n",
            " #   Column           Non-Null Count  Dtype  \n",
            "---  ------           --------------  -----  \n",
            " 0   Surname          6499 non-null   object \n",
            " 1   CreditScore      6499 non-null   int64  \n",
            " 2   Geography        6499 non-null   object \n",
            " 3   Gender           6499 non-null   object \n",
            " 4   Age              6499 non-null   int64  \n",
            " 5   Tenure           6499 non-null   int64  \n",
            " 6   Balance          6499 non-null   float64\n",
            " 7   NumOfProducts    6499 non-null   int64  \n",
            " 8   HasCrCard        6499 non-null   int64  \n",
            " 9   IsActiveMember   6499 non-null   int64  \n",
            " 10  EstimatedSalary  6499 non-null   float64\n",
            "dtypes: float64(2), int64(6), object(3)\n",
            "memory usage: 558.6+ KB\n",
            "None\n",
            "Surname            0\n",
            "CreditScore        0\n",
            "Geography          0\n",
            "Gender             0\n",
            "Age                0\n",
            "Tenure             0\n",
            "Balance            0\n",
            "NumOfProducts      0\n",
            "HasCrCard          0\n",
            "IsActiveMember     0\n",
            "EstimatedSalary    0\n",
            "dtype: int64\n"
          ]
        }
      ],
      "source": [
        "# X_train 의 기초 통계량, null 값 확인\n",
        "print(X_train.info())\n",
        "print(X_train.isnull().sum())"
      ]
    },
    {
      "cell_type": "code",
      "execution_count": null,
      "metadata": {
        "id": "Rhc5vkMcm2dk",
        "outputId": "6c2f696c-19da-4a71-a4f1-6a9b9e3b87d2"
      },
      "outputs": [
        {
          "name": "stdout",
          "output_type": "stream",
          "text": [
            "<class 'pandas.core.frame.DataFrame'>\n",
            "RangeIndex: 3501 entries, 0 to 3500\n",
            "Data columns (total 11 columns):\n",
            " #   Column           Non-Null Count  Dtype  \n",
            "---  ------           --------------  -----  \n",
            " 0   Surname          3501 non-null   object \n",
            " 1   CreditScore      3501 non-null   int64  \n",
            " 2   Geography        3501 non-null   object \n",
            " 3   Gender           3501 non-null   object \n",
            " 4   Age              3501 non-null   int64  \n",
            " 5   Tenure           3501 non-null   int64  \n",
            " 6   Balance          3501 non-null   float64\n",
            " 7   NumOfProducts    3501 non-null   int64  \n",
            " 8   HasCrCard        3501 non-null   int64  \n",
            " 9   IsActiveMember   3501 non-null   int64  \n",
            " 10  EstimatedSalary  3501 non-null   float64\n",
            "dtypes: float64(2), int64(6), object(3)\n",
            "memory usage: 301.0+ KB\n",
            "None\n",
            "Surname            0\n",
            "CreditScore        0\n",
            "Geography          0\n",
            "Gender             0\n",
            "Age                0\n",
            "Tenure             0\n",
            "Balance            0\n",
            "NumOfProducts      0\n",
            "HasCrCard          0\n",
            "IsActiveMember     0\n",
            "EstimatedSalary    0\n",
            "dtype: int64\n"
          ]
        }
      ],
      "source": [
        "# X_test 의 기초 통계량, null 값 확인\n",
        "print(X_test.info())\n",
        "print(X_test.isnull().sum())"
      ]
    },
    {
      "cell_type": "code",
      "execution_count": null,
      "metadata": {
        "id": "tuVtyZI3m2dk"
      },
      "outputs": [],
      "source": [
        "object_columns = X_train.dtypes[X_train.dtypes == X_train.dtypes[0]] #X_train.dtypes[0] 가 object 형태이기 때문에 "
      ]
    },
    {
      "cell_type": "code",
      "execution_count": null,
      "metadata": {
        "id": "9I4Mqxq4m2dk",
        "outputId": "990e6289-e88c-4c7c-8aa8-96bbc262617b"
      },
      "outputs": [
        {
          "data": {
            "text/plain": [
              "Index(['Surname', 'Geography', 'Gender'], dtype='object')"
            ]
          },
          "execution_count": 115,
          "metadata": {},
          "output_type": "execute_result"
        }
      ],
      "source": [
        "object_columns.index"
      ]
    },
    {
      "cell_type": "code",
      "execution_count": null,
      "metadata": {
        "id": "nS2FZ1ncm2dk",
        "outputId": "25931caf-facd-4657-aa37-9b20e62a640b"
      },
      "outputs": [
        {
          "name": "stdout",
          "output_type": "stream",
          "text": [
            "Surname 2289\n",
            "Geography 3\n",
            "Gender 4\n"
          ]
        }
      ],
      "source": [
        "for i in object_columns.index:\n",
        "    print(i, X_train[i].nunique())"
      ]
    },
    {
      "cell_type": "code",
      "execution_count": null,
      "metadata": {
        "id": "Aae_SQ-tm2dk"
      },
      "outputs": [],
      "source": [
        "del X_train[\"Surname\"]\n",
        "del X_test[\"Surname\"]"
      ]
    },
    {
      "cell_type": "markdown",
      "metadata": {
        "id": "wHnTKQQbm2dl"
      },
      "source": [
        "#### 3. Preprocessing\n",
        "- Gender : 띄어쓰기 제거 및 대문자 변경\n",
        "- 수치형 컬럼 : 정규화(MinMaxScaler)\n",
        "- 범주형 컬럼 : 인코딩(LabelEncoder)"
      ]
    },
    {
      "cell_type": "code",
      "execution_count": null,
      "metadata": {
        "id": "4Q8DCKG7m2dl",
        "outputId": "afa32a8b-745f-4600-99cf-e912c12cca53"
      },
      "outputs": [
        {
          "name": "stdout",
          "output_type": "stream",
          "text": [
            "['Female' 'Male' ' male' 'female']\n",
            "['FEMALE' 'MALE']\n"
          ]
        }
      ],
      "source": [
        "print(X_train[\"Gender\"].unique())\n",
        "# 띄어쓰기 제거\n",
        "# 대문자 로 전부 변경\n",
        "X_train[\"Gender\"] = X_train[\"Gender\"].str.upper().str.replace(\" \",\"\")\n",
        "X_test[\"Gender\"] = X_test[\"Gender\"].str.upper().str.replace(\" \",\"\")\n",
        "print(X_test[\"Gender\"].unique())"
      ]
    },
    {
      "cell_type": "code",
      "execution_count": null,
      "metadata": {
        "id": "UfMEwyORm2dl"
      },
      "outputs": [],
      "source": [
        "def remove_space_upper(df,col):\n",
        "    # print(df[col].unique)\n",
        "    # 띄어쓰기 제거\n",
        "    # 대문자 로 전부 변경\n",
        "    df[col] = df[col].str.upper().str.replace(\" \",\"\")\n",
        "    # print(df[col].unique)\n",
        "    return df"
      ]
    },
    {
      "cell_type": "code",
      "execution_count": null,
      "metadata": {
        "id": "tc5vUFsam2dl"
      },
      "outputs": [],
      "source": [
        "X_train = remove_space_upper(X_train, \"Gender\")\n",
        "X_test = remove_space_upper(X_test, \"Gender\")"
      ]
    },
    {
      "cell_type": "code",
      "execution_count": null,
      "metadata": {
        "id": "IYF_a44Cm2dl"
      },
      "outputs": [],
      "source": [
        "X_train = remove_space_upper(X_train, \"Geography\")\n",
        "X_test = remove_space_upper(X_test, \"Geography\")"
      ]
    },
    {
      "cell_type": "code",
      "execution_count": null,
      "metadata": {
        "id": "jIjs86jHm2dm",
        "outputId": "e2309918-95e1-43bd-c9e1-426929bea66a"
      },
      "outputs": [
        {
          "data": {
            "text/html": [
              "<div>\n",
              "<style scoped>\n",
              "    .dataframe tbody tr th:only-of-type {\n",
              "        vertical-align: middle;\n",
              "    }\n",
              "\n",
              "    .dataframe tbody tr th {\n",
              "        vertical-align: top;\n",
              "    }\n",
              "\n",
              "    .dataframe thead th {\n",
              "        text-align: right;\n",
              "    }\n",
              "</style>\n",
              "<table border=\"1\" class=\"dataframe\">\n",
              "  <thead>\n",
              "    <tr style=\"text-align: right;\">\n",
              "      <th></th>\n",
              "      <th>CreditScore</th>\n",
              "      <th>Geography</th>\n",
              "      <th>Gender</th>\n",
              "      <th>Age</th>\n",
              "      <th>Tenure</th>\n",
              "      <th>Balance</th>\n",
              "      <th>NumOfProducts</th>\n",
              "      <th>HasCrCard</th>\n",
              "      <th>IsActiveMember</th>\n",
              "      <th>EstimatedSalary</th>\n",
              "    </tr>\n",
              "  </thead>\n",
              "  <tbody>\n",
              "    <tr>\n",
              "      <th>0</th>\n",
              "      <td>791</td>\n",
              "      <td>GERMANY</td>\n",
              "      <td>FEMALE</td>\n",
              "      <td>35</td>\n",
              "      <td>7</td>\n",
              "      <td>52436.20</td>\n",
              "      <td>1</td>\n",
              "      <td>1</td>\n",
              "      <td>0</td>\n",
              "      <td>161051.75</td>\n",
              "    </tr>\n",
              "    <tr>\n",
              "      <th>1</th>\n",
              "      <td>705</td>\n",
              "      <td>GERMANY</td>\n",
              "      <td>MALE</td>\n",
              "      <td>42</td>\n",
              "      <td>8</td>\n",
              "      <td>166685.92</td>\n",
              "      <td>2</td>\n",
              "      <td>1</td>\n",
              "      <td>1</td>\n",
              "      <td>55313.51</td>\n",
              "    </tr>\n",
              "    <tr>\n",
              "      <th>2</th>\n",
              "      <td>543</td>\n",
              "      <td>FRANCE</td>\n",
              "      <td>FEMALE</td>\n",
              "      <td>31</td>\n",
              "      <td>4</td>\n",
              "      <td>138317.94</td>\n",
              "      <td>1</td>\n",
              "      <td>0</td>\n",
              "      <td>0</td>\n",
              "      <td>61843.73</td>\n",
              "    </tr>\n",
              "    <tr>\n",
              "      <th>3</th>\n",
              "      <td>709</td>\n",
              "      <td>FRANCE</td>\n",
              "      <td>FEMALE</td>\n",
              "      <td>32</td>\n",
              "      <td>2</td>\n",
              "      <td>0.00</td>\n",
              "      <td>2</td>\n",
              "      <td>0</td>\n",
              "      <td>0</td>\n",
              "      <td>109681.29</td>\n",
              "    </tr>\n",
              "    <tr>\n",
              "      <th>4</th>\n",
              "      <td>714</td>\n",
              "      <td>GERMANY</td>\n",
              "      <td>FEMALE</td>\n",
              "      <td>36</td>\n",
              "      <td>1</td>\n",
              "      <td>101609.01</td>\n",
              "      <td>2</td>\n",
              "      <td>1</td>\n",
              "      <td>1</td>\n",
              "      <td>447.73</td>\n",
              "    </tr>\n",
              "  </tbody>\n",
              "</table>\n",
              "</div>"
            ],
            "text/plain": [
              "   CreditScore Geography  Gender  Age  Tenure    Balance  NumOfProducts  \\\n",
              "0          791   GERMANY  FEMALE   35       7   52436.20              1   \n",
              "1          705   GERMANY    MALE   42       8  166685.92              2   \n",
              "2          543    FRANCE  FEMALE   31       4  138317.94              1   \n",
              "3          709    FRANCE  FEMALE   32       2       0.00              2   \n",
              "4          714   GERMANY  FEMALE   36       1  101609.01              2   \n",
              "\n",
              "   HasCrCard  IsActiveMember  EstimatedSalary  \n",
              "0          1               0        161051.75  \n",
              "1          1               1         55313.51  \n",
              "2          0               0         61843.73  \n",
              "3          0               0        109681.29  \n",
              "4          1               1           447.73  "
            ]
          },
          "execution_count": 122,
          "metadata": {},
          "output_type": "execute_result"
        }
      ],
      "source": [
        "X_train.head()"
      ]
    },
    {
      "cell_type": "code",
      "execution_count": null,
      "metadata": {
        "id": "yfquxPYUm2dm"
      },
      "outputs": [],
      "source": [
        "# 수치형 컬럼 정규화"
      ]
    },
    {
      "cell_type": "code",
      "execution_count": null,
      "metadata": {
        "id": "uyrH5EPFm2dm"
      },
      "outputs": [],
      "source": [
        "from sklearn.preprocessing import StandardScaler"
      ]
    },
    {
      "cell_type": "code",
      "execution_count": null,
      "metadata": {
        "id": "_AkJ7LE2m2dm"
      },
      "outputs": [],
      "source": [
        "# 방법 1\n",
        "int_col = X_train.select_dtypes(include=[\"int\", \"float\"]).columns\n",
        "for i in int_col:\n",
        "    ss = StandardScaler()\n",
        "    X_train[i] = ss.fit_transform(X_train[[i]]) # test data 를 이용해 fit -> transform\n",
        "    X_test[i] = ss.transform(X_test[[i]]) # 이미 fit 되어있기 때문에 transform 만 해준다. "
      ]
    },
    {
      "cell_type": "code",
      "execution_count": null,
      "metadata": {
        "id": "swRo3drSm2dm"
      },
      "outputs": [],
      "source": [
        "# 방법 2\n",
        "# scaler = StandardScaler()\n",
        "# X_train[int_col] = scaler.fit_transform(X_train[int_col])\n",
        "# X_test[int_col] = scaler.transform(X_test[int_col])"
      ]
    },
    {
      "cell_type": "code",
      "execution_count": null,
      "metadata": {
        "id": "kZVNkK9km2dm",
        "outputId": "f065a6b9-4b37-4dfd-ff9b-5ee1b8d3aea8"
      },
      "outputs": [
        {
          "data": {
            "text/html": [
              "<div>\n",
              "<style scoped>\n",
              "    .dataframe tbody tr th:only-of-type {\n",
              "        vertical-align: middle;\n",
              "    }\n",
              "\n",
              "    .dataframe tbody tr th {\n",
              "        vertical-align: top;\n",
              "    }\n",
              "\n",
              "    .dataframe thead th {\n",
              "        text-align: right;\n",
              "    }\n",
              "</style>\n",
              "<table border=\"1\" class=\"dataframe\">\n",
              "  <thead>\n",
              "    <tr style=\"text-align: right;\">\n",
              "      <th></th>\n",
              "      <th>CreditScore</th>\n",
              "      <th>Geography</th>\n",
              "      <th>Gender</th>\n",
              "      <th>Age</th>\n",
              "      <th>Tenure</th>\n",
              "      <th>Balance</th>\n",
              "      <th>NumOfProducts</th>\n",
              "      <th>HasCrCard</th>\n",
              "      <th>IsActiveMember</th>\n",
              "      <th>EstimatedSalary</th>\n",
              "    </tr>\n",
              "  </thead>\n",
              "  <tbody>\n",
              "    <tr>\n",
              "      <th>0</th>\n",
              "      <td>1.455346</td>\n",
              "      <td>GERMANY</td>\n",
              "      <td>FEMALE</td>\n",
              "      <td>-0.376792</td>\n",
              "      <td>0.677301</td>\n",
              "      <td>-0.391014</td>\n",
              "      <td>-0.897814</td>\n",
              "      <td>0.640843</td>\n",
              "      <td>-1.029200</td>\n",
              "      <td>1.047721</td>\n",
              "    </tr>\n",
              "    <tr>\n",
              "      <th>1</th>\n",
              "      <td>0.565183</td>\n",
              "      <td>GERMANY</td>\n",
              "      <td>MALE</td>\n",
              "      <td>0.289748</td>\n",
              "      <td>1.023136</td>\n",
              "      <td>1.439829</td>\n",
              "      <td>0.829508</td>\n",
              "      <td>0.640843</td>\n",
              "      <td>0.971629</td>\n",
              "      <td>-0.777233</td>\n",
              "    </tr>\n",
              "    <tr>\n",
              "      <th>2</th>\n",
              "      <td>-1.111636</td>\n",
              "      <td>FRANCE</td>\n",
              "      <td>FEMALE</td>\n",
              "      <td>-0.757672</td>\n",
              "      <td>-0.360202</td>\n",
              "      <td>0.985234</td>\n",
              "      <td>-0.897814</td>\n",
              "      <td>-1.560445</td>\n",
              "      <td>-1.029200</td>\n",
              "      <td>-0.664527</td>\n",
              "    </tr>\n",
              "    <tr>\n",
              "      <th>3</th>\n",
              "      <td>0.606586</td>\n",
              "      <td>FRANCE</td>\n",
              "      <td>FEMALE</td>\n",
              "      <td>-0.662452</td>\n",
              "      <td>-1.051871</td>\n",
              "      <td>-1.231301</td>\n",
              "      <td>0.829508</td>\n",
              "      <td>-1.560445</td>\n",
              "      <td>-1.029200</td>\n",
              "      <td>0.161110</td>\n",
              "    </tr>\n",
              "    <tr>\n",
              "      <th>4</th>\n",
              "      <td>0.658339</td>\n",
              "      <td>GERMANY</td>\n",
              "      <td>FEMALE</td>\n",
              "      <td>-0.281572</td>\n",
              "      <td>-1.397706</td>\n",
              "      <td>0.396976</td>\n",
              "      <td>0.829508</td>\n",
              "      <td>0.640843</td>\n",
              "      <td>0.971629</td>\n",
              "      <td>-1.724171</td>\n",
              "    </tr>\n",
              "  </tbody>\n",
              "</table>\n",
              "</div>"
            ],
            "text/plain": [
              "   CreditScore Geography  Gender       Age    Tenure   Balance  NumOfProducts  \\\n",
              "0     1.455346   GERMANY  FEMALE -0.376792  0.677301 -0.391014      -0.897814   \n",
              "1     0.565183   GERMANY    MALE  0.289748  1.023136  1.439829       0.829508   \n",
              "2    -1.111636    FRANCE  FEMALE -0.757672 -0.360202  0.985234      -0.897814   \n",
              "3     0.606586    FRANCE  FEMALE -0.662452 -1.051871 -1.231301       0.829508   \n",
              "4     0.658339   GERMANY  FEMALE -0.281572 -1.397706  0.396976       0.829508   \n",
              "\n",
              "   HasCrCard  IsActiveMember  EstimatedSalary  \n",
              "0   0.640843       -1.029200         1.047721  \n",
              "1   0.640843        0.971629        -0.777233  \n",
              "2  -1.560445       -1.029200        -0.664527  \n",
              "3  -1.560445       -1.029200         0.161110  \n",
              "4   0.640843        0.971629        -1.724171  "
            ]
          },
          "execution_count": 130,
          "metadata": {},
          "output_type": "execute_result"
        }
      ],
      "source": [
        "X_train.head()"
      ]
    },
    {
      "cell_type": "code",
      "execution_count": null,
      "metadata": {
        "id": "Ib_y8tAAm2dm"
      },
      "outputs": [],
      "source": [
        "# 범주형 컬럼 인코딩"
      ]
    },
    {
      "cell_type": "code",
      "execution_count": null,
      "metadata": {
        "id": "fPVENJaUm2dm"
      },
      "outputs": [],
      "source": [
        "from sklearn.preprocessing import LabelEncoder"
      ]
    },
    {
      "cell_type": "code",
      "execution_count": null,
      "metadata": {
        "id": "g_ttCN-rm2dn"
      },
      "outputs": [],
      "source": [
        "# 방법 2\n",
        "obj_col = X_train.select_dtypes(include=\"object\").columns\n",
        "for i in obj_col:\n",
        "    le = LabelEncoder()\n",
        "    X_train[i] = le.fit_transform(X_train[i])\n",
        "    X_test[i] = le.transform(X_test[i])\n"
      ]
    },
    {
      "cell_type": "code",
      "execution_count": null,
      "metadata": {
        "id": "nF94jdeum2dn",
        "outputId": "1740bccc-b9af-4c52-bd0b-6d7b23ed7a2b"
      },
      "outputs": [
        {
          "data": {
            "text/html": [
              "<div>\n",
              "<style scoped>\n",
              "    .dataframe tbody tr th:only-of-type {\n",
              "        vertical-align: middle;\n",
              "    }\n",
              "\n",
              "    .dataframe tbody tr th {\n",
              "        vertical-align: top;\n",
              "    }\n",
              "\n",
              "    .dataframe thead th {\n",
              "        text-align: right;\n",
              "    }\n",
              "</style>\n",
              "<table border=\"1\" class=\"dataframe\">\n",
              "  <thead>\n",
              "    <tr style=\"text-align: right;\">\n",
              "      <th></th>\n",
              "      <th>CreditScore</th>\n",
              "      <th>Geography</th>\n",
              "      <th>Gender</th>\n",
              "      <th>Age</th>\n",
              "      <th>Tenure</th>\n",
              "      <th>Balance</th>\n",
              "      <th>NumOfProducts</th>\n",
              "      <th>HasCrCard</th>\n",
              "      <th>IsActiveMember</th>\n",
              "      <th>EstimatedSalary</th>\n",
              "    </tr>\n",
              "  </thead>\n",
              "  <tbody>\n",
              "    <tr>\n",
              "      <th>0</th>\n",
              "      <td>1.455346</td>\n",
              "      <td>1</td>\n",
              "      <td>0</td>\n",
              "      <td>-0.376792</td>\n",
              "      <td>0.677301</td>\n",
              "      <td>-0.391014</td>\n",
              "      <td>-0.897814</td>\n",
              "      <td>0.640843</td>\n",
              "      <td>-1.029200</td>\n",
              "      <td>1.047721</td>\n",
              "    </tr>\n",
              "    <tr>\n",
              "      <th>1</th>\n",
              "      <td>0.565183</td>\n",
              "      <td>1</td>\n",
              "      <td>1</td>\n",
              "      <td>0.289748</td>\n",
              "      <td>1.023136</td>\n",
              "      <td>1.439829</td>\n",
              "      <td>0.829508</td>\n",
              "      <td>0.640843</td>\n",
              "      <td>0.971629</td>\n",
              "      <td>-0.777233</td>\n",
              "    </tr>\n",
              "    <tr>\n",
              "      <th>2</th>\n",
              "      <td>-1.111636</td>\n",
              "      <td>0</td>\n",
              "      <td>0</td>\n",
              "      <td>-0.757672</td>\n",
              "      <td>-0.360202</td>\n",
              "      <td>0.985234</td>\n",
              "      <td>-0.897814</td>\n",
              "      <td>-1.560445</td>\n",
              "      <td>-1.029200</td>\n",
              "      <td>-0.664527</td>\n",
              "    </tr>\n",
              "    <tr>\n",
              "      <th>3</th>\n",
              "      <td>0.606586</td>\n",
              "      <td>0</td>\n",
              "      <td>0</td>\n",
              "      <td>-0.662452</td>\n",
              "      <td>-1.051871</td>\n",
              "      <td>-1.231301</td>\n",
              "      <td>0.829508</td>\n",
              "      <td>-1.560445</td>\n",
              "      <td>-1.029200</td>\n",
              "      <td>0.161110</td>\n",
              "    </tr>\n",
              "    <tr>\n",
              "      <th>4</th>\n",
              "      <td>0.658339</td>\n",
              "      <td>1</td>\n",
              "      <td>0</td>\n",
              "      <td>-0.281572</td>\n",
              "      <td>-1.397706</td>\n",
              "      <td>0.396976</td>\n",
              "      <td>0.829508</td>\n",
              "      <td>0.640843</td>\n",
              "      <td>0.971629</td>\n",
              "      <td>-1.724171</td>\n",
              "    </tr>\n",
              "  </tbody>\n",
              "</table>\n",
              "</div>"
            ],
            "text/plain": [
              "   CreditScore  Geography  Gender       Age    Tenure   Balance  \\\n",
              "0     1.455346          1       0 -0.376792  0.677301 -0.391014   \n",
              "1     0.565183          1       1  0.289748  1.023136  1.439829   \n",
              "2    -1.111636          0       0 -0.757672 -0.360202  0.985234   \n",
              "3     0.606586          0       0 -0.662452 -1.051871 -1.231301   \n",
              "4     0.658339          1       0 -0.281572 -1.397706  0.396976   \n",
              "\n",
              "   NumOfProducts  HasCrCard  IsActiveMember  EstimatedSalary  \n",
              "0      -0.897814   0.640843       -1.029200         1.047721  \n",
              "1       0.829508   0.640843        0.971629        -0.777233  \n",
              "2      -0.897814  -1.560445       -1.029200        -0.664527  \n",
              "3       0.829508  -1.560445       -1.029200         0.161110  \n",
              "4       0.829508   0.640843        0.971629        -1.724171  "
            ]
          },
          "execution_count": 134,
          "metadata": {},
          "output_type": "execute_result"
        }
      ],
      "source": [
        "X_train.head()"
      ]
    },
    {
      "cell_type": "markdown",
      "metadata": {
        "id": "EbTL7lvpm2dn"
      },
      "source": [
        "#### 4. Modeling\n",
        "- 분류MODEL 을 이용해 서비스 이탈예측\n",
        "- 각 MODEL 의 기본값을 이용해 예측해 보세요\n",
        "    - logistic regressor\n",
        "    - KNN\n",
        "    - SVC\n",
        "    - RandomForestClassifier\n",
        "    - XGBClassifier\n",
        "- accuracy_score, roc_auc_score 를 이용해 평가\n",
        "    - accuracy : 0.85\n",
        "    - auc : 0.85\n",
        "- gridsearch를 활용한 best model 과 best_parameter, RandomForestClassifier의 feature_importances_ 는 어떤값을 나타 내는가?"
      ]
    },
    {
      "cell_type": "code",
      "execution_count": null,
      "metadata": {
        "id": "sGpJU4L9m2dn"
      },
      "outputs": [],
      "source": [
        "from sklearn.ensemble import RandomForestClassifier, GradientBoostingClassifier\n",
        "from xgboost import XGBClassifier\n",
        "from sklearn.metrics import accuracy_score, roc_auc_score"
      ]
    },
    {
      "cell_type": "code",
      "execution_count": null,
      "metadata": {
        "id": "t4e6w5uVm2dn"
      },
      "outputs": [],
      "source": [
        "rf = RandomForestClassifier(random_state=1)\n",
        "gb = GradientBoostingClassifier(random_state=1)\n",
        "xgb = XGBClassifier(random_state=1)\n",
        "\n",
        "models = [rf, gb, xgb]"
      ]
    },
    {
      "cell_type": "code",
      "execution_count": null,
      "metadata": {
        "id": "jZN1WRxQm2dn"
      },
      "outputs": [],
      "source": [
        "from sklearn.model_selection import GridSearchCV"
      ]
    },
    {
      "cell_type": "code",
      "execution_count": null,
      "metadata": {
        "id": "d5OWgicVm2dn",
        "outputId": "a0fb6b23-dc26-41ff-e1f1-7c25aa918263"
      },
      "outputs": [
        {
          "name": "stdout",
          "output_type": "stream",
          "text": [
            "==========\n",
            "model : RandomForestClassifier()\n",
            "params : {'max_depth': 5, 'n_estimators': 300}\n",
            "score : 0.8477363987150698\n",
            "==========\n",
            "model : GradientBoostingClassifier()\n",
            "params : {'max_depth': 3, 'n_estimators': 100}\n",
            "score : 0.862244776172996\n",
            "==========\n",
            "model : XGBClassifier(base_score=None, booster=None, callbacks=None,\n",
            "              colsample_bylevel=None, colsample_bynode=None,\n",
            "              colsample_bytree=None, early_stopping_rounds=None,\n",
            "              enable_categorical=False, eval_metric=None, feature_types=None,\n",
            "              gamma=None, gpu_id=None, grow_policy=None, importance_type=None,\n",
            "              interaction_constraints=None, learning_rate=None, max_bin=None,\n",
            "              max_cat_threshold=None, max_cat_to_onehot=None,\n",
            "              max_delta_step=None, max_depth=None, max_leaves=None,\n",
            "              min_child_weight=None, missing=nan, monotone_constraints=None,\n",
            "              n_estimators=100, n_jobs=None, num_parallel_tree=None,\n",
            "              predictor=None, random_state=None, ...)\n",
            "params : {'max_depth': 2, 'n_estimators': 100}\n",
            "score : 0.8569066574964852\n"
          ]
        }
      ],
      "source": [
        "params = {\"n_estimators\":[100,200,300,400,500], \"max_depth\":[1,2,3,4,5]}\n",
        "best_models = []\n",
        "for model in models:\n",
        "    gs = GridSearchCV(model, param_grid=params, cv = 5, scoring=\"roc_auc\", n_jobs=4)\n",
        "    gs.fit(X_train, y_train)\n",
        "\n",
        "    print(f\"=\"*10)\n",
        "    print(f\"model : {model}\")\n",
        "    print(f\"params : {gs.best_params_}\")\n",
        "    print(f\"score : {gs.best_score_}\")\n",
        "\n",
        "    best_models.append(gs.best_estimator_)"
      ]
    },
    {
      "cell_type": "code",
      "execution_count": null,
      "metadata": {
        "id": "0oEzgzXqm2dn",
        "outputId": "7e2bc63a-7060-4c16-c941-6b1f3a45669c"
      },
      "outputs": [
        {
          "data": {
            "text/plain": [
              "3"
            ]
          },
          "execution_count": 104,
          "metadata": {},
          "output_type": "execute_result"
        }
      ],
      "source": [
        "len(best_models)"
      ]
    },
    {
      "cell_type": "code",
      "execution_count": null,
      "metadata": {
        "id": "_-aTjpWjm2dn"
      },
      "outputs": [],
      "source": [
        "model = best_models[1]"
      ]
    },
    {
      "cell_type": "code",
      "execution_count": null,
      "metadata": {
        "id": "uTNkKLpOm2dn"
      },
      "outputs": [],
      "source": [
        "test_predict = model.predict(X_test)\n",
        "test_predict_prob = model.predict_proba(X_test)"
      ]
    },
    {
      "cell_type": "code",
      "execution_count": null,
      "metadata": {
        "id": "mHlzPEXwm2do",
        "outputId": "4e63a061-6b68-41a7-ea31-8a0b99a3acc3"
      },
      "outputs": [
        {
          "name": "stdout",
          "output_type": "stream",
          "text": [
            "accuracy_score: 0.8608968866038275\n",
            "roc_auc_score: 0.8602910993015549\n"
          ]
        }
      ],
      "source": [
        "print(f\"accuracy_score: {accuracy_score(y_test, test_predict)}\")\n",
        "\n",
        "print(f\"roc_auc_score: {roc_auc_score(y_test, test_predict_prob[:,1])}\")"
      ]
    },
    {
      "cell_type": "code",
      "execution_count": null,
      "metadata": {
        "id": "oe_ndP7lm2do"
      },
      "outputs": [],
      "source": [
        "#==================================================="
      ]
    },
    {
      "cell_type": "code",
      "execution_count": null,
      "metadata": {
        "id": "SYmwWGQom2do"
      },
      "outputs": [],
      "source": []
    }
  ],
  "metadata": {
    "colab": {
      "provenance": []
    },
    "kernelspec": {
      "display_name": "Python 3",
      "language": "python",
      "name": "python3"
    },
    "language_info": {
      "codemirror_mode": {
        "name": "ipython",
        "version": 3
      },
      "file_extension": ".py",
      "mimetype": "text/x-python",
      "name": "python",
      "nbconvert_exporter": "python",
      "pygments_lexer": "ipython3",
      "version": "3.10.6 (main, Aug 10 2022, 11:40:04) [GCC 11.3.0]"
    },
    "vscode": {
      "interpreter": {
        "hash": "916dbcbb3f70747c44a77c7bcd40155683ae19c65e1c03b4aa3499c5328201f1"
      }
    }
  },
  "nbformat": 4,
  "nbformat_minor": 0
}
