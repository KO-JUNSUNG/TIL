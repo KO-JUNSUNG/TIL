{
  "cells": [
    {
      "cell_type": "markdown",
      "id": "42f64fda-50fd-4fa7-a5f0-261ced960a52",
      "metadata": {
        "id": "42f64fda-50fd-4fa7-a5f0-261ced960a52",
        "tags": []
      },
      "source": [
        "# 크롤링의 종류\n",
        "\n",
        "\n",
        "\n",
        "## 1. 정적 크롤링\n",
        "- 웹에 있는 정적인 데이터를 수집할 때 사용\n",
        "    - 정적인 데이터란 로그인과 같은 사전 작업 없이 바로 볼 수 있는 데이터\n",
        "    - 새로고침을 하지 않는 이상 변하지 않는 데이터\n",
        "    - 주소를 통해 요청받고 결과를 전달해 주고 종료\n",
        "\n",
        "\n",
        "\n",
        "## 2. 동적 크롤링\n",
        "- 웹에 있는 동적인 데이터를 수집할 때 사용\n",
        "    - 동적인 데이터는 입력, 클릭, 로그인과 같이 페이지 이동시 얻을 수 있는 데이터\n",
        "    - 단계적 접근이 필요하기 때문에 수집 속도가 느리지만 수집 대상에 한계가 거의 없다는 큰 장점\n",
        "    - 연속적인 접근이 가능, 페이지 이동이 필수적이거나 페이지 안에 정보가 은닉되어 있을 경우 사용\n",
        "\n",
        "\n",
        "|           | 정적 크롤링            | 동적 크롤링                  |\n",
        "|-----------|------------------------|----------------------------|\n",
        "| 연속성    | 주소를 통한 단발적 접근  | 브라우저를 사용한 연속적 접근 |\n",
        "| 속도      | 빠름                    | 느림                       |\n",
        "| 수집 성능 | 수집 대상에 한계가 있음 | 수집 대상에 한계가 거의 없음  |"
      ]
    },
    {
      "cell_type": "code",
      "execution_count": 1,
      "id": "01914acd",
      "metadata": {},
      "outputs": [
        {
          "name": "stdout",
          "output_type": "stream",
          "text": [
            "1670547022.4183745\n",
            "time.struct_time(tm_year=2022, tm_mon=12, tm_mday=9, tm_hour=9, tm_min=50, tm_sec=22, tm_wday=4, tm_yday=343, tm_isdst=0)\n"
          ]
        }
      ],
      "source": [
        "import time\n",
        "print(time.time())\n",
        "print(time.localtime())"
      ]
    },
    {
      "cell_type": "markdown",
      "id": "4556bc6e-73bf-496d-acf5-ceb182b2dbb4",
      "metadata": {
        "id": "4556bc6e-73bf-496d-acf5-ceb182b2dbb4"
      },
      "source": [
        "# 라이브러리\n",
        "\n",
        "## 1. time 라이브러리\n",
        "\n",
        "- time.time() : time.time()은 UTC를 사용해 현재 시간을 실수 형태로 돌려주는 함수이다.\n",
        "    - 1970년 1월 1일 0시 0분 0초 기준으로 지난 시간을 초 단위로 return \n",
        "    \n",
        "    ```python\n",
        "    import time\n",
        "    print(time.time())\n",
        "    ```\n",
        " \n",
        "- time.localtime() : 현재 시간을 년, 월, 일, 시, 분, 초..의 형태로 출력\n",
        "\n",
        "    ```python\n",
        "    import time\n",
        "    print(time.localtime())\n",
        "    ```\n",
        "\n",
        "\n",
        "\n",
        "## 2.정적 클로링 도구\n",
        "- requests : 간편한 HTTP 요청 처리를 하는 라이브러리, 웹서비스와 연결하기 위해 사용\n",
        "- beautifulsoup : html 태그를 처리하는 라이브러리, 웹에 있는 데이터 중 필요한 데이터만 추출하기 위해 사용\n",
        "- pd.read_html : html 내의 table만 추출할수 있는 도구\n",
        "\n",
        "\n",
        "## 3. 동적 크롤링 도구\n",
        "- selenium : 웹 드라이버를 사용해 자동화 기능을 실현하는 라이브러리\n",
        "    - 웹에 접속해 클릭, 이동과 같은 action을 제어\n",
        "    - driver 를 설치하고 이를통해 제어 가능"
      ]
    },
    {
      "cell_type": "markdown",
      "id": "b91efe78-1e93-4125-8add-d7edead7e692",
      "metadata": {
        "id": "b91efe78-1e93-4125-8add-d7edead7e692"
      },
      "source": [
        "# Web Page가져오기\n",
        "- urllib.request 패키지"
      ]
    },
    {
      "cell_type": "code",
      "execution_count": null,
      "id": "921a13d2",
      "metadata": {
        "id": "921a13d2"
      },
      "outputs": [],
      "source": [
        "python -m venv webcrawling"
      ]
    },
    {
      "cell_type": "code",
      "execution_count": null,
      "id": "1606e21d",
      "metadata": {
        "id": "1606e21d",
        "outputId": "d07ae124-ee48-46c4-f2c3-3fa7137a31ee"
      },
      "outputs": [
        {
          "name": "stdout",
          "output_type": "stream",
          "text": [
            "Requirement already satisfied: requests in /mnt/c/Users/banya/Desktop/lab/webcrawling/lib/python3.10/site-packages (2.28.1)\n",
            "Requirement already satisfied: charset-normalizer<3,>=2 in /mnt/c/Users/banya/Desktop/lab/webcrawling/lib/python3.10/site-packages (from requests) (2.1.1)\n",
            "Requirement already satisfied: urllib3<1.27,>=1.21.1 in /mnt/c/Users/banya/Desktop/lab/webcrawling/lib/python3.10/site-packages (from requests) (1.26.13)\n",
            "Requirement already satisfied: certifi>=2017.4.17 in /mnt/c/Users/banya/Desktop/lab/webcrawling/lib/python3.10/site-packages (from requests) (2022.12.7)\n",
            "Requirement already satisfied: idna<4,>=2.5 in /mnt/c/Users/banya/Desktop/lab/webcrawling/lib/python3.10/site-packages (from requests) (3.4)\n",
            "Collecting beautifulsoup4\n",
            "  Downloading beautifulsoup4-4.11.1-py3-none-any.whl (128 kB)\n",
            "\u001b[2K     \u001b[90m━━━━━━━━━━━━━━━━━━━━━━━━━━━━━━━━━━━━━━━\u001b[0m \u001b[32m128.2/128.2 KB\u001b[0m \u001b[31m2.3 MB/s\u001b[0m eta \u001b[36m0:00:00\u001b[0ma \u001b[36m0:00:01\u001b[0m\n",
            "\u001b[?25hCollecting soupsieve>1.2\n",
            "  Downloading soupsieve-2.3.2.post1-py3-none-any.whl (37 kB)\n",
            "Installing collected packages: soupsieve, beautifulsoup4\n",
            "Successfully installed beautifulsoup4-4.11.1 soupsieve-2.3.2.post1\n"
          ]
        }
      ],
      "source": [
        "# python -m venv webcrawling\n",
        "!pip install requests\n",
        "!pip install beautifulsoup4\n",
        "\n",
        "# # conda create ~~~~\n",
        "# !conda install requests\n",
        "# !conda install beautifulsoup4"
      ]
    },
    {
      "cell_type": "code",
      "execution_count": 2,
      "id": "993c704a-f515-47ad-a476-904af43545ce",
      "metadata": {
        "id": "993c704a-f515-47ad-a476-904af43545ce"
      },
      "outputs": [],
      "source": [
        "from urllib.request import urlopen\n",
        "import requests\n",
        "from bs4 import BeautifulSoup as bs"
      ]
    },
    {
      "cell_type": "code",
      "execution_count": 3,
      "id": "12d0a4d8",
      "metadata": {
        "id": "12d0a4d8"
      },
      "outputs": [],
      "source": [
        "html = urlopen(\"https://www.naver.com/\")"
      ]
    },
    {
      "cell_type": "code",
      "execution_count": 4,
      "id": "2a6caa54",
      "metadata": {
        "id": "2a6caa54",
        "outputId": "b7e5e293-2fba-49c8-bbd2-cb6d1fd564be"
      },
      "outputs": [
        {
          "data": {
            "text/plain": [
              "<http.client.HTTPResponse at 0x7fd7b86aa920>"
            ]
          },
          "execution_count": 4,
          "metadata": {},
          "output_type": "execute_result"
        }
      ],
      "source": [
        "html"
      ]
    },
    {
      "cell_type": "code",
      "execution_count": 5,
      "id": "fb648d68",
      "metadata": {
        "id": "fb648d68"
      },
      "outputs": [],
      "source": [
        "soup = bs(html, \"html.parser\")"
      ]
    },
    {
      "cell_type": "code",
      "execution_count": null,
      "id": "c672accd",
      "metadata": {
        "id": "c672accd",
        "outputId": "9e056e1f-7ded-432c-c6d4-cce3c4452211"
      },
      "outputs": [],
      "source": [
        "print(soup)"
      ]
    },
    {
      "cell_type": "markdown",
      "id": "0b8c7724-4fdb-47cb-a06b-8c5684c24e11",
      "metadata": {
        "id": "0b8c7724-4fdb-47cb-a06b-8c5684c24e11"
      },
      "source": [
        "- requests 패키지 사용의 결과"
      ]
    },
    {
      "cell_type": "code",
      "execution_count": null,
      "id": "401047e9",
      "metadata": {
        "id": "401047e9",
        "outputId": "9e13ca29-d082-4678-b540-0f3f70eca5e5"
      },
      "outputs": [],
      "source": [
        "html = requests.get(\"https://www.naver.com\")\n",
        "# soup = bs(html, \"html.parser\")\n",
        "# print(soup)\n",
        "soup = bs(html.text, \"html.parser\")\n",
        "print(soup)"
      ]
    },
    {
      "cell_type": "markdown",
      "id": "7b7718ad-b99b-4560-86fd-6392db182c11",
      "metadata": {
        "id": "7b7718ad-b99b-4560-86fd-6392db182c11"
      },
      "source": [
        "# 웹페이지와 HTML\n",
        "- 웹페이지는 HTML(HyperText Markup Language)을 기반으로 생성\n",
        "- F12, Ctrl + shift + c 를통해 확인 가능 \n",
        "\n",
        "## 1. HTML 태그\n",
        "- 기본형\n",
        "```html\n",
        "<태그>내용</태그>\n",
        "```\n",
        "\n",
        "- HTML은 마크로 둘러싸인 언어라는 뜻으로 구조에 대한 정보를 기반으로 작성된 언어\n",
        "- 각각의 구성 요소는 마크 역할을 하는 태그로 감싸져 있다.\n",
        "    - 웹페이지의 시작과 끝을 의미하는 \n",
        "    ```html\n",
        "    <html></html>\n",
        "    ```\n",
        "    - 문서의 제목을 의미하는 \n",
        "    ```html\n",
        "    <title></title>\n",
        "    ```\n",
        "    - 웹에 실제로 표시되는 내용을 의미하는 \n",
        "    ```html\n",
        "    <body></body>\n",
        "    ```\n",
        "\n",
        "## 2. HTML 태그의 종류\n",
        "- ul : unordered list. \n",
        "- li : list item. \n",
        "    - 목록의 내용이 되는 실질적 태그\n",
        "    - [참고](https://www.w3schools.com/html/html_lists.asp)\n",
        "- a\n",
        "    - 하이퍼링크를 나타내는 태그\n",
        "    - <a href=\"https://www.google.com\">google</a>\n",
        "- p\n",
        "    - paragraph(단락)의 약자, 긴 글 뭉텅이.\n",
        "- table : 표를 나타내는 태그\n",
        "    - [참고](https://www.w3schools.com/html/tryit.asp?filename=tryhtml_table3)\n",
        "- html 태그 검색 명령어\n",
        "    - find(\"태그\") - 첫번째 태그만 검색\n",
        "    - find_all(\"태그\") - 전체 태그 검색후 list로 반환"
      ]
    },
    {
      "cell_type": "code",
      "execution_count": 7,
      "id": "1e30682f",
      "metadata": {
        "id": "1e30682f"
      },
      "outputs": [
        {
          "data": {
            "text/plain": [
              "' 뉴스스탠드 바로가기 주제별캐스트 바로가기 타임스퀘어 바로가기 쇼핑캐스트 바로가기 로그인 바로가기 '"
            ]
          },
          "execution_count": 7,
          "metadata": {},
          "output_type": "execute_result"
        }
      ],
      "source": [
        "#실습: 네이버 또는 본인이 자주 들어가는 사이트에서 위에 나열된 태그를 찾아보세요. \n",
        "#div 태그를 이용해서 a나 li 등의 태그를 감싸고 있으므로, 당황하지 말고 찾아보세요.\n",
        "find_div=soup.find(\"div\")\n",
        "find_div.text"
      ]
    },
    {
      "cell_type": "code",
      "execution_count": 8,
      "id": "5c780924",
      "metadata": {},
      "outputs": [
        {
          "data": {
            "text/plain": [
              "'\\n\\n\\n메일\\n\\n카페\\n블로그\\n지식iN\\n쇼핑\\n쇼핑LIVE\\nPay\\n\\nTV\\n\\n\\n\\n사전\\n뉴스\\n증권\\n부동산\\n지도\\nVIBE\\n도서\\n웹툰\\n\\n\\n더보기\\n\\n서비스 전체보기\\n메뉴설정\\n초기화\\n저장\\n\\n'"
            ]
          },
          "execution_count": 8,
          "metadata": {},
          "output_type": "execute_result"
        }
      ],
      "source": [
        "find_div_class_group_nav= soup.find('div',class_='group_nav')\n",
        "#find_div_group_nav\n",
        "find_div_class_group_nav.text"
      ]
    },
    {
      "cell_type": "code",
      "execution_count": 9,
      "id": "70d5ac44",
      "metadata": {},
      "outputs": [
        {
          "data": {
            "text/plain": [
              "'\\n\\n\\n\\n메일\\n\\n카페\\n블로그\\n지식iN\\n쇼핑\\n쇼핑LIVE\\nPay\\n\\nTV\\n\\n\\n\\n사전\\n뉴스\\n증권\\n부동산\\n지도\\nVIBE\\n도서\\n웹툰\\n\\n\\n더보기\\n\\n서비스 전체보기\\n메뉴설정\\n초기화\\n저장\\n\\n\\n\\n\\n\\n\\n2.1°흐림\\n\\n\\n0.0°10.0°\\n\\n서현동\\n\\n\\n\\n\\n\\n미세좋음\\n초미세보통\\n\\n서현동\\n\\n\\n\\n'"
            ]
          },
          "execution_count": 9,
          "metadata": {},
          "output_type": "execute_result"
        }
      ],
      "source": [
        "find_div_id_group_nav=soup.find('div', id='NM_FAVORITE')\n",
        "find_div_id_group_nav.text #id로 찾는다. class는 중복될 수 있지만 id는 아니므로\n",
        "#id에 해당하는 추가적인 정보들이 나타난다."
      ]
    },
    {
      "cell_type": "code",
      "execution_count": 10,
      "id": "06cc58c3",
      "metadata": {},
      "outputs": [
        {
          "data": {
            "text/plain": [
              "bs4.element.ResultSet"
            ]
          },
          "execution_count": 10,
          "metadata": {},
          "output_type": "execute_result"
        }
      ],
      "source": [
        "find_all_div = soup.find_all(\"div\")\n",
        "type(find_all_div)"
      ]
    },
    {
      "cell_type": "code",
      "execution_count": 11,
      "id": "85cf84ad",
      "metadata": {},
      "outputs": [
        {
          "data": {
            "text/plain": [
              "<div class=\"tY_u8r23\">\n",
              "<a class=\"_3h-N8T9V\" data-clk=\"dropbanner1b\" href=\"https://whale.naver.com/banner/details/darkmode?=main&amp;wpid=RydDy7\"></a><i class=\"_1KncATpM _1yl_Ow6o\"><span class=\"blind\">NAVER whale</span></i><img alt=\"\" height=\"49\" src=\"https://static-whale.pstatic.net/main/img_darkmode_v12@2x.png\" style=\"padding-left: 100px\" width=\"200\"/><span class=\"_1syGnXOL _3di88A4c\" data-clk=\"dropbanner1b\" style=\"padding-right: 20px; color: white; padding-left: 20px\"><span>눈부심 없는 편안~함 </span><strong style=\"color: #22d4ad\">내가 다크 모드 쓰는 이유</strong></span><a class=\"_2aeXMlrb BMgpjddw\" data-clk=\"dropdownload1b\" href=\"https://installer-whale.pstatic.net/downloads/banner/RydDy7/WhaleSetup.exe\" id=\"NM_whale_download_btn\"><span style=\"background-color: #03bc93\">다운로드</span></a><button class=\"_20PYt6lT _3wm5EzmJ\" data-clk=\"dropclose1b\" data-ui-cookie-exp-days=\"3\" data-ui-cookie-key=\"NM_TOP_PROMOTION\" data-ui-cookie-value=\"1\" data-ui-hide-target=\"#NM_TOP_BANNER\" type=\"button\">\n",
              "3일 동안 보지 않기\n",
              "</button>\n",
              "</div>"
            ]
          },
          "execution_count": 11,
          "metadata": {},
          "output_type": "execute_result"
        }
      ],
      "source": [
        "find_all_div[3]"
      ]
    },
    {
      "cell_type": "code",
      "execution_count": 12,
      "id": "144f55c9",
      "metadata": {},
      "outputs": [
        {
          "name": "stdout",
          "output_type": "stream",
          "text": [
            "\n",
            "메일\n",
            "\n",
            "카페\n",
            "블로그\n",
            "지식iN\n",
            "쇼핑\n",
            "쇼핑LIVE\n",
            "Pay\n",
            "\n",
            "TV\n",
            "\n",
            "사전\n",
            "뉴스\n",
            "증권\n",
            "부동산\n",
            "지도\n",
            "VIBE\n",
            "도서\n",
            "웹툰\n"
          ]
        }
      ],
      "source": [
        "# find와 find_all 동시에 사용하기\n",
        "find_div = soup.find(\"div\", class_=\"group_nav\")\n",
        "find_all_li = find_div.find_all(\"li\") #li 엘리먼트를 가지고 온다. li=리스트 목록의 항목\n",
        "#반드시 정렬목록 (<ol>) 또는 비정렬 목록 또는 메뉴 (<ul> <menu>) 안에 위치해야 한다.\n",
        "for item in find_all_li:\n",
        "    print(item.text)"
      ]
    },
    {
      "cell_type": "code",
      "execution_count": 13,
      "id": "f2d0fdcc",
      "metadata": {},
      "outputs": [
        {
          "data": {
            "text/plain": [
              "'\\n메일\\n'"
            ]
          },
          "execution_count": 13,
          "metadata": {},
          "output_type": "execute_result"
        }
      ],
      "source": [
        "find_all_li[0].get_text() #=find_all_li[0].text"
      ]
    },
    {
      "cell_type": "code",
      "execution_count": null,
      "id": "798e47ba",
      "metadata": {},
      "outputs": [],
      "source": [
        "#a태그의 속성을 출력하고 href의 값만 출력하도록 작성해보세요.\n",
        "메일\n",
        "https://mail.naver.com/\n",
        "\n",
        "카페\n",
        "https://cafe.naver.com/\n"
      ]
    },
    {
      "cell_type": "code",
      "execution_count": 18,
      "id": "1d357f48",
      "metadata": {},
      "outputs": [
        {
          "name": "stdout",
          "output_type": "stream",
          "text": [
            "\n",
            "메일\n",
            "\n",
            "https://mail.naver.com/\n",
            "카페\n",
            "https://section.cafe.naver.com/\n",
            "블로그\n",
            "https://section.blog.naver.com/\n",
            "지식iN\n",
            "https://kin.naver.com/\n",
            "쇼핑\n",
            "https://shopping.naver.com/\n",
            "쇼핑LIVE\n",
            "https://shoppinglive.naver.com/home\n",
            "Pay\n",
            "https://order.pay.naver.com/home\n",
            "\n",
            "TV\n",
            "\n",
            "https://tv.naver.com/\n",
            "사전\n",
            "https://dict.naver.com/\n",
            "뉴스\n",
            "https://news.naver.com/\n",
            "증권\n",
            "https://finance.naver.com/\n",
            "부동산\n",
            "https://land.naver.com/\n",
            "지도\n",
            "https://map.naver.com/\n",
            "VIBE\n",
            "https://vibe.naver.com/?from=naver_main&utm_source=naver_main&utm_medium=naver_main_pcweb&utm_campaign=naver_main_redirect\n",
            "도서\n",
            "https://search.shopping.naver.com/book/home\n",
            "웹툰\n",
            "https://comic.naver.com/\n"
          ]
        }
      ],
      "source": [
        "find_all_li[0].find('a')['href'] \n",
        "#태그를 찾을 때는 find로 찾고 속성을 찾을 때는 indexing 을 해주세요.\n",
        "\n",
        "\n",
        "# find와 find_all 동시에 사용하기\n",
        "    \n",
        "find_div = soup.find(\"div\", class_=\"group_nav\")\n",
        "find_all_li = find_div.find_all(\"li\")\n",
        "for item in find_all_li:\n",
        "    print(item.text)\n",
        "    print(item.find(\"a\")[\"href\"])\n"
      ]
    },
    {
      "cell_type": "markdown",
      "id": "46e11cec-32c0-4bc4-bf17-c9946fef326c",
      "metadata": {
        "id": "46e11cec-32c0-4bc4-bf17-c9946fef326c"
      },
      "source": [
        "\n",
        "## 3. Selector\n",
        "### Selector\n",
        "- 태그 중에는 동일한 태그가 존재할 수있다. \n",
        "- 선택자(Selector)는 동일한 태그 여러 개 중에서도 각 태그를 구별할 수 있는 일종의 주소이다.\n",
        "\n",
        "### Selector의 필요성\n",
        "\n",
        "```html\n",
        "<div>\t\n",
        "\t<div>\n",
        "\t\t<span> Python </span>\n",
        "\t\t<span> Hello world </span>\n",
        "\t</div>\n",
        "\t\n",
        "\t<div>\n",
        "\t\t<span> Java </span>\n",
        "\t\t<span> Coffee </span>\n",
        "\t</div>\n",
        "<div>\n",
        "```\n",
        "\n",
        "- <span> 태그는 다양한 내용을 담을 수 있다.\n",
        "- <span> 태그가 4개나 있어서 컴퓨터가 구분하기 어렵다. 이러한 문제를 해결하기 위해 선택자를 사용함.\n",
        "\n",
        "```html\n",
        "<div id = \"contents\">\t\n",
        "\t<div class = \"metadata1\">\n",
        "\t\t<span class = \"language\"> Python </span>\n",
        "\t\t<span class = \"project\" > Hello world </span>\n",
        "\t</div>\n",
        "\t\n",
        "\t<div class = \"metadata2\">\n",
        "\t\t<span class = \"language\"> Java </span>\n",
        "\t\t<span class = \"project\"> Coffee </span>\n",
        "\t</div>\n",
        "<div>\n",
        "```"
      ]
    },
    {
      "cell_type": "markdown",
      "id": "aaacebd6-e8e4-4658-93b9-a744a63f2e58",
      "metadata": {
        "id": "aaacebd6-e8e4-4658-93b9-a744a63f2e58"
      },
      "source": [
        "### id와 class\n",
        "- 태그의 선택자는 주로 id와 class를 사용\n",
        "- id는 어떤 요소의 고유한 값\n",
        "    - html에서도 id는 하나의 고유한 선택자로, __중복__ 되지 않고 하나만 존재한다.\n",
        "    - [참고](https://www.w3schools.com/html/html_id.asp)\n",
        "- class 태그는 같은 속성을 지닌 데이터를 묶어주는 값\n",
        "    - 한 태그가 __여러 개__ 의 class를 가질 수 있다.\n",
        "    - [참고](https://www.w3schools.com/html/html_classes.asp)\n",
        "\n",
        "비슷한 속성끼리 묶어줄 때 class 태그를 사용한다."
      ]
    },
    {
      "cell_type": "markdown",
      "id": "0ff2e939",
      "metadata": {
        "id": "0ff2e939"
      },
      "source": [
        "### Selector 사용법\n",
        "```html\n",
        "<div id='123' class='456'>\n",
        "```\n",
        "- 선택자에 따라 데이터를 찾는 코드에 차이가 있다.\n",
        "- id는 '#'를 붙이고, class는 '.'을 붙여준다.\n",
        "\n",
        "- 태그만 사용해 데이터를 찾을 경우 -> 태그\n",
        "  - div\n",
        "- 태그와 id를 사용해 데이터를 찾을 경우 -> 태그#id\n",
        "  - div#123\n",
        "- 태그와 class를 사용해 데이터를 찾을 경우 -> 태그.class\n",
        "  - div.456\n",
        "- 태그, id, class 모두 사용해 데이터를 찾을 경우 -> 태그#id.class\n",
        "  - div#123.456\n",
        "\n",
        "- 참고 : class 이름에 공백이 포함될 경우가 종종 있는데, 이럴 경우 공백을 .으로 대체해서 작성하면 된다.\n",
        "    - ex)\n",
        "\n",
        "    ```html\n",
        "    <div class='hello python'>\n",
        "    ```\n",
        "\n",
        "    -> div.hello.python"
      ]
    },
    {
      "cell_type": "code",
      "execution_count": 19,
      "id": "31e01902",
      "metadata": {
        "id": "31e01902"
      },
      "outputs": [],
      "source": [
        "css_soup=soup.select(\"div#NM_FAVORITE > div.group_nav > ul.list_nav.type_fix\") # > 는 선택자 하위를 의미"
      ]
    },
    {
      "cell_type": "code",
      "execution_count": 20,
      "id": "e14ff4fd",
      "metadata": {},
      "outputs": [
        {
          "name": "stdout",
          "output_type": "stream",
          "text": [
            "메일\n",
            "카페\n",
            "블로그\n",
            "지식iN\n",
            "쇼핑\n",
            "쇼핑LIVE\n",
            "Pay\n",
            "TV\n"
          ]
        }
      ],
      "source": [
        "for item in css_soup[0].find_all('a'):\n",
        "    print(item.text)"
      ]
    },
    {
      "cell_type": "code",
      "execution_count": null,
      "id": "2c38202a",
      "metadata": {},
      "outputs": [],
      "source": []
    }
  ],
  "metadata": {
    "colab": {
      "provenance": []
    },
    "kernelspec": {
      "display_name": "Python 3.10.6 ('webcrawling': venv)",
      "language": "python",
      "name": "python3"
    },
    "language_info": {
      "codemirror_mode": {
        "name": "ipython",
        "version": 3
      },
      "file_extension": ".py",
      "mimetype": "text/x-python",
      "name": "python",
      "nbconvert_exporter": "python",
      "pygments_lexer": "ipython3",
      "version": "3.10.6 (main, Nov  2 2022, 18:53:38) [GCC 11.3.0]"
    },
    "vscode": {
      "interpreter": {
        "hash": "895a5b45eefb186b1a625da09cf7d2a81684abfce6cd20dfc2b3c93836a9c5fe"
      }
    }
  },
  "nbformat": 4,
  "nbformat_minor": 5
}
