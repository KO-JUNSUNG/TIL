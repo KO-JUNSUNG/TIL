{
  "cells": [
    {
      "cell_type": "code",
      "execution_count": null,
      "metadata": {
        "id": "4bmpWxvDxY9i"
      },
      "outputs": [],
      "source": [
        "# 일자별 차트 크롤링\n",
        "# 1등 가져오기\n",
        "# 전체 순위가져 오기 "
      ]
    },
    {
      "cell_type": "code",
      "execution_count": null,
      "metadata": {
        "id": "sYZHKnKAxY9k"
      },
      "outputs": [],
      "source": [
        "# 순위에 따라서 점수 부여\n",
        "# 1등 -> 100점, 100등 -> 1점"
      ]
    },
    {
      "cell_type": "code",
      "execution_count": null,
      "metadata": {
        "id": "Wwe2F-UdxY9l"
      },
      "outputs": [],
      "source": [
        "# 특정 기간내에 차트 진입 점수 계산\n",
        "# 예) 15일간 차트 분석 \n",
        "# 12월12 일 -> 아이유 150 점, 12월 11일 -> 아이유 160점, 12월 1일  아이유 누적점수 ~~점\n",
        "# 누적된 점수별 아티스트 계산  상위 10명 을 히스토 그램으로 그려 보세요."
      ]
    },
    {
      "cell_type": "code",
      "execution_count": 5,
      "metadata": {},
      "outputs": [],
      "source": [
        "from urllib.request import urlopen\n",
        "import requests\n",
        "from bs4 import BeautifulSoup"
      ]
    },
    {
      "cell_type": "code",
      "execution_count": 21,
      "metadata": {},
      "outputs": [],
      "source": [
        "import pandas as pd"
      ]
    },
    {
      "cell_type": "code",
      "execution_count": 57,
      "metadata": {},
      "outputs": [],
      "source": [
        "dates=pd.date_range('2022-12-01','2022-12-12',freq='D')"
      ]
    },
    {
      "cell_type": "code",
      "execution_count": 58,
      "metadata": {},
      "outputs": [],
      "source": [
        "dates=[i.strftime(\"%Y%m%d\") for i in dates]"
      ]
    },
    {
      "cell_type": "code",
      "execution_count": 53,
      "metadata": {},
      "outputs": [
        {
          "data": {
            "text/plain": [
              "['20221201',\n",
              " '20221202',\n",
              " '20221203',\n",
              " '20221204',\n",
              " '20221205',\n",
              " '20221206',\n",
              " '20221207',\n",
              " '20221208',\n",
              " '20221209',\n",
              " '20221210',\n",
              " '20221211',\n",
              " '20221212']"
            ]
          },
          "execution_count": 53,
          "metadata": {},
          "output_type": "execute_result"
        }
      ],
      "source": [
        "date"
      ]
    },
    {
      "cell_type": "code",
      "execution_count": 6,
      "metadata": {},
      "outputs": [],
      "source": [
        "for i in range(len(date)):\n",
        "    url=\"https://music.bugs.co.kr/chart/track/day/total?chartdate=\"+date[i]\n",
        "    raw = requests.get(url)\n",
        "    bs=BeautifulSoup(raw.text, \"html.parser\")\n",
        "    box=bs.find('tbody')\n",
        "    title=box.find_all('p',{'class': 'title'})\n",
        "    singer=box.find_all('p',{'class': 'artist'})\n",
        "    rank=box.find_all('strong')\n",
        "    Bugs=[]\n",
        "\n",
        "    for j in range(len(title)):\n",
        "        a=rank[j].text.replace(\"\\n\", \"\")\n",
        "        A=title[j].text.replace(\"\\n\", \"\")\n",
        "        B=singer[j].text.replace(\"\\n\", \"\")\n",
        "        score=100-(int(a)-1)\n",
        "        Bugs.append({\"랭킹\":a, \"제목\": A,\"가수\": B,\"점수\":score})\n",
        "        \n",
        "        if Bugs == []:\n",
        "            BBugs=pd.DataFrame(Bugs)\n",
        "        else: \n",
        "            BBugs.concat(B)        "
      ]
    },
    {
      "cell_type": "code",
      "execution_count": 13,
      "metadata": {},
      "outputs": [
        {
          "data": {
            "text/plain": [
              "'Hype Boy'"
            ]
          },
          "execution_count": 13,
          "metadata": {},
          "output_type": "execute_result"
        }
      ],
      "source": [
        "box.find_all('p',{'class': 'title'})[1].text.replace(\"\\n\", \"\")\n",
        "#text를 치면 '\\nHype Boy\\n' 처럼 나온다.\n",
        "# 따라서 replace 메서드를 적용한다."
      ]
    },
    {
      "cell_type": "code",
      "execution_count": 19,
      "metadata": {},
      "outputs": [],
      "source": [
        "title=box.find_all('p',{'class': 'title'})\n",
        "singer=box.find_all('p',{'class': 'artist'})\n",
        "rank=box.find_all('strong')"
      ]
    },
    {
      "cell_type": "code",
      "execution_count": 20,
      "metadata": {},
      "outputs": [
        {
          "name": "stdout",
          "output_type": "stream",
          "text": [
            "[{'랭킹': '1', '제목': '사건의 지평선', '가수': '윤하(Younha/ユンナ)', '점수': 100}, {'랭킹': '2', '제목': 'Hype Boy', '가수': 'NewJeans', '점수': 99}, {'랭킹': '3', '제목': 'WHEN I MOVE', '가수': '카라(Kara)', '점수': 98}, {'랭킹': '4', '제목': 'ANTIFRAGILE', '가수': 'LE SSERAFIM (르세라핌)', '점수': 97}, {'랭킹': '5', '제목': 'After LIKE', '가수': 'IVE (아이브)', '점수': 96}, {'랭킹': '6', '제목': 'Attention', '가수': 'NewJeans', '점수': 95}, {'랭킹': '7', '제목': 'Nxde', '가수': '(여자)아이들', '점수': 94}, {'랭킹': '8', '제목': 'Dreamers [Music from the FIFA World Cup Qatar 2022 Official Soundtrack] (feat. FIFA Sound)', '가수': '정국\\r정국\\r ', '점수': 93}, {'랭킹': '9', '제목': 'LOVE DIVE', '가수': 'IVE (아이브)', '점수': 92}, {'랭킹': '10', '제목': 'All I Want for Christmas Is You', '가수': 'Mariah Carey(머라이어 캐리)', '점수': 91}, {'랭킹': '11', '제목': 'Snowman', '가수': 'Sia(시아)', '점수': 90}, {'랭킹': '12', '제목': 'Shut Down', '가수': 'BLACKPINK', '점수': 89}, {'랭킹': '13', '제목': '새삥 (Prod. ZICO) (Feat. 호미들)', '가수': '지코', '점수': 88}, {'랭킹': '14', '제목': 'Santa Tell Me', '가수': 'Ariana Grande(아리아나 그란데)', '점수': 87}, {'랭킹': '15', '제목': 'STEP', '가수': '카라(Kara)', '점수': 86}, {'랭킹': '16', '제목': 'Pink Venom', '가수': 'BLACKPINK', '점수': 85}, {'랭킹': '17', '제목': '오르트구름', '가수': '윤하(Younha/ユンナ)', '점수': 84}, {'랭킹': '18', '제목': 'Cookie', '가수': 'NewJeans', '점수': 83}, {'랭킹': '19', '제목': 'Birthday', '가수': 'Red Velvet (레드벨벳)', '점수': 82}, {'랭킹': '20', '제목': '마이웨이 (MY WAY) (Prod. R.Tee)', '가수': '저스디스(JUSTHIS)\\r저스디스(JUSTHIS)\\r ', '점수': 81}, {'랭킹': '21', '제목': '자격지심 (Feat. ZICO)', '가수': \"BE'O (비오)\", '점수': 80}, {'랭킹': '22', '제목': 'ELEVEN', '가수': 'IVE (아이브)', '점수': 79}, {'랭킹': '23', '제목': 'I Don’t Think That I Like Her', '가수': 'Charlie Puth(찰리 푸스)', '점수': 78}, {'랭킹': '24', '제목': 'Monologue', '가수': '테이(Tei)', '점수': 77}, {'랭킹': '25', '제목': 'Rush Hour (Feat. j-hope of BTS)', '가수': 'Crush', '점수': 76}, {'랭킹': '26', '제목': 'FEARLESS', '가수': 'LE SSERAFIM (르세라핌)', '점수': 75}, {'랭킹': '27', '제목': 'When I Get Old', '가수': 'Christopher(크리스토퍼)\\rChristopher(크리스토퍼)\\r ', '점수': 74}, {'랭킹': '28', '제목': 'Cheshire', '가수': 'ITZY (있지)', '점수': 73}, {'랭킹': '29', '제목': '딱 10CM만', '가수': '10CM\\r10CM\\r ', '점수': 72}, {'랭킹': '30', '제목': '우린 그렇게 사랑해서', '가수': '강민경\\r강민경\\r ', '점수': 71}, {'랭킹': '31', '제목': 'TOMBOY', '가수': '(여자)아이들', '점수': 70}, {'랭킹': '32', '제목': 'Make It To Christmas', '가수': 'Alessia Cara(알레시아 카라)', '점수': 69}, {'랭킹': '33', '제목': 'Made You Look', '가수': 'Meghan Trainor(메간 트레이너)', '점수': 68}, {'랭킹': '34', '제목': '주저하는 연인들을 위해', '가수': '잔나비', '점수': 67}, {'랭킹': '35', '제목': '그라데이션', '가수': '10CM', '점수': 66}, {'랭킹': '36', '제목': '드라마', '가수': '아이유(IU)', '점수': 65}, {'랭킹': '37', '제목': '너의 모든 순간', '가수': '성시경', '점수': 64}, {'랭킹': '38', '제목': '정이라고 하자 (Feat. 10CM)', '가수': 'BIG Naughty (서동현)', '점수': 63}, {'랭킹': '39', '제목': '내가 아니라도', '가수': '주호', '점수': 62}, {'랭킹': '40', '제목': 'STAY', '가수': 'The Kid LAROI\\rThe Kid LAROI\\r ', '점수': 61}, {'랭킹': '41', '제목': '크리스마스니까', '가수': '성시경\\r성시경\\r ', '점수': 60}, {'랭킹': '42', '제목': 'Impurities', '가수': 'LE SSERAFIM (르세라핌)', '점수': 59}, {'랭킹': '43', '제목': '다정히 내 이름을 부르면', '가수': '경서예지\\r경서예지\\r ', '점수': 58}, {'랭킹': '44', '제목': '보고싶었어', '가수': 'WSG워너비 (4FIRE)', '점수': 57}, {'랭킹': '45', '제목': 'DICE', '가수': 'NMIXX', '점수': 56}, {'랭킹': '46', '제목': '사랑인가 봐', '가수': '멜로망스(MeloMance)', '점수': 55}, {'랭킹': '47', '제목': 'Anti-Hero', '가수': 'Taylor Swift(테일러 스위프트)', '점수': 54}, {'랭킹': '48', '제목': \"That's Hilarious\", '가수': 'Charlie Puth(찰리 푸스)', '점수': 53}, {'랭킹': '49', '제목': '도깨비불 (Illusion)', '가수': 'aespa', '점수': 52}, {'랭킹': '50', '제목': '나의 X에게', '가수': '경서', '점수': 51}, {'랭킹': '51', '제목': 'Feel My Rhythm', '가수': 'Red Velvet (레드벨벳)', '점수': 50}, {'랭킹': '52', '제목': '해요 (2022)', '가수': '#안녕', '점수': 49}, {'랭킹': '53', '제목': '모든 날, 모든 순간 (Every day, Every Moment)', '가수': '폴킴(Paul Kim)', '점수': 48}, {'랭킹': '54', '제목': '취중고백', '가수': '김민석 (멜로망스)', '점수': 47}, {'랭킹': '55', '제목': '그때 그 순간 그대로 (그그그)', '가수': 'WSG워너비 (가야G)', '점수': 46}, {'랭킹': '56', '제목': 'Unholy', '가수': 'Sam Smith(샘 스미스)\\rSam Smith(샘 스미스)\\r ', '점수': 45}, {'랭킹': '57', '제목': '위하여 (We Higher) (Prod. GroovyRoom)', '가수': '그루비룸 (GroovyRoom)\\r그루비룸 (GroovyRoom)\\r ', '점수': 44}, {'랭킹': '58', '제목': '미리 메리 크리스마스 (feat. 천둥 Of MBLAQ)', '가수': '아이유(IU)', '점수': 43}, {'랭킹': '59', '제목': '떠나보낼 준비해 둘걸 그랬어', '가수': '임한별', '점수': 42}, {'랭킹': '60', '제목': '첫 눈', '가수': 'EXO', '점수': 41}, {'랭킹': '61', '제목': 'strawberry moon', '가수': '아이유(IU)', '점수': 40}, {'랭킹': '62', '제목': 'Dangerously', '가수': 'Charlie Puth(찰리 푸스)', '점수': 39}, {'랭킹': '63', '제목': 'LAW (Prod. Czaer)', '가수': '윤미래\\r윤미래\\r ', '점수': 38}, {'랭킹': '64', '제목': 'Talk that Talk', '가수': 'TWICE (트와이스)', '점수': 37}, {'랭킹': '65', '제목': '루팡 (Lupin)', '가수': '카라(Kara)', '점수': 36}, {'랭킹': '66', '제목': '한 페이지가 될 수 있게', '가수': 'DAY6 (데이식스)', '점수': 35}, {'랭킹': '67', '제목': '사랑하긴 했었나요 스쳐가는 인연이었나요 짧지않은 우리 함께했던 시간들이 자꾸 내 마음을 가둬두네', '가수': '잔나비', '점수': 34}, {'랭킹': '68', '제목': 'Left and Right (Feat. Jung Kook of BTS)', '가수': 'Charlie Puth(찰리 푸스)\\rCharlie Puth(찰리 푸스)\\r ', '점수': 33}, {'랭킹': '69', '제목': 'WE (Feat. 박재범) (Prod. by Slom)', '가수': '이영지\\r이영지\\r ', '점수': 32}, {'랭킹': '70', '제목': '팡파레', '가수': '다비치', '점수': 31}, {'랭킹': '71', '제목': 'INVU', '가수': '태연 (TAEYEON)', '점수': 30}, {'랭킹': '72', '제목': \"I Ain't Worried\", '가수': 'OneRepublic(원리퍼블릭)', '점수': 29}, {'랭킹': '73', '제목': 'FOREVER 1', '가수': \"소녀시대 (GIRLS' GENERATION)\", '점수': 28}, {'랭킹': '74', '제목': '사랑은 늘 도망가', '가수': '임영웅', '점수': 27}, {'랭킹': '75', '제목': 'LOVE me', '가수': \"BE'O (비오)\", '점수': 26}, {'랭킹': '76', '제목': 'Off My Face', '가수': 'Justin Bieber(저스틴 비버)', '점수': 25}, {'랭킹': '77', '제목': 'ZOOM', '가수': 'Red Velvet (레드벨벳)', '점수': 24}, {'랭킹': '78', '제목': '내 기쁨은 너가 벤틀리를 끄는 거야', '가수': '김승민', '점수': 23}, {'랭킹': '79', '제목': 'Love story', '가수': '볼빨간사춘기', '점수': 22}, {'랭킹': '80', '제목': 'SNEAKERS', '가수': 'ITZY (있지)', '점수': 21}, {'랭킹': '81', '제목': 'Underneath the Tree', '가수': 'Kelly Clarkson(켈리 클락슨)', '점수': 20}, {'랭킹': '82', '제목': '진심이었던 사람만 바보가 돼', '가수': '권진아', '점수': 19}, {'랭킹': '83', '제목': '봄여름가을겨울 (Still Life)', '가수': 'BIGBANG (빅뱅)', '점수': 18}, {'랭킹': '84', '제목': '찬바람이 불어오네요', '가수': '케이시', '점수': 17}, {'랭킹': '85', '제목': '잘가요', '가수': '주호', '점수': 16}, {'랭킹': '86', '제목': '롤러코스터 (On A Ride)', '가수': 'Red Velvet (레드벨벳)', '점수': 15}, {'랭킹': '87', '제목': '그래서 그대는', '가수': '이영현', '점수': 14}, {'랭킹': '88', '제목': '나쁜X', '가수': '비비(BIBI)', '점수': 13}, {'랭킹': '89', '제목': 'Next Level', '가수': 'aespa', '점수': 12}, {'랭킹': '90', '제목': '신호등', '가수': '이무진', '점수': 11}, {'랭킹': '91', '제목': '그 겨울이 잠든 거리에서', '가수': '경서예지\\r경서예지\\r ', '점수': 10}, {'랭킹': '92', '제목': '맘마미아', '가수': '카라(Kara)', '점수': 9}, {'랭킹': '93', '제목': 'GHOST TOWN', '가수': 'Benson Boone', '점수': 8}, {'랭킹': '94', '제목': 'Last Christmas', '가수': 'Wham!(왬)', '점수': 7}, {'랭킹': '95', '제목': '아저씨', '가수': '릴러말즈 (Leellamarz)\\r릴러말즈 (Leellamarz)\\r ', '점수': 6}, {'랭킹': '96', '제목': 'MY BAG', '가수': '(여자)아이들', '점수': 5}, {'랭킹': '97', '제목': '흩어지지 않게', '가수': '엠씨더맥스 (M.C the MAX)', '점수': 4}, {'랭킹': '98', '제목': '가을밤에 든 생각', '가수': '잔나비', '점수': 3}, {'랭킹': '99', '제목': '모든 계절은 너였다', '가수': '길구봉구', '점수': 2}, {'랭킹': '100', '제목': 'That That (prod. & feat. SUGA of BTS)', '가수': '싸이 (PSY)', '점수': 1}]\n"
          ]
        }
      ],
      "source": [
        "Bugs=[]\n",
        "\n",
        "for i in range(len(title)):\n",
        "    a=rank[i].text.replace(\"\\n\", \"\")\n",
        "    A=title[i].text.replace(\"\\n\", \"\")\n",
        "    B=singer[i].text.replace(\"\\n\", \"\")\n",
        "    score=100-(int(a)-1)\n",
        "    Bugs.append({\"랭킹\":a, \"제목\": A,\"가수\": B,\"점수\":score})\n"
      ]
    },
    {
      "cell_type": "code",
      "execution_count": 22,
      "metadata": {},
      "outputs": [],
      "source": [
        "BBugs=pd.DataFrame(Bugs)"
      ]
    },
    {
      "cell_type": "code",
      "execution_count": 23,
      "metadata": {},
      "outputs": [
        {
          "data": {
            "text/html": [
              "<div>\n",
              "<style scoped>\n",
              "    .dataframe tbody tr th:only-of-type {\n",
              "        vertical-align: middle;\n",
              "    }\n",
              "\n",
              "    .dataframe tbody tr th {\n",
              "        vertical-align: top;\n",
              "    }\n",
              "\n",
              "    .dataframe thead th {\n",
              "        text-align: right;\n",
              "    }\n",
              "</style>\n",
              "<table border=\"1\" class=\"dataframe\">\n",
              "  <thead>\n",
              "    <tr style=\"text-align: right;\">\n",
              "      <th></th>\n",
              "      <th>랭킹</th>\n",
              "      <th>제목</th>\n",
              "      <th>가수</th>\n",
              "      <th>점수</th>\n",
              "    </tr>\n",
              "  </thead>\n",
              "  <tbody>\n",
              "    <tr>\n",
              "      <th>0</th>\n",
              "      <td>1</td>\n",
              "      <td>사건의 지평선</td>\n",
              "      <td>윤하(Younha/ユンナ)</td>\n",
              "      <td>100</td>\n",
              "    </tr>\n",
              "    <tr>\n",
              "      <th>1</th>\n",
              "      <td>2</td>\n",
              "      <td>Hype Boy</td>\n",
              "      <td>NewJeans</td>\n",
              "      <td>99</td>\n",
              "    </tr>\n",
              "    <tr>\n",
              "      <th>2</th>\n",
              "      <td>3</td>\n",
              "      <td>WHEN I MOVE</td>\n",
              "      <td>카라(Kara)</td>\n",
              "      <td>98</td>\n",
              "    </tr>\n",
              "    <tr>\n",
              "      <th>3</th>\n",
              "      <td>4</td>\n",
              "      <td>ANTIFRAGILE</td>\n",
              "      <td>LE SSERAFIM (르세라핌)</td>\n",
              "      <td>97</td>\n",
              "    </tr>\n",
              "    <tr>\n",
              "      <th>4</th>\n",
              "      <td>5</td>\n",
              "      <td>After LIKE</td>\n",
              "      <td>IVE (아이브)</td>\n",
              "      <td>96</td>\n",
              "    </tr>\n",
              "    <tr>\n",
              "      <th>...</th>\n",
              "      <td>...</td>\n",
              "      <td>...</td>\n",
              "      <td>...</td>\n",
              "      <td>...</td>\n",
              "    </tr>\n",
              "    <tr>\n",
              "      <th>95</th>\n",
              "      <td>96</td>\n",
              "      <td>MY BAG</td>\n",
              "      <td>(여자)아이들</td>\n",
              "      <td>5</td>\n",
              "    </tr>\n",
              "    <tr>\n",
              "      <th>96</th>\n",
              "      <td>97</td>\n",
              "      <td>흩어지지 않게</td>\n",
              "      <td>엠씨더맥스 (M.C the MAX)</td>\n",
              "      <td>4</td>\n",
              "    </tr>\n",
              "    <tr>\n",
              "      <th>97</th>\n",
              "      <td>98</td>\n",
              "      <td>가을밤에 든 생각</td>\n",
              "      <td>잔나비</td>\n",
              "      <td>3</td>\n",
              "    </tr>\n",
              "    <tr>\n",
              "      <th>98</th>\n",
              "      <td>99</td>\n",
              "      <td>모든 계절은 너였다</td>\n",
              "      <td>길구봉구</td>\n",
              "      <td>2</td>\n",
              "    </tr>\n",
              "    <tr>\n",
              "      <th>99</th>\n",
              "      <td>100</td>\n",
              "      <td>That That (prod. &amp; feat. SUGA of BTS)</td>\n",
              "      <td>싸이 (PSY)</td>\n",
              "      <td>1</td>\n",
              "    </tr>\n",
              "  </tbody>\n",
              "</table>\n",
              "<p>100 rows × 4 columns</p>\n",
              "</div>"
            ],
            "text/plain": [
              "     랭킹                                     제목                   가수   점수\n",
              "0     1                                사건의 지평선       윤하(Younha/ユンナ)  100\n",
              "1     2                               Hype Boy             NewJeans   99\n",
              "2     3                            WHEN I MOVE             카라(Kara)   98\n",
              "3     4                            ANTIFRAGILE   LE SSERAFIM (르세라핌)   97\n",
              "4     5                             After LIKE            IVE (아이브)   96\n",
              "..  ...                                    ...                  ...  ...\n",
              "95   96                                 MY BAG              (여자)아이들    5\n",
              "96   97                                흩어지지 않게  엠씨더맥스 (M.C the MAX)    4\n",
              "97   98                              가을밤에 든 생각                  잔나비    3\n",
              "98   99                             모든 계절은 너였다                 길구봉구    2\n",
              "99  100  That That (prod. & feat. SUGA of BTS)             싸이 (PSY)    1\n",
              "\n",
              "[100 rows x 4 columns]"
            ]
          },
          "execution_count": 23,
          "metadata": {},
          "output_type": "execute_result"
        }
      ],
      "source": [
        "BBugs"
      ]
    },
    {
      "cell_type": "code",
      "execution_count": 24,
      "metadata": {},
      "outputs": [],
      "source": [
        "BBugs.set_index('랭킹', inplace=True)"
      ]
    },
    {
      "cell_type": "code",
      "execution_count": 26,
      "metadata": {},
      "outputs": [
        {
          "data": {
            "text/html": [
              "<div>\n",
              "<style scoped>\n",
              "    .dataframe tbody tr th:only-of-type {\n",
              "        vertical-align: middle;\n",
              "    }\n",
              "\n",
              "    .dataframe tbody tr th {\n",
              "        vertical-align: top;\n",
              "    }\n",
              "\n",
              "    .dataframe thead th {\n",
              "        text-align: right;\n",
              "    }\n",
              "</style>\n",
              "<table border=\"1\" class=\"dataframe\">\n",
              "  <thead>\n",
              "    <tr style=\"text-align: right;\">\n",
              "      <th></th>\n",
              "      <th>제목</th>\n",
              "      <th>가수</th>\n",
              "      <th>점수</th>\n",
              "    </tr>\n",
              "    <tr>\n",
              "      <th>랭킹</th>\n",
              "      <th></th>\n",
              "      <th></th>\n",
              "      <th></th>\n",
              "    </tr>\n",
              "  </thead>\n",
              "  <tbody>\n",
              "    <tr>\n",
              "      <th>1</th>\n",
              "      <td>사건의 지평선</td>\n",
              "      <td>윤하(Younha/ユンナ)</td>\n",
              "      <td>100</td>\n",
              "    </tr>\n",
              "    <tr>\n",
              "      <th>2</th>\n",
              "      <td>Hype Boy</td>\n",
              "      <td>NewJeans</td>\n",
              "      <td>99</td>\n",
              "    </tr>\n",
              "    <tr>\n",
              "      <th>3</th>\n",
              "      <td>WHEN I MOVE</td>\n",
              "      <td>카라(Kara)</td>\n",
              "      <td>98</td>\n",
              "    </tr>\n",
              "    <tr>\n",
              "      <th>4</th>\n",
              "      <td>ANTIFRAGILE</td>\n",
              "      <td>LE SSERAFIM (르세라핌)</td>\n",
              "      <td>97</td>\n",
              "    </tr>\n",
              "    <tr>\n",
              "      <th>5</th>\n",
              "      <td>After LIKE</td>\n",
              "      <td>IVE (아이브)</td>\n",
              "      <td>96</td>\n",
              "    </tr>\n",
              "    <tr>\n",
              "      <th>...</th>\n",
              "      <td>...</td>\n",
              "      <td>...</td>\n",
              "      <td>...</td>\n",
              "    </tr>\n",
              "    <tr>\n",
              "      <th>96</th>\n",
              "      <td>MY BAG</td>\n",
              "      <td>(여자)아이들</td>\n",
              "      <td>5</td>\n",
              "    </tr>\n",
              "    <tr>\n",
              "      <th>97</th>\n",
              "      <td>흩어지지 않게</td>\n",
              "      <td>엠씨더맥스 (M.C the MAX)</td>\n",
              "      <td>4</td>\n",
              "    </tr>\n",
              "    <tr>\n",
              "      <th>98</th>\n",
              "      <td>가을밤에 든 생각</td>\n",
              "      <td>잔나비</td>\n",
              "      <td>3</td>\n",
              "    </tr>\n",
              "    <tr>\n",
              "      <th>99</th>\n",
              "      <td>모든 계절은 너였다</td>\n",
              "      <td>길구봉구</td>\n",
              "      <td>2</td>\n",
              "    </tr>\n",
              "    <tr>\n",
              "      <th>100</th>\n",
              "      <td>That That (prod. &amp; feat. SUGA of BTS)</td>\n",
              "      <td>싸이 (PSY)</td>\n",
              "      <td>1</td>\n",
              "    </tr>\n",
              "  </tbody>\n",
              "</table>\n",
              "<p>100 rows × 3 columns</p>\n",
              "</div>"
            ],
            "text/plain": [
              "                                        제목                   가수   점수\n",
              "랭킹                                                                  \n",
              "1                                  사건의 지평선       윤하(Younha/ユンナ)  100\n",
              "2                                 Hype Boy             NewJeans   99\n",
              "3                              WHEN I MOVE             카라(Kara)   98\n",
              "4                              ANTIFRAGILE   LE SSERAFIM (르세라핌)   97\n",
              "5                               After LIKE            IVE (아이브)   96\n",
              "..                                     ...                  ...  ...\n",
              "96                                  MY BAG              (여자)아이들    5\n",
              "97                                 흩어지지 않게  엠씨더맥스 (M.C the MAX)    4\n",
              "98                               가을밤에 든 생각                  잔나비    3\n",
              "99                              모든 계절은 너였다                 길구봉구    2\n",
              "100  That That (prod. & feat. SUGA of BTS)             싸이 (PSY)    1\n",
              "\n",
              "[100 rows x 3 columns]"
            ]
          },
          "execution_count": 26,
          "metadata": {},
          "output_type": "execute_result"
        }
      ],
      "source": [
        "BBugs"
      ]
    },
    {
      "cell_type": "code",
      "execution_count": 60,
      "metadata": {},
      "outputs": [
        {
          "name": "stderr",
          "output_type": "stream",
          "text": [
            "100%|██████████| 12/12 [00:06<00:00,  1.80it/s]\n"
          ]
        }
      ],
      "source": [
        "df_BBugs=pd.DataFrame()\n",
        "for date in tqdm.tqdm(dates):\n",
        "    url=\"https://music.bugs.co.kr/chart/track/day/total?chartdate=\"+str(date)\n",
        "    raw = requests.get(url)\n",
        "    bs=BeautifulSoup(raw.text, \"html.parser\")\n",
        "    box=bs.find('tbody')\n",
        "    title=box.find_all('p',{'class': 'title'})\n",
        "    singer=box.find_all('p',{'class': 'artist'})\n",
        "    rank=box.find_all('strong')\n",
        "    Bugs=[]\n",
        "    \n",
        "    for j in range(len(title)):\n",
        "        a=rank[j].text.replace(\"\\n\", \"\")\n",
        "        A=title[j].text.replace(\"\\n\", \"\")\n",
        "        B=singer[j].text.replace(\"\\n\", \"\")\n",
        "        score=100-(int(a)-1)\n",
        "        Bugs.append({\"날짜\": date,\"랭킹\":a, \"제목\": A,\"가수\": B,\"점수\":score})\n",
        "        #Bugs_Day\n",
        "        BBugs=pd.DataFrame(Bugs)\n",
        "        df_BBugs=pd.concat([df_BBugs,BBugs])\n"
      ]
    },
    {
      "cell_type": "code",
      "execution_count": 61,
      "metadata": {},
      "outputs": [
        {
          "name": "stdout",
          "output_type": "stream",
          "text": [
            "<class 'pandas.core.frame.DataFrame'>\n",
            "Int64Index: 60600 entries, 0 to 99\n",
            "Data columns (total 5 columns):\n",
            " #   Column  Non-Null Count  Dtype \n",
            "---  ------  --------------  ----- \n",
            " 0   날짜      60600 non-null  object\n",
            " 1   랭킹      60600 non-null  object\n",
            " 2   제목      60600 non-null  object\n",
            " 3   가수      60600 non-null  object\n",
            " 4   점수      60600 non-null  int64 \n",
            "dtypes: int64(1), object(4)\n",
            "memory usage: 2.8+ MB\n"
          ]
        }
      ],
      "source": [
        "df_BBugs.info()"
      ]
    },
    {
      "cell_type": "code",
      "execution_count": 62,
      "metadata": {},
      "outputs": [
        {
          "name": "stderr",
          "output_type": "stream",
          "text": [
            "/tmp/ipykernel_302/80497624.py:1: FutureWarning: The default value of numeric_only in DataFrameGroupBy.sum is deprecated. In a future version, numeric_only will default to False. Either specify numeric_only or select only columns which should be valid for the function.\n",
            "  df_BBugs_top=df_BBugs.groupby([\"가수\"]).sum().sort_values(\"점수\", ascending=False).head(10)\n"
          ]
        }
      ],
      "source": [
        "df_BBugs_top=df_BBugs.groupby([\"가수\"]).sum().sort_values(\"점수\", ascending=False).head(10)"
      ]
    },
    {
      "cell_type": "code",
      "execution_count": 63,
      "metadata": {},
      "outputs": [
        {
          "data": {
            "text/html": [
              "<div>\n",
              "<style scoped>\n",
              "    .dataframe tbody tr th:only-of-type {\n",
              "        vertical-align: middle;\n",
              "    }\n",
              "\n",
              "    .dataframe tbody tr th {\n",
              "        vertical-align: top;\n",
              "    }\n",
              "\n",
              "    .dataframe thead th {\n",
              "        text-align: right;\n",
              "    }\n",
              "</style>\n",
              "<table border=\"1\" class=\"dataframe\">\n",
              "  <thead>\n",
              "    <tr style=\"text-align: right;\">\n",
              "      <th></th>\n",
              "      <th>점수</th>\n",
              "    </tr>\n",
              "    <tr>\n",
              "      <th>가수</th>\n",
              "      <th></th>\n",
              "    </tr>\n",
              "  </thead>\n",
              "  <tbody>\n",
              "    <tr>\n",
              "      <th>NewJeans</th>\n",
              "      <td>293803</td>\n",
              "    </tr>\n",
              "    <tr>\n",
              "      <th>IVE (아이브)</th>\n",
              "      <td>281054</td>\n",
              "    </tr>\n",
              "    <tr>\n",
              "      <th>카라(Kara)</th>\n",
              "      <td>234836</td>\n",
              "    </tr>\n",
              "    <tr>\n",
              "      <th>LE SSERAFIM (르세라핌)</th>\n",
              "      <td>216926</td>\n",
              "    </tr>\n",
              "    <tr>\n",
              "      <th>윤하(Younha/ユンナ)</th>\n",
              "      <td>207706</td>\n",
              "    </tr>\n",
              "    <tr>\n",
              "      <th>BLACKPINK</th>\n",
              "      <td>177913</td>\n",
              "    </tr>\n",
              "    <tr>\n",
              "      <th>(여자)아이들</th>\n",
              "      <td>170262</td>\n",
              "    </tr>\n",
              "    <tr>\n",
              "      <th>Charlie Puth(찰리 푸스)</th>\n",
              "      <td>169624</td>\n",
              "    </tr>\n",
              "    <tr>\n",
              "      <th>Red Velvet (레드벨벳)</th>\n",
              "      <td>161689</td>\n",
              "    </tr>\n",
              "    <tr>\n",
              "      <th>정국\\r정국\\r</th>\n",
              "      <td>106647</td>\n",
              "    </tr>\n",
              "  </tbody>\n",
              "</table>\n",
              "</div>"
            ],
            "text/plain": [
              "                         점수\n",
              "가수                         \n",
              "NewJeans             293803\n",
              "IVE (아이브)            281054\n",
              "카라(Kara)             234836\n",
              "LE SSERAFIM (르세라핌)   216926\n",
              "윤하(Younha/ユンナ)       207706\n",
              "BLACKPINK            177913\n",
              "(여자)아이들              170262\n",
              "Charlie Puth(찰리 푸스)  169624\n",
              "Red Velvet (레드벨벳)    161689\n",
              "정국\\r정국\\r             106647"
            ]
          },
          "execution_count": 63,
          "metadata": {},
          "output_type": "execute_result"
        }
      ],
      "source": [
        "df_BBugs_top"
      ]
    },
    {
      "cell_type": "code",
      "execution_count": 65,
      "metadata": {},
      "outputs": [
        {
          "ename": "TypeError",
          "evalue": "only size-1 arrays can be converted to Python scalars",
          "output_type": "error",
          "traceback": [
            "\u001b[0;31m---------------------------------------------------------------------------\u001b[0m",
            "\u001b[0;31mTypeError\u001b[0m                                 Traceback (most recent call last)",
            "Cell \u001b[0;32mIn[65], line 7\u001b[0m\n\u001b[1;32m      5\u001b[0m plt\u001b[39m.\u001b[39mfigure(figsize\u001b[39m=\u001b[39m(\u001b[39m10\u001b[39m, \u001b[39m4\u001b[39m))\n\u001b[1;32m      6\u001b[0m plt\u001b[39m.\u001b[39mxticks(size\u001b[39m=\u001b[39m\u001b[39m9\u001b[39m, rotation\u001b[39m=\u001b[39m\u001b[39m45\u001b[39m)\n\u001b[0;32m----> 7\u001b[0m plt\u001b[39m.\u001b[39;49mbar(df_BBugs_top\u001b[39m.\u001b[39;49mindex, df_BBugs_top)[\u001b[39m\"\u001b[39m\u001b[39mscore\u001b[39m\u001b[39m\"\u001b[39m]\n\u001b[1;32m      8\u001b[0m plt\u001b[39m.\u001b[39mtitle((\u001b[39m'\u001b[39m\u001b[39mhello\u001b[39m\u001b[39m'\u001b[39m), size\u001b[39m=\u001b[39m\u001b[39m15\u001b[39m)\n\u001b[1;32m      9\u001b[0m plt\u001b[39m.\u001b[39mylabel(\u001b[39m\"\u001b[39m\u001b[39mscore\u001b[39m\u001b[39m\"\u001b[39m)\n",
            "File \u001b[0;32m/mnt/c/Users/KOJUNSUNG/Desktop/lab/webcrawling/lib/python3.10/site-packages/matplotlib/pyplot.py:2367\u001b[0m, in \u001b[0;36mbar\u001b[0;34m(x, height, width, bottom, align, data, **kwargs)\u001b[0m\n\u001b[1;32m   2363\u001b[0m \u001b[39m@_copy_docstring_and_deprecators\u001b[39m(Axes\u001b[39m.\u001b[39mbar)\n\u001b[1;32m   2364\u001b[0m \u001b[39mdef\u001b[39;00m \u001b[39mbar\u001b[39m(\n\u001b[1;32m   2365\u001b[0m         x, height, width\u001b[39m=\u001b[39m\u001b[39m0.8\u001b[39m, bottom\u001b[39m=\u001b[39m\u001b[39mNone\u001b[39;00m, \u001b[39m*\u001b[39m, align\u001b[39m=\u001b[39m\u001b[39m'\u001b[39m\u001b[39mcenter\u001b[39m\u001b[39m'\u001b[39m,\n\u001b[1;32m   2366\u001b[0m         data\u001b[39m=\u001b[39m\u001b[39mNone\u001b[39;00m, \u001b[39m*\u001b[39m\u001b[39m*\u001b[39mkwargs):\n\u001b[0;32m-> 2367\u001b[0m     \u001b[39mreturn\u001b[39;00m gca()\u001b[39m.\u001b[39;49mbar(\n\u001b[1;32m   2368\u001b[0m         x, height, width\u001b[39m=\u001b[39;49mwidth, bottom\u001b[39m=\u001b[39;49mbottom, align\u001b[39m=\u001b[39;49malign,\n\u001b[1;32m   2369\u001b[0m         \u001b[39m*\u001b[39;49m\u001b[39m*\u001b[39;49m({\u001b[39m\"\u001b[39;49m\u001b[39mdata\u001b[39;49m\u001b[39m\"\u001b[39;49m: data} \u001b[39mif\u001b[39;49;00m data \u001b[39mis\u001b[39;49;00m \u001b[39mnot\u001b[39;49;00m \u001b[39mNone\u001b[39;49;00m \u001b[39melse\u001b[39;49;00m {}), \u001b[39m*\u001b[39;49m\u001b[39m*\u001b[39;49mkwargs)\n",
            "File \u001b[0;32m/mnt/c/Users/KOJUNSUNG/Desktop/lab/webcrawling/lib/python3.10/site-packages/matplotlib/__init__.py:1423\u001b[0m, in \u001b[0;36m_preprocess_data.<locals>.inner\u001b[0;34m(ax, data, *args, **kwargs)\u001b[0m\n\u001b[1;32m   1420\u001b[0m \u001b[39m@functools\u001b[39m\u001b[39m.\u001b[39mwraps(func)\n\u001b[1;32m   1421\u001b[0m \u001b[39mdef\u001b[39;00m \u001b[39minner\u001b[39m(ax, \u001b[39m*\u001b[39margs, data\u001b[39m=\u001b[39m\u001b[39mNone\u001b[39;00m, \u001b[39m*\u001b[39m\u001b[39m*\u001b[39mkwargs):\n\u001b[1;32m   1422\u001b[0m     \u001b[39mif\u001b[39;00m data \u001b[39mis\u001b[39;00m \u001b[39mNone\u001b[39;00m:\n\u001b[0;32m-> 1423\u001b[0m         \u001b[39mreturn\u001b[39;00m func(ax, \u001b[39m*\u001b[39;49m\u001b[39mmap\u001b[39;49m(sanitize_sequence, args), \u001b[39m*\u001b[39;49m\u001b[39m*\u001b[39;49mkwargs)\n\u001b[1;32m   1425\u001b[0m     bound \u001b[39m=\u001b[39m new_sig\u001b[39m.\u001b[39mbind(ax, \u001b[39m*\u001b[39margs, \u001b[39m*\u001b[39m\u001b[39m*\u001b[39mkwargs)\n\u001b[1;32m   1426\u001b[0m     auto_label \u001b[39m=\u001b[39m (bound\u001b[39m.\u001b[39marguments\u001b[39m.\u001b[39mget(label_namer)\n\u001b[1;32m   1427\u001b[0m                   \u001b[39mor\u001b[39;00m bound\u001b[39m.\u001b[39mkwargs\u001b[39m.\u001b[39mget(label_namer))\n",
            "File \u001b[0;32m/mnt/c/Users/KOJUNSUNG/Desktop/lab/webcrawling/lib/python3.10/site-packages/matplotlib/axes/_axes.py:2454\u001b[0m, in \u001b[0;36mAxes.bar\u001b[0;34m(self, x, height, width, bottom, align, **kwargs)\u001b[0m\n\u001b[1;32m   2451\u001b[0m args \u001b[39m=\u001b[39m \u001b[39mzip\u001b[39m(left, bottom, width, height, color, edgecolor, linewidth,\n\u001b[1;32m   2452\u001b[0m            hatch, patch_labels)\n\u001b[1;32m   2453\u001b[0m \u001b[39mfor\u001b[39;00m l, b, w, h, c, e, lw, htch, lbl \u001b[39min\u001b[39;00m args:\n\u001b[0;32m-> 2454\u001b[0m     r \u001b[39m=\u001b[39m mpatches\u001b[39m.\u001b[39;49mRectangle(\n\u001b[1;32m   2455\u001b[0m         xy\u001b[39m=\u001b[39;49m(l, b), width\u001b[39m=\u001b[39;49mw, height\u001b[39m=\u001b[39;49mh,\n\u001b[1;32m   2456\u001b[0m         facecolor\u001b[39m=\u001b[39;49mc,\n\u001b[1;32m   2457\u001b[0m         edgecolor\u001b[39m=\u001b[39;49me,\n\u001b[1;32m   2458\u001b[0m         linewidth\u001b[39m=\u001b[39;49mlw,\n\u001b[1;32m   2459\u001b[0m         label\u001b[39m=\u001b[39;49mlbl,\n\u001b[1;32m   2460\u001b[0m         hatch\u001b[39m=\u001b[39;49mhtch,\n\u001b[1;32m   2461\u001b[0m         )\n\u001b[1;32m   2462\u001b[0m     r\u001b[39m.\u001b[39m_internal_update(kwargs)\n\u001b[1;32m   2463\u001b[0m     r\u001b[39m.\u001b[39mget_path()\u001b[39m.\u001b[39m_interpolation_steps \u001b[39m=\u001b[39m \u001b[39m100\u001b[39m\n",
            "File \u001b[0;32m/mnt/c/Users/KOJUNSUNG/Desktop/lab/webcrawling/lib/python3.10/site-packages/matplotlib/_api/deprecation.py:454\u001b[0m, in \u001b[0;36mmake_keyword_only.<locals>.wrapper\u001b[0;34m(*args, **kwargs)\u001b[0m\n\u001b[1;32m    448\u001b[0m \u001b[39mif\u001b[39;00m \u001b[39mlen\u001b[39m(args) \u001b[39m>\u001b[39m name_idx:\n\u001b[1;32m    449\u001b[0m     warn_deprecated(\n\u001b[1;32m    450\u001b[0m         since, message\u001b[39m=\u001b[39m\u001b[39m\"\u001b[39m\u001b[39mPassing the \u001b[39m\u001b[39m%(name)s\u001b[39;00m\u001b[39m \u001b[39m\u001b[39m%(obj_type)s\u001b[39;00m\u001b[39m \u001b[39m\u001b[39m\"\u001b[39m\n\u001b[1;32m    451\u001b[0m         \u001b[39m\"\u001b[39m\u001b[39mpositionally is deprecated since Matplotlib \u001b[39m\u001b[39m%(since)s\u001b[39;00m\u001b[39m; the \u001b[39m\u001b[39m\"\u001b[39m\n\u001b[1;32m    452\u001b[0m         \u001b[39m\"\u001b[39m\u001b[39mparameter will become keyword-only \u001b[39m\u001b[39m%(removal)s\u001b[39;00m\u001b[39m.\u001b[39m\u001b[39m\"\u001b[39m,\n\u001b[1;32m    453\u001b[0m         name\u001b[39m=\u001b[39mname, obj_type\u001b[39m=\u001b[39m\u001b[39mf\u001b[39m\u001b[39m\"\u001b[39m\u001b[39mparameter of \u001b[39m\u001b[39m{\u001b[39;00mfunc\u001b[39m.\u001b[39m\u001b[39m__name__\u001b[39m\u001b[39m}\u001b[39;00m\u001b[39m()\u001b[39m\u001b[39m\"\u001b[39m)\n\u001b[0;32m--> 454\u001b[0m \u001b[39mreturn\u001b[39;00m func(\u001b[39m*\u001b[39;49margs, \u001b[39m*\u001b[39;49m\u001b[39m*\u001b[39;49mkwargs)\n",
            "File \u001b[0;32m/mnt/c/Users/KOJUNSUNG/Desktop/lab/webcrawling/lib/python3.10/site-packages/matplotlib/patches.py:712\u001b[0m, in \u001b[0;36mRectangle.__init__\u001b[0;34m(self, xy, width, height, angle, rotation_point, **kwargs)\u001b[0m\n\u001b[1;32m    687\u001b[0m \u001b[39m@_docstring\u001b[39m\u001b[39m.\u001b[39mdedent_interpd\n\u001b[1;32m    688\u001b[0m \u001b[39m@_api\u001b[39m\u001b[39m.\u001b[39mmake_keyword_only(\u001b[39m\"\u001b[39m\u001b[39m3.6\u001b[39m\u001b[39m\"\u001b[39m, name\u001b[39m=\u001b[39m\u001b[39m\"\u001b[39m\u001b[39mangle\u001b[39m\u001b[39m\"\u001b[39m)\n\u001b[1;32m    689\u001b[0m \u001b[39mdef\u001b[39;00m \u001b[39m__init__\u001b[39m(\u001b[39mself\u001b[39m, xy, width, height, angle\u001b[39m=\u001b[39m\u001b[39m0.0\u001b[39m, \u001b[39m*\u001b[39m,\n\u001b[1;32m    690\u001b[0m              rotation_point\u001b[39m=\u001b[39m\u001b[39m'\u001b[39m\u001b[39mxy\u001b[39m\u001b[39m'\u001b[39m, \u001b[39m*\u001b[39m\u001b[39m*\u001b[39mkwargs):\n\u001b[1;32m    691\u001b[0m     \u001b[39m\"\"\"\u001b[39;00m\n\u001b[1;32m    692\u001b[0m \u001b[39m    Parameters\u001b[39;00m\n\u001b[1;32m    693\u001b[0m \u001b[39m    ----------\u001b[39;00m\n\u001b[0;32m   (...)\u001b[0m\n\u001b[1;32m    710\u001b[0m \u001b[39m        %(Patch:kwdoc)s\u001b[39;00m\n\u001b[1;32m    711\u001b[0m \u001b[39m    \"\"\"\u001b[39;00m\n\u001b[0;32m--> 712\u001b[0m     \u001b[39msuper\u001b[39;49m()\u001b[39m.\u001b[39;49m\u001b[39m__init__\u001b[39;49m(\u001b[39m*\u001b[39;49m\u001b[39m*\u001b[39;49mkwargs)\n\u001b[1;32m    713\u001b[0m     \u001b[39mself\u001b[39m\u001b[39m.\u001b[39m_x0 \u001b[39m=\u001b[39m xy[\u001b[39m0\u001b[39m]\n\u001b[1;32m    714\u001b[0m     \u001b[39mself\u001b[39m\u001b[39m.\u001b[39m_y0 \u001b[39m=\u001b[39m xy[\u001b[39m1\u001b[39m]\n",
            "File \u001b[0;32m/mnt/c/Users/KOJUNSUNG/Desktop/lab/webcrawling/lib/python3.10/site-packages/matplotlib/_api/deprecation.py:454\u001b[0m, in \u001b[0;36mmake_keyword_only.<locals>.wrapper\u001b[0;34m(*args, **kwargs)\u001b[0m\n\u001b[1;32m    448\u001b[0m \u001b[39mif\u001b[39;00m \u001b[39mlen\u001b[39m(args) \u001b[39m>\u001b[39m name_idx:\n\u001b[1;32m    449\u001b[0m     warn_deprecated(\n\u001b[1;32m    450\u001b[0m         since, message\u001b[39m=\u001b[39m\u001b[39m\"\u001b[39m\u001b[39mPassing the \u001b[39m\u001b[39m%(name)s\u001b[39;00m\u001b[39m \u001b[39m\u001b[39m%(obj_type)s\u001b[39;00m\u001b[39m \u001b[39m\u001b[39m\"\u001b[39m\n\u001b[1;32m    451\u001b[0m         \u001b[39m\"\u001b[39m\u001b[39mpositionally is deprecated since Matplotlib \u001b[39m\u001b[39m%(since)s\u001b[39;00m\u001b[39m; the \u001b[39m\u001b[39m\"\u001b[39m\n\u001b[1;32m    452\u001b[0m         \u001b[39m\"\u001b[39m\u001b[39mparameter will become keyword-only \u001b[39m\u001b[39m%(removal)s\u001b[39;00m\u001b[39m.\u001b[39m\u001b[39m\"\u001b[39m,\n\u001b[1;32m    453\u001b[0m         name\u001b[39m=\u001b[39mname, obj_type\u001b[39m=\u001b[39m\u001b[39mf\u001b[39m\u001b[39m\"\u001b[39m\u001b[39mparameter of \u001b[39m\u001b[39m{\u001b[39;00mfunc\u001b[39m.\u001b[39m\u001b[39m__name__\u001b[39m\u001b[39m}\u001b[39;00m\u001b[39m()\u001b[39m\u001b[39m\"\u001b[39m)\n\u001b[0;32m--> 454\u001b[0m \u001b[39mreturn\u001b[39;00m func(\u001b[39m*\u001b[39;49margs, \u001b[39m*\u001b[39;49m\u001b[39m*\u001b[39;49mkwargs)\n",
            "File \u001b[0;32m/mnt/c/Users/KOJUNSUNG/Desktop/lab/webcrawling/lib/python3.10/site-packages/matplotlib/patches.py:91\u001b[0m, in \u001b[0;36mPatch.__init__\u001b[0;34m(self, edgecolor, facecolor, color, linewidth, linestyle, antialiased, hatch, fill, capstyle, joinstyle, **kwargs)\u001b[0m\n\u001b[1;32m     89\u001b[0m \u001b[39mself\u001b[39m\u001b[39m.\u001b[39mset_fill(fill)\n\u001b[1;32m     90\u001b[0m \u001b[39mself\u001b[39m\u001b[39m.\u001b[39mset_linestyle(linestyle)\n\u001b[0;32m---> 91\u001b[0m \u001b[39mself\u001b[39;49m\u001b[39m.\u001b[39;49mset_linewidth(linewidth)\n\u001b[1;32m     92\u001b[0m \u001b[39mself\u001b[39m\u001b[39m.\u001b[39mset_antialiased(antialiased)\n\u001b[1;32m     93\u001b[0m \u001b[39mself\u001b[39m\u001b[39m.\u001b[39mset_hatch(hatch)\n",
            "File \u001b[0;32m/mnt/c/Users/KOJUNSUNG/Desktop/lab/webcrawling/lib/python3.10/site-packages/matplotlib/patches.py:392\u001b[0m, in \u001b[0;36mPatch.set_linewidth\u001b[0;34m(self, w)\u001b[0m\n\u001b[1;32m    390\u001b[0m \u001b[39mif\u001b[39;00m w \u001b[39mis\u001b[39;00m \u001b[39mNone\u001b[39;00m:\n\u001b[1;32m    391\u001b[0m     w \u001b[39m=\u001b[39m mpl\u001b[39m.\u001b[39mrcParams[\u001b[39m'\u001b[39m\u001b[39mpatch.linewidth\u001b[39m\u001b[39m'\u001b[39m]\n\u001b[0;32m--> 392\u001b[0m \u001b[39mself\u001b[39m\u001b[39m.\u001b[39m_linewidth \u001b[39m=\u001b[39m \u001b[39mfloat\u001b[39;49m(w)\n\u001b[1;32m    393\u001b[0m \u001b[39mself\u001b[39m\u001b[39m.\u001b[39m_dash_pattern \u001b[39m=\u001b[39m mlines\u001b[39m.\u001b[39m_scale_dashes(\n\u001b[1;32m    394\u001b[0m     \u001b[39m*\u001b[39m\u001b[39mself\u001b[39m\u001b[39m.\u001b[39m_unscaled_dash_pattern, w)\n\u001b[1;32m    395\u001b[0m \u001b[39mself\u001b[39m\u001b[39m.\u001b[39mstale \u001b[39m=\u001b[39m \u001b[39mTrue\u001b[39;00m\n",
            "\u001b[0;31mTypeError\u001b[0m: only size-1 arrays can be converted to Python scalars"
          ]
        },
        {
          "name": "stderr",
          "output_type": "stream",
          "text": [
            "findfont: Font family 'NanumMyeongjo' not found.\n",
            "findfont: Font family 'NanumMyeongjo' not found.\n",
            "findfont: Font family 'NanumMyeongjo' not found.\n",
            "findfont: Font family 'NanumMyeongjo' not found.\n",
            "findfont: Font family 'NanumMyeongjo' not found.\n",
            "findfont: Font family 'NanumMyeongjo' not found.\n",
            "findfont: Font family 'NanumMyeongjo' not found.\n",
            "findfont: Font family 'NanumMyeongjo' not found.\n",
            "findfont: Font family 'NanumMyeongjo' not found.\n",
            "findfont: Font family 'NanumMyeongjo' not found.\n",
            "findfont: Font family 'NanumMyeongjo' not found.\n",
            "findfont: Font family 'NanumMyeongjo' not found.\n",
            "findfont: Font family 'NanumMyeongjo' not found.\n",
            "findfont: Font family 'NanumMyeongjo' not found.\n",
            "findfont: Font family 'NanumMyeongjo' not found.\n",
            "findfont: Font family 'NanumMyeongjo' not found.\n",
            "findfont: Font family 'NanumMyeongjo' not found.\n",
            "findfont: Font family 'NanumMyeongjo' not found.\n",
            "findfont: Font family 'NanumMyeongjo' not found.\n",
            "findfont: Font family 'NanumMyeongjo' not found.\n",
            "findfont: Font family 'NanumMyeongjo' not found.\n",
            "findfont: Font family 'NanumMyeongjo' not found.\n",
            "findfont: Font family 'NanumMyeongjo' not found.\n",
            "findfont: Font family 'NanumMyeongjo' not found.\n",
            "findfont: Font family 'NanumMyeongjo' not found.\n",
            "findfont: Font family 'NanumMyeongjo' not found.\n",
            "findfont: Font family 'NanumMyeongjo' not found.\n",
            "findfont: Font family 'NanumMyeongjo' not found.\n",
            "findfont: Font family 'NanumMyeongjo' not found.\n",
            "findfont: Font family 'NanumMyeongjo' not found.\n",
            "findfont: Font family 'NanumMyeongjo' not found.\n",
            "findfont: Font family 'NanumMyeongjo' not found.\n"
          ]
        },
        {
          "data": {
            "image/png": "[encoded data removed]",
            "text/plain": [
              "<Figure size 1000x400 with 1 Axes>"
            ]
          },
          "metadata": {},
          "output_type": "display_data"
        }
      ],
      "source": [
        "import matplotlib.pyplot as plt\n",
        "import platform\n",
        "\n",
        "plt.style.use('ggplot')\n",
        "plt.figure(figsize=(10, 4))\n",
        "plt.xticks(size=9, rotation=45)\n",
        "plt.bar(df_BBugs_top.index, df_BBugs_top)[\"score\"]\n",
        "plt.title(('hello'), size=15)\n",
        "plt.ylabel(\"score\")\n",
        "plt.show()"
      ]
    },
    {
      "cell_type": "code",
      "execution_count": null,
      "metadata": {},
      "outputs": [],
      "source": []
    },
    {
      "cell_type": "code",
      "execution_count": 39,
      "metadata": {},
      "outputs": [
        {
          "name": "stdout",
          "output_type": "stream",
          "text": [
            "Collecting matplotlib\n",
            "  Downloading matplotlib-3.6.2-cp310-cp310-manylinux_2_17_x86_64.manylinux2014_x86_64.whl (11.8 MB)\n",
            "\u001b[2K     \u001b[90m━━━━━━━━━━━━━━━━━━━━━━━━━━━━━━━━━━━━━━━━\u001b[0m \u001b[32m11.8/11.8 MB\u001b[0m \u001b[31m41.8 MB/s\u001b[0m eta \u001b[36m0:00:00\u001b[0m00:01\u001b[0m0:01\u001b[0m\n",
            "\u001b[?25hRequirement already satisfied: numpy>=1.19 in /mnt/c/Users/KOJUNSUNG/Desktop/lab/webcrawling/lib/python3.10/site-packages (from matplotlib) (1.23.5)\n",
            "Requirement already satisfied: packaging>=20.0 in /mnt/c/Users/KOJUNSUNG/Desktop/lab/webcrawling/lib/python3.10/site-packages (from matplotlib) (22.0)\n",
            "Collecting pyparsing>=2.2.1\n",
            "  Using cached pyparsing-3.0.9-py3-none-any.whl (98 kB)\n",
            "Collecting pillow>=6.2.0\n",
            "  Downloading Pillow-9.3.0-cp310-cp310-manylinux_2_28_x86_64.whl (3.3 MB)\n",
            "\u001b[2K     \u001b[90m━━━━━━━━━━━━━━━━━━━━━━━━━━━━━━━━━━━━━━━━\u001b[0m \u001b[32m3.3/3.3 MB\u001b[0m \u001b[31m49.3 MB/s\u001b[0m eta \u001b[36m0:00:00\u001b[0ma \u001b[36m0:00:01\u001b[0m\n",
            "\u001b[?25hCollecting kiwisolver>=1.0.1\n",
            "  Downloading kiwisolver-1.4.4-cp310-cp310-manylinux_2_12_x86_64.manylinux2010_x86_64.whl (1.6 MB)\n",
            "\u001b[2K     \u001b[90m━━━━━━━━━━━━━━━━━━━━━━━━━━━━━━━━━━━━━━━━\u001b[0m \u001b[32m1.6/1.6 MB\u001b[0m \u001b[31m50.9 MB/s\u001b[0m eta \u001b[36m0:00:00\u001b[0m\n",
            "\u001b[?25hRequirement already satisfied: python-dateutil>=2.7 in /mnt/c/Users/KOJUNSUNG/Desktop/lab/webcrawling/lib/python3.10/site-packages (from matplotlib) (2.8.2)\n",
            "Collecting contourpy>=1.0.1\n",
            "  Downloading contourpy-1.0.6-cp310-cp310-manylinux_2_17_x86_64.manylinux2014_x86_64.whl (296 kB)\n",
            "\u001b[2K     \u001b[90m━━━━━━━━━━━━━━━━━━━━━━━━━━━━━━━━━━━━━━\u001b[0m \u001b[32m296.1/296.1 KB\u001b[0m \u001b[31m36.1 MB/s\u001b[0m eta \u001b[36m0:00:00\u001b[0m\n",
            "\u001b[?25hCollecting cycler>=0.10\n",
            "  Downloading cycler-0.11.0-py3-none-any.whl (6.4 kB)\n",
            "Collecting fonttools>=4.22.0\n",
            "  Downloading fonttools-4.38.0-py3-none-any.whl (965 kB)\n",
            "\u001b[2K     \u001b[90m━━━━━━━━━━━━━━━━━━━━━━━━━━━━━━━━━━━━━━\u001b[0m \u001b[32m965.4/965.4 KB\u001b[0m \u001b[31m59.9 MB/s\u001b[0m eta \u001b[36m0:00:00\u001b[0m\n",
            "\u001b[?25hRequirement already satisfied: six>=1.5 in /mnt/c/Users/KOJUNSUNG/Desktop/lab/webcrawling/lib/python3.10/site-packages (from python-dateutil>=2.7->matplotlib) (1.16.0)\n",
            "Installing collected packages: pyparsing, pillow, kiwisolver, fonttools, cycler, contourpy, matplotlib\n",
            "Successfully installed contourpy-1.0.6 cycler-0.11.0 fonttools-4.38.0 kiwisolver-1.4.4 matplotlib-3.6.2 pillow-9.3.0 pyparsing-3.0.9\n"
          ]
        }
      ],
      "source": [
        "!pip install matplotlib"
      ]
    },
    {
      "cell_type": "code",
      "execution_count": 45,
      "metadata": {},
      "outputs": [
        {
          "name": "stdout",
          "output_type": "stream",
          "text": [
            "Collecting tqdm\n",
            "  Downloading tqdm-4.64.1-py2.py3-none-any.whl (78 kB)\n",
            "\u001b[2K     \u001b[90m━━━━━━━━━━━━━━━━━━━━━━━━━━━━━━━━━━━━━━━━\u001b[0m \u001b[32m78.5/78.5 KB\u001b[0m \u001b[31m6.5 MB/s\u001b[0m eta \u001b[36m0:00:00\u001b[0m\n",
            "\u001b[?25hInstalling collected packages: tqdm\n",
            "Successfully installed tqdm-4.64.1\n"
          ]
        }
      ],
      "source": [
        "!pip install tqdm"
      ]
    },
    {
      "cell_type": "code",
      "execution_count": 49,
      "metadata": {},
      "outputs": [],
      "source": [
        "import tqdm\n",
        "import time"
      ]
    }
  ],
  "metadata": {
    "colab": {
      "provenance": []
    },
    "kernelspec": {
      "display_name": "webcrawling",
      "language": "python",
      "name": "python3"
    },
    "language_info": {
      "codemirror_mode": {
        "name": "ipython",
        "version": 3
      },
      "file_extension": ".py",
      "mimetype": "text/x-python",
      "name": "python",
      "nbconvert_exporter": "python",
      "pygments_lexer": "ipython3",
      "version": "3.10.6"
    },
    "orig_nbformat": 4,
    "vscode": {
      "interpreter": {
        "hash": "895a5b45eefb186b1a625da09cf7d2a81684abfce6cd20dfc2b3c93836a9c5fe"
      }
    }
  },
  "nbformat": 4,
  "nbformat_minor": 0
}
