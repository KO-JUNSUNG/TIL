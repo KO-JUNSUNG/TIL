{
 "cells": [
  {
   "cell_type": "code",
   "execution_count": null,
   "metadata": {},
   "outputs": [],
   "source": [
    "#과제\n",
    "#naver 뮤비 리뷰\n",
    "#https://movie.naver.com/movie/point/af/list.naver\n",
    "#100페이지\n",
    "#크롤링\n",
    "#방법 1. bs 이용\n",
    "#방법 2. pandas.read_html() #html에서 table 정보만 추출\n",
    "#python 멀티프로세싱 모듈\n",
    "# 번호, 감상평, 점수1(원래점수), 점수2(7점이상 1, 7점이하 0)"
   ]
  },
  {
   "cell_type": "code",
   "execution_count": 1,
   "metadata": {},
   "outputs": [],
   "source": [
    "from tqdm import tqdm\n",
    "import matplotlib.pyplot as plt\n",
    "import pandas as pd\n",
    "from urllib.request import urlopen\n",
    "import requests\n",
    "from bs4 import BeautifulSoup as bs"
   ]
  },
  {
   "cell_type": "code",
   "execution_count": 26,
   "metadata": {},
   "outputs": [],
   "source": [
    "from tqdm import tqdm"
   ]
  },
  {
   "cell_type": "code",
   "execution_count": null,
   "metadata": {},
   "outputs": [],
   "source": [
    "i=range(1,101)\n",
    "url=\"https://movie.naver.com/movie/point/af/list.naver?&page=\"+i"
   ]
  },
  {
   "cell_type": "code",
   "execution_count": 36,
   "metadata": {},
   "outputs": [],
   "source": [
    "url=\"https://movie.naver.com/movie/point/af/list.naver?&page=1\"\n",
    "raw=requests.get(url)\n",
    "NBS=bs(raw.text,'html.parser')"
   ]
  },
  {
   "cell_type": "code",
   "execution_count": 37,
   "metadata": {},
   "outputs": [],
   "source": [
    "\n",
    "num=NBS.find_all('td',{'class':'ac.num'}) #shift+tab 은 내어쓰기\n",
    "review=NBS.find_all('td',{'class':'title'})\n",
    "score=NBS.find_all('div',{'class':'list_netizen_score'})\n",
    "\n",
    "#old_content > table > tbody > tr:nth-child(8) > td.title > div > em"
   ]
  },
  {
   "cell_type": "code",
   "execution_count": 53,
   "metadata": {},
   "outputs": [
    {
     "data": {
      "text/plain": [
       "'\\n아바타\\n\\n별점 - 총 10점 중10\\n\\n경이로운 자연과 이를 지키기 위한 위대한 싸움. 카메론옹이 드디어 돌아온다 \\n\\t\\t\\t\\n\\t\\t\\t\\n\\t\\t\\t\\n\\t\\t\\t\\t\\n\\t\\t\\t\\t\\n\\t\\t\\t\\t\\n\\t\\t\\t\\t신고\\n'"
      ]
     },
     "execution_count": 53,
     "metadata": {},
     "output_type": "execute_result"
    }
   ],
   "source": [
    "review[1].text"
   ]
  },
  {
   "cell_type": "code",
   "execution_count": 51,
   "metadata": {},
   "outputs": [
    {
     "data": {
      "text/plain": [
       "['\\n오늘 밤, 세계에서 이 사랑이 사라진다 해도',\n",
       " '별점 - 총 10점 중10',\n",
       " '대사 하나하나가 다 인상 깊게 남았고자신의 언제 올지 모르는 죽음을 앞두고도 여주 생각하는 부분이 순애의 끝이라고 생각함...이 둘의 사랑은 달콤한 독같아요... \\n\\t\\t\\t\\n\\t\\t\\t\\n\\t\\t\\t\\n\\t\\t\\t\\t\\n\\t\\t\\t\\t\\n\\t\\t\\t\\t\\n\\t\\t\\t\\t신고\\n']"
      ]
     },
     "execution_count": 51,
     "metadata": {},
     "output_type": "execute_result"
    }
   ],
   "source": [
    "review[0].text.split('\\n\\n')"
   ]
  },
  {
   "cell_type": "code",
   "execution_count": null,
   "metadata": {},
   "outputs": [],
   "source": []
  },
  {
   "cell_type": "code",
   "execution_count": null,
   "metadata": {},
   "outputs": [],
   "source": [
    "df_Naver_review=[]\n",
    "for i in tqdm(range(1,11)):\n",
    "    url=\"https://movie.naver.com/movie/point/af/list.naver?&page=\"+str(i)\n",
    "    raw=requests.get(url)\n",
    "    NBS=bs(raw.text,'html.parser')\n",
    "    num=NBS.find_all('td',{'class':'ac.num'})\n",
    "    review=NBS.find_all('td',{'class':'title'})\n",
    "    \n",
    "    score=NBS.find_all('td',{'class':'title'})\n",
    "    scr2=[1 if j > 7 else 0 for j in score]\n",
    "\n",
    "    #if comprehension [조건 만족 시 출력값 if 조건 else 조건 불만족 시 출력 값 for i in data]\n",
    "    Naver_review=[]\n",
    "    for k in range(len(num)):\n",
    "        newnum=\n",
    "        newreview=review[k].find('br').text\n",
    "        newscore=score[k].find('em').text\n",
    "        dfscr=\n",
    "        \n",
    "    # 번호, 감상평, 점수1(원래점수), 점수2(7점이상 1, 7점이하 0)\n"
   ]
  }
 ],
 "metadata": {
  "kernelspec": {
   "display_name": "webcrawling",
   "language": "python",
   "name": "python3"
  },
  "language_info": {
   "codemirror_mode": {
    "name": "ipython",
    "version": 3
   },
   "file_extension": ".py",
   "mimetype": "text/x-python",
   "name": "python",
   "nbconvert_exporter": "python",
   "pygments_lexer": "ipython3",
   "version": "3.10.6"
  },
  "orig_nbformat": 4,
  "vscode": {
   "interpreter": {
    "hash": "895a5b45eefb186b1a625da09cf7d2a81684abfce6cd20dfc2b3c93836a9c5fe"
   }
  }
 },
 "nbformat": 4,
 "nbformat_minor": 2
}
