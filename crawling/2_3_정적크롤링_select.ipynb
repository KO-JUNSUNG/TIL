{
  "cells": [
    {
      "cell_type": "code",
      "execution_count": 1,
      "metadata": {
        "id": "-_EPcJS1LnUV"
      },
      "outputs": [],
      "source": [
        "from bs4 import BeautifulSoup\n",
        "import requests"
      ]
    },
    {
      "cell_type": "code",
      "execution_count": null,
      "metadata": {
        "id": "cCjUlNkPLnUX"
      },
      "outputs": [],
      "source": [
        "naver_raw = requests.get(\"https://www.naver.com\")\n",
        "soup = BeautifulSoup(naver_raw.text, \"html.parser\")"
      ]
    },
    {
      "cell_type": "code",
      "execution_count": null,
      "metadata": {
        "id": "xRuzfmgDLnUX",
        "outputId": "5c0f2349-fb99-4059-92fb-d85de82abea6"
      },
      "outputs": [
        {
          "name": "stdout",
          "output_type": "stream",
          "text": [
            "메일\n",
            "카페\n",
            "블로그\n",
            "지식iN\n",
            "쇼핑\n",
            "쇼핑LIVE\n",
            "Pay\n",
            "TV\n"
          ]
        }
      ],
      "source": [
        "css_soup = soup.select(\"#NM_FAVORITE > div.group_nav > ul.list_nav.type_fix\")\n",
        "css_list = css_soup[0].find_all(\"a\")\n",
        "for i in css_list:\n",
        "    print(i.text)"
      ]
    },
    {
      "cell_type": "code",
      "execution_count": null,
      "metadata": {
        "id": "EIUCSLYMLnUY",
        "outputId": "40e78b14-8d1c-4a29-dbe7-121bdc7efb69"
      },
      "outputs": [
        {
          "data": {
            "text/plain": [
              "<a class=\"spnew_af item item_quick\" href=\"https://keep.naver.com/\" onclick=\"return goOtherCR(this,'a=rvw*f.kephome&amp;r=1&amp;i=90000003_0000000000000033E815F67A&amp;u='+urlencode(this.href));\" target=\"_blank\">Keep 바로가기</a>"
            ]
          },
          "execution_count": 21,
          "metadata": {},
          "output_type": "execute_result"
        }
      ],
      "source": [
        "url = \"https://search.naver.com/search.naver?where=view&sm=tab_jum&query=%EC%84%A0%EB%A6%89%EC%97%AD+%EB%A7%9B%EC%A7%91\"\n",
        "\n",
        "html = requests.get(url)\n",
        "soup = BeautifulSoup(html.text, \"html.parser\")\n",
        "\n",
        "soup_ul = soup.select(\"#main_pack > section > div > div._list > panel-list > div:nth-child(1) > more-contents > div > ul\")\n",
        "soup_ul[0].find_all(\"a\")[2]"
      ]
    },
    {
      "cell_type": "code",
      "execution_count": null,
      "metadata": {
        "id": "9shKUd0ALnUY"
      },
      "outputs": [],
      "source": [
        "soup_ul[0]"
      ]
    },
    {
      "cell_type": "code",
      "execution_count": null,
      "metadata": {
        "id": "pSIIUplkLnUZ"
      },
      "outputs": [],
      "source": [
        "# 실습 \n",
        "# select 를 이용해 naver 지식인에서 선릉역 맛집을 입력한 결과를 \n",
        "# 제목, 등록일, 요약 순으로 dataframe에 저장하세요\n",
        "\n",
        "# 추가실습: 검색어를 입력받고 출력하도록 해보세요 "
      ]
    },
    {
      "cell_type": "code",
      "execution_count": 2,
      "metadata": {},
      "outputs": [],
      "source": [
        "url=\"https://kin.naver.com/search/list.naver?query=%EC%84%A0%EB%A6%89%EC%97%AD+%EB%A7%9B%EC%A7%91\"\n",
        "\n",
        "html=requests.get(url)\n",
        "soup=BeautifulSoup(html.text, 'html.parser')\n",
        "soup_ul=soup.select(\"#s_content > div.section > ul\")\n"
      ]
    },
    {
      "cell_type": "code",
      "execution_count": null,
      "metadata": {},
      "outputs": [],
      "source": [
        "for i in soup_ul:\n",
        "    soup_title=i.find('a').text\n",
        "    soup_date=i.find('dd',{'class':'txt_inline'})\n",
        "    soup_summary=i.find('dd')\n",
        "    \n",
        "    #s_content > div.section > ul > li:nth-child(1) > dl > dd.txt_inline\n",
        "    #s_content > div.section > ul > li:nth-child(1) > dl > dd:nth-child(3)"
      ]
    },
    {
      "cell_type": "code",
      "execution_count": 9,
      "metadata": {},
      "outputs": [
        {
          "name": "stdout",
          "output_type": "stream",
          "text": [
            "2022.11.24.\n"
          ]
        }
      ],
      "source": [
        "print(soup_ul[0].find('dd').text)\n",
        "\n",
        "#근데 find가 아니라 select 쓰기로 했잖아."
      ]
    },
    {
      "cell_type": "code",
      "execution_count": 18,
      "metadata": {},
      "outputs": [
        {
          "data": {
            "text/plain": [
              "'2022.11.24.'"
            ]
          },
          "execution_count": 18,
          "metadata": {},
          "output_type": "execute_result"
        }
      ],
      "source": []
    },
    {
      "cell_type": "code",
      "execution_count": 23,
      "metadata": {},
      "outputs": [
        {
          "name": "stdout",
          "output_type": "stream",
          "text": [
            "Collecting pandas\n",
            "  Using cached pandas-1.5.2-cp310-cp310-manylinux_2_17_x86_64.manylinux2014_x86_64.whl (12.1 MB)\n",
            "Collecting pytz>=2020.1\n",
            "  Using cached pytz-2022.6-py2.py3-none-any.whl (498 kB)\n",
            "Requirement already satisfied: python-dateutil>=2.8.1 in /mnt/c/Users/KOJUNSUNG/Desktop/lab/webcrawling/lib/python3.10/site-packages (from pandas) (2.8.2)\n",
            "Collecting numpy>=1.21.0\n",
            "  Using cached numpy-1.23.5-cp310-cp310-manylinux_2_17_x86_64.manylinux2014_x86_64.whl (17.1 MB)\n",
            "Requirement already satisfied: six>=1.5 in /mnt/c/Users/KOJUNSUNG/Desktop/lab/webcrawling/lib/python3.10/site-packages (from python-dateutil>=2.8.1->pandas) (1.16.0)\n",
            "Installing collected packages: pytz, numpy, pandas\n",
            "Successfully installed numpy-1.23.5 pandas-1.5.2 pytz-2022.6\n"
          ]
        }
      ],
      "source": [
        "!pip install pandas"
      ]
    },
    {
      "cell_type": "code",
      "execution_count": 24,
      "metadata": {},
      "outputs": [],
      "source": [
        "import pandas as pd"
      ]
    },
    {
      "cell_type": "code",
      "execution_count": 27,
      "metadata": {},
      "outputs": [
        {
          "name": "stdout",
          "output_type": "stream",
          "text": [
            "선릉역 맛집 끝판왕인 곳 어디에 있을까요?\n"
          ]
        }
      ],
      "source": [
        "print(soup_title)"
      ]
    },
    {
      "cell_type": "code",
      "execution_count": 36,
      "metadata": {},
      "outputs": [],
      "source": [
        "for i in range(1,10):#len(soup_ul) <-이게 안 먹네   -> 아니네. ValueError: If using all scalar values, you must pass an index\n",
        "    soup_title=soup.select(f'#s_content > div.section > ul > li:nth-child({i}) > dl > dt > a')[0].text\n",
        "    soup_date=soup.select(f\"#s_content > div.section > ul > li:nth-child({i}) > dl > dd.txt_inline\")[0].text\n",
        "    soup_summary=soup.select(f'#s_content > div.section > ul > li:nth-child({i}) > dl > dd:nth-child(3)')[0].text\n",
        "\n",
        "data=pd.DataFrame([{'title': soup_title,\n",
        "                   'date': soup_date, \n",
        "                   'summary': soup_summary}\n",
        "                  ])"
      ]
    },
    {
      "cell_type": "code",
      "execution_count": 38,
      "metadata": {},
      "outputs": [
        {
          "name": "stdout",
          "output_type": "stream",
          "text": [
            "선릉역 맛집 끝판왕인 곳 어디에 있을까요?\n",
            "이전했는데 선릉역 맛집 추천... \n",
            "선릉역 맛집 어딘가요??\n",
            "선릉역 맛집 카페 알려주세요\n",
            "선릉역 맛집 추천\n",
            "[선릉역맛집] 회사주변 회식장소로... \n",
            "선릉역맛집 분위기있는곳으로... \n",
            "선릉역 맛집\n",
            "선릉역 맛집 추천좀, 근처로 이사왔어요.\n"
          ]
        }
      ],
      "source": [
        "for i in range(1,10):\n",
        "    ul_soup = soup.select(f\"#s_content > div.section > ul > li:nth-child({i}) > dl > dt > a\")[0].text\n",
        "    print(ul_soup)\n",
        "    \n",
        "    #아 알겠다. 매번 추천해주는 거라서 결과값을 매번 출력해줘야 하는구나. \n"
      ]
    },
    {
      "cell_type": "code",
      "execution_count": 37,
      "metadata": {},
      "outputs": [
        {
          "data": {
            "text/html": [
              "<div>\n",
              "<style scoped>\n",
              "    .dataframe tbody tr th:only-of-type {\n",
              "        vertical-align: middle;\n",
              "    }\n",
              "\n",
              "    .dataframe tbody tr th {\n",
              "        vertical-align: top;\n",
              "    }\n",
              "\n",
              "    .dataframe thead th {\n",
              "        text-align: right;\n",
              "    }\n",
              "</style>\n",
              "<table border=\"1\" class=\"dataframe\">\n",
              "  <thead>\n",
              "    <tr style=\"text-align: right;\">\n",
              "      <th></th>\n",
              "      <th>title</th>\n",
              "      <th>date</th>\n",
              "      <th>summary</th>\n",
              "    </tr>\n",
              "  </thead>\n",
              "  <tbody>\n",
              "    <tr>\n",
              "      <th>0</th>\n",
              "      <td>선릉역 맛집 추천좀, 근처로 이사왔어요.</td>\n",
              "      <td>2014.06.03.</td>\n",
              "      <td>... 선릉역 맛집이 많다고 들었는데, 혹시 아시는데 있으면... 안나서 선릉역 맛...</td>\n",
              "    </tr>\n",
              "  </tbody>\n",
              "</table>\n",
              "</div>"
            ],
            "text/plain": [
              "                    title         date  \\\n",
              "0  선릉역 맛집 추천좀, 근처로 이사왔어요.  2014.06.03.   \n",
              "\n",
              "                                             summary  \n",
              "0  ... 선릉역 맛집이 많다고 들었는데, 혹시 아시는데 있으면... 안나서 선릉역 맛...  "
            ]
          },
          "execution_count": 37,
          "metadata": {},
          "output_type": "execute_result"
        }
      ],
      "source": [
        "data"
      ]
    },
    {
      "cell_type": "code",
      "execution_count": 40,
      "metadata": {},
      "outputs": [
        {
          "ename": "NameError",
          "evalue": "name 'user_input' is not defined",
          "output_type": "error",
          "traceback": [
            "\u001b[0;31m---------------------------------------------------------------------------\u001b[0m",
            "\u001b[0;31mNameError\u001b[0m                                 Traceback (most recent call last)",
            "Cell \u001b[0;32mIn[40], line 1\u001b[0m\n\u001b[0;32m----> 1\u001b[0m url \u001b[39m=\u001b[39m \u001b[39mf\u001b[39m\u001b[39m\"\u001b[39m\u001b[39mhttps://kin.naver.com/search/list.naver?query=\u001b[39m\u001b[39m{\u001b[39;00muser_input\u001b[39m}\u001b[39;00m\u001b[39m\"\u001b[39m\n\u001b[1;32m      2\u001b[0m html \u001b[39m=\u001b[39m requests\u001b[39m.\u001b[39mget(url)\n\u001b[1;32m      3\u001b[0m soup \u001b[39m=\u001b[39m BeautifulSoup(html\u001b[39m.\u001b[39mtext, \u001b[39m\"\u001b[39m\u001b[39mhtml.parser\u001b[39m\u001b[39m\"\u001b[39m)\n",
            "\u001b[0;31mNameError\u001b[0m: name 'user_input' is not defined"
          ]
        }
      ],
      "source": [
        "url = f\"https://kin.naver.com/search/list.naver?query={user_input}\"\n",
        "html = requests.get(url)\n",
        "soup = BeautifulSoup(html.text, \"html.parser\")\n"
      ]
    },
    {
      "cell_type": "code",
      "execution_count": null,
      "metadata": {},
      "outputs": [],
      "source": [
        "ul_soup = soup.select(\"#s_content > div.section > ul\")\n",
        "li_soup = ul_soup[0].find_all(\"li\")\n",
        "\n",
        "kin = []\n",
        "for i in li_soup:\n",
        "    title = i.find(\"dt\").text.replace(\"\\n\", \" \")\n",
        "    date = i.find_all(\"dd\")[0].text\n",
        "    cont = i.find_all(\"dd\")[1].text\n",
        "    kin.append({\"제목\": title, \"날짜\":date, \"내용\":cont})\n"
      ]
    },
    {
      "cell_type": "code",
      "execution_count": null,
      "metadata": {},
      "outputs": [],
      "source": [
        "pd.DataFrame(kin)"
      ]
    },
    {
      "cell_type": "code",
      "execution_count": null,
      "metadata": {},
      "outputs": [],
      "source": []
    }
  ],
  "metadata": {
    "colab": {
      "provenance": []
    },
    "kernelspec": {
      "display_name": "webcrawling",
      "language": "python",
      "name": "python3"
    },
    "language_info": {
      "codemirror_mode": {
        "name": "ipython",
        "version": 3
      },
      "file_extension": ".py",
      "mimetype": "text/x-python",
      "name": "python",
      "nbconvert_exporter": "python",
      "pygments_lexer": "ipython3",
      "version": "3.10.6 (main, Nov  2 2022, 18:53:38) [GCC 11.3.0]"
    },
    "orig_nbformat": 4,
    "vscode": {
      "interpreter": {
        "hash": "895a5b45eefb186b1a625da09cf7d2a81684abfce6cd20dfc2b3c93836a9c5fe"
      }
    }
  },
  "nbformat": 4,
  "nbformat_minor": 0
}
