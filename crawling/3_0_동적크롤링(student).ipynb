{
  "cells": [
    {
      "cell_type": "markdown",
      "id": "e7fbb0fb-c743-4f35-93bc-007265e76917",
      "metadata": {
        "id": "e7fbb0fb-c743-4f35-93bc-007265e76917"
      },
      "source": [
        "# 로봇 배제 표준 문서\n",
        "- 웹 사이트에 로봇이 접근하는 것을 방지하기 위한 규약\n",
        "- 일반적으로 접근 제한에 대한 설명을 robots.txt 기술해 놓고 루트 디렉토리에 위치 시킨다. \n",
        "- 이 규약은 권고안이며, 로봇이 robots.txt 파일을 읽고 접근을 중지하는 것을 목적으로 한다.\n",
        "- 접근 방지 설정을 하였다고 해도, 다른 사람들이 그 파일에 접근할 수 있다\n",
        "\n",
        "## 데이터 수집 시 주의 사항\n",
        "- 로봇 배제 표준이 권고안이라도 불법으로 데이터를 수집하여 영업 혹은 저작권 침해에 해당된다면 법적 제재를 받을 수 있다.  \n",
        "- https://ko.wikipedia.org/wiki/%EB%A1%9C%EB%B4%87_%EB%B0%B0%EC%A0%9C_%ED%91%9C%EC%A4%80"
      ]
    },
    {
      "cell_type": "markdown",
      "id": "28d35783-3ca9-45eb-8083-527c1725634c",
      "metadata": {
        "id": "28d35783-3ca9-45eb-8083-527c1725634c",
        "tags": []
      },
      "source": [
        "# 셀레니움(Selenium)\n",
        "- Selenium은 주로 웹앱을 테스트하는데 사용하는 프레임워크\n",
        "- webdriver라는 API를 통해 운영체제에 설치된 크롬 등의 브라우저를 제어\n",
        "- Selenium 모듈 설치 후 사용\n",
        "- 사용자 브라우저(Chrome, Edge, ..)에 맞는 webdriver를 다운로드 후 사용 가능\n",
        "- 다운로드 사이트에서 본인이 사용하는 브라우저의 버전등을 확인 후 다운로드\n",
        "- 크롬: https://chromedriver.chromium.org/downloads\n",
        "- Edge: https://developer.microsoft.com/en-us/microsoft-edge/tools/webdriver/\n",
        "- 파이어폭스:https://github.com/mozilla/geckodriver/releases\n",
        "\n",
        "__주의__\n",
        "최근 없데이트되면서 문법 변경됨"
      ]
    },
    {
      "cell_type": "markdown",
      "id": "34428aca-ccb6-47a4-b763-0d511b0c9298",
      "metadata": {
        "id": "34428aca-ccb6-47a4-b763-0d511b0c9298"
      },
      "source": [
        "## webdriver\n",
        "- selenium의 webdriver는 웹 응용 프로그램들의 테스트를 단순화 및 가속화해주는 툴\n",
        "\n",
        "### 크롬 드라이브 다운\n",
        "1. 크롬 브라우저 버전을 확인한다.(크롬브라우저 점3개 클릭-도움말-정보)\n",
        "2. 동일버전의 webdriver을 다운로드 [driver](https://chromedriver.chromium.org/downloads)\n",
        "3. ./chromedirver.exe"
      ]
    },
    {
      "cell_type": "code",
      "execution_count": null,
      "id": "aa98dc37",
      "metadata": {
        "id": "aa98dc37"
      },
      "outputs": [],
      "source": [
        "from selenium import webdriver\n",
        "import time"
      ]
    },
    {
      "cell_type": "code",
      "execution_count": 46,
      "id": "917af9c3",
      "metadata": {
        "id": "917af9c3",
        "outputId": "c3b2b2ed-90fa-45c7-ce4d-c39c48e2f52e"
      },
      "outputs": [
        {
          "name": "stderr",
          "output_type": "stream",
          "text": [
            "/tmp/ipykernel_2871/2063606198.py:2: DeprecationWarning: executable_path has been deprecated, please pass in a Service object\n",
            "  driver = webdriver.Chrome(\"./webcrawling/examples/chromedriver.exe\")\n"
          ]
        },
        {
          "ename": "WebDriverException",
          "evalue": "Message: unknown error: Chrome failed to start: crashed.\n  (unknown error: DevToolsActivePort file doesn't exist)\n  (The process started from chrome location /usr/bin/google-chrome is no longer running, so ChromeDriver is assuming that Chrome has crashed.)\nStacktrace:\n#0 0x7fe67e2ec2a3 <unknown>\n#1 0x7fe67e0aaf77 <unknown>\n#2 0x7fe67e0d35f7 <unknown>\n#3 0x7fe67e0cf7d0 <unknown>\n#4 0x7fe67e1100b7 <unknown>\n#5 0x7fe67e10fa5f <unknown>\n#6 0x7fe67e107903 <unknown>\n#7 0x7fe67e0daece <unknown>\n#8 0x7fe67e0dbfde <unknown>\n#9 0x7fe67e33c63e <unknown>\n#10 0x7fe67e33fb79 <unknown>\n#11 0x7fe67e32289e <unknown>\n#12 0x7fe67e340a83 <unknown>\n#13 0x7fe67e315505 <unknown>\n#14 0x7fe67e361ca8 <unknown>\n#15 0x7fe67e361e36 <unknown>\n#16 0x7fe67e37d333 <unknown>\n#17 0x7fe67d654b43 <unknown>\n",
          "output_type": "error",
          "traceback": [
            "\u001b[0;31m---------------------------------------------------------------------------\u001b[0m",
            "\u001b[0;31mWebDriverException\u001b[0m                        Traceback (most recent call last)",
            "Cell \u001b[0;32mIn[46], line 2\u001b[0m\n\u001b[1;32m      1\u001b[0m \u001b[39m# webdriver 객체 생성\u001b[39;00m\n\u001b[0;32m----> 2\u001b[0m driver \u001b[39m=\u001b[39m webdriver\u001b[39m.\u001b[39;49mChrome(\u001b[39m\"\u001b[39;49m\u001b[39m./webcrawling/examples/chromedriver.exe\u001b[39;49m\u001b[39m\"\u001b[39;49m)\n\u001b[1;32m      3\u001b[0m naver_url \u001b[39m=\u001b[39m \u001b[39m\"\u001b[39m\u001b[39mhttps://www.naver.com/\u001b[39m\u001b[39m\"\u001b[39m\n\u001b[1;32m      4\u001b[0m \u001b[39m# naver 가 아닌 다른 site도 들어가 보세요 \u001b[39;00m\n",
            "File \u001b[0;32m/mnt/c/Users/KOJUNSUNG/Desktop/lab/webcrawling/lib/python3.10/site-packages/selenium/webdriver/chrome/webdriver.py:81\u001b[0m, in \u001b[0;36mWebDriver.__init__\u001b[0;34m(self, executable_path, port, options, service_args, desired_capabilities, service_log_path, chrome_options, service, keep_alive)\u001b[0m\n\u001b[1;32m     78\u001b[0m \u001b[39mif\u001b[39;00m \u001b[39mnot\u001b[39;00m service:\n\u001b[1;32m     79\u001b[0m     service \u001b[39m=\u001b[39m Service(executable_path, port, service_args, service_log_path)\n\u001b[0;32m---> 81\u001b[0m \u001b[39msuper\u001b[39;49m()\u001b[39m.\u001b[39;49m\u001b[39m__init__\u001b[39;49m(\n\u001b[1;32m     82\u001b[0m     DesiredCapabilities\u001b[39m.\u001b[39;49mCHROME[\u001b[39m\"\u001b[39;49m\u001b[39mbrowserName\u001b[39;49m\u001b[39m\"\u001b[39;49m],\n\u001b[1;32m     83\u001b[0m     \u001b[39m\"\u001b[39;49m\u001b[39mgoog\u001b[39;49m\u001b[39m\"\u001b[39;49m,\n\u001b[1;32m     84\u001b[0m     port,\n\u001b[1;32m     85\u001b[0m     options,\n\u001b[1;32m     86\u001b[0m     service_args,\n\u001b[1;32m     87\u001b[0m     desired_capabilities,\n\u001b[1;32m     88\u001b[0m     service_log_path,\n\u001b[1;32m     89\u001b[0m     service,\n\u001b[1;32m     90\u001b[0m     keep_alive,\n\u001b[1;32m     91\u001b[0m )\n",
            "File \u001b[0;32m/mnt/c/Users/KOJUNSUNG/Desktop/lab/webcrawling/lib/python3.10/site-packages/selenium/webdriver/chromium/webdriver.py:106\u001b[0m, in \u001b[0;36mChromiumDriver.__init__\u001b[0;34m(self, browser_name, vendor_prefix, port, options, service_args, desired_capabilities, service_log_path, service, keep_alive)\u001b[0m\n\u001b[1;32m    103\u001b[0m \u001b[39mself\u001b[39m\u001b[39m.\u001b[39mservice\u001b[39m.\u001b[39mstart()\n\u001b[1;32m    105\u001b[0m \u001b[39mtry\u001b[39;00m:\n\u001b[0;32m--> 106\u001b[0m     \u001b[39msuper\u001b[39;49m()\u001b[39m.\u001b[39;49m\u001b[39m__init__\u001b[39;49m(\n\u001b[1;32m    107\u001b[0m         command_executor\u001b[39m=\u001b[39;49mChromiumRemoteConnection(\n\u001b[1;32m    108\u001b[0m             remote_server_addr\u001b[39m=\u001b[39;49m\u001b[39mself\u001b[39;49m\u001b[39m.\u001b[39;49mservice\u001b[39m.\u001b[39;49mservice_url,\n\u001b[1;32m    109\u001b[0m             browser_name\u001b[39m=\u001b[39;49mbrowser_name,\n\u001b[1;32m    110\u001b[0m             vendor_prefix\u001b[39m=\u001b[39;49mvendor_prefix,\n\u001b[1;32m    111\u001b[0m             keep_alive\u001b[39m=\u001b[39;49mkeep_alive,\n\u001b[1;32m    112\u001b[0m             ignore_proxy\u001b[39m=\u001b[39;49m_ignore_proxy,\n\u001b[1;32m    113\u001b[0m         ),\n\u001b[1;32m    114\u001b[0m         options\u001b[39m=\u001b[39;49moptions,\n\u001b[1;32m    115\u001b[0m     )\n\u001b[1;32m    116\u001b[0m \u001b[39mexcept\u001b[39;00m \u001b[39mException\u001b[39;00m:\n\u001b[1;32m    117\u001b[0m     \u001b[39mself\u001b[39m\u001b[39m.\u001b[39mquit()\n",
            "File \u001b[0;32m/mnt/c/Users/KOJUNSUNG/Desktop/lab/webcrawling/lib/python3.10/site-packages/selenium/webdriver/remote/webdriver.py:288\u001b[0m, in \u001b[0;36mWebDriver.__init__\u001b[0;34m(self, command_executor, desired_capabilities, browser_profile, proxy, keep_alive, file_detector, options)\u001b[0m\n\u001b[1;32m    286\u001b[0m \u001b[39mself\u001b[39m\u001b[39m.\u001b[39m_authenticator_id \u001b[39m=\u001b[39m \u001b[39mNone\u001b[39;00m\n\u001b[1;32m    287\u001b[0m \u001b[39mself\u001b[39m\u001b[39m.\u001b[39mstart_client()\n\u001b[0;32m--> 288\u001b[0m \u001b[39mself\u001b[39;49m\u001b[39m.\u001b[39;49mstart_session(capabilities, browser_profile)\n",
            "File \u001b[0;32m/mnt/c/Users/KOJUNSUNG/Desktop/lab/webcrawling/lib/python3.10/site-packages/selenium/webdriver/remote/webdriver.py:381\u001b[0m, in \u001b[0;36mWebDriver.start_session\u001b[0;34m(self, capabilities, browser_profile)\u001b[0m\n\u001b[1;32m    379\u001b[0m w3c_caps \u001b[39m=\u001b[39m _make_w3c_caps(capabilities)\n\u001b[1;32m    380\u001b[0m parameters \u001b[39m=\u001b[39m {\u001b[39m\"\u001b[39m\u001b[39mcapabilities\u001b[39m\u001b[39m\"\u001b[39m: w3c_caps}\n\u001b[0;32m--> 381\u001b[0m response \u001b[39m=\u001b[39m \u001b[39mself\u001b[39;49m\u001b[39m.\u001b[39;49mexecute(Command\u001b[39m.\u001b[39;49mNEW_SESSION, parameters)\n\u001b[1;32m    382\u001b[0m \u001b[39mif\u001b[39;00m \u001b[39m\"\u001b[39m\u001b[39msessionId\u001b[39m\u001b[39m\"\u001b[39m \u001b[39mnot\u001b[39;00m \u001b[39min\u001b[39;00m response:\n\u001b[1;32m    383\u001b[0m     response \u001b[39m=\u001b[39m response[\u001b[39m\"\u001b[39m\u001b[39mvalue\u001b[39m\u001b[39m\"\u001b[39m]\n",
            "File \u001b[0;32m/mnt/c/Users/KOJUNSUNG/Desktop/lab/webcrawling/lib/python3.10/site-packages/selenium/webdriver/remote/webdriver.py:444\u001b[0m, in \u001b[0;36mWebDriver.execute\u001b[0;34m(self, driver_command, params)\u001b[0m\n\u001b[1;32m    442\u001b[0m response \u001b[39m=\u001b[39m \u001b[39mself\u001b[39m\u001b[39m.\u001b[39mcommand_executor\u001b[39m.\u001b[39mexecute(driver_command, params)\n\u001b[1;32m    443\u001b[0m \u001b[39mif\u001b[39;00m response:\n\u001b[0;32m--> 444\u001b[0m     \u001b[39mself\u001b[39;49m\u001b[39m.\u001b[39;49merror_handler\u001b[39m.\u001b[39;49mcheck_response(response)\n\u001b[1;32m    445\u001b[0m     response[\u001b[39m\"\u001b[39m\u001b[39mvalue\u001b[39m\u001b[39m\"\u001b[39m] \u001b[39m=\u001b[39m \u001b[39mself\u001b[39m\u001b[39m.\u001b[39m_unwrap_value(response\u001b[39m.\u001b[39mget(\u001b[39m\"\u001b[39m\u001b[39mvalue\u001b[39m\u001b[39m\"\u001b[39m, \u001b[39mNone\u001b[39;00m))\n\u001b[1;32m    446\u001b[0m     \u001b[39mreturn\u001b[39;00m response\n",
            "File \u001b[0;32m/mnt/c/Users/KOJUNSUNG/Desktop/lab/webcrawling/lib/python3.10/site-packages/selenium/webdriver/remote/errorhandler.py:249\u001b[0m, in \u001b[0;36mErrorHandler.check_response\u001b[0;34m(self, response)\u001b[0m\n\u001b[1;32m    247\u001b[0m         alert_text \u001b[39m=\u001b[39m value[\u001b[39m\"\u001b[39m\u001b[39malert\u001b[39m\u001b[39m\"\u001b[39m]\u001b[39m.\u001b[39mget(\u001b[39m\"\u001b[39m\u001b[39mtext\u001b[39m\u001b[39m\"\u001b[39m)\n\u001b[1;32m    248\u001b[0m     \u001b[39mraise\u001b[39;00m exception_class(message, screen, stacktrace, alert_text)  \u001b[39m# type: ignore[call-arg]  # mypy is not smart enough here\u001b[39;00m\n\u001b[0;32m--> 249\u001b[0m \u001b[39mraise\u001b[39;00m exception_class(message, screen, stacktrace)\n",
            "\u001b[0;31mWebDriverException\u001b[0m: Message: unknown error: Chrome failed to start: crashed.\n  (unknown error: DevToolsActivePort file doesn't exist)\n  (The process started from chrome location /usr/bin/google-chrome is no longer running, so ChromeDriver is assuming that Chrome has crashed.)\nStacktrace:\n#0 0x7fe67e2ec2a3 <unknown>\n#1 0x7fe67e0aaf77 <unknown>\n#2 0x7fe67e0d35f7 <unknown>\n#3 0x7fe67e0cf7d0 <unknown>\n#4 0x7fe67e1100b7 <unknown>\n#5 0x7fe67e10fa5f <unknown>\n#6 0x7fe67e107903 <unknown>\n#7 0x7fe67e0daece <unknown>\n#8 0x7fe67e0dbfde <unknown>\n#9 0x7fe67e33c63e <unknown>\n#10 0x7fe67e33fb79 <unknown>\n#11 0x7fe67e32289e <unknown>\n#12 0x7fe67e340a83 <unknown>\n#13 0x7fe67e315505 <unknown>\n#14 0x7fe67e361ca8 <unknown>\n#15 0x7fe67e361e36 <unknown>\n#16 0x7fe67e37d333 <unknown>\n#17 0x7fe67d654b43 <unknown>\n"
          ]
        }
      ],
      "source": [
        "# webdriver 객체 생성\n",
        "driver = webdriver.Chrome(\"./webcrawling/examples/chromedriver.exe\")\n",
        "naver_url = \"https://www.naver.com/\"\n",
        "# naver 가 아닌 다른 site도 들어가 보세요 \n",
        "\n",
        "driver.get(naver_url)\n",
        "\n",
        "time.sleep(10)\n",
        "driver.close()"
      ]
    },
    {
      "cell_type": "markdown",
      "id": "abda1f17-29d5-4f12-8142-3f66ff06c93a",
      "metadata": {
        "id": "abda1f17-29d5-4f12-8142-3f66ff06c93a"
      },
      "source": [
        "### selenium 내장함수\n",
        "\n",
        "#### 1. get()\n",
        "- get() 함수는 입력한 url 주소로 접속하는 함수\n",
        "\n",
        "```python\n",
        "driver.get(\"url 주소\")\n",
        "```\n",
        "\n",
        "#### 2. find_element(By.<location>, \"\")\n",
        "- 정적크롤링의 find과 같은 역할로, 크롤링을 위해 HTML 요소를 찾는 함수\n",
        "    \n",
        "```python\n",
        "from selenium.webdriver.common.by import By\n",
        "\n",
        "find_element(By.ID, \"id\")\n",
        "find_element(By.NAME, \"name\")\n",
        "find_element(By.XPATH, \"xpath\")\n",
        "find_element(By.LINK_TEXT, \"link text\")\n",
        "find_element(By.PARTIAL_LINK_TEXT, \"partial link text\")\n",
        "find_element(By.TAG_NAME, \"tag name\")\n",
        "find_element(By.CLASS_NAME, \"class name\")\n",
        "find_element(By.CSS_SELECTOR, \"css selector\")\n",
        "```\n",
        "\n",
        "__참고__ :  구버전의 find_element_by_ ?? 에서 변경되었다. \n",
        "\n",
        "예) find_element(By.CSS_SELECTOR, \"css selector\") \n",
        "- copy 목록의 copy selector를 통해 속성을 찾을 수 있다.\n",
        "```python\n",
        "driver.find_element(By.CSS_SELECTOR, \"a#writeFormBtn\")\n",
        "```\n",
        "\n",
        "    \n",
        "예) find_element(By.ID, \"id\") & find_element(By.CLASS_NAME, \"class name\")\n",
        "- id 속성 혹은 class 속성을 가지고 있는 경우 사용한다.\n",
        "\n",
        "```python    \n",
        "'글쓰기' 버튼 - <a href=\"#\" id=\"writeFormBtn\" class=\"btn_type1 post_write _rosRestrict\" onclick=\"clickcr(this,'abt.wrtlist', '', '', event);\">\n",
        "\n",
        "driver.find_element(By.ID, \"writeFormBtn\")\n",
        "driver.find_element(By.CLASS_NAME, \"btn_type1.post_write._rosRestrict\")\n",
        "```\n",
        "\n",
        "예) find_element(By.XPATH, \"xpath\")\n",
        "- 적당한 id, class 속성이 없을 경우 xpath를 사용가능 \n",
        "- XPATH란 xml 문서의 특정 부분의 위치를 의미한다.\n",
        "- html 요소를 우클릭하고 copy 목록의 copy xpath를 클릭해 사용가능\n",
        "\n",
        "```python\n",
        "driver.find_element(By.XPATH, 'XPath 선택자')\n",
        "\n",
        "# ex) '글쓰기' 버튼의 'Copy XPath'결과 - //*[@id=\"writeFormBtn\"]\n",
        "driver.find_element_by_xpath('//*[@id=\"writeFormBtn\"]')\n",
        "```"
      ]
    },
    {
      "cell_type": "markdown",
      "id": "623df7c7-342c-4f64-b14c-bdd5c69c821a",
      "metadata": {
        "id": "623df7c7-342c-4f64-b14c-bdd5c69c821a"
      },
      "source": [
        "#### 3. find_elements_by_?? ()\n",
        "- 정적 크롤링의 find_all과 같은 역할로, 입력한 태그 및 선택자에 해당하는 모든 html 요소를 찾는 함수이다. \n",
        "- element 뒤에 s가 붙는다. \n",
        "\n",
        "\n",
        "\n",
        "#### 4. click()\n",
        "- html 요소를 클릭하는 함수이다.\n",
        "\n",
        "```python\n",
        "driver.find_element(By.???, \"????\").click()\n",
        "\n",
        "ex) 글쓰기 버튼 클릭\n",
        "driver.find_element(By.CSS_SELECTOR,\"a#writeFormBtn\").click()\n",
        "```\n",
        "\n",
        "#### 5. send_keys()\n",
        "- html 요소에 직접 텍스트를 입력하는 함수이다.\n",
        "\n",
        "```python\n",
        "driver.find_element_by_??().send_keys(\"텍스트\")\n",
        "\n",
        "ex) 검색 칸에 파이썬 입력\n",
        "driver.find_element_by_css_selector(\"input#query\").send_keys(\"파이썬\")\n",
        "```\n",
        "\n"
      ]
    },
    {
      "cell_type": "code",
      "execution_count": 1,
      "id": "cc4ebc74-2efe-4064-b5dc-1de30e149d0f",
      "metadata": {
        "id": "cc4ebc74-2efe-4064-b5dc-1de30e149d0f"
      },
      "outputs": [],
      "source": [
        "from selenium import webdriver\n",
        "from bs4 import BeautifulSoup as BS\n",
        "import time\n",
        "import pandas as pd\n",
        "from selenium.webdriver.common.by import By"
      ]
    },
    {
      "cell_type": "markdown",
      "id": "412b1a28-037f-49ed-b546-207915e1d56e",
      "metadata": {
        "id": "412b1a28-037f-49ed-b546-207915e1d56e"
      },
      "source": [
        "# 브라우저를 통한 웹페이지 제어"
      ]
    },
    {
      "cell_type": "code",
      "execution_count": 45,
      "id": "8f5168ed",
      "metadata": {
        "id": "8f5168ed"
      },
      "outputs": [
        {
          "name": "stderr",
          "output_type": "stream",
          "text": [
            "/tmp/ipykernel_2871/2096155932.py:2: DeprecationWarning: executable_path has been deprecated, please pass in a Service object\n",
            "  driver = webdriver.Chrome(\"./chromedriver.exe\")\n"
          ]
        }
      ],
      "source": [
        "# webdriver 객체 생성\n",
        "driver = webdriver.Chrome(\"./chromedriver.exe\")\n",
        "naver_url = \"https://www.naver.com/\"\n",
        "# naver 가 아닌 다른 site도 들어가 보세요 \n",
        "\n",
        "driver.get(naver_url)\n",
        "time.sleep(1)\n",
        "driver.find_element(By.CSS_SELECTOR,\"input#query\").send_keys(\"부산 맛집\")\n",
        "\n",
        "driver.find_element(By.CSS_SELECTOR,\"button#search_btn\").click()\n",
        "time.sleep(1)\n",
        "html = driver.page_source\n",
        "soup = BS(html, \"html.parser\")\n",
        "driver.close()"
      ]
    },
    {
      "cell_type": "code",
      "execution_count": 3,
      "id": "5dafc68b",
      "metadata": {},
      "outputs": [
        {
          "data": {
            "text/plain": [
              "'아수라'"
            ]
          },
          "execution_count": 3,
          "metadata": {},
          "output_type": "execute_result"
        }
      ],
      "source": [
        "soup.find_all(\"span\", {\"class\":\"place_bluelink TYaxT\"})[0].text"
      ]
    },
    {
      "cell_type": "code",
      "execution_count": 44,
      "id": "bb374f2f",
      "metadata": {},
      "outputs": [
        {
          "name": "stderr",
          "output_type": "stream",
          "text": [
            "/tmp/ipykernel_2871/1973119827.py:3: DeprecationWarning: executable_path has been deprecated, please pass in a Service object\n",
            "  driver = webdriver.Chrome(\"./chromedriver.exe\")\n"
          ]
        }
      ],
      "source": [
        "# 네이버에서 부산국밥집을 검색한 결과를 가게 이름과 링크를 함께 DF에 저장하세요 \n",
        "# webdriver 객체 생성\n",
        "driver = webdriver.Chrome(\"./chromedriver.exe\")\n",
        "naver_url = \"https://www.naver.com/\"\n",
        "# naver 가 아닌 다른 site도 들어가 보세요 \n",
        "\n",
        "driver.get(naver_url)\n",
        "time.sleep(1)\n",
        "driver.find_element(By.CSS_SELECTOR,\"input#query\").send_keys(\"부산국밥집\")\n",
        "driver.find_element(By.CSS_SELECTOR,\"button#search_btn\").click()\n",
        "time.sleep(1)\n",
        "html = driver.page_source\n",
        "soup = BS(html, \"html.parser\")\n",
        "driver.close()"
      ]
    },
    {
      "cell_type": "code",
      "execution_count": 39,
      "id": "73e5c7b9",
      "metadata": {},
      "outputs": [],
      "source": [
        "#find a list of all span elements\n",
        "#name=soup.find_all(\"span\",attrs={\"class\" : \"place_bluelink TYaxT\"})\n",
        "name=soup.find_all(\"div\",{\"class\":\"CHC5F\"}[0].find(\"span\").text)\n",
        "link= soup.find_all(\"div\",{\"class\":\"CHC5F\"}[0].find(\"a\")[\"href\"]\n",
        "\n",
        "#place-main-section-root > section > div > ul > li:nth-child(1) > div.CHC5F > a > div > div > span.place_bluelink.TYaxT"
      ]
    },
    {
      "cell_type": "code",
      "execution_count": 40,
      "id": "cd0e848d",
      "metadata": {},
      "outputs": [
        {
          "name": "stdout",
          "output_type": "stream",
          "text": [
            "              상호                                                 위치\n",
            "0      동래정소고기해장국  https://tivan.naver.com/d/dwSisNNpZWYDJdkCtYe2...\n",
            "1     해운대 오복돼지국밥  https://tivan.naver.com/d/B-WMJsz0mcLGQYXqY2P_...\n",
            "2  수변최고돼지국밥 민락본점  https://map.naver.com/v5/search/%EB%B6%80%EC%8...\n",
            "3         본전돼지국밥  https://map.naver.com/v5/search/%EB%B6%80%EC%8...\n",
            "4       합천일류돼지국밥  https://map.naver.com/v5/search/%EB%B6%80%EC%8...\n",
            "5      영동밀면&돼지국밥  https://map.naver.com/v5/search/%EB%B6%80%EC%8...\n",
            "6           자매국밥  https://map.naver.com/v5/search/%EB%B6%80%EC%8...\n",
            "7  밀양순대돼지국밥 부산본점  https://map.naver.com/v5/search/%EB%B6%80%EC%8...\n"
          ]
        }
      ],
      "source": [
        "find_eats = soup.find_all(\"div\", {\"class\":\"CHC5F\"}) #CHC5F 라는 태그 안에 정보가 있다.\n",
        "post_list = []\n",
        "for i in find_eats:\n",
        "    name = i.find(\"span\").text\n",
        "    link = i.find(\"a\")[\"href\"]\n",
        "    post_list.append({\"상호\":name, \"위치\":link})\n",
        "df = pd.DataFrame(post_list)\n",
        "print(df)"
      ]
    },
    {
      "cell_type": "code",
      "execution_count": 29,
      "id": "f0fc012a",
      "metadata": {},
      "outputs": [
        {
          "data": {
            "text/plain": [
              "'동래정소고기해장국'"
            ]
          },
          "execution_count": 29,
          "metadata": {},
          "output_type": "execute_result"
        }
      ],
      "source": [
        "name[0].text"
      ]
    },
    {
      "cell_type": "code",
      "execution_count": 38,
      "id": "c27fa5a8",
      "metadata": {},
      "outputs": [
        {
          "data": {
            "text/plain": [
              "<a href=\"#lnb\"><span>메뉴 영역으로 바로가기</span></a>"
            ]
          },
          "execution_count": 38,
          "metadata": {},
          "output_type": "execute_result"
        }
      ],
      "source": [
        "link=soup.find_all(\"a\")\n",
        "link[0]"
      ]
    },
    {
      "attachments": {},
      "cell_type": "markdown",
      "id": "49167939",
      "metadata": {},
      "source": [
        "# 파파고 번역기\n",
        "1. 번역할 단어 입력\n",
        "2. 파파고 접속\n",
        "3. 파파고에 단어 입력\n",
        "4. 출력된 단어 가지고 오기\n",
        "5. print로 출력."
      ]
    },
    {
      "cell_type": "code",
      "execution_count": 58,
      "id": "a9bfe635",
      "metadata": {},
      "outputs": [
        {
          "name": "stderr",
          "output_type": "stream",
          "text": [
            "/tmp/ipykernel_2871/2377745978.py:1: DeprecationWarning: executable_path has been deprecated, please pass in a Service object\n",
            "  driver = webdriver.Chrome(\"./chromedriver.exe\")\n"
          ]
        },
        {
          "name": "stdout",
          "output_type": "stream",
          "text": [
            "결과: fuck\n"
          ]
        }
      ],
      "source": [
        "driver = webdriver.Chrome(\"./chromedriver.exe\")\n",
        "url=\"https://papago.naver.com/\" #주소 가져오기\n",
        "driver.get(url)\n",
        "time.sleep(3) #대기 3초\n",
        "\n",
        "want=input(\"단어를 입력하세요:\")\n",
        "\n",
        "driver.find_element(By.CSS_SELECTOR,\"textarea#txtSource\").send_keys(want) #직접 텍스트 입력.\n",
        "driver.find_element(By.CSS_SELECTOR,\"button#btnTranslate\").click()\n",
        "time.sleep(1)\n",
        "output=driver.find_element(By.CSS_SELECTOR,\"div#txtTarget\").text\n",
        "print(\"결과:\",output)\n",
        "driver.close()"
      ]
    },
    {
      "cell_type": "code",
      "execution_count": 48,
      "id": "c299c6b6",
      "metadata": {},
      "outputs": [
        {
          "data": {
            "text/plain": [
              "'/mnt/c/Users/KOJUNSUNG/Desktop/lab/webcrawling/examples'"
            ]
          },
          "execution_count": 48,
          "metadata": {},
          "output_type": "execute_result"
        }
      ],
      "source": [
        "pwd"
      ]
    },
    {
      "cell_type": "code",
      "execution_count": null,
      "id": "d00fb751",
      "metadata": {},
      "outputs": [],
      "source": [
        "#추가학습\n",
        "#딕셔너리에 단어를 추가한 뒤\n",
        "# 1. 원래 있는 단어이면 단어를 번역해 가져온다.\n",
        "# 2. 없는 단어이면 파파고에 접속해 단어를 번역해오고, 딕셔너리에 추가한다.\n",
        "\n",
        "# 추가학습 2\n",
        "# csv 파일을 읽어온 뒤\n",
        "# 원래 있는 단어면 번역해온다.\n",
        "# 없는 단어면 파파고한 뒤에 csv에 추가한다."
      ]
    },
    {
      "cell_type": "code",
      "execution_count": 64,
      "id": "b9c5aaab",
      "metadata": {},
      "outputs": [
        {
          "data": {
            "text/plain": [
              "'fool'"
            ]
          },
          "execution_count": 64,
          "metadata": {},
          "output_type": "execute_result"
        }
      ],
      "source": [
        "dict={\"바보\":\"fool\", \"병신\":\"idiot\"}\n",
        "dict[\"바보\"]"
      ]
    },
    {
      "cell_type": "code",
      "execution_count": 92,
      "id": "0f494a1d",
      "metadata": {},
      "outputs": [],
      "source": [
        "class Diction:\n",
        "    def __init__(self):\n",
        "        self.dict={\"바보\":\"fool\", \"병신\":\"idiot\"}\n",
        "\n",
        "    def Dictionaryasking(self):\n",
        "        A=input(\"뭐든 물어보세요.:\")\n",
        "        if A in self.dict:\n",
        "            print(self.dict[A]) #return 은 function 에서만 가동\n",
        "        else:\n",
        "            driver=webdriver.Chrome(\"./chromedriver.exe\")\n",
        "            url=\"https://papago.naver.com/\"\n",
        "            driver.get(url)\n",
        "            \n",
        "            driver.find_element(By.CSS_SELECTOR,\"textarea#txtSource\").send_keys(A) #직접 텍스트 입력.\n",
        "            driver.find_element(By.CSS_SELECTOR,\"button#btnTranslate\").click()\n",
        "            time.sleep(1)\n",
        "            output=driver.find_element(By.CSS_SELECTOR,\"div#txtTarget\").text\n",
        "            print(\"결과:\",output)\n",
        "            self.dict[A]=output\n",
        "            driver.close()"
      ]
    },
    {
      "cell_type": "code",
      "execution_count": 89,
      "id": "d9ae9f39",
      "metadata": {},
      "outputs": [],
      "source": [
        "hey=Diction()"
      ]
    },
    {
      "cell_type": "code",
      "execution_count": 90,
      "id": "a04083ce",
      "metadata": {},
      "outputs": [
        {
          "data": {
            "text/plain": [
              "{'바보': 'fool', '병신': 'idiot'}"
            ]
          },
          "execution_count": 90,
          "metadata": {},
          "output_type": "execute_result"
        }
      ],
      "source": [
        "hey.dict"
      ]
    },
    {
      "cell_type": "code",
      "execution_count": 91,
      "id": "424bf84d",
      "metadata": {},
      "outputs": [
        {
          "name": "stderr",
          "output_type": "stream",
          "text": [
            "/tmp/ipykernel_2871/124721343.py:10: DeprecationWarning: executable_path has been deprecated, please pass in a Service object\n",
            "  driver=webdriver.Chrome(\"./chromedriver.exe\")\n"
          ]
        },
        {
          "name": "stdout",
          "output_type": "stream",
          "text": [
            "결과: I'm say hello\n"
          ]
        },
        {
          "ename": "NoSuchElementException",
          "evalue": "Message: no such element: Unable to locate element: {\"method\":\"css selector\",\"selector\":\"textarea#txtSource\"}\n  (Session info: chrome=108.0.5359.100)\nStacktrace:\nBacktrace:\n\t(No symbol) [0x0075F243]\n\t(No symbol) [0x006E7FD1]\n\t(No symbol) [0x005DD04D]\n\t(No symbol) [0x0060C0B0]\n\t(No symbol) [0x0060C22B]\n\t(No symbol) [0x0063E612]\n\t(No symbol) [0x006285D4]\n\t(No symbol) [0x0063C9EB]\n\t(No symbol) [0x00628386]\n\t(No symbol) [0x0060163C]\n\t(No symbol) [0x0060269D]\n\tGetHandleVerifier [0x009F9A22+2655074]\n\tGetHandleVerifier [0x009ECA24+2601828]\n\tGetHandleVerifier [0x00808C0A+619850]\n\tGetHandleVerifier [0x00807830+614768]\n\t(No symbol) [0x006F05FC]\n\t(No symbol) [0x006F5968]\n\t(No symbol) [0x006F5A55]\n\t(No symbol) [0x0070051B]\n\tBaseThreadInitThunk [0x76B4FEF9+25]\n\tRtlGetAppContainerNamedObjectPath [0x77877BBE+286]\n\tRtlGetAppContainerNamedObjectPath [0x77877B8E+238]\n",
          "output_type": "error",
          "traceback": [
            "\u001b[0;31m---------------------------------------------------------------------------\u001b[0m",
            "\u001b[0;31mNoSuchElementException\u001b[0m                    Traceback (most recent call last)",
            "Cell \u001b[0;32mIn[91], line 1\u001b[0m\n\u001b[0;32m----> 1\u001b[0m hey\u001b[39m.\u001b[39;49mDictionaryasking()\n",
            "Cell \u001b[0;32mIn[88], line 23\u001b[0m, in \u001b[0;36mDiction.Dictionaryasking\u001b[0;34m(self)\u001b[0m\n\u001b[1;32m     21\u001b[0m ask\u001b[39m=\u001b[39m\u001b[39minput\u001b[39m(\u001b[39m\"\u001b[39m\u001b[39mcontinue?: Y/N\u001b[39m\u001b[39m\"\u001b[39m)\n\u001b[1;32m     22\u001b[0m \u001b[39mif\u001b[39;00m (ask\u001b[39m==\u001b[39m\u001b[39m\"\u001b[39m\u001b[39mY\u001b[39m\u001b[39m\"\u001b[39m):\n\u001b[0;32m---> 23\u001b[0m     \u001b[39mreturn\u001b[39;00m \u001b[39mself\u001b[39;49m\u001b[39m.\u001b[39;49mDictionaryasking()\n\u001b[1;32m     24\u001b[0m \u001b[39melif\u001b[39;00m (ask\u001b[39m==\u001b[39m\u001b[39m\"\u001b[39m\u001b[39mN\u001b[39m\u001b[39m\"\u001b[39m):\n\u001b[1;32m     25\u001b[0m     \u001b[39mpass\u001b[39;00m\n",
            "Cell \u001b[0;32mIn[88], line 14\u001b[0m, in \u001b[0;36mDiction.Dictionaryasking\u001b[0;34m(self)\u001b[0m\n\u001b[1;32m     11\u001b[0m url\u001b[39m=\u001b[39m\u001b[39m\"\u001b[39m\u001b[39mhttps://papago.naver.com/\u001b[39m\u001b[39m\"\u001b[39m\n\u001b[1;32m     12\u001b[0m driver\u001b[39m.\u001b[39mget(url)\n\u001b[0;32m---> 14\u001b[0m driver\u001b[39m.\u001b[39;49mfind_element(By\u001b[39m.\u001b[39;49mCSS_SELECTOR,\u001b[39m\"\u001b[39;49m\u001b[39mtextarea#txtSource\u001b[39;49m\u001b[39m\"\u001b[39;49m)\u001b[39m.\u001b[39msend_keys(A) \u001b[39m#직접 텍스트 입력.\u001b[39;00m\n\u001b[1;32m     15\u001b[0m driver\u001b[39m.\u001b[39mfind_element(By\u001b[39m.\u001b[39mCSS_SELECTOR,\u001b[39m\"\u001b[39m\u001b[39mbutton#btnTranslate\u001b[39m\u001b[39m\"\u001b[39m)\u001b[39m.\u001b[39mclick()\n\u001b[1;32m     16\u001b[0m time\u001b[39m.\u001b[39msleep(\u001b[39m1\u001b[39m)\n",
            "File \u001b[0;32m/mnt/c/Users/KOJUNSUNG/Desktop/lab/webcrawling/lib/python3.10/site-packages/selenium/webdriver/remote/webdriver.py:861\u001b[0m, in \u001b[0;36mWebDriver.find_element\u001b[0;34m(self, by, value)\u001b[0m\n\u001b[1;32m    858\u001b[0m     by \u001b[39m=\u001b[39m By\u001b[39m.\u001b[39mCSS_SELECTOR\n\u001b[1;32m    859\u001b[0m     value \u001b[39m=\u001b[39m \u001b[39m'\u001b[39m\u001b[39m[name=\u001b[39m\u001b[39m\"\u001b[39m\u001b[39m%s\u001b[39;00m\u001b[39m\"\u001b[39m\u001b[39m]\u001b[39m\u001b[39m'\u001b[39m \u001b[39m%\u001b[39m value\n\u001b[0;32m--> 861\u001b[0m \u001b[39mreturn\u001b[39;00m \u001b[39mself\u001b[39;49m\u001b[39m.\u001b[39;49mexecute(Command\u001b[39m.\u001b[39;49mFIND_ELEMENT, {\u001b[39m\"\u001b[39;49m\u001b[39musing\u001b[39;49m\u001b[39m\"\u001b[39;49m: by, \u001b[39m\"\u001b[39;49m\u001b[39mvalue\u001b[39;49m\u001b[39m\"\u001b[39;49m: value})[\u001b[39m\"\u001b[39m\u001b[39mvalue\u001b[39m\u001b[39m\"\u001b[39m]\n",
            "File \u001b[0;32m/mnt/c/Users/KOJUNSUNG/Desktop/lab/webcrawling/lib/python3.10/site-packages/selenium/webdriver/remote/webdriver.py:444\u001b[0m, in \u001b[0;36mWebDriver.execute\u001b[0;34m(self, driver_command, params)\u001b[0m\n\u001b[1;32m    442\u001b[0m response \u001b[39m=\u001b[39m \u001b[39mself\u001b[39m\u001b[39m.\u001b[39mcommand_executor\u001b[39m.\u001b[39mexecute(driver_command, params)\n\u001b[1;32m    443\u001b[0m \u001b[39mif\u001b[39;00m response:\n\u001b[0;32m--> 444\u001b[0m     \u001b[39mself\u001b[39;49m\u001b[39m.\u001b[39;49merror_handler\u001b[39m.\u001b[39;49mcheck_response(response)\n\u001b[1;32m    445\u001b[0m     response[\u001b[39m\"\u001b[39m\u001b[39mvalue\u001b[39m\u001b[39m\"\u001b[39m] \u001b[39m=\u001b[39m \u001b[39mself\u001b[39m\u001b[39m.\u001b[39m_unwrap_value(response\u001b[39m.\u001b[39mget(\u001b[39m\"\u001b[39m\u001b[39mvalue\u001b[39m\u001b[39m\"\u001b[39m, \u001b[39mNone\u001b[39;00m))\n\u001b[1;32m    446\u001b[0m     \u001b[39mreturn\u001b[39;00m response\n",
            "File \u001b[0;32m/mnt/c/Users/KOJUNSUNG/Desktop/lab/webcrawling/lib/python3.10/site-packages/selenium/webdriver/remote/errorhandler.py:249\u001b[0m, in \u001b[0;36mErrorHandler.check_response\u001b[0;34m(self, response)\u001b[0m\n\u001b[1;32m    247\u001b[0m         alert_text \u001b[39m=\u001b[39m value[\u001b[39m\"\u001b[39m\u001b[39malert\u001b[39m\u001b[39m\"\u001b[39m]\u001b[39m.\u001b[39mget(\u001b[39m\"\u001b[39m\u001b[39mtext\u001b[39m\u001b[39m\"\u001b[39m)\n\u001b[1;32m    248\u001b[0m     \u001b[39mraise\u001b[39;00m exception_class(message, screen, stacktrace, alert_text)  \u001b[39m# type: ignore[call-arg]  # mypy is not smart enough here\u001b[39;00m\n\u001b[0;32m--> 249\u001b[0m \u001b[39mraise\u001b[39;00m exception_class(message, screen, stacktrace)\n",
            "\u001b[0;31mNoSuchElementException\u001b[0m: Message: no such element: Unable to locate element: {\"method\":\"css selector\",\"selector\":\"textarea#txtSource\"}\n  (Session info: chrome=108.0.5359.100)\nStacktrace:\nBacktrace:\n\t(No symbol) [0x0075F243]\n\t(No symbol) [0x006E7FD1]\n\t(No symbol) [0x005DD04D]\n\t(No symbol) [0x0060C0B0]\n\t(No symbol) [0x0060C22B]\n\t(No symbol) [0x0063E612]\n\t(No symbol) [0x006285D4]\n\t(No symbol) [0x0063C9EB]\n\t(No symbol) [0x00628386]\n\t(No symbol) [0x0060163C]\n\t(No symbol) [0x0060269D]\n\tGetHandleVerifier [0x009F9A22+2655074]\n\tGetHandleVerifier [0x009ECA24+2601828]\n\tGetHandleVerifier [0x00808C0A+619850]\n\tGetHandleVerifier [0x00807830+614768]\n\t(No symbol) [0x006F05FC]\n\t(No symbol) [0x006F5968]\n\t(No symbol) [0x006F5A55]\n\t(No symbol) [0x0070051B]\n\tBaseThreadInitThunk [0x76B4FEF9+25]\n\tRtlGetAppContainerNamedObjectPath [0x77877BBE+286]\n\tRtlGetAppContainerNamedObjectPath [0x77877B8E+238]\n"
          ]
        }
      ],
      "source": [
        "hey.Dictionaryasking()"
      ]
    },
    {
      "cell_type": "code",
      "execution_count": null,
      "id": "652ef2b2",
      "metadata": {},
      "outputs": [],
      "source": []
    },
    {
      "cell_type": "code",
      "execution_count": 72,
      "id": "90321cae",
      "metadata": {},
      "outputs": [],
      "source": [
        "dict={\"바보\":\"fool\", \"병신\":\"idiot\"}\n",
        "\n",
        "def Dictionaryasking():\n",
        "    A=input(\"단어를 입력해, 바보!:\")\n",
        "    if A in dict:\n",
        "        print(dict[A]) #return 은 function 에서만 가동\n",
        "    else:\n",
        "        driver=webdriver.Chrome(\"./chromedriver.exe\")\n",
        "        url=\"https://papago.naver.com/\"\n",
        "        driver.get(url)\n",
        "        \n",
        "        driver.find_element(By.CSS_SELECTOR,\"textarea#txtSource\").send_keys(A) #직접 텍스트 입력.\n",
        "        driver.find_element(By.CSS_SELECTOR,\"button#btnTranslate\").click()\n",
        "        time.sleep(1)\n",
        "        output=driver.find_element(By.CSS_SELECTOR,\"div#txtTarget\").text\n",
        "        print(\"결과:\",output)\n",
        "        dict[A]=output\n",
        "        driver.close()\n",
        "        ask=input(\"continue?: Y/N\")\n",
        "        if (ask==\"Y\"):\n",
        "            return Dictionaryasking()\n",
        "        elif (ask==\"N\"):\n",
        "            pass\n",
        "        else:\n",
        "            print(\"error.\")\n",
        "        \n",
        "    \n"
      ]
    },
    {
      "cell_type": "code",
      "execution_count": 73,
      "id": "05638638",
      "metadata": {},
      "outputs": [
        {
          "name": "stderr",
          "output_type": "stream",
          "text": [
            "/tmp/ipykernel_2871/1577250011.py:8: DeprecationWarning: executable_path has been deprecated, please pass in a Service object\n",
            "  driver=webdriver.Chrome(\"./chromedriver.exe\")\n"
          ]
        },
        {
          "name": "stdout",
          "output_type": "stream",
          "text": [
            "결과: Teacher\n"
          ]
        }
      ],
      "source": [
        "hey=Diction()"
      ]
    },
    {
      "cell_type": "code",
      "execution_count": 74,
      "id": "874fd238",
      "metadata": {
        "id": "874fd238"
      },
      "outputs": [
        {
          "data": {
            "text/plain": [
              "{'바보': 'fool', '병신': 'idiot'}"
            ]
          },
          "execution_count": 74,
          "metadata": {},
          "output_type": "execute_result"
        }
      ],
      "source": [
        "Diction.dict"
      ]
    },
    {
      "cell_type": "code",
      "execution_count": null,
      "id": "3b50ded2",
      "metadata": {
        "id": "3b50ded2"
      },
      "outputs": [],
      "source": []
    },
    {
      "cell_type": "markdown",
      "id": "3c21424c-0ebd-4b34-8a69-abceeb3007fd",
      "metadata": {
        "id": "3c21424c-0ebd-4b34-8a69-abceeb3007fd"
      },
      "source": [
        "# csv 에 추가된 내용을 읽어서"
      ]
    },
    {
      "cell_type": "code",
      "execution_count": null,
      "id": "007b011d",
      "metadata": {
        "id": "007b011d"
      },
      "outputs": [],
      "source": []
    },
    {
      "cell_type": "markdown",
      "id": "9990fe53-0bed-4dcd-a564-07a570e7e5a7",
      "metadata": {
        "id": "9990fe53-0bed-4dcd-a564-07a570e7e5a7"
      },
      "source": [
        "# 네이버 로그인"
      ]
    },
    {
      "cell_type": "code",
      "execution_count": 62,
      "id": "16801a03",
      "metadata": {
        "id": "16801a03"
      },
      "outputs": [
        {
          "name": "stderr",
          "output_type": "stream",
          "text": [
            "/tmp/ipykernel_2871/1413187553.py:1: DeprecationWarning: executable_path has been deprecated, please pass in a Service object\n",
            "  driver = webdriver.Chrome(\"./chromedriver.exe\") #driver 은 매번 넣어줘야 가동한다. 워쮀서! 주피터 좆병신!\n"
          ]
        }
      ],
      "source": [
        "driver = webdriver.Chrome(\"./chromedriver.exe\") #driver 은 매번 넣어줘야 가동한다. 워쮀서! 주피터 좆병신!\n",
        "login=\"https://nid.naver.com/nidlogin.login?mode=form&url=https%3A%2F%2Fwww.naver.com\"\n",
        "driver.get(login)\n",
        "driver.find_element(By.CSS_SELECTOR,\"#id\").send_keys(\"baboo\")\n",
        "driver.find_element(By.CSS_SELECTOR,\"#pw\").send_keys(\"hahahhahahahahah\")\n",
        "driver.find_element(By.CSS_SELECTOR,\"#log\\.login\").click()\n",
        "\n",
        "#driver.close()"
      ]
    },
    {
      "cell_type": "code",
      "execution_count": 101,
      "id": "715c77f1",
      "metadata": {},
      "outputs": [
        {
          "name": "stderr",
          "output_type": "stream",
          "text": [
            "/tmp/ipykernel_2871/1829073378.py:8: DeprecationWarning: executable_path has been deprecated, please pass in a Service object\n",
            "  driver = webdriver.Chrome(\"./chromedriver.exe\")\n"
          ]
        },
        {
          "ename": "NoSuchElementException",
          "evalue": "Message: no such element: Unable to locate element: {\"method\":\"css selector\",\"selector\":\"[id=\"mainFrame\"]\"}\n  (Session info: chrome=108.0.5359.100)\nStacktrace:\nBacktrace:\n\t(No symbol) [0x0075F243]\n\t(No symbol) [0x006E7FD1]\n\t(No symbol) [0x005DD04D]\n\t(No symbol) [0x0060C0B0]\n\t(No symbol) [0x0060C22B]\n\t(No symbol) [0x0063E612]\n\t(No symbol) [0x006285D4]\n\t(No symbol) [0x0063C9EB]\n\t(No symbol) [0x00628386]\n\t(No symbol) [0x0060163C]\n\t(No symbol) [0x0060269D]\n\tGetHandleVerifier [0x009F9A22+2655074]\n\tGetHandleVerifier [0x009ECA24+2601828]\n\tGetHandleVerifier [0x00808C0A+619850]\n\tGetHandleVerifier [0x00807830+614768]\n\t(No symbol) [0x006F05FC]\n\t(No symbol) [0x006F5968]\n\t(No symbol) [0x006F5A55]\n\t(No symbol) [0x0070051B]\n\tBaseThreadInitThunk [0x76B4FEF9+25]\n\tRtlGetAppContainerNamedObjectPath [0x77877BBE+286]\n\tRtlGetAppContainerNamedObjectPath [0x77877B8E+238]\n",
          "output_type": "error",
          "traceback": [
            "\u001b[0;31m---------------------------------------------------------------------------\u001b[0m",
            "\u001b[0;31mNoSuchElementException\u001b[0m                    Traceback (most recent call last)",
            "Cell \u001b[0;32mIn[101], line 44\u001b[0m\n\u001b[1;32m     42\u001b[0m driver\u001b[39m.\u001b[39mfind_element(By\u001b[39m.\u001b[39mXPATH, \u001b[39m'\u001b[39m\u001b[39m//*[@id=\u001b[39m\u001b[39m\"\u001b[39m\u001b[39mcontainer\u001b[39m\u001b[39m\"\u001b[39m\u001b[39m]/div/aside/div/div[1]/nav/a[2]\u001b[39m\u001b[39m'\u001b[39m)\u001b[39m.\u001b[39mclick()\n\u001b[1;32m     43\u001b[0m \u001b[39mdivmod\u001b[39m\n\u001b[0;32m---> 44\u001b[0m frame \u001b[39m=\u001b[39m driver\u001b[39m.\u001b[39;49mfind_element(By\u001b[39m.\u001b[39;49mID, \u001b[39m\"\u001b[39;49m\u001b[39mmainFrame\u001b[39;49m\u001b[39m\"\u001b[39;49m) \n\u001b[1;32m     45\u001b[0m driver\u001b[39m.\u001b[39mswitch_to\u001b[39m.\u001b[39mframe(frame)\n\u001b[1;32m     46\u001b[0m time\u001b[39m.\u001b[39msleep(\u001b[39m2\u001b[39m)\n",
            "File \u001b[0;32m/mnt/c/Users/KOJUNSUNG/Desktop/lab/webcrawling/lib/python3.10/site-packages/selenium/webdriver/remote/webdriver.py:861\u001b[0m, in \u001b[0;36mWebDriver.find_element\u001b[0;34m(self, by, value)\u001b[0m\n\u001b[1;32m    858\u001b[0m     by \u001b[39m=\u001b[39m By\u001b[39m.\u001b[39mCSS_SELECTOR\n\u001b[1;32m    859\u001b[0m     value \u001b[39m=\u001b[39m \u001b[39m'\u001b[39m\u001b[39m[name=\u001b[39m\u001b[39m\"\u001b[39m\u001b[39m%s\u001b[39;00m\u001b[39m\"\u001b[39m\u001b[39m]\u001b[39m\u001b[39m'\u001b[39m \u001b[39m%\u001b[39m value\n\u001b[0;32m--> 861\u001b[0m \u001b[39mreturn\u001b[39;00m \u001b[39mself\u001b[39;49m\u001b[39m.\u001b[39;49mexecute(Command\u001b[39m.\u001b[39;49mFIND_ELEMENT, {\u001b[39m\"\u001b[39;49m\u001b[39musing\u001b[39;49m\u001b[39m\"\u001b[39;49m: by, \u001b[39m\"\u001b[39;49m\u001b[39mvalue\u001b[39;49m\u001b[39m\"\u001b[39;49m: value})[\u001b[39m\"\u001b[39m\u001b[39mvalue\u001b[39m\u001b[39m\"\u001b[39m]\n",
            "File \u001b[0;32m/mnt/c/Users/KOJUNSUNG/Desktop/lab/webcrawling/lib/python3.10/site-packages/selenium/webdriver/remote/webdriver.py:444\u001b[0m, in \u001b[0;36mWebDriver.execute\u001b[0;34m(self, driver_command, params)\u001b[0m\n\u001b[1;32m    442\u001b[0m response \u001b[39m=\u001b[39m \u001b[39mself\u001b[39m\u001b[39m.\u001b[39mcommand_executor\u001b[39m.\u001b[39mexecute(driver_command, params)\n\u001b[1;32m    443\u001b[0m \u001b[39mif\u001b[39;00m response:\n\u001b[0;32m--> 444\u001b[0m     \u001b[39mself\u001b[39;49m\u001b[39m.\u001b[39;49merror_handler\u001b[39m.\u001b[39;49mcheck_response(response)\n\u001b[1;32m    445\u001b[0m     response[\u001b[39m\"\u001b[39m\u001b[39mvalue\u001b[39m\u001b[39m\"\u001b[39m] \u001b[39m=\u001b[39m \u001b[39mself\u001b[39m\u001b[39m.\u001b[39m_unwrap_value(response\u001b[39m.\u001b[39mget(\u001b[39m\"\u001b[39m\u001b[39mvalue\u001b[39m\u001b[39m\"\u001b[39m, \u001b[39mNone\u001b[39;00m))\n\u001b[1;32m    446\u001b[0m     \u001b[39mreturn\u001b[39;00m response\n",
            "File \u001b[0;32m/mnt/c/Users/KOJUNSUNG/Desktop/lab/webcrawling/lib/python3.10/site-packages/selenium/webdriver/remote/errorhandler.py:249\u001b[0m, in \u001b[0;36mErrorHandler.check_response\u001b[0;34m(self, response)\u001b[0m\n\u001b[1;32m    247\u001b[0m         alert_text \u001b[39m=\u001b[39m value[\u001b[39m\"\u001b[39m\u001b[39malert\u001b[39m\u001b[39m\"\u001b[39m]\u001b[39m.\u001b[39mget(\u001b[39m\"\u001b[39m\u001b[39mtext\u001b[39m\u001b[39m\"\u001b[39m)\n\u001b[1;32m    248\u001b[0m     \u001b[39mraise\u001b[39;00m exception_class(message, screen, stacktrace, alert_text)  \u001b[39m# type: ignore[call-arg]  # mypy is not smart enough here\u001b[39;00m\n\u001b[0;32m--> 249\u001b[0m \u001b[39mraise\u001b[39;00m exception_class(message, screen, stacktrace)\n",
            "\u001b[0;31mNoSuchElementException\u001b[0m: Message: no such element: Unable to locate element: {\"method\":\"css selector\",\"selector\":\"[id=\"mainFrame\"]\"}\n  (Session info: chrome=108.0.5359.100)\nStacktrace:\nBacktrace:\n\t(No symbol) [0x0075F243]\n\t(No symbol) [0x006E7FD1]\n\t(No symbol) [0x005DD04D]\n\t(No symbol) [0x0060C0B0]\n\t(No symbol) [0x0060C22B]\n\t(No symbol) [0x0063E612]\n\t(No symbol) [0x006285D4]\n\t(No symbol) [0x0063C9EB]\n\t(No symbol) [0x00628386]\n\t(No symbol) [0x0060163C]\n\t(No symbol) [0x0060269D]\n\tGetHandleVerifier [0x009F9A22+2655074]\n\tGetHandleVerifier [0x009ECA24+2601828]\n\tGetHandleVerifier [0x00808C0A+619850]\n\tGetHandleVerifier [0x00807830+614768]\n\t(No symbol) [0x006F05FC]\n\t(No symbol) [0x006F5968]\n\t(No symbol) [0x006F5A55]\n\t(No symbol) [0x0070051B]\n\tBaseThreadInitThunk [0x76B4FEF9+25]\n\tRtlGetAppContainerNamedObjectPath [0x77877BBE+286]\n\tRtlGetAppContainerNamedObjectPath [0x77877B8E+238]\n"
          ]
        }
      ],
      "source": [
        "# 네이버 페이지에서 로그인 페이지로 이동하여 로그인까지 해봅시다.\n",
        "\n",
        "import getpass\n",
        "import pyperclip\n",
        "from selenium.webdriver.common.by import By\n",
        "from selenium.webdriver.common.keys import Keys\n",
        "\n",
        "driver = webdriver.Chrome(\"./chromedriver.exe\")\n",
        "driver.get('https://naver.com')\n",
        "\n",
        "# 네이버 로그인 화면 이동\n",
        "driver.find_element(By.XPATH, '//*[@id=\"account\"]/a').click()\n",
        "\n",
        "# 방법1 ip 보안 끄기\n",
        "# 방법2 pyperclip 을 이용해 id 복사후 붙여넣기 pw 복사후 붙여넣기 \n",
        "\n",
        "id_=getpass.getpass(\"id:\")\n",
        "pw_=getpass.getpass(\"Password:\")\n",
        "\n",
        "pyperclip.copy(id_)\n",
        "driver.find_element(By.NAME,\"id\").clear()\n",
        "driver.find_element(By.NAME, \"id\").click()\n",
        "driver.find_element(By.NAME, \"id\").send_keys(Keys.CONTROL, \"v\")\n",
        "#일반적인 키들(Keys모듈) 안에서 control v (붙여 넣기 실행)\n",
        "#키보드의 키를 컴퓨터에 전달하기 위해 사용함. send_keys(입력할 키)\n",
        "#ActionChains(driver).key_down(Keys.CONTROL).send_keys(\"v\").key_up(Keys.CONTROL).perform()\n",
        "time.sleep(2)\n",
        "\n",
        "pyperclip.copy(pw_)\n",
        "driver.find_element(By.NAME,\"pw\").clear()\n",
        "driver.find_element(By.NAME, \"pw\").click()\n",
        "driver.find_element(By.NAME, \"pw\").send_keys(Keys.CONTROL, \"v\")\n",
        "##ActionChains(driver).key_down(Keys.CONTROL).send_keys(\"v\").key_up(Keys.CONTROL).perform()\n",
        "time.sleep(2)\n",
        "driver.find_element(By.XPATH, '//*[@id=\"log.login\"]').click()\n",
        "\n",
        "\n",
        "\n",
        "#블로그 이동\n",
        "driver.find_element(By.XPATH, '//*[@id=\"NM_FAVORITE\"]/div[1]/ul[1]/li[3]/a').click()\n",
        "#글쓰기 버튼 클릭\n",
        "driver.find_element(By.XPATH, '//*[@id=\"container\"]/div/aside/div/div[1]/nav/a[2]').click()\n",
        "# 도움말 끄기\n",
        "driver.find_element(By.XPATH, '//*[@id=\"SE-6180bc36-11a1-4964-89a2-794cc01c5a2b\"]/div[1]/div/div[1]/article/div/header/button').click()\n",
        "#제목입력\n",
        "driver.find_element(By.XPATH, '//*[@id=\"SE-0d5855f4-0e4b-4ef9-93bf-102783351f88\"]').send_keys('나는 봇입니다.')\n",
        "#입력\n",
        "driver.find_element(By.XPATH, '//*[@id=\"SE-e9b4c4a1-8178-445e-b191-071dda0b5b63\"]').send_keys('AI의 반란')\n",
        "#발행키 클릭\n",
        "driver.find_element(By.XPATH, '//*[@id=\"root\"]/div/div[1]/div/div[3]/div[3]/button').click()\n",
        "#다시 발행키 클릭\n",
        "driver.find_element(By.XPATH, '//*[@id=\"root\"]/div/div[1]/div/div[3]/div[3]/div/div/div/div[8]/div/button').click()\n"
      ]
    },
    {
      "cell_type": "code",
      "execution_count": 94,
      "id": "6b2398a3",
      "metadata": {},
      "outputs": [
        {
          "name": "stdout",
          "output_type": "stream",
          "text": [
            "Collecting pyperclip\n",
            "  Downloading pyperclip-1.8.2.tar.gz (20 kB)\n",
            "  Preparing metadata (setup.py) ... \u001b[?25ldone\n",
            "\u001b[?25hUsing legacy 'setup.py install' for pyperclip, since package 'wheel' is not installed.\n",
            "Installing collected packages: pyperclip\n",
            "  Running setup.py install for pyperclip ... \u001b[?25ldone\n",
            "\u001b[?25hSuccessfully installed pyperclip-1.8.2\n"
          ]
        }
      ],
      "source": [
        "!pip install pyperclip"
      ]
    },
    {
      "cell_type": "code",
      "execution_count": 112,
      "id": "7d335822",
      "metadata": {},
      "outputs": [],
      "source": [
        "import pyperclip\n",
        "from selenium.webdriver.common.action_chains import ActionChains"
      ]
    },
    {
      "cell_type": "code",
      "execution_count": 113,
      "id": "e1de0d79",
      "metadata": {},
      "outputs": [],
      "source": [
        "#네이버 글을 입력해보세요. \n",
        "# 이것은 봇이 입력한 글입니다. 나는 봇입니다. \n",
        "import getpass\n",
        "import pyperclip\n",
        "from selenium.webdriver.common.by import By\n",
        "from selenium.webdriver.common.keys import Keys\n",
        "from selenium.webdriver.common.action_chains import ActionChains\n",
        "\n",
        "def posting():\n",
        "    driver=webdriver.Chrome(\"./chromedriver.exe\")\n",
        "    driver.get(\"https://blog.naver.com/rhwnstjd2004?Redirect=Write\")\n",
        "    time.sleep(1)\n",
        "    \n",
        "    id_=getpass.getpass(\"id:\")\n",
        "    pw_=getpass.getpass(\"Password:\")   \n",
        "\n",
        "    pyperclip.copy(id_)\n",
        "    driver.find_element(By.NAME,\"id\").clear()\n",
        "    driver.find_element(By.NAME, \"id\").click()\n",
        "    driver.find_element(By.NAME, \"id\").send_keys(Keys.CONTROL, \"v\")\n",
        "    #일반적인 키들(Keys모듈) 안에서 control v (붙여 넣기 실행)\n",
        "    #키보드의 키를 컴퓨터에 전달하기 위해 사용함. send_keys(입력할 키)\n",
        "    #ActionChains(driver).key_down(Keys.CONTROL).send_keys(\"v\").key_up(Keys.CONTROL).perform()\n",
        "    time.sleep(2)\n",
        "\n",
        "    pyperclip.copy(pw_)\n",
        "    driver.find_element(By.NAME,\"pw\").clear()\n",
        "    driver.find_element(By.NAME, \"pw\").click()\n",
        "    driver.find_element(By.NAME, \"pw\").send_keys(Keys.CONTROL, \"v\")\n",
        "    ##ActionChains(driver).key_down(Keys.CONTROL).send_keys(\"v\").key_up(Keys.CONTROL).perform()\n",
        "    time.sleep(2)\n",
        "    driver.find_element(By.XPATH, '//*[@id=\"log.login\"]').click()\n",
        "    ##여기까지가 로그인\n",
        "    \n",
        "    \n",
        "    frame = driver.find_element(By.ID, \"mainFrame\") #제일 큰 창, 프레임부터 선택\n",
        "    driver.switch_to.frame(frame) \n",
        "\"\"\"Frame 은... 웹페이지 html 내에  다른 html 을 구겨넣은(?) 거라고 생각하시면 좋을 것 같네요. \n",
        "\n",
        "단칸 방인줄 알고 들어갔는데.... 방이 들어가 있는거죠.\n",
        "이런 프레임을 살펴보려면 아래 명령어를 사용해주세요.\n",
        "# 프레임 살펴보기\n",
        "iframes = driver.find_elements_by_css_selector('iframe')\n",
        "for iframe in iframes:\n",
        "    print(iframe.get_attribute('name'))\n",
        "\n",
        "확인된 프레임으로 전환하려면 driver.switch_to.frame('프레임이름')\n",
        "\"\"\"\n",
        "    time.sleep(2)\n",
        "    \n",
        "    try:\n",
        "        cancel = driver.find_element(By.CSS_SELECTOR, '.se-popup-button.se-popup-button-cancel')\n",
        "        if cancel:\n",
        "            cancel.click()\n",
        "    except:\n",
        "        pass\n",
        "        #도움말 버튼이 나오면 꺼라. 나오지 않는다면 패스.\n",
        "\n",
        "    title = driver.find_element(By.CSS_SELECTOR, '.se-placeholder.__se_placeholder.se-fs32')\n",
        "    action = ActionChains(driver) #간단한 행동 모음집.\n",
        "    postTitle = '안녕하세요 봇입니다2.'\n",
        "    action.move_to_element(title).pause(1).click().send_keys(postTitle).perform() #클릭 후 제목 입력\n",
        "    action.reset_actions() #액션 목록 초기화\n",
        "    print(\"제목 작성 완료\")\n",
        "\n",
        "    description = driver.find_element(By.CSS_SELECTOR, '.se-component.se-text.se-l-default')\n",
        "    description.click() #내용칸을 클릭해 놓는다. 미리 지정.\n",
        "    action = ActionChains(driver)\n",
        "    postDescription = \"이것은 봇이 입력한 글입니다.\"\n",
        "    action.send_keys(postDescription).pause(1).send_keys(Keys.ENTER).send_keys(Keys.ENTER).perform() \n",
        "    #봇이 입력했다고 친 뒤에 엔터 두번 입력. perform은 설계한 객체를 실행할 때 나오는 코드인데...위와 왜 다를까?\n",
        "    #위는 동시에 이루어지고, 해당 명령은 내용 입력 후 엔터 후 엔터. 즉 연속해서 이루어지기 때문이다.\n",
        "    #driver.find_element(By.NAME, \"pw\").send_keys(Keys.CONTROL, \"v\") 이건 control 키를 누르면서 v를 누르라는 코드. 동시에 누르므로 간략히 축약할 수 있지만 본 명령은 그렇지 않다.\n",
        "    #ActionChains(driver).key_down(Keys.CONTROL).send_keys(\"v\").key_up(Keys.CONTROL).perform() \n",
        "    #-->컨트롤 키를 누르고 있어라. 그 다음 v를 누르고, 컨트롤 키를 떼라. 이런 action 을 실행해라.를  쉼표(,)를 사용하여 한번의 명령어로 나타낸 것.\n",
        "    action.reset_actions()\n",
        "    time.sleep(.5)\n",
        "    print(\"내용 작성 완료\")\n",
        "\n",
        "    cancle = driver.find_element(By.CSS_SELECTOR, '.se-help-panel-close-button')\n",
        "    cancle.click()\n",
        "\n",
        "    send = driver.find_element(By.CSS_SELECTOR, '.text__qXtkF')\n",
        "    send.click()\n",
        "\n",
        "    time.sleep(1)\n",
        "    post = driver.find_elements(By.TAG_NAME, \"button\")[8]\n",
        "    post.click()"
      ]
    },
    {
      "cell_type": "code",
      "execution_count": 114,
      "id": "43e15c2b",
      "metadata": {},
      "outputs": [
        {
          "name": "stderr",
          "output_type": "stream",
          "text": [
            "/tmp/ipykernel_2871/970960855.py:4: DeprecationWarning: executable_path has been deprecated, please pass in a Service object\n",
            "  driver=webdriver.Chrome(\"./chromedriver.exe\")\n"
          ]
        },
        {
          "name": "stdout",
          "output_type": "stream",
          "text": [
            "제목 작성 완료\n",
            "내용 작성 완료\n"
          ]
        }
      ],
      "source": [
        "posting()"
      ]
    },
    {
      "cell_type": "code",
      "execution_count": null,
      "id": "ae8be5ed",
      "metadata": {},
      "outputs": [],
      "source": []
    }
  ],
  "metadata": {
    "colab": {
      "provenance": []
    },
    "kernelspec": {
      "display_name": "webcrawling",
      "language": "python",
      "name": "python3"
    },
    "language_info": {
      "codemirror_mode": {
        "name": "ipython",
        "version": 3
      },
      "file_extension": ".py",
      "mimetype": "text/x-python",
      "name": "python",
      "nbconvert_exporter": "python",
      "pygments_lexer": "ipython3",
      "version": "3.10.6"
    },
    "vscode": {
      "interpreter": {
        "hash": "895a5b45eefb186b1a625da09cf7d2a81684abfce6cd20dfc2b3c93836a9c5fe"
      }
    }
  },
  "nbformat": 4,
  "nbformat_minor": 5
}
