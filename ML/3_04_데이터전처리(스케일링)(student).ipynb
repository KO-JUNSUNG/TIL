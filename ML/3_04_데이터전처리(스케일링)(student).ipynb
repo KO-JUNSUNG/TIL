{
  "cells": [
    {
      "cell_type": "code",
      "execution_count": 1,
      "metadata": {
        "id": "ahsoOMjLswtf"
      },
      "outputs": [],
      "source": [
        "import pandas as pd\n",
        "import numpy as np\n",
        "import seaborn as sns\n",
        "from sklearn.preprocessing import OneHotEncoder\n",
        "\n",
        "df = sns.load_dataset(\"titanic\")"
      ]
    },
    {
      "cell_type": "code",
      "execution_count": 2,
      "metadata": {
        "id": "uQmoRURGuC3c"
      },
      "outputs": [],
      "source": [
        "df = df.reset_index(drop=True)"
      ]
    },
    {
      "cell_type": "code",
      "execution_count": 3,
      "metadata": {
        "id": "gcqVqkgiuKCo"
      },
      "outputs": [],
      "source": [
        "cols = [\"pclass\",\t\"sex\",\t\"age\",\t\"sibsp\",\t\"parch\",\t\"fare\",\t\"embarked\"]\n",
        "x = df[cols]"
      ]
    },
    {
      "cell_type": "markdown",
      "metadata": {
        "id": "fvV1BoEwwGjc"
      },
      "source": [
        "- Survived : 0 = 사망, 1 = 생존\n",
        "- Pclass : 1 = 1등석, 2 = 2등석, 3 = 3등석\n",
        "- Sex : male = 남성, female = 여성\n",
        "- Age : 나이\n",
        "- SibSp : 타이타닉 호에 동승한 자매 / 배우자의 수\n",
        "- Parch : 타이타닉 호에 동승한 부모 / 자식의 수\n",
        "- Ticket : 티켓 번호\n",
        "- Fare : 승객 요금\n",
        "- Cabin : 방 호수\n",
        "- Embarked : 탑승지, C = 셰르부르, Q = 퀸즈타운, S = 사우샘프턴"
      ]
    },
    {
      "cell_type": "code",
      "execution_count": null,
      "metadata": {
        "id": "iZZCXXsswGjd",
        "outputId": "e5f8e3e9-22cc-4aa9-a75d-eb10c2fdeee6"
      },
      "outputs": [
        {
          "name": "stdout",
          "output_type": "stream",
          "text": [
            "<class 'pandas.core.frame.DataFrame'>\n",
            "RangeIndex: 891 entries, 0 to 890\n",
            "Data columns (total 7 columns):\n",
            " #   Column    Non-Null Count  Dtype  \n",
            "---  ------    --------------  -----  \n",
            " 0   pclass    891 non-null    int64  \n",
            " 1   sex       891 non-null    object \n",
            " 2   age       714 non-null    float64\n",
            " 3   sibsp     891 non-null    int64  \n",
            " 4   parch     891 non-null    int64  \n",
            " 5   fare      891 non-null    float64\n",
            " 6   embarked  889 non-null    object \n",
            "dtypes: float64(2), int64(3), object(2)\n",
            "memory usage: 48.9+ KB\n"
          ]
        }
      ],
      "source": [
        "x.info()"
      ]
    },
    {
      "cell_type": "markdown",
      "metadata": {
        "id": "dSRte194uJ-k"
      },
      "source": [
        "# 결측치(Missing Value)\n"
      ]
    },
    {
      "cell_type": "code",
      "execution_count": null,
      "metadata": {
        "colab": {
          "base_uri": "https://localhost:8080/"
        },
        "id": "EWSagH5WuJ79",
        "outputId": "de4a4c64-fda5-4f46-c2d7-4f7dcedbf70f"
      },
      "outputs": [
        {
          "name": "stdout",
          "output_type": "stream",
          "text": [
            "<class 'pandas.core.frame.DataFrame'>\n",
            "RangeIndex: 891 entries, 0 to 890\n",
            "Data columns (total 7 columns):\n",
            " #   Column    Non-Null Count  Dtype  \n",
            "---  ------    --------------  -----  \n",
            " 0   pclass    891 non-null    int64  \n",
            " 1   sex       891 non-null    object \n",
            " 2   age       714 non-null    float64\n",
            " 3   sibsp     891 non-null    int64  \n",
            " 4   parch     891 non-null    int64  \n",
            " 5   fare      891 non-null    float64\n",
            " 6   embarked  889 non-null    object \n",
            "dtypes: float64(2), int64(3), object(2)\n",
            "memory usage: 48.9+ KB\n"
          ]
        }
      ],
      "source": [
        "x.info()"
      ]
    },
    {
      "cell_type": "markdown",
      "metadata": {
        "id": "KLv9t74NuJ5U"
      },
      "source": [
        "## 통계치를 이용하여 결측값 채우기\n"
      ]
    },
    {
      "cell_type": "markdown",
      "metadata": {
        "id": "-UOU6LzTuJ3e"
      },
      "source": [
        "### Pandas 메소드를 이용한 방법\n"
      ]
    },
    {
      "cell_type": "code",
      "execution_count": 4,
      "metadata": {
        "colab": {
          "base_uri": "https://localhost:8080/"
        },
        "id": "EYmF2KrTuJzt",
        "outputId": "167eda6d-79a0-4ee5-924c-fdd8705c9d5e"
      },
      "outputs": [
        {
          "name": "stderr",
          "output_type": "stream",
          "text": [
            "C:\\Users\\KOJUNSUNG\\AppData\\Local\\Temp\\ipykernel_22368\\3605151700.py:2: SettingWithCopyWarning: \n",
            "A value is trying to be set on a copy of a slice from a DataFrame\n",
            "\n",
            "See the caveats in the documentation: https://pandas.pydata.org/pandas-docs/stable/user_guide/indexing.html#returning-a-view-versus-a-copy\n",
            "  x[\"age\"].fillna(age_median, inplace=True)\n"
          ]
        }
      ],
      "source": [
        "age_median = x[\"age\"].median()\n",
        "x[\"age\"].fillna(age_median, inplace=True)"
      ]
    },
    {
      "cell_type": "code",
      "execution_count": 5,
      "metadata": {
        "colab": {
          "base_uri": "https://localhost:8080/"
        },
        "id": "c5ChtstH6MiF",
        "outputId": "7301e490-70f5-45d0-addd-370b86fad1b5"
      },
      "outputs": [
        {
          "name": "stderr",
          "output_type": "stream",
          "text": [
            "C:\\Users\\KOJUNSUNG\\AppData\\Local\\Temp\\ipykernel_22368\\3123882648.py:1: SettingWithCopyWarning: \n",
            "A value is trying to be set on a copy of a slice from a DataFrame\n",
            "\n",
            "See the caveats in the documentation: https://pandas.pydata.org/pandas-docs/stable/user_guide/indexing.html#returning-a-view-versus-a-copy\n",
            "  x[\"embarked\"].fillna( method='ffill', inplace=True)\n"
          ]
        }
      ],
      "source": [
        "x[\"embarked\"].fillna( method='ffill', inplace=True)"
      ]
    },
    {
      "cell_type": "code",
      "execution_count": null,
      "metadata": {
        "colab": {
          "base_uri": "https://localhost:8080/",
          "height": 562
        },
        "id": "Qs0XpPm86MgQ",
        "outputId": "c533b703-a661-45db-e05f-28c34de3b45d"
      },
      "outputs": [
        {
          "name": "stdout",
          "output_type": "stream",
          "text": [
            "<class 'pandas.core.frame.DataFrame'>\n",
            "RangeIndex: 891 entries, 0 to 890\n",
            "Data columns (total 7 columns):\n",
            " #   Column    Non-Null Count  Dtype  \n",
            "---  ------    --------------  -----  \n",
            " 0   pclass    891 non-null    int64  \n",
            " 1   sex       891 non-null    object \n",
            " 2   age       891 non-null    float64\n",
            " 3   sibsp     891 non-null    int64  \n",
            " 4   parch     891 non-null    int64  \n",
            " 5   fare      891 non-null    float64\n",
            " 6   embarked  891 non-null    object \n",
            "dtypes: float64(2), int64(3), object(2)\n",
            "memory usage: 48.9+ KB\n"
          ]
        }
      ],
      "source": [
        "x.info()"
      ]
    },
    {
      "cell_type": "markdown",
      "metadata": {
        "id": "ededoddxwGjg"
      },
      "source": [
        "# Encoding"
      ]
    },
    {
      "cell_type": "markdown",
      "metadata": {
        "id": "3H7e3Rc76Md-"
      },
      "source": [
        "- 범주형 인코딩"
      ]
    },
    {
      "cell_type": "markdown",
      "metadata": {
        "id": "7FlwVyKmAgk0"
      },
      "source": [
        "![image.png](attachment:image.png)"
      ]
    },
    {
      "cell_type": "code",
      "execution_count": 6,
      "metadata": {
        "id": "0dZlV-uxwGjg"
      },
      "outputs": [],
      "source": [
        "from sklearn.preprocessing import LabelEncoder, OneHotEncoder\n",
        "import numpy as np\n",
        "\n",
        "items = ['사과', '딸기', '포도', '배', '망고', '망고', '바나나', '바나나']"
      ]
    },
    {
      "cell_type": "code",
      "execution_count": null,
      "metadata": {
        "id": "jMSDpMAUwGjg",
        "outputId": "c669ca53-9ae0-4639-b067-a5d0ed59442b"
      },
      "outputs": [
        {
          "name": "stdout",
          "output_type": "stream",
          "text": [
            "Label tranform :  [4 0 5 3 1 1 2 2]\n",
            "Encoding Class :  ['딸기' '망고' '바나나' '배' '사과' '포도']\n",
            "Inverse Transform :  ['딸기' '망고' '사과' '포도' '배' '배' '바나나' '바나나']\n"
          ]
        }
      ],
      "source": [
        "\n",
        "#LabelEncoder를 객체로 생성한 후 fit()과 transform()으로 레이블 인코딩 수행\n",
        "encoder = LabelEncoder() # 1. 객체 생성\n",
        "encoder.fit(items) # 객체 fit : encoding 대상에 대해 fit\n",
        "labels = encoder.transform(items)\n",
        "print('Label tranform : ', labels)\n",
        "print('Encoding Class : ', encoder.classes_)\n",
        "print('Inverse Transform : ', encoder.inverse_transform([0, 1, 4, 5, 3, 3, 2, 2]))"
      ]
    },
    {
      "cell_type": "code",
      "execution_count": null,
      "metadata": {
        "id": "6EiMJm5fwGjh"
      },
      "outputs": [],
      "source": [
        "# fit + transform = fit_transform\n",
        "encoder = LabelEncoder()\n",
        "encoder.fit_transform(items)"
      ]
    },
    {
      "cell_type": "code",
      "execution_count": null,
      "metadata": {
        "id": "oeskoD4nwGjh",
        "outputId": "4359bffd-8dc0-4946-8d8a-71a9f656de1a"
      },
      "outputs": [
        {
          "name": "stdout",
          "output_type": "stream",
          "text": [
            "Label encoder\n",
            "[4 0 5 3 1 1 2 2]\n"
          ]
        }
      ],
      "source": [
        "\n",
        "#OneHotEncoder 사용\n",
        "#먼저 숫자값으로 변환을 위해 LabelEncoder로 변환\n",
        "print('Label encoder')\n",
        "encoder = LabelEncoder()\n",
        "encoder.fit(items)\n",
        "labels = encoder.transform(items)\n",
        "print(labels)"
      ]
    },
    {
      "cell_type": "code",
      "execution_count": null,
      "metadata": {
        "id": "ZFDfdMuCwGjh",
        "outputId": "324eecba-3bfd-4d57-dc34-4558a11d97cd"
      },
      "outputs": [
        {
          "name": "stdout",
          "output_type": "stream",
          "text": [
            "[[4]\n",
            " [0]\n",
            " [5]\n",
            " [3]\n",
            " [1]\n",
            " [1]\n",
            " [2]\n",
            " [2]]\n"
          ]
        }
      ],
      "source": [
        "#2차원 데이터로 변환\n",
        "labels = labels.reshape(-1,1)\n",
        "print(labels)\n"
      ]
    },
    {
      "cell_type": "code",
      "execution_count": null,
      "metadata": {
        "id": "CQPLZARlwGjh",
        "outputId": "40cac72b-c462-4ae1-ac08-5aa5f67eb9ef"
      },
      "outputs": [
        {
          "name": "stdout",
          "output_type": "stream",
          "text": [
            "원핫 인코딩 데이터\n",
            "[[0. 0. 0. 0. 1. 0.]\n",
            " [1. 0. 0. 0. 0. 0.]\n",
            " [0. 0. 0. 0. 0. 1.]\n",
            " [0. 0. 0. 1. 0. 0.]\n",
            " [0. 1. 0. 0. 0. 0.]\n",
            " [0. 1. 0. 0. 0. 0.]\n",
            " [0. 0. 1. 0. 0. 0.]\n",
            " [0. 0. 1. 0. 0. 0.]]\n",
            "원핫 인코딩 데이터 차원\n",
            "(8, 6)\n"
          ]
        }
      ],
      "source": [
        "oh_encoder = OneHotEncoder()\n",
        "oh_encoder.fit(labels)\n",
        "oh_labels = oh_encoder.transform(labels)\n",
        "print('원핫 인코딩 데이터')\n",
        "print(oh_labels.toarray())\n",
        "print('원핫 인코딩 데이터 차원')\n",
        "print(oh_labels.shape)"
      ]
    },
    {
      "cell_type": "markdown",
      "metadata": {
        "id": "DT85NRsx6Mbt"
      },
      "source": [
        "- label encoding\n",
        "    - 범주형 변수의 N개 종류의 값들을 0 에서 n-1 값으로 숫자를 부여하는 인코딩이다."
      ]
    },
    {
      "cell_type": "code",
      "execution_count": 7,
      "metadata": {
        "id": "Zerch7TuwGjh"
      },
      "outputs": [
        {
          "name": "stderr",
          "output_type": "stream",
          "text": [
            "C:\\Users\\KOJUNSUNG\\AppData\\Local\\Temp\\ipykernel_22368\\4246121687.py:3: SettingWithCopyWarning: \n",
            "A value is trying to be set on a copy of a slice from a DataFrame.\n",
            "Try using .loc[row_indexer,col_indexer] = value instead\n",
            "\n",
            "See the caveats in the documentation: https://pandas.pydata.org/pandas-docs/stable/user_guide/indexing.html#returning-a-view-versus-a-copy\n",
            "  x[\"embarked\"] = enc.fit_transform(x[\"embarked\"])\n"
          ]
        }
      ],
      "source": [
        "# embarked 에 label encoding 을 적용해 보자 x[\"embarked\"] 에 적용\n",
        "enc = LabelEncoder()\n",
        "x[\"embarked\"] = enc.fit_transform(x[\"embarked\"])"
      ]
    },
    {
      "cell_type": "code",
      "execution_count": 8,
      "metadata": {},
      "outputs": [
        {
          "data": {
            "text/plain": [
              "0    2\n",
              "1    0\n",
              "2    2\n",
              "3    2\n",
              "4    2\n",
              "Name: embarked, dtype: int32"
            ]
          },
          "execution_count": 8,
          "metadata": {},
          "output_type": "execute_result"
        }
      ],
      "source": [
        "x.embarked.head()"
      ]
    },
    {
      "cell_type": "code",
      "execution_count": 11,
      "metadata": {
        "id": "mCM2deTpwGji",
        "outputId": "079f52f7-5ccf-4ce6-8328-cad00964e478"
      },
      "outputs": [],
      "source": [
        "# sex에 one hot encoding 을 적용해 보자.  x[[\"male\",\"female\"]] 에 적용\n",
        "# del x[\"sex\"]\n",
        "# male female\n",
        "#  0     1\n",
        "# https://scikit-learn.org/stable/modules/generated/sklearn.preprocessing.OneHotEncoder.html\n",
        "ohe = OneHotEncoder(sparse=False)\n",
        "# ohe.fit(x[['sex']])\n",
        "ohe_encoded = ohe.fit_transform(x[['sex']]) #sex column(=feature) 에 대하여 원핫인코딩을 적용. \n",
        "ohe_encoded_df = pd.DataFrame(ohe_encoded , columns=ohe.categories_[0]) #categories 에 적용전 column 정보가 남아있음\n",
        "x = pd.concat([x, ohe_encoded_df], axis =1)"
      ]
    },
    {
      "cell_type": "code",
      "execution_count": 12,
      "metadata": {},
      "outputs": [
        {
          "data": {
            "text/html": [
              "<div>\n",
              "<style scoped>\n",
              "    .dataframe tbody tr th:only-of-type {\n",
              "        vertical-align: middle;\n",
              "    }\n",
              "\n",
              "    .dataframe tbody tr th {\n",
              "        vertical-align: top;\n",
              "    }\n",
              "\n",
              "    .dataframe thead th {\n",
              "        text-align: right;\n",
              "    }\n",
              "</style>\n",
              "<table border=\"1\" class=\"dataframe\">\n",
              "  <thead>\n",
              "    <tr style=\"text-align: right;\">\n",
              "      <th></th>\n",
              "      <th>pclass</th>\n",
              "      <th>sex</th>\n",
              "      <th>age</th>\n",
              "      <th>sibsp</th>\n",
              "      <th>parch</th>\n",
              "      <th>fare</th>\n",
              "      <th>embarked</th>\n",
              "      <th>female</th>\n",
              "      <th>male</th>\n",
              "    </tr>\n",
              "  </thead>\n",
              "  <tbody>\n",
              "    <tr>\n",
              "      <th>0</th>\n",
              "      <td>3</td>\n",
              "      <td>male</td>\n",
              "      <td>22.0</td>\n",
              "      <td>1</td>\n",
              "      <td>0</td>\n",
              "      <td>7.2500</td>\n",
              "      <td>2</td>\n",
              "      <td>0.0</td>\n",
              "      <td>1.0</td>\n",
              "    </tr>\n",
              "    <tr>\n",
              "      <th>1</th>\n",
              "      <td>1</td>\n",
              "      <td>female</td>\n",
              "      <td>38.0</td>\n",
              "      <td>1</td>\n",
              "      <td>0</td>\n",
              "      <td>71.2833</td>\n",
              "      <td>0</td>\n",
              "      <td>1.0</td>\n",
              "      <td>0.0</td>\n",
              "    </tr>\n",
              "    <tr>\n",
              "      <th>2</th>\n",
              "      <td>3</td>\n",
              "      <td>female</td>\n",
              "      <td>26.0</td>\n",
              "      <td>0</td>\n",
              "      <td>0</td>\n",
              "      <td>7.9250</td>\n",
              "      <td>2</td>\n",
              "      <td>1.0</td>\n",
              "      <td>0.0</td>\n",
              "    </tr>\n",
              "    <tr>\n",
              "      <th>3</th>\n",
              "      <td>1</td>\n",
              "      <td>female</td>\n",
              "      <td>35.0</td>\n",
              "      <td>1</td>\n",
              "      <td>0</td>\n",
              "      <td>53.1000</td>\n",
              "      <td>2</td>\n",
              "      <td>1.0</td>\n",
              "      <td>0.0</td>\n",
              "    </tr>\n",
              "    <tr>\n",
              "      <th>4</th>\n",
              "      <td>3</td>\n",
              "      <td>male</td>\n",
              "      <td>35.0</td>\n",
              "      <td>0</td>\n",
              "      <td>0</td>\n",
              "      <td>8.0500</td>\n",
              "      <td>2</td>\n",
              "      <td>0.0</td>\n",
              "      <td>1.0</td>\n",
              "    </tr>\n",
              "  </tbody>\n",
              "</table>\n",
              "</div>"
            ],
            "text/plain": [
              "   pclass     sex   age  sibsp  parch     fare  embarked  female  male\n",
              "0       3    male  22.0      1      0   7.2500         2     0.0   1.0\n",
              "1       1  female  38.0      1      0  71.2833         0     1.0   0.0\n",
              "2       3  female  26.0      0      0   7.9250         2     1.0   0.0\n",
              "3       1  female  35.0      1      0  53.1000         2     1.0   0.0\n",
              "4       3    male  35.0      0      0   8.0500         2     0.0   1.0"
            ]
          },
          "execution_count": 12,
          "metadata": {},
          "output_type": "execute_result"
        }
      ],
      "source": [
        "x.head()"
      ]
    },
    {
      "cell_type": "code",
      "execution_count": 15,
      "metadata": {},
      "outputs": [
        {
          "data": {
            "text/plain": [
              "[array(['female', 'male'], dtype=object)]"
            ]
          },
          "execution_count": 15,
          "metadata": {},
          "output_type": "execute_result"
        }
      ],
      "source": [
        "ohe.categories_"
      ]
    },
    {
      "cell_type": "code",
      "execution_count": 10,
      "metadata": {},
      "outputs": [
        {
          "data": {
            "text/plain": [
              "array([[0., 1.],\n",
              "       [1., 0.],\n",
              "       [1., 0.],\n",
              "       ...,\n",
              "       [1., 0.],\n",
              "       [0., 1.],\n",
              "       [0., 1.]])"
            ]
          },
          "execution_count": 10,
          "metadata": {},
          "output_type": "execute_result"
        }
      ],
      "source": [
        "ohe_encoded"
      ]
    },
    {
      "cell_type": "code",
      "execution_count": 21,
      "metadata": {
        "id": "-Um_8yOSwGji",
        "outputId": "27dc2715-406d-43fe-c89f-b4b88faa48c7"
      },
      "outputs": [
        {
          "data": {
            "text/html": [
              "<div>\n",
              "<style scoped>\n",
              "    .dataframe tbody tr th:only-of-type {\n",
              "        vertical-align: middle;\n",
              "    }\n",
              "\n",
              "    .dataframe tbody tr th {\n",
              "        vertical-align: top;\n",
              "    }\n",
              "\n",
              "    .dataframe thead th {\n",
              "        text-align: right;\n",
              "    }\n",
              "</style>\n",
              "<table border=\"1\" class=\"dataframe\">\n",
              "  <thead>\n",
              "    <tr style=\"text-align: right;\">\n",
              "      <th></th>\n",
              "      <th>pclass</th>\n",
              "      <th>age</th>\n",
              "      <th>sibsp</th>\n",
              "      <th>parch</th>\n",
              "      <th>fare</th>\n",
              "      <th>embarked</th>\n",
              "      <th>female</th>\n",
              "      <th>male</th>\n",
              "    </tr>\n",
              "  </thead>\n",
              "  <tbody>\n",
              "    <tr>\n",
              "      <th>0</th>\n",
              "      <td>3</td>\n",
              "      <td>22.0</td>\n",
              "      <td>1</td>\n",
              "      <td>0</td>\n",
              "      <td>7.2500</td>\n",
              "      <td>2</td>\n",
              "      <td>0.0</td>\n",
              "      <td>1.0</td>\n",
              "    </tr>\n",
              "    <tr>\n",
              "      <th>1</th>\n",
              "      <td>1</td>\n",
              "      <td>38.0</td>\n",
              "      <td>1</td>\n",
              "      <td>0</td>\n",
              "      <td>71.2833</td>\n",
              "      <td>0</td>\n",
              "      <td>1.0</td>\n",
              "      <td>0.0</td>\n",
              "    </tr>\n",
              "    <tr>\n",
              "      <th>2</th>\n",
              "      <td>3</td>\n",
              "      <td>26.0</td>\n",
              "      <td>0</td>\n",
              "      <td>0</td>\n",
              "      <td>7.9250</td>\n",
              "      <td>2</td>\n",
              "      <td>1.0</td>\n",
              "      <td>0.0</td>\n",
              "    </tr>\n",
              "    <tr>\n",
              "      <th>3</th>\n",
              "      <td>1</td>\n",
              "      <td>35.0</td>\n",
              "      <td>1</td>\n",
              "      <td>0</td>\n",
              "      <td>53.1000</td>\n",
              "      <td>2</td>\n",
              "      <td>1.0</td>\n",
              "      <td>0.0</td>\n",
              "    </tr>\n",
              "    <tr>\n",
              "      <th>4</th>\n",
              "      <td>3</td>\n",
              "      <td>35.0</td>\n",
              "      <td>0</td>\n",
              "      <td>0</td>\n",
              "      <td>8.0500</td>\n",
              "      <td>2</td>\n",
              "      <td>0.0</td>\n",
              "      <td>1.0</td>\n",
              "    </tr>\n",
              "  </tbody>\n",
              "</table>\n",
              "</div>"
            ],
            "text/plain": [
              "   pclass   age  sibsp  parch     fare  embarked  female  male\n",
              "0       3  22.0      1      0   7.2500         2     0.0   1.0\n",
              "1       1  38.0      1      0  71.2833         0     1.0   0.0\n",
              "2       3  26.0      0      0   7.9250         2     1.0   0.0\n",
              "3       1  35.0      1      0  53.1000         2     1.0   0.0\n",
              "4       3  35.0      0      0   8.0500         2     0.0   1.0"
            ]
          },
          "execution_count": 21,
          "metadata": {},
          "output_type": "execute_result"
        }
      ],
      "source": [
        "del x[\"sex\"]\n",
        "x.head()"
      ]
    },
    {
      "cell_type": "markdown",
      "metadata": {
        "id": "R3LjDWKg6MTl"
      },
      "source": [
        "- Ordinal encoding\n",
        "    - 순서형 변수에 매우 적합한 인코딩 방식\n",
        "    "
      ]
    },
    {
      "cell_type": "code",
      "execution_count": null,
      "metadata": {
        "id": "0NEtyXqq-Xu2"
      },
      "outputs": [],
      "source": [
        "# target encoding # 정답값에 비율을 인코딩하는 것 , 정답값을 이용해서 피쳐를 만드는거라고 보면됨 "
      ]
    },
    {
      "cell_type": "code",
      "execution_count": null,
      "metadata": {
        "id": "UDvbNWrRwGji",
        "outputId": "ff6aeaeb-6182-446e-842e-b28b45199683"
      },
      "outputs": [
        {
          "data": {
            "text/plain": [
              "0      3\n",
              "1      1\n",
              "2      3\n",
              "3      1\n",
              "4      3\n",
              "      ..\n",
              "886    2\n",
              "887    1\n",
              "888    3\n",
              "889    1\n",
              "890    3\n",
              "Name: pclass, Length: 891, dtype: int64"
            ]
          },
          "execution_count": 21,
          "metadata": {},
          "output_type": "execute_result"
        }
      ],
      "source": [
        "x[\"pclass\"]"
      ]
    },
    {
      "cell_type": "code",
      "execution_count": 22,
      "metadata": {
        "colab": {
          "base_uri": "https://localhost:8080/"
        },
        "id": "19wAdSNm6MRd",
        "outputId": "e8f80079-2d42-4346-a65d-bf82e228ebd3"
      },
      "outputs": [
        {
          "data": {
            "text/plain": [
              "0      2\n",
              "1      0\n",
              "2      2\n",
              "3      0\n",
              "4      2\n",
              "      ..\n",
              "886    1\n",
              "887    0\n",
              "888    2\n",
              "889    0\n",
              "890    2\n",
              "Name: pclass, Length: 891, dtype: int64"
            ]
          },
          "execution_count": 22,
          "metadata": {},
          "output_type": "execute_result"
        }
      ],
      "source": [
        "ordinal_dict = {\n",
        "    1 : 0,\n",
        "    2 : 1,\n",
        "    3 : 2\n",
        "}\n",
        "x[\"pclass\"].map(ordinal_dict)"
      ]
    },
    {
      "cell_type": "code",
      "execution_count": 23,
      "metadata": {
        "id": "ZCAWN91KwGjj"
      },
      "outputs": [],
      "source": [
        "x[\"pclass\"] = x[\"pclass\"].map(ordinal_dict)"
      ]
    },
    {
      "cell_type": "code",
      "execution_count": null,
      "metadata": {
        "id": "RnjdXpOswGjj",
        "outputId": "7938172e-8ade-49ef-acb1-eef52c174a3e"
      },
      "outputs": [
        {
          "data": {
            "text/html": [
              "<div>\n",
              "<style scoped>\n",
              "    .dataframe tbody tr th:only-of-type {\n",
              "        vertical-align: middle;\n",
              "    }\n",
              "\n",
              "    .dataframe tbody tr th {\n",
              "        vertical-align: top;\n",
              "    }\n",
              "\n",
              "    .dataframe thead th {\n",
              "        text-align: right;\n",
              "    }\n",
              "</style>\n",
              "<table border=\"1\" class=\"dataframe\">\n",
              "  <thead>\n",
              "    <tr style=\"text-align: right;\">\n",
              "      <th></th>\n",
              "      <th>pclass</th>\n",
              "      <th>sex</th>\n",
              "      <th>age</th>\n",
              "      <th>sibsp</th>\n",
              "      <th>parch</th>\n",
              "      <th>fare</th>\n",
              "      <th>embarked</th>\n",
              "    </tr>\n",
              "  </thead>\n",
              "  <tbody>\n",
              "    <tr>\n",
              "      <th>0</th>\n",
              "      <td>2</td>\n",
              "      <td>male</td>\n",
              "      <td>22.0</td>\n",
              "      <td>1</td>\n",
              "      <td>0</td>\n",
              "      <td>7.2500</td>\n",
              "      <td>2</td>\n",
              "    </tr>\n",
              "    <tr>\n",
              "      <th>1</th>\n",
              "      <td>0</td>\n",
              "      <td>female</td>\n",
              "      <td>38.0</td>\n",
              "      <td>1</td>\n",
              "      <td>0</td>\n",
              "      <td>71.2833</td>\n",
              "      <td>0</td>\n",
              "    </tr>\n",
              "    <tr>\n",
              "      <th>2</th>\n",
              "      <td>2</td>\n",
              "      <td>female</td>\n",
              "      <td>26.0</td>\n",
              "      <td>0</td>\n",
              "      <td>0</td>\n",
              "      <td>7.9250</td>\n",
              "      <td>2</td>\n",
              "    </tr>\n",
              "    <tr>\n",
              "      <th>3</th>\n",
              "      <td>0</td>\n",
              "      <td>female</td>\n",
              "      <td>35.0</td>\n",
              "      <td>1</td>\n",
              "      <td>0</td>\n",
              "      <td>53.1000</td>\n",
              "      <td>2</td>\n",
              "    </tr>\n",
              "    <tr>\n",
              "      <th>4</th>\n",
              "      <td>2</td>\n",
              "      <td>male</td>\n",
              "      <td>35.0</td>\n",
              "      <td>0</td>\n",
              "      <td>0</td>\n",
              "      <td>8.0500</td>\n",
              "      <td>2</td>\n",
              "    </tr>\n",
              "  </tbody>\n",
              "</table>\n",
              "</div>"
            ],
            "text/plain": [
              "   pclass     sex   age  sibsp  parch     fare  embarked\n",
              "0       2    male  22.0      1      0   7.2500         2\n",
              "1       0  female  38.0      1      0  71.2833         0\n",
              "2       2  female  26.0      0      0   7.9250         2\n",
              "3       0  female  35.0      1      0  53.1000         2\n",
              "4       2    male  35.0      0      0   8.0500         2"
            ]
          },
          "execution_count": 24,
          "metadata": {},
          "output_type": "execute_result"
        }
      ],
      "source": [
        "x.head()"
      ]
    },
    {
      "cell_type": "markdown",
      "metadata": {
        "id": "kBBnVgUNDJJm"
      },
      "source": [
        "- 정답값"
      ]
    },
    {
      "cell_type": "code",
      "execution_count": 18,
      "metadata": {
        "colab": {
          "base_uri": "https://localhost:8080/"
        },
        "id": "VvCPu0FoDMiO",
        "outputId": "cce4039e-a051-48fd-a2e5-be333369ec07"
      },
      "outputs": [
        {
          "data": {
            "text/plain": [
              "(891,)"
            ]
          },
          "execution_count": 18,
          "metadata": {},
          "output_type": "execute_result"
        }
      ],
      "source": [
        "target = df[\"survived\"]\n",
        "target.shape"
      ]
    },
    {
      "cell_type": "code",
      "execution_count": null,
      "metadata": {
        "id": "dHmxhj6qwGjj",
        "outputId": "6bea2761-4a95-4598-8332-603d4c48a5a7"
      },
      "outputs": [
        {
          "data": {
            "text/html": [
              "<div>\n",
              "<style scoped>\n",
              "    .dataframe tbody tr th:only-of-type {\n",
              "        vertical-align: middle;\n",
              "    }\n",
              "\n",
              "    .dataframe tbody tr th {\n",
              "        vertical-align: top;\n",
              "    }\n",
              "\n",
              "    .dataframe thead th {\n",
              "        text-align: right;\n",
              "    }\n",
              "</style>\n",
              "<table border=\"1\" class=\"dataframe\">\n",
              "  <thead>\n",
              "    <tr style=\"text-align: right;\">\n",
              "      <th></th>\n",
              "      <th>pclass</th>\n",
              "      <th>age</th>\n",
              "      <th>sibsp</th>\n",
              "      <th>parch</th>\n",
              "      <th>fare</th>\n",
              "      <th>embarked</th>\n",
              "      <th>female</th>\n",
              "      <th>male</th>\n",
              "    </tr>\n",
              "  </thead>\n",
              "  <tbody>\n",
              "    <tr>\n",
              "      <th>0</th>\n",
              "      <td>2</td>\n",
              "      <td>22.0</td>\n",
              "      <td>1</td>\n",
              "      <td>0</td>\n",
              "      <td>7.2500</td>\n",
              "      <td>2</td>\n",
              "      <td>0.0</td>\n",
              "      <td>1.0</td>\n",
              "    </tr>\n",
              "    <tr>\n",
              "      <th>1</th>\n",
              "      <td>0</td>\n",
              "      <td>38.0</td>\n",
              "      <td>1</td>\n",
              "      <td>0</td>\n",
              "      <td>71.2833</td>\n",
              "      <td>0</td>\n",
              "      <td>1.0</td>\n",
              "      <td>0.0</td>\n",
              "    </tr>\n",
              "    <tr>\n",
              "      <th>2</th>\n",
              "      <td>2</td>\n",
              "      <td>26.0</td>\n",
              "      <td>0</td>\n",
              "      <td>0</td>\n",
              "      <td>7.9250</td>\n",
              "      <td>2</td>\n",
              "      <td>1.0</td>\n",
              "      <td>0.0</td>\n",
              "    </tr>\n",
              "    <tr>\n",
              "      <th>3</th>\n",
              "      <td>0</td>\n",
              "      <td>35.0</td>\n",
              "      <td>1</td>\n",
              "      <td>0</td>\n",
              "      <td>53.1000</td>\n",
              "      <td>2</td>\n",
              "      <td>1.0</td>\n",
              "      <td>0.0</td>\n",
              "    </tr>\n",
              "    <tr>\n",
              "      <th>4</th>\n",
              "      <td>2</td>\n",
              "      <td>35.0</td>\n",
              "      <td>0</td>\n",
              "      <td>0</td>\n",
              "      <td>8.0500</td>\n",
              "      <td>2</td>\n",
              "      <td>0.0</td>\n",
              "      <td>1.0</td>\n",
              "    </tr>\n",
              "  </tbody>\n",
              "</table>\n",
              "</div>"
            ],
            "text/plain": [
              "   pclass   age  sibsp  parch     fare  embarked  female  male\n",
              "0       2  22.0      1      0   7.2500         2     0.0   1.0\n",
              "1       0  38.0      1      0  71.2833         0     1.0   0.0\n",
              "2       2  26.0      0      0   7.9250         2     1.0   0.0\n",
              "3       0  35.0      1      0  53.1000         2     1.0   0.0\n",
              "4       2  35.0      0      0   8.0500         2     0.0   1.0"
            ]
          },
          "execution_count": 39,
          "metadata": {},
          "output_type": "execute_result"
        }
      ],
      "source": [
        "x.head()"
      ]
    },
    {
      "cell_type": "code",
      "execution_count": 24,
      "metadata": {
        "id": "vYEdLyB0wGjj"
      },
      "outputs": [],
      "source": [
        "from sklearn.model_selection import train_test_split\n",
        "x_train, x_test, y_train, y_test = train_test_split(x, target)"
      ]
    },
    {
      "cell_type": "markdown",
      "metadata": {
        "id": "EMMko6m1-oe1"
      },
      "source": [
        "# Feature Scaling "
      ]
    },
    {
      "cell_type": "code",
      "execution_count": 25,
      "metadata": {
        "colab": {
          "base_uri": "https://localhost:8080/"
        },
        "id": "ISelIsl--ocg",
        "outputId": "468e2d1e-1989-42a8-a97c-972c09291e41"
      },
      "outputs": [
        {
          "name": "stderr",
          "output_type": "stream",
          "text": [
            "c:\\Users\\KOJUNSUNG\\anaconda3\\lib\\site-packages\\sklearn\\linear_model\\_logistic.py:814: ConvergenceWarning: lbfgs failed to converge (status=1):\n",
            "STOP: TOTAL NO. of ITERATIONS REACHED LIMIT.\n",
            "\n",
            "Increase the number of iterations (max_iter) or scale the data as shown in:\n",
            "    https://scikit-learn.org/stable/modules/preprocessing.html\n",
            "Please also refer to the documentation for alternative solver options:\n",
            "    https://scikit-learn.org/stable/modules/linear_model.html#logistic-regression\n",
            "  n_iter_i = _check_optimize_result(\n"
          ]
        },
        {
          "data": {
            "text/plain": [
              "LogisticRegression(random_state=1234)"
            ]
          },
          "execution_count": 25,
          "metadata": {},
          "output_type": "execute_result"
        }
      ],
      "source": [
        "from sklearn.linear_model import LogisticRegression\n",
        "\n",
        "SEED = 1234\n",
        "model = LogisticRegression(random_state=SEED)\n",
        "model.fit(x_train,y_train)"
      ]
    },
    {
      "cell_type": "code",
      "execution_count": 27,
      "metadata": {
        "id": "pl-TvizH-oZ8"
      },
      "outputs": [
        {
          "data": {
            "text/plain": [
              "array([0.01003916, 0.04309907, 0.08430641, 0.96700496, 0.18777325,\n",
              "       0.08480279, 0.11139407, 0.11343871, 0.52173393, 0.70537999,\n",
              "       0.08425378, 0.96671105, 0.11027228, 0.03963851, 0.08312882,\n",
              "       0.65969869, 0.95482781, 0.08067648, 0.2547785 , 0.9007755 ,\n",
              "       0.09042963, 0.17270496, 0.79420329, 0.09984913, 0.15843778,\n",
              "       0.83548241, 0.11320541, 0.89029131, 0.64085438, 0.06774397,\n",
              "       0.06486497, 0.50884275, 0.14329279, 0.08430641, 0.80417922,\n",
              "       0.14329279, 0.54204427, 0.14972456, 0.21089251, 0.40077027,\n",
              "       0.64387703, 0.23341576, 0.18172235, 0.5548131 , 0.30288058,\n",
              "       0.65734773, 0.13430846, 0.77685744, 0.67173053, 0.05555914,\n",
              "       0.56534626, 0.08430641, 0.61870363, 0.66151635, 0.97614317,\n",
              "       0.67013749, 0.10590615, 0.04677768, 0.60327789, 0.63453585,\n",
              "       0.39481513, 0.83879504, 0.1765849 , 0.68972712, 0.92975546,\n",
              "       0.18624011, 0.03156982, 0.12192439, 0.63288962, 0.09123887,\n",
              "       0.81195042, 0.08764097, 0.38713811, 0.97712796, 0.10589568,\n",
              "       0.08425378, 0.78320722, 0.08793167, 0.06206046, 0.10593932,\n",
              "       0.10794609, 0.07380198, 0.10762   , 0.05933143, 0.58624727,\n",
              "       0.13246707, 0.50252907, 0.22509392, 0.0414526 , 0.23581488,\n",
              "       0.66143791, 0.27289142, 0.95667079, 0.08430641, 0.10336209,\n",
              "       0.62674924, 0.15484443, 0.91814544, 0.12873547, 0.04147458,\n",
              "       0.58045159, 0.13212651, 0.77685744, 0.82575475, 0.08726438,\n",
              "       0.09182776, 0.22199115, 0.26330427, 0.72526017, 0.12341458,\n",
              "       0.26855476, 0.78937328, 0.95517365, 0.08421257, 0.90568366,\n",
              "       0.01038115, 0.96822645, 0.76966059, 0.12346641, 0.24690934,\n",
              "       0.08741866, 0.06180352, 0.32537501, 0.05767098, 0.69527936,\n",
              "       0.07704801, 0.52063026, 0.26539098, 0.96006153, 0.77399595,\n",
              "       0.07725136, 0.56929206, 0.10590615, 0.08403367, 0.06695761,\n",
              "       0.20136196, 0.80097969, 0.28124011, 0.0812056 , 0.13956529,\n",
              "       0.10883016, 0.1200756 , 0.1023882 , 0.78354692, 0.08931478,\n",
              "       0.09970846, 0.13430846, 0.65533017, 0.76089057, 0.43438956,\n",
              "       0.19356586, 0.3617798 , 0.53946644, 0.04947905, 0.08432775,\n",
              "       0.10438797, 0.04007458, 0.13212864, 0.98170349, 0.0807339 ,\n",
              "       0.17961648, 0.08430641, 0.62172187, 0.18856994, 0.02024476,\n",
              "       0.17955233, 0.08430641, 0.39445344, 0.95439351, 0.12944621,\n",
              "       0.13569479, 0.50045135, 0.04963148, 0.08653485, 0.668118  ,\n",
              "       0.35892043, 0.02452964, 0.94684997, 0.95572222, 0.07078594,\n",
              "       0.47811417, 0.24401698, 0.59000725, 0.16251873, 0.81281112,\n",
              "       0.36489945, 0.54484559, 0.08425378, 0.2194003 , 0.56805671,\n",
              "       0.94767305, 0.83070449, 0.83526953, 0.14329279, 0.06819342,\n",
              "       0.08121111, 0.53294531, 0.08425378, 0.40228833, 0.16880852,\n",
              "       0.51534074, 0.34128991, 0.98472407, 0.65654901, 0.6528548 ,\n",
              "       0.6707237 , 0.24490391, 0.2188534 , 0.12653391, 0.9852468 ,\n",
              "       0.67632607, 0.23541662, 0.13212864, 0.06183309, 0.83495994,\n",
              "       0.7755381 , 0.08441453, 0.0988853 , 0.07954064, 0.13823097,\n",
              "       0.95044084, 0.13212864, 0.92461989])"
            ]
          },
          "execution_count": 27,
          "metadata": {},
          "output_type": "execute_result"
        }
      ],
      "source": [
        "from sklearn.metrics import roc_auc_score\n",
        "\n",
        "# roc_auc_score를 사용하기 위해 확률로 결과 출력\n",
        "pred = model.predict_proba(x_test)[:,1] \n",
        "\n",
        "# predict_proba 함수는 각 샘플에 대해 어느 클래스에 속할 확률을 0에서 1 사이의 값으로 돌려준다.\n",
        "\n",
        "# predict 함수는 새로운 속성들을 넣었을 때 그 클래스에 속하는지 속하지 않는지를 나타내는 1 또는 0으로 구성된 벡터를 반환해준다.\n",
        "pred"
      ]
    },
    {
      "cell_type": "code",
      "execution_count": 28,
      "metadata": {
        "id": "iccQ0uzOwGjk",
        "outputId": "6bfc5293-73e6-4905-c930-6ec349b2ad6f"
      },
      "outputs": [
        {
          "data": {
            "text/plain": [
              "0.7973474801061008"
            ]
          },
          "execution_count": 28,
          "metadata": {},
          "output_type": "execute_result"
        }
      ],
      "source": [
        "roc_auc_score(y_test,pred)"
      ]
    },
    {
      "cell_type": "code",
      "execution_count": null,
      "metadata": {
        "colab": {
          "base_uri": "https://localhost:8080/",
          "height": 369
        },
        "id": "OTSE07Dr-oSm",
        "outputId": "559e9332-a56d-4588-af6b-5355c7510eca"
      },
      "outputs": [
        {
          "data": {
            "image/png": "[encoded data removed]",
            "text/plain": [
              "<Figure size 500x500 with 1 Axes>"
            ]
          },
          "metadata": {},
          "output_type": "display_data"
        }
      ],
      "source": [
        "import matplotlib.pyplot as plt\n",
        "import seaborn as sns\n",
        "sns.displot(x_train[\"fare\"],kde=True)\n",
        "plt.show()"
      ]
    },
    {
      "cell_type": "markdown",
      "metadata": {
        "id": "lnQCNBmu-oP2"
      },
      "source": [
        "## Standardization (표준화)\n",
        "- 평균과 표준편차를 이용하여 모든 피쳐의 평균을 0, 분산을 1인 값으로 변환\n",
        "- 이상치가 있다면 평균과 표준편차에 영향을 미친다.\n"
      ]
    },
    {
      "cell_type": "code",
      "execution_count": null,
      "metadata": {
        "colab": {
          "base_uri": "https://localhost:8080/",
          "height": 369
        },
        "id": "MSqOGQVG-oNd",
        "outputId": "9d532952-443e-4db9-dfef-78825c3d4099"
      },
      "outputs": [
        {
          "data": {
            "image/png": "[encoded data removed]",
            "text/plain": [
              "<Figure size 500x500 with 1 Axes>"
            ]
          },
          "metadata": {},
          "output_type": "display_data"
        }
      ],
      "source": [
        "from sklearn.preprocessing import StandardScaler\n",
        "scaler = StandardScaler()\n",
        "\n",
        "x_train_sc = scaler.fit_transform(x_train) # numpy 형태로 반환\n",
        "sns.displot(x_train_sc[:,4],kde=True) # fare가 4번째 인덱스에 있음\n",
        "plt.show()"
      ]
    },
    {
      "cell_type": "markdown",
      "metadata": {
        "id": "kyX3oFOA-oLD"
      },
      "source": [
        "## Min-Max Scaling\n",
        "- Features의 최소값, 최대값을 이용해서 0을 정규화한다.ㅇ"
      ]
    },
    {
      "cell_type": "code",
      "execution_count": null,
      "metadata": {
        "colab": {
          "base_uri": "https://localhost:8080/",
          "height": 369
        },
        "id": "n_DNcXtu-oIl",
        "outputId": "5bd7d8ee-1ff1-4c75-ef12-bdc19268a2d5"
      },
      "outputs": [
        {
          "data": {
            "image/png": "[encoded data removed]",
            "text/plain": [
              "<Figure size 500x500 with 1 Axes>"
            ]
          },
          "metadata": {},
          "output_type": "display_data"
        }
      ],
      "source": [
        "from sklearn.preprocessing import MinMaxScaler\n",
        "\n",
        "scaler = MinMaxScaler()\n",
        "x_train_sc = scaler.fit_transform(x_train)\n",
        "\n",
        "sns.displot(x_train_sc[:,4],kde=True)\n",
        "plt.show()"
      ]
    },
    {
      "cell_type": "markdown",
      "metadata": {
        "id": "KO20LpRu-oGN"
      },
      "source": [
        "## Power Transformation \n",
        "- 거듭제곱 변환을 적용하여서 데이터를 정규분포와 유사하게 변환\n"
      ]
    },
    {
      "cell_type": "code",
      "execution_count": null,
      "metadata": {
        "colab": {
          "base_uri": "https://localhost:8080/",
          "height": 369
        },
        "id": "JMZLnZB4-oDv",
        "outputId": "edb5559e-9a6f-47c5-88f6-a23795a59678"
      },
      "outputs": [
        {
          "data": {
            "image/png": "[encoded data removed]",
            "text/plain": [
              "<Figure size 500x500 with 1 Axes>"
            ]
          },
          "metadata": {},
          "output_type": "display_data"
        }
      ],
      "source": [
        "from sklearn.preprocessing import PowerTransformer\n",
        "scaler = PowerTransformer()\n",
        "x_train_sc = scaler.fit_transform(x_train)\n",
        "sns.displot(x_train_sc[:,4],kde=True) #KDE는 카우스 커널을 사용해서 그래프를 연속적으로 부드럽게 나타냅니다. 즉 부드러운 곡선 그래프.\n",
        "plt.show()"
      ]
    },
    {
      "cell_type": "markdown",
      "metadata": {
        "id": "NnmD0F58-oBe"
      },
      "source": [
        "## RoboutsScaler \n",
        "- 평균과 분산 대신 중간값과 사분위수값을 사용\n",
        "- 이상치 영향을 최소화 "
      ]
    },
    {
      "cell_type": "code",
      "execution_count": null,
      "metadata": {
        "colab": {
          "base_uri": "https://localhost:8080/",
          "height": 369
        },
        "id": "Hzbk0OZF-n-9",
        "outputId": "bed25e2a-23c6-4204-d9ae-6462bc8d9b14"
      },
      "outputs": [
        {
          "data": {
            "image/png": "[encoded data removed]",
            "text/plain": [
              "<Figure size 500x500 with 1 Axes>"
            ]
          },
          "metadata": {},
          "output_type": "display_data"
        }
      ],
      "source": [
        "from sklearn.preprocessing import RobustScaler\n",
        "scaler = RobustScaler()\n",
        "x_train_sc = scaler.fit_transform(x_train)\n",
        "sns.displot(x_train_sc[:,4],kde=True)\n",
        "plt.show()"
      ]
    },
    {
      "cell_type": "code",
      "execution_count": null,
      "metadata": {
        "colab": {
          "base_uri": "https://localhost:8080/"
        },
        "id": "vco5JLUE-n8l",
        "outputId": "25516102-b6d0-43e0-872b-20f3f3b12c2a"
      },
      "outputs": [
        {
          "data": {
            "text/plain": [
              "0.8687289562289562"
            ]
          },
          "execution_count": 51,
          "metadata": {},
          "output_type": "execute_result"
        }
      ],
      "source": [
        "scaler = StandardScaler()\n",
        "scaler.fit(x_train)\n",
        "\n",
        "model = LogisticRegression(random_state=SEED)\n",
        "model.fit(scaler.transform(x_train),y_train)\n",
        "\n",
        "pred = model.predict_proba(scaler.transform(x_test))[:,1]\n",
        "roc_auc_score(y_test,pred)"
      ]
    },
    {
      "cell_type": "markdown",
      "metadata": {
        "id": "uCMDL-ulpgNo"
      },
      "source": [
        "- minmaxscaler"
      ]
    },
    {
      "cell_type": "code",
      "execution_count": null,
      "metadata": {
        "colab": {
          "base_uri": "https://localhost:8080/"
        },
        "id": "nruiHYwI-n4P",
        "outputId": "81dc42fd-4971-41b3-8736-1505400199b7"
      },
      "outputs": [
        {
          "data": {
            "text/plain": [
              "0.8661195286195286"
            ]
          },
          "execution_count": 52,
          "metadata": {},
          "output_type": "execute_result"
        }
      ],
      "source": [
        "scaler = MinMaxScaler()\n",
        "scaler.fit(x_train)\n",
        "\n",
        "model = LogisticRegression(random_state=SEED)\n",
        "model.fit(scaler.transform(x_train),y_train)\n",
        "\n",
        "pred = model.predict_proba(scaler.transform(x_test))[:,1]\n",
        "roc_auc_score(y_test,pred)"
      ]
    },
    {
      "cell_type": "code",
      "execution_count": null,
      "metadata": {
        "colab": {
          "base_uri": "https://localhost:8080/"
        },
        "id": "Ce-5PKoC6MPV",
        "outputId": "076f864d-e193-47b8-bec2-4fc2201b3dbb"
      },
      "outputs": [
        {
          "data": {
            "text/plain": [
              "0.8745370370370371"
            ]
          },
          "execution_count": 53,
          "metadata": {},
          "output_type": "execute_result"
        }
      ],
      "source": [
        "scaler = PowerTransformer()\n",
        "scaler.fit(x_train)\n",
        "\n",
        "model = LogisticRegression(random_state=SEED)\n",
        "model.fit(scaler.transform(x_train),y_train)\n",
        "\n",
        "pred = model.predict_proba(scaler.transform(x_test))[:,1]\n",
        "roc_auc_score(y_test,pred)"
      ]
    },
    {
      "cell_type": "code",
      "execution_count": null,
      "metadata": {
        "colab": {
          "base_uri": "https://localhost:8080/"
        },
        "id": "8vT7Xl006MNe",
        "outputId": "50e6d8ce-a911-4965-9d3d-1953a457a6c9"
      },
      "outputs": [
        {
          "data": {
            "text/plain": [
              "0.8691498316498316"
            ]
          },
          "execution_count": 54,
          "metadata": {},
          "output_type": "execute_result"
        }
      ],
      "source": [
        "scaler = RobustScaler()\n",
        "scaler.fit(x_train)\n",
        "\n",
        "model = LogisticRegression(random_state=SEED)\n",
        "model.fit(scaler.transform(x_train),y_train)\n",
        "\n",
        "pred = model.predict_proba(scaler.transform(x_test))[:,1]\n",
        "roc_auc_score(y_test,pred)"
      ]
    }
  ],
  "metadata": {
    "colab": {
      "provenance": []
    },
    "kernelspec": {
      "display_name": "base",
      "language": "python",
      "name": "python3"
    },
    "language_info": {
      "codemirror_mode": {
        "name": "ipython",
        "version": 3
      },
      "file_extension": ".py",
      "mimetype": "text/x-python",
      "name": "python",
      "nbconvert_exporter": "python",
      "pygments_lexer": "ipython3",
      "version": "3.9.12"
    },
    "vscode": {
      "interpreter": {
        "hash": "80cc27e9a0e8aa59b18a6f502b8a24c9fe77be3bcd87d0900d8763aa62f81a4d"
      }
    }
  },
  "nbformat": 4,
  "nbformat_minor": 0
}
