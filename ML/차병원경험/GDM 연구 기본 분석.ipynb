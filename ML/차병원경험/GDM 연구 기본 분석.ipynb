{
 "cells": [
  {
   "cell_type": "code",
   "execution_count": 2,
   "id": "initial_id",
   "metadata": {
    "ExecuteTime": {
     "end_time": "2023-09-18T00:09:32.744798400Z",
     "start_time": "2023-09-18T00:09:31.474966700Z"
    },
    "collapsed": true
   },
   "outputs": [],
   "source": [
    "import openpyxl as xls\n",
    "from scipy.stats import ttest_ind\n",
    "from scipy.stats.contingency import chi2_contingency\n",
    "import numpy as np\n",
    "import re"
   ]
  },
  {
   "cell_type": "code",
   "execution_count": 3,
   "id": "fb277ccda4be07a",
   "metadata": {
    "ExecuteTime": {
     "end_time": "2023-09-18T00:09:33.505223200Z",
     "start_time": "2023-09-18T00:09:32.728961200Z"
    },
    "collapsed": false
   },
   "outputs": [],
   "source": [
    "import pandas as pd"
   ]
  },
  {
   "cell_type": "code",
   "execution_count": 4,
   "id": "d8fb753c6c3dd014",
   "metadata": {
    "ExecuteTime": {
     "end_time": "2023-09-18T00:11:07.018968100Z",
     "start_time": "2023-09-18T00:09:33.440118200Z"
    },
    "collapsed": false
   },
   "outputs": [],
   "source": [
    "bdc_data = pd.read_excel('230915 1600 분당차 데이터셋 김주연.xlsx', sheet_name='8672', header=11)"
   ]
  },
  {
   "cell_type": "code",
   "execution_count": 156,
   "id": "68180e1b0d12fa92",
   "metadata": {
    "ExecuteTime": {
     "end_time": "2023-09-15T07:23:19.624567700Z",
     "start_time": "2023-09-15T07:23:19.546129800Z"
    },
    "collapsed": false
   },
   "outputs": [
    {
     "data": {
      "text/html": [
       "<div>\n",
       "<style scoped>\n",
       "    .dataframe tbody tr th:only-of-type {\n",
       "        vertical-align: middle;\n",
       "    }\n",
       "\n",
       "    .dataframe tbody tr th {\n",
       "        vertical-align: top;\n",
       "    }\n",
       "\n",
       "    .dataframe thead th {\n",
       "        text-align: right;\n",
       "    }\n",
       "</style>\n",
       "<table border=\"1\" class=\"dataframe\">\n",
       "  <thead>\n",
       "    <tr style=\"text-align: right;\">\n",
       "      <th></th>\n",
       "      <th>year</th>\n",
       "      <th>Hospital</th>\n",
       "      <th>TYPE1</th>\n",
       "      <th>환자번호_2</th>\n",
       "      <th>환자번호_2.1</th>\n",
       "      <th>가명처리</th>\n",
       "      <th>분만일자_4</th>\n",
       "      <th>분만주_5</th>\n",
       "      <th>분만일_6</th>\n",
       "      <th>EDC_7</th>\n",
       "      <th>...</th>\n",
       "      <th>두번째 출생체중</th>\n",
       "      <th>두번째 합병증</th>\n",
       "      <th>두번째 COMMENT</th>\n",
       "      <th>세번째 분만년도</th>\n",
       "      <th>세번째 분만임신주수</th>\n",
       "      <th>세번째 분만형태</th>\n",
       "      <th>세번째 성별</th>\n",
       "      <th>세번째 출생체중</th>\n",
       "      <th>세번째 합병증</th>\n",
       "      <th>세번째 COMMENT</th>\n",
       "    </tr>\n",
       "  </thead>\n",
       "  <tbody>\n",
       "    <tr>\n",
       "      <th>0</th>\n",
       "      <td>2015</td>\n",
       "      <td>분당차</td>\n",
       "      <td>정상</td>\n",
       "      <td>11427012</td>\n",
       "      <td>11427012</td>\n",
       "      <td>강*진</td>\n",
       "      <td>2015-06-03</td>\n",
       "      <td>40</td>\n",
       "      <td>6</td>\n",
       "      <td>2015-05-28</td>\n",
       "      <td>...</td>\n",
       "      <td>NaN</td>\n",
       "      <td>NaN</td>\n",
       "      <td>현재 임신중</td>\n",
       "      <td>NaN</td>\n",
       "      <td>NaN</td>\n",
       "      <td>NaN</td>\n",
       "      <td>NaN</td>\n",
       "      <td>NaN</td>\n",
       "      <td>NaN</td>\n",
       "      <td>NaN</td>\n",
       "    </tr>\n",
       "    <tr>\n",
       "      <th>1</th>\n",
       "      <td>2015</td>\n",
       "      <td>분당차</td>\n",
       "      <td>정상</td>\n",
       "      <td>11418357</td>\n",
       "      <td>11418357</td>\n",
       "      <td>강*영</td>\n",
       "      <td>2015-06-09</td>\n",
       "      <td>39</td>\n",
       "      <td>0</td>\n",
       "      <td>2015-06-16</td>\n",
       "      <td>...</td>\n",
       "      <td>NaN</td>\n",
       "      <td>NaN</td>\n",
       "      <td>NaN</td>\n",
       "      <td>NaN</td>\n",
       "      <td>NaN</td>\n",
       "      <td>NaN</td>\n",
       "      <td>NaN</td>\n",
       "      <td>NaN</td>\n",
       "      <td>NaN</td>\n",
       "      <td>NaN</td>\n",
       "    </tr>\n",
       "    <tr>\n",
       "      <th>2</th>\n",
       "      <td>2015</td>\n",
       "      <td>분당차</td>\n",
       "      <td>정상</td>\n",
       "      <td>11334675</td>\n",
       "      <td>11334675</td>\n",
       "      <td>강*사</td>\n",
       "      <td>2015-04-23</td>\n",
       "      <td>37</td>\n",
       "      <td>5</td>\n",
       "      <td>NaN</td>\n",
       "      <td>...</td>\n",
       "      <td>NaN</td>\n",
       "      <td>NaN</td>\n",
       "      <td>NaN</td>\n",
       "      <td>NaN</td>\n",
       "      <td>NaN</td>\n",
       "      <td>NaN</td>\n",
       "      <td>NaN</td>\n",
       "      <td>NaN</td>\n",
       "      <td>NaN</td>\n",
       "      <td>NaN</td>\n",
       "    </tr>\n",
       "    <tr>\n",
       "      <th>3</th>\n",
       "      <td>2015</td>\n",
       "      <td>분당차</td>\n",
       "      <td>정상</td>\n",
       "      <td>11545481</td>\n",
       "      <td>11545481</td>\n",
       "      <td>강*화</td>\n",
       "      <td>2015-09-03</td>\n",
       "      <td>39</td>\n",
       "      <td>0</td>\n",
       "      <td>2015-09-10</td>\n",
       "      <td>...</td>\n",
       "      <td>NaN</td>\n",
       "      <td>NaN</td>\n",
       "      <td>NaN</td>\n",
       "      <td>NaN</td>\n",
       "      <td>NaN</td>\n",
       "      <td>NaN</td>\n",
       "      <td>NaN</td>\n",
       "      <td>NaN</td>\n",
       "      <td>NaN</td>\n",
       "      <td>NaN</td>\n",
       "    </tr>\n",
       "    <tr>\n",
       "      <th>4</th>\n",
       "      <td>2015</td>\n",
       "      <td>분당차</td>\n",
       "      <td>정상</td>\n",
       "      <td>11584851</td>\n",
       "      <td>11584851</td>\n",
       "      <td>강*아</td>\n",
       "      <td>2015-05-28</td>\n",
       "      <td>38</td>\n",
       "      <td>1</td>\n",
       "      <td>2015-06-10</td>\n",
       "      <td>...</td>\n",
       "      <td>NaN</td>\n",
       "      <td>NaN</td>\n",
       "      <td>NaN</td>\n",
       "      <td>NaN</td>\n",
       "      <td>NaN</td>\n",
       "      <td>NaN</td>\n",
       "      <td>NaN</td>\n",
       "      <td>NaN</td>\n",
       "      <td>NaN</td>\n",
       "      <td>NaN</td>\n",
       "    </tr>\n",
       "    <tr>\n",
       "      <th>...</th>\n",
       "      <td>...</td>\n",
       "      <td>...</td>\n",
       "      <td>...</td>\n",
       "      <td>...</td>\n",
       "      <td>...</td>\n",
       "      <td>...</td>\n",
       "      <td>...</td>\n",
       "      <td>...</td>\n",
       "      <td>...</td>\n",
       "      <td>...</td>\n",
       "      <td>...</td>\n",
       "      <td>...</td>\n",
       "      <td>...</td>\n",
       "      <td>...</td>\n",
       "      <td>...</td>\n",
       "      <td>...</td>\n",
       "      <td>...</td>\n",
       "      <td>...</td>\n",
       "      <td>...</td>\n",
       "      <td>...</td>\n",
       "      <td>...</td>\n",
       "    </tr>\n",
       "    <tr>\n",
       "      <th>8667</th>\n",
       "      <td>2022</td>\n",
       "      <td>분당차</td>\n",
       "      <td>분만</td>\n",
       "      <td>11479420</td>\n",
       "      <td>11479420</td>\n",
       "      <td>황*혜</td>\n",
       "      <td>2022-09-06</td>\n",
       "      <td>38</td>\n",
       "      <td>1</td>\n",
       "      <td>2022-09-19</td>\n",
       "      <td>...</td>\n",
       "      <td>NaN</td>\n",
       "      <td>NaN</td>\n",
       "      <td>NaN</td>\n",
       "      <td>NaN</td>\n",
       "      <td>NaN</td>\n",
       "      <td>NaN</td>\n",
       "      <td>NaN</td>\n",
       "      <td>NaN</td>\n",
       "      <td>NaN</td>\n",
       "      <td>NaN</td>\n",
       "    </tr>\n",
       "    <tr>\n",
       "      <th>8668</th>\n",
       "      <td>2022</td>\n",
       "      <td>분당차</td>\n",
       "      <td>분만</td>\n",
       "      <td>12161785</td>\n",
       "      <td>12161785</td>\n",
       "      <td>황*아</td>\n",
       "      <td>2022-03-22</td>\n",
       "      <td>39</td>\n",
       "      <td>0</td>\n",
       "      <td>2022-03-29</td>\n",
       "      <td>...</td>\n",
       "      <td>NaN</td>\n",
       "      <td>NaN</td>\n",
       "      <td>NaN</td>\n",
       "      <td>NaN</td>\n",
       "      <td>NaN</td>\n",
       "      <td>NaN</td>\n",
       "      <td>NaN</td>\n",
       "      <td>NaN</td>\n",
       "      <td>NaN</td>\n",
       "      <td>NaN</td>\n",
       "    </tr>\n",
       "    <tr>\n",
       "      <th>8669</th>\n",
       "      <td>2022</td>\n",
       "      <td>분당차</td>\n",
       "      <td>분만</td>\n",
       "      <td>12137290</td>\n",
       "      <td>12137290</td>\n",
       "      <td>황*신</td>\n",
       "      <td>2022-01-23</td>\n",
       "      <td>40</td>\n",
       "      <td>1</td>\n",
       "      <td>2022-01-22</td>\n",
       "      <td>...</td>\n",
       "      <td>NaN</td>\n",
       "      <td>NaN</td>\n",
       "      <td>NaN</td>\n",
       "      <td>NaN</td>\n",
       "      <td>NaN</td>\n",
       "      <td>NaN</td>\n",
       "      <td>NaN</td>\n",
       "      <td>NaN</td>\n",
       "      <td>NaN</td>\n",
       "      <td>NaN</td>\n",
       "    </tr>\n",
       "    <tr>\n",
       "      <th>8670</th>\n",
       "      <td>2022</td>\n",
       "      <td>분당차</td>\n",
       "      <td>분만</td>\n",
       "      <td>12126800</td>\n",
       "      <td>12126800</td>\n",
       "      <td>후*모토마이코</td>\n",
       "      <td>2022-02-03</td>\n",
       "      <td>39</td>\n",
       "      <td>1</td>\n",
       "      <td>2022-02-09</td>\n",
       "      <td>...</td>\n",
       "      <td>NaN</td>\n",
       "      <td>NaN</td>\n",
       "      <td>NaN</td>\n",
       "      <td>NaN</td>\n",
       "      <td>NaN</td>\n",
       "      <td>NaN</td>\n",
       "      <td>NaN</td>\n",
       "      <td>NaN</td>\n",
       "      <td>NaN</td>\n",
       "      <td>NaN</td>\n",
       "    </tr>\n",
       "    <tr>\n",
       "      <th>8671</th>\n",
       "      <td>2022</td>\n",
       "      <td>분당차</td>\n",
       "      <td>분만</td>\n",
       "      <td>12036286</td>\n",
       "      <td>12036286</td>\n",
       "      <td>힐*리요다비드마리펠</td>\n",
       "      <td>2022-05-09</td>\n",
       "      <td>39</td>\n",
       "      <td>0</td>\n",
       "      <td>2022-05-16</td>\n",
       "      <td>...</td>\n",
       "      <td>NaN</td>\n",
       "      <td>NaN</td>\n",
       "      <td>IVF</td>\n",
       "      <td>NaN</td>\n",
       "      <td>NaN</td>\n",
       "      <td>NaN</td>\n",
       "      <td>NaN</td>\n",
       "      <td>NaN</td>\n",
       "      <td>NaN</td>\n",
       "      <td>NaN</td>\n",
       "    </tr>\n",
       "  </tbody>\n",
       "</table>\n",
       "<p>8672 rows × 1091 columns</p>\n",
       "</div>"
      ],
      "text/plain": [
       "      year Hospital TYPE1    환자번호_2  환자번호_2.1        가명처리      분만일자_4  분만주_5  \\\n",
       "0     2015      분당차    정상  11427012  11427012         강*진  2015-06-03     40   \n",
       "1     2015      분당차    정상  11418357  11418357         강*영  2015-06-09     39   \n",
       "2     2015      분당차    정상  11334675  11334675         강*사  2015-04-23     37   \n",
       "3     2015      분당차    정상  11545481  11545481         강*화  2015-09-03     39   \n",
       "4     2015      분당차    정상  11584851  11584851         강*아  2015-05-28     38   \n",
       "...    ...      ...   ...       ...       ...         ...         ...    ...   \n",
       "8667  2022      분당차    분만  11479420  11479420         황*혜  2022-09-06     38   \n",
       "8668  2022      분당차    분만  12161785  12161785         황*아  2022-03-22     39   \n",
       "8669  2022      분당차    분만  12137290  12137290         황*신  2022-01-23     40   \n",
       "8670  2022      분당차    분만  12126800  12126800     후*모토마이코  2022-02-03     39   \n",
       "8671  2022      분당차    분만  12036286  12036286  힐*리요다비드마리펠  2022-05-09     39   \n",
       "\n",
       "      분만일_6       EDC_7  ... 두번째 출생체중  두번째 합병증 두번째 COMMENT 세번째 분만년도  \\\n",
       "0         6  2015-05-28  ...      NaN      NaN      현재 임신중      NaN   \n",
       "1         0  2015-06-16  ...      NaN      NaN         NaN      NaN   \n",
       "2         5         NaN  ...      NaN      NaN         NaN      NaN   \n",
       "3         0  2015-09-10  ...      NaN      NaN         NaN      NaN   \n",
       "4         1  2015-06-10  ...      NaN      NaN         NaN      NaN   \n",
       "...     ...         ...  ...      ...      ...         ...      ...   \n",
       "8667      1  2022-09-19  ...      NaN      NaN         NaN      NaN   \n",
       "8668      0  2022-03-29  ...      NaN      NaN         NaN      NaN   \n",
       "8669      1  2022-01-22  ...      NaN      NaN         NaN      NaN   \n",
       "8670      1  2022-02-09  ...      NaN      NaN         NaN      NaN   \n",
       "8671      0  2022-05-16  ...      NaN      NaN         IVF      NaN   \n",
       "\n",
       "     세번째 분만임신주수 세번째 분만형태  세번째 성별 세번째 출생체중  세번째 합병증  세번째 COMMENT  \n",
       "0           NaN      NaN     NaN      NaN      NaN          NaN  \n",
       "1           NaN      NaN     NaN      NaN      NaN          NaN  \n",
       "2           NaN      NaN     NaN      NaN      NaN          NaN  \n",
       "3           NaN      NaN     NaN      NaN      NaN          NaN  \n",
       "4           NaN      NaN     NaN      NaN      NaN          NaN  \n",
       "...         ...      ...     ...      ...      ...          ...  \n",
       "8667        NaN      NaN     NaN      NaN      NaN          NaN  \n",
       "8668        NaN      NaN     NaN      NaN      NaN          NaN  \n",
       "8669        NaN      NaN     NaN      NaN      NaN          NaN  \n",
       "8670        NaN      NaN     NaN      NaN      NaN          NaN  \n",
       "8671        NaN      NaN     NaN      NaN      NaN          NaN  \n",
       "\n",
       "[8672 rows x 1091 columns]"
      ]
     },
     "execution_count": 156,
     "metadata": {},
     "output_type": "execute_result"
    }
   ],
   "source": [
    "bdc_data"
   ]
  },
  {
   "cell_type": "code",
   "execution_count": 135,
   "id": "9a7f6c691f4d1adf",
   "metadata": {
    "ExecuteTime": {
     "end_time": "2023-09-18T01:23:02.255260200Z",
     "start_time": "2023-09-18T01:23:02.193868400Z"
    },
    "collapsed": false
   },
   "outputs": [
    {
     "name": "stdout",
     "output_type": "stream",
     "text": [
      "['정상군' 'GDM' '제외군(검사안함)' '제외군(overtDM)' '제외군(GDM-> overDM)'\n",
      " '제외군(정상군 -> overtDM)' '제외군(검사안함) -> overtDM']\n"
     ]
    },
    {
     "data": {
      "text/plain": [
       "(8106, 840, 7266)"
      ]
     },
     "execution_count": 135,
     "metadata": {},
     "output_type": "execute_result"
    }
   ],
   "source": [
    "print(bdc_data['08.21\\n임당군/정상군 분류'].unique())\n",
    "cases = bdc_data.loc[bdc_data['08.21\\n임당군/정상군 분류']=='GDM']\n",
    "conts = bdc_data.loc[bdc_data['08.21\\n임당군/정상군 분류']=='정상군']\n",
    "len(cases)+len(conts), len(cases), len(conts)"
   ]
  },
  {
   "cell_type": "code",
   "execution_count": 34,
   "id": "bb3ec444bf5aea3f",
   "metadata": {
    "ExecuteTime": {
     "end_time": "2023-09-18T00:27:01.692898600Z",
     "start_time": "2023-09-18T00:27:01.677266800Z"
    },
    "collapsed": false
   },
   "outputs": [],
   "source": [
    "def __find_name_of_col_bundanglogicnum__(x, tar_str):\n",
    "    res = re.findall('[^0-9]_'+tar_str+'(?:$|[^0-9])',x)\n",
    "    if len(res)<1:\n",
    "        return False\n",
    "    elif (res[0][2:]==tar_str)|(res[0][2:-1]==tar_str):\n",
    "        return True\n",
    "    else:\n",
    "        return False\n",
    "def find_name_of_col_bundanglogicnum(logicnum):\n",
    "    i_col = np.where([__find_name_of_col_bundanglogicnum__(x,logicnum) for x in bdc_data.columns])\n",
    "    name_col = bdc_data.columns[i_col]\n",
    "    return name_col\n",
    "# print(find_name_of_col_bundanglogicnum('16_1'))\n",
    "k=1.96\n",
    "def analy_for_conti_values(cases_0, conts_0, ):\n",
    "    cases_ = cases_0.dropna()\n",
    "    conts_ = conts_0.dropna()\n",
    "    print('Missings:', len(cases_0)+len(conts_0)-len(cases_)-len(conts_))\n",
    "    case_m, case_sd, cont_m, cont_sd = np.mean(cases_),np.std(cases_),np.mean(conts_),np.std(conts_)\n",
    "    print('  {:.2f} ({:.2f},{:.2f})'.format(case_m, case_m-k*case_sd/(len(cases_)**0.5), case_m+k*case_sd/(len(cases_)**0.5)), end=' ')\n",
    "    print('  {:.2f} ({:.2f},{:.2f})'.format(cont_m, cont_m-k*cont_sd/(len(cases_)**0.5), cont_m+k*cont_sd/(len(cases_)**0.5)), end=' ')\n",
    "    print('  {:.4f}'.format(ttest_ind(list(cases_), list(conts_))[1]))\n",
    "def analy_for_cate_values(cases_0, conts_0, ):\n",
    "    cases_ = cases_0.dropna()\n",
    "    conts_ = conts_0.dropna()\n",
    "    print('Missings:', len(cases_0)+len(conts_0)-len(cases_)-len(conts_))\n",
    "    case0, case1, cont0, cont1 = sum(cases_==0), sum(cases_==1), sum(conts_==0), sum(conts_==1)\n",
    "    obs = np.zeros(shape=(2,2))\n",
    "    obs[0,0] = case0; obs[0,1] = cont0;\n",
    "    obs[1,0] = case1; obs[1,1] = cont1;\n",
    "    obs = obs.astype(np.int64); \n",
    "    sum_case, sum_cont = sum(obs[:,0])/100.0, sum(obs[:,1])/100.0\n",
    "    print('{:d}({:.1f}) {:d}({:.1f})'.format(obs[0,0], obs[0,0]/sum_case, obs[0,1], obs[0,1]/sum_cont))\n",
    "    print('{:d}({:.1f}) {:d}({:.1f})'.format(obs[1,0], obs[1,0]/sum_case, obs[1,1], obs[1,1]/sum_cont))\n",
    "    print(\"  {:.3f}\".format(chi2_contingency(obs)[1]))"
   ]
  },
  {
   "cell_type": "code",
   "execution_count": 14,
   "id": "f81b5edd1d6c089f",
   "metadata": {
    "ExecuteTime": {
     "end_time": "2023-09-18T00:17:25.508569500Z",
     "start_time": "2023-09-18T00:17:25.496064300Z"
    },
    "collapsed": false
   },
   "outputs": [
    {
     "name": "stdout",
     "output_type": "stream",
     "text": [
      "Index(['만나이분만일기준_9'], dtype='object')\n",
      "************************************\n",
      "Missings: 0\n",
      "  35.86 (35.60,36.13)   34.28 (34.01,34.56)   0.0000\n"
     ]
    }
   ],
   "source": [
    "col_names = find_name_of_col_bundanglogicnum('9')\n",
    "print(col_names); selected_col = col_names[0]\n",
    "cases_, conts_ = cases[selected_col], conts[selected_col]\n",
    "print('************************************')\n",
    "analy_for_conti_values(cases_, conts_)"
   ]
  },
  {
   "cell_type": "code",
   "execution_count": 35,
   "id": "465192d18d84b15",
   "metadata": {
    "ExecuteTime": {
     "end_time": "2023-09-18T00:27:03.004072700Z",
     "start_time": "2023-09-18T00:27:02.975727600Z"
    },
    "collapsed": false
   },
   "outputs": [
    {
     "name": "stdout",
     "output_type": "stream",
     "text": [
      "Index(['이번임신방법_16_1', '이번임신방법_16_1.1', '이번임신방법_16_1.2'], dtype='object')\n",
      "[nan '시술_체외수정(IVF)' '시술_인공수정(IUI)' '약_배란유도제사용' '자연임신' '체외수정(IVF)'\n",
      " '인공수정(IUI)' '배란유도제사용']\n",
      "************************************\n",
      "Missings: 4557\n",
      "163(38.0) 1332(42.7)\n",
      "266(62.0) 1788(57.3)\n",
      "  0.073\n"
     ]
    }
   ],
   "source": [
    "col_names = find_name_of_col_bundanglogicnum('16_1')\n",
    "print(col_names); selected_col = col_names[-1]\n",
    "print(bdc_data[selected_col].unique())\n",
    "cases_, conts_ = cases[selected_col], conts[selected_col]\n",
    "def tempfunc_(x):\n",
    "    if pd.isna(x):\n",
    "        return np.nan\n",
    "    if x=='자연임신':\n",
    "        return 0\n",
    "    return 1\n",
    "cases__ = cases_.apply(lambda x: tempfunc_(x)) \n",
    "conts__ = conts_.apply(lambda x: tempfunc_(x))\n",
    "print('************************************')\n",
    "analy_for_cate_values(cases__, conts__)"
   ]
  },
  {
   "cell_type": "code",
   "execution_count": 37,
   "id": "1e960d557e8f75ee",
   "metadata": {
    "ExecuteTime": {
     "end_time": "2023-09-18T00:29:23.963930400Z",
     "start_time": "2023-09-18T00:29:23.932675100Z"
    },
    "collapsed": false
   },
   "outputs": [
    {
     "name": "stdout",
     "output_type": "stream",
     "text": [
      "Index(['이번임신방법_16_1', '이번임신방법_16_1.1', '이번임신방법_16_1.2'], dtype='object')\n",
      "************************************\n",
      "Missings: 4557\n",
      "193(45.0) 1614(51.7)\n",
      "236(55.0) 1506(48.3)\n",
      "  0.010\n"
     ]
    }
   ],
   "source": [
    "col_names = find_name_of_col_bundanglogicnum('16_1') #엑셀 표에는 16_2를 참조하라고 했으나 16_1을 기준으로 하는 게 맞다고 판단하였음.\n",
    "print(col_names)\n",
    "selected_col = col_names[-1]\n",
    "cases_, conts_ = cases[selected_col], conts[selected_col]\n",
    "def tempfunc_(x):\n",
    "    if pd.isna(x):\n",
    "        return np.nan\n",
    "    if 'IVF' in x:\n",
    "        return 1\n",
    "    return 0\n",
    "cases__ = cases_.apply(lambda x: tempfunc_(x)) \n",
    "conts__ = conts_.apply(lambda x: tempfunc_(x))\n",
    "print('************************************')\n",
    "analy_for_cate_values(cases__, conts__)"
   ]
  },
  {
   "cell_type": "code",
   "execution_count": 39,
   "id": "4e40e09f31db2e40",
   "metadata": {
    "ExecuteTime": {
     "end_time": "2023-09-18T00:31:30.563594100Z",
     "start_time": "2023-09-18T00:31:30.521343Z"
    },
    "collapsed": false
   },
   "outputs": [
    {
     "name": "stdout",
     "output_type": "stream",
     "text": [
      "Index(['흡연력_35', '흡연력_35.1'], dtype='object')\n",
      "['무' nan '유']\n",
      "************************************\n",
      "Missings: 12\n",
      "829(98.9) 7218(99.5)\n",
      "9(1.1) 38(0.5)\n",
      "  0.081\n"
     ]
    }
   ],
   "source": [
    "col_names = find_name_of_col_bundanglogicnum('35') \n",
    "print(col_names)\n",
    "selected_col = col_names[1]\n",
    "print(bdc_data[selected_col].unique())\n",
    "cases_, conts_ = cases[selected_col], conts[selected_col]\n",
    "def tempfunc_(x):\n",
    "    if pd.isna(x):\n",
    "        return np.nan\n",
    "    if '유'==x:\n",
    "        return 1\n",
    "    return 0\n",
    "cases__ = cases_.apply(lambda x: tempfunc_(x)) \n",
    "conts__ = conts_.apply(lambda x: tempfunc_(x))\n",
    "print('************************************')\n",
    "analy_for_cate_values(cases__, conts__)"
   ]
  },
  {
   "cell_type": "code",
   "execution_count": 40,
   "id": "e61df9a008b8bb14",
   "metadata": {
    "ExecuteTime": {
     "end_time": "2023-09-18T00:31:30.780284900Z",
     "start_time": "2023-09-18T00:31:30.749036700Z"
    },
    "collapsed": false
   },
   "outputs": [
    {
     "name": "stdout",
     "output_type": "stream",
     "text": [
      "Index(['음주력_36', '음주력_36.1'], dtype='object')\n",
      "['무' nan '유']\n",
      "************************************\n",
      "Missings: 12\n",
      "837(99.9) 7229(99.6)\n",
      "1(0.1) 27(0.4)\n",
      "  0.385\n"
     ]
    }
   ],
   "source": [
    "col_names = find_name_of_col_bundanglogicnum('36')\n",
    "print(col_names); selected_col = col_names[1]\n",
    "print(bdc_data[selected_col].unique())\n",
    "cases_, conts_ = cases[selected_col], conts[selected_col]\n",
    "def tempfunc_(x):\n",
    "    if pd.isna(x):\n",
    "        return np.nan\n",
    "    if '유'==x:\n",
    "        return 1\n",
    "    return 0\n",
    "cases__ = cases_.apply(lambda x: tempfunc_(x)) \n",
    "conts__ = conts_.apply(lambda x: tempfunc_(x))\n",
    "print('************************************')\n",
    "analy_for_cate_values(cases__, conts__)"
   ]
  },
  {
   "cell_type": "code",
   "execution_count": 109,
   "id": "bd662f4dd7c7677c",
   "metadata": {
    "ExecuteTime": {
     "end_time": "2023-09-18T00:35:04.962415900Z",
     "start_time": "2023-09-18T00:35:04.946788200Z"
    },
    "collapsed": false
   },
   "outputs": [
    {
     "name": "stdout",
     "output_type": "stream",
     "text": [
      "Index(['고혈압_52'], dtype='object')\n",
      "[nan '무' '유']\n",
      "************************************\n",
      "Missings: 6542\n",
      "192(97.0) 1349(98.8)\n",
      "6(3.0) 17(1.2)\n",
      "  0.102\n"
     ]
    }
   ],
   "source": [
    "col_names = find_name_of_col_bundanglogicnum('52')\n",
    "print(col_names)\n",
    "selected_col = col_names[0]\n",
    "print(bdc_data[selected_col].unique())\n",
    "cases_, conts_ = cases[selected_col], conts[selected_col]\n",
    "def tempfunc_(x):\n",
    "    if pd.isna(x):\n",
    "        return np.nan\n",
    "    if '유'==x:\n",
    "        return 1\n",
    "    return 0\n",
    "cases__ = cases_.apply(lambda x: tempfunc_(x)) \n",
    "conts__ = conts_.apply(lambda x: tempfunc_(x))\n",
    "print('************************************')\n",
    "analy_for_cate_values(cases__, conts__)"
   ]
  },
  {
   "cell_type": "code",
   "execution_count": 119,
   "id": "1033822ae2e6f0c",
   "metadata": {
    "ExecuteTime": {
     "end_time": "2023-09-18T00:52:57.932215100Z",
     "start_time": "2023-09-18T00:52:57.900945400Z"
    },
    "collapsed": false
   },
   "outputs": [
    {
     "name": "stdout",
     "output_type": "stream",
     "text": [
      "para 정보 가져오기\n",
      "[1 0 2 3 4 '0->1' 5 '0->2' '0(G1)' 8]\n",
      "************************************\n",
      "Missings: 0\n",
      "534(63.6) 4542(62.5)\n",
      "306(36.4) 2724(37.5)\n",
      "  0.573\n"
     ]
    }
   ],
   "source": [
    "selected_col = 'para 정보 가져오기'\n",
    "print(selected_col)\n",
    "print(bdc_data[selected_col].unique())\n",
    "cases_, conts_ = cases[selected_col], conts[selected_col]\n",
    "def tempfunc_(x):\n",
    "    if pd.isna(x):\n",
    "        return np.nan\n",
    "    elif (x=='0(G1)'):\n",
    "        return 0\n",
    "    elif type(x)==str:\n",
    "        return 1\n",
    "    elif x > 0:\n",
    "        return 1\n",
    "    return 0\n",
    "cases__ = cases_.apply(lambda x: tempfunc_(x))\n",
    "conts__ = conts_.apply(lambda x: tempfunc_(x))\n",
    "cases_para_indexes = cases__[cases__==1].index\n",
    "conts_para_indexes = conts__[conts__==1].index\n",
    "print('************************************')\n",
    "analy_for_cate_values(cases__, conts__)"
   ]
  },
  {
   "cell_type": "code",
   "execution_count": 44,
   "id": "184dcf15cadc6809",
   "metadata": {
    "ExecuteTime": {
     "end_time": "2023-09-18T00:31:31.373700600Z",
     "start_time": "2023-09-18T00:31:31.342406200Z"
    },
    "collapsed": false
   },
   "outputs": [
    {
     "name": "stdout",
     "output_type": "stream",
     "text": [
      "8.21\n",
      "자연조산 재분류\n",
      "['만삭분만' '만삭분만_자연진통' '자연조산' '자연조산아님']\n",
      "************************************\n",
      "71\n",
      "Missings: 0\n",
      "265(89.2) 2461(92.4)\n",
      "32(10.8) 201(7.6)\n",
      "  0.065\n"
     ]
    }
   ],
   "source": [
    "selected_col = '8.21\\n자연조산 재분류'\n",
    "print(selected_col)\n",
    "print(bdc_data[selected_col].unique())\n",
    "cases_, conts_ = cases[selected_col], conts[selected_col]\n",
    "def tempfunc_(x):\n",
    "    if pd.isna(x):\n",
    "        return np.nan\n",
    "    if x=='자연조산아님':\n",
    "        return -1\n",
    "    if x=='자연조산':\n",
    "        return 1\n",
    "    return 0\n",
    "cases__ = cases_.apply(lambda x: tempfunc_(x))\n",
    "conts__ = conts_.apply(lambda x: tempfunc_(x))\n",
    "cases__ = cases__.loc[cases_para_indexes]\n",
    "conts__ = conts__.loc[conts_para_indexes]\n",
    "print('************************************')\n",
    "print(sum(cases__==-1)+sum(conts__==-1))\n",
    "analy_for_cate_values(cases__, conts__)"
   ]
  },
  {
   "cell_type": "code",
   "execution_count": 125,
   "id": "87e29243007d03d2",
   "metadata": {
    "ExecuteTime": {
     "end_time": "2023-09-18T00:54:58.890624500Z",
     "start_time": "2023-09-18T00:54:58.831738900Z"
    },
    "collapsed": false
   },
   "outputs": [
    {
     "name": "stdout",
     "output_type": "stream",
     "text": [
      "CH 유뮤 \n",
      "(반영 후_김)\n",
      "['CH없음' 'CH 상병' 'CH(과거력)'] ['CH없음' 'CH(과거력)' 'CH 상병' 'CH 없음' 'CH']\n",
      "************************************\n",
      "Missings: 0\n",
      "289(94.4) 2685(98.6)\n",
      "17(5.6) 39(1.4)\n",
      "  0.000\n"
     ]
    }
   ],
   "source": [
    "selected_col = 'CH 유뮤 \\n(반영 후_김)'\n",
    "print(selected_col)\n",
    "cases_, conts_ = cases[selected_col], conts[selected_col]\n",
    "print(cases_.unique(), conts_.unique())\n",
    "def tempfunc_(x):\n",
    "    if pd.isna(x):\n",
    "        return np.nan\n",
    "    if x in ['CH없음','CH 없음']:\n",
    "        return 0\n",
    "    return 1\n",
    "cases__ = cases_.apply(lambda x: tempfunc_(x)) \n",
    "conts__ = conts_.apply(lambda x: tempfunc_(x))\n",
    "cases__ = cases__.loc[cases_para_indexes]\n",
    "conts__ = conts__.loc[conts_para_indexes]\n",
    "print('************************************')\n",
    "analy_for_cate_values(cases__, conts__)"
   ]
  },
  {
   "cell_type": "code",
   "execution_count": 114,
   "id": "97d072cae978fdff",
   "metadata": {
    "ExecuteTime": {
     "end_time": "2023-09-18T00:47:05.075755200Z",
     "start_time": "2023-09-18T00:47:05.031495900Z"
    },
    "collapsed": false
   },
   "outputs": [
    {
     "name": "stdout",
     "output_type": "stream",
     "text": [
      "Index(['임신성당뇨_40', '임신성당뇨_40.1'], dtype='object')\n",
      "[nan '유' '유(출산력변수)'] [nan '유' '유(출산력변수)']\n",
      "************************************\n",
      "Missings: 0\n",
      "214(69.9) 2599(95.4)\n",
      "92(30.1) 125(4.6)\n",
      "  0.000\n"
     ]
    }
   ],
   "source": [
    "col_names = find_name_of_col_bundanglogicnum('40')\n",
    "print(col_names)\n",
    "selected_col = col_names[-1]\n",
    "cases_, conts_ = cases[selected_col], conts[selected_col]\n",
    "print(cases_.unique(), conts_.unique())\n",
    "def tempfunc_(x):\n",
    "    if pd.isna(x):\n",
    "        return 0\n",
    "    elif '유' in x:\n",
    "        return 1\n",
    "    return 0\n",
    "cases__ = cases_.apply(lambda x: tempfunc_(x)) \n",
    "conts__ = conts_.apply(lambda x: tempfunc_(x))\n",
    "cases__ = cases__.loc[cases_para_indexes]\n",
    "conts__ = conts__.loc[conts_para_indexes]\n",
    "print('************************************')\n",
    "analy_for_cate_values(cases__, conts__)"
   ]
  },
  {
   "cell_type": "code",
   "execution_count": 47,
   "id": "a501de8aa6cd3f0",
   "metadata": {
    "ExecuteTime": {
     "end_time": "2023-09-18T00:31:31.749178700Z",
     "start_time": "2023-09-18T00:31:31.702216800Z"
    },
    "collapsed": false
   },
   "outputs": [
    {
     "name": "stdout",
     "output_type": "stream",
     "text": [
      "Index(['가족력당뇨_424', '가족력당뇨_424.1', '가족력당뇨_424.2', '가족력당뇨_424.3'], dtype='object')\n",
      "['무' '유' nan]\n",
      "************************************\n",
      "Missings: 3\n",
      "581(69.2) 6064(83.5)\n",
      "258(30.8) 1200(16.5)\n",
      "  0.000\n"
     ]
    }
   ],
   "source": [
    "col_names = find_name_of_col_bundanglogicnum('424')\n",
    "print(col_names)\n",
    "selected_col = col_names[-1]\n",
    "print(bdc_data[selected_col].unique())\n",
    "cases_, conts_ = cases[selected_col], conts[selected_col]\n",
    "cases__ = pd.Series(0, index=cases_.index);\n",
    "conts__ = pd.Series(0, index=conts_.index)\n",
    "def tempfunc_(x):\n",
    "    if pd.isna(x):\n",
    "        return np.nan\n",
    "    elif '유' in x:\n",
    "        return 1\n",
    "    return 0\n",
    "cases__ = cases_.apply(lambda x: tempfunc_(x)) \n",
    "conts__ = conts_.apply(lambda x: tempfunc_(x))\n",
    "print('************************************')\n",
    "analy_for_cate_values(cases__, conts__)"
   ]
  },
  {
   "cell_type": "code",
   "execution_count": 48,
   "id": "746e90246da758d7",
   "metadata": {
    "ExecuteTime": {
     "end_time": "2023-09-18T00:31:31.857232800Z",
     "start_time": "2023-09-18T00:31:31.810317100Z"
    },
    "collapsed": false
   },
   "outputs": [
    {
     "name": "stdout",
     "output_type": "stream",
     "text": [
      "Index(['가족력고혈압_426', '가족력고혈압_426.1', '가족력고혈압_426.2'], dtype='object')\n",
      "['무' '유' nan]\n",
      "************************************\n",
      "Missings: 3\n",
      "592(70.6) 5215(71.8)\n",
      "247(29.4) 2049(28.2)\n",
      "  0.478\n"
     ]
    }
   ],
   "source": [
    "col_names = find_name_of_col_bundanglogicnum('426')\n",
    "print(col_names)\n",
    "selected_col = col_names[-1]\n",
    "print(bdc_data[selected_col].unique())\n",
    "cases_, conts_ = cases[selected_col], conts[selected_col]\n",
    "def tempfunc_(x):\n",
    "    if pd.isna(x):\n",
    "        return np.nan\n",
    "    elif '유' in x:\n",
    "        return 1\n",
    "    return 0\n",
    "cases__ = cases_.apply(lambda x: tempfunc_(x)) \n",
    "conts__ = conts_.apply(lambda x: tempfunc_(x))\n",
    "print('************************************')\n",
    "analy_for_cate_values(cases__, conts__)"
   ]
  },
  {
   "cell_type": "code",
   "execution_count": 49,
   "id": "ab264f6c27364d06",
   "metadata": {
    "ExecuteTime": {
     "end_time": "2023-09-18T00:31:31.959108100Z",
     "start_time": "2023-09-18T00:31:31.927858500Z"
    },
    "collapsed": false
   },
   "outputs": [
    {
     "name": "stdout",
     "output_type": "stream",
     "text": [
      "Index(['BMI_90', 'BMI_90.1'], dtype='object')\n",
      "************************************\n",
      "Missings: 6469\n",
      "  24.03 (23.49,24.56)   22.16 (21.68,22.64)   0.0000\n"
     ]
    }
   ],
   "source": [
    "col_names = find_name_of_col_bundanglogicnum('90')\n",
    "print(col_names); selected_col = col_names[0]\n",
    "# print(bdc_data[selected_col].unique())\n",
    "cases_, conts_ = cases[selected_col], conts[selected_col]\n",
    "def tempfunc_(x):\n",
    "    if pd.isna(x):\n",
    "        return np.nan\n",
    "    if ((x<15) or (x>50)):\n",
    "        return np.nan\n",
    "    return np.float32(x)\n",
    "print('************************************')\n",
    "cases__ = cases_.apply(lambda x: tempfunc_(x))\n",
    "conts__ = conts_.apply(lambda x: tempfunc_(x))\n",
    "analy_for_conti_values(cases__, conts__)"
   ]
  },
  {
   "cell_type": "code",
   "execution_count": 136,
   "id": "b97f40bcf0b86a97",
   "metadata": {
    "ExecuteTime": {
     "end_time": "2023-09-18T01:35:24.728035Z",
     "start_time": "2023-09-18T01:35:24.696584Z"
    },
    "collapsed": false
   },
   "outputs": [
    {
     "name": "stdout",
     "output_type": "stream",
     "text": [
      "Index(['BMI_90', 'BMI_90.1'], dtype='object')\n",
      "************************************\n",
      "Missings: 6469\n",
      "192(91.0) 1366(95.8)\n",
      "19(9.0) 60(4.2)\n",
      "  0.004\n"
     ]
    }
   ],
   "source": [
    "col_names = find_name_of_col_bundanglogicnum('90')\n",
    "print(col_names); selected_col = col_names[0]\n",
    "# print(bdc_data[selected_col].unique())\n",
    "cases_, conts_ = cases[selected_col], conts[selected_col]\n",
    "def tempfunc_(x):\n",
    "    if pd.isna(x):\n",
    "        return np.nan\n",
    "    if ((x<15) or (x>50)):\n",
    "        return np.nan\n",
    "    if x>=30:\n",
    "        return 1\n",
    "    return 0\n",
    "cases__ = cases_.apply(lambda x: tempfunc_(x))\n",
    "conts__ = conts_.apply(lambda x: tempfunc_(x))\n",
    "print('************************************')\n",
    "analy_for_cate_values(cases__, conts__)"
   ]
  },
  {
   "cell_type": "code",
   "execution_count": 137,
   "id": "895021b1705b0500",
   "metadata": {
    "ExecuteTime": {
     "end_time": "2023-09-18T01:35:27.997021300Z",
     "start_time": "2023-09-18T01:35:27.970386300Z"
    },
    "collapsed": false
   },
   "outputs": [
    {
     "name": "stdout",
     "output_type": "stream",
     "text": [
      "Index(['혈압수축기_88', '혈압수축기_88.1'], dtype='object')\n",
      "************************************\n",
      "Missings: 5835\n",
      "  123.23 (121.37,125.09)   117.15 (115.51,118.78)   0.0000\n"
     ]
    }
   ],
   "source": [
    "col_names = find_name_of_col_bundanglogicnum('88')\n",
    "print(col_names)\n",
    "selected_col = col_names[1]\n",
    "# print(bdc_data[selected_col].unique())\n",
    "cases_, conts_ = cases[selected_col], conts[selected_col]\n",
    "print('************************************')\n",
    "analy_for_conti_values(cases_, conts_)"
   ]
  },
  {
   "cell_type": "code",
   "execution_count": 138,
   "id": "8197083599c852a6",
   "metadata": {
    "ExecuteTime": {
     "end_time": "2023-09-18T01:35:31.646273300Z",
     "start_time": "2023-09-18T01:35:31.633268800Z"
    },
    "collapsed": false
   },
   "outputs": [
    {
     "name": "stdout",
     "output_type": "stream",
     "text": [
      "Index(['혈압이완기_89', '혈압이완기_89.1'], dtype='object')\n",
      "************************************\n",
      "Missings: 5836\n",
      "  73.44 (72.06,74.83)   68.99 (67.69,70.30)   0.0000\n"
     ]
    }
   ],
   "source": [
    "col_names = find_name_of_col_bundanglogicnum('89')\n",
    "print(col_names)\n",
    "selected_col = col_names[1]\n",
    "#print(bdc_data[selected_col].unique())\n",
    "cases_, conts_ = cases[selected_col], conts[selected_col]\n",
    "print('************************************')\n",
    "analy_for_conti_values(cases_, conts_)"
   ]
  },
  {
   "cell_type": "code",
   "execution_count": 139,
   "id": "dc76fe50e57c9595",
   "metadata": {
    "ExecuteTime": {
     "end_time": "2023-09-18T01:35:34.837320900Z",
     "start_time": "2023-09-18T01:35:34.792989900Z"
    },
    "collapsed": false
   },
   "outputs": [
    {
     "name": "stdout",
     "output_type": "stream",
     "text": [
      "Index(['혈압수축기_88', '혈압수축기_88.1'], dtype='object')\n",
      "Index(['혈압이완기_89', '혈압이완기_89.1'], dtype='object')\n",
      "************************************\n",
      "Missings: 5836\n",
      "  90.04 (88.60,91.48)   85.04 (83.73,86.35)   0.0000\n"
     ]
    }
   ],
   "source": [
    "col_names = find_name_of_col_bundanglogicnum('88')\n",
    "print(col_names)\n",
    "selected_col = col_names[1]\n",
    "cases_, conts_ = cases[selected_col], conts[selected_col]\n",
    "col_names = find_name_of_col_bundanglogicnum('89')\n",
    "print(col_names)\n",
    "selected_col = col_names[1]\n",
    "cases2_, conts2_ = cases[selected_col], conts[selected_col]\n",
    "print('************************************')\n",
    "analy_for_conti_values((cases_+cases2_*2)/3, (conts_+conts2_*2)/3)"
   ]
  },
  {
   "cell_type": "code",
   "execution_count": 151,
   "id": "b355f7e1294daeaa",
   "metadata": {
    "ExecuteTime": {
     "end_time": "2023-09-18T01:44:46.624589500Z",
     "start_time": "2023-09-18T01:44:46.593341400Z"
    },
    "collapsed": false
   },
   "outputs": [
    {
     "name": "stdout",
     "output_type": "stream",
     "text": [
      "BMI11_94\n",
      "************************************\n",
      "Missings: 5186\n",
      "  24.86 (24.36,25.36)   22.51 (22.10,22.92)   0.0000\n"
     ]
    }
   ],
   "source": [
    "selected_col = 'BMI11_94'\n",
    "print(selected_col)\n",
    "# print(bdc_data[selected_col].unique())\n",
    "cases_, conts_ = cases[selected_col], conts[selected_col]\n",
    "# print(cases_.unique(), conts_.unique())\n",
    "def tempfunc_(x):\n",
    "    if pd.isna(x):\n",
    "        return np.nan\n",
    "    if (x==' ') or (x=='  '):\n",
    "        return np.nan\n",
    "    x = np.float32(x)\n",
    "    if ((x<15) or (x>50)):\n",
    "        return np.nan\n",
    "    return x\n",
    "print('************************************')\n",
    "cases__ = cases_.apply(lambda x: tempfunc_(x))\n",
    "conts__ = conts_.apply(lambda x: tempfunc_(x))\n",
    "analy_for_conti_values(cases__, conts__)"
   ]
  },
  {
   "cell_type": "code",
   "execution_count": 55,
   "id": "79aaca242e89e6b2",
   "metadata": {
    "ExecuteTime": {
     "end_time": "2023-09-18T00:31:32.678810100Z",
     "start_time": "2023-09-18T00:31:32.647558300Z"
    },
    "collapsed": false
   },
   "outputs": [
    {
     "name": "stdout",
     "output_type": "stream",
     "text": [
      "BMI11_94\n",
      "************************************\n",
      "Missings: 5186\n",
      "243(85.9) 2531(96.0)\n",
      "40(14.1) 106(4.0)\n",
      "  0.000\n"
     ]
    }
   ],
   "source": [
    "selected_col = 'BMI11_94'\n",
    "print(selected_col)\n",
    "cases_, conts_ = cases[selected_col], conts[selected_col]\n",
    "def tempfunc_(x):\n",
    "    if pd.isna(x):\n",
    "        return np.nan\n",
    "    if (x==' ') or (x=='  '):\n",
    "        return np.nan\n",
    "    x = np.float32(x)\n",
    "    if ((x<15) or (x>50)):\n",
    "        return np.nan\n",
    "    if x>=30:\n",
    "        return 1\n",
    "    return 0\n",
    "cases__ = cases_.apply(lambda x: tempfunc_(x))\n",
    "conts__ = conts_.apply(lambda x: tempfunc_(x))\n",
    "print('************************************')\n",
    "analy_for_cate_values(cases__, conts__)"
   ]
  },
  {
   "cell_type": "code",
   "execution_count": 56,
   "id": "cb590670d2b35844",
   "metadata": {
    "ExecuteTime": {
     "end_time": "2023-09-18T00:31:32.818220200Z",
     "start_time": "2023-09-18T00:31:32.771348400Z"
    },
    "collapsed": false
   },
   "outputs": [
    {
     "name": "stdout",
     "output_type": "stream",
     "text": [
      "혈압수축기11_91\n",
      "************************************\n",
      "Missings: 2714\n",
      "  117.89 (116.82,118.97)   113.18 (112.16,114.21)   0.0000\n"
     ]
    }
   ],
   "source": [
    "selected_col = '혈압수축기11_91'\n",
    "print(selected_col)\n",
    "cases_, conts_ = cases[selected_col], conts[selected_col]\n",
    "def tempfunc_(x):\n",
    "    if pd.isna(x):\n",
    "        return np.nan\n",
    "    if (x==' ') or (x=='  '):\n",
    "        return np.nan\n",
    "    return np.float32(x)\n",
    "print('************************************')\n",
    "cases__ = cases_.apply(lambda x: tempfunc_(x))\n",
    "conts__ = conts_.apply(lambda x: tempfunc_(x))\n",
    "analy_for_conti_values(cases__, conts__)"
   ]
  },
  {
   "cell_type": "code",
   "execution_count": 57,
   "id": "12cd744411ebe23d",
   "metadata": {
    "ExecuteTime": {
     "end_time": "2023-09-18T00:31:32.958042200Z",
     "start_time": "2023-09-18T00:31:32.895541600Z"
    },
    "collapsed": false
   },
   "outputs": [
    {
     "name": "stdout",
     "output_type": "stream",
     "text": [
      "혈압이완기11_92\n",
      "************************************\n",
      "Missings: 2713\n",
      "  72.59 (71.68,73.49)   69.43 (68.42,70.44)   0.0000\n"
     ]
    }
   ],
   "source": [
    "selected_col = '혈압이완기11_92'\n",
    "print(selected_col)\n",
    "cases_, conts_ = cases[selected_col], conts[selected_col]\n",
    "def tempfunc_(x):\n",
    "    if pd.isna(x):\n",
    "        return np.nan\n",
    "    if (x==' ') or (x=='  '):\n",
    "        return np.nan\n",
    "    return np.float32(x)\n",
    "print('************************************')\n",
    "cases__ = cases_.apply(lambda x: tempfunc_(x))\n",
    "conts__ = conts_.apply(lambda x: tempfunc_(x))\n",
    "analy_for_conti_values(cases__, conts__)"
   ]
  },
  {
   "cell_type": "code",
   "execution_count": 58,
   "id": "2464fb50e3619c79",
   "metadata": {
    "ExecuteTime": {
     "end_time": "2023-09-18T00:31:33.064533500Z",
     "start_time": "2023-09-18T00:31:33.033284100Z"
    },
    "collapsed": false
   },
   "outputs": [
    {
     "name": "stdout",
     "output_type": "stream",
     "text": [
      "혈압이완기11_92\n",
      "혈압수축기11_91\n",
      "************************************\n",
      "Missings: 2714\n",
      "  87.69 (86.79,88.59)   84.01 (83.12,84.90)   0.0000\n"
     ]
    }
   ],
   "source": [
    "selected_col = '혈압이완기11_92'\n",
    "print(selected_col)\n",
    "cases_, conts_ = cases[selected_col], conts[selected_col]\n",
    "def tempfunc_(x):\n",
    "    if pd.isna(x):\n",
    "        return np.nan\n",
    "    if (x==' ') or (x=='  '):\n",
    "        return np.nan\n",
    "    return np.float32(x)\n",
    "cases__ = cases_.apply(lambda x: tempfunc_(x))\n",
    "conts__ = conts_.apply(lambda x: tempfunc_(x))\n",
    "selected_col = '혈압수축기11_91'\n",
    "print(selected_col)\n",
    "cases_, conts_ = cases[selected_col], conts[selected_col]\n",
    "cases2__ = cases_.apply(lambda x: tempfunc_(x))\n",
    "conts2__ = conts_.apply(lambda x: tempfunc_(x))\n",
    "print('************************************')\n",
    "analy_for_conti_values((cases__*2+cases2__)/3, (conts__*2+conts2__)/3)"
   ]
  },
  {
   "cell_type": "code",
   "execution_count": 144,
   "id": "ca72962bfb40cacc",
   "metadata": {
    "ExecuteTime": {
     "end_time": "2023-09-18T01:37:04.965336800Z",
     "start_time": "2023-09-18T01:37:04.949346500Z"
    },
    "collapsed": false
   },
   "outputs": [
    {
     "name": "stdout",
     "output_type": "stream",
     "text": [
      "BMI16_98\n",
      "************************************\n",
      "Missings: 5456\n",
      "  25.33 (24.87,25.78)   23.15 (22.75,23.54)   0.0000\n"
     ]
    }
   ],
   "source": [
    "selected_col = 'BMI16_98'\n",
    "print(selected_col)\n",
    "# print(bdc_data[selected_col].unique())\n",
    "cases_, conts_ = cases[selected_col], conts[selected_col]\n",
    "def tempfunc_(x):\n",
    "    if pd.isna(x):\n",
    "        return np.nan\n",
    "    if (x==' ') or (x=='  '):\n",
    "        return np.nan\n",
    "    x = np.float32(x)\n",
    "    if ((x<15) or (x>=50)):\n",
    "        return np.nan\n",
    "    return x\n",
    "print('************************************')\n",
    "cases__ = cases_.apply(lambda x: tempfunc_(x))\n",
    "conts__ = conts_.apply(lambda x: tempfunc_(x))\n",
    "analy_for_conti_values(cases__, conts__)"
   ]
  },
  {
   "cell_type": "code",
   "execution_count": 60,
   "id": "a097584bc1270af4",
   "metadata": {
    "ExecuteTime": {
     "end_time": "2023-09-18T00:31:33.343027500Z",
     "start_time": "2023-09-18T00:31:33.296152100Z"
    },
    "collapsed": false
   },
   "outputs": [
    {
     "name": "stdout",
     "output_type": "stream",
     "text": [
      "BMI16_98\n",
      "************************************\n",
      "Missings: 5456\n",
      "265(86.3) 2227(95.0)\n",
      "42(13.7) 116(5.0)\n",
      "  0.000\n"
     ]
    }
   ],
   "source": [
    "selected_col = 'BMI16_98'\n",
    "print(selected_col)\n",
    "cases_, conts_ = cases[selected_col], conts[selected_col]\n",
    "def tempfunc_(x):\n",
    "    if pd.isna(x):\n",
    "        return np.nan\n",
    "    if (x==' ') or (x=='  '):\n",
    "        return np.nan\n",
    "    x = np.float32(x)\n",
    "    if ((x<15) or (x>50)):\n",
    "        return np.nan\n",
    "    if x>=30:\n",
    "        return 1\n",
    "    return 0\n",
    "cases__ = cases_.apply(lambda x: tempfunc_(x))\n",
    "conts__ = conts_.apply(lambda x: tempfunc_(x))\n",
    "print('************************************')\n",
    "analy_for_cate_values(cases__, conts__)"
   ]
  },
  {
   "cell_type": "code",
   "execution_count": 61,
   "id": "96293327d2c54e77",
   "metadata": {
    "ExecuteTime": {
     "end_time": "2023-09-18T00:31:33.446556900Z",
     "start_time": "2023-09-18T00:31:33.415294200Z"
    },
    "collapsed": false
   },
   "outputs": [
    {
     "name": "stdout",
     "output_type": "stream",
     "text": [
      "혈압수축기16_95\n",
      "************************************\n",
      "Missings: 1992\n",
      "  116.96 (115.97,117.95)   112.04 (111.14,112.94)   0.0000\n"
     ]
    }
   ],
   "source": [
    "selected_col = '혈압수축기16_95'\n",
    "print(selected_col)\n",
    "cases_, conts_ = cases[selected_col], conts[selected_col]\n",
    "def tempfunc_(x):\n",
    "    if pd.isna(x):\n",
    "        return np.nan\n",
    "    if (x==' ') or (x=='  '):\n",
    "        return np.nan\n",
    "    return np.float32(x)\n",
    "print('************************************')\n",
    "cases__ = cases_.apply(lambda x: tempfunc_(x))\n",
    "conts__ = conts_.apply(lambda x: tempfunc_(x))\n",
    "analy_for_conti_values(cases__, conts__)"
   ]
  },
  {
   "cell_type": "code",
   "execution_count": 62,
   "id": "e2591f28e91f7a0e",
   "metadata": {
    "ExecuteTime": {
     "end_time": "2023-09-18T00:31:33.573324700Z",
     "start_time": "2023-09-18T00:31:33.541801800Z"
    },
    "collapsed": false
   },
   "outputs": [
    {
     "name": "stdout",
     "output_type": "stream",
     "text": [
      "혈압이완기16_96\n",
      "************************************\n",
      "Missings: 1994\n",
      "  71.38 (69.35,73.40)   67.11 (65.93,68.28)   0.0000\n"
     ]
    }
   ],
   "source": [
    "selected_col = '혈압이완기16_96'\n",
    "print(selected_col)\n",
    "cases_, conts_ = cases[selected_col], conts[selected_col]\n",
    "def tempfunc_(x):\n",
    "    if pd.isna(x):\n",
    "        return np.nan\n",
    "    if (x==' ') or (x=='  '):\n",
    "        return np.nan\n",
    "    return np.float32(x)\n",
    "print('************************************')\n",
    "cases__ = cases_.apply(lambda x: tempfunc_(x))\n",
    "conts__ = conts_.apply(lambda x: tempfunc_(x))\n",
    "analy_for_conti_values(cases__, conts__)"
   ]
  },
  {
   "cell_type": "code",
   "execution_count": 63,
   "id": "24171a3ac2dde371",
   "metadata": {
    "ExecuteTime": {
     "end_time": "2023-09-18T00:31:33.701597400Z",
     "start_time": "2023-09-18T00:31:33.677241200Z"
    },
    "collapsed": false
   },
   "outputs": [
    {
     "name": "stdout",
     "output_type": "stream",
     "text": [
      "혈압이완기16_96\n",
      "혈압수축기16_95\n",
      "************************************\n",
      "Missings: 1994\n",
      "  86.57 (85.11,88.03)   82.08 (81.14,83.03)   0.0000\n"
     ]
    }
   ],
   "source": [
    "selected_col = '혈압이완기16_96'\n",
    "print(selected_col)\n",
    "cases_, conts_ = cases[selected_col], conts[selected_col]\n",
    "def tempfunc_(x):\n",
    "    if pd.isna(x):\n",
    "        return np.nan\n",
    "    if (x==' ') or (x=='  '):\n",
    "        return np.nan\n",
    "    return np.float32(x)\n",
    "cases__ = cases_.apply(lambda x: tempfunc_(x))\n",
    "conts__ = conts_.apply(lambda x: tempfunc_(x))\n",
    "selected_col = '혈압수축기16_95'\n",
    "print(selected_col)\n",
    "cases_, conts_ = cases[selected_col], conts[selected_col]\n",
    "cases2__ = cases_.apply(lambda x: tempfunc_(x))\n",
    "conts2__ = conts_.apply(lambda x: tempfunc_(x))\n",
    "print('************************************')\n",
    "analy_for_conti_values((cases__*2+cases2__)/3, (conts__*2+conts2__)/3)"
   ]
  },
  {
   "cell_type": "code",
   "execution_count": 145,
   "id": "4076bf4e8bf5359d",
   "metadata": {
    "ExecuteTime": {
     "end_time": "2023-09-18T01:37:26.406217900Z",
     "start_time": "2023-09-18T01:37:26.374959500Z"
    },
    "collapsed": false
   },
   "outputs": [
    {
     "name": "stdout",
     "output_type": "stream",
     "text": [
      "BMI20_101\n",
      "************************************\n",
      "Missings: 5148\n",
      "  26.12 (25.70,26.54)   24.03 (23.66,24.39)   0.0000\n"
     ]
    }
   ],
   "source": [
    "selected_col = 'BMI20_101'\n",
    "print(selected_col)\n",
    "# print(bdc_data[selected_col].unique())\n",
    "cases_, conts_ = cases[selected_col], conts[selected_col]\n",
    "def tempfunc_(x):\n",
    "    if pd.isna(x):\n",
    "        return np.nan\n",
    "    if (x==' ') or (x=='  '):\n",
    "        return np.nan\n",
    "    x = np.float32(x)\n",
    "    if ((x<15) or (x>50)):\n",
    "        return np.nan\n",
    "    return x\n",
    "print('************************************')\n",
    "cases__ = cases_.apply(lambda x: tempfunc_(x))\n",
    "conts__ = conts_.apply(lambda x: tempfunc_(x))\n",
    "analy_for_conti_values(cases__, conts__)"
   ]
  },
  {
   "cell_type": "code",
   "execution_count": 65,
   "id": "9f1a208599589240",
   "metadata": {
    "ExecuteTime": {
     "end_time": "2023-09-18T00:31:33.974319900Z",
     "start_time": "2023-09-18T00:31:33.911820300Z"
    },
    "collapsed": false
   },
   "outputs": [
    {
     "name": "stdout",
     "output_type": "stream",
     "text": [
      "BMI20_101\n",
      "************************************\n",
      "Missings: 5148\n",
      "295(83.3) 2430(93.3)\n",
      "59(16.7) 174(6.7)\n",
      "  0.000\n"
     ]
    }
   ],
   "source": [
    "selected_col = 'BMI20_101'\n",
    "print(selected_col)\n",
    "cases_, conts_ = cases[selected_col], conts[selected_col]\n",
    "def tempfunc_(x):\n",
    "    if pd.isna(x):\n",
    "        return np.nan\n",
    "    if (x==' ') or (x=='  '):\n",
    "        return np.nan\n",
    "    x = np.float32(x)\n",
    "    if ((x<15) or (x>50)):\n",
    "        return np.nan\n",
    "    if x>=30:\n",
    "        return 1\n",
    "    return 0\n",
    "cases__ = cases_.apply(lambda x: tempfunc_(x))\n",
    "conts__ = conts_.apply(lambda x: tempfunc_(x))\n",
    "print('************************************')\n",
    "analy_for_cate_values(cases__, conts__)"
   ]
  },
  {
   "cell_type": "code",
   "execution_count": 66,
   "id": "5a53093a6ff6f79a",
   "metadata": {
    "ExecuteTime": {
     "end_time": "2023-09-18T00:31:34.074264900Z",
     "start_time": "2023-09-18T00:31:34.043014500Z"
    },
    "collapsed": false
   },
   "outputs": [
    {
     "name": "stdout",
     "output_type": "stream",
     "text": [
      "혈압수축기20_99_1\n",
      "************************************\n",
      "Missings: 1631\n",
      "  116.50 (115.58,117.43)   112.11 (111.25,112.97)   0.0000\n"
     ]
    }
   ],
   "source": [
    "selected_col = '혈압수축기20_99_1'\n",
    "print(selected_col)\n",
    "cases_, conts_ = cases[selected_col], conts[selected_col]\n",
    "def tempfunc_(x):\n",
    "    if pd.isna(x):\n",
    "        return np.nan\n",
    "    if (x==' ') or (x=='  '):\n",
    "        return np.nan\n",
    "    return np.float32(x)\n",
    "print('************************************')\n",
    "cases__ = cases_.apply(lambda x: tempfunc_(x))\n",
    "conts__ = conts_.apply(lambda x: tempfunc_(x))\n",
    "analy_for_conti_values(cases__, conts__)"
   ]
  },
  {
   "cell_type": "code",
   "execution_count": 67,
   "id": "19e8f04aa2e9b0b6",
   "metadata": {
    "ExecuteTime": {
     "end_time": "2023-09-18T00:31:34.189150800Z",
     "start_time": "2023-09-18T00:31:34.173525200Z"
    },
    "collapsed": false
   },
   "outputs": [
    {
     "name": "stdout",
     "output_type": "stream",
     "text": [
      "혈압이완기20_99_2\n",
      "************************************\n",
      "Missings: 1631\n",
      "  70.75 (68.94,72.57)   66.58 (65.67,67.48)   0.0000\n"
     ]
    }
   ],
   "source": [
    "selected_col = '혈압이완기20_99_2'\n",
    "print(selected_col)\n",
    "cases_, conts_ = cases[selected_col], conts[selected_col]\n",
    "def tempfunc_(x):\n",
    "    if pd.isna(x):\n",
    "        return np.nan\n",
    "    if (x==' ') or (x=='  '):\n",
    "        return np.nan\n",
    "    return np.float32(x)\n",
    "print('************************************')\n",
    "cases__ = cases_.apply(lambda x: tempfunc_(x))\n",
    "conts__ = conts_.apply(lambda x: tempfunc_(x))\n",
    "analy_for_conti_values(cases__, conts__)"
   ]
  },
  {
   "cell_type": "code",
   "execution_count": 68,
   "id": "1c3a588fd3d2f0e5",
   "metadata": {
    "ExecuteTime": {
     "end_time": "2023-09-18T00:31:34.331956200Z",
     "start_time": "2023-09-18T00:31:34.316290800Z"
    },
    "collapsed": false
   },
   "outputs": [
    {
     "name": "stdout",
     "output_type": "stream",
     "text": [
      "혈압이완기20_99_2\n",
      "혈압수축기20_99_1\n",
      "************************************\n",
      "Missings: 1632\n",
      "  86.00 (84.68,87.32)   81.75 (80.97,82.53)   0.0000\n"
     ]
    }
   ],
   "source": [
    "selected_col = '혈압이완기20_99_2'\n",
    "print(selected_col)\n",
    "cases_, conts_ = cases[selected_col], conts[selected_col]\n",
    "def tempfunc_(x):\n",
    "    if pd.isna(x):\n",
    "        return np.nan\n",
    "    if (x==' ') or (x=='  '):\n",
    "        return np.nan\n",
    "    return np.float32(x)\n",
    "cases__ = cases_.apply(lambda x: tempfunc_(x))\n",
    "conts__ = conts_.apply(lambda x: tempfunc_(x))\n",
    "selected_col = '혈압수축기20_99_1'\n",
    "print(selected_col)\n",
    "cases_, conts_ = cases[selected_col], conts[selected_col]\n",
    "cases2__ = cases_.apply(lambda x: tempfunc_(x))\n",
    "conts2__ = conts_.apply(lambda x: tempfunc_(x))\n",
    "print('************************************')\n",
    "analy_for_conti_values((cases__*2+cases2__)/3, (conts__*2+conts2__)/3)"
   ]
  },
  {
   "cell_type": "code",
   "execution_count": 156,
   "id": "a22dc0e231519621",
   "metadata": {
    "ExecuteTime": {
     "end_time": "2023-09-18T01:49:18.940050900Z",
     "start_time": "2023-09-18T01:49:18.861969600Z"
    },
    "collapsed": false
   },
   "outputs": [
    {
     "name": "stdout",
     "output_type": "stream",
     "text": [
      "함+산\n",
      "PAPP-A(MoM)\n",
      "INTEGRATED1차주_122\n",
      "[0.504   nan 1.263 ... 2.557 2.184 2.628]\n",
      "['11' nan '12' '-65' '13' '10' '14' '-116' '-45' '-82' '-238' '-273' '15'\n",
      " '-93' '-134' '-172' '-178' '-145' 11 12 13 10 -117 ' ' -46 -77 -38 '-52']\n",
      "************************************\n",
      "5248\n",
      "Missings: 40\n",
      "  1.11 (1.05,1.16)   1.20 (1.15,1.26)   0.0011\n"
     ]
    }
   ],
   "source": [
    "selected_col = '함+산\\nPAPP-A(MoM)'\n",
    "print(selected_col)\n",
    "a = np.where(bdc_data.columns==selected_col)[0][0]\n",
    "for i in range(1,20):\n",
    "    if '차주' in bdc_data.columns[a-i]:\n",
    "        print(bdc_data.columns[a-i]);week_i = a-i\n",
    "        break\n",
    "print(bdc_data[selected_col].unique())\n",
    "print(bdc_data.iloc[:,week_i].unique())\n",
    "def func_for_week(x):\n",
    "    if pd.isna(x):\n",
    "        return False\n",
    "    elif x == ' ':\n",
    "        return False\n",
    "    elif (float(x)<=22)&(float(x)>=0):\n",
    "        return True\n",
    "    return False\n",
    "cases_, conts_ = cases[cases.iloc[:,week_i].apply(lambda x: func_for_week(x))], conts[conts.iloc[:,week_i].apply(lambda x: func_for_week(x))]\n",
    "cases_, conts_ = cases_[selected_col], conts_[selected_col]\n",
    "print('************************************')\n",
    "print(len(cases_)+len(conts_))\n",
    "analy_for_conti_values(cases_, conts_)"
   ]
  },
  {
   "cell_type": "code",
   "execution_count": 157,
   "id": "8f72d79c7fdd1d9",
   "metadata": {
    "ExecuteTime": {
     "end_time": "2023-09-18T01:50:01.728138200Z",
     "start_time": "2023-09-18T01:50:01.681068100Z"
    },
    "collapsed": false
   },
   "outputs": [
    {
     "name": "stdout",
     "output_type": "stream",
     "text": [
      "함+산\n",
      "AFP MoM\n",
      "INTEGRAGTED2차주_146\n",
      "[0.806   nan 0.913 ... 1.506 1.193 2.467]\n",
      "************************************\n",
      "5401\n",
      "Missings: 8\n",
      "  1.10 (1.07,1.14)   1.07 (1.03,1.10)   0.0629\n"
     ]
    }
   ],
   "source": [
    "selected_col = '함+산\\nAFP MoM'\n",
    "print(selected_col)\n",
    "a = np.where(bdc_data.columns==selected_col)[0][0]\n",
    "for i in range(1,20):\n",
    "    if '차주' in bdc_data.columns[a-i]:\n",
    "        print(bdc_data.columns[a-i]);week_i = a-i\n",
    "        break\n",
    "print(bdc_data[selected_col].unique())\n",
    "cases_, conts_ = cases[cases.iloc[:,week_i].apply(lambda x: func_for_week(x))], conts[conts.iloc[:,week_i].apply(lambda x: func_for_week(x))]\n",
    "cases_, conts_ = cases_[selected_col], conts_[selected_col]\n",
    "print('************************************')\n",
    "print(len(cases_)+len(conts_))\n",
    "analy_for_conti_values(cases_, conts_)"
   ]
  },
  {
   "cell_type": "code",
   "execution_count": 71,
   "id": "92234752ff00364e",
   "metadata": {
    "ExecuteTime": {
     "end_time": "2023-09-18T00:31:34.779077300Z",
     "start_time": "2023-09-18T00:31:34.688801400Z"
    },
    "collapsed": false
   },
   "outputs": [
    {
     "name": "stdout",
     "output_type": "stream",
     "text": [
      "함+산\n",
      "TotalhCGB MoM\n",
      "INTEGRAGTED2차주_146\n",
      "[0.878   nan 0.787 ... 0.294 3.119 3.134]\n",
      "************************************\n",
      "5401\n",
      "Missings: 8\n",
      "  1.21 (1.15,1.27)   1.18 (1.12,1.23)   0.2587\n"
     ]
    }
   ],
   "source": [
    "selected_col = '함+산\\nTotalhCGB MoM'\n",
    "print(selected_col)\n",
    "a = np.where(bdc_data.columns==selected_col)[0][0]\n",
    "for i in range(1,20):\n",
    "    if '차주' in bdc_data.columns[a-i]:\n",
    "        print(bdc_data.columns[a-i]);week_i = a-i\n",
    "        break\n",
    "print(bdc_data[selected_col].unique())\n",
    "cases_, conts_ = cases[cases.iloc[:,week_i].apply(lambda x: func_for_week(x))], conts[conts.iloc[:,week_i].apply(lambda x: func_for_week(x))]\n",
    "cases_, conts_ = cases_[selected_col], conts_[selected_col]\n",
    "print('************************************')\n",
    "print(len(cases_)+len(conts_))\n",
    "analy_for_conti_values(cases_, conts_)"
   ]
  },
  {
   "cell_type": "code",
   "execution_count": 72,
   "id": "4bb6800a9c8198f3",
   "metadata": {
    "ExecuteTime": {
     "end_time": "2023-09-18T00:31:34.908020Z",
     "start_time": "2023-09-18T00:31:34.841577800Z"
    },
    "collapsed": false
   },
   "outputs": [
    {
     "name": "stdout",
     "output_type": "stream",
     "text": [
      "함+산\n",
      "UE3 MoM\n",
      "INTEGRAGTED2차주_146\n",
      "[0.666   nan 0.839 ... 1.959 1.456 1.378]\n",
      "************************************\n",
      "5401\n",
      "Missings: 8\n",
      "  0.99 (0.96,1.01)   1.03 (0.91,1.14)   0.4748\n"
     ]
    }
   ],
   "source": [
    "selected_col = '함+산\\nUE3 MoM'\n",
    "print(selected_col)\n",
    "a = np.where(bdc_data.columns==selected_col)[0][0]\n",
    "for i in range(1,20):\n",
    "    if '차주' in bdc_data.columns[a-i]:\n",
    "        print(bdc_data.columns[a-i]);week_i = a-i\n",
    "        break\n",
    "print(bdc_data[selected_col].unique())\n",
    "cases_, conts_ = cases[cases.iloc[:,week_i].apply(lambda x: func_for_week(x))], conts[conts.iloc[:,week_i].apply(lambda x: func_for_week(x))]\n",
    "cases_, conts_ = cases_[selected_col], conts_[selected_col]\n",
    "print('************************************')\n",
    "print(len(cases_)+len(conts_))\n",
    "analy_for_conti_values(cases_, conts_)"
   ]
  },
  {
   "cell_type": "code",
   "execution_count": 73,
   "id": "9c654485cd2be460",
   "metadata": {
    "ExecuteTime": {
     "end_time": "2023-09-18T00:31:35.098245200Z",
     "start_time": "2023-09-18T00:31:34.986180100Z"
    },
    "collapsed": false
   },
   "outputs": [
    {
     "name": "stdout",
     "output_type": "stream",
     "text": [
      "함+산\n",
      "INHIBIN MoM\n",
      "INTEGRAGTED2차주_146\n",
      "[0.788   nan 1.042 ... 1.637 0.521 2.018]\n",
      "************************************\n",
      "5401\n",
      "Missings: 8\n",
      "  1.09 (1.04,1.13)   1.07 (1.02,1.12)   0.4745\n"
     ]
    }
   ],
   "source": [
    "selected_col = '함+산\\nINHIBIN MoM'\n",
    "print(selected_col)\n",
    "a = np.where(bdc_data.columns==selected_col)[0][0]\n",
    "for i in range(1,20):\n",
    "    if '차주' in bdc_data.columns[a-i]:\n",
    "        print(bdc_data.columns[a-i]);week_i = a-i\n",
    "        break\n",
    "print(bdc_data[selected_col].unique())\n",
    "cases_, conts_ = cases[cases.iloc[:,week_i].apply(lambda x: func_for_week(x))], conts[conts.iloc[:,week_i].apply(lambda x: func_for_week(x))]\n",
    "cases_, conts_ = cases_[selected_col], conts_[selected_col]\n",
    "print('************************************')\n",
    "print(len(cases_)+len(conts_))\n",
    "analy_for_conti_values(cases_, conts_)"
   ]
  },
  {
   "cell_type": "code",
   "execution_count": 158,
   "id": "ed44f573f1feef7c",
   "metadata": {
    "ExecuteTime": {
     "end_time": "2023-09-18T01:51:34.448568800Z",
     "start_time": "2023-09-18T01:51:34.401497200Z"
    },
    "collapsed": false
   },
   "outputs": [
    {
     "name": "stdout",
     "output_type": "stream",
     "text": [
      "Index(['WBC_118_1'], dtype='object')\n",
      "주_계산.8\n",
      "[10.77 10.53  6.67 ... 12.74 13.3  18.76]\n",
      "[11. 35. 10.  7. 37.  9. 34. 16. 12. 36. 13. 23. 38.  6. 26. 29. 33. 19.\n",
      " 22. 32. 14. 25. 39. 27.  8. 17. 15. 18. nan 20. 28. 31.  3. 24. 30. 21.\n",
      " 40.  5.  4.  0. -1. -4.  2. -2.  1. -5.]\n",
      "************************************\n",
      "3726\n",
      "Missings: 0\n",
      "  9.07 (8.85,9.29)   8.33 (8.13,8.53)   0.0000\n"
     ]
    },
    {
     "data": {
      "text/plain": [
       "329"
      ]
     },
     "execution_count": 158,
     "metadata": {},
     "output_type": "execute_result"
    }
   ],
   "source": [
    "col_names = find_name_of_col_bundanglogicnum('118_1')\n",
    "print(col_names)\n",
    "selected_col = col_names[-1]\n",
    "a = np.where(bdc_data.columns==selected_col)[0][0]\n",
    "for i in range(1,20):\n",
    "    if '주_계산' in bdc_data.columns[a+i]:\n",
    "        print(bdc_data.columns[a+i]);week_i = a+i\n",
    "        break\n",
    "print(bdc_data[selected_col].unique())\n",
    "print(bdc_data.iloc[:,week_i].unique())\n",
    "def func_for_week(x):\n",
    "    if pd.isna(x):\n",
    "        return False\n",
    "    if x=='Error':\n",
    "        return False\n",
    "    if (float(x)<=22)&(float(x)>0):\n",
    "        return True\n",
    "    return False\n",
    "cases_, conts_ = cases[cases.iloc[:,week_i].apply(lambda x: func_for_week(x))], conts[conts.iloc[:,week_i].apply(lambda x: func_for_week(x))]\n",
    "cases_, conts_ = cases_[selected_col], conts_[selected_col]\n",
    "print('************************************')\n",
    "print(len(cases_)+len(conts_))\n",
    "analy_for_conti_values(cases_, conts_)\n",
    "week_i"
   ]
  },
  {
   "cell_type": "code",
   "execution_count": 75,
   "id": "f54c69fa84a7ee9",
   "metadata": {
    "ExecuteTime": {
     "end_time": "2023-09-18T00:31:35.263542800Z",
     "start_time": "2023-09-18T00:31:35.216668700Z"
    },
    "collapsed": false
   },
   "outputs": [
    {
     "name": "stdout",
     "output_type": "stream",
     "text": [
      "Index(['HGB_118_3'], dtype='object')\n",
      "주_계산.8\n",
      "************************************\n",
      "3726\n",
      "Missings: 0\n",
      "  12.62 (12.51,12.73)   12.47 (12.37,12.57)   0.0074\n"
     ]
    }
   ],
   "source": [
    "col_names = find_name_of_col_bundanglogicnum('118_3')\n",
    "print(col_names)\n",
    "selected_col = col_names[-1]\n",
    "a = np.where(bdc_data.columns==selected_col)[0][0]\n",
    "for i in range(1,20):\n",
    "    if '주_계산' in bdc_data.columns[a+i]:\n",
    "        print(bdc_data.columns[a+i]);week_i = a+i\n",
    "        break\n",
    "# print(bdc_data[selected_col].unique())\n",
    "# print(bdc_data.iloc[:,week_i].unique())\n",
    "def func_for_week(x):\n",
    "    if pd.isna(x):\n",
    "        return False\n",
    "    elif (float(x)<=22)&(float(x)>0):\n",
    "        return True\n",
    "    return False\n",
    "cases_, conts_ = cases[cases.iloc[:,week_i].apply(lambda x: func_for_week(x))], conts[conts.iloc[:,week_i].apply(lambda x: func_for_week(x))]\n",
    "cases_, conts_ = cases_[selected_col], conts_[selected_col]\n",
    "print('************************************')\n",
    "print(len(cases_)+len(conts_))\n",
    "analy_for_conti_values(cases_, conts_)"
   ]
  },
  {
   "cell_type": "code",
   "execution_count": 76,
   "id": "4c91699ffaaab07a",
   "metadata": {
    "ExecuteTime": {
     "end_time": "2023-09-18T00:31:35.412216200Z",
     "start_time": "2023-09-18T00:31:35.349716200Z"
    },
    "collapsed": false
   },
   "outputs": [
    {
     "name": "stdout",
     "output_type": "stream",
     "text": [
      "Index(['HCT_118_4'], dtype='object')\n",
      "주_계산.8\n",
      "************************************\n",
      "3726\n",
      "Missings: 0\n",
      "  37.17 (36.84,37.50)   36.80 (36.50,37.09)   0.0208\n"
     ]
    }
   ],
   "source": [
    "col_names = find_name_of_col_bundanglogicnum('118_4')\n",
    "print(col_names)\n",
    "selected_col = col_names[-1]\n",
    "a = np.where(bdc_data.columns == selected_col)[0][0]\n",
    "for i in range(1, 20):\n",
    "    if '주_계산' in bdc_data.columns[a + i]:\n",
    "        print(bdc_data.columns[a + i]);week_i = a + i\n",
    "        break\n",
    "def func_for_week(x):\n",
    "    if pd.isna(x):\n",
    "        return False\n",
    "    elif (float(x) <= 22) & (float(x) > 0):\n",
    "        return True\n",
    "    return False\n",
    "cases_, conts_ = cases[cases.iloc[:, week_i].apply(lambda x: func_for_week(x))], conts[\n",
    "    conts.iloc[:, week_i].apply(lambda x: func_for_week(x))]\n",
    "cases_, conts_ = cases_[selected_col], conts_[selected_col]\n",
    "print('************************************')\n",
    "print(len(cases_)+len(conts_))\n",
    "analy_for_conti_values(cases_, conts_)"
   ]
  },
  {
   "cell_type": "code",
   "execution_count": 77,
   "id": "d1120ac78cfc6d79",
   "metadata": {
    "ExecuteTime": {
     "end_time": "2023-09-18T00:31:35.573697900Z",
     "start_time": "2023-09-18T00:31:35.490489400Z"
    },
    "collapsed": false
   },
   "outputs": [
    {
     "name": "stdout",
     "output_type": "stream",
     "text": [
      "Index(['PLT_118_9'], dtype='object')\n",
      "주_계산.8\n",
      "************************************\n",
      "3726\n",
      "Missings: 0\n",
      "  265.90 (259.87,271.93)   247.28 (241.74,252.83)   0.0000\n"
     ]
    }
   ],
   "source": [
    "col_names = find_name_of_col_bundanglogicnum('118_9')\n",
    "print(col_names)\n",
    "selected_col = col_names[-1]\n",
    "a = np.where(bdc_data.columns == selected_col)[0][0]\n",
    "for i in range(1, 20):\n",
    "    if '주_계산' in bdc_data.columns[a + i]:\n",
    "        print(bdc_data.columns[a + i]);week_i = a + i\n",
    "        break\n",
    "def func_for_week(x):\n",
    "    if pd.isna(x):\n",
    "        return False\n",
    "    elif (float(x) <= 22) & (float(x) > 0):\n",
    "        return True\n",
    "    return False\n",
    "cases_, conts_ = cases[cases.iloc[:, week_i].apply(lambda x: func_for_week(x))], conts[\n",
    "    conts.iloc[:, week_i].apply(lambda x: func_for_week(x))]\n",
    "cases_, conts_ = cases_[selected_col], conts_[selected_col]\n",
    "print('************************************')\n",
    "print(len(cases_)+len(conts_))\n",
    "analy_for_conti_values(cases_, conts_)"
   ]
  },
  {
   "cell_type": "code",
   "execution_count": 78,
   "id": "5bdd9722bb52ae2b",
   "metadata": {
    "ExecuteTime": {
     "end_time": "2023-09-18T00:31:35.683073100Z",
     "start_time": "2023-09-18T00:31:35.620573400Z"
    },
    "collapsed": false
   },
   "outputs": [
    {
     "name": "stdout",
     "output_type": "stream",
     "text": [
      "Index(['TSH_118_30', 'TSH_118_30.1', 'TSH_118_30.2'], dtype='object')\n",
      "주_계산.19\n",
      "['0.842' nan '0.582' ... 1.243 2.072 0.302]\n",
      "[11. nan 10.  7. -1.  9. 12. 23.  6. 17. 34. 19. 15. 16.  8. 13. 25.  3.\n",
      " 22. 26. 18. 30. 14. 20. 36. 38. 27. 21. 29.  0. 28. 35. 24.  4. 37.  1.\n",
      " 31. 39.  5. 33.  2. 32. 40. -8.]\n",
      "************************************\n",
      "4475\n",
      "Missings: 0\n",
      "  1.38 (1.26,1.49)   1.30 (1.16,1.44)   0.2810\n"
     ]
    }
   ],
   "source": [
    "col_names = find_name_of_col_bundanglogicnum('118_30')\n",
    "print(col_names)\n",
    "selected_col = col_names[-1]\n",
    "a = np.where(bdc_data.columns == selected_col)[0][0]\n",
    "for i in range(1, 20):\n",
    "    if '주_계산' in bdc_data.columns[a - i]:\n",
    "        print(bdc_data.columns[a - i]);week_i = a - i\n",
    "        break\n",
    "print(bdc_data[selected_col].unique())\n",
    "print(bdc_data.iloc[:,week_i].unique())\n",
    "def func_for_week(x):\n",
    "    if x is np.nan:\n",
    "        return False\n",
    "    elif (float(x) <= 22) & (float(x) > 0):\n",
    "        return True\n",
    "    return False\n",
    "def tempfunc(x):\n",
    "    if pd.isna(x):\n",
    "        return np.nan\n",
    "    elif type(x)==str:\n",
    "        return float(x.replace('<',''))\n",
    "    return float(x)\n",
    "cases_, conts_ = cases[cases.iloc[:, week_i].apply(lambda x: func_for_week(x))], conts[\n",
    "    conts.iloc[:, week_i].apply(lambda x: func_for_week(x))]\n",
    "cases_, conts_ = cases_[selected_col].apply(lambda x: tempfunc(x)), conts_[selected_col].apply(lambda x: tempfunc(x))\n",
    "print('************************************')\n",
    "print(len(cases_)+len(conts_))\n",
    "analy_for_conti_values(cases_, conts_)"
   ]
  },
  {
   "cell_type": "code",
   "execution_count": 79,
   "id": "3ec62569c1ce848b",
   "metadata": {
    "ExecuteTime": {
     "end_time": "2023-09-18T00:31:35.906846300Z",
     "start_time": "2023-09-18T00:31:35.859972100Z"
    },
    "collapsed": false
   },
   "outputs": [
    {
     "name": "stdout",
     "output_type": "stream",
     "text": [
      "FT4_118_31.2\n",
      "주_계산.20\n",
      "************************************\n",
      "3805\n",
      "Missings: 0\n",
      "  1.21 (1.19,1.24)   1.23 (1.20,1.26)   0.2832\n"
     ]
    }
   ],
   "source": [
    "selected_col = 'FT4_118_31.2'\n",
    "print(selected_col)\n",
    "a = np.where(bdc_data.columns == selected_col)[0][0]\n",
    "for i in range(1, 20):\n",
    "    if '주_계산' in bdc_data.columns[a - i]:\n",
    "        print(bdc_data.columns[a - i]);week_i = a - i\n",
    "        break\n",
    "# print(bdc_data[selected_col].unique())\n",
    "# print(bdc_data.iloc[:,week_i].unique())\n",
    "def func_for_week(x):\n",
    "    if pd.isna(x):\n",
    "        return False\n",
    "    elif (float(x) <= 22) & (float(x) > 0):\n",
    "        return True\n",
    "    return False\n",
    "def tempfunc(x):\n",
    "    if pd.isna(x):\n",
    "        return np.nan\n",
    "    elif type(x)==str:\n",
    "        return float(x.replace('<','').replace('>',''))\n",
    "    return float(x)\n",
    "cases_, conts_ = cases[cases.iloc[:, week_i].apply(lambda x: func_for_week(x))], conts[\n",
    "    conts.iloc[:, week_i].apply(lambda x: func_for_week(x))]\n",
    "cases_, conts_ = cases_[selected_col].apply(lambda x: tempfunc(x)), conts_[selected_col].apply(lambda x: tempfunc(x))\n",
    "print('************************************')\n",
    "print(len(cases_)+len(conts_))\n",
    "analy_for_conti_values(cases_, conts_)"
   ]
  },
  {
   "cell_type": "code",
   "execution_count": 80,
   "id": "b975b2dc306eab4b",
   "metadata": {
    "ExecuteTime": {
     "end_time": "2023-09-18T00:31:36.095437Z",
     "start_time": "2023-09-18T00:31:36.035701300Z"
    },
    "collapsed": false
   },
   "outputs": [
    {
     "name": "stdout",
     "output_type": "stream",
     "text": [
      "ANTITPO_118_32.2\n",
      "주_계산.20\n",
      "************************************\n",
      "3805\n",
      "Missings: 1350\n",
      "  20.08 (13.79,26.38)   21.53 (14.23,28.83)   0.7096\n"
     ]
    }
   ],
   "source": [
    "selected_col = 'ANTITPO_118_32.2'\n",
    "print(selected_col)\n",
    "a = np.where(bdc_data.columns == selected_col)[0][0]\n",
    "for i in range(1, 20):\n",
    "    if '주_계산' in bdc_data.columns[a - i]:\n",
    "        print(bdc_data.columns[a - i]);week_i = a - i\n",
    "        break\n",
    "# print(bdc_data[selected_col].unique())\n",
    "# print(bdc_data.iloc[:,week_i].unique())\n",
    "def func_for_week(x):\n",
    "    if pd.isna(x):\n",
    "        return False\n",
    "    elif (float(x) <= 22) & (float(x) > 0):\n",
    "        return True\n",
    "    return False\n",
    "def tempfunc(x):\n",
    "    if pd.isna(x):\n",
    "        return np.nan\n",
    "    elif type(x)==str:\n",
    "        return float(x.replace('<','').replace('>',''))\n",
    "    return float(x)\n",
    "cases_, conts_ = cases[cases.iloc[:, week_i].apply(lambda x: func_for_week(x))], conts[\n",
    "    conts.iloc[:, week_i].apply(lambda x: func_for_week(x))]\n",
    "cases_, conts_ = cases_[selected_col].apply(lambda x: tempfunc(x)), conts_[selected_col].apply(lambda x: tempfunc(x))\n",
    "print('************************************')\n",
    "print(len(cases_)+len(conts_))\n",
    "analy_for_conti_values(cases_, conts_)"
   ]
  },
  {
   "cell_type": "code",
   "execution_count": 81,
   "id": "7ebde9070662c06",
   "metadata": {
    "ExecuteTime": {
     "end_time": "2023-09-18T00:31:36.261494100Z",
     "start_time": "2023-09-18T00:31:36.190701400Z"
    },
    "collapsed": false
   },
   "outputs": [
    {
     "name": "stdout",
     "output_type": "stream",
     "text": [
      "Index(['BUN_118_33', 'BUN_118_33.1', 'BUN_118_33.2'], dtype='object')\n",
      "주_계산.21\n",
      "************************************\n",
      "2741\n",
      "Missings: 0\n",
      "  7.92 (7.67,8.17)   7.96 (7.71,8.21)   0.7986\n"
     ]
    }
   ],
   "source": [
    "col_names = find_name_of_col_bundanglogicnum('118_33')\n",
    "print(col_names)\n",
    "selected_col = col_names[-1]\n",
    "a = np.where(bdc_data.columns == selected_col)[0][0]\n",
    "for i in range(1, 20):\n",
    "    if '주_계산' in bdc_data.columns[a - i]:\n",
    "        print(bdc_data.columns[a - i]);week_i = a - i\n",
    "        break\n",
    "# print(bdc_data[selected_col].unique())\n",
    "# print(bdc_data.iloc[:,week_i].unique())\n",
    "def func_for_week(x):\n",
    "    if pd.isna(x):\n",
    "        return False\n",
    "    elif (float(x) <= 22) & (float(x) > 0):\n",
    "        return True\n",
    "    return False\n",
    "def tempfunc(x):\n",
    "    if pd.isna(x):\n",
    "        return np.nan\n",
    "    elif type(x)==str:\n",
    "        return float(x.replace('<',''))\n",
    "    return float(x)\n",
    "cases_, conts_ = cases[cases.iloc[:, week_i].apply(lambda x: func_for_week(x))], conts[\n",
    "    conts.iloc[:, week_i].apply(lambda x: func_for_week(x))]\n",
    "cases_, conts_ = cases_[selected_col].apply(lambda x: tempfunc(x)), conts_[selected_col].apply(lambda x: tempfunc(x))\n",
    "print('************************************')\n",
    "print(len(cases_)+len(conts_))\n",
    "analy_for_conti_values(cases_, conts_)"
   ]
  },
  {
   "cell_type": "code",
   "execution_count": 82,
   "id": "3a17efed2489ccd7",
   "metadata": {
    "ExecuteTime": {
     "end_time": "2023-09-18T00:31:36.405742600Z",
     "start_time": "2023-09-18T00:31:36.355245400Z"
    },
    "collapsed": false
   },
   "outputs": [
    {
     "name": "stdout",
     "output_type": "stream",
     "text": [
      "Index(['CREATININE_118_34', 'CREATININE_118_34.1', 'CREATININE_118_34.2'], dtype='object')\n",
      "주_계산.22\n",
      "************************************\n",
      "2819\n",
      "Missings: 0\n",
      "  0.50 (0.49,0.51)   0.51 (0.50,0.52)   0.3517\n"
     ]
    }
   ],
   "source": [
    "col_names = find_name_of_col_bundanglogicnum('118_34')\n",
    "print(col_names)\n",
    "selected_col = col_names[-1]\n",
    "a = np.where(bdc_data.columns == selected_col)[0][0]\n",
    "for i in range(1, 20):\n",
    "    if '주_계산' in bdc_data.columns[a - i]:\n",
    "        print(bdc_data.columns[a - i]);week_i = a - i\n",
    "        break\n",
    "# print(bdc_data[selected_col].unique())\n",
    "# print(bdc_data.iloc[:,week_i].unique())\n",
    "def func_for_week(x):\n",
    "    if pd.isna(x):\n",
    "        return False\n",
    "    elif (float(x) <= 22) & (float(x) > 0):\n",
    "        return True\n",
    "    return False\n",
    "def tempfunc(x):\n",
    "    if pd.isna(x):\n",
    "        return np.nan\n",
    "    elif type(x)==str:\n",
    "        return float(x.replace('<',''))\n",
    "    return float(x)\n",
    "cases_, conts_ = cases[cases.iloc[:, week_i].apply(lambda x: func_for_week(x))], conts[\n",
    "    conts.iloc[:, week_i].apply(lambda x: func_for_week(x))]\n",
    "cases_, conts_ = cases_[selected_col].apply(lambda x: tempfunc(x)), conts_[selected_col].apply(lambda x: tempfunc(x))\n",
    "print('************************************')\n",
    "print(len(cases_)+len(conts_))\n",
    "analy_for_conti_values(cases_, conts_)"
   ]
  },
  {
   "cell_type": "code",
   "execution_count": 83,
   "id": "db9bd549f8ed8eec",
   "metadata": {
    "ExecuteTime": {
     "end_time": "2023-09-18T00:31:36.515536800Z",
     "start_time": "2023-09-18T00:31:36.484286500Z"
    },
    "collapsed": false
   },
   "outputs": [
    {
     "name": "stdout",
     "output_type": "stream",
     "text": [
      "Index(['GLUCOSE_118_35', 'GLUCOSE_118_35.1', 'GLUCOSE_118_35.2'], dtype='object')\n",
      "주_계산.23\n",
      "************************************\n",
      "2287\n",
      "Missings: 0\n",
      "  100.92 (97.60,104.24)   90.44 (88.77,92.11)   0.0000\n"
     ]
    }
   ],
   "source": [
    "col_names = find_name_of_col_bundanglogicnum('118_35')\n",
    "print(col_names)\n",
    "selected_col = col_names[-1]\n",
    "a = np.where(bdc_data.columns == selected_col)[0][0]\n",
    "for i in range(1, 20):\n",
    "    if '주_계산' in bdc_data.columns[a - i]:\n",
    "        print(bdc_data.columns[a - i]);week_i = a - i\n",
    "        break\n",
    "# print(bdc_data[selected_col].unique())\n",
    "# print(bdc_data.iloc[:,week_i].unique())\n",
    "def func_for_week(x):\n",
    "    if pd.isna(x):\n",
    "        return False\n",
    "    elif (float(x) <= 22) & (float(x) > 0):\n",
    "        return True\n",
    "    return False\n",
    "def tempfunc(x):\n",
    "    if pd.isna(x):\n",
    "        return np.nan\n",
    "    elif type(x)==str:\n",
    "        return float(x.replace('<',''))\n",
    "    return float(x)\n",
    "cases_, conts_ = cases[cases.iloc[:, week_i].apply(lambda x: func_for_week(x))], conts[\n",
    "    conts.iloc[:, week_i].apply(lambda x: func_for_week(x))]\n",
    "cases_, conts_ = cases_[selected_col].apply(lambda x: tempfunc(x)), conts_[selected_col].apply(lambda x: tempfunc(x))\n",
    "print('************************************')\n",
    "print(len(cases_)+len(conts_))\n",
    "analy_for_conti_values(cases_, conts_)"
   ]
  },
  {
   "cell_type": "code",
   "execution_count": 84,
   "id": "5cf19514c7e16dad",
   "metadata": {
    "ExecuteTime": {
     "end_time": "2023-09-18T00:31:36.642760200Z",
     "start_time": "2023-09-18T00:31:36.611511200Z"
    },
    "collapsed": false
   },
   "outputs": [
    {
     "name": "stdout",
     "output_type": "stream",
     "text": [
      "Index(['HGBA1C_118_36', 'HGBA1C_118_36.1', 'HGBA1C_118_36.2',\n",
      "       'HGBA1C_118_36.3'],\n",
      "      dtype='object')\n",
      "주_계산.25\n",
      "************************************\n",
      "676\n",
      "Missings: 0\n",
      "  5.51 (5.40,5.63)   5.18 (5.12,5.25)   0.0000\n"
     ]
    }
   ],
   "source": [
    "col_names = find_name_of_col_bundanglogicnum('118_36')\n",
    "print(col_names)\n",
    "selected_col = col_names[-1]\n",
    "a = np.where(bdc_data.columns == selected_col)[0][0]\n",
    "for i in range(1, 20):\n",
    "    if '주_계산' in bdc_data.columns[a - i]:\n",
    "        print(bdc_data.columns[a - i]);week_i = a - i\n",
    "        break\n",
    "# print(bdc_data[selected_col].unique())\n",
    "# print(bdc_data.iloc[:,week_i].unique())\n",
    "def func_for_week(x):\n",
    "    if pd.isna(x):\n",
    "        return False\n",
    "    elif (float(x) <= 22) & (float(x) > 0):\n",
    "        return True\n",
    "    return False\n",
    "def tempfunc(x):\n",
    "    if pd.isna(x):\n",
    "        return np.nan\n",
    "    elif type(x)==str:\n",
    "        return float(x.replace('<',''))\n",
    "    return float(x)\n",
    "cases_, conts_ = cases[cases.iloc[:, week_i].apply(lambda x: func_for_week(x))], conts[\n",
    "    conts.iloc[:, week_i].apply(lambda x: func_for_week(x))]\n",
    "cases_, conts_ = cases_[selected_col].apply(lambda x: tempfunc(x)), conts_[selected_col].apply(lambda x: tempfunc(x))\n",
    "print('************************************')\n",
    "print(len(cases_)+len(conts_))\n",
    "analy_for_conti_values(cases_, conts_)"
   ]
  },
  {
   "cell_type": "code",
   "execution_count": 85,
   "id": "1ba613ddd213cea",
   "metadata": {
    "ExecuteTime": {
     "end_time": "2023-09-18T00:31:36.818462Z",
     "start_time": "2023-09-18T00:31:36.748725900Z"
    },
    "collapsed": false
   },
   "outputs": [
    {
     "name": "stdout",
     "output_type": "stream",
     "text": [
      "Index(['25OHVitaminD_118_37', '25OHVitaminD_118_37.1', '25OHVitaminD_118_37.2',\n",
      "       '25OHVitaminD_118_37.3'],\n",
      "      dtype='object')\n",
      "주_계산.26\n",
      "************************************\n",
      "3379\n",
      "Missings: 0\n",
      "  15.62 (14.60,16.65)   14.76 (13.83,15.69)   0.0885\n"
     ]
    }
   ],
   "source": [
    "col_names = find_name_of_col_bundanglogicnum('118_37')\n",
    "print(col_names)\n",
    "selected_col = col_names[-1]\n",
    "a = np.where(bdc_data.columns == selected_col)[0][0]\n",
    "for i in range(1, 20):\n",
    "    if '주_계산' in bdc_data.columns[a - i]:\n",
    "        print(bdc_data.columns[a - i]);week_i = a - i\n",
    "        break\n",
    "#print(bdc_data[selected_col].unique())\n",
    "def func_for_week(x):\n",
    "    if pd.isna(x):\n",
    "        return False\n",
    "    elif (float(x) <= 22) & (float(x) > 0):\n",
    "        return True\n",
    "    return False\n",
    "def tempfunc(x):\n",
    "    if pd.isna(x):\n",
    "        return np.nan\n",
    "    elif type(x)==str:\n",
    "        return float(x.replace('<',''))\n",
    "    return float(x)\n",
    "cases_, conts_ = cases[cases.iloc[:, week_i].apply(lambda x: func_for_week(x))], conts[\n",
    "    conts.iloc[:, week_i].apply(lambda x: func_for_week(x))]\n",
    "cases_, conts_ = cases_[selected_col].apply(lambda x: tempfunc(x)), conts_[selected_col].apply(lambda x: tempfunc(x))\n",
    "print('************************************')\n",
    "print(len(cases_)+len(conts_))\n",
    "analy_for_conti_values(cases_, conts_)"
   ]
  },
  {
   "cell_type": "code",
   "execution_count": 86,
   "id": "b1d2846f76bfb7dd",
   "metadata": {
    "ExecuteTime": {
     "end_time": "2023-09-18T00:31:36.920261600Z",
     "start_time": "2023-09-18T00:31:36.889011600Z"
    },
    "collapsed": false
   },
   "outputs": [
    {
     "name": "stdout",
     "output_type": "stream",
     "text": [
      "Index(['HDLCHOLESTEROL_118_38', 'HDLCHOLESTEROL_118_38.1',\n",
      "       'HDLCHOLESTEROL_118_38.2', 'HDLCHOLESTEROL_118_38.3'],\n",
      "      dtype='object')\n",
      "주_계산.28\n",
      "************************************\n",
      "780\n",
      "Missings: 0\n",
      "  65.40 (62.59,68.21)   70.03 (66.74,73.32)   0.0089\n"
     ]
    }
   ],
   "source": [
    "col_names = find_name_of_col_bundanglogicnum('118_38')\n",
    "print(col_names)\n",
    "selected_col = col_names[-1]\n",
    "a = np.where(bdc_data.columns == selected_col)[0][0]\n",
    "for i in range(1, 20):\n",
    "    if '주_계산' in bdc_data.columns[a - i]:\n",
    "        print(bdc_data.columns[a - i]);week_i = a - i\n",
    "        break\n",
    "# print(bdc_data[selected_col].unique())\n",
    "# print(bdc_data.iloc[:,week_i].unique())\n",
    "def func_for_week(x):\n",
    "    if pd.isna(x):\n",
    "        return False\n",
    "    elif (float(x) <= 22) & (float(x) > 0):\n",
    "        return True\n",
    "    return False\n",
    "def tempfunc(x):\n",
    "    if pd.isna(x):\n",
    "        return np.nan\n",
    "    elif type(x)==str:\n",
    "        return float(x.replace('<',''))\n",
    "    return float(x)\n",
    "cases_, conts_ = cases[cases.iloc[:, week_i].apply(lambda x: func_for_week(x))], conts[\n",
    "    conts.iloc[:, week_i].apply(lambda x: func_for_week(x))]\n",
    "cases_, conts_ = cases_[selected_col].apply(lambda x: tempfunc(x)), conts_[selected_col].apply(lambda x: tempfunc(x))\n",
    "print('************************************')\n",
    "print(len(cases_)+len(conts_))\n",
    "analy_for_conti_values(cases_, conts_)"
   ]
  },
  {
   "cell_type": "code",
   "execution_count": 87,
   "id": "2703c1cb2f74d8d8",
   "metadata": {
    "ExecuteTime": {
     "end_time": "2023-09-18T00:31:37.055656700Z",
     "start_time": "2023-09-18T00:31:37.024405700Z"
    },
    "collapsed": false
   },
   "outputs": [
    {
     "name": "stdout",
     "output_type": "stream",
     "text": [
      "Index(['TRIGLYCERIDE_118_39', 'TRIGLYCERIDE_118_39.1',\n",
      "       'TRIGLYCERIDE_118_39.2'],\n",
      "      dtype='object')\n",
      "주_계산.29\n",
      "************************************\n",
      "1147\n",
      "Missings: 0\n",
      "  173.55 (158.29,188.81)   131.96 (120.44,143.48)   0.0000\n"
     ]
    }
   ],
   "source": [
    "col_names = find_name_of_col_bundanglogicnum('118_39')\n",
    "print(col_names)\n",
    "selected_col = col_names[-1]\n",
    "a = np.where(bdc_data.columns == selected_col)[0][0]\n",
    "for i in range(1, 20):\n",
    "    if '주_계산' in bdc_data.columns[a - i]:\n",
    "        print(bdc_data.columns[a - i]);week_i = a - i\n",
    "        break\n",
    "# print(bdc_data[selected_col].unique())\n",
    "# print(bdc_data.iloc[:,week_i].unique())\n",
    "def func_for_week(x):\n",
    "    if pd.isna(x):\n",
    "        return False\n",
    "    elif (float(x) <= 22) & (float(x) > 0):\n",
    "        return True\n",
    "    return False\n",
    "def tempfunc(x):\n",
    "    if pd.isna(x):\n",
    "        return np.nan\n",
    "    elif type(x)==str:\n",
    "        return float(x.replace('<',''))\n",
    "    return float(x)\n",
    "cases_, conts_ = cases[cases.iloc[:, week_i].apply(lambda x: func_for_week(x))], conts[\n",
    "    conts.iloc[:, week_i].apply(lambda x: func_for_week(x))]\n",
    "cases_, conts_ = cases_[selected_col].apply(lambda x: tempfunc(x)), conts_[selected_col].apply(lambda x: tempfunc(x))\n",
    "print('************************************')\n",
    "print(len(cases_)+len(conts_))\n",
    "analy_for_conti_values(cases_, conts_)"
   ]
  },
  {
   "cell_type": "code",
   "execution_count": 88,
   "id": "2ce5e1a57552ba72",
   "metadata": {
    "ExecuteTime": {
     "end_time": "2023-09-18T00:31:37.197097100Z",
     "start_time": "2023-09-18T00:31:37.150223700Z"
    },
    "collapsed": false
   },
   "outputs": [
    {
     "name": "stdout",
     "output_type": "stream",
     "text": [
      "Index(['T.Protein_118_40', 'T.Protein_118_40.1', 'T.Protein_118_40.2'], dtype='object')\n",
      "주_계산.30\n",
      "************************************\n",
      "2490\n",
      "Missings: 0\n",
      "  6.84 (6.79,6.90)   6.83 (6.78,6.88)   0.4880\n"
     ]
    }
   ],
   "source": [
    "col_names = find_name_of_col_bundanglogicnum('118_40')\n",
    "print(col_names)\n",
    "selected_col = col_names[-1]\n",
    "a = np.where(bdc_data.columns == selected_col)[0][0]\n",
    "for i in range(1, 20):\n",
    "    if '주_계산' in bdc_data.columns[a - i]:\n",
    "        print(bdc_data.columns[a - i]);week_i = a - i\n",
    "        break\n",
    "# print(bdc_data[selected_col].unique())\n",
    "# print(bdc_data.iloc[:,week_i].unique())\n",
    "def func_for_week(x):\n",
    "    if pd.isna(x):\n",
    "        return False\n",
    "    elif (float(x) <= 22) & (float(x) > 0):\n",
    "        return True\n",
    "    return False\n",
    "def tempfunc(x):\n",
    "    if pd.isna(x):\n",
    "        return np.nan\n",
    "    elif type(x)==str:\n",
    "        return float(x.replace('<',''))\n",
    "    return float(x)\n",
    "cases_, conts_ = cases[cases.iloc[:, week_i].apply(lambda x: func_for_week(x))], conts[\n",
    "    conts.iloc[:, week_i].apply(lambda x: func_for_week(x))]\n",
    "cases_, conts_ = cases_[selected_col].apply(lambda x: tempfunc(x)), conts_[selected_col].apply(lambda x: tempfunc(x))\n",
    "print('************************************')\n",
    "print(len(cases_)+len(conts_))\n",
    "analy_for_conti_values(cases_, conts_)"
   ]
  },
  {
   "cell_type": "code",
   "execution_count": 89,
   "id": "cef9fbbaa407e62d",
   "metadata": {
    "ExecuteTime": {
     "end_time": "2023-09-18T00:31:37.336926800Z",
     "start_time": "2023-09-18T00:31:37.290051900Z"
    },
    "collapsed": false
   },
   "outputs": [
    {
     "name": "stdout",
     "output_type": "stream",
     "text": [
      "Index(['ALBUMIN_118_41', 'ALBUMIN_118_41.1', 'ALBUMIN_118_41.2'], dtype='object')\n",
      "주_계산.31\n",
      "************************************\n",
      "2562\n",
      "Missings: 0\n",
      "  4.13 (4.09,4.16)   4.13 (4.09,4.16)   0.9402\n"
     ]
    }
   ],
   "source": [
    "col_names = find_name_of_col_bundanglogicnum('118_41')\n",
    "print(col_names)\n",
    "selected_col = col_names[-1]\n",
    "a = np.where(bdc_data.columns == selected_col)[0][0]\n",
    "for i in range(1, 20):\n",
    "    if '주_계산' in bdc_data.columns[a - i]:\n",
    "        print(bdc_data.columns[a -i]);week_i = a - i\n",
    "        break\n",
    "# print(bdc_data[selected_col].unique())\n",
    "# print(bdc_data.iloc[:,week_i].unique())\n",
    "def func_for_week(x):\n",
    "    if pd.isna(x):\n",
    "        return False\n",
    "    elif (float(x) <= 22) & (float(x) > 0):\n",
    "        return True\n",
    "    return False\n",
    "def tempfunc(x):\n",
    "    if pd.isna(x):\n",
    "        return np.nan\n",
    "    elif type(x)==str:\n",
    "        return float(x.replace('<',''))\n",
    "    return float(x)\n",
    "cases_, conts_ = cases[cases.iloc[:, week_i].apply(lambda x: func_for_week(x))], conts[\n",
    "    conts.iloc[:, week_i].apply(lambda x: func_for_week(x))]\n",
    "cases_, conts_ = cases_[selected_col].apply(lambda x: tempfunc(x)), conts_[selected_col].apply(lambda x: tempfunc(x))\n",
    "print('************************************')\n",
    "print(len(cases_)+len(conts_))\n",
    "analy_for_conti_values(cases_, conts_)"
   ]
  },
  {
   "cell_type": "code",
   "execution_count": 90,
   "id": "89effcac5ecf8ef2",
   "metadata": {
    "ExecuteTime": {
     "end_time": "2023-09-18T00:31:37.461928400Z",
     "start_time": "2023-09-18T00:31:37.415051900Z"
    },
    "collapsed": false
   },
   "outputs": [
    {
     "name": "stdout",
     "output_type": "stream",
     "text": [
      "Index(['T.Bilirubin_118_42', 'T.Bilirubin_118_42.1', 'T.Bilirubin_118_42.2'], dtype='object')\n",
      "주_계산.32\n",
      "************************************\n",
      "2635\n",
      "Missings: 0\n",
      "  0.34 (0.29,0.40)   0.35 (0.33,0.37)   0.6865\n"
     ]
    }
   ],
   "source": [
    "col_names = find_name_of_col_bundanglogicnum('118_42')\n",
    "print(col_names)\n",
    "selected_col = col_names[-1]\n",
    "a = np.where(bdc_data.columns == selected_col)[0][0]\n",
    "for i in range(1, 20):\n",
    "    if '주_계산' in bdc_data.columns[a - i]:\n",
    "        print(bdc_data.columns[a - i]);week_i = a - i\n",
    "        break\n",
    "# print(bdc_data[selected_col].unique())\n",
    "# print(bdc_data.iloc[:,week_i].unique())\n",
    "def func_for_week(x):\n",
    "    if pd.isna(x):\n",
    "        return False\n",
    "    elif (float(x) <= 22) & (float(x) > 0):\n",
    "        return True\n",
    "    return False\n",
    "def tempfunc(x):\n",
    "    if pd.isna(x):\n",
    "        return np.nan\n",
    "    elif type(x)==str:\n",
    "        return float(x.replace('<',''))\n",
    "    return float(x)\n",
    "cases_, conts_ = cases[cases.iloc[:, week_i].apply(lambda x: func_for_week(x))], conts[\n",
    "    conts.iloc[:, week_i].apply(lambda x: func_for_week(x))]\n",
    "cases_, conts_ = cases_[selected_col].apply(lambda x: tempfunc(x)), conts_[selected_col].apply(lambda x: tempfunc(x))\n",
    "print('************************************')\n",
    "print(len(cases_)+len(conts_))\n",
    "analy_for_conti_values(cases_, conts_)"
   ]
  },
  {
   "cell_type": "code",
   "execution_count": 91,
   "id": "5ffbcfeca3f9183d",
   "metadata": {
    "ExecuteTime": {
     "end_time": "2023-09-18T00:31:37.614873600Z",
     "start_time": "2023-09-18T00:31:37.547655500Z"
    },
    "collapsed": false
   },
   "outputs": [
    {
     "name": "stdout",
     "output_type": "stream",
     "text": [
      "Index(['ASGOT_118_43', 'ASGOT_118_43.1', 'ASGOT_118_43.2'], dtype='object')\n",
      "주_계산.33\n",
      "************************************\n",
      "4172\n",
      "Missings: 0\n",
      "  17.88 (16.93,18.84)   17.00 (16.21,17.79)   0.0445\n"
     ]
    }
   ],
   "source": [
    "col_names = find_name_of_col_bundanglogicnum('118_43')\n",
    "print(col_names)\n",
    "selected_col = col_names[-1]\n",
    "a = np.where(bdc_data.columns == selected_col)[0][0]\n",
    "for i in range(1, 20):\n",
    "    if '주_계산' in bdc_data.columns[a - i]:\n",
    "        print(bdc_data.columns[a - i]);week_i = a - i\n",
    "        break\n",
    "# print(bdc_data[selected_col].unique())\n",
    "# print(bdc_data.iloc[:,week_i].unique())\n",
    "def func_for_week(x):\n",
    "    if pd.isna(x):\n",
    "        return False\n",
    "    elif (float(x) <= 22) & (float(x) > 0):\n",
    "        return True\n",
    "    return False\n",
    "def tempfunc(x):\n",
    "    if pd.isna(x):\n",
    "        return np.nan\n",
    "    elif type(x)==str:\n",
    "        return float(x.replace('<',''))\n",
    "    return float(x)\n",
    "cases_, conts_ = cases[cases.iloc[:, week_i].apply(lambda x: func_for_week(x))], conts[\n",
    "    conts.iloc[:, week_i].apply(lambda x: func_for_week(x))]\n",
    "cases_, conts_ = cases_[selected_col].apply(lambda x: tempfunc(x)), conts_[selected_col].apply(lambda x: tempfunc(x))\n",
    "print('************************************')\n",
    "print(len(cases_)+len(conts_))\n",
    "analy_for_conti_values(cases_, conts_)"
   ]
  },
  {
   "cell_type": "code",
   "execution_count": 92,
   "id": "fe89e40f4c84d91f",
   "metadata": {
    "ExecuteTime": {
     "end_time": "2023-09-18T00:31:37.767137300Z",
     "start_time": "2023-09-18T00:31:37.690408100Z"
    },
    "collapsed": false
   },
   "outputs": [
    {
     "name": "stdout",
     "output_type": "stream",
     "text": [
      "Index(['ALTGPT_118_44', 'ALTGPT_118_44.1', 'ALTGPT_118_44.2'], dtype='object')\n",
      "주_계산.34\n",
      "************************************\n",
      "4174\n",
      "Missings: 0\n",
      "  18.04 (16.59,19.50)   15.86 (14.43,17.29)   0.0049\n"
     ]
    }
   ],
   "source": [
    "col_names = find_name_of_col_bundanglogicnum('118_44')\n",
    "print(col_names)\n",
    "selected_col = col_names[-1]\n",
    "a = np.where(bdc_data.columns == selected_col)[0][0]\n",
    "for i in range(1, 20):\n",
    "    if '주_계산' in bdc_data.columns[a - i]:\n",
    "        print(bdc_data.columns[a - i]);week_i = a - i\n",
    "        break\n",
    "# print(bdc_data[selected_col].unique())\n",
    "# print(bdc_data.iloc[:,week_i].unique())\n",
    "def func_for_week(x):\n",
    "    if pd.isna(x):\n",
    "        return False\n",
    "    elif (float(x) <= 22) & (float(x) > 0):\n",
    "        return True\n",
    "    return False\n",
    "def tempfunc(x):\n",
    "    if pd.isna(x):\n",
    "        return np.nan\n",
    "    elif type(x)==str:\n",
    "        return float(x.replace('<',''))\n",
    "    return float(x)\n",
    "cases_, conts_ = cases[cases.iloc[:, week_i].apply(lambda x: func_for_week(x))], conts[\n",
    "    conts.iloc[:, week_i].apply(lambda x: func_for_week(x))]\n",
    "cases_, conts_ = cases_[selected_col].apply(lambda x: tempfunc(x)), conts_[selected_col].apply(lambda x: tempfunc(x))\n",
    "print('************************************')\n",
    "print(len(cases_)+len(conts_))\n",
    "analy_for_conti_values(cases_, conts_)"
   ]
  },
  {
   "cell_type": "code",
   "execution_count": 93,
   "id": "adbe1635f97ba4a0",
   "metadata": {
    "ExecuteTime": {
     "end_time": "2023-09-18T00:31:37.879556800Z",
     "start_time": "2023-09-18T00:31:37.817056300Z"
    },
    "collapsed": false
   },
   "outputs": [
    {
     "name": "stdout",
     "output_type": "stream",
     "text": [
      "Index(['ALP_118_45', 'ALP_118_45.1', 'ALP_118_45.2'], dtype='object')\n",
      "주_계산.35\n",
      "************************************\n",
      "2470\n",
      "Missings: 0\n",
      "  68.55 (63.98,73.12)   64.59 (60.54,68.63)   0.0764\n"
     ]
    }
   ],
   "source": [
    "col_names = find_name_of_col_bundanglogicnum('118_45')\n",
    "print(col_names)\n",
    "selected_col = col_names[-1]\n",
    "a = np.where(bdc_data.columns == selected_col)[0][0]\n",
    "for i in range(1, 20):\n",
    "    if '주_계산' in bdc_data.columns[a - i]:\n",
    "        print(bdc_data.columns[a - i]);week_i = a - i\n",
    "        break\n",
    "# print(bdc_data[selected_col].unique())\n",
    "# print(bdc_data.iloc[:,week_i].unique())\n",
    "def func_for_week(x):\n",
    "    if pd.isna(x):\n",
    "        return False\n",
    "    elif (float(x) <= 22) & (float(x) > 0):\n",
    "        return True\n",
    "    return False\n",
    "def tempfunc(x):\n",
    "    if pd.isna(x):\n",
    "        return np.nan\n",
    "    elif type(x)==str:\n",
    "        return float(x.replace('<',''))\n",
    "    return float(x)\n",
    "cases_, conts_ = cases[cases.iloc[:, week_i].apply(lambda x: func_for_week(x))], conts[\n",
    "    conts.iloc[:, week_i].apply(lambda x: func_for_week(x))]\n",
    "cases_, conts_ = cases_[selected_col].apply(lambda x: tempfunc(x)), conts_[selected_col].apply(lambda x: tempfunc(x))\n",
    "print('************************************')\n",
    "print(len(cases_)+len(conts_))\n",
    "analy_for_conti_values(cases_, conts_)"
   ]
  },
  {
   "cell_type": "code",
   "execution_count": 94,
   "id": "e95cb4431b1eb957",
   "metadata": {
    "ExecuteTime": {
     "end_time": "2023-09-18T00:31:38.025490500Z",
     "start_time": "2023-09-18T00:31:37.962980Z"
    },
    "collapsed": false
   },
   "outputs": [
    {
     "name": "stdout",
     "output_type": "stream",
     "text": [
      "Index(['TOTALCHOLESTEROL_118_46', 'TOTALCHOLESTEROL_118_46.1',\n",
      "       'TOTALCHOLESTEROL_118_46.2'],\n",
      "      dtype='object')\n",
      "주_계산.36\n",
      "************************************\n",
      "2641\n",
      "Missings: 0\n",
      "  198.04 (194.09,201.99)   190.08 (186.04,194.11)   0.0003\n"
     ]
    }
   ],
   "source": [
    "col_names = find_name_of_col_bundanglogicnum('118_46')\n",
    "print(col_names)\n",
    "selected_col = col_names[-1]\n",
    "a = np.where(bdc_data.columns == selected_col)[0][0]\n",
    "for i in range(1, 20):\n",
    "    if '주_계산' in bdc_data.columns[a - i]:\n",
    "        print(bdc_data.columns[a - i]);week_i = a - i\n",
    "        break\n",
    "# print(bdc_data[selected_col].unique())\n",
    "# print(bdc_data.iloc[:,week_i].unique())\n",
    "def func_for_week(x):\n",
    "    if pd.isna(x):\n",
    "        return False\n",
    "    elif (float(x) <= 22) & (float(x) > 0):\n",
    "        return True\n",
    "    return False\n",
    "def tempfunc(x):\n",
    "    if pd.isna(x):\n",
    "        return np.nan\n",
    "    elif type(x)==str:\n",
    "        return float(x.replace('<',''))\n",
    "    return float(x)\n",
    "cases_, conts_ = cases[cases.iloc[:, week_i].apply(lambda x: func_for_week(x))], conts[\n",
    "    conts.iloc[:, week_i].apply(lambda x: func_for_week(x))]\n",
    "cases_, conts_ = cases_[selected_col].apply(lambda x: tempfunc(x)), conts_[selected_col].apply(lambda x: tempfunc(x))\n",
    "print('************************************')\n",
    "print(len(cases_)+len(conts_))\n",
    "analy_for_conti_values(cases_, conts_)"
   ]
  },
  {
   "cell_type": "code",
   "execution_count": 95,
   "id": "3ddf0c71dde5ce33",
   "metadata": {
    "ExecuteTime": {
     "end_time": "2023-09-18T00:31:38.141840400Z",
     "start_time": "2023-09-18T00:31:38.110590200Z"
    },
    "collapsed": false
   },
   "outputs": [
    {
     "name": "stdout",
     "output_type": "stream",
     "text": [
      "08.21\n",
      "임당군/정상군 분류\n",
      "['GDM'] ['정상군']\n",
      "************************************\n",
      "************************************\n",
      "제외군 0\n",
      "Missings: 0\n",
      "0(0.0) 7266(100.0)\n",
      "840(100.0) 0(0.0)\n",
      "  0.000\n"
     ]
    }
   ],
   "source": [
    "selected_col = '08.21\\n임당군/정상군 분류'\n",
    "print(selected_col)\n",
    "#print(bdc_data[selected_col].unique())\n",
    "cases_, conts_ = cases[selected_col], conts[selected_col]\n",
    "print(cases_.unique(), conts_.unique())\n",
    "print('************************************')\n",
    "def tempfunc_(x):\n",
    "    if pd.isna(x):\n",
    "        return np.nan\n",
    "    if x=='GDM':\n",
    "        return 1\n",
    "    if x=='정상군':\n",
    "        return 0\n",
    "    return -1\n",
    "cases__ = cases_.apply(lambda x: tempfunc_(x)) \n",
    "conts__ = conts_.apply(lambda x: tempfunc_(x))\n",
    "print('************************************')\n",
    "print('제외군', sum(cases__==-1)+sum(cases__==-1))\n",
    "analy_for_cate_values(cases__, conts__)"
   ]
  },
  {
   "cell_type": "code",
   "execution_count": 96,
   "id": "a638d4659d47f0b2",
   "metadata": {
    "ExecuteTime": {
     "end_time": "2023-09-18T00:31:38.266477Z",
     "start_time": "2023-09-18T00:31:38.235226800Z"
    },
    "collapsed": false
   },
   "outputs": [
    {
     "name": "stdout",
     "output_type": "stream",
     "text": [
      "Index(['분만주_5'], dtype='object')\n",
      "************************************\n",
      "Missings: 0\n",
      "  37.77 (37.66,37.89)   38.17 (38.07,38.28)   0.0000\n"
     ]
    }
   ],
   "source": [
    "col_names = find_name_of_col_bundanglogicnum('5')\n",
    "print(col_names)\n",
    "selected_col = col_names[-1]\n",
    "# print(bdc_data[selected_col].unique())\n",
    "cases_, conts_ = cases[selected_col], conts[selected_col]\n",
    "def tempfunc(x):\n",
    "    if pd.isna(x):\n",
    "        return np.nan\n",
    "    elif type(x)==str:\n",
    "        return float(x.replace('<',''))\n",
    "    return float(x)\n",
    "cases_, conts_ = cases_.apply(lambda x: tempfunc(x)), conts_.apply(lambda x: tempfunc(x))\n",
    "print('************************************')\n",
    "analy_for_conti_values(cases_, conts_)"
   ]
  },
  {
   "cell_type": "code",
   "execution_count": 97,
   "id": "d0261ae3688ba36a",
   "metadata": {
    "ExecuteTime": {
     "end_time": "2023-09-18T00:31:38.460981200Z",
     "start_time": "2023-09-18T00:31:38.397880600Z"
    },
    "collapsed": false
   },
   "outputs": [
    {
     "name": "stdout",
     "output_type": "stream",
     "text": [
      "Index(['분만주_5'], dtype='object')\n",
      "[40 39 38 37 36 25 35 33 31 27 32 41 34 30 22] [40 39 37 38 36 33 34 27 35 41 32 30 31 29 28 26 25 42]\n",
      "************************************\n",
      "************************************\n",
      "Missings: 0\n",
      "570(67.9) 5659(77.9)\n",
      "270(32.1) 1607(22.1)\n",
      "  0.000\n"
     ]
    }
   ],
   "source": [
    "col_names = find_name_of_col_bundanglogicnum('5')\n",
    "print(col_names)\n",
    "selected_col = col_names[-1]\n",
    "#print(bdc_data[selected_col].unique())\n",
    "cases_, conts_ = cases[selected_col], conts[selected_col]\n",
    "print(cases_.unique(), conts_.unique())\n",
    "print('************************************')\n",
    "def tempfunc_(x):\n",
    "    if pd.isna(x):\n",
    "        return np.nan\n",
    "    elif x<=37:\n",
    "        return 1\n",
    "    return 0\n",
    "cases__ = cases_.apply(lambda x: tempfunc_(x)) \n",
    "conts__ = conts_.apply(lambda x: tempfunc_(x))\n",
    "print('************************************')\n",
    "analy_for_cate_values(cases__, conts__)"
   ]
  },
  {
   "cell_type": "code",
   "execution_count": 98,
   "id": "f05fac4b4e527312",
   "metadata": {
    "ExecuteTime": {
     "end_time": "2023-09-18T00:31:38.637776100Z",
     "start_time": "2023-09-18T00:31:38.606479100Z"
    },
    "collapsed": false
   },
   "outputs": [
    {
     "name": "stdout",
     "output_type": "stream",
     "text": [
      "Index(['WTGM_334'], dtype='object')\n",
      "************************************\n",
      "Missings: 0\n",
      "  3087.07 (3053.74,3120.39)   3144.77 (3114.95,3174.60)   0.0004\n"
     ]
    }
   ],
   "source": [
    "col_names = find_name_of_col_bundanglogicnum('334')\n",
    "print(col_names)\n",
    "selected_col = col_names[-1]\n",
    "# print(bdc_data[selected_col].unique())\n",
    "cases_, conts_ = cases[selected_col], conts[selected_col]\n",
    "def tempfunc(x):\n",
    "    if pd.isna(x):\n",
    "        return np.nan\n",
    "    elif type(x)==str:\n",
    "        return float(x.replace('<',''))\n",
    "    return float(x)\n",
    "cases_, conts_ = cases_.apply(lambda x: tempfunc(x)), conts_.apply(lambda x: tempfunc(x))\n",
    "print('************************************')\n",
    "analy_for_conti_values(cases_, conts_)"
   ]
  },
  {
   "cell_type": "code",
   "execution_count": 99,
   "id": "e45bfe5ccf0422e4",
   "metadata": {
    "ExecuteTime": {
     "end_time": "2023-09-18T00:31:38.778401400Z",
     "start_time": "2023-09-18T00:31:38.747151600Z"
    },
    "collapsed": false
   },
   "outputs": [
    {
     "name": "stdout",
     "output_type": "stream",
     "text": [
      "Index(['WTGM_334'], dtype='object')\n",
      "************************************\n",
      "************************************\n",
      "Missings: 0\n",
      "818(97.4) 7147(98.4)\n",
      "22(2.6) 119(1.6)\n",
      "  0.055\n"
     ]
    }
   ],
   "source": [
    "col_names = find_name_of_col_bundanglogicnum('334')\n",
    "print(col_names)\n",
    "selected_col = col_names[-1]\n",
    "#print(bdc_data[selected_col].unique())\n",
    "cases_, conts_ = cases[selected_col], conts[selected_col]\n",
    "print('************************************')\n",
    "def tempfunc_(x):\n",
    "    if pd.isna(x):\n",
    "        return np.nan\n",
    "    elif x>=4000:\n",
    "        return 1\n",
    "    return 0\n",
    "cases__ = cases_.apply(lambda x: tempfunc_(x)) \n",
    "conts__ = conts_.apply(lambda x: tempfunc_(x))\n",
    "print('************************************')\n",
    "analy_for_cate_values(cases__, conts__)"
   ]
  },
  {
   "cell_type": "code",
   "execution_count": 100,
   "id": "903a77a2177bd71b",
   "metadata": {
    "ExecuteTime": {
     "end_time": "2023-09-18T00:31:38.920700800Z",
     "start_time": "2023-09-18T00:31:38.873769600Z"
    },
    "collapsed": false
   },
   "outputs": [
    {
     "name": "stdout",
     "output_type": "stream",
     "text": [
      "Index(['WTGM_334'], dtype='object')\n",
      "************************************\n",
      "************************************\n",
      "Missings: 0\n",
      "758(90.2) 6829(94.0)\n",
      "82(9.8) 437(6.0)\n",
      "  0.000\n"
     ]
    }
   ],
   "source": [
    "col_names = find_name_of_col_bundanglogicnum('334')\n",
    "print(col_names)\n",
    "selected_col = col_names[-1]\n",
    "#print(bdc_data[selected_col].unique())\n",
    "cases_, conts_ = cases[selected_col], conts[selected_col]\n",
    "#print(cases_.unique(), conts_.unique())\n",
    "print('************************************')\n",
    "def tempfunc_(x):\n",
    "    if pd.isna(x):\n",
    "        return False\n",
    "    elif x<=2500:\n",
    "        return True\n",
    "    return False\n",
    "cases__ = cases_.apply(lambda x: tempfunc_(x)) \n",
    "conts__ = conts_.apply(lambda x: tempfunc_(x))\n",
    "print('************************************')\n",
    "analy_for_cate_values(cases__, conts__)"
   ]
  },
  {
   "cell_type": "code",
   "execution_count": 101,
   "id": "6c924b9afc340ba",
   "metadata": {
    "ExecuteTime": {
     "end_time": "2023-09-18T00:31:39.075753200Z",
     "start_time": "2023-09-18T00:31:39.018549800Z"
    },
    "collapsed": false
   },
   "outputs": [
    {
     "name": "stdout",
     "output_type": "stream",
     "text": [
      "fenton curve\n",
      "(weight %)_674\n",
      "[0.16111869103726667 0.6739711942982225 0.5949395466936785 ...\n",
      " 0.38021437092800264 0.31399242962411256 0.6492741333970126]\n",
      "************************************\n",
      "************************************\n",
      "Missings: 1\n",
      "805(95.9) 7060(97.2)\n",
      "34(4.1) 206(2.8)\n",
      "  0.063\n"
     ]
    }
   ],
   "source": [
    "selected_col = 'fenton curve\\n(weight %)_674'\n",
    "print(selected_col); print(bdc_data[selected_col].unique())\n",
    "cases_, conts_ = cases[selected_col], conts[selected_col]\n",
    "#print(cases_.unique(), conts_.unique())\n",
    "print('************************************')\n",
    "def tempfunc_(x):\n",
    "    if pd.isna(x):\n",
    "        return np.nan\n",
    "    if x=='성별 X':\n",
    "        return np.nan\n",
    "    elif float(x)>=0.9:\n",
    "        return 1\n",
    "    return 0\n",
    "cases__ = cases_.apply(lambda x: tempfunc_(x)) \n",
    "conts__ = conts_.apply(lambda x: tempfunc_(x))\n",
    "print('************************************')\n",
    "analy_for_cate_values(cases__, conts__)"
   ]
  },
  {
   "cell_type": "code",
   "execution_count": 102,
   "id": "4f1cfc258a91d87b",
   "metadata": {
    "ExecuteTime": {
     "end_time": "2023-09-18T00:31:39.188803100Z",
     "start_time": "2023-09-18T00:31:39.157553200Z"
    },
    "collapsed": false
   },
   "outputs": [
    {
     "name": "stdout",
     "output_type": "stream",
     "text": [
      "fenton curve\n",
      "(weight %)_674\n",
      "************************************\n",
      "Missings: 1\n",
      "769(91.7) 6753(92.9)\n",
      "70(8.3) 513(7.1)\n",
      "  0.197\n"
     ]
    }
   ],
   "source": [
    "selected_col = 'fenton curve\\n(weight %)_674'\n",
    "print(selected_col)\n",
    "#print(bdc_data[selected_col].unique())\n",
    "cases_, conts_ = cases[selected_col], conts[selected_col]\n",
    "def tempfunc_(x):\n",
    "    if pd.isna(x):\n",
    "        return np.nan\n",
    "    if x=='성별 X':\n",
    "        return np.nan\n",
    "    elif float(x)<=0.1:\n",
    "        return 1\n",
    "    return 0\n",
    "cases__ = cases_.apply(lambda x: tempfunc_(x)) \n",
    "conts__ = conts_.apply(lambda x: tempfunc_(x))\n",
    "print('************************************')\n",
    "analy_for_cate_values(cases__, conts__)"
   ]
  },
  {
   "cell_type": "code",
   "execution_count": 103,
   "id": "b73be95adedd938e",
   "metadata": {
    "ExecuteTime": {
     "end_time": "2023-09-18T00:31:39.606060500Z",
     "start_time": "2023-09-18T00:31:39.561797400Z"
    },
    "collapsed": false
   },
   "outputs": [
    {
     "name": "stdout",
     "output_type": "stream",
     "text": [
      "1분 7점 미만 (1)\n",
      "[ 0. nan  1.] [ 0. nan  1.]\n",
      "************************************\n",
      "Missings: 1768\n",
      "606(96.0) 5516(96.7)\n",
      "25(4.0) 191(3.3)\n",
      "  0.489\n"
     ]
    }
   ],
   "source": [
    "selected_col = '1분 7점 미만 (1)'\n",
    "print(selected_col)\n",
    "#print(bdc_data[selected_col].unique())\n",
    "cases_, conts_ = cases[selected_col], conts[selected_col]\n",
    "print(cases_.unique(), conts_.unique())\n",
    "def tempfunc_(x):\n",
    "    if pd.isna(x):\n",
    "        return np.nan\n",
    "    elif x==1:\n",
    "        return 1\n",
    "    return 0\n",
    "cases__ = cases_.apply(lambda x: tempfunc_(x)) \n",
    "conts__ = conts_.apply(lambda x: tempfunc_(x))\n",
    "print('************************************')\n",
    "analy_for_cate_values(cases__, conts__)"
   ]
  },
  {
   "cell_type": "code",
   "execution_count": 104,
   "id": "80de22f3c719a6b3",
   "metadata": {
    "ExecuteTime": {
     "end_time": "2023-09-18T00:31:39.890774800Z",
     "start_time": "2023-09-18T00:31:39.859476500Z"
    },
    "collapsed": false
   },
   "outputs": [
    {
     "name": "stdout",
     "output_type": "stream",
     "text": [
      "5분7점 미만(1)\n",
      "************************************\n",
      "Missings: 1202\n",
      "684(99.1) 6154(99.0)\n",
      "6(0.9) 60(1.0)\n",
      "  0.968\n"
     ]
    }
   ],
   "source": [
    "selected_col = '5분7점 미만(1)'\n",
    "print(selected_col)\n",
    "#print(bdc_data[selected_col].unique())\n",
    "cases_, conts_ = cases[selected_col], conts[selected_col]\n",
    "#print(cases_.unique(), conts_.unique())\n",
    "def tempfunc_(x):\n",
    "    if pd.isna(x):\n",
    "        return np.nan\n",
    "    elif x==1:\n",
    "        return 1\n",
    "    return 0\n",
    "cases__ = cases_.apply(lambda x: tempfunc_(x)) \n",
    "conts__ = conts_.apply(lambda x: tempfunc_(x))\n",
    "print('************************************')\n",
    "analy_for_cate_values(cases__, conts__)"
   ]
  },
  {
   "cell_type": "code",
   "execution_count": 105,
   "id": "7a000fb37962078b",
   "metadata": {
    "ExecuteTime": {
     "end_time": "2023-09-18T00:31:40.219961600Z",
     "start_time": "2023-09-18T00:31:40.188710700Z"
    },
    "collapsed": false
   },
   "outputs": [
    {
     "name": "stdout",
     "output_type": "stream",
     "text": [
      "Index(['NICU입원여부_338'], dtype='object')\n",
      "[nan 'Y']\n",
      "************************************\n",
      "Missings: 0\n",
      "700(83.3) 6266(86.2)\n",
      "140(16.7) 1000(13.8)\n",
      "  0.025\n"
     ]
    }
   ],
   "source": [
    "col_names = find_name_of_col_bundanglogicnum('338')\n",
    "print(col_names); selected_col = col_names[-1]\n",
    "print(bdc_data[selected_col].unique())\n",
    "cases_, conts_ = cases[selected_col], conts[selected_col]\n",
    "def tempfunc_(x):\n",
    "    if x=='Y':\n",
    "        return 1\n",
    "    return 0\n",
    "cases__ = cases_.apply(lambda x: tempfunc_(x)) \n",
    "conts__ = conts_.apply(lambda x: tempfunc_(x))\n",
    "print('************************************')\n",
    "analy_for_cate_values(cases__, conts__)"
   ]
  },
  {
   "cell_type": "code",
   "execution_count": 106,
   "id": "1ae6dbd04363480f",
   "metadata": {
    "ExecuteTime": {
     "end_time": "2023-09-18T00:31:40.540123800Z",
     "start_time": "2023-09-18T00:31:40.493248800Z"
    },
    "collapsed": false
   },
   "outputs": [
    {
     "name": "stdout",
     "output_type": "stream",
     "text": [
      "Index(['BST_349'], dtype='object')\n",
      "[nan '82' '66' '74' '62' '72' '114' '60' '63' '58' '94' '65' '70' '29'\n",
      " '61' '81' '95' '47' '49' '57' '87' '77' '64' '89' '35' '48' '75' '52'\n",
      " '79' '68' '54' '45' '55' '69' '46' '97' '73' '44' '102' '83' '34' '42'\n",
      " '86' '67' '21' '80' '59' '56' '41' '23' '76' '98' '39' '107' '84' '92'\n",
      " '38' '71' '85' '101' '53' '78' '90' '24' '120' '88' '91' '50' '103' '51'\n",
      " '43' '100' '93' '113' '36' '104' '96' '111' '99' '112' '28' '109' '106'\n",
      " '25' 'Error' '40' '30' '31' '115' '33' '32' 73 64 60 58 67 76 78 81 57 63\n",
      " 70 41 72 75 52 85 66 68 65 51 71 61 79 62 80 53 86 54 77 82 47 44 69 38\n",
      " 36 29 104 43 84 50 74 45 28 59 48 88 55 35 46 56 42 92 49 34 40 89 91 83\n",
      " 93 31 37 102 26 90 125 '37' '105' 30 33 25 27 127 39 103 94 24]\n",
      "************************************\n",
      "Missings: 5882\n",
      "  61.20 (60.50,61.90)   66.19 (65.13,67.24)   0.0000\n"
     ]
    }
   ],
   "source": [
    "col_names = find_name_of_col_bundanglogicnum('349')\n",
    "print(col_names)\n",
    "selected_col = col_names[-1]\n",
    "print(bdc_data[selected_col].unique())\n",
    "cases_, conts_ = cases[selected_col], conts[selected_col]\n",
    "def tempfunc(x):\n",
    "    if pd.isna(x):\n",
    "        return np.nan\n",
    "    elif x=='Error':\n",
    "        return np.nan\n",
    "    return np.float32(x)\n",
    "cases_, conts_ = cases_.apply(lambda x: tempfunc(x)), conts_.apply(lambda x: tempfunc(x))\n",
    "print('************************************')\n",
    "analy_for_conti_values(cases_, conts_)"
   ]
  },
  {
   "cell_type": "code",
   "execution_count": 107,
   "id": "a62798e7613f8e63",
   "metadata": {
    "ExecuteTime": {
     "end_time": "2023-09-18T00:31:41.384936900Z",
     "start_time": "2023-09-18T00:31:41.332709700Z"
    },
    "collapsed": false
   },
   "outputs": [
    {
     "name": "stdout",
     "output_type": "stream",
     "text": [
      "Index(['BST_349'], dtype='object')\n",
      "************************************\n",
      "Missings: 5882\n",
      "703(85.8) 1196(85.1)\n",
      "116(14.2) 209(14.9)\n",
      "  0.692\n"
     ]
    }
   ],
   "source": [
    "col_names = find_name_of_col_bundanglogicnum('349')\n",
    "print(col_names)\n",
    "selected_col = col_names[-1]\n",
    "# print(bdc_data[selected_col].unique())\n",
    "cases_, conts_ = cases[selected_col], conts[selected_col]\n",
    "def tempfunc_(x):\n",
    "    if pd.isna(x):\n",
    "        return np.nan\n",
    "    elif x=='Error':\n",
    "        return np.nan\n",
    "    elif float(x)<=50:\n",
    "        return 1\n",
    "    return 0\n",
    "cases__ = cases_.apply(lambda x: tempfunc_(x)) \n",
    "conts__ = conts_.apply(lambda x: tempfunc_(x))\n",
    "print('************************************')\n",
    "analy_for_cate_values(cases__, conts__)"
   ]
  },
  {
   "cell_type": "code",
   "execution_count": 108,
   "id": "272fc3f36288cbf5",
   "metadata": {
    "ExecuteTime": {
     "end_time": "2023-09-18T00:31:42.244363900Z",
     "start_time": "2023-09-18T00:31:42.228722600Z"
    },
    "collapsed": false
   },
   "outputs": [
    {
     "name": "stdout",
     "output_type": "stream",
     "text": [
      "Index(['SEIZURE_351'], dtype='object')\n",
      "[nan]\n",
      "모두 nan value라 분석 불가.\n"
     ]
    }
   ],
   "source": [
    "col_names = find_name_of_col_bundanglogicnum('351')\n",
    "print(col_names)\n",
    "selected_col = col_names[-1]\n",
    "print(bdc_data[selected_col].unique())\n",
    "cases_, conts_ = cases[selected_col], conts[selected_col]\n",
    "print('모두 nan value라 분석 불가.')"
   ]
  },
  {
   "cell_type": "code",
   "execution_count": 154,
   "id": "f73422e9068a9424",
   "metadata": {
    "ExecuteTime": {
     "end_time": "2023-09-14T08:46:16.780807700Z",
     "start_time": "2023-09-14T08:46:16.733930100Z"
    },
    "collapsed": false
   },
   "outputs": [],
   "source": []
  },
  {
   "cell_type": "code",
   "execution_count": 154,
   "id": "c4fca6c4e22253cd",
   "metadata": {
    "ExecuteTime": {
     "end_time": "2023-09-14T08:46:16.905761700Z",
     "start_time": "2023-09-14T08:46:16.874514Z"
    },
    "collapsed": false
   },
   "outputs": [],
   "source": []
  },
  {
   "cell_type": "code",
   "execution_count": 154,
   "id": "d35dc6c19d459479",
   "metadata": {
    "ExecuteTime": {
     "end_time": "2023-09-14T08:46:17.046546400Z",
     "start_time": "2023-09-14T08:46:17.030966600Z"
    },
    "collapsed": false
   },
   "outputs": [],
   "source": []
  },
  {
   "cell_type": "code",
   "execution_count": 79,
   "id": "1081279ca2e0ca3a",
   "metadata": {
    "ExecuteTime": {
     "end_time": "2023-09-14T04:47:52.819814Z",
     "start_time": "2023-09-14T04:47:52.804189300Z"
    },
    "collapsed": false
   },
   "outputs": [],
   "source": []
  },
  {
   "cell_type": "code",
   "execution_count": 79,
   "id": "975ddfbc203c3614",
   "metadata": {
    "ExecuteTime": {
     "end_time": "2023-09-14T04:47:52.835438800Z",
     "start_time": "2023-09-14T04:47:52.819814Z"
    },
    "collapsed": false
   },
   "outputs": [],
   "source": []
  }
 ],
 "metadata": {
  "kernelspec": {
   "display_name": "Python 3",
   "language": "python",
   "name": "python3"
  },
  "language_info": {
   "codemirror_mode": {
    "name": "ipython",
    "version": 2
   },
   "file_extension": ".py",
   "mimetype": "text/x-python",
   "name": "python",
   "nbconvert_exporter": "python",
   "pygments_lexer": "ipython2",
   "version": "3.9.0"
  }
 },
 "nbformat": 4,
 "nbformat_minor": 5
}
