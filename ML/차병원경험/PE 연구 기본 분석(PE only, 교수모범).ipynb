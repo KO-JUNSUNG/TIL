{
 "cells": [
  {
   "cell_type": "code",
   "execution_count": 2,
   "id": "initial_id",
   "metadata": {
    "collapsed": true,
    "ExecuteTime": {
     "end_time": "2023-09-14T04:46:29.865820900Z",
     "start_time": "2023-09-14T04:46:28.950554700Z"
    }
   },
   "outputs": [],
   "source": [
    "import openpyxl as xls\n",
    "from scipy.stats import ttest_ind\n",
    "from scipy.stats.contingency import chi2_contingency\n",
    "import numpy as np\n",
    "import re"
   ]
  },
  {
   "cell_type": "code",
   "execution_count": 3,
   "outputs": [],
   "source": [
    "import pandas as pd"
   ],
   "metadata": {
    "collapsed": false,
    "ExecuteTime": {
     "end_time": "2023-09-14T04:46:29.865820900Z",
     "start_time": "2023-09-14T04:46:29.482166400Z"
    }
   },
   "id": "fb277ccda4be07a"
  },
  {
   "cell_type": "code",
   "execution_count": 4,
   "outputs": [],
   "source": [
    "bdc_data = pd.read_excel('230911 1600 분당차 데이터셋 김주연.xlsx', sheet_name='8672', header=11)"
   ],
   "metadata": {
    "collapsed": false,
    "ExecuteTime": {
     "end_time": "2023-09-14T04:47:50.484850800Z",
     "start_time": "2023-09-14T04:46:29.740393Z"
    }
   },
   "id": "d8fb753c6c3dd014"
  },
  {
   "cell_type": "code",
   "execution_count": 5,
   "outputs": [
    {
     "data": {
      "text/plain": "      year Hospital TYPE1    환자번호_2  환자번호_2.1        가명처리      분만일자_4  분만주_5  \\\n0     2015      분당차    정상  11427012  11427012         강*진  2015-06-03     40   \n1     2015      분당차    정상  11418357  11418357         강*영  2015-06-09     39   \n2     2015      분당차    정상  11334675  11334675         강*사  2015-04-23     37   \n3     2015      분당차    정상  11545481  11545481         강*화  2015-09-03     39   \n4     2015      분당차    정상  11584851  11584851         강*아  2015-05-28     38   \n...    ...      ...   ...       ...       ...         ...         ...    ...   \n8667  2022      분당차    분만  11479420  11479420         황*혜  2022-09-06     38   \n8668  2022      분당차    분만  12161785  12161785         황*아  2022-03-22     39   \n8669  2022      분당차    분만  12137290  12137290         황*신  2022-01-23     40   \n8670  2022      분당차    분만  12126800  12126800     후*모토마이코  2022-02-03     39   \n8671  2022      분당차    분만  12036286  12036286  힐*리요다비드마리펠  2022-05-09     39   \n\n      분만일_6       EDC_7  ... 두번째 출생체중  두번째 합병증 두번째 COMMENT 세번째 분만년도  \\\n0         6  2015-05-28  ...      NaN      NaN      현재 임신중      NaN   \n1         0  2015-06-16  ...      NaN      NaN         NaN      NaN   \n2         5         NaN  ...      NaN      NaN         NaN      NaN   \n3         0  2015-09-10  ...      NaN      NaN         NaN      NaN   \n4         1  2015-06-10  ...      NaN      NaN         NaN      NaN   \n...     ...         ...  ...      ...      ...         ...      ...   \n8667      1  2022-09-19  ...      NaN      NaN         NaN      NaN   \n8668      0  2022-03-29  ...      NaN      NaN         NaN      NaN   \n8669      1  2022-01-22  ...      NaN      NaN         NaN      NaN   \n8670      1  2022-02-09  ...      NaN      NaN         NaN      NaN   \n8671      0  2022-05-16  ...      NaN      NaN         IVF      NaN   \n\n     세번째 분만임신주수 세번째 분만형태  세번째 성별 세번째 출생체중  세번째 합병증  세번째 COMMENT  \n0           NaN      NaN     NaN      NaN      NaN          NaN  \n1           NaN      NaN     NaN      NaN      NaN          NaN  \n2           NaN      NaN     NaN      NaN      NaN          NaN  \n3           NaN      NaN     NaN      NaN      NaN          NaN  \n4           NaN      NaN     NaN      NaN      NaN          NaN  \n...         ...      ...     ...      ...      ...          ...  \n8667        NaN      NaN     NaN      NaN      NaN          NaN  \n8668        NaN      NaN     NaN      NaN      NaN          NaN  \n8669        NaN      NaN     NaN      NaN      NaN          NaN  \n8670        NaN      NaN     NaN      NaN      NaN          NaN  \n8671        NaN      NaN     NaN      NaN      NaN          NaN  \n\n[8672 rows x 1091 columns]",
      "text/html": "<div>\n<style scoped>\n    .dataframe tbody tr th:only-of-type {\n        vertical-align: middle;\n    }\n\n    .dataframe tbody tr th {\n        vertical-align: top;\n    }\n\n    .dataframe thead th {\n        text-align: right;\n    }\n</style>\n<table border=\"1\" class=\"dataframe\">\n  <thead>\n    <tr style=\"text-align: right;\">\n      <th></th>\n      <th>year</th>\n      <th>Hospital</th>\n      <th>TYPE1</th>\n      <th>환자번호_2</th>\n      <th>환자번호_2.1</th>\n      <th>가명처리</th>\n      <th>분만일자_4</th>\n      <th>분만주_5</th>\n      <th>분만일_6</th>\n      <th>EDC_7</th>\n      <th>...</th>\n      <th>두번째 출생체중</th>\n      <th>두번째 합병증</th>\n      <th>두번째 COMMENT</th>\n      <th>세번째 분만년도</th>\n      <th>세번째 분만임신주수</th>\n      <th>세번째 분만형태</th>\n      <th>세번째 성별</th>\n      <th>세번째 출생체중</th>\n      <th>세번째 합병증</th>\n      <th>세번째 COMMENT</th>\n    </tr>\n  </thead>\n  <tbody>\n    <tr>\n      <th>0</th>\n      <td>2015</td>\n      <td>분당차</td>\n      <td>정상</td>\n      <td>11427012</td>\n      <td>11427012</td>\n      <td>강*진</td>\n      <td>2015-06-03</td>\n      <td>40</td>\n      <td>6</td>\n      <td>2015-05-28</td>\n      <td>...</td>\n      <td>NaN</td>\n      <td>NaN</td>\n      <td>현재 임신중</td>\n      <td>NaN</td>\n      <td>NaN</td>\n      <td>NaN</td>\n      <td>NaN</td>\n      <td>NaN</td>\n      <td>NaN</td>\n      <td>NaN</td>\n    </tr>\n    <tr>\n      <th>1</th>\n      <td>2015</td>\n      <td>분당차</td>\n      <td>정상</td>\n      <td>11418357</td>\n      <td>11418357</td>\n      <td>강*영</td>\n      <td>2015-06-09</td>\n      <td>39</td>\n      <td>0</td>\n      <td>2015-06-16</td>\n      <td>...</td>\n      <td>NaN</td>\n      <td>NaN</td>\n      <td>NaN</td>\n      <td>NaN</td>\n      <td>NaN</td>\n      <td>NaN</td>\n      <td>NaN</td>\n      <td>NaN</td>\n      <td>NaN</td>\n      <td>NaN</td>\n    </tr>\n    <tr>\n      <th>2</th>\n      <td>2015</td>\n      <td>분당차</td>\n      <td>정상</td>\n      <td>11334675</td>\n      <td>11334675</td>\n      <td>강*사</td>\n      <td>2015-04-23</td>\n      <td>37</td>\n      <td>5</td>\n      <td>NaN</td>\n      <td>...</td>\n      <td>NaN</td>\n      <td>NaN</td>\n      <td>NaN</td>\n      <td>NaN</td>\n      <td>NaN</td>\n      <td>NaN</td>\n      <td>NaN</td>\n      <td>NaN</td>\n      <td>NaN</td>\n      <td>NaN</td>\n    </tr>\n    <tr>\n      <th>3</th>\n      <td>2015</td>\n      <td>분당차</td>\n      <td>정상</td>\n      <td>11545481</td>\n      <td>11545481</td>\n      <td>강*화</td>\n      <td>2015-09-03</td>\n      <td>39</td>\n      <td>0</td>\n      <td>2015-09-10</td>\n      <td>...</td>\n      <td>NaN</td>\n      <td>NaN</td>\n      <td>NaN</td>\n      <td>NaN</td>\n      <td>NaN</td>\n      <td>NaN</td>\n      <td>NaN</td>\n      <td>NaN</td>\n      <td>NaN</td>\n      <td>NaN</td>\n    </tr>\n    <tr>\n      <th>4</th>\n      <td>2015</td>\n      <td>분당차</td>\n      <td>정상</td>\n      <td>11584851</td>\n      <td>11584851</td>\n      <td>강*아</td>\n      <td>2015-05-28</td>\n      <td>38</td>\n      <td>1</td>\n      <td>2015-06-10</td>\n      <td>...</td>\n      <td>NaN</td>\n      <td>NaN</td>\n      <td>NaN</td>\n      <td>NaN</td>\n      <td>NaN</td>\n      <td>NaN</td>\n      <td>NaN</td>\n      <td>NaN</td>\n      <td>NaN</td>\n      <td>NaN</td>\n    </tr>\n    <tr>\n      <th>...</th>\n      <td>...</td>\n      <td>...</td>\n      <td>...</td>\n      <td>...</td>\n      <td>...</td>\n      <td>...</td>\n      <td>...</td>\n      <td>...</td>\n      <td>...</td>\n      <td>...</td>\n      <td>...</td>\n      <td>...</td>\n      <td>...</td>\n      <td>...</td>\n      <td>...</td>\n      <td>...</td>\n      <td>...</td>\n      <td>...</td>\n      <td>...</td>\n      <td>...</td>\n      <td>...</td>\n    </tr>\n    <tr>\n      <th>8667</th>\n      <td>2022</td>\n      <td>분당차</td>\n      <td>분만</td>\n      <td>11479420</td>\n      <td>11479420</td>\n      <td>황*혜</td>\n      <td>2022-09-06</td>\n      <td>38</td>\n      <td>1</td>\n      <td>2022-09-19</td>\n      <td>...</td>\n      <td>NaN</td>\n      <td>NaN</td>\n      <td>NaN</td>\n      <td>NaN</td>\n      <td>NaN</td>\n      <td>NaN</td>\n      <td>NaN</td>\n      <td>NaN</td>\n      <td>NaN</td>\n      <td>NaN</td>\n    </tr>\n    <tr>\n      <th>8668</th>\n      <td>2022</td>\n      <td>분당차</td>\n      <td>분만</td>\n      <td>12161785</td>\n      <td>12161785</td>\n      <td>황*아</td>\n      <td>2022-03-22</td>\n      <td>39</td>\n      <td>0</td>\n      <td>2022-03-29</td>\n      <td>...</td>\n      <td>NaN</td>\n      <td>NaN</td>\n      <td>NaN</td>\n      <td>NaN</td>\n      <td>NaN</td>\n      <td>NaN</td>\n      <td>NaN</td>\n      <td>NaN</td>\n      <td>NaN</td>\n      <td>NaN</td>\n    </tr>\n    <tr>\n      <th>8669</th>\n      <td>2022</td>\n      <td>분당차</td>\n      <td>분만</td>\n      <td>12137290</td>\n      <td>12137290</td>\n      <td>황*신</td>\n      <td>2022-01-23</td>\n      <td>40</td>\n      <td>1</td>\n      <td>2022-01-22</td>\n      <td>...</td>\n      <td>NaN</td>\n      <td>NaN</td>\n      <td>NaN</td>\n      <td>NaN</td>\n      <td>NaN</td>\n      <td>NaN</td>\n      <td>NaN</td>\n      <td>NaN</td>\n      <td>NaN</td>\n      <td>NaN</td>\n    </tr>\n    <tr>\n      <th>8670</th>\n      <td>2022</td>\n      <td>분당차</td>\n      <td>분만</td>\n      <td>12126800</td>\n      <td>12126800</td>\n      <td>후*모토마이코</td>\n      <td>2022-02-03</td>\n      <td>39</td>\n      <td>1</td>\n      <td>2022-02-09</td>\n      <td>...</td>\n      <td>NaN</td>\n      <td>NaN</td>\n      <td>NaN</td>\n      <td>NaN</td>\n      <td>NaN</td>\n      <td>NaN</td>\n      <td>NaN</td>\n      <td>NaN</td>\n      <td>NaN</td>\n      <td>NaN</td>\n    </tr>\n    <tr>\n      <th>8671</th>\n      <td>2022</td>\n      <td>분당차</td>\n      <td>분만</td>\n      <td>12036286</td>\n      <td>12036286</td>\n      <td>힐*리요다비드마리펠</td>\n      <td>2022-05-09</td>\n      <td>39</td>\n      <td>0</td>\n      <td>2022-05-16</td>\n      <td>...</td>\n      <td>NaN</td>\n      <td>NaN</td>\n      <td>IVF</td>\n      <td>NaN</td>\n      <td>NaN</td>\n      <td>NaN</td>\n      <td>NaN</td>\n      <td>NaN</td>\n      <td>NaN</td>\n      <td>NaN</td>\n    </tr>\n  </tbody>\n</table>\n<p>8672 rows × 1091 columns</p>\n</div>"
     },
     "execution_count": 5,
     "metadata": {},
     "output_type": "execute_result"
    }
   ],
   "source": [
    "bdc_data"
   ],
   "metadata": {
    "collapsed": false,
    "ExecuteTime": {
     "end_time": "2023-09-14T04:47:50.516054Z",
     "start_time": "2023-09-14T04:47:50.484850800Z"
    }
   },
   "id": "68180e1b0d12fa92"
  },
  {
   "cell_type": "code",
   "execution_count": 6,
   "outputs": [
    {
     "data": {
      "text/plain": "8672"
     },
     "execution_count": 6,
     "metadata": {},
     "output_type": "execute_result"
    }
   ],
   "source": [
    "cases = bdc_data.loc[bdc_data['임신중독증 유무']=='유']\n",
    "conts = bdc_data.loc[bdc_data['임신중독증 유무']=='무']\n",
    "len(cases)+len(conts)"
   ],
   "metadata": {
    "collapsed": false,
    "ExecuteTime": {
     "end_time": "2023-09-14T04:47:50.578556500Z",
     "start_time": "2023-09-14T04:47:50.516054Z"
    }
   },
   "id": "9a7f6c691f4d1adf"
  },
  {
   "cell_type": "code",
   "execution_count": 7,
   "outputs": [],
   "source": [
    "def __find_name_of_col_bundanglogicnum__(x, tar_str):\n",
    "    res = re.findall('[^0-9]_'+tar_str+'(?:$|[^0-9])',x)\n",
    "    if len(res)<1:\n",
    "        return False\n",
    "    elif (res[0][2:]==tar_str)|(res[0][2:-1]==tar_str):\n",
    "        return True\n",
    "    else:\n",
    "        return False\n",
    "def find_name_of_col_bundanglogicnum(logicnum):\n",
    "    i_col = np.where([__find_name_of_col_bundanglogicnum__(x,logicnum) for x in bdc_data.columns])\n",
    "    name_col = bdc_data.columns[i_col]\n",
    "    return name_col\n",
    "# print(find_name_of_col_bundanglogicnum('16_1'))\n",
    "k=1.96\n",
    "def analy_for_conti_values(cases_0, conts_0, ):\n",
    "    cases_ = cases_0.dropna()\n",
    "    conts_ = conts_0.dropna()\n",
    "    print('Missings:', len(cases_0)+len(conts_0)-len(cases_)-len(conts_))\n",
    "    case_m, case_sd, cont_m, cont_sd = np.mean(cases_),np.std(cases_),np.mean(conts_),np.std(conts_)\n",
    "    print('{:.2f} ({:.2f},{:.2f})'.format(case_m, case_m-k*case_sd, case_m+k*case_sd), end=' ')\n",
    "    print('{:.2f} ({:.2f},{:.2f})'.format(cont_m, cont_m-k*cont_sd, cont_m+k*cont_sd), end=' ')\n",
    "    print('{:.4f}'.format(ttest_ind(list(cases_), list(conts_))[1]))\n",
    "def analy_for_cate_values(cases_0, conts_0, ):\n",
    "    cases_ = cases_0.dropna()\n",
    "    conts_ = conts_0.dropna()\n",
    "    print('Missings:', len(cases_0)+len(conts_0)-len(cases_)-len(conts_))\n",
    "    case0, case1, cont0, cont1 = sum(cases_==0), sum(cases_==1), sum(conts_==0), sum(conts_==1)\n",
    "    obs = np.zeros(shape=(2,2))\n",
    "    obs[0,0] = case0; obs[0,1] = cont0;  \n",
    "    obs[1,0] = case1; obs[1,1] = cont1; \n",
    "    obs = obs.astype(np.int64)\n",
    "    print(obs)\n",
    "    print(\"{:.3f}\".format(chi2_contingency(obs)[1]))"
   ],
   "metadata": {
    "collapsed": false,
    "ExecuteTime": {
     "end_time": "2023-09-14T04:47:50.594349600Z",
     "start_time": "2023-09-14T04:47:50.578556500Z"
    }
   },
   "id": "bb3ec444bf5aea3f"
  },
  {
   "cell_type": "code",
   "execution_count": 8,
   "outputs": [
    {
     "name": "stdout",
     "output_type": "stream",
     "text": [
      "Index(['만나이분만일기준_9'], dtype='object')\n",
      "************************************\n",
      "Missings: 0\n",
      "35.38 (26.93,43.83) 34.46 (26.46,42.46) 0.0020\n"
     ]
    }
   ],
   "source": [
    "col_names = find_name_of_col_bundanglogicnum('9')\n",
    "print(col_names); selected_col = col_names[0]\n",
    "#print(bdc_data[selected_col].unique())\n",
    "cases_, conts_ = cases[selected_col], conts[selected_col]\n",
    "print('************************************')\n",
    "analy_for_conti_values(cases_, conts_)"
   ],
   "metadata": {
    "collapsed": false,
    "ExecuteTime": {
     "end_time": "2023-09-14T04:47:50.610005500Z",
     "start_time": "2023-09-14T04:47:50.594349600Z"
    }
   },
   "id": "f81b5edd1d6c089f"
  },
  {
   "cell_type": "code",
   "execution_count": 9,
   "outputs": [
    {
     "name": "stdout",
     "output_type": "stream",
     "text": [
      "Index(['이번임신방법_16_1', '이번임신방법_16_1.1'], dtype='object')\n",
      "[nan '시술_체외수정(IVF)' '시술_인공수정(IUI)' '자연임신' '체외수정(IVF)' '인공수정(IUI)'\n",
      " '배란유도제사용']\n",
      "************************************\n",
      "Missings: 5517\n",
      "[[  43 1543]\n",
      " [  46 1523]]\n",
      "0.790\n"
     ]
    }
   ],
   "source": [
    "col_names = find_name_of_col_bundanglogicnum('16_1')\n",
    "print(col_names); selected_col = col_names[1]\n",
    "print(bdc_data[selected_col].unique())\n",
    "cases_, conts_ = cases[selected_col], conts[selected_col]\n",
    "def tempfunc_(x):\n",
    "    if pd.isna(x):\n",
    "        return np.nan\n",
    "    if x=='자연임신':\n",
    "        return 0\n",
    "    return 1\n",
    "cases__ = cases_.apply(lambda x: tempfunc_(x)) \n",
    "conts__ = conts_.apply(lambda x: tempfunc_(x))\n",
    "print('************************************')\n",
    "analy_for_cate_values(cases__, conts__)"
   ],
   "metadata": {
    "collapsed": false,
    "ExecuteTime": {
     "end_time": "2023-09-14T04:47:50.625630400Z",
     "start_time": "2023-09-14T04:47:50.610005500Z"
    }
   },
   "id": "465192d18d84b15"
  },
  {
   "cell_type": "code",
   "execution_count": 10,
   "outputs": [
    {
     "name": "stdout",
     "output_type": "stream",
     "text": [
      "Index(['이번임신방법_16_1', '이번임신방법_16_1.1'], dtype='object')\n",
      "************************************\n",
      "Missings: 5517\n",
      "[[  52 1795]\n",
      " [  37 1271]]\n",
      "1.000\n"
     ]
    }
   ],
   "source": [
    "col_names = find_name_of_col_bundanglogicnum('16_1') #엑셀 표에는 16_2를 참조하라고 했으나 16_1을 기준으로 하는 게 맞다고 판단하였음.\n",
    "print(col_names)\n",
    "selected_col = col_names[1]\n",
    "cases_, conts_ = cases[selected_col], conts[selected_col]\n",
    "def tempfunc_(x):\n",
    "    if pd.isna(x):\n",
    "        return np.nan\n",
    "    if 'IVF' in x:\n",
    "        return 1\n",
    "    return 0\n",
    "cases__ = cases_.apply(lambda x: tempfunc_(x)) \n",
    "conts__ = conts_.apply(lambda x: tempfunc_(x))\n",
    "print('************************************')\n",
    "analy_for_cate_values(cases__, conts__)"
   ],
   "metadata": {
    "collapsed": false,
    "ExecuteTime": {
     "end_time": "2023-09-14T04:47:50.641254500Z",
     "start_time": "2023-09-14T04:47:50.625630400Z"
    }
   },
   "id": "1e960d557e8f75ee"
  },
  {
   "cell_type": "code",
   "execution_count": 11,
   "outputs": [
    {
     "name": "stdout",
     "output_type": "stream",
     "text": [
      "Index(['흡연력_35', '흡연력_35.1'], dtype='object')\n",
      "['무' nan '유']\n",
      "************************************\n",
      "Missings: 17\n",
      "[[ 189 8414]\n",
      " [   1   51]]\n",
      "1.000\n"
     ]
    }
   ],
   "source": [
    "col_names = find_name_of_col_bundanglogicnum('35') \n",
    "print(col_names)\n",
    "selected_col = col_names[1]\n",
    "print(bdc_data[selected_col].unique())\n",
    "cases_, conts_ = cases[selected_col], conts[selected_col]\n",
    "def tempfunc_(x):\n",
    "    if pd.isna(x):\n",
    "        return np.nan\n",
    "    if '유'==x:\n",
    "        return 1\n",
    "    return 0\n",
    "cases__ = cases_.apply(lambda x: tempfunc_(x)) \n",
    "conts__ = conts_.apply(lambda x: tempfunc_(x))\n",
    "print('************************************')\n",
    "analy_for_cate_values(cases__, conts__)"
   ],
   "metadata": {
    "collapsed": false,
    "ExecuteTime": {
     "end_time": "2023-09-14T04:47:50.656879800Z",
     "start_time": "2023-09-14T04:47:50.641254500Z"
    }
   },
   "id": "4e40e09f31db2e40"
  },
  {
   "cell_type": "code",
   "execution_count": 12,
   "outputs": [
    {
     "name": "stdout",
     "output_type": "stream",
     "text": [
      "Index(['음주력_36', '음주력_36.1'], dtype='object')\n",
      "['무' nan '유']\n",
      "************************************\n",
      "Missings: 17\n",
      "[[ 189 8438]\n",
      " [   1   27]]\n",
      "1.000\n"
     ]
    }
   ],
   "source": [
    "col_names = find_name_of_col_bundanglogicnum('36')\n",
    "print(col_names); selected_col = col_names[1]\n",
    "print(bdc_data[selected_col].unique())\n",
    "cases_, conts_ = cases[selected_col], conts[selected_col]\n",
    "def tempfunc_(x):\n",
    "    if pd.isna(x):\n",
    "        return np.nan\n",
    "    if '유'==x:\n",
    "        return 1\n",
    "    return 0\n",
    "cases__ = cases_.apply(lambda x: tempfunc_(x)) \n",
    "conts__ = conts_.apply(lambda x: tempfunc_(x))\n",
    "print('************************************')\n",
    "analy_for_cate_values(cases__, conts__)"
   ],
   "metadata": {
    "collapsed": false,
    "ExecuteTime": {
     "end_time": "2023-09-14T04:47:50.672505300Z",
     "start_time": "2023-09-14T04:47:50.656879800Z"
    }
   },
   "id": "e61df9a008b8bb14"
  },
  {
   "cell_type": "code",
   "execution_count": 13,
   "outputs": [
    {
     "name": "stdout",
     "output_type": "stream",
     "text": [
      "Index(['고혈압_52'], dtype='object')\n",
      "[nan '무' '유']\n",
      "************************************\n",
      "Missings: 7027\n",
      "[[  40 1578]\n",
      " [   7   20]]\n",
      "0.000\n"
     ]
    }
   ],
   "source": [
    "col_names = find_name_of_col_bundanglogicnum('52')\n",
    "print(col_names)\n",
    "selected_col = col_names[0]\n",
    "print(bdc_data[selected_col].unique())\n",
    "cases_, conts_ = cases[selected_col], conts[selected_col]\n",
    "def tempfunc_(x):\n",
    "    if pd.isna(x):\n",
    "        return np.nan\n",
    "    if '유'==x:\n",
    "        return 1\n",
    "    return 0\n",
    "cases__ = cases_.apply(lambda x: tempfunc_(x)) \n",
    "conts__ = conts_.apply(lambda x: tempfunc_(x))\n",
    "print('************************************')\n",
    "analy_for_cate_values(cases__, conts__)"
   ],
   "metadata": {
    "collapsed": false,
    "ExecuteTime": {
     "end_time": "2023-09-14T04:47:50.688129500Z",
     "start_time": "2023-09-14T04:47:50.672505300Z"
    }
   },
   "id": "bd662f4dd7c7677c"
  },
  {
   "cell_type": "code",
   "execution_count": 80,
   "outputs": [
    {
     "name": "stdout",
     "output_type": "stream",
     "text": [
      "Index(['과거력당뇨_437', '과거력당뇨_437(류)', '과거력당뇨_437(김)', '과거력당뇨_437_(차트리뷰반영)'], dtype='object')\n",
      "['무' nan '유' '무(출산력변수)' '유(출산력변수)' '무 ']\n",
      "************************************\n",
      "Missings: 30\n",
      "[[ 175 8367]\n",
      " [  13   87]]\n",
      "0.000\n"
     ]
    }
   ],
   "source": [
    "col_names = find_name_of_col_bundanglogicnum('437')\n",
    "print(col_names); selected_col = col_names[-1]\n",
    "print(bdc_data[selected_col].unique())\n",
    "cases_, conts_ = cases[selected_col], conts[selected_col]\n",
    "def tempfunc_(x):\n",
    "    if pd.isna(x):\n",
    "        return np.nan\n",
    "    if '유' in x:\n",
    "        return 1\n",
    "    return 0\n",
    "cases__ = cases_.apply(lambda x: tempfunc_(x)) \n",
    "conts__ = conts_.apply(lambda x: tempfunc_(x))\n",
    "print('************************************')\n",
    "analy_for_cate_values(cases__, conts__)"
   ],
   "metadata": {
    "collapsed": false,
    "ExecuteTime": {
     "end_time": "2023-09-14T07:21:38.108521400Z",
     "start_time": "2023-09-14T07:21:38.092853300Z"
    }
   },
   "id": "eb1d4cecc61e1fb3"
  },
  {
   "cell_type": "code",
   "execution_count": 15,
   "outputs": [
    {
     "name": "stdout",
     "output_type": "stream",
     "text": [
      "para 정보 가져오기\n",
      "[1 0 2 3 4 '0->1' 5 '0->2' '0(G1)' 8]\n",
      "************************************\n",
      "Missings: 0\n",
      "[[ 128 5241]\n",
      " [  64 3239]]\n",
      "0.195\n"
     ]
    }
   ],
   "source": [
    "selected_col = 'para 정보 가져오기'\n",
    "print(selected_col)\n",
    "print(bdc_data[selected_col].unique())\n",
    "cases_, conts_ = cases[selected_col], conts[selected_col]\n",
    "def tempfunc_(x):\n",
    "    if pd.isna(x):\n",
    "        return np.nan\n",
    "    elif (x=='0(G1)'):\n",
    "        return 0\n",
    "    elif type(x)==str:\n",
    "        return 1\n",
    "    elif x > 0:\n",
    "        return 1\n",
    "    return 0\n",
    "cases__ = cases_.apply(lambda x: tempfunc_(x))\n",
    "conts__ = conts_.apply(lambda x: tempfunc_(x))\n",
    "cases_para_indexes = cases__[cases__==1].index\n",
    "conts_para_indexes = conts__[conts__==1].index\n",
    "print('************************************')\n",
    "analy_for_cate_values(cases__, conts__)"
   ],
   "metadata": {
    "collapsed": false,
    "ExecuteTime": {
     "end_time": "2023-09-14T04:47:50.719379700Z",
     "start_time": "2023-09-14T04:47:50.703753900Z"
    }
   },
   "id": "1033822ae2e6f0c"
  },
  {
   "cell_type": "code",
   "execution_count": 16,
   "outputs": [
    {
     "name": "stdout",
     "output_type": "stream",
     "text": [
      "8.21\n",
      "자연조산 재분류\n",
      "['만삭분만' '만삭분만_자연진통' '자연조산' '자연조산아님']\n",
      "************************************\n",
      "92\n",
      "Missings: 0\n",
      "[[  32 2905]\n",
      " [  24  250]]\n",
      "0.000\n"
     ]
    }
   ],
   "source": [
    "selected_col = '8.21\\n자연조산 재분류'\n",
    "print(selected_col)\n",
    "print(bdc_data[selected_col].unique())\n",
    "cases_, conts_ = cases[selected_col], conts[selected_col]\n",
    "def tempfunc_(x):\n",
    "    if pd.isna(x):\n",
    "        return np.nan\n",
    "    if x=='자연조산아님':\n",
    "        return -1\n",
    "    if x=='자연조산':\n",
    "        return 1\n",
    "    return 0\n",
    "cases__ = cases_.apply(lambda x: tempfunc_(x))\n",
    "conts__ = conts_.apply(lambda x: tempfunc_(x))\n",
    "cases__ = cases__.loc[cases_para_indexes]\n",
    "conts__ = conts__.loc[conts_para_indexes]\n",
    "print('************************************')\n",
    "print(sum(cases__==-1)+sum(conts__==-1))\n",
    "analy_for_cate_values(cases__, conts__)"
   ],
   "metadata": {
    "collapsed": false,
    "ExecuteTime": {
     "end_time": "2023-09-14T04:47:50.743938900Z",
     "start_time": "2023-09-14T04:47:50.719379700Z"
    }
   },
   "id": "184dcf15cadc6809"
  },
  {
   "cell_type": "code",
   "execution_count": 17,
   "outputs": [
    {
     "name": "stdout",
     "output_type": "stream",
     "text": [
      "Index(['임신성고혈압질환과거력_39'], dtype='object')\n",
      "[nan '유' '유(출산력변수)']\n",
      "************************************\n",
      "Missings: 0\n",
      "[[  35 3135]\n",
      " [  29  104]]\n",
      "0.000\n"
     ]
    }
   ],
   "source": [
    "col_names = find_name_of_col_bundanglogicnum('39')\n",
    "print(col_names)\n",
    "selected_col = col_names[-1]\n",
    "print(bdc_data[selected_col].unique())\n",
    "cases_, conts_ = cases[selected_col], conts[selected_col]\n",
    "def tempfunc_(x):\n",
    "    if not pd.isna(x):\n",
    "        return 1\n",
    "    return 0\n",
    "cases__ = cases_.apply(lambda x: tempfunc_(x)) \n",
    "conts__ = conts_.apply(lambda x: tempfunc_(x))\n",
    "cases__ = cases__.loc[cases_para_indexes]\n",
    "conts__ = conts__.loc[conts_para_indexes]\n",
    "print('************************************')\n",
    "analy_for_cate_values(cases__, conts__)"
   ],
   "metadata": {
    "collapsed": false,
    "ExecuteTime": {
     "end_time": "2023-09-14T04:47:50.762938300Z",
     "start_time": "2023-09-14T04:47:50.735004200Z"
    }
   },
   "id": "87e29243007d03d2"
  },
  {
   "cell_type": "code",
   "execution_count": 18,
   "outputs": [
    {
     "name": "stdout",
     "output_type": "stream",
     "text": [
      "Index(['임신성당뇨_40', '임신성당뇨_40.1'], dtype='object')\n",
      "[nan '유' '유(출산력변수)' '무' '무(출산력변수)']\n",
      "************************************\n",
      "Missings: 3010\n",
      "[[  5  33]\n",
      " [ 11 244]]\n",
      "0.063\n"
     ]
    }
   ],
   "source": [
    "col_names = find_name_of_col_bundanglogicnum('40')\n",
    "print(col_names)\n",
    "selected_col = col_names[-1]\n",
    "print(bdc_data[selected_col].unique())\n",
    "cases_, conts_ = cases[selected_col], conts[selected_col]\n",
    "def tempfunc_(x):\n",
    "    if pd.isna(x):\n",
    "        return np.nan\n",
    "    elif '유' in x:\n",
    "        return 1\n",
    "    return 0\n",
    "cases__ = cases_.apply(lambda x: tempfunc_(x)) \n",
    "conts__ = conts_.apply(lambda x: tempfunc_(x))\n",
    "cases__ = cases__.loc[cases_para_indexes]\n",
    "conts__ = conts__.loc[conts_para_indexes]\n",
    "print('************************************')\n",
    "analy_for_cate_values(cases__, conts__)"
   ],
   "metadata": {
    "collapsed": false,
    "ExecuteTime": {
     "end_time": "2023-09-14T04:47:50.775938300Z",
     "start_time": "2023-09-14T04:47:50.753938800Z"
    }
   },
   "id": "97d072cae978fdff"
  },
  {
   "cell_type": "code",
   "execution_count": 19,
   "outputs": [
    {
     "name": "stdout",
     "output_type": "stream",
     "text": [
      "Index(['가족력당뇨_424', '가족력당뇨_424.1', '가족력당뇨_424.2', '가족력당뇨_424.3'], dtype='object')\n",
      "['무' '유' nan]\n",
      "************************************\n",
      "Missings: 3\n",
      "[[ 136 6928]\n",
      " [  56 1549]]\n",
      "0.000\n"
     ]
    }
   ],
   "source": [
    "col_names = find_name_of_col_bundanglogicnum('424')\n",
    "print(col_names)\n",
    "selected_col = col_names[-1]\n",
    "print(bdc_data[selected_col].unique())\n",
    "cases_, conts_ = cases[selected_col], conts[selected_col]\n",
    "cases__ = pd.Series(0, index=cases_.index);\n",
    "conts__ = pd.Series(0, index=conts_.index)\n",
    "def tempfunc_(x):\n",
    "    if pd.isna(x):\n",
    "        return np.nan\n",
    "    elif '유' in x:\n",
    "        return 1\n",
    "    return 0\n",
    "cases__ = cases_.apply(lambda x: tempfunc_(x)) \n",
    "conts__ = conts_.apply(lambda x: tempfunc_(x))\n",
    "print('************************************')\n",
    "analy_for_cate_values(cases__, conts__)"
   ],
   "metadata": {
    "collapsed": false,
    "ExecuteTime": {
     "end_time": "2023-09-14T04:47:50.783069800Z",
     "start_time": "2023-09-14T04:47:50.769938300Z"
    }
   },
   "id": "a501de8aa6cd3f0"
  },
  {
   "cell_type": "code",
   "execution_count": 20,
   "outputs": [
    {
     "name": "stdout",
     "output_type": "stream",
     "text": [
      "Index(['가족력고혈압_426', '가족력고혈압_426.1', '가족력고혈압_426.2'], dtype='object')\n",
      "['무' '유' nan]\n",
      "************************************\n",
      "Missings: 3\n",
      "[[ 103 6084]\n",
      " [  89 2393]]\n",
      "0.000\n"
     ]
    }
   ],
   "source": [
    "col_names = find_name_of_col_bundanglogicnum('426')\n",
    "print(col_names)\n",
    "selected_col = col_names[-1]\n",
    "print(bdc_data[selected_col].unique())\n",
    "cases_, conts_ = cases[selected_col], conts[selected_col]\n",
    "def tempfunc_(x):\n",
    "    if pd.isna(x):\n",
    "        return np.nan\n",
    "    elif '유' in x:\n",
    "        return 1\n",
    "    return 0\n",
    "cases__ = cases_.apply(lambda x: tempfunc_(x)) \n",
    "conts__ = conts_.apply(lambda x: tempfunc_(x))\n",
    "print('************************************')\n",
    "analy_for_cate_values(cases__, conts__)"
   ],
   "metadata": {
    "collapsed": false,
    "ExecuteTime": {
     "end_time": "2023-09-14T04:47:50.798696Z",
     "start_time": "2023-09-14T04:47:50.783069800Z"
    }
   },
   "id": "746e90246da758d7"
  },
  {
   "cell_type": "code",
   "execution_count": 21,
   "outputs": [
    {
     "name": "stdout",
     "output_type": "stream",
     "text": [
      "Index(['BMI_90', 'BMI_90.1'], dtype='object')\n",
      "************************************\n",
      "Missings: 6952\n",
      "25.76 (15.21,36.32) 22.41 (15.25,29.56) 0.0000\n"
     ]
    }
   ],
   "source": [
    "col_names = find_name_of_col_bundanglogicnum('90')\n",
    "print(col_names); selected_col = col_names[0]\n",
    "# print(bdc_data[selected_col].unique())\n",
    "cases_, conts_ = cases[selected_col], conts[selected_col]\n",
    "def tempfunc_(x):\n",
    "    if pd.isna(x):\n",
    "        return np.nan\n",
    "    if ((x<15) or (x>50)):\n",
    "        return np.nan\n",
    "    return np.float32(x)\n",
    "print('************************************')\n",
    "cases__ = cases_.apply(lambda x: tempfunc_(x))\n",
    "conts__ = conts_.apply(lambda x: tempfunc_(x))\n",
    "analy_for_conti_values(cases__, conts__)"
   ],
   "metadata": {
    "collapsed": false,
    "ExecuteTime": {
     "end_time": "2023-09-14T04:47:50.814321200Z",
     "start_time": "2023-09-14T04:47:50.798696Z"
    }
   },
   "id": "ab264f6c27364d06"
  },
  {
   "cell_type": "code",
   "execution_count": 22,
   "outputs": [
    {
     "name": "stdout",
     "output_type": "stream",
     "text": [
      "Index(['BMI_90', 'BMI_90.1'], dtype='object')\n",
      "************************************\n",
      "Missings: 6952\n",
      "[[  40 1590]\n",
      " [  12   78]]\n",
      "0.000\n"
     ]
    }
   ],
   "source": [
    "col_names = find_name_of_col_bundanglogicnum('90')\n",
    "print(col_names); selected_col = col_names[0]\n",
    "# print(bdc_data[selected_col].unique())\n",
    "cases_, conts_ = cases[selected_col], conts[selected_col]\n",
    "def tempfunc_(x):\n",
    "    if pd.isna(x):\n",
    "        return np.nan\n",
    "    if ((x<15) or (x>50)):\n",
    "        return np.nan\n",
    "    if x>=30:\n",
    "        return 1\n",
    "    return 0\n",
    "cases__ = cases_.apply(lambda x: tempfunc_(x))\n",
    "conts__ = conts_.apply(lambda x: tempfunc_(x))\n",
    "print('************************************')\n",
    "analy_for_cate_values(cases__, conts__)"
   ],
   "metadata": {
    "collapsed": false,
    "ExecuteTime": {
     "end_time": "2023-09-14T04:47:50.829946Z",
     "start_time": "2023-09-14T04:47:50.814321200Z"
    }
   },
   "id": "b97f40bcf0b86a97"
  },
  {
   "cell_type": "code",
   "execution_count": 23,
   "outputs": [
    {
     "name": "stdout",
     "output_type": "stream",
     "text": [
      "Index(['혈압수축기_88', '혈압수축기_88.1'], dtype='object')\n",
      "************************************\n",
      "Missings: 6295\n",
      "136.39 (98.58,174.19) 117.55 (90.53,144.57) 0.0000\n"
     ]
    }
   ],
   "source": [
    "col_names = find_name_of_col_bundanglogicnum('88')\n",
    "print(col_names)\n",
    "selected_col = col_names[1]\n",
    "# print(bdc_data[selected_col].unique())\n",
    "cases_, conts_ = cases[selected_col], conts[selected_col]\n",
    "print('************************************')\n",
    "analy_for_conti_values(cases_, conts_)"
   ],
   "metadata": {
    "collapsed": false,
    "ExecuteTime": {
     "end_time": "2023-09-14T04:47:50.845570900Z",
     "start_time": "2023-09-14T04:47:50.829946Z"
    }
   },
   "id": "895021b1705b0500"
  },
  {
   "cell_type": "code",
   "execution_count": 24,
   "outputs": [
    {
     "name": "stdout",
     "output_type": "stream",
     "text": [
      "Index(['혈압이완기_89', '혈압이완기_89.1'], dtype='object')\n",
      "************************************\n",
      "Missings: 6296\n",
      "84.26 (54.25,114.26) 69.28 (47.74,90.82) 0.0000\n"
     ]
    }
   ],
   "source": [
    "col_names = find_name_of_col_bundanglogicnum('89')\n",
    "print(col_names)\n",
    "selected_col = col_names[1]\n",
    "#print(bdc_data[selected_col].unique())\n",
    "cases_, conts_ = cases[selected_col], conts[selected_col]\n",
    "print('************************************')\n",
    "analy_for_conti_values(cases_, conts_)"
   ],
   "metadata": {
    "collapsed": false,
    "ExecuteTime": {
     "end_time": "2023-09-14T04:47:50.861195400Z",
     "start_time": "2023-09-14T04:47:50.845570900Z"
    }
   },
   "id": "8197083599c852a6"
  },
  {
   "cell_type": "code",
   "execution_count": 86,
   "outputs": [
    {
     "name": "stdout",
     "output_type": "stream",
     "text": [
      "Index(['혈압수축기_88', '혈압수축기_88.1'], dtype='object')\n",
      "Index(['혈압이완기_89', '혈압이완기_89.1'], dtype='object')\n",
      "************************************\n",
      "Missings: 6296\n",
      "101.63 (70.87,132.40) 85.37 (63.76,106.98) 0.0000\n"
     ]
    }
   ],
   "source": [
    "col_names = find_name_of_col_bundanglogicnum('88')\n",
    "print(col_names)\n",
    "selected_col = col_names[1]\n",
    "cases_, conts_ = cases[selected_col], conts[selected_col]\n",
    "col_names = find_name_of_col_bundanglogicnum('89')\n",
    "print(col_names)\n",
    "selected_col = col_names[1]\n",
    "cases2_, conts2_ = cases[selected_col], conts[selected_col]\n",
    "print('************************************')\n",
    "analy_for_conti_values((cases_+cases2_*2)/3, (conts_+conts2_*2)/3)"
   ],
   "metadata": {
    "collapsed": false,
    "ExecuteTime": {
     "end_time": "2023-09-14T07:28:40.189127900Z",
     "start_time": "2023-09-14T07:28:40.157833800Z"
    }
   },
   "id": "dc76fe50e57c9595"
  },
  {
   "cell_type": "code",
   "execution_count": 26,
   "outputs": [
    {
     "name": "stdout",
     "output_type": "stream",
     "text": [
      "BMI11_94\n",
      "************************************\n",
      "Missings: 5616\n",
      "26.62 (14.57,38.68) 22.73 (15.54,29.93) 0.0000\n"
     ]
    }
   ],
   "source": [
    "selected_col = 'BMI11_94'\n",
    "print(selected_col)\n",
    "# print(bdc_data[selected_col].unique())\n",
    "cases_, conts_ = cases[selected_col], conts[selected_col]\n",
    "def tempfunc_(x):\n",
    "    if pd.isna(x):\n",
    "        return np.nan\n",
    "    if (x==' ') or (x=='  '):\n",
    "        return np.nan\n",
    "    x = np.float32(x)\n",
    "    if ((x<15) or (x>50)):\n",
    "        return np.nan\n",
    "    return x\n",
    "print('************************************')\n",
    "cases__ = cases_.apply(lambda x: tempfunc_(x))\n",
    "conts__ = conts_.apply(lambda x: tempfunc_(x))\n",
    "analy_for_conti_values(cases__, conts__)"
   ],
   "metadata": {
    "collapsed": false,
    "ExecuteTime": {
     "end_time": "2023-09-14T04:47:50.908070100Z",
     "start_time": "2023-09-14T04:47:50.876822300Z"
    }
   },
   "id": "b355f7e1294daeaa"
  },
  {
   "cell_type": "code",
   "execution_count": 27,
   "outputs": [
    {
     "name": "stdout",
     "output_type": "stream",
     "text": [
      "BMI11_94\n",
      "************************************\n",
      "Missings: 5616\n",
      "[[  66 2818]\n",
      " [  18  154]]\n",
      "0.000\n"
     ]
    }
   ],
   "source": [
    "selected_col = 'BMI11_94'\n",
    "print(selected_col)\n",
    "cases_, conts_ = cases[selected_col], conts[selected_col]\n",
    "def tempfunc_(x):\n",
    "    if pd.isna(x):\n",
    "        return np.nan\n",
    "    if (x==' ') or (x=='  '):\n",
    "        return np.nan\n",
    "    x = np.float32(x)\n",
    "    if ((x<15) or (x>50)):\n",
    "        return np.nan\n",
    "    if x>=30:\n",
    "        return 1\n",
    "    return 0\n",
    "cases__ = cases_.apply(lambda x: tempfunc_(x))\n",
    "conts__ = conts_.apply(lambda x: tempfunc_(x))\n",
    "print('************************************')\n",
    "analy_for_cate_values(cases__, conts__)"
   ],
   "metadata": {
    "collapsed": false,
    "ExecuteTime": {
     "end_time": "2023-09-14T04:47:50.939320600Z",
     "start_time": "2023-09-14T04:47:50.908070100Z"
    }
   },
   "id": "79aaca242e89e6b2"
  },
  {
   "cell_type": "code",
   "execution_count": 28,
   "outputs": [
    {
     "name": "stdout",
     "output_type": "stream",
     "text": [
      "혈압수축기11_91\n",
      "************************************\n",
      "Missings: 2932\n",
      "126.95 (101.85,152.04) 113.46 (89.77,137.15) 0.0000\n"
     ]
    }
   ],
   "source": [
    "selected_col = '혈압수축기11_91'\n",
    "print(selected_col)\n",
    "cases_, conts_ = cases[selected_col], conts[selected_col]\n",
    "def tempfunc_(x):\n",
    "    if pd.isna(x):\n",
    "        return np.nan\n",
    "    if (x==' ') or (x=='  '):\n",
    "        return np.nan\n",
    "    return np.float32(x)\n",
    "print('************************************')\n",
    "cases__ = cases_.apply(lambda x: tempfunc_(x))\n",
    "conts__ = conts_.apply(lambda x: tempfunc_(x))\n",
    "analy_for_conti_values(cases__, conts__)"
   ],
   "metadata": {
    "collapsed": false,
    "ExecuteTime": {
     "end_time": "2023-09-14T04:47:50.954946100Z",
     "start_time": "2023-09-14T04:47:50.939320600Z"
    }
   },
   "id": "cb590670d2b35844"
  },
  {
   "cell_type": "code",
   "execution_count": 29,
   "outputs": [
    {
     "name": "stdout",
     "output_type": "stream",
     "text": [
      "혈압이완기11_92\n",
      "************************************\n",
      "Missings: 2932\n",
      "79.96 (55.96,103.95) 69.63 (46.92,92.34) 0.0000\n"
     ]
    }
   ],
   "source": [
    "selected_col = '혈압이완기11_92'\n",
    "print(selected_col)\n",
    "cases_, conts_ = cases[selected_col], conts[selected_col]\n",
    "def tempfunc_(x):\n",
    "    if pd.isna(x):\n",
    "        return np.nan\n",
    "    if (x==' ') or (x=='  '):\n",
    "        return np.nan\n",
    "    return np.float32(x)\n",
    "print('************************************')\n",
    "cases__ = cases_.apply(lambda x: tempfunc_(x))\n",
    "conts__ = conts_.apply(lambda x: tempfunc_(x))\n",
    "analy_for_conti_values(cases__, conts__)"
   ],
   "metadata": {
    "collapsed": false,
    "ExecuteTime": {
     "end_time": "2023-09-14T04:47:50.970570800Z",
     "start_time": "2023-09-14T04:47:50.954946100Z"
    }
   },
   "id": "12cd744411ebe23d"
  },
  {
   "cell_type": "code",
   "execution_count": 82,
   "outputs": [
    {
     "name": "stdout",
     "output_type": "stream",
     "text": [
      "혈압이완기11_92\n",
      "혈압수축기11_91\n",
      "************************************\n",
      "Missings: 2933\n",
      "95.62 (72.89,118.35) 84.24 (63.85,104.63) 0.0000\n"
     ]
    }
   ],
   "source": [
    "selected_col = '혈압이완기11_92'\n",
    "print(selected_col)\n",
    "cases_, conts_ = cases[selected_col], conts[selected_col]\n",
    "def tempfunc_(x):\n",
    "    if pd.isna(x):\n",
    "        return np.nan\n",
    "    if (x==' ') or (x=='  '):\n",
    "        return np.nan\n",
    "    return np.float32(x)\n",
    "cases__ = cases_.apply(lambda x: tempfunc_(x))\n",
    "conts__ = conts_.apply(lambda x: tempfunc_(x))\n",
    "selected_col = '혈압수축기11_91'\n",
    "print(selected_col)\n",
    "cases_, conts_ = cases[selected_col], conts[selected_col]\n",
    "cases2__ = cases_.apply(lambda x: tempfunc_(x))\n",
    "conts2__ = conts_.apply(lambda x: tempfunc_(x))\n",
    "print('************************************')\n",
    "analy_for_conti_values((cases__*2+cases2__)/3, (conts__*2+conts2__)/3)"
   ],
   "metadata": {
    "collapsed": false,
    "ExecuteTime": {
     "end_time": "2023-09-14T07:26:18.273666500Z",
     "start_time": "2023-09-14T07:26:18.229399100Z"
    }
   },
   "id": "2464fb50e3619c79"
  },
  {
   "cell_type": "code",
   "execution_count": 31,
   "outputs": [
    {
     "name": "stdout",
     "output_type": "stream",
     "text": [
      "BMI16_98\n",
      "************************************\n",
      "Missings: 5901\n",
      "26.74 (17.46,36.01) 23.39 (16.22,30.56) 0.0000\n"
     ]
    }
   ],
   "source": [
    "selected_col = 'BMI16_98'\n",
    "print(selected_col)\n",
    "# print(bdc_data[selected_col].unique())\n",
    "cases_, conts_ = cases[selected_col], conts[selected_col]\n",
    "def tempfunc_(x):\n",
    "    if pd.isna(x):\n",
    "        return np.nan\n",
    "    if (x==' ') or (x=='  '):\n",
    "        return np.nan\n",
    "    x = np.float32(x)\n",
    "    if ((x<15) or (x>50)):\n",
    "        return np.nan\n",
    "    return x\n",
    "print('************************************')\n",
    "cases__ = cases_.apply(lambda x: tempfunc_(x))\n",
    "conts__ = conts_.apply(lambda x: tempfunc_(x))\n",
    "analy_for_conti_values(cases__, conts__)"
   ],
   "metadata": {
    "collapsed": false,
    "ExecuteTime": {
     "end_time": "2023-09-14T04:47:51.017445300Z",
     "start_time": "2023-09-14T04:47:51.001820300Z"
    }
   },
   "id": "ca72962bfb40cacc"
  },
  {
   "cell_type": "code",
   "execution_count": 32,
   "outputs": [
    {
     "name": "stdout",
     "output_type": "stream",
     "text": [
      "BMI16_98\n",
      "************************************\n",
      "Missings: 5901\n",
      "[[  60 2528]\n",
      " [  19  164]]\n",
      "0.000\n"
     ]
    }
   ],
   "source": [
    "selected_col = 'BMI16_98'\n",
    "print(selected_col)\n",
    "cases_, conts_ = cases[selected_col], conts[selected_col]\n",
    "def tempfunc_(x):\n",
    "    if pd.isna(x):\n",
    "        return np.nan\n",
    "    if (x==' ') or (x=='  '):\n",
    "        return np.nan\n",
    "    x = np.float32(x)\n",
    "    if ((x<15) or (x>50)):\n",
    "        return np.nan\n",
    "    if x>=30:\n",
    "        return 1\n",
    "    return 0\n",
    "cases__ = cases_.apply(lambda x: tempfunc_(x))\n",
    "conts__ = conts_.apply(lambda x: tempfunc_(x))\n",
    "print('************************************')\n",
    "analy_for_cate_values(cases__, conts__)"
   ],
   "metadata": {
    "collapsed": false,
    "ExecuteTime": {
     "end_time": "2023-09-14T04:47:51.048695200Z",
     "start_time": "2023-09-14T04:47:51.017445300Z"
    }
   },
   "id": "a097584bc1270af4"
  },
  {
   "cell_type": "code",
   "execution_count": 33,
   "outputs": [
    {
     "name": "stdout",
     "output_type": "stream",
     "text": [
      "혈압수축기16_95\n",
      "************************************\n",
      "Missings: 2168\n",
      "125.34 (100.25,150.42) 112.42 (89.36,135.48) 0.0000\n"
     ]
    }
   ],
   "source": [
    "selected_col = '혈압수축기16_95'\n",
    "print(selected_col)\n",
    "cases_, conts_ = cases[selected_col], conts[selected_col]\n",
    "def tempfunc_(x):\n",
    "    if pd.isna(x):\n",
    "        return np.nan\n",
    "    if (x==' ') or (x=='  '):\n",
    "        return np.nan\n",
    "    return np.float32(x)\n",
    "print('************************************')\n",
    "cases__ = cases_.apply(lambda x: tempfunc_(x))\n",
    "conts__ = conts_.apply(lambda x: tempfunc_(x))\n",
    "analy_for_conti_values(cases__, conts__)"
   ],
   "metadata": {
    "collapsed": false,
    "ExecuteTime": {
     "end_time": "2023-09-14T04:47:51.064320200Z",
     "start_time": "2023-09-14T04:47:51.048695200Z"
    }
   },
   "id": "96293327d2c54e77"
  },
  {
   "cell_type": "code",
   "execution_count": 34,
   "outputs": [
    {
     "name": "stdout",
     "output_type": "stream",
     "text": [
      "혈압이완기16_96\n",
      "************************************\n",
      "Missings: 2170\n",
      "78.72 (55.38,102.06) 67.46 (35.27,99.66) 0.0000\n"
     ]
    }
   ],
   "source": [
    "selected_col = '혈압이완기16_96'\n",
    "print(selected_col)\n",
    "cases_, conts_ = cases[selected_col], conts[selected_col]\n",
    "def tempfunc_(x):\n",
    "    if pd.isna(x):\n",
    "        return np.nan\n",
    "    if (x==' ') or (x=='  '):\n",
    "        return np.nan\n",
    "    return np.float32(x)\n",
    "print('************************************')\n",
    "cases__ = cases_.apply(lambda x: tempfunc_(x))\n",
    "conts__ = conts_.apply(lambda x: tempfunc_(x))\n",
    "analy_for_conti_values(cases__, conts__)"
   ],
   "metadata": {
    "collapsed": false,
    "ExecuteTime": {
     "end_time": "2023-09-14T04:47:51.079953800Z",
     "start_time": "2023-09-14T04:47:51.064320200Z"
    }
   },
   "id": "e2591f28e91f7a0e"
  },
  {
   "cell_type": "code",
   "execution_count": 83,
   "outputs": [
    {
     "name": "stdout",
     "output_type": "stream",
     "text": [
      "혈압이완기16_96\n",
      "혈압수축기16_95\n",
      "************************************\n",
      "Missings: 2170\n",
      "94.26 (71.76,116.76) 82.45 (57.05,107.85) 0.0000\n"
     ]
    }
   ],
   "source": [
    "selected_col = '혈압이완기16_96'\n",
    "print(selected_col)\n",
    "cases_, conts_ = cases[selected_col], conts[selected_col]\n",
    "def tempfunc_(x):\n",
    "    if pd.isna(x):\n",
    "        return np.nan\n",
    "    if (x==' ') or (x=='  '):\n",
    "        return np.nan\n",
    "    return np.float32(x)\n",
    "cases__ = cases_.apply(lambda x: tempfunc_(x))\n",
    "conts__ = conts_.apply(lambda x: tempfunc_(x))\n",
    "selected_col = '혈압수축기16_95'\n",
    "print(selected_col)\n",
    "cases_, conts_ = cases[selected_col], conts[selected_col]\n",
    "cases2__ = cases_.apply(lambda x: tempfunc_(x))\n",
    "conts2__ = conts_.apply(lambda x: tempfunc_(x))\n",
    "print('************************************')\n",
    "analy_for_conti_values((cases__*2+cases2__)/3, (conts__*2+conts2__)/3)"
   ],
   "metadata": {
    "collapsed": false,
    "ExecuteTime": {
     "end_time": "2023-09-14T07:27:19.937656400Z",
     "start_time": "2023-09-14T07:27:19.890747200Z"
    }
   },
   "id": "24171a3ac2dde371"
  },
  {
   "cell_type": "code",
   "execution_count": 36,
   "outputs": [
    {
     "name": "stdout",
     "output_type": "stream",
     "text": [
      "BMI20_101\n",
      "************************************\n",
      "Missings: 5589\n",
      "27.44 (17.61,37.28) 24.26 (17.11,31.41) 0.0000\n"
     ]
    }
   ],
   "source": [
    "selected_col = 'BMI20_101'\n",
    "print(selected_col)\n",
    "# print(bdc_data[selected_col].unique())\n",
    "cases_, conts_ = cases[selected_col], conts[selected_col]\n",
    "def tempfunc_(x):\n",
    "    if pd.isna(x):\n",
    "        return np.nan\n",
    "    if (x==' ') or (x=='  '):\n",
    "        return np.nan\n",
    "    x = np.float32(x)\n",
    "    if ((x<15) or (x>50)):\n",
    "        return np.nan\n",
    "    return x\n",
    "print('************************************')\n",
    "cases__ = cases_.apply(lambda x: tempfunc_(x))\n",
    "conts__ = conts_.apply(lambda x: tempfunc_(x))\n",
    "analy_for_conti_values(cases__, conts__)"
   ],
   "metadata": {
    "collapsed": false,
    "ExecuteTime": {
     "end_time": "2023-09-14T04:47:51.143730500Z",
     "start_time": "2023-09-14T04:47:51.111195900Z"
    }
   },
   "id": "4076bf4e8bf5359d"
  },
  {
   "cell_type": "code",
   "execution_count": 37,
   "outputs": [
    {
     "name": "stdout",
     "output_type": "stream",
     "text": [
      "BMI20_101\n",
      "************************************\n",
      "Missings: 5589\n",
      "[[  61 2766]\n",
      " [  25  231]]\n",
      "0.000\n"
     ]
    }
   ],
   "source": [
    "selected_col = 'BMI20_101'\n",
    "print(selected_col)\n",
    "cases_, conts_ = cases[selected_col], conts[selected_col]\n",
    "def tempfunc_(x):\n",
    "    if pd.isna(x):\n",
    "        return np.nan\n",
    "    if (x==' ') or (x=='  '):\n",
    "        return np.nan\n",
    "    x = np.float32(x)\n",
    "    if ((x<15) or (x>50)):\n",
    "        return np.nan\n",
    "    if x>=30:\n",
    "        return 1\n",
    "    return 0\n",
    "cases__ = cases_.apply(lambda x: tempfunc_(x))\n",
    "conts__ = conts_.apply(lambda x: tempfunc_(x))\n",
    "print('************************************')\n",
    "analy_for_cate_values(cases__, conts__)"
   ],
   "metadata": {
    "collapsed": false,
    "ExecuteTime": {
     "end_time": "2023-09-14T04:47:51.168428400Z",
     "start_time": "2023-09-14T04:47:51.143730500Z"
    }
   },
   "id": "9f1a208599589240"
  },
  {
   "cell_type": "code",
   "execution_count": 38,
   "outputs": [
    {
     "name": "stdout",
     "output_type": "stream",
     "text": [
      "혈압수축기20_99_1\n",
      "************************************\n",
      "Missings: 1831\n",
      "126.32 (104.62,148.03) 112.45 (89.55,135.35) 0.0000\n"
     ]
    }
   ],
   "source": [
    "selected_col = '혈압수축기20_99_1'\n",
    "print(selected_col)\n",
    "cases_, conts_ = cases[selected_col], conts[selected_col]\n",
    "def tempfunc_(x):\n",
    "    if pd.isna(x):\n",
    "        return np.nan\n",
    "    if (x==' ') or (x=='  '):\n",
    "        return np.nan\n",
    "    return np.float32(x)\n",
    "print('************************************')\n",
    "cases__ = cases_.apply(lambda x: tempfunc_(x))\n",
    "conts__ = conts_.apply(lambda x: tempfunc_(x))\n",
    "analy_for_conti_values(cases__, conts__)"
   ],
   "metadata": {
    "collapsed": false,
    "ExecuteTime": {
     "end_time": "2023-09-14T04:47:51.184053200Z",
     "start_time": "2023-09-14T04:47:51.168428400Z"
    }
   },
   "id": "5a53093a6ff6f79a"
  },
  {
   "cell_type": "code",
   "execution_count": 39,
   "outputs": [
    {
     "name": "stdout",
     "output_type": "stream",
     "text": [
      "혈압이완기20_99_2\n",
      "************************************\n",
      "Missings: 1831\n",
      "78.20 (54.78,101.62) 66.95 (39.61,94.28) 0.0000\n"
     ]
    }
   ],
   "source": [
    "selected_col = '혈압이완기20_99_2'\n",
    "print(selected_col)\n",
    "cases_, conts_ = cases[selected_col], conts[selected_col]\n",
    "def tempfunc_(x):\n",
    "    if pd.isna(x):\n",
    "        return np.nan\n",
    "    if (x==' ') or (x=='  '):\n",
    "        return np.nan\n",
    "    return np.float32(x)\n",
    "print('************************************')\n",
    "cases__ = cases_.apply(lambda x: tempfunc_(x))\n",
    "conts__ = conts_.apply(lambda x: tempfunc_(x))\n",
    "analy_for_conti_values(cases__, conts__)"
   ],
   "metadata": {
    "collapsed": false,
    "ExecuteTime": {
     "end_time": "2023-09-14T04:47:51.199677800Z",
     "start_time": "2023-09-14T04:47:51.184053200Z"
    }
   },
   "id": "19e8f04aa2e9b0b6"
  },
  {
   "cell_type": "code",
   "execution_count": 84,
   "outputs": [
    {
     "name": "stdout",
     "output_type": "stream",
     "text": [
      "혈압이완기20_99_2\n",
      "혈압수축기20_99_1\n",
      "************************************\n",
      "Missings: 1832\n",
      "94.24 (72.88,115.60) 82.11 (59.55,104.67) 0.0000\n"
     ]
    }
   ],
   "source": [
    "selected_col = '혈압이완기20_99_2'\n",
    "print(selected_col)\n",
    "cases_, conts_ = cases[selected_col], conts[selected_col]\n",
    "def tempfunc_(x):\n",
    "    if pd.isna(x):\n",
    "        return np.nan\n",
    "    if (x==' ') or (x=='  '):\n",
    "        return np.nan\n",
    "    return np.float32(x)\n",
    "cases__ = cases_.apply(lambda x: tempfunc_(x))\n",
    "conts__ = conts_.apply(lambda x: tempfunc_(x))\n",
    "selected_col = '혈압수축기20_99_1'\n",
    "print(selected_col)\n",
    "cases_, conts_ = cases[selected_col], conts[selected_col]\n",
    "cases2__ = cases_.apply(lambda x: tempfunc_(x))\n",
    "conts2__ = conts_.apply(lambda x: tempfunc_(x))\n",
    "print('************************************')\n",
    "analy_for_conti_values((cases__*2+cases2__)/3, (conts__*2+conts2__)/3)"
   ],
   "metadata": {
    "collapsed": false,
    "ExecuteTime": {
     "end_time": "2023-09-14T07:27:54.957882500Z",
     "start_time": "2023-09-14T07:27:54.926636300Z"
    }
   },
   "id": "1c3a588fd3d2f0e5"
  },
  {
   "cell_type": "code",
   "execution_count": 41,
   "outputs": [
    {
     "name": "stdout",
     "output_type": "stream",
     "text": [
      "함+산\n",
      "PAPP-A(MoM)\n",
      "INTEGRATED1차주_122\n",
      "[0.504   nan 1.263 ... 2.557 2.184 2.628]\n",
      "['11' nan '12' '-65' '13' '10' '14' '-116' '-45' '-82' '-238' '-273' '15'\n",
      " '-93' '-134' '-172' '-178' '-145' 11 12 13 10 -117 ' ' -46 -77 -38 '-52']\n",
      "************************************\n",
      "5559\n",
      "Missings: 48\n",
      "1.04 (-0.24,2.32) 1.19 (-0.02,2.40) 0.0117\n"
     ]
    }
   ],
   "source": [
    "selected_col = '함+산\\nPAPP-A(MoM)'\n",
    "print(selected_col)\n",
    "a = np.where(bdc_data.columns==selected_col)[0][0]\n",
    "for i in range(1,20):\n",
    "    if '차주' in bdc_data.columns[a-i]:\n",
    "        print(bdc_data.columns[a-i]);week_i = a-i\n",
    "        break\n",
    "print(bdc_data[selected_col].unique())\n",
    "print(bdc_data.iloc[:,week_i].unique())\n",
    "def func_for_week(x):\n",
    "    if pd.isna(x):\n",
    "        return False\n",
    "    elif x == ' ':\n",
    "        return False\n",
    "    elif (float(x)<=22)&(float(x)>0):\n",
    "        return True\n",
    "    return False\n",
    "cases_, conts_ = cases[cases.iloc[:,week_i].apply(lambda x: func_for_week(x))], conts[conts.iloc[:,week_i].apply(lambda x: func_for_week(x))]\n",
    "cases_, conts_ = cases_[selected_col], conts_[selected_col]\n",
    "print('************************************')\n",
    "print(len(cases_)+len(conts_))\n",
    "analy_for_conti_values(cases_, conts_)"
   ],
   "metadata": {
    "collapsed": false,
    "ExecuteTime": {
     "end_time": "2023-09-14T04:47:51.295676100Z",
     "start_time": "2023-09-14T04:47:51.224524700Z"
    }
   },
   "id": "a22dc0e231519621"
  },
  {
   "cell_type": "code",
   "execution_count": 42,
   "outputs": [
    {
     "name": "stdout",
     "output_type": "stream",
     "text": [
      "함+산\n",
      "AFP MoM\n",
      "INTEGRAGTED2차주_146\n",
      "[0.806   nan 0.913 ... 1.506 1.193 2.467]\n",
      "************************************\n",
      "5714\n",
      "Missings: 8\n",
      "1.19 (0.29,2.08) 1.07 (0.27,1.87) 0.0023\n"
     ]
    }
   ],
   "source": [
    "selected_col = '함+산\\nAFP MoM'\n",
    "print(selected_col)\n",
    "a = np.where(bdc_data.columns==selected_col)[0][0]\n",
    "for i in range(1,20):\n",
    "    if '차주' in bdc_data.columns[a-i]:\n",
    "        print(bdc_data.columns[a-i]);week_i = a-i\n",
    "        break\n",
    "print(bdc_data[selected_col].unique())\n",
    "cases_, conts_ = cases[cases.iloc[:,week_i].apply(lambda x: func_for_week(x))], conts[conts.iloc[:,week_i].apply(lambda x: func_for_week(x))]\n",
    "cases_, conts_ = cases_[selected_col], conts_[selected_col]\n",
    "print('************************************')\n",
    "print(len(cases_)+len(conts_))\n",
    "analy_for_conti_values(cases_, conts_)"
   ],
   "metadata": {
    "collapsed": false,
    "ExecuteTime": {
     "end_time": "2023-09-14T04:47:51.368310Z",
     "start_time": "2023-09-14T04:47:51.295676100Z"
    }
   },
   "id": "8f72d79c7fdd1d9"
  },
  {
   "cell_type": "code",
   "execution_count": 43,
   "outputs": [
    {
     "name": "stdout",
     "output_type": "stream",
     "text": [
      "함+산\n",
      "TotalhCGB MoM\n",
      "INTEGRAGTED2차주_146\n",
      "[0.878   nan 0.787 ... 0.294 3.119 3.134]\n",
      "************************************\n",
      "5714\n",
      "Missings: 8\n",
      "1.62 (-0.27,3.51) 1.17 (-0.04,2.39) 0.0000\n"
     ]
    }
   ],
   "source": [
    "selected_col = '함+산\\nTotalhCGB MoM'\n",
    "print(selected_col)\n",
    "a = np.where(bdc_data.columns==selected_col)[0][0]\n",
    "for i in range(1,20):\n",
    "    if '차주' in bdc_data.columns[a-i]:\n",
    "        print(bdc_data.columns[a-i]);week_i = a-i\n",
    "        break\n",
    "print(bdc_data[selected_col].unique())\n",
    "cases_, conts_ = cases[cases.iloc[:,week_i].apply(lambda x: func_for_week(x))], conts[conts.iloc[:,week_i].apply(lambda x: func_for_week(x))]\n",
    "cases_, conts_ = cases_[selected_col], conts_[selected_col]\n",
    "print('************************************')\n",
    "print(len(cases_)+len(conts_))\n",
    "analy_for_conti_values(cases_, conts_)"
   ],
   "metadata": {
    "collapsed": false,
    "ExecuteTime": {
     "end_time": "2023-09-14T04:47:51.437831400Z",
     "start_time": "2023-09-14T04:47:51.368310Z"
    }
   },
   "id": "92234752ff00364e"
  },
  {
   "cell_type": "code",
   "execution_count": 44,
   "outputs": [
    {
     "name": "stdout",
     "output_type": "stream",
     "text": [
      "함+산\n",
      "UE3 MoM\n",
      "INTEGRAGTED2차주_146\n",
      "[0.666   nan 0.839 ... 1.959 1.456 1.378]\n",
      "************************************\n",
      "5714\n",
      "Missings: 8\n",
      "0.91 (0.38,1.45) 1.02 (-1.38,3.43) 0.3277\n"
     ]
    }
   ],
   "source": [
    "selected_col = '함+산\\nUE3 MoM'\n",
    "print(selected_col)\n",
    "a = np.where(bdc_data.columns==selected_col)[0][0]\n",
    "for i in range(1,20):\n",
    "    if '차주' in bdc_data.columns[a-i]:\n",
    "        print(bdc_data.columns[a-i]);week_i = a-i\n",
    "        break\n",
    "print(bdc_data[selected_col].unique())\n",
    "cases_, conts_ = cases[cases.iloc[:,week_i].apply(lambda x: func_for_week(x))], conts[conts.iloc[:,week_i].apply(lambda x: func_for_week(x))]\n",
    "cases_, conts_ = cases_[selected_col], conts_[selected_col]\n",
    "print('************************************')\n",
    "print(len(cases_)+len(conts_))\n",
    "analy_for_conti_values(cases_, conts_)"
   ],
   "metadata": {
    "collapsed": false,
    "ExecuteTime": {
     "end_time": "2023-09-14T04:47:51.508844400Z",
     "start_time": "2023-09-14T04:47:51.437831400Z"
    }
   },
   "id": "4bb6800a9c8198f3"
  },
  {
   "cell_type": "code",
   "execution_count": 45,
   "outputs": [
    {
     "name": "stdout",
     "output_type": "stream",
     "text": [
      "함+산\n",
      "INHIBIN MoM\n",
      "INTEGRAGTED2차주_146\n",
      "[0.788   nan 1.042 ... 1.637 0.521 2.018]\n",
      "************************************\n",
      "5714\n",
      "Missings: 8\n",
      "1.58 (-1.17,4.33) 1.06 (0.08,2.04) 0.0000\n"
     ]
    }
   ],
   "source": [
    "selected_col = '함+산\\nINHIBIN MoM'\n",
    "print(selected_col)\n",
    "a = np.where(bdc_data.columns==selected_col)[0][0]\n",
    "for i in range(1,20):\n",
    "    if '차주' in bdc_data.columns[a-i]:\n",
    "        print(bdc_data.columns[a-i]);week_i = a-i\n",
    "        break\n",
    "print(bdc_data[selected_col].unique())\n",
    "cases_, conts_ = cases[cases.iloc[:,week_i].apply(lambda x: func_for_week(x))], conts[conts.iloc[:,week_i].apply(lambda x: func_for_week(x))]\n",
    "cases_, conts_ = cases_[selected_col], conts_[selected_col]\n",
    "print('************************************')\n",
    "print(len(cases_)+len(conts_))\n",
    "analy_for_conti_values(cases_, conts_)"
   ],
   "metadata": {
    "collapsed": false,
    "ExecuteTime": {
     "end_time": "2023-09-14T04:47:51.569522800Z",
     "start_time": "2023-09-14T04:47:51.509843700Z"
    }
   },
   "id": "9c654485cd2be460"
  },
  {
   "cell_type": "code",
   "execution_count": 46,
   "outputs": [
    {
     "name": "stdout",
     "output_type": "stream",
     "text": [
      "Index(['WBC_118_1'], dtype='object')\n",
      "주_계산.8\n",
      "[10.77 10.53  6.67 ... 12.74 13.3  18.76]\n",
      "[11. 35. 10.  7. 37.  9. 34. 16. 12. 36. 13. 23. 38.  6. 26. 29. 33. 19.\n",
      " 22. 32. 14. 25. 39. 27.  8. 17. 15. 18. nan 20. 28. 31.  3. 24. 30. 21.\n",
      " 40.  5.  4.  0. -1. -4.  2. -2.  1. -5.]\n",
      "************************************\n",
      "3953\n",
      "Missings: 0\n",
      "9.12 (4.60,13.64) 8.42 (4.34,12.49) 0.0006\n"
     ]
    }
   ],
   "source": [
    "col_names = find_name_of_col_bundanglogicnum('118_1')\n",
    "print(col_names)\n",
    "selected_col = col_names[-1]\n",
    "a = np.where(bdc_data.columns==selected_col)[0][0]\n",
    "for i in range(1,20):\n",
    "    if '주_계산' in bdc_data.columns[a+i]:\n",
    "        print(bdc_data.columns[a+i]);week_i = a+i\n",
    "        break\n",
    "print(bdc_data[selected_col].unique())\n",
    "print(bdc_data.iloc[:,week_i].unique())\n",
    "def func_for_week(x):\n",
    "    if pd.isna(x):\n",
    "        return False\n",
    "    elif (float(x)<=22)&(float(x)>0):\n",
    "        return True\n",
    "    return False\n",
    "cases_, conts_ = cases[cases.iloc[:,week_i].apply(lambda x: func_for_week(x))], conts[conts.iloc[:,week_i].apply(lambda x: func_for_week(x))]\n",
    "cases_, conts_ = cases_[selected_col], conts_[selected_col]\n",
    "print('************************************')\n",
    "print(len(cases_)+len(conts_))\n",
    "analy_for_conti_values(cases_, conts_)"
   ],
   "metadata": {
    "collapsed": false,
    "ExecuteTime": {
     "end_time": "2023-09-14T04:47:51.615825Z",
     "start_time": "2023-09-14T04:47:51.569522800Z"
    }
   },
   "id": "ed44f573f1feef7c"
  },
  {
   "cell_type": "code",
   "execution_count": 47,
   "outputs": [
    {
     "name": "stdout",
     "output_type": "stream",
     "text": [
      "Index(['HGB_118_3'], dtype='object')\n",
      "주_계산.8\n",
      "************************************\n",
      "3953\n",
      "Missings: 0\n",
      "12.62 (9.83,15.40) 12.48 (10.46,14.51) 0.1901\n"
     ]
    }
   ],
   "source": [
    "col_names = find_name_of_col_bundanglogicnum('118_3')\n",
    "print(col_names)\n",
    "selected_col = col_names[-1]\n",
    "a = np.where(bdc_data.columns==selected_col)[0][0]\n",
    "for i in range(1,20):\n",
    "    if '주_계산' in bdc_data.columns[a+i]:\n",
    "        print(bdc_data.columns[a+i]);week_i = a+i\n",
    "        break\n",
    "# print(bdc_data[selected_col].unique())\n",
    "# print(bdc_data.iloc[:,week_i].unique())\n",
    "def func_for_week(x):\n",
    "    if pd.isna(x):\n",
    "        return False\n",
    "    elif (float(x)<=22)&(float(x)>0):\n",
    "        return True\n",
    "    return False\n",
    "cases_, conts_ = cases[cases.iloc[:,week_i].apply(lambda x: func_for_week(x))], conts[conts.iloc[:,week_i].apply(lambda x: func_for_week(x))]\n",
    "cases_, conts_ = cases_[selected_col], conts_[selected_col]\n",
    "print('************************************')\n",
    "print(len(cases_)+len(conts_))\n",
    "analy_for_conti_values(cases_, conts_)"
   ],
   "metadata": {
    "collapsed": false,
    "ExecuteTime": {
     "end_time": "2023-09-14T04:47:51.662658200Z",
     "start_time": "2023-09-14T04:47:51.615825Z"
    }
   },
   "id": "f54c69fa84a7ee9"
  },
  {
   "cell_type": "code",
   "execution_count": 48,
   "outputs": [
    {
     "name": "stdout",
     "output_type": "stream",
     "text": [
      "Index(['HCT_118_4'], dtype='object')\n",
      "주_계산.8\n",
      "************************************\n",
      "3953\n",
      "Missings: 0\n",
      "37.22 (28.89,45.54) 36.82 (30.97,42.68) 0.1857\n"
     ]
    }
   ],
   "source": [
    "col_names = find_name_of_col_bundanglogicnum('118_4')\n",
    "print(col_names)\n",
    "selected_col = col_names[-1]\n",
    "a = np.where(bdc_data.columns == selected_col)[0][0]\n",
    "for i in range(1, 20):\n",
    "    if '주_계산' in bdc_data.columns[a + i]:\n",
    "        print(bdc_data.columns[a + i]);week_i = a + i\n",
    "        break\n",
    "def func_for_week(x):\n",
    "    if pd.isna(x):\n",
    "        return False\n",
    "    elif (float(x) <= 22) & (float(x) > 0):\n",
    "        return True\n",
    "    return False\n",
    "cases_, conts_ = cases[cases.iloc[:, week_i].apply(lambda x: func_for_week(x))], conts[\n",
    "    conts.iloc[:, week_i].apply(lambda x: func_for_week(x))]\n",
    "cases_, conts_ = cases_[selected_col], conts_[selected_col]\n",
    "print('************************************')\n",
    "print(len(cases_)+len(conts_))\n",
    "analy_for_conti_values(cases_, conts_)"
   ],
   "metadata": {
    "collapsed": false,
    "ExecuteTime": {
     "end_time": "2023-09-14T04:47:51.709534100Z",
     "start_time": "2023-09-14T04:47:51.662658200Z"
    }
   },
   "id": "4c91699ffaaab07a"
  },
  {
   "cell_type": "code",
   "execution_count": 49,
   "outputs": [
    {
     "name": "stdout",
     "output_type": "stream",
     "text": [
      "Index(['PLT_118_9'], dtype='object')\n",
      "주_계산.8\n",
      "************************************\n",
      "3953\n",
      "Missings: 0\n",
      "268.35 (125.74,410.96) 249.06 (138.14,359.97) 0.0006\n"
     ]
    }
   ],
   "source": [
    "col_names = find_name_of_col_bundanglogicnum('118_9')\n",
    "print(col_names)\n",
    "selected_col = col_names[-1]\n",
    "a = np.where(bdc_data.columns == selected_col)[0][0]\n",
    "for i in range(1, 20):\n",
    "    if '주_계산' in bdc_data.columns[a + i]:\n",
    "        print(bdc_data.columns[a + i]);week_i = a + i\n",
    "        break\n",
    "def func_for_week(x):\n",
    "    if pd.isna(x):\n",
    "        return False\n",
    "    elif (float(x) <= 22) & (float(x) > 0):\n",
    "        return True\n",
    "    return False\n",
    "cases_, conts_ = cases[cases.iloc[:, week_i].apply(lambda x: func_for_week(x))], conts[\n",
    "    conts.iloc[:, week_i].apply(lambda x: func_for_week(x))]\n",
    "cases_, conts_ = cases_[selected_col], conts_[selected_col]\n",
    "print('************************************')\n",
    "print(len(cases_)+len(conts_))\n",
    "analy_for_conti_values(cases_, conts_)"
   ],
   "metadata": {
    "collapsed": false,
    "ExecuteTime": {
     "end_time": "2023-09-14T04:47:51.756408200Z",
     "start_time": "2023-09-14T04:47:51.709534100Z"
    }
   },
   "id": "d1120ac78cfc6d79"
  },
  {
   "cell_type": "code",
   "execution_count": 50,
   "outputs": [
    {
     "name": "stdout",
     "output_type": "stream",
     "text": [
      "Index(['TSH_118_30', 'TSH_118_30.1', 'TSH_118_30.2'], dtype='object')\n",
      "주_계산.20\n",
      "['0.842' nan '0.582' ... 1.243 2.072 0.302]\n",
      "[11. nan  7. -1. 12. 16.  6. 17. 34. 19. 15.  9.  8. 13. 10. 25.  3. 22.\n",
      " 18. 26. 14. 20. 36. 38. 30. 27. 21. 23. 29.  0. 28. 35. 24. 37.  1. 31.\n",
      "  4. 39.  5. 32.  2. 33. 40. -8.]\n",
      "************************************\n",
      "4034\n",
      "Missings: 68\n",
      "1.22 (-0.90,3.33) 1.32 (-1.69,4.33) 0.5032\n"
     ]
    }
   ],
   "source": [
    "col_names = find_name_of_col_bundanglogicnum('118_30')\n",
    "print(col_names)\n",
    "selected_col = col_names[-1]\n",
    "a = np.where(bdc_data.columns == selected_col)[0][0]\n",
    "for i in range(1, 20):\n",
    "    if '주_계산' in bdc_data.columns[a + i]:\n",
    "        print(bdc_data.columns[a + i]);week_i = a + i\n",
    "        break\n",
    "print(bdc_data[selected_col].unique())\n",
    "print(bdc_data.iloc[:,week_i].unique())\n",
    "def func_for_week(x):\n",
    "    if x is np.nan:\n",
    "        return False\n",
    "    elif (float(x) <= 22) & (float(x) > 0):\n",
    "        return True\n",
    "    return False\n",
    "def tempfunc(x):\n",
    "    if pd.isna(x):\n",
    "        return np.nan\n",
    "    elif type(x)==str:\n",
    "        return float(x.replace('<',''))\n",
    "    return float(x)\n",
    "cases_, conts_ = cases[cases.iloc[:, week_i].apply(lambda x: func_for_week(x))], conts[\n",
    "    conts.iloc[:, week_i].apply(lambda x: func_for_week(x))]\n",
    "cases_, conts_ = cases_[selected_col].apply(lambda x: tempfunc(x)), conts_[selected_col].apply(lambda x: tempfunc(x))\n",
    "print('************************************')\n",
    "print(len(cases_)+len(conts_))\n",
    "analy_for_conti_values(cases_, conts_)"
   ],
   "metadata": {
    "collapsed": false,
    "ExecuteTime": {
     "end_time": "2023-09-14T04:47:51.818908Z",
     "start_time": "2023-09-14T04:47:51.756408200Z"
    }
   },
   "id": "5bdd9722bb52ae2b"
  },
  {
   "cell_type": "code",
   "execution_count": 51,
   "outputs": [
    {
     "name": "stdout",
     "output_type": "stream",
     "text": [
      "FT4_118_31.2\n",
      "주_계산.21\n",
      "************************************\n",
      "2942\n",
      "Missings: 768\n",
      "1.22 (0.89,1.55) 1.23 (0.75,1.72) 0.6658\n"
     ]
    }
   ],
   "source": [
    "selected_col = 'FT4_118_31.2'\n",
    "print(selected_col)\n",
    "a = np.where(bdc_data.columns == selected_col)[0][0]\n",
    "for i in range(1, 20):\n",
    "    if '주_계산' in bdc_data.columns[a + i]:\n",
    "        print(bdc_data.columns[a + i]);week_i = a + i\n",
    "        break\n",
    "# print(bdc_data[selected_col].unique())\n",
    "# print(bdc_data.iloc[:,week_i].unique())\n",
    "def func_for_week(x):\n",
    "    if pd.isna(x):\n",
    "        return False\n",
    "    elif (float(x) <= 22) & (float(x) > 0):\n",
    "        return True\n",
    "    return False\n",
    "def tempfunc(x):\n",
    "    if pd.isna(x):\n",
    "        return np.nan\n",
    "    elif type(x)==str:\n",
    "        return float(x.replace('<',''))\n",
    "    return float(x)\n",
    "cases_, conts_ = cases[cases.iloc[:, week_i].apply(lambda x: func_for_week(x))], conts[\n",
    "    conts.iloc[:, week_i].apply(lambda x: func_for_week(x))]\n",
    "cases_, conts_ = cases_[selected_col].apply(lambda x: tempfunc(x)), conts_[selected_col].apply(lambda x: tempfunc(x))\n",
    "print('************************************')\n",
    "print(len(cases_)+len(conts_))\n",
    "analy_for_conti_values(cases_, conts_)"
   ],
   "metadata": {
    "collapsed": false,
    "ExecuteTime": {
     "end_time": "2023-09-14T04:47:51.865783200Z",
     "start_time": "2023-09-14T04:47:51.818908Z"
    }
   },
   "id": "3ec62569c1ce848b"
  },
  {
   "cell_type": "code",
   "execution_count": 52,
   "outputs": [
    {
     "name": "stdout",
     "output_type": "stream",
     "text": [
      "Index(['BUN_118_33', 'BUN_118_33.1', 'BUN_118_33.2'], dtype='object')\n",
      "주_계산.22\n",
      "************************************\n",
      "3032\n",
      "Missings: 2\n",
      "8.43 (3.12,13.74) 7.98 (3.56,12.39) 0.0646\n"
     ]
    }
   ],
   "source": [
    "col_names = find_name_of_col_bundanglogicnum('118_33')\n",
    "print(col_names)\n",
    "selected_col = col_names[-1]\n",
    "a = np.where(bdc_data.columns == selected_col)[0][0]\n",
    "for i in range(1, 20):\n",
    "    if '주_계산' in bdc_data.columns[a + i]:\n",
    "        print(bdc_data.columns[a + i]);week_i = a + i\n",
    "        break\n",
    "# print(bdc_data[selected_col].unique())\n",
    "# print(bdc_data.iloc[:,week_i].unique())\n",
    "def func_for_week(x):\n",
    "    if pd.isna(x):\n",
    "        return False\n",
    "    elif (float(x) <= 22) & (float(x) > 0):\n",
    "        return True\n",
    "    return False\n",
    "def tempfunc(x):\n",
    "    if pd.isna(x):\n",
    "        return np.nan\n",
    "    elif type(x)==str:\n",
    "        return float(x.replace('<',''))\n",
    "    return float(x)\n",
    "cases_, conts_ = cases[cases.iloc[:, week_i].apply(lambda x: func_for_week(x))], conts[\n",
    "    conts.iloc[:, week_i].apply(lambda x: func_for_week(x))]\n",
    "cases_, conts_ = cases_[selected_col].apply(lambda x: tempfunc(x)), conts_[selected_col].apply(lambda x: tempfunc(x))\n",
    "print('************************************')\n",
    "print(len(cases_)+len(conts_))\n",
    "analy_for_conti_values(cases_, conts_)"
   ],
   "metadata": {
    "collapsed": false,
    "ExecuteTime": {
     "end_time": "2023-09-14T04:47:51.912657800Z",
     "start_time": "2023-09-14T04:47:51.865783200Z"
    }
   },
   "id": "7ebde9070662c06"
  },
  {
   "cell_type": "code",
   "execution_count": 53,
   "outputs": [
    {
     "name": "stdout",
     "output_type": "stream",
     "text": [
      "Index(['CREATININE_118_34', 'CREATININE_118_34.1', 'CREATININE_118_34.2'], dtype='object')\n",
      "주_계산.23\n",
      "************************************\n",
      "2501\n",
      "Missings: 0\n",
      "0.53 (0.30,0.77) 0.52 (0.30,0.73) 0.1634\n"
     ]
    }
   ],
   "source": [
    "col_names = find_name_of_col_bundanglogicnum('118_34')\n",
    "print(col_names)\n",
    "selected_col = col_names[-1]\n",
    "a = np.where(bdc_data.columns == selected_col)[0][0]\n",
    "for i in range(1, 20):\n",
    "    if '주_계산' in bdc_data.columns[a + i]:\n",
    "        print(bdc_data.columns[a + i]);week_i = a + i\n",
    "        break\n",
    "# print(bdc_data[selected_col].unique())\n",
    "# print(bdc_data.iloc[:,week_i].unique())\n",
    "def func_for_week(x):\n",
    "    if pd.isna(x):\n",
    "        return False\n",
    "    elif (float(x) <= 22) & (float(x) > 0):\n",
    "        return True\n",
    "    return False\n",
    "def tempfunc(x):\n",
    "    if pd.isna(x):\n",
    "        return np.nan\n",
    "    elif type(x)==str:\n",
    "        return float(x.replace('<',''))\n",
    "    return float(x)\n",
    "cases_, conts_ = cases[cases.iloc[:, week_i].apply(lambda x: func_for_week(x))], conts[\n",
    "    conts.iloc[:, week_i].apply(lambda x: func_for_week(x))]\n",
    "cases_, conts_ = cases_[selected_col].apply(lambda x: tempfunc(x)), conts_[selected_col].apply(lambda x: tempfunc(x))\n",
    "print('************************************')\n",
    "print(len(cases_)+len(conts_))\n",
    "analy_for_conti_values(cases_, conts_)"
   ],
   "metadata": {
    "collapsed": false,
    "ExecuteTime": {
     "end_time": "2023-09-14T04:47:51.959533700Z",
     "start_time": "2023-09-14T04:47:51.912657800Z"
    }
   },
   "id": "3a17efed2489ccd7"
  },
  {
   "cell_type": "code",
   "execution_count": 54,
   "outputs": [
    {
     "name": "stdout",
     "output_type": "stream",
     "text": [
      "Index(['GLUCOSE_118_35', 'GLUCOSE_118_35.1', 'GLUCOSE_118_35.2'], dtype='object')\n",
      "주_계산.24\n",
      "************************************\n",
      "621\n",
      "Missings: 0\n",
      "104.67 (41.61,167.74) 95.76 (48.11,143.42) 0.0292\n"
     ]
    }
   ],
   "source": [
    "col_names = find_name_of_col_bundanglogicnum('118_35')\n",
    "print(col_names)\n",
    "selected_col = col_names[-1]\n",
    "a = np.where(bdc_data.columns == selected_col)[0][0]\n",
    "for i in range(1, 20):\n",
    "    if '주_계산' in bdc_data.columns[a + i]:\n",
    "        print(bdc_data.columns[a + i]);week_i = a + i\n",
    "        break\n",
    "# print(bdc_data[selected_col].unique())\n",
    "# print(bdc_data.iloc[:,week_i].unique())\n",
    "def func_for_week(x):\n",
    "    if pd.isna(x):\n",
    "        return False\n",
    "    elif (float(x) <= 22) & (float(x) > 0):\n",
    "        return True\n",
    "    return False\n",
    "def tempfunc(x):\n",
    "    if pd.isna(x):\n",
    "        return np.nan\n",
    "    elif type(x)==str:\n",
    "        return float(x.replace('<',''))\n",
    "    return float(x)\n",
    "cases_, conts_ = cases[cases.iloc[:, week_i].apply(lambda x: func_for_week(x))], conts[\n",
    "    conts.iloc[:, week_i].apply(lambda x: func_for_week(x))]\n",
    "cases_, conts_ = cases_[selected_col].apply(lambda x: tempfunc(x)), conts_[selected_col].apply(lambda x: tempfunc(x))\n",
    "print('************************************')\n",
    "print(len(cases_)+len(conts_))\n",
    "analy_for_conti_values(cases_, conts_)"
   ],
   "metadata": {
    "collapsed": false,
    "ExecuteTime": {
     "end_time": "2023-09-14T04:47:51.990783200Z",
     "start_time": "2023-09-14T04:47:51.959533700Z"
    }
   },
   "id": "db9bd549f8ed8eec"
  },
  {
   "cell_type": "code",
   "execution_count": 55,
   "outputs": [
    {
     "name": "stdout",
     "output_type": "stream",
     "text": [
      "Index(['HGBA1C_118_36', 'HGBA1C_118_36.1', 'HGBA1C_118_36.2',\n",
      "       'HGBA1C_118_36.3'],\n",
      "      dtype='object')\n",
      "주_계산.26\n",
      "************************************\n",
      "3544\n",
      "Missings: 2586\n",
      "5.75 (4.12,7.38) 5.32 (4.18,6.46) 0.0000\n"
     ]
    }
   ],
   "source": [
    "col_names = find_name_of_col_bundanglogicnum('118_36')\n",
    "print(col_names)\n",
    "selected_col = col_names[-1]\n",
    "a = np.where(bdc_data.columns == selected_col)[0][0]\n",
    "for i in range(1, 20):\n",
    "    if '주_계산' in bdc_data.columns[a + i]:\n",
    "        print(bdc_data.columns[a + i]);week_i = a + i\n",
    "        break\n",
    "# print(bdc_data[selected_col].unique())\n",
    "# print(bdc_data.iloc[:,week_i].unique())\n",
    "def func_for_week(x):\n",
    "    if pd.isna(x):\n",
    "        return False\n",
    "    elif (float(x) <= 22) & (float(x) > 0):\n",
    "        return True\n",
    "    return False\n",
    "def tempfunc(x):\n",
    "    if pd.isna(x):\n",
    "        return np.nan\n",
    "    elif type(x)==str:\n",
    "        return float(x.replace('<',''))\n",
    "    return float(x)\n",
    "cases_, conts_ = cases[cases.iloc[:, week_i].apply(lambda x: func_for_week(x))], conts[\n",
    "    conts.iloc[:, week_i].apply(lambda x: func_for_week(x))]\n",
    "cases_, conts_ = cases_[selected_col].apply(lambda x: tempfunc(x)), conts_[selected_col].apply(lambda x: tempfunc(x))\n",
    "print('************************************')\n",
    "print(len(cases_)+len(conts_))\n",
    "analy_for_conti_values(cases_, conts_)"
   ],
   "metadata": {
    "collapsed": false,
    "ExecuteTime": {
     "end_time": "2023-09-14T04:47:52.037660500Z",
     "start_time": "2023-09-14T04:47:51.990783200Z"
    }
   },
   "id": "5cf19514c7e16dad"
  },
  {
   "cell_type": "code",
   "execution_count": 56,
   "outputs": [
    {
     "name": "stdout",
     "output_type": "stream",
     "text": [
      "Index(['25OHVitaminD_118_37', '25OHVitaminD_118_37.1', '25OHVitaminD_118_37.2',\n",
      "       '25OHVitaminD_118_37.3'],\n",
      "      dtype='object')\n",
      "주_계산.27\n",
      "************************************\n",
      "673\n",
      "Missings: 199\n",
      "18.59 (-2.82,40.00) 18.63 (-1.68,38.95) 0.9859\n"
     ]
    }
   ],
   "source": [
    "col_names = find_name_of_col_bundanglogicnum('118_37')\n",
    "print(col_names)\n",
    "selected_col = col_names[-1]\n",
    "a = np.where(bdc_data.columns == selected_col)[0][0]\n",
    "for i in range(1, 20):\n",
    "    if '주_계산' in bdc_data.columns[a + i]:\n",
    "        print(bdc_data.columns[a + i]);week_i = a + i\n",
    "        break\n",
    "#print(bdc_data[selected_col].unique())\n",
    "def func_for_week(x):\n",
    "    if pd.isna(x):\n",
    "        return False\n",
    "    elif (float(x) <= 22) & (float(x) > 0):\n",
    "        return True\n",
    "    return False\n",
    "def tempfunc(x):\n",
    "    if pd.isna(x):\n",
    "        return np.nan\n",
    "    elif type(x)==str:\n",
    "        return float(x.replace('<',''))\n",
    "    return float(x)\n",
    "cases_, conts_ = cases[cases.iloc[:, week_i].apply(lambda x: func_for_week(x))], conts[\n",
    "    conts.iloc[:, week_i].apply(lambda x: func_for_week(x))]\n",
    "cases_, conts_ = cases_[selected_col].apply(lambda x: tempfunc(x)), conts_[selected_col].apply(lambda x: tempfunc(x))\n",
    "print('************************************')\n",
    "print(len(cases_)+len(conts_))\n",
    "analy_for_conti_values(cases_, conts_)"
   ],
   "metadata": {
    "collapsed": false,
    "ExecuteTime": {
     "end_time": "2023-09-14T04:47:52.068908300Z",
     "start_time": "2023-09-14T04:47:52.037660500Z"
    }
   },
   "id": "1ba613ddd213cea"
  },
  {
   "cell_type": "code",
   "execution_count": 57,
   "outputs": [
    {
     "name": "stdout",
     "output_type": "stream",
     "text": [
      "Index(['HDLCHOLESTEROL_118_38', 'HDLCHOLESTEROL_118_38.1',\n",
      "       'HDLCHOLESTEROL_118_38.2', 'HDLCHOLESTEROL_118_38.3'],\n",
      "      dtype='object')\n",
      "주_계산.29\n",
      "************************************\n",
      "1290\n",
      "Missings: 497\n",
      "65.79 (33.75,97.83) 71.03 (37.12,104.94) 0.0798\n"
     ]
    }
   ],
   "source": [
    "col_names = find_name_of_col_bundanglogicnum('118_38')\n",
    "print(col_names)\n",
    "selected_col = col_names[-1]\n",
    "a = np.where(bdc_data.columns == selected_col)[0][0]\n",
    "for i in range(1, 20):\n",
    "    if '주_계산' in bdc_data.columns[a + i]:\n",
    "        print(bdc_data.columns[a + i]);week_i = a + i\n",
    "        break\n",
    "# print(bdc_data[selected_col].unique())\n",
    "# print(bdc_data.iloc[:,week_i].unique())\n",
    "def func_for_week(x):\n",
    "    if pd.isna(x):\n",
    "        return False\n",
    "    elif (float(x) <= 22) & (float(x) > 0):\n",
    "        return True\n",
    "    return False\n",
    "def tempfunc(x):\n",
    "    if pd.isna(x):\n",
    "        return np.nan\n",
    "    elif type(x)==str:\n",
    "        return float(x.replace('<',''))\n",
    "    return float(x)\n",
    "cases_, conts_ = cases[cases.iloc[:, week_i].apply(lambda x: func_for_week(x))], conts[\n",
    "    conts.iloc[:, week_i].apply(lambda x: func_for_week(x))]\n",
    "cases_, conts_ = cases_[selected_col].apply(lambda x: tempfunc(x)), conts_[selected_col].apply(lambda x: tempfunc(x))\n",
    "print('************************************')\n",
    "print(len(cases_)+len(conts_))\n",
    "analy_for_conti_values(cases_, conts_)"
   ],
   "metadata": {
    "collapsed": false,
    "ExecuteTime": {
     "end_time": "2023-09-14T04:47:52.100158100Z",
     "start_time": "2023-09-14T04:47:52.068908300Z"
    }
   },
   "id": "b1d2846f76bfb7dd"
  },
  {
   "cell_type": "code",
   "execution_count": 58,
   "outputs": [
    {
     "name": "stdout",
     "output_type": "stream",
     "text": [
      "Index(['TRIGLYCERIDE_118_39', 'TRIGLYCERIDE_118_39.1',\n",
      "       'TRIGLYCERIDE_118_39.2'],\n",
      "      dtype='object')\n",
      "주_계산.30\n",
      "************************************\n",
      "2675\n",
      "Missings: 197\n",
      "229.10 (-117.01,575.21) 223.85 (-18.48,466.18) 0.7302\n"
     ]
    }
   ],
   "source": [
    "col_names = find_name_of_col_bundanglogicnum('118_39')\n",
    "print(col_names)\n",
    "selected_col = col_names[-1]\n",
    "a = np.where(bdc_data.columns == selected_col)[0][0]\n",
    "for i in range(1, 20):\n",
    "    if '주_계산' in bdc_data.columns[a + i]:\n",
    "        print(bdc_data.columns[a + i]);week_i = a + i\n",
    "        break\n",
    "# print(bdc_data[selected_col].unique())\n",
    "# print(bdc_data.iloc[:,week_i].unique())\n",
    "def func_for_week(x):\n",
    "    if pd.isna(x):\n",
    "        return False\n",
    "    elif (float(x) <= 22) & (float(x) > 0):\n",
    "        return True\n",
    "    return False\n",
    "def tempfunc(x):\n",
    "    if pd.isna(x):\n",
    "        return np.nan\n",
    "    elif type(x)==str:\n",
    "        return float(x.replace('<',''))\n",
    "    return float(x)\n",
    "cases_, conts_ = cases[cases.iloc[:, week_i].apply(lambda x: func_for_week(x))], conts[\n",
    "    conts.iloc[:, week_i].apply(lambda x: func_for_week(x))]\n",
    "cases_, conts_ = cases_[selected_col].apply(lambda x: tempfunc(x)), conts_[selected_col].apply(lambda x: tempfunc(x))\n",
    "print('************************************')\n",
    "print(len(cases_)+len(conts_))\n",
    "analy_for_conti_values(cases_, conts_)"
   ],
   "metadata": {
    "collapsed": false,
    "ExecuteTime": {
     "end_time": "2023-09-14T04:47:52.147076Z",
     "start_time": "2023-09-14T04:47:52.100158100Z"
    }
   },
   "id": "2703c1cb2f74d8d8"
  },
  {
   "cell_type": "code",
   "execution_count": 59,
   "outputs": [
    {
     "name": "stdout",
     "output_type": "stream",
     "text": [
      "Index(['T.Protein_118_40', 'T.Protein_118_40.1', 'T.Protein_118_40.2'], dtype='object')\n",
      "주_계산.31\n",
      "************************************\n",
      "2755\n",
      "Missings: 17\n",
      "6.92 (5.94,7.89) 6.81 (5.95,7.68) 0.0494\n"
     ]
    }
   ],
   "source": [
    "col_names = find_name_of_col_bundanglogicnum('118_40')\n",
    "print(col_names)\n",
    "selected_col = col_names[-1]\n",
    "a = np.where(bdc_data.columns == selected_col)[0][0]\n",
    "for i in range(1, 20):\n",
    "    if '주_계산' in bdc_data.columns[a + i]:\n",
    "        print(bdc_data.columns[a + i]);week_i = a + i\n",
    "        break\n",
    "# print(bdc_data[selected_col].unique())\n",
    "# print(bdc_data.iloc[:,week_i].unique())\n",
    "def func_for_week(x):\n",
    "    if pd.isna(x):\n",
    "        return False\n",
    "    elif (float(x) <= 22) & (float(x) > 0):\n",
    "        return True\n",
    "    return False\n",
    "def tempfunc(x):\n",
    "    if pd.isna(x):\n",
    "        return np.nan\n",
    "    elif type(x)==str:\n",
    "        return float(x.replace('<',''))\n",
    "    return float(x)\n",
    "cases_, conts_ = cases[cases.iloc[:, week_i].apply(lambda x: func_for_week(x))], conts[\n",
    "    conts.iloc[:, week_i].apply(lambda x: func_for_week(x))]\n",
    "cases_, conts_ = cases_[selected_col].apply(lambda x: tempfunc(x)), conts_[selected_col].apply(lambda x: tempfunc(x))\n",
    "print('************************************')\n",
    "print(len(cases_)+len(conts_))\n",
    "analy_for_conti_values(cases_, conts_)"
   ],
   "metadata": {
    "collapsed": false,
    "ExecuteTime": {
     "end_time": "2023-09-14T04:47:52.193908200Z",
     "start_time": "2023-09-14T04:47:52.147076Z"
    }
   },
   "id": "2ce5e1a57552ba72"
  },
  {
   "cell_type": "code",
   "execution_count": 60,
   "outputs": [
    {
     "name": "stdout",
     "output_type": "stream",
     "text": [
      "Index(['ALBUMIN_118_41', 'ALBUMIN_118_41.1', 'ALBUMIN_118_41.2'], dtype='object')\n",
      "주_계산.32\n",
      "************************************\n",
      "2843\n",
      "Missings: 2\n",
      "4.06 (3.41,4.71) 4.10 (3.49,4.72) 0.2297\n"
     ]
    }
   ],
   "source": [
    "col_names = find_name_of_col_bundanglogicnum('118_41')\n",
    "print(col_names)\n",
    "selected_col = col_names[-1]\n",
    "a = np.where(bdc_data.columns == selected_col)[0][0]\n",
    "for i in range(1, 20):\n",
    "    if '주_계산' in bdc_data.columns[a + i]:\n",
    "        print(bdc_data.columns[a + i]);week_i = a + i\n",
    "        break\n",
    "# print(bdc_data[selected_col].unique())\n",
    "# print(bdc_data.iloc[:,week_i].unique())\n",
    "def func_for_week(x):\n",
    "    if pd.isna(x):\n",
    "        return False\n",
    "    elif (float(x) <= 22) & (float(x) > 0):\n",
    "        return True\n",
    "    return False\n",
    "def tempfunc(x):\n",
    "    if pd.isna(x):\n",
    "        return np.nan\n",
    "    elif type(x)==str:\n",
    "        return float(x.replace('<',''))\n",
    "    return float(x)\n",
    "cases_, conts_ = cases[cases.iloc[:, week_i].apply(lambda x: func_for_week(x))], conts[\n",
    "    conts.iloc[:, week_i].apply(lambda x: func_for_week(x))]\n",
    "cases_, conts_ = cases_[selected_col].apply(lambda x: tempfunc(x)), conts_[selected_col].apply(lambda x: tempfunc(x))\n",
    "print('************************************')\n",
    "print(len(cases_)+len(conts_))\n",
    "analy_for_conti_values(cases_, conts_)"
   ],
   "metadata": {
    "collapsed": false,
    "ExecuteTime": {
     "end_time": "2023-09-14T04:47:52.240784Z",
     "start_time": "2023-09-14T04:47:52.193908200Z"
    }
   },
   "id": "cef9fbbaa407e62d"
  },
  {
   "cell_type": "code",
   "execution_count": 61,
   "outputs": [
    {
     "name": "stdout",
     "output_type": "stream",
     "text": [
      "Index(['T.Bilirubin_118_42', 'T.Bilirubin_118_42.1', 'T.Bilirubin_118_42.2'], dtype='object')\n",
      "주_계산.33\n",
      "************************************\n",
      "4448\n",
      "Missings: 200\n",
      "0.41 (-1.20,2.02) 0.32 (-0.03,0.68) 0.0000\n"
     ]
    }
   ],
   "source": [
    "col_names = find_name_of_col_bundanglogicnum('118_42')\n",
    "print(col_names)\n",
    "selected_col = col_names[-1]\n",
    "a = np.where(bdc_data.columns == selected_col)[0][0]\n",
    "for i in range(1, 20):\n",
    "    if '주_계산' in bdc_data.columns[a + i]:\n",
    "        print(bdc_data.columns[a + i]);week_i = a + i\n",
    "        break\n",
    "# print(bdc_data[selected_col].unique())\n",
    "# print(bdc_data.iloc[:,week_i].unique())\n",
    "def func_for_week(x):\n",
    "    if pd.isna(x):\n",
    "        return False\n",
    "    elif (float(x) <= 22) & (float(x) > 0):\n",
    "        return True\n",
    "    return False\n",
    "def tempfunc(x):\n",
    "    if pd.isna(x):\n",
    "        return np.nan\n",
    "    elif type(x)==str:\n",
    "        return float(x.replace('<',''))\n",
    "    return float(x)\n",
    "cases_, conts_ = cases[cases.iloc[:, week_i].apply(lambda x: func_for_week(x))], conts[\n",
    "    conts.iloc[:, week_i].apply(lambda x: func_for_week(x))]\n",
    "cases_, conts_ = cases_[selected_col].apply(lambda x: tempfunc(x)), conts_[selected_col].apply(lambda x: tempfunc(x))\n",
    "print('************************************')\n",
    "print(len(cases_)+len(conts_))\n",
    "analy_for_conti_values(cases_, conts_)"
   ],
   "metadata": {
    "collapsed": false,
    "ExecuteTime": {
     "end_time": "2023-09-14T04:47:52.303283Z",
     "start_time": "2023-09-14T04:47:52.240784Z"
    }
   },
   "id": "89effcac5ecf8ef2"
  },
  {
   "cell_type": "code",
   "execution_count": 62,
   "outputs": [
    {
     "name": "stdout",
     "output_type": "stream",
     "text": [
      "Index(['ASGOT_118_43', 'ASGOT_118_43.1', 'ASGOT_118_43.2'], dtype='object')\n",
      "주_계산.34\n",
      "************************************\n",
      "4450\n",
      "Missings: 0\n",
      "18.21 (2.04,34.38) 17.12 (0.08,34.15) 0.1837\n"
     ]
    }
   ],
   "source": [
    "col_names = find_name_of_col_bundanglogicnum('118_43')\n",
    "print(col_names)\n",
    "selected_col = col_names[-1]\n",
    "a = np.where(bdc_data.columns == selected_col)[0][0]\n",
    "for i in range(1, 20):\n",
    "    if '주_계산' in bdc_data.columns[a + i]:\n",
    "        print(bdc_data.columns[a + i]);week_i = a + i\n",
    "        break\n",
    "# print(bdc_data[selected_col].unique())\n",
    "# print(bdc_data.iloc[:,week_i].unique())\n",
    "def func_for_week(x):\n",
    "    if pd.isna(x):\n",
    "        return False\n",
    "    elif (float(x) <= 22) & (float(x) > 0):\n",
    "        return True\n",
    "    return False\n",
    "def tempfunc(x):\n",
    "    if pd.isna(x):\n",
    "        return np.nan\n",
    "    elif type(x)==str:\n",
    "        return float(x.replace('<',''))\n",
    "    return float(x)\n",
    "cases_, conts_ = cases[cases.iloc[:, week_i].apply(lambda x: func_for_week(x))], conts[\n",
    "    conts.iloc[:, week_i].apply(lambda x: func_for_week(x))]\n",
    "cases_, conts_ = cases_[selected_col].apply(lambda x: tempfunc(x)), conts_[selected_col].apply(lambda x: tempfunc(x))\n",
    "print('************************************')\n",
    "print(len(cases_)+len(conts_))\n",
    "analy_for_conti_values(cases_, conts_)"
   ],
   "metadata": {
    "collapsed": false,
    "ExecuteTime": {
     "end_time": "2023-09-14T04:47:52.365783700Z",
     "start_time": "2023-09-14T04:47:52.303283Z"
    }
   },
   "id": "5ffbcfeca3f9183d"
  },
  {
   "cell_type": "code",
   "execution_count": 63,
   "outputs": [
    {
     "name": "stdout",
     "output_type": "stream",
     "text": [
      "Index(['ALTGPT_118_44', 'ALTGPT_118_44.1', 'ALTGPT_118_44.2'], dtype='object')\n",
      "주_계산.35\n",
      "************************************\n",
      "2657\n",
      "Missings: 0\n",
      "21.40 (-14.12,56.93) 16.99 (-15.95,49.92) 0.0283\n"
     ]
    }
   ],
   "source": [
    "col_names = find_name_of_col_bundanglogicnum('118_44')\n",
    "print(col_names)\n",
    "selected_col = col_names[-1]\n",
    "a = np.where(bdc_data.columns == selected_col)[0][0]\n",
    "for i in range(1, 20):\n",
    "    if '주_계산' in bdc_data.columns[a + i]:\n",
    "        print(bdc_data.columns[a + i]);week_i = a + i\n",
    "        break\n",
    "# print(bdc_data[selected_col].unique())\n",
    "# print(bdc_data.iloc[:,week_i].unique())\n",
    "def func_for_week(x):\n",
    "    if pd.isna(x):\n",
    "        return False\n",
    "    elif (float(x) <= 22) & (float(x) > 0):\n",
    "        return True\n",
    "    return False\n",
    "def tempfunc(x):\n",
    "    if pd.isna(x):\n",
    "        return np.nan\n",
    "    elif type(x)==str:\n",
    "        return float(x.replace('<',''))\n",
    "    return float(x)\n",
    "cases_, conts_ = cases[cases.iloc[:, week_i].apply(lambda x: func_for_week(x))], conts[\n",
    "    conts.iloc[:, week_i].apply(lambda x: func_for_week(x))]\n",
    "cases_, conts_ = cases_[selected_col].apply(lambda x: tempfunc(x)), conts_[selected_col].apply(lambda x: tempfunc(x))\n",
    "print('************************************')\n",
    "print(len(cases_)+len(conts_))\n",
    "analy_for_conti_values(cases_, conts_)"
   ],
   "metadata": {
    "collapsed": false,
    "ExecuteTime": {
     "end_time": "2023-09-14T04:47:52.412847200Z",
     "start_time": "2023-09-14T04:47:52.365783700Z"
    }
   },
   "id": "fe89e40f4c84d91f"
  },
  {
   "cell_type": "code",
   "execution_count": 64,
   "outputs": [
    {
     "name": "stdout",
     "output_type": "stream",
     "text": [
      "Index(['ALP_118_45', 'ALP_118_45.1', 'ALP_118_45.2'], dtype='object')\n",
      "주_계산.36\n",
      "************************************\n",
      "2843\n",
      "Missings: 18\n",
      "61.02 (11.37,110.68) 65.58 (-4.80,135.96) 0.2570\n"
     ]
    }
   ],
   "source": [
    "col_names = find_name_of_col_bundanglogicnum('118_45')\n",
    "print(col_names)\n",
    "selected_col = col_names[-1]\n",
    "a = np.where(bdc_data.columns == selected_col)[0][0]\n",
    "for i in range(1, 20):\n",
    "    if '주_계산' in bdc_data.columns[a + i]:\n",
    "        print(bdc_data.columns[a + i]);week_i = a + i\n",
    "        break\n",
    "# print(bdc_data[selected_col].unique())\n",
    "# print(bdc_data.iloc[:,week_i].unique())\n",
    "def func_for_week(x):\n",
    "    if pd.isna(x):\n",
    "        return False\n",
    "    elif (float(x) <= 22) & (float(x) > 0):\n",
    "        return True\n",
    "    return False\n",
    "def tempfunc(x):\n",
    "    if pd.isna(x):\n",
    "        return np.nan\n",
    "    elif type(x)==str:\n",
    "        return float(x.replace('<',''))\n",
    "    return float(x)\n",
    "cases_, conts_ = cases[cases.iloc[:, week_i].apply(lambda x: func_for_week(x))], conts[\n",
    "    conts.iloc[:, week_i].apply(lambda x: func_for_week(x))]\n",
    "cases_, conts_ = cases_[selected_col].apply(lambda x: tempfunc(x)), conts_[selected_col].apply(lambda x: tempfunc(x))\n",
    "print('************************************')\n",
    "print(len(cases_)+len(conts_))\n",
    "analy_for_conti_values(cases_, conts_)"
   ],
   "metadata": {
    "collapsed": false,
    "ExecuteTime": {
     "end_time": "2023-09-14T04:47:52.459720500Z",
     "start_time": "2023-09-14T04:47:52.412847200Z"
    }
   },
   "id": "adbe1635f97ba4a0"
  },
  {
   "cell_type": "code",
   "execution_count": 65,
   "outputs": [
    {
     "name": "stdout",
     "output_type": "stream",
     "text": [
      "Index(['TOTALCHOLESTEROL_118_46', 'TOTALCHOLESTEROL_118_46.1',\n",
      "       'TOTALCHOLESTEROL_118_46.2'],\n",
      "      dtype='object')\n",
      "주_계산.37\n",
      "************************************\n",
      "6614\n",
      "Missings: 547\n",
      "218.98 (125.85,312.12) 222.42 (129.17,315.67) 0.3682\n"
     ]
    }
   ],
   "source": [
    "col_names = find_name_of_col_bundanglogicnum('118_46')\n",
    "print(col_names)\n",
    "selected_col = col_names[-1]\n",
    "a = np.where(bdc_data.columns == selected_col)[0][0]\n",
    "for i in range(1, 20):\n",
    "    if '주_계산' in bdc_data.columns[a + i]:\n",
    "        print(bdc_data.columns[a + i]);week_i = a + i\n",
    "        break\n",
    "# print(bdc_data[selected_col].unique())\n",
    "# print(bdc_data.iloc[:,week_i].unique())\n",
    "def func_for_week(x):\n",
    "    if pd.isna(x):\n",
    "        return False\n",
    "    elif (float(x) <= 22) & (float(x) > 0):\n",
    "        return True\n",
    "    return False\n",
    "def tempfunc(x):\n",
    "    if pd.isna(x):\n",
    "        return np.nan\n",
    "    elif type(x)==str:\n",
    "        return float(x.replace('<',''))\n",
    "    return float(x)\n",
    "cases_, conts_ = cases[cases.iloc[:, week_i].apply(lambda x: func_for_week(x))], conts[\n",
    "    conts.iloc[:, week_i].apply(lambda x: func_for_week(x))]\n",
    "cases_, conts_ = cases_[selected_col].apply(lambda x: tempfunc(x)), conts_[selected_col].apply(lambda x: tempfunc(x))\n",
    "print('************************************')\n",
    "print(len(cases_)+len(conts_))\n",
    "analy_for_conti_values(cases_, conts_)"
   ],
   "metadata": {
    "collapsed": false,
    "ExecuteTime": {
     "end_time": "2023-09-14T04:47:52.537979800Z",
     "start_time": "2023-09-14T04:47:52.459720500Z"
    }
   },
   "id": "e95cb4431b1eb957"
  },
  {
   "cell_type": "code",
   "execution_count": 66,
   "outputs": [
    {
     "name": "stdout",
     "output_type": "stream",
     "text": [
      "08.21\n",
      "임당군/정상군 분류\n",
      "['제외군(overtDM)' '제외군(검사안함)' '정상군' 'GDM' '제외군(정상군 -> overtDM)'] ['정상군' 'GDM' '제외군(검사안함)' '제외군(overtDM)' '제외군(GDM-> overDM)'\n",
      " '제외군(정상군 -> overtDM)' '제외군(검사안함) -> overtDM']\n",
      "************************************\n",
      "************************************\n",
      "제외군 66\n",
      "Missings: 0\n",
      "[[ 131 7135]\n",
      " [  28  812]]\n",
      "0.004\n"
     ]
    }
   ],
   "source": [
    "selected_col = '08.21\\n임당군/정상군 분류'\n",
    "print(selected_col)\n",
    "#print(bdc_data[selected_col].unique())\n",
    "cases_, conts_ = cases[selected_col], conts[selected_col]\n",
    "print(cases_.unique(), conts_.unique())\n",
    "print('************************************')\n",
    "def tempfunc_(x):\n",
    "    if pd.isna(x):\n",
    "        return np.nan\n",
    "    if x=='GDM':\n",
    "        return 1\n",
    "    if x=='정상군':\n",
    "        return 0\n",
    "    return -1\n",
    "cases__ = cases_.apply(lambda x: tempfunc_(x)) \n",
    "conts__ = conts_.apply(lambda x: tempfunc_(x))\n",
    "print('************************************')\n",
    "print('제외군', sum(cases__==-1)+sum(cases__==-1))\n",
    "analy_for_cate_values(cases__, conts__)"
   ],
   "metadata": {
    "collapsed": false,
    "ExecuteTime": {
     "end_time": "2023-09-14T04:47:52.553617300Z",
     "start_time": "2023-09-14T04:47:52.537979800Z"
    }
   },
   "id": "3ddf0c71dde5ce33"
  },
  {
   "cell_type": "code",
   "execution_count": 67,
   "outputs": [
    {
     "name": "stdout",
     "output_type": "stream",
     "text": [
      "Index(['분만주_5'], dtype='object')\n",
      "************************************\n",
      "Missings: 0\n",
      "35.54 (29.15,41.92) 38.07 (34.43,41.72) 0.0000\n"
     ]
    }
   ],
   "source": [
    "col_names = find_name_of_col_bundanglogicnum('5')\n",
    "print(col_names)\n",
    "selected_col = col_names[-1]\n",
    "# print(bdc_data[selected_col].unique())\n",
    "cases_, conts_ = cases[selected_col], conts[selected_col]\n",
    "def tempfunc(x):\n",
    "    if pd.isna(x):\n",
    "        return np.nan\n",
    "    elif type(x)==str:\n",
    "        return float(x.replace('<',''))\n",
    "    return float(x)\n",
    "cases_, conts_ = cases_.apply(lambda x: tempfunc(x)), conts_.apply(lambda x: tempfunc(x))\n",
    "print('************************************')\n",
    "analy_for_conti_values(cases_, conts_)"
   ],
   "metadata": {
    "collapsed": false,
    "ExecuteTime": {
     "end_time": "2023-09-14T04:47:52.569240700Z",
     "start_time": "2023-09-14T04:47:52.553617300Z"
    }
   },
   "id": "a638d4659d47f0b2"
  },
  {
   "cell_type": "code",
   "execution_count": 68,
   "outputs": [
    {
     "name": "stdout",
     "output_type": "stream",
     "text": [
      "Index(['분만주_5'], dtype='object')\n",
      "[36 31 37 40 35 38 39 34 29 33 32 26 28 27 30 24 25 22] [40 39 37 38 24 36 33 22 34 27 35 25 41 20 32 23 30 31 26 29 28 21 42]\n",
      "************************************\n",
      "************************************\n",
      "Missings: 0\n",
      "[[  54 6507]\n",
      " [ 138 1973]]\n",
      "0.000\n"
     ]
    }
   ],
   "source": [
    "col_names = find_name_of_col_bundanglogicnum('5')\n",
    "print(col_names)\n",
    "selected_col = col_names[-1]\n",
    "#print(bdc_data[selected_col].unique())\n",
    "cases_, conts_ = cases[selected_col], conts[selected_col]\n",
    "print(cases_.unique(), conts_.unique())\n",
    "print('************************************')\n",
    "def tempfunc_(x):\n",
    "    if pd.isna(x):\n",
    "        return np.nan\n",
    "    elif x<=37:\n",
    "        return 1\n",
    "    return 0\n",
    "cases__ = cases_.apply(lambda x: tempfunc_(x)) \n",
    "conts__ = conts_.apply(lambda x: tempfunc_(x))\n",
    "print('************************************')\n",
    "analy_for_cate_values(cases__, conts__)"
   ],
   "metadata": {
    "collapsed": false,
    "ExecuteTime": {
     "end_time": "2023-09-14T04:47:52.584866500Z",
     "start_time": "2023-09-14T04:47:52.569240700Z"
    }
   },
   "id": "d0261ae3688ba36a"
  },
  {
   "cell_type": "code",
   "execution_count": 69,
   "outputs": [
    {
     "name": "stdout",
     "output_type": "stream",
     "text": [
      "Index(['WTGM_334'], dtype='object')\n",
      "************************************\n",
      "Missings: 0\n",
      "2474.19 (937.59,4010.80) 3136.75 (2211.40,4062.10) 0.0000\n"
     ]
    }
   ],
   "source": [
    "col_names = find_name_of_col_bundanglogicnum('334')\n",
    "print(col_names)\n",
    "selected_col = col_names[-1]\n",
    "# print(bdc_data[selected_col].unique())\n",
    "cases_, conts_ = cases[selected_col], conts[selected_col]\n",
    "def tempfunc(x):\n",
    "    if pd.isna(x):\n",
    "        return np.nan\n",
    "    elif type(x)==str:\n",
    "        return float(x.replace('<',''))\n",
    "    return float(x)\n",
    "cases_, conts_ = cases_.apply(lambda x: tempfunc(x)), conts_.apply(lambda x: tempfunc(x))\n",
    "print('************************************')\n",
    "analy_for_conti_values(cases_, conts_)"
   ],
   "metadata": {
    "collapsed": false,
    "ExecuteTime": {
     "end_time": "2023-09-14T04:47:52.600491900Z",
     "start_time": "2023-09-14T04:47:52.584866500Z"
    }
   },
   "id": "f05fac4b4e527312"
  },
  {
   "cell_type": "code",
   "execution_count": 70,
   "outputs": [
    {
     "name": "stdout",
     "output_type": "stream",
     "text": [
      "Index(['WTGM_334'], dtype='object')\n",
      "************************************\n",
      "************************************\n",
      "Missings: 0\n",
      "[[ 189 8317]\n",
      " [   3  163]]\n",
      "0.926\n"
     ]
    }
   ],
   "source": [
    "col_names = find_name_of_col_bundanglogicnum('334')\n",
    "print(col_names)\n",
    "selected_col = col_names[-1]\n",
    "#print(bdc_data[selected_col].unique())\n",
    "cases_, conts_ = cases[selected_col], conts[selected_col]\n",
    "print('************************************')\n",
    "def tempfunc_(x):\n",
    "    if pd.isna(x):\n",
    "        return np.nan\n",
    "    elif x>=4000:\n",
    "        return 1\n",
    "    return 0\n",
    "cases__ = cases_.apply(lambda x: tempfunc_(x)) \n",
    "conts__ = conts_.apply(lambda x: tempfunc_(x))\n",
    "print('************************************')\n",
    "analy_for_cate_values(cases__, conts__)"
   ],
   "metadata": {
    "collapsed": false,
    "ExecuteTime": {
     "end_time": "2023-09-14T04:47:52.616116300Z",
     "start_time": "2023-09-14T04:47:52.600491900Z"
    }
   },
   "id": "e45bfe5ccf0422e4"
  },
  {
   "cell_type": "code",
   "execution_count": 71,
   "outputs": [
    {
     "name": "stdout",
     "output_type": "stream",
     "text": [
      "Index(['WTGM_334'], dtype='object')\n",
      "************************************\n",
      "************************************\n",
      "Missings: 0\n",
      "[[ 106 7940]\n",
      " [  86  540]]\n",
      "0.000\n"
     ]
    }
   ],
   "source": [
    "col_names = find_name_of_col_bundanglogicnum('334')\n",
    "print(col_names)\n",
    "selected_col = col_names[-1]\n",
    "#print(bdc_data[selected_col].unique())\n",
    "cases_, conts_ = cases[selected_col], conts[selected_col]\n",
    "#print(cases_.unique(), conts_.unique())\n",
    "print('************************************')\n",
    "def tempfunc_(x):\n",
    "    if pd.isna(x):\n",
    "        return False\n",
    "    elif x<=2500:\n",
    "        return True\n",
    "    return False\n",
    "cases__ = cases_.apply(lambda x: tempfunc_(x)) \n",
    "conts__ = conts_.apply(lambda x: tempfunc_(x))\n",
    "print('************************************')\n",
    "analy_for_cate_values(cases__, conts__)"
   ],
   "metadata": {
    "collapsed": false,
    "ExecuteTime": {
     "end_time": "2023-09-14T04:47:52.631741600Z",
     "start_time": "2023-09-14T04:47:52.616116300Z"
    }
   },
   "id": "903a77a2177bd71b"
  },
  {
   "cell_type": "code",
   "execution_count": 72,
   "outputs": [
    {
     "name": "stdout",
     "output_type": "stream",
     "text": [
      "fenton curve\n",
      "(weight %)_674\n",
      "[0.16111869103726667 0.6739711942982225 0.5949395466936785 ...\n",
      " 0.38021437092800264 0.31399242962411256 0.6492741333970126]\n",
      "************************************\n",
      "************************************\n",
      "Missings: 17\n",
      "[[ 181 8190]\n",
      " [  10  274]]\n",
      "0.184\n"
     ]
    }
   ],
   "source": [
    "selected_col = 'fenton curve\\n(weight %)_674'\n",
    "print(selected_col); print(bdc_data[selected_col].unique())\n",
    "cases_, conts_ = cases[selected_col], conts[selected_col]\n",
    "#print(cases_.unique(), conts_.unique())\n",
    "print('************************************')\n",
    "def tempfunc_(x):\n",
    "    if pd.isna(x):\n",
    "        return np.nan\n",
    "    if x=='성별 X':\n",
    "        return np.nan\n",
    "    elif float(x)>=0.9:\n",
    "        return 1\n",
    "    return 0\n",
    "cases__ = cases_.apply(lambda x: tempfunc_(x)) \n",
    "conts__ = conts_.apply(lambda x: tempfunc_(x))\n",
    "print('************************************')\n",
    "analy_for_cate_values(cases__, conts__)"
   ],
   "metadata": {
    "collapsed": false,
    "ExecuteTime": {
     "end_time": "2023-09-14T04:47:52.647366200Z",
     "start_time": "2023-09-14T04:47:52.631741600Z"
    }
   },
   "id": "6c924b9afc340ba"
  },
  {
   "cell_type": "code",
   "execution_count": 73,
   "outputs": [
    {
     "name": "stdout",
     "output_type": "stream",
     "text": [
      "fenton curve\n",
      "(weight %)_674\n",
      "************************************\n",
      "Missings: 17\n",
      "[[ 162 7875]\n",
      " [  29  589]]\n",
      "0.000\n"
     ]
    }
   ],
   "source": [
    "selected_col = 'fenton curve\\n(weight %)_674'\n",
    "print(selected_col)\n",
    "#print(bdc_data[selected_col].unique())\n",
    "cases_, conts_ = cases[selected_col], conts[selected_col]\n",
    "def tempfunc_(x):\n",
    "    if pd.isna(x):\n",
    "        return np.nan\n",
    "    if x=='성별 X':\n",
    "        return np.nan\n",
    "    elif float(x)<=0.1:\n",
    "        return 1\n",
    "    return 0\n",
    "cases__ = cases_.apply(lambda x: tempfunc_(x)) \n",
    "conts__ = conts_.apply(lambda x: tempfunc_(x))\n",
    "print('************************************')\n",
    "analy_for_cate_values(cases__, conts__)"
   ],
   "metadata": {
    "collapsed": false,
    "ExecuteTime": {
     "end_time": "2023-09-14T04:47:52.662990500Z",
     "start_time": "2023-09-14T04:47:52.647366200Z"
    }
   },
   "id": "4f1cfc258a91d87b"
  },
  {
   "cell_type": "code",
   "execution_count": 74,
   "outputs": [
    {
     "name": "stdout",
     "output_type": "stream",
     "text": [
      "1분 7점 미만 (1)\n",
      "[ 0.  1. nan] [ 0.  1. nan]\n",
      "************************************\n",
      "Missings: 1852\n",
      "[[  83 6439]\n",
      " [  41  257]]\n",
      "0.000\n"
     ]
    }
   ],
   "source": [
    "selected_col = '1분 7점 미만 (1)'\n",
    "print(selected_col)\n",
    "#print(bdc_data[selected_col].unique())\n",
    "cases_, conts_ = cases[selected_col], conts[selected_col]\n",
    "print(cases_.unique(), conts_.unique())\n",
    "def tempfunc_(x):\n",
    "    if pd.isna(x):\n",
    "        return np.nan\n",
    "    elif x==1:\n",
    "        return 1\n",
    "    return 0\n",
    "cases__ = cases_.apply(lambda x: tempfunc_(x)) \n",
    "conts__ = conts_.apply(lambda x: tempfunc_(x))\n",
    "print('************************************')\n",
    "analy_for_cate_values(cases__, conts__)"
   ],
   "metadata": {
    "collapsed": false,
    "ExecuteTime": {
     "end_time": "2023-09-14T04:47:52.678617500Z",
     "start_time": "2023-09-14T04:47:52.662990500Z"
    }
   },
   "id": "b73be95adedd938e"
  },
  {
   "cell_type": "code",
   "execution_count": 75,
   "outputs": [
    {
     "name": "stdout",
     "output_type": "stream",
     "text": [
      "5분7점 미만(1)\n",
      "************************************\n",
      "Missings: 1248\n",
      "[[ 130 7179]\n",
      " [  10  105]]\n",
      "0.000\n"
     ]
    }
   ],
   "source": [
    "selected_col = '5분7점 미만(1)'\n",
    "print(selected_col)\n",
    "#print(bdc_data[selected_col].unique())\n",
    "cases_, conts_ = cases[selected_col], conts[selected_col]\n",
    "#print(cases_.unique(), conts_.unique())\n",
    "def tempfunc_(x):\n",
    "    if pd.isna(x):\n",
    "        return np.nan\n",
    "    elif x==1:\n",
    "        return 1\n",
    "    return 0\n",
    "cases__ = cases_.apply(lambda x: tempfunc_(x)) \n",
    "conts__ = conts_.apply(lambda x: tempfunc_(x))\n",
    "print('************************************')\n",
    "analy_for_cate_values(cases__, conts__)"
   ],
   "metadata": {
    "collapsed": false,
    "ExecuteTime": {
     "end_time": "2023-09-14T04:47:52.694242200Z",
     "start_time": "2023-09-14T04:47:52.678617500Z"
    }
   },
   "id": "80de22f3c719a6b3"
  },
  {
   "cell_type": "code",
   "execution_count": 76,
   "outputs": [
    {
     "name": "stdout",
     "output_type": "stream",
     "text": [
      "Index(['NICU입원여부_338'], dtype='object')\n",
      "[nan 'Y']\n",
      "************************************\n",
      "Missings: 0\n",
      "[[ 107 7302]\n",
      " [  85 1178]]\n",
      "0.000\n"
     ]
    }
   ],
   "source": [
    "col_names = find_name_of_col_bundanglogicnum('338')\n",
    "print(col_names); selected_col = col_names[-1]\n",
    "print(bdc_data[selected_col].unique())\n",
    "cases_, conts_ = cases[selected_col], conts[selected_col]\n",
    "def tempfunc_(x):\n",
    "    if x=='Y':\n",
    "        return 1\n",
    "    return 0\n",
    "cases__ = cases_.apply(lambda x: tempfunc_(x)) \n",
    "conts__ = conts_.apply(lambda x: tempfunc_(x))\n",
    "print('************************************')\n",
    "analy_for_cate_values(cases__, conts__)"
   ],
   "metadata": {
    "collapsed": false,
    "ExecuteTime": {
     "end_time": "2023-09-14T04:47:52.709867500Z",
     "start_time": "2023-09-14T04:47:52.694242200Z"
    }
   },
   "id": "7a000fb37962078b"
  },
  {
   "cell_type": "code",
   "execution_count": 77,
   "outputs": [
    {
     "name": "stdout",
     "output_type": "stream",
     "text": [
      "Index(['BST_349'], dtype='object')\n",
      "[nan '82' '66' '74' '62' '72' '114' '60' '63' '58' '94' '65' '70' '29'\n",
      " '61' '81' '95' '47' '49' '57' '87' '77' '64' '89' '35' '48' '75' '52'\n",
      " '79' '68' '54' '45' '55' '69' '46' '97' '73' '44' '102' '83' '34' '42'\n",
      " '86' '67' '21' '80' '59' '56' '41' '23' '76' '98' '39' '107' '84' '92'\n",
      " '38' '71' '85' '101' '53' '78' '90' '24' '120' '88' '91' '50' '103' '51'\n",
      " '43' '100' '93' '113' '36' '104' '96' '111' '99' '112' '28' '109' '106'\n",
      " '25' 'Error' '40' '30' '31' '115' '33' '32' 73 64 60 58 67 76 78 81 57 63\n",
      " 70 41 72 75 52 85 66 68 65 51 71 61 79 62 80 53 86 54 77 82 47 44 69 38\n",
      " 36 29 104 43 84 50 74 45 28 59 48 88 55 35 46 56 42 92 49 34 40 89 91 83\n",
      " 93 31 37 102 26 90 125 '37' '105' 30 33 25 27 127 39 103 94 24]\n",
      "************************************\n",
      "Missings: 6203\n",
      "59.02 (28.29,89.75) 64.43 (37.62,91.25) 0.0000\n"
     ]
    }
   ],
   "source": [
    "col_names = find_name_of_col_bundanglogicnum('349')\n",
    "print(col_names)\n",
    "selected_col = col_names[-1]\n",
    "print(bdc_data[selected_col].unique())\n",
    "cases_, conts_ = cases[selected_col], conts[selected_col]\n",
    "def tempfunc(x):\n",
    "    if pd.isna(x):\n",
    "        return np.nan\n",
    "    elif x=='Error':\n",
    "        return np.nan\n",
    "    return np.float32(x)\n",
    "cases_, conts_ = cases_.apply(lambda x: tempfunc(x)), conts_.apply(lambda x: tempfunc(x))\n",
    "print('************************************')\n",
    "analy_for_conti_values(cases_, conts_)"
   ],
   "metadata": {
    "collapsed": false,
    "ExecuteTime": {
     "end_time": "2023-09-14T04:47:52.725859500Z",
     "start_time": "2023-09-14T04:47:52.709867500Z"
    }
   },
   "id": "1ae6dbd04363480f"
  },
  {
   "cell_type": "code",
   "execution_count": 78,
   "outputs": [
    {
     "name": "stdout",
     "output_type": "stream",
     "text": [
      "Index(['BST_349'], dtype='object')\n",
      "************************************\n",
      "Missings: 6203\n",
      "[[  87 2021]\n",
      " [  34  327]]\n",
      "0.000\n"
     ]
    }
   ],
   "source": [
    "col_names = find_name_of_col_bundanglogicnum('349')\n",
    "print(col_names)\n",
    "selected_col = col_names[-1]\n",
    "# print(bdc_data[selected_col].unique())\n",
    "cases_, conts_ = cases[selected_col], conts[selected_col]\n",
    "def tempfunc_(x):\n",
    "    if pd.isna(x):\n",
    "        return np.nan\n",
    "    elif x=='Error':\n",
    "        return np.nan\n",
    "    elif float(x)<=50:\n",
    "        return 1\n",
    "    return 0\n",
    "cases__ = cases_.apply(lambda x: tempfunc_(x)) \n",
    "conts__ = conts_.apply(lambda x: tempfunc_(x))\n",
    "print('************************************')\n",
    "analy_for_cate_values(cases__, conts__)"
   ],
   "metadata": {
    "collapsed": false,
    "ExecuteTime": {
     "end_time": "2023-09-14T04:47:52.741485200Z",
     "start_time": "2023-09-14T04:47:52.725859500Z"
    }
   },
   "id": "a62798e7613f8e63"
  },
  {
   "cell_type": "code",
   "execution_count": 79,
   "outputs": [
    {
     "name": "stdout",
     "output_type": "stream",
     "text": [
      "Index(['SEIZURE_351'], dtype='object')\n",
      "[nan]\n",
      "모두 nan value라 분석 불가.\n"
     ]
    }
   ],
   "source": [
    "col_names = find_name_of_col_bundanglogicnum('351')\n",
    "print(col_names)\n",
    "selected_col = col_names[-1]\n",
    "print(bdc_data[selected_col].unique())\n",
    "cases_, conts_ = cases[selected_col], conts[selected_col]\n",
    "print('모두 nan value라 분석 불가.')"
   ],
   "metadata": {
    "collapsed": false,
    "ExecuteTime": {
     "end_time": "2023-09-14T04:47:52.757110800Z",
     "start_time": "2023-09-14T04:47:52.741485200Z"
    }
   },
   "id": "272fc3f36288cbf5"
  },
  {
   "cell_type": "code",
   "execution_count": 79,
   "outputs": [],
   "source": [],
   "metadata": {
    "collapsed": false,
    "ExecuteTime": {
     "end_time": "2023-09-14T04:47:52.772735300Z",
     "start_time": "2023-09-14T04:47:52.757110800Z"
    }
   },
   "id": "f73422e9068a9424"
  },
  {
   "cell_type": "code",
   "execution_count": 79,
   "outputs": [],
   "source": [],
   "metadata": {
    "collapsed": false,
    "ExecuteTime": {
     "end_time": "2023-09-14T04:47:52.788552Z",
     "start_time": "2023-09-14T04:47:52.772735300Z"
    }
   },
   "id": "c4fca6c4e22253cd"
  },
  {
   "cell_type": "code",
   "execution_count": 79,
   "outputs": [],
   "source": [],
   "metadata": {
    "collapsed": false,
    "ExecuteTime": {
     "end_time": "2023-09-14T04:47:52.804189300Z",
     "start_time": "2023-09-14T04:47:52.788552Z"
    }
   },
   "id": "d35dc6c19d459479"
  },
  {
   "cell_type": "code",
   "execution_count": 79,
   "outputs": [],
   "source": [],
   "metadata": {
    "collapsed": false,
    "ExecuteTime": {
     "end_time": "2023-09-14T04:47:52.819814Z",
     "start_time": "2023-09-14T04:47:52.804189300Z"
    }
   },
   "id": "1081279ca2e0ca3a"
  },
  {
   "cell_type": "code",
   "execution_count": 79,
   "outputs": [],
   "source": [],
   "metadata": {
    "collapsed": false,
    "ExecuteTime": {
     "end_time": "2023-09-14T04:47:52.835438800Z",
     "start_time": "2023-09-14T04:47:52.819814Z"
    }
   },
   "id": "975ddfbc203c3614"
  }
 ],
 "metadata": {
  "kernelspec": {
   "display_name": "Python 3",
   "language": "python",
   "name": "python3"
  },
  "language_info": {
   "codemirror_mode": {
    "name": "ipython",
    "version": 2
   },
   "file_extension": ".py",
   "mimetype": "text/x-python",
   "name": "python",
   "nbconvert_exporter": "python",
   "pygments_lexer": "ipython2",
   "version": "2.7.6"
  }
 },
 "nbformat": 4,
 "nbformat_minor": 5
}
