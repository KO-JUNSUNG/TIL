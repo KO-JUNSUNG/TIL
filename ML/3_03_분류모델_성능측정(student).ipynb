{
  "cells": [
    {
      "attachments": {},
      "cell_type": "markdown",
      "metadata": {
        "id": "zxynTFaVH-Dg"
      },
      "source": [
        "# 모델 성능 평가지표 (Metric)\n",
        "- 실제값과 모델에 의해 예측된 값을 비교하여 모델의 성능을 측정 하는 것\n",
        "- 모델 평가 목적\n",
        "    - Over Fitting 을 방지하고 최적의 모델을 찾기 위해    "
      ]
    },
    {
      "cell_type": "markdown",
      "metadata": {
        "id": "d97iN7tsgCg8"
      },
      "source": [
        "- 분류 문제 성능측정\n",
        "    - 실제값과 예측값이 일치하는 갯수를 통해 측정"
      ]
    },
    {
      "cell_type": "markdown",
      "metadata": {
        "id": "gTvJfeRfOJA6"
      },
      "source": [
        "# 분류문제 성능 측정"
      ]
    },
    {
      "cell_type": "markdown",
      "metadata": {
        "id": "JLSH_LU8gCg8"
      },
      "source": [
        "![](https://codetorial.net/tensorflow/_images/MNIST_sample.png)"
      ]
    },
    {
      "cell_type": "markdown",
      "metadata": {
        "id": "6k77JujSOI_E"
      },
      "source": [
        "## 손글씨 분류 문제\n",
        "- 0~9 손글씨 이미지 받아오기"
      ]
    },
    {
      "cell_type": "code",
      "execution_count": 5,
      "metadata": {
        "id": "1CpTSh0AOI80"
      },
      "outputs": [],
      "source": [
        "from sklearn.datasets import load_digits\n",
        "digits = load_digits()"
      ]
    },
    {
      "cell_type": "markdown",
      "metadata": {
        "id": "vevRv-1_aB-S"
      },
      "source": [
        "- 8 x 8 크기의 이미지가 Flatten 되어있다.\n"
      ]
    },
    {
      "cell_type": "code",
      "execution_count": 3,
      "metadata": {},
      "outputs": [
        {
          "data": {
            "text/plain": [
              "10240"
            ]
          },
          "execution_count": 3,
          "metadata": {},
          "output_type": "execute_result"
        }
      ],
      "source": [
        "16*(8*8)*10"
      ]
    },
    {
      "cell_type": "code",
      "execution_count": 6,
      "metadata": {
        "colab": {
          "base_uri": "https://localhost:8080/"
        },
        "id": "1LLu1vfTOI48",
        "outputId": "c0d014de-6094-4e42-c09e-69cd4a33e3b2"
      },
      "outputs": [
        {
          "data": {
            "text/plain": [
              "(1797, 64)"
            ]
          },
          "execution_count": 6,
          "metadata": {},
          "output_type": "execute_result"
        }
      ],
      "source": [
        "digits.data.shape # 예) z = w0 + w1x1 + w2x2 + ... + w64x64"
      ]
    },
    {
      "cell_type": "code",
      "execution_count": 7,
      "metadata": {},
      "outputs": [
        {
          "data": {
            "text/plain": [
              "array([0, 1, 2, ..., 8, 9, 8])"
            ]
          },
          "execution_count": 7,
          "metadata": {},
          "output_type": "execute_result"
        }
      ],
      "source": [
        "digits.target"
      ]
    },
    {
      "cell_type": "code",
      "execution_count": null,
      "metadata": {
        "id": "6qr1FTDpgCg_",
        "outputId": "d270b907-0e77-4aa1-8a06-340bda6e3406"
      },
      "outputs": [
        {
          "data": {
            "text/plain": [
              "{0, 1, 2, 3, 4, 5, 6, 7, 8, 9}"
            ]
          },
          "execution_count": 4,
          "metadata": {},
          "output_type": "execute_result"
        }
      ],
      "source": [
        "set(digits.target)"
      ]
    },
    {
      "cell_type": "code",
      "execution_count": 8,
      "metadata": {
        "colab": {
          "base_uri": "https://localhost:8080/"
        },
        "id": "5teq3l9TOI27",
        "outputId": "87466ac4-c71a-4f6e-9c59-f4dbb5f549af"
      },
      "outputs": [
        {
          "data": {
            "text/plain": [
              "(1797,)"
            ]
          },
          "execution_count": 8,
          "metadata": {},
          "output_type": "execute_result"
        }
      ],
      "source": [
        "digits.target.shape"
      ]
    },
    {
      "cell_type": "code",
      "execution_count": 11,
      "metadata": {},
      "outputs": [
        {
          "data": {
            "text/plain": [
              "array([[ 0.,  0.,  5., 13.,  9.,  1.,  0.,  0.],\n",
              "       [ 0.,  0., 13., 15., 10., 15.,  5.,  0.],\n",
              "       [ 0.,  3., 15.,  2.,  0., 11.,  8.,  0.],\n",
              "       [ 0.,  4., 12.,  0.,  0.,  8.,  8.,  0.],\n",
              "       [ 0.,  5.,  8.,  0.,  0.,  9.,  8.,  0.],\n",
              "       [ 0.,  4., 11.,  0.,  1., 12.,  7.,  0.],\n",
              "       [ 0.,  2., 14.,  5., 10., 12.,  0.,  0.],\n",
              "       [ 0.,  0.,  6., 13., 10.,  0.,  0.,  0.]])"
            ]
          },
          "execution_count": 11,
          "metadata": {},
          "output_type": "execute_result"
        }
      ],
      "source": [
        "digits.data[0].reshape(8,8)"
      ]
    },
    {
      "cell_type": "code",
      "execution_count": 9,
      "metadata": {
        "id": "1bNg4sHhOI1P"
      },
      "outputs": [],
      "source": [
        "import matplotlib.pyplot as plt"
      ]
    },
    {
      "cell_type": "code",
      "execution_count": null,
      "metadata": {
        "colab": {
          "base_uri": "https://localhost:8080/",
          "height": 265
        },
        "id": "024AFZ-pOIzK",
        "outputId": "4350da79-2511-4b13-80d7-71636f8b3814"
      },
      "outputs": [
        {
          "data": {
            "image/png": "[encoded data removed]",
            "text/plain": [
              "<Figure size 640x480 with 4 Axes>"
            ]
          },
          "metadata": {},
          "output_type": "display_data"
        }
      ],
      "source": [
        "fig,ax = plt.subplots(2,2)\n",
        "ax[0,0].imshow(digits.data[0].reshape(8,8),cmap=\"gray\")\n",
        "ax[0,1].imshow(digits.data[1].reshape(8,8),cmap=\"gray\")\n",
        "ax[1,0].imshow(digits.data[2].reshape(8,8),cmap=\"gray\")\n",
        "ax[1,1].imshow(digits.data[3].reshape(8,8),cmap=\"gray\")\n",
        "plt.show()"
      ]
    },
    {
      "cell_type": "markdown",
      "metadata": {
        "id": "CTG0X9HJcD3y"
      },
      "source": [
        "### 5을 맞추는 문제로 재정의"
      ]
    },
    {
      "cell_type": "code",
      "execution_count": 12,
      "metadata": {
        "id": "bLA_HVQuOIwx"
      },
      "outputs": [],
      "source": [
        "data = digits.data\n",
        "target = (digits.target == 5).astype(int) #digits.target=0~9, digits.target==5 -> 0 0 0 0 1 0 0 0 0 0"
      ]
    },
    {
      "cell_type": "code",
      "execution_count": 13,
      "metadata": {
        "colab": {
          "base_uri": "https://localhost:8080/"
        },
        "id": "Q91N9OnGOIu1",
        "outputId": "8d3ba59d-4082-49f1-dd26-185f799029c5"
      },
      "outputs": [
        {
          "data": {
            "text/plain": [
              "0.10127991096271564"
            ]
          },
          "execution_count": 13,
          "metadata": {},
          "output_type": "execute_result"
        }
      ],
      "source": [
        "target.mean()# 0~ 9 까지의 데이터가 존재하므로 숫자 5만 1로 변경하고 숫자 5의 분포를 확인 "
      ]
    },
    {
      "cell_type": "markdown",
      "metadata": {
        "id": "VHFWLGvuOIr9"
      },
      "source": [
        "### 학습셋과 검증셋 분리"
      ]
    },
    {
      "cell_type": "code",
      "execution_count": 14,
      "metadata": {
        "id": "1bOz647ugChA"
      },
      "outputs": [],
      "source": [
        "from sklearn.model_selection import train_test_split"
      ]
    },
    {
      "cell_type": "code",
      "execution_count": 15,
      "metadata": {
        "colab": {
          "base_uri": "https://localhost:8080/"
        },
        "id": "Y4pNtWKLOIpT",
        "outputId": "68be5946-2262-4649-ea39-97723b1a5d9c"
      },
      "outputs": [
        {
          "data": {
            "text/plain": [
              "((1347, 64), (450, 64), (1347,), (450,))"
            ]
          },
          "execution_count": 15,
          "metadata": {},
          "output_type": "execute_result"
        }
      ],
      "source": [
        "x_train, x_test, y_train, y_test = train_test_split(data, target)\n",
        "x_train.shape,x_test.shape,y_train.shape,y_test.shape "
      ]
    },
    {
      "cell_type": "code",
      "execution_count": 16,
      "metadata": {
        "colab": {
          "base_uri": "https://localhost:8080/"
        },
        "id": "K9igYam3OIm1",
        "outputId": "a966515b-b052-4533-8abc-59d39c75850f"
      },
      "outputs": [
        {
          "data": {
            "text/plain": [
              "(0.10022271714922049, 0.10444444444444445)"
            ]
          },
          "execution_count": 16,
          "metadata": {},
          "output_type": "execute_result"
        }
      ],
      "source": [
        "y_train.mean(), y_test.mean() # 둘다 10% 정도 숫자5를 갖고 있다. "
      ]
    },
    {
      "cell_type": "markdown",
      "metadata": {
        "id": "9lIlMrflOIkb"
      },
      "source": [
        "# 혼동행렬(Confusin Matrix)\n",
        "- 이진 분류의 model 성능측정 지표\n",
        "    - 이진 분류에서 예측 오류가 어느정도 되는지와 어떠한 유형의 예측 오류가 발생하는지를 나타내는 지표\n",
        "\n",
        "- Precision (정밀도)\n",
        "    - 양성으로 예측한 값들 중에 맞춘 비율\n",
        "\n",
        "- Recall(재현율)\n",
        "    - Sensitivity(민감도)\n",
        "    - TPR\n",
        "    - 실제 양성값들 중에 맞춘 비율\n",
        "\n",
        "- FPR\n",
        "    - 실제 음성값들 중에 못 맞춘 비율"
      ]
    },
    {
      "cell_type": "markdown",
      "metadata": {
        "id": "qy6W_glIOIiM"
      },
      "source": [
        "## Evaluating model performance : F-score, Accuracy\n",
        "\n",
        "1. True Positive(TP) : 결함이 있다고 예측한 것들 중 실제로 결함이 있는 것\n",
        "2. False Positive(FP) : 결함이 있다고 예측한 것들 중 실제로 결함이 없는 것\n",
        "3. True Negative(TN) : 결함이 없다고 예측한 것들 중 실제로 결함이 없는 것\n",
        "4. False Negative(FN) : 결함이 없다고 예측한 것들 중 실제로 결함이 있는 것\n",
        "\n",
        "|                     | 실제 True          | 실제 False          |\n",
        "|---                  |---                 |---                  |\n",
        "| 분류결과 True       | $$N_{TP}$$         |    $$N_{FP}$$       |\n",
        "| 분류결과 False      |   $$N_{FN}$$       |   $$N_{TN}$$        | \n",
        "\n",
        "- $N$ : 개수를 나타낸다. \n",
        "\n",
        "### accuracy, precision, recall \n",
        "$$\\text{accuracy} = \\frac{\\text{정확하게 예측한 개수}}{\\text{예측한 전체 개수}} \\frac{N_{TP} + N_{TN}}{N_{TP}+N_{FN}+N_{FP}+N_{TN}}$$\n",
        "$$\\text{precision} = \\frac{\\text{True 라고 정확하게 예측한 개수}}{\\text{True 라고 예측한 총 개수}} = \\frac{N_{TP}}{N_{TP}+N_{FP}}$$\n",
        "$$\\text{recall} = \\frac{\\text{True 라고 정확하게 예측한 개수}}{\\text{실제로 True의 개수}} =\\frac{N_{TP}}{N_{TP}+N_{FN}}$$\n",
        "\n",
        "### F-score\n",
        "- precision과 recall을 이용해 계산 가능\n",
        "\n",
        "$$\\text{F-score} = \\frac{(1+\\beta^2) \\text{precision} \\times \\text{recall}}{\\beta^2 \\text{precision} + \\text{recall}}$$\n",
        "\n",
        "- $\\beta$는 precision과 recall중 어떤 것에 가중을 부여하여 판단할지 사용자가 정하는 상수 "
      ]
    },
    {
      "attachments": {},
      "cell_type": "markdown",
      "metadata": {
        "id": "H_713hlhOIfh"
      },
      "source": [
        "## 임계값(thresholds)\n",
        "- 모델은 분류에서 확률(0~1) 또는 음수에서 양수사이에 실수를 예측값으로 출력\n",
        "- 사이킷런에서는 `predict_proba`, `decision_function`메소드를 제공\n",
        "- predict_proba : 0.5 이상이면 1로 예측\n",
        "- decision_function : 0 이상이면 1로 예측"
      ]
    },
    {
      "attachments": {},
      "cell_type": "markdown",
      "metadata": {
        "id": "K1gcDEbAOIdZ"
      },
      "source": [
        "## Accuracy 의 한계\n",
        "- 오류(틀린갯수)중에서 FN 오류(아니라고 예측했는데 맞았을 경우)를 줄이는 것이 더 중요한 경우\n",
        "- 오류 중에 FP 오류(맞다고 했는데 틀렸을 경우)를 줄이는 것이 더 중요한 경우\n",
        "- 정확도는 위에 두가지 오류에 정도의 차이를 구분할수 없기 때문에 적절한 성능지표가 될수 없다.\n",
        "- 음성(0)이 양성(1)보다 훨씬 많은 경우 음성(0)으로만 예측해도 높은 정확도를 보이기 때문에 적절한 성능지표가 될수없다.\n"
      ]
    },
    {
      "cell_type": "code",
      "execution_count": 17,
      "metadata": {
        "id": "qmz3EyDggChC"
      },
      "outputs": [],
      "source": [
        "import numpy as np\n",
        "SEED =1234"
      ]
    },
    {
      "cell_type": "markdown",
      "metadata": {
        "id": "zuYaESF8OIWE"
      },
      "source": [
        "- Decision Tree"
      ]
    },
    {
      "cell_type": "code",
      "execution_count": 18,
      "metadata": {
        "id": "AcJTrqDspyhh"
      },
      "outputs": [],
      "source": [
        "from sklearn.tree import DecisionTreeClassifier\n",
        "\n",
        "tree = DecisionTreeClassifier(max_depth=3,random_state=SEED)\n",
        "tree.fit(x_train,y_train)\n",
        "pred_tree = tree.predict(x_test)"
      ]
    },
    {
      "cell_type": "markdown",
      "metadata": {
        "id": "xPZSt5R-pyfc"
      },
      "source": [
        "- 정확도 평가"
      ]
    },
    {
      "cell_type": "code",
      "execution_count": 19,
      "metadata": {
        "colab": {
          "base_uri": "https://localhost:8080/"
        },
        "id": "nhwXNldrpyc4",
        "outputId": "6af344b0-b750-46c4-bd01-bfd2f128cd52"
      },
      "outputs": [
        {
          "name": "stdout",
          "output_type": "stream",
          "text": [
            "tree:0.9666666666666667\n"
          ]
        }
      ],
      "source": [
        "from sklearn.metrics import accuracy_score\n",
        "score = accuracy_score(y_test,pred_tree)\n",
        "print(f\"tree:{score}\")"
      ]
    },
    {
      "cell_type": "markdown",
      "metadata": {
        "id": "wdr35IRspyas"
      },
      "source": [
        "- Confusion Matrix 그리기"
      ]
    },
    {
      "cell_type": "code",
      "execution_count": null,
      "metadata": {
        "id": "wvWjMrQvgChC",
        "outputId": "63d29733-f4f5-49c3-f3e8-0cf4790310f0"
      },
      "outputs": [
        {
          "data": {
            "text/plain": [
              "array([1, 0, 0, 0, 0, 0, 1, 0, 0, 0, 0, 0, 0, 0, 1, 0, 0, 0, 0, 0, 0, 0,\n",
              "       0, 0, 0, 0, 0, 0, 0, 0, 0, 0, 0, 0, 0, 0, 0, 0, 0, 0, 0, 0, 0, 0,\n",
              "       1, 0, 0, 0, 1, 0, 0, 0, 0, 0, 0, 0, 0, 1, 0, 0, 0, 0, 0, 0, 0, 0,\n",
              "       1, 0, 0, 0, 0, 0, 0, 0, 0, 0, 0, 0, 0, 0, 0, 0, 0, 0, 0, 0, 0, 0,\n",
              "       0, 0, 0, 0, 0, 0, 0, 0, 0, 0, 0, 0, 0, 0, 0, 0, 0, 0, 0, 0, 0, 0,\n",
              "       0, 0, 0, 0, 0, 0, 0, 0, 0, 0, 1, 0, 0, 0, 0, 0, 0, 0, 0, 0, 0, 0,\n",
              "       0, 0, 0, 0, 0, 0, 0, 0, 0, 0, 0, 0, 0, 1, 0, 1, 0, 1, 1, 0, 0, 1,\n",
              "       0, 0, 0, 0, 0, 0, 0, 1, 0, 0, 1, 1, 0, 0, 0, 0, 0, 0, 0, 0, 0, 0,\n",
              "       0, 0, 1, 0, 0, 0, 0, 0, 0, 0, 1, 0, 0, 0, 0, 0, 0, 0, 0, 1, 0, 0,\n",
              "       0, 0, 1, 0, 0, 1, 0, 0, 0, 0, 0, 0, 0, 1, 0, 0, 0, 0, 0, 0, 0, 0,\n",
              "       0, 0, 0, 0, 0, 0, 1, 0, 0, 0, 0, 0, 0, 0, 0, 0, 0, 0, 0, 0, 0, 0,\n",
              "       0, 0, 0, 0, 0, 0, 0, 0, 0, 0, 0, 0, 0, 0, 0, 0, 0, 0, 0, 0, 0, 0,\n",
              "       0, 0, 0, 0, 0, 0, 0, 0, 0, 1, 0, 0, 1, 0, 0, 0, 0, 0, 0, 0, 0, 0,\n",
              "       0, 0, 0, 0, 0, 0, 0, 0, 0, 0, 0, 1, 0, 0, 0, 0, 0, 0, 0, 0, 0, 0,\n",
              "       0, 1, 0, 0, 0, 0, 0, 0, 0, 0, 0, 0, 0, 0, 0, 0, 0, 0, 0, 0, 0, 0,\n",
              "       0, 0, 0, 0, 0, 0, 0, 0, 0, 0, 0, 0, 0, 0, 0, 0, 0, 0, 0, 1, 0, 1,\n",
              "       0, 0, 0, 0, 0, 0, 0, 0, 0, 0, 0, 0, 0, 0, 0, 0, 0, 0, 0, 0, 0, 0,\n",
              "       0, 0, 0, 0, 0, 0, 0, 0, 1, 0, 0, 1, 0, 1, 0, 0, 0, 0, 0, 0, 0, 0,\n",
              "       0, 0, 0, 0, 0, 0, 0, 0, 0, 0, 0, 0, 0, 0, 0, 0, 0, 0, 0, 0, 0, 1,\n",
              "       0, 0, 0, 0, 1, 0, 0, 0, 0, 0, 1, 1, 0, 1, 0, 0, 0, 1, 0, 0, 0, 0,\n",
              "       1, 0, 0, 0, 0, 0, 1, 0, 0, 0])"
            ]
          },
          "execution_count": 18,
          "metadata": {},
          "output_type": "execute_result"
        }
      ],
      "source": [
        "pred_tree\n"
      ]
    },
    {
      "cell_type": "code",
      "execution_count": null,
      "metadata": {
        "colab": {
          "base_uri": "https://localhost:8080/",
          "height": 278
        },
        "id": "0qUyIay5pyYa",
        "outputId": "e8f72e61-b70e-4a0d-cca3-6ebdcbaec271"
      },
      "outputs": [
        {
          "data": {
            "image/png": "[encoded data removed]",
            "text/plain": [
              "<Figure size 640x480 with 2 Axes>"
            ]
          },
          "metadata": {},
          "output_type": "display_data"
        }
      ],
      "source": [
        "from sklearn.metrics import confusion_matrix, ConfusionMatrixDisplay\n",
        "\n",
        "cm = confusion_matrix(y_test,pred_tree)\n",
        "disp = ConfusionMatrixDisplay(confusion_matrix=cm)\n",
        "disp.plot()\n",
        "plt.show()"
      ]
    },
    {
      "cell_type": "markdown",
      "metadata": {
        "id": "NK9wxnfzpyWF"
      },
      "source": [
        "## Precision vs Recall\n",
        "- FP 줄이는것이 목표일때 Precision 사용\n",
        "- FN 줄이는것이 목표일때 Recall 사용"
      ]
    },
    {
      "cell_type": "code",
      "execution_count": 26,
      "metadata": {
        "colab": {
          "base_uri": "https://localhost:8080/"
        },
        "id": "_XmK_-HhpyTs",
        "outputId": "9e189c3a-8b02-4379-93e4-2ae4bdb1c422"
      },
      "outputs": [
        {
          "data": {
            "text/plain": [
              "0.8636363636363636"
            ]
          },
          "execution_count": 26,
          "metadata": {},
          "output_type": "execute_result"
        }
      ],
      "source": [
        "from sklearn.metrics import precision_score , recall_score\n",
        "\n",
        "precision_score(y_test,pred_tree)"
      ]
    },
    {
      "cell_type": "code",
      "execution_count": null,
      "metadata": {
        "colab": {
          "base_uri": "https://localhost:8080/"
        },
        "id": "tKBeekwApyRQ",
        "outputId": "13181273-d897-4e41-ed46-acf33bbcf8da"
      },
      "outputs": [
        {
          "data": {
            "text/plain": [
              "0.74"
            ]
          },
          "execution_count": 21,
          "metadata": {},
          "output_type": "execute_result"
        }
      ],
      "source": [
        "recall_score(y_test,pred_tree)"
      ]
    },
    {
      "cell_type": "markdown",
      "metadata": {
        "id": "O1MdLrO4y8os"
      },
      "source": [
        "### Precision-Recall Trade-off (절충관계)"
      ]
    },
    {
      "cell_type": "markdown",
      "metadata": {
        "id": "8g7_t6lTpyMY"
      },
      "source": [
        "![trade_off.png](https://i0.wp.com/thecleverprogrammer.com/wp-content/uploads/2020/07/un-87.png)"
      ]
    },
    {
      "cell_type": "code",
      "execution_count": 22,
      "metadata": {},
      "outputs": [
        {
          "data": {
            "text/plain": [
              "array([0, 1])"
            ]
          },
          "execution_count": 22,
          "metadata": {},
          "output_type": "execute_result"
        }
      ],
      "source": [
        "tree.classes_"
      ]
    },
    {
      "cell_type": "code",
      "execution_count": 20,
      "metadata": {},
      "outputs": [
        {
          "data": {
            "text/plain": [
              "array([[0.99146211, 0.00853789],\n",
              "       [0.99146211, 0.00853789],\n",
              "       [0.99146211, 0.00853789],\n",
              "       [0.96309963, 0.03690037],\n",
              "       [0.96309963, 0.03690037],\n",
              "       [0.99146211, 0.00853789],\n",
              "       [0.94444444, 0.05555556],\n",
              "       [0.01769912, 0.98230088],\n",
              "       [0.99146211, 0.00853789],\n",
              "       [0.99146211, 0.00853789],\n",
              "       [0.99146211, 0.00853789],\n",
              "       [0.99146211, 0.00853789],\n",
              "       [0.99146211, 0.00853789],\n",
              "       [0.66666667, 0.33333333],\n",
              "       [0.96309963, 0.03690037],\n",
              "       [0.99146211, 0.00853789],\n",
              "       [0.99146211, 0.00853789],\n",
              "       [0.01769912, 0.98230088],\n",
              "       [0.99146211, 0.00853789],\n",
              "       [0.99146211, 0.00853789],\n",
              "       [0.99146211, 0.00853789],\n",
              "       [0.99146211, 0.00853789],\n",
              "       [0.99146211, 0.00853789],\n",
              "       [0.99146211, 0.00853789],\n",
              "       [0.96309963, 0.03690037],\n",
              "       [0.99146211, 0.00853789],\n",
              "       [0.99146211, 0.00853789],\n",
              "       [0.99146211, 0.00853789],\n",
              "       [0.99146211, 0.00853789],\n",
              "       [0.99146211, 0.00853789],\n",
              "       [0.96309963, 0.03690037],\n",
              "       [0.99146211, 0.00853789],\n",
              "       [0.99146211, 0.00853789],\n",
              "       [0.99146211, 0.00853789],\n",
              "       [0.99146211, 0.00853789],\n",
              "       [0.99146211, 0.00853789],\n",
              "       [0.99146211, 0.00853789],\n",
              "       [0.01769912, 0.98230088],\n",
              "       [0.99146211, 0.00853789],\n",
              "       [0.99146211, 0.00853789],\n",
              "       [0.99146211, 0.00853789],\n",
              "       [0.01769912, 0.98230088],\n",
              "       [0.99146211, 0.00853789],\n",
              "       [0.99146211, 0.00853789],\n",
              "       [0.99146211, 0.00853789],\n",
              "       [0.99146211, 0.00853789],\n",
              "       [0.96309963, 0.03690037],\n",
              "       [0.96309963, 0.03690037],\n",
              "       [0.99146211, 0.00853789],\n",
              "       [0.99146211, 0.00853789],\n",
              "       [0.99146211, 0.00853789],\n",
              "       [0.96309963, 0.03690037],\n",
              "       [0.99146211, 0.00853789],\n",
              "       [0.96309963, 0.03690037],\n",
              "       [0.01769912, 0.98230088],\n",
              "       [0.99146211, 0.00853789],\n",
              "       [0.99146211, 0.00853789],\n",
              "       [0.99146211, 0.00853789],\n",
              "       [0.99146211, 0.00853789],\n",
              "       [0.99146211, 0.00853789],\n",
              "       [0.96309963, 0.03690037],\n",
              "       [0.96309963, 0.03690037],\n",
              "       [0.96309963, 0.03690037],\n",
              "       [0.99146211, 0.00853789],\n",
              "       [0.96309963, 0.03690037],\n",
              "       [0.99146211, 0.00853789],\n",
              "       [0.99146211, 0.00853789],\n",
              "       [0.99146211, 0.00853789],\n",
              "       [0.99146211, 0.00853789],\n",
              "       [0.99146211, 0.00853789],\n",
              "       [0.99146211, 0.00853789],\n",
              "       [0.99146211, 0.00853789],\n",
              "       [0.99146211, 0.00853789],\n",
              "       [0.99146211, 0.00853789],\n",
              "       [0.99146211, 0.00853789],\n",
              "       [0.99146211, 0.00853789],\n",
              "       [0.96309963, 0.03690037],\n",
              "       [0.99146211, 0.00853789],\n",
              "       [0.96309963, 0.03690037],\n",
              "       [0.        , 1.        ],\n",
              "       [0.99146211, 0.00853789],\n",
              "       [0.99146211, 0.00853789],\n",
              "       [0.99146211, 0.00853789],\n",
              "       [0.99146211, 0.00853789],\n",
              "       [0.99146211, 0.00853789],\n",
              "       [0.96309963, 0.03690037],\n",
              "       [0.99146211, 0.00853789],\n",
              "       [0.99146211, 0.00853789],\n",
              "       [0.96309963, 0.03690037],\n",
              "       [0.99146211, 0.00853789],\n",
              "       [0.99146211, 0.00853789],\n",
              "       [0.96309963, 0.03690037],\n",
              "       [0.99146211, 0.00853789],\n",
              "       [0.99146211, 0.00853789],\n",
              "       [0.96309963, 0.03690037],\n",
              "       [0.99146211, 0.00853789],\n",
              "       [0.01769912, 0.98230088],\n",
              "       [0.99146211, 0.00853789],\n",
              "       [0.96309963, 0.03690037],\n",
              "       [0.99146211, 0.00853789],\n",
              "       [0.99146211, 0.00853789],\n",
              "       [0.99146211, 0.00853789],\n",
              "       [0.99146211, 0.00853789],\n",
              "       [0.99146211, 0.00853789],\n",
              "       [0.99146211, 0.00853789],\n",
              "       [0.99146211, 0.00853789],\n",
              "       [0.99146211, 0.00853789],\n",
              "       [0.96309963, 0.03690037],\n",
              "       [0.01769912, 0.98230088],\n",
              "       [0.99146211, 0.00853789],\n",
              "       [0.99146211, 0.00853789],\n",
              "       [0.99146211, 0.00853789],\n",
              "       [0.99146211, 0.00853789],\n",
              "       [0.96309963, 0.03690037],\n",
              "       [0.01769912, 0.98230088],\n",
              "       [0.99146211, 0.00853789],\n",
              "       [0.01769912, 0.98230088],\n",
              "       [0.99146211, 0.00853789],\n",
              "       [0.99146211, 0.00853789],\n",
              "       [0.01769912, 0.98230088],\n",
              "       [0.99146211, 0.00853789],\n",
              "       [0.99146211, 0.00853789],\n",
              "       [0.99146211, 0.00853789],\n",
              "       [0.96309963, 0.03690037],\n",
              "       [0.99146211, 0.00853789],\n",
              "       [0.99146211, 0.00853789],\n",
              "       [0.96309963, 0.03690037],\n",
              "       [0.96309963, 0.03690037],\n",
              "       [0.99146211, 0.00853789],\n",
              "       [0.99146211, 0.00853789],\n",
              "       [0.99146211, 0.00853789],\n",
              "       [0.01769912, 0.98230088],\n",
              "       [0.99146211, 0.00853789],\n",
              "       [0.99146211, 0.00853789],\n",
              "       [0.99146211, 0.00853789],\n",
              "       [0.99146211, 0.00853789],\n",
              "       [0.        , 1.        ],\n",
              "       [0.99146211, 0.00853789],\n",
              "       [0.99146211, 0.00853789],\n",
              "       [0.        , 1.        ],\n",
              "       [0.96309963, 0.03690037],\n",
              "       [0.99146211, 0.00853789],\n",
              "       [0.66666667, 0.33333333],\n",
              "       [0.99146211, 0.00853789],\n",
              "       [0.99146211, 0.00853789],\n",
              "       [0.96309963, 0.03690037],\n",
              "       [0.99146211, 0.00853789],\n",
              "       [0.01769912, 0.98230088],\n",
              "       [0.01769912, 0.98230088],\n",
              "       [0.96309963, 0.03690037],\n",
              "       [0.99146211, 0.00853789],\n",
              "       [0.99146211, 0.00853789],\n",
              "       [0.99146211, 0.00853789],\n",
              "       [0.96309963, 0.03690037],\n",
              "       [0.99146211, 0.00853789],\n",
              "       [0.99146211, 0.00853789],\n",
              "       [0.99146211, 0.00853789],\n",
              "       [0.99146211, 0.00853789],\n",
              "       [0.99146211, 0.00853789],\n",
              "       [0.99146211, 0.00853789],\n",
              "       [0.99146211, 0.00853789],\n",
              "       [0.        , 1.        ],\n",
              "       [0.99146211, 0.00853789],\n",
              "       [0.99146211, 0.00853789],\n",
              "       [0.99146211, 0.00853789],\n",
              "       [0.99146211, 0.00853789],\n",
              "       [0.01769912, 0.98230088],\n",
              "       [0.99146211, 0.00853789],\n",
              "       [0.66666667, 0.33333333],\n",
              "       [0.99146211, 0.00853789],\n",
              "       [0.99146211, 0.00853789],\n",
              "       [0.99146211, 0.00853789],\n",
              "       [0.99146211, 0.00853789],\n",
              "       [0.99146211, 0.00853789],\n",
              "       [0.99146211, 0.00853789],\n",
              "       [0.99146211, 0.00853789],\n",
              "       [0.01769912, 0.98230088],\n",
              "       [0.01769912, 0.98230088],\n",
              "       [0.99146211, 0.00853789],\n",
              "       [0.99146211, 0.00853789],\n",
              "       [0.99146211, 0.00853789],\n",
              "       [0.96309963, 0.03690037],\n",
              "       [0.99146211, 0.00853789],\n",
              "       [0.99146211, 0.00853789],\n",
              "       [0.99146211, 0.00853789],\n",
              "       [0.99146211, 0.00853789],\n",
              "       [0.99146211, 0.00853789],\n",
              "       [0.99146211, 0.00853789],\n",
              "       [0.99146211, 0.00853789],\n",
              "       [0.99146211, 0.00853789],\n",
              "       [0.99146211, 0.00853789],\n",
              "       [0.99146211, 0.00853789],\n",
              "       [0.99146211, 0.00853789],\n",
              "       [0.99146211, 0.00853789],\n",
              "       [0.99146211, 0.00853789],\n",
              "       [0.99146211, 0.00853789],\n",
              "       [0.99146211, 0.00853789],\n",
              "       [0.99146211, 0.00853789],\n",
              "       [0.99146211, 0.00853789],\n",
              "       [0.99146211, 0.00853789],\n",
              "       [0.99146211, 0.00853789],\n",
              "       [0.96309963, 0.03690037],\n",
              "       [0.99146211, 0.00853789],\n",
              "       [0.99146211, 0.00853789],\n",
              "       [0.99146211, 0.00853789],\n",
              "       [0.96309963, 0.03690037],\n",
              "       [0.        , 1.        ],\n",
              "       [0.99146211, 0.00853789],\n",
              "       [0.99146211, 0.00853789],\n",
              "       [0.99146211, 0.00853789],\n",
              "       [0.96309963, 0.03690037],\n",
              "       [0.99146211, 0.00853789],\n",
              "       [0.99146211, 0.00853789],\n",
              "       [0.96309963, 0.03690037],\n",
              "       [0.99146211, 0.00853789],\n",
              "       [0.99146211, 0.00853789],\n",
              "       [0.99146211, 0.00853789],\n",
              "       [0.99146211, 0.00853789],\n",
              "       [0.01769912, 0.98230088],\n",
              "       [0.99146211, 0.00853789],\n",
              "       [0.99146211, 0.00853789],\n",
              "       [0.99146211, 0.00853789],\n",
              "       [0.96309963, 0.03690037],\n",
              "       [0.96309963, 0.03690037],\n",
              "       [0.99146211, 0.00853789],\n",
              "       [0.96309963, 0.03690037],\n",
              "       [0.99146211, 0.00853789],\n",
              "       [0.99146211, 0.00853789],\n",
              "       [0.99146211, 0.00853789],\n",
              "       [0.99146211, 0.00853789],\n",
              "       [0.96309963, 0.03690037],\n",
              "       [0.99146211, 0.00853789],\n",
              "       [0.96309963, 0.03690037],\n",
              "       [0.99146211, 0.00853789],\n",
              "       [0.99146211, 0.00853789],\n",
              "       [0.99146211, 0.00853789],\n",
              "       [0.99146211, 0.00853789],\n",
              "       [0.99146211, 0.00853789],\n",
              "       [0.99146211, 0.00853789],\n",
              "       [0.96309963, 0.03690037],\n",
              "       [0.99146211, 0.00853789],\n",
              "       [0.99146211, 0.00853789],\n",
              "       [0.99146211, 0.00853789],\n",
              "       [0.99146211, 0.00853789],\n",
              "       [0.96309963, 0.03690037],\n",
              "       [0.99146211, 0.00853789],\n",
              "       [0.99146211, 0.00853789],\n",
              "       [0.99146211, 0.00853789],\n",
              "       [0.96309963, 0.03690037],\n",
              "       [0.99146211, 0.00853789],\n",
              "       [0.99146211, 0.00853789],\n",
              "       [0.99146211, 0.00853789],\n",
              "       [0.99146211, 0.00853789],\n",
              "       [0.99146211, 0.00853789],\n",
              "       [0.99146211, 0.00853789],\n",
              "       [0.99146211, 0.00853789],\n",
              "       [0.96309963, 0.03690037],\n",
              "       [0.96309963, 0.03690037],\n",
              "       [0.96309963, 0.03690037],\n",
              "       [0.99146211, 0.00853789],\n",
              "       [0.96309963, 0.03690037],\n",
              "       [0.99146211, 0.00853789],\n",
              "       [0.99146211, 0.00853789],\n",
              "       [0.99146211, 0.00853789],\n",
              "       [0.99146211, 0.00853789],\n",
              "       [0.99146211, 0.00853789],\n",
              "       [0.99146211, 0.00853789],\n",
              "       [0.99146211, 0.00853789],\n",
              "       [0.01769912, 0.98230088],\n",
              "       [0.96309963, 0.03690037],\n",
              "       [0.99146211, 0.00853789],\n",
              "       [0.99146211, 0.00853789],\n",
              "       [0.96309963, 0.03690037],\n",
              "       [0.96309963, 0.03690037],\n",
              "       [0.99146211, 0.00853789],\n",
              "       [0.96309963, 0.03690037],\n",
              "       [0.96309963, 0.03690037],\n",
              "       [0.01769912, 0.98230088],\n",
              "       [0.99146211, 0.00853789],\n",
              "       [0.99146211, 0.00853789],\n",
              "       [0.99146211, 0.00853789],\n",
              "       [0.99146211, 0.00853789],\n",
              "       [0.99146211, 0.00853789],\n",
              "       [0.96309963, 0.03690037],\n",
              "       [0.99146211, 0.00853789],\n",
              "       [0.99146211, 0.00853789],\n",
              "       [0.99146211, 0.00853789],\n",
              "       [0.99146211, 0.00853789],\n",
              "       [0.01769912, 0.98230088],\n",
              "       [0.96309963, 0.03690037],\n",
              "       [0.99146211, 0.00853789],\n",
              "       [0.99146211, 0.00853789],\n",
              "       [0.99146211, 0.00853789],\n",
              "       [0.99146211, 0.00853789],\n",
              "       [0.99146211, 0.00853789],\n",
              "       [0.96309963, 0.03690037],\n",
              "       [0.01769912, 0.98230088],\n",
              "       [0.99146211, 0.00853789],\n",
              "       [0.99146211, 0.00853789],\n",
              "       [0.99146211, 0.00853789],\n",
              "       [0.99146211, 0.00853789],\n",
              "       [0.99146211, 0.00853789],\n",
              "       [0.99146211, 0.00853789],\n",
              "       [0.99146211, 0.00853789],\n",
              "       [0.99146211, 0.00853789],\n",
              "       [0.01769912, 0.98230088],\n",
              "       [0.99146211, 0.00853789],\n",
              "       [0.99146211, 0.00853789],\n",
              "       [0.99146211, 0.00853789],\n",
              "       [0.99146211, 0.00853789],\n",
              "       [0.99146211, 0.00853789],\n",
              "       [0.99146211, 0.00853789],\n",
              "       [0.99146211, 0.00853789],\n",
              "       [0.99146211, 0.00853789],\n",
              "       [0.99146211, 0.00853789],\n",
              "       [0.99146211, 0.00853789],\n",
              "       [0.99146211, 0.00853789],\n",
              "       [0.99146211, 0.00853789],\n",
              "       [0.96309963, 0.03690037],\n",
              "       [0.99146211, 0.00853789],\n",
              "       [0.99146211, 0.00853789],\n",
              "       [0.99146211, 0.00853789],\n",
              "       [0.99146211, 0.00853789],\n",
              "       [0.99146211, 0.00853789],\n",
              "       [0.96309963, 0.03690037],\n",
              "       [0.96309963, 0.03690037],\n",
              "       [0.99146211, 0.00853789],\n",
              "       [0.96309963, 0.03690037],\n",
              "       [0.01769912, 0.98230088],\n",
              "       [0.01769912, 0.98230088],\n",
              "       [0.99146211, 0.00853789],\n",
              "       [0.96309963, 0.03690037],\n",
              "       [0.01769912, 0.98230088],\n",
              "       [0.99146211, 0.00853789],\n",
              "       [0.99146211, 0.00853789],\n",
              "       [0.99146211, 0.00853789],\n",
              "       [0.99146211, 0.00853789],\n",
              "       [0.99146211, 0.00853789],\n",
              "       [0.01769912, 0.98230088],\n",
              "       [0.99146211, 0.00853789],\n",
              "       [0.99146211, 0.00853789],\n",
              "       [0.99146211, 0.00853789],\n",
              "       [0.99146211, 0.00853789],\n",
              "       [0.99146211, 0.00853789],\n",
              "       [0.01769912, 0.98230088],\n",
              "       [0.99146211, 0.00853789],\n",
              "       [0.99146211, 0.00853789],\n",
              "       [0.99146211, 0.00853789],\n",
              "       [0.99146211, 0.00853789],\n",
              "       [0.99146211, 0.00853789],\n",
              "       [0.96309963, 0.03690037],\n",
              "       [0.99146211, 0.00853789],\n",
              "       [0.01769912, 0.98230088],\n",
              "       [0.99146211, 0.00853789],\n",
              "       [0.96309963, 0.03690037],\n",
              "       [0.99146211, 0.00853789],\n",
              "       [0.99146211, 0.00853789],\n",
              "       [0.96309963, 0.03690037],\n",
              "       [0.99146211, 0.00853789],\n",
              "       [0.99146211, 0.00853789],\n",
              "       [0.01769912, 0.98230088],\n",
              "       [0.01769912, 0.98230088],\n",
              "       [0.99146211, 0.00853789],\n",
              "       [0.99146211, 0.00853789],\n",
              "       [0.96309963, 0.03690037],\n",
              "       [0.99146211, 0.00853789],\n",
              "       [0.99146211, 0.00853789],\n",
              "       [0.99146211, 0.00853789],\n",
              "       [0.99146211, 0.00853789],\n",
              "       [0.99146211, 0.00853789],\n",
              "       [0.99146211, 0.00853789],\n",
              "       [0.01769912, 0.98230088],\n",
              "       [0.01769912, 0.98230088],\n",
              "       [0.99146211, 0.00853789],\n",
              "       [0.99146211, 0.00853789],\n",
              "       [0.99146211, 0.00853789],\n",
              "       [0.99146211, 0.00853789],\n",
              "       [0.99146211, 0.00853789],\n",
              "       [0.99146211, 0.00853789],\n",
              "       [0.96309963, 0.03690037],\n",
              "       [0.99146211, 0.00853789],\n",
              "       [0.96309963, 0.03690037],\n",
              "       [0.99146211, 0.00853789],\n",
              "       [0.96309963, 0.03690037],\n",
              "       [0.96309963, 0.03690037],\n",
              "       [0.01769912, 0.98230088],\n",
              "       [0.99146211, 0.00853789],\n",
              "       [0.99146211, 0.00853789],\n",
              "       [0.99146211, 0.00853789],\n",
              "       [0.99146211, 0.00853789],\n",
              "       [0.99146211, 0.00853789],\n",
              "       [0.99146211, 0.00853789],\n",
              "       [0.01769912, 0.98230088],\n",
              "       [0.96309963, 0.03690037],\n",
              "       [0.99146211, 0.00853789],\n",
              "       [0.96309963, 0.03690037],\n",
              "       [0.01769912, 0.98230088],\n",
              "       [0.99146211, 0.00853789],\n",
              "       [0.99146211, 0.00853789],\n",
              "       [0.99146211, 0.00853789],\n",
              "       [0.99146211, 0.00853789],\n",
              "       [0.99146211, 0.00853789],\n",
              "       [0.99146211, 0.00853789],\n",
              "       [0.99146211, 0.00853789],\n",
              "       [0.96309963, 0.03690037],\n",
              "       [0.99146211, 0.00853789],\n",
              "       [0.99146211, 0.00853789],\n",
              "       [0.99146211, 0.00853789],\n",
              "       [0.99146211, 0.00853789],\n",
              "       [0.99146211, 0.00853789],\n",
              "       [0.99146211, 0.00853789],\n",
              "       [0.96309963, 0.03690037],\n",
              "       [0.99146211, 0.00853789],\n",
              "       [0.99146211, 0.00853789],\n",
              "       [0.99146211, 0.00853789],\n",
              "       [0.99146211, 0.00853789],\n",
              "       [0.99146211, 0.00853789],\n",
              "       [0.99146211, 0.00853789],\n",
              "       [0.96309963, 0.03690037],\n",
              "       [0.99146211, 0.00853789],\n",
              "       [0.99146211, 0.00853789],\n",
              "       [0.99146211, 0.00853789],\n",
              "       [0.99146211, 0.00853789],\n",
              "       [0.99146211, 0.00853789],\n",
              "       [0.99146211, 0.00853789],\n",
              "       [0.99146211, 0.00853789],\n",
              "       [0.96309963, 0.03690037],\n",
              "       [0.99146211, 0.00853789],\n",
              "       [0.99146211, 0.00853789],\n",
              "       [0.01769912, 0.98230088],\n",
              "       [0.99146211, 0.00853789],\n",
              "       [0.99146211, 0.00853789],\n",
              "       [0.01769912, 0.98230088],\n",
              "       [0.96309963, 0.03690037],\n",
              "       [0.96309963, 0.03690037],\n",
              "       [0.96309963, 0.03690037],\n",
              "       [0.99146211, 0.00853789],\n",
              "       [0.99146211, 0.00853789],\n",
              "       [0.01769912, 0.98230088],\n",
              "       [0.96309963, 0.03690037],\n",
              "       [0.99146211, 0.00853789],\n",
              "       [0.99146211, 0.00853789],\n",
              "       [0.99146211, 0.00853789],\n",
              "       [0.99146211, 0.00853789],\n",
              "       [0.99146211, 0.00853789],\n",
              "       [0.99146211, 0.00853789],\n",
              "       [0.99146211, 0.00853789],\n",
              "       [0.99146211, 0.00853789],\n",
              "       [0.99146211, 0.00853789],\n",
              "       [0.01769912, 0.98230088]])"
            ]
          },
          "execution_count": 20,
          "metadata": {},
          "output_type": "execute_result"
        }
      ],
      "source": [
        "tree.predict_proba(x_test) #[:,0]= 첫번쨰 클래스(0)에 속할 확률, [:,1]=두번째 클래스(1)에 속할 확률"
      ]
    },
    {
      "cell_type": "code",
      "execution_count": 24,
      "metadata": {
        "id": "TWFvfRJwpyH2"
      },
      "outputs": [],
      "source": [
        "pred_proba = tree.predict_proba(x_test)[:,1] #[:,0]= 첫번쨰 클래스에 속할 확률, [:,1]=두번째 클래스에 속할 확률"
      ]
    },
    {
      "cell_type": "code",
      "execution_count": 27,
      "metadata": {
        "colab": {
          "base_uri": "https://localhost:8080/"
        },
        "id": "DmNZB_RcpyFe",
        "outputId": "8e5e9003-d21a-4c52-d8ca-54083c1b4eaf"
      },
      "outputs": [
        {
          "data": {
            "text/plain": [
              "(0.8636363636363636, 0.8085106382978723)"
            ]
          },
          "execution_count": 27,
          "metadata": {},
          "output_type": "execute_result"
        }
      ],
      "source": [
        "threshold = 0.9\n",
        "pred = np.where(pred_proba > threshold , 1 , 0) #예측확률이 임계점보다 크면 1, 아니면 0\n",
        "\n",
        "precision_score(y_test,pred), recall_score(y_test,pred)"
      ]
    },
    {
      "cell_type": "code",
      "execution_count": 28,
      "metadata": {
        "colab": {
          "base_uri": "https://localhost:8080/"
        },
        "id": "NieTcpyppyDL",
        "outputId": "55c56c8f-b2ed-4780-af1d-d650edf87e89"
      },
      "outputs": [
        {
          "data": {
            "text/plain": [
              "(0.8085106382978723, 0.8085106382978723)"
            ]
          },
          "execution_count": 28,
          "metadata": {},
          "output_type": "execute_result"
        }
      ],
      "source": [
        "threshold = 0.1\n",
        "pred = np.where(pred_proba > threshold ,1,0)\n",
        "\n",
        "precision_score(y_test,pred), recall_score(y_test,pred)"
      ]
    },
    {
      "cell_type": "markdown",
      "metadata": {
        "id": "4Jbt-CIRpyBK"
      },
      "source": [
        "## F1-score\n",
        "$$\n",
        "F1 = 2*\\frac{Precision*Recall}{Precision+Recall}\n",
        "$$\n",
        "- Precision 과 Recall의 조화평균\n",
        "- 정밀도와 재현율 사이에 하나가 높아지면 다른 하나가 낮아지는 상황이 자주 발생하기에 이를 보정하기 위해 개발\n",
        "- 정밀도와 재현율이 어느 한쪽으로 치우치지 않았을때 높은 점수가 나온다.\n",
        "- Precison 과 Recalld은 Trade-off 관계이기때문에, 이둘의 조화평균값이 F1-score를 많이 사용한다."
      ]
    },
    {
      "cell_type": "markdown",
      "metadata": {
        "id": "9cdW6aqCpx-2"
      },
      "source": [
        "- precision = 0.1, recall = 0.9 가정!!"
      ]
    },
    {
      "cell_type": "code",
      "execution_count": null,
      "metadata": {
        "colab": {
          "base_uri": "https://localhost:8080/"
        },
        "id": "ogl4wZz2px8o",
        "outputId": "65c9d7c9-3482-4e54-9ed4-3f2d07cf25e4"
      },
      "outputs": [
        {
          "data": {
            "text/plain": [
              "0.5"
            ]
          },
          "execution_count": 25,
          "metadata": {},
          "output_type": "execute_result"
        }
      ],
      "source": [
        "(0.1+0.9)/2 # 산술평균"
      ]
    },
    {
      "cell_type": "code",
      "execution_count": null,
      "metadata": {
        "colab": {
          "base_uri": "https://localhost:8080/"
        },
        "id": "QaZCVv5cpx6u",
        "outputId": "fff40217-445a-4733-d281-738868673870"
      },
      "outputs": [
        {
          "data": {
            "text/plain": [
              "0.18000000000000002"
            ]
          },
          "execution_count": 26,
          "metadata": {},
          "output_type": "execute_result"
        }
      ],
      "source": [
        "2 * 0.1*0.9 /(0.1+0.9) # 조화평균= 역수의 산술평균의 역수"
      ]
    },
    {
      "cell_type": "code",
      "execution_count": null,
      "metadata": {
        "id": "3FQa3VgzgChE",
        "outputId": "e70b2152-a456-460b-ad92-868a449af738"
      },
      "outputs": [
        {
          "data": {
            "text/plain": [
              "0.5"
            ]
          },
          "execution_count": 27,
          "metadata": {},
          "output_type": "execute_result"
        }
      ],
      "source": [
        "2 * 0.5*0.5 /(0.5+0.5) # 두개가 같은경우"
      ]
    },
    {
      "cell_type": "code",
      "execution_count": null,
      "metadata": {
        "id": "SrzJCzU6gChE",
        "outputId": "a28aa976-240f-40ec-8bcf-22d2e2e5bef4"
      },
      "outputs": [
        {
          "data": {
            "text/plain": [
              "5.0"
            ]
          },
          "execution_count": 31,
          "metadata": {},
          "output_type": "execute_result"
        }
      ],
      "source": [
        "2 * 5*5 /(5+5)"
      ]
    },
    {
      "cell_type": "code",
      "execution_count": null,
      "metadata": {
        "id": "0tgaLe3PgChE",
        "outputId": "1d4d4db8-0f9e-4172-8d7a-ca8767bb2a21"
      },
      "outputs": [
        {
          "data": {
            "text/plain": [
              "(450,)"
            ]
          },
          "execution_count": 32,
          "metadata": {},
          "output_type": "execute_result"
        }
      ],
      "source": [
        "pred_tree.shape"
      ]
    },
    {
      "cell_type": "code",
      "execution_count": 29,
      "metadata": {},
      "outputs": [
        {
          "data": {
            "text/plain": [
              "array([0.00853789, 0.00853789, 0.00853789, 0.03690037, 0.03690037,\n",
              "       0.00853789, 0.05555556, 0.98230088, 0.00853789, 0.00853789,\n",
              "       0.00853789, 0.00853789, 0.00853789, 0.33333333, 0.03690037,\n",
              "       0.00853789, 0.00853789, 0.98230088, 0.00853789, 0.00853789,\n",
              "       0.00853789, 0.00853789, 0.00853789, 0.00853789, 0.03690037,\n",
              "       0.00853789, 0.00853789, 0.00853789, 0.00853789, 0.00853789,\n",
              "       0.03690037, 0.00853789, 0.00853789, 0.00853789, 0.00853789,\n",
              "       0.00853789, 0.00853789, 0.98230088, 0.00853789, 0.00853789,\n",
              "       0.00853789, 0.98230088, 0.00853789, 0.00853789, 0.00853789,\n",
              "       0.00853789, 0.03690037, 0.03690037, 0.00853789, 0.00853789,\n",
              "       0.00853789, 0.03690037, 0.00853789, 0.03690037, 0.98230088,\n",
              "       0.00853789, 0.00853789, 0.00853789, 0.00853789, 0.00853789,\n",
              "       0.03690037, 0.03690037, 0.03690037, 0.00853789, 0.03690037,\n",
              "       0.00853789, 0.00853789, 0.00853789, 0.00853789, 0.00853789,\n",
              "       0.00853789, 0.00853789, 0.00853789, 0.00853789, 0.00853789,\n",
              "       0.00853789, 0.03690037, 0.00853789, 0.03690037, 1.        ,\n",
              "       0.00853789, 0.00853789, 0.00853789, 0.00853789, 0.00853789,\n",
              "       0.03690037, 0.00853789, 0.00853789, 0.03690037, 0.00853789,\n",
              "       0.00853789, 0.03690037, 0.00853789, 0.00853789, 0.03690037,\n",
              "       0.00853789, 0.98230088, 0.00853789, 0.03690037, 0.00853789,\n",
              "       0.00853789, 0.00853789, 0.00853789, 0.00853789, 0.00853789,\n",
              "       0.00853789, 0.00853789, 0.03690037, 0.98230088, 0.00853789,\n",
              "       0.00853789, 0.00853789, 0.00853789, 0.03690037, 0.98230088,\n",
              "       0.00853789, 0.98230088, 0.00853789, 0.00853789, 0.98230088,\n",
              "       0.00853789, 0.00853789, 0.00853789, 0.03690037, 0.00853789,\n",
              "       0.00853789, 0.03690037, 0.03690037, 0.00853789, 0.00853789,\n",
              "       0.00853789, 0.98230088, 0.00853789, 0.00853789, 0.00853789,\n",
              "       0.00853789, 1.        , 0.00853789, 0.00853789, 1.        ,\n",
              "       0.03690037, 0.00853789, 0.33333333, 0.00853789, 0.00853789,\n",
              "       0.03690037, 0.00853789, 0.98230088, 0.98230088, 0.03690037,\n",
              "       0.00853789, 0.00853789, 0.00853789, 0.03690037, 0.00853789,\n",
              "       0.00853789, 0.00853789, 0.00853789, 0.00853789, 0.00853789,\n",
              "       0.00853789, 1.        , 0.00853789, 0.00853789, 0.00853789,\n",
              "       0.00853789, 0.98230088, 0.00853789, 0.33333333, 0.00853789,\n",
              "       0.00853789, 0.00853789, 0.00853789, 0.00853789, 0.00853789,\n",
              "       0.00853789, 0.98230088, 0.98230088, 0.00853789, 0.00853789,\n",
              "       0.00853789, 0.03690037, 0.00853789, 0.00853789, 0.00853789,\n",
              "       0.00853789, 0.00853789, 0.00853789, 0.00853789, 0.00853789,\n",
              "       0.00853789, 0.00853789, 0.00853789, 0.00853789, 0.00853789,\n",
              "       0.00853789, 0.00853789, 0.00853789, 0.00853789, 0.00853789,\n",
              "       0.00853789, 0.03690037, 0.00853789, 0.00853789, 0.00853789,\n",
              "       0.03690037, 1.        , 0.00853789, 0.00853789, 0.00853789,\n",
              "       0.03690037, 0.00853789, 0.00853789, 0.03690037, 0.00853789,\n",
              "       0.00853789, 0.00853789, 0.00853789, 0.98230088, 0.00853789,\n",
              "       0.00853789, 0.00853789, 0.03690037, 0.03690037, 0.00853789,\n",
              "       0.03690037, 0.00853789, 0.00853789, 0.00853789, 0.00853789,\n",
              "       0.03690037, 0.00853789, 0.03690037, 0.00853789, 0.00853789,\n",
              "       0.00853789, 0.00853789, 0.00853789, 0.00853789, 0.03690037,\n",
              "       0.00853789, 0.00853789, 0.00853789, 0.00853789, 0.03690037,\n",
              "       0.00853789, 0.00853789, 0.00853789, 0.03690037, 0.00853789,\n",
              "       0.00853789, 0.00853789, 0.00853789, 0.00853789, 0.00853789,\n",
              "       0.00853789, 0.03690037, 0.03690037, 0.03690037, 0.00853789,\n",
              "       0.03690037, 0.00853789, 0.00853789, 0.00853789, 0.00853789,\n",
              "       0.00853789, 0.00853789, 0.00853789, 0.98230088, 0.03690037,\n",
              "       0.00853789, 0.00853789, 0.03690037, 0.03690037, 0.00853789,\n",
              "       0.03690037, 0.03690037, 0.98230088, 0.00853789, 0.00853789,\n",
              "       0.00853789, 0.00853789, 0.00853789, 0.03690037, 0.00853789,\n",
              "       0.00853789, 0.00853789, 0.00853789, 0.98230088, 0.03690037,\n",
              "       0.00853789, 0.00853789, 0.00853789, 0.00853789, 0.00853789,\n",
              "       0.03690037, 0.98230088, 0.00853789, 0.00853789, 0.00853789,\n",
              "       0.00853789, 0.00853789, 0.00853789, 0.00853789, 0.00853789,\n",
              "       0.98230088, 0.00853789, 0.00853789, 0.00853789, 0.00853789,\n",
              "       0.00853789, 0.00853789, 0.00853789, 0.00853789, 0.00853789,\n",
              "       0.00853789, 0.00853789, 0.00853789, 0.03690037, 0.00853789,\n",
              "       0.00853789, 0.00853789, 0.00853789, 0.00853789, 0.03690037,\n",
              "       0.03690037, 0.00853789, 0.03690037, 0.98230088, 0.98230088,\n",
              "       0.00853789, 0.03690037, 0.98230088, 0.00853789, 0.00853789,\n",
              "       0.00853789, 0.00853789, 0.00853789, 0.98230088, 0.00853789,\n",
              "       0.00853789, 0.00853789, 0.00853789, 0.00853789, 0.98230088,\n",
              "       0.00853789, 0.00853789, 0.00853789, 0.00853789, 0.00853789,\n",
              "       0.03690037, 0.00853789, 0.98230088, 0.00853789, 0.03690037,\n",
              "       0.00853789, 0.00853789, 0.03690037, 0.00853789, 0.00853789,\n",
              "       0.98230088, 0.98230088, 0.00853789, 0.00853789, 0.03690037,\n",
              "       0.00853789, 0.00853789, 0.00853789, 0.00853789, 0.00853789,\n",
              "       0.00853789, 0.98230088, 0.98230088, 0.00853789, 0.00853789,\n",
              "       0.00853789, 0.00853789, 0.00853789, 0.00853789, 0.03690037,\n",
              "       0.00853789, 0.03690037, 0.00853789, 0.03690037, 0.03690037,\n",
              "       0.98230088, 0.00853789, 0.00853789, 0.00853789, 0.00853789,\n",
              "       0.00853789, 0.00853789, 0.98230088, 0.03690037, 0.00853789,\n",
              "       0.03690037, 0.98230088, 0.00853789, 0.00853789, 0.00853789,\n",
              "       0.00853789, 0.00853789, 0.00853789, 0.00853789, 0.03690037,\n",
              "       0.00853789, 0.00853789, 0.00853789, 0.00853789, 0.00853789,\n",
              "       0.00853789, 0.03690037, 0.00853789, 0.00853789, 0.00853789,\n",
              "       0.00853789, 0.00853789, 0.00853789, 0.03690037, 0.00853789,\n",
              "       0.00853789, 0.00853789, 0.00853789, 0.00853789, 0.00853789,\n",
              "       0.00853789, 0.03690037, 0.00853789, 0.00853789, 0.98230088,\n",
              "       0.00853789, 0.00853789, 0.98230088, 0.03690037, 0.03690037,\n",
              "       0.03690037, 0.00853789, 0.00853789, 0.98230088, 0.03690037,\n",
              "       0.00853789, 0.00853789, 0.00853789, 0.00853789, 0.00853789,\n",
              "       0.00853789, 0.00853789, 0.00853789, 0.00853789, 0.98230088])"
            ]
          },
          "execution_count": 29,
          "metadata": {},
          "output_type": "execute_result"
        }
      ],
      "source": [
        "pred_proba"
      ]
    },
    {
      "cell_type": "code",
      "execution_count": null,
      "metadata": {
        "id": "65ZdTixVgChF"
      },
      "outputs": [],
      "source": [
        "threshold = 0.9 # 확률이 90% 이상인 예측값만 숫자 5라고 결정하자\n",
        "pred = np.where(pred_proba > threshold , 1 , 0)"
      ]
    },
    {
      "cell_type": "code",
      "execution_count": null,
      "metadata": {
        "colab": {
          "base_uri": "https://localhost:8080/"
        },
        "id": "_ukCv2c-px4f",
        "outputId": "78b353f3-0c77-4b9e-96dd-c4e31d61e265"
      },
      "outputs": [
        {
          "data": {
            "text/plain": [
              "0.8131868131868132"
            ]
          },
          "execution_count": 48,
          "metadata": {},
          "output_type": "execute_result"
        }
      ],
      "source": [
        "from sklearn.metrics import f1_score\n",
        "f1_score(y_test,pred)"
      ]
    },
    {
      "cell_type": "markdown",
      "metadata": {
        "id": "O1GcK8QDpx2Y"
      },
      "source": [
        "- recall, precision,F1-score 한번에 보기"
      ]
    },
    {
      "cell_type": "code",
      "execution_count": null,
      "metadata": {
        "colab": {
          "base_uri": "https://localhost:8080/"
        },
        "id": "80fBI1Awpxz-",
        "outputId": "53023300-43bc-468d-809b-e7c932dc8973"
      },
      "outputs": [
        {
          "name": "stdout",
          "output_type": "stream",
          "text": [
            "tree model\n",
            "              precision    recall  f1-score   support\n",
            "\n",
            "           0       0.97      0.99      0.98       400\n",
            "           1       0.90      0.74      0.81        50\n",
            "\n",
            "    accuracy                           0.96       450\n",
            "   macro avg       0.94      0.86      0.90       450\n",
            "weighted avg       0.96      0.96      0.96       450\n",
            "\n"
          ]
        }
      ],
      "source": [
        "from sklearn.metrics import classification_report\n",
        "print(\"tree model\")\n",
        "print(classification_report(y_test,pred))"
      ]
    },
    {
      "cell_type": "markdown",
      "metadata": {
        "id": "ObMcIHQmpxxm"
      },
      "source": [
        "## ROC (Receiver Operating Characteristic curve)\n",
        "- FPR을 X축으로, TPR을 Y축으로 해서 둘간의 관계를 표현한 그래프\n",
        "    - FPR = FP / (FP+TN)\n",
        "    - TPR = TP / (FN+TP)\n",
        "- FPR이 천천히 증가하면서  TPR이 빨리 증가하는 모델을 만들어야한다.\n",
        "- 면적이 클수록 좋은 모델임"
      ]
    },
    {
      "cell_type": "markdown",
      "metadata": {
        "id": "tgxJcJMUpxvZ"
      },
      "source": [
        "![ROC.png](https://miro.medium.com/max/640/1*pk05QGzoWhCgRiiFbz-oKQ.webp)"
      ]
    },
    {
      "cell_type": "markdown",
      "metadata": {
        "id": "NkvvlwdNpxte"
      },
      "source": [
        "- ROC Curve"
      ]
    },
    {
      "cell_type": "code",
      "execution_count": null,
      "metadata": {
        "id": "kmvP1aIFpxrW"
      },
      "outputs": [],
      "source": [
        "pred_tree = tree.predict_proba(x_test)[:,1]"
      ]
    },
    {
      "cell_type": "code",
      "execution_count": null,
      "metadata": {
        "colab": {
          "base_uri": "https://localhost:8080/",
          "height": 279
        },
        "id": "P6jw52KJdL4h",
        "outputId": "a5e3ccf2-39f4-4ac1-c04e-3477bb8a795a"
      },
      "outputs": [
        {
          "data": {
            "image/png": "[encoded data removed]",
            "text/plain": [
              "<Figure size 640x480 with 1 Axes>"
            ]
          },
          "metadata": {},
          "output_type": "display_data"
        }
      ],
      "source": [
        "from sklearn.metrics import RocCurveDisplay\n",
        "fig,ax = plt.subplots()\n",
        "RocCurveDisplay.from_predictions(y_test,pred_tree, ax=ax)\n",
        "plt.show()"
      ]
    },
    {
      "cell_type": "markdown",
      "metadata": {
        "id": "cBvhwEP_d2vo"
      },
      "source": [
        "## AUROC (ROC AUC) \n",
        "- Roc Curved의 밑부분 면적 \n",
        "- 넓을수록 모형 성능이 좋다 (1에 가까울수록 좋다)\n",
        "- 임계값이 어떻게 선택되었는지와 무관하게 모델의 예측 품질을 측정 할수 있다\n",
        "- Poor model(0.5 ~ 0.7)\n",
        "- Fare model(0.7 ~ 0.8)\n",
        "- Good model(0.8 ~ 0.9)\n",
        "- Excellent model (0.9~1.0)"
      ]
    },
    {
      "cell_type": "markdown",
      "metadata": {
        "id": "iR6ag5oLgChF"
      },
      "source": [
        "# 다중분류 Metric"
      ]
    },
    {
      "cell_type": "markdown",
      "metadata": {
        "id": "gV0Nw-IXf2mv"
      },
      "source": [
        "## F1-score (다중분류)\n",
        "- micro\n",
        "    - 전체 클래스의 대하여 TP/FP/FN 구한뒤에 F1-score 계산\n",
        "- macro\n",
        "    - 각 클래스 대하여 F1-score 구한뒤 산술 평균\n",
        "- weighted\n",
        "    - 각 클래스의 대하여 F1-score 구한뒤 각 클래스가 차지하는 비율에 따라 가중평균\n",
        "    \n"
      ]
    },
    {
      "cell_type": "code",
      "execution_count": null,
      "metadata": {
        "colab": {
          "base_uri": "https://localhost:8080/"
        },
        "id": "uGU0Lt13f-Yo",
        "outputId": "3dc9594b-b15b-4c83-c809-39854522154f"
      },
      "outputs": [
        {
          "data": {
            "text/plain": [
              "((1347, 64), (450, 64), (1347,), (450,))"
            ]
          },
          "execution_count": 52,
          "metadata": {},
          "output_type": "execute_result"
        }
      ],
      "source": [
        "digits = load_digits()\n",
        "\n",
        "data = digits.data\n",
        "target = digits.target\n",
        "\n",
        "x_train,x_test,y_train,y_test= train_test_split(data,target,random_state=SEED)\n",
        "\n",
        "x_train.shape, x_test.shape, y_train.shape, y_test.shape"
      ]
    },
    {
      "cell_type": "code",
      "execution_count": null,
      "metadata": {
        "colab": {
          "base_uri": "https://localhost:8080/"
        },
        "id": "CS8ymah-hPkA",
        "outputId": "1e847808-1e6f-46b2-f782-7061a00a061e"
      },
      "outputs": [
        {
          "data": {
            "text/plain": [
              "(array([0, 1, 2, 3, 4, 5, 6, 7, 8, 9]), array([0, 1, 2, 3, 4, 5, 6, 7, 8, 9]))"
            ]
          },
          "execution_count": 53,
          "metadata": {},
          "output_type": "execute_result"
        }
      ],
      "source": [
        "np.unique(y_train) , np.unique(y_test)"
      ]
    },
    {
      "cell_type": "code",
      "execution_count": null,
      "metadata": {
        "colab": {
          "base_uri": "https://localhost:8080/"
        },
        "id": "uGyVuA18hubI",
        "outputId": "068d237e-7f17-4f44-dccd-ab048d7bbe3c"
      },
      "outputs": [
        {
          "data": {
            "text/plain": [
              "array([7, 3, 7, 6, 8, 8, 4, 3, 6, 3, 7, 8, 2, 3, 4, 3, 3, 7, 8, 4, 0, 3,\n",
              "       3, 1, 3, 6, 6, 0, 4, 4, 8, 8, 8, 3, 8, 2, 7, 6, 5, 8, 6, 4, 4, 0,\n",
              "       3, 8, 3, 8, 4, 1, 4, 8, 8, 6, 3, 8, 9, 3, 9, 0, 8, 3, 8, 8, 8, 1,\n",
              "       3, 3, 8, 2, 3, 6, 9, 5, 6, 8, 3, 2, 1, 3, 8, 1, 3, 3, 8, 7, 7, 8,\n",
              "       8, 8, 6, 8, 3, 3, 6, 4, 5, 8, 2, 4, 9, 1, 7, 6, 5, 7, 8, 4, 8, 0,\n",
              "       7, 6, 1, 2, 9, 5, 1, 5, 0, 3, 2, 7, 6, 4, 8, 8, 8, 8, 6, 9, 6, 2,\n",
              "       5, 4, 7, 5, 0, 8, 8, 0, 5, 6, 8, 6, 3, 8, 3, 8, 0, 4, 4, 3, 5, 4,\n",
              "       6, 8, 1, 1, 6, 1, 7, 9, 0, 8, 9, 5, 4, 1, 3, 8, 6, 4, 7, 8, 5, 8,\n",
              "       4, 8, 4, 2, 8, 8, 8, 8, 4, 2, 3, 5, 6, 3, 4, 5, 5, 3, 3, 3, 1, 1,\n",
              "       8, 0, 8, 2, 9, 6, 8, 4, 6, 8, 3, 3, 1, 0, 8, 8, 8, 5, 6, 8, 7, 1,\n",
              "       8, 3, 4, 3, 7, 0, 5, 5, 6, 8, 3, 0, 5, 8, 8, 0, 9, 3, 6, 7, 8, 4,\n",
              "       1, 0, 5, 8, 5, 8, 6, 4, 8, 8, 8, 6, 4, 4, 6, 3, 8, 8, 8, 6, 5, 8,\n",
              "       3, 7, 7, 0, 8, 0, 4, 3, 1, 2, 7, 3, 8, 5, 9, 5, 8, 0, 4, 8, 4, 3,\n",
              "       4, 0, 7, 7, 8, 5, 3, 5, 3, 8, 7, 5, 5, 8, 7, 0, 8, 3, 1, 7, 9, 8,\n",
              "       5, 0, 2, 0, 5, 7, 0, 9, 5, 5, 3, 6, 3, 8, 3, 3, 1, 3, 8, 3, 3, 4,\n",
              "       3, 4, 8, 1, 2, 8, 5, 0, 3, 8, 1, 8, 3, 5, 8, 6, 3, 4, 1, 5, 0, 5,\n",
              "       1, 6, 3, 2, 5, 0, 9, 3, 6, 0, 8, 6, 0, 0, 8, 8, 0, 8, 4, 6, 5, 0,\n",
              "       3, 5, 6, 8, 6, 4, 8, 8, 2, 9, 9, 7, 3, 8, 6, 3, 8, 6, 1, 7, 0, 6,\n",
              "       6, 8, 3, 2, 3, 8, 0, 8, 1, 5, 6, 8, 2, 8, 8, 6, 4, 0, 0, 3, 8, 0,\n",
              "       5, 7, 6, 7, 6, 4, 3, 6, 7, 8, 9, 2, 4, 3, 8, 3, 8, 8, 3, 3, 1, 3,\n",
              "       9, 1, 9, 8, 7, 2, 8, 5, 8, 8])"
            ]
          },
          "execution_count": 54,
          "metadata": {},
          "output_type": "execute_result"
        }
      ],
      "source": [
        "tree = DecisionTreeClassifier(max_depth= 5 ,random_state=SEED)\n",
        "tree.fit(x_train,y_train)\n",
        "pred = tree.predict(x_test)\n",
        "pred"
      ]
    },
    {
      "cell_type": "code",
      "execution_count": null,
      "metadata": {
        "colab": {
          "base_uri": "https://localhost:8080/"
        },
        "id": "plKPlwUeiMN_",
        "outputId": "10a39cde-c06e-4be2-d8c9-1173b6c493c0"
      },
      "outputs": [
        {
          "name": "stdout",
          "output_type": "stream",
          "text": [
            "##F1-score-multiple##\n",
            "              precision    recall  f1-score   support\n",
            "\n",
            "           0       0.97      0.97      0.97        37\n",
            "           1       0.61      0.36      0.45        47\n",
            "           2       0.70      0.29      0.41        49\n",
            "           3       0.52      0.86      0.65        44\n",
            "           4       0.95      0.75      0.84        52\n",
            "           5       0.95      0.82      0.88        49\n",
            "           6       0.90      0.96      0.92        45\n",
            "           7       0.88      0.70      0.78        40\n",
            "           8       0.34      0.86      0.48        43\n",
            "           9       0.74      0.32      0.44        44\n",
            "\n",
            "    accuracy                           0.68       450\n",
            "   macro avg       0.75      0.69      0.68       450\n",
            "weighted avg       0.76      0.68      0.68       450\n",
            "\n"
          ]
        }
      ],
      "source": [
        "print(\"##F1-score-multiple##\")\n",
        "print(classification_report(y_test,pred))\n"
      ]
    },
    {
      "cell_type": "code",
      "execution_count": null,
      "metadata": {
        "colab": {
          "base_uri": "https://localhost:8080/"
        },
        "id": "aaqHSARRiexA",
        "outputId": "11d69dc8-6cc5-42ff-de80-5b42f746b73f"
      },
      "outputs": [
        {
          "data": {
            "text/plain": [
              "0.68"
            ]
          },
          "execution_count": 57,
          "metadata": {},
          "output_type": "execute_result"
        }
      ],
      "source": [
        "f1_score(y_test,pred,average=\"micro\")"
      ]
    },
    {
      "cell_type": "code",
      "execution_count": null,
      "metadata": {
        "colab": {
          "base_uri": "https://localhost:8080/"
        },
        "id": "1BkQ2axkjm0v",
        "outputId": "5e017462-a1dc-4d36-b992-7b01704fdb43"
      },
      "outputs": [
        {
          "data": {
            "text/plain": [
              "0.6830120149605341"
            ]
          },
          "execution_count": 58,
          "metadata": {},
          "output_type": "execute_result"
        }
      ],
      "source": [
        "f1_score(y_test,pred,average=\"macro\")"
      ]
    },
    {
      "cell_type": "code",
      "execution_count": null,
      "metadata": {
        "colab": {
          "base_uri": "https://localhost:8080/"
        },
        "id": "nSXlpbAvjnNg",
        "outputId": "8cc205ae-4bc3-4fb8-bf68-92c46bc060c4"
      },
      "outputs": [
        {
          "data": {
            "text/plain": [
              "0.6789748956333231"
            ]
          },
          "execution_count": 59,
          "metadata": {},
          "output_type": "execute_result"
        }
      ],
      "source": [
        "f1_score(y_test,pred,average=\"weighted\")"
      ]
    },
    {
      "cell_type": "code",
      "execution_count": null,
      "metadata": {
        "id": "PB1LyJOMgChG"
      },
      "outputs": [],
      "source": []
    },
    {
      "cell_type": "markdown",
      "metadata": {
        "id": "8-A-grBnjrR3"
      },
      "source": [
        "- 소프트맥스 함수(Softmax Function)\n",
        "$$\n",
        "softmax(z) = \\frac{e^{z_{i}}}{\\sum_{j=1}^K e^{z_{j}}} \\ \\ \\ for\\ i=1,2,\\dots,K\n",
        "$$\n",
        "    - 각클래스에 대한 확률을 출력\n",
        "    - 입력받은 값들을 0~1사이의 값들로 모두 정규화하면 출력값들의 합은 항상 1이 되는 특성을 가진 함수"
      ]
    },
    {
      "cell_type": "code",
      "execution_count": null,
      "metadata": {
        "colab": {
          "base_uri": "https://localhost:8080/"
        },
        "id": "SvYJuoero0TS",
        "outputId": "2e72c368-3076-4964-c958-09d0951befe3"
      },
      "outputs": [
        {
          "data": {
            "text/plain": [
              "array([1., 1., 1., 1., 1., 1., 1., 1., 1., 1., 1., 1., 1., 1., 1., 1., 1.,\n",
              "       1., 1., 1., 1., 1., 1., 1., 1., 1., 1., 1., 1., 1., 1., 1., 1., 1.,\n",
              "       1., 1., 1., 1., 1., 1., 1., 1., 1., 1., 1., 1., 1., 1., 1., 1., 1.,\n",
              "       1., 1., 1., 1., 1., 1., 1., 1., 1., 1., 1., 1., 1., 1., 1., 1., 1.,\n",
              "       1., 1., 1., 1., 1., 1., 1., 1., 1., 1., 1., 1., 1., 1., 1., 1., 1.,\n",
              "       1., 1., 1., 1., 1., 1., 1., 1., 1., 1., 1., 1., 1., 1., 1., 1., 1.,\n",
              "       1., 1., 1., 1., 1., 1., 1., 1., 1., 1., 1., 1., 1., 1., 1., 1., 1.,\n",
              "       1., 1., 1., 1., 1., 1., 1., 1., 1., 1., 1., 1., 1., 1., 1., 1., 1.,\n",
              "       1., 1., 1., 1., 1., 1., 1., 1., 1., 1., 1., 1., 1., 1., 1., 1., 1.,\n",
              "       1., 1., 1., 1., 1., 1., 1., 1., 1., 1., 1., 1., 1., 1., 1., 1., 1.,\n",
              "       1., 1., 1., 1., 1., 1., 1., 1., 1., 1., 1., 1., 1., 1., 1., 1., 1.,\n",
              "       1., 1., 1., 1., 1., 1., 1., 1., 1., 1., 1., 1., 1., 1., 1., 1., 1.,\n",
              "       1., 1., 1., 1., 1., 1., 1., 1., 1., 1., 1., 1., 1., 1., 1., 1., 1.,\n",
              "       1., 1., 1., 1., 1., 1., 1., 1., 1., 1., 1., 1., 1., 1., 1., 1., 1.,\n",
              "       1., 1., 1., 1., 1., 1., 1., 1., 1., 1., 1., 1., 1., 1., 1., 1., 1.,\n",
              "       1., 1., 1., 1., 1., 1., 1., 1., 1., 1., 1., 1., 1., 1., 1., 1., 1.,\n",
              "       1., 1., 1., 1., 1., 1., 1., 1., 1., 1., 1., 1., 1., 1., 1., 1., 1.,\n",
              "       1., 1., 1., 1., 1., 1., 1., 1., 1., 1., 1., 1., 1., 1., 1., 1., 1.,\n",
              "       1., 1., 1., 1., 1., 1., 1., 1., 1., 1., 1., 1., 1., 1., 1., 1., 1.,\n",
              "       1., 1., 1., 1., 1., 1., 1., 1., 1., 1., 1., 1., 1., 1., 1., 1., 1.,\n",
              "       1., 1., 1., 1., 1., 1., 1., 1., 1., 1., 1., 1., 1., 1., 1., 1., 1.,\n",
              "       1., 1., 1., 1., 1., 1., 1., 1., 1., 1., 1., 1., 1., 1., 1., 1., 1.,\n",
              "       1., 1., 1., 1., 1., 1., 1., 1., 1., 1., 1., 1., 1., 1., 1., 1., 1.,\n",
              "       1., 1., 1., 1., 1., 1., 1., 1., 1., 1., 1., 1., 1., 1., 1., 1., 1.,\n",
              "       1., 1., 1., 1., 1., 1., 1., 1., 1., 1., 1., 1., 1., 1., 1., 1., 1.,\n",
              "       1., 1., 1., 1., 1., 1., 1., 1., 1., 1., 1., 1., 1., 1., 1., 1., 1.,\n",
              "       1., 1., 1., 1., 1., 1., 1., 1.])"
            ]
          },
          "execution_count": 50,
          "metadata": {},
          "output_type": "execute_result"
        }
      ],
      "source": [
        "tree.predict_proba(x_test).sum(axis=1)"
      ]
    },
    {
      "cell_type": "markdown",
      "metadata": {
        "id": "hggje6FGqVpl"
      },
      "source": [
        "- 음의 로그함수\n",
        "    - 1을 넣으면 0이 나온다. 0에 가까운 값을 넣을수록 큰값이 나온다."
      ]
    },
    {
      "cell_type": "markdown",
      "metadata": {
        "id": "274PTAlzqyiM"
      },
      "source": [
        "## Multi classification 에서의 Cross_entropy(logloss)\n",
        "- 모델이 예측한 확률 값을 반영해서 평가\n",
        "- 0에 가까울수록 좋은 모델\n",
        "- 정답에 해당하는 확률값들을 음의 로그함수에 넣어서 나온값들의 평균으로 평가 한다. "
      ]
    },
    {
      "cell_type": "markdown",
      "metadata": {
        "id": "iKe8Qmonsb2g"
      },
      "source": [
        "\n",
        "<img src = \"https://velog.velcdn.com/images%2Fskyepodium%2Fpost%2F70022c68-6383-4fb4-b588-60d220917606%2F%E1%84%89%E1%85%B3%E1%84%8F%E1%85%B3%E1%84%85%E1%85%B5%E1%86%AB%E1%84%89%E1%85%A3%E1%86%BA%202021-05-23%20%E1%84%8B%E1%85%A9%E1%84%92%E1%85%AE%206.51.00.png\" width = \"1000\"></br>\n",
        "<img src = \"https://velog.velcdn.com/images%2Fskyepodium%2Fpost%2F7c785085-fb24-4c7e-93a4-6b8ec79c4c4a%2F%E1%84%89%E1%85%B3%E1%84%8F%E1%85%B3%E1%84%85%E1%85%B5%E1%86%AB%E1%84%89%E1%85%A3%E1%86%BA%202021-05-23%20%E1%84%8B%E1%85%A9%E1%84%92%E1%85%AE%206.18.41.png\" width = \"1000\">\n",
        "\n",
        "- https://velog.io/@skyepodium/logloss-%EC%95%8C%EC%95%84%EB%B3%B4%EA%B8%B0"
      ]
    },
    {
      "cell_type": "code",
      "execution_count": null,
      "metadata": {
        "colab": {
          "base_uri": "https://localhost:8080/"
        },
        "id": "tE2InLgeqVAD",
        "outputId": "182c9fb9-5839-4f2c-9882-8f9f053c3650"
      },
      "outputs": [
        {
          "data": {
            "text/plain": [
              "array([[0.        , 0.        , 0.        , ..., 0.96666667, 0.        ,\n",
              "        0.        ],\n",
              "       [0.        , 0.0745614 , 0.01754386, ..., 0.00877193, 0.07017544,\n",
              "        0.3377193 ],\n",
              "       [0.        , 0.        , 0.        , ..., 0.96666667, 0.        ,\n",
              "        0.        ],\n",
              "       ...,\n",
              "       [0.        , 0.        , 0.        , ..., 0.        , 0.        ,\n",
              "        0.        ],\n",
              "       [0.00301205, 0.20481928, 0.26204819, ..., 0.09337349, 0.3253012 ,\n",
              "        0.03012048],\n",
              "       [0.00301205, 0.20481928, 0.26204819, ..., 0.09337349, 0.3253012 ,\n",
              "        0.03012048]])"
            ]
          },
          "execution_count": 51,
          "metadata": {},
          "output_type": "execute_result"
        }
      ],
      "source": [
        "from sklearn.metrics import log_loss\n",
        "pred = tree.predict_proba(x_test)\n",
        "pred"
      ]
    },
    {
      "cell_type": "code",
      "execution_count": null,
      "metadata": {
        "colab": {
          "base_uri": "https://localhost:8080/"
        },
        "id": "ohjDqNHBsbGa",
        "outputId": "31b2ca2e-1d6a-4abc-f303-4124ef7b7344"
      },
      "outputs": [
        {
          "data": {
            "text/plain": [
              "2.230548531731848"
            ]
          },
          "execution_count": 52,
          "metadata": {},
          "output_type": "execute_result"
        }
      ],
      "source": [
        "log_loss(y_test,pred)"
      ]
    }
  ],
  "metadata": {
    "colab": {
      "provenance": []
    },
    "kernelspec": {
      "display_name": "base",
      "language": "python",
      "name": "python3"
    },
    "language_info": {
      "codemirror_mode": {
        "name": "ipython",
        "version": 3
      },
      "file_extension": ".py",
      "mimetype": "text/x-python",
      "name": "python",
      "nbconvert_exporter": "python",
      "pygments_lexer": "ipython3",
      "version": "3.9.12"
    },
    "vscode": {
      "interpreter": {
        "hash": "80cc27e9a0e8aa59b18a6f502b8a24c9fe77be3bcd87d0900d8763aa62f81a4d"
      }
    }
  },
  "nbformat": 4,
  "nbformat_minor": 0
}
