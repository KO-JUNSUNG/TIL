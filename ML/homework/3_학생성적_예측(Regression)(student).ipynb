{
  "cells": [
    {
      "cell_type": "markdown",
      "metadata": {
        "id": "5SMkguzNXXTz"
      },
      "source": [
        "- https://www.datamanim.com/dataset/03_dataq/typetwo.html#id15"
      ]
    },
    {
      "cell_type": "markdown",
      "metadata": {
        "id": "n9BRr2wrXXT3"
      },
      "source": [
        "# 3. 학생성적 예측 데이터(Regression)\n",
        "\n",
        "> Attention\n",
        "- 데이터 설명 : 학생성적 예측 (종속변수 :G3)\n",
        "- 데이터 출처 : https://www.kaggle.com/datasets/ishandutta/student-performance-data-set (참고, 데이터 수정)\n",
        "- X_train : https://raw.githubusercontent.com/Datamanim/datarepo/main/studentscore/X_train.csv\n",
        "- y_train : https://raw.githubusercontent.com/Datamanim/datarepo/main/studentscore/y_train.csv\n",
        "- X_test : https://raw.githubusercontent.com/Datamanim/datarepo/main/studentscore/X_test.csv\n",
        "- y_test(평가용) : https://raw.githubusercontent.com/Datamanim/datarepo/main/studentscore/y_test.csv"
      ]
    },
    {
      "cell_type": "markdown",
      "metadata": {
        "id": "16fCy9zgXXT5"
      },
      "source": [
        "#### 0. 시험 환경 세팅"
      ]
    },
    {
      "cell_type": "code",
      "execution_count": 1,
      "metadata": {
        "colab": {
          "base_uri": "https://localhost:8080/"
        },
        "id": "Ez5Vovi_XXT5",
        "outputId": "f1a0523a-d586-4762-d750-473bcb1ce330"
      },
      "outputs": [
        {
          "data": {
            "text/plain": [
              "((678, 33), (678, 2), (366, 33), (366, 2))"
            ]
          },
          "execution_count": 1,
          "metadata": {},
          "output_type": "execute_result"
        }
      ],
      "source": [
        "import pandas as pd\n",
        "\n",
        "X_train = pd.read_csv(\"https://raw.githubusercontent.com/Datamanim/datarepo/main/studentscore/X_train.csv\")\n",
        "y_train = pd.read_csv(\"https://raw.githubusercontent.com/Datamanim/datarepo/main/studentscore/y_train.csv\")\n",
        "X_test = pd.read_csv(\"https://raw.githubusercontent.com/Datamanim/datarepo/main/studentscore/X_test.csv\")\n",
        "y_test = pd.read_csv(\"https://raw.githubusercontent.com/Datamanim/datarepo/main/studentscore/y_test.csv\")\n",
        "\n",
        "X_train.shape, y_train.shape, X_test.shape, y_test.shape"
      ]
    },
    {
      "cell_type": "markdown",
      "metadata": {
        "id": "Ewh-7UG5XXT8"
      },
      "source": [
        "#### 1. 라이브러리 및 데이터 호출"
      ]
    },
    {
      "cell_type": "code",
      "execution_count": 2,
      "metadata": {
        "id": "Gsu7mXkjXXT8"
      },
      "outputs": [],
      "source": [
        "import numpy as np\n",
        "import pandas as pd"
      ]
    },
    {
      "cell_type": "code",
      "execution_count": null,
      "metadata": {
        "id": "4wsY4lFBXXT9"
      },
      "outputs": [],
      "source": [
        "# StudentID 제거 \n",
        "# y_train['G3']를 label 데이터로 사용"
      ]
    },
    {
      "cell_type": "code",
      "execution_count": null,
      "metadata": {
        "colab": {
          "base_uri": "https://localhost:8080/",
          "height": 236
        },
        "id": "KLjkdifVaI83",
        "outputId": "24817b7e-17c4-41f7-9694-4e70cdcec594"
      },
      "outputs": [
        {
          "data": {
            "text/html": [
              "\n",
              "  <div id=\"df-72c2c744-db44-43c6-b2cb-f2c95a481f16\">\n",
              "    <div class=\"colab-df-container\">\n",
              "      <div>\n",
              "<style scoped>\n",
              "    .dataframe tbody tr th:only-of-type {\n",
              "        vertical-align: middle;\n",
              "    }\n",
              "\n",
              "    .dataframe tbody tr th {\n",
              "        vertical-align: top;\n",
              "    }\n",
              "\n",
              "    .dataframe thead th {\n",
              "        text-align: right;\n",
              "    }\n",
              "</style>\n",
              "<table border=\"1\" class=\"dataframe\">\n",
              "  <thead>\n",
              "    <tr style=\"text-align: right;\">\n",
              "      <th></th>\n",
              "      <th>StudentID</th>\n",
              "      <th>school</th>\n",
              "      <th>sex</th>\n",
              "      <th>age</th>\n",
              "      <th>address</th>\n",
              "      <th>famsize</th>\n",
              "      <th>Pstatus</th>\n",
              "      <th>Medu</th>\n",
              "      <th>Fedu</th>\n",
              "      <th>Mjob</th>\n",
              "      <th>...</th>\n",
              "      <th>romantic</th>\n",
              "      <th>famrel</th>\n",
              "      <th>freetime</th>\n",
              "      <th>goout</th>\n",
              "      <th>Dalc</th>\n",
              "      <th>Walc</th>\n",
              "      <th>health</th>\n",
              "      <th>absences</th>\n",
              "      <th>G1</th>\n",
              "      <th>G2</th>\n",
              "    </tr>\n",
              "  </thead>\n",
              "  <tbody>\n",
              "    <tr>\n",
              "      <th>0</th>\n",
              "      <td>1714</td>\n",
              "      <td>GP</td>\n",
              "      <td>F</td>\n",
              "      <td>18</td>\n",
              "      <td>U</td>\n",
              "      <td>GT3</td>\n",
              "      <td>T</td>\n",
              "      <td>4</td>\n",
              "      <td>3</td>\n",
              "      <td>other</td>\n",
              "      <td>...</td>\n",
              "      <td>no</td>\n",
              "      <td>4</td>\n",
              "      <td>3</td>\n",
              "      <td>3</td>\n",
              "      <td>1</td>\n",
              "      <td>1</td>\n",
              "      <td>3</td>\n",
              "      <td>0</td>\n",
              "      <td>14</td>\n",
              "      <td>13</td>\n",
              "    </tr>\n",
              "    <tr>\n",
              "      <th>1</th>\n",
              "      <td>1254</td>\n",
              "      <td>GP</td>\n",
              "      <td>F</td>\n",
              "      <td>17</td>\n",
              "      <td>U</td>\n",
              "      <td>GT3</td>\n",
              "      <td>T</td>\n",
              "      <td>4</td>\n",
              "      <td>3</td>\n",
              "      <td>health</td>\n",
              "      <td>...</td>\n",
              "      <td>yes</td>\n",
              "      <td>4</td>\n",
              "      <td>4</td>\n",
              "      <td>3</td>\n",
              "      <td>1</td>\n",
              "      <td>3</td>\n",
              "      <td>4</td>\n",
              "      <td>0</td>\n",
              "      <td>13</td>\n",
              "      <td>15</td>\n",
              "    </tr>\n",
              "    <tr>\n",
              "      <th>2</th>\n",
              "      <td>1639</td>\n",
              "      <td>GP</td>\n",
              "      <td>F</td>\n",
              "      <td>16</td>\n",
              "      <td>R</td>\n",
              "      <td>GT3</td>\n",
              "      <td>T</td>\n",
              "      <td>4</td>\n",
              "      <td>4</td>\n",
              "      <td>health</td>\n",
              "      <td>...</td>\n",
              "      <td>no</td>\n",
              "      <td>2</td>\n",
              "      <td>4</td>\n",
              "      <td>4</td>\n",
              "      <td>2</td>\n",
              "      <td>3</td>\n",
              "      <td>4</td>\n",
              "      <td>6</td>\n",
              "      <td>10</td>\n",
              "      <td>11</td>\n",
              "    </tr>\n",
              "    <tr>\n",
              "      <th>3</th>\n",
              "      <td>1118</td>\n",
              "      <td>GP</td>\n",
              "      <td>M</td>\n",
              "      <td>16</td>\n",
              "      <td>U</td>\n",
              "      <td>GT3</td>\n",
              "      <td>T</td>\n",
              "      <td>4</td>\n",
              "      <td>4</td>\n",
              "      <td>services</td>\n",
              "      <td>...</td>\n",
              "      <td>no</td>\n",
              "      <td>5</td>\n",
              "      <td>3</td>\n",
              "      <td>3</td>\n",
              "      <td>1</td>\n",
              "      <td>3</td>\n",
              "      <td>5</td>\n",
              "      <td>0</td>\n",
              "      <td>15</td>\n",
              "      <td>13</td>\n",
              "    </tr>\n",
              "    <tr>\n",
              "      <th>4</th>\n",
              "      <td>1499</td>\n",
              "      <td>GP</td>\n",
              "      <td>M</td>\n",
              "      <td>19</td>\n",
              "      <td>U</td>\n",
              "      <td>GT3</td>\n",
              "      <td>T</td>\n",
              "      <td>3</td>\n",
              "      <td>2</td>\n",
              "      <td>services</td>\n",
              "      <td>...</td>\n",
              "      <td>yes</td>\n",
              "      <td>4</td>\n",
              "      <td>5</td>\n",
              "      <td>4</td>\n",
              "      <td>1</td>\n",
              "      <td>1</td>\n",
              "      <td>4</td>\n",
              "      <td>0</td>\n",
              "      <td>5</td>\n",
              "      <td>0</td>\n",
              "    </tr>\n",
              "  </tbody>\n",
              "</table>\n",
              "<p>5 rows × 33 columns</p>\n",
              "</div>\n",
              "      <button class=\"colab-df-convert\" onclick=\"convertToInteractive('df-72c2c744-db44-43c6-b2cb-f2c95a481f16')\"\n",
              "              title=\"Convert this dataframe to an interactive table.\"\n",
              "              style=\"display:none;\">\n",
              "        \n",
              "  <svg xmlns=\"http://www.w3.org/2000/svg\" height=\"24px\"viewBox=\"0 0 24 24\"\n",
              "       width=\"24px\">\n",
              "    <path d=\"M0 0h24v24H0V0z\" fill=\"none\"/>\n",
              "    <path d=\"M18.56 5.44l.94 2.06.94-2.06 2.06-.94-2.06-.94-.94-2.06-.94 2.06-2.06.94zm-11 1L8.5 8.5l.94-2.06 2.06-.94-2.06-.94L8.5 2.5l-.94 2.06-2.06.94zm10 10l.94 2.06.94-2.06 2.06-.94-2.06-.94-.94-2.06-.94 2.06-2.06.94z\"/><path d=\"M17.41 7.96l-1.37-1.37c-.4-.4-.92-.59-1.43-.59-.52 0-1.04.2-1.43.59L10.3 9.45l-7.72 7.72c-.78.78-.78 2.05 0 2.83L4 21.41c.39.39.9.59 1.41.59.51 0 1.02-.2 1.41-.59l7.78-7.78 2.81-2.81c.8-.78.8-2.07 0-2.86zM5.41 20L4 18.59l7.72-7.72 1.47 1.35L5.41 20z\"/>\n",
              "  </svg>\n",
              "      </button>\n",
              "      \n",
              "  <style>\n",
              "    .colab-df-container {\n",
              "      display:flex;\n",
              "      flex-wrap:wrap;\n",
              "      gap: 12px;\n",
              "    }\n",
              "\n",
              "    .colab-df-convert {\n",
              "      background-color: #E8F0FE;\n",
              "      border: none;\n",
              "      border-radius: 50%;\n",
              "      cursor: pointer;\n",
              "      display: none;\n",
              "      fill: #1967D2;\n",
              "      height: 32px;\n",
              "      padding: 0 0 0 0;\n",
              "      width: 32px;\n",
              "    }\n",
              "\n",
              "    .colab-df-convert:hover {\n",
              "      background-color: #E2EBFA;\n",
              "      box-shadow: 0px 1px 2px rgba(60, 64, 67, 0.3), 0px 1px 3px 1px rgba(60, 64, 67, 0.15);\n",
              "      fill: #174EA6;\n",
              "    }\n",
              "\n",
              "    [theme=dark] .colab-df-convert {\n",
              "      background-color: #3B4455;\n",
              "      fill: #D2E3FC;\n",
              "    }\n",
              "\n",
              "    [theme=dark] .colab-df-convert:hover {\n",
              "      background-color: #434B5C;\n",
              "      box-shadow: 0px 1px 3px 1px rgba(0, 0, 0, 0.15);\n",
              "      filter: drop-shadow(0px 1px 2px rgba(0, 0, 0, 0.3));\n",
              "      fill: #FFFFFF;\n",
              "    }\n",
              "  </style>\n",
              "\n",
              "      <script>\n",
              "        const buttonEl =\n",
              "          document.querySelector('#df-72c2c744-db44-43c6-b2cb-f2c95a481f16 button.colab-df-convert');\n",
              "        buttonEl.style.display =\n",
              "          google.colab.kernel.accessAllowed ? 'block' : 'none';\n",
              "\n",
              "        async function convertToInteractive(key) {\n",
              "          const element = document.querySelector('#df-72c2c744-db44-43c6-b2cb-f2c95a481f16');\n",
              "          const dataTable =\n",
              "            await google.colab.kernel.invokeFunction('convertToInteractive',\n",
              "                                                     [key], {});\n",
              "          if (!dataTable) return;\n",
              "\n",
              "          const docLinkHtml = 'Like what you see? Visit the ' +\n",
              "            '<a target=\"_blank\" href=https://colab.research.google.com/notebooks/data_table.ipynb>data table notebook</a>'\n",
              "            + ' to learn more about interactive tables.';\n",
              "          element.innerHTML = '';\n",
              "          dataTable['output_type'] = 'display_data';\n",
              "          await google.colab.output.renderOutput(dataTable, element);\n",
              "          const docLink = document.createElement('div');\n",
              "          docLink.innerHTML = docLinkHtml;\n",
              "          element.appendChild(docLink);\n",
              "        }\n",
              "      </script>\n",
              "    </div>\n",
              "  </div>\n",
              "  "
            ],
            "text/plain": [
              "   StudentID school sex  age address famsize Pstatus  Medu  Fedu      Mjob  \\\n",
              "0       1714     GP   F   18       U     GT3       T     4     3     other   \n",
              "1       1254     GP   F   17       U     GT3       T     4     3    health   \n",
              "2       1639     GP   F   16       R     GT3       T     4     4    health   \n",
              "3       1118     GP   M   16       U     GT3       T     4     4  services   \n",
              "4       1499     GP   M   19       U     GT3       T     3     2  services   \n",
              "\n",
              "   ... romantic famrel freetime  goout  Dalc  Walc health absences  G1  G2  \n",
              "0  ...       no      4        3      3     1     1      3        0  14  13  \n",
              "1  ...      yes      4        4      3     1     3      4        0  13  15  \n",
              "2  ...       no      2        4      4     2     3      4        6  10  11  \n",
              "3  ...       no      5        3      3     1     3      5        0  15  13  \n",
              "4  ...      yes      4        5      4     1     1      4        0   5   0  \n",
              "\n",
              "[5 rows x 33 columns]"
            ]
          },
          "execution_count": 3,
          "metadata": {},
          "output_type": "execute_result"
        }
      ],
      "source": [
        "X_train.head()"
      ]
    },
    {
      "cell_type": "code",
      "execution_count": null,
      "metadata": {
        "colab": {
          "base_uri": "https://localhost:8080/",
          "height": 206
        },
        "id": "6xNXwJtFaatH",
        "outputId": "f2d78b97-ebda-43b9-e0b1-762fdb3d10f9"
      },
      "outputs": [
        {
          "data": {
            "text/html": [
              "\n",
              "  <div id=\"df-45529dd2-5b68-4056-bd11-6597fe405c00\">\n",
              "    <div class=\"colab-df-container\">\n",
              "      <div>\n",
              "<style scoped>\n",
              "    .dataframe tbody tr th:only-of-type {\n",
              "        vertical-align: middle;\n",
              "    }\n",
              "\n",
              "    .dataframe tbody tr th {\n",
              "        vertical-align: top;\n",
              "    }\n",
              "\n",
              "    .dataframe thead th {\n",
              "        text-align: right;\n",
              "    }\n",
              "</style>\n",
              "<table border=\"1\" class=\"dataframe\">\n",
              "  <thead>\n",
              "    <tr style=\"text-align: right;\">\n",
              "      <th></th>\n",
              "      <th>StudentID</th>\n",
              "      <th>G3</th>\n",
              "    </tr>\n",
              "  </thead>\n",
              "  <tbody>\n",
              "    <tr>\n",
              "      <th>0</th>\n",
              "      <td>1714</td>\n",
              "      <td>14</td>\n",
              "    </tr>\n",
              "    <tr>\n",
              "      <th>1</th>\n",
              "      <td>1254</td>\n",
              "      <td>15</td>\n",
              "    </tr>\n",
              "    <tr>\n",
              "      <th>2</th>\n",
              "      <td>1639</td>\n",
              "      <td>11</td>\n",
              "    </tr>\n",
              "    <tr>\n",
              "      <th>3</th>\n",
              "      <td>1118</td>\n",
              "      <td>13</td>\n",
              "    </tr>\n",
              "    <tr>\n",
              "      <th>4</th>\n",
              "      <td>1499</td>\n",
              "      <td>0</td>\n",
              "    </tr>\n",
              "  </tbody>\n",
              "</table>\n",
              "</div>\n",
              "      <button class=\"colab-df-convert\" onclick=\"convertToInteractive('df-45529dd2-5b68-4056-bd11-6597fe405c00')\"\n",
              "              title=\"Convert this dataframe to an interactive table.\"\n",
              "              style=\"display:none;\">\n",
              "        \n",
              "  <svg xmlns=\"http://www.w3.org/2000/svg\" height=\"24px\"viewBox=\"0 0 24 24\"\n",
              "       width=\"24px\">\n",
              "    <path d=\"M0 0h24v24H0V0z\" fill=\"none\"/>\n",
              "    <path d=\"M18.56 5.44l.94 2.06.94-2.06 2.06-.94-2.06-.94-.94-2.06-.94 2.06-2.06.94zm-11 1L8.5 8.5l.94-2.06 2.06-.94-2.06-.94L8.5 2.5l-.94 2.06-2.06.94zm10 10l.94 2.06.94-2.06 2.06-.94-2.06-.94-.94-2.06-.94 2.06-2.06.94z\"/><path d=\"M17.41 7.96l-1.37-1.37c-.4-.4-.92-.59-1.43-.59-.52 0-1.04.2-1.43.59L10.3 9.45l-7.72 7.72c-.78.78-.78 2.05 0 2.83L4 21.41c.39.39.9.59 1.41.59.51 0 1.02-.2 1.41-.59l7.78-7.78 2.81-2.81c.8-.78.8-2.07 0-2.86zM5.41 20L4 18.59l7.72-7.72 1.47 1.35L5.41 20z\"/>\n",
              "  </svg>\n",
              "      </button>\n",
              "      \n",
              "  <style>\n",
              "    .colab-df-container {\n",
              "      display:flex;\n",
              "      flex-wrap:wrap;\n",
              "      gap: 12px;\n",
              "    }\n",
              "\n",
              "    .colab-df-convert {\n",
              "      background-color: #E8F0FE;\n",
              "      border: none;\n",
              "      border-radius: 50%;\n",
              "      cursor: pointer;\n",
              "      display: none;\n",
              "      fill: #1967D2;\n",
              "      height: 32px;\n",
              "      padding: 0 0 0 0;\n",
              "      width: 32px;\n",
              "    }\n",
              "\n",
              "    .colab-df-convert:hover {\n",
              "      background-color: #E2EBFA;\n",
              "      box-shadow: 0px 1px 2px rgba(60, 64, 67, 0.3), 0px 1px 3px 1px rgba(60, 64, 67, 0.15);\n",
              "      fill: #174EA6;\n",
              "    }\n",
              "\n",
              "    [theme=dark] .colab-df-convert {\n",
              "      background-color: #3B4455;\n",
              "      fill: #D2E3FC;\n",
              "    }\n",
              "\n",
              "    [theme=dark] .colab-df-convert:hover {\n",
              "      background-color: #434B5C;\n",
              "      box-shadow: 0px 1px 3px 1px rgba(0, 0, 0, 0.15);\n",
              "      filter: drop-shadow(0px 1px 2px rgba(0, 0, 0, 0.3));\n",
              "      fill: #FFFFFF;\n",
              "    }\n",
              "  </style>\n",
              "\n",
              "      <script>\n",
              "        const buttonEl =\n",
              "          document.querySelector('#df-45529dd2-5b68-4056-bd11-6597fe405c00 button.colab-df-convert');\n",
              "        buttonEl.style.display =\n",
              "          google.colab.kernel.accessAllowed ? 'block' : 'none';\n",
              "\n",
              "        async function convertToInteractive(key) {\n",
              "          const element = document.querySelector('#df-45529dd2-5b68-4056-bd11-6597fe405c00');\n",
              "          const dataTable =\n",
              "            await google.colab.kernel.invokeFunction('convertToInteractive',\n",
              "                                                     [key], {});\n",
              "          if (!dataTable) return;\n",
              "\n",
              "          const docLinkHtml = 'Like what you see? Visit the ' +\n",
              "            '<a target=\"_blank\" href=https://colab.research.google.com/notebooks/data_table.ipynb>data table notebook</a>'\n",
              "            + ' to learn more about interactive tables.';\n",
              "          element.innerHTML = '';\n",
              "          dataTable['output_type'] = 'display_data';\n",
              "          await google.colab.output.renderOutput(dataTable, element);\n",
              "          const docLink = document.createElement('div');\n",
              "          docLink.innerHTML = docLinkHtml;\n",
              "          element.appendChild(docLink);\n",
              "        }\n",
              "      </script>\n",
              "    </div>\n",
              "  </div>\n",
              "  "
            ],
            "text/plain": [
              "   StudentID  G3\n",
              "0       1714  14\n",
              "1       1254  15\n",
              "2       1639  11\n",
              "3       1118  13\n",
              "4       1499   0"
            ]
          },
          "execution_count": 4,
          "metadata": {},
          "output_type": "execute_result"
        }
      ],
      "source": [
        "y_train.head()"
      ]
    },
    {
      "cell_type": "code",
      "execution_count": 3,
      "metadata": {
        "id": "v_jnZGuGXXT9"
      },
      "outputs": [],
      "source": [
        "del X_train[\"StudentID\"]\n",
        "del X_test[\"StudentID\"]\n",
        "y_train=y_train[\"G3\"]\n",
        "y_test=y_test[\"G3\"]"
      ]
    },
    {
      "cell_type": "markdown",
      "metadata": {
        "id": "ujJ_smehXXT-"
      },
      "source": [
        "#### 2. EDA"
      ]
    },
    {
      "cell_type": "code",
      "execution_count": null,
      "metadata": {
        "id": "DBoxYbCWXXT-"
      },
      "outputs": [],
      "source": [
        "# null 값 확인\n",
        "# column Dtype 확인\n",
        "\n",
        "# Dtype 이 object인 column과 object가 아닌 column으로 분리 (범주형 vs 연속형)"
      ]
    },
    {
      "cell_type": "code",
      "execution_count": null,
      "metadata": {
        "colab": {
          "base_uri": "https://localhost:8080/"
        },
        "id": "EFDKtjhRXXT_",
        "outputId": "714f8015-d859-4939-aa45-a4c5e2ebf3db"
      },
      "outputs": [
        {
          "name": "stdout",
          "output_type": "stream",
          "text": [
            "school        0\n",
            "sex           0\n",
            "age           0\n",
            "address       0\n",
            "famsize       0\n",
            "Pstatus       0\n",
            "Medu          0\n",
            "Fedu          0\n",
            "Mjob          0\n",
            "Fjob          0\n",
            "reason        0\n",
            "guardian      0\n",
            "traveltime    0\n",
            "studytime     0\n",
            "failures      0\n",
            "schoolsup     0\n",
            "famsup        0\n",
            "paid          0\n",
            "activities    0\n",
            "nursery       0\n",
            "higher        0\n",
            "internet      0\n",
            "romantic      0\n",
            "famrel        0\n",
            "freetime      0\n",
            "goout         0\n",
            "Dalc          0\n",
            "Walc          0\n",
            "health        0\n",
            "absences      0\n",
            "G1            0\n",
            "G2            0\n",
            "dtype: int64\n",
            "<class 'pandas.core.frame.DataFrame'>\n",
            "RangeIndex: 678 entries, 0 to 677\n",
            "Data columns (total 32 columns):\n",
            " #   Column      Non-Null Count  Dtype \n",
            "---  ------      --------------  ----- \n",
            " 0   school      678 non-null    object\n",
            " 1   sex         678 non-null    object\n",
            " 2   age         678 non-null    int64 \n",
            " 3   address     678 non-null    object\n",
            " 4   famsize     678 non-null    object\n",
            " 5   Pstatus     678 non-null    object\n",
            " 6   Medu        678 non-null    int64 \n",
            " 7   Fedu        678 non-null    int64 \n",
            " 8   Mjob        678 non-null    object\n",
            " 9   Fjob        678 non-null    object\n",
            " 10  reason      678 non-null    object\n",
            " 11  guardian    678 non-null    object\n",
            " 12  traveltime  678 non-null    int64 \n",
            " 13  studytime   678 non-null    int64 \n",
            " 14  failures    678 non-null    int64 \n",
            " 15  schoolsup   678 non-null    object\n",
            " 16  famsup      678 non-null    object\n",
            " 17  paid        678 non-null    object\n",
            " 18  activities  678 non-null    object\n",
            " 19  nursery     678 non-null    object\n",
            " 20  higher      678 non-null    object\n",
            " 21  internet    678 non-null    object\n",
            " 22  romantic    678 non-null    object\n",
            " 23  famrel      678 non-null    int64 \n",
            " 24  freetime    678 non-null    int64 \n",
            " 25  goout       678 non-null    int64 \n",
            " 26  Dalc        678 non-null    int64 \n",
            " 27  Walc        678 non-null    int64 \n",
            " 28  health      678 non-null    int64 \n",
            " 29  absences    678 non-null    int64 \n",
            " 30  G1          678 non-null    int64 \n",
            " 31  G2          678 non-null    int64 \n",
            "dtypes: int64(15), object(17)\n",
            "memory usage: 169.6+ KB\n",
            "None\n"
          ]
        }
      ],
      "source": [
        "print(X_train.isnull().sum())\n",
        "print(X_train.info())"
      ]
    },
    {
      "cell_type": "code",
      "execution_count": null,
      "metadata": {
        "colab": {
          "base_uri": "https://localhost:8080/"
        },
        "id": "O-Wsp8VRdddz",
        "outputId": "dd977205-5664-4c89-a84d-20b61bcfa18c"
      },
      "outputs": [
        {
          "name": "stdout",
          "output_type": "stream",
          "text": [
            "school        0\n",
            "sex           0\n",
            "age           0\n",
            "address       0\n",
            "famsize       0\n",
            "Pstatus       0\n",
            "Medu          0\n",
            "Fedu          0\n",
            "Mjob          0\n",
            "Fjob          0\n",
            "reason        0\n",
            "guardian      0\n",
            "traveltime    0\n",
            "studytime     0\n",
            "failures      0\n",
            "schoolsup     0\n",
            "famsup        0\n",
            "paid          0\n",
            "activities    0\n",
            "nursery       0\n",
            "higher        0\n",
            "internet      0\n",
            "romantic      0\n",
            "famrel        0\n",
            "freetime      0\n",
            "goout         0\n",
            "Dalc          0\n",
            "Walc          0\n",
            "health        0\n",
            "absences      0\n",
            "G1            0\n",
            "G2            0\n",
            "dtype: int64\n",
            "<class 'pandas.core.frame.DataFrame'>\n",
            "RangeIndex: 678 entries, 0 to 677\n",
            "Data columns (total 32 columns):\n",
            " #   Column      Non-Null Count  Dtype \n",
            "---  ------      --------------  ----- \n",
            " 0   school      678 non-null    object\n",
            " 1   sex         678 non-null    object\n",
            " 2   age         678 non-null    int64 \n",
            " 3   address     678 non-null    object\n",
            " 4   famsize     678 non-null    object\n",
            " 5   Pstatus     678 non-null    object\n",
            " 6   Medu        678 non-null    int64 \n",
            " 7   Fedu        678 non-null    int64 \n",
            " 8   Mjob        678 non-null    object\n",
            " 9   Fjob        678 non-null    object\n",
            " 10  reason      678 non-null    object\n",
            " 11  guardian    678 non-null    object\n",
            " 12  traveltime  678 non-null    int64 \n",
            " 13  studytime   678 non-null    int64 \n",
            " 14  failures    678 non-null    int64 \n",
            " 15  schoolsup   678 non-null    object\n",
            " 16  famsup      678 non-null    object\n",
            " 17  paid        678 non-null    object\n",
            " 18  activities  678 non-null    object\n",
            " 19  nursery     678 non-null    object\n",
            " 20  higher      678 non-null    object\n",
            " 21  internet    678 non-null    object\n",
            " 22  romantic    678 non-null    object\n",
            " 23  famrel      678 non-null    int64 \n",
            " 24  freetime    678 non-null    int64 \n",
            " 25  goout       678 non-null    int64 \n",
            " 26  Dalc        678 non-null    int64 \n",
            " 27  Walc        678 non-null    int64 \n",
            " 28  health      678 non-null    int64 \n",
            " 29  absences    678 non-null    int64 \n",
            " 30  G1          678 non-null    int64 \n",
            " 31  G2          678 non-null    int64 \n",
            "dtypes: int64(15), object(17)\n",
            "memory usage: 169.6+ KB\n",
            "None\n"
          ]
        }
      ],
      "source": [
        "print(X_train.isnull().sum())\n",
        "print(X_train.info())"
      ]
    },
    {
      "cell_type": "code",
      "execution_count": null,
      "metadata": {
        "colab": {
          "base_uri": "https://localhost:8080/"
        },
        "id": "E2tu4pmZdfP0",
        "outputId": "057b50cd-4a8b-4add-dd3f-7fb9c0589bd8"
      },
      "outputs": [
        {
          "name": "stdout",
          "output_type": "stream",
          "text": [
            "0\n",
            "0\n"
          ]
        }
      ],
      "source": [
        "print(y_train.isnull().sum())\n",
        "print(y_test.isnull().sum())\n"
      ]
    },
    {
      "cell_type": "code",
      "execution_count": null,
      "metadata": {
        "colab": {
          "base_uri": "https://localhost:8080/"
        },
        "id": "UUDKh8EQpu2q",
        "outputId": "a9a8da0d-1302-48cd-c6d6-eecebf9fdcf0"
      },
      "outputs": [
        {
          "data": {
            "text/plain": [
              "18"
            ]
          },
          "execution_count": 38,
          "metadata": {},
          "output_type": "execute_result"
        }
      ],
      "source": [
        "y_train.nunique()"
      ]
    },
    {
      "cell_type": "code",
      "execution_count": 4,
      "metadata": {
        "id": "P_0cMptRdL-C"
      },
      "outputs": [],
      "source": [
        "object_columns=X_train.dtypes[X_train.dtypes==X_train.dtypes[0]] # X_train.dtypes[0] 가 object 형태이기 때문에 이 타입과 일치하는 데이터를 모두 참조"
      ]
    },
    {
      "cell_type": "code",
      "execution_count": null,
      "metadata": {
        "colab": {
          "base_uri": "https://localhost:8080/"
        },
        "id": "NBgM0k-CeLtx",
        "outputId": "f9983517-ef5b-4099-eb97-2ad8e9d6befd"
      },
      "outputs": [
        {
          "data": {
            "text/plain": [
              "Index(['school', 'sex', 'address', 'famsize', 'Pstatus', 'Mjob', 'Fjob',\n",
              "       'reason', 'guardian', 'schoolsup', 'famsup', 'paid', 'activities',\n",
              "       'nursery', 'higher', 'internet', 'romantic'],\n",
              "      dtype='object')"
            ]
          },
          "execution_count": 10,
          "metadata": {},
          "output_type": "execute_result"
        }
      ],
      "source": [
        "object_columns.index"
      ]
    },
    {
      "cell_type": "code",
      "execution_count": null,
      "metadata": {
        "colab": {
          "base_uri": "https://localhost:8080/"
        },
        "id": "1TfYhRVreFKi",
        "outputId": "867fe806-a5d6-4f2f-88d3-d2ad0deafc61"
      },
      "outputs": [
        {
          "data": {
            "text/plain": [
              "Index(['age', 'Medu', 'Fedu', 'traveltime', 'studytime', 'failures', 'famrel',\n",
              "       'freetime', 'goout', 'Dalc', 'Walc', 'health', 'absences', 'G1', 'G2'],\n",
              "      dtype='object')"
            ]
          },
          "execution_count": 11,
          "metadata": {},
          "output_type": "execute_result"
        }
      ],
      "source": [
        "numerous_columns=X_train.dtypes[X_train.dtypes==X_train.dtypes[2]] #연속형\n",
        "numerous_columns.index"
      ]
    },
    {
      "cell_type": "code",
      "execution_count": null,
      "metadata": {
        "colab": {
          "base_uri": "https://localhost:8080/"
        },
        "id": "g1LNRWH_esCQ",
        "outputId": "bfee054e-8c2f-4057-9982-7799e6a9603c"
      },
      "outputs": [
        {
          "name": "stdout",
          "output_type": "stream",
          "text": [
            "school 2\n",
            "sex 2\n",
            "address 2\n",
            "famsize 2\n",
            "Pstatus 2\n",
            "Mjob 5\n",
            "Fjob 5\n",
            "reason 4\n",
            "guardian 3\n",
            "schoolsup 2\n",
            "famsup 2\n",
            "paid 2\n",
            "activities 2\n",
            "nursery 2\n",
            "higher 2\n",
            "internet 2\n",
            "romantic 2\n"
          ]
        }
      ],
      "source": [
        "for i in object_columns.index:\n",
        "  print(i, X_train[i].nunique())"
      ]
    },
    {
      "cell_type": "markdown",
      "metadata": {
        "id": "USQ3-8EmXXT_"
      },
      "source": [
        "#### 3. Preprocessing"
      ]
    },
    {
      "cell_type": "code",
      "execution_count": null,
      "metadata": {
        "id": "FFCJQZyUXXT_"
      },
      "outputs": [],
      "source": [
        "# object가 아닌 column은 StandardScaler를 이용해 정규화\n",
        "# object인 column은 LabelEncoder를 이용해 Encoding"
      ]
    },
    {
      "cell_type": "code",
      "execution_count": 6,
      "metadata": {
        "id": "Nsg14Kf5XXUA"
      },
      "outputs": [],
      "source": [
        "from sklearn.preprocessing import StandardScaler\n",
        "from sklearn.preprocessing import LabelEncoder"
      ]
    },
    {
      "cell_type": "code",
      "execution_count": 7,
      "metadata": {
        "id": "H5HbVBZgf9OM"
      },
      "outputs": [],
      "source": [
        "int_col = X_train.select_dtypes(include=[\"int\", \"float\"]).columns\n",
        "for i in int_col:\n",
        "    ss = StandardScaler()\n",
        "    X_train[i] = ss.fit_transform(X_train[[i]]) # test data 를 이용해 fit -> transform\n",
        "    X_test[i] = ss.transform(X_test[[i]]) # 위에서 이미 fit 되어있기 때문에(=학습을 진행했기 때문에) transform 만 해준다. "
      ]
    },
    {
      "cell_type": "code",
      "execution_count": 8,
      "metadata": {
        "id": "smCHkDC-gYaI"
      },
      "outputs": [],
      "source": [
        "obj_col = X_train.select_dtypes(include=\"object\").columns\n",
        "for i in obj_col:\n",
        "    le = LabelEncoder()\n",
        "    X_train[i] = le.fit_transform(X_train[i])\n",
        "    X_test[i] = le.transform(X_test[i])"
      ]
    },
    {
      "cell_type": "markdown",
      "metadata": {
        "id": "5r483CmTXXUA"
      },
      "source": [
        "#### 4. Modeling"
      ]
    },
    {
      "cell_type": "code",
      "execution_count": null,
      "metadata": {
        "id": "ue1jjwTkXXUA"
      },
      "outputs": [],
      "source": [
        "# model 생성\n",
        "# GridSearchCV 를 이용한 최적의 Parameter 찾기\n",
        "# RandomForestRegressor, GradientBoostingRegressor, XGBRegressor model 을 사용하세요\n",
        "# r2_score의 값을 0.8 이상 인 model을 생성해 보세요 \n",
        "# 인공신경망을 이용한 예측 값은? (DNN)"
      ]
    },
    {
      "cell_type": "code",
      "execution_count": 10,
      "metadata": {
        "id": "Ib-I-X9xXXUA"
      },
      "outputs": [],
      "source": [
        "from sklearn.model_selection import GridSearchCV\n",
        "from sklearn.ensemble import RandomForestRegressor, GradientBoostingRegressor\n",
        "from xgboost import XGBRegressor\n",
        "from sklearn.metrics import mean_squared_error, r2_score"
      ]
    },
    {
      "cell_type": "code",
      "execution_count": 11,
      "metadata": {
        "id": "TVx_vg1iXXUB"
      },
      "outputs": [],
      "source": [
        "rf = RandomForestRegressor(random_state=1)\n",
        "gb = GradientBoostingRegressor(random_state=1)\n",
        "xgb = XGBRegressor(random_state=1)\n",
        "\n",
        "models = [rf, gb, xgb]"
      ]
    },
    {
      "cell_type": "code",
      "execution_count": 12,
      "metadata": {
        "colab": {
          "base_uri": "https://localhost:8080/"
        },
        "id": "tg9QVzlXiYjF",
        "outputId": "9dc05cee-3d4a-4804-ef2e-937034174c7e"
      },
      "outputs": [
        {
          "name": "stdout",
          "output_type": "stream",
          "text": [
            "==========\n",
            "model : RandomForestRegressor(random_state=1)\n",
            "params : {'max_depth': 4, 'n_estimators': 100}\n",
            "score : 0.8580942467116145\n",
            "==========\n",
            "model : GradientBoostingRegressor(random_state=1)\n",
            "params : {'max_depth': 2, 'n_estimators': 100}\n",
            "score : 0.867408518288895\n",
            "==========\n",
            "model : XGBRegressor(base_score=None, booster=None, callbacks=None,\n",
            "             colsample_bylevel=None, colsample_bynode=None,\n",
            "             colsample_bytree=None, early_stopping_rounds=None,\n",
            "             enable_categorical=False, eval_metric=None, feature_types=None,\n",
            "             gamma=None, gpu_id=None, grow_policy=None, importance_type=None,\n",
            "             interaction_constraints=None, learning_rate=None, max_bin=None,\n",
            "             max_cat_threshold=None, max_cat_to_onehot=None,\n",
            "             max_delta_step=None, max_depth=None, max_leaves=None,\n",
            "             min_child_weight=None, missing=nan, monotone_constraints=None,\n",
            "             n_estimators=100, n_jobs=None, num_parallel_tree=None,\n",
            "             predictor=None, random_state=1, ...)\n",
            "params : {'max_depth': 2, 'n_estimators': 100}\n",
            "score : 0.85717066670262\n"
          ]
        }
      ],
      "source": [
        "params = {\"n_estimators\":[100,200,300,400,500], \"max_depth\":[1,2,3,4,5]}\n",
        "best_models = []\n",
        "for model in models:\n",
        "    gs = GridSearchCV(model, param_grid=params, cv = 5, scoring=\"r2\", n_jobs=4)\n",
        "    gs.fit(X_train, y_train)\n",
        "\n",
        "    print(f\"=\"*10)\n",
        "    print(f\"model : {model}\")\n",
        "    print(f\"params : {gs.best_params_}\")\n",
        "    print(f\"score : {gs.best_score_}\")\n",
        "\n",
        "    best_models.append(gs.best_estimator_)"
      ]
    },
    {
      "cell_type": "code",
      "execution_count": 13,
      "metadata": {
        "id": "MFvS5jOZkli1"
      },
      "outputs": [
        {
          "name": "stderr",
          "output_type": "stream",
          "text": [
            "2023-01-03 16:58:08.982767: I tensorflow/core/platform/cpu_feature_guard.cc:193] This TensorFlow binary is optimized with oneAPI Deep Neural Network Library (oneDNN) to use the following CPU instructions in performance-critical operations:  AVX2 FMA\n",
            "To enable them in other operations, rebuild TensorFlow with the appropriate compiler flags.\n",
            "2023-01-03 16:58:10.058060: W tensorflow/compiler/xla/stream_executor/platform/default/dso_loader.cc:64] Could not load dynamic library 'libnvinfer.so.7'; dlerror: libnvinfer.so.7: cannot open shared object file: No such file or directory; LD_LIBRARY_PATH: /usr/local/cuda-11.2/extras/CUPTI/lib64:/usr/local/cuda-11.2/lib64:\n",
            "2023-01-03 16:58:10.060150: W tensorflow/compiler/xla/stream_executor/platform/default/dso_loader.cc:64] Could not load dynamic library 'libnvinfer_plugin.so.7'; dlerror: libnvinfer_plugin.so.7: cannot open shared object file: No such file or directory; LD_LIBRARY_PATH: /usr/local/cuda-11.2/extras/CUPTI/lib64:/usr/local/cuda-11.2/lib64:\n",
            "2023-01-03 16:58:10.060162: W tensorflow/compiler/tf2tensorrt/utils/py_utils.cc:38] TF-TRT Warning: Cannot dlopen some TensorRT libraries. If you would like to use Nvidia GPU with TensorRT, please make sure the missing libraries mentioned above are installed properly.\n"
          ]
        }
      ],
      "source": [
        "import tensorflow as tf\n",
        "from tensorflow.keras.callbacks import ReduceLROnPlateau, ModelCheckpoint, EarlyStopping"
      ]
    },
    {
      "cell_type": "code",
      "execution_count": null,
      "metadata": {
        "colab": {
          "base_uri": "https://localhost:8080/"
        },
        "id": "PMch7Kp7jw4i",
        "outputId": "a572c93f-ddaf-435f-d1e8-778abdbd1d4c"
      },
      "outputs": [
        {
          "data": {
            "text/plain": [
              "(678, 32)"
            ]
          },
          "execution_count": 21,
          "metadata": {},
          "output_type": "execute_result"
        }
      ],
      "source": [
        "X_train.shape"
      ]
    },
    {
      "cell_type": "code",
      "execution_count": null,
      "metadata": {
        "id": "7RJIqm9-lgbb"
      },
      "outputs": [],
      "source": [
        "X_train.head()"
      ]
    },
    {
      "cell_type": "code",
      "execution_count": 14,
      "metadata": {
        "id": "7LwsbVGrloxK"
      },
      "outputs": [],
      "source": [
        "X_train_array=np.array(X_train)\n",
        "y_train_array=np.array(y_train)"
      ]
    },
    {
      "cell_type": "code",
      "execution_count": null,
      "metadata": {
        "id": "A5FKUnkwxZZF"
      },
      "outputs": [],
      "source": []
    },
    {
      "cell_type": "markdown",
      "metadata": {
        "id": "jOZze2zwxaT9"
      },
      "source": [
        "## Keras 레이어의 모양\n",
        "- Keras 레이어에서 모양은 각 차원에 배열 또는 텐서의 요소 수를 나타내는 튜플(tuple)입니다.\n",
        "- 예: 모양(3, 4, 4)를 가진 텐서는 3차원이고 첫 번째 차원은 3개의 요소를 가집니다.  \n",
        "- 이 세 가지 요소에는 각각 4개의 요소가 있고, 이 4개의 요소에는 각각 4개의 요소가 있습니다. 따라서 총3x4x4 = 48개의 요소가 있습니다.\n",
        "- 크기를 나타낼 때는 가장 바깥쪽 리스트의 길이부터 가장 안쪽 리스트 길이의 순서로 표시합니다. \n",
        "- 예를 들어 2x3x4 행렬은 3차원 배열로 깊이,행,열 순서로 나타납니다. \n",
        "```python\n",
        "d = np.array([[[1, 2, 3, 4],\n",
        "               [5, 6, 7, 8],\n",
        "               [9, 10, 11, 12]],\n",
        "              [[11, 12, 13, 14],\n",
        "               [15, 16, 17, 18],\n",
        "               [19, 20, 21, 22]]])   # 2 x 3 x 4 array\n",
        "```\n"
      ]
    },
    {
      "cell_type": "code",
      "execution_count": null,
      "metadata": {
        "colab": {
          "base_uri": "https://localhost:8080/"
        },
        "id": "uBYqVy6FnZI0",
        "outputId": "64c1df0d-c377-4c56-9385-ca9127055a2d"
      },
      "outputs": [
        {
          "data": {
            "text/plain": [
              "(678, 32)"
            ]
          },
          "execution_count": 25,
          "metadata": {},
          "output_type": "execute_result"
        }
      ],
      "source": [
        "X_train_array.shape"
      ]
    },
    {
      "cell_type": "code",
      "execution_count": null,
      "metadata": {
        "colab": {
          "base_uri": "https://localhost:8080/"
        },
        "id": "VYZ69PSOyysj",
        "outputId": "30d41101-b5dc-4355-f4d8-b78f370dac45"
      },
      "outputs": [
        {
          "data": {
            "text/plain": [
              "32"
            ]
          },
          "execution_count": 59,
          "metadata": {},
          "output_type": "execute_result"
        }
      ],
      "source": [
        "X_train_array.shape[1]"
      ]
    },
    {
      "cell_type": "code",
      "execution_count": 19,
      "metadata": {},
      "outputs": [
        {
          "data": {
            "text/plain": [
              "array([14, 15, 11, 13,  0, 13, 16, 10, 10, 11, 11, 14, 11, 12, 13, 10, 15,\n",
              "       12,  9, 11, 10, 15,  9,  6, 14, 14, 19, 11, 12, 11,  8, 14,  7,  7,\n",
              "       11, 18, 10, 14, 17, 11, 12, 17, 11, 12, 10, 16, 11, 17, 10, 12, 12,\n",
              "       14,  8, 13, 16, 14, 16, 10, 15, 10, 11,  0, 11, 13, 10, 11, 15,  9,\n",
              "       14, 10, 10, 17, 15, 14,  8,  9, 11, 12, 11, 11, 11, 10, 18, 14,  8,\n",
              "       13,  5,  0, 16, 14, 13, 13, 14, 15, 13, 10, 14,  8, 12, 14, 11, 12,\n",
              "       10, 11, 10,  8,  8, 15,  5, 12, 10, 17, 17,  8, 13, 12, 16,  5, 16,\n",
              "       11, 15, 10, 18,  7,  9,  6, 10, 10, 12, 13, 13, 16, 13, 13, 11, 17,\n",
              "       12, 13, 11, 10, 16, 11, 16, 15, 11, 13, 10, 11,  8, 11, 15, 14, 13,\n",
              "       16, 12,  0, 12, 13,  0, 16, 11, 13, 13, 10, 10, 11, 14, 11, 12,  6,\n",
              "        0, 14, 17, 12,  8, 14, 11, 10, 11,  0, 10, 10, 15, 13, 12, 13,  9,\n",
              "       10, 13, 10, 10, 14, 12, 15, 11, 15, 13, 15, 15, 15, 13, 12, 11, 11,\n",
              "       12,  8, 15,  0,  8, 13, 11, 14, 14,  0, 16,  8, 13,  8, 10,  6, 12,\n",
              "       11, 11, 10, 17, 12, 11, 12, 11, 11, 10,  9, 11,  8,  6, 10, 15,  8,\n",
              "        8, 12,  8,  9, 16, 12, 12, 11, 16, 11, 14, 10, 14, 16, 15, 13, 15,\n",
              "       10, 10, 10,  0,  6, 13, 14, 15,  0, 13, 12, 10, 11, 10, 17,  9, 12,\n",
              "       10, 12, 10, 10, 12,  9,  8,  7, 15, 13, 11, 14, 14, 14,  8, 14, 10,\n",
              "        0, 12,  9, 10,  9, 11, 12, 14, 15, 11, 11, 11, 11, 11,  8, 10, 10,\n",
              "       10,  0, 13, 14, 12, 13,  5, 13,  9, 14,  9,  0, 11,  8, 13,  8, 16,\n",
              "       13,  7, 11, 12,  9, 13,  8,  9,  8, 16, 11, 11,  6,  6, 14, 14, 10,\n",
              "       12, 12, 14, 18, 12,  9,  9, 12, 10, 16, 10,  8, 16, 11, 10, 10, 17,\n",
              "       12, 10, 10, 13,  0, 10, 12, 13, 11, 18, 18,  9, 10, 10, 11, 13,  6,\n",
              "       15,  7, 10, 11, 11, 11, 12, 10, 10, 17, 18, 11, 18, 19,  5, 10, 17,\n",
              "       11, 16,  8, 20,  9, 10, 11, 16,  8,  8, 13,  9,  0, 11, 14, 11, 15,\n",
              "       10, 10, 17, 10,  9, 13,  9, 13, 19, 14, 14, 17, 15, 13, 10, 16, 14,\n",
              "       14, 13, 11, 19, 17, 15, 10,  8, 10, 10, 13,  0, 16, 14, 12, 10, 10,\n",
              "       11, 11,  8, 17, 11, 15, 14,  9, 10, 10,  7, 15, 13, 14, 11, 11,  0,\n",
              "       15,  0, 15, 18,  0, 18, 10,  0, 11, 12, 10, 16, 13, 14, 15,  8, 13,\n",
              "        8, 11,  9, 10,  9, 12, 11, 10,  0, 15, 10,  8,  9, 14, 10,  9, 18,\n",
              "        8, 12, 13, 15, 13, 15,  9, 15,  0, 12,  0,  7, 16, 15, 10, 11, 17,\n",
              "       15, 14, 12,  8, 15,  0,  9,  8, 13, 10, 13,  7, 14, 10,  0,  9, 10,\n",
              "       11, 12, 15, 10, 12, 14, 14, 14, 12, 13, 11, 10, 13, 16, 12,  9,  6,\n",
              "       11, 15, 12, 12, 14, 13,  8,  0, 11, 12, 14, 11,  8, 11, 10, 10, 11,\n",
              "       10, 10, 10, 14, 11, 13, 14,  9,  4,  7, 18, 14, 15, 17, 11,  0, 15,\n",
              "        9, 15,  9, 15, 11, 10, 13, 17,  9, 17,  0, 11, 12, 10, 13, 10, 14,\n",
              "       16,  9, 13, 12, 11, 14, 16, 15,  9,  8, 18, 12, 15,  0, 11, 12, 12,\n",
              "        9,  0, 12,  7, 10, 12, 13, 10, 12,  0, 17, 11,  8,  6, 12, 15, 10,\n",
              "        9, 16, 13, 15, 15, 12, 14,  9,  8, 13, 14, 11, 12, 11, 14, 16, 11,\n",
              "       11, 16, 13, 10, 11, 14, 10, 12, 11,  8, 11,  0, 15, 10, 11,  8, 14,\n",
              "       10, 11, 16, 17, 13, 13, 11, 16,  0,  0, 14, 11, 13, 10, 18])"
            ]
          },
          "execution_count": 19,
          "metadata": {},
          "output_type": "execute_result"
        }
      ],
      "source": [
        "y_train_array"
      ]
    },
    {
      "cell_type": "markdown",
      "metadata": {
        "id": "WDXxPNtAywdV"
      },
      "source": []
    },
    {
      "cell_type": "code",
      "execution_count": 15,
      "metadata": {
        "id": "OMUXxmOduqr9"
      },
      "outputs": [
        {
          "name": "stderr",
          "output_type": "stream",
          "text": [
            "2023-01-03 16:58:44.252467: I tensorflow/compiler/xla/stream_executor/cuda/cuda_gpu_executor.cc:967] could not open file to read NUMA node: /sys/bus/pci/devices/0000:2b:00.0/numa_node\n",
            "Your kernel may have been built without NUMA support.\n",
            "2023-01-03 16:58:44.276990: I tensorflow/compiler/xla/stream_executor/cuda/cuda_gpu_executor.cc:967] could not open file to read NUMA node: /sys/bus/pci/devices/0000:2b:00.0/numa_node\n",
            "Your kernel may have been built without NUMA support.\n",
            "2023-01-03 16:58:44.277053: I tensorflow/compiler/xla/stream_executor/cuda/cuda_gpu_executor.cc:967] could not open file to read NUMA node: /sys/bus/pci/devices/0000:2b:00.0/numa_node\n",
            "Your kernel may have been built without NUMA support.\n",
            "2023-01-03 16:58:44.280807: I tensorflow/core/platform/cpu_feature_guard.cc:193] This TensorFlow binary is optimized with oneAPI Deep Neural Network Library (oneDNN) to use the following CPU instructions in performance-critical operations:  AVX2 FMA\n",
            "To enable them in other operations, rebuild TensorFlow with the appropriate compiler flags.\n",
            "2023-01-03 16:58:44.283133: I tensorflow/compiler/xla/stream_executor/cuda/cuda_gpu_executor.cc:967] could not open file to read NUMA node: /sys/bus/pci/devices/0000:2b:00.0/numa_node\n",
            "Your kernel may have been built without NUMA support.\n",
            "2023-01-03 16:58:44.283197: I tensorflow/compiler/xla/stream_executor/cuda/cuda_gpu_executor.cc:967] could not open file to read NUMA node: /sys/bus/pci/devices/0000:2b:00.0/numa_node\n",
            "Your kernel may have been built without NUMA support.\n",
            "2023-01-03 16:58:44.283226: I tensorflow/compiler/xla/stream_executor/cuda/cuda_gpu_executor.cc:967] could not open file to read NUMA node: /sys/bus/pci/devices/0000:2b:00.0/numa_node\n",
            "Your kernel may have been built without NUMA support.\n",
            "2023-01-03 16:58:45.035157: I tensorflow/compiler/xla/stream_executor/cuda/cuda_gpu_executor.cc:967] could not open file to read NUMA node: /sys/bus/pci/devices/0000:2b:00.0/numa_node\n",
            "Your kernel may have been built without NUMA support.\n",
            "2023-01-03 16:58:45.035289: I tensorflow/compiler/xla/stream_executor/cuda/cuda_gpu_executor.cc:967] could not open file to read NUMA node: /sys/bus/pci/devices/0000:2b:00.0/numa_node\n",
            "Your kernel may have been built without NUMA support.\n",
            "2023-01-03 16:58:45.035298: I tensorflow/core/common_runtime/gpu/gpu_device.cc:1700] Could not identify NUMA node of platform GPU id 0, defaulting to 0.  Your kernel may not have been built with NUMA support.\n",
            "2023-01-03 16:58:45.035395: I tensorflow/compiler/xla/stream_executor/cuda/cuda_gpu_executor.cc:967] could not open file to read NUMA node: /sys/bus/pci/devices/0000:2b:00.0/numa_node\n",
            "Your kernel may have been built without NUMA support.\n",
            "2023-01-03 16:58:45.035678: I tensorflow/core/common_runtime/gpu/gpu_device.cc:1613] Created device /job:localhost/replica:0/task:0/device:GPU:0 with 8762 MB memory:  -> device: 0, name: NVIDIA GeForce RTX 3080 Ti, pci bus id: 0000:2b:00.0, compute capability: 8.6\n"
          ]
        }
      ],
      "source": [
        "epoch = 2000\n",
        "batch_size = 4\n",
        "\n",
        "filepath = f\"model_check_point_epoch_{epoch}_batch_{batch_size}.h5\"\n",
        "\n",
        "reduceLR = ReduceLROnPlateau(monitor=\"loss\",\n",
        "                             factor = 0.5, # loss 값을 개선하기 위한 학습률 변경 시작 0.1 -> 0.2 0> 0.4 \n",
        "                             patience = 10) # epoch 10 동안 loss 값이 개선되지 않으면 callback 호출\n",
        "\n",
        "checkpoint = ModelCheckpoint(filepath = filepath,\n",
        "                             monitor = \"loss\",\n",
        "                             save_best_only = True) #가장 Best 한 값만 저장한다. \n",
        "\n",
        "earlystopping = EarlyStopping(monitor = \"loss\",\n",
        "                              patience=10)\n",
        "\n",
        "optimizer = tf.keras.optimizers.SGD(learning_rate = 0.1)"
      ]
    },
    {
      "cell_type": "code",
      "execution_count": 17,
      "metadata": {
        "id": "7fFYdaNbkbaP"
      },
      "outputs": [],
      "source": [
        "DNN=tf.keras.Sequential()\n",
        "DNN.add(tf.keras.layers.Dense(units= 64, activation='relu', input_shape=(32,))) #내접해야하니까 data의 length를 신경 써주세요. X_train_array.shape[1]=32, shape=(678,32)\n",
        "DNN.add(tf.keras.layers.Dense(units=64, activation='relu'))\n",
        "DNN.add(tf.keras.layers.Dense(units=1, activation='relu'))\n",
        "DNN.compile(optimizer='SGD',loss='mse',metrics='mse')"
      ]
    },
    {
      "cell_type": "code",
      "execution_count": 20,
      "metadata": {
        "colab": {
          "base_uri": "https://localhost:8080/"
        },
        "id": "BRIjH7fUndEG",
        "outputId": "6d14cd2b-3520-4485-bcaf-863b9e151fbb"
      },
      "outputs": [
        {
          "name": "stdout",
          "output_type": "stream",
          "text": [
            "Epoch 1/1000\n"
          ]
        },
        {
          "name": "stderr",
          "output_type": "stream",
          "text": [
            "2023-01-03 17:05:04.310401: I tensorflow/compiler/xla/stream_executor/cuda/cuda_blas.cc:630] TensorFloat-32 will be used for the matrix multiplication. This will only be logged once.\n",
            "2023-01-03 17:05:04.543276: I tensorflow/compiler/xla/service/service.cc:173] XLA service 0x7f2502f82690 initialized for platform CUDA (this does not guarantee that XLA will be used). Devices:\n",
            "2023-01-03 17:05:04.543326: I tensorflow/compiler/xla/service/service.cc:181]   StreamExecutor device (0): NVIDIA GeForce RTX 3080 Ti, Compute Capability 8.6\n"
          ]
        },
        {
          "name": "stdout",
          "output_type": "stream",
          "text": [
            "  1/136 [..............................] - ETA: 9:30 - loss: 125.7677 - mse: 125.7677"
          ]
        },
        {
          "name": "stderr",
          "output_type": "stream",
          "text": [
            "2023-01-03 17:05:05.261328: I tensorflow/compiler/jit/xla_compilation_cache.cc:477] Compiled cluster using XLA!  This line is logged at most once for the lifetime of the process.\n"
          ]
        },
        {
          "name": "stdout",
          "output_type": "stream",
          "text": [
            "136/136 [==============================] - 5s 6ms/step - loss: 22.4334 - mse: 22.4334 - lr: 0.0100\n",
            "Epoch 2/1000\n",
            "136/136 [==============================] - 1s 5ms/step - loss: 5.0531 - mse: 5.0531 - lr: 0.0100\n",
            "Epoch 3/1000\n",
            "136/136 [==============================] - 1s 5ms/step - loss: 4.0116 - mse: 4.0116 - lr: 0.0100\n",
            "Epoch 4/1000\n",
            "136/136 [==============================] - 1s 5ms/step - loss: 2.9968 - mse: 2.9968 - lr: 0.0100\n",
            "Epoch 5/1000\n",
            "136/136 [==============================] - 1s 5ms/step - loss: 3.3174 - mse: 3.3174 - lr: 0.0100\n",
            "Epoch 6/1000\n",
            "136/136 [==============================] - 1s 5ms/step - loss: 2.6160 - mse: 2.6160 - lr: 0.0100\n",
            "Epoch 7/1000\n",
            "136/136 [==============================] - 1s 5ms/step - loss: 2.2167 - mse: 2.2167 - lr: 0.0100\n",
            "Epoch 8/1000\n",
            "136/136 [==============================] - 1s 5ms/step - loss: 1.9503 - mse: 1.9503 - lr: 0.0100\n",
            "Epoch 9/1000\n",
            "136/136 [==============================] - 1s 5ms/step - loss: 1.8698 - mse: 1.8698 - lr: 0.0100\n",
            "Epoch 10/1000\n",
            "136/136 [==============================] - 1s 5ms/step - loss: 1.6194 - mse: 1.6194 - lr: 0.0100\n",
            "Epoch 11/1000\n",
            "136/136 [==============================] - 1s 5ms/step - loss: 1.8239 - mse: 1.8239 - lr: 0.0100\n",
            "Epoch 12/1000\n",
            "136/136 [==============================] - 1s 5ms/step - loss: 1.7016 - mse: 1.7016 - lr: 0.0100\n",
            "Epoch 13/1000\n",
            "136/136 [==============================] - 1s 5ms/step - loss: 1.3271 - mse: 1.3271 - lr: 0.0100\n",
            "Epoch 14/1000\n",
            "136/136 [==============================] - 1s 5ms/step - loss: 1.9562 - mse: 1.9562 - lr: 0.0100\n",
            "Epoch 15/1000\n",
            "136/136 [==============================] - 1s 5ms/step - loss: 1.4134 - mse: 1.4134 - lr: 0.0100\n",
            "Epoch 16/1000\n",
            "136/136 [==============================] - 1s 4ms/step - loss: 1.2774 - mse: 1.2774 - lr: 0.0100\n",
            "Epoch 17/1000\n",
            "136/136 [==============================] - 1s 5ms/step - loss: 1.1252 - mse: 1.1252 - lr: 0.0100\n",
            "Epoch 18/1000\n",
            "136/136 [==============================] - 1s 4ms/step - loss: 0.9413 - mse: 0.9413 - lr: 0.0100\n",
            "Epoch 19/1000\n",
            "136/136 [==============================] - 1s 4ms/step - loss: 0.8026 - mse: 0.8026 - lr: 0.0100\n",
            "Epoch 20/1000\n",
            "136/136 [==============================] - 1s 4ms/step - loss: 0.7952 - mse: 0.7952 - lr: 0.0100\n",
            "Epoch 21/1000\n",
            "136/136 [==============================] - 1s 4ms/step - loss: 0.6748 - mse: 0.6748 - lr: 0.0100\n",
            "Epoch 22/1000\n",
            "136/136 [==============================] - 1s 4ms/step - loss: 0.7303 - mse: 0.7303 - lr: 0.0100\n",
            "Epoch 23/1000\n",
            "136/136 [==============================] - 1s 5ms/step - loss: 0.6385 - mse: 0.6385 - lr: 0.0100\n",
            "Epoch 24/1000\n",
            "136/136 [==============================] - 1s 5ms/step - loss: 0.5133 - mse: 0.5133 - lr: 0.0100\n",
            "Epoch 25/1000\n",
            "136/136 [==============================] - 1s 4ms/step - loss: 0.4892 - mse: 0.4892 - lr: 0.0100\n",
            "Epoch 26/1000\n",
            "136/136 [==============================] - 1s 4ms/step - loss: 0.5703 - mse: 0.5703 - lr: 0.0100\n",
            "Epoch 27/1000\n",
            "136/136 [==============================] - 1s 4ms/step - loss: 0.4784 - mse: 0.4784 - lr: 0.0100\n",
            "Epoch 28/1000\n",
            "136/136 [==============================] - 1s 4ms/step - loss: 0.3924 - mse: 0.3924 - lr: 0.0100\n",
            "Epoch 29/1000\n",
            "136/136 [==============================] - 1s 5ms/step - loss: 0.4501 - mse: 0.4501 - lr: 0.0100\n",
            "Epoch 30/1000\n",
            "136/136 [==============================] - 1s 4ms/step - loss: 0.4669 - mse: 0.4669 - lr: 0.0100\n",
            "Epoch 31/1000\n",
            "136/136 [==============================] - 1s 5ms/step - loss: 0.3708 - mse: 0.3708 - lr: 0.0100\n",
            "Epoch 32/1000\n",
            "136/136 [==============================] - 1s 4ms/step - loss: 0.3842 - mse: 0.3842 - lr: 0.0100\n",
            "Epoch 33/1000\n",
            "136/136 [==============================] - 1s 4ms/step - loss: 0.4076 - mse: 0.4076 - lr: 0.0100\n",
            "Epoch 34/1000\n",
            "136/136 [==============================] - 1s 4ms/step - loss: 0.4036 - mse: 0.4036 - lr: 0.0100\n",
            "Epoch 35/1000\n",
            "136/136 [==============================] - 1s 4ms/step - loss: 0.3431 - mse: 0.3431 - lr: 0.0100\n",
            "Epoch 36/1000\n",
            "136/136 [==============================] - 1s 4ms/step - loss: 0.3709 - mse: 0.3709 - lr: 0.0100\n",
            "Epoch 37/1000\n",
            "136/136 [==============================] - 1s 5ms/step - loss: 0.2775 - mse: 0.2775 - lr: 0.0100\n",
            "Epoch 38/1000\n",
            "136/136 [==============================] - 1s 4ms/step - loss: 0.2669 - mse: 0.2669 - lr: 0.0100\n",
            "Epoch 39/1000\n",
            "136/136 [==============================] - 1s 4ms/step - loss: 0.2439 - mse: 0.2439 - lr: 0.0100\n",
            "Epoch 40/1000\n",
            "136/136 [==============================] - 1s 4ms/step - loss: 0.2910 - mse: 0.2910 - lr: 0.0100\n",
            "Epoch 41/1000\n",
            "136/136 [==============================] - 1s 4ms/step - loss: 0.2727 - mse: 0.2727 - lr: 0.0100\n",
            "Epoch 42/1000\n",
            "136/136 [==============================] - 1s 4ms/step - loss: 0.2759 - mse: 0.2759 - lr: 0.0100\n",
            "Epoch 43/1000\n",
            "136/136 [==============================] - 1s 4ms/step - loss: 0.2428 - mse: 0.2428 - lr: 0.0100\n",
            "Epoch 44/1000\n",
            "136/136 [==============================] - 1s 4ms/step - loss: 0.2434 - mse: 0.2434 - lr: 0.0100\n",
            "Epoch 45/1000\n",
            "136/136 [==============================] - 1s 4ms/step - loss: 0.2471 - mse: 0.2471 - lr: 0.0100\n",
            "Epoch 46/1000\n",
            "136/136 [==============================] - 1s 4ms/step - loss: 0.2735 - mse: 0.2735 - lr: 0.0100\n",
            "Epoch 47/1000\n",
            "136/136 [==============================] - 1s 4ms/step - loss: 0.2098 - mse: 0.2098 - lr: 0.0100\n",
            "Epoch 48/1000\n",
            "136/136 [==============================] - 1s 4ms/step - loss: 0.2373 - mse: 0.2373 - lr: 0.0100\n",
            "Epoch 49/1000\n",
            "136/136 [==============================] - 1s 4ms/step - loss: 0.2298 - mse: 0.2298 - lr: 0.0100\n",
            "Epoch 50/1000\n",
            "136/136 [==============================] - 1s 4ms/step - loss: 0.2474 - mse: 0.2474 - lr: 0.0100\n",
            "Epoch 51/1000\n",
            "136/136 [==============================] - 1s 4ms/step - loss: 0.2131 - mse: 0.2131 - lr: 0.0100\n",
            "Epoch 52/1000\n",
            "136/136 [==============================] - 1s 4ms/step - loss: 0.2448 - mse: 0.2448 - lr: 0.0100\n",
            "Epoch 53/1000\n",
            "136/136 [==============================] - 1s 4ms/step - loss: 0.3257 - mse: 0.3257 - lr: 0.0100\n",
            "Epoch 54/1000\n",
            "136/136 [==============================] - 1s 4ms/step - loss: 0.2115 - mse: 0.2115 - lr: 0.0100\n",
            "Epoch 55/1000\n",
            "136/136 [==============================] - 1s 5ms/step - loss: 0.2241 - mse: 0.2241 - lr: 0.0100\n",
            "Epoch 56/1000\n",
            "136/136 [==============================] - 1s 4ms/step - loss: 0.2553 - mse: 0.2553 - lr: 0.0100\n",
            "Epoch 57/1000\n",
            "136/136 [==============================] - 1s 5ms/step - loss: 0.2062 - mse: 0.2062 - lr: 0.0100\n",
            "Epoch 58/1000\n",
            "136/136 [==============================] - 1s 5ms/step - loss: 0.1575 - mse: 0.1575 - lr: 0.0100\n",
            "Epoch 59/1000\n",
            "136/136 [==============================] - 1s 5ms/step - loss: 0.1489 - mse: 0.1489 - lr: 0.0100\n",
            "Epoch 60/1000\n",
            "136/136 [==============================] - 1s 4ms/step - loss: 0.1638 - mse: 0.1638 - lr: 0.0100\n",
            "Epoch 61/1000\n",
            "136/136 [==============================] - 1s 4ms/step - loss: 0.1915 - mse: 0.1915 - lr: 0.0100\n",
            "Epoch 62/1000\n",
            "136/136 [==============================] - 1s 4ms/step - loss: 0.1841 - mse: 0.1841 - lr: 0.0100\n",
            "Epoch 63/1000\n",
            "136/136 [==============================] - 1s 4ms/step - loss: 0.1448 - mse: 0.1448 - lr: 0.0100\n",
            "Epoch 64/1000\n",
            "136/136 [==============================] - 1s 4ms/step - loss: 0.1504 - mse: 0.1504 - lr: 0.0100\n",
            "Epoch 65/1000\n",
            "136/136 [==============================] - 1s 4ms/step - loss: 0.1698 - mse: 0.1698 - lr: 0.0100\n",
            "Epoch 66/1000\n",
            "136/136 [==============================] - 1s 4ms/step - loss: 0.1534 - mse: 0.1534 - lr: 0.0100\n",
            "Epoch 67/1000\n",
            "136/136 [==============================] - 1s 4ms/step - loss: 0.1511 - mse: 0.1511 - lr: 0.0100\n",
            "Epoch 68/1000\n",
            "136/136 [==============================] - 1s 5ms/step - loss: 0.1393 - mse: 0.1393 - lr: 0.0100\n",
            "Epoch 69/1000\n",
            "136/136 [==============================] - 1s 4ms/step - loss: 0.1492 - mse: 0.1492 - lr: 0.0100\n",
            "Epoch 70/1000\n",
            "136/136 [==============================] - 1s 4ms/step - loss: 0.1545 - mse: 0.1545 - lr: 0.0100\n",
            "Epoch 71/1000\n",
            "136/136 [==============================] - 1s 4ms/step - loss: 0.1307 - mse: 0.1307 - lr: 0.0100\n",
            "Epoch 72/1000\n",
            "136/136 [==============================] - 0s 4ms/step - loss: 0.1381 - mse: 0.1381 - lr: 0.0100\n",
            "Epoch 73/1000\n",
            "136/136 [==============================] - 0s 3ms/step - loss: 0.1435 - mse: 0.1435 - lr: 0.0100\n",
            "Epoch 74/1000\n",
            "136/136 [==============================] - 0s 4ms/step - loss: 0.1383 - mse: 0.1383 - lr: 0.0100\n",
            "Epoch 75/1000\n",
            "136/136 [==============================] - 1s 4ms/step - loss: 0.1385 - mse: 0.1385 - lr: 0.0100\n",
            "Epoch 76/1000\n",
            "136/136 [==============================] - 1s 4ms/step - loss: 0.1107 - mse: 0.1107 - lr: 0.0100\n",
            "Epoch 77/1000\n",
            "136/136 [==============================] - 1s 5ms/step - loss: 0.1099 - mse: 0.1099 - lr: 0.0100\n",
            "Epoch 78/1000\n",
            "136/136 [==============================] - 1s 4ms/step - loss: 0.1049 - mse: 0.1049 - lr: 0.0100\n",
            "Epoch 79/1000\n",
            "136/136 [==============================] - 1s 4ms/step - loss: 0.1163 - mse: 0.1163 - lr: 0.0100\n",
            "Epoch 80/1000\n",
            "136/136 [==============================] - 1s 4ms/step - loss: 0.1101 - mse: 0.1101 - lr: 0.0100\n",
            "Epoch 81/1000\n",
            "136/136 [==============================] - 1s 4ms/step - loss: 0.0935 - mse: 0.0935 - lr: 0.0100\n",
            "Epoch 82/1000\n",
            "136/136 [==============================] - 0s 4ms/step - loss: 0.1112 - mse: 0.1112 - lr: 0.0100\n",
            "Epoch 83/1000\n",
            "136/136 [==============================] - 0s 4ms/step - loss: 0.1076 - mse: 0.1076 - lr: 0.0100\n",
            "Epoch 84/1000\n",
            "136/136 [==============================] - 1s 4ms/step - loss: 0.1076 - mse: 0.1076 - lr: 0.0100\n",
            "Epoch 85/1000\n",
            "136/136 [==============================] - 1s 4ms/step - loss: 0.1113 - mse: 0.1113 - lr: 0.0100\n",
            "Epoch 86/1000\n",
            "136/136 [==============================] - 0s 3ms/step - loss: 0.0938 - mse: 0.0938 - lr: 0.0100\n",
            "Epoch 87/1000\n",
            "136/136 [==============================] - 0s 3ms/step - loss: 0.0984 - mse: 0.0984 - lr: 0.0100\n",
            "Epoch 88/1000\n",
            "136/136 [==============================] - 0s 3ms/step - loss: 0.0973 - mse: 0.0973 - lr: 0.0100\n",
            "Epoch 89/1000\n",
            "136/136 [==============================] - 0s 4ms/step - loss: 0.1000 - mse: 0.1000 - lr: 0.0100\n",
            "Epoch 90/1000\n",
            "136/136 [==============================] - 1s 4ms/step - loss: 0.1019 - mse: 0.1019 - lr: 0.0100\n",
            "Epoch 91/1000\n",
            "136/136 [==============================] - 1s 4ms/step - loss: 0.0787 - mse: 0.0787 - lr: 0.0100\n",
            "Epoch 92/1000\n",
            "136/136 [==============================] - 0s 3ms/step - loss: 0.0967 - mse: 0.0967 - lr: 0.0100\n",
            "Epoch 93/1000\n",
            "136/136 [==============================] - 0s 4ms/step - loss: 0.1029 - mse: 0.1029 - lr: 0.0100\n",
            "Epoch 94/1000\n",
            "136/136 [==============================] - 0s 4ms/step - loss: 0.0882 - mse: 0.0882 - lr: 0.0100\n",
            "Epoch 95/1000\n",
            "136/136 [==============================] - 1s 4ms/step - loss: 0.0984 - mse: 0.0984 - lr: 0.0100\n",
            "Epoch 96/1000\n",
            "136/136 [==============================] - 1s 4ms/step - loss: 0.0995 - mse: 0.0995 - lr: 0.0100\n",
            "Epoch 97/1000\n",
            "136/136 [==============================] - 0s 4ms/step - loss: 0.0855 - mse: 0.0855 - lr: 0.0100\n",
            "Epoch 98/1000\n",
            "136/136 [==============================] - 0s 3ms/step - loss: 0.0822 - mse: 0.0822 - lr: 0.0100\n",
            "Epoch 99/1000\n",
            "136/136 [==============================] - 0s 4ms/step - loss: 0.0803 - mse: 0.0803 - lr: 0.0100\n",
            "Epoch 100/1000\n",
            "136/136 [==============================] - 0s 3ms/step - loss: 0.0810 - mse: 0.0810 - lr: 0.0100\n",
            "Epoch 101/1000\n",
            "136/136 [==============================] - 0s 4ms/step - loss: 0.0880 - mse: 0.0880 - lr: 0.0100\n"
          ]
        },
        {
          "data": {
            "text/plain": [
              "<keras.callbacks.History at 0x7f2721345730>"
            ]
          },
          "execution_count": 20,
          "metadata": {},
          "output_type": "execute_result"
        }
      ],
      "source": [
        "DNN.fit(X_train_array, y_train_array, batch_size=5, epochs=1000, callbacks=[reduceLR, checkpoint, earlystopping])"
      ]
    },
    {
      "cell_type": "code",
      "execution_count": 21,
      "metadata": {},
      "outputs": [],
      "source": [
        "X_test_array=np.array(X_test)\n",
        "y_test_array=np.array(y_test)"
      ]
    },
    {
      "cell_type": "code",
      "execution_count": 22,
      "metadata": {
        "id": "YSlo5qECoQi0"
      },
      "outputs": [
        {
          "name": "stdout",
          "output_type": "stream",
          "text": [
            "12/12 [==============================] - 0s 3ms/step\n"
          ]
        },
        {
          "data": {
            "text/plain": [
              "0.7147032305169342"
            ]
          },
          "execution_count": 22,
          "metadata": {},
          "output_type": "execute_result"
        }
      ],
      "source": [
        "DNN_predict=DNN.predict(X_test)\n",
        "r2_score(y_test_array, DNN_predict)"
      ]
    },
    {
      "cell_type": "code",
      "execution_count": null,
      "metadata": {},
      "outputs": [],
      "source": []
    }
  ],
  "metadata": {
    "colab": {
      "provenance": []
    },
    "kernelspec": {
      "display_name": "tf",
      "language": "python",
      "name": "python3"
    },
    "language_info": {
      "codemirror_mode": {
        "name": "ipython",
        "version": 3
      },
      "file_extension": ".py",
      "mimetype": "text/x-python",
      "name": "python",
      "nbconvert_exporter": "python",
      "pygments_lexer": "ipython3",
      "version": "3.9.15"
    },
    "vscode": {
      "interpreter": {
        "hash": "71be762759ae1b1747e1cfc60efa181cfc93ac416fe5084a790ec64e97c902b4"
      }
    }
  },
  "nbformat": 4,
  "nbformat_minor": 0
}
