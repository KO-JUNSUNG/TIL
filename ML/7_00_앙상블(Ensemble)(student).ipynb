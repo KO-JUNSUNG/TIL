{
  "cells": [
    {
      "cell_type": "markdown",
      "metadata": {
        "id": "b2MQEkXAYQeB"
      },
      "source": [
        "# 앙상블(Ensemble)"
      ]
    },
    {
      "cell_type": "markdown",
      "metadata": {
        "id": "nT_iMqd0do5N"
      },
      "source": [
        "## Bagging meta-estimator"
      ]
    },
    {
      "cell_type": "code",
      "execution_count": null,
      "metadata": {
        "id": "SWAh4uocDcvm"
      },
      "outputs": [],
      "source": [
        "import warnings\n",
        "warnings.filterwarnings(\"ignore\")"
      ]
    },
    {
      "cell_type": "code",
      "execution_count": null,
      "metadata": {
        "id": "DeBq-DEl4Mxc"
      },
      "outputs": [],
      "source": [
        "from sklearn.datasets import load_iris, load_wine, load_breast_cancer, load_boston\n",
        "from sklearn.datasets import load_diabetes\n",
        "from sklearn.preprocessing import StandardScaler\n",
        "from sklearn.pipeline import make_pipeline\n",
        "from sklearn.model_selection import cross_validate"
      ]
    },
    {
      "cell_type": "code",
      "execution_count": null,
      "metadata": {
        "id": "_YiLsIpwMGAf"
      },
      "outputs": [],
      "source": [
        "from sklearn.ensemble import BaggingClassifier\n",
        "from sklearn.neighbors import KNeighborsClassifier\n",
        "from sklearn.svm import SVC\n",
        "from sklearn.tree import DecisionTreeClassifier"
      ]
    },
    {
      "cell_type": "code",
      "execution_count": null,
      "metadata": {
        "id": "sJK4QMLlYN3G"
      },
      "outputs": [],
      "source": [
        "from sklearn.ensemble import BaggingRegressor\n",
        "from sklearn.neighbors import KNeighborsRegressor\n",
        "from sklearn.svm import SVR\n",
        "from sklearn.tree import DecisionTreeRegressor"
      ]
    },
    {
      "cell_type": "markdown",
      "metadata": {
        "id": "bnC_CfiDf3kC"
      },
      "source": [
        "### Bagging을 사용한 분류"
      ]
    },
    {
      "cell_type": "markdown",
      "metadata": {
        "id": "-NVX-0hRDcvo"
      },
      "source": [
        "```\n",
        "params = {\n",
        "    \"random_state\" : SEED,\n",
        "    \"base_estimator\" : base_model, #base로 사용할 Model \n",
        "    \"n_estimators\": 100, # base_estimator  개수\n",
        "    \"max_features\":0.5, # 한 model이 사용할 최대 feature의 비율,\n",
        "    \"bootstrap_features\": Flase, # Feature의 중복추출 허용\n",
        "    \"bootstrap\" : True # Dataset 중복추출 허용 여부\n",
        "}\n",
        "```"
      ]
    },
    {
      "cell_type": "markdown",
      "metadata": {
        "id": "yw2FY84r4zQR"
      },
      "source": [
        "#### 데이터셋 불러오기"
      ]
    },
    {
      "cell_type": "code",
      "execution_count": null,
      "metadata": {
        "id": "6DlynlPmf-3Y"
      },
      "outputs": [],
      "source": [
        "iris = load_iris()\n",
        "wine = load_wine()\n",
        "cancer = load_breast_cancer()"
      ]
    },
    {
      "cell_type": "markdown",
      "metadata": {
        "id": "9XzfsGdL4_YF"
      },
      "source": [
        "#### KNN + Bagging"
      ]
    },
    {
      "cell_type": "markdown",
      "metadata": {
        "id": "h5TYJLtQ8k70"
      },
      "source": [
        "##### 붓꽃 데이터"
      ]
    },
    {
      "cell_type": "code",
      "execution_count": null,
      "metadata": {
        "id": "H3iZQyWnOZEK"
      },
      "outputs": [],
      "source": [
        "base_model = make_pipeline(\n",
        "    StandardScaler(),\n",
        "    KNeighborsClassifier()\n",
        ")\n",
        "\n",
        "bagging_model = BaggingClassifier(base_model, n_estimators=10, max_samples=.8, max_features=.8)"
      ]
    },
    {
      "cell_type": "code",
      "execution_count": null,
      "metadata": {
        "colab": {
          "base_uri": "https://localhost:8080/"
        },
        "id": "m-fGDZoD52eY",
        "outputId": "ce733453-b805-470a-8588-a8f6e3228737"
      },
      "outputs": [
        {
          "name": "stdout",
          "output_type": "stream",
          "text": [
            "avg fit time: 0.0008244514465332031\n",
            "avg score time: 0.0013092041015625\n",
            "avg test score: 0.96\n"
          ]
        }
      ],
      "source": [
        "cross_val = cross_validate(\n",
        "    estimator = base_model,\n",
        "    X=iris.data, y = iris.target,\n",
        "    cv=5\n",
        ")\n",
        "print(f\"avg fit time: {cross_val['fit_time'].mean()}\")\n",
        "print(f\"avg score time: {cross_val['score_time'].mean()}\")\n",
        "print(f\"avg test score: {cross_val['test_score'].mean()}\")"
      ]
    },
    {
      "cell_type": "code",
      "execution_count": null,
      "metadata": {
        "colab": {
          "base_uri": "https://localhost:8080/"
        },
        "id": "j8UhV67NgiC0",
        "outputId": "be57bd95-6d46-4d69-fb5a-96f0453180a2"
      },
      "outputs": [
        {
          "name": "stdout",
          "output_type": "stream",
          "text": [
            "avg fit time: 0.012445545196533203\n",
            "avg score time: 0.004494810104370117\n",
            "avg test score: 0.9666666666666666\n"
          ]
        }
      ],
      "source": [
        "cross_val = cross_validate(\n",
        "    estimator = bagging_model,\n",
        "    X=iris.data, y = iris.target,\n",
        "    cv=5\n",
        ")\n",
        "print(f\"avg fit time: {cross_val['fit_time'].mean()}\")\n",
        "print(f\"avg score time: {cross_val['score_time'].mean()}\")\n",
        "print(f\"avg test score: {cross_val['test_score'].mean()}\")"
      ]
    },
    {
      "cell_type": "code",
      "execution_count": null,
      "metadata": {
        "id": "b1G0MCTRDcvq"
      },
      "outputs": [],
      "source": [
        "# 실습 와인 유방암 데이터 set을 적용해 보세요 "
      ]
    },
    {
      "cell_type": "markdown",
      "metadata": {
        "id": "aake5r8-_FLh"
      },
      "source": [
        "##### 와인 데이터"
      ]
    },
    {
      "cell_type": "code",
      "execution_count": null,
      "metadata": {
        "id": "5MWxuBKQDcvr"
      },
      "outputs": [],
      "source": [
        "base_model = make_pipeline(\n",
        "    StandardScaler(),\n",
        "    KNeighborsClassifier()\n",
        ")\n",
        "\n",
        "bagging_model = BaggingClassifier(base_model, n_estimators=10, max_samples=.5, max_features=.5)"
      ]
    },
    {
      "cell_type": "code",
      "execution_count": null,
      "metadata": {
        "id": "0Namqy2eDcvr",
        "outputId": "9a3ddb7b-96e0-4388-a9bf-9c15a965e567"
      },
      "outputs": [
        {
          "name": "stdout",
          "output_type": "stream",
          "text": [
            "avg fit time: 0.0014878273010253905\n",
            "avg score time: 0.0021875858306884765\n",
            "avg test score: 0.9493650793650794\n"
          ]
        }
      ],
      "source": [
        "cross_val = cross_validate(\n",
        "    estimator = base_model,\n",
        "    X=wine.data, y = wine.target,\n",
        "    cv=5\n",
        ")\n",
        "print(f\"avg fit time: {cross_val['fit_time'].mean()}\")\n",
        "print(f\"avg score time: {cross_val['score_time'].mean()}\")\n",
        "print(f\"avg test score: {cross_val['test_score'].mean()}\")"
      ]
    },
    {
      "cell_type": "code",
      "execution_count": null,
      "metadata": {
        "id": "AkcDPvLtDcvr",
        "outputId": "99da73c9-fa0e-4437-ec85-d0bd045c8ab7"
      },
      "outputs": [
        {
          "name": "stdout",
          "output_type": "stream",
          "text": [
            "avg fit time: 0.014239978790283204\n",
            "avg score time: 0.00451502799987793\n",
            "avg test score: 0.972063492063492\n"
          ]
        }
      ],
      "source": [
        "cross_val = cross_validate(\n",
        "    estimator = bagging_model,\n",
        "    X=wine.data, y = wine.target,\n",
        "    cv=5\n",
        ")\n",
        "print(f\"avg fit time: {cross_val['fit_time'].mean()}\")\n",
        "print(f\"avg score time: {cross_val['score_time'].mean()}\")\n",
        "print(f\"avg test score: {cross_val['test_score'].mean()}\")"
      ]
    },
    {
      "cell_type": "markdown",
      "metadata": {
        "id": "iPKP6KIy8nso"
      },
      "source": [
        "##### 유방암 데이터"
      ]
    },
    {
      "cell_type": "code",
      "execution_count": null,
      "metadata": {
        "id": "zPm2ebNyDcvr"
      },
      "outputs": [],
      "source": [
        "base_model = make_pipeline(\n",
        "    StandardScaler(),\n",
        "    KNeighborsClassifier()\n",
        ")\n",
        "\n",
        "bagging_model = BaggingClassifier(base_model, n_estimators=10, max_samples=.5, max_features=.8)"
      ]
    },
    {
      "cell_type": "code",
      "execution_count": null,
      "metadata": {
        "id": "6Rrnc_7jDcvs",
        "outputId": "ea771c5d-7df5-48c1-e74a-f4f1b6f921d8"
      },
      "outputs": [
        {
          "name": "stdout",
          "output_type": "stream",
          "text": [
            "avg fit time: 0.002014923095703125\n",
            "avg score time: 0.006245088577270508\n",
            "avg test score: 0.9648501785437045\n"
          ]
        }
      ],
      "source": [
        "cross_val = cross_validate(\n",
        "    estimator = base_model,\n",
        "    X=cancer.data, y = cancer.target,\n",
        "    cv=5\n",
        ")\n",
        "print(f\"avg fit time: {cross_val['fit_time'].mean()}\")\n",
        "print(f\"avg score time: {cross_val['score_time'].mean()}\")\n",
        "print(f\"avg test score: {cross_val['test_score'].mean()}\")"
      ]
    },
    {
      "cell_type": "code",
      "execution_count": null,
      "metadata": {
        "id": "Uc7D8cKiDcvs",
        "outputId": "3790554c-6656-4eeb-ed3b-e253f4ca25c0"
      },
      "outputs": [
        {
          "name": "stdout",
          "output_type": "stream",
          "text": [
            "avg fit time: 0.017145633697509766\n",
            "avg score time: 0.010694026947021484\n",
            "avg test score: 0.9683744760130415\n"
          ]
        }
      ],
      "source": [
        "cross_val = cross_validate(\n",
        "    estimator = bagging_model,\n",
        "    X=cancer.data, y = cancer.target,\n",
        "    cv=5\n",
        ")\n",
        "print(f\"avg fit time: {cross_val['fit_time'].mean()}\")\n",
        "print(f\"avg score time: {cross_val['score_time'].mean()}\")\n",
        "print(f\"avg test score: {cross_val['test_score'].mean()}\")"
      ]
    },
    {
      "cell_type": "markdown",
      "metadata": {
        "id": "c6cXnxEZ90NR"
      },
      "source": [
        "#### SVC + Bagging"
      ]
    },
    {
      "cell_type": "markdown",
      "metadata": {
        "id": "yFolvlY393Pv"
      },
      "source": [
        "##### 붓꽃 데이터"
      ]
    },
    {
      "cell_type": "code",
      "execution_count": null,
      "metadata": {
        "id": "p8sUZEe798Wn"
      },
      "outputs": [],
      "source": [
        "base_model = make_pipeline(\n",
        "    StandardScaler(),\n",
        "    SVC()\n",
        ")\n",
        "\n",
        "bagging_model = BaggingClassifier(base_model, n_estimators=10, max_samples=.5, max_features=.5)"
      ]
    },
    {
      "cell_type": "code",
      "execution_count": null,
      "metadata": {
        "colab": {
          "base_uri": "https://localhost:8080/"
        },
        "id": "1vvBGk8WQVho",
        "outputId": "588deec9-65a2-49bb-edd3-357eeb5b7fae"
      },
      "outputs": [
        {
          "name": "stdout",
          "output_type": "stream",
          "text": [
            "avg fit time: 0.0011839866638183594\n",
            "avg score time: 0.00039210319519042967\n",
            "avg test score: 0.9666666666666666\n"
          ]
        }
      ],
      "source": [
        "cross_val = cross_validate(\n",
        "    estimator = base_model,\n",
        "    X=iris.data, y = iris.target,\n",
        "    cv=5\n",
        ")\n",
        "print(f\"avg fit time: {cross_val['fit_time'].mean()}\")\n",
        "print(f\"avg score time: {cross_val['score_time'].mean()}\")\n",
        "print(f\"avg test score: {cross_val['test_score'].mean()}\")"
      ]
    },
    {
      "cell_type": "code",
      "execution_count": null,
      "metadata": {
        "colab": {
          "base_uri": "https://localhost:8080/"
        },
        "id": "f2MTk_xcQVh0",
        "outputId": "e5acf856-69b6-4300-d037-519e02610b79"
      },
      "outputs": [
        {
          "name": "stdout",
          "output_type": "stream",
          "text": [
            "avg fit time: 0.020819473266601562\n",
            "avg score time: 0.002507305145263672\n",
            "avg test score: 0.9533333333333334\n"
          ]
        }
      ],
      "source": [
        "\n",
        "cross_val = cross_validate(\n",
        "    estimator = bagging_model,\n",
        "    X=iris.data, y = iris.target,\n",
        "    cv=5\n",
        ")\n",
        "print(f\"avg fit time: {cross_val['fit_time'].mean()}\")\n",
        "print(f\"avg score time: {cross_val['score_time'].mean()}\")\n",
        "print(f\"avg test score: {cross_val['test_score'].mean()}\")"
      ]
    },
    {
      "cell_type": "markdown",
      "metadata": {
        "id": "BAVcL_DG_HgP"
      },
      "source": [
        "##### 와인 데이터"
      ]
    },
    {
      "cell_type": "code",
      "execution_count": null,
      "metadata": {
        "id": "Sp6xUTyyDcvt"
      },
      "outputs": [],
      "source": [
        "base_model = make_pipeline(\n",
        "    StandardScaler(),\n",
        "    SVC()\n",
        ")\n",
        "\n",
        "bagging_model = BaggingClassifier(base_model, n_estimators=10, max_samples=.5, max_features=.5)"
      ]
    },
    {
      "cell_type": "code",
      "execution_count": null,
      "metadata": {
        "id": "I2r9MmT1Dcvt",
        "outputId": "375375a8-389f-48a7-8bb1-974c03ca9f95"
      },
      "outputs": [
        {
          "name": "stdout",
          "output_type": "stream",
          "text": [
            "avg fit time: 0.0012569427490234375\n",
            "avg score time: 0.00038976669311523436\n",
            "avg test score: 0.9833333333333334\n"
          ]
        }
      ],
      "source": [
        "cross_val = cross_validate(\n",
        "    estimator = base_model,\n",
        "    X=wine.data, y = wine.target,\n",
        "    cv=5\n",
        ")\n",
        "print(f\"avg fit time: {cross_val['fit_time'].mean()}\")\n",
        "print(f\"avg score time: {cross_val['score_time'].mean()}\")\n",
        "print(f\"avg test score: {cross_val['test_score'].mean()}\")"
      ]
    },
    {
      "cell_type": "code",
      "execution_count": null,
      "metadata": {
        "id": "Zw2WD-2hDcvt",
        "outputId": "f3ee8ea1-adea-449d-cee8-b3265361ce11"
      },
      "outputs": [
        {
          "name": "stdout",
          "output_type": "stream",
          "text": [
            "avg fit time: 0.017487382888793944\n",
            "avg score time: 0.0024641990661621095\n",
            "avg test score: 0.961111111111111\n"
          ]
        }
      ],
      "source": [
        "cross_val = cross_validate(\n",
        "    estimator = bagging_model,\n",
        "    X=wine.data, y = wine.target,\n",
        "    cv=5\n",
        ")\n",
        "print(f\"avg fit time: {cross_val['fit_time'].mean()}\")\n",
        "print(f\"avg score time: {cross_val['score_time'].mean()}\")\n",
        "print(f\"avg test score: {cross_val['test_score'].mean()}\")"
      ]
    },
    {
      "cell_type": "markdown",
      "metadata": {
        "id": "59r3mE7H92wX"
      },
      "source": [
        "##### 유방암 데이터"
      ]
    },
    {
      "cell_type": "code",
      "execution_count": null,
      "metadata": {
        "id": "-_2ImeneDcvt"
      },
      "outputs": [],
      "source": [
        "base_model = make_pipeline(\n",
        "    StandardScaler(),\n",
        "    SVC()\n",
        ")\n",
        "\n",
        "bagging_model = BaggingClassifier(base_model, n_estimators=10, max_samples=.5, max_features=.5)"
      ]
    },
    {
      "cell_type": "code",
      "execution_count": null,
      "metadata": {
        "id": "c7ZodsFHDcvt",
        "outputId": "74c58e15-2491-4680-884f-f963fc924e99"
      },
      "outputs": [
        {
          "name": "stdout",
          "output_type": "stream",
          "text": [
            "avg fit time: 0.003923177719116211\n",
            "avg score time: 0.001213979721069336\n",
            "avg test score: 0.9736376339077782\n"
          ]
        }
      ],
      "source": [
        "cross_val = cross_validate(\n",
        "    estimator = base_model,\n",
        "    X=cancer.data, y = cancer.target,\n",
        "    cv=5\n",
        ")\n",
        "print(f\"avg fit time: {cross_val['fit_time'].mean()}\")\n",
        "print(f\"avg score time: {cross_val['score_time'].mean()}\")\n",
        "print(f\"avg test score: {cross_val['test_score'].mean()}\")"
      ]
    },
    {
      "cell_type": "code",
      "execution_count": null,
      "metadata": {
        "id": "LZdxZlGADcvt",
        "outputId": "6bd9a750-463f-4570-ce55-febdbd95a069"
      },
      "outputs": [
        {
          "name": "stdout",
          "output_type": "stream",
          "text": [
            "avg fit time: 0.02431516647338867\n",
            "avg score time: 0.007056760787963867\n",
            "avg test score: 0.9630802670392796\n"
          ]
        }
      ],
      "source": [
        "cross_val = cross_validate(\n",
        "    estimator = bagging_model,\n",
        "    X=cancer.data, y = cancer.target,\n",
        "    cv=5\n",
        ")\n",
        "print(f\"avg fit time: {cross_val['fit_time'].mean()}\")\n",
        "print(f\"avg score time: {cross_val['score_time'].mean()}\")\n",
        "print(f\"avg test score: {cross_val['test_score'].mean()}\")"
      ]
    },
    {
      "cell_type": "markdown",
      "metadata": {
        "id": "Gtpz-2Ly-gF2"
      },
      "source": [
        "#### Decision Tree + Bagging"
      ]
    },
    {
      "cell_type": "markdown",
      "metadata": {
        "id": "3A4T9Bv--jF-"
      },
      "source": [
        "##### 붓꽃 데이터"
      ]
    },
    {
      "cell_type": "code",
      "execution_count": null,
      "metadata": {
        "id": "hZUIkgbNQv29"
      },
      "outputs": [],
      "source": [
        "base_model = make_pipeline(\n",
        "    StandardScaler(),\n",
        "    DecisionTreeClassifier()\n",
        ")\n",
        "\n",
        "bagging_model = BaggingClassifier(base_model, n_estimators=10, max_samples=.5, max_features=.5)"
      ]
    },
    {
      "cell_type": "code",
      "execution_count": null,
      "metadata": {
        "colab": {
          "base_uri": "https://localhost:8080/"
        },
        "id": "8EM-BCg9Qv2-",
        "outputId": "a6975aa0-92dd-4301-c4a0-81422e5d0bff"
      },
      "outputs": [
        {
          "name": "stdout",
          "output_type": "stream",
          "text": [
            "avg fit time: 0.0008026123046875\n",
            "avg score time: 0.0003253936767578125\n",
            "avg test score: 0.9533333333333334\n"
          ]
        }
      ],
      "source": [
        "cross_val = cross_validate(\n",
        "    estimator = base_model,\n",
        "    X=iris.data, y = iris.target,\n",
        "    cv=5\n",
        ")\n",
        "print(f\"avg fit time: {cross_val['fit_time'].mean()}\")\n",
        "print(f\"avg score time: {cross_val['score_time'].mean()}\")\n",
        "print(f\"avg test score: {cross_val['test_score'].mean()}\")"
      ]
    },
    {
      "cell_type": "code",
      "execution_count": null,
      "metadata": {
        "colab": {
          "base_uri": "https://localhost:8080/"
        },
        "id": "RF9GuakgQv2-",
        "outputId": "ffbb8c44-a1ce-4a07-fee0-2d5ca9d1bc0b"
      },
      "outputs": [
        {
          "name": "stdout",
          "output_type": "stream",
          "text": [
            "avg fit time: 0.018235397338867188\n",
            "avg score time: 0.0017558574676513673\n",
            "avg test score: 0.9466666666666667\n"
          ]
        }
      ],
      "source": [
        "cross_val = cross_validate(\n",
        "    estimator = bagging_model,\n",
        "    X=iris.data, y = iris.target,\n",
        "    cv=5\n",
        ")\n",
        "print(f\"avg fit time: {cross_val['fit_time'].mean()}\")\n",
        "print(f\"avg score time: {cross_val['score_time'].mean()}\")\n",
        "print(f\"avg test score: {cross_val['test_score'].mean()}\")"
      ]
    },
    {
      "cell_type": "markdown",
      "metadata": {
        "id": "Ninof3DO_IO3"
      },
      "source": [
        "##### 와인 데이터"
      ]
    },
    {
      "cell_type": "code",
      "execution_count": null,
      "metadata": {
        "id": "bO0AaQMRDcvu"
      },
      "outputs": [],
      "source": [
        "base_model = make_pipeline(\n",
        "    StandardScaler(),\n",
        "    DecisionTreeClassifier()\n",
        ")\n",
        "\n",
        "bagging_model = BaggingClassifier(base_model, n_estimators=10, max_samples=.5, max_features=.5)"
      ]
    },
    {
      "cell_type": "code",
      "execution_count": null,
      "metadata": {
        "id": "W3cXH9g-Dcvu",
        "outputId": "f2eb3601-c75b-47a7-e364-95d5f9520de4"
      },
      "outputs": [
        {
          "name": "stdout",
          "output_type": "stream",
          "text": [
            "avg fit time: 0.001415586471557617\n",
            "avg score time: 0.00031299591064453124\n",
            "avg test score: 0.8709523809523809\n"
          ]
        }
      ],
      "source": [
        "cross_val = cross_validate(\n",
        "    estimator = base_model,\n",
        "    X=wine.data, y = wine.target,\n",
        "    cv=5\n",
        ")\n",
        "print(f\"avg fit time: {cross_val['fit_time'].mean()}\")\n",
        "print(f\"avg score time: {cross_val['score_time'].mean()}\")\n",
        "print(f\"avg test score: {cross_val['test_score'].mean()}\")"
      ]
    },
    {
      "cell_type": "code",
      "execution_count": null,
      "metadata": {
        "id": "tRAkOIJUDcvu",
        "outputId": "185bc9af-5bd7-47bc-a409-cdcf792fb6b0"
      },
      "outputs": [
        {
          "name": "stdout",
          "output_type": "stream",
          "text": [
            "avg fit time: 0.0146575927734375\n",
            "avg score time: 0.0017647266387939454\n",
            "avg test score: 0.9273015873015874\n"
          ]
        }
      ],
      "source": [
        "cross_val = cross_validate(\n",
        "    estimator = bagging_model,\n",
        "    X=wine.data, y = wine.target,\n",
        "    cv=5\n",
        ")\n",
        "print(f\"avg fit time: {cross_val['fit_time'].mean()}\")\n",
        "print(f\"avg score time: {cross_val['score_time'].mean()}\")\n",
        "print(f\"avg test score: {cross_val['test_score'].mean()}\")"
      ]
    },
    {
      "cell_type": "markdown",
      "metadata": {
        "id": "uVlALN6t-i3T"
      },
      "source": [
        "##### 유방암 데이터"
      ]
    },
    {
      "cell_type": "code",
      "execution_count": null,
      "metadata": {
        "id": "pd_n5v8GDcvv"
      },
      "outputs": [],
      "source": [
        "base_model = make_pipeline(\n",
        "    StandardScaler(),\n",
        "    DecisionTreeClassifier()\n",
        ")\n",
        "\n",
        "bagging_model = BaggingClassifier(base_model, n_estimators=10, max_samples=.5, max_features=.5)"
      ]
    },
    {
      "cell_type": "code",
      "execution_count": null,
      "metadata": {
        "id": "3OXeBLXUDcvv",
        "outputId": "e0beadb7-132c-44da-e835-10895b8d10e9"
      },
      "outputs": [
        {
          "name": "stdout",
          "output_type": "stream",
          "text": [
            "avg fit time: 0.005768728256225586\n",
            "avg score time: 0.00044550895690917967\n",
            "avg test score: 0.9190964136003726\n"
          ]
        }
      ],
      "source": [
        "cross_val = cross_validate(\n",
        "    estimator = base_model,\n",
        "    X=cancer.data, y = cancer.target,\n",
        "    cv=5\n",
        ")\n",
        "print(f\"avg fit time: {cross_val['fit_time'].mean()}\")\n",
        "print(f\"avg score time: {cross_val['score_time'].mean()}\")\n",
        "print(f\"avg test score: {cross_val['test_score'].mean()}\")"
      ]
    },
    {
      "cell_type": "code",
      "execution_count": null,
      "metadata": {
        "id": "8e5qVEypDcvv",
        "outputId": "931ecbfe-3064-4683-dd6e-ecd6fd33069a"
      },
      "outputs": [
        {
          "name": "stdout",
          "output_type": "stream",
          "text": [
            "avg fit time: 0.023106861114501952\n",
            "avg score time: 0.001876688003540039\n",
            "avg test score: 0.9279925477410339\n"
          ]
        }
      ],
      "source": [
        "cross_val = cross_validate(\n",
        "    estimator = bagging_model,\n",
        "    X=cancer.data, y = cancer.target,\n",
        "    cv=5\n",
        ")\n",
        "print(f\"avg fit time: {cross_val['fit_time'].mean()}\")\n",
        "print(f\"avg score time: {cross_val['score_time'].mean()}\")\n",
        "print(f\"avg test score: {cross_val['test_score'].mean()}\")"
      ]
    },
    {
      "cell_type": "markdown",
      "metadata": {
        "id": "G8m4pTeC_Y7Q"
      },
      "source": [
        "### Bagging을 사용한 회귀"
      ]
    },
    {
      "cell_type": "markdown",
      "metadata": {
        "id": "47h6mi6D_cu3"
      },
      "source": [
        "#### 데이터셋 불러오기"
      ]
    },
    {
      "cell_type": "code",
      "execution_count": null,
      "metadata": {
        "id": "UN7-vRcK_pKZ"
      },
      "outputs": [],
      "source": [
        "boston = load_boston()\n",
        "diabetes = load_diabetes()"
      ]
    },
    {
      "cell_type": "markdown",
      "metadata": {
        "id": "lBSK7rhp_gMV"
      },
      "source": [
        "#### KNN + Bagging"
      ]
    },
    {
      "cell_type": "markdown",
      "metadata": {
        "id": "Ze7yqMOL_t34"
      },
      "source": [
        "##### 보스턴 주택 가격 데이터"
      ]
    },
    {
      "cell_type": "code",
      "execution_count": null,
      "metadata": {
        "id": "xmFbreJURUff"
      },
      "outputs": [],
      "source": [
        "base_model = make_pipeline(\n",
        "    StandardScaler(),\n",
        "    KNeighborsRegressor()\n",
        ")\n",
        "\n",
        "bagging_model = BaggingRegressor(base_model, n_estimators=10, max_samples=.5, max_features=.5)"
      ]
    },
    {
      "cell_type": "code",
      "execution_count": null,
      "metadata": {
        "colab": {
          "base_uri": "https://localhost:8080/"
        },
        "id": "oh8mpLJbRUfg",
        "outputId": "420b1e65-4b74-4190-a167-19357035f4fe"
      },
      "outputs": [
        {
          "name": "stdout",
          "output_type": "stream",
          "text": [
            "avg fit time: 0.0013090133666992187\n",
            "avg score time: 0.001387166976928711\n",
            "avg test score: 0.47357748833823543\n"
          ]
        }
      ],
      "source": [
        "cross_val = cross_validate(\n",
        "    estimator = base_model,\n",
        "    X=boston.data, y = boston.target,\n",
        "    cv=5\n",
        ")\n",
        "print(f\"avg fit time: {cross_val['fit_time'].mean()}\")\n",
        "print(f\"avg score time: {cross_val['score_time'].mean()}\")\n",
        "print(f\"avg test score: {cross_val['test_score'].mean()}\")"
      ]
    },
    {
      "cell_type": "code",
      "execution_count": null,
      "metadata": {
        "colab": {
          "base_uri": "https://localhost:8080/"
        },
        "id": "DZyuHQL7RUfg",
        "outputId": "5d827c3f-a6d6-4e26-88a5-c021ad103ce9"
      },
      "outputs": [
        {
          "name": "stdout",
          "output_type": "stream",
          "text": [
            "avg fit time: 0.012032699584960938\n",
            "avg score time: 0.005208301544189453\n",
            "avg test score: 0.5581329876240896\n"
          ]
        }
      ],
      "source": [
        "cross_val = cross_validate(\n",
        "    estimator = bagging_model,\n",
        "    X=boston.data, y = boston.target,\n",
        "    cv=5\n",
        ")\n",
        "print(f\"avg fit time: {cross_val['fit_time'].mean()}\")\n",
        "print(f\"avg score time: {cross_val['score_time'].mean()}\")\n",
        "print(f\"avg test score: {cross_val['test_score'].mean()}\")"
      ]
    },
    {
      "cell_type": "markdown",
      "metadata": {
        "id": "vsCxrkMO_td0"
      },
      "source": [
        "##### 당뇨병 데이터"
      ]
    },
    {
      "cell_type": "code",
      "execution_count": null,
      "metadata": {
        "id": "iCZYvlU0Dcvw"
      },
      "outputs": [],
      "source": [
        "base_model = make_pipeline(\n",
        "    StandardScaler(),\n",
        "    KNeighborsRegressor()\n",
        ")\n",
        "\n",
        "bagging_model = BaggingRegressor(base_model, n_estimators=10, max_samples=.5, max_features=.5)"
      ]
    },
    {
      "cell_type": "code",
      "execution_count": null,
      "metadata": {
        "id": "JhRpJ5QCDcvw",
        "outputId": "f41b94df-6134-4ee7-9430-a346f0a91906"
      },
      "outputs": [
        {
          "name": "stdout",
          "output_type": "stream",
          "text": [
            "avg fit time: 0.0010829925537109374\n",
            "avg score time: 0.0011868000030517579\n",
            "avg test score: 0.3689720650295623\n"
          ]
        }
      ],
      "source": [
        "cross_val = cross_validate(\n",
        "    estimator = base_model,\n",
        "    X=diabetes.data, y = diabetes.target,\n",
        "    cv=5\n",
        ")\n",
        "print(f\"avg fit time: {cross_val['fit_time'].mean()}\")\n",
        "print(f\"avg score time: {cross_val['score_time'].mean()}\")\n",
        "print(f\"avg test score: {cross_val['test_score'].mean()}\")"
      ]
    },
    {
      "cell_type": "code",
      "execution_count": null,
      "metadata": {
        "id": "4kcJj8S_Dcvw",
        "outputId": "fea3d898-b4df-47b0-b010-7388149fe74c"
      },
      "outputs": [
        {
          "name": "stdout",
          "output_type": "stream",
          "text": [
            "avg fit time: 0.020571184158325196\n",
            "avg score time: 0.006197690963745117\n",
            "avg test score: 0.36841925121437524\n"
          ]
        }
      ],
      "source": [
        "cross_val = cross_validate(\n",
        "    estimator = bagging_model,\n",
        "    X=diabetes.data, y = diabetes.target,\n",
        "    cv=5\n",
        ")\n",
        "print(f\"avg fit time: {cross_val['fit_time'].mean()}\")\n",
        "print(f\"avg score time: {cross_val['score_time'].mean()}\")\n",
        "print(f\"avg test score: {cross_val['test_score'].mean()}\")"
      ]
    },
    {
      "cell_type": "markdown",
      "metadata": {
        "id": "UNWloxDa_fvn"
      },
      "source": [
        "#### SVR + Bagging"
      ]
    },
    {
      "cell_type": "markdown",
      "metadata": {
        "id": "NRDHG3iX_ygt"
      },
      "source": [
        "##### 보스턴 주택 가격 데이터"
      ]
    },
    {
      "cell_type": "code",
      "execution_count": null,
      "metadata": {
        "id": "vfQIoAPVR1aj"
      },
      "outputs": [],
      "source": [
        "base_model = make_pipeline(\n",
        "    StandardScaler(),\n",
        "    SVR()\n",
        ")\n",
        "\n",
        "bagging_model = BaggingRegressor(base_model, n_estimators=10, max_samples=.5, max_features=.5)"
      ]
    },
    {
      "cell_type": "code",
      "execution_count": null,
      "metadata": {
        "colab": {
          "base_uri": "https://localhost:8080/"
        },
        "id": "UpwXQx7KR1ak",
        "outputId": "ee41eeff-c05d-471c-fb71-92fbffe2ecf0"
      },
      "outputs": [
        {
          "name": "stdout",
          "output_type": "stream",
          "text": [
            "avg fit time: 0.008684873580932617\n",
            "avg score time: 0.002401113510131836\n",
            "avg test score: 0.17631266230186618\n"
          ]
        }
      ],
      "source": [
        "cross_val = cross_validate(\n",
        "    estimator = base_model,\n",
        "    X=boston.data, y = boston.target,\n",
        "    cv=5\n",
        ")\n",
        "print(f\"avg fit time: {cross_val['fit_time'].mean()}\")\n",
        "print(f\"avg score time: {cross_val['score_time'].mean()}\")\n",
        "print(f\"avg test score: {cross_val['test_score'].mean()}\")"
      ]
    },
    {
      "cell_type": "code",
      "execution_count": null,
      "metadata": {
        "colab": {
          "base_uri": "https://localhost:8080/"
        },
        "id": "NnAh-5eNR1al",
        "outputId": "22d4274a-f3d4-4ccc-89a1-4ea85dc51fb4"
      },
      "outputs": [
        {
          "name": "stdout",
          "output_type": "stream",
          "text": [
            "avg fit time: 0.026160669326782227\n",
            "avg score time: 0.007461404800415039\n",
            "avg test score: 0.15907645199864495\n"
          ]
        }
      ],
      "source": [
        "cross_val = cross_validate(\n",
        "    estimator = bagging_model,\n",
        "    X=boston.data, y = boston.target,\n",
        "    cv=5\n",
        ")\n",
        "print(f\"avg fit time: {cross_val['fit_time'].mean()}\")\n",
        "print(f\"avg score time: {cross_val['score_time'].mean()}\")\n",
        "print(f\"avg test score: {cross_val['test_score'].mean()}\")"
      ]
    },
    {
      "cell_type": "markdown",
      "metadata": {
        "id": "dB98AXg7_004"
      },
      "source": [
        "##### 당뇨병 데이터"
      ]
    },
    {
      "cell_type": "code",
      "execution_count": null,
      "metadata": {
        "id": "J9icLUpADcvx"
      },
      "outputs": [],
      "source": [
        "base_model = make_pipeline(\n",
        "    StandardScaler(),\n",
        "    SVR()\n",
        ")\n",
        "\n",
        "bagging_model = BaggingRegressor(base_model, n_estimators=10, max_samples=.5, max_features=.5)"
      ]
    },
    {
      "cell_type": "code",
      "execution_count": null,
      "metadata": {
        "id": "Z1Yq5TKsDcvx",
        "outputId": "50ab60e0-829e-4790-aa9d-779ca5ff5037"
      },
      "outputs": [
        {
          "name": "stdout",
          "output_type": "stream",
          "text": [
            "avg fit time: 0.005448722839355468\n",
            "avg score time: 0.0014922618865966797\n",
            "avg test score: 0.14659936199629434\n"
          ]
        }
      ],
      "source": [
        "cross_val = cross_validate(\n",
        "    estimator = base_model,\n",
        "    X=diabetes.data, y = diabetes.target,\n",
        "    cv=5\n",
        ")\n",
        "print(f\"avg fit time: {cross_val['fit_time'].mean()}\")\n",
        "print(f\"avg score time: {cross_val['score_time'].mean()}\")\n",
        "print(f\"avg test score: {cross_val['test_score'].mean()}\")"
      ]
    },
    {
      "cell_type": "code",
      "execution_count": null,
      "metadata": {
        "id": "DSUhPc7DDcvx",
        "outputId": "aa43c4a1-cf61-4a46-dbc3-c992e6cd9b4d"
      },
      "outputs": [
        {
          "name": "stdout",
          "output_type": "stream",
          "text": [
            "avg fit time: 0.021876430511474608\n",
            "avg score time: 0.006628751754760742\n",
            "avg test score: 0.07200056972228237\n"
          ]
        }
      ],
      "source": [
        "cross_val = cross_validate(\n",
        "    estimator = bagging_model,\n",
        "    X=diabetes.data, y = diabetes.target,\n",
        "    cv=5\n",
        ")\n",
        "print(f\"avg fit time: {cross_val['fit_time'].mean()}\")\n",
        "print(f\"avg score time: {cross_val['score_time'].mean()}\")\n",
        "print(f\"avg test score: {cross_val['test_score'].mean()}\")"
      ]
    },
    {
      "cell_type": "markdown",
      "metadata": {
        "id": "Ffge42tG_fFc"
      },
      "source": [
        "#### Decision Tree + Bagging"
      ]
    },
    {
      "cell_type": "markdown",
      "metadata": {
        "id": "MWWTfD6T_44c"
      },
      "source": [
        "##### 보스턴 주택 가격 데이터"
      ]
    },
    {
      "cell_type": "code",
      "execution_count": null,
      "metadata": {
        "id": "vsweWJ5JSQ3-"
      },
      "outputs": [],
      "source": [
        "base_model = make_pipeline(\n",
        "    StandardScaler(),\n",
        "    DecisionTreeRegressor()\n",
        ")\n",
        "\n",
        "bagging_model = BaggingRegressor(base_model, n_estimators=10, max_samples=.5, max_features=.5)"
      ]
    },
    {
      "cell_type": "code",
      "execution_count": null,
      "metadata": {
        "colab": {
          "base_uri": "https://localhost:8080/"
        },
        "id": "2VCEj7H2SQ3_",
        "outputId": "41c7af2f-acbf-42ad-93a4-6b269d9f2196"
      },
      "outputs": [
        {
          "name": "stdout",
          "output_type": "stream",
          "text": [
            "avg fit time: 0.0029764175415039062\n",
            "avg score time: 0.0004002571105957031\n",
            "avg test score: 0.11917692272930411\n"
          ]
        }
      ],
      "source": [
        "cross_val = cross_validate(\n",
        "    estimator = base_model,\n",
        "    X=boston.data, y = boston.target,\n",
        "    cv=5\n",
        ")\n",
        "print(f\"avg fit time: {cross_val['fit_time'].mean()}\")\n",
        "print(f\"avg score time: {cross_val['score_time'].mean()}\")\n",
        "print(f\"avg test score: {cross_val['test_score'].mean()}\")"
      ]
    },
    {
      "cell_type": "code",
      "execution_count": null,
      "metadata": {
        "colab": {
          "base_uri": "https://localhost:8080/"
        },
        "id": "22Jypd5mSQ4A",
        "outputId": "114ab360-4dfd-499b-9df0-f120bb28517f"
      },
      "outputs": [
        {
          "name": "stdout",
          "output_type": "stream",
          "text": [
            "avg fit time: 0.017389440536499025\n",
            "avg score time: 0.0014261245727539063\n",
            "avg test score: 0.5507792713777818\n"
          ]
        }
      ],
      "source": [
        "cross_val = cross_validate(\n",
        "    estimator = bagging_model,\n",
        "    X=boston.data, y = boston.target,\n",
        "    cv=5\n",
        ")\n",
        "print(f\"avg fit time: {cross_val['fit_time'].mean()}\")\n",
        "print(f\"avg score time: {cross_val['score_time'].mean()}\")\n",
        "print(f\"avg test score: {cross_val['test_score'].mean()}\")"
      ]
    },
    {
      "cell_type": "markdown",
      "metadata": {
        "id": "djcuGIS-_4kG"
      },
      "source": [
        "##### 당뇨병 데이터"
      ]
    },
    {
      "cell_type": "code",
      "execution_count": null,
      "metadata": {
        "id": "gyOsj5vbDcvy"
      },
      "outputs": [],
      "source": [
        "base_model = make_pipeline(\n",
        "    StandardScaler(),\n",
        "    KNeighborsRegressor()\n",
        ")\n",
        "\n",
        "bagging_model = BaggingRegressor(base_model, n_estimators=10, max_samples=.5, max_features=.5)"
      ]
    },
    {
      "cell_type": "code",
      "execution_count": null,
      "metadata": {
        "id": "hBT1_UzkDcvy",
        "outputId": "9b98fb23-7592-4311-d3ba-e0a034b5062d"
      },
      "outputs": [
        {
          "name": "stdout",
          "output_type": "stream",
          "text": [
            "avg fit time: 0.0014103889465332032\n",
            "avg score time: 0.001667928695678711\n",
            "avg test score: 0.3689720650295623\n"
          ]
        }
      ],
      "source": [
        "cross_val = cross_validate(\n",
        "    estimator = base_model,\n",
        "    X=diabetes.data, y = diabetes.target,\n",
        "    cv=5\n",
        ")\n",
        "print(f\"avg fit time: {cross_val['fit_time'].mean()}\")\n",
        "print(f\"avg score time: {cross_val['score_time'].mean()}\")\n",
        "print(f\"avg test score: {cross_val['test_score'].mean()}\")"
      ]
    },
    {
      "cell_type": "code",
      "execution_count": null,
      "metadata": {
        "id": "uSg6UHjBDcvy",
        "outputId": "5921f1cb-f332-4e8d-f6d7-a74cc4dfe90e"
      },
      "outputs": [
        {
          "name": "stdout",
          "output_type": "stream",
          "text": [
            "avg fit time: 0.011734867095947265\n",
            "avg score time: 0.006138896942138672\n",
            "avg test score: 0.43024968500302607\n"
          ]
        }
      ],
      "source": [
        "cross_val = cross_validate(\n",
        "    estimator = bagging_model,\n",
        "    X=diabetes.data, y = diabetes.target,\n",
        "    cv=5\n",
        ")\n",
        "print(f\"avg fit time: {cross_val['fit_time'].mean()}\")\n",
        "print(f\"avg score time: {cross_val['score_time'].mean()}\")\n",
        "print(f\"avg test score: {cross_val['test_score'].mean()}\")"
      ]
    }
  ],
  "metadata": {
    "colab": {
      "provenance": []
    },
    "kernelspec": {
      "display_name": "Python 3.10.6 ('pandas': venv)",
      "language": "python",
      "name": "python3"
    },
    "language_info": {
      "codemirror_mode": {
        "name": "ipython",
        "version": 3
      },
      "file_extension": ".py",
      "mimetype": "text/x-python",
      "name": "python",
      "nbconvert_exporter": "python",
      "pygments_lexer": "ipython3",
      "version": "3.10.6"
    },
    "vscode": {
      "interpreter": {
        "hash": "c0853bc95e813b42f8b96c9a0544e5b3c1f4d11420edc31cec84a3d9d1b9fa39"
      }
    }
  },
  "nbformat": 4,
  "nbformat_minor": 0
}