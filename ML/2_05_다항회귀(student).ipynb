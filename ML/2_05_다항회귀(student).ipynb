{
  "cells": [
    {
      "cell_type": "markdown",
      "metadata": {
        "id": "gjB2JdDmqJK2"
      },
      "source": [
        "# 다항 회귀 (Polynomial Regression)\n",
        "\n",
        "- 입력 데이터를 비선형 변환 후 사용하는 방법\n",
        "- 모델 자체는 선형 모델\n",
        "\n",
        "\\begin{equation}\n",
        "\\hat{y} = w_0 + w_1 x_1 + w_2 x_2 + w_3 x_3 + w_4 x_1^2 + w_5 x_2^2\n",
        "\\end{equation}\n",
        "\n",
        "- 차수가 높아질수록 더 복잡한 데이터 학습 가능"
      ]
    },
    {
      "cell_type": "markdown",
      "metadata": {
        "id": "XvvaNZ8bhRel"
      },
      "source": [
        "## 구현\n",
        "- 사이킷런은 다항회귀 api 를 제공x\n",
        "- `PolynomialFeatures` 로 피처들을 변환한뒤, `LinearRegression` 을 순차적으로 적용해야함\n",
        "- `Pipeline` 을 이용하면 두가지 api 결합을 좀더 깔끔하게 수행가능함"
      ]
    },
    {
      "cell_type": "code",
      "execution_count": null,
      "metadata": {
        "colab": {
          "base_uri": "https://localhost:8080/"
        },
        "id": "-1sFh6mbhRem",
        "outputId": "01dac5ca-2ba3-41ea-d122-2b6cf211d11b"
      },
      "outputs": [
        {
          "name": "stdout",
          "output_type": "stream",
          "text": [
            "(100, 1) (100,)\n"
          ]
        }
      ],
      "source": [
        "import numpy as np\n",
        "import pandas as pd\n",
        "import matplotlib.pyplot as plt\n",
        "\n",
        "np.random.seed(0)\n",
        "\n",
        "m = 100\n",
        "X = 6 * np.random.rand(m, 1) - 3\n",
        "y = X**2 + 2*X + 3 + np.random.normal(0,1, size=(m,1))\n",
        "y = y.flatten()\n",
        "print(X.shape, y.shape)"
      ]
    },
    {
      "cell_type": "code",
      "execution_count": null,
      "metadata": {
        "colab": {
          "base_uri": "https://localhost:8080/",
          "height": 206
        },
        "id": "7IeyPE2ZhRep",
        "outputId": "fd693a67-b0b6-466e-a1f7-6efa63ed033a"
      },
      "outputs": [
        {
          "data": {
            "text/html": [
              "\n",
              "  <div id=\"df-32f1d283-6f84-49c0-af03-67e6f8b0ef83\">\n",
              "    <div class=\"colab-df-container\">\n",
              "      <div>\n",
              "<style scoped>\n",
              "    .dataframe tbody tr th:only-of-type {\n",
              "        vertical-align: middle;\n",
              "    }\n",
              "\n",
              "    .dataframe tbody tr th {\n",
              "        vertical-align: top;\n",
              "    }\n",
              "\n",
              "    .dataframe thead th {\n",
              "        text-align: right;\n",
              "    }\n",
              "</style>\n",
              "<table border=\"1\" class=\"dataframe\">\n",
              "  <thead>\n",
              "    <tr style=\"text-align: right;\">\n",
              "      <th></th>\n",
              "      <th>X</th>\n",
              "      <th>Y</th>\n",
              "    </tr>\n",
              "  </thead>\n",
              "  <tbody>\n",
              "    <tr>\n",
              "      <th>0</th>\n",
              "      <td>0.292881</td>\n",
              "      <td>2.506392</td>\n",
              "    </tr>\n",
              "    <tr>\n",
              "      <th>1</th>\n",
              "      <td>1.291136</td>\n",
              "      <td>8.150132</td>\n",
              "    </tr>\n",
              "    <tr>\n",
              "      <th>2</th>\n",
              "      <td>0.616580</td>\n",
              "      <td>5.078994</td>\n",
              "    </tr>\n",
              "    <tr>\n",
              "      <th>3</th>\n",
              "      <td>0.269299</td>\n",
              "      <td>2.074877</td>\n",
              "    </tr>\n",
              "    <tr>\n",
              "      <th>4</th>\n",
              "      <td>-0.458071</td>\n",
              "      <td>3.781939</td>\n",
              "    </tr>\n",
              "  </tbody>\n",
              "</table>\n",
              "</div>\n",
              "      <button class=\"colab-df-convert\" onclick=\"convertToInteractive('df-32f1d283-6f84-49c0-af03-67e6f8b0ef83')\"\n",
              "              title=\"Convert this dataframe to an interactive table.\"\n",
              "              style=\"display:none;\">\n",
              "        \n",
              "  <svg xmlns=\"http://www.w3.org/2000/svg\" height=\"24px\"viewBox=\"0 0 24 24\"\n",
              "       width=\"24px\">\n",
              "    <path d=\"M0 0h24v24H0V0z\" fill=\"none\"/>\n",
              "    <path d=\"M18.56 5.44l.94 2.06.94-2.06 2.06-.94-2.06-.94-.94-2.06-.94 2.06-2.06.94zm-11 1L8.5 8.5l.94-2.06 2.06-.94-2.06-.94L8.5 2.5l-.94 2.06-2.06.94zm10 10l.94 2.06.94-2.06 2.06-.94-2.06-.94-.94-2.06-.94 2.06-2.06.94z\"/><path d=\"M17.41 7.96l-1.37-1.37c-.4-.4-.92-.59-1.43-.59-.52 0-1.04.2-1.43.59L10.3 9.45l-7.72 7.72c-.78.78-.78 2.05 0 2.83L4 21.41c.39.39.9.59 1.41.59.51 0 1.02-.2 1.41-.59l7.78-7.78 2.81-2.81c.8-.78.8-2.07 0-2.86zM5.41 20L4 18.59l7.72-7.72 1.47 1.35L5.41 20z\"/>\n",
              "  </svg>\n",
              "      </button>\n",
              "      \n",
              "  <style>\n",
              "    .colab-df-container {\n",
              "      display:flex;\n",
              "      flex-wrap:wrap;\n",
              "      gap: 12px;\n",
              "    }\n",
              "\n",
              "    .colab-df-convert {\n",
              "      background-color: #E8F0FE;\n",
              "      border: none;\n",
              "      border-radius: 50%;\n",
              "      cursor: pointer;\n",
              "      display: none;\n",
              "      fill: #1967D2;\n",
              "      height: 32px;\n",
              "      padding: 0 0 0 0;\n",
              "      width: 32px;\n",
              "    }\n",
              "\n",
              "    .colab-df-convert:hover {\n",
              "      background-color: #E2EBFA;\n",
              "      box-shadow: 0px 1px 2px rgba(60, 64, 67, 0.3), 0px 1px 3px 1px rgba(60, 64, 67, 0.15);\n",
              "      fill: #174EA6;\n",
              "    }\n",
              "\n",
              "    [theme=dark] .colab-df-convert {\n",
              "      background-color: #3B4455;\n",
              "      fill: #D2E3FC;\n",
              "    }\n",
              "\n",
              "    [theme=dark] .colab-df-convert:hover {\n",
              "      background-color: #434B5C;\n",
              "      box-shadow: 0px 1px 3px 1px rgba(0, 0, 0, 0.15);\n",
              "      filter: drop-shadow(0px 1px 2px rgba(0, 0, 0, 0.3));\n",
              "      fill: #FFFFFF;\n",
              "    }\n",
              "  </style>\n",
              "\n",
              "      <script>\n",
              "        const buttonEl =\n",
              "          document.querySelector('#df-32f1d283-6f84-49c0-af03-67e6f8b0ef83 button.colab-df-convert');\n",
              "        buttonEl.style.display =\n",
              "          google.colab.kernel.accessAllowed ? 'block' : 'none';\n",
              "\n",
              "        async function convertToInteractive(key) {\n",
              "          const element = document.querySelector('#df-32f1d283-6f84-49c0-af03-67e6f8b0ef83');\n",
              "          const dataTable =\n",
              "            await google.colab.kernel.invokeFunction('convertToInteractive',\n",
              "                                                     [key], {});\n",
              "          if (!dataTable) return;\n",
              "\n",
              "          const docLinkHtml = 'Like what you see? Visit the ' +\n",
              "            '<a target=\"_blank\" href=https://colab.research.google.com/notebooks/data_table.ipynb>data table notebook</a>'\n",
              "            + ' to learn more about interactive tables.';\n",
              "          element.innerHTML = '';\n",
              "          dataTable['output_type'] = 'display_data';\n",
              "          await google.colab.output.renderOutput(dataTable, element);\n",
              "          const docLink = document.createElement('div');\n",
              "          docLink.innerHTML = docLinkHtml;\n",
              "          element.appendChild(docLink);\n",
              "        }\n",
              "      </script>\n",
              "    </div>\n",
              "  </div>\n",
              "  "
            ],
            "text/plain": [
              "          X         Y\n",
              "0  0.292881  2.506392\n",
              "1  1.291136  8.150132\n",
              "2  0.616580  5.078994\n",
              "3  0.269299  2.074877\n",
              "4 -0.458071  3.781939"
            ]
          },
          "execution_count": 54,
          "metadata": {},
          "output_type": "execute_result"
        }
      ],
      "source": [
        "df = pd.DataFrame({\"X\":X.flatten(), \"Y\":y})\n",
        "df.head()"
      ]
    },
    {
      "cell_type": "code",
      "execution_count": null,
      "metadata": {
        "colab": {
          "base_uri": "https://localhost:8080/",
          "height": 374
        },
        "id": "RTAJQlwThReq",
        "outputId": "c075faa3-14ef-4173-b087-40c7f418b271"
      },
      "outputs": [
        {
          "data": {
            "image/png": "[encoded data removed]",
            "text/plain": [
              "<Figure size 504x432 with 1 Axes>"
            ]
          },
          "metadata": {
            "needs_background": "light"
          },
          "output_type": "display_data"
        }
      ],
      "source": [
        "plt.figure(figsize=(7,6))\n",
        "plt.scatter(X, y, alpha=0.7)\n",
        "plt.show()"
      ]
    },
    {
      "cell_type": "markdown",
      "metadata": {
        "id": "A1Ssh42BhReq"
      },
      "source": [
        "###  Linear model 생성"
      ]
    },
    {
      "cell_type": "code",
      "execution_count": null,
      "metadata": {
        "id": "Gbg8Eoe2hRer"
      },
      "outputs": [],
      "source": [
        "from sklearn.linear_model import LinearRegression\n",
        "from sklearn.metrics import mean_squared_error, r2_score"
      ]
    },
    {
      "cell_type": "code",
      "execution_count": null,
      "metadata": {
        "colab": {
          "base_uri": "https://localhost:8080/"
        },
        "id": "tJsJ8y4BhRes",
        "outputId": "d5bdce55-c1df-4208-86c8-1ab5208ac9bf"
      },
      "outputs": [
        {
          "name": "stdout",
          "output_type": "stream",
          "text": [
            "[1.78189543] 6.175619278567208\n"
          ]
        }
      ],
      "source": [
        "lr = LinearRegression()\n",
        "lr.fit(X, y)\n",
        "print(lr.coef_, lr.intercept_) # w_0, w_1"
      ]
    },
    {
      "cell_type": "code",
      "execution_count": null,
      "metadata": {
        "id": "ISRxSkWChRet"
      },
      "outputs": [],
      "source": [
        "pred = lr.predict(X)"
      ]
    },
    {
      "cell_type": "code",
      "execution_count": null,
      "metadata": {
        "colab": {
          "base_uri": "https://localhost:8080/",
          "height": 374
        },
        "id": "OU1DeoDyhRet",
        "outputId": "806f86bb-4b73-48fa-cf4c-15df4e806eb4"
      },
      "outputs": [
        {
          "data": {
            "image/png": "[encoded data removed]",
            "text/plain": [
              "<Figure size 504x432 with 1 Axes>"
            ]
          },
          "metadata": {
            "needs_background": "light"
          },
          "output_type": "display_data"
        }
      ],
      "source": [
        "X_new = np.linspace(-3,3,100).reshape(-1, 1)\n",
        "pred_new = lr.predict(X_new)\n",
        "\n",
        "plt.figure(figsize=(7,6))\n",
        "\n",
        "plt.scatter(X, y, alpha=0.7)\n",
        "plt.plot(X_new, pred_new, color='red')\n",
        "\n",
        "plt.grid(True)\n",
        "plt.show()"
      ]
    },
    {
      "cell_type": "markdown",
      "metadata": {
        "id": "uJ-2-wgEhReu"
      },
      "source": [
        "### PolynomialFeatures를 이용해 다항회귀구현"
      ]
    },
    {
      "cell_type": "code",
      "execution_count": null,
      "metadata": {
        "id": "80t5wdAahRev"
      },
      "outputs": [],
      "source": [
        "from sklearn.preprocessing import PolynomialFeatures"
      ]
    },
    {
      "cell_type": "code",
      "execution_count": null,
      "metadata": {
        "id": "99To2SbchRev"
      },
      "outputs": [],
      "source": [
        "poly_f = PolynomialFeatures(degree=2,\n",
        "                            include_bias=False)\n",
        "X_poly = poly_f.fit_transform(X) # 최고차수가 2차인 Data Set으로 변경"
      ]
    },
    {
      "cell_type": "code",
      "execution_count": null,
      "metadata": {
        "colab": {
          "base_uri": "https://localhost:8080/"
        },
        "id": "Mz0DzVFjhRev",
        "outputId": "14a323da-fee3-49a1-fd50-976e545b5ec3"
      },
      "outputs": [
        {
          "data": {
            "text/plain": [
              "((100, 1), (100, 2))"
            ]
          },
          "execution_count": 62,
          "metadata": {},
          "output_type": "execute_result"
        }
      ],
      "source": [
        "X.shape, X_poly.shape"
      ]
    },
    {
      "cell_type": "code",
      "execution_count": null,
      "metadata": {
        "colab": {
          "base_uri": "https://localhost:8080/"
        },
        "id": "LmTHlEIfhRew",
        "outputId": "36844432-4a35-4cb2-bc54-0e3e111315bf"
      },
      "outputs": [
        {
          "data": {
            "text/plain": [
              "array([[ 0.29288102],\n",
              "       [ 1.2911362 ],\n",
              "       [ 0.61658026],\n",
              "       [ 0.2692991 ],\n",
              "       [-0.4580712 ]])"
            ]
          },
          "execution_count": 63,
          "metadata": {},
          "output_type": "execute_result"
        }
      ],
      "source": [
        "X[:5]"
      ]
    },
    {
      "cell_type": "code",
      "execution_count": null,
      "metadata": {
        "colab": {
          "base_uri": "https://localhost:8080/"
        },
        "id": "D1undUP2hRew",
        "outputId": "92545c9b-219f-439e-f680-d3e8abfb2087"
      },
      "outputs": [
        {
          "data": {
            "text/plain": [
              "array([[ 0.29288102,  0.08577929],\n",
              "       [ 1.2911362 ,  1.66703268],\n",
              "       [ 0.61658026,  0.38017121],\n",
              "       [ 0.2692991 ,  0.072522  ],\n",
              "       [-0.4580712 ,  0.20982923]])"
            ]
          },
          "execution_count": 64,
          "metadata": {},
          "output_type": "execute_result"
        }
      ],
      "source": [
        "X_poly[:5]"
      ]
    },
    {
      "cell_type": "code",
      "execution_count": null,
      "metadata": {
        "colab": {
          "base_uri": "https://localhost:8080/"
        },
        "id": "N8Mcp9fThRex",
        "outputId": "5ea5cecb-f946-4c4e-b99a-2a2a09b6c98d"
      },
      "outputs": [
        {
          "data": {
            "text/plain": [
              "array(['x0', 'x0^2'], dtype=object)"
            ]
          },
          "execution_count": 65,
          "metadata": {},
          "output_type": "execute_result"
        }
      ],
      "source": [
        "poly_f.get_feature_names_out()#W_1 과 W_2 의 값이 결정된다. "
      ]
    },
    {
      "cell_type": "code",
      "execution_count": null,
      "metadata": {
        "colab": {
          "base_uri": "https://localhost:8080/"
        },
        "id": "bnNw3r0fhRex",
        "outputId": "718cc072-bd2e-4daa-b86b-a00274873bae"
      },
      "outputs": [
        {
          "name": "stdout",
          "output_type": "stream",
          "text": [
            "[1.97906552 0.94978823] 3.340500756262885\n"
          ]
        }
      ],
      "source": [
        "# 최고차항이 2차식이지만 linearregression 을 이용해 학습한다. 대신 fittransform 을 이용해 변경된 데이터를 넣어준다. \n",
        "lr2 = LinearRegression()\n",
        "lr2.fit(X_poly, y)\n",
        "\n",
        "# real 3 + 2x + x^2\n",
        "# w0 + w1x w2*x^2\n",
        "print(lr2.coef_, lr2.intercept_) #W_1 과 W_2, W_0 "
      ]
    },
    {
      "cell_type": "code",
      "execution_count": null,
      "metadata": {
        "id": "qVlEMsjqhRey"
      },
      "outputs": [],
      "source": [
        "X_new = np.linspace(-3,3,100).reshape(-1, 1)\n",
        "X_new_poly = poly_f.transform(X_new)\n",
        "pred_new2 = lr2.predict(X_new_poly)"
      ]
    },
    {
      "cell_type": "code",
      "execution_count": null,
      "metadata": {
        "colab": {
          "base_uri": "https://localhost:8080/",
          "height": 374
        },
        "id": "kfQZt0sShRey",
        "outputId": "1721de71-5afc-4877-d045-2bc283b78632"
      },
      "outputs": [
        {
          "data": {
            "image/png": "[encoded data removed]",
            "text/plain": [
              "<Figure size 504x432 with 1 Axes>"
            ]
          },
          "metadata": {
            "needs_background": "light"
          },
          "output_type": "display_data"
        }
      ],
      "source": [
        "plt.figure(figsize=(7,6))\n",
        "\n",
        "plt.scatter(X, y)\n",
        "plt.plot(X_new, pred_new2, color='red')\n",
        "plt.grid(True)\n",
        "plt.show()"
      ]
    },
    {
      "cell_type": "markdown",
      "metadata": {
        "id": "RlQU2swBhRey"
      },
      "source": [
        "### 20 차원"
      ]
    },
    {
      "cell_type": "code",
      "execution_count": null,
      "metadata": {
        "colab": {
          "base_uri": "https://localhost:8080/"
        },
        "id": "ynCgng0WhRez",
        "outputId": "a2df756e-889e-4e48-f635-6df943027e3c"
      },
      "outputs": [
        {
          "data": {
            "text/plain": [
              "((100, 20), (100, 1))"
            ]
          },
          "execution_count": 71,
          "metadata": {},
          "output_type": "execute_result"
        }
      ],
      "source": [
        "pnf = PolynomialFeatures(degree=20, include_bias=False)\n",
        "X_train_poly_20 = pnf.fit_transform(X)\n",
        "X_train_poly_20.shape, X.shape"
      ]
    },
    {
      "cell_type": "code",
      "execution_count": null,
      "metadata": {
        "colab": {
          "base_uri": "https://localhost:8080/"
        },
        "id": "wqAJANHkhRez",
        "outputId": "bb0cfdab-c1a8-411d-b90d-4fa5cf0a7339"
      },
      "outputs": [
        {
          "data": {
            "text/plain": [
              "LinearRegression()"
            ]
          },
          "execution_count": 72,
          "metadata": {},
          "output_type": "execute_result"
        }
      ],
      "source": [
        "lr = LinearRegression()\n",
        "lr.fit(X_train_poly_20, y)"
      ]
    },
    {
      "cell_type": "code",
      "execution_count": null,
      "metadata": {
        "id": "kfK7yJPKhRez"
      },
      "outputs": [],
      "source": [
        "X_new = np.linspace(-3,3,100).reshape(-1, 1)\n",
        "X_new_poly_20 = pnf.transform(X_new)\n",
        "pred_new_20 = lr.predict(X_new_poly_20)"
      ]
    },
    {
      "cell_type": "code",
      "execution_count": null,
      "metadata": {
        "colab": {
          "base_uri": "https://localhost:8080/",
          "height": 374
        },
        "id": "lcIFrBNmhRe0",
        "outputId": "4c193394-3d5a-4ab2-e62f-87e585742f28"
      },
      "outputs": [
        {
          "data": {
            "image/png": "[encoded data removed]",
            "text/plain": [
              "<Figure size 504x432 with 1 Axes>"
            ]
          },
          "metadata": {
            "needs_background": "light"
          },
          "output_type": "display_data"
        }
      ],
      "source": [
        "plt.figure(figsize=(7,6))\n",
        "plt.scatter(X, y)\n",
        "plt.plot(X_new, pred_new_20, color='r', alpha=0.5)\n",
        "plt.show()\n",
        "# overfitting 이 일어남을 알수 있다. "
      ]
    },
    {
      "cell_type": "code",
      "execution_count": null,
      "metadata": {
        "id": "inI7YV8thRe0"
      },
      "outputs": [],
      "source": [
        "# pipeline 생성\n",
        "from sklearn.pipeline import make_pipeline"
      ]
    },
    {
      "cell_type": "code",
      "execution_count": null,
      "metadata": {
        "colab": {
          "base_uri": "https://localhost:8080/"
        },
        "id": "y52fxGa1hRe0",
        "outputId": "b945f692-bbbc-46b0-844a-e36d32e15c00"
      },
      "outputs": [
        {
          "data": {
            "text/plain": [
              "Pipeline(steps=[('polynomialfeatures', PolynomialFeatures()),\n",
              "                ('linearregression', LinearRegression())])"
            ]
          },
          "execution_count": 80,
          "metadata": {},
          "output_type": "execute_result"
        }
      ],
      "source": [
        "model = make_pipeline(\n",
        "    PolynomialFeatures(degree=2),\n",
        "    LinearRegression()\n",
        ")\n",
        "model"
      ]
    },
    {
      "cell_type": "code",
      "execution_count": null,
      "metadata": {
        "colab": {
          "base_uri": "https://localhost:8080/"
        },
        "id": "Yn8UZwYo7-WE",
        "outputId": "b8a4a181-9245-4b32-e421-4437d58ece4a"
      },
      "outputs": [
        {
          "data": {
            "text/plain": [
              "((100, 1), (100,))"
            ]
          },
          "execution_count": 92,
          "metadata": {},
          "output_type": "execute_result"
        }
      ],
      "source": [
        "X.shape, y.shape"
      ]
    },
    {
      "cell_type": "code",
      "execution_count": null,
      "metadata": {
        "colab": {
          "base_uri": "https://localhost:8080/"
        },
        "id": "ZwUMk8OikY0P",
        "outputId": "84b8e0f0-09ac-412d-d07c-ec9f3728ce74"
      },
      "outputs": [
        {
          "data": {
            "text/plain": [
              "Pipeline(steps=[('polynomialfeatures', PolynomialFeatures()),\n",
              "                ('linearregression', LinearRegression())])"
            ]
          },
          "execution_count": 81,
          "metadata": {},
          "output_type": "execute_result"
        }
      ],
      "source": [
        "model.fit(X, y)"
      ]
    },
    {
      "cell_type": "code",
      "execution_count": null,
      "metadata": {
        "colab": {
          "base_uri": "https://localhost:8080/",
          "height": 374
        },
        "id": "8F5RL0cnhRe0",
        "outputId": "218bf9c4-69bd-442a-b6e6-93753f77a06a"
      },
      "outputs": [
        {
          "data": {
            "image/png": "[encoded data removed]",
            "text/plain": [
              "<Figure size 504x432 with 1 Axes>"
            ]
          },
          "metadata": {
            "needs_background": "light"
          },
          "output_type": "display_data"
        }
      ],
      "source": [
        "X_test = np.linspace(-3,3,100).reshape(-1, 1)\n",
        "X_predict = model.predict(X_test)\n",
        "\n",
        "plt.figure(figsize=(7,6))\n",
        "plt.scatter(X, y)\n",
        "plt.plot(X_test, X_predict, color='red')\n",
        "plt.grid(True)\n",
        "plt.show()"
      ]
    },
    {
      "cell_type": "markdown",
      "metadata": {
        "id": "ApYmIcbshRe0"
      },
      "source": [
        "# 실습"
      ]
    },
    {
      "cell_type": "markdown",
      "metadata": {
        "id": "NbUZMDHcvM1V"
      },
      "source": [
        "### 보스턴 주택 가격에 대한 다항 회귀\n",
        "- 2차 회귀 다항식을 이용하여 주택값을 예측해 보자.\n",
        "- 예측후 R2 Score 를 확인해 보자"
      ]
    },
    {
      "cell_type": "code",
      "execution_count": 31,
      "metadata": {
        "id": "mtwnMSPIhRe1"
      },
      "outputs": [
        {
          "name": "stderr",
          "output_type": "stream",
          "text": [
            "c:\\Users\\KOJUNSUNG\\anaconda3\\lib\\site-packages\\sklearn\\utils\\deprecation.py:87: FutureWarning: Function load_boston is deprecated; `load_boston` is deprecated in 1.0 and will be removed in 1.2.\n",
            "\n",
            "    The Boston housing prices dataset has an ethical problem. You can refer to\n",
            "    the documentation of this function for further details.\n",
            "\n",
            "    The scikit-learn maintainers therefore strongly discourage the use of this\n",
            "    dataset unless the purpose of the code is to study and educate about\n",
            "    ethical issues in data science and machine learning.\n",
            "\n",
            "    In this special case, you can fetch the dataset from the original\n",
            "    source::\n",
            "\n",
            "        import pandas as pd\n",
            "        import numpy as np\n",
            "\n",
            "\n",
            "        data_url = \"http://lib.stat.cmu.edu/datasets/boston\"\n",
            "        raw_df = pd.read_csv(data_url, sep=\"\\s+\", skiprows=22, header=None)\n",
            "        data = np.hstack([raw_df.values[::2, :], raw_df.values[1::2, :2]])\n",
            "        target = raw_df.values[1::2, 2]\n",
            "\n",
            "    Alternative datasets include the California housing dataset (i.e.\n",
            "    :func:`~sklearn.datasets.fetch_california_housing`) and the Ames housing\n",
            "    dataset. You can load the datasets as follows::\n",
            "\n",
            "        from sklearn.datasets import fetch_california_housing\n",
            "        housing = fetch_california_housing()\n",
            "\n",
            "    for the California housing dataset and::\n",
            "\n",
            "        from sklearn.datasets import fetch_openml\n",
            "        housing = fetch_openml(name=\"house_prices\", as_frame=True)\n",
            "\n",
            "    for the Ames housing dataset.\n",
            "    \n",
            "  warnings.warn(msg, category=FutureWarning)\n"
          ]
        }
      ],
      "source": [
        "from sklearn.pipeline import make_pipeline\n",
        "from sklearn.preprocessing import PolynomialFeatures\n",
        "from sklearn.linear_model import LinearRegression\n",
        "from sklearn.metrics import mean_squared_error, r2_score\n",
        "import numpy as np\n",
        "import pandas as pd\n",
        "import matplotlib.pyplot as plt\n",
        "from sklearn.datasets import load_boston\n",
        "from sklearn.model_selection import train_test_split\n",
        "\n",
        "x, y = load_boston(return_X_y = True)\n",
        "x_train, x_test, y_train, y_test = train_test_split(x, y)\n"
      ]
    },
    {
      "cell_type": "code",
      "execution_count": 29,
      "metadata": {},
      "outputs": [],
      "source": [
        "from sklearn.preprocessing import StandardScaler, MinMaxScaler"
      ]
    },
    {
      "cell_type": "code",
      "execution_count": 33,
      "metadata": {},
      "outputs": [],
      "source": [
        "model = make_pipeline(\n",
        "    PolynomialFeatures(degree=2),\n",
        "    StandardScaler(),\n",
        "    LinearRegression()\n",
        ")"
      ]
    },
    {
      "cell_type": "code",
      "execution_count": 34,
      "metadata": {},
      "outputs": [
        {
          "data": {
            "text/plain": [
              "Pipeline(steps=[('polynomialfeatures', PolynomialFeatures()),\n",
              "                ('standardscaler', StandardScaler()),\n",
              "                ('linearregression', LinearRegression())])"
            ]
          },
          "execution_count": 34,
          "metadata": {},
          "output_type": "execute_result"
        }
      ],
      "source": [
        "model"
      ]
    },
    {
      "cell_type": "code",
      "execution_count": 9,
      "metadata": {},
      "outputs": [
        {
          "data": {
            "text/plain": [
              "(379, 13)"
            ]
          },
          "execution_count": 9,
          "metadata": {},
          "output_type": "execute_result"
        }
      ],
      "source": [
        "x_train.shape"
      ]
    },
    {
      "cell_type": "code",
      "execution_count": 35,
      "metadata": {},
      "outputs": [
        {
          "data": {
            "text/plain": [
              "Pipeline(steps=[('polynomialfeatures', PolynomialFeatures()),\n",
              "                ('standardscaler', StandardScaler()),\n",
              "                ('linearregression', LinearRegression())])"
            ]
          },
          "execution_count": 35,
          "metadata": {},
          "output_type": "execute_result"
        }
      ],
      "source": [
        "model.fit(x_train,y_train)"
      ]
    },
    {
      "cell_type": "code",
      "execution_count": 21,
      "metadata": {},
      "outputs": [],
      "source": [
        "y_pred=model.predict(x_test)"
      ]
    },
    {
      "cell_type": "code",
      "execution_count": 22,
      "metadata": {},
      "outputs": [
        {
          "data": {
            "text/plain": [
              "array([34.11608565, 51.67475903, 16.81629455, 49.91788888, 14.65878463,\n",
              "       44.8754071 , 21.93159389, 26.48986948, 23.53239107, 25.86479771,\n",
              "       27.39564848, 66.76745296, 16.71478093, 38.06376779, 21.4433589 ,\n",
              "       34.19295156, 19.79618382,  5.6544652 , 29.36895025, 17.75962961,\n",
              "       22.26377046, 23.28844166, 13.61617815, 23.35270703, 17.777771  ,\n",
              "       38.80841684, 24.67034376, 25.49365842, 22.22491539, 21.46011221,\n",
              "       11.7062043 , 22.32893646, 30.88452017, 22.13354969, 24.98472035,\n",
              "       66.41785204, 22.05214989, 19.34419203, 16.76983392, 20.86270201,\n",
              "        8.9332273 , 24.70341265, 18.96970522,  7.15424943, 53.47423816,\n",
              "       22.27895904, 23.18813539, 31.10358953, 19.55576277, 19.23196661,\n",
              "       16.37472475, 15.04318178, 43.11608315, 14.58349717, 11.08888018,\n",
              "       17.87853074, 17.9311738 , 32.04054081, 20.08504176, 62.1173948 ,\n",
              "       19.00010478, 42.84893155, 40.84935558, 25.72148359, 21.26391912,\n",
              "       24.78124821, 31.76458979, 21.31396341, 35.26687813, 20.95725429,\n",
              "        8.06843317, 27.27726412, 31.7353425 , 27.51973605, 13.87120187,\n",
              "       24.56671357, 43.93987513, 31.5135175 , 33.59290683, 22.53770542,\n",
              "       20.90849948, 30.8448813 , 17.15283048, 13.6311444 , 21.06111932,\n",
              "       22.38680792, 41.7844559 , 15.81948328, 11.90097535, 21.29447687,\n",
              "       21.0431354 , 24.07180071, 67.69849086, 20.4783833 , 20.56212747,\n",
              "       14.04510283, 15.11693132, 20.61031747, 26.51442039, 51.28871012,\n",
              "       47.80116713, 28.14015985, 29.41022658, 27.79531372, 13.36982858,\n",
              "       25.69729853, 28.7658217 , 20.09826744, 19.38003325, 20.80052054,\n",
              "       32.53213859, 15.96613777, 17.50525951, 29.77307475, 17.63657093,\n",
              "       23.5153991 , 21.55510163, 15.63080537, 23.62442398, 34.9389143 ,\n",
              "       26.66663885, 17.85522652, 25.31543899, 27.33635616, 22.58825278,\n",
              "       14.64070535, 21.20717013])"
            ]
          },
          "execution_count": 22,
          "metadata": {},
          "output_type": "execute_result"
        }
      ],
      "source": [
        "y_pred"
      ]
    },
    {
      "cell_type": "code",
      "execution_count": 36,
      "metadata": {},
      "outputs": [
        {
          "data": {
            "text/plain": [
              "0.8578952048083769"
            ]
          },
          "execution_count": 36,
          "metadata": {},
          "output_type": "execute_result"
        }
      ],
      "source": [
        "model.score(x_train,y_train)"
      ]
    },
    {
      "cell_type": "code",
      "execution_count": 37,
      "metadata": {},
      "outputs": [
        {
          "data": {
            "text/plain": [
              "0.6491865926575329"
            ]
          },
          "execution_count": 37,
          "metadata": {},
          "output_type": "execute_result"
        }
      ],
      "source": [
        "model.score(x_test,y_test)"
      ]
    },
    {
      "cell_type": "markdown",
      "metadata": {
        "id": "xSoT5BRXvnDe"
      },
      "source": [
        "### 캘리포니아 주택 가격에 대한 다항 회귀"
      ]
    },
    {
      "cell_type": "code",
      "execution_count": null,
      "metadata": {
        "id": "DyIurCC8hRe1"
      },
      "outputs": [],
      "source": [
        "from sklearn.datasets import fetch_california_housing\n",
        "california = fetch_california_housing()\n",
        "\n",
        "x_train, x_test, y_train, y_test = train_test_split(california.data, california.target, test_size = 0.2)"
      ]
    },
    {
      "cell_type": "code",
      "execution_count": 38,
      "metadata": {},
      "outputs": [
        {
          "data": {
            "text/plain": [
              "array([2.81838e+00, 0.00000e+00, 1.81000e+01, 0.00000e+00, 5.32000e-01,\n",
              "       5.76200e+00, 4.03000e+01, 4.09830e+00, 2.40000e+01, 6.66000e+02,\n",
              "       2.02000e+01, 3.92920e+02, 1.04200e+01])"
            ]
          },
          "execution_count": 38,
          "metadata": {},
          "output_type": "execute_result"
        }
      ],
      "source": [
        "x_train[0] #특성(=feature)이 13개"
      ]
    },
    {
      "cell_type": "code",
      "execution_count": 44,
      "metadata": {},
      "outputs": [
        {
          "data": {
            "text/plain": [
              "Pipeline(steps=[('polynomialfeatures', PolynomialFeatures()),\n",
              "                ('standardscaler', StandardScaler()),\n",
              "                ('linearregression', LinearRegression())])"
            ]
          },
          "execution_count": 44,
          "metadata": {},
          "output_type": "execute_result"
        }
      ],
      "source": [
        "model_2 = make_pipeline(\n",
        "    PolynomialFeatures(degree = 2),\n",
        "    StandardScaler(),\n",
        "    LinearRegression()\n",
        ")\n",
        "model_2.fit(x_train, y_train)"
      ]
    },
    {
      "cell_type": "code",
      "execution_count": 45,
      "metadata": {},
      "outputs": [
        {
          "name": "stdout",
          "output_type": "stream",
          "text": [
            "Train Data Score : 0.8578952048083769\n",
            "Test Data Score : 0.6491865926575329\n"
          ]
        }
      ],
      "source": [
        "print(f'Train Data Score : {model_2.score(x_train, y_train)}')\n",
        "print(f'Test Data Score : {model_2.score(x_test, y_test)}')"
      ]
    },
    {
      "cell_type": "code",
      "execution_count": 39,
      "metadata": {},
      "outputs": [],
      "source": [
        "def plot_california_prices(expected, predicted):\n",
        "  plt.figure(figsize = (8, 4))\n",
        "  plt.scatter(expected, predicted)\n",
        "  plt.plot([0, 5], [0, 5], '--r') \n",
        "  plt.xlabel('True price ($100,000s)')\n",
        "  plt.ylabel('Predicted pirce ($100,000s)')\n",
        "  plt.tight_layout()"
      ]
    },
    {
      "cell_type": "code",
      "execution_count": 42,
      "metadata": {},
      "outputs": [
        {
          "data": {
            "image/png": "[encoded data removed]",
            "text/plain": [
              "<Figure size 576x288 with 1 Axes>"
            ]
          },
          "metadata": {
            "needs_background": "light"
          },
          "output_type": "display_data"
        }
      ],
      "source": [
        "predicted = model_2.predict(x_test)\n",
        "expected = y_test\n",
        "plot_california_prices(expected, predicted)"
      ]
    },
    {
      "cell_type": "code",
      "execution_count": null,
      "metadata": {},
      "outputs": [],
      "source": []
    }
  ],
  "metadata": {
    "colab": {
      "provenance": []
    },
    "kernelspec": {
      "display_name": "base",
      "language": "python",
      "name": "python3"
    },
    "language_info": {
      "codemirror_mode": {
        "name": "ipython",
        "version": 3
      },
      "file_extension": ".py",
      "mimetype": "text/x-python",
      "name": "python",
      "nbconvert_exporter": "python",
      "pygments_lexer": "ipython3",
      "version": "3.9.12"
    },
    "vscode": {
      "interpreter": {
        "hash": "80cc27e9a0e8aa59b18a6f502b8a24c9fe77be3bcd87d0900d8763aa62f81a4d"
      }
    }
  },
  "nbformat": 4,
  "nbformat_minor": 0
}
