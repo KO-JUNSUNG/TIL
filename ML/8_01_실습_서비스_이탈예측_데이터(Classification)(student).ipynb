{
  "cells": [
    {
      "cell_type": "markdown",
      "metadata": {
        "id": "Sap7fJJiTpdg"
      },
      "source": [
        "# 작업 2유형\n",
        "- https://www.datamanim.com/dataset/03_dataq/typetwo.html#id3"
      ]
    },
    {
      "cell_type": "markdown",
      "metadata": {
        "id": "GHtmjLJfTpdi"
      },
      "source": [
        "# 1. 서비스 이탈예측 데이터(Classification)\n",
        "\n",
        "> Attention\n",
        "- 데이터 설명 : 고객의 신상정보 데이터를 통한 회사 서비스 이탈 예측 (종속변수 : Exited)\n",
        "- 데이터 출처 : https://www.kaggle.com/shubh0799/churn-modelling 에서 변형\n",
        "- X_train : https://raw.githubusercontent.com/Datamanim/datarepo/main/churnk/X_train.csv\n",
        "- y_train : https://raw.githubusercontent.com/Datamanim/datarepo/main/churnk/y_train.csv\n",
        "- X_test : https://raw.githubusercontent.com/Datamanim/datarepo/main/churnk/X_test.csv\n",
        "- y_test(평가용) : https://raw.githubusercontent.com/Datamanim/datarepo/main/churnk/y_test.csv"
      ]
    },
    {
      "cell_type": "markdown",
      "metadata": {
        "id": "6UUOunkaTpdj"
      },
      "source": [
        "#### 0. 시험 환경 세팅"
      ]
    },
    {
      "cell_type": "code",
      "execution_count": null,
      "metadata": {},
      "outputs": [],
      "source": [
        "# gridsearchcv 로 각 모델별로 최적화 패러미터를 찾은 다음\n",
        "# 앙상블로 분류예측이 가장 최적화 루트"
      ]
    },
    {
      "cell_type": "code",
      "execution_count": null,
      "metadata": {
        "id": "9MtnEeWnTpdj",
        "outputId": "706a91cf-c73a-4c3c-bed8-dc3710d70b14"
      },
      "outputs": [
        {
          "data": {
            "text/plain": [
              "((6499, 12), (6499, 2), (3501, 12), (3501, 2))"
            ]
          },
          "execution_count": 1,
          "metadata": {},
          "output_type": "execute_result"
        }
      ],
      "source": [
        "import pandas as pd\n",
        "\n",
        "X_train = pd.read_csv(\"https://raw.githubusercontent.com/Datamanim/datarepo/main/churnk/X_train.csv\")\n",
        "y_train = pd.read_csv(\"https://raw.githubusercontent.com/Datamanim/datarepo/main/churnk/y_train.csv\")\n",
        "X_test= pd.read_csv(\"https://raw.githubusercontent.com/Datamanim/datarepo/main/churnk/X_test.csv\")\n",
        "y_test = pd.read_csv(\"https://raw.githubusercontent.com/Datamanim/datarepo/main/churnk/y_test.csv\")\n",
        "\n",
        "X_train.shape, y_train.shape, X_test.shape, y_test.shape"
      ]
    },
    {
      "cell_type": "markdown",
      "metadata": {
        "id": "SSKf0VWdTpdk"
      },
      "source": [
        "#### 1. 라이브러리 및 데이터 호출"
      ]
    },
    {
      "cell_type": "code",
      "execution_count": null,
      "metadata": {
        "id": "O0lBIlG7Tpdk"
      },
      "outputs": [],
      "source": [
        "# 필요한 라이브러리 import"
      ]
    },
    {
      "cell_type": "code",
      "execution_count": null,
      "metadata": {
        "id": "nfhEob3uTpdl"
      },
      "outputs": [],
      "source": [
        "import numpy as np\n",
        "import pandas as pd"
      ]
    },
    {
      "cell_type": "markdown",
      "metadata": {
        "id": "r9B35OzsTpdl"
      },
      "source": [
        "- CustomerId 컬럼 제거\n",
        "- y_train의 Exited 컬럼을 label data 로 지정"
      ]
    },
    {
      "cell_type": "code",
      "execution_count": null,
      "metadata": {
        "id": "nD-40UkbTpdl"
      },
      "outputs": [],
      "source": []
    },
    {
      "cell_type": "markdown",
      "metadata": {
        "id": "HOsqLeVFTpdl"
      },
      "source": [
        "#### 2. EDA\n",
        "- X_train 의 기초 통계량, null 값 확인"
      ]
    },
    {
      "cell_type": "code",
      "execution_count": null,
      "metadata": {
        "id": "mp-ZPdpDTpdm"
      },
      "outputs": [],
      "source": [
        "# X_train 의 기초 통계량, null 값 확인"
      ]
    },
    {
      "cell_type": "code",
      "execution_count": null,
      "metadata": {
        "id": "h2bdOaqjTpdm"
      },
      "outputs": [],
      "source": []
    },
    {
      "cell_type": "markdown",
      "metadata": {
        "id": "WeJZJ9qxTpdm"
      },
      "source": [
        "#### 3. Preprocessing\n",
        "- Gender : 띄어쓰기 제거 및 대문자 변경\n",
        "- 수치형 컬럼 : 정규화(MinMaxScaler)\n",
        "- 범주형 컬럼 : 인코딩(LabelEncoder)"
      ]
    },
    {
      "cell_type": "code",
      "execution_count": null,
      "metadata": {
        "id": "ddIFTGJATpdm"
      },
      "outputs": [],
      "source": [
        "# 띄어쓰기 제거\n",
        "# 대문자 로 전부 변경"
      ]
    },
    {
      "cell_type": "code",
      "execution_count": null,
      "metadata": {
        "id": "hppTC_V6Tpdm"
      },
      "outputs": [],
      "source": []
    },
    {
      "cell_type": "code",
      "execution_count": null,
      "metadata": {
        "id": "IFC3dktcTpdm"
      },
      "outputs": [],
      "source": [
        "# 수치형 컬럼 정규화"
      ]
    },
    {
      "cell_type": "code",
      "execution_count": null,
      "metadata": {
        "id": "TSCxdKWKTpdn"
      },
      "outputs": [],
      "source": []
    },
    {
      "cell_type": "code",
      "execution_count": null,
      "metadata": {
        "id": "n9flpacXTpdn"
      },
      "outputs": [],
      "source": [
        "# 범주형 컬럼 인코딩"
      ]
    },
    {
      "cell_type": "code",
      "execution_count": null,
      "metadata": {
        "id": "tTR9ICKWTpdn"
      },
      "outputs": [],
      "source": []
    },
    {
      "attachments": {},
      "cell_type": "markdown",
      "metadata": {
        "id": "YDrKBdm7Tpdn"
      },
      "source": [
        "#### 4. Modeling\n",
        "- 분류MODEL 을 이용해 서비스 이탈예측\n",
        "- 각 MODEL 의 기본값을 이용해 예측해 보세요\n",
        "    - logistic regressor\n",
        "    - KNN\n",
        "    - SVC\n",
        "    - RandomForestClassifier\n",
        "    - XGBClassifier\n",
        "- accuracy_score, roc_auc_score 를 이용해 평가\n",
        "    - accuracy : 0.85\n",
        "    - auc : 0.85\n",
        "- gridsearch를 활용한 best model 과 best_parameter, RandomForestClassifier의 feature_importances_ 는 어떤값을 나타 내는가?"
      ]
    },
    {
      "cell_type": "code",
      "execution_count": null,
      "metadata": {
        "id": "kbvFnjl3Tpdn"
      },
      "outputs": [],
      "source": []
    },
    {
      "cell_type": "code",
      "execution_count": null,
      "metadata": {
        "id": "-x7wQxZCTpdn"
      },
      "outputs": [],
      "source": []
    }
  ],
  "metadata": {
    "colab": {
      "provenance": []
    },
    "kernelspec": {
      "display_name": "base",
      "language": "python",
      "name": "python3"
    },
    "language_info": {
      "codemirror_mode": {
        "name": "ipython",
        "version": 3
      },
      "file_extension": ".py",
      "mimetype": "text/x-python",
      "name": "python",
      "nbconvert_exporter": "python",
      "pygments_lexer": "ipython3",
      "version": "3.9.12 (main, Apr  4 2022, 05:22:27) [MSC v.1916 64 bit (AMD64)]"
    },
    "vscode": {
      "interpreter": {
        "hash": "80cc27e9a0e8aa59b18a6f502b8a24c9fe77be3bcd87d0900d8763aa62f81a4d"
      }
    }
  },
  "nbformat": 4,
  "nbformat_minor": 0
}
