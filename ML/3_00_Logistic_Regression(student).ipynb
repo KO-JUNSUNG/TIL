{
  "cells": [
    {
      "cell_type": "markdown",
      "metadata": {
        "id": "5JTwKztEkypb"
      },
      "source": [
        "- 익은 복숭아 vs 안익은 복숭아 pass\n",
        "\n",
        "- 큰 복숭아 vs 작은 복숭아 \n",
        "    - 예) 소프트볼 공\n",
        "- 딱딱한 복숭아 vs 물렁한 복숭아\n",
        "    - 예) 눌렀을때 파이는 정도\n",
        "\n",
        "- 큰복숭아 + 물복 -> 익은복숭아"
      ]
    },
    {
      "cell_type": "code",
      "execution_count": null,
      "metadata": {
        "id": "n4rMYRgkkype"
      },
      "outputs": [],
      "source": []
    },
    {
      "cell_type": "markdown",
      "metadata": {
        "id": "PC5iYX_87zOH"
      },
      "source": [
        "# 1.Logistic Regression\n"
      ]
    },
    {
      "cell_type": "markdown",
      "metadata": {
        "id": "j952JCeI8Pj1"
      },
      "source": [
        "- 연속적인 Label data가 아니라 이산적인 Label data 면 어떻게 학습해야 할까?\n",
        "\n",
        "## 1.0 binary classification\n",
        "- 2개의 종류로 나뉘어진 데이터를 분류하는 문제입니다. \n",
        "- 스팸메일인가 아닌가\n",
        "- 감자인가 말하는 감자인가\n",
        "- 정상품인가 불량품인가\n",
        "- 0 인가 1인가 "
      ]
    },
    {
      "cell_type": "markdown",
      "metadata": {
        "id": "O_U2Nd7N_87Z"
      },
      "source": [
        "## 1.1 Logistic function\n",
        "\n",
        "- Logistic regression을 진행하기 위해서는 출력 값을 0과 1의 값으로 변경해야 한다. \n",
        "- Score 를 0 과 1사이의 값으로 변경하기 위해 `Sigmoid(logistic) function` 을 사용\n",
        "\n",
        "$$\\sigma(z) = \\frac{1}{1 + e^{-z}}$$\n",
        "\n",
        "- Logistic regression을 진행할 때 입력 데이터를 $x$, 실제 class 값을 $y$, 예측된 출력 값을 $\\hat{y}$라고 하면 $x$는 두가지 변환을 거쳐서 $\\hat{y}$가 됩니다. \n",
        "$$z = wx + b$$\n",
        "$$\\hat{y} = \\sigma(z)$$\n",
        "\n",
        "### Goal\n",
        "- $\\hat{y}$가 실제 $y$와 가장 가깝게 되도록 하는 $w$와 $b$를 찾는 것 "
      ]
    },
    {
      "cell_type": "code",
      "execution_count": null,
      "metadata": {
        "id": "ZlmjLSrIkypg",
        "outputId": "8991026e-a626-433b-d5ee-bd4f4bbd31cc"
      },
      "outputs": [
        {
          "name": "stdout",
          "output_type": "stream",
          "text": [
            "Requirement already satisfied: sympy in /mnt/c/Users/banya/Desktop/lab/pandas/lib/python3.10/site-packages (1.11.1)\n",
            "Requirement already satisfied: mpmath>=0.19 in /mnt/c/Users/banya/Desktop/lab/pandas/lib/python3.10/site-packages (from sympy) (1.2.1)\n",
            "Requirement already satisfied: autograd in /mnt/c/Users/banya/Desktop/lab/pandas/lib/python3.10/site-packages (1.5)\n",
            "Requirement already satisfied: future>=0.15.2 in /mnt/c/Users/banya/Desktop/lab/pandas/lib/python3.10/site-packages (from autograd) (0.18.2)\n",
            "Requirement already satisfied: numpy>=1.12 in /mnt/c/Users/banya/Desktop/lab/pandas/lib/python3.10/site-packages (from autograd) (1.23.5)\n"
          ]
        }
      ],
      "source": [
        "!pip install sympy\n",
        "!pip install autograd"
      ]
    },
    {
      "cell_type": "code",
      "execution_count": null,
      "metadata": {
        "id": "o6XG4PsA7yCn"
      },
      "outputs": [],
      "source": [
        "import sympy\n",
        "import numpy\n",
        "\n",
        "from matplotlib import pyplot\n",
        "%matplotlib inline"
      ]
    },
    {
      "cell_type": "code",
      "execution_count": null,
      "metadata": {
        "colab": {
          "base_uri": "https://localhost:8080/",
          "height": 52
        },
        "id": "wl47Xbw7CKOb",
        "outputId": "0b596145-5b67-4c38-e6ca-2a35d9950bfd"
      },
      "outputs": [
        {
          "data": {
            "text/latex": [
              "$\\displaystyle \\frac{1}{1 + e^{- z}}$"
            ],
            "text/plain": [
              "1/(1 + exp(-z))"
            ]
          },
          "execution_count": 4,
          "metadata": {},
          "output_type": "execute_result"
        }
      ],
      "source": [
        "z = sympy.Symbol('z', real=True)\n",
        "\n",
        "logistic = 1/(1+ sympy.exp(-z))\n",
        "logistic"
      ]
    },
    {
      "cell_type": "markdown",
      "metadata": {
        "id": "BMuHix_ukypj"
      },
      "source": [
        "__참고__\n",
        "- a = symbols(\"a\", integer = True) #정수\n",
        "- b = symbols(\"b\", real = True) #실수\n",
        "- c = symbols(\"c\", complex = True) #복소수\n",
        "- d = symbols(\"d\", positive = True) #양수\n",
        "- f, g = symbols(\"f g\", cls = Function) #함수 기호로 정의"
      ]
    },
    {
      "cell_type": "code",
      "execution_count": null,
      "metadata": {
        "colab": {
          "base_uri": "https://localhost:8080/",
          "height": 296
        },
        "id": "wx9uQ9diCLio",
        "outputId": "ee0e9b02-f1e2-4959-87ec-f6f8062472ac"
      },
      "outputs": [
        {
          "data": {
            "image/png": "[encoded data removed]",
            "text/plain": [
              "<Figure size 640x480 with 1 Axes>"
            ]
          },
          "metadata": {},
          "output_type": "display_data"
        },
        {
          "data": {
            "text/plain": [
              "<sympy.plotting.plot.Plot at 0x7fdeb1402e90>"
            ]
          },
          "execution_count": 5,
          "metadata": {},
          "output_type": "execute_result"
        }
      ],
      "source": [
        "sympy.plotting.plot(logistic)"
      ]
    },
    {
      "cell_type": "code",
      "execution_count": null,
      "metadata": {
        "colab": {
          "base_uri": "https://localhost:8080/",
          "height": 265
        },
        "id": "kT-4DzmUCM7A",
        "outputId": "4160c0d9-ee35-4ed7-d263-4280902628a8"
      },
      "outputs": [
        {
          "data": {
            "text/plain": [
              "<matplotlib.collections.PathCollection at 0x7fdede5af160>"
            ]
          },
          "execution_count": 6,
          "metadata": {},
          "output_type": "execute_result"
        },
        {
          "data": {
            "image/png": "[encoded data removed]",
            "text/plain": [
              "<Figure size 640x480 with 1 Axes>"
            ]
          },
          "metadata": {},
          "output_type": "display_data"
        }
      ],
      "source": [
        "# nois 를 추가한 Data\n",
        "x_data = numpy.linspace(-5, 5, 100)\n",
        "w = 2\n",
        "b = 1\n",
        "numpy.random.seed(0)\n",
        "z_data = w * x_data + b + numpy.random.normal(size=len(x_data)) # numpy.random.normal(size=len(x_data)) nois 추가\n",
        "y_data = 1 / (1+ numpy.exp(-z_data))\n",
        "\n",
        "pyplot.scatter(x_data, y_data, alpha=0.2)"
      ]
    },
    {
      "cell_type": "code",
      "execution_count": null,
      "metadata": {
        "colab": {
          "base_uri": "https://localhost:8080/",
          "height": 265
        },
        "id": "PolN3Oc-DHem",
        "outputId": "c63cbdac-acb8-4e62-e0f9-73904d04f169"
      },
      "outputs": [
        {
          "data": {
            "text/plain": [
              "<matplotlib.collections.PathCollection at 0x7fdeaefbf7c0>"
            ]
          },
          "execution_count": 13,
          "metadata": {},
          "output_type": "execute_result"
        },
        {
          "data": {
            "image/png": "[encoded data removed]",
            "text/plain": [
              "<Figure size 640x480 with 1 Axes>"
            ]
          },
          "metadata": {},
          "output_type": "display_data"
        }
      ],
      "source": [
        "y_data = numpy.where(y_data >= 0.5, 1, 0) # 0.5를 기준으로 0.5 보다 크면 1, 작으면 0 이라고 하자\n",
        "pyplot.scatter(x_data, y_data, alpha=0.2)"
      ]
    },
    {
      "cell_type": "markdown",
      "metadata": {
        "id": "HdpwKYU4D2AQ"
      },
      "source": [
        "## 1.2 Logistic loss function\n",
        "- Predict Data $\\hat{y}$과 Label $y$가 가장 가깝게 되도록 하는 $w$와 $b$를 찾는것이 우리의 목표\n",
        "\n",
        "### Cost Function\n",
        "- Linear regression -> MSE \n",
        "- Logistic regression -> ?\n",
        "\n",
        "- Logistic regression MSE 를 적용하면 convex 한 형태가 아니다. \n",
        "\n",
        "- linear regression에서의 MSE\n",
        "$$\\frac{1}{n} \\sum_{i=1}^n (y_i - (wx_i + b))^2$$\n",
        "\n",
        "\n",
        "- logistic regression에서의 MSE\n",
        "$$\\frac{1}{n} \\sum_{i=1}^n (y_i - \\sigma(wx_i + b))^2$$"
      ]
    },
    {
      "cell_type": "markdown",
      "metadata": {
        "id": "85g2bauNkypm"
      },
      "source": [
        "### 예\n",
        "$w = 1, b=0$ , $(x, y) : (-1, 2), (-20, -1), (-5, 5)$ 일 때 cost function 그래프"
      ]
    },
    {
      "cell_type": "code",
      "execution_count": null,
      "metadata": {
        "colab": {
          "base_uri": "https://localhost:8080/",
          "height": 61
        },
        "id": "OUJU-DJtJQ4t",
        "outputId": "479671d0-f575-47ff-d2a5-5fc78b0e020e"
      },
      "outputs": [
        {
          "data": {
            "text/latex": [
              "$\\displaystyle \\left(-1 - \\frac{1}{1 + e^{- 20 z}}\\right)^{2} + \\left(2 - \\frac{1}{1 + e^{- z}}\\right)^{2} + \\left(5 - \\frac{1}{1 + e^{- 5 z}}\\right)^{2}$"
            ],
            "text/plain": [
              "(-1 - 1/(1 + exp(-20*z)))**2 + (2 - 1/(1 + exp(-z)))**2 + (5 - 1/(1 + exp(-5*z)))**2"
            ]
          },
          "execution_count": 14,
          "metadata": {},
          "output_type": "execute_result"
        }
      ],
      "source": [
        "badloss = (2 - 1/(1+ sympy.exp(-z)))**2 + \\\n",
        "          (-1 - 1/(1+ sympy.exp(-20*z)))**2  + \\\n",
        "          (5 - 1/(1+ sympy.exp(-5*z)))**2\n",
        "badloss"
      ]
    },
    {
      "cell_type": "code",
      "execution_count": null,
      "metadata": {
        "colab": {
          "base_uri": "https://localhost:8080/",
          "height": 297
        },
        "id": "u7CHq0w-mRGf",
        "outputId": "434dc275-0484-438b-c525-66d98745a759"
      },
      "outputs": [
        {
          "data": {
            "image/png": "[encoded data removed]",
            "text/plain": [
              "<Figure size 640x480 with 1 Axes>"
            ]
          },
          "metadata": {},
          "output_type": "display_data"
        },
        {
          "data": {
            "text/plain": [
              "<sympy.plotting.plot.Plot at 0x7fdeaed8a620>"
            ]
          },
          "execution_count": 15,
          "metadata": {},
          "output_type": "execute_result"
        }
      ],
      "source": [
        "sympy.plotting.plot(badloss, xlim=(-1,1))"
      ]
    },
    {
      "cell_type": "markdown",
      "metadata": {
        "id": "8CPKIhZTmVrU"
      },
      "source": [
        "Gradient descent 방식으로 위 cost function의 최솟값을 구하게 되면 어떻게 될까? \n",
        "- 중간에 기울기가 0인 지점에서 멈추게 된다.(왜?)"
      ]
    },
    {
      "cell_type": "markdown",
      "metadata": {
        "id": "pGka-88WDhIZ"
      },
      "source": [
        "# cost function $L$\n",
        "- cross entropy function 을 사용함\n",
        "- 이진분류 model에서의 cost function은 다음과 같은 함수를 사용한다. \n",
        "$$ L = -y \\log(a) + (y-1)\\log(1-a) $$"
      ]
    },
    {
      "cell_type": "markdown",
      "metadata": {
        "id": "wLFnuDIikypn"
      },
      "source": [
        "- 이제 실제로 차이가 클 때 $L$ 값도 커질까? \n",
        "- $y=1$인 경우 $L = -\\log(a)$\n",
        "- $a$ : 예측한값\n",
        "- $f(a)$ : costfunction 의 값\n",
        "- 정답 class 가 1인 경우 predict 값이 0에 가까워지면 costfunction의 값은 점점 커지고\n",
        "- 정답 class 가 1인 경우 predict 값이 1에 가까워지면 costfunction의 값은 0에 가까워 진다. "
      ]
    },
    {
      "cell_type": "code",
      "execution_count": null,
      "metadata": {
        "colab": {
          "base_uri": "https://localhost:8080/",
          "height": 297
        },
        "id": "1iU8OR9zDXVn",
        "outputId": "41a2565a-c0f7-4bc4-9507-9ec3b8429683"
      },
      "outputs": [
        {
          "data": {
            "image/png": "[encoded data removed]",
            "text/plain": [
              "<Figure size 640x480 with 1 Axes>"
            ]
          },
          "metadata": {},
          "output_type": "display_data"
        },
        {
          "data": {
            "text/plain": [
              "<sympy.plotting.plot.Plot at 0x7fdeae99bdf0>"
            ]
          },
          "execution_count": 21,
          "metadata": {},
          "output_type": "execute_result"
        }
      ],
      "source": [
        "a = 0.5\n",
        "sympy.plotting.plot(-sympy.log(a), xlim=(0,1))"
      ]
    },
    {
      "cell_type": "markdown",
      "metadata": {
        "id": "z1sYhc0aE_CU"
      },
      "source": [
        "Label class 가 1일 때 예측 값이 0에 가까워지면 cost function값이 커지고, 1에 가까워지면 cost function이 작아진다."
      ]
    },
    {
      "cell_type": "markdown",
      "metadata": {
        "id": "IIz2YXdTkypn"
      },
      "source": [
        "- $y=0$인 경우 $L = \\log(1-a)$\n",
        "- 정답 class 가 0인 경우 predict 값이 1에 가까워지면 costfunction의 값은 점점 커지고\n",
        "- 정답 class 가 0인 경우 predict 값이 0에 가까워지면 costfunction의 값은 0에 가까워 진다. "
      ]
    },
    {
      "cell_type": "code",
      "execution_count": null,
      "metadata": {
        "colab": {
          "base_uri": "https://localhost:8080/",
          "height": 297
        },
        "id": "E6d2ppuEE-SH",
        "outputId": "fda8eec3-51df-4750-e5d6-90194bf18fcf"
      },
      "outputs": [
        {
          "data": {
            "image/png": "[encoded data removed]",
            "text/plain": [
              "<Figure size 640x480 with 1 Axes>"
            ]
          },
          "metadata": {},
          "output_type": "display_data"
        },
        {
          "data": {
            "text/plain": [
              "<sympy.plotting.plot.Plot at 0x7fdeae8b5180>"
            ]
          },
          "execution_count": 23,
          "metadata": {},
          "output_type": "execute_result"
        }
      ],
      "source": [
        "a = 0.2\n",
        "sympy.plotting.plot(-sympy.log(1-a), xlim=(0,1))"
      ]
    },
    {
      "cell_type": "markdown",
      "metadata": {
        "id": "xWO0g8TlFe17"
      },
      "source": [
        "Predict 값이 label값과 가까워지면 cost function값이 작아지고 멀어지면 커지게 된다."
      ]
    },
    {
      "cell_type": "markdown",
      "metadata": {
        "id": "h45s_7puFlhT"
      },
      "source": [
        "## 1.3 autograd function을 이용해 최적의 parameters 를 찾아보자 \n",
        "- logistic regression의 전체적인 과정 구현\n",
        "- Goal : GD 방식을 이용해 w와 b의 최적값을 찾아 내자"
      ]
    },
    {
      "cell_type": "code",
      "execution_count": null,
      "metadata": {
        "colab": {
          "base_uri": "https://localhost:8080/",
          "height": 52
        },
        "id": "6gt2Pt9XFdzJ",
        "outputId": "35c6f6bc-d8fb-4b8d-f45f-da50627acc1a"
      },
      "outputs": [
        {
          "data": {
            "text/plain": [
              "<function __main__.logistic(z)>"
            ]
          },
          "execution_count": 18,
          "metadata": {},
          "output_type": "execute_result"
        }
      ],
      "source": [
        "\n",
        "logistic"
      ]
    },
    {
      "cell_type": "code",
      "execution_count": null,
      "metadata": {
        "colab": {
          "base_uri": "https://localhost:8080/",
          "height": 58
        },
        "id": "hkKb-1A6HaiU",
        "outputId": "7d3c8c95-b7c8-4f92-dbdb-d15b4ca50fdf"
      },
      "outputs": [
        {
          "data": {
            "text/latex": [
              "$\\displaystyle \\frac{1}{e^{- b - w x} + 1}$"
            ],
            "text/plain": [
              "1/(exp(-b - w*x) + 1)"
            ]
          },
          "execution_count": 19,
          "metadata": {},
          "output_type": "execute_result"
        }
      ],
      "source": [
        "w, b, x, y = sympy.symbols('w b x y')\n",
        "logistic = 1/(1+ sympy.exp(-w*x-b)) # 학습할수 있는 형태로 재정의\n",
        "logistic"
      ]
    },
    {
      "cell_type": "code",
      "execution_count": null,
      "metadata": {
        "id": "Hy6rl7Fskypo",
        "outputId": "3adfbbf4-72b0-4962-b4cd-eb1653dafee6"
      },
      "outputs": [
        {
          "data": {
            "text/latex": [
              "$\\displaystyle - y \\log{\\left(\\frac{1}{e^{- b - w x} + 1} \\right)} - \\left(1 - y\\right) \\log{\\left(1 - \\frac{1}{e^{- b - w x} + 1} \\right)}$"
            ],
            "text/plain": [
              "-y*log(1/(exp(-b - w*x) + 1)) - (1 - y)*log(1 - 1/(exp(-b - w*x) + 1))"
            ]
          },
          "execution_count": 20,
          "metadata": {},
          "output_type": "execute_result"
        }
      ],
      "source": [
        "Loss = -y*sympy.log(logistic) - (1-y)*sympy.log(1-logistic)\n",
        "Loss"
      ]
    },
    {
      "cell_type": "markdown",
      "metadata": {
        "id": "hl4w5eGzKHN_"
      },
      "source": [
        "- autograd를 통해 미분 구현"
      ]
    },
    {
      "cell_type": "code",
      "execution_count": null,
      "metadata": {
        "id": "E4fvMUa4Hcuf"
      },
      "outputs": [],
      "source": [
        "# import the autograd-wrapped version of numpy\n",
        "from autograd import numpy\n",
        "# import the gradient calculator\n",
        "from autograd import grad "
      ]
    },
    {
      "cell_type": "code",
      "execution_count": null,
      "metadata": {
        "id": "4DWKtN9-KZhh"
      },
      "outputs": [],
      "source": [
        "def logistic(z):\n",
        "    '''The logistic function'''\n",
        "    return 1 / (1 + numpy.exp(-z))\n",
        "    \n",
        "def logistic_model(params, x):\n",
        "    '''A prediction model based on the logistic function composed with wx+b\n",
        "    Arguments:\n",
        "       params: array(w,b) of model parameters\n",
        "       x :  array of x data'''\n",
        "    w = params[0]\n",
        "    b = params[1]\n",
        "    z = w * x + b\n",
        "    y = logistic(z)\n",
        "    return y\n",
        "\n",
        "def log_loss(params, model, x, y):\n",
        "    '''The logistic loss function\n",
        "    Arguments:\n",
        "       params: array(w,b) of model parameters\n",
        "       model:  the Python function for the logistic model\n",
        "       x, y:   arrays of input data to the model'''\n",
        "    y_pred = model(params, x)\n",
        "    return -numpy.mean(y * numpy.log(y_pred) + (1-y) * numpy.log(1 - y_pred))"
      ]
    },
    {
      "cell_type": "code",
      "execution_count": null,
      "metadata": {
        "id": "hOWcZhUfKcGA"
      },
      "outputs": [],
      "source": [
        "# get a function to compute the gradient of the logistic loss\n",
        "gradient = grad(log_loss)"
      ]
    },
    {
      "cell_type": "code",
      "execution_count": null,
      "metadata": {
        "colab": {
          "base_uri": "https://localhost:8080/"
        },
        "id": "Cis2i_3pKdRc",
        "outputId": "f8909bd4-8bf8-46b7-ec20-823065d756ad"
      },
      "outputs": [
        {
          "data": {
            "text/plain": [
              "function"
            ]
          },
          "execution_count": 27,
          "metadata": {},
          "output_type": "execute_result"
        }
      ],
      "source": [
        "type(gradient)"
      ]
    },
    {
      "cell_type": "markdown",
      "metadata": {
        "id": "UAAq18KCPUOu"
      },
      "source": [
        "- grad 함수는 변수 개수만큼 output을 생성한다. \n",
        "- $w, b$ 2개의 변수가 있습니다. -> 2개의 output"
      ]
    },
    {
      "cell_type": "code",
      "execution_count": null,
      "metadata": {
        "colab": {
          "base_uri": "https://localhost:8080/"
        },
        "id": "0lx4uedmKeKH",
        "outputId": "85f48756-1cc5-45af-c6b2-6f3d3150a33a"
      },
      "outputs": [
        {
          "name": "stdout",
          "output_type": "stream",
          "text": [
            "[0.5488135  0.71518937]\n"
          ]
        }
      ],
      "source": [
        "# 랜덤으로 초기화한 변수를 넣어서 기울기값를 계산해 보자. \n",
        "numpy.random.seed(0)\n",
        "params = numpy.random.rand(2)\n",
        "# [w, b]\n",
        "print(params)"
      ]
    },
    {
      "cell_type": "code",
      "execution_count": null,
      "metadata": {
        "colab": {
          "base_uri": "https://localhost:8080/"
        },
        "id": "xpcSkjhMPjRp",
        "outputId": "1040c911-ebc9-4311-9b5c-5bea5ee8794e"
      },
      "outputs": [
        {
          "data": {
            "text/plain": [
              "array([-0.42734877,  0.08274066])"
            ]
          },
          "execution_count": 29,
          "metadata": {},
          "output_type": "execute_result"
        }
      ],
      "source": [
        "# 이렇게 2개의 변수에 대해서 각각 기울기 값을 반환해줍니다. \n",
        "# [w, b]\n",
        "gradient(params, logistic_model, x_data, y_data)"
      ]
    },
    {
      "cell_type": "markdown",
      "metadata": {
        "id": "MqStwjeMPk-u"
      },
      "source": [
        "- 기울기 값이 0에 가까워지면 더이상 반복을 하지 않는 조건을 추가"
      ]
    },
    {
      "cell_type": "code",
      "execution_count": null,
      "metadata": {
        "colab": {
          "base_uri": "https://localhost:8080/",
          "height": 319
        },
        "id": "rJMwsVLXPkXJ",
        "outputId": "ee5f3921-3488-4907-eeb9-83a0f37ed4e2"
      },
      "outputs": [
        {
          "name": "stdout",
          "output_type": "stream",
          "text": [
            "Optimized value of w is 2.73095033006471 vs. true value: 2\n",
            "Optimized value of b is 0.6974552315981599 vs. true value: 1\n",
            "Exited after 5000 iterations\n"
          ]
        },
        {
          "data": {
            "image/png": "[encoded data removed]",
            "text/plain": [
              "<Figure size 640x480 with 1 Axes>"
            ]
          },
          "metadata": {},
          "output_type": "display_data"
        }
      ],
      "source": [
        "max_iter = 5000\n",
        "i = 0\n",
        "descent = numpy.ones(len(params))\n",
        "\n",
        "while numpy.linalg.norm(descent) > 0.001 and i < max_iter:\n",
        "\n",
        "    descent = gradient(params, logistic_model, x_data, y_data)\n",
        "    params = params - descent * 0.01\n",
        "    i += 1\n",
        "\n",
        "\n",
        "print('Optimized value of w is {} vs. true value: 2'.format(params[0]))\n",
        "print('Optimized value of b is {} vs. true value: 1'.format(params[1]))\n",
        "print('Exited after {} iterations'.format(i))\n",
        "\n",
        "\n",
        "pyplot.scatter(x_data, y_data, alpha=0.4)\n",
        "pyplot.plot(x_data, logistic_model(params, x_data), '-r');"
      ]
    },
    {
      "cell_type": "markdown",
      "metadata": {
        "id": "oUfsHqjmREyW"
      },
      "source": [
        "빨간색 곡선이 우리의 모델입니다. \n",
        "\n",
        "이제 기준값을 정하고 그것보다 크면 1, 작으면 0으로 분류를 하면 됩니다. \n",
        "\n",
        "이번에는 0.5로 설정해서 진행하겠습니다. "
      ]
    },
    {
      "cell_type": "code",
      "execution_count": null,
      "metadata": {
        "id": "1tK7xOBTQvEP"
      },
      "outputs": [],
      "source": [
        "def decision_boundary(y):\n",
        "    return 1 if y >= .5 else 0"
      ]
    },
    {
      "cell_type": "markdown",
      "metadata": {
        "id": "JZJ05slTRd8T"
      },
      "source": [
        "모든 점을 함수에 넣어야 하는데 하나씩 넣으면 반복문을 돌아야해서 오래걸리기 때문에 numpy의 vectorize 함수를 사용하겠습니다. "
      ]
    },
    {
      "cell_type": "code",
      "execution_count": null,
      "metadata": {
        "id": "pt4mqy51RTvI"
      },
      "outputs": [],
      "source": [
        "decision_boundary = numpy.vectorize(decision_boundary)"
      ]
    },
    {
      "cell_type": "code",
      "execution_count": null,
      "metadata": {
        "colab": {
          "base_uri": "https://localhost:8080/",
          "height": 265
        },
        "id": "gp9y0s10RXKo",
        "outputId": "4dbc2856-f0a6-42b6-fa0e-a56336fe92af"
      },
      "outputs": [
        {
          "data": {
            "image/png": "[encoded data removed]",
            "text/plain": [
              "<Figure size 640x480 with 1 Axes>"
            ]
          },
          "metadata": {},
          "output_type": "display_data"
        }
      ],
      "source": [
        "def classify(predictions):\n",
        "    '''\n",
        "    Argument:\n",
        "    predictions, an array of values between 0 and 1\n",
        "    \n",
        "    Returns: \n",
        "    classified, an array of 0 and 1 values'''\n",
        "\n",
        "    return decision_boundary(predictions).flatten()\n",
        "\n",
        "pyplot.scatter(x_data, y_data, alpha=0.4,\n",
        "               label='true value')\n",
        "pyplot.scatter(x_data, classify(logistic_model(params, x_data)), alpha=0.4, \n",
        "               label='prediciton')\n",
        "\n",
        "pyplot.legend();"
      ]
    },
    {
      "cell_type": "code",
      "execution_count": null,
      "metadata": {
        "id": "UeXzcLnXkyps"
      },
      "outputs": [],
      "source": []
    }
  ],
  "metadata": {
    "colab": {
      "provenance": []
    },
    "kernelspec": {
      "display_name": "Python 3.10.6 ('pandas': venv)",
      "language": "python",
      "name": "python3"
    },
    "language_info": {
      "codemirror_mode": {
        "name": "ipython",
        "version": 3
      },
      "file_extension": ".py",
      "mimetype": "text/x-python",
      "name": "python",
      "nbconvert_exporter": "python",
      "pygments_lexer": "ipython3",
      "version": "3.10.6"
    },
    "vscode": {
      "interpreter": {
        "hash": "c0853bc95e813b42f8b96c9a0544e5b3c1f4d11420edc31cec84a3d9d1b9fa39"
      }
    }
  },
  "nbformat": 4,
  "nbformat_minor": 0
}